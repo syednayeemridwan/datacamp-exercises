{
 "cells": [
  {
   "attachments": {},
   "cell_type": "markdown",
   "metadata": {},
   "source": [
    "# Coefficient of determination"
   ]
  },
  {
   "attachments": {},
   "cell_type": "markdown",
   "metadata": {},
   "source": [
    "The coefficient of determination is a measure of how well the linear regression line fits the observed values. For simple linear regression, it is equal to the square of the correlation between the explanatory and response variables.\n",
    "\n",
    "Here, you'll take another look at the second stage of the advertising pipeline: modeling the click response to impressions. Two models are available: `mdl_click_vs_impression_orig` models `n_clicks` versus `n_impressions`. `mdl_click_vs_impression_trans` is the transformed model you saw in Chapter 2. It models `n_clicks` to the power of 0.25 versus `n_impressions` to the power of 0.25."
   ]
  },
  {
   "cell_type": "code",
   "execution_count": 1,
   "metadata": {},
   "outputs": [],
   "source": [
    "# # Print a summary of mdl_click_vs_impression_orig\n",
    "# print(mdl_click_vs_impression_orig.summary())\n",
    "\n",
    "# # Print a summary of mdl_click_vs_impression_trans\n",
    "# print(mdl_click_vs_impression_trans.summary())"
   ]
  },
  {
   "cell_type": "code",
   "execution_count": 2,
   "metadata": {},
   "outputs": [],
   "source": [
    "# # Print the coeff of determination for mdl_click_vs_impression_orig\n",
    "# print(mdl_click_vs_impression_orig.rsquared)\n",
    "\n",
    "# # Print the coeff of determination for mdl_click_vs_impression_trans\n",
    "# print(mdl_click_vs_impression_trans.rsquared)"
   ]
  },
  {
   "attachments": {},
   "cell_type": "markdown",
   "metadata": {},
   "source": [
    "`mdl_click_vs_impression_orig` has a coefficient of determination of 0.89. Which statement about the model is true?\n",
    "- The number of impressions explains 89% of the variability in the number of clicks."
   ]
  },
  {
   "attachments": {},
   "cell_type": "markdown",
   "metadata": {},
   "source": [
    "Which model does the coefficient of determination suggest gives a better fit?\n",
    "- The transformed model, `mdl_click_vs_impression_trans`"
   ]
  },
  {
   "attachments": {},
   "cell_type": "markdown",
   "metadata": {},
   "source": [
    "# Residual standard error\n"
   ]
  },
  {
   "attachments": {},
   "cell_type": "markdown",
   "metadata": {},
   "source": [
    "Residual standard error (RSE) is a measure of the typical size of the residuals. Equivalently, it's a measure of how wrong you can expect predictions to be. Smaller numbers are better, with zero being a perfect fit to the data.\n",
    "\n",
    "Again, you'll look at the models from the advertising pipeline, `mdl_click_vs_impression_orig` and `mdl_click_vs_impression_trans`."
   ]
  },
  {
   "cell_type": "code",
   "execution_count": 3,
   "metadata": {},
   "outputs": [],
   "source": [
    "# # Calculate mse_orig for mdl_click_vs_impression_orig\n",
    "# mse_orig = mdl_click_vs_impression_orig.mse_resid\n",
    "\n",
    "# # Calculate rse_orig for mdl_click_vs_impression_orig and print it\n",
    "# rse_orig = np.sqrt(mdl_click_vs_impression_orig.mse_resid)\n",
    "# print(\"RSE of original model: \", rse_orig)\n",
    "\n",
    "# # Calculate mse_trans for mdl_click_vs_impression_trans\n",
    "# mse_trans = mdl_click_vs_impression_trans.mse_resid\n",
    "\n",
    "# # Calculate rse_trans for mdl_click_vs_impression_trans and print it\n",
    "# rse_trans = np.sqrt(mdl_click_vs_impression_trans.mse_resid)\n",
    "# print(\"RSE of transformed model: \", rse_trans)"
   ]
  },
  {
   "attachments": {},
   "cell_type": "markdown",
   "metadata": {},
   "source": [
    "`mdl_click_vs_impression_orig` has an RSE of about 20. Which statement is true?\n",
    "- The typical difference between observed number of clicks and predicted number of clicks is 20."
   ]
  },
  {
   "attachments": {},
   "cell_type": "markdown",
   "metadata": {},
   "source": [
    "Which model does the RSE suggest gives more accurate predictions? `mdl_click_vs_impression_orig` has an RSE of about 20, `mdl_click_vs_impression_trans` has an RSE of about 0.2.\n",
    "- The transformed model, `mdl_click_vs_impression_trans`."
   ]
  },
  {
   "attachments": {},
   "cell_type": "markdown",
   "metadata": {},
   "source": [
    "# Residuals vs. fitted values"
   ]
  },
  {
   "attachments": {},
   "cell_type": "markdown",
   "metadata": {},
   "source": [
    "Here you can see diagnostic plots of residuals versus fitted values for two models on advertising conversion.\n",
    "\n",
    "Original model (`n_clicks` versus `n_impressions`):\n",
    "\n",
    "<center><img src=\"images/03.05.png\"  style=\"width: 400px, height: 300px;\"/></center>\n",
    "\n",
    "Transformed model (`n_clicks` ** 0.25 versus `n_impressions` ** 0.25):\n",
    "\n",
    "<center><img src=\"images/03.052.png\"  style=\"width: 400px, height: 300px;\"/></center>\n",
    "\n",
    "Look at the numbers on the y-axis scales and how well the trend lines follow the  line. Which statement is true?"
   ]
  },
  {
   "attachments": {},
   "cell_type": "markdown",
   "metadata": {},
   "source": [
    "- The residuals track the  line more closely in the transformed model compared to the original model, indicating that the transformed model is a better fit for the data."
   ]
  },
  {
   "attachments": {},
   "cell_type": "markdown",
   "metadata": {},
   "source": [
    "# Q-Q plot of residuals"
   ]
  },
  {
   "attachments": {},
   "cell_type": "markdown",
   "metadata": {},
   "source": [
    "Here are normal Q-Q plots of the previous two models.\n",
    "\n",
    "Original model (`n_clicks` versus `n_impressions`):\n",
    "\n",
    "<center><img src=\"images/03.061.png\"  style=\"width: 400px, height: 300px;\"/></center>\n",
    "\n",
    "Transformed model (`n_clicks` ** 0.25 versus `n_impressions` ** 0.25):\n",
    "\n",
    "<center><img src=\"images/03.062.png\"  style=\"width: 400px, height: 300px;\"/></center>\n",
    "\n",
    "Look at how well the points track the \"normality\" line. Which statement is true?"
   ]
  },
  {
   "attachments": {},
   "cell_type": "markdown",
   "metadata": {},
   "source": [
    "- The residuals track the \"normality\" line more closely in the transformed model compared to the original model, indicating that the transformed model is a better fit for the data."
   ]
  },
  {
   "attachments": {},
   "cell_type": "markdown",
   "metadata": {},
   "source": [
    "# Scale-location"
   ]
  },
  {
   "attachments": {},
   "cell_type": "markdown",
   "metadata": {},
   "source": [
    "Here are normal scale-location plots of the previous two models. That is, they show the size of residuals versus fitted values.\n",
    "\n",
    "Original model (`n_clicks` versus `n_impressions`):\n",
    "\n",
    "<center><img src=\"images/03.071.png\"  style=\"width: 400px, height: 300px;\"/></center>\n",
    "\n",
    "Transformed model (`n_clicks` ** 0.25 versus `n_impressions` ** 0.25):\n",
    "\n",
    "<center><img src=\"images/03.072.png\"  style=\"width: 400px, height: 300px;\"/></center>\n",
    "\n",
    "Look at the numbers on the y-axis and the slope of the trend line. Which statement is true?"
   ]
  },
  {
   "attachments": {},
   "cell_type": "markdown",
   "metadata": {},
   "source": [
    "- The size of the standardized residuals is more consistent in the transformed model compared to the original model, indicating that the transformed model is a better fit for the data."
   ]
  },
  {
   "attachments": {},
   "cell_type": "markdown",
   "metadata": {},
   "source": [
    "# Drawing diagnostic plots"
   ]
  },
  {
   "attachments": {},
   "cell_type": "markdown",
   "metadata": {},
   "source": [
    "It's time for you to draw these diagnostic plots yourself using the Taiwan real estate dataset and the model of house prices versus number of convenience stores.\n",
    "\n",
    "`taiwan_real_estate` is available as a `pandas` DataFrame and `mdl_price_vs_conv` is available"
   ]
  },
  {
   "cell_type": "code",
   "execution_count": 1,
   "metadata": {},
   "outputs": [],
   "source": [
    "# # Plot the residuals vs. fitted values\n",
    "# sns.residplot(x='n_convenience', y='price_twd_msq', data=taiwan_real_estate, lowess = True)\n",
    "# plt.xlabel(\"Fitted values\")\n",
    "# plt.ylabel(\"Residuals\")\n",
    "\n",
    "# # Show the plot\n",
    "# plt.show()"
   ]
  },
  {
   "cell_type": "code",
   "execution_count": 2,
   "metadata": {},
   "outputs": [],
   "source": [
    "# # Import qqplot\n",
    "# from statsmodels.api import qqplot\n",
    "\n",
    "# # Create the Q-Q plot of the residuals\n",
    "# qqplot(data=mdl_price_vs_conv.resid, fit=True, line=\"45\")\n",
    "\n",
    "# # Show the plot\n",
    "# plt.show()"
   ]
  },
  {
   "cell_type": "code",
   "execution_count": 3,
   "metadata": {},
   "outputs": [],
   "source": [
    "# # Preprocessing steps\n",
    "# model_norm_residuals = mdl_price_vs_conv.get_influence().resid_studentized_internal\n",
    "# model_norm_residuals_abs_sqrt = np.sqrt(np.abs(model_norm_residuals))\n",
    "\n",
    "# # Create the scale-location plot\n",
    "# sns.regplot(x=mdl_price_vs_conv.fittedvalues, y=model_norm_residuals_abs_sqrt, ci=None, lowess=True)\n",
    "# plt.xlabel(\"Fitted values\")\n",
    "# plt.ylabel(\"Sqrt of abs val of stdized residuals\")\n",
    "\n",
    "# # Show the plot\n",
    "# plt.show()"
   ]
  },
  {
   "attachments": {},
   "cell_type": "markdown",
   "metadata": {},
   "source": [
    "# Leverage"
   ]
  },
  {
   "attachments": {},
   "cell_type": "markdown",
   "metadata": {},
   "source": [
    "Leverage measures how unusual or extreme the explanatory variables are for each observation. Very roughly, high leverage means that the explanatory variable has values that are different from other points in the dataset. In the case of simple linear regression, where there is only one explanatory value, this typically means values with a very high or very low explanatory value.\n",
    "\n",
    "Here, you'll look at highly leveraged values in the model of house price versus the square root of distance from the nearest MRT station in the Taiwan real estate dataset.\n",
    "\n",
    "Guess which observations you think will have a high leverage, then move the slider to find out.\n",
    "<center><img src=\"images/03.10.jpg\"  style=\"width: 400px, height: 300px;\"/></center>\n",
    "\n",
    "\n",
    "Which statement is true?"
   ]
  },
  {
   "attachments": {},
   "cell_type": "markdown",
   "metadata": {},
   "source": [
    "- Observations with a large distance to the nearest MRT station have the highest leverage, because most of the observations have a short distance, so long distances are more extreme."
   ]
  },
  {
   "attachments": {},
   "cell_type": "markdown",
   "metadata": {},
   "source": [
    "# Influence"
   ]
  },
  {
   "attachments": {},
   "cell_type": "markdown",
   "metadata": {},
   "source": [
    "Influence measures how much a model would change if each observation was left out of the model calculations, one at a time. That is, it measures how different the prediction line would look if you would run a linear regression on all data points except that point, compared to running a linear regression on the whole dataset.\n",
    "\n",
    "The standard metric for influence is Cook's distance, which calculates influence based on the residual size and the leverage of the point.\n",
    "\n",
    "You can see the same model as last time: house price versus the square root of distance from the nearest MRT station in the Taiwan real estate dataset.\n",
    "\n",
    "Guess which observations you think will have a high influence, then move the slider to find out.\n",
    "\n",
    "<center><img src=\"images/03.11.jpg\"  style=\"width: 400px, height: 300px;\"/></center>\n",
    "\n",
    "\n",
    "Which statement is true?"
   ]
  },
  {
   "attachments": {},
   "cell_type": "markdown",
   "metadata": {},
   "source": [
    "- Observations far away from the trend line have high influence, because they have large residuals and are far away from other observations."
   ]
  },
  {
   "attachments": {},
   "cell_type": "markdown",
   "metadata": {},
   "source": [
    "# Extracting leverage and influence"
   ]
  },
  {
   "attachments": {},
   "cell_type": "markdown",
   "metadata": {},
   "source": [
    "In the last few exercises, you explored which observations had the highest leverage and influence. Now you'll extract those values from the model.\n",
    "\n",
    "`mdl_price_vs_dist` and `taiwan_real_estate` are available."
   ]
  },
  {
   "cell_type": "code",
   "execution_count": 4,
   "metadata": {},
   "outputs": [],
   "source": [
    "# # Create summary_info\n",
    "# summary_info = mdl_price_vs_dist.get_influence().summary_frame()\n",
    "\n",
    "# # Add the hat_diag column to taiwan_real_estate, name it leverage\n",
    "# taiwan_real_estate[\"leverage\"] = summary_info['hat_diag']\n",
    "\n",
    "# # Sort taiwan_real_estate by leverage in descending order and print the head\n",
    "# print(taiwan_real_estate.sort_values([\"leverage\"],ascending = False).head())"
   ]
  },
  {
   "cell_type": "code",
   "execution_count": 5,
   "metadata": {},
   "outputs": [],
   "source": [
    "# # Create summary_info\n",
    "# summary_info = mdl_price_vs_dist.get_influence().summary_frame()\n",
    "\n",
    "# # Add the hat_diag column to taiwan_real_estate, name it leverage\n",
    "# taiwan_real_estate[\"leverage\"] = summary_info[\"hat_diag\"]\n",
    "\n",
    "# # Add the cooks_d column to taiwan_real_estate, name it cooks_dist\n",
    "# taiwan_real_estate[\"cooks_dist\"] = summary_info[\"cooks_d\"]\n",
    "\n",
    "# # Sort taiwan_real_estate by cooks_dist in descending order and print the head.\n",
    "# print(taiwan_real_estate.sort_values([\"cooks_dist\"],ascending = False).head())"
   ]
  }
 ],
 "metadata": {
  "kernelspec": {
   "display_name": "env_py",
   "language": "python",
   "name": "python3"
  },
  "language_info": {
   "codemirror_mode": {
    "name": "ipython",
    "version": 3
   },
   "file_extension": ".py",
   "mimetype": "text/x-python",
   "name": "python",
   "nbconvert_exporter": "python",
   "pygments_lexer": "ipython3",
   "version": "3.8.11"
  },
  "orig_nbformat": 4,
  "vscode": {
   "interpreter": {
    "hash": "1e949e87132dd83f1a7623eb88007e3532b03b66b77111be347aa4a383049722"
   }
  }
 },
 "nbformat": 4,
 "nbformat_minor": 2
}

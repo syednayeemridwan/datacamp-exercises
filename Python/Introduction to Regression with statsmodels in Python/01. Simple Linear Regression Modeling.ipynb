{
 "cells": [
  {
   "attachments": {},
   "cell_type": "markdown",
   "metadata": {},
   "source": [
    "# Which one is the response variable?"
   ]
  },
  {
   "attachments": {},
   "cell_type": "markdown",
   "metadata": {},
   "source": [
    "Regression lets you predict the values of a response variable from known values of explanatory variables. Which variable you use as the response variable depends on the question you are trying to answer, but in many datasets, there will be an obvious choice for variables that would be interesting to predict. Over the next few exercises, you'll explore a Taiwan real estate dataset with four variables.\n",
    "\n",
    "- `dist_to_mrt_station_m` =\tDistance to nearest MRT metro station, in meters.\n",
    "- `n_convenience` =\tNo. of convenience stores in walking distance.\n",
    "- `house_age_years` = The age of the house, in years, in three groups.\n",
    "- `price_twd_msq` =\tHouse price per unit area, in New Taiwan dollars per meter squared.\n",
    "\n",
    "Print `taiwan_real_estate` in the console to view the dataset, and decide which variable would make a good response variable."
   ]
  },
  {
   "attachments": {},
   "cell_type": "markdown",
   "metadata": {},
   "source": [
    "- `price_twd_msq`\n"
   ]
  },
  {
   "attachments": {},
   "cell_type": "markdown",
   "metadata": {},
   "source": [
    "# Visualizing two numeric variables"
   ]
  },
  {
   "attachments": {},
   "cell_type": "markdown",
   "metadata": {},
   "source": [
    "Before you can run any statistical models, it's usually a good idea to visualize your dataset. Here, you'll look at the relationship between house price per area and the number of nearby convenience stores using the Taiwan real estate dataset.\n",
    "\n",
    "One challenge in this dataset is that the number of convenience stores contains integer data, causing points to overlap. To solve this, you will make the points transparent.\n",
    "\n",
    "`taiwan_real_estate` is available as a `pandas` DataFrame."
   ]
  },
  {
   "cell_type": "code",
   "execution_count": 2,
   "metadata": {},
   "outputs": [],
   "source": [
    "# # Import seaborn with alias sns\n",
    "# import seaborn as sns\n",
    "\n",
    "# # Import matplotlib.pyplot with alias plt\n",
    "# import matplotlib.pyplot as plt\n",
    "\n",
    "# # Draw the scatter plot\n",
    "# sns.scatterplot(x = \"n_convenience\", y = \"price_twd_msq\", data = taiwan_real_estate)\n",
    "\n",
    "# # Show the plot\n",
    "# plt.show()"
   ]
  },
  {
   "cell_type": "code",
   "execution_count": 3,
   "metadata": {},
   "outputs": [],
   "source": [
    "# # Import seaborn with alias sns\n",
    "# import seaborn as sns\n",
    "\n",
    "# # Import matplotlib.pyplot with alias plt\n",
    "# import matplotlib.pyplot as plt\n",
    "\n",
    "# # Draw the scatter plot\n",
    "# sns.scatterplot(x=\"n_convenience\",\n",
    "#                 y=\"price_twd_msq\",\n",
    "#                 data=taiwan_real_estate)\n",
    "\n",
    "# # Draw a trend line on the scatter plot of price_twd_msq vs. n_convenience\n",
    "# sns.regplot(x=\"n_convenience\",\n",
    "#                 y=\"price_twd_msq\",\n",
    "#                 data=taiwan_real_estate,\n",
    "#          ci=None,\n",
    "#          scatter_kws={'alpha': 0.5})\n",
    "\n",
    "# # Show the plot\n",
    "# plt.show()"
   ]
  },
  {
   "attachments": {},
   "cell_type": "markdown",
   "metadata": {},
   "source": [
    "# Estimate the intercept"
   ]
  },
  {
   "attachments": {},
   "cell_type": "markdown",
   "metadata": {},
   "source": [
    "Linear regression models always fit a straight line to the data. Straight lines are defined by two properties: their intercept and their slope.\n",
    "\n",
    "Here, you can see a scatter plot of house price per area versus number of nearby convenience stores, using the Taiwan real estate dataset.\n",
    "\n",
    "Click the plot, then estimate the intercept of the linear regression trend line."
   ]
  },
  {
   "attachments": {},
   "cell_type": "markdown",
   "metadata": {},
   "source": [
    "<center><img src=\"images/05.png\"  style=\"width: 400px, height: 300px;\"/></center>"
   ]
  },
  {
   "attachments": {},
   "cell_type": "markdown",
   "metadata": {},
   "source": [
    "- 8.22"
   ]
  },
  {
   "attachments": {},
   "cell_type": "markdown",
   "metadata": {},
   "source": [
    "# Estimate the slope"
   ]
  },
  {
   "attachments": {},
   "cell_type": "markdown",
   "metadata": {},
   "source": [
    "Here is the same scatter plot of house price per area versus number of nearby convenience stores, using the Taiwan real estate dataset.\n",
    "\n",
    "This time, estimate the slope of the trend line. Click the line once, then double click a different position on the line, and finally, read the slope value."
   ]
  },
  {
   "attachments": {},
   "cell_type": "markdown",
   "metadata": {},
   "source": [
    "<center><img src=\"images/06.jpg\"  style=\"width: 400px, height: 300px;\"/></center>\n"
   ]
  },
  {
   "attachments": {},
   "cell_type": "markdown",
   "metadata": {},
   "source": [
    "# Linear regression with ols()"
   ]
  },
  {
   "attachments": {},
   "cell_type": "markdown",
   "metadata": {},
   "source": [
    "While `sns.regplot()` can display a linear regression trend line, it doesn't give you access to the intercept and slope as variables, or allow you to work with the model results as variables. That means that sometimes you'll need to run a linear regression yourself.\n",
    "\n",
    "Time to run your first model!\n",
    "\n",
    "`taiwan_real_estate` is available. TWD is an abbreviation for Taiwan dollars.\n",
    "\n",
    "In addition, for this exercise and the remainder of the course, the following packages will be imported and aliased if necessary: `matplotlib.pyplot as plt`, `seaborn as sns`, and `pandas as pd`."
   ]
  },
  {
   "cell_type": "code",
   "execution_count": 4,
   "metadata": {},
   "outputs": [],
   "source": [
    "# # Import the ols function\n",
    "# from statsmodels.formula.api import ols\n",
    "\n",
    "# # Create the model object\n",
    "# mdl_price_vs_conv = ols(\"price_twd_msq ~ n_convenience\", data=taiwan_real_estate)\n",
    "\n",
    "# # Fit the model\n",
    "# mdl_price_vs_conv = mdl_price_vs_conv.fit()\n",
    "\n",
    "# # Print the parameters of the fitted model\n",
    "# print(mdl_price_vs_conv.params)"
   ]
  },
  {
   "attachments": {},
   "cell_type": "markdown",
   "metadata": {},
   "source": [
    "The model had an Intercept coefficient of 8.2242. What does this mean?\n",
    "- On average, a house with zero convenience stores nearby had a price of 8.2242 TWD per square meter."
   ]
  },
  {
   "attachments": {},
   "cell_type": "markdown",
   "metadata": {},
   "source": [
    "The model had an n_convenience coefficient of 0.7981. What does this mean?\n",
    "- If you increase the number of nearby convenience stores by one, then the expected increase in house price is 0.7981 TWD per square meter"
   ]
  },
  {
   "attachments": {},
   "cell_type": "markdown",
   "metadata": {},
   "source": [
    "# Visualizing numeric vs. categorical"
   ]
  },
  {
   "attachments": {},
   "cell_type": "markdown",
   "metadata": {},
   "source": [
    "If the explanatory variable is categorical, the scatter plot that you used before to visualize the data doesn't make sense. Instead, a good option is to draw a histogram for each category.\n",
    "\n",
    "The Taiwan real estate dataset has a categorical variable in the form of the age of each house. The ages have been split into 3 groups: 0 to 15 years, 15 to 30 years, and 30 to 45 years.\n",
    "\n",
    "`taiwan_real_estate` is available."
   ]
  },
  {
   "cell_type": "code",
   "execution_count": 5,
   "metadata": {},
   "outputs": [],
   "source": [
    "# # Histograms of price_twd_msq with 10 bins, split by the age of each house\n",
    "# sns.displot(data=taiwan_real_estate,\n",
    "#          x=\"price_twd_msq\",\n",
    "#          col=\"house_age_years\",\n",
    "#          bins=10)\n",
    "\n",
    "# # Show the plot\n",
    "# plt.show()"
   ]
  },
  {
   "attachments": {},
   "cell_type": "markdown",
   "metadata": {},
   "source": [
    "# Calculating means by category"
   ]
  },
  {
   "attachments": {},
   "cell_type": "markdown",
   "metadata": {},
   "source": [
    "A good way to explore categorical variables further is to calculate summary statistics for each category. For example, you can calculate the mean and median of your response variable, grouped by a categorical variable. As such, you can compare each category in more detail.\n",
    "\n",
    "Here, you'll look at grouped means for the house prices in the Taiwan real estate dataset. This will help you understand the output of a linear regression with a categorical variable.\n",
    "\n",
    "`taiwan_real_estate` is available as a `pandas` DataFrame."
   ]
  },
  {
   "cell_type": "code",
   "execution_count": 6,
   "metadata": {},
   "outputs": [],
   "source": [
    "# # Calculate the mean of price_twd_msq, grouped by house age\n",
    "# mean_price_by_age = taiwan_real_estate.groupby(\"house_age_years\")[\"price_twd_msq\"].mean()\n",
    "\n",
    "# # Print the result\n",
    "# print(mean_price_by_age)"
   ]
  },
  {
   "attachments": {},
   "cell_type": "markdown",
   "metadata": {},
   "source": [
    "# Linear regression with a categorical explanatory variable"
   ]
  },
  {
   "attachments": {},
   "cell_type": "markdown",
   "metadata": {},
   "source": [
    "Great job calculating those grouped means! As mentioned in the last video, the means of each category will also be the coefficients of a linear regression model with one categorical variable. You'll prove that in this exercise.\n",
    "\n",
    "To run a linear regression model with categorical explanatory variables, you can use the same code as with numeric explanatory variables. The coefficients returned by the model are different, however. Here you'll run a linear regression on the Taiwan real estate dataset.\n",
    "\n",
    "`taiwan_real_estate` is available and the `ols()` function is also loaded."
   ]
  },
  {
   "cell_type": "code",
   "execution_count": 7,
   "metadata": {},
   "outputs": [],
   "source": [
    "# # Create the model, fit it\n",
    "# mdl_price_vs_age = ols(\"price_twd_msq ~ house_age_years\", data=taiwan_real_estate).fit()\n",
    "\n",
    "# # Print the parameters of the fitted model\n",
    "# print(mdl_price_vs_age.params)"
   ]
  },
  {
   "cell_type": "code",
   "execution_count": 8,
   "metadata": {},
   "outputs": [],
   "source": [
    "# # Update the model formula to remove the intercept\n",
    "# mdl_price_vs_age0 = ols(\"price_twd_msq ~ house_age_years + 0\", data=taiwan_real_estate).fit()\n",
    "\n",
    "# # Print the parameters of the fitted model\n",
    "# print(mdl_price_vs_age0.params)"
   ]
  }
 ],
 "metadata": {
  "kernelspec": {
   "display_name": "base",
   "language": "python",
   "name": "python3"
  },
  "language_info": {
   "codemirror_mode": {
    "name": "ipython",
    "version": 3
   },
   "file_extension": ".py",
   "mimetype": "text/x-python",
   "name": "python",
   "nbconvert_exporter": "python",
   "pygments_lexer": "ipython3",
   "version": "3.8.3"
  },
  "orig_nbformat": 4,
  "vscode": {
   "interpreter": {
    "hash": "dc575bfddb5c8ca4bb6a4f4dcdd32abc104b5fa4177361381c432fff36ce3e46"
   }
  }
 },
 "nbformat": 4,
 "nbformat_minor": 2
}

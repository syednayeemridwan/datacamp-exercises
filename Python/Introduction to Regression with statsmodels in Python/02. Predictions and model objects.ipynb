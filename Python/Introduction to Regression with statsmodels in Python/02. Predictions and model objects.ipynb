{
 "cells": [
  {
   "attachments": {},
   "cell_type": "markdown",
   "metadata": {},
   "source": [
    "# Predicting house prices"
   ]
  },
  {
   "attachments": {},
   "cell_type": "markdown",
   "metadata": {},
   "source": [
    "Perhaps the most useful feature of statistical models like linear regression is that you can make predictions. That is, you specify values for each of the explanatory variables, feed them to the model, and get a prediction for the corresponding response variable. The code flow is as follows.\n",
    "```\n",
    "explanatory_data = pd.DataFrame({\"explanatory_var\": list_of_values})\n",
    "predictions = model.predict(explanatory_data)\n",
    "prediction_data = explanatory_data.assign(response_var=predictions)\n",
    "```\n",
    "Here, you'll make predictions for the house prices in the Taiwan real estate dataset.\n",
    "\n",
    "`taiwan_real_estate` is available. The fitted linear regression model of house price versus number of convenience stores is available as `mdl_price_vs_conv`. For future exercises, when a model is available, it will also be fitted."
   ]
  },
  {
   "cell_type": "code",
   "execution_count": 1,
   "metadata": {},
   "outputs": [],
   "source": [
    "# # Import numpy with alias np\n",
    "# import numpy as np\n",
    "\n",
    "# # Create explanatory_data \n",
    "# explanatory_data = pd.DataFrame({'n_convenience': np.arange(0, 11)})\n",
    "\n",
    "# # Use mdl_price_vs_conv to predict with explanatory_data, call it price_twd_msq\n",
    "# price_twd_msq = mdl_price_vs_conv.predict(explanatory_data)\n",
    "\n",
    "# # Create prediction_data\n",
    "# prediction_data = explanatory_data.assign(\n",
    "#     price_twd_msq = price_twd_msq)\n",
    "\n",
    "# # Print the result\n",
    "# print(prediction_data)"
   ]
  },
  {
   "attachments": {},
   "cell_type": "markdown",
   "metadata": {},
   "source": [
    "# Visualizing predictions"
   ]
  },
  {
   "attachments": {},
   "cell_type": "markdown",
   "metadata": {},
   "source": [
    "The prediction DataFrame you created contains a column of explanatory variable values and a column of response variable values. That means you can plot it on the same scatter plot of response versus explanatory data values.\n",
    "\n",
    "`prediction_data` is available. The code for the plot you created using `sns.regplot()` "
   ]
  },
  {
   "cell_type": "code",
   "execution_count": 2,
   "metadata": {},
   "outputs": [],
   "source": [
    "# # Create a new figure, fig\n",
    "# fig = plt.figure()\n",
    "\n",
    "# sns.regplot(x=\"n_convenience\",\n",
    "#             y=\"price_twd_msq\",\n",
    "#             data=taiwan_real_estate,\n",
    "#             ci=None)\n",
    "# # Add a scatter plot layer to the regplot\n",
    "# sns.scatterplot(x=\"n_convenience\",\n",
    "#             y=\"price_twd_msq\",\n",
    "#             data=prediction_data,\n",
    "#             color=\"red\",\n",
    "#             marker=\"p\"\n",
    "#             )\n",
    "\n",
    "# # Show the layered plot\n",
    "# plt.show()"
   ]
  },
  {
   "attachments": {},
   "cell_type": "markdown",
   "metadata": {},
   "source": [
    "# The limits of prediction"
   ]
  },
  {
   "attachments": {},
   "cell_type": "markdown",
   "metadata": {},
   "source": [
    "In the last exercise, you made predictions on some sensible, could-happen-in-real-life, situations. That is, the cases when the number of nearby convenience stores were between zero and ten. To test the limits of the model's ability to predict, try some impossible situations.\n",
    "\n",
    "Use the console to try predicting house prices from `mdl_price_vs_conv` when there are -1 convenience stores. Do the same for 2.5 convenience stores. What happens in each case?\n",
    "\n",
    "`mdl_price_vs_conv` is available."
   ]
  },
  {
   "cell_type": "code",
   "execution_count": 3,
   "metadata": {},
   "outputs": [],
   "source": [
    "# # Define a DataFrame impossible\n",
    "# impossible = pd.DataFrame({\"n_convenience\": [-1, 2.5] })\n",
    "\n",
    "# #  Make predictions \n",
    "# prediction = mdl_price_vs_conv.predict(impossible)\n",
    "# print(prediction)"
   ]
  },
  {
   "attachments": {},
   "cell_type": "markdown",
   "metadata": {},
   "source": [
    "- The model successfully gives a prediction about cases that are impossible in real life."
   ]
  },
  {
   "attachments": {},
   "cell_type": "markdown",
   "metadata": {},
   "source": [
    "# Extracting model elements"
   ]
  },
  {
   "attachments": {},
   "cell_type": "markdown",
   "metadata": {},
   "source": [
    "The model object created by `ols()` contains many elements. In order to perform further analysis on the model results, you need to extract its useful bits. The model coefficients, the fitted values, and the residuals are perhaps the most important pieces of the linear model object.\n",
    "\n",
    "`mdl_price_vs_conv` is available."
   ]
  },
  {
   "cell_type": "code",
   "execution_count": 4,
   "metadata": {},
   "outputs": [],
   "source": [
    "# # Print the model parameters of mdl_price_vs_conv\n",
    "# print(mdl_price_vs_conv.params)\n",
    "\n",
    "# # Print the fitted values of mdl_price_vs_conv\n",
    "# print(mdl_price_vs_conv.fittedvalues)\n",
    "\n",
    "# # Print the residuals of mdl_price_vs_conv\n",
    "# print(mdl_price_vs_conv.resid)\n",
    "\n",
    "# # Print a summary of mdl_price_vs_conv\n",
    "# print(mdl_price_vs_conv.summary())"
   ]
  },
  {
   "attachments": {},
   "cell_type": "markdown",
   "metadata": {},
   "source": [
    "# Manually predicting house prices"
   ]
  },
  {
   "attachments": {},
   "cell_type": "markdown",
   "metadata": {},
   "source": [
    "You can manually calculate the predictions from the model coefficients. When making predictions in real life, it is better to use `.predict()`, but doing this manually is helpful to reassure yourself that predictions aren't magic - they are simply arithmetic.\n",
    "\n",
    "In fact, for a simple linear regression, the predicted value is just the intercept plus the slope times the explanatory variable.\n",
    "\n",
    "`response = intercept + slope * explanatory`\n",
    "\n",
    "`mdl_price_vs_conv` and `explanatory_data` are available."
   ]
  },
  {
   "cell_type": "code",
   "execution_count": 5,
   "metadata": {},
   "outputs": [],
   "source": [
    "# # Get the coefficients of mdl_price_vs_conv\n",
    "# coeffs = mdl_price_vs_conv.params\n",
    "\n",
    "# # Get the intercept\n",
    "# intercept = coeffs[0]\n",
    "\n",
    "# # Get the slope\n",
    "# slope = coeffs[1]\n",
    "\n",
    "# # Manually calculate the predictions\n",
    "# price_twd_msq = intercept + slope * explanatory_data\n",
    "# print(price_twd_msq)\n",
    "\n",
    "# # Compare to the results from .predict()\n",
    "# print(price_twd_msq.assign(predictions_auto=mdl_price_vs_conv.predict(explanatory_data)))"
   ]
  },
  {
   "attachments": {},
   "cell_type": "markdown",
   "metadata": {},
   "source": [
    "# Home run!\n"
   ]
  },
  {
   "attachments": {},
   "cell_type": "markdown",
   "metadata": {},
   "source": [
    "Regression to the mean is an important concept in many areas, including sports.\n",
    "\n",
    "Here you can see a dataset of baseball batting data in 2017 and 2018. Each point represents a player, and more home runs are better. A naive prediction might be that the performance in 2018 is the same as the performance in 2017. That is, a linear regression would lie on the \"y equals x\" line.\n",
    "\n",
    "Explore the plot and make predictions. What does regression to the mean say about the number of home runs in 2018 for a player who was very successful in 2017?"
   ]
  },
  {
   "attachments": {},
   "cell_type": "markdown",
   "metadata": {},
   "source": [
    "<center><img src=\"images/02.10.jpg\"  style=\"width: 400px, height: 300px;\"/></center>\n"
   ]
  },
  {
   "attachments": {},
   "cell_type": "markdown",
   "metadata": {},
   "source": [
    "- Someone who hit 40 home runs in 2017 is predicted to hit 10 fewer home runs the next year because regression to the mean states that, on average, extremely high values are not sustained."
   ]
  },
  {
   "attachments": {},
   "cell_type": "markdown",
   "metadata": {},
   "source": [
    "# Plotting consecutive portfolio returns"
   ]
  },
  {
   "attachments": {},
   "cell_type": "markdown",
   "metadata": {},
   "source": [
    "Regression to the mean is also an important concept in investing. Here you'll look at the annual returns from investing in companies in the Standard and Poor 500 index (S&P 500), in 2018 and 2019.\n",
    "\n",
    "The `sp500_yearly_returns` dataset contains three columns:\n",
    "\n",
    "- `symbol` = Stock ticker symbol uniquely identifying the company.\n",
    "- `return_2018` = A measure of investment performance in 2018.\n",
    "- `return_2019` = A measure of investment performance in 2019.\n",
    "\n",
    "A positive number for the return means the investment increased in value; negative means it lost value.\n",
    "\n",
    "Just as with baseball home runs, a naive prediction might be that the investment performance stays the same from year to year, lying on the y equals x line.\n",
    "\n",
    "`sp500_yearly_returns` is available as a pandas DataFrame."
   ]
  },
  {
   "cell_type": "code",
   "execution_count": 7,
   "metadata": {},
   "outputs": [],
   "source": [
    "# # Create a new figure, fig\n",
    "# fig = plt.figure()\n",
    "\n",
    "# # Plot the first layer: y = x\n",
    "# plt.axline(xy1=(0,0), slope=1, linewidth=2, color=\"green\")\n",
    "\n",
    "# # Add scatter plot with linear regression trend line\n",
    "# sns.regplot(x = \"return_2018\", y = \"return_2019\", data = sp500_yearly_returns)\n",
    "\n",
    "# # Set the axes so that the distances along the x and y axes look the same\n",
    "# plt.axis(\"equal\")\n",
    "\n",
    "# # Show the plot\n",
    "# plt.show()"
   ]
  },
  {
   "attachments": {},
   "cell_type": "markdown",
   "metadata": {},
   "source": [
    "# Modeling consecutive returns"
   ]
  },
  {
   "attachments": {},
   "cell_type": "markdown",
   "metadata": {},
   "source": [
    "Let's quantify the relationship between returns in 2019 and 2018 by running a linear regression and making predictions. By looking at companies with extremely high or extremely low returns in 2018, we can see if their performance was similar in 2019.\n",
    "\n",
    "`sp500_yearly_returns` is available and `ols()` is loaded."
   ]
  },
  {
   "cell_type": "code",
   "execution_count": 8,
   "metadata": {},
   "outputs": [],
   "source": [
    "# # Run a linear regression on return_2019 vs. return_2018 using sp500_yearly_returns\n",
    "# mdl_returns = ols( 'return_2019 ~ return_2018', data = sp500_yearly_returns).fit()\n",
    "\n",
    "# # Print the parameters\n",
    "# print(mdl_returns.params)\n",
    "\n",
    "# # Create a DataFrame with return_2018 at -1, 0, and 1 \n",
    "# explanatory_data = pd.DataFrame({\"return_2018\": [-1,0,1]})\n",
    "\n",
    "# # Use mdl_returns to predict with explanatory_data\n",
    "# print(mdl_returns.predict(explanatory_data))"
   ]
  },
  {
   "attachments": {},
   "cell_type": "markdown",
   "metadata": {},
   "source": [
    "# Transforming the explanatory variable"
   ]
  },
  {
   "attachments": {},
   "cell_type": "markdown",
   "metadata": {},
   "source": [
    "If there is no straight-line relationship between the response variable and the explanatory variable, it is sometimes possible to create one by transforming one or both of the variables. Here, you'll look at transforming the explanatory variable.\n",
    "\n",
    "You'll take another look at the Taiwan real estate dataset, this time using the distance to the nearest MRT (metro) station as the explanatory variable. You'll use code to make every commuter's dream come true: shortening the distance to the metro station by taking the square root. Take that, geography!\n",
    "\n",
    "`taiwan_real_estate` is available."
   ]
  },
  {
   "cell_type": "code",
   "execution_count": 9,
   "metadata": {},
   "outputs": [],
   "source": [
    "# # Create sqrt_dist_to_mrt_m\n",
    "# taiwan_real_estate[\"sqrt_dist_to_mrt_m\"] = np.sqrt(taiwan_real_estate[\"dist_to_mrt_m\"])\n",
    "\n",
    "# plt.figure()\n",
    "\n",
    "# # Plot using the transformed variable\n",
    "# sns.regplot(x=\"sqrt_dist_to_mrt_m\", y=\"price_twd_msq\", data = taiwan_real_estate )\n",
    "# plt.show()"
   ]
  },
  {
   "cell_type": "code",
   "execution_count": 10,
   "metadata": {},
   "outputs": [],
   "source": [
    "# # Create sqrt_dist_to_mrt_m\n",
    "# taiwan_real_estate[\"sqrt_dist_to_mrt_m\"] = np.sqrt(taiwan_real_estate[\"dist_to_mrt_m\"])\n",
    "\n",
    "# # Run a linear regression of price_twd_msq vs. sqrt_dist_to_mrt_m\n",
    "# mdl_price_vs_dist = ols(\"price_twd_msq ~ sqrt_dist_to_mrt_m\", data=taiwan_real_estate).fit()\n",
    "\n",
    "# # Use this explanatory data\n",
    "# explanatory_data = pd.DataFrame({\"sqrt_dist_to_mrt_m\": np.sqrt(np.arange(0, 81, 10) ** 2),\n",
    "#                                 \"dist_to_mrt_m\": np.arange(0, 81, 10) ** 2})\n",
    "\n",
    "# # Use mdl_price_vs_dist to predict explanatory_data\n",
    "# prediction_data = explanatory_data.assign(\n",
    "#     price_twd_msq = mdl_price_vs_dist.predict(explanatory_data)\n",
    "# )\n",
    "\n",
    "# fig = plt.figure()\n",
    "# sns.regplot(x=\"sqrt_dist_to_mrt_m\", y=\"price_twd_msq\", data=taiwan_real_estate, ci=None)\n",
    "\n",
    "# # Add a layer of your prediction points\n",
    "# sns.scatterplot(x=\"sqrt_dist_to_mrt_m\", y=\"price_twd_msq\",data=prediction_data, color=\"red\")\n",
    "# plt.show()"
   ]
  },
  {
   "attachments": {},
   "cell_type": "markdown",
   "metadata": {},
   "source": [
    "# Transforming the response variable too"
   ]
  },
  {
   "attachments": {},
   "cell_type": "markdown",
   "metadata": {},
   "source": [
    "The response variable can be transformed too, but this means you need an extra step at the end to undo that transformation. That is, you \"back transform\" the predictions.\n",
    "\n",
    "In the video, you saw the first step of the digital advertising workflow: spending money to buy ads, and counting how many people see them (the \"impressions\"). The next step is determining how many people click on the advert after seeing it.\n",
    "\n",
    "`ad_conversion` is available as a `pandas` DataFrame"
   ]
  },
  {
   "cell_type": "code",
   "execution_count": 11,
   "metadata": {},
   "outputs": [],
   "source": [
    "# # Create qdrt_n_impressions and qdrt_n_clicks\n",
    "# ad_conversion[\"qdrt_n_impressions\"] = np.power(ad_conversion[\"n_impressions\"] , 0.25)\n",
    "# ad_conversion[\"qdrt_n_clicks\"] = np.power(ad_conversion[\"n_clicks\"] , 0.25)\n",
    "\n",
    "# plt.figure()\n",
    "\n",
    "# # Plot using the transformed variables\n",
    "# sns.regplot(x = \"qdrt_n_impressions\", y = \"qdrt_n_clicks\", data = ad_conversion)\n",
    "# plt.show()"
   ]
  },
  {
   "cell_type": "code",
   "execution_count": 12,
   "metadata": {},
   "outputs": [],
   "source": [
    "# ad_conversion[\"qdrt_n_impressions\"] = ad_conversion[\"n_impressions\"] ** 0.25\n",
    "# ad_conversion[\"qdrt_n_clicks\"] = ad_conversion[\"n_clicks\"] ** 0.25\n",
    "\n",
    "# mdl_click_vs_impression = ols(\"qdrt_n_clicks ~ qdrt_n_impressions\", data=ad_conversion, ci=None).fit()\n",
    "\n",
    "# explanatory_data = pd.DataFrame({\"qdrt_n_impressions\": np.arange(0, 3e6+1, 5e5) ** .25,\n",
    "#                                  \"n_impressions\": np.arange(0, 3e6+1, 5e5)})\n",
    "\n",
    "# # Complete prediction_data\n",
    "# prediction_data = explanatory_data.assign(\n",
    "#     qdrt_n_clicks = mdl_click_vs_impression.predict(explanatory_data[\"qdrt_n_impressions\"])\n",
    "# )\n",
    "\n",
    "# # Print the result\n",
    "# print(prediction_data)"
   ]
  },
  {
   "attachments": {},
   "cell_type": "markdown",
   "metadata": {},
   "source": [
    "# Back transformation"
   ]
  },
  {
   "attachments": {},
   "cell_type": "markdown",
   "metadata": {},
   "source": [
    "In the previous exercise, you transformed the response variable, ran a regression, and made predictions. But you're not done yet! In order to correctly interpret and visualize your predictions, you'll need to do a back-transformation.\n",
    "\n",
    "`prediction_data`, which you created in the previous exercise, is available."
   ]
  },
  {
   "cell_type": "code",
   "execution_count": 13,
   "metadata": {},
   "outputs": [],
   "source": [
    "# # Back transform qdrt_n_clicks\n",
    "# prediction_data[\"n_clicks\"] = prediction_data[\"qdrt_n_clicks\"] ** 4\n",
    "\n",
    "# # Plot the transformed variables\n",
    "# fig = plt.figure()\n",
    "# sns.regplot(x=\"qdrt_n_impressions\", y=\"qdrt_n_clicks\", data=ad_conversion, ci=None)\n",
    "\n",
    "# # Add a layer of your prediction points\n",
    "# sns.scatterplot(x=\"qdrt_n_impressions\", y=\"qdrt_n_clicks\", data = prediction_data, color=\"red\")\n",
    "# plt.show()"
   ]
  }
 ],
 "metadata": {
  "kernelspec": {
   "display_name": "env_py",
   "language": "python",
   "name": "python3"
  },
  "language_info": {
   "codemirror_mode": {
    "name": "ipython",
    "version": 3
   },
   "file_extension": ".py",
   "mimetype": "text/x-python",
   "name": "python",
   "nbconvert_exporter": "python",
   "pygments_lexer": "ipython3",
   "version": "3.8.11"
  },
  "orig_nbformat": 4,
  "vscode": {
   "interpreter": {
    "hash": "1e949e87132dd83f1a7623eb88007e3532b03b66b77111be347aa4a383049722"
   }
  }
 },
 "nbformat": 4,
 "nbformat_minor": 2
}

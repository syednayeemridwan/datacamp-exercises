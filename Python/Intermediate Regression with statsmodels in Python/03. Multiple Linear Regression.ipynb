{
 "cells": [
  {
   "attachments": {},
   "cell_type": "markdown",
   "metadata": {},
   "source": [
    "# Interactive 3D scatter plot"
   ]
  },
  {
   "attachments": {},
   "cell_type": "markdown",
   "metadata": {},
   "source": [
    "Since computer screens and paper are both two-dimensional objects, most plots are best suited to visualizing two variables at once. For the case of three continuous variables, you can draw a 3D scatter plot, but perspective problems usually make it difficult to interpret. This can partially be solved by making the 3D plot interactive, so you can view the plot from different angles.\n",
    "\n",
    "The 3D scatter shown has `n_convenience` on the x-axis, `sqrt_dist_to_mrt_m` on the y-axis, and `price_twd_msq` on the z-axis — you can interact with it by dragging and zooming. The points are colored according to `price_twd_msq`.\n",
    "\n",
    "Which of the following statements is NOT correct?"
   ]
  },
  {
   "attachments": {},
   "cell_type": "markdown",
   "metadata": {},
   "source": [
    "- There tends to be a positive relationship between the number of convenience stores and the distance to the closest MRT station."
   ]
  },
  {
   "attachments": {},
   "cell_type": "markdown",
   "metadata": {},
   "source": [
    "# Visualizing three numeric variables"
   ]
  },
  {
   "attachments": {},
   "cell_type": "markdown",
   "metadata": {},
   "source": [
    "There are also some \"flat\" alternatives to 3D plots that provide easier interpretation, though they require a little thinking about to make. A good approach is plotting the two numeric explanatory variables on the x- and y-axis of a scatter plot, and coloring the points according to the response variable.\n",
    "\n",
    "`taiwan_real_estate` is available."
   ]
  },
  {
   "cell_type": "code",
   "execution_count": 1,
   "metadata": {},
   "outputs": [],
   "source": [
    "# # Transform dist_to_mrt_m to sqrt_dist_to_mrt_m\n",
    "# taiwan_real_estate[\"sqrt_dist_to_mrt_m\"] = np.sqrt(taiwan_real_estate[\"dist_to_mrt_m\"])\n",
    "# # Draw a scatter plot of sqrt_dist_to_mrt_m vs. n_convenience colored by price_twd_msq\n",
    "# sns.scatterplot( x= \"n_convenience\", y = \"sqrt_dist_to_mrt_m\", hue =\"price_twd_msq\" , data =taiwan_real_estate )\n",
    "\n",
    "# # Show the plot\n",
    "# plt.show()"
   ]
  },
  {
   "attachments": {},
   "cell_type": "markdown",
   "metadata": {},
   "source": [
    "# Modeling two numeric explanatory variables"
   ]
  },
  {
   "attachments": {},
   "cell_type": "markdown",
   "metadata": {},
   "source": [
    "You already saw how to make a model and predictions with a numeric and a categorical explanatory variable. The code for modeling and predicting with two numeric explanatory variables is the same, other than a slight difference in how to specify the explanatory variables to make predictions against.\n",
    "\n",
    "Here you'll model and predict the house prices against the number of nearby convenience stores and the square-root of the distance to the nearest MRT station.\n",
    "\n",
    "`taiwan_real_estate` is available with the square-root transformed variable `sqrt_dist_to_mrt_m`. `itertools.product` is also loaded."
   ]
  },
  {
   "cell_type": "code",
   "execution_count": 1,
   "metadata": {},
   "outputs": [],
   "source": [
    "# # Fit linear regression of price vs. no. of conv. stores and sqrt dist. to nearest MRT, no interaction\n",
    "# mdl_price_vs_conv_dist = ols(\"price_twd_msq ~ n_convenience + sqrt_dist_to_mrt_m\", data=taiwan_real_estate).fit()\n",
    "\n",
    "# # Create n_convenience as an array of numbers from 0 to 10\n",
    "# n_convenience = np.arange(0,11)\n",
    "\n",
    "# # Create sqrt_dist_to_mrt_m as an array of numbers from 0 to 80 in steps of 10\n",
    "# sqrt_dist_to_mrt_m = np.arange(0,81,10)\n",
    "\n",
    "# # Create p as all combinations of values of n_convenience and sqrt_dist_to_mrt_m\n",
    "# p = product(n_convenience, sqrt_dist_to_mrt_m)\n",
    "\n",
    "# # Transform p to a DataFrame and name the columns\n",
    "# explanatory_data = pd.DataFrame(p, columns = [\"n_convenience\" , \"sqrt_dist_to_mrt_m\"])\n",
    "\n",
    "# # Add column of predictions\n",
    "# prediction_data = explanatory_data.assign(\n",
    "#     price_twd_msq = mdl_price_vs_conv_dist.predict(explanatory_data)\n",
    "# )\n",
    "\n",
    "# # See the result  \n",
    "# print(prediction_data)\n"
   ]
  },
  {
   "attachments": {},
   "cell_type": "markdown",
   "metadata": {},
   "source": [
    "# Visualizing two numeric explanatory variables"
   ]
  },
  {
   "attachments": {},
   "cell_type": "markdown",
   "metadata": {},
   "source": [
    "The code for visualizing two numeric explanatory variables is the same as you've seen before: create a layer of the actual data points, and add a layer of the prediction points to see how they match. In the case of two numeric explanatory variables, the prediction point layer will look like a grid.\n",
    "\n",
    "`taiwan_real_estate` and `prediction_data` are available with the square-root transformed variable `sqrt_dist_to_mrt_m`."
   ]
  },
  {
   "cell_type": "code",
   "execution_count": 2,
   "metadata": {},
   "outputs": [],
   "source": [
    "# # Create scatter plot of taiwan_real_estate\n",
    "# sns.scatterplot(x = \"n_convenience\", y = \"sqrt_dist_to_mrt_m\", hue = \"price_twd_msq\", data = taiwan_real_estate)\n",
    "\n",
    "# # Create scatter plot of prediction_data without legend\n",
    "# sns.scatterplot(x = \"n_convenience\", y = \"sqrt_dist_to_mrt_m\", hue = \"price_twd_msq\", data = prediction_data,marker=\"s\", legend = False)\n",
    "\n",
    "# # Show the plot\n",
    "# plt.show()"
   ]
  },
  {
   "attachments": {},
   "cell_type": "markdown",
   "metadata": {},
   "source": [
    "# Including an interaction"
   ]
  },
  {
   "attachments": {},
   "cell_type": "markdown",
   "metadata": {},
   "source": [
    "Just as in the case with one numeric and one categorical explanatory variable, it is possible for numeric explanatory variables to interact. With this model structure, you'll get a third slope coefficient: one for each explanatory variable and one for the interaction.\n",
    "\n",
    "Here, you'll run, predict, and plot the same model as in the previous exercise, but this time including an interaction between the explanatory variables."
   ]
  },
  {
   "cell_type": "code",
   "execution_count": 3,
   "metadata": {},
   "outputs": [],
   "source": [
    "# # Convert to mdl_price_vs_conv_dist_inter\n",
    "# mdl_price_vs_conv_dist_inter = ols(\"price_twd_msq ~ n_convenience * sqrt_dist_to_mrt_m\", data=taiwan_real_estate).fit()\n",
    "\n",
    "# # Use mdl_price_vs_conv_dist_inter to make predictions\n",
    "# n_convenience = np.arange(0, 11)\n",
    "# sqrt_dist_to_mrt_m = np.arange(0, 81, 10)\n",
    "# p = product(n_convenience, sqrt_dist_to_mrt_m)\n",
    "# explanatory_data = pd.DataFrame(p, columns=[\"n_convenience\", \"sqrt_dist_to_mrt_m\"])\n",
    "# prediction_data = explanatory_data.assign(\n",
    "#     price_twd_msq = mdl_price_vs_conv_dist_inter.predict(explanatory_data))\n",
    "\n",
    "# sns.scatterplot(x=\"n_convenience\", y=\"sqrt_dist_to_mrt_m\", data=taiwan_real_estate, hue=\"price_twd_msq\", legend=False)\n",
    "\n",
    "# sns.scatterplot(x=\"n_convenience\", y=\"sqrt_dist_to_mrt_m\", data=prediction_data, hue=\"price_twd_msq\", marker=\"s\")\n",
    "\n",
    "# plt.show()"
   ]
  },
  {
   "attachments": {},
   "cell_type": "markdown",
   "metadata": {},
   "source": [
    "# Visualizing many variables"
   ]
  },
  {
   "attachments": {},
   "cell_type": "markdown",
   "metadata": {},
   "source": [
    "As you begin to consider more variables, plotting them all at the same time becomes increasingly difficult. In addition to using x and y scales for two numeric variables, you can use color for a third numeric variable, and you can use faceting for categorical variables. And that's about your limit before the plots become too difficult to interpret. There are some specialist plot types like correlation heatmaps and parallel coordinates plots that will handle more variables, but they give you much less information about each variable, and they aren't great for visualizing model predictions.\n",
    "\n",
    "Here you'll push the limits of the scatter plot by showing the house price, the distance to the MRT station, the number of nearby convenience stores, and the house age, all together in one plot.\n",
    "\n",
    "`taiwan_real_estate` is available."
   ]
  },
  {
   "cell_type": "code",
   "execution_count": 4,
   "metadata": {},
   "outputs": [],
   "source": [
    "# # Prepare the grid using taiwan_real_estate, for each house age category, colored by price_twd_msq\n",
    "# grid = sns.FacetGrid(data=taiwan_real_estate,\n",
    "#             col=\"house_age_years\",\n",
    "#             hue=\"price_twd_msq\",\n",
    "#             palette=\"plasma\")\n",
    "\n",
    "# # Plot the scatterplots with sqrt_dist_to_mrt_m on the x-axis and n_convenience on the y-axis\n",
    "# grid.map(sns.scatterplot,\n",
    "#          \"sqrt_dist_to_mrt_m\",\n",
    "#           \"n_convenience\")\n",
    "\n",
    "# # Show the plot (brighter colors mean higher prices)\n",
    "# plt.show()"
   ]
  },
  {
   "attachments": {},
   "cell_type": "markdown",
   "metadata": {},
   "source": [
    "# Different levels of interaction"
   ]
  },
  {
   "attachments": {},
   "cell_type": "markdown",
   "metadata": {},
   "source": [
    "Once you have three explanatory variables, the number of options for specifying interactions increases. You can specify no interactions. You can specify 2-way interactions, which gives you model coefficients for each pair of variables. The third option is to specify all the interactions, which means the three 2-way interactions and the interaction between all three explanatory variables.\n",
    "\n",
    "As the number of explanatory variables increases further, the number of interaction possibilities rapidly increases.\n",
    "\n",
    "`taiwan_real_estate` is available."
   ]
  },
  {
   "cell_type": "code",
   "execution_count": 5,
   "metadata": {},
   "outputs": [],
   "source": [
    "# # Model price vs. no. of conv. stores, sqrt dist. to MRT station & house age, no global intercept, no interactions\n",
    "# mdl_price_vs_all_no_inter = ols(\"price_twd_msq ~ n_convenience + sqrt_dist_to_mrt_m + house_age_years\", data = taiwan_real_estate).fit()\n",
    "\n",
    "# # See the result\n",
    "# print(mdl_price_vs_all_no_inter.params)"
   ]
  },
  {
   "cell_type": "code",
   "execution_count": 8,
   "metadata": {},
   "outputs": [],
   "source": [
    "# # Model price vs. sqrt dist. to MRT station, no. of conv. stores & house age, no global intercept, 3-way interactions\n",
    "# mdl_price_vs_all_3_way_inter = ols(\"price_twd_msq ~ n_convenience * sqrt_dist_to_mrt_m * house_age_years\", data = taiwan_real_estate).fit()\n",
    "\n",
    "# # See the result\n",
    "# print(mdl_price_vs_all_3_way_inter.params)"
   ]
  },
  {
   "cell_type": "code",
   "execution_count": 7,
   "metadata": {},
   "outputs": [],
   "source": [
    "# # Model price vs. sqrt dist. to MRT station, no. of conv. stores & house age, no global intercept, 2-way interactions\n",
    "# mdl_price_vs_all_2_way_inter = ols(\"price_twd_msq ~ (n_convenience + sqrt_dist_to_mrt_m + house_age_years) ** 2 + 0\", data = taiwan_real_estate).fit()\n",
    "\n",
    "# # See the result\n",
    "# print(mdl_price_vs_all_2_way_inter.params)"
   ]
  },
  {
   "attachments": {},
   "cell_type": "markdown",
   "metadata": {},
   "source": [
    "# Predicting again"
   ]
  },
  {
   "attachments": {},
   "cell_type": "markdown",
   "metadata": {},
   "source": [
    "You've followed the prediction workflow several times now with different combinations of explanatory variables. Time to try it once more on the model with three explanatory variables. Here, you'll use the model with 3-way interactions, though the code is the same when using any of the three models from the previous exercise.\n",
    "\n",
    "`taiwan_real_estate` and `mdl_price_vs_all_3_way_inter` are available. `itertools.product` is loaded."
   ]
  },
  {
   "cell_type": "code",
   "execution_count": 9,
   "metadata": {},
   "outputs": [],
   "source": [
    "# # Create n_convenience as an array of numbers from 0 to 10\n",
    "# n_convenience = np.arange(0, 11)\n",
    "\n",
    "# # Create sqrt_dist_to_mrt_m as an array of numbers from 0 to 80 in steps of 10\n",
    "# sqrt_dist_to_mrt_m = np.arange(0, 81, 10)\n",
    "\n",
    "# # Create house_age_years with unique values\n",
    "# house_age_years = taiwan_real_estate[\"house_age_years\"].unique()\n",
    "\n",
    "# # Create p as all combinations of n_convenience, sqrt_dist_to_mrt_m, and house_age_years, in that order\n",
    "# p = product(n_convenience, sqrt_dist_to_mrt_m, house_age_years)\n",
    "\n",
    "# # Transform p to a DataFrame and name the columns\n",
    "# explanatory_data = pd.DataFrame(p, columns=[\"n_convenience\",\n",
    "#                                             \"sqrt_dist_to_mrt_m\",\n",
    "#                                             \"house_age_years\"])\n",
    "\n",
    "# # Add column of predictions\n",
    "# prediction_data = explanatory_data.assign(\n",
    "#     price_twd_msq = mdl_price_vs_all_3_way_inter.predict(explanatory_data)\n",
    "# )\n",
    "\n",
    "# # See the result\n",
    "# print(prediction_data)"
   ]
  },
  {
   "attachments": {},
   "cell_type": "markdown",
   "metadata": {},
   "source": [
    "# The sum of squares"
   ]
  },
  {
   "attachments": {},
   "cell_type": "markdown",
   "metadata": {},
   "source": [
    "In order to choose the \"best\" line to fit the data, regression models need to optimize some metric. For linear regression, this metric is called the sum of squares.\n",
    "\n",
    "In the dashboard, try setting different values of the intercept and slope coefficients. In the plot, the solid black line has the intercept and slope you specified. The dotted blue line has the intercept and slope calculated by a linear regression on the dataset.\n",
    "\n",
    "How does linear regression try to optimize the sum of squares metric?"
   ]
  },
  {
   "attachments": {},
   "cell_type": "markdown",
   "metadata": {},
   "source": [
    "- Linear regression minimizes the sum of the squares of the differences between the actual responses and the predicted responses.\n"
   ]
  },
  {
   "attachments": {},
   "cell_type": "markdown",
   "metadata": {},
   "source": [
    "# Linear regression algorithm"
   ]
  },
  {
   "attachments": {},
   "cell_type": "markdown",
   "metadata": {},
   "source": [
    "To truly understand linear regression, it is helpful to know how the algorithm works. The code for `ols()` is hundreds of lines because it has to work with any formula and any dataset. However, in the case of simple linear regression for a single dataset, you can implement a linear regression algorithm in just a few lines of code.\n",
    "\n",
    "The workflow is:\n",
    "\n",
    "First, write a function to calculate the sum of squares using this general syntax:\n",
    "```\n",
    "def function_name(args):\n",
    "  # some calculations with the args\n",
    "  return outcome\n",
    "```\n",
    "\n",
    "Second, use scipy's minimize function find the coefficients that minimize this function.\n",
    "The explanatory values (the `n_convenience` column of `taiwan_real_estate`) are available as x_actual. The response values (the `price_twd_msq` column of `taiwan_real_estate`) are available as `y_actual`.\n",
    "\n",
    "`minimize()` is also loaded."
   ]
  },
  {
   "cell_type": "code",
   "execution_count": 10,
   "metadata": {},
   "outputs": [],
   "source": [
    "# # Complete the function\n",
    "# def calc_sum_of_squares(coeffs):\n",
    "#     # Unpack coeffs\n",
    "#     intercept, slope = coeffs\n",
    "#     # Calculate predicted y-values\n",
    "#     y_pred = intercept + slope * x_actual\n",
    "#     # Calculate differences between y_actual and y_pred\n",
    "#     y_diff = y_pred - y_actual\n",
    "#     # Calculate sum of squares\n",
    "#     sum_sq = np.sum(y_diff ** 2)\n",
    "#     # Return sum of squares\n",
    "#     return sum_sq\n",
    "\n",
    "# # Call minimize on calc_sum_of_squares  \n",
    "# print(minimize(fun=calc_sum_of_squares,\n",
    "#                x0=(0,0)))\n",
    "\n",
    "# # Compare the output with the ols() call.\n",
    "# print(ols(\"price_twd_msq ~ n_convenience\", data=taiwan_real_estate).fit().params)\n",
    "  "
   ]
  }
 ],
 "metadata": {
  "kernelspec": {
   "display_name": "env_py",
   "language": "python",
   "name": "python3"
  },
  "language_info": {
   "codemirror_mode": {
    "name": "ipython",
    "version": 3
   },
   "file_extension": ".py",
   "mimetype": "text/x-python",
   "name": "python",
   "nbconvert_exporter": "python",
   "pygments_lexer": "ipython3",
   "version": "3.8.11"
  },
  "orig_nbformat": 4,
  "vscode": {
   "interpreter": {
    "hash": "1e949e87132dd83f1a7623eb88007e3532b03b66b77111be347aa4a383049722"
   }
  }
 },
 "nbformat": 4,
 "nbformat_minor": 2
}

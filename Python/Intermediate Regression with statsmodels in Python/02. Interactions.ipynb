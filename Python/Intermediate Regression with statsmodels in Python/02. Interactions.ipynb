{
 "cells": [
  {
   "attachments": {},
   "cell_type": "markdown",
   "metadata": {},
   "source": [
    "# One model per category"
   ]
  },
  {
   "attachments": {},
   "cell_type": "markdown",
   "metadata": {},
   "source": [
    "The model you ran on the whole dataset fits some parts of the data better than others. It's worth taking a look at what happens when you run a linear model on different parts of the dataset separately, to see if each model agrees or disagrees with the others.\n",
    "\n",
    "`taiwan_real_estate` is available."
   ]
  },
  {
   "cell_type": "code",
   "execution_count": 1,
   "metadata": {},
   "outputs": [],
   "source": [
    "# # Filter for rows where house age is 0 to 15 years\n",
    "# taiwan_0_to_15 = taiwan_real_estate[taiwan_real_estate[\"house_age_years\"] == \"0 to 15\"]\n",
    "\n",
    "# # Filter for rows where house age is 15 to 30 years\n",
    "# taiwan_15_to_30 = taiwan_real_estate[taiwan_real_estate[\"house_age_years\"] == \"15 to 30\"]\n",
    "\n",
    "# # Filter for rows where house age is 30 to 45 years\n",
    "# taiwan_30_to_45 = taiwan_real_estate[taiwan_real_estate[\"house_age_years\"] == \"30 to 45\"]\n",
    "\n",
    "# # Model price vs. no. convenience stores using 0 to 15 data\n",
    "# mdl_0_to_15 = ols(\"price_twd_msq ~ n_convenience\", data = taiwan_0_to_15).fit()\n",
    "\n",
    "# # Model price vs. no. convenience stores using 15 to 30 data\n",
    "# mdl_15_to_30 = ols(\"price_twd_msq ~ n_convenience\", data = taiwan_15_to_30).fit()\n",
    "\n",
    "# # Model price vs. no. convenience stores using 30 to 45 data\n",
    "# mdl_30_to_45 = ols(\"price_twd_msq ~ n_convenience\", data = taiwan_30_to_45).fit()\n",
    "\n",
    "# # Print the coefficients\n",
    "# print(mdl_0_to_15.params)\n",
    "# print(mdl_15_to_30.params)\n",
    "# print(mdl_30_to_45.params)"
   ]
  },
  {
   "attachments": {},
   "cell_type": "markdown",
   "metadata": {},
   "source": [
    "# Predicting multiple models"
   ]
  },
  {
   "attachments": {},
   "cell_type": "markdown",
   "metadata": {},
   "source": [
    "In order to see what each category's model is doing, it's helpful to make predictions from them. The flow is exactly the same as the flow for making predictions on the whole model, though remember that you only have a single explanatory variable in these models.\n",
    "\n",
    "The models `mdl_0_to_15`, `mdl_15_to_30` and `mdl_30_to_45` are available."
   ]
  },
  {
   "cell_type": "code",
   "execution_count": 1,
   "metadata": {},
   "outputs": [],
   "source": [
    "# # Create explanatory_data, setting no. of conv stores from  0 to 10\n",
    "# explanatory_data = pd.DataFrame({'n_convenience': np.arange(0, 11)})\n",
    "\n",
    "# # Add column of predictions using \"0 to 15\" model and explanatory data \n",
    "# prediction_data_0_to_15 = explanatory_data.assign(\n",
    "#     price_twd_msq = mdl_0_to_15.predict(explanatory_data)\n",
    "# )\n",
    "\n",
    "# # Same again, with \"15 to 30\"\n",
    "# prediction_data_15_to_30 = explanatory_data.assign(\n",
    "#     price_twd_msq = mdl_15_to_30.predict(explanatory_data)\n",
    "# )\n",
    "\n",
    "# # Same again, with \"30 to 45\"\n",
    "# prediction_data_30_to_45 = explanatory_data.assign(\n",
    "#     price_twd_msq = mdl_30_to_45.predict(explanatory_data)\n",
    "# )\n",
    "\n",
    "# print(prediction_data_0_to_15)\n",
    "# print(prediction_data_15_to_30)\n",
    "# print(prediction_data_30_to_45)"
   ]
  },
  {
   "attachments": {},
   "cell_type": "markdown",
   "metadata": {},
   "source": [
    "# Visualizing multiple models"
   ]
  },
  {
   "attachments": {},
   "cell_type": "markdown",
   "metadata": {},
   "source": [
    "In the last two exercises, you ran models for each category of house ages separately, then calculated predictions for each model. Now it's time to visualize those predictions to see how they compare.\n",
    "\n",
    "When you use `sns.lmplot()` with the `hue` argument set to the categorical variable, you get multiple trend lines, each with their own slope. This is in contrast with the parallel slopes model you saw in Chapter 1, where all models had the same slope.\n",
    "\n",
    "`taiwan_real_estate` is available. `prediction_data` is loaded as a concatenated DataFrame of all house ages."
   ]
  },
  {
   "cell_type": "code",
   "execution_count": 2,
   "metadata": {},
   "outputs": [],
   "source": [
    "# # Plot the trend lines of price_twd_msq vs. n_convenience for each house age category\n",
    "# sns.lmplot(x=\"n_convenience\",\n",
    "#            y=\"price_twd_msq\",\n",
    "#            data=taiwan_real_estate,\n",
    "#            hue=\"house_age_years\",\n",
    "#            ci=None,\n",
    "#            legend_out=False)\n",
    "\n",
    "# # Add a scatter plot for prediction_data\n",
    "# sns.scatterplot(x=\"n_convenience\",\n",
    "#            y=\"price_twd_msq\",\n",
    "#            data=prediction_data,\n",
    "#            hue=\"house_age_years\",\n",
    "#      legend=False)\n",
    "\n",
    "# plt.show()"
   ]
  },
  {
   "attachments": {},
   "cell_type": "markdown",
   "metadata": {},
   "source": [
    "# Assessing model performance"
   ]
  },
  {
   "attachments": {},
   "cell_type": "markdown",
   "metadata": {},
   "source": [
    "To test which approach is best — the whole dataset model or the models for each house age category — you need to calculate some metrics. Here, you'll compare the coefficient of determination and the residual standard error for each model.\n",
    "\n",
    "Four models of price versus no. of convenience stores (`mdl_all_ages`, `mdl_0_to_15`, `mdl_15_to_30`, and `mdl_30_to_45`) are available."
   ]
  },
  {
   "cell_type": "code",
   "execution_count": 3,
   "metadata": {},
   "outputs": [],
   "source": [
    "# # Print the coeff. of determination for mdl_all_ages\n",
    "# print(\"R-squared for mdl_all_ages: \", mdl_all_ages.rsquared)\n",
    "\n",
    "# # Print the coeff. of determination for mdl_0_to_15\n",
    "# print(\"R-squared for mdl_0_to_15: \", mdl_0_to_15.rsquared)\n",
    "\n",
    "# # Print the coeff. of determination for mdl_15_to_30\n",
    "# print(\"R-squared for mdl_15_to_30: \", mdl_15_to_30.rsquared)\n",
    "\n",
    "# # Print the coeff. of determination for mdl_30_to_45\n",
    "# print(\"R-squared for mdl_30_to_45: \", mdl_30_to_45.rsquared)"
   ]
  },
  {
   "cell_type": "code",
   "execution_count": 4,
   "metadata": {},
   "outputs": [],
   "source": [
    "# # Print the RSE for mdl_all_ages\n",
    "# print(\"RSE for mdl_all_ages: \", np.sqrt(mdl_all_ages.mse_resid))\n",
    "\n",
    "# # Print the RSE for mdl_0_to_15\n",
    "# print(\"RSE for mdl_0_to_15: \", np.sqrt(mdl_0_to_15.mse_resid))\n",
    "\n",
    "# # Print the RSE for mdl_15_to_30\n",
    "# print(\"RSE for mdl_15_to_30: \", np.sqrt(mdl_15_to_30.mse_resid))\n",
    "\n",
    "# # Print the RSE for mdl_30_to_45\n",
    "# print(\"RSE for mdl_30_to_45: \", np.sqrt(mdl_30_to_45.mse_resid))\n"
   ]
  },
  {
   "attachments": {},
   "cell_type": "markdown",
   "metadata": {},
   "source": [
    "# Specifying an interaction"
   ]
  },
  {
   "attachments": {},
   "cell_type": "markdown",
   "metadata": {},
   "source": [
    "So far you've used a single parallel slopes model, which gave an OK fit for the whole dataset, then three separate models for each house age category, which gave a better fit for each individual category, but was clunky because you had three separate models to work with and explain. Ideally, you'd have a single model that had all the predictive power of the individual models.\n",
    "\n",
    "Defining this single model is achieved through adding interactions between explanatory variables. The syntax of `statsmodels.formula` is flexible, and gives you a couple of options, depending on whether you prefer concise code that is quick to type and to read, or explicit code that describes what you are doing in detail.\n",
    "\n",
    "`taiwan_real_estate` is available."
   ]
  },
  {
   "cell_type": "code",
   "execution_count": 5,
   "metadata": {},
   "outputs": [],
   "source": [
    "# # Model price vs both with an interaction using \"times\" syntax\n",
    "# mdl_price_vs_both_inter = ols(\"price_twd_msq ~ n_convenience * house_age_years\", data = taiwan_real_estate).fit()\n",
    "\n",
    "# # Print the coefficients\n",
    "# print(mdl_price_vs_both_inter.params)"
   ]
  },
  {
   "cell_type": "code",
   "execution_count": 6,
   "metadata": {},
   "outputs": [],
   "source": [
    "# # Model price vs. both with an interaction using \"colon\" syntax\n",
    "# mdl_price_vs_both_inter = ols(\"price_twd_msq ~ house_age_years + n_convenience + house_age_years:n_convenience\", data = taiwan_real_estate).fit()\n",
    "\n",
    "# # Print the coefficients\n",
    "# print(mdl_price_vs_both_inter.params)"
   ]
  },
  {
   "attachments": {},
   "cell_type": "markdown",
   "metadata": {},
   "source": [
    "# Interactions with understandable coeffs"
   ]
  },
  {
   "attachments": {},
   "cell_type": "markdown",
   "metadata": {},
   "source": [
    "The previous model with the interaction term returned coefficients that were a little tricky to interpret. In order clarify what the model is predicting, you can reformulate the model in a way that returns understandable coefficients. For further clarity, you can compare the results to the models on the separate house age categories (`mdl_0_to_15`, `mdl_15_to_30`, and `mdl_30_to_45`).\n",
    "\n",
    "`taiwan_real_estate`, `mdl_0_to_15`, `mdl_15_to_30`, and `mdl_30_to_45` are available."
   ]
  },
  {
   "cell_type": "code",
   "execution_count": 7,
   "metadata": {},
   "outputs": [],
   "source": [
    "# # Model price vs. house age plus an interaction, no intercept\n",
    "# mdl_readable_inter = ols(\"price_twd_msq ~ house_age_years + n_convenience : house_age_years + 0\", data = taiwan_real_estate).fit()\n",
    "\n",
    "# # Print the coefficients for mdl_0_to_15\n",
    "# print(\"mdl_0_to_15 coefficients:\", \"\\n\", mdl_0_to_15.params)\n",
    "\n",
    "# # Print the coefficients for mdl_15_to_30\n",
    "# print(\"mdl_15_to_30 coefficients:\", \"\\n\", mdl_15_to_30.params)\n",
    "\n",
    "# # Print the coefficients for mdl_30_to_45\n",
    "# print(\"mdl_30_to_45 coefficients:\", \"\\n\", mdl_30_to_45.params)\n",
    "\n",
    "# # Print the coefficients for mdl_readable_inter\n",
    "# print(\"\\n\", \"mdl_readable_inter coefficients:\", \"\\n\", mdl_readable_inter.params)"
   ]
  },
  {
   "attachments": {},
   "cell_type": "markdown",
   "metadata": {},
   "source": [
    "Which statement about the coefficients of `mdl_readable_inter` is true?\n",
    "- The expected increase in house price for each nearby convenience store is lowest for the 30 to 45 year age group."
   ]
  },
  {
   "attachments": {},
   "cell_type": "markdown",
   "metadata": {},
   "source": [
    "# Predicting with interactions"
   ]
  },
  {
   "attachments": {},
   "cell_type": "markdown",
   "metadata": {},
   "source": [
    "As with every other regression model you've created, the fun part is making predictions. Fortunately, the code flow for this case is the same as the one without interactions — statsmodels can handle calculating the interactions without any extra prompting from you. The only thing you need to remember is the trick for getting combinations of explanatory variables.\n",
    "\n",
    "`mdl_price_vs_both_inter` is available as a fitted model, itertools.product is loaded."
   ]
  },
  {
   "cell_type": "code",
   "execution_count": 8,
   "metadata": {},
   "outputs": [],
   "source": [
    "# # Create n_convenience as an array of numbers from 0 to 10\n",
    "# n_convenience = np.arange(0,11)\n",
    "\n",
    "# # Extract the unique values of house_age_years\n",
    "# house_age_years = taiwan_real_estate[\"house_age_years\"].unique()\n",
    "\n",
    "# # Create p as all combinations of values of n_convenience and house_age_years\n",
    "# p = product(n_convenience,house_age_years)\n",
    "\n",
    "# # Transform p to a DataFrame and name the columns\n",
    "# explanatory_data = pd.DataFrame({\"n_convenience\":n_convenience,\n",
    "# \"house_age_years\":house_age_years})\n",
    "\n",
    "# # Print it\n",
    "# print(explanatory_data)"
   ]
  },
  {
   "cell_type": "code",
   "execution_count": 9,
   "metadata": {},
   "outputs": [],
   "source": [
    "# # Create n_convenience as an array of numbers from 0 to 10\n",
    "# n_convenience = np.arange(0, 11)\n",
    "\n",
    "# # Extract the unique values of house_age_years\n",
    "# house_age_years = taiwan_real_estate[\"house_age_years\"].unique()\n",
    "\n",
    "# # Create p as all combinations of values of n_convenience and house_age_years\n",
    "# p = product(n_convenience, house_age_years)\n",
    "\n",
    "# # Transform p to a DataFrame and name the columns\n",
    "# explanatory_data = pd.DataFrame(p, columns=[\"n_convenience\", \"house_age_years\"])\n",
    "\n",
    "# # Add predictions to the DataFrame\n",
    "# prediction_data = explanatory_data.assign( \n",
    "#       price_twd_msq = mdl_price_vs_both_inter.predict(explanatory_data))\n",
    "\n",
    "# # Plot the trend lines of price_twd_msq vs. n_convenience colored by house_age_years\n",
    "# sns.lmplot(x= \"n_convenience\", y= \"price_twd_msq\", hue=\"house_age_years\", data = taiwan_real_estate)\n",
    "\n",
    "# # Add a scatter plot for prediction_data\n",
    "# sns.scatterplot(x= \"n_convenience\", y= \"price_twd_msq\", hue=\"house_age_years\", data = prediction_data,\n",
    "#      legend=False)\n",
    "\n",
    "# # Show the plot\n",
    "# plt.show()"
   ]
  },
  {
   "attachments": {},
   "cell_type": "markdown",
   "metadata": {},
   "source": [
    "# Manually calculating predictions with interactions"
   ]
  },
  {
   "attachments": {},
   "cell_type": "markdown",
   "metadata": {},
   "source": [
    "In order to understand how `.predict()` works, it's time to calculate the predictions manually again. For this model, there are three separate lines to calculate for, and in each one, the prediction is an intercept plus a slope times the numeric explanatory value. The tricky part is getting the right intercept and the right slope for each case.\n",
    "\n",
    "`mdl_price_vs_both_inter` and `explanatory_data` are available."
   ]
  },
  {
   "cell_type": "code",
   "execution_count": 10,
   "metadata": {},
   "outputs": [],
   "source": [
    "# # Get the coefficients from mdl_price_vs_both_inter\n",
    "# coeffs = mdl_price_vs_both_inter.params\n",
    "\n",
    "# # Assign each of the elements of coeffs\n",
    "# ic_0_15, ic_15_30, ic_30_45, slope_0_15, slope_15_30, slope_30_45 = coeffs\n",
    "\n",
    "# # Create conditions\n",
    "# conditions = [\n",
    "#     explanatory_data[\"house_age_years\"] == \"0 to 15\",\n",
    "#     explanatory_data[\"house_age_years\"] == \"15 to 30\",\n",
    "#     explanatory_data[\"house_age_years\"] == \"30 to 45\"\n",
    "# ]\n",
    "\n",
    "# # Create intercept_choices\n",
    "# intercept_choices = [ic_0_15, ic_15_30, ic_30_45]\n",
    "\n",
    "# # Create slope_choices\n",
    "# slope_choices = [slope_0_15, slope_15_30, slope_30_45]\n",
    "\n",
    "# # Create intercept and slope\n",
    "# intercept = np.select(conditions, intercept_choices)\n",
    "# slope = np.select(conditions, slope_choices)\n",
    "\n",
    "# # Create prediction_data with columns intercept and price_twd_msq\n",
    "# prediction_data = explanatory_data.assign(\n",
    "#     price_twd_msq = intercept + slope * explanatory_data[\"n_convenience\"]\n",
    "#     )\n",
    "\n",
    "# # Print it\n",
    "# print(prediction_data)"
   ]
  },
  {
   "attachments": {},
   "cell_type": "markdown",
   "metadata": {},
   "source": [
    "# Modeling eBay auctions"
   ]
  },
  {
   "attachments": {},
   "cell_type": "markdown",
   "metadata": {},
   "source": [
    "Sometimes modeling a whole dataset suggests trends that disagree with models on separate parts of that dataset. This is known as Simpson's paradox. In the most extreme case, you may see a positive slope on the whole dataset, and negative slopes on every subset of that dataset (or the other way around).\n",
    "\n",
    "Over the next few exercises, you'll look at eBay auctions of Palm Pilot M515 PDA models.\n",
    "\n",
    "- `price` = Final sale price, USD\n",
    "- `openbid` = The opening bid, USD\n",
    "- `auction_type` = How long did the auction last?\n",
    "\n",
    "`auctions` is available as a pandas DataFrame."
   ]
  },
  {
   "cell_type": "code",
   "execution_count": 11,
   "metadata": {},
   "outputs": [],
   "source": [
    "# # Take a glimpse at the dataset\n",
    "# print(auctions.info())\n",
    "\n",
    "# # Model price vs. opening bid using auctions\n",
    "# mdl_price_vs_openbid = ols(\"price ~ openbid\", data = auctions).fit()\n",
    "\n",
    "# # See the result\n",
    "# print(mdl_price_vs_openbid.params)\n",
    "\n",
    "# # Plot the scatter plot pf price vs. openbid with a linear trend line\n",
    "# sns.regplot(x = \"openbid\", y= \"price\", data = auctions)\n",
    "\n",
    "# # Show the plot\n",
    "# plt.show()"
   ]
  },
  {
   "attachments": {},
   "cell_type": "markdown",
   "metadata": {},
   "source": [
    "# Modeling each auction type"
   ]
  },
  {
   "attachments": {},
   "cell_type": "markdown",
   "metadata": {},
   "source": [
    "You just saw that the opening bid price appeared not to affect the final sale price of Palm Pilots in the eBay auctions. Now let's look at what happens when you model the three auction types (3 day, 5 day, and 7 day) separately.\n",
    "\n",
    "`auctions` is available."
   ]
  },
  {
   "cell_type": "code",
   "execution_count": 12,
   "metadata": {},
   "outputs": [],
   "source": [
    "# # Fit linear regression of price vs. opening bid and auction type, with an interaction, without intercept\n",
    "# mdl_price_vs_both = ols(\"price ~ auction_type + openbid:auction_type + 0\", data=auctions).fit()\n",
    "\n",
    "# # Using auctions, plot price vs. opening bid colored by auction type as a scatter plot with linear regr'n trend lines\n",
    "# sns.lmplot(x = \"openbid\", y= \"price\", hue = \"auction_type\", data = auctions)\n",
    "\n",
    "# # Show the plot\n",
    "# plt.show()\n"
   ]
  },
  {
   "attachments": {},
   "cell_type": "markdown",
   "metadata": {},
   "source": [
    "Which statement about the model resolves Simpson's Paradox?\n",
    "- The two models disagree, and the best model to take advice from depends upon the question we are trying to solve."
   ]
  }
 ],
 "metadata": {
  "kernelspec": {
   "display_name": "env_py",
   "language": "python",
   "name": "python3"
  },
  "language_info": {
   "codemirror_mode": {
    "name": "ipython",
    "version": 3
   },
   "file_extension": ".py",
   "mimetype": "text/x-python",
   "name": "python",
   "nbconvert_exporter": "python",
   "pygments_lexer": "ipython3",
   "version": "3.8.11"
  },
  "orig_nbformat": 4,
  "vscode": {
   "interpreter": {
    "hash": "1e949e87132dd83f1a7623eb88007e3532b03b66b77111be347aa4a383049722"
   }
  }
 },
 "nbformat": 4,
 "nbformat_minor": 2
}

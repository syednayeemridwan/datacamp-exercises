{
 "cells": [
  {
   "cell_type": "markdown",
   "metadata": {},
   "source": [
    "# Loading a DataFrame"
   ]
  },
  {
   "cell_type": "markdown",
   "metadata": {},
   "source": [
    "We've obtained credit card records for all four suspects. The records are in a CSV called `\"credit_records.csv\"`."
   ]
  },
  {
   "cell_type": "code",
   "execution_count": 6,
   "metadata": {},
   "outputs": [
    {
     "name": "stdout",
     "output_type": "stream",
     "text": [
      "            suspect         location             date         item  price\n",
      "0    Kirstine Smith   Groceries R Us   January 6 2018     broccoli   1.25\n",
      "1      Gertrude Cox  Petroleum Plaza   January 6 2018  fizzy drink   1.90\n",
      "2  Fred Frequentist   Groceries R Us   January 6 2018     broccoli   1.25\n",
      "3      Gertrude Cox   Groceries R Us  January 12 2018     broccoli   1.25\n",
      "4    Kirstine Smith    Clothing Club   January 9 2018        shirt  14.25\n"
     ]
    }
   ],
   "source": [
    "# Import pandas under the alias pd\n",
    "import pandas as pd\n",
    "\n",
    "# Load the CSV \"credit_records.csv\"\n",
    "credit_records = pd.read_csv(\"credit_records.csv\")\n",
    "\n",
    "# Display the first five rows of credit_records using the .head() method\n",
    "print(credit_records.head())"
   ]
  },
  {
   "cell_type": "markdown",
   "metadata": {},
   "source": [
    "# Inspecting a DataFrame"
   ]
  },
  {
   "cell_type": "markdown",
   "metadata": {},
   "source": [
    "Use the .info() method to inspect the DataFrame"
   ]
  },
  {
   "cell_type": "code",
   "execution_count": 7,
   "metadata": {},
   "outputs": [
    {
     "name": "stdout",
     "output_type": "stream",
     "text": [
      "<class 'pandas.core.frame.DataFrame'>\n",
      "RangeIndex: 5 entries, 0 to 4\n",
      "Data columns (total 5 columns):\n",
      " #   Column    Non-Null Count  Dtype  \n",
      "---  ------    --------------  -----  \n",
      " 0   suspect   5 non-null      object \n",
      " 1   location  5 non-null      object \n",
      " 2   date      5 non-null      object \n",
      " 3   item      5 non-null      object \n",
      " 4   price     5 non-null      float64\n",
      "dtypes: float64(1), object(4)\n",
      "memory usage: 328.0+ bytes\n",
      "None\n"
     ]
    }
   ],
   "source": [
    "# Use .info() to inspect the DataFrame credit_records\n",
    "print(credit_records.info())"
   ]
  },
  {
   "cell_type": "markdown",
   "metadata": {},
   "source": [
    "How many rows are in credit_records?\n",
    "- 104"
   ]
  },
  {
   "cell_type": "markdown",
   "metadata": {},
   "source": [
    "# Two methods for selecting columns"
   ]
  },
  {
   "cell_type": "markdown",
   "metadata": {},
   "source": [
    "- Square Brackets and String Notation"
   ]
  },
  {
   "cell_type": "code",
   "execution_count": 8,
   "metadata": {},
   "outputs": [
    {
     "name": "stdout",
     "output_type": "stream",
     "text": [
      "0       broccoli\n",
      "1    fizzy drink\n",
      "2       broccoli\n",
      "3       broccoli\n",
      "4          shirt\n",
      "Name: item, dtype: object\n"
     ]
    }
   ],
   "source": [
    "# Select the column item from credit_records\n",
    "# Use brackets and string notation\n",
    "items = credit_records['item']\n",
    "\n",
    "# Display the results\n",
    "print(items)"
   ]
  },
  {
   "cell_type": "markdown",
   "metadata": {},
   "source": [
    "- Dot Notation"
   ]
  },
  {
   "cell_type": "code",
   "execution_count": 9,
   "metadata": {},
   "outputs": [
    {
     "name": "stdout",
     "output_type": "stream",
     "text": [
      "0       broccoli\n",
      "1    fizzy drink\n",
      "2       broccoli\n",
      "3       broccoli\n",
      "4          shirt\n",
      "Name: item, dtype: object\n"
     ]
    }
   ],
   "source": [
    "# Select the column item from credit_records\n",
    "# Use dot notation\n",
    "items = credit_records.item\n",
    "\n",
    "# Display the results\n",
    "print(items)"
   ]
  },
  {
   "cell_type": "markdown",
   "metadata": {},
   "source": [
    "# Correcting column selection errors"
   ]
  },
  {
   "cell_type": "code",
   "execution_count": 10,
   "metadata": {},
   "outputs": [
    {
     "name": "stdout",
     "output_type": "stream",
     "text": [
      "0     Groceries R Us\n",
      "1    Petroleum Plaza\n",
      "2     Groceries R Us\n",
      "3     Groceries R Us\n",
      "4      Clothing Club\n",
      "Name: location, dtype: object\n"
     ]
    }
   ],
   "source": [
    "# One or more lines of code contain errors.\n",
    "# Fix the errors so that the code runs.\n",
    "\n",
    "# Select the location column in credit_records\n",
    "location = credit_records['location']\n",
    "\n",
    "# Select the item column in credit_records\n",
    "items = credit_records.item\n",
    "\n",
    "# Display results\n",
    "print(location)"
   ]
  },
  {
   "cell_type": "markdown",
   "metadata": {},
   "source": [
    "# More column selection mistakes"
   ]
  },
  {
   "cell_type": "code",
   "execution_count": 12,
   "metadata": {},
   "outputs": [],
   "source": [
    "# # Use info() to inspect mpr\n",
    "# print(mpr.info())\n",
    "\n",
    "# # The following code contains one or more errors\n",
    "# # Correct the mistakes in the code so that it runs without errors\n",
    "\n",
    "# # Select column \"Dog Name\" from mpr\n",
    "# name = mpr['Dog Name']\n",
    "\n",
    "# # Select column \"Missing?\" from mpr\n",
    "# is_missing = mpr['Missing?']\n",
    "\n",
    "# # Display the columns\n",
    "# print(name)\n",
    "# print(is_missing)"
   ]
  },
  {
   "cell_type": "markdown",
   "metadata": {},
   "source": [
    "Why did this code generate an error? : `name = mpr.Dog Name`\n",
    "- If a column name contains a space, then it needs to be in brackets and string notation."
   ]
  },
  {
   "cell_type": "markdown",
   "metadata": {},
   "source": [
    "# Logical testing"
   ]
  },
  {
   "cell_type": "markdown",
   "metadata": {},
   "source": [
    "We use the following operators:\n",
    "\n",
    "- `==` tests that two values are equal.\n",
    "- `!=` tests that two values are not equal.\n",
    "- `>` and `<` test that greater than or less than, respectively.\n",
    "- `>=` and `<=` test greater than or equal to or less than or equal to, respectively."
   ]
  },
  {
   "cell_type": "code",
   "execution_count": 15,
   "metadata": {},
   "outputs": [
    {
     "name": "stdout",
     "output_type": "stream",
     "text": [
      "False\n",
      "True\n",
      "True\n"
     ]
    }
   ],
   "source": [
    "height_inches = 70\n",
    "plate1 = \"FRQ123\"\n",
    "fur_color = \"red\"\n",
    "\n",
    "# Is height_inches greater than 70 inches?\n",
    "print(height_inches > 70)\n",
    "\n",
    "# Is plate1 equal to \"FRQ123\"?\n",
    "print(plate1 == \"FRQ123\")\n",
    "\n",
    "# Is fur_color not equal to \"brown\"?\n",
    "print(fur_color != \"brown\")"
   ]
  },
  {
   "cell_type": "markdown",
   "metadata": {},
   "source": [
    "# Selecting missing puppies"
   ]
  },
  {
   "cell_type": "markdown",
   "metadata": {},
   "source": [
    "select a few different rows to learn more about the other missing dogs."
   ]
  },
  {
   "cell_type": "code",
   "execution_count": 17,
   "metadata": {},
   "outputs": [],
   "source": [
    "# # Select the dogs where Age is greater than 2\n",
    "# greater_than_2 = mpr[mpr.Age >2]\n",
    "# print(greater_than_2)\n",
    "\n",
    "# # Select the dogs whose Status is equal to Still Missing\n",
    "# still_missing = mpr[mpr.Status == \"Still Missing\"]\n",
    "# print(still_missing)\n",
    "\n",
    "# # Select all dogs whose Dog Breed is not equal to Poodle\n",
    "# not_poodle = mpr[mpr[\"Dog Breed\"] != \"Poodle\"]\n",
    "# print(not_poodle)"
   ]
  },
  {
   "cell_type": "markdown",
   "metadata": {},
   "source": [
    "# Narrowing the list of suspects"
   ]
  },
  {
   "cell_type": "markdown",
   "metadata": {},
   "source": [
    "We'd like to narrow this list down, so we obtained credit card records for each suspect. We'd like to know if any of them recently purchased dog treats to use in the kidnapping. If they did, they would have visited 'Pet Paradise'"
   ]
  },
  {
   "cell_type": "code",
   "execution_count": 18,
   "metadata": {},
   "outputs": [
    {
     "name": "stdout",
     "output_type": "stream",
     "text": [
      "Empty DataFrame\n",
      "Columns: [suspect, location, date, item, price]\n",
      "Index: []\n"
     ]
    }
   ],
   "source": [
    "# Select purchases from 'Pet Paradise'\n",
    "purchase = credit_records[credit_records.location == 'Pet Paradise']\n",
    "\n",
    "# Display\n",
    "print(purchase)"
   ]
  },
  {
   "cell_type": "markdown",
   "metadata": {},
   "source": [
    "Which suspects purchased pet supplies before the kidnapping?\n",
    "- Fred Frequentist and Gertrude Cox"
   ]
  }
 ],
 "metadata": {
  "kernelspec": {
   "display_name": "Python 3.8.3 ('base')",
   "language": "python",
   "name": "python3"
  },
  "language_info": {
   "codemirror_mode": {
    "name": "ipython",
    "version": 3
   },
   "file_extension": ".py",
   "mimetype": "text/x-python",
   "name": "python",
   "nbconvert_exporter": "python",
   "pygments_lexer": "ipython3",
   "version": "3.8.3"
  },
  "orig_nbformat": 4,
  "vscode": {
   "interpreter": {
    "hash": "dc575bfddb5c8ca4bb6a4f4dcdd32abc104b5fa4177361381c432fff36ce3e46"
   }
  }
 },
 "nbformat": 4,
 "nbformat_minor": 2
}

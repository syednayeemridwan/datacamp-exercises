{
 "cells": [
  {
   "cell_type": "markdown",
   "metadata": {},
   "source": [
    "# Working hard"
   ]
  },
  {
   "cell_type": "markdown",
   "metadata": {},
   "source": [
    "Officer Deshaun has created DataFrames called `deshaun` to track the amount of time he spent working on this case. The DataFrame contains two columns:\n",
    "\n",
    "- `day_of_week`: a string representing the day of the week\n",
    "- `hours_worked`: the number of hours that a particular officer worked on the Bayes case'"
   ]
  },
  {
   "cell_type": "code",
   "execution_count": 1,
   "metadata": {},
   "outputs": [],
   "source": [
    "# # From matplotlib, import pyplot under the alias plt\n",
    "# from matplotlib import pyplot as plt\n",
    "\n",
    "# # Plot Officer Deshaun's hours_worked vs. day_of_week\n",
    "# plt.plot(deshaun.day_of_week, deshaun.hours_worked)\n",
    "\n",
    "# # Display Deshaun's plot\n",
    "# plt.show()"
   ]
  },
  {
   "cell_type": "markdown",
   "metadata": {},
   "source": [
    "# Or hardly working?"
   ]
  },
  {
   "cell_type": "markdown",
   "metadata": {},
   "source": [
    "Two other officers have been working with Deshaun to help find Bayes. Their names are Officer Mengfei and Officer Aditya. Deshaun used their time cards to create two more DataFrames: `mengfei` and `aditya`. In this exercise, we'll plot all three lines together to see who was working hard each day."
   ]
  },
  {
   "cell_type": "code",
   "execution_count": 2,
   "metadata": {},
   "outputs": [],
   "source": [
    "# # Plot Officer Deshaun's hours_worked vs. day_of_week\n",
    "# plt.plot(deshaun.day_of_week, deshaun.hours_worked)\n",
    "\n",
    "# # Plot Officer Aditya's hours_worked vs. day_of_week\n",
    "# plt.plot(aditya.day_of_week, aditya.hours_worked)\n",
    "\n",
    "# # Plot Officer Mengfei's hours_worked vs. day_of_week\n",
    "# plt.plot(mengfei.day_of_week, mengfei.hours_worked)\n",
    "\n",
    "# # Display all three line plots\n",
    "# plt.show()"
   ]
  },
  {
   "cell_type": "markdown",
   "metadata": {},
   "source": [
    "One of the officers was removed from the investigation on Wednesday because of an emergency at a different station house. That officer did not return on Thursday or Friday. Which color line represents that officer?\n",
    "- orange"
   ]
  },
  {
   "cell_type": "markdown",
   "metadata": {},
   "source": [
    "# Adding a legend"
   ]
  },
  {
   "cell_type": "markdown",
   "metadata": {},
   "source": [
    "Deshaun created a plot of data from the DataFrames `deshaun`, `mengfei`, and `aditya` in the previous exercise. Now he wants to add a legend to distinguish the three lines."
   ]
  },
  {
   "cell_type": "code",
   "execution_count": 3,
   "metadata": {},
   "outputs": [],
   "source": [
    "# # Officer Deshaun\n",
    "# plt.plot(deshaun.day_of_week, deshaun.hours_worked, label='Deshaun')\n",
    "\n",
    "# # Add a label to Aditya's plot\n",
    "# plt.plot(aditya.day_of_week, aditya.hours_worked, label='Aditya')\n",
    "\n",
    "# # Add a label to Mengfei's plot\n",
    "# plt.plot(mengfei.day_of_week, mengfei.hours_worked, label='Mengfei')\n",
    "\n",
    "# # Add a command to make the legend display\n",
    "# plt.legend()\n",
    "\n",
    "# # Display plot\n",
    "# plt.show()"
   ]
  },
  {
   "cell_type": "markdown",
   "metadata": {},
   "source": [
    "One of the officers did not start working on the case until Wednesday. Which officer?\n",
    "- Mengfei"
   ]
  },
  {
   "cell_type": "markdown",
   "metadata": {},
   "source": [
    "# Adding labels"
   ]
  },
  {
   "cell_type": "markdown",
   "metadata": {},
   "source": [
    "If we give a chart with no labels to Officer Deshaun's supervisor, she won't know what the lines represent.\n",
    "\n",
    "We need to add labels to Officer Deshaun's plot of hours worked."
   ]
  },
  {
   "cell_type": "code",
   "execution_count": 4,
   "metadata": {},
   "outputs": [],
   "source": [
    "# # Lines\n",
    "# plt.plot(deshaun.day_of_week, deshaun.hours_worked, label='Deshaun')\n",
    "# plt.plot(aditya.day_of_week, aditya.hours_worked, label='Aditya')\n",
    "# plt.plot(mengfei.day_of_week, mengfei.hours_worked, label='Mengfei')\n",
    "\n",
    "# # Add a title\n",
    "# plt.title(\"Working Hours\")\n",
    "\n",
    "# # Add y-axis label\n",
    "# plt.ylabel(\"Hours Worked\")\n",
    "\n",
    "# # Legend\n",
    "# plt.legend()\n",
    "# # Display plot\n",
    "# plt.show()"
   ]
  },
  {
   "cell_type": "markdown",
   "metadata": {},
   "source": [
    "# Adding floating text"
   ]
  },
  {
   "cell_type": "markdown",
   "metadata": {},
   "source": [
    "Officer Deshaun is examining the number of hours that he worked over the past six months. The number for June is low because he only had data for the first week. Help Deshaun add an annotation to the graph to explain this."
   ]
  },
  {
   "cell_type": "code",
   "execution_count": 5,
   "metadata": {},
   "outputs": [],
   "source": [
    "# # Create plot\n",
    "# plt.plot(six_months.month, six_months.hours_worked)\n",
    "\n",
    "# # Add annotation \"Missing June data\" at (2.5, 80)\n",
    "# plt.text(2.5, 80, \"Missing June data\")\n",
    "\n",
    "# # Display graph\n",
    "# plt.show()"
   ]
  },
  {
   "cell_type": "markdown",
   "metadata": {},
   "source": [
    "# Tracking crime statistics"
   ]
  },
  {
   "cell_type": "markdown",
   "metadata": {},
   "source": [
    "Sergeant Laura wants present this data to her officers, and she wants the image to be as beautiful as possible to effectively tell her data story."
   ]
  },
  {
   "cell_type": "code",
   "execution_count": 6,
   "metadata": {},
   "outputs": [],
   "source": [
    "# # Change the color of Phoenix to `\"DarkCyan\"`\n",
    "# plt.plot(data[\"Year\"], data[\"Phoenix Police Dept\"], label=\"Phoenix\", color = \"DarkCyan\")\n",
    "\n",
    "# # Make the Los Angeles line dotted\n",
    "# plt.plot(data[\"Year\"], data[\"Los Angeles Police Dept\"], label=\"Los Angeles\", linestyle = \":\")\n",
    "\n",
    "# # Add square markers to Philedelphia\n",
    "# plt.plot(data[\"Year\"], data[\"Philadelphia Police Dept\"], label=\"Philadelphia\", marker = \"s\")\n",
    "\n",
    "# # Add a legend\n",
    "# plt.legend()\n",
    "\n",
    "# # Display the plot\n",
    "# plt.show()"
   ]
  },
  {
   "cell_type": "markdown",
   "metadata": {},
   "source": [
    "# Playing with styles"
   ]
  },
  {
   "cell_type": "markdown",
   "metadata": {},
   "source": [
    "Help Sergeant Laura try out a few different style options. Changing the plotting style is a fast way to change the entire look of your plot without having to update individual colors or line styles."
   ]
  },
  {
   "cell_type": "code",
   "execution_count": 7,
   "metadata": {},
   "outputs": [],
   "source": [
    "# # Change the style to fivethirtyeight\n",
    "# plt.style.use(\"fivethirtyeight\")\n",
    "\n",
    "# # Plot lines\n",
    "# plt.plot(data[\"Year\"], data[\"Phoenix Police Dept\"], label=\"Phoenix\")\n",
    "# plt.plot(data[\"Year\"], data[\"Los Angeles Police Dept\"], label=\"Los Angeles\")\n",
    "# plt.plot(data[\"Year\"], data[\"Philadelphia Police Dept\"], label=\"Philadelphia\")\n",
    "\n",
    "# # Add a legend\n",
    "# plt.legend()\n",
    "\n",
    "# # Display the plot\n",
    "# plt.show()"
   ]
  },
  {
   "cell_type": "markdown",
   "metadata": {},
   "source": [
    "- View all styles by typing `print(plt.style.available)` in the console.\n",
    "- Pick one of those styles and see what it looks like."
   ]
  },
  {
   "cell_type": "code",
   "execution_count": 8,
   "metadata": {},
   "outputs": [],
   "source": [
    "# # Choose any of the styles\n",
    "# plt.style.use('tableau-colorblind10')\n",
    "\n",
    "# # Plot lines\n",
    "# plt.plot(data[\"Year\"], data[\"Phoenix Police Dept\"], label=\"Phoenix\")\n",
    "# plt.plot(data[\"Year\"], data[\"Los Angeles Police Dept\"], label=\"Los Angeles\")\n",
    "# plt.plot(data[\"Year\"], data[\"Philadelphia Police Dept\"], label=\"Philadelphia\")\n",
    "\n",
    "# # Add a legend\n",
    "# plt.legend()\n",
    "\n",
    "# # Display the plot\n",
    "# plt.show()"
   ]
  },
  {
   "cell_type": "markdown",
   "metadata": {},
   "source": [
    "# Identifying Bayes' kidnapper"
   ]
  },
  {
   "cell_type": "markdown",
   "metadata": {},
   "source": [
    "We've narrowed the possible kidnappers down to two suspects:\n",
    "\n",
    "Fred Frequentist (suspect1)\n",
    "Gertrude Cox (suspect2)\n",
    "\n",
    "The kidnapper left a long ransom note containing several unusual phrases. Help DataCamp by using a line plot to compare the frequency of letters in the ransom note to samples from the two main suspects.\n",
    "\n",
    "Three DataFrames have been loaded:\n",
    "\n",
    "`ransom` contains the letter frequencies for the ransom note.\n",
    "`suspect1` contains the letter frequencies for the sample from Fred Frequentist.\n",
    "`suspect2` contains the letter frequencies for the sample from Gertrude Cox.\n",
    "Each DataFrame contain two columns letter and frequency."
   ]
  },
  {
   "cell_type": "code",
   "execution_count": 9,
   "metadata": {},
   "outputs": [],
   "source": [
    "# # Plot each line\n",
    "# plt.plot(ransom.letter, ransom.frequency,\n",
    "#          label='Ransom', linestyle=':', color='gray')\n",
    "# plt.plot(suspect1.letter, suspect1.frequency, label='Fred Frequentist')\n",
    "# plt.plot(suspect2.letter, suspect2.frequency, label='Gertrude Cox')\n",
    "\n",
    "# # Add x- and y-labels\n",
    "# plt.xlabel(\"Letter\")\n",
    "# plt.ylabel(\"Frequency\")\n",
    "\n",
    "# # Add a legend\n",
    "# plt.legend()\n",
    "\n",
    "# # Display plot\n",
    "# plt.show()"
   ]
  }
 ],
 "metadata": {
  "kernelspec": {
   "display_name": "Python 3.8.3 ('base')",
   "language": "python",
   "name": "python3"
  },
  "language_info": {
   "codemirror_mode": {
    "name": "ipython",
    "version": 3
   },
   "file_extension": ".py",
   "mimetype": "text/x-python",
   "name": "python",
   "nbconvert_exporter": "python",
   "pygments_lexer": "ipython3",
   "version": "3.8.3"
  },
  "orig_nbformat": 4,
  "vscode": {
   "interpreter": {
    "hash": "dc575bfddb5c8ca4bb6a4f4dcdd32abc104b5fa4177361381c432fff36ce3e46"
   }
  }
 },
 "nbformat": 4,
 "nbformat_minor": 2
}

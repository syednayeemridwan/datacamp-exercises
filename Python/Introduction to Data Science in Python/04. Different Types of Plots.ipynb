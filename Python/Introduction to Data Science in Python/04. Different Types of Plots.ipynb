{
 "cells": [
  {
   "cell_type": "markdown",
   "metadata": {},
   "source": [
    "# Charting cellphone data"
   ]
  },
  {
   "cell_type": "markdown",
   "metadata": {},
   "source": [
    "We know that Freddy Frequentist is the one who kidnapped Bayes the Golden Retriever. Now we need to learn where he is hiding.\n",
    "\n",
    "Our friends at the police station have acquired cell phone data, which gives some of Freddie's locations over the past three weeks. It's stored in the DataFrame cellphone. The x-coordinates are in the column 'x' and the y-coordinates are in the column 'y'."
   ]
  },
  {
   "cell_type": "code",
   "execution_count": 1,
   "metadata": {},
   "outputs": [],
   "source": [
    "# # Explore the data\n",
    "# print(cellphone.head())\n",
    "\n",
    "# # Create a scatter plot of the data from the DataFrame cellphone\n",
    "# plt.scatter(cellphone.x, cellphone.y)\n",
    "\n",
    "# # Add labels\n",
    "# plt.ylabel('Latitude')\n",
    "# plt.xlabel('Longitude')\n",
    "\n",
    "# # Display the plot\n",
    "# plt.show()"
   ]
  },
  {
   "cell_type": "markdown",
   "metadata": {},
   "source": [
    "# Modifying a scatterplot"
   ]
  },
  {
   "cell_type": "markdown",
   "metadata": {},
   "source": [
    "We can change the colors, markers, and transparency of the scatter plot."
   ]
  },
  {
   "cell_type": "code",
   "execution_count": 2,
   "metadata": {},
   "outputs": [],
   "source": [
    "# # Change the transparency to 0.1\n",
    "# plt.scatter(cellphone.x, cellphone.y,\n",
    "#            color='red',\n",
    "#            marker='s',\n",
    "#            alpha =0.1)\n",
    "\n",
    "# # Add labels\n",
    "# plt.ylabel('Latitude')\n",
    "# plt.xlabel('Longitude')\n",
    "\n",
    "# # Display the plot\n",
    "# plt.show()"
   ]
  },
  {
   "cell_type": "markdown",
   "metadata": {},
   "source": [
    "# Build a simple bar chart"
   ]
  },
  {
   "cell_type": "markdown",
   "metadata": {},
   "source": [
    "Officer Deshaun wants to plot the average number of hours worked per week for him and his coworkers. He has stored the hours worked in a DataFrame called hours, which has columns officer and avg_hours_worked. Recall that the function plt.bar() takes two arguments: the labels for each bar, and the height of each bar."
   ]
  },
  {
   "cell_type": "code",
   "execution_count": 3,
   "metadata": {},
   "outputs": [],
   "source": [
    "# # Display the DataFrame hours using print\n",
    "# print(hours)\n",
    "\n",
    "# # Create a bar plot from the DataFrame hours\n",
    "# plt.bar(hours.officer, hours.avg_hours_worked)\n",
    "\n",
    "# # Display the plot\n",
    "# plt.show()"
   ]
  },
  {
   "cell_type": "markdown",
   "metadata": {},
   "source": [
    "Use the column std_hours_worked (the standard deviation of the hours worked) to add error bars to the bar chart."
   ]
  },
  {
   "cell_type": "code",
   "execution_count": 4,
   "metadata": {},
   "outputs": [],
   "source": [
    "# # Display the DataFrame hours using print\n",
    "# print(hours)\n",
    "\n",
    "# # Create a bar plot from the DataFrame hours\n",
    "# plt.bar(hours.officer, hours.avg_hours_worked,\n",
    "#         # Add error bars\n",
    "#         yerr=hours.std_hours_worked)\n",
    "\n",
    "# # Display the plot\n",
    "# plt.show()"
   ]
  },
  {
   "cell_type": "markdown",
   "metadata": {},
   "source": [
    "# Where did the time go?"
   ]
  },
  {
   "cell_type": "markdown",
   "metadata": {},
   "source": [
    "Officer Deshaun wants to compare the hours spent on field work and desk work between him and his colleagues. In this DataFrame, he has split out the average hours worked per week into desk_work and field_work."
   ]
  },
  {
   "cell_type": "code",
   "execution_count": 5,
   "metadata": {},
   "outputs": [],
   "source": [
    "# # Plot the number of hours spent on desk work\n",
    "# plt.bar(hours.officer, hours.desk_work, label='Desk Work')\n",
    "\n",
    "# # Plot the hours spent on field work on top of desk work\n",
    "# plt.bar(hours.officer, hours.field_work, label='Field Work', bottom = hours.desk_work)\n",
    "\n",
    "# # Add a legend\n",
    "# plt.legend()\n",
    "\n",
    "# # Display the plot\n",
    "# plt.show()"
   ]
  },
  {
   "cell_type": "markdown",
   "metadata": {},
   "source": [
    "# Modifying histograms"
   ]
  },
  {
   "cell_type": "markdown",
   "metadata": {},
   "source": [
    "Create a histogram of the column weight from the DataFrame puppies."
   ]
  },
  {
   "cell_type": "code",
   "execution_count": 6,
   "metadata": {},
   "outputs": [],
   "source": [
    "# # Change the number of bins to 50\n",
    "# plt.hist(puppies.weight,\n",
    "#         bins=50)\n",
    "\n",
    "# # Add labels\n",
    "# plt.xlabel('Puppy Weight (lbs)')\n",
    "# plt.ylabel('Number of Puppies')\n",
    "\n",
    "# # Display\n",
    "# plt.show()"
   ]
  },
  {
   "cell_type": "markdown",
   "metadata": {},
   "source": [
    "Create a histogram of selected range (the range to start at 5 and end at 35)"
   ]
  },
  {
   "cell_type": "code",
   "execution_count": 7,
   "metadata": {},
   "outputs": [],
   "source": [
    "# # Change the range to start at 5 and end at 35\n",
    "# plt.hist(puppies.weight,\n",
    "#         range=(5, 35))\n",
    "\n",
    "# # Add labels\n",
    "# plt.xlabel('Puppy Weight (lbs)')\n",
    "# plt.ylabel('Number of Puppies')\n",
    "\n",
    "# # Display\n",
    "# plt.show()"
   ]
  },
  {
   "cell_type": "markdown",
   "metadata": {},
   "source": [
    "# Heroes with histograms"
   ]
  },
  {
   "cell_type": "markdown",
   "metadata": {},
   "source": [
    "We've identified that the kidnapper is Fred Frequentist. Now we need to know where Fred is hiding Bayes.\n",
    "\n",
    "A shoe print at the crime scene contains a specific type of gravel. Based on the distribution of gravel radii, we can determine where the kidnapper recently visited. "
   ]
  },
  {
   "cell_type": "code",
   "execution_count": 8,
   "metadata": {},
   "outputs": [],
   "source": [
    "# # Create a histogram\n",
    "# plt.hist(gravel.radius,\n",
    "#          bins=40,\n",
    "#          range=(2, 8),\n",
    "#          density=True)\n",
    "\n",
    "# # Label plot\n",
    "# plt.xlabel('Gravel Radius (mm)')\n",
    "# plt.ylabel('Frequency')\n",
    "# plt.title('Sample from Shoeprint')\n",
    "\n",
    "# # Display histogram\n",
    "# plt.show()"
   ]
  }
 ],
 "metadata": {
  "kernelspec": {
   "display_name": "Python 3.8.3 ('base')",
   "language": "python",
   "name": "python3"
  },
  "language_info": {
   "codemirror_mode": {
    "name": "ipython",
    "version": 3
   },
   "file_extension": ".py",
   "mimetype": "text/x-python",
   "name": "python",
   "nbconvert_exporter": "python",
   "pygments_lexer": "ipython3",
   "version": "3.8.3"
  },
  "orig_nbformat": 4,
  "vscode": {
   "interpreter": {
    "hash": "dc575bfddb5c8ca4bb6a4f4dcdd32abc104b5fa4177361381c432fff36ce3e46"
   }
  }
 },
 "nbformat": 4,
 "nbformat_minor": 2
}

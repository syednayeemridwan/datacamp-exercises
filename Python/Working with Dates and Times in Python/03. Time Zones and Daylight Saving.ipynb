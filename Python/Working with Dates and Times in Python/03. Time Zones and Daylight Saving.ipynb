{
 "cells": [
  {
   "cell_type": "markdown",
   "metadata": {},
   "source": [
    "# Creating timezone aware datetimes"
   ]
  },
  {
   "cell_type": "markdown",
   "metadata": {},
   "source": [
    "In this exercise, you will practice setting timezones manually."
   ]
  },
  {
   "cell_type": "code",
   "execution_count": 1,
   "metadata": {},
   "outputs": [],
   "source": [
    "# # Import datetime, timezone\n",
    "# from datetime import datetime, timezone\n",
    "\n",
    "# # October 1, 2017 at 15:26:26, UTC\n",
    "# dt = datetime(2017, 10, 1, 15, 26, 26, tzinfo=timezone.utc)\n",
    "\n",
    "# # Print results\n",
    "# print(dt.isoformat())"
   ]
  },
  {
   "cell_type": "code",
   "execution_count": 2,
   "metadata": {},
   "outputs": [],
   "source": [
    "# # Import datetime, timedelta, timezone\n",
    "# from datetime import datetime, timedelta, timezone\n",
    "\n",
    "# # Create a timezone for Pacific Standard Time, or UTC-8\n",
    "# pst = timezone(timedelta(hours=-8))\n",
    "\n",
    "# # October 1, 2017 at 15:26:26, UTC-8\n",
    "# dt = datetime(2017, 10, 1, 15, 26, 26, tzinfo=pst)\n",
    "\n",
    "# # Print results\n",
    "# print(dt.isoformat())"
   ]
  },
  {
   "cell_type": "code",
   "execution_count": 3,
   "metadata": {},
   "outputs": [],
   "source": [
    "# # Import datetime, timedelta, timezone\n",
    "# from datetime import datetime, timedelta, timezone\n",
    "\n",
    "# # Create a timezone for Australian Eastern Daylight Time, or UTC+11\n",
    "# aedt = timezone(timedelta(hours = 11))\n",
    "\n",
    "# # October 1, 2017 at 15:26:26, UTC+11\n",
    "# dt = datetime(2017, 10, 1, 15, 26, 26, tzinfo=aedt)\n",
    "\n",
    "# # Print results\n",
    "# print(dt.isoformat())"
   ]
  },
  {
   "cell_type": "markdown",
   "metadata": {},
   "source": [
    "# Setting timezones"
   ]
  },
  {
   "cell_type": "markdown",
   "metadata": {},
   "source": [
    "Now that you have the hang of setting timezones one at a time, let's look at setting them"
   ]
  },
  {
   "cell_type": "code",
   "execution_count": 4,
   "metadata": {},
   "outputs": [],
   "source": [
    "# # Create a timezone object corresponding to UTC-4\n",
    "# edt = timezone(timedelta(hours = -4))\n",
    "\n",
    "# # Loop over trips, updating the start and end datetimes to be in UTC-4\n",
    "# for trip in onebike_datetimes[:10]:\n",
    "#   # Update trip['start'] and trip['end']\n",
    "#   trip['start'] = trip['start'].replace(tzinfo = edt)\n",
    "#   trip['end'] = trip['end'].replace(tzinfo = edt)"
   ]
  },
  {
   "cell_type": "markdown",
   "metadata": {},
   "source": [
    "# What time did the bike leave in UTC?"
   ]
  },
  {
   "cell_type": "markdown",
   "metadata": {},
   "source": [
    "Having set the timezone for the first ten rides that W20529 took, let's see what time the bike left in UTC."
   ]
  },
  {
   "cell_type": "code",
   "execution_count": 5,
   "metadata": {},
   "outputs": [],
   "source": [
    "# # Loop over the trips\n",
    "# for trip in onebike_datetimes[:10]:\n",
    "#   # Pull out the start\n",
    "#   dt = trip['start']\n",
    "#   # Move dt to be in UTC\n",
    "#   dt = dt.astimezone(timezone.utc)\n",
    "  \n",
    "#   # Print the start time in UTC\n",
    "#   print('Original:', trip['start'], '| UTC:', dt.isoformat())"
   ]
  },
  {
   "cell_type": "markdown",
   "metadata": {},
   "source": [
    "# Putting the bike trips into the right time zone"
   ]
  },
  {
   "cell_type": "markdown",
   "metadata": {},
   "source": [
    "Instead of setting the timezones for W20529 by hand, let's assign them to their IANA timezone: 'America/New_York'. Since we know their political jurisdiction, we don't need to look up their UTC offset. Python will do that for us."
   ]
  },
  {
   "cell_type": "code",
   "execution_count": 6,
   "metadata": {},
   "outputs": [],
   "source": [
    "# # Import tz\n",
    "# from dateutil import tz\n",
    "\n",
    "# # Create a timezone object for Eastern Time\n",
    "# et = tz.gettz('America/New_York')\n",
    "\n",
    "# # Loop over trips, updating the datetimes to be in Eastern Time\n",
    "# for trip in onebike_datetimes[:10]:\n",
    "#   # Update trip['start'] and trip['end']\n",
    "#   trip['start'] = trip['start'].replace(tzinfo = et)\n",
    "#   trip['end'] = trip['end'].replace(tzinfo = et)"
   ]
  },
  {
   "cell_type": "markdown",
   "metadata": {},
   "source": [
    "# What time did the bike leave? (Global edition)"
   ]
  },
  {
   "cell_type": "markdown",
   "metadata": {},
   "source": [
    "When you need to move a datetime from one timezone into another, use .astimezone() and tz. Often you will be moving things into UTC, but for fun let's try moving things from 'America/New_York' into a few different time zones."
   ]
  },
  {
   "cell_type": "code",
   "execution_count": 7,
   "metadata": {},
   "outputs": [],
   "source": [
    "# # Create the timezone object\n",
    "# uk = tz.gettz('Europe/London')\n",
    "\n",
    "# # Pull out the start of the first trip\n",
    "# local = onebike_datetimes[0]['start']\n",
    "\n",
    "# # What time was it in the UK?\n",
    "# notlocal = local.astimezone(uk)\n",
    "\n",
    "# # Print them out and see the difference\n",
    "# print(local.isoformat())\n",
    "# print(notlocal.isoformat())"
   ]
  },
  {
   "cell_type": "code",
   "execution_count": 8,
   "metadata": {},
   "outputs": [],
   "source": [
    "# # Create the timezone object\n",
    "# ist = tz.gettz('Asia/Kolkata')\n",
    "\n",
    "# # Pull out the start of the first trip\n",
    "# local = onebike_datetimes[0]['start']\n",
    "\n",
    "# # What time was it in India?\n",
    "# notlocal = local.astimezone(ist)\n",
    "\n",
    "# # Print them out and see the difference\n",
    "# print(local.isoformat())\n",
    "# print(notlocal.isoformat())"
   ]
  },
  {
   "cell_type": "code",
   "execution_count": 9,
   "metadata": {},
   "outputs": [],
   "source": [
    "# # Create the timezone object\n",
    "# sm = tz.gettz('Pacific/Apia')\n",
    "\n",
    "# # Pull out the start of the first trip\n",
    "# local = onebike_datetimes[0]['start']\n",
    "\n",
    "# # What time was it in Samoa?\n",
    "# notlocal = local.astimezone(sm)\n",
    "\n",
    "# # Print them out and see the difference\n",
    "# print(local.isoformat())\n",
    "# print(notlocal.isoformat())"
   ]
  },
  {
   "cell_type": "markdown",
   "metadata": {},
   "source": [
    "# How many hours elapsed around daylight saving?"
   ]
  },
  {
   "cell_type": "markdown",
   "metadata": {},
   "source": [
    "Since our bike data takes place in the fall, you'll have to do something else to learn about the start of daylight savings time.\n",
    "\n",
    "Let's look at March 12, 2017, in the Eastern United States, when Daylight Saving kicked in at 2 AM."
   ]
  },
  {
   "cell_type": "code",
   "execution_count": 10,
   "metadata": {},
   "outputs": [],
   "source": [
    "# # Import datetime, timedelta, tz, timezone\n",
    "# from datetime import datetime, timedelta, timezone\n",
    "# from dateutil import tz\n",
    "\n",
    "# # Start on March 12, 2017, midnight, then add 6 hours\n",
    "# start = datetime(2017, 3, 12, tzinfo = tz.gettz('America/New_York'))\n",
    "# end = start + timedelta(hours=6)\n",
    "# print(start.isoformat() + \" to \" + end.isoformat())\n",
    "\n",
    "# # How many hours have elapsed?\n",
    "# print((end - start).total_seconds()/(60*60))\n",
    "\n",
    "# # What if we move to UTC?\n",
    "# print((end.astimezone(timezone.utc) - start.astimezone(timezone.utc))\\\n",
    "#       .total_seconds()/(60*60))"
   ]
  },
  {
   "cell_type": "markdown",
   "metadata": {},
   "source": [
    "# March 29, throughout a decade"
   ]
  },
  {
   "cell_type": "markdown",
   "metadata": {},
   "source": [
    "Daylight Saving rules are complicated: they're different in different places, they change over time, and they usually start on a Sunday (and so they move around the calendar).\n",
    "\n",
    "For example, in the United Kingdom, as of the time this lesson was written, Daylight Saving begins on the last Sunday in March. Let's look at the UTC offset for March 29, at midnight, for the years 2000 to 2010."
   ]
  },
  {
   "cell_type": "code",
   "execution_count": 11,
   "metadata": {},
   "outputs": [],
   "source": [
    "# # Import datetime and tz\n",
    "# from datetime import datetime\n",
    "# from dateutil import tz\n",
    "\n",
    "# # Create starting date\n",
    "# dt = datetime(2000, 3, 29, tzinfo = tz.gettz('Europe/London'))\n",
    "\n",
    "# # Loop over the dates, replacing the year, and print the ISO timestamp\n",
    "# for y in range(2000, 2011):\n",
    "#   print(dt.replace(year=y).isoformat())"
   ]
  },
  {
   "cell_type": "markdown",
   "metadata": {},
   "source": [
    "# Finding ambiguous datetimes"
   ]
  },
  {
   "cell_type": "markdown",
   "metadata": {},
   "source": [
    " we saw something anomalous in our bike trip duration data. Let's see if we can identify what the problem might be."
   ]
  },
  {
   "cell_type": "code",
   "execution_count": 12,
   "metadata": {},
   "outputs": [],
   "source": [
    "# # Loop over trips\n",
    "# for trip in onebike_datetimes:\n",
    "#   # Rides with ambiguous start\n",
    "#   if tz.datetime_ambiguous(trip['start']):\n",
    "#     print(\"Ambiguous start at \" + str(trip['start']))\n",
    "#   # Rides with ambiguous end\n",
    "#   if tz.datetime_ambiguous(trip['end']):\n",
    "#     print(\"Ambiguous end at \" + str(trip['end']))"
   ]
  },
  {
   "cell_type": "markdown",
   "metadata": {},
   "source": [
    "# Cleaning daylight saving data with fold"
   ]
  },
  {
   "cell_type": "markdown",
   "metadata": {},
   "source": [
    "As we've just discovered, there is a ride in our data set which is being messed up by a Daylight Savings shift. Let's clean up the data set so we actually have a correct minimum ride length. We can use the fact that we know the end of the ride happened after the beginning to fix up the duration messed up by the shift out of Daylight Savings.\n",
    "\n",
    "Since Python does not handle `tz.enfold()` when doing arithmetic, we must put our datetime objects into UTC, where ambiguities have been resolved."
   ]
  },
  {
   "cell_type": "code",
   "execution_count": 13,
   "metadata": {},
   "outputs": [],
   "source": [
    "# trip_durations = []\n",
    "# for trip in onebike_datetimes:\n",
    "#   # When the start is later than the end, set the fold to be 1\n",
    "#   if trip['start'] > trip['end'] :\n",
    "#     trip['end'] = tz.enfold(trip['end'])\n",
    "#   # Convert to UTC\n",
    "#   start = trip['start'].astimezone(timezone.utc)\n",
    "#   end = trip['end'].astimezone(timezone.utc)\n",
    "\n",
    "#   # Subtract the difference\n",
    "#   trip_length_seconds = (end-start).total_seconds()\n",
    "#   trip_durations.append(trip_length_seconds)\n",
    "\n",
    "# # Take the shortest trip duration\n",
    "# print(\"Shortest trip: \" + str(min(trip_durations)))"
   ]
  }
 ],
 "metadata": {
  "kernelspec": {
   "display_name": "Python 3.8.3 ('base')",
   "language": "python",
   "name": "python3"
  },
  "language_info": {
   "codemirror_mode": {
    "name": "ipython",
    "version": 3
   },
   "file_extension": ".py",
   "mimetype": "text/x-python",
   "name": "python",
   "nbconvert_exporter": "python",
   "pygments_lexer": "ipython3",
   "version": "3.8.3"
  },
  "orig_nbformat": 4,
  "vscode": {
   "interpreter": {
    "hash": "dc575bfddb5c8ca4bb6a4f4dcdd32abc104b5fa4177361381c432fff36ce3e46"
   }
  }
 },
 "nbformat": 4,
 "nbformat_minor": 2
}

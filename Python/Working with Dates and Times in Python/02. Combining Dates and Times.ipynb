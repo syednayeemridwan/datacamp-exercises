{
 "cells": [
  {
   "cell_type": "markdown",
   "metadata": {},
   "source": [
    "# Creating datetimes by hand"
   ]
  },
  {
   "cell_type": "markdown",
   "metadata": {},
   "source": [
    "Often you create datetime objects based on outside data. Sometimes though, you want to create a datetime object from scratch."
   ]
  },
  {
   "cell_type": "code",
   "execution_count": 2,
   "metadata": {},
   "outputs": [],
   "source": [
    "# # Import datetime\n",
    "# from datetime import datetime\n",
    "\n",
    "# # Create a datetime object\n",
    "# dt = datetime(2017, 12, 31, 15, 19, 13)\n",
    "\n",
    "# # Replace the year with 1917\n",
    "# dt_old = dt.replace(year=1917)\n",
    "\n",
    "# # Print the results in ISO 8601 format\n",
    "# print(dt_old)"
   ]
  },
  {
   "cell_type": "markdown",
   "metadata": {},
   "source": [
    "# Counting events before and after noon"
   ]
  },
  {
   "cell_type": "markdown",
   "metadata": {},
   "source": [
    "There is a list. Each element of the list is a dictionary with two entries: start is a datetime object corresponding to the start of a trip (when a bike is removed from the dock) and end is a datetime object corresponding to the end of a trip (when a bike is put back into a dock)."
   ]
  },
  {
   "cell_type": "code",
   "execution_count": 3,
   "metadata": {},
   "outputs": [],
   "source": [
    "# # Create dictionary to hold results\n",
    "# trip_counts = {'AM': 0, 'PM': 0}\n",
    "  \n",
    "# # Loop over all trips\n",
    "# for trip in onebike_datetimes:\n",
    "#   # Check to see if the trip starts before noon\n",
    "#   if trip['start'].hour < 12:\n",
    "#     # Increment the counter for before noon\n",
    "#     trip_counts['AM'] += 1\n",
    "#   else:\n",
    "#     # Increment the counter for after noon\n",
    "#     trip_counts['PM'] += 1\n",
    "  \n",
    "# print(trip_counts)"
   ]
  },
  {
   "cell_type": "markdown",
   "metadata": {},
   "source": [
    "# Turning strings into datetimes"
   ]
  },
  {
   "cell_type": "markdown",
   "metadata": {},
   "source": [
    "When you download data from the Internet, dates and times usually come to you as strings. Often the first step is to turn those strings into `datetime` objects."
   ]
  },
  {
   "cell_type": "code",
   "execution_count": 5,
   "metadata": {},
   "outputs": [],
   "source": [
    "# # Import the datetime class\n",
    "# from datetime import datetime\n",
    "\n",
    "# # Starting string, in YYYY-MM-DD HH:MM:SS format\n",
    "# s = '2017-02-03 00:00:01'\n",
    "\n",
    "# # Write a format string to parse s\n",
    "# fmt = '%Y-%m-%d %H:%M:%S'\n",
    "\n",
    "# # Create a datetime object d\n",
    "# d = datetime.strptime(s, fmt)\n",
    "\n",
    "# # Print d\n",
    "# print(d)"
   ]
  },
  {
   "cell_type": "code",
   "execution_count": 6,
   "metadata": {},
   "outputs": [],
   "source": [
    "# # Import the datetime class\n",
    "# from datetime import datetime\n",
    "\n",
    "# # Starting string, in YYYY-MM-DD format\n",
    "# s = '2030-10-15'\n",
    "\n",
    "# # Write a format string to parse s\n",
    "# fmt = '%Y-%m-%d'\n",
    "\n",
    "# # Create a datetime object d\n",
    "# d = datetime.strptime(s, fmt)\n",
    "\n",
    "# # Print d\n",
    "# print(d)"
   ]
  },
  {
   "cell_type": "code",
   "execution_count": 7,
   "metadata": {},
   "outputs": [],
   "source": [
    "# # Import the datetime class\n",
    "# from datetime import datetime\n",
    "\n",
    "# # Starting string, in MM/DD/YYYY HH:MM:SS format\n",
    "# s = '12/15/1986 08:00:00'\n",
    "\n",
    "# # Write a format string to parse s\n",
    "# fmt = '%m/%d/%Y %H:%M:%S'\n",
    "\n",
    "# # Create a datetime object d\n",
    "# d = datetime.strptime(s, fmt)\n",
    "\n",
    "# # Print d\n",
    "# print(d)"
   ]
  },
  {
   "cell_type": "markdown",
   "metadata": {},
   "source": [
    "# Parsing pairs of strings as datetimes"
   ]
  },
  {
   "cell_type": "markdown",
   "metadata": {},
   "source": [
    "For this exercise, you're going to go one step back in the data cleaning pipeline and work with the strings that the data started as."
   ]
  },
  {
   "cell_type": "code",
   "execution_count": 1,
   "metadata": {},
   "outputs": [],
   "source": [
    "# # Write down the format string\n",
    "# fmt = \"%Y-%m-%d %H:%M:%S\"\n",
    "\n",
    "# # Initialize a list for holding the pairs of datetime objects\n",
    "# onebike_datetimes = []\n",
    "\n",
    "# # Loop over all trips\n",
    "# for (start, end) in onebike_datetime_strings:\n",
    "#   trip = {'start': datetime.strptime(start, fmt),\n",
    "#           'end': datetime.strptime(end, fmt)}\n",
    "  \n",
    "#   # Append the trip\n",
    "#   onebike_datetimes.append(trip)"
   ]
  },
  {
   "cell_type": "markdown",
   "metadata": {},
   "source": [
    "# Recreating ISO format with strftime()"
   ]
  },
  {
   "cell_type": "markdown",
   "metadata": {},
   "source": [
    "you used `strftime()` to create strings from date objects. Now that you know about datetime objects, let's practice doing something similar.\n",
    "\n",
    "Re-create the `.isoformat()` method, using `.strftime()`"
   ]
  },
  {
   "cell_type": "code",
   "execution_count": 2,
   "metadata": {},
   "outputs": [],
   "source": [
    "# # Import datetime\n",
    "# from datetime import datetime\n",
    "\n",
    "# # Pull out the start of the first trip\n",
    "# first_start = onebike_datetimes[0]['start']\n",
    "\n",
    "# # Format to feed to strftime()\n",
    "# fmt = \"%Y-%m-%dT%H:%M:%S\"\n",
    "\n",
    "# # Print out date with .isoformat(), then with .strftime() to compare\n",
    "# print(first_start.isoformat())\n",
    "# print(first_start.strftime(fmt))"
   ]
  },
  {
   "cell_type": "markdown",
   "metadata": {},
   "source": [
    "# Unix timestamps"
   ]
  },
  {
   "cell_type": "markdown",
   "metadata": {},
   "source": [
    "Datetimes are sometimes stored as Unix timestamps: the number of seconds since January 1, 1970. This is especially common with computer infrastructure, like the log files that websites keep when they get visitors."
   ]
  },
  {
   "cell_type": "code",
   "execution_count": 3,
   "metadata": {},
   "outputs": [],
   "source": [
    "# # Import datetime\n",
    "# from datetime import datetime\n",
    "\n",
    "# # Starting timestamps\n",
    "# timestamps = [1514665153, 1514664543]\n",
    "\n",
    "# # Datetime objects\n",
    "# dts = []\n",
    "\n",
    "# # Loop\n",
    "# for ts in timestamps:\n",
    "#   dts.append(datetime.fromtimestamp(ts))\n",
    "  \n",
    "# # Print results\n",
    "# print(dts)"
   ]
  },
  {
   "cell_type": "markdown",
   "metadata": {},
   "source": [
    "# Turning pairs of datetimes into durations"
   ]
  },
  {
   "cell_type": "markdown",
   "metadata": {},
   "source": [
    "When working with timestamps, we often want to know how much time has elapsed between events. Thankfully, we can use `datetime` arithmetic to ask Python to do the heavy lifting for us so we don't need to worry about day, month, or year boundaries."
   ]
  },
  {
   "cell_type": "code",
   "execution_count": 4,
   "metadata": {},
   "outputs": [],
   "source": [
    "# # Initialize a list for all the trip durations\n",
    "# onebike_durations = []\n",
    "\n",
    "# for trip in onebike_datetimes:\n",
    "#   # Create a timedelta object corresponding to the length of the trip\n",
    "#   trip_duration = trip['end'] - trip['start']\n",
    "  \n",
    "#   # Get the total elapsed seconds in trip_duration\n",
    "#   trip_length_seconds = trip_duration.total_seconds()\n",
    "  \n",
    "#   # Append the results to our list\n",
    "#   onebike_durations.append(trip_length_seconds)"
   ]
  },
  {
   "cell_type": "markdown",
   "metadata": {},
   "source": [
    "# Average trip time"
   ]
  },
  {
   "cell_type": "markdown",
   "metadata": {},
   "source": [
    "We can use the built-in Python functions sum() and len() to make calculations."
   ]
  },
  {
   "cell_type": "code",
   "execution_count": 5,
   "metadata": {},
   "outputs": [],
   "source": [
    "# # What was the total duration of all trips?\n",
    "# total_elapsed_time = sum(onebike_durations)\n",
    "\n",
    "# # What was the total number of trips?\n",
    "# number_of_trips = len(onebike_durations)\n",
    "  \n",
    "# # Divide the total duration by the number of trips\n",
    "# print(total_elapsed_time / number_of_trips)"
   ]
  },
  {
   "cell_type": "markdown",
   "metadata": {},
   "source": [
    "# The long and the short of why time is hard"
   ]
  },
  {
   "cell_type": "markdown",
   "metadata": {},
   "source": [
    "Out of 291 trips taken by W20529, how long was the longest? How short was the shortest? "
   ]
  },
  {
   "cell_type": "code",
   "execution_count": 6,
   "metadata": {},
   "outputs": [],
   "source": [
    "# # Calculate shortest and longest trips\n",
    "# shortest_trip = min(onebike_durations)\n",
    "# longest_trip = max(onebike_durations)\n",
    "\n",
    "# # Print out the results\n",
    "# print(\"The shortest trip was \" + str(shortest_trip) + \" seconds\")\n",
    "# print(\"The longest trip was \" + str(longest_trip) + \" seconds\")"
   ]
  }
 ],
 "metadata": {
  "kernelspec": {
   "display_name": "Python 3.8.11 ('env_py')",
   "language": "python",
   "name": "python3"
  },
  "language_info": {
   "codemirror_mode": {
    "name": "ipython",
    "version": 3
   },
   "file_extension": ".py",
   "mimetype": "text/x-python",
   "name": "python",
   "nbconvert_exporter": "python",
   "pygments_lexer": "ipython3",
   "version": "3.8.11"
  },
  "orig_nbformat": 4,
  "vscode": {
   "interpreter": {
    "hash": "1e949e87132dd83f1a7623eb88007e3532b03b66b77111be347aa4a383049722"
   }
  }
 },
 "nbformat": 4,
 "nbformat_minor": 2
}

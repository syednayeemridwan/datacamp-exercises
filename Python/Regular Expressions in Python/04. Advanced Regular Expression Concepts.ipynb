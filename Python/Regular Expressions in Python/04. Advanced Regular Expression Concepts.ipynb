{
 "cells": [
  {
   "cell_type": "markdown",
   "metadata": {},
   "source": [
    "# Try another name"
   ]
  },
  {
   "cell_type": "markdown",
   "metadata": {},
   "source": [
    "You noticed that there are email addresses inserted in some tweets. Now, you are curious to find out which is the most common name.\n",
    "\n",
    "You want to extract the first part of the email. E.g. if you have the email marysmith90@gmail.com, you are only interested in marysmith90.\n",
    "You need to match the entire expression. So you make sure to extract only names present in emails. Also, you are only interested in names containing upper (e.g. A,B, Z) or lowercase letters (e.g. a, d, z) and numbers."
   ]
  },
  {
   "cell_type": "code",
   "execution_count": 1,
   "metadata": {},
   "outputs": [],
   "source": [
    "# # Write a regex that matches email\n",
    "# regex_email = r\"\\s([a-zA-Z0-9]+)@\\S+\"\n",
    "\n",
    "# for tweet in sentiment_analysis:\n",
    "#     # Find all matches of regex in each tweet\n",
    "#     email_matched = re.findall(regex_email, tweet)\n",
    "\n",
    "#     # Complete the format method to print the results\n",
    "#     print(\"Lists of users found in this tweet: {}\".format(email_matched))"
   ]
  },
  {
   "cell_type": "markdown",
   "metadata": {},
   "source": [
    "# Flying home"
   ]
  },
  {
   "cell_type": "markdown",
   "metadata": {},
   "source": [
    "You are given a dataset with only the email subjects for each of the people traveling.\n",
    "\n",
    "You learn that the text followed a pattern. Here is an example:\n",
    "\n",
    "Here you have your boarding pass `LA4214 AER-CDB 06NOV`.\n",
    "\n",
    "You need to extract the information about the flight:\n",
    "\n",
    "- The two letters indicate the airline (e.g LA),\n",
    "- The 4 numbers are the flight number (e.g. 4214).\n",
    "- The three letters correspond to the departure (e.g AER),\n",
    "- The destination (CDB),\n",
    "- The date (06NOV) of the flight.\n",
    "- All letters are always uppercase."
   ]
  },
  {
   "cell_type": "code",
   "execution_count": 2,
   "metadata": {},
   "outputs": [],
   "source": [
    "# # Import re\n",
    "# import re\n",
    "\n",
    "# # Write regex to capture information of the flight\n",
    "# regex = r\"([A-Z]{2})(\\d{4})\\s([A-Z]{3})-([A-Z]{3})\\s(\\d{2}[A-Z]{3})\"\n",
    "\n",
    "# # Find all matches of the flight information\n",
    "# flight_matches = re.findall(regex, flight)\n",
    "    \n",
    "# #Print the matches\n",
    "# print(\"Airline: {} Flight number: {}\".format(flight_matches[0][0], flight_matches[0][1]))\n",
    "# print(\"Departure: {} Destination: {}\".format(flight_matches[0][2], flight_matches[0][3]))\n",
    "# print(\"Date: {}\".format(flight_matches[0][4]))"
   ]
  },
  {
   "cell_type": "markdown",
   "metadata": {},
   "source": [
    "# Love it!"
   ]
  },
  {
   "cell_type": "markdown",
   "metadata": {},
   "source": [
    "You plan to find all the sentences that contain the words love, like, or enjoy and capture that word. You will limit the tweets by focusing on those that contain the words movie or concert by keeping the word in another group. You will also save the movie or concert name.\n",
    "\n",
    "For example, if you have the sentence: I love the movie Avengers. You match and capture love. You need to match and capture movie. Afterwards, you match and capture anything until the dot."
   ]
  },
  {
   "cell_type": "code",
   "execution_count": 3,
   "metadata": {},
   "outputs": [],
   "source": [
    "# # Write a regex that matches sentences with the optional words\n",
    "# regex_positive = r\"(love|like|enjoy).+?the\\s(movie|concert)\\s(.+?)\\.\"\n",
    "\n",
    "# for tweet in sentiment_analysis:\n",
    "# \t# Find all matches of regex in tweet\n",
    "#     positive_matches = re.findall(regex_positive, tweet)\n",
    "    \n",
    "#     # Complete format to print out the results\n",
    "#     print(\"Positive comments found {}\".format(positive_matches))"
   ]
  },
  {
   "cell_type": "markdown",
   "metadata": {},
   "source": [
    "# Ugh! Not for me!"
   ]
  },
  {
   "cell_type": "markdown",
   "metadata": {},
   "source": [
    "Now you want to do it for negative tweets. Your plan now is to find sentences that contain the words hate, dislike or disapprove. You will again save the movie or concert name. You will get the tweet containing the words movie or concert but this time, you don't plan to save the word.\n",
    "\n",
    "For example, if you have the sentence: I dislike the movie Avengers a lot.. You match and capture dislike. You will match but not capture the word movie. Afterwards, you match and capture anything until the dot."
   ]
  },
  {
   "cell_type": "code",
   "execution_count": 4,
   "metadata": {},
   "outputs": [],
   "source": [
    "# # Write a regex that matches sentences with the optional words\n",
    "# regex_negative = r\"(hate|dislike|disapprove).+?(?:movie|concert)\\s(.+?)\\.\"\n",
    "\n",
    "# for tweet in sentiment_analysis:\n",
    "# \t# Find all matches of regex in tweet\n",
    "#     negative_matches = re.findall(regex_negative, tweet)\n",
    "    \n",
    "#     # Complete format to print out the results\n",
    "#     print(\"Negative comments found {}\".format(negative_matches))"
   ]
  },
  {
   "cell_type": "markdown",
   "metadata": {},
   "source": [
    "# Parsing PDF files"
   ]
  },
  {
   "cell_type": "markdown",
   "metadata": {},
   "source": [
    "Your company gave you some PDF files of signed contracts. The goal of the project is to create a database with the information you parse from them. Three of these columns should correspond to the day, month, and year when the contract was signed.\n",
    "The dates appear as `Signed on 05/24/2016` (05 indicating the month, 24 the day). You decide to use capturing groups to extract this information. Also, you would like to retrieve that information so you can store it separately in different variables.\n",
    "\n",
    "You decide to do a proof of concept."
   ]
  },
  {
   "cell_type": "code",
   "execution_count": 5,
   "metadata": {},
   "outputs": [],
   "source": [
    "# # Write regex and scan contract to capture the dates described\n",
    "# regex_dates = r\"Signed\\son\\s(\\d{2})/(\\d{2})/(\\d{4})\"\n",
    "# dates = re.search(regex_dates, contract)\n",
    "\n",
    "# # Assign to each key the corresponding match\n",
    "# signature = {\n",
    "# \t\"day\": dates.group(2),\n",
    "# \t\"month\": dates.group(1),\n",
    "# \t\"year\": dates.group(3)\n",
    "# }\n",
    "# # Complete the format method to print-out\n",
    "# print(\"Our first contract is dated back to {data[year]}. Particularly, the day {data[day]} of the month {data[month]}.\".format(data=signature))"
   ]
  },
  {
   "cell_type": "markdown",
   "metadata": {},
   "source": [
    "# Close the tag, please!"
   ]
  },
  {
   "cell_type": "markdown",
   "metadata": {},
   "source": [
    "The company is going to develop a new product. It will help developers automatically check the code they are writing. You need to write a short script for checking that every HTML tag that is open has its proper closure.\n",
    "\n",
    "You have an example of a string containing HTML tags:\n",
    "\n",
    "`<title>The Data Science Company</title>`\n",
    "\n",
    "You learn that an opening HTML tag is always at the beginning of the string. It appears inside <>. A closing tag also appears inside <>, but it is preceded by /.\n",
    "\n",
    "You also remember that capturing groups can be referenced using numbers, e.g `\\4`."
   ]
  },
  {
   "cell_type": "code",
   "execution_count": 6,
   "metadata": {},
   "outputs": [],
   "source": [
    "# for string in html_tags:\n",
    "#     # Complete the regex and find if it matches a closed HTML tags\n",
    "#     match_tag =  re.match(r\"<(\\w+)>.*?</\\1>\", string)\n",
    " \n",
    "#     if match_tag:\n",
    "#         # If it matches print the first group capture\n",
    "#         print(\"Your tag {} is closed\".format(match_tag.group(1))) \n",
    "#     else:\n",
    "#         # If it doesn't match capture only the tag \n",
    "#         notmatch_tag = re.match(r\"<(\\w+)>\", string)\n",
    "#         # Print the first group capture\n",
    "#         print(\"Close your {} tag!\".format(notmatch_tag.group(1)))"
   ]
  },
  {
   "cell_type": "markdown",
   "metadata": {},
   "source": [
    "# Reeepeated characters"
   ]
  },
  {
   "cell_type": "markdown",
   "metadata": {},
   "source": [
    "Your next task is to replace elongated words that appear in the tweets. We define an elongated word as a word that contains a repeating character twice or more times. e.g. \"Awesoooome\"."
   ]
  },
  {
   "cell_type": "code",
   "execution_count": 7,
   "metadata": {},
   "outputs": [],
   "source": [
    "# # Complete the regex to match an elongated word\n",
    "# regex_elongated = r\"\\w*(\\w)\\1\\w*\"\n",
    "\n",
    "# for tweet in sentiment_analysis:\n",
    "# \t# Find if there is a match in each tweet \n",
    "# \tmatch_elongated = re.search(regex_elongated, tweet)\n",
    "    \n",
    "# \tif match_elongated:\n",
    "# \t\t# Assign the captured group zero \n",
    "# \t\telongated_word = match_elongated.group(0)\n",
    "        \n",
    "# \t\t# Complete the format method to print the word\n",
    "# \t\tprint(\"Elongated word found: {word}\".format(word=elongated_word))\n",
    "# \telse:\n",
    "# \t\tprint(\"No elongated word found\") "
   ]
  },
  {
   "cell_type": "markdown",
   "metadata": {},
   "source": [
    "# Surrounding words"
   ]
  },
  {
   "cell_type": "markdown",
   "metadata": {},
   "source": [
    "You are interested in the words surrounding python. You want to count how many times a specific words appears right before and after it.\n",
    "\n",
    "Positive lookahead `(?=)` makes sure that first part of the expression is followed by the lookahead expression. Positive lookbehind `(?<=)` returns all matches that are preceded by the specified pattern."
   ]
  },
  {
   "cell_type": "code",
   "execution_count": 9,
   "metadata": {},
   "outputs": [],
   "source": [
    "# # Positive lookahead\n",
    "# look_ahead = re.findall(r\"\\w+(?=\\spython).\", sentiment_analysis)\n",
    "\n",
    "# # Print out\n",
    "# print(look_ahead)\n",
    "\n",
    "# # Positive lookbehind\n",
    "# look_behind = re.findall(r\"(?<=[pP]ython\\s)\\w+\", sentiment_analysis)\n",
    "\n",
    "# # Print out\n",
    "# print(look_behind)"
   ]
  },
  {
   "cell_type": "markdown",
   "metadata": {},
   "source": [
    "# Filtering phone numbers"
   ]
  },
  {
   "cell_type": "markdown",
   "metadata": {},
   "source": [
    "you need to write a script for a cell-phone searcher. It should scan a list of phone numbers and return those that meet certain characteristics.\n",
    "\n",
    "The phone numbers in the list have the structure:\n",
    "\n",
    "- Optional area code: 3 numbers\n",
    "- Prefix: 4 numbers\n",
    "- Line number: 6 numbers\n",
    "- Optional extension: 2 numbers\n",
    "\n",
    "E.g. `654-8764-439434-01`."
   ]
  },
  {
   "cell_type": "code",
   "execution_count": 10,
   "metadata": {},
   "outputs": [],
   "source": [
    "# for phone in cellphones:\n",
    "# \t# Get all phone numbers not preceded by area code\n",
    "# \tnumber = re.findall(r\"(?<!\\d{3}-)\\d{4}-\\d{6}-\\d{2}\", phone)\n",
    "# \tprint(number)\n",
    " \n",
    "#  for phone in cellphones:\n",
    "# \t# Get all phone numbers not followed by optional extension\n",
    "# \tnumber = re.findall(r\"\\d{3}-\\d{4}-\\d{6}(?!-\\d{2})\", phone)\n",
    "# \tprint(number)"
   ]
  }
 ],
 "metadata": {
  "kernelspec": {
   "display_name": "Python 3.8.3 ('base')",
   "language": "python",
   "name": "python3"
  },
  "language_info": {
   "codemirror_mode": {
    "name": "ipython",
    "version": 3
   },
   "file_extension": ".py",
   "mimetype": "text/x-python",
   "name": "python",
   "nbconvert_exporter": "python",
   "pygments_lexer": "ipython3",
   "version": "3.8.3"
  },
  "orig_nbformat": 4,
  "vscode": {
   "interpreter": {
    "hash": "dc575bfddb5c8ca4bb6a4f4dcdd32abc104b5fa4177361381c432fff36ce3e46"
   }
  }
 },
 "nbformat": 4,
 "nbformat_minor": 2
}

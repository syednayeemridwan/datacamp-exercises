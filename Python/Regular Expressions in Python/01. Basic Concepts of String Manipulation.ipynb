{
 "cells": [
  {
   "cell_type": "markdown",
   "metadata": {},
   "source": [
    "# First day!"
   ]
  },
  {
   "cell_type": "markdown",
   "metadata": {},
   "source": [
    "In order to create a function that will scan each movie review, you want to know how many characters every string has and print the result out together with a statement that indicate what the number refers to."
   ]
  },
  {
   "cell_type": "code",
   "execution_count": 2,
   "metadata": {},
   "outputs": [],
   "source": [
    "# # Find characters in movie variable\n",
    "# length_string = len(movie)\n",
    "\n",
    "# # Convert to string\n",
    "# to_string = str(length_string)\n",
    "\n",
    "# # Predefined variable\n",
    "# statement = \"Number of characters in this review:\"\n",
    "\n",
    "# # Concatenate strings and print result\n",
    "# print(statement+\" \"+to_string)"
   ]
  },
  {
   "cell_type": "markdown",
   "metadata": {},
   "source": [
    "# Artificial reviews"
   ]
  },
  {
   "cell_type": "markdown",
   "metadata": {},
   "source": [
    "You want to see if it is possible to artificially create reviews by using the first and last part of one example review and changing a keyword in the middle."
   ]
  },
  {
   "cell_type": "code",
   "execution_count": 3,
   "metadata": {},
   "outputs": [],
   "source": [
    "# # Select the first 32 characters of movie1\n",
    "# first_part = movie1[:32]\n",
    "\n",
    "# # Select from 43rd character to the end of movie1\n",
    "# last_part = movie1[42:]\n",
    "\n",
    "# # Select from 33rd to the 42nd character\n",
    "# middle_part = movie2[32:42]\n",
    "\n",
    "# # Print concatenation and movie2 variable\n",
    "# print(first_part+middle_part+last_part) \n",
    "# print(movie2)"
   ]
  },
  {
   "cell_type": "markdown",
   "metadata": {},
   "source": [
    "# Palindromes"
   ]
  },
  {
   "cell_type": "markdown",
   "metadata": {},
   "source": [
    "A palindrome is a sequence of characters that can be read the same backward as forward, for example: Madam or No lemon, no melon. You realize that some funny movie names can have this characteristic."
   ]
  },
  {
   "cell_type": "code",
   "execution_count": 4,
   "metadata": {},
   "outputs": [],
   "source": [
    "# # Get the word\n",
    "# movie_title = movie[11:30]\n",
    "\n",
    "# # Obtain the palindrome\n",
    "# palindrome = movie_title[::-1]\n",
    "\n",
    "# # Print the word if it's a palindrome\n",
    "# if movie_title == palindrome:\n",
    "# \tprint(movie_title)"
   ]
  },
  {
   "cell_type": "markdown",
   "metadata": {},
   "source": [
    "# Normalizing reviews"
   ]
  },
  {
   "cell_type": "markdown",
   "metadata": {},
   "source": [
    "You need to normalize them and then, count their frequency. Part of the normalization implies converting all the words to lowercase, removing special characters and extracting the root of a word so you count the variants as one."
   ]
  },
  {
   "cell_type": "code",
   "execution_count": 6,
   "metadata": {},
   "outputs": [],
   "source": [
    "# # Convert to lowercase and print the result\n",
    "# movie_lower = movie.lower()\n",
    "# print(movie_lower)\n",
    "\n",
    "# # Remove specified character and print the result\n",
    "# movie_no_sign = movie_lower.strip(\"$\")\n",
    "# print(movie_no_sign)\n",
    "\n",
    "# # Split the string into substrings and print the result\n",
    "# movie_split = movie_no_sign.split()\n",
    "# print(movie_split)\n",
    "\n",
    "# # Select root word and print the result\n",
    "# word_root = movie_split[1][:-1]\n",
    "# print(word_root)"
   ]
  },
  {
   "cell_type": "markdown",
   "metadata": {},
   "source": [
    "# Time to join!"
   ]
  },
  {
   "cell_type": "markdown",
   "metadata": {},
   "source": [
    "While normalizing your text, you noticed that one review had a particular structure. This review ends with the HTML tag `<\\i>` and it has a lot of commas in different places of the sentence. You decide to remove the tag from the end and use the strategy of splitting the string and joining it back again without the commas."
   ]
  },
  {
   "cell_type": "code",
   "execution_count": 7,
   "metadata": {},
   "outputs": [],
   "source": [
    "# # Remove tags happening at the end and print results\n",
    "# movie_tag = movie.rstrip(\"<\\i>\")\n",
    "# print(movie_tag)\n",
    "\n",
    "# # Split the string using commas and print results\n",
    "# movie_no_comma = movie_tag.split(\",\")\n",
    "# print(movie_no_comma)\n",
    "\n",
    "# # Join back together and print results\n",
    "# movie_join = \" \".join(movie_no_comma)\n",
    "# print(movie_join)"
   ]
  },
  {
   "cell_type": "markdown",
   "metadata": {},
   "source": [
    "# Split lines or split the line?"
   ]
  },
  {
   "cell_type": "markdown",
   "metadata": {},
   "source": [
    "You need to read strings from a file in a way that if the file contains strings on different lines, they are stored as separate elements. He also wants you to break the strings into pieces if you see that they contain commas."
   ]
  },
  {
   "cell_type": "code",
   "execution_count": 8,
   "metadata": {},
   "outputs": [],
   "source": [
    "# # Split string at line boundaries\n",
    "# file_split = file.splitlines()\n",
    "\n",
    "# # Print file_split\n",
    "# print(file_split)\n",
    "\n",
    "# # Complete for-loop to split by commas\n",
    "# for substring in file_split:\n",
    "#     substring_split = substring.split(\",\")\n",
    "#     print(substring_split)"
   ]
  },
  {
   "cell_type": "markdown",
   "metadata": {},
   "source": [
    "# Finding a substring"
   ]
  },
  {
   "cell_type": "markdown",
   "metadata": {},
   "source": [
    "There are some repeated, consecutive words occurring between the character at position 37 and the character at position 41. You decide to write a function to find out which movie reviews show this peculiarity, remembering that the ending position you specify is not inclusive. If you detect the word, you also want to change the string by replacing it with only one instance of the word."
   ]
  },
  {
   "cell_type": "code",
   "execution_count": 9,
   "metadata": {},
   "outputs": [],
   "source": [
    "# for movie in movies:\n",
    "#   \t# If actor is not found between character 37 and 41 inclusive\n",
    "#     # Print word not found\n",
    "#     if movie.find(\"actor\", 37, 42) == -1:\n",
    "#         print(\"Word not found\")\n",
    "#     # Count occurrences and replace two with one\n",
    "#     elif movie.count(\"actor\") == 2:  \n",
    "#         print(movie.replace(\"actor actor\", \"actor\"))\n",
    "#     else:\n",
    "#         # Replace three occurrences with one\n",
    "#         print(movie.replace(\"actor actor actor\", \"actor\"))"
   ]
  },
  {
   "cell_type": "markdown",
   "metadata": {},
   "source": [
    "# Where's the word?"
   ]
  },
  {
   "cell_type": "markdown",
   "metadata": {},
   "source": [
    "you want to check if a specific word occurs in the reviews. You noticed earlier a specific pattern in the strings. Now, you want to create a function to check if a word is present between characters with index 12, and 50, remembering that ending position is exclusive, and print out the lowest index where this word occurs. There are two methods to handle this situation. You want to see which one works best."
   ]
  },
  {
   "cell_type": "code",
   "execution_count": 10,
   "metadata": {},
   "outputs": [],
   "source": [
    "# for movie in movies:\n",
    "#   # Find the first occurrence of word\n",
    "#   print(movie.find('money', 12, 51))"
   ]
  },
  {
   "cell_type": "code",
   "execution_count": 11,
   "metadata": {},
   "outputs": [],
   "source": [
    "# for movie in movies:\n",
    "#   try:\n",
    "#     # Find the first occurrence of word\n",
    "#   \tprint(movie.index('money', 12, 51))\n",
    "#   except ValueError:\n",
    "#     print(\"substring not found\")"
   ]
  },
  {
   "cell_type": "markdown",
   "metadata": {},
   "source": [
    "# Replacing negations"
   ]
  },
  {
   "cell_type": "markdown",
   "metadata": {},
   "source": [
    "Some algorithms for prediction do not work well with negations, so a good way to handle this is to remove either not or n't, and to replace the next word by its antonym."
   ]
  },
  {
   "cell_type": "code",
   "execution_count": 13,
   "metadata": {},
   "outputs": [],
   "source": [
    "# # Replace negations \n",
    "# movies_no_negation = movies.replace(\"isn't\", \"is\")\n",
    "\n",
    "# # Replace important\n",
    "# movies_antonym = movies_no_negation.replace(\"important\", \"insignificant\")\n",
    "\n",
    "# # Print out\n",
    "# print(movies_antonym )"
   ]
  }
 ],
 "metadata": {
  "kernelspec": {
   "display_name": "Python 3.8.11 ('env_py')",
   "language": "python",
   "name": "python3"
  },
  "language_info": {
   "codemirror_mode": {
    "name": "ipython",
    "version": 3
   },
   "file_extension": ".py",
   "mimetype": "text/x-python",
   "name": "python",
   "nbconvert_exporter": "python",
   "pygments_lexer": "ipython3",
   "version": "3.8.11"
  },
  "orig_nbformat": 4,
  "vscode": {
   "interpreter": {
    "hash": "1e949e87132dd83f1a7623eb88007e3532b03b66b77111be347aa4a383049722"
   }
  }
 },
 "nbformat": 4,
 "nbformat_minor": 2
}

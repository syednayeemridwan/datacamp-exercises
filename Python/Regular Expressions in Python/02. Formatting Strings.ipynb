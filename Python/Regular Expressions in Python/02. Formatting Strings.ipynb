{
 "cells": [
  {
   "cell_type": "markdown",
   "metadata": {},
   "source": [
    "# Put it in order!"
   ]
  },
  {
   "cell_type": "markdown",
   "metadata": {},
   "source": [
    " You'll store the tool and field name in a database. After a text analysis, you realize that the information is provided in a specific position of the text but sometimes the field name is given first and the tool after that, while in other cases it's the other way around.\n",
    "\n",
    "You decide to use positional formatting to handle these situations because it provides a way to reorder placeholders."
   ]
  },
  {
   "cell_type": "code",
   "execution_count": 1,
   "metadata": {},
   "outputs": [],
   "source": [
    "# # Assign the substrings to the variables\n",
    "# first_pos = wikipedia_article[3:19].lower()\n",
    "# second_pos = wikipedia_article[21:44].lower()\n",
    "\n",
    "# # Define string with placeholders \n",
    "# my_list.append(\"The tool {} is used in {}\")\n",
    "\n",
    "# # Define string with rearranged placeholders\n",
    "# my_list.append(\"The tool {1} is used in {0}\")\n",
    "\n",
    "# # Use format to print strings\n",
    "# for my_string in my_list:\n",
    "#   \tprint(my_string.format(first_pos, second_pos))"
   ]
  },
  {
   "cell_type": "markdown",
   "metadata": {},
   "source": [
    "# Calling by its name"
   ]
  },
  {
   "cell_type": "markdown",
   "metadata": {},
   "source": [
    "You have created your database with the tools and the different Data Science subfields they are used in. The company is considering creating courses using these tools and sending personalized emails to the users recommending the different topics. They have asked you to make this process more time-efficient. To do this, you want to create a template email with a standard message changing the different tools and corresponding field name."
   ]
  },
  {
   "cell_type": "code",
   "execution_count": 2,
   "metadata": {},
   "outputs": [],
   "source": [
    "# # Create a dictionary\n",
    "# plan = {\n",
    "#   \t\"field\": courses[0],\n",
    "#         \"tool\": courses[1]\n",
    "#         }\n",
    "\n",
    "# # Complete the placeholders accessing elements of field and tool keys in the data dictionary\n",
    "# my_message = \"If you are interested in {data[field]}, you can take the course related to {data[tool]}\"\n",
    "\n",
    "# # Use the plan dictionary to replace placeholders\n",
    "# print(my_message.format(data=plan))"
   ]
  },
  {
   "cell_type": "markdown",
   "metadata": {},
   "source": [
    "# What day is today?"
   ]
  },
  {
   "cell_type": "markdown",
   "metadata": {},
   "source": [
    "It's lunch time and you are talking with some of your colleagues. They comment that they feel that every morning someone should send them a reminder of what day it is so they can check in the calendar what their assignments are for that day."
   ]
  },
  {
   "cell_type": "code",
   "execution_count": 3,
   "metadata": {},
   "outputs": [
    {
     "name": "stdout",
     "output_type": "stream",
     "text": [
      "Good morning. Today is September 03, 2022. It's 12:49 ... time to work!\n"
     ]
    }
   ],
   "source": [
    "# Import datetime \n",
    "from datetime import datetime\n",
    "\n",
    "# Assign date to get_date\n",
    "get_date = datetime.now()\n",
    "\n",
    "# Add named placeholders with format specifiers\n",
    "message = \"Good morning. Today is {today:%B %d, %Y}. It's {today:%H:%M} ... time to work!\"\n",
    "\n",
    "# Use the format method replacing the placeholder with get_date\n",
    "print(message.format(today=get_date))"
   ]
  },
  {
   "cell_type": "markdown",
   "metadata": {},
   "source": [
    "# Literally formatting"
   ]
  },
  {
   "cell_type": "markdown",
   "metadata": {},
   "source": [
    "You remember that you've created a website that displayed data science facts but it was too slow. You think that it could be due to the string formatting you used. Because f-strings are very fast and easy to use, you decide to rewrite that project."
   ]
  },
  {
   "cell_type": "code",
   "execution_count": 5,
   "metadata": {},
   "outputs": [],
   "source": [
    "# # Complete the f-string\n",
    "# print(f\"Data science is considered {field1!r} in the {fact1:d}st century\")\n",
    "\n",
    "# # Complete the f-string\n",
    "# print(f\"About {fact2:e} of {field2} in the world\")\n",
    "\n",
    "# # Complete the f-string\n",
    "# print(f\"{field3} create around {round(fact3,2)}% of the data but only {round(fact4,1)}% is analyzed\")"
   ]
  },
  {
   "cell_type": "markdown",
   "metadata": {},
   "source": [
    "# Make this function"
   ]
  },
  {
   "cell_type": "markdown",
   "metadata": {},
   "source": [
    "Now you know that f-strings allow you to evaluate expressions where they appear and include function and method calls. You decide to use them in a project where you analyze 120 tweets to check if they include links to different news. In that way, you expect the code to be cleaner and more readable."
   ]
  },
  {
   "cell_type": "code",
   "execution_count": 6,
   "metadata": {},
   "outputs": [],
   "source": [
    "# # Include both variables and the result of dividing them \n",
    "# print(f\"{number1} tweets were downloaded in {number2} minutes indicating a speed of {round(number1/number2,1)} tweets per min\")\n",
    "\n",
    "# # Replace the substring https by an empty string\n",
    "# print(f\"{string1.replace('https', '')}\")\n",
    "\n",
    "# # Divide the length of list by 120 rounded to two decimals\n",
    "# print(f\"Only {round(len(list_links)*100/120,2)}% of the posts contain links\")"
   ]
  },
  {
   "cell_type": "markdown",
   "metadata": {},
   "source": [
    "# On time"
   ]
  },
  {
   "cell_type": "markdown",
   "metadata": {},
   "source": [
    "you want to rewrite an old real estate prediction project. At the time, you obtained historical information about house prices and used it to make a prediction on future values.\n",
    "\n",
    "The date was in the datetime format: datetime.datetime(1990, 3, 17) but to print it out, you format it as 3-17-1990. You also remember that you defined a dictionary for each neighborhood. Now, you believe that you can handle both type of data better with f-strings"
   ]
  },
  {
   "cell_type": "code",
   "execution_count": 7,
   "metadata": {},
   "outputs": [],
   "source": [
    "# # Access values of date and price in east dictionary\n",
    "# print(f\"The price for a house in the east neighborhood was ${east['price']} in {east['date']:%m-%d-%Y}\")\n",
    "\n",
    "# # Access values of date and price in west dictionary\n",
    "# print(f\"The price for a house in the west neighborhood was ${west['price']} in {west['date']:%m-%d-%Y}.\")"
   ]
  },
  {
   "cell_type": "markdown",
   "metadata": {},
   "source": [
    "# Preparing a report"
   ]
  },
  {
   "cell_type": "markdown",
   "metadata": {},
   "source": [
    "In some cases, template strings are the best solution to interpolate data generated by external sources into an already created template."
   ]
  },
  {
   "cell_type": "code",
   "execution_count": 8,
   "metadata": {},
   "outputs": [],
   "source": [
    "# # Import Template\n",
    "# from string import Template\n",
    "\n",
    "# # Create a template\n",
    "# wikipedia = Template(\"$tool is a $description\")\n",
    "\n",
    "# # Substitute variables in template\n",
    "# print(wikipedia.substitute(tool=tool1, description=description1))\n",
    "# print(wikipedia.substitute(tool=tool2, description=description2))\n",
    "# print(wikipedia.substitute(tool=tool3, description=description3))"
   ]
  },
  {
   "cell_type": "markdown",
   "metadata": {},
   "source": [
    "# Identifying prices"
   ]
  },
  {
   "cell_type": "markdown",
   "metadata": {},
   "source": [
    " In order to make a pilot test, you will send an email offering a course about one of the tools, randomly chosen from your dataset. You also mention that the estimated fee needs to be paid on a monthly basis."
   ]
  },
  {
   "cell_type": "code",
   "execution_count": 9,
   "metadata": {},
   "outputs": [],
   "source": [
    "# # Import template\n",
    "# from string import Template\n",
    "\n",
    "# # Select variables\n",
    "# our_tool = tools[0]\n",
    "# our_fee = tools[1]\n",
    "# our_pay = tools[2]\n",
    "\n",
    "# # Create template\n",
    "# course = Template(\"We are offering a 3-month beginner course on $tool just for $$ $fee ${pay}ly\")\n",
    "\n",
    "# # Substitute identifiers with three variables\n",
    "# print(course.substitute(tool=our_tool, pay=our_pay, fee=our_fee))"
   ]
  },
  {
   "cell_type": "markdown",
   "metadata": {},
   "source": [
    "# Playing safe"
   ]
  },
  {
   "cell_type": "markdown",
   "metadata": {},
   "source": [
    "Your job is to start collecting information from the company's main application users. You will make an online quiz and ask your users to voluntarily answer two questions. However, it is not mandatory for the user to answer both. You will be handling user-provided strings so you decide to use the Template method to print the input information. This allows users to double-check their answers before submitting them."
   ]
  },
  {
   "cell_type": "code",
   "execution_count": 10,
   "metadata": {},
   "outputs": [],
   "source": [
    "# # Import template\n",
    "# from string import Template\n",
    "\n",
    "# # Complete template string using identifiers\n",
    "# the_answers = Template(\"Check your answer 1: $answer1, and your answer 2: $answer2\")\n",
    "\n",
    "# # Use safe_substitute to replace identifiers\n",
    "# try:\n",
    "#     print(the_answers.safe_substitute(answers))\n",
    "# except KeyError:\n",
    "#     print(\"Missing information\")"
   ]
  }
 ],
 "metadata": {
  "kernelspec": {
   "display_name": "Python 3.8.3 ('base')",
   "language": "python",
   "name": "python3"
  },
  "language_info": {
   "codemirror_mode": {
    "name": "ipython",
    "version": 3
   },
   "file_extension": ".py",
   "mimetype": "text/x-python",
   "name": "python",
   "nbconvert_exporter": "python",
   "pygments_lexer": "ipython3",
   "version": "3.8.3"
  },
  "orig_nbformat": 4,
  "vscode": {
   "interpreter": {
    "hash": "dc575bfddb5c8ca4bb6a4f4dcdd32abc104b5fa4177361381c432fff36ce3e46"
   }
  }
 },
 "nbformat": 4,
 "nbformat_minor": 2
}

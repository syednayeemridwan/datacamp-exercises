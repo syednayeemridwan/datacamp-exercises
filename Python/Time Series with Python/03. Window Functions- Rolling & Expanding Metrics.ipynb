{
 "cells": [
  {
   "attachments": {},
   "cell_type": "markdown",
   "metadata": {},
   "source": [
    "# Rolling average air quality since 2010 for new york city"
   ]
  },
  {
   "attachments": {},
   "cell_type": "markdown",
   "metadata": {},
   "source": [
    "The last video was about rolling window functions. To practice this new tool, you'll start with air quality trends for New York City since 2010. In particular, you'll be using the daily Ozone concentration levels provided by the Environmental Protection Agency to calculate & plot the 90 and 360 day rolling average."
   ]
  },
  {
   "cell_type": "code",
   "execution_count": null,
   "metadata": {},
   "outputs": [],
   "source": [
    "# # Import and inspect ozone data here\n",
    "# data = pd.read_csv('ozone.csv', parse_dates=['date'], index_col='date')\n",
    "# print(data.info())\n",
    "\n",
    "# # Calculate 90d and 360d rolling mean for the last price\n",
    "# data['90D'] = data['Ozone'].rolling(window='90D').mean()\n",
    "# data['360D'] = data['Ozone'].rolling(window='360D').mean()\n",
    "\n",
    "# # Plot data\n",
    "# data['2010':].plot(title = 'New York City')\n",
    "# plt.show()"
   ]
  },
  {
   "attachments": {},
   "cell_type": "markdown",
   "metadata": {},
   "source": [
    "# Rolling 360-day median & std. deviation for nyc ozone data since 2000"
   ]
  },
  {
   "attachments": {},
   "cell_type": "markdown",
   "metadata": {},
   "source": [
    "The last video also showed you how to calculate several rolling statistics using the `.agg()` method, similar to `.groupby()`.\n",
    "\n",
    "Let's take a closer look at the air quality history of NYC using the Ozone data you have seen before. The daily data are very volatile, so using a longer term rolling average can help reveal a longer term trend.\n",
    "\n",
    "You'll be using a 360 day rolling window, and `.agg()` to calculate the rolling mean and standard deviation for the daily average ozone values since 2000."
   ]
  },
  {
   "cell_type": "code",
   "execution_count": 1,
   "metadata": {},
   "outputs": [],
   "source": [
    "# # Import and inspect ozone data here\n",
    "# data = pd.read_csv('ozone.csv', parse_dates=['date'], index_col='date').dropna()\n",
    "\n",
    "# # Calculate the rolling mean and std here\n",
    "# rolling_stats = data.Ozone.rolling(window = 360).agg(['mean','std'])\n",
    "\n",
    "# # Join rolling_stats with ozone data\n",
    "# stats = data.join(rolling_stats)\n",
    "\n",
    "# # Plot stats\n",
    "# stats.plot(subplots = True)\n",
    "# plt.show()\n"
   ]
  },
  {
   "attachments": {},
   "cell_type": "markdown",
   "metadata": {},
   "source": [
    "# Rolling quantiles for daily air quality in nyc"
   ]
  },
  {
   "attachments": {},
   "cell_type": "markdown",
   "metadata": {},
   "source": [
    "You learned in the last video how to calculate rolling quantiles to describe changes in the dispersion of a time series over time in a way that is less sensitive to outliers than using the mean and standard deviation.\n",
    "\n",
    "Let's calculate rolling quantiles - at 10%, 50% (median) and 90% - of the distribution of daily average ozone concentration in NYC using a 360-day rolling window."
   ]
  },
  {
   "cell_type": "code",
   "execution_count": 2,
   "metadata": {},
   "outputs": [],
   "source": [
    "# # Resample, interpolate and inspect ozone data here\n",
    "# data = data.resample('D').interpolate()\n",
    "# print(data.info())\n",
    "\n",
    "# # Create the rolling window\n",
    "# rolling = data['Ozone'].rolling(window = 360)\n",
    "\n",
    "# # Insert the rolling quantiles to the monthly returns\n",
    "# data['q10'] = rolling.quantile(0.1)\n",
    "# data['q50'] = rolling.quantile(0.5)\n",
    "# data['q90'] = rolling.quantile(0.9)\n",
    "\n",
    "# # Plot the data\n",
    "# data.plot()\n",
    "\n",
    "# plt.show()"
   ]
  },
  {
   "attachments": {},
   "cell_type": "markdown",
   "metadata": {},
   "source": [
    "# Cumulative sum vs .diff()"
   ]
  },
  {
   "attachments": {},
   "cell_type": "markdown",
   "metadata": {},
   "source": [
    "In the video, you have learned about expanding windows that allow you to run cumulative calculations.\n",
    "\n",
    "The cumulative sum method has in fact the opposite effect of the `.diff()` method that you came across in chapter 1.\n",
    "\n",
    "To illustrate this, let's use the Google stock price time series, create the differences between prices, and reconstruct the series using the cumulative sum."
   ]
  },
  {
   "cell_type": "code",
   "execution_count": 3,
   "metadata": {},
   "outputs": [],
   "source": [
    "# # Calculate differences\n",
    "# differences = data.diff().dropna()\n",
    "\n",
    "# # Select start price\n",
    "# start_price = data.first('D')\n",
    "\n",
    "# # Calculate cumulative sum\n",
    "# cumulative_sum = start_price.append(differences).cumsum()\n",
    "\n",
    "# # Validate cumulative sum equals data\n",
    "# print(data.equals(cumulative_sum))\n"
   ]
  },
  {
   "attachments": {},
   "cell_type": "markdown",
   "metadata": {},
   "source": [
    "# Cumulative return on $1,000 invested in google vs apple I"
   ]
  },
  {
   "attachments": {},
   "cell_type": "markdown",
   "metadata": {},
   "source": [
    "To put your new ability to do cumulative return calculations to practical use, let's compare how much $1,000 would be worth if invested in Google (`'GOOG'`) or Apple (`'AAPL'`) in 2010."
   ]
  },
  {
   "cell_type": "code",
   "execution_count": 4,
   "metadata": {},
   "outputs": [],
   "source": [
    "# # Define your investment\n",
    "# investment = 1000\n",
    "\n",
    "# # Calculate the daily returns here\n",
    "# returns = data.pct_change()\n",
    "\n",
    "# # Calculate the cumulative returns here\n",
    "# returns_plus_one = returns.add(1)\n",
    "# cumulative_return = returns_plus_one.cumprod()\n",
    "\n",
    "# # Calculate and plot the investment return here \n",
    "# cumulative_return.mul(investment).plot()\n",
    "# plt.show()"
   ]
  },
  {
   "attachments": {},
   "cell_type": "markdown",
   "metadata": {},
   "source": [
    "# Cumulative return on $1,000 invested in google vs apple II"
   ]
  },
  {
   "attachments": {},
   "cell_type": "markdown",
   "metadata": {},
   "source": [
    "Apple outperformed Google over the entire period, but this may have been different over various 1-year sub periods, so that switching between the two stocks might have yielded an even better result.\n",
    "\n",
    "To analyze this, calculate that cumulative return for rolling 1-year periods, and then plot the returns to see when each stock was superior."
   ]
  },
  {
   "cell_type": "code",
   "execution_count": 5,
   "metadata": {},
   "outputs": [],
   "source": [
    "# # Import numpy\n",
    "# import numpy as np\n",
    "\n",
    "# # Define a multi_period_return function\n",
    "# def multi_period_return(period_returns):\n",
    "#     return np.prod(period_returns + 1) - 1\n",
    "    \n",
    "# # Calculate daily returns\n",
    "# daily_returns = data.pct_change()\n",
    "\n",
    "# # Calculate rolling_annual_returns\n",
    "# rolling_annual_returns = daily_returns.rolling('360D').apply(multi_period_return)\n",
    "\n",
    "# # Plot rolling_annual_returns\n",
    "# rolling_annual_returns.mul(100).plot()\n",
    "# plt.show()"
   ]
  },
  {
   "attachments": {},
   "cell_type": "markdown",
   "metadata": {},
   "source": [
    "# Random walk I"
   ]
  },
  {
   "attachments": {},
   "cell_type": "markdown",
   "metadata": {},
   "source": [
    "In the last video, you have seen how to generate a random walk of returns, and how to convert this random return series into a random stock price path.\n",
    "\n",
    "In this exercise, you'll build your own random walk by drawing random numbers from the normal distribution with the help of `numpy`."
   ]
  },
  {
   "cell_type": "code",
   "execution_count": 6,
   "metadata": {},
   "outputs": [],
   "source": [
    "# # Set seed here\n",
    "# seed(42)\n",
    "\n",
    "# # Create random_walk\n",
    "# random_walk = normal(loc=0.001, scale=0.01, size=2500)\n",
    "\n",
    "# # Convert random_walk to pd.series\n",
    "# random_walk = pd.Series(random_walk)\n",
    "\n",
    "# # Create random_prices\n",
    "# random_prices = random_walk.add(1).cumprod()\n",
    "\n",
    "# # Plot random_prices here\n",
    "# random_prices.mul(1000).plot()\n",
    "# plt.show()\n"
   ]
  },
  {
   "attachments": {},
   "cell_type": "markdown",
   "metadata": {},
   "source": [
    "# Random walk II"
   ]
  },
  {
   "attachments": {},
   "cell_type": "markdown",
   "metadata": {},
   "source": [
    "In the last video, you have also seen how to create a random walk of returns by sampling from actual returns, and how to use this random sample to create a random stock price path.\n",
    "\n",
    "In this exercise, you'll build a random walk using historical returns from Facebook's stock price since IPO through the end of May 31, 2017. Then you'll simulate an alternative random price path in the next exercise."
   ]
  },
  {
   "cell_type": "code",
   "execution_count": 7,
   "metadata": {},
   "outputs": [],
   "source": [
    "# # Set seed here\n",
    "# seed(42)\n",
    "\n",
    "# # Calculate daily_returns here\n",
    "# daily_returns = fb.pct_change().dropna()\n",
    "\n",
    "# # Get n_obs\n",
    "# n_obs = daily_returns.count()\n",
    "\n",
    "# # Create random_walk\n",
    "# random_walk = choice(daily_returns, size = n_obs)\n",
    "\n",
    "# # Convert random_walk to pd.series\n",
    "# random_walk = pd.Series(random_walk)\n",
    "\n",
    "# # Plot random_walk distribution\n",
    "# sns.distplot(random_walk)\n",
    "# plt.show()\n"
   ]
  },
  {
   "attachments": {},
   "cell_type": "markdown",
   "metadata": {},
   "source": [
    "# Random walk III"
   ]
  },
  {
   "attachments": {},
   "cell_type": "markdown",
   "metadata": {},
   "source": [
    "In this exercise, you'll complete your random walk simulation using Facebook stock returns over the last five years. You'll start off with a random sample of returns like the one you've generated during the last exercise and use it to create a random stock price path."
   ]
  },
  {
   "cell_type": "code",
   "execution_count": 8,
   "metadata": {},
   "outputs": [],
   "source": [
    "# # Select fb start price here\n",
    "# start = fb[\"price\"].first('D')\n",
    "\n",
    "# # Add 1 to random walk and append to start\n",
    "# random_walk = random_walk.add(1)\n",
    "# random_price = start.append(random_walk)\n",
    "\n",
    "# # Calculate cumulative product here\n",
    "# random_price = random_price.cumprod()\n",
    "\n",
    "# # Insert into fb and plot\n",
    "# fb['random'] = random_price\n",
    "# fb.plot()\n",
    "\n",
    "# plt.show()"
   ]
  },
  {
   "attachments": {},
   "cell_type": "markdown",
   "metadata": {},
   "source": [
    "# Annual return correlations among several stocks"
   ]
  },
  {
   "attachments": {},
   "cell_type": "markdown",
   "metadata": {},
   "source": [
    "You have seen in the video how to calculate correlations, and visualize the result.\n",
    "\n",
    "In this exercise, we have provided you with the historical stock prices for Apple (AAPL), Amazon (AMZN), IBM (IBM), WalMart (WMT), and Exxon Mobile (XOM) for the last 4,000 trading days from July 2001 until the end of May 2017.\n",
    "\n",
    "You'll calculate the year-end returns, the pairwise correlations among all stocks, and visualize the result as an annotated heatmap."
   ]
  },
  {
   "cell_type": "code",
   "execution_count": 9,
   "metadata": {},
   "outputs": [],
   "source": [
    "# # Inspect data here\n",
    "# print(data.info())\n",
    "\n",
    "# # Calculate year-end prices here\n",
    "# annual_prices = data.resample('A').last()\n",
    "\n",
    "# # Calculate annual returns here\n",
    "# annual_returns = annual_prices.pct_change()\n",
    "\n",
    "# # Calculate and print the correlation matrix here\n",
    "# correlations = annual_returns.corr()\n",
    "# print(correlations)\n",
    "\n",
    "# # Visualize the correlations as heatmap here\n",
    "# sns.heatmap(correlations,annot=True)\n",
    "# plt.show()"
   ]
  }
 ],
 "metadata": {
  "kernelspec": {
   "display_name": "env_py",
   "language": "python",
   "name": "python3"
  },
  "language_info": {
   "codemirror_mode": {
    "name": "ipython",
    "version": 3
   },
   "file_extension": ".py",
   "mimetype": "text/x-python",
   "name": "python",
   "nbconvert_exporter": "python",
   "pygments_lexer": "ipython3",
   "version": "3.8.11"
  },
  "orig_nbformat": 4,
  "vscode": {
   "interpreter": {
    "hash": "1e949e87132dd83f1a7623eb88007e3532b03b66b77111be347aa4a383049722"
   }
  }
 },
 "nbformat": 4,
 "nbformat_minor": 2
}

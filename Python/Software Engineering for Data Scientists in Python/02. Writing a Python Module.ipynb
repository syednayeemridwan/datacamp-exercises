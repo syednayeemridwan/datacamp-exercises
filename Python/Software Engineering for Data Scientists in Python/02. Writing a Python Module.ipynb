{
 "cells": [
  {
   "cell_type": "markdown",
   "metadata": {},
   "source": [
    "# Minimal package requirements"
   ]
  },
  {
   "cell_type": "markdown",
   "metadata": {},
   "source": [
    "What are the minimal requirements to make an import-able python package?\n",
    "- A directory with a blank file named `__init__.py`."
   ]
  },
  {
   "cell_type": "markdown",
   "metadata": {},
   "source": [
    "# Naming packages"
   ]
  },
  {
   "cell_type": "markdown",
   "metadata": {},
   "source": [
    " In this exercise, you'll use that knowledge to identify a package following the requirements.\n",
    "- The possible package names to import are the following: `text_analyzer`, `textAnalyzer`, `TextAnalyzer`, & `__text_analyzer__`.\n",
    "- import the package from the list above that follows the PEP 8 naming conventions."
   ]
  },
  {
   "cell_type": "code",
   "execution_count": 1,
   "metadata": {},
   "outputs": [],
   "source": [
    "# # Import the package with a name that follows PEP 8\n",
    "# import text_analyzer\n"
   ]
  },
  {
   "cell_type": "markdown",
   "metadata": {},
   "source": [
    "# Recognizing packages"
   ]
  },
  {
   "cell_type": "markdown",
   "metadata": {},
   "source": [
    "The structure of your directory tree is printed below. You'll be working in the file `my_script.py` that you can see in the tree."
   ]
  },
  {
   "cell_type": "markdown",
   "metadata": {},
   "source": [
    "```\n",
    "recognizing_packages\n",
    "├── MY_PACKAGE\n",
    "│&nbsp;&nbsp; └── _init_.py\n",
    "├── package\n",
    "│&nbsp;&nbsp; └── __init__.py\n",
    "├── package_py\n",
    "│&nbsp;&nbsp; └── __init__\n",
    "│&nbsp;&nbsp;     └── __init__.py\n",
    "├── py_package\n",
    "│&nbsp;&nbsp; └── __init__.py\n",
    "├── pyackage\n",
    "│&nbsp;&nbsp; └── init.py\n",
    "└── my_script.py\n",
    "```"
   ]
  },
  {
   "cell_type": "code",
   "execution_count": 1,
   "metadata": {},
   "outputs": [],
   "source": [
    "# # Import local packages\n",
    "# import package\n",
    "# import py_package\n",
    "\n",
    "# # View the help for each package\n",
    "# help(package)\n",
    "# help(py_package)\n"
   ]
  },
  {
   "cell_type": "markdown",
   "metadata": {},
   "source": [
    "# Adding functionality to your package"
   ]
  },
  {
   "cell_type": "markdown",
   "metadata": {},
   "source": [
    "In this exercise, you will work to define the functions needed for a text analysis of word usage.\n",
    "\n",
    "In the file `counter_utils.py`, you will write 2 functions to be a part of your package: `plot_counter` and `sum_counters`. The structure of your package can be seen in the tree below. For the coding portions of this exercise, you will be working in the file `counter_utils.py`."
   ]
  },
  {
   "cell_type": "markdown",
   "metadata": {},
   "source": [
    "```\n",
    "text_analyzer\n",
    "├── __init__.py\n",
    "└── counter_utils.py\n",
    "```"
   ]
  },
  {
   "cell_type": "code",
   "execution_count": 2,
   "metadata": {},
   "outputs": [],
   "source": [
    "# # Import needed functionality\n",
    "# from collections import Counter\n",
    "\n",
    "# def plot_counter(counter, n_most_common=5):\n",
    "#   # Subset the n_most_common items from the input counter\n",
    "#   top_items = counter.most_common(n_most_common)\n",
    "#   # Plot `top_items`\n",
    "#   plot_counter_most_common(top_items)\n"
   ]
  },
  {
   "cell_type": "code",
   "execution_count": 3,
   "metadata": {},
   "outputs": [],
   "source": [
    "# # Import needed functionality\n",
    "# from collections import Counter\n",
    "\n",
    "# def sum_counters(counters):\n",
    "#   # Sum the inputted counters\n",
    "#   return sum(counters, Counter())\n"
   ]
  },
  {
   "cell_type": "markdown",
   "metadata": {},
   "source": [
    "You just wrote two functions for your package in the file counter_utils.py named plot_counter & sum_counters. Which of the following lines would correctly import these functions in `__init__.py` using relative import syntax?"
   ]
  },
  {
   "cell_type": "code",
   "execution_count": 4,
   "metadata": {},
   "outputs": [],
   "source": [
    "# from .counter_utils import plot_counter, sum_counters"
   ]
  },
  {
   "cell_type": "markdown",
   "metadata": {},
   "source": [
    "# Using your package's new functionality"
   ]
  },
  {
   "cell_type": "markdown",
   "metadata": {},
   "source": [
    "In this exercise, you'll leverage your package to analyze some tweets written by DataCamp & DataCamp users.\n",
    "\n",
    "The object word_counts is loaded into your environment. It contains a list of Counter objects that contain word counts from a sample of DataCamp tweets.\n",
    "\n",
    "The structure you've created can be seen in the tree below. You'll be working in `my_script.py`."
   ]
  },
  {
   "cell_type": "markdown",
   "metadata": {},
   "source": [
    "```\n",
    "working_dir\n",
    "├── text_analyzer\n",
    "│    ├── __init__.py\n",
    "│    ├── counter_utils.py\n",
    "└── my_script.py\n",
    "```"
   ]
  },
  {
   "cell_type": "code",
   "execution_count": 5,
   "metadata": {},
   "outputs": [],
   "source": [
    "# # Import local package\n",
    "# import text_analyzer\n",
    "\n",
    "# # Sum word_counts using sum_counters from text_analyzer\n",
    "# word_count_totals = text_analyzer.sum_counters(word_counts)\n",
    "\n",
    "# # Plot word_count_totals using plot_counter from text_analyzer\n",
    "# text_analyzer.plot_counter(word_count_totals)\n"
   ]
  },
  {
   "cell_type": "markdown",
   "metadata": {},
   "source": [
    "# Writing requirements.txt"
   ]
  },
  {
   "cell_type": "markdown",
   "metadata": {},
   "source": [
    "having a `requirements.txt` file can help your package be more portable by allowing your users to easily recreate its intended environment. In this exercise, you will be writing the contents of a requirements file to a python variable."
   ]
  },
  {
   "cell_type": "code",
   "execution_count": 6,
   "metadata": {},
   "outputs": [],
   "source": [
    "# requirements = \"\"\"\n",
    "# matplotlib>=3.0.0\n",
    "# numpy==1.15.4\n",
    "# pandas<=0.22.0\n",
    "# pycodestyle\n",
    "# \"\"\""
   ]
  },
  {
   "cell_type": "markdown",
   "metadata": {},
   "source": [
    "# Installing package requirements"
   ]
  },
  {
   "cell_type": "markdown",
   "metadata": {},
   "source": [
    "You've now written a `requirements.txt` file to recreate your package's environment using a pip install command. Given that you are running a shell session in the work_dir structure shown below, what command would properly recreate the `my_package` environment from `requirements.txt`?"
   ]
  },
  {
   "cell_type": "markdown",
   "metadata": {},
   "source": [
    "```\n",
    "work_dir/\n",
    "├── my_package\n",
    "│&nbsp;&nbsp; ├── __init__.py\n",
    "│&nbsp;&nbsp; └── utils.py\n",
    "├── requirements.txt\n",
    "└── setup.py\n",
    "```"
   ]
  },
  {
   "cell_type": "code",
   "execution_count": 7,
   "metadata": {},
   "outputs": [],
   "source": [
    "\n",
    "# pip install -r requirements.txt"
   ]
  },
  {
   "cell_type": "markdown",
   "metadata": {},
   "source": [
    "# Creating setup.py"
   ]
  },
  {
   "cell_type": "markdown",
   "metadata": {},
   "source": [
    "In order to make your package installable by `pip` you need to create a `setup.py` file. "
   ]
  },
  {
   "cell_type": "code",
   "execution_count": 8,
   "metadata": {},
   "outputs": [],
   "source": [
    "# # Import needed function from setuptools\n",
    "# from setuptools import setup\n",
    "\n",
    "# # Create proper setup to be used by pip\n",
    "# setup(name='text_analyzer',\n",
    "#       version='0.0.1',\n",
    "#       description='Perform and visualize a text anaylsis.',\n",
    "#       author='abir',\n",
    "#       packages=['text_analyzer'])\n"
   ]
  },
  {
   "cell_type": "markdown",
   "metadata": {},
   "source": [
    "# Listing requirements in setup.py"
   ]
  },
  {
   "cell_type": "markdown",
   "metadata": {},
   "source": [
    " we forgot to list our dependency on `matplotlib` in the `install_requires` argument. In this exercise you will practice listing your version specific dependencies by correcting the `setup.py`"
   ]
  },
  {
   "cell_type": "code",
   "execution_count": 9,
   "metadata": {},
   "outputs": [],
   "source": [
    "# # Import needed function from setuptools\n",
    "# from setuptools import setup\n",
    "\n",
    "# # Create proper setup to be used by pip\n",
    "# setup(name='text_analyzer',\n",
    "#       version='0.0.1',\n",
    "#       description='Perform and visualize a text anaylsis.',\n",
    "#       author='abir',\n",
    "#       packages=['text_analyzer'],\n",
    "#       install_requires=['matplotlib>=3.0.0'])\n"
   ]
  }
 ],
 "metadata": {
  "kernelspec": {
   "display_name": "Python 3.8.11 ('env_py')",
   "language": "python",
   "name": "python3"
  },
  "language_info": {
   "codemirror_mode": {
    "name": "ipython",
    "version": 3
   },
   "file_extension": ".py",
   "mimetype": "text/x-python",
   "name": "python",
   "nbconvert_exporter": "python",
   "pygments_lexer": "ipython3",
   "version": "3.8.11"
  },
  "orig_nbformat": 4,
  "vscode": {
   "interpreter": {
    "hash": "1e949e87132dd83f1a7623eb88007e3532b03b66b77111be347aa4a383049722"
   }
  }
 },
 "nbformat": 4,
 "nbformat_minor": 2
}

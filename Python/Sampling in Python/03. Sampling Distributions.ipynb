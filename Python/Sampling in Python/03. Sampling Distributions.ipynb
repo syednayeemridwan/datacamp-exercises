{
 "cells": [
  {
   "attachments": {},
   "cell_type": "markdown",
   "metadata": {},
   "source": [
    "# Calculating relative errors"
   ]
  },
  {
   "attachments": {},
   "cell_type": "markdown",
   "metadata": {},
   "source": [
    "The size of the sample you take affects how accurately the point estimates reflect the corresponding population parameter. For example, when you calculate a sample mean, you want it to be close to the population mean. However, if your sample is too small, this might not be the case.\n",
    "\n",
    "The most common metric for assessing accuracy is relative error. This is the absolute difference between the population parameter and the point estimate, all divided by the population parameter. It is sometimes expressed as a percentage.\n",
    "\n",
    "`attrition_pop` and `mean_attrition_pop` (the mean of the `Attrition` column of `attrition_pop`) are available; `pandas` is loaded as pd."
   ]
  },
  {
   "cell_type": "code",
   "execution_count": 1,
   "metadata": {},
   "outputs": [],
   "source": [
    "# # Generate a simple random sample of 50 rows, with seed 2022\n",
    "# attrition_srs50 = attrition_pop.sample(n = 50, random_state = 2022)\n",
    "\n",
    "# # Calculate the mean employee attrition in the sample\n",
    "# mean_attrition_srs50 = attrition_srs50[\"Attrition\"].mean()\n",
    "\n",
    "# # Calculate the relative error percentage\n",
    "# rel_error_pct50 = 100 * abs(mean_attrition_pop - mean_attrition_srs50)/mean_attrition_pop\n",
    "\n",
    "# # Print rel_error_pct50\n",
    "# print(rel_error_pct50)"
   ]
  },
  {
   "cell_type": "code",
   "execution_count": 2,
   "metadata": {},
   "outputs": [],
   "source": [
    "# # Generate a simple random sample of 100 rows, with seed 2022\n",
    "# attrition_srs100 = attrition_pop.sample(n = 100, random_state = 2022)\n",
    "\n",
    "# # Calculate the mean employee attrition in the sample\n",
    "# mean_attrition_srs100 = attrition_srs100[\"Attrition\"].mean()\n",
    "\n",
    "# # Calculate the relative error percentage\n",
    "# rel_error_pct100 = 100 * abs(mean_attrition_srs100 - mean_attrition_pop)/mean_attrition_pop\n",
    "\n",
    "# # Print rel_error_pct100\n",
    "# print(rel_error_pct100)"
   ]
  },
  {
   "attachments": {},
   "cell_type": "markdown",
   "metadata": {},
   "source": [
    "# Relative error vs. sample size"
   ]
  },
  {
   "attachments": {},
   "cell_type": "markdown",
   "metadata": {},
   "source": [
    "The plot shows the relative error in the proportion of employee attritions, using simple random sampling, for sample sizes from 2 to 1470 (the size of the population).\n",
    "\n",
    "Clicking \"Regenerate plot\" will select new samples for each sample size, and calculate the relative errors again.\n",
    "\n",
    "<center><img src=\"images/03.03.png\"  style=\"width: 400px, height: 300px;\"/></center>\n",
    "\n",
    "Which statement about relative errors and sample sizes is true?"
   ]
  },
  {
   "attachments": {},
   "cell_type": "markdown",
   "metadata": {},
   "source": [
    "- For small sample sizes, each additional entry in a sample can result in substantial decreases to the relative error.\n"
   ]
  },
  {
   "attachments": {},
   "cell_type": "markdown",
   "metadata": {},
   "source": [
    "# Replicating samples"
   ]
  },
  {
   "attachments": {},
   "cell_type": "markdown",
   "metadata": {},
   "source": [
    "When you calculate a point estimate such as a sample mean, the value you calculate depends on the rows that were included in the sample. That means that there is some randomness in the answer. In order to quantify the variation caused by this randomness, you can create many samples and calculate the sample mean (or another statistic) for each sample.\n",
    "\n",
    "`attrition_pop` is available; `pandas` and `matplotlib.pyplot` are loaded with their usual aliases."
   ]
  },
  {
   "cell_type": "code",
   "execution_count": 3,
   "metadata": {},
   "outputs": [],
   "source": [
    "# # Create an empty list\n",
    "# mean_attritions = []\n",
    "# # Loop 500 times to create 500 sample means\n",
    "# for i in range(500):\n",
    "# \tmean_attritions.append(\n",
    "#     \tattrition_pop.sample(n=60)['Attrition'].mean()\n",
    "# \t)\n",
    "\n",
    "# # Create a histogram of the 500 sample means\n",
    "# plt.hist(mean_attritions, bins = 16)\n",
    "# plt.show()"
   ]
  },
  {
   "attachments": {},
   "cell_type": "markdown",
   "metadata": {},
   "source": [
    "# Replication parameters"
   ]
  },
  {
   "attachments": {},
   "cell_type": "markdown",
   "metadata": {},
   "source": [
    "The dashboard shows a histogram of sample mean proportions of employee attrition. There are two parameters: the size of each simple random sample, and the number of replicates. It's important to understand how each of these parameters affects the result. Use the parameter sliders to explore different values and note their effect on the histogram.\n",
    "\n",
    "Which statement about the effect of each parameter on the distribution of sample means is true?"
   ]
  },
  {
   "attachments": {},
   "cell_type": "markdown",
   "metadata": {},
   "source": [
    "<center><img src=\"images/03.061.jpg\"  style=\"width: 400px, height: 300px;\"/></center>\n",
    "<center><img src=\"images/03.062.jpg\"  style=\"width: 400px, height: 300px;\"/></center>\n",
    "<center><img src=\"images/03.063.jpg\"  style=\"width: 400px, height: 300px;\"/></center>\n",
    "<center><img src=\"images/03.064.jpg\"  style=\"width: 400px, height: 300px;\"/></center>\n"
   ]
  },
  {
   "attachments": {},
   "cell_type": "markdown",
   "metadata": {},
   "source": [
    "- As the sample size increases, the range of calculated sample means tends to decrease.\n",
    "- As sample size increases, on average each sample mean has a lower relative error compared to the population mean, thus reducing the range of the distribution."
   ]
  },
  {
   "attachments": {},
   "cell_type": "markdown",
   "metadata": {},
   "source": [
    "# Exact sampling distribution"
   ]
  },
  {
   "attachments": {},
   "cell_type": "markdown",
   "metadata": {},
   "source": [
    "To quantify how the point estimate (sample statistic) you are interested in varies, you need to know all the possible values it can take and how often. That is, you need to know its distribution.\n",
    "\n",
    "The distribution of a sample statistic is called the sampling distribution. When we can calculate this exactly, rather than using an approximation, it is known as the exact sampling distribution.\n",
    "\n",
    "Let's take another look at the sampling distribution of dice rolls. This time, we'll look at five eight-sided dice. (These have the numbers one to eight.)\n",
    "\n",
    "pandas, numpy, and matplotlib.pyplot are loaded with their usual aliases. The `expand_grid()` function is also available, which expects a dictionary of key-value pairs as its argument. The definition of the `expand_grid()` function is provided in the pandas documentation."
   ]
  },
  {
   "cell_type": "code",
   "execution_count": 7,
   "metadata": {},
   "outputs": [
    {
     "name": "stdout",
     "output_type": "stream",
     "text": [
      "       die1  die2  die3  die4  die5\n",
      "0         1     1     1     1     1\n",
      "1         1     1     1     1     2\n",
      "2         1     1     1     1     3\n",
      "3         1     1     1     1     4\n",
      "4         1     1     1     1     5\n",
      "...     ...   ...   ...   ...   ...\n",
      "32763     8     8     8     8     4\n",
      "32764     8     8     8     8     5\n",
      "32765     8     8     8     8     6\n",
      "32766     8     8     8     8     7\n",
      "32767     8     8     8     8     8\n",
      "\n",
      "[32768 rows x 5 columns]\n"
     ]
    },
    {
     "data": {
      "image/png": "[encoded data removed]",
      "text/plain": [
       "<Figure size 432x288 with 1 Axes>"
      ]
     },
     "metadata": {
      "needs_background": "light"
     },
     "output_type": "display_data"
    }
   ],
   "source": [
    "import pandas as pd\n",
    "import matplotlib.pyplot as plt \n",
    "\n",
    "# Expand a grid representing 5 8-sided dice\n",
    "from itertools import product\n",
    "\n",
    "die1 = die2 = die3 = die4 = die5 = [1,2,3,4,5,6,7,8]\n",
    "\n",
    "dice = pd.DataFrame(list(product(die1, die2, die3, die4, die5 )), columns=['die1', 'die2', 'die3', 'die4', 'die5'])\n",
    "\n",
    "# Print the result\n",
    "print(dice)\n",
    "\n",
    "# Add a column of mean rolls and convert to a categorical\n",
    "dice['mean_roll'] = (dice['die1'] + dice['die2'] + \n",
    "                     dice['die3'] + dice['die4'] + \n",
    "                     dice['die5']) / 5\n",
    "dice['mean_roll'] = dice['mean_roll'].astype('category')\n",
    "\n",
    "# Draw a bar plot of mean_roll\n",
    "dice['mean_roll'].value_counts(sort=False).plot(kind = \"bar\")\n",
    "plt.show()"
   ]
  },
  {
   "attachments": {},
   "cell_type": "markdown",
   "metadata": {},
   "source": [
    "# Generating an approximate sampling distribution"
   ]
  },
  {
   "attachments": {},
   "cell_type": "markdown",
   "metadata": {},
   "source": [
    "Calculating the exact sampling distribution is only possible in very simple situations. With just five eight-sided dice, the number of possible rolls is 8**5, which is over thirty thousand. When the dataset is more complicated, for example, where a variable has hundreds or thousands of categories, the number of possible outcomes becomes too difficult to compute exactly.\n",
    "\n",
    "In this situation, you can calculate an approximate sampling distribution by simulating the exact sampling distribution. That is, you can repeat a procedure over and over again to simulate both the sampling process and the sample statistic calculation process.\n",
    "\n",
    "pandas, numpy, and matplotlib.pyplot are loaded with their usual aliases."
   ]
  },
  {
   "cell_type": "code",
   "execution_count": 9,
   "metadata": {},
   "outputs": [
    {
     "data": {
      "image/png": "[encoded data removed]",
      "text/plain": [
       "<Figure size 432x288 with 1 Axes>"
      ]
     },
     "metadata": {
      "needs_background": "light"
     },
     "output_type": "display_data"
    }
   ],
   "source": [
    "import numpy as np\n",
    "# Replicate the sampling code 1000 times\n",
    "sample_means_1000 = []\n",
    "for i in range(1000):\n",
    "    sample_means_1000.append(\n",
    "  \t\tnp.random.choice(list(range(1, 9)), size=5, replace=True).mean()\n",
    "    )\n",
    "\n",
    "# Draw a histogram of sample_means_1000 with 20 bins\n",
    "plt.hist(sample_means_1000, bins = 20)\n",
    "plt.show()"
   ]
  },
  {
   "attachments": {},
   "cell_type": "markdown",
   "metadata": {},
   "source": [
    "# Exact vs. approximate"
   ]
  },
  {
   "attachments": {},
   "cell_type": "markdown",
   "metadata": {},
   "source": [
    "You've seen two types of sampling distribution now (exact and approximate). It's really important to understand when each should be computed.\n",
    "\n",
    "Should we always be able to compute the exact sampling distribution directly?\n",
    "- No, the computational time and resources needed to look at the population of values could be too much for our problem."
   ]
  },
  {
   "attachments": {},
   "cell_type": "markdown",
   "metadata": {},
   "source": [
    "# Population & sampling distribution means"
   ]
  },
  {
   "attachments": {},
   "cell_type": "markdown",
   "metadata": {},
   "source": [
    "One of the useful features of sampling distributions is that you can quantify them. Specifically, you can calculate summary statistics on them. Here, you'll look at the relationship between the mean of the sampling distribution and the population parameter's mean.\n",
    "\n",
    "Three sampling distributions are provided. For each, the employee attrition dataset was sampled using simple random sampling, then the mean attrition was calculated. This was done 1000 times to get a sampling distribution of mean attritions. One sampling distribution used a sample size of 5 for each replicate, one used 50, and one used 500.\n",
    "\n",
    "`attrition_pop`, `sampling_distribution_5`, `sampling_distribution_50`, and `sampling_distribution_500` are available; `numpy` as `np` is loaded."
   ]
  },
  {
   "cell_type": "code",
   "execution_count": 10,
   "metadata": {},
   "outputs": [],
   "source": [
    "# # Calculate the mean of the mean attritions for each sampling distribution\n",
    "# mean_of_means_5 = np.mean(sampling_distribution_5)\n",
    "# mean_of_means_50 = np.mean(sampling_distribution_50)\n",
    "# mean_of_means_500 = np.mean(sampling_distribution_500)\n",
    "\n",
    "# # Print the results\n",
    "# print(mean_of_means_5)\n",
    "# print(mean_of_means_50)\n",
    "# print(mean_of_means_500)"
   ]
  },
  {
   "attachments": {},
   "cell_type": "markdown",
   "metadata": {},
   "source": [
    "How does sample size affect the mean of the sample means?\n",
    "- Regardless of sample size, the mean of the sampling distribution is a close approximation to the population mean."
   ]
  },
  {
   "attachments": {},
   "cell_type": "markdown",
   "metadata": {},
   "source": [
    "# Population & sampling distribution variation"
   ]
  },
  {
   "attachments": {},
   "cell_type": "markdown",
   "metadata": {},
   "source": [
    "You just calculated the mean of the sampling distribution and saw how it is an estimate of the corresponding population parameter. Similarly, as a result of the central limit theorem, the standard deviation of the sampling distribution has an interesting relationship with the population parameter's standard deviation and the sample size.\n",
    "\n",
    "`attrition_pop`, `sampling_distribution_5`, `sampling_distribution_50`, and `sampling_distribution_500` are available; `numpy` is loaded with its usual alias."
   ]
  },
  {
   "cell_type": "code",
   "execution_count": 11,
   "metadata": {},
   "outputs": [],
   "source": [
    "# # Calculate the std. dev. of the mean attritions for each sampling distribution\n",
    "# sd_of_means_5 = np.std(sampling_distribution_5, ddof=1)\n",
    "# sd_of_means_50 = np.std(sampling_distribution_50, ddof=1)\n",
    "# sd_of_means_500 = np.std(sampling_distribution_500, ddof=1)\n",
    "\n",
    "# # Print the results\n",
    "# print(sd_of_means_5)\n",
    "# print(sd_of_means_50)\n",
    "# print(sd_of_means_500)"
   ]
  },
  {
   "attachments": {},
   "cell_type": "markdown",
   "metadata": {},
   "source": [
    "How are the standard deviations of the sampling distributions related to the population standard deviation and the sample size?\n",
    "- The standard deviation of the sampling distribution is approximately equal to the population standard deviation divided by the square root of the sample size."
   ]
  }
 ],
 "metadata": {
  "kernelspec": {
   "display_name": "env_py",
   "language": "python",
   "name": "python3"
  },
  "language_info": {
   "codemirror_mode": {
    "name": "ipython",
    "version": 3
   },
   "file_extension": ".py",
   "mimetype": "text/x-python",
   "name": "python",
   "nbconvert_exporter": "python",
   "pygments_lexer": "ipython3",
   "version": "3.8.11"
  },
  "orig_nbformat": 4,
  "vscode": {
   "interpreter": {
    "hash": "1e949e87132dd83f1a7623eb88007e3532b03b66b77111be347aa4a383049722"
   }
  }
 },
 "nbformat": 4,
 "nbformat_minor": 2
}

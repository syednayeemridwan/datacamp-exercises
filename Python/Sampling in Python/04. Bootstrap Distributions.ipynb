{
 "cells": [
  {
   "attachments": {},
   "cell_type": "markdown",
   "metadata": {},
   "source": [
    "# Principles of bootstrapping"
   ]
  },
  {
   "attachments": {},
   "cell_type": "markdown",
   "metadata": {},
   "source": [
    "Bootstrapping is, in some sense, the opposite of sampling from a population. Sampling treats your dataset as the population, and you generate a random subset. Bootstrapping treats your dataset as a sample and uses it to build up a theoretical population."
   ]
  },
  {
   "attachments": {},
   "cell_type": "markdown",
   "metadata": {},
   "source": [
    "<center><img src=\"images/04.02.jpg\"  style=\"width: 400px, height: 300px;\"/></center>\n"
   ]
  },
  {
   "attachments": {},
   "cell_type": "markdown",
   "metadata": {},
   "source": [
    "# With or without replacement?"
   ]
  },
  {
   "attachments": {},
   "cell_type": "markdown",
   "metadata": {},
   "source": [
    "So far in the course, you've seen sampling with and without replacement. It's important to know when to use each method."
   ]
  },
  {
   "attachments": {},
   "cell_type": "markdown",
   "metadata": {},
   "source": [
    "<center><img src=\"images/04.03.jpg\"  style=\"width: 400px, height: 300px;\"/></center>\n"
   ]
  },
  {
   "attachments": {},
   "cell_type": "markdown",
   "metadata": {},
   "source": [
    "# Generating a bootstrap distribution"
   ]
  },
  {
   "attachments": {},
   "cell_type": "markdown",
   "metadata": {},
   "source": [
    "The process for generating a bootstrap distribution is similar to the process for generating a sampling distribution; only the first step is different.\n",
    "\n",
    "To make a sampling distribution, you start with the population and sample without replacement. To make a bootstrap distribution, you start with a sample and sample that with replacement. After that, the steps are the same: calculate the summary statistic that you are interested in on that sample/resample, then replicate the process many times. In each case, you can visualize the distribution with a histogram.\n",
    "\n",
    "Here, `spotify_sample` is a subset of the `spotify_population` dataset. To make it easier to see how resampling works, a row index column called `'index'` has been added, and only the artist name, song name, and `danceability` columns have been included.\n",
    "\n",
    "`spotify_sample` is available; `pandas`, `numpy`, and `matplotlib.pyplot` are loaded with their usual aliases."
   ]
  },
  {
   "cell_type": "code",
   "execution_count": 1,
   "metadata": {},
   "outputs": [],
   "source": [
    "# # Generate 1 bootstrap resample\n",
    "# spotify_1_resample = spotify_sample.sample(frac=1, replace=True)\n",
    "\n",
    "# # Calculate of the danceability column of spotify_1_resample\n",
    "# mean_danceability_1 = np.mean(spotify_1_resample['danceability'])\n",
    "\n",
    "# # Print the result\n",
    "# print(mean_danceability_1)"
   ]
  },
  {
   "cell_type": "code",
   "execution_count": 1,
   "metadata": {},
   "outputs": [],
   "source": [
    "# # Replicate this 1000 times\n",
    "# mean_danceability_1000 = []\n",
    "# for i in range(1000):\n",
    "# \tmean_danceability_1000.append(\n",
    "#         np.mean(spotify_sample.sample(frac=1, replace=True)['danceability'])\n",
    "# \t)\n",
    "\n",
    "# # Draw a histogram of the resample means\n",
    "# plt.hist(mean_danceability_1000)\n",
    "# plt.show()"
   ]
  },
  {
   "attachments": {},
   "cell_type": "markdown",
   "metadata": {},
   "source": [
    "# Bootstrap statistics and population statistics"
   ]
  },
  {
   "attachments": {},
   "cell_type": "markdown",
   "metadata": {},
   "source": [
    "Bootstrap distribution statistics can be used to estimate population parameters. But can you always rely on them to give an accurate estimate of an unknown population parameter?\n",
    "\n",
    "Should the mean and the standard deviation of the bootstrap distribution both be used to estimate the corresponding values of the population?"
   ]
  },
  {
   "attachments": {},
   "cell_type": "markdown",
   "metadata": {},
   "source": [
    "- No, the mean of the bootstrap distribution will always be near the sample mean, which may not necessarily be very close to the population mean."
   ]
  },
  {
   "attachments": {},
   "cell_type": "markdown",
   "metadata": {},
   "source": [
    "# Sampling distribution vs. bootstrap distribution"
   ]
  },
  {
   "attachments": {},
   "cell_type": "markdown",
   "metadata": {},
   "source": [
    "The sampling distribution and bootstrap distribution are closely linked. In situations where you can repeatedly sample from a population (these occasions are rare), it's helpful to generate both the sampling distribution and the bootstrap distribution, one after the other, to see how they are related.\n",
    "\n",
    "Here, the statistic you are interested in is the mean `popularity` score of the songs.\n",
    "\n",
    "`spotify_population` (the whole dataset) and `spotify_sample` (500 randomly sampled rows from `spotify_population`) are available; `pandas` and `numpy` are loaded with their usual aliases."
   ]
  },
  {
   "cell_type": "code",
   "execution_count": 2,
   "metadata": {},
   "outputs": [],
   "source": [
    "# mean_popularity_2000_samp = []\n",
    "\n",
    "# # Generate a sampling distribution of 2000 replicates\n",
    "# for i in range(2000) :\n",
    "#     mean_popularity_2000_samp.append(\n",
    "#     \t# Sample 500 rows and calculate the mean popularity \n",
    "#     \tnp.mean(spotify_population[\"popularity\"].sample(500, replace = False))\n",
    "#     )\n",
    "\n",
    "# # Print the sampling distribution results\n",
    "# print(mean_popularity_2000_samp)"
   ]
  },
  {
   "cell_type": "code",
   "execution_count": 3,
   "metadata": {},
   "outputs": [],
   "source": [
    "# mean_popularity_2000_boot = []\n",
    "\n",
    "# # Generate a bootstrap distribution of 2000 replicates\n",
    "# for i in range(2000):\n",
    "#     mean_popularity_2000_boot.append(\n",
    "#     \t# Resample 500 rows and calculate the mean popularity     \n",
    "#     \tnp.mean(spotify_sample.sample(n = 500, replace = True)[\"popularity\"])\n",
    "#     )\n",
    "\n",
    "# # Print the bootstrap distribution results\n",
    "# print(mean_popularity_2000_boot)"
   ]
  },
  {
   "attachments": {},
   "cell_type": "markdown",
   "metadata": {},
   "source": [
    "# Compare sampling and bootstrap means"
   ]
  },
  {
   "attachments": {},
   "cell_type": "markdown",
   "metadata": {},
   "source": [
    "To make calculation easier, distributions similar to those calculated from the previous exercise have been included, this time using a sample size of 5000.\n",
    "\n",
    "`spotify_population`, `spotify_sample`, `sampling_distribution`, and `bootstrap_distribution` are available; `pandas` and `numpy` are loaded with their usual aliases."
   ]
  },
  {
   "cell_type": "code",
   "execution_count": 4,
   "metadata": {},
   "outputs": [],
   "source": [
    "# # Calculate the population mean popularity\n",
    "# pop_mean = spotify_population[\"popularity\"].mean()\n",
    "\n",
    "# # Calculate the original sample mean popularity\n",
    "# samp_mean = spotify_sample[\"popularity\"].mean()\n",
    "\n",
    "# # Calculate the sampling dist'n estimate of mean popularity\n",
    "# samp_distn_mean = np.mean(sampling_distribution)\n",
    "\n",
    "# # Calculate the bootstrap dist'n estimate of mean popularity\n",
    "# boot_distn_mean = np.mean(bootstrap_distribution)\n",
    "\n",
    "# # Print the means\n",
    "# print([pop_mean, samp_mean, samp_distn_mean, boot_distn_mean])"
   ]
  },
  {
   "attachments": {},
   "cell_type": "markdown",
   "metadata": {},
   "source": [
    "Based on the four means you just calculated (`pop_mean`, `samp_mean`, `samp_distn_mean`, and `boot_distn_mean`), which statement is true?\n",
    "- The sampling distribution mean is the best estimate of the true population mean; the bootstrap distribution mean is closest to the original sample mean."
   ]
  },
  {
   "attachments": {},
   "cell_type": "markdown",
   "metadata": {},
   "source": [
    "# Compare sampling and bootstrap standard deviations"
   ]
  },
  {
   "attachments": {},
   "cell_type": "markdown",
   "metadata": {},
   "source": [
    "In the same way that you looked at how the sampling distribution and bootstrap distribution could be used to estimate the population mean, you'll now take a look at how they can be used to estimate variation, or more specifically, the standard deviation, in the population.\n",
    "\n",
    "Recall that the sample size is 5000.\n",
    "\n",
    "`spotify_population`, `spotify_sample`, `sampling_distribution`, and `bootstrap_distribution` are available; pandas and numpy are loaded with their usual aliases."
   ]
  },
  {
   "cell_type": "code",
   "execution_count": 5,
   "metadata": {},
   "outputs": [],
   "source": [
    "# # Calculate the population std dev popularity\n",
    "# pop_sd = np.std(spotify_population[\"popularity\"], ddof = 0)\n",
    "\n",
    "# # Calculate the original sample std dev popularity\n",
    "# samp_sd = np.std(spotify_sample[\"popularity\"], ddof = 1)\n",
    "\n",
    "# # Calculate the sampling dist'n estimate of std dev popularity\n",
    "# samp_distn_sd = np.std(sampling_distribution, ddof = 1) * np.sqrt(5000) \n",
    "\n",
    "# # Calculate the bootstrap dist'n estimate of std dev popularity\n",
    "# boot_distn_sd = np.std(bootstrap_distribution, ddof = 1) * np.sqrt(5000) \n",
    "\n",
    "# # Print the standard deviations\n",
    "# print([pop_sd, samp_sd, samp_distn_sd, boot_distn_sd])"
   ]
  },
  {
   "attachments": {},
   "cell_type": "markdown",
   "metadata": {},
   "source": [
    "Based on the four results you just calculated (`pop_sd`, `samp_sd`, `samp_distn_sd`, and `boot_distn_sd`), which statement is true?\n",
    "- The calculation from the bootstrap distribution is the best estimate of the population standard deviation."
   ]
  },
  {
   "attachments": {},
   "cell_type": "markdown",
   "metadata": {},
   "source": [
    "# Confidence interval interpretation"
   ]
  },
  {
   "attachments": {},
   "cell_type": "markdown",
   "metadata": {},
   "source": [
    "When reporting results, it is common to provide a confidence interval alongside an estimate.\n",
    "\n",
    "What information does that confidence interval provide?"
   ]
  },
  {
   "attachments": {},
   "cell_type": "markdown",
   "metadata": {},
   "source": [
    "- A range of plausible values for an unknown quantity."
   ]
  },
  {
   "attachments": {},
   "cell_type": "markdown",
   "metadata": {},
   "source": [
    "# Calculating confidence intervals"
   ]
  },
  {
   "attachments": {},
   "cell_type": "markdown",
   "metadata": {},
   "source": [
    "You have learned about two methods for calculating confidence intervals: the quantile method and the standard error method. The standard error method involves using the inverse cumulative distribution function (inverse CDF) of the normal distribution to calculate confidence intervals. In this exercise, you'll perform these two methods on the Spotify data.\n",
    "\n",
    "`spotify_population`, `spotify_sample`, and `bootstrap_distribution` are available; pandas and numpy are loaded with their usual aliases, and norm has been loaded from `scipy.stats`."
   ]
  },
  {
   "cell_type": "code",
   "execution_count": 6,
   "metadata": {},
   "outputs": [],
   "source": [
    "# # Generate a 95% confidence interval using the quantile method\n",
    "# lower_quant = np.quantile(bootstrap_distribution, 0.025)\n",
    "# upper_quant = np.quantile(bootstrap_distribution, 0.975)\n",
    "\n",
    "# # Print quantile method confidence interval\n",
    "# print((lower_quant, upper_quant))"
   ]
  },
  {
   "cell_type": "code",
   "execution_count": 7,
   "metadata": {},
   "outputs": [],
   "source": [
    "# # Find the mean and std dev of the bootstrap distribution\n",
    "# point_estimate = np.mean(bootstrap_distribution)\n",
    "# standard_error = np.std(bootstrap_distribution,ddof = 1)\n",
    "\n",
    "# # Find the lower limit of the confidence interval\n",
    "# lower_se = norm.ppf(0.025, loc=point_estimate, scale=standard_error)\n",
    "\n",
    "# # Find the upper limit of the confidence interval\n",
    "# upper_se = norm.ppf(0.975, loc=point_estimate, scale=standard_error)\n",
    "\n",
    "# # Print standard error method confidence interval\n",
    "# print((lower_se, upper_se))"
   ]
  }
 ],
 "metadata": {
  "kernelspec": {
   "display_name": "env_py",
   "language": "python",
   "name": "python3"
  },
  "language_info": {
   "codemirror_mode": {
    "name": "ipython",
    "version": 3
   },
   "file_extension": ".py",
   "mimetype": "text/x-python",
   "name": "python",
   "nbconvert_exporter": "python",
   "pygments_lexer": "ipython3",
   "version": "3.8.11"
  },
  "orig_nbformat": 4,
  "vscode": {
   "interpreter": {
    "hash": "1e949e87132dd83f1a7623eb88007e3532b03b66b77111be347aa4a383049722"
   }
  }
 },
 "nbformat": 4,
 "nbformat_minor": 2
}

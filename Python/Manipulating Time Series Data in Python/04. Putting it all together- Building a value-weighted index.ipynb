{
 "cells": [
  {
   "attachments": {},
   "cell_type": "markdown",
   "metadata": {},
   "source": [
    "# Explore and clean company listing information"
   ]
  },
  {
   "attachments": {},
   "cell_type": "markdown",
   "metadata": {},
   "source": [
    "To get started with the construction of a market-value based index, you'll work with the combined listing info for the three largest US stock exchanges, the NYSE, the NASDAQ and the AMEX.\n",
    "\n",
    "In this and the next exercise, you will calculate market-cap weights for these stocks.\n",
    "\n",
    "We have already imported pandas as pd, and loaded the listings data set with listings information from the NYSE, NASDAQ, and AMEX. The column 'Market Capitalization' is already measured in USD mn."
   ]
  },
  {
   "cell_type": "code",
   "execution_count": null,
   "metadata": {},
   "outputs": [],
   "source": [
    "# # Inspect listings\n",
    "# print(listings.info())\n",
    "\n",
    "# # Move 'stock symbol' into the index\n",
    "# listings.set_index('Stock Symbol', inplace = True)\n",
    "\n",
    "# # Drop rows with missing 'sector' data\n",
    "# listings.dropna(subset=['Sector'], inplace=True)\n",
    "\n",
    "# # Select companies with IPO Year before 2019\n",
    "# listings = listings[listings['IPO Year']<2019]\n",
    "\n",
    "# # Inspect the new listings data\n",
    "# print(listings.info())\n",
    "\n",
    "# # Show the number of companies per sector\n",
    "# print(listings.groupby('Sector').size().sort_values(ascending=False))"
   ]
  },
  {
   "attachments": {},
   "cell_type": "markdown",
   "metadata": {},
   "source": [
    "# Select and inspect index components"
   ]
  },
  {
   "attachments": {},
   "cell_type": "markdown",
   "metadata": {},
   "source": [
    "Now that you have imported and cleaned the `listings` data, you can proceed to select the `index` components as the largest company for each sector by market capitalization.\n",
    "\n",
    "You'll also have the opportunity to take a closer look at the components, their last market value, and last price."
   ]
  },
  {
   "cell_type": "code",
   "execution_count": 1,
   "metadata": {},
   "outputs": [],
   "source": [
    "# # Select largest company for each sector\n",
    "# components = listings.groupby(['Sector'])['Market Capitalization'].nlargest(1)\n",
    "\n",
    "# # Print components, sorted by market cap\n",
    "# print(components.sort_values(ascending = False))\n",
    "\n",
    "# # Select stock symbols and print the result\n",
    "# tickers = components.index.get_level_values('Stock Symbol')\n",
    "# print(tickers)\n",
    "\n",
    "# # Print company name, market cap, and last price for each component \n",
    "# info_cols = ['Company Name', 'Market Capitalization', 'Last Sale']\n",
    "# print(listings.loc[tickers,info_cols].sort_values('Market Capitalization',ascending = False))"
   ]
  },
  {
   "attachments": {},
   "cell_type": "markdown",
   "metadata": {},
   "source": [
    "# Import index component price information"
   ]
  },
  {
   "attachments": {},
   "cell_type": "markdown",
   "metadata": {},
   "source": [
    "Now you'll use the stock symbols for the companies you selected in the last exercise to calculate returns for each company."
   ]
  },
  {
   "cell_type": "code",
   "execution_count": 2,
   "metadata": {},
   "outputs": [],
   "source": [
    "# # Print tickers\n",
    "# print(tickers)\n",
    "\n",
    "# # Import prices and inspect result\n",
    "# stock_prices = pd.read_csv('stock_prices.csv', parse_dates=['Date'], index_col='Date')\n",
    "# print(stock_prices.info())\n",
    "\n",
    "# # Calculate the returns\n",
    "# price_return = stock_prices.iloc[-1].div(stock_prices.iloc[0]).sub(1).mul(100)\n",
    "\n",
    "# # Plot horizontal bar chart of sorted price_return   \n",
    "# price_return.sort_values().plot(kind='barh', title='Stock Price Returns')\n",
    "# plt.show()\n"
   ]
  },
  {
   "attachments": {},
   "cell_type": "markdown",
   "metadata": {},
   "source": [
    "# Calculate number of shares outstanding"
   ]
  },
  {
   "attachments": {},
   "cell_type": "markdown",
   "metadata": {},
   "source": [
    "The next step towards building a value-weighted index is to calculate the number of shares for each index component.\n",
    "\n",
    "The number of shares will allow you to calculate the total market capitalization for each component given the historical price series in the next exercise."
   ]
  },
  {
   "cell_type": "code",
   "execution_count": 1,
   "metadata": {},
   "outputs": [],
   "source": [
    "# # Inspect listings and print tickers\n",
    "# print(listings.info())\n",
    "# print(tickers)\n",
    "\n",
    "# # Select components and relevant columns from listings\n",
    "# components = listings.loc[tickers,['Market Capitalization' , 'Last Sale']]\n",
    "\n",
    "# # Print the first rows of components\n",
    "# print(components.head(5))\n",
    "\n",
    "# # Calculate the number of shares here\n",
    "# no_shares = components['Market Capitalization'].div(components['Last Sale'])\n",
    "\n",
    "# # Print the sorted no_shares\n",
    "# print(no_shares.sort_values(ascending = False))\n"
   ]
  },
  {
   "attachments": {},
   "cell_type": "markdown",
   "metadata": {},
   "source": [
    "# Create time series of market value"
   ]
  },
  {
   "attachments": {},
   "cell_type": "markdown",
   "metadata": {},
   "source": [
    "You can now use the number of shares to calculate the total market capitalization for each component and trading date from the historical price series.\n",
    "\n",
    "The result will be the key input to construct the value-weighted stock index, which you will complete in the next exercise."
   ]
  },
  {
   "cell_type": "code",
   "execution_count": 2,
   "metadata": {},
   "outputs": [],
   "source": [
    "# # Select the number of shares\n",
    "# no_shares = components['Number of Shares']\n",
    "# print(no_shares.sort_values())\n",
    "\n",
    "# # Create the series of market cap per ticker\n",
    "# market_cap = stock_prices.mul(no_shares)\n",
    "\n",
    "# # Select first and last market cap here\n",
    "# first_value = market_cap.iloc[0]\n",
    "# last_value = market_cap.iloc[-1]\n",
    "\n",
    "\n",
    "# # Concatenate and plot first and last market cap here\n",
    "# pd.concat([first_value,last_value], axis = 1).plot(kind=\"barh\")\n",
    "# plt.show()\n"
   ]
  },
  {
   "attachments": {},
   "cell_type": "markdown",
   "metadata": {},
   "source": [
    "# Calculate & plot the composite index"
   ]
  },
  {
   "attachments": {},
   "cell_type": "markdown",
   "metadata": {},
   "source": [
    "By now you have all ingredients that you need to calculate the aggregate stock performance for your group of companies.\n",
    "\n",
    "Use the time series of market capitalization that you created in the last exercise to aggregate the market value for each period, and then normalize this series to convert it to an index."
   ]
  },
  {
   "cell_type": "code",
   "execution_count": 3,
   "metadata": {},
   "outputs": [],
   "source": [
    "# # Aggregate and print the market cap per trading day\n",
    "# raw_index = market_cap_series.sum(axis=1)\n",
    "# print(raw_index)\n",
    "\n",
    "# # Normalize the aggregate market cap here \n",
    "# index = raw_index.div(raw_index.iloc[0]).mul(100)\n",
    "# print(index)\n",
    "\n",
    "# # Plot the index here\n",
    "# index.plot(title='Market-Cap Weighted Index')\n",
    "# plt.show()\n"
   ]
  },
  {
   "attachments": {},
   "cell_type": "markdown",
   "metadata": {},
   "source": [
    "# Calculate the contribution of each stock to the index"
   ]
  },
  {
   "attachments": {},
   "cell_type": "markdown",
   "metadata": {},
   "source": [
    "You have successfully built the value-weighted index. Let's now explore how it performed over the 2010-2016 period.\n",
    "\n",
    "Let's also determine how much each stock has contributed to the index return."
   ]
  },
  {
   "cell_type": "code",
   "execution_count": 4,
   "metadata": {},
   "outputs": [],
   "source": [
    "# # Calculate and print the index return here\n",
    "# index_return = (index.iloc[-1]/index.iloc[0]-1) * 100\n",
    "# print(index_return)\n",
    "\n",
    "# # Select the market capitalization\n",
    "# market_cap = components['Market Capitalization']\n",
    "\n",
    "# # Calculate the total market cap\n",
    "# total_market_cap = market_cap.sum()\n",
    "\n",
    "# # Calculate the component weights, and print the result\n",
    "# weights = market_cap.div(total_market_cap)\n",
    "# print(weights.sort_values())\n",
    "\n",
    "# # Calculate and plot the contribution by component\n",
    "# weights.mul(index_return).sort_values().plot(kind=\"barh\")\n",
    "\n",
    "# plt.show()"
   ]
  },
  {
   "attachments": {},
   "cell_type": "markdown",
   "metadata": {},
   "source": [
    "# Compare index performance against benchmark I"
   ]
  },
  {
   "attachments": {},
   "cell_type": "markdown",
   "metadata": {},
   "source": [
    "The next step in analyzing the performance of your index is to compare it against a benchmark.\n",
    "\n",
    "In the video, we used the S&P 500 as benchmark. You can also use the Dow Jones Industrial Average, which contains the 30 largest stocks, and would also be a reasonable benchmark for the largest stocks from all sectors across the three exchanges."
   ]
  },
  {
   "cell_type": "code",
   "execution_count": 5,
   "metadata": {},
   "outputs": [],
   "source": [
    "# # Convert index series to dataframe here\n",
    "# data = index.to_frame('Index')\n",
    "\n",
    "# # Normalize djia series and add as new column to data\n",
    "# djia = djia.div(djia.iloc[0]).mul(100)\n",
    "# data['DJIA'] = djia\n",
    "\n",
    "# # Show total return for both index and djia\n",
    "# print(data.iloc[-1].div(data.iloc[0]).sub(1).mul(100))\n",
    "\n",
    "# # Plot both series\n",
    "# data.plot()\n",
    "# plt.show()"
   ]
  },
  {
   "attachments": {},
   "cell_type": "markdown",
   "metadata": {},
   "source": [
    "# Compare index performance against benchmark II"
   ]
  },
  {
   "attachments": {},
   "cell_type": "markdown",
   "metadata": {},
   "source": [
    "The next step in analyzing the performance of your index is to compare it against a benchmark.\n",
    "\n",
    "In the video, we have use the S&P 500 as benchmark. You can also use the Dow Jones Industrial Average, which contains the 30 largest stocks, and would also be a reasonable benchmark for the largest stocks from all sectors across the three exchanges."
   ]
  },
  {
   "cell_type": "code",
   "execution_count": 6,
   "metadata": {},
   "outputs": [],
   "source": [
    "# # Inspect data\n",
    "# print(data.info())\n",
    "# print(data.head(5))\n",
    "\n",
    "# # Create multi_period_return function here\n",
    "# def multi_period_return(r):\n",
    "#     return (np.prod(r+1)-1) * 100\n",
    "\n",
    "# # Calculate rolling_return_360\n",
    "# rolling_return_360 = data.pct_change().rolling('360D').apply(multi_period_return)\n",
    "\n",
    "# # Plot rolling_return_360 here\n",
    "# rolling_return_360.plot(title = 'Rolling 360D Return')\n",
    "# plt.show()\n"
   ]
  },
  {
   "attachments": {},
   "cell_type": "markdown",
   "metadata": {},
   "source": [
    "# Visualize your index constituent correlations"
   ]
  },
  {
   "attachments": {},
   "cell_type": "markdown",
   "metadata": {},
   "source": [
    "To better understand the characteristics of your index constituents, you can calculate the return correlations.\n",
    "\n",
    "Use the daily stock prices or your index companies, and show a heatmap of the daily return correlations!"
   ]
  },
  {
   "cell_type": "code",
   "execution_count": 7,
   "metadata": {},
   "outputs": [],
   "source": [
    "# # Inspect stock_prices here\n",
    "# print(stock_prices.info())\n",
    "\n",
    "# # Calculate the daily returns\n",
    "# returns = stock_prices.pct_change()\n",
    "\n",
    "# # Calculate and print the pairwise correlations\n",
    "# correlations = returns.corr()\n",
    "# print(correlations)\n",
    "\n",
    "# # Plot a heatmap of daily return correlations\n",
    "# sns.heatmap(correlations,annot = True)\n",
    "# plt.title('Daily Return Correlations')\n",
    "# plt.show()"
   ]
  },
  {
   "attachments": {},
   "cell_type": "markdown",
   "metadata": {},
   "source": [
    "# Save your analysis to multiple excel worksheets"
   ]
  },
  {
   "attachments": {},
   "cell_type": "markdown",
   "metadata": {},
   "source": [
    "Now that you have completed your analysis, you may want to save all results into a single Excel workbook.\n",
    "\n",
    "Let's practice exporting various `DataFrame` to multiple Excel worksheets."
   ]
  },
  {
   "cell_type": "code",
   "execution_count": 8,
   "metadata": {},
   "outputs": [],
   "source": [
    "# # Inspect index and stock_prices\n",
    "# print(index.info())\n",
    "# print(stock_prices.info())\n",
    "\n",
    "# # Join index to stock_prices, and inspect the result\n",
    "# data = stock_prices.join(index)\n",
    "# print(data.info())\n",
    "\n",
    "# # Create index & stock price returns\n",
    "# returns = data.pct_change()\n",
    "\n",
    "# # Export data and data as returns to excel\n",
    "# with pd.ExcelWriter('data.xls') as writer:\n",
    "#     data.to_excel(excel_writer= writer,sheet_name='data')\n",
    "#     returns.to_excel(excel_writer= writer,sheet_name='returns')"
   ]
  }
 ],
 "metadata": {
  "kernelspec": {
   "display_name": "env_py",
   "language": "python",
   "name": "python3"
  },
  "language_info": {
   "codemirror_mode": {
    "name": "ipython",
    "version": 3
   },
   "file_extension": ".py",
   "mimetype": "text/x-python",
   "name": "python",
   "nbconvert_exporter": "python",
   "pygments_lexer": "ipython3",
   "version": "3.8.11"
  },
  "orig_nbformat": 4,
  "vscode": {
   "interpreter": {
    "hash": "1e949e87132dd83f1a7623eb88007e3532b03b66b77111be347aa4a383049722"
   }
  }
 },
 "nbformat": 4,
 "nbformat_minor": 2
}

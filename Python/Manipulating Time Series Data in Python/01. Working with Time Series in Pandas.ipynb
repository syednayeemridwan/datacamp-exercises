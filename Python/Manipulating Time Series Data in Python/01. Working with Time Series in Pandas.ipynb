{
 "cells": [
  {
   "attachments": {},
   "cell_type": "markdown",
   "metadata": {},
   "source": [
    "# Your first time series"
   ]
  },
  {
   "attachments": {},
   "cell_type": "markdown",
   "metadata": {},
   "source": [
    "You have learned in the video how to create a sequence of dates using `pd.date_range()`. You have also seen that each date in the resulting `pd.DatetimeIndex` is a `pd.Timestamp` with various attributes that you can access to obtain information about the date.\n",
    "\n",
    "Now, you'll create a week of data, iterate over the result, and obtain the `dayofweek` and `day_name()` for each date."
   ]
  },
  {
   "cell_type": "code",
   "execution_count": 1,
   "metadata": {},
   "outputs": [
    {
     "name": "stdout",
     "output_type": "stream",
     "text": [
      "6 Sunday\n",
      "0 Monday\n",
      "1 Tuesday\n",
      "2 Wednesday\n",
      "3 Thursday\n",
      "4 Friday\n",
      "5 Saturday\n"
     ]
    }
   ],
   "source": [
    "import pandas as pd\n",
    "# Create the range of dates here\n",
    "seven_days = pd.date_range(start='2017-1-1', periods=7, freq='D')\n",
    "\n",
    "# Iterate over the dates and print the number and name of the weekday\n",
    "for day in seven_days:\n",
    "    print(day.dayofweek, day.day_name())"
   ]
  },
  {
   "attachments": {},
   "cell_type": "markdown",
   "metadata": {},
   "source": [
    "# Create a time series of air quality data"
   ]
  },
  {
   "attachments": {},
   "cell_type": "markdown",
   "metadata": {},
   "source": [
    "You have seen in the video how to deal with dates that are not in the correct format, but instead are provided as string types, represented as dtype object in pandas.\n",
    "\n",
    "We have prepared a data set with air quality data (ozone, pm25, and carbon monoxide for NYC, 2000-2017) for you to practice the use of `pd.to_datetime()`."
   ]
  },
  {
   "cell_type": "code",
   "execution_count": 2,
   "metadata": {},
   "outputs": [],
   "source": [
    "# data = pd.read_csv('nyc.csv')\n",
    "\n",
    "# # Inspect data\n",
    "# print(data.info())\n",
    "\n",
    "# # Convert the date column to datetime64\n",
    "# data.date = pd.to_datetime(data.date)\n",
    "\n",
    "# # Set date column as index\n",
    "# data.set_index('date', inplace= True)\n",
    "\n",
    "# # Inspect data \n",
    "# print(data.info())\n",
    "\n",
    "# # Plot data\n",
    "# data.plot( subplots=True)\n",
    "# plt.show()\n"
   ]
  },
  {
   "attachments": {},
   "cell_type": "markdown",
   "metadata": {},
   "source": [
    "# Compare annual stock price trends"
   ]
  },
  {
   "attachments": {},
   "cell_type": "markdown",
   "metadata": {},
   "source": [
    "In the video, you have seen how to select sub-periods from a time series.\n",
    "\n",
    "You'll use this to compare the performance for three years of Yahoo stock prices."
   ]
  },
  {
   "cell_type": "code",
   "execution_count": 3,
   "metadata": {},
   "outputs": [],
   "source": [
    "# # Create dataframe prices here\n",
    "# prices = pd.DataFrame()\n",
    "\n",
    "# # Select data for each year and concatenate with prices here \n",
    "# for year in [\"2013\", \"2014\", \"2015\"]:\n",
    "#     price_per_year = yahoo.loc[year, [\"price\"]].reset_index(drop=True)\n",
    "#     price_per_year.rename(columns={\"price\": year}, inplace=True)\n",
    "#     prices = pd.concat([prices, price_per_year], axis=1)\n",
    "\n",
    "# # Plot prices\n",
    "# prices.plot()\n",
    "# plt.show()"
   ]
  },
  {
   "attachments": {},
   "cell_type": "markdown",
   "metadata": {},
   "source": [
    "# Set and change time series frequency"
   ]
  },
  {
   "attachments": {},
   "cell_type": "markdown",
   "metadata": {},
   "source": [
    "In the video, you have seen how to assign a frequency to a `DateTimeIndex`, and then change this frequency.\n",
    "\n",
    "Now, you'll use data on the daily carbon monoxide concentration in NYC, LA and Chicago from 2005-17.\n",
    "\n",
    "You'll set the frequency to calendar daily and then resample to monthly frequency, and visualize both series to see how the different frequencies affect the data."
   ]
  },
  {
   "cell_type": "code",
   "execution_count": 4,
   "metadata": {},
   "outputs": [],
   "source": [
    "# # Inspect data\n",
    "# print(co.info())\n",
    "\n",
    "# # Set the frequency to calendar daily\n",
    "# co = co.asfreq(\"D\")\n",
    "\n",
    "# # Plot the data\n",
    "# co.plot(subplots = True)\n",
    "# plt.show()\n",
    "\n",
    "\n",
    "# # Set frequency to monthly\n",
    "# co = co.asfreq(\"M\")\n",
    "\n",
    "# # Plot the data\n",
    "# co.plot(subplots = True)\n",
    "# plt.show()\n",
    "\n"
   ]
  },
  {
   "attachments": {},
   "cell_type": "markdown",
   "metadata": {},
   "source": [
    "# Shifting stock prices across time"
   ]
  },
  {
   "attachments": {},
   "cell_type": "markdown",
   "metadata": {},
   "source": [
    "The first method to manipulate time series that you saw in the video was `.shift()`, which allows you shift all values in a Series or `DataFrame` by a number of periods to a different time along the `DateTimeIndex`.\n",
    "\n",
    "Let's use this to visually compare a stock price series for Google shifted 90 business days into both past and future."
   ]
  },
  {
   "cell_type": "code",
   "execution_count": 5,
   "metadata": {},
   "outputs": [],
   "source": [
    "# # Import data here\n",
    "# google = pd.read_csv('google.csv', parse_dates=['Date'], index_col='Date')\n",
    "\n",
    "# # Set data frequency to business daily\n",
    "# google = google.asfreq(\"B\")\n",
    "\n",
    "# # Create 'lagged' and 'shifted'\n",
    "# google['lagged'] = google.Close.shift(periods=-90)\n",
    "# google['shifted'] =  google.Close.shift(periods=90)\n",
    "\n",
    "# # Plot the google price series\n",
    "# google.plot()\n",
    "\n",
    "# plt.show()\n"
   ]
  },
  {
   "attachments": {},
   "cell_type": "markdown",
   "metadata": {},
   "source": [
    "# Calculating stock price changes"
   ]
  },
  {
   "attachments": {},
   "cell_type": "markdown",
   "metadata": {},
   "source": [
    "You have learned in the video how to calculate returns using current and shifted prices as input. Now you'll practice a similar calculation to calculate absolute changes from current and shifted prices, and compare the result to the function `.diff()`"
   ]
  },
  {
   "cell_type": "code",
   "execution_count": 6,
   "metadata": {},
   "outputs": [],
   "source": [
    "# # Created shifted_30 here\n",
    "# yahoo['shifted_30'] = yahoo.price.shift(periods = 30)\n",
    "\n",
    "# # Subtract shifted_30 from price\n",
    "# yahoo['change_30'] = yahoo.price.sub(yahoo.shifted_30)\n",
    "\n",
    "# # Get the 30-day price difference\n",
    "# yahoo['diff_30'] = yahoo.price.diff(30)\n",
    "\n",
    "# # Inspect the last five rows of price\n",
    "# print(yahoo.tail(5))\n",
    "\n",
    "# # Show the value_counts of the difference between change_30 and diff_30\n",
    "# result = yahoo['change_30'].sub(yahoo['diff_30'])\n",
    "# print(result.value_counts())\n"
   ]
  },
  {
   "attachments": {},
   "cell_type": "markdown",
   "metadata": {},
   "source": [
    "# Plotting multi-period returns"
   ]
  },
  {
   "attachments": {},
   "cell_type": "markdown",
   "metadata": {},
   "source": [
    "The last time series method you have learned about in the video was `.pct_change()`. Let's use this function to calculate returns for various calendar day periods, and plot the result to compare the different patterns.\n",
    "\n",
    "We'll be using Google stock prices from 2014-2016."
   ]
  },
  {
   "cell_type": "code",
   "execution_count": 7,
   "metadata": {},
   "outputs": [],
   "source": [
    "# # Create daily_return\n",
    "# google['daily_return'] = google['Close'].pct_change(periods = 1).mul(100)\n",
    "\n",
    "# # Create monthly_return\n",
    "# google['monthly_return'] = google['Close'].pct_change(periods = 30).mul(100)\n",
    "\n",
    "# # Create annual_return\n",
    "# google['annual_return'] = google['Close'].pct_change(periods = 360).mul(100)\n",
    "\n",
    "# # Plot the result\n",
    "# google.plot(subplots=True)\n",
    "# plt.show()"
   ]
  }
 ],
 "metadata": {
  "kernelspec": {
   "display_name": "env_py",
   "language": "python",
   "name": "python3"
  },
  "language_info": {
   "codemirror_mode": {
    "name": "ipython",
    "version": 3
   },
   "file_extension": ".py",
   "mimetype": "text/x-python",
   "name": "python",
   "nbconvert_exporter": "python",
   "pygments_lexer": "ipython3",
   "version": "3.8.11"
  },
  "orig_nbformat": 4,
  "vscode": {
   "interpreter": {
    "hash": "1e949e87132dd83f1a7623eb88007e3532b03b66b77111be347aa4a383049722"
   }
  }
 },
 "nbformat": 4,
 "nbformat_minor": 2
}

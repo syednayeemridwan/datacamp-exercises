{
 "cells": [
  {
   "cell_type": "markdown",
   "metadata": {},
   "source": [
    "# Counting Elements in the Wild"
   ]
  },
  {
   "cell_type": "markdown",
   "metadata": {},
   "source": [
    "- The number of elements selected with the XPath string `xpath = \"/html/body/*` is equal to the number of children of the body element; whereas the number of elements selected with the XPath string xpath = \"/html/body//*\" is equal to the total number of descendants of the body element.\n",
    "- p\n",
    "- The number of elements selected by the XPath string xpath = \"/*\" is equal to the number of root elements within the HTML document, which is typically the 1 html root element.\n",
    "- The number of elements selected by the Xpath string xpath = \"//*\" is equal to the total number of elements in the entire HTML document."
   ]
  },
  {
   "cell_type": "markdown",
   "metadata": {},
   "source": [
    "# Body Appendages"
   ]
  },
  {
   "cell_type": "markdown",
   "metadata": {},
   "source": [
    "create an XPath string which can be used to direct to all child elements the body (regardless of tag type)"
   ]
  },
  {
   "cell_type": "code",
   "execution_count": 1,
   "metadata": {},
   "outputs": [],
   "source": [
    "# # Create an XPath string to direct to children of body element\n",
    "# xpath = '/html/body/*'\n",
    "\n",
    "# # Print out the number of elements selected\n",
    "# how_many_elements( xpath )"
   ]
  },
  {
   "cell_type": "markdown",
   "metadata": {},
   "source": [
    "# Choose DataCamp!"
   ]
  },
  {
   "cell_type": "markdown",
   "metadata": {},
   "source": [
    "```\n",
    "<html>\n",
    "  <body>\n",
    "    <div>\n",
    "      <p>Hello World!</p>\n",
    "      <div>\n",
    "        <p>Choose DataCamp!</p>\n",
    "      </div>\n",
    "    </div>\n",
    "    <div>\n",
    "      <p>Thanks for Watching!</p>\n",
    "    </div>\n",
    "  </body>\n",
    "</html>\n",
    "```\n",
    "\n",
    "select the paragraph element containing the text \"Choose DataCamp!\"."
   ]
  },
  {
   "cell_type": "code",
   "execution_count": 2,
   "metadata": {},
   "outputs": [],
   "source": [
    "# # Create an XPath string to the desired paragraph element\n",
    "# xpath = '/html/body/div/div/p'\n",
    "\n",
    "# # Print out the element text\n",
    "# print_element_text( xpath )"
   ]
  },
  {
   "cell_type": "markdown",
   "metadata": {},
   "source": [
    "# Where it's @"
   ]
  },
  {
   "cell_type": "markdown",
   "metadata": {},
   "source": [
    "select the paragraph element containing the text \"Thanks for Watching!\""
   ]
  },
  {
   "cell_type": "code",
   "execution_count": 3,
   "metadata": {},
   "outputs": [],
   "source": [
    "# # Create an Xpath string to select desired p element\n",
    "# xpath = '//*[@id=\"div3\"]/p'\n",
    "\n",
    "# # Print out selection text\n",
    "# print_element_text( xpath )"
   ]
  },
  {
   "cell_type": "markdown",
   "metadata": {},
   "source": [
    "# Check your Class"
   ]
  },
  {
   "cell_type": "markdown",
   "metadata": {},
   "source": [
    "select an element by its class attribute without using the contains() function"
   ]
  },
  {
   "cell_type": "code",
   "execution_count": 4,
   "metadata": {},
   "outputs": [],
   "source": [
    "# # Create an XPath string to select p element by class\n",
    "# xpath = '//p[@class=\"class-1 class-2\"]'\n",
    "\n",
    "# # Print out select text\n",
    "# print_element_text( xpath )"
   ]
  },
  {
   "cell_type": "markdown",
   "metadata": {},
   "source": [
    "# Hyper(link) Active"
   ]
  },
  {
   "cell_type": "markdown",
   "metadata": {},
   "source": [
    "One of the most important attributes to extract for \"web-crawling\" is the hyperlink url (href attribute) within an a tag. Here, you will extract such a hyperlink! \n",
    "\n",
    "```\n",
    "<html>\n",
    "  <body>\n",
    "    <div id=\"div1\" class=\"class-1\">\n",
    "      <p class=\"class-1 class-2\">Hello World!</p>\n",
    "      <div id=\"div2\">\n",
    "        <p id=\"p2\" class=\"class-2\">Choose \n",
    "            <a href=\"http://datacamp.com\">DataCamp!</a>!\n",
    "        </p>\n",
    "      </div>\n",
    "    </div>\n",
    "    <div id=\"div3\" class=\"class-2\">\n",
    "      <p class=\"class-2\">Thanks for Watching!</p>\n",
    "    </div>\n",
    "  </body>\n",
    "```"
   ]
  },
  {
   "cell_type": "code",
   "execution_count": 5,
   "metadata": {},
   "outputs": [],
   "source": [
    "# # Create an xpath to the href attribute\n",
    "# xpath = '//p[@id=\"p2\"]/a/@href'\n",
    "\n",
    "# # Print out the selection(s); there should be only one\n",
    "# print_attribute( xpath )"
   ]
  },
  {
   "cell_type": "markdown",
   "metadata": {},
   "source": [
    "# Secret Links"
   ]
  },
  {
   "cell_type": "markdown",
   "metadata": {},
   "source": [
    "create an XPath which directs to all href attribute values of the hyperlink a elements whose class attributes contain the string `\"package-snippet\"`"
   ]
  },
  {
   "cell_type": "code",
   "execution_count": 6,
   "metadata": {},
   "outputs": [],
   "source": [
    "# # Create an xpath to the href attributes\n",
    "# xpath = '//a[contains(@class,\"package-snippet\")]/@href'\n",
    "\n",
    "# # Print out how many elements are selected\n",
    "# how_many_elements( xpath )\n",
    "# # Preview the selected elements\n",
    "# preview( xpath )"
   ]
  },
  {
   "cell_type": "markdown",
   "metadata": {},
   "source": [
    "# XPath Chaining"
   ]
  },
  {
   "cell_type": "markdown",
   "metadata": {},
   "source": [
    "Selector and SelectorList objects allow for chaining when using the xpath method. What this means is that you can apply the xpath method over once you've already applied it.  \"glue together\" the XPath pieces by using a period at the start of each subsequent XPath string"
   ]
  },
  {
   "cell_type": "code",
   "execution_count": 7,
   "metadata": {},
   "outputs": [],
   "source": [
    "# # Chain together xpath methods to select desired p element\n",
    "# sel.xpath( '//div' ).xpath( './span/p[3]' )"
   ]
  },
  {
   "cell_type": "markdown",
   "metadata": {},
   "source": [
    "# Divvy Up This Exercise"
   ]
  },
  {
   "cell_type": "markdown",
   "metadata": {},
   "source": [
    " use this html variable as the HTML document to set up a Selector object with, and create a SelectorList which selects all div elements"
   ]
  },
  {
   "cell_type": "code",
   "execution_count": 8,
   "metadata": {},
   "outputs": [],
   "source": [
    "# from scrapy import Selector\n",
    "\n",
    "# # Create a Selector selecting html as the HTML document\n",
    "# sel = Selector( text = html )\n",
    "\n",
    "# # Create a SelectorList of all div elements in the HTML document\n",
    "# divs = sel.xpath( '//div' )"
   ]
  },
  {
   "cell_type": "markdown",
   "metadata": {},
   "source": [
    "choose the incorrect response:\n",
    "- divs[2] is another SelectorList of length 2 because `len(divs[2].extract())` returns 74"
   ]
  },
  {
   "cell_type": "markdown",
   "metadata": {},
   "source": [
    "# Course Class by Inspection"
   ]
  },
  {
   "cell_type": "markdown",
   "metadata": {},
   "source": [
    "You can use \"inspecting the element\" in a browser and see the contents of the webpage. By looking at the source (HTML) code provided in this image, choose which of the following matches the class attribute for the h4 element containing the text for the title of the selected course.\n",
    "- class=\"course-block__title\""
   ]
  },
  {
   "cell_type": "markdown",
   "metadata": {},
   "source": [
    "# Requesting a Selector"
   ]
  },
  {
   "cell_type": "markdown",
   "metadata": {},
   "source": [
    "We have pre-loaded the URL for a particular website in the string variable url and use the requests library to put the content from the website into the string variable html. Your task is to create a Selector object sel using the HTML source code stored in html"
   ]
  },
  {
   "cell_type": "code",
   "execution_count": 9,
   "metadata": {},
   "outputs": [],
   "source": [
    "# # Import a scrapy Selector\n",
    "# from scrapy import Selector\n",
    "\n",
    "# # Import requests\n",
    "# import requests\n",
    "\n",
    "# # Create the string html containing the HTML source\n",
    "# html = requests.get( url ).content\n",
    "\n",
    "# # Create the Selector object sel from html\n",
    "# sel = Selector( text = html )\n",
    "\n",
    "# # Print out the number of elements in the HTML document\n",
    "# print( \"There are 1020 elements in the HTML document.\")\n",
    "# print( \"You have found: \", len( sel.xpath('//*') ) )"
   ]
  }
 ],
 "metadata": {
  "kernelspec": {
   "display_name": "Python 3.8.3 ('base')",
   "language": "python",
   "name": "python3"
  },
  "language_info": {
   "codemirror_mode": {
    "name": "ipython",
    "version": 3
   },
   "file_extension": ".py",
   "mimetype": "text/x-python",
   "name": "python",
   "nbconvert_exporter": "python",
   "pygments_lexer": "ipython3",
   "version": "3.8.3"
  },
  "orig_nbformat": 4,
  "vscode": {
   "interpreter": {
    "hash": "dc575bfddb5c8ca4bb6a4f4dcdd32abc104b5fa4177361381c432fff36ce3e46"
   }
  }
 },
 "nbformat": 4,
 "nbformat_minor": 2
}

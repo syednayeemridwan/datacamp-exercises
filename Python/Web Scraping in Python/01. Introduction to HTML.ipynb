{
 "cells": [
  {
   "cell_type": "markdown",
   "metadata": {},
   "source": [
    "# Web-scraping is not nonsense!"
   ]
  },
  {
   "cell_type": "markdown",
   "metadata": {},
   "source": [
    "Select which of the following are correct:\n",
    "- Web scraping can be useful for looking through product reviews to gauge public opinion about a particular product.\n",
    "- Web scraping can be useful for reading through social media posts between users in different areas to compare different language usage.\n",
    "- Web scraping can be useful for going through online news publications to pick out articles discussing a particular topic."
   ]
  },
  {
   "cell_type": "markdown",
   "metadata": {},
   "source": [
    "# HTML tree wordy navigation"
   ]
  },
  {
   "cell_type": "markdown",
   "metadata": {},
   "source": [
    "Given the html tree, which of the following not correctly navigates to the paragraph element containing \"Hello World!\"?"
   ]
  },
  {
   "cell_type": "code",
   "execution_count": 1,
   "metadata": {},
   "outputs": [],
   "source": [
    "# <html>\n",
    "#     <head>\n",
    "#         <title> Intro to  HTML </title>\n",
    "#     </head>\n",
    "#     <body>\n",
    "#         <p> Hello World </p>\n",
    "#         <p> Enjoy DataCamp </p>\n",
    "#     </body>\n",
    "# </html>"
   ]
  },
  {
   "cell_type": "markdown",
   "metadata": {},
   "source": [
    "- The first child of the second child of the root html element.\n",
    "- The first child of the body element\n",
    "- The only sibling of the paragraph p element containing the text \"Enjoy DataCamp!\".\n",
    "- The first paragraph element."
   ]
  },
  {
   "cell_type": "markdown",
   "metadata": {},
   "source": [
    "# From Tree to HTML"
   ]
  },
  {
   "cell_type": "code",
   "execution_count": 2,
   "metadata": {},
   "outputs": [],
   "source": [
    "html = '''\n",
    "<html>\n",
    "  <head>\n",
    "    <title>Intro HTML</title>\n",
    "  </head>\n",
    "  <body>\n",
    "    <p>Hello World!</p>\n",
    "    <p>Enjoy DataCamp!</p>\n",
    "  </body>\n",
    "</html>\n",
    "'''"
   ]
  },
  {
   "cell_type": "markdown",
   "metadata": {},
   "source": [
    "# Keep it Classy"
   ]
  },
  {
   "cell_type": "code",
   "execution_count": 3,
   "metadata": {},
   "outputs": [],
   "source": [
    "# <html>\n",
    "#   <head>\n",
    "#     <title>Website Title</title>\n",
    "#     <link rel=\"stylesheet\" type=\"text/css\" href=\"style.css\">\n",
    "#   </head>\n",
    "#   <body>\n",
    "#     <div class=\"class1\" id=\"div1\">\n",
    "#       <p class=\"class2\">\n",
    "#         Visit <a href=\"http://datacamp.com/\">DataCamp</a>!\n",
    "#       </p>\n",
    "#     </div>\n",
    "#     <div class=\"class1 class3\" id=\"div2\">\n",
    "#       Hello World!\n",
    "#     </div>\n",
    "#   </body>\n",
    "# </html>"
   ]
  },
  {
   "cell_type": "markdown",
   "metadata": {},
   "source": [
    "Which elements belong to the class class1?\n",
    "- Only the first and second div elements."
   ]
  },
  {
   "cell_type": "markdown",
   "metadata": {},
   "source": [
    "Fill in the blank in the HTML code string html to assign a class attribute to the second div element which has the value \"you-are-classy\"."
   ]
  },
  {
   "cell_type": "code",
   "execution_count": 5,
   "metadata": {},
   "outputs": [],
   "source": [
    "# # HTML code string\n",
    "# html = '''\n",
    "# <html>\n",
    "#   <body>\n",
    "#     <div class=\"class1\" id=\"div1\">\n",
    "#       <p class=\"class2\">Visit DataCamp!</p>\n",
    "#     </div>\n",
    "#     <div class=\"you-are-classy\">\n",
    "#       <p class=\"class2\">Keep up the good work!</p>\n",
    "#     </div>\n",
    "#   </body>\n",
    "# </html>\n",
    "# '''\n",
    "# # Print out the class of the second div element\n",
    "# whats_my_class( html )"
   ]
  },
  {
   "cell_type": "markdown",
   "metadata": {},
   "source": [
    "# Finding href"
   ]
  },
  {
   "cell_type": "code",
   "execution_count": 6,
   "metadata": {},
   "outputs": [],
   "source": [
    "# <html>\n",
    "#   <head>\n",
    "#     <title>Website Title</title>\n",
    "#     <link rel=\"stylesheet\" type=\"text/css\" href=\"style.css\">\n",
    "#   </head>\n",
    "#   <body>\n",
    "#     <div class=\"class1\" id=\"div1\">\n",
    "#       <p class=\"class2\">\n",
    "#         Visit <a href=\"http://datacamp.com/\">DataCamp</a>!\n",
    "#       </p>\n",
    "#     </div>\n",
    "#     <div class=\"class1 class3\" id=\"div2\">\n",
    "#       <p class=\"class2\">\n",
    "#         Or search for it on <a href=\"http://www.google.com\">Google</a>!\n",
    "#       </p>\n",
    "#     </div>\n",
    "#   </body>\n",
    "# </html>"
   ]
  },
  {
   "cell_type": "markdown",
   "metadata": {},
   "source": [
    "Which of the following does not correctly describe how to get to the URL, http://datacamp.com?\n",
    "- The URL is the only href attribute of any descendant of any div element belonging to class class1."
   ]
  },
  {
   "cell_type": "markdown",
   "metadata": {},
   "source": [
    "# Where am I?"
   ]
  },
  {
   "cell_type": "code",
   "execution_count": 7,
   "metadata": {},
   "outputs": [],
   "source": [
    "# <html>\n",
    "#   <body>\n",
    "#     <div>\n",
    "#       <p>Good Luck!</p>\n",
    "#       <p>Not here...</p>\n",
    "#     </div>\n",
    "#     <div>\n",
    "#       <p>Where am I?</p>\n",
    "#     </div>\n",
    "#   </body>\n",
    "# </html>"
   ]
  },
  {
   "cell_type": "markdown",
   "metadata": {},
   "source": [
    "reate an XPath string using single forward-slashes and brackets which navigates to the paragraph p element which contains the text \"Where am I?\"."
   ]
  },
  {
   "cell_type": "code",
   "execution_count": 8,
   "metadata": {},
   "outputs": [],
   "source": [
    "# Fill in the blank\n",
    "xpath = '/html/body/div[2]/p'"
   ]
  },
  {
   "cell_type": "markdown",
   "metadata": {},
   "source": [
    "# It's Time to P"
   ]
  },
  {
   "cell_type": "markdown",
   "metadata": {},
   "source": [
    " select all paragraph p elements within the HTML."
   ]
  },
  {
   "cell_type": "code",
   "execution_count": 9,
   "metadata": {},
   "outputs": [],
   "source": [
    "# Fill in the blank\n",
    "xpath = '//p'"
   ]
  },
  {
   "cell_type": "markdown",
   "metadata": {},
   "source": [
    "# A classy span"
   ]
  },
  {
   "cell_type": "markdown",
   "metadata": {},
   "source": [
    "Although we haven't yet gone deep into XPath, one thing we can do is select elements by their attributes using an XPath. For example, if we want to direct to the div element within the HTML document whose id attribute is \"uid\", then we could write the XPath string `'//div[@id=\"uid\"]'`. The first part of this string, //div, first looks at all div elements in the HTML document. Then, using the brackets, we specify that we want only the div element with a specific id attribute (in this case uid). To note, the phrase @id=\"uid\" in the brackets would be read as \"attribute id equals uid\"."
   ]
  },
  {
   "cell_type": "code",
   "execution_count": 10,
   "metadata": {},
   "outputs": [],
   "source": [
    "# Fill in the blank\n",
    "xpath = '//span[@class=\"span-class\"]'"
   ]
  }
 ],
 "metadata": {
  "kernelspec": {
   "display_name": "Python 3.8.11 ('env_py')",
   "language": "python",
   "name": "python3"
  },
  "language_info": {
   "codemirror_mode": {
    "name": "ipython",
    "version": 3
   },
   "file_extension": ".py",
   "mimetype": "text/x-python",
   "name": "python",
   "nbconvert_exporter": "python",
   "pygments_lexer": "ipython3",
   "version": "3.8.11"
  },
  "orig_nbformat": 4,
  "vscode": {
   "interpreter": {
    "hash": "1e949e87132dd83f1a7623eb88007e3532b03b66b77111be347aa4a383049722"
   }
  }
 },
 "nbformat": 4,
 "nbformat_minor": 2
}

{
 "cells": [
  {
   "cell_type": "markdown",
   "metadata": {},
   "source": [
    "# The (X)Path to CSS Locators"
   ]
  },
  {
   "cell_type": "markdown",
   "metadata": {},
   "source": [
    "do some direct \"translation\" between the two."
   ]
  },
  {
   "cell_type": "code",
   "execution_count": 1,
   "metadata": {},
   "outputs": [],
   "source": [
    "# # Create the XPath string equivalent to the CSS Locator \n",
    "# xpath = '/html/body/span[1]//a'\n",
    "\n",
    "# # Create the CSS Locator string equivalent to the XPath\n",
    "# css_locator = 'html > body > span:nth-of-type(1) a'\n",
    "\n",
    "# # Create the XPath string equivalent to the CSS Locator \n",
    "# xpath = '//div[@id=\"uid\"]/span//h4'\n",
    "\n",
    "# # Create the CSS Locator string equivalent to the XPath\n",
    "# css_locator = 'div#uid > span h4'"
   ]
  },
  {
   "cell_type": "markdown",
   "metadata": {},
   "source": [
    "# Get an \"a\" in this Course"
   ]
  },
  {
   "cell_type": "markdown",
   "metadata": {},
   "source": [
    "we want you to create a CSS Locator string which will select a certain collection of elements as described here: Select the hyperlink (a element) children of all div elements belonging to the class \"course-block\" (that is, any div element with a class attribute such that \"course-block\" is one of the classes assigned). The number of such elements is 11, so you can check your solution with how_many_elements if you choose."
   ]
  },
  {
   "cell_type": "code",
   "execution_count": 1,
   "metadata": {},
   "outputs": [],
   "source": [
    "# from scrapy import Selector\n",
    "\n",
    "# # Create a selector from the html (of a secret website)\n",
    "# sel = Selector( text = html )\n",
    "\n",
    "# # Fill in the blank\n",
    "# css_locator = 'div.course-block > a'\n",
    "\n",
    "# # Print the number of selected elements.\n",
    "# how_many_elements( css_locator )"
   ]
  },
  {
   "cell_type": "markdown",
   "metadata": {},
   "source": [
    "# The CSS Wildcard"
   ]
  },
  {
   "cell_type": "markdown",
   "metadata": {},
   "source": [
    "You can use the wildcard * in CSS Locators too! In fact, we can use it in a similar way, when we want to ignore the tag type. For example:\n",
    "\n",
    "- The CSS Locator string '*' selects all elements in the HTML document.\n",
    "- The CSS Locator string '*.class-1' selects all elements which belong to class-1, but this is unnecessary since the string '.class-1' will also do the same job.\n",
    "- The CSS Locator string '*#uid' selects the element with id attribute equal to uid, but this is unnecessary since the string '#uid' will also do the same job."
   ]
  },
  {
   "cell_type": "code",
   "execution_count": 2,
   "metadata": {},
   "outputs": [],
   "source": [
    "# # Create the CSS Locator to all children of the element whose id is uid\n",
    "# css_locator = '#uid > *'"
   ]
  },
  {
   "cell_type": "markdown",
   "metadata": {},
   "source": [
    "# You've been `href`ed"
   ]
  },
  {
   "cell_type": "markdown",
   "metadata": {},
   "source": [
    "In a previous exercise, you created a CSS Locator string to select the hyperlink (a element) children of all div elements belonging to the class \"course-block\". Here we have created a SelectorList called course_as having selected those hyperlink children.\n",
    "\n",
    "Now, we want you to fill in the blank below to extract the href attribute values from these elements. "
   ]
  },
  {
   "cell_type": "code",
   "execution_count": 3,
   "metadata": {},
   "outputs": [],
   "source": [
    "# from scrapy import Selector\n",
    "\n",
    "# # Create a selector object from a secret website\n",
    "# sel = Selector( text = html )\n",
    "\n",
    "# # Select all hyperlinks of div elements belonging to class \"course-block\"\n",
    "# course_as = sel.css( 'div.course-block > a' )\n",
    "\n",
    "# # Selecting all href attributes chaining with css\n",
    "# hrefs_from_css = course_as.css( '::attr(href)' )\n",
    "\n",
    "# # Selecting all href attributes chaining with xpath\n",
    "# hrefs_from_xpath = course_as.xpath( './@href' )"
   ]
  },
  {
   "cell_type": "markdown",
   "metadata": {},
   "source": [
    "# Top Level Text"
   ]
  },
  {
   "cell_type": "markdown",
   "metadata": {},
   "source": [
    ", you will only be selecting the text within the element, which does not include the text in future generations of the element."
   ]
  },
  {
   "cell_type": "code",
   "execution_count": 4,
   "metadata": {},
   "outputs": [],
   "source": [
    "# # Create an XPath string to the desired text.\n",
    "# xpath = '//p[@id=\"p3\"]/text()'\n",
    "\n",
    "# # Create a CSS Locator string to the desired text.\n",
    "# css_locator = 'p#p3::text'\n",
    "\n",
    "# # Print the text from our selections\n",
    "# print_results( xpath, css_locator )"
   ]
  },
  {
   "cell_type": "markdown",
   "metadata": {},
   "source": [
    "# All Level Text"
   ]
  },
  {
   "cell_type": "markdown",
   "metadata": {},
   "source": [
    "This exercise is similar to the previous, but differs in that you will be selecting text from multiple generations of a given element.\n",
    "\n",
    "You will write an XPath and CSS Locator strings to direct to the text of a specific paragraph p element. The p element in the HTML is uniquely defined by its id attribute, which is \"p3\". you will only be selecting the text within the element which includes all text within the future generations."
   ]
  },
  {
   "cell_type": "code",
   "execution_count": 5,
   "metadata": {},
   "outputs": [],
   "source": [
    "# # Create an XPath string to the desired text.\n",
    "# xpath = '//p[@id=\"p3\"]//text()'\n",
    "\n",
    "# # Create a CSS Locator string to the desired text.\n",
    "# css_locator = 'p#p3 ::text'\n",
    "\n",
    "# # Print the text from our selections\n",
    "# print_results( xpath, css_locator )"
   ]
  },
  {
   "cell_type": "markdown",
   "metadata": {},
   "source": [
    "# Reveal By Response"
   ]
  },
  {
   "cell_type": "markdown",
   "metadata": {},
   "source": [
    "We have pre-loaded a Response object, named response, with the content from a secret website. Your job is to figure out the URL and the title of the website using the response variable. You learned how to find the URL in the last lesson. To find the website title, what you need to know is:\n",
    "\n",
    "- The title is the text from the title element\n",
    "- The title element is a child of the head element, which is a child of the html root element."
   ]
  },
  {
   "cell_type": "code",
   "execution_count": 6,
   "metadata": {},
   "outputs": [],
   "source": [
    "# # Get the URL to the website loaded in response\n",
    "# this_url = response.url\n",
    "\n",
    "# # Get the title of the website loaded in response\n",
    "# this_title = response.css('html > head > title::text').extract_first()\n",
    "\n",
    "# # Print out our findings\n",
    "# print_url_title( this_url, this_title )"
   ]
  },
  {
   "cell_type": "markdown",
   "metadata": {},
   "source": [
    "# Responding with Selectors"
   ]
  },
  {
   "cell_type": "markdown",
   "metadata": {},
   "source": [
    "Something that we should emphasize at this point about the relationship between a Selector and Response objects is that both objects return a SelectorList when using the xpath or css methods to direct to elements. "
   ]
  },
  {
   "cell_type": "code",
   "execution_count": 7,
   "metadata": {},
   "outputs": [],
   "source": [
    "# # Create a CSS Locator string to the desired hyperlink elements\n",
    "# css_locator = 'a.course-block__link'\n",
    "\n",
    "# # Select the hyperlink elements from response and sel\n",
    "# response_as = response.css(css_locator)\n",
    "# sel_as = sel.css(css_locator)\n",
    "\n",
    "# # Examine similarity\n",
    "# nr = len( response_as )\n",
    "# ns = len( sel_as )\n",
    "# for i in range( min(nr, ns, 2) ):\n",
    "#   print( \"Element %d from response: %s\" % (i+1, response_as[i]) )\n",
    "#   print( \"Element %d from sel: %s\" % (i+1, sel_as[i]) )\n",
    "#   print( \"\" )"
   ]
  },
  {
   "cell_type": "markdown",
   "metadata": {},
   "source": [
    "# Selecting from a Selection"
   ]
  },
  {
   "cell_type": "markdown",
   "metadata": {},
   "source": [
    "In this exercise, you will find the text from an h4 element within a particular div element. It will occur in steps where the first step is selecting a family of div elements, and the second step is narrowing in on the first one, from which we will grab the h4 element text. This process of progressively narrowing in on elements (e.g., first to the div elements, then to the h4 element) is another example of \"chaining\"."
   ]
  },
  {
   "cell_type": "code",
   "execution_count": 9,
   "metadata": {},
   "outputs": [],
   "source": [
    "# # Select all desired div elements\n",
    "# divs = response.css('div.course-block')\n",
    "\n",
    "# # Take the first div element\n",
    "# first_div = divs[0]\n",
    "\n",
    "# # Extract the text from the (only) h4 element in first_div\n",
    "# h4_text = first_div.css('h4 ::text').extract_first()\n",
    "\n",
    "# # Print out the text\n",
    "# print( \"The text from the h4 element is:\", h4_text )"
   ]
  },
  {
   "cell_type": "markdown",
   "metadata": {},
   "source": [
    " What type of element is first_div?\n",
    " - A Selector object."
   ]
  },
  {
   "cell_type": "markdown",
   "metadata": {},
   "source": [
    "# Titular"
   ]
  },
  {
   "cell_type": "markdown",
   "metadata": {},
   "source": [
    "The course titles are the text from all the h4 elements within the HTML document.\n",
    "We ask you to extract these course titles here."
   ]
  },
  {
   "cell_type": "code",
   "execution_count": 10,
   "metadata": {},
   "outputs": [],
   "source": [
    "# # Create a SelectorList of the course titles\n",
    "# crs_title_els = response.css('div.course-block')\n",
    "\n",
    "# # Extract the course titles \n",
    "# crs_titles = crs_title_els.css('h4 ::text').extract()\n",
    "\n",
    "# # Print out the course titles \n",
    "# for el in crs_titles:\n",
    "#   print( \">>\", el )"
   ]
  },
  {
   "cell_type": "markdown",
   "metadata": {},
   "source": [
    "# Scraping with Children"
   ]
  },
  {
   "cell_type": "markdown",
   "metadata": {},
   "source": [
    "Here we ask you to find the number of children of a mystery element (already stored within a Selector object, so you can use the xpath or css method).\n",
    "\n",
    "To be explicit, we have created the Selector object mystery in the following way:\n",
    "\n",
    "- We first loaded a Response variable using a secret website as the input.\n",
    "- Then we used a call to the xpath method to create a SelectorList of elements (but we won't say which ones)\n",
    "- Finally, we let mystery be the first Selector object of this SelectorList."
   ]
  },
  {
   "cell_type": "code",
   "execution_count": 11,
   "metadata": {},
   "outputs": [],
   "source": [
    "# # Calculate the number of children of the mystery element\n",
    "# how_many_kids = len( mystery.xpath( './*' ) )\n",
    "\n",
    "# # Print out the number\n",
    "# print( \"The number of elements you selected was:\", how_many_kids )"
   ]
  }
 ],
 "metadata": {
  "kernelspec": {
   "display_name": "Python 3.8.11 ('env_py')",
   "language": "python",
   "name": "python3"
  },
  "language_info": {
   "codemirror_mode": {
    "name": "ipython",
    "version": 3
   },
   "file_extension": ".py",
   "mimetype": "text/x-python",
   "name": "python",
   "nbconvert_exporter": "python",
   "pygments_lexer": "ipython3",
   "version": "3.8.11"
  },
  "orig_nbformat": 4,
  "vscode": {
   "interpreter": {
    "hash": "1e949e87132dd83f1a7623eb88007e3532b03b66b77111be347aa4a383049722"
   }
  }
 },
 "nbformat": 4,
 "nbformat_minor": 2
}

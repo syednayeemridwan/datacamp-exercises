{
 "cells": [
  {
   "cell_type": "markdown",
   "metadata": {},
   "source": [
    "# Pop quiz: what is efficient"
   ]
  },
  {
   "cell_type": "markdown",
   "metadata": {},
   "source": [
    "In the context of this course, what is meant by efficient Python code?\n",
    "- Code that executes quickly for the task at hand, minimizes the memory footprint and follows Python's coding style principles."
   ]
  },
  {
   "cell_type": "markdown",
   "metadata": {},
   "source": [
    "# A taste of things to come"
   ]
  },
  {
   "cell_type": "markdown",
   "metadata": {},
   "source": [
    "In this exercise, you'll explore both the Non-Pythonic and Pythonic ways of looping over a list."
   ]
  },
  {
   "cell_type": "markdown",
   "metadata": {},
   "source": [
    "Non-pythonic approach"
   ]
  },
  {
   "cell_type": "code",
   "execution_count": null,
   "metadata": {},
   "outputs": [],
   "source": [
    "# # Print the list created using the Non-Pythonic approach\n",
    "# i = 0\n",
    "# new_list= []\n",
    "# while i < len(names):\n",
    "#     if len(names[i]) >= 6:\n",
    "#         new_list.append(names[i])\n",
    "#     i += 1\n",
    "# print(new_list)"
   ]
  },
  {
   "cell_type": "markdown",
   "metadata": {},
   "source": [
    "More pythonic approach"
   ]
  },
  {
   "cell_type": "code",
   "execution_count": 1,
   "metadata": {},
   "outputs": [],
   "source": [
    "# # Print the list created by looping over the contents of names\n",
    "# better_list = []\n",
    "# for name in names:\n",
    "#     if len(name) >= 6:\n",
    "#         better_list.append(name)\n",
    "# print(better_list)"
   ]
  },
  {
   "cell_type": "markdown",
   "metadata": {},
   "source": [
    "Best pythonic approach"
   ]
  },
  {
   "cell_type": "code",
   "execution_count": 2,
   "metadata": {},
   "outputs": [],
   "source": [
    "# # Print the list created by using list comprehension\n",
    "# best_list = [name for name in names if len(name) >= 6]\n",
    "# print(best_list)"
   ]
  },
  {
   "cell_type": "markdown",
   "metadata": {},
   "source": [
    "# Zen of Python"
   ]
  },
  {
   "cell_type": "markdown",
   "metadata": {},
   "source": [
    "Python has hundreds of Python Enhancement Proposals, commonly referred to as PEPs. The Zen of Python is one of these PEPs and is documented as PEP20.\n",
    "\n",
    "One little Easter Egg in Python is the ability to print the Zen of Python using the command `import this`"
   ]
  },
  {
   "cell_type": "code",
   "execution_count": 3,
   "metadata": {},
   "outputs": [
    {
     "name": "stdout",
     "output_type": "stream",
     "text": [
      "The Zen of Python, by Tim Peters\n",
      "\n",
      "Beautiful is better than ugly.\n",
      "Explicit is better than implicit.\n",
      "Simple is better than complex.\n",
      "Complex is better than complicated.\n",
      "Flat is better than nested.\n",
      "Sparse is better than dense.\n",
      "Readability counts.\n",
      "Special cases aren't special enough to break the rules.\n",
      "Although practicality beats purity.\n",
      "Errors should never pass silently.\n",
      "Unless explicitly silenced.\n",
      "In the face of ambiguity, refuse the temptation to guess.\n",
      "There should be one-- and preferably only one --obvious way to do it.\n",
      "Although that way may not be obvious at first unless you're Dutch.\n",
      "Now is better than never.\n",
      "Although never is often better than *right* now.\n",
      "If the implementation is hard to explain, it's a bad idea.\n",
      "If the implementation is easy to explain, it may be a good idea.\n",
      "Namespaces are one honking great idea -- let's do more of those!\n"
     ]
    }
   ],
   "source": [
    "import this"
   ]
  },
  {
   "cell_type": "markdown",
   "metadata": {},
   "source": [
    "# Built-in practice: range()"
   ]
  },
  {
   "cell_type": "markdown",
   "metadata": {},
   "source": [
    "n this exercise, you will practice using Python's built-in function range(). Remember that you can use `range()` in a few different ways:\n",
    "\n",
    "1) Create a sequence of numbers from 0 to a stop value (which is exclusive).\n",
    "2) Create a sequence of numbers from a start value to a stop value (which is exclusive) with a step size. "
   ]
  },
  {
   "cell_type": "code",
   "execution_count": 4,
   "metadata": {},
   "outputs": [
    {
     "name": "stdout",
     "output_type": "stream",
     "text": [
      "<class 'range'>\n",
      "[0, 1, 2, 3, 4, 5]\n",
      "[1, 3, 5, 7, 9, 11]\n"
     ]
    }
   ],
   "source": [
    "# Create a range object that goes from 0 to 5\n",
    "nums = range(6)\n",
    "print(type(nums))\n",
    "\n",
    "# Convert nums to a list\n",
    "nums_list = list(nums)\n",
    "print(nums_list)\n",
    "\n",
    "# Create a new list of odd numbers from 1 to 11 by unpacking a range object\n",
    "nums_list2 = [*range(1,13,2)]\n",
    "print(nums_list2)"
   ]
  },
  {
   "cell_type": "markdown",
   "metadata": {},
   "source": [
    "# Built-in practice: enumerate()"
   ]
  },
  {
   "cell_type": "markdown",
   "metadata": {},
   "source": [
    "In this exercise, you'll practice using Python's built-in function `enumerate()`. This function is useful for obtaining an indexed list"
   ]
  },
  {
   "cell_type": "code",
   "execution_count": 5,
   "metadata": {},
   "outputs": [],
   "source": [
    "# # Rewrite the for loop to use enumerate\n",
    "# indexed_names = []\n",
    "# for i,name in enumerate(names):\n",
    "#     index_name = (i,name)\n",
    "#     indexed_names.append(index_name) \n",
    "# print(indexed_names)\n",
    "\n",
    "# # Rewrite the above for loop using list comprehension\n",
    "# indexed_names_comp = [(i,name) for i,name in enumerate(names)]\n",
    "# print(indexed_names_comp)\n",
    "\n",
    "# # Unpack an enumerate object with a starting index of one\n",
    "# indexed_names_unpack = [*enumerate(names, start=1)]\n",
    "# print(indexed_names_unpack)"
   ]
  },
  {
   "cell_type": "markdown",
   "metadata": {},
   "source": [
    "# Built-in practice: map()"
   ]
  },
  {
   "cell_type": "markdown",
   "metadata": {},
   "source": [
    "In this exercise, you'll practice using Python's built-in `map()` function to apply a function to every element of an object. "
   ]
  },
  {
   "cell_type": "code",
   "execution_count": 6,
   "metadata": {},
   "outputs": [],
   "source": [
    "# # Use map to apply str.upper to each element in names\n",
    "# names_map  = map(str.upper, names)\n",
    "\n",
    "# # Print the type of the names_map\n",
    "# print(type(names_map))\n",
    "\n",
    "# # Unpack names_map into a list\n",
    "# names_uppercase = [*names_map]\n",
    "\n",
    "# # Print the list created above\n",
    "# print(names_uppercase)"
   ]
  },
  {
   "cell_type": "markdown",
   "metadata": {},
   "source": [
    "# Practice with NumPy arrays"
   ]
  },
  {
   "cell_type": "markdown",
   "metadata": {},
   "source": [
    "Let's practice slicing `numpy` arrays and using NumPy's broadcasting concept. Remember, broadcasting refers to a numpy array's ability to vectorize operations, so they are performed on all elements of an object at once."
   ]
  },
  {
   "cell_type": "code",
   "execution_count": 8,
   "metadata": {},
   "outputs": [],
   "source": [
    "# # Print second row of nums\n",
    "# print(nums[1,:])\n",
    "\n",
    "# # Print all elements of nums that are greater than six\n",
    "# print(nums[nums > 6])\n",
    "\n",
    "# # Double every element of nums\n",
    "# nums_dbl = nums * 2\n",
    "# print(nums_dbl)\n",
    "\n",
    "# # Replace the third column of nums\n",
    "# nums[:,2] = nums[:,2] + 1\n",
    "# print(nums)"
   ]
  },
  {
   "cell_type": "markdown",
   "metadata": {},
   "source": [
    "When compared to a list object, what are two advantages of using a numpy array?\n",
    "- A numpy array contains homogeneous data types (which reduces memory consumption) and provides the ability to apply operations on all elements through broadcasting."
   ]
  },
  {
   "cell_type": "markdown",
   "metadata": {},
   "source": [
    "# Bringing it all together: Festivus!"
   ]
  },
  {
   "cell_type": "markdown",
   "metadata": {},
   "source": [
    "You have a list of guests (the names list). Each guest, for whatever reason, has decided to show up to the party in 10-minute increments. For example, Jerry shows up to Festivus 10 minutes into the party's start time, Kramer shows up 20 minutes into the party, and so on and so forth.\n",
    "\n",
    "We want to write a few simple lines of code, using the built-ins we have covered, to welcome each of your guests and let them know how many minutes late they are to your party. Note that `numpy` has been imported into your session as np and the names list has been loaded as well.\n",
    "\n",
    "Let's welcome your guests!"
   ]
  },
  {
   "cell_type": "code",
   "execution_count": 1,
   "metadata": {},
   "outputs": [],
   "source": [
    "# # Create a list of arrival times\n",
    "# arrival_times = [* range(10, 51, 10)]\n",
    "\n",
    "# print(arrival_times)"
   ]
  },
  {
   "cell_type": "code",
   "execution_count": 2,
   "metadata": {},
   "outputs": [],
   "source": [
    "# # Create a list of arrival times\n",
    "# arrival_times = [*range(10,60,10)]\n",
    "\n",
    "# # Convert arrival_times to an array and update the times\n",
    "# arrival_times_np = np.array(arrival_times)\n",
    "# new_times = arrival_times_np - 3\n",
    "\n",
    "# print(new_times)"
   ]
  },
  {
   "cell_type": "code",
   "execution_count": 3,
   "metadata": {},
   "outputs": [],
   "source": [
    "# # Create a list of arrival times\n",
    "# arrival_times = [*range(10,60,10)]\n",
    "\n",
    "# # Convert arrival_times to an array and update the times\n",
    "# arrival_times_np = np.array(arrival_times)\n",
    "# new_times = arrival_times_np - 3\n",
    "\n",
    "# # Use list comprehension and enumerate to pair guests to new times\n",
    "# guest_arrivals = [(names[idx],time) for idx,time in enumerate(new_times)]\n",
    "\n",
    "# print(guest_arrivals)"
   ]
  },
  {
   "cell_type": "code",
   "execution_count": 4,
   "metadata": {},
   "outputs": [],
   "source": [
    "# # Create a list of arrival times\n",
    "# arrival_times = [*range(10,60,10)]\n",
    "\n",
    "# # Convert arrival_times to an array and update the times\n",
    "# arrival_times_np = np.array(arrival_times)\n",
    "# new_times = arrival_times_np - 3\n",
    "\n",
    "# # Use list comprehension and enumerate to pair guests to new times\n",
    "# guest_arrivals = [(names[i],time) for i,time in enumerate(new_times)]\n",
    "\n",
    "# # Map the welcome_guest function to each (guest,time) pair\n",
    "# welcome_map = map(welcome_guest, guest_arrivals)\n",
    "\n",
    "# guest_welcomes = [*welcome_map]\n",
    "# print(*guest_welcomes, sep='\\n')"
   ]
  }
 ],
 "metadata": {
  "kernelspec": {
   "display_name": "Python 3.8.11 ('env_py')",
   "language": "python",
   "name": "python3"
  },
  "language_info": {
   "codemirror_mode": {
    "name": "ipython",
    "version": 3
   },
   "file_extension": ".py",
   "mimetype": "text/x-python",
   "name": "python",
   "nbconvert_exporter": "python",
   "pygments_lexer": "ipython3",
   "version": "3.8.11"
  },
  "orig_nbformat": 4,
  "vscode": {
   "interpreter": {
    "hash": "1e949e87132dd83f1a7623eb88007e3532b03b66b77111be347aa4a383049722"
   }
  }
 },
 "nbformat": 4,
 "nbformat_minor": 2
}

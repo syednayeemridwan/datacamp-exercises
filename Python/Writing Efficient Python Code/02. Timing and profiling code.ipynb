{
 "cells": [
  {
   "cell_type": "markdown",
   "metadata": {},
   "source": [
    "# Using %timeit: your turn!"
   ]
  },
  {
   "cell_type": "markdown",
   "metadata": {},
   "source": [
    "You'd like to create a list of integers from 0 to 50 using the `range()` function. However, you are unsure whether using list comprehension or unpacking the range object into a list is faster. Let's use `%timeit` to find the best implementation."
   ]
  },
  {
   "cell_type": "code",
   "execution_count": 2,
   "metadata": {},
   "outputs": [
    {
     "name": "stdout",
     "output_type": "stream",
     "text": [
      "3.41 µs ± 652 ns per loop (mean ± std. dev. of 7 runs, 100000 loops each)\n",
      "[0, 1, 2, 3, 4, 5, 6, 7, 8, 9, 10, 11, 12, 13, 14, 15, 16, 17, 18, 19, 20, 21, 22, 23, 24, 25, 26, 27, 28, 29, 30, 31, 32, 33, 34, 35, 36, 37, 38, 39, 40, 41, 42, 43, 44, 45, 46, 47, 48, 49, 50]\n",
      "849 ns ± 39.3 ns per loop (mean ± std. dev. of 7 runs, 1000000 loops each)\n",
      "[0, 1, 2, 3, 4, 5, 6, 7, 8, 9, 10, 11, 12, 13, 14, 15, 16, 17, 18, 19, 20, 21, 22, 23, 24, 25, 26, 27, 28, 29, 30, 31, 32, 33, 34, 35, 36, 37, 38, 39, 40, 41, 42, 43, 44, 45, 46, 47, 48, 49, 50]\n"
     ]
    }
   ],
   "source": [
    "# Create a list of integers (0-50) using list comprehension\n",
    "%timeit nums_list_comp = [num for num in range(51)]\n",
    "print(nums_list_comp)\n",
    "\n",
    "# Create a list of integers (0-50) by unpacking range\n",
    "%timeit nums_unpack = [*range(51)]\n",
    "print(nums_unpack)"
   ]
  },
  {
   "cell_type": "markdown",
   "metadata": {},
   "source": [
    "# Using %timeit: specifying number of runs and loops"
   ]
  },
  {
   "cell_type": "markdown",
   "metadata": {},
   "source": [
    "What is the correct syntax when using %timeit and only using 5 runs with 25 loops per each run?"
   ]
  },
  {
   "cell_type": "code",
   "execution_count": 4,
   "metadata": {},
   "outputs": [],
   "source": [
    "# %timeit -r5 -n25 set(heroes)"
   ]
  },
  {
   "cell_type": "markdown",
   "metadata": {},
   "source": [
    "# Using %timeit: formal name or literal syntax"
   ]
  },
  {
   "cell_type": "markdown",
   "metadata": {},
   "source": [
    "Python allows you to create data structures using either a formal name or a literal syntax. In this exercise, you'll explore how using a literal syntax for creating a data structure can speed up runtimes."
   ]
  },
  {
   "cell_type": "code",
   "execution_count": 8,
   "metadata": {},
   "outputs": [
    {
     "name": "stdout",
     "output_type": "stream",
     "text": [
      "231 ns ± 64.8 ns per loop (mean ± std. dev. of 7 runs, 1000000 loops each)\n",
      "43.6 ns ± 4.67 ns per loop (mean ± std. dev. of 7 runs, 10000000 loops each)\n"
     ]
    }
   ],
   "source": [
    "# Create a list using the formal name\n",
    "%timeit formal_list = list()\n",
    "# print(formal_list)\n",
    "\n",
    "# Create a list using the literal syntax\n",
    "%timeit literal_list = []\n",
    "# print(literal_list)\n",
    "\n",
    "# Print out the type of formal_list\n",
    "# print(type(formal_list))\n",
    "\n",
    "# Print out the type of literal_list\n",
    "# print(type(literal_list))"
   ]
  },
  {
   "cell_type": "markdown",
   "metadata": {},
   "source": [
    "Using the literal syntax ([]) to create a list is faster."
   ]
  },
  {
   "cell_type": "markdown",
   "metadata": {},
   "source": [
    "# Using cell magic mode (%%timeit)"
   ]
  },
  {
   "cell_type": "markdown",
   "metadata": {},
   "source": [
    "Use `%%timeit` in your IPython console to compare runtimes between two approaches. "
   ]
  },
  {
   "cell_type": "code",
   "execution_count": 14,
   "metadata": {},
   "outputs": [
    {
     "name": "stdout",
     "output_type": "stream",
     "text": [
      "1.52 µs ± 171 ns per loop (mean ± std. dev. of 7 runs, 1000000 loops each)\n"
     ]
    }
   ],
   "source": [
    "%%timeit\n",
    "\n",
    "import numpy as np\n",
    "wts= [1,2,3,4,5,6]\n",
    "hero_wts_lbs = []\n",
    "for wt in wts:\n",
    "    hero_wts_lbs.append(wt * 2.20462)\n"
   ]
  },
  {
   "cell_type": "code",
   "execution_count": 13,
   "metadata": {},
   "outputs": [
    {
     "name": "stdout",
     "output_type": "stream",
     "text": [
      "4.39 µs ± 567 ns per loop (mean ± std. dev. of 7 runs, 100000 loops each)\n"
     ]
    }
   ],
   "source": [
    "%%timeit\n",
    "wts_np = np.array(wts)\n",
    "hero_wts_lbs_np = wts_np * 2.20462"
   ]
  },
  {
   "cell_type": "markdown",
   "metadata": {},
   "source": [
    "The numpy technique was faster."
   ]
  },
  {
   "cell_type": "markdown",
   "metadata": {},
   "source": [
    "# Pop quiz: steps for using %lprun"
   ]
  },
  {
   "cell_type": "markdown",
   "metadata": {},
   "source": [
    "What are the necessary steps you need to take in order to profile the `convert_units()` function acting on your superheroes data if you'd like to see line-by-line runtimes?"
   ]
  },
  {
   "cell_type": "code",
   "execution_count": 15,
   "metadata": {},
   "outputs": [],
   "source": [
    "def convert_units(heroes, heights, weights):\n",
    "\n",
    "    new_hts = [ht * 0.39370  for ht in heights]\n",
    "    new_wts = [wt * 2.20462  for wt in weights]\n",
    "\n",
    "    hero_data = {}\n",
    "\n",
    "    for i,hero in enumerate(heroes):\n",
    "        hero_data[hero] = (new_hts[i], new_wts[i])\n",
    "\n",
    "    return hero_data"
   ]
  },
  {
   "cell_type": "markdown",
   "metadata": {},
   "source": [
    "- Use `%load_ext line_profiler` to load the `line_profiler` within your IPython session.\n",
    "- Use `%lprun -f convert_units convert_units(heroes, hts, wts)` to get line-by-line runtimes."
   ]
  },
  {
   "cell_type": "code",
   "execution_count": 16,
   "metadata": {},
   "outputs": [],
   "source": [
    "# %load_ext line_profiler\n",
    "# %lprun -f convert_units convert_units(heroes, hts, wts)"
   ]
  },
  {
   "cell_type": "markdown",
   "metadata": {},
   "source": [
    "# Using %lprun: spot bottlenecks"
   ]
  },
  {
   "cell_type": "markdown",
   "metadata": {},
   "source": [
    "Profiling a function allows you to dig deeper into the function's source code and potentially spot bottlenecks. When you see certain lines of code taking up the majority of the function's runtime, it is an indication that you may want to deploy a different, more efficient technique.\n",
    "\n",
    "Lets dig deeper into the `convert_units()` function."
   ]
  },
  {
   "cell_type": "code",
   "execution_count": 18,
   "metadata": {},
   "outputs": [],
   "source": [
    "heroes = ['Batman', 'Superman', 'Wonder Woman']\n",
    "hts = np.array([188.0, 191.0, 183.0])\n",
    "wts = np.array([ 95.0, 101.0, 74.0])\n",
    "def convert_units(heroes, heights, weights):\n",
    "\n",
    "    new_hts = [ht * 0.39370  for ht in heights]\n",
    "    new_wts = [wt * 2.20462  for wt in weights]\n",
    "\n",
    "    hero_data = {}\n",
    "\n",
    "    for i,hero in enumerate(heroes):\n",
    "        hero_data[hero] = (new_hts[i], new_wts[i])\n",
    "\n",
    "    return hero_data"
   ]
  },
  {
   "cell_type": "code",
   "execution_count": 19,
   "metadata": {},
   "outputs": [
    {
     "name": "stdout",
     "output_type": "stream",
     "text": [
      "Timer unit: 1e-07 s\n",
      "\n",
      "Total time: 3.58e-05 s\n",
      "File: C:\\Users\\88016\\AppData\\Local\\Temp/ipykernel_16292/907188768.py\n",
      "Function: convert_units at line 4\n",
      "\n",
      "Line #      Hits         Time  Per Hit   % Time  Line Contents\n",
      "==============================================================\n",
      "     4                                           def convert_units(heroes, heights, weights):\n",
      "     5                                           \n",
      "     6         1        209.0    209.0     58.4      new_hts = [ht * 0.39370  for ht in heights]\n",
      "     7         1         60.0     60.0     16.8      new_wts = [wt * 2.20462  for wt in weights]\n",
      "     8                                           \n",
      "     9         1          8.0      8.0      2.2      hero_data = {}\n",
      "    10                                           \n",
      "    11         4         42.0     10.5     11.7      for i,hero in enumerate(heroes):\n",
      "    12         3         33.0     11.0      9.2          hero_data[hero] = (new_hts[i], new_wts[i])\n",
      "    13                                           \n",
      "    14         1          6.0      6.0      1.7      return hero_data"
     ]
    }
   ],
   "source": [
    "%load_ext line_profiler\n",
    "%lprun -f convert_units convert_units(heroes, hts, wts)"
   ]
  },
  {
   "cell_type": "markdown",
   "metadata": {},
   "source": [
    "What percentage of time is spent on the new_hts list comprehension line of code relative to the total amount of time spent in the `convert_units()` function?\n",
    "- 11% - 20%"
   ]
  },
  {
   "cell_type": "markdown",
   "metadata": {},
   "source": [
    "# Using %lprun: fix the bottleneck"
   ]
  },
  {
   "cell_type": "markdown",
   "metadata": {},
   "source": [
    "In the previous exercise, you profiled the `convert_units(`)` function and saw that the new_hts list comprehension could be a potential bottleneck. Did you notice that the new_wts list comprehension also accounted for a similar percentage of the runtime? This is an indication that you may want to create the new_hts and new_wts objects using a different technique.\n",
    "\n",
    "Since the height and weight of each hero is stored in a `numpy` array, you can use array broadcasting rather than list comprehension to convert the heights and weights. This has been implemented in the below function:"
   ]
  },
  {
   "cell_type": "code",
   "execution_count": 20,
   "metadata": {},
   "outputs": [],
   "source": [
    "def convert_units_broadcast(heroes, heights, weights):\n",
    "\n",
    "    # Array broadcasting instead of list comprehension\n",
    "    new_hts = heights * 0.39370\n",
    "    new_wts = weights * 2.20462\n",
    "\n",
    "    hero_data = {}\n",
    "\n",
    "    for i,hero in enumerate(heroes):\n",
    "        hero_data[hero] = (new_hts[i], new_wts[i])\n",
    "\n",
    "    return hero_data"
   ]
  },
  {
   "cell_type": "code",
   "execution_count": 22,
   "metadata": {},
   "outputs": [
    {
     "name": "stdout",
     "output_type": "stream",
     "text": [
      "Timer unit: 1e-07 s\n",
      "\n",
      "Total time: 4.78e-05 s\n",
      "File: C:\\Users\\88016\\AppData\\Local\\Temp/ipykernel_16292/907188768.py\n",
      "Function: convert_units at line 4\n",
      "\n",
      "Line #      Hits         Time  Per Hit   % Time  Line Contents\n",
      "==============================================================\n",
      "     4                                           def convert_units(heroes, heights, weights):\n",
      "     5                                           \n",
      "     6         1        210.0    210.0     43.9      new_hts = [ht * 0.39370  for ht in heights]\n",
      "     7         1         84.0     84.0     17.6      new_wts = [wt * 2.20462  for wt in weights]\n",
      "     8                                           \n",
      "     9         1         17.0     17.0      3.6      hero_data = {}\n",
      "    10                                           \n",
      "    11         4         87.0     21.8     18.2      for i,hero in enumerate(heroes):\n",
      "    12         3         67.0     22.3     14.0          hero_data[hero] = (new_hts[i], new_wts[i])\n",
      "    13                                           \n",
      "    14         1         13.0     13.0      2.7      return hero_data"
     ]
    }
   ],
   "source": [
    "%reload_ext line_profiler\n",
    "%lprun -f convert_units convert_units(heroes, hts, wts)"
   ]
  },
  {
   "cell_type": "markdown",
   "metadata": {},
   "source": [
    "What percentage of time is spent on the new_hts array broadcasting line of code relative to the total amount of time spent in the `convert_units_broadcast()` function?\n",
    "- 0% - 10%"
   ]
  },
  {
   "cell_type": "markdown",
   "metadata": {},
   "source": [
    "# Pop quiz: steps for using %mprun"
   ]
  },
  {
   "cell_type": "markdown",
   "metadata": {},
   "source": [
    "What are the necessary steps you need to take in order to profile the `convert_units()` function acting on your superheroes data if you'd like to see the line-by-line memory consumption of `convert_units()`?"
   ]
  },
  {
   "cell_type": "markdown",
   "metadata": {},
   "source": [
    "- Use the command `from hero_funcs import convert_units` to load the function you'd like to profile.\n",
    "- Use `%load_ext memory_profiler` to load the `memory_profile`r within your IPython session.\n",
    "- Use `%mprun -f convert_units convert_units(heroes, hts, wts)` to get line-by-line memory allocations."
   ]
  },
  {
   "cell_type": "markdown",
   "metadata": {},
   "source": [
    "# Using %mprun: Hero BMI"
   ]
  },
  {
   "cell_type": "markdown",
   "metadata": {},
   "source": [
    "You'd like to calculate the body mass index (BMI) for a selected sample of heroes. A function named calc_bmi_lists has also been created and saved to a file titled `bmi_lists.py`. How much memory do the list comprehension lines of code consume in the `calc_bmi_lists()` function? (i.e., what is the total sum of the Increment column for these four lines of code?)"
   ]
  },
  {
   "cell_type": "code",
   "execution_count": 28,
   "metadata": {},
   "outputs": [
    {
     "name": "stdout",
     "output_type": "stream",
     "text": [
      "\n"
     ]
    },
    {
     "name": "stdout",
     "output_type": "stream",
     "text": [
      "Filename: c:\\Users\\88016\\Desktop\\DataCamp Exercise\\Python\\Writing Efficient Python Code\\bmi_lists.py\n",
      "\n",
      "Line #    Mem usage    Increment  Occurrences   Line Contents\n",
      "=============================================================\n",
      "     1     40.6 MiB     40.6 MiB           1   def calc_bmi_lists(sample_indices, hts, wts):\n",
      "     2                                         \n",
      "     3                                             # Gather sample heights and weights as lists\n",
      "     4     40.6 MiB      0.0 MiB           4       s_hts = [hts[i] for i in sample_indices]\n",
      "     5     40.6 MiB      0.0 MiB           4       s_wts = [wts[i] for i in sample_indices]\n",
      "     6                                         \n",
      "     7                                             # Convert heights from cm to m and square with list comprehension\n",
      "     8     40.6 MiB      0.0 MiB           4       s_hts_m_sqr = [(ht / 100) ** 2 for ht in s_hts]\n",
      "     9                                         \n",
      "    10                                             # Calculate BMIs as a list with list comprehension\n",
      "    11     40.6 MiB      0.0 MiB           4       bmis = [s_wts[i] / s_hts_m_sqr[i] for i in range(len(sample_indices))]\n",
      "    12                                         \n",
      "    13     40.6 MiB      0.0 MiB           1       return bmis"
     ]
    }
   ],
   "source": [
    "from bmi_lists import calc_bmi_lists\n",
    "%reload_ext memory_profiler\n",
    "\n",
    "%mprun -f calc_bmi_lists calc_bmi_lists([1], hts, wts)"
   ]
  },
  {
   "cell_type": "markdown",
   "metadata": {},
   "source": [
    "- 0.1 MiB - 2.0 MiB"
   ]
  },
  {
   "cell_type": "markdown",
   "metadata": {},
   "source": [
    "# Using %mprun: Hero BMI 2.0"
   ]
  },
  {
   "cell_type": "markdown",
   "metadata": {},
   "source": [
    "Let's see if using a different approach to calculate the BMIs can save some memory. If you remember, each hero's height and weight is stored in a numpy array. That means you can use NumPy's handy array indexing capabilities and broadcasting to perform your calculations. A function named `calc_bmi_arrays` has been created and saved to a file titled `bmi_arrays.py`.\n",
    "\n",
    "How much memory do the array indexing and broadcasting lines of code consume in the `calc_bmi_array()` function? (i.e., what is the total sum of the Increment column for these four lines of code?)"
   ]
  },
  {
   "cell_type": "code",
   "execution_count": 29,
   "metadata": {},
   "outputs": [
    {
     "name": "stdout",
     "output_type": "stream",
     "text": [
      "\n"
     ]
    },
    {
     "name": "stdout",
     "output_type": "stream",
     "text": [
      "Filename: c:\\Users\\88016\\Desktop\\DataCamp Exercise\\Python\\Writing Efficient Python Code\\bmi_arrays.py\n",
      "\n",
      "Line #    Mem usage    Increment  Occurrences   Line Contents\n",
      "=============================================================\n",
      "     1     35.8 MiB     35.8 MiB           1   def calc_bmi_arrays(sample_indices, hts, wts):\n",
      "     2                                         \n",
      "     3                                             # Gather sample heights and weights as arrays\n",
      "     4     35.9 MiB      0.2 MiB           1       s_hts = hts[sample_indices]\n",
      "     5     35.9 MiB      0.0 MiB           1       s_wts = wts[sample_indices]\n",
      "     6                                         \n",
      "     7                                             # Convert heights from cm to m and square with broadcasting\n",
      "     8     36.0 MiB      0.1 MiB           1       s_hts_m_sqr = (s_hts / 100) ** 2\n",
      "     9                                         \n",
      "    10                                             # Calculate BMIs as an array using broadcasting\n",
      "    11     36.0 MiB      0.0 MiB           1       bmis = s_wts / s_hts_m_sqr\n",
      "    12                                         \n",
      "    13     36.0 MiB      0.0 MiB           1       return bmis"
     ]
    }
   ],
   "source": [
    "from bmi_arrays import calc_bmi_arrays\n",
    "%reload_ext memory_profiler\n",
    "\n",
    "%mprun -f calc_bmi_arrays calc_bmi_arrays([1], hts, wts)"
   ]
  },
  {
   "cell_type": "markdown",
   "metadata": {},
   "source": [
    "# Bringing it all together: Star Wars profiling"
   ]
  },
  {
   "cell_type": "markdown",
   "metadata": {},
   "source": [
    "You'd like to filter the heroes list based on a hero's specific publisher, but are unsure which of the below functions is more efficient."
   ]
  },
  {
   "cell_type": "code",
   "execution_count": 30,
   "metadata": {},
   "outputs": [],
   "source": [
    "def get_publisher_heroes(heroes, publishers, desired_publisher):\n",
    "\n",
    "    desired_heroes = []\n",
    "\n",
    "    for i,pub in enumerate(publishers):\n",
    "        if pub == desired_publisher:\n",
    "            desired_heroes.append(heroes[i])\n",
    "\n",
    "    return desired_heroes"
   ]
  },
  {
   "cell_type": "code",
   "execution_count": 31,
   "metadata": {},
   "outputs": [],
   "source": [
    "def get_publisher_heroes_np(heroes, publishers, desired_publisher):\n",
    "\n",
    "    heroes_np = np.array(heroes)\n",
    "    pubs_np = np.array(publishers)\n",
    "\n",
    "    desired_heroes = heroes_np[pubs_np == desired_publisher]\n",
    "\n",
    "    return desired_heroes"
   ]
  },
  {
   "cell_type": "code",
   "execution_count": 32,
   "metadata": {},
   "outputs": [],
   "source": [
    "# # Use get_publisher_heroes() to gather Star Wars heroes\n",
    "# star_wars_heroes = get_publisher_heroes(heroes, publishers, 'George Lucas')\n",
    "\n",
    "# print(star_wars_heroes)\n",
    "# print(type(star_wars_heroes))\n",
    "\n",
    "# # Use get_publisher_heroes_np() to gather Star Wars heroes\n",
    "# star_wars_heroes_np = get_publisher_heroes_np(heroes, publishers, 'George Lucas')\n",
    "\n",
    "# print(star_wars_heroes_np)\n",
    "# print(type(star_wars_heroes_np))"
   ]
  },
  {
   "cell_type": "markdown",
   "metadata": {},
   "source": [
    "load the line_profiler and use `%lprun` to profile the two functions for line-by-line runtime. When using `%lprun`, use each function to gather the Star Wars heroes as you did in the previous step. "
   ]
  },
  {
   "cell_type": "markdown",
   "metadata": {},
   "source": [
    "- `get_publisher_heroes_np()` is faster."
   ]
  },
  {
   "cell_type": "markdown",
   "metadata": {},
   "source": [
    "The `get_publisher_heroes()` function and `get_publisher_heroes_np()` function have been saved within a file titled `hero_funcs.py` (i.e., you can import both functions from hero_funcs). When using `%mprun`, use each function to gather the Star Wars heroes as you did in the previous step. "
   ]
  },
  {
   "cell_type": "markdown",
   "metadata": {},
   "source": [
    "- Both functions have the same memory consumption."
   ]
  },
  {
   "cell_type": "markdown",
   "metadata": {},
   "source": [
    "Based on your runtime profiling and memory allocation profiling, which function would you choose to gather Star Wars heroes?\n",
    "- I would use `get_publisher_heroes_np()`. Because although the memory usage is same, execution is faster here"
   ]
  }
 ],
 "metadata": {
  "kernelspec": {
   "display_name": "Python 3.8.11 ('env_py')",
   "language": "python",
   "name": "python3"
  },
  "language_info": {
   "codemirror_mode": {
    "name": "ipython",
    "version": 3
   },
   "file_extension": ".py",
   "mimetype": "text/x-python",
   "name": "python",
   "nbconvert_exporter": "python",
   "pygments_lexer": "ipython3",
   "version": "3.8.11"
  },
  "orig_nbformat": 4,
  "vscode": {
   "interpreter": {
    "hash": "1e949e87132dd83f1a7623eb88007e3532b03b66b77111be347aa4a383049722"
   }
  }
 },
 "nbformat": 4,
 "nbformat_minor": 2
}

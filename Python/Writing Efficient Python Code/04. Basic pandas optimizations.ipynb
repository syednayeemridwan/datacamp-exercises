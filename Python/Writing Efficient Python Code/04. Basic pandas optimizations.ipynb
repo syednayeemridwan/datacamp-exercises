{
 "cells": [
  {
   "cell_type": "markdown",
   "metadata": {},
   "source": [
    "# Iterating with .iterrows()"
   ]
  },
  {
   "cell_type": "markdown",
   "metadata": {},
   "source": [
    "`.iterrows()` returns each DataFrame row as a tuple of (index, pandas Series) pairs."
   ]
  },
  {
   "cell_type": "code",
   "execution_count": 1,
   "metadata": {},
   "outputs": [],
   "source": [
    "# # Iterate over pit_df and print each index variable and then each row\n",
    "# for i,row in pit_df.iterrows():\n",
    "#     print(i)\n",
    "#     print(row)\n",
    "#     print(type(row))"
   ]
  },
  {
   "cell_type": "code",
   "execution_count": 2,
   "metadata": {},
   "outputs": [],
   "source": [
    "# # Print the row and type of each row\n",
    "# for row_tuple in pit_df.iterrows():\n",
    "#     print(row_tuple)\n",
    "#     print(type(row_tuple))"
   ]
  },
  {
   "cell_type": "markdown",
   "metadata": {},
   "source": [
    "# Run differentials with .iterrows()"
   ]
  },
  {
   "cell_type": "markdown",
   "metadata": {},
   "source": [
    "calculate a metric called the run differential for each season from the year 2008 to 2012. This metric is calculated by subtracting the total number of runs a team allowed in a season from the team's total number of runs scored in a season. 'RS' means runs scored and 'RA' means runs allowed.\n",
    "\n",
    "The below function calculates this metric:"
   ]
  },
  {
   "cell_type": "code",
   "execution_count": 3,
   "metadata": {},
   "outputs": [],
   "source": [
    "# def calc_run_diff(runs_scored, runs_allowed):\n",
    "\n",
    "#     run_diff = runs_scored - runs_allowed\n",
    "\n",
    "#     return run_diff"
   ]
  },
  {
   "cell_type": "code",
   "execution_count": 4,
   "metadata": {},
   "outputs": [],
   "source": [
    "# # Create an empty list to store run differentials\n",
    "# run_diffs = []\n",
    "\n",
    "# # Write a for loop and collect runs allowed and runs scored for each row\n",
    "# for i,row in giants_df.iterrows():\n",
    "#     runs_scored = row['RS']\n",
    "#     runs_allowed = row['RA']\n",
    "    \n",
    "#     # Use the provided function to calculate run_diff for each row\n",
    "#     run_diff = calc_run_diff(runs_scored, runs_allowed)\n",
    "    \n",
    "#     # Append each run differential to the output list\n",
    "#     run_diffs.append(run_diff)\n",
    "\n",
    "# giants_df['RD'] = run_diffs\n",
    "# print(giants_df)"
   ]
  },
  {
   "cell_type": "markdown",
   "metadata": {},
   "source": [
    "# Iterating with .itertuples()"
   ]
  },
  {
   "cell_type": "markdown",
   "metadata": {},
   "source": [
    "`.itertuples()` returns each DataFrame row as a special data type called a namedtuple. You can look up an attribute within a namedtuple with a special syntax. Let's practice working with namedtuples."
   ]
  },
  {
   "cell_type": "code",
   "execution_count": 5,
   "metadata": {},
   "outputs": [],
   "source": [
    "# # Loop over the DataFrame and print each row's Index, Year and Wins (W)\n",
    "# for row in rangers_df.itertuples():\n",
    "#   i = row.Index\n",
    "#   year = row.Year\n",
    "#   wins = row.W\n",
    "  \n",
    "#   # Check if rangers made Playoffs (1 means yes; 0 means no)\n",
    "#   if row.Playoffs == 1:\n",
    "#     print(i, year, wins)"
   ]
  },
  {
   "cell_type": "markdown",
   "metadata": {},
   "source": [
    "# Run differentials with .itertuples()"
   ]
  },
  {
   "cell_type": "markdown",
   "metadata": {},
   "source": [
    "The New York Yankees have made a trade with the San Francisco Giants for your analyst contract— you're a hot commodity! Your new boss has seen your work with the Giants and now wants you to do something similar with the Yankees data. He'd like you to calculate run differentials for the Yankees "
   ]
  },
  {
   "cell_type": "code",
   "execution_count": 6,
   "metadata": {},
   "outputs": [],
   "source": [
    "# def calc_run_diff(runs_scored, runs_allowed):\n",
    "\n",
    "#     run_diff = runs_scored - runs_allowed\n",
    "\n",
    "#     return run_diff"
   ]
  },
  {
   "cell_type": "code",
   "execution_count": 7,
   "metadata": {},
   "outputs": [],
   "source": [
    "# run_diffs = []\n",
    "\n",
    "# # Loop over the DataFrame and calculate each row's run differential\n",
    "# for row in yankees_df.itertuples():\n",
    "    \n",
    "#     runs_scored = row.RS\n",
    "#     runs_allowed = row.RA\n",
    "\n",
    "#     run_diff = calc_run_diff(runs_scored, runs_allowed)\n",
    "    \n",
    "#     run_diffs.append(run_diff)\n",
    "\n",
    "# # Append new column\n",
    "# yankees_df['RD'] = run_diffs\n",
    "# print(yankees_df)"
   ]
  },
  {
   "cell_type": "markdown",
   "metadata": {},
   "source": [
    "# Analyzing baseball stats with .apply()"
   ]
  },
  {
   "cell_type": "markdown",
   "metadata": {},
   "source": [
    "The Tampa Bay Rays want you to analyze their data. The below function can be used to convert the 'Playoffs' column to text:"
   ]
  },
  {
   "cell_type": "code",
   "execution_count": 8,
   "metadata": {},
   "outputs": [],
   "source": [
    "def text_playoffs(num_playoffs): \n",
    "    if num_playoffs == 1:\n",
    "        return 'Yes'\n",
    "    else:\n",
    "        return 'No'"
   ]
  },
  {
   "cell_type": "code",
   "execution_count": 9,
   "metadata": {},
   "outputs": [],
   "source": [
    "# # Gather sum of all columns\n",
    "# stat_totals = rays_df.apply(sum, axis=0)\n",
    "# print(stat_totals)\n",
    "\n",
    "# # Gather total runs scored in all games per year\n",
    "# total_runs_scored = rays_df[['RS', 'RA']].apply(sum, axis=1)\n",
    "# print(total_runs_scored)\n",
    "\n",
    "# # Convert numeric playoffs to text by applying text_playoffs()\n",
    "# textual_playoffs = rays_df.apply(lambda row: text_playoffs(row['Playoffs']), axis=1)\n",
    "# print(textual_playoffs)"
   ]
  },
  {
   "cell_type": "markdown",
   "metadata": {},
   "source": [
    "# Settle a debate with .apply()"
   ]
  },
  {
   "cell_type": "markdown",
   "metadata": {},
   "source": [
    "Word has gotten to the Arizona Diamondbacks about your awesome analytics skills. They'd like for you to help settle a debate amongst the managers."
   ]
  },
  {
   "cell_type": "code",
   "execution_count": 10,
   "metadata": {},
   "outputs": [],
   "source": [
    "def calc_win_perc(wins, games_played):\n",
    "    win_perc = wins / games_played\n",
    "    return np.round(win_perc,2)"
   ]
  },
  {
   "cell_type": "code",
   "execution_count": 11,
   "metadata": {},
   "outputs": [],
   "source": [
    "# # Display the first five rows of the DataFrame\n",
    "# print(dbacks_df.head())\n",
    "\n",
    "# # Create a win percentage Series \n",
    "# win_percs = dbacks_df.apply(lambda row: calc_win_perc(row['W'], row['G']), axis=1)\n",
    "# print(win_percs, '\\n')\n",
    "\n",
    "# # Append a new column to dbacks_df\n",
    "# dbacks_df['WP'] = win_percs\n",
    "# print(dbacks_df, '\\n')\n",
    "\n",
    "# # Display dbacks_df where WP is greater than 0.50\n",
    "# print(dbacks_df[dbacks_df['WP'] >= 0.50])"
   ]
  },
  {
   "cell_type": "markdown",
   "metadata": {},
   "source": [
    "# Replacing .iloc with underlying arrays"
   ]
  },
  {
   "cell_type": "markdown",
   "metadata": {},
   "source": [
    "let's update one of your previous analyses to leverage a DataFrame's underlying arrays. You'll revisit the win percentage calculations you performed row by row with the .iloc method:"
   ]
  },
  {
   "cell_type": "code",
   "execution_count": 12,
   "metadata": {},
   "outputs": [],
   "source": [
    "# def calc_win_perc(wins, games_played):\n",
    "#     win_perc = wins / games_played\n",
    "#     return np.round(win_perc,2)\n",
    "\n",
    "# win_percs_list = []\n",
    "\n",
    "# for i in range(len(baseball_df)):\n",
    "#     row = baseball_df.iloc[i]\n",
    "\n",
    "#     wins = row['W']\n",
    "#     games_played = row['G']\n",
    "\n",
    "#     win_perc = calc_win_perc(wins, games_played)\n",
    "\n",
    "#     win_percs_list.append(win_perc)\n",
    "\n",
    "# baseball_df['WP'] = win_percs_list"
   ]
  },
  {
   "cell_type": "code",
   "execution_count": 13,
   "metadata": {},
   "outputs": [],
   "source": [
    "# # Use the W array and G array to calculate win percentages\n",
    "# win_percs_np = calc_win_perc(baseball_df['W'].values, baseball_df['G'].values)\n",
    "\n",
    "# # Append a new column to baseball_df that stores all win percentages\n",
    "# baseball_df['WP'] = win_percs_np\n",
    "\n",
    "# print(baseball_df.head())"
   ]
  },
  {
   "cell_type": "markdown",
   "metadata": {},
   "source": [
    "Which approach was the faster?\n",
    "- The NumPy array approach is faster than the `.iloc` approach."
   ]
  },
  {
   "cell_type": "markdown",
   "metadata": {},
   "source": [
    "# Bringing it all together: Predict win percentage"
   ]
  },
  {
   "cell_type": "markdown",
   "metadata": {},
   "source": [
    "You'd like to attempt to predict a team's win percentage for a given season by using the team's total runs scored in a season ('RS') and total runs allowed in a season ('RA') with the following function:"
   ]
  },
  {
   "cell_type": "code",
   "execution_count": 14,
   "metadata": {},
   "outputs": [],
   "source": [
    "def predict_win_perc(RS, RA):\n",
    "    prediction = RS ** 2 / (RS ** 2 + RA ** 2)\n",
    "    return np.round(prediction, 2)"
   ]
  },
  {
   "cell_type": "code",
   "execution_count": 15,
   "metadata": {},
   "outputs": [],
   "source": [
    "# win_perc_preds_loop = []\n",
    "\n",
    "# # Use a loop and .itertuples() to collect each row's predicted win percentage\n",
    "# for row in baseball_df.itertuples():\n",
    "#     runs_scored = row.RS\n",
    "#     runs_allowed = row.RA\n",
    "#     win_perc_pred = predict_win_perc(runs_scored, runs_allowed)\n",
    "#     win_perc_preds_loop.append(win_perc_pred)\n",
    "\n",
    "# # Apply predict_win_perc to each row of the DataFrame\n",
    "# win_perc_preds_apply = baseball_df.apply(lambda row: predict_win_perc(row['RS'], row['RA']), axis=1)\n",
    "\n",
    "# # Calculate the win percentage predictions using NumPy arrays\n",
    "# win_perc_preds_np = predict_win_perc(baseball_df['RS'].values, baseball_df['RA'].values)\n",
    "# baseball_df['WP_preds'] = win_perc_preds_np\n",
    "# print(baseball_df.head())"
   ]
  },
  {
   "cell_type": "markdown",
   "metadata": {},
   "source": [
    "What is the order of approaches from fastest to slowest?\n",
    "- Using `NumPy` arrays was the fastest approach, followed by the `.itertuples()` approach, and the `.apply()` approach was slowest."
   ]
  }
 ],
 "metadata": {
  "kernelspec": {
   "display_name": "Python 3.8.3 ('base')",
   "language": "python",
   "name": "python3"
  },
  "language_info": {
   "codemirror_mode": {
    "name": "ipython",
    "version": 3
   },
   "file_extension": ".py",
   "mimetype": "text/x-python",
   "name": "python",
   "nbconvert_exporter": "python",
   "pygments_lexer": "ipython3",
   "version": "3.8.3"
  },
  "orig_nbformat": 4,
  "vscode": {
   "interpreter": {
    "hash": "dc575bfddb5c8ca4bb6a4f4dcdd32abc104b5fa4177361381c432fff36ce3e46"
   }
  }
 },
 "nbformat": 4,
 "nbformat_minor": 2
}

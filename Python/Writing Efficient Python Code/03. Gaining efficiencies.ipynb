{
 "cells": [
  {
   "cell_type": "markdown",
   "metadata": {},
   "source": [
    "# Combining Pokémon names and types"
   ]
  },
  {
   "cell_type": "markdown",
   "metadata": {},
   "source": [
    "We want to combine each Pokémon's name and types together so that you easily see a description of each Pokémon."
   ]
  },
  {
   "cell_type": "code",
   "execution_count": 1,
   "metadata": {},
   "outputs": [],
   "source": [
    "# # Combine names and primary_types\n",
    "# names_type1 = [*zip(names, primary_types)]\n",
    "\n",
    "# print(*names_type1[:5], sep='\\n')"
   ]
  },
  {
   "cell_type": "code",
   "execution_count": 2,
   "metadata": {},
   "outputs": [],
   "source": [
    "# # Combine all three lists together\n",
    "# names_types = [*zip(names, primary_types, secondary_types)]\n",
    "\n",
    "# print(*names_types[:5], sep='\\n')"
   ]
  },
  {
   "cell_type": "code",
   "execution_count": 3,
   "metadata": {},
   "outputs": [],
   "source": [
    "# # Combine five items from names and three items from primary_types\n",
    "# differing_lengths = [*zip(names[:5], primary_types[:3])]\n",
    "\n",
    "# print(*differing_lengths, sep='\\n')"
   ]
  },
  {
   "cell_type": "markdown",
   "metadata": {},
   "source": [
    "# Counting Pokémon from a sample"
   ]
  },
  {
   "cell_type": "markdown",
   "metadata": {},
   "source": [
    "You want to quickly gather a few counts from these lists to better understand the sample that was generated. Use `Counter` from the collections module to explore what types of Pokémon are in your sample, what generations they come from, and how many Pokémon have a name that starts with a specific letter."
   ]
  },
  {
   "cell_type": "code",
   "execution_count": 4,
   "metadata": {},
   "outputs": [],
   "source": [
    "# # Collect the count of primary types\n",
    "# type_count = Counter(primary_types)\n",
    "# print(type_count, '\\n')\n",
    "\n",
    "# # Collect the count of generations\n",
    "# gen_count = Counter(generations)\n",
    "# print(gen_count, '\\n')\n",
    "\n",
    "# # Use list comprehension to get each Pokémon's starting letter\n",
    "# starting_letters = [name[0] for name in names]\n",
    "\n",
    "# # Collect the count of Pokémon for each starting_letter\n",
    "# starting_letters_count =  Counter(starting_letters)\n",
    "# print(starting_letters_count)"
   ]
  },
  {
   "cell_type": "markdown",
   "metadata": {},
   "source": [
    "# Combinations of Pokémon"
   ]
  },
  {
   "cell_type": "markdown",
   "metadata": {},
   "source": [
    "Let's use `combinations` from the `itertools` module to see what the possible pairs of Pokémon are that Ash could catch."
   ]
  },
  {
   "cell_type": "code",
   "execution_count": 5,
   "metadata": {},
   "outputs": [],
   "source": [
    "# # Import combinations from itertools\n",
    "# from itertools import combinations\n",
    "\n",
    "# # Create a combination object with pairs of Pokémon\n",
    "# combos_obj = combinations(pokemon, 2)\n",
    "# print(type(combos_obj), '\\n')\n",
    "\n",
    "# # Convert combos_obj to a list by unpacking\n",
    "# combos_2 = [*combos_obj]\n",
    "# print(combos_2, '\\n')\n",
    "\n",
    "# # Collect all possible combinations of 4 Pokémon directly into a list\n",
    "# combos_4 = [*combinations(pokemon, 4)]\n",
    "# print(combos_4)"
   ]
  },
  {
   "cell_type": "markdown",
   "metadata": {},
   "source": [
    "# Comparing Pokédexes"
   ]
  },
  {
   "cell_type": "markdown",
   "metadata": {},
   "source": [
    "Two Pokémon trainers, Ash and Misty, would like to compare their individual collections of Pokémon. Let's see what Pokémon they have in common and what Pokémon Ash has that Misty does not."
   ]
  },
  {
   "cell_type": "code",
   "execution_count": 6,
   "metadata": {},
   "outputs": [],
   "source": [
    "# # Convert both lists to sets\n",
    "# ash_set = set(ash_pokedex)\n",
    "# misty_set = set(misty_pokedex)\n",
    "\n",
    "# # Find the Pokémon that exist in both sets\n",
    "# both = ash_set.intersection(misty_set)\n",
    "# print(both)\n",
    "\n",
    "# # Find the Pokémon that Ash has and Misty does not have\n",
    "# ash_only = ash_set.difference(misty_set)\n",
    "# print(ash_only)\n",
    "\n",
    "# # Find the Pokémon that are in only one set (not both)\n",
    "# unique_to_set = ash_set.symmetric_difference(misty_set)\n",
    "# print(unique_to_set)"
   ]
  },
  {
   "cell_type": "markdown",
   "metadata": {},
   "source": [
    "# Searching for Pokémon"
   ]
  },
  {
   "cell_type": "markdown",
   "metadata": {},
   "source": [
    "Two Pokémon trainers, Ash and Brock, have a collection of ten Pokémon each. Each trainer's Pokédex (their collection of Pokémon) has been loaded into your session as lists called ash_pokedex and brock_pokedex respectively.\n",
    "\n",
    "You'd like to see if certain Pokémon are members of either Ash or Brock's Pokédex."
   ]
  },
  {
   "cell_type": "code",
   "execution_count": 7,
   "metadata": {},
   "outputs": [],
   "source": [
    "# # Convert Brock's Pokédex to a set\n",
    "# brock_pokedex_set = set(brock_pokedex)\n",
    "# print(brock_pokedex_set)\n",
    "\n",
    "# # Check if Psyduck is in Ash's list and Brock's set\n",
    "# print('Psyduck' in ash_pokedex)\n",
    "# print('Psyduck' in brock_pokedex_set)\n",
    "\n",
    "# # Check if Machop is in Ash's list and Brock's set\n",
    "# print('Machop' in ash_pokedex)\n",
    "# print('Machop' in brock_pokedex_set)"
   ]
  },
  {
   "cell_type": "markdown",
   "metadata": {},
   "source": [
    "Which membership testing was faster?\n",
    "- Member testing using a set is faster than using a list in all four cases."
   ]
  },
  {
   "cell_type": "markdown",
   "metadata": {},
   "source": [
    "# Gathering unique Pokémon"
   ]
  },
  {
   "cell_type": "markdown",
   "metadata": {},
   "source": [
    "The below function was written to gather unique values from each list:\n",
    "\n",
    "Let's compare the above function to using the set data type for collecting unique items."
   ]
  },
  {
   "cell_type": "code",
   "execution_count": 8,
   "metadata": {},
   "outputs": [],
   "source": [
    "def find_unique_items(data):\n",
    "    uniques = []\n",
    "\n",
    "    for item in data:\n",
    "        if item not in uniques:\n",
    "            uniques.append(item)\n",
    "\n",
    "    return uniques"
   ]
  },
  {
   "cell_type": "code",
   "execution_count": 9,
   "metadata": {},
   "outputs": [],
   "source": [
    "# # Use find_unique_items() to collect unique Pokémon names\n",
    "# uniq_names_func = find_unique_items(names)\n",
    "# print(len(uniq_names_func))\n",
    "\n",
    "# # Convert the names list to a set to collect unique Pokémon names\n",
    "# uniq_names_set = set(names)\n",
    "# print(len(uniq_names_set))\n",
    "\n",
    "# # Check that both unique collections are equivalent\n",
    "# print(sorted(uniq_names_func) == sorted(uniq_names_set))"
   ]
  },
  {
   "cell_type": "markdown",
   "metadata": {},
   "source": [
    "Which membership testing was faster?\n",
    "- Using a set to collect unique values is faster."
   ]
  },
  {
   "cell_type": "markdown",
   "metadata": {},
   "source": [
    "Use the most efficient approach for gathering unique items to collect the unique Pokémon types (from the primary_types list) and Pokémon generations (from the generations list)"
   ]
  },
  {
   "cell_type": "code",
   "execution_count": 10,
   "metadata": {},
   "outputs": [],
   "source": [
    "# # Use find_unique_items() to collect unique Pokémon names\n",
    "# uniq_names_func = find_unique_items(names)\n",
    "# print(len(uniq_names_func))\n",
    "\n",
    "# # Convert the names list to a set to collect unique Pokémon names\n",
    "# uniq_names_set = set(names)\n",
    "# print(len(uniq_names_set))\n",
    "\n",
    "# # Check that both unique collections are equivalent\n",
    "# print(sorted(uniq_names_func) == sorted(uniq_names_set))\n",
    "\n",
    "# # Use the best approach to collect unique primary types and generations\n",
    "# uniq_types = set(primary_types) \n",
    "# uniq_gens = set(generations)\n",
    "# print(uniq_types, uniq_gens, sep='\\n') "
   ]
  },
  {
   "cell_type": "markdown",
   "metadata": {},
   "source": [
    "# Gathering Pokémon without a loop"
   ]
  },
  {
   "cell_type": "markdown",
   "metadata": {},
   "source": [
    "A for loop has been created to filter the Pokémon that belong to generation one or two, and collect the number of letters in each Pokémon's name"
   ]
  },
  {
   "cell_type": "code",
   "execution_count": 11,
   "metadata": {},
   "outputs": [],
   "source": [
    "# gen1_gen2_name_lengths_loop = []\n",
    "\n",
    "# for name,gen in zip(poke_names, poke_gens):\n",
    "#     if gen < 3:\n",
    "#         name_length = len(name)\n",
    "#         poke_tuple = (name, name_length)\n",
    "#         gen1_gen2_name_lengths_loop.append(poke_tuple)"
   ]
  },
  {
   "cell_type": "code",
   "execution_count": 12,
   "metadata": {},
   "outputs": [],
   "source": [
    "# # Collect Pokémon that belong to generation 1 or generation 2\n",
    "# gen1_gen2_pokemon = [name for name,gen in zip(poke_names, poke_gens) if gen < 3]\n",
    "\n",
    "# # Create a map object that stores the name lengths\n",
    "# name_lengths_map = map(len, gen1_gen2_pokemon)\n",
    "\n",
    "# # Combine gen1_gen2_pokemon and name_lengths_map into a list\n",
    "# gen1_gen2_name_lengths = [*zip(gen1_gen2_pokemon, name_lengths_map)]\n",
    "\n",
    "# print(gen1_gen2_name_lengths_loop[:5])\n",
    "# print(gen1_gen2_name_lengths[:5])"
   ]
  },
  {
   "cell_type": "markdown",
   "metadata": {},
   "source": [
    "# Pokémon totals and averages without a loop"
   ]
  },
  {
   "cell_type": "markdown",
   "metadata": {},
   "source": [
    "You want to gather each Pokémon's total stat value (i.e., the sum of each row in stats) and each Pokémon's average stat value (i.e., the mean of each row in stats) so that you find the strongest Pokémon."
   ]
  },
  {
   "cell_type": "code",
   "execution_count": 13,
   "metadata": {},
   "outputs": [],
   "source": [
    "# poke_list = []\n",
    "\n",
    "# for pokemon,row in zip(names, stats):\n",
    "#     total_stats = np.sum(row)\n",
    "#     avg_stats = np.mean(row)\n",
    "#     poke_list.append((pokemon, total_stats, avg_stats))"
   ]
  },
  {
   "cell_type": "code",
   "execution_count": 14,
   "metadata": {},
   "outputs": [],
   "source": [
    "# # Create a total stats array\n",
    "# total_stats_np = stats.sum(axis=1)\n",
    "\n",
    "# # Create an average stats array\n",
    "# avg_stats_np = stats.mean(axis=1)\n",
    "\n",
    "# # Combine names, total_stats_np, and avg_stats_np into a list\n",
    "# poke_list_np = [*zip(names, total_stats_np, avg_stats_np)]\n",
    "\n",
    "# print(poke_list_np == poke_list, '\\n')\n",
    "# print(poke_list_np[:3])\n",
    "# print(poke_list[:3], '\\n')\n",
    "# top_3 = sorted(poke_list_np, key=lambda x: x[1], reverse=True)[:3]\n",
    "# print('3 strongest Pokémon:\\n{}'.format(top_3))"
   ]
  },
  {
   "cell_type": "markdown",
   "metadata": {},
   "source": [
    "# One-time calculation loop"
   ]
  },
  {
   "cell_type": "markdown",
   "metadata": {},
   "source": [
    "A list of integers that represents each Pokémon's generation has been loaded into your session called generations. You'd like to gather the counts of each generation and determine what percentage each generation accounts for out of the total count of integers.\n",
    "\n",
    "The below loop was written to accomplish this task:"
   ]
  },
  {
   "cell_type": "code",
   "execution_count": 15,
   "metadata": {},
   "outputs": [],
   "source": [
    "# for gen,count in gen_counts.items():\n",
    "#     total_count = len(generations)    # Move this repititive calculation out of loop\n",
    "#     gen_percent = round(count / total_count * 100, 2)\n",
    "#     print(\n",
    "#       'generation {}: count = {:3} percentage = {}'\n",
    "#       .format(gen, count, gen_percent)\n",
    "#     )"
   ]
  },
  {
   "cell_type": "code",
   "execution_count": 16,
   "metadata": {},
   "outputs": [],
   "source": [
    "# # Import Counter\n",
    "# from collections import Counter\n",
    "\n",
    "# # Collect the count of each generation\n",
    "# gen_counts = Counter(generations)\n",
    "\n",
    "# # Improve for loop by moving one calculation above the loop\n",
    "# total_count = len(generations) # Repititive calculation is moved out of loop\n",
    "\n",
    "# for gen,count in gen_counts.items():\n",
    "#     gen_percent = round(count / total_count * 100, 2)\n",
    "#     print('generation {}: count = {:3} percentage = {}'\n",
    "#           .format(gen, count, gen_percent))"
   ]
  },
  {
   "cell_type": "markdown",
   "metadata": {},
   "source": [
    "# Holistic conversion loop"
   ]
  },
  {
   "cell_type": "markdown",
   "metadata": {},
   "source": [
    "You'd like to gather all the possible pairs of Pokémon types. You want to store each of these pairs in an individual list with an enumerated index as the first element of each list. This allows you to see the total number of possible pairs and provides an indexed label for each pair.\n",
    "\n",
    "The below loop was written to accomplish this task:"
   ]
  },
  {
   "cell_type": "code",
   "execution_count": 17,
   "metadata": {},
   "outputs": [],
   "source": [
    "# enumerated_pairs = []\n",
    "\n",
    "# for i,pair in enumerate(possible_pairs, 1):\n",
    "#     enumerated_pair_tuple = (i,) + pair\n",
    "#     enumerated_pair_list = list(enumerated_pair_tuple) # Move this conversion out of loop\n",
    "#     enumerated_pairs.append(enumerated_pair_list)"
   ]
  },
  {
   "cell_type": "code",
   "execution_count": 18,
   "metadata": {},
   "outputs": [],
   "source": [
    "# # Collect all possible pairs using combinations()\n",
    "# possible_pairs = [*combinations(pokemon_types, 2)]\n",
    "\n",
    "# # Create an empty list called enumerated_tuples\n",
    "# enumerated_tuples = [ ]\n",
    "\n",
    "# # Append each enumerated_pair_tuple to the empty list above\n",
    "# for i,pair in enumerate(possible_pairs, 1):\n",
    "#     enumerated_pair_tuple = (i,) + pair\n",
    "#     enumerated_tuples.append(enumerated_pair_tuple)\n",
    "\n",
    "# # Convert all tuples in enumerated_tuples to a list\n",
    "# enumerated_pairs = [*map(list, enumerated_tuples)] # conversion is moved out of loop\n",
    "# print(enumerated_pairs)"
   ]
  }
 ],
 "metadata": {
  "kernelspec": {
   "display_name": "Python 3.8.3 ('base')",
   "language": "python",
   "name": "python3"
  },
  "language_info": {
   "codemirror_mode": {
    "name": "ipython",
    "version": 3
   },
   "file_extension": ".py",
   "mimetype": "text/x-python",
   "name": "python",
   "nbconvert_exporter": "python",
   "pygments_lexer": "ipython3",
   "version": "3.8.3"
  },
  "orig_nbformat": 4,
  "vscode": {
   "interpreter": {
    "hash": "dc575bfddb5c8ca4bb6a4f4dcdd32abc104b5fa4177361381c432fff36ce3e46"
   }
  }
 },
 "nbformat": 4,
 "nbformat_minor": 2
}

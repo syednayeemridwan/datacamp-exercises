{
 "cells": [
  {
   "attachments": {},
   "cell_type": "markdown",
   "metadata": {},
   "source": [
    "# Simulate AR(1) Time Series"
   ]
  },
  {
   "attachments": {},
   "cell_type": "markdown",
   "metadata": {},
   "source": [
    "You will simulate and plot a few AR(1) time series, each with a different parameter, phi, using the `arima_process` module in `statsmodels`. In this exercise, you will look at an AR(1) model with a large positive phi  and a large negative phi.\n",
    "\n",
    "There are a few conventions when using the arima_process module that require some explanation. First, these routines were made very generally to handle both AR and MA models. We will cover MA models next, so for now, just ignore the MA part. Second, when inputting the coefficients, you must include the zero-lag coefficient of 1, and the sign of the other coefficients is opposite what we have been using (to be consistent with the time series literature in signal processing). For example, for an AR(1) process with phi = 0.9, the array representing the AR parameters would be `ar = np.array([1, -0.9])`"
   ]
  },
  {
   "cell_type": "code",
   "execution_count": 1,
   "metadata": {},
   "outputs": [],
   "source": [
    "# # import the module for simulating data\n",
    "# from statsmodels.tsa.arima_process import ArmaProcess\n",
    "\n",
    "# # Plot 1: AR parameter = +0.9\n",
    "# plt.subplot(2,1,1)\n",
    "# ar1 = np.array([1, -0.9])\n",
    "# ma1 = np.array([1])\n",
    "# AR_object1 = ArmaProcess(ar1, ma1)\n",
    "# simulated_data_1 = AR_object1.generate_sample(nsample=1000)\n",
    "# plt.plot(simulated_data_1)\n",
    "\n",
    "# # Plot 2: AR parameter = -0.9\n",
    "# plt.subplot(2,1,2)\n",
    "# ar2 = np.array([1, +0.9])\n",
    "# ma2 = np.array([1])\n",
    "# AR_object2 = ArmaProcess(ar2, ma2)\n",
    "# simulated_data_2 = AR_object2.generate_sample(nsample=1000)\n",
    "# plt.plot(simulated_data_2)\n",
    "# plt.show()"
   ]
  },
  {
   "attachments": {},
   "cell_type": "markdown",
   "metadata": {},
   "source": [
    "# Compare the ACF for Several AR Time Series"
   ]
  },
  {
   "attachments": {},
   "cell_type": "markdown",
   "metadata": {},
   "source": [
    "The autocorrelation function decays exponentially for an AR time series at a rate of the AR parameter. For example, if the AR parameter,  phi = +0.9, the first-lag autocorrelation will be 0.9, the second-lag will be 0.81, the third-lag will be 0.729, etc. A smaller AR parameter will have a steeper decay, and for a negative AR parameter, say -0.9, the decay will flip signs, so the first-lag autocorrelation will be -0.9, the second-lag will be 0.81, the third-lag will be \n",
    "-0.729, etc.\n",
    "\n",
    "The object `simulated_data_1` is the simulated time series with an AR parameter of +0.9, `simulated_data_2` is for an AR parameter of -0.9, and `simulated_data_3` is for an AR parameter of 0.3"
   ]
  },
  {
   "cell_type": "code",
   "execution_count": 1,
   "metadata": {},
   "outputs": [],
   "source": [
    "# # Import the plot_acf module from statsmodels\n",
    "# from statsmodels.graphics.tsaplots import plot_acf\n",
    "\n",
    "# # Plot 1: AR parameter = +0.9\n",
    "# plot_acf(simulated_data_1, alpha=1, lags=20)\n",
    "# plt.show()\n",
    "\n",
    "# # Plot 2: AR parameter = -0.9\n",
    "# plot_acf(simulated_data_2, alpha=1, lags=20)\n",
    "# plt.show()\n",
    "\n",
    "# # Plot 3: AR parameter = +0.3\n",
    "# plot_acf(simulated_data_3, alpha=1, lags=20)\n",
    "# plt.show()"
   ]
  },
  {
   "attachments": {},
   "cell_type": "markdown",
   "metadata": {},
   "source": [
    "# Match AR Model with ACF"
   ]
  },
  {
   "attachments": {},
   "cell_type": "markdown",
   "metadata": {},
   "source": [
    "Here are four Autocorrelation plots:\n",
    "<center><img src=\"images/03.04.png\"  style=\"width: 400px, height: 300px;\"/></center>\n",
    "\n",
    "Which figure corresponds to an AR(1) model with an AR parameter of -0.5?"
   ]
  },
  {
   "attachments": {},
   "cell_type": "markdown",
   "metadata": {},
   "source": [
    "- D"
   ]
  },
  {
   "attachments": {},
   "cell_type": "markdown",
   "metadata": {},
   "source": [
    "# Estimating an AR Model"
   ]
  },
  {
   "attachments": {},
   "cell_type": "markdown",
   "metadata": {},
   "source": [
    "You will estimate the AR(1) parameter, \n",
    ", of one of the simulated series that you generated in the earlier exercise. Since the parameters are known for a simulated series, it is a good way to understand the estimation routines before applying it to real data.\n",
    "\n",
    "For `simulated_data_1` with a true phi of 0.9, you will print out the estimate of phi. In addition, you will also print out the entire output that is produced when you fit a time series, so you can get an idea of what other tests and summary statistics are available in statsmodels."
   ]
  },
  {
   "cell_type": "code",
   "execution_count": 2,
   "metadata": {},
   "outputs": [],
   "source": [
    "# # Import the ARIMA module from statsmodels\n",
    "# from statsmodels.tsa.arima.model import ARIMA\n",
    "\n",
    "# # Fit an AR(1) model to the first simulated data\n",
    "# mod = ARIMA(simulated_data_1, order=(1,0,0))\n",
    "# res = mod.fit()\n",
    "\n",
    "# # Print out summary information on the fit\n",
    "# print(res.summary())\n",
    "\n",
    "# # Print out the estimate for phi\n",
    "# print(\"When the true phi=0.9, the estimate of phi is:\")\n",
    "# print(res.params[1])"
   ]
  },
  {
   "attachments": {},
   "cell_type": "markdown",
   "metadata": {},
   "source": [
    "# Forecasting with an AR Model"
   ]
  },
  {
   "attachments": {},
   "cell_type": "markdown",
   "metadata": {},
   "source": [
    "In addition to estimating the parameters of a model that you did in the last exercise, you can also do forecasting, both in-sample and out-of-sample using statsmodels. The in-sample is a forecast of the next data point using the data up to that point, and the out-of-sample forecasts any number of data points in the future. You can plot the forecasted data using the function plot_predict(). You supply the starting point for forecasting and the ending point, which can be any number of data points after the data set ends.\n",
    "\n",
    "For the simulated data in DataFrame `simulated_data_1`, with phi = 0.9, you will plot out-of-sample forecasts and confidence intervals around those forecasts."
   ]
  },
  {
   "cell_type": "code",
   "execution_count": 3,
   "metadata": {},
   "outputs": [],
   "source": [
    "# # Import the ARIMA and plot_predict from statsmodels\n",
    "# from statsmodels.tsa.arima.model import ARIMA\n",
    "# from statsmodels.graphics.tsaplots import plot_predict\n",
    "\n",
    "# # Forecast the first AR(1) model\n",
    "# mod = ARIMA(simulated_data_1, order=(1,0,0))\n",
    "# res = mod.fit()\n",
    "\n",
    "# # Plot the data and the forecast\n",
    "# fig, ax = plt.subplots()\n",
    "# simulated_data_1.loc[950:].plot(ax=ax)\n",
    "# plot_predict(res, start=1000, end=1010, ax=ax)\n",
    "# plt.show()"
   ]
  },
  {
   "attachments": {},
   "cell_type": "markdown",
   "metadata": {},
   "source": [
    "# Let's Forecast Interest Rates"
   ]
  },
  {
   "attachments": {},
   "cell_type": "markdown",
   "metadata": {},
   "source": [
    "You will now use the forecasting techniques you learned in the last exercise and apply it to real data rather than simulated data. You will revisit a dataset from the first chapter: the annual data of 10-year interest rates going back 56 years, which is in a Series called ````interest_rate_data````. Being able to forecast interest rates is of enormous importance, not only for bond investors but also for individuals like new homeowners who must decide between fixed and floating rate mortgages.\n",
    "\n",
    "You saw in the first chapter that there is some mean reversion in interest rates over long horizons. In other words, when interest rates are high, they tend to drop and when they are low, they tend to rise over time. Currently they are below long-term rates, so they are expected to rise, but an AR model attempts to quantify how much they are expected to rise.\n",
    "\n",
    "The class ARIMA and the function plot_predict have already been imported."
   ]
  },
  {
   "cell_type": "code",
   "execution_count": 4,
   "metadata": {},
   "outputs": [],
   "source": [
    "# # Forecast interst rates using an AR(1) model\n",
    "# mod = ARIMA(interest_rate_data, order=(1,0,0))\n",
    "# res = mod.fit()\n",
    "\n",
    "# # Plot the data and the forecast\n",
    "# fig, ax = plt.subplots()\n",
    "# interest_rate_data.plot(ax=ax)\n",
    "# plot_predict(res, start=0, end='2027', alpha=None, ax=ax)\n",
    "# plt.show()"
   ]
  },
  {
   "attachments": {},
   "cell_type": "markdown",
   "metadata": {},
   "source": [
    "# Compare AR Model with Random Walk"
   ]
  },
  {
   "attachments": {},
   "cell_type": "markdown",
   "metadata": {},
   "source": [
    "Sometimes it is difficult to distinguish between a time series that is slightly mean reverting and a time series that does not mean revert at all, like a random walk. You will compare the ACF for the slightly mean-reverting interest rate series of the last exercise with a simulated random walk with the same number of observations.\n",
    "\n",
    "You should notice when plotting the autocorrelation of these two series side-by-side that they look very similar."
   ]
  },
  {
   "cell_type": "code",
   "execution_count": 5,
   "metadata": {},
   "outputs": [],
   "source": [
    "# # Import the plot_acf module from statsmodels\n",
    "# from statsmodels.graphics.tsaplots import plot_acf\n",
    "\n",
    "# # Plot the interest rate series and the simulated random walk series side-by-side\n",
    "# fig, axes = plt.subplots(2,1)\n",
    "\n",
    "# # Plot the autocorrelation of the interest rate series in the top plot\n",
    "# fig = plot_acf(interest_rate_data, alpha=1, lags=12, ax=axes[0])\n",
    "\n",
    "# # Plot the autocorrelation of the simulated random walk series in the bottom plot\n",
    "# fig = plot_acf(simulated_data, alpha=1, lags=12, ax=axes[1])\n",
    "\n",
    "# # Label axes\n",
    "# axes[0].set_title(\"Interest Rate Data\")\n",
    "# axes[1].set_title(\"Simulated Random Walk Data\")\n",
    "# plt.show()"
   ]
  },
  {
   "attachments": {},
   "cell_type": "markdown",
   "metadata": {},
   "source": [
    "# Estimate Order of Model: PACF"
   ]
  },
  {
   "attachments": {},
   "cell_type": "markdown",
   "metadata": {},
   "source": [
    "One useful tool to identify the order of an AR model is to look at the Partial Autocorrelation Function (PACF). In this exercise, you will simulate two time series, an AR(1) and an AR(2), and calculate the sample PACF for each. You will notice that for an AR(1), the PACF should have a significant lag-1 value, and roughly zeros after that. And for an AR(2), the sample PACF should have significant lag-1 and lag-2 values, and zeros after that.\n",
    "\n",
    "Just like you used the `plot_acf` function in earlier exercises, here you will use a function called `plot_pacf` in the statsmodels module."
   ]
  },
  {
   "cell_type": "code",
   "execution_count": 6,
   "metadata": {},
   "outputs": [],
   "source": [
    "# # Import the modules for simulating data and for plotting the PACF\n",
    "# from statsmodels.tsa.arima_process import ArmaProcess\n",
    "# from statsmodels.graphics.tsaplots import plot_pacf\n",
    "\n",
    "# # Simulate AR(1) with phi=+0.6\n",
    "# ma = np.array([1])\n",
    "# ar = np.array([1, -0.6])\n",
    "# AR_object = ArmaProcess(ar, ma)\n",
    "# simulated_data_1 = AR_object.generate_sample(nsample=5000)\n",
    "\n",
    "# # Plot PACF for AR(1)\n",
    "# plot_pacf(simulated_data_1, lags=20)\n",
    "# plt.show()\n",
    "\n",
    "# # Simulate AR(2) with phi1=+0.6, phi2=+0.3\n",
    "# ma = np.array([1])\n",
    "# ar = np.array([1, -.6, -.3])\n",
    "# AR_object = ArmaProcess(ar, ma)\n",
    "# simulated_data_2 = AR_object.generate_sample(nsample=5000)\n",
    "\n",
    "# # Plot PACF for AR(2)\n",
    "# plot_pacf(simulated_data_2, lags=20)\n",
    "# plt.show()"
   ]
  },
  {
   "attachments": {},
   "cell_type": "markdown",
   "metadata": {},
   "source": [
    "# Estimate Order of Model: Information Criteria"
   ]
  },
  {
   "attachments": {},
   "cell_type": "markdown",
   "metadata": {},
   "source": [
    "Another tool to identify the order of a model is to look at the Akaike Information Criterion (AIC) and the Bayesian Information Criterion (BIC). These measures compute the goodness of fit with the estimated parameters, but apply a penalty function on the number of parameters in the model. You will take the AR(2) simulated data from the last exercise, saved as `simulated_data_2`, and compute the BIC as you vary the order, p, in an AR(p) from 0 to 6"
   ]
  },
  {
   "cell_type": "code",
   "execution_count": 7,
   "metadata": {},
   "outputs": [],
   "source": [
    "# # Import the module for estimating an ARIMA model\n",
    "# from statsmodels.tsa.arima.model import ARIMA\n",
    "\n",
    "# # Fit the data to an AR(p) for p = 0,...,6 , and save the BIC\n",
    "# BIC = np.zeros(7)\n",
    "# for p in range(7):\n",
    "#     mod = ARIMA(simulated_data_2, order=(p,0,0))\n",
    "#     res = mod.fit()\n",
    "# # Save BIC for AR(p)    \n",
    "#     BIC[p] = res.bic\n",
    "    \n",
    "# # Plot the BIC as a function of p\n",
    "# plt.plot(range(1,7), BIC[1:7], marker='o')\n",
    "# plt.xlabel('Order of AR Model')\n",
    "# plt.ylabel('Bayesian Information Criterion')\n",
    "# plt.show()"
   ]
  }
 ],
 "metadata": {
  "kernelspec": {
   "display_name": "env_py",
   "language": "python",
   "name": "python3"
  },
  "language_info": {
   "codemirror_mode": {
    "name": "ipython",
    "version": 3
   },
   "file_extension": ".py",
   "mimetype": "text/x-python",
   "name": "python",
   "nbconvert_exporter": "python",
   "pygments_lexer": "ipython3",
   "version": "3.8.11"
  },
  "orig_nbformat": 4,
  "vscode": {
   "interpreter": {
    "hash": "1e949e87132dd83f1a7623eb88007e3532b03b66b77111be347aa4a383049722"
   }
  }
 },
 "nbformat": 4,
 "nbformat_minor": 2
}

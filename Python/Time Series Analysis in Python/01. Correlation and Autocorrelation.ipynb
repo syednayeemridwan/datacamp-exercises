{
 "cells": [
  {
   "attachments": {},
   "cell_type": "markdown",
   "metadata": {},
   "source": [
    "# A \"Thin\" Application of Time Series"
   ]
  },
  {
   "attachments": {},
   "cell_type": "markdown",
   "metadata": {},
   "source": [
    "Google Trends allows users to see how often a term is searched for. We downloaded a file from Google Trends containing the frequency over time for the search word \"diet\", which is pre-loaded in a DataFrame called diet. A first step when analyzing a time series is to visualize the data with a plot. You should be able to clearly see a gradual decrease in searches for \"diet\" throughout the calendar year, hitting a low around the December holidays, followed by a spike in searches around the new year as people make New Year's resolutions to lose weight.\n",
    "\n",
    "Like many time series datasets you will be working with, the index of dates are strings and should be converted to a datetime index before plotting.\n",
    "\n",
    "This course touches on a lot of concepts you may have forgotten, so if you ever need a quick refresher, download the pandas basics Cheat Sheet and keep it handy!"
   ]
  },
  {
   "cell_type": "code",
   "execution_count": 1,
   "metadata": {},
   "outputs": [],
   "source": [
    "# # Import pandas and plotting modules\n",
    "# import pandas as pd\n",
    "# import matplotlib.pyplot as plt\n",
    "\n",
    "# # Convert the date index to datetime\n",
    "# diet.index = pd.to_datetime(diet.index)"
   ]
  },
  {
   "cell_type": "code",
   "execution_count": 2,
   "metadata": {},
   "outputs": [],
   "source": [
    "# # From previous step\n",
    "# diet.index = pd.to_datetime(diet.index)\n",
    "\n",
    "# # Plot the entire time series diet and show gridlines\n",
    "# diet.plot(grid=True)\n",
    "# plt.show()"
   ]
  },
  {
   "cell_type": "code",
   "execution_count": 3,
   "metadata": {},
   "outputs": [],
   "source": [
    "# # From previous step\n",
    "# diet.index = pd.to_datetime(diet.index)\n",
    "\n",
    "# # Slice the dataset to keep only 2012\n",
    "# diet2012 = diet['2012']\n",
    "\n",
    "# # Plot 2012 data\n",
    "# diet2012.plot(grid = True)\n",
    "# plt.show()"
   ]
  },
  {
   "attachments": {},
   "cell_type": "markdown",
   "metadata": {},
   "source": [
    "# Merging Time Series With Different Dates"
   ]
  },
  {
   "attachments": {},
   "cell_type": "markdown",
   "metadata": {},
   "source": [
    "Stock and bond markets in the U.S. are closed on different days. For example, although the bond market is closed on Columbus Day (around Oct 12) and Veterans Day (around Nov 11), the stock market is open on those days. One way to see the dates that the stock market is open and the bond market is closed is to convert both indexes of dates into sets and take the difference in sets.\n",
    "\n",
    "The pandas `.join()` method is a convenient tool to merge the stock and bond DataFrames on dates when both markets are open.\n",
    "\n",
    "Stock prices and 10-year US Government bond yields, which were downloaded from FRED, are pre-loaded in DataFrames `stocks` and `bonds`"
   ]
  },
  {
   "cell_type": "code",
   "execution_count": 4,
   "metadata": {},
   "outputs": [],
   "source": [
    "# # Import pandas\n",
    "# import pandas as pd\n",
    "\n",
    "# # Convert the stock index and bond index into sets\n",
    "# set_stock_dates = set(stocks.index)\n",
    "# set_bond_dates = set(bonds.index)\n",
    "\n",
    "# # Take the difference between the sets and print\n",
    "# print(set_stock_dates - set_bond_dates)\n",
    "\n",
    "# # Merge stocks and bonds DataFrames using join()\n",
    "# stocks_and_bonds = stocks.join(bonds, how = 'inner')"
   ]
  },
  {
   "attachments": {},
   "cell_type": "markdown",
   "metadata": {},
   "source": [
    "# Correlation of Stocks and Bonds"
   ]
  },
  {
   "attachments": {},
   "cell_type": "markdown",
   "metadata": {},
   "source": [
    "Investors are often interested in the correlation between the returns of two different assets for asset allocation and hedging purposes. In this exercise, you'll try to answer the question of whether stocks are positively or negatively correlated with bonds. Scatter plots are also useful for visualizing the correlation between the two variables.\n",
    "\n",
    "Keep in mind that you should compute the correlations on the percentage changes rather than the levels.\n",
    "\n",
    "Stock prices and 10-year bond yields are combined in a DataFrame called `stocks_and_bonds` under columns `SP500` and `US10Y`\n",
    "\n",
    "The `pandas` and plotting modules have already been imported for you. For the remainder of the course, `pandas` is imported as `pd` and `matplotlib.pyplot` is imported as `plt`."
   ]
  },
  {
   "cell_type": "code",
   "execution_count": 5,
   "metadata": {},
   "outputs": [],
   "source": [
    "# # Compute percent change using pct_change()\n",
    "# returns = stocks_and_bonds.pct_change()\n",
    "\n",
    "# # Compute correlation using corr()\n",
    "# correlation = returns['US10Y'].corr(returns['SP500'])\n",
    "# print(\"Correlation of stocks and interest rates: \", correlation)\n",
    "\n",
    "# # Make scatter plot\n",
    "# plt.scatter(x=returns['SP500'],\n",
    "#                       y=returns['US10Y'])\n",
    "# plt.show()"
   ]
  },
  {
   "attachments": {},
   "cell_type": "markdown",
   "metadata": {},
   "source": [
    "# Flying Saucers Aren't Correlated to Flying Markets"
   ]
  },
  {
   "attachments": {},
   "cell_type": "markdown",
   "metadata": {},
   "source": [
    "Two trending series may show a strong correlation even if they are completely unrelated. This is referred to as \"spurious correlation\". That's why when you look at the correlation of say, two stocks, you should look at the correlation of their returns and not their levels.\n",
    "\n",
    "To illustrate this point, calculate the correlation between the levels of the stock market and the annual sightings of UFOs. Both of those time series have trended up over the last several decades, and the correlation of their levels is very high. Then calculate the correlation of their percent changes. This will be close to zero, since there is no relationship between those two series.\n",
    "\n",
    "The DataFrame levels contains the `levels` of `DJI` and `UFO`. UFO data was downloaded from www.nuforc.org."
   ]
  },
  {
   "cell_type": "code",
   "execution_count": 6,
   "metadata": {},
   "outputs": [],
   "source": [
    "# # Compute correlation of levels\n",
    "# correlation1 = levels['DJI'].corr(levels['UFO'])\n",
    "# print(\"Correlation of levels: \", correlation1)\n",
    "\n",
    "# # Compute correlation of percent changes\n",
    "# changes = levels.pct_change()\n",
    "# correlation2 = changes['DJI'].corr(changes['UFO'])\n",
    "# print(\"Correlation of changes: \", correlation2)"
   ]
  },
  {
   "attachments": {},
   "cell_type": "markdown",
   "metadata": {},
   "source": [
    "# Looking at a Regression's R-Squared"
   ]
  },
  {
   "attachments": {},
   "cell_type": "markdown",
   "metadata": {},
   "source": [
    "R-squared measures how closely the data fit the regression line, so the R-squared in a simple regression is related to the correlation between the two variables. In particular, the magnitude of the correlation is the square root of the R-squared and the sign of the correlation is the sign of the regression coefficient.\n",
    "\n",
    "In this exercise, you will start using the statistical package statsmodels, which performs much of the statistical modeling and testing that is found in R and software packages like SAS and MATLAB.\n",
    "\n",
    "You will take two series, x and y, compute their correlation, and then regress y on x using the function OLS(y,x) in the `statsmodels.api` library (note that the dependent, or right-hand side variable y is the first argument). Most linear regressions contain a constant term which is the intercept (the \n",
    " in the regression \n",
    "). To include a constant using the function OLS(), you need to add a column of 1's to the right hand side of the regression.\n",
    "\n",
    "The module `statsmodels.api` has been imported for you as sm."
   ]
  },
  {
   "cell_type": "code",
   "execution_count": 7,
   "metadata": {},
   "outputs": [],
   "source": [
    "# # Import the statsmodels module\n",
    "# import statsmodels.api as sm\n",
    "\n",
    "# # Compute correlation of x and y\n",
    "# correlation = x.corr(y)\n",
    "# print(\"The correlation between x and y is %4.2f\" %(correlation))\n",
    "\n",
    "# # Convert the Series x to a DataFrame and name the column x\n",
    "# dfx = pd.DataFrame(x, columns=['x'])\n",
    "\n",
    "# # Add a constant to the DataFrame dfx\n",
    "# dfx1 = sm.add_constant(dfx)\n",
    "\n",
    "# # Regress y on dfx1\n",
    "# result = sm.OLS(y, dfx1).fit()\n",
    "\n",
    "# # Print out the results and look at the relationship between R-squared and the correlation above\n",
    "# print(result.summary())"
   ]
  },
  {
   "attachments": {},
   "cell_type": "markdown",
   "metadata": {},
   "source": [
    "# Match Correlation with Regression Output"
   ]
  },
  {
   "attachments": {},
   "cell_type": "markdown",
   "metadata": {},
   "source": [
    "Here are four scatter plots, each showing a linear regression line and an R-squared:\n",
    "\n",
    "<center><img src=\"images/01.09.png\"  style=\"width: 400px, height: 300px;\"/></center>\n",
    "Which correlation is correct?"
   ]
  },
  {
   "attachments": {},
   "cell_type": "markdown",
   "metadata": {},
   "source": [
    "- Fig 3: correlation = -0.9"
   ]
  },
  {
   "attachments": {},
   "cell_type": "markdown",
   "metadata": {},
   "source": [
    "# A Popular Strategy Using Autocorrelation"
   ]
  },
  {
   "attachments": {},
   "cell_type": "markdown",
   "metadata": {},
   "source": [
    "One puzzling anomaly with stocks is that investors tend to overreact to news. Following large jumps, either up or down, stock prices tend to reverse. This is described as mean reversion in stock prices: prices tend to bounce back, or revert, towards previous levels after large moves, which are observed over time horizons of about a week. A more mathematical way to describe mean reversion is to say that stock returns are negatively autocorrelated.\n",
    "\n",
    "This simple idea is actually the basis for a popular hedge fund strategy. If you're curious to learn more about this hedge fund strategy (although it's not necessary reading for anything else later in the course), see here.\n",
    "\n",
    "You'll look at the autocorrelation of weekly returns of MSFT stock from 2012 to 2017. You'll start with a DataFrame MSFT of daily prices. You should use the `.resample()` method to get weekly prices and then compute returns from prices. Use the pandas method `.autocorr()` to get the autocorrelation and show that the autocorrelation is negative. Note that the `.autocorr()` method only works on Series, not DataFrames (even DataFrames with one column), so you will have to select the column in the DataFrame."
   ]
  },
  {
   "cell_type": "code",
   "execution_count": 8,
   "metadata": {},
   "outputs": [],
   "source": [
    "# # Convert the daily data to weekly data\n",
    "# MSFT = MSFT.resample('W').last()\n",
    "\n",
    "# # Compute the percentage change of prices\n",
    "# returns = MSFT.pct_change()\n",
    "\n",
    "# # Compute and print the autocorrelation of returns\n",
    "# autocorrelation = returns['Adj Close'].autocorr()\n",
    "# print(\"The autocorrelation of weekly returns is %4.2f\" %(autocorrelation))"
   ]
  },
  {
   "attachments": {},
   "cell_type": "markdown",
   "metadata": {},
   "source": [
    "# Are Interest Rates Autocorrelated?"
   ]
  },
  {
   "attachments": {},
   "cell_type": "markdown",
   "metadata": {},
   "source": [
    "When you look at daily changes in interest rates, the autocorrelation is close to zero. However, if you resample the data and look at annual changes, the autocorrelation is negative. This implies that while short term changes in interest rates may be uncorrelated, long term changes in interest rates are negatively autocorrelated. A daily move up or down in interest rates is unlikely to tell you anything about interest rates tomorrow, but a move in interest rates over a year can tell you something about where interest rates are going over the next year. And this makes some economic sense: over long horizons, when interest rates go up, the economy tends to slow down, which consequently causes interest rates to fall, and vice versa.\n",
    "\n",
    "The DataFrame `daily_rates` contains daily data of 10-year interest rates from 1962 to 2017."
   ]
  },
  {
   "cell_type": "code",
   "execution_count": 9,
   "metadata": {},
   "outputs": [],
   "source": [
    "# # Compute the daily change in interest rates \n",
    "# daily_diff = daily_rates.diff()\n",
    "\n",
    "# # Compute and print the autocorrelation of daily changes\n",
    "# autocorrelation_daily = daily_diff['US10Y'].autocorr()\n",
    "# print(\"The autocorrelation of daily interest rate changes is %4.2f\" %(autocorrelation_daily))\n",
    "\n",
    "# # Convert the daily data to annual data\n",
    "# yearly_rates = daily_rates.resample('A').last()\n",
    "\n",
    "# # Repeat above for annual data\n",
    "# yearly_diff = yearly_rates.diff()\n",
    "# autocorrelation_yearly = yearly_diff['US10Y'].autocorr()\n",
    "# print(\"The autocorrelation of annual interest rate changes is %4.2f\" %(autocorrelation_yearly))"
   ]
  }
 ],
 "metadata": {
  "kernelspec": {
   "display_name": "base",
   "language": "python",
   "name": "python3"
  },
  "language_info": {
   "codemirror_mode": {
    "name": "ipython",
    "version": 3
   },
   "file_extension": ".py",
   "mimetype": "text/x-python",
   "name": "python",
   "nbconvert_exporter": "python",
   "pygments_lexer": "ipython3",
   "version": "3.8.3"
  },
  "orig_nbformat": 4,
  "vscode": {
   "interpreter": {
    "hash": "dc575bfddb5c8ca4bb6a4f4dcdd32abc104b5fa4177361381c432fff36ce3e46"
   }
  }
 },
 "nbformat": 4,
 "nbformat_minor": 2
}

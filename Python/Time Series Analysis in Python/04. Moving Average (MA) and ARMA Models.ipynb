{
 "cells": [
  {
   "attachments": {},
   "cell_type": "markdown",
   "metadata": {},
   "source": [
    "# Simulate MA(1) Time Series"
   ]
  },
  {
   "attachments": {},
   "cell_type": "markdown",
   "metadata": {},
   "source": [
    "You will simulate and plot a few MA(1) time series, each with a different parameter, \n",
    ", using the arima_process module in statsmodels, just as you did in the last chapter for AR(1) models. You will look at an MA(1) model with a large positive theta and a large negative theta.\n",
    "\n",
    "As in the last chapter, when inputting the coefficients, you must include the zero-lag coefficient of 1, but unlike the last chapter on AR models, the sign of the MA coefficients is what we would expect. For example, for an MA(1) process with theta = -0.9, the array representing the MA parameters would be` ma = np.array([1, -0.9])`"
   ]
  },
  {
   "cell_type": "code",
   "execution_count": 1,
   "metadata": {},
   "outputs": [],
   "source": [
    "# # import the module for simulating data\n",
    "# from statsmodels.tsa.arima_process import ArmaProcess\n",
    "\n",
    "# # Plot 1: MA parameter = -0.9\n",
    "# plt.subplot(2,1,1)\n",
    "# ar1 = np.array([1])\n",
    "# ma1 = np.array([1, -0.9])\n",
    "# MA_object1 = ArmaProcess(ar1, ma1)\n",
    "# simulated_data_1 = MA_object1.generate_sample(nsample=1000)\n",
    "# plt.plot(simulated_data_1)\n",
    "\n",
    "# # Plot 2: MA parameter = +0.9\n",
    "# plt.subplot(2,1,2)\n",
    "# ar2 = np.array([1])\n",
    "# ma2 = np.array([1, 0.9])\n",
    "# MA_object2 = ArmaProcess(ar2, ma2)\n",
    "# simulated_data_2 = MA_object2.generate_sample(nsample=1000)\n",
    "# plt.plot(simulated_data_2)\n",
    "\n",
    "# plt.show()"
   ]
  },
  {
   "attachments": {},
   "cell_type": "markdown",
   "metadata": {},
   "source": [
    "# Compute the ACF for Several MA Time Series"
   ]
  },
  {
   "attachments": {},
   "cell_type": "markdown",
   "metadata": {},
   "source": [
    "Unlike an AR(1), an MA(1) model has no autocorrelation beyond lag 1, an MA(2) model has no autocorrelation beyond lag 2, etc. The lag-1 autocorrelation for an MA(1) model is not theta, but rather theta/(1+theta)**2. For example, if the MA parameter, theta is = +0.9, the first-lag autocorrelation will be 0.497. , and the autocorrelation at all other lags will be zero. If the MA parameter, theta is -0.9, the first-lag autocorrelation will be -0.497.\n",
    "\n",
    "You will verify these autocorrelation functions for the three time series you generated in the last exercise."
   ]
  },
  {
   "cell_type": "code",
   "execution_count": 2,
   "metadata": {},
   "outputs": [],
   "source": [
    "# # Import the plot_acf module from statsmodels\n",
    "# from statsmodels.graphics.tsaplots import plot_acf\n",
    "\n",
    "# # Plot 1: MA parameter = -0.9\n",
    "# plot_acf(simulated_data_1, lags=20)\n",
    "# plt.show()"
   ]
  },
  {
   "cell_type": "code",
   "execution_count": 3,
   "metadata": {},
   "outputs": [],
   "source": [
    "# # Plot 2: MA parameter = 0.9\n",
    "# plot_acf(simulated_data_2, lags=20)\n",
    "# plt.show()"
   ]
  },
  {
   "cell_type": "code",
   "execution_count": 4,
   "metadata": {},
   "outputs": [],
   "source": [
    "# # Plot 3: MA parameter = -0.3\n",
    "# plot_acf(simulated_data_3, lags=20)\n",
    "# plt.show()"
   ]
  },
  {
   "attachments": {},
   "cell_type": "markdown",
   "metadata": {},
   "source": [
    "# Match ACF with MA Model"
   ]
  },
  {
   "attachments": {},
   "cell_type": "markdown",
   "metadata": {},
   "source": [
    "Here are four Autocorrelation plots:\n",
    "<center><img src=\"images/04.04.png\"  style=\"width: 400px, height: 300px;\"/></center>\n",
    "\n",
    "\n",
    "Which figure corresponds to an MA(1) model with an MA parameter of -0.5"
   ]
  },
  {
   "attachments": {},
   "cell_type": "markdown",
   "metadata": {},
   "source": [
    "- D"
   ]
  },
  {
   "attachments": {},
   "cell_type": "markdown",
   "metadata": {},
   "source": [
    "# Estimating an MA Model"
   ]
  },
  {
   "attachments": {},
   "cell_type": "markdown",
   "metadata": {},
   "source": [
    "You will estimate the MA(1) parameter, \n",
    ", of one of the simulated series that you generated in the earlier exercise. Since the parameters are known for a simulated series, it is a good way to understand the estimation routines before applying it to real data.\n",
    "\n",
    "For `simulated_data_1` with a true theta of -0.9, you will print out the estimate of theta. In addition, you will also print out the entire output that is produced when you fit a time series, so you can get an idea of what other tests and summary statistics are available in statsmodels."
   ]
  },
  {
   "cell_type": "code",
   "execution_count": 5,
   "metadata": {},
   "outputs": [],
   "source": [
    "# # Import the ARIMA module from statsmodels\n",
    "# from statsmodels.tsa.arima.model import ARIMA\n",
    "\n",
    "# # Fit an MA(1) model to the first simulated data\n",
    "# mod = ARIMA(simulated_data_1, order=(0,0,1))\n",
    "# res = mod.fit()\n",
    "\n",
    "# # Print out summary information on the fit\n",
    "# print(res.summary())\n",
    "\n",
    "# # Print out the estimate for the constant and for theta\n",
    "# print(\"When the true theta=-0.9, the estimate of theta is:\")\n",
    "# print(res.params[1])"
   ]
  },
  {
   "attachments": {},
   "cell_type": "markdown",
   "metadata": {},
   "source": [
    "# Forecasting with MA Model"
   ]
  },
  {
   "attachments": {},
   "cell_type": "markdown",
   "metadata": {},
   "source": [
    "As you did with AR models, you will use MA models to forecast in-sample and out-of-sample data using the `plot_predict()` function in statsmodels.\n",
    "\n",
    "For the simulated series `simulated_data_1` with thea = -0.9, you will plot in-sample and out-of-sample forecasts. One big difference you will see between out-of-sample forecasts with an MA(1) model and an AR(1) model is that the MA(1) forecasts more than one period in the future are simply the mean of the sample."
   ]
  },
  {
   "cell_type": "code",
   "execution_count": 6,
   "metadata": {},
   "outputs": [],
   "source": [
    "# # Import the ARIMA and plot_predict from statsmodels\n",
    "# from statsmodels.tsa.arima.model import ARIMA\n",
    "# from statsmodels.graphics.tsaplots import plot_predict\n",
    "\n",
    "# # Forecast the first MA(1) model\n",
    "# mod = ARIMA(simulated_data_1, order=(0,0,1))\n",
    "# res = mod.fit()\n",
    "\n",
    "# # Plot the data and the forecast\n",
    "# fig, ax = plt.subplots()\n",
    "# simulated_data_1.loc[950:].plot(ax=ax)\n",
    "# plot_predict(res, start=1000, end=1010, ax=ax)\n",
    "# plt.show()"
   ]
  },
  {
   "attachments": {},
   "cell_type": "markdown",
   "metadata": {},
   "source": [
    "# High Frequency Stock Prices"
   ]
  },
  {
   "attachments": {},
   "cell_type": "markdown",
   "metadata": {},
   "source": [
    "Higher frequency stock data is well modeled by an MA(1) process, so it's a nice application of the models in this chapter.\n",
    "\n",
    "The DataFrame `intraday` contains one day's prices (on September 1, 2017) for Sprint stock (ticker symbol \"S\") sampled at a frequency of one minute. The stock market is open for 6.5 hours (390 minutes), from 9:30am to 4:00pm.\n",
    "\n",
    "Before you can analyze the time series data, you will have to clean it up a little, which you will do in this and the next two exercises. When you look at the first few rows (see the IPython Shell), you'll notice several things. First, there are no column headers.The data is not time stamped from 9:30 to 4:00, but rather goes from 0 to 390. And you will notice that the first date is the odd-looking \"a1504272600\". The number after the \"a\" is Unix time which is the number of seconds since January 1, 1970. This is how this dataset separates each day of intraday data.\n",
    "\n",
    "If you look at the data types, you'll notice that the DATE column is an object, which here means a string. You will need to change that to numeric before you can clean up some missing data.\n",
    "\n",
    "The source of the minute data is Google Finance.\n",
    "\n",
    "The datetime module has already been imported for you."
   ]
  },
  {
   "cell_type": "code",
   "execution_count": 7,
   "metadata": {},
   "outputs": [],
   "source": [
    "# # import datetime module\n",
    "# import datetime\n",
    "\n",
    "# # Change the first date to zero\n",
    "# intraday.iloc[0,0] = 0\n",
    "\n",
    "# # Change the column headers to 'DATE' and 'CLOSE'\n",
    "# intraday.columns = ['DATE' , 'CLOSE']\n",
    "\n",
    "# # Examine the data types for each column\n",
    "# print(intraday.dtypes)\n",
    "\n",
    "# # Convert DATE column to numeric\n",
    "# intraday['DATE'] = pd.to_numeric(intraday['DATE'])\n",
    "\n",
    "# # Make the `DATE` column the new index\n",
    "# intraday = intraday.set_index('DATE')"
   ]
  },
  {
   "attachments": {},
   "cell_type": "markdown",
   "metadata": {},
   "source": [
    "# More Data Cleaning: Missing Data"
   ]
  },
  {
   "attachments": {},
   "cell_type": "markdown",
   "metadata": {},
   "source": [
    "When you print out the length of the DataFrame intraday, you will notice that a few rows are missing. There will be missing data if there are no trades in a particular one-minute interval. One way to see which rows are missing is to take the difference of two sets: the full set of every minute and the set of the DataFrame index which contains missing rows. After filling in the missing rows, you can convert the index to time of day and then plot the data.\n",
    "\n",
    "Stocks trade at discrete one-cent increments (although a small percentage of trades occur in between the one-cent increments) rather than at continuous prices, and when you plot the data you should observe that there are long periods when the stock bounces back and forth over a one cent range. This is sometimes referred to as \"bid/ask bounce\"."
   ]
  },
  {
   "cell_type": "code",
   "execution_count": 8,
   "metadata": {},
   "outputs": [],
   "source": [
    "# # Notice that some rows are missing\n",
    "# print(\"If there were no missing rows, there would be 391 rows of minute data\")\n",
    "# print(\"The actual length of the DataFrame is:\", len(intraday))"
   ]
  },
  {
   "cell_type": "code",
   "execution_count": 9,
   "metadata": {},
   "outputs": [],
   "source": [
    "# # Everything\n",
    "# set_everything = set(range(391))\n",
    "\n",
    "# # The intraday index as a set\n",
    "# set_intraday = set(intraday.index)\n",
    "\n",
    "# # Calculate the difference\n",
    "# set_missing = set_everything.difference(set_intraday)\n",
    "\n",
    "# # Print the difference\n",
    "# print(\"Missing rows: \", set_missing)"
   ]
  },
  {
   "cell_type": "code",
   "execution_count": 10,
   "metadata": {},
   "outputs": [],
   "source": [
    "# # Fill in the missing rows\n",
    "# intraday = intraday.reindex(range(391), method='ffill')"
   ]
  },
  {
   "cell_type": "code",
   "execution_count": 11,
   "metadata": {},
   "outputs": [],
   "source": [
    "# # From previous step\n",
    "# intraday = intraday.reindex(range(391), method='ffill')\n",
    "\n",
    "# # Change the index to the intraday times\n",
    "# intraday.index = pd.date_range(start='2017-09-01 9:30', end='2017-09-01 16:00', freq='1min')\n",
    "\n",
    "# # Plot the intraday time series\n",
    "# intraday.plot(grid=True)\n",
    "# plt.show()"
   ]
  },
  {
   "attachments": {},
   "cell_type": "markdown",
   "metadata": {},
   "source": [
    "# Applying an MA Model"
   ]
  },
  {
   "attachments": {},
   "cell_type": "markdown",
   "metadata": {},
   "source": [
    "The bouncing of the stock price between bid and ask induces a negative first order autocorrelation, but no autocorrelations at lags higher than 1. You get the same ACF pattern with an MA(1) model. Therefore, you will fit an MA(1) model to the intraday stock data from the last exercise.\n",
    "\n",
    "The first step is to compute minute-by-minute returns from the prices in `intraday`, and plot the autocorrelation function. You should observe that the ACF looks like that for an MA(1) process. Then, fit the data to an MA(1), the same way you did for simulated data."
   ]
  },
  {
   "cell_type": "code",
   "execution_count": 12,
   "metadata": {},
   "outputs": [],
   "source": [
    "# # Import plot_acf and ARIMA modules from statsmodels\n",
    "# from statsmodels.graphics.tsaplots import plot_acf\n",
    "# from statsmodels.tsa.arima.model import ARIMA\n",
    "\n",
    "# # Compute returns from prices and drop the NaN\n",
    "# returns = intraday.pct_change()\n",
    "# returns = returns.dropna()\n",
    "\n",
    "# # Plot ACF of returns with lags up to 60 minutes\n",
    "# plot_acf(returns, lags = 60)\n",
    "# plt.show()\n",
    "\n",
    "# # Fit the data to an MA(1) model\n",
    "# mod = ARIMA(returns, order=(0,0,1))\n",
    "# res = mod.fit()\n",
    "# print(res.params[1])"
   ]
  },
  {
   "attachments": {},
   "cell_type": "markdown",
   "metadata": {},
   "source": [
    "# Equivalence of AR(1) and MA(infinity)"
   ]
  },
  {
   "attachments": {},
   "cell_type": "markdown",
   "metadata": {},
   "source": [
    "To better understand the relationship between MA models and AR models, you will demonstrate that an AR(1) model is equivalent to an MA(infinity) model with the appropriate parameters.\n",
    "\n",
    "You will simulate an MA model with parameters \n",
    " for a large number (30) lags and show that it has the same Autocorrelation Function as an AR(1) model with phi=0.8.\n",
    "\n",
    "Note, to raise a number x to the power of an exponent n, use the format x**n."
   ]
  },
  {
   "cell_type": "code",
   "execution_count": 13,
   "metadata": {},
   "outputs": [],
   "source": [
    "# # import the modules for simulating data and plotting the ACF\n",
    "# from statsmodels.tsa.arima_process import ArmaProcess\n",
    "# from statsmodels.graphics.tsaplots import plot_acf\n",
    "\n",
    "# # Build a list MA parameters\n",
    "# ma = [(0.8)**i for i in range(30)]\n",
    "\n",
    "# # Simulate the MA(30) model\n",
    "# ar = np.array([1])\n",
    "# AR_object = ArmaProcess(ar, ma)\n",
    "# simulated_data = AR_object.generate_sample(nsample=5000)\n",
    "\n",
    "# # Plot the ACF\n",
    "# plot_acf(simulated_data, lags=30)\n",
    "# plt.show()"
   ]
  }
 ],
 "metadata": {
  "kernelspec": {
   "display_name": "base",
   "language": "python",
   "name": "python3"
  },
  "language_info": {
   "codemirror_mode": {
    "name": "ipython",
    "version": 3
   },
   "file_extension": ".py",
   "mimetype": "text/x-python",
   "name": "python",
   "nbconvert_exporter": "python",
   "pygments_lexer": "ipython3",
   "version": "3.8.3"
  },
  "orig_nbformat": 4,
  "vscode": {
   "interpreter": {
    "hash": "dc575bfddb5c8ca4bb6a4f4dcdd32abc104b5fa4177361381c432fff36ce3e46"
   }
  }
 },
 "nbformat": 4,
 "nbformat_minor": 2
}

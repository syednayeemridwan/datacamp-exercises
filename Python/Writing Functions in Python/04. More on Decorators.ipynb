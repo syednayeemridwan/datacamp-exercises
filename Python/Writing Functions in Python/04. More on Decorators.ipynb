{
 "cells": [
  {
   "cell_type": "markdown",
   "metadata": {},
   "source": [
    "# Print the return type"
   ]
  },
  {
   "cell_type": "markdown",
   "metadata": {},
   "source": [
    "Sometimes bugs can sneak into your code when you are expecting a function to return one thing, and it returns something different. For instance, if you expect a function to return a numpy array, but it returns a list, you can get unexpected behavior. To ensure this is not what is causing the trouble, you decide to write a decorator, print_return_type(), that will print out the type of the variable that gets returned from every call of any function it is decorating."
   ]
  },
  {
   "cell_type": "code",
   "execution_count": 1,
   "metadata": {},
   "outputs": [
    {
     "name": "stdout",
     "output_type": "stream",
     "text": [
      "foo() returned type <class 'int'>\n",
      "42\n",
      "foo() returned type <class 'list'>\n",
      "[1, 2, 3]\n",
      "foo() returned type <class 'dict'>\n",
      "{'a': 42}\n"
     ]
    }
   ],
   "source": [
    "def print_return_type(func):\n",
    "  # Define wrapper(), the decorated function\n",
    "  def wrapper(*args, **kwargs):\n",
    "    # Call the function being decorated\n",
    "    result = func(*args, **kwargs)\n",
    "    print('{}() returned type {}'.format(\n",
    "      func.__name__, type(result)\n",
    "    ))\n",
    "    return result\n",
    "  # Return the decorated function\n",
    "  return wrapper\n",
    "  \n",
    "@print_return_type\n",
    "def foo(value):\n",
    "  return value\n",
    "  \n",
    "print(foo(42))\n",
    "print(foo([1, 2, 3]))\n",
    "print(foo({'a': 42}))"
   ]
  },
  {
   "cell_type": "markdown",
   "metadata": {},
   "source": [
    "# Counter"
   ]
  },
  {
   "cell_type": "markdown",
   "metadata": {},
   "source": [
    " you decide to write a decorator that adds a counter to each function that you decorate. You could use this information in the future to determine whether there are sections of code that you could remove because they are no longer being used by the app."
   ]
  },
  {
   "cell_type": "code",
   "execution_count": 2,
   "metadata": {},
   "outputs": [
    {
     "name": "stdout",
     "output_type": "stream",
     "text": [
      "foo() was called 2 times.\n"
     ]
    }
   ],
   "source": [
    "def counter(func):\n",
    "  def wrapper(*args, **kwargs):\n",
    "    wrapper.count += 1\n",
    "    # Call the function being decorated and return the result\n",
    "    return wrapper.count\n",
    "  wrapper.count = 0\n",
    "  # Return the new decorated function\n",
    "  return wrapper\n",
    "\n",
    "# Decorate foo() with the counter() decorator\n",
    "@counter\n",
    "def foo():\n",
    "  print('calling foo()')\n",
    "  \n",
    "foo()\n",
    "foo()\n",
    "\n",
    "print('foo() was called {} times.'.format(foo.count))"
   ]
  },
  {
   "cell_type": "markdown",
   "metadata": {},
   "source": [
    "# Preserving docstrings when decorating functions"
   ]
  },
  {
   "cell_type": "markdown",
   "metadata": {},
   "source": [
    "All of the docstrings have mysteriously disappeared from their decorated functions. Show your friend how to preserve docstrings and other metadata when writing decorators."
   ]
  },
  {
   "cell_type": "code",
   "execution_count": 3,
   "metadata": {},
   "outputs": [
    {
     "name": "stdout",
     "output_type": "stream",
     "text": [
      "Hello\n",
      "30\n",
      "None\n"
     ]
    }
   ],
   "source": [
    "def add_hello(func):\n",
    "  def wrapper(*args, **kwargs):\n",
    "    print('Hello')\n",
    "    return func(*args, **kwargs)\n",
    "  return wrapper\n",
    "\n",
    "# Decorate print_sum() with the add_hello() decorator\n",
    "@add_hello\n",
    "def print_sum(a, b):\n",
    "  \"\"\"Adds two numbers and prints the sum\"\"\"\n",
    "  print(a + b)\n",
    "  \n",
    "print_sum(10, 20)\n",
    "print_sum_docstring = print_sum.__doc__\n",
    "print(print_sum_docstring)"
   ]
  },
  {
   "cell_type": "code",
   "execution_count": 4,
   "metadata": {},
   "outputs": [
    {
     "name": "stdout",
     "output_type": "stream",
     "text": [
      "Hello\n",
      "30\n",
      "Print 'hello' and then call the decorated function.\n"
     ]
    }
   ],
   "source": [
    "def add_hello(func):\n",
    "  # Add a docstring to wrapper\n",
    "  def wrapper(*args, **kwargs):\n",
    "    \"\"\"Print 'hello' and then call the decorated function.\"\"\"\n",
    "    print('Hello')\n",
    "    return func(*args, **kwargs)\n",
    "  return wrapper\n",
    "\n",
    "@add_hello\n",
    "def print_sum(a, b):\n",
    "  \"\"\"Adds two numbers and prints the sum\"\"\"\n",
    "  print(a + b)\n",
    "  \n",
    "print_sum(10, 20)\n",
    "print_sum_docstring = print_sum.__doc__\n",
    "print(print_sum_docstring)"
   ]
  },
  {
   "cell_type": "code",
   "execution_count": 5,
   "metadata": {},
   "outputs": [
    {
     "name": "stdout",
     "output_type": "stream",
     "text": [
      "Hello\n",
      "30\n",
      "Print 'hello' and then call the decorated function.\n"
     ]
    }
   ],
   "source": [
    "# Import the function you need to fix the problem\n",
    "from functools import wraps\n",
    "\n",
    "def add_hello(func):\n",
    "  def wrapper(*args, **kwargs):\n",
    "    \"\"\"Print 'hello' and then call the decorated function.\"\"\"\n",
    "    print('Hello')\n",
    "    return func(*args, **kwargs)\n",
    "  return wrapper\n",
    "  \n",
    "@add_hello\n",
    "def print_sum(a, b):\n",
    "  \"\"\"Adds two numbers and prints the sum\"\"\"\n",
    "  print(a + b)\n",
    "  \n",
    "print_sum(10, 20)\n",
    "print_sum_docstring = print_sum.__doc__\n",
    "print(print_sum_docstring)"
   ]
  },
  {
   "cell_type": "code",
   "execution_count": 6,
   "metadata": {},
   "outputs": [
    {
     "name": "stdout",
     "output_type": "stream",
     "text": [
      "Hello\n",
      "30\n",
      "Adds two numbers and prints the sum\n"
     ]
    }
   ],
   "source": [
    "from functools import wraps\n",
    "\n",
    "def add_hello(func):\n",
    "  # Decorate wrapper() so that it keeps func()'s metadata\n",
    "  @wraps(func)\n",
    "  def wrapper(*args, **kwargs):\n",
    "    \"\"\"Print 'hello' and then call the decorated function.\"\"\"\n",
    "    print('Hello')\n",
    "    return func(*args, **kwargs)\n",
    "  return wrapper\n",
    "  \n",
    "@add_hello\n",
    "def print_sum(a, b):\n",
    "  \"\"\"Adds two numbers and prints the sum\"\"\"\n",
    "  print(a + b)\n",
    "  \n",
    "print_sum(10, 20)\n",
    "print_sum_docstring = print_sum.__doc__\n",
    "print(print_sum_docstring)"
   ]
  },
  {
   "cell_type": "markdown",
   "metadata": {},
   "source": [
    "# Measuring decorator overhead"
   ]
  },
  {
   "cell_type": "markdown",
   "metadata": {},
   "source": [
    "You need to convince your boss that the decorator is adding too much processing time to your function. To do this, you are going to measure how long the decorated function takes to run and compare it to how long the undecorated function would have taken to run."
   ]
  },
  {
   "cell_type": "code",
   "execution_count": 7,
   "metadata": {},
   "outputs": [],
   "source": [
    "import time\n",
    "\n",
    "def check_everything(func):\n",
    "  @wraps(func)\n",
    "  def wrapper(*args, **kwargs):\n",
    "    # check_inputs(*args, **kwargs)\n",
    "    result = func(*args, **kwargs)\n",
    "    # check_outputs(result)\n",
    "    return result\n",
    "  return wrapper"
   ]
  },
  {
   "cell_type": "code",
   "execution_count": 8,
   "metadata": {},
   "outputs": [
    {
     "name": "stdout",
     "output_type": "stream",
     "text": [
      "Decorated time: 0.00000s\n",
      "Undecorated time: 0.00000s\n"
     ]
    }
   ],
   "source": [
    "@check_everything\n",
    "def duplicate(my_list):\n",
    "  \"\"\"Return a new list that repeats the input twice\"\"\"\n",
    "  return my_list + my_list\n",
    "\n",
    "t_start = time.time()\n",
    "duplicated_list = duplicate(list(range(50)))\n",
    "t_end = time.time()\n",
    "decorated_time = t_end - t_start\n",
    "\n",
    "t_start = time.time()\n",
    "# Call the original function instead of the decorated one\n",
    "duplicated_list = duplicate.__wrapped__(list(range(50)))\n",
    "t_end = time.time()\n",
    "undecorated_time = t_end - t_start\n",
    "\n",
    "print('Decorated time: {:.5f}s'.format(decorated_time))\n",
    "print('Undecorated time: {:.5f}s'.format(undecorated_time))"
   ]
  },
  {
   "cell_type": "markdown",
   "metadata": {},
   "source": [
    "# Run_n_times()"
   ]
  },
  {
   "cell_type": "markdown",
   "metadata": {},
   "source": [
    "Practice different ways of applying the decorator to the function print_sum()."
   ]
  },
  {
   "cell_type": "code",
   "execution_count": 9,
   "metadata": {},
   "outputs": [],
   "source": [
    "def run_n_times(n):\n",
    "  \"\"\"Define and return a decorator\"\"\"\n",
    "  def decorator(func):\n",
    "    def wrapper(*args, **kwargs):\n",
    "      for i in range(n):\n",
    "        func(*args, **kwargs)\n",
    "    return wrapper\n",
    "  return decorator"
   ]
  },
  {
   "cell_type": "code",
   "execution_count": 10,
   "metadata": {},
   "outputs": [
    {
     "name": "stdout",
     "output_type": "stream",
     "text": [
      "35\n",
      "35\n",
      "35\n",
      "35\n",
      "35\n",
      "35\n",
      "35\n",
      "35\n",
      "35\n",
      "35\n"
     ]
    }
   ],
   "source": [
    "# Make print_sum() run 10 times with the run_n_times() decorator\n",
    "@run_n_times(10)\n",
    "def print_sum(a, b):\n",
    "  print(a + b)\n",
    "  \n",
    "print_sum(15, 20)"
   ]
  },
  {
   "cell_type": "code",
   "execution_count": 11,
   "metadata": {},
   "outputs": [
    {
     "name": "stdout",
     "output_type": "stream",
     "text": [
      "104\n",
      "104\n",
      "104\n",
      "104\n",
      "104\n"
     ]
    }
   ],
   "source": [
    "# Use run_n_times() to create the run_five_times() decorator\n",
    "run_five_times = run_n_times(5)\n",
    "\n",
    "@run_five_times\n",
    "def print_sum(a, b):\n",
    "  print(a + b)\n",
    "  \n",
    "print_sum(4, 100)"
   ]
  },
  {
   "cell_type": "code",
   "execution_count": 12,
   "metadata": {},
   "outputs": [
    {
     "name": "stdout",
     "output_type": "stream",
     "text": [
      "What is happening?!?!\n",
      "What is happening?!?!\n",
      "What is happening?!?!\n"
     ]
    }
   ],
   "source": [
    "# Modify the print() function to always run 3 times\n",
    "new_print = run_n_times(3)(print)\n",
    "\n",
    "new_print('What is happening?!?!')"
   ]
  },
  {
   "cell_type": "markdown",
   "metadata": {},
   "source": [
    "# HTML Generator"
   ]
  },
  {
   "cell_type": "markdown",
   "metadata": {},
   "source": [
    "You are writing a script that generates HTML for a webpage on the fly. So far, you have written two decorators that will add bold or italics tags to any function that returns a string. You notice, however, that these two decorators look very similar. Instead of writing a bunch of other similar looking decorators, you want to create one decorator, html(), that can take any pair of opening and closing tags."
   ]
  },
  {
   "cell_type": "code",
   "execution_count": 13,
   "metadata": {},
   "outputs": [],
   "source": [
    "def bold(func):\n",
    "  @wraps(func)\n",
    "  def wrapper(*args, **kwargs):\n",
    "    msg = func(*args, **kwargs)\n",
    "    return '<b>{}</b>'.format(msg)\n",
    "  return wrapper"
   ]
  },
  {
   "cell_type": "code",
   "execution_count": 14,
   "metadata": {},
   "outputs": [],
   "source": [
    "def italics(func):\n",
    "  @wraps(func)\n",
    "  def wrapper(*args, **kwargs):\n",
    "    msg = func(*args, **kwargs)\n",
    "    return '<i>{}</i>'.format(msg)\n",
    "  return wrapper"
   ]
  },
  {
   "cell_type": "code",
   "execution_count": 15,
   "metadata": {},
   "outputs": [],
   "source": [
    "def html(open_tag, close_tag):\n",
    "  def decorator(func):\n",
    "    @wraps(func)\n",
    "    def wrapper(*args, **kwargs):\n",
    "      msg = func(*args, **kwargs)\n",
    "      return '{}{}{}'.format(open_tag, msg, close_tag)\n",
    "    # Return the decorated function\n",
    "    return wrapper\n",
    "  # Return the decorator\n",
    "  return decorator"
   ]
  },
  {
   "cell_type": "code",
   "execution_count": 16,
   "metadata": {},
   "outputs": [
    {
     "name": "stdout",
     "output_type": "stream",
     "text": [
      "<b>Hello Alice!</b>\n"
     ]
    }
   ],
   "source": [
    "# Make hello() return bolded text\n",
    "@html(\"<b>\" , \"</b>\")\n",
    "def hello(name):\n",
    "  return 'Hello {}!'.format(name)\n",
    "  \n",
    "print(hello('Alice'))"
   ]
  },
  {
   "cell_type": "code",
   "execution_count": 17,
   "metadata": {},
   "outputs": [
    {
     "name": "stdout",
     "output_type": "stream",
     "text": [
      "<i>Goodbye Alice.</i>\n"
     ]
    }
   ],
   "source": [
    "# Make goodbye() return italicized text\n",
    "@html(\"<i>\" , \"</i>\")\n",
    "def goodbye(name):\n",
    "  return 'Goodbye {}.'.format(name)\n",
    "  \n",
    "print(goodbye('Alice'))"
   ]
  },
  {
   "cell_type": "code",
   "execution_count": 18,
   "metadata": {},
   "outputs": [
    {
     "name": "stdout",
     "output_type": "stream",
     "text": [
      "<div>\n",
      "<b>Hello Alice!</b>\n",
      "<i>Goodbye Alice.</i>\n",
      "</div>\n"
     ]
    }
   ],
   "source": [
    "# Wrap the result of hello_goodbye() in <div> and </div>\n",
    "@html(\"<div>\" , \"</div>\")\n",
    "def hello_goodbye(name):\n",
    "  return '\\n{}\\n{}\\n'.format(hello(name), goodbye(name))\n",
    "  \n",
    "print(hello_goodbye('Alice'))"
   ]
  },
  {
   "cell_type": "markdown",
   "metadata": {},
   "source": [
    "# Tag your functions"
   ]
  },
  {
   "cell_type": "markdown",
   "metadata": {},
   "source": [
    "Tagging something means that you have given that thing one or more strings that act as labels. For instance, we often tag emails or photos so that we can search for them later. You've decided to write a decorator that will let you tag your functions with an arbitrary list of tags. You could use these tags for many things:\n",
    "\n",
    "- Adding information about who has worked on the function, so a user can look up who to ask if they run into trouble using it.\n",
    "- Labeling functions as \"experimental\" so that users know that the inputs and outputs might change in the future.\n",
    "- Marking any functions that you plan to remove in a future version of the code.\n",
    "- Etc."
   ]
  },
  {
   "cell_type": "code",
   "execution_count": 20,
   "metadata": {},
   "outputs": [
    {
     "name": "stdout",
     "output_type": "stream",
     "text": [
      "('test', 'this is a tag')\n"
     ]
    }
   ],
   "source": [
    "def tag(*tags):\n",
    "  # Define a new decorator, named \"decorator\", to return\n",
    "  def decorator(func):\n",
    "    # Ensure the decorated function keeps its metadata\n",
    "    @wraps(func)\n",
    "    def wrapper(*args, **kwargs):\n",
    "      # Call the function being decorated and return the result\n",
    "      return func(*args, **kwargs)\n",
    "    # Add properties to wrapper\n",
    "    wrapper.tags = tags\n",
    "    return wrapper\n",
    "  # Return the new decorator\n",
    "  return decorator\n",
    "\n",
    "@tag('test', 'this is a tag')\n",
    "def foo():\n",
    "  pass\n",
    "\n",
    "print(foo.tags)"
   ]
  },
  {
   "cell_type": "markdown",
   "metadata": {},
   "source": [
    "# Check the return type"
   ]
  },
  {
   "cell_type": "markdown",
   "metadata": {},
   "source": [
    "Python's flexibility around data types is usually cited as one of the benefits of the language. It can sometimes cause problems though if incorrect data types go unnoticed. you are going to create a decorator that checks if the return type of the decorated function is correct."
   ]
  },
  {
   "cell_type": "code",
   "execution_count": 24,
   "metadata": {},
   "outputs": [
    {
     "name": "stdout",
     "output_type": "stream",
     "text": [
      "foo() did not return a dict!\n"
     ]
    }
   ],
   "source": [
    "def returns_dict(func):\n",
    "  # Complete the returns_dict() decorator\n",
    "  def wrapper(args):\n",
    "    result = args\n",
    "    assert type(result) == dict # hard-coded type\n",
    "    return result\n",
    "  return wrapper\n",
    "  \n",
    "@returns_dict\n",
    "def foo(value):\n",
    "  return value\n",
    "\n",
    "try:\n",
    "  print(foo([1,2,3]))\n",
    "except AssertionError:\n",
    "  print('foo() did not return a dict!')\n",
    "  "
   ]
  },
  {
   "cell_type": "code",
   "execution_count": 25,
   "metadata": {},
   "outputs": [
    {
     "name": "stdout",
     "output_type": "stream",
     "text": [
      "foo() did not return a dict!\n"
     ]
    }
   ],
   "source": [
    "def returns(return_type):\n",
    "  # Complete the returns() decorator\n",
    "  def decorator(func):\n",
    "    def wrapper(args):\n",
    "      result = args\n",
    "      assert type(result) == return_type  # dynamic type\n",
    "      return result\n",
    "    return wrapper\n",
    "  return decorator\n",
    "  \n",
    "@returns(dict)\n",
    "def foo(value):\n",
    "  return value\n",
    "\n",
    "try:\n",
    "  print(foo([1,2,3]))\n",
    "except AssertionError:\n",
    "  print('foo() did not return a dict!')"
   ]
  }
 ],
 "metadata": {
  "kernelspec": {
   "display_name": "Python 3.8.11 ('env_py')",
   "language": "python",
   "name": "python3"
  },
  "language_info": {
   "codemirror_mode": {
    "name": "ipython",
    "version": 3
   },
   "file_extension": ".py",
   "mimetype": "text/x-python",
   "name": "python",
   "nbconvert_exporter": "python",
   "pygments_lexer": "ipython3",
   "version": "3.8.11"
  },
  "orig_nbformat": 4,
  "vscode": {
   "interpreter": {
    "hash": "1e949e87132dd83f1a7623eb88007e3532b03b66b77111be347aa4a383049722"
   }
  }
 },
 "nbformat": 4,
 "nbformat_minor": 2
}

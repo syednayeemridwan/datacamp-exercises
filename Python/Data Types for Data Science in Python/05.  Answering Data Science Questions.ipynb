{
 "cells": [
  {
   "cell_type": "markdown",
   "metadata": {},
   "source": [
    "# Reading your data with CSV Reader and Establishing your Data Containers"
   ]
  },
  {
   "cell_type": "markdown",
   "metadata": {},
   "source": [
    "Your job in this exercise is to use a CSV Reader to load up a list to hold the data you're going to analyze."
   ]
  },
  {
   "cell_type": "code",
   "execution_count": null,
   "metadata": {},
   "outputs": [],
   "source": [
    "# # Import the csv module\n",
    "# import csv\n",
    "\n",
    "# # Create the file object: csvfile\n",
    "# csvfile = open(\"crime_sampler.csv\", \"r\")\n",
    "\n",
    "# # Create an empty list: crime_data\n",
    "# crime_data = []\n",
    "\n",
    "# # Loop over a csv reader on the file object\n",
    "# for row in csv.reader(csvfile):\n",
    "\n",
    "#     # Append the date, type of crime, location description, and arrest\n",
    "#     crime_data.append((row[0], row[2], row[4], row[5]))\n",
    "    \n",
    "# # Remove the first element from crime_data\n",
    "# crime_data.pop(0)\n",
    "\n",
    "# # Print the first 10 records\n",
    "# print(crime_data[:10])"
   ]
  },
  {
   "cell_type": "markdown",
   "metadata": {},
   "source": [
    "# Find the Months with the Highest Number of Crimes"
   ]
  },
  {
   "cell_type": "markdown",
   "metadata": {},
   "source": [
    "Using the crime_data list from the prior exercise, you'll answer a common question that arises when dealing with crime data: How many crimes are committed each month?"
   ]
  },
  {
   "cell_type": "code",
   "execution_count": 1,
   "metadata": {},
   "outputs": [],
   "source": [
    "# # Import necessary modules\n",
    "# from datetime import datetime\n",
    "# from collections import Counter\n",
    "\n",
    "# # Create a Counter Object: crimes_by_month\n",
    "# crimes_by_month = Counter()\n",
    "\n",
    "# # Loop over the crime_data list\n",
    "# for data in crime_data:\n",
    "    \n",
    "#     # Convert the first element of each item into a Python Datetime Object: date\n",
    "#     date = datetime.strptime(data[0], '%m/%d/%Y %I:%M:%S %p')\n",
    "    \n",
    "#     # Increment the counter for the month of the row by one\n",
    "#     crimes_by_month[date.month] += 1\n",
    "    \n",
    "# # Print the 3 most common months for crime\n",
    "# print(crimes_by_month.most_common(3))"
   ]
  },
  {
   "cell_type": "markdown",
   "metadata": {},
   "source": [
    "# Transforming your Data Containers to Month and Location"
   ]
  },
  {
   "cell_type": "markdown",
   "metadata": {},
   "source": [
    "Now let's flip your crime_data list into a dictionary keyed by month with a list of location values for each month, and filter down to the records for the year 2016."
   ]
  },
  {
   "cell_type": "code",
   "execution_count": 2,
   "metadata": {},
   "outputs": [],
   "source": [
    "# # Import necessary modules\n",
    "# from collections import defaultdict\n",
    "# from datetime import datetime\n",
    "\n",
    "# # Create a dictionary that defaults to a list: locations_by_month\n",
    "# locations_by_month = defaultdict(list)\n",
    "\n",
    "# # Loop over the crime_data list\n",
    "# for row in crime_data:\n",
    "#     # Convert the first element to a date object\n",
    "#     date = datetime.strptime(row[0], '%m/%d/%Y %I:%M:%S %p')\n",
    "    \n",
    "#     # If the year is 2016 \n",
    "#     if date.year == 2016:\n",
    "#         # Set the dictionary key to the month and append the location (fifth element) to the values list\n",
    "#         locations_by_month[date.month].append(row[4])\n",
    "    \n",
    "# # Print the dictionary\n",
    "# print(locations_by_month)"
   ]
  },
  {
   "cell_type": "markdown",
   "metadata": {},
   "source": [
    "# Find the Most Common Crimes by Location Type by Month in 2016"
   ]
  },
  {
   "cell_type": "markdown",
   "metadata": {},
   "source": [
    "Using the `locations_by_month` dictionary from the prior exercise, you'll now determine common crimes by month and location type."
   ]
  },
  {
   "cell_type": "code",
   "execution_count": 3,
   "metadata": {},
   "outputs": [],
   "source": [
    "# # Import Counter from collections\n",
    "# from collections import Counter\n",
    "\n",
    "# # Loop over the items from locations_by_month using tuple expansion of the month and locations\n",
    "# for month , locations in locations_by_month.items():\n",
    "#     # Make a Counter of the locations\n",
    "#     location_count = Counter(locations)\n",
    "#     # Print the month \n",
    "#     print(month)\n",
    "#     # Print the most common location\n",
    "#     print(location_count.most_common(5))"
   ]
  },
  {
   "cell_type": "markdown",
   "metadata": {},
   "source": [
    "# Reading your Data with DictReader and Establishing your Data Containers"
   ]
  },
  {
   "cell_type": "markdown",
   "metadata": {},
   "source": [
    "You'll now use a DictReader to load up a dictionary to hold your data with the district as the key and the rest of the data in a list. "
   ]
  },
  {
   "cell_type": "code",
   "execution_count": 4,
   "metadata": {},
   "outputs": [],
   "source": [
    "# # Create the CSV file: csvfile\n",
    "# csvfile = open(\"crime_sampler.csv\",\"r\")\n",
    "\n",
    "# # Create a dictionary that defaults to a list: crimes_by_district\n",
    "# crimes_by_district = defaultdict(list)\n",
    "\n",
    "# # Loop over a DictReader of the CSV file\n",
    "# for row in csv.DictReader(csvfile):\n",
    "#     # Pop the district from each row: district\n",
    "#     district = row.pop('District')\n",
    "#     # Append the rest of the data to the list for proper district in crimes_by_district\n",
    "#     crimes_by_district[district].append(row)"
   ]
  },
  {
   "cell_type": "markdown",
   "metadata": {},
   "source": [
    "# Determine the Arrests by District by Year"
   ]
  },
  {
   "cell_type": "markdown",
   "metadata": {},
   "source": [
    "Using your crimes_by_district dictionary from the previous exercise, you'll now determine the number arrests in each City district for each year"
   ]
  },
  {
   "cell_type": "code",
   "execution_count": 5,
   "metadata": {},
   "outputs": [],
   "source": [
    "# # Loop over the crimes_by_district using expansion as district and crimes\n",
    "# for district , crimes in crimes_by_district.items():\n",
    "#     # Print the district\n",
    "#     print(district)\n",
    "    \n",
    "#     # Create an empty Counter object: year_count\n",
    "#     year_count = Counter()\n",
    "    \n",
    "#     # Loop over the crimes:\n",
    "#     for crime in crimes:\n",
    "#         # If there was an arrest\n",
    "#         if crime['Arrest'] == 'true':\n",
    "#             # Convert the Date to a datetime and get the year\n",
    "#             year = datetime.strptime(crime['Date'], '%m/%d/%Y %I:%M:%S %p').year\n",
    "#             # Increment the Counter for the year\n",
    "#             year_count[year] += 1\n",
    "            \n",
    "#     # Print the counter\n",
    "#     print(year_count)"
   ]
  },
  {
   "cell_type": "markdown",
   "metadata": {},
   "source": [
    "# Unique Crimes by City Block"
   ]
  },
  {
   "cell_type": "markdown",
   "metadata": {},
   "source": [
    "Here, your data has been reshaped into a dictionary called crimes_by_block in which crimes are listed by city block. Your task in this exercise is to get a unique list of crimes that have occurred on a couple of the blocks that have been selected for you to learn more about. You might remember that you used set() to solve problems like this"
   ]
  },
  {
   "cell_type": "code",
   "execution_count": 6,
   "metadata": {},
   "outputs": [],
   "source": [
    "# # Create a unique list of crimes for the first block: n_state_st_crimes\n",
    "# n_state_st_crimes = set(crimes_by_block['001XX N STATE ST'])\n",
    "\n",
    "# # Print the list\n",
    "# print(n_state_st_crimes)\n",
    "\n",
    "# # Create a unique list of crimes for the second block: w_terminal_st_crimes\n",
    "# w_terminal_st_crimes = set(crimes_by_block['0000X W TERMINAL ST'])\n",
    "\n",
    "# # Print the list\n",
    "# print(w_terminal_st_crimes)\n",
    "\n",
    "# # Find the differences between the two blocks: crime_differences\n",
    "# crime_differences = n_state_st_crimes.difference(w_terminal_st_crimes)\n",
    "\n",
    "# # Print the differences\n",
    "# print(crime_differences)"
   ]
  }
 ],
 "metadata": {
  "kernelspec": {
   "display_name": "Python 3.8.11 ('env_py')",
   "language": "python",
   "name": "python3"
  },
  "language_info": {
   "codemirror_mode": {
    "name": "ipython",
    "version": 3
   },
   "file_extension": ".py",
   "mimetype": "text/x-python",
   "name": "python",
   "nbconvert_exporter": "python",
   "pygments_lexer": "ipython3",
   "version": "3.8.11"
  },
  "orig_nbformat": 4,
  "vscode": {
   "interpreter": {
    "hash": "1e949e87132dd83f1a7623eb88007e3532b03b66b77111be347aa4a383049722"
   }
  }
 },
 "nbformat": 4,
 "nbformat_minor": 2
}

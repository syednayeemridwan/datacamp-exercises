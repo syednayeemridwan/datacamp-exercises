{
 "cells": [
  {
   "cell_type": "markdown",
   "metadata": {},
   "source": [
    "# Strings to DateTimes"
   ]
  },
  {
   "cell_type": "markdown",
   "metadata": {},
   "source": [
    "You'll start by using the `.strptime()` method from the datetime object as shown "
   ]
  },
  {
   "cell_type": "code",
   "execution_count": null,
   "metadata": {},
   "outputs": [],
   "source": [
    "# # Import the datetime object from datetime\n",
    "# from datetime import datetime\n",
    "\n",
    "# # Iterate over the dates_list \n",
    "# for date_str in dates_list:\n",
    "#     # Convert each date to a datetime object: date_dt\n",
    "#     date_dt = datetime.strptime(date_str, '%m/%d/%Y')\n",
    "    \n",
    "#     # Print each date_dt\n",
    "#     print(date_dt)"
   ]
  },
  {
   "cell_type": "markdown",
   "metadata": {},
   "source": [
    "# Converting to a String"
   ]
  },
  {
   "cell_type": "markdown",
   "metadata": {},
   "source": [
    "Converting from a datetime object to a string is done with the `.strftime()` method on a instance of the datetime object. "
   ]
  },
  {
   "cell_type": "code",
   "execution_count": 1,
   "metadata": {},
   "outputs": [],
   "source": [
    "# # Loop over the first 10 items of the datetimes_list\n",
    "# for item in datetimes_list[:10]:\n",
    "#     # Print out the record as a string in the format of 'MM/DD/YYYY'\n",
    "#     print(item.strftime('%m/%d/%Y'))\n",
    "    \n",
    "#     # Print out the record as an ISO standard string\n",
    "#     print(item.isoformat())"
   ]
  },
  {
   "cell_type": "markdown",
   "metadata": {},
   "source": [
    "# Pieces of Time"
   ]
  },
  {
   "cell_type": "markdown",
   "metadata": {},
   "source": [
    "When working with datetime objects, you'll often want to group them by some component of the datetime such as the month, year, day, etc. Each of these are available as attributes on an instance of a `datetime` object."
   ]
  },
  {
   "cell_type": "code",
   "execution_count": 2,
   "metadata": {},
   "outputs": [],
   "source": [
    "# # Create a defaultdict of an integer: monthly_total_rides\n",
    "# monthly_total_rides = defaultdict(int)\n",
    "\n",
    "# # Loop over the list daily_summaries\n",
    "# for daily_summary in daily_summaries:\n",
    "#     # Convert the service_date to a datetime object\n",
    "#     service_datetime = datetime.strptime(daily_summary[0],'%m/%d/%Y')\n",
    "\n",
    "#     # Add the total rides to the current amount for the month\n",
    "#     monthly_total_rides[service_datetime.month] += int(daily_summary[4])\n",
    "    \n",
    "# # Print monthly_total_rides\n",
    "# print(monthly_total_rides)"
   ]
  },
  {
   "cell_type": "markdown",
   "metadata": {},
   "source": [
    "# Creating DateTime Objects... Now"
   ]
  },
  {
   "cell_type": "markdown",
   "metadata": {},
   "source": [
    "Often when working with datetime objects, you'll want to work on windows or ranges that start from the current date and time. You can do this using the datetime now functions. There is a .now() method on the datetime object in the datetime module and a .utcnow() method. The `.now()` method returns the current local time on the machine on which it is run, and `.utcnow()` does the same thing but returns the value in UTC time."
   ]
  },
  {
   "cell_type": "code",
   "execution_count": 3,
   "metadata": {},
   "outputs": [],
   "source": [
    "# # Import datetime from the datetime module\n",
    "# from datetime import datetime\n",
    "\n",
    "# # Compute the local datetime: local_dt\n",
    "# local_dt = datetime.now()\n",
    "\n",
    "# # Print the local datetime\n",
    "# print(local_dt)\n",
    "\n",
    "# # Compute the UTC datetime: utc_dt\n",
    "# utc_dt = datetime.utcnow()\n",
    "\n",
    "# # Print the UTC datetime\n",
    "# print(utc_dt)"
   ]
  },
  {
   "cell_type": "markdown",
   "metadata": {},
   "source": [
    "# Timezones"
   ]
  },
  {
   "cell_type": "markdown",
   "metadata": {},
   "source": [
    "In order to work effectively with other timezones, you can use the `pytz` library. To use timezones, you need to import the timezone object from the pytz module. Then you can use the timezone constructor and pass it a name of a timezone, such as `CT = timezone('US/Central')`. You can get a full list of timezone names at Wikipedia. In Python 3, you can make a datetime object \"aware\" by passing a timezone as the `tzinfo` keyword argument to the `.replace()` method on a `datetime` instance.\n",
    "\n",
    "An \"aware\" datetime object has an `.astimezone()` method that accepts a timezone object and returns a new datetime object in the desired timezone. If the tzinfo is not set for the datetime object it assumes the timezone of the computer you are working on."
   ]
  },
  {
   "cell_type": "code",
   "execution_count": 4,
   "metadata": {},
   "outputs": [],
   "source": [
    "# # Create a Timezone object for Chicago\n",
    "# chicago_usa_tz = timezone('US/Central')\n",
    "\n",
    "# # Create a Timezone object for New York\n",
    "# ny_usa_tz = timezone('US/Eastern')\n",
    "\n",
    "# # Iterate over the daily_summaries list\n",
    "# for orig_dt , ridership in daily_summaries:\n",
    "\n",
    "#     # Make the orig_dt timezone \"aware\" for Chicago\n",
    "#     chicago_dt = orig_dt.replace(tzinfo = chicago_usa_tz)\n",
    "    \n",
    "#     # Convert chicago_dt to the New York Timezone\n",
    "#     ny_dt = chicago_dt.astimezone(ny_usa_tz)\n",
    "    \n",
    "#     # Print the chicago_dt, ny_dt, and ridership\n",
    "#     print('Chicago: %s, NY: %s, Ridership: %s' % (chicago_dt, ny_dt, ridership))"
   ]
  },
  {
   "cell_type": "markdown",
   "metadata": {},
   "source": [
    "# Finding a time in the future and from the past"
   ]
  },
  {
   "cell_type": "markdown",
   "metadata": {},
   "source": [
    "Another common case when working with times is to get a date 30, 60, or 90 days in the past from some date. In Python, the `timedelta` object from the `datetime` module is used to represent differences in datetime objects. You can create a `timedelta` by passing any number of keyword arguments such as `days`, `seconds`, `microseconds`, `milliseconds`, `minutes`, `hours`, and `weeks` to `timedelta()`.\n",
    "\n",
    "Once you have a `timedelta` object, you can add or subtract it from a `datetime` object to get a `datetime` object relative to the original `datetime` object."
   ]
  },
  {
   "cell_type": "code",
   "execution_count": 5,
   "metadata": {},
   "outputs": [],
   "source": [
    "# # Import timedelta from the datetime module\n",
    "# from datetime import timedelta\n",
    "\n",
    "# # Build a timedelta of 30 days: glanceback\n",
    "# glanceback = timedelta(days = 30)\n",
    "\n",
    "# # Iterate over the review_dates as date\n",
    "# for date in review_dates:\n",
    "#     # Calculate the date 30 days back: prior_period_dt\n",
    "#     prior_period_dt = date - glanceback\n",
    "    \n",
    "#     # Print the review_date, day_type and total_ridership\n",
    "#     print('Date: %s, Type: %s, Total Ridership: %s' %\n",
    "#          (date, \n",
    "#           daily_summaries[date]['day_type'], \n",
    "#           daily_summaries[date]['total_ridership']))\n",
    "\n",
    "#     # Print the prior_period_dt, day_type and total_ridership\n",
    "#     print('Date: %s, Type: %s, Total Ridership: %s' %\n",
    "#          (prior_period_dt, \n",
    "#           daily_summaries[prior_period_dt]['day_type'], \n",
    "#           daily_summaries[prior_period_dt]['total_ridership']))"
   ]
  },
  {
   "cell_type": "markdown",
   "metadata": {},
   "source": [
    "# Finding differences in DateTimes"
   ]
  },
  {
   "cell_type": "markdown",
   "metadata": {},
   "source": [
    "ust like you were able to subtract a `timedelta` from a `datetime `to find a date in the past, you can also calculate the difference between two dates to get the `timedelta` between in return. Here, you'll find out how much time has elapsed between two transit dates."
   ]
  },
  {
   "cell_type": "code",
   "execution_count": 6,
   "metadata": {},
   "outputs": [],
   "source": [
    "# # Iterate over the date_ranges\n",
    "# for start_date, end_date in date_ranges:\n",
    "#     # Print the End and Start Date\n",
    "#     print(end_date, start_date)\n",
    "#     # Print the difference between each end and start date\n",
    "#     print(end_date - start_date)"
   ]
  },
  {
   "cell_type": "markdown",
   "metadata": {},
   "source": [
    "# Localizing time with pendulum"
   ]
  },
  {
   "cell_type": "markdown",
   "metadata": {},
   "source": [
    "Here, you're going to use `pendulum` to practice doing some common datetime operations!"
   ]
  },
  {
   "cell_type": "code",
   "execution_count": 7,
   "metadata": {},
   "outputs": [],
   "source": [
    "# # Import the pendulum module\n",
    "# import pendulum\n",
    "\n",
    "# # Create a now datetime for Tokyo: tokyo_dt\n",
    "# tokyo_dt = pendulum.now('Asia/Tokyo')\n",
    "\n",
    "# # Covert the tokyo_dt to Los Angeles: la_dt\n",
    "# la_dt = tokyo_dt.in_timezone('America/Los_Angeles')\n",
    "\n",
    "# # Print the ISO 8601 string of la_dt\n",
    "# print( la_dt.to_iso8601_string())"
   ]
  },
  {
   "cell_type": "markdown",
   "metadata": {},
   "source": [
    "# Humanizing Differences with Pendulum"
   ]
  },
  {
   "cell_type": "markdown",
   "metadata": {},
   "source": [
    "Pendulum provides a powerful way to convert strings to pendulum datetime objects via the `.parse()` method. Just pass it a date string and it will attempt to convert into a valid pendulum datetime. By default, `.parse()` can process dates in ISO 8601 format. To allow it to parse other date formats, pass `strict = False`.\n",
    "\n",
    "It also has a wonderful alternative to `timedelta`. When calculating the difference between two dates by subtraction, pendulum provides methods such as `.in_days()` to output the difference in a chosen metric. These are just the beginning of what pendulum can do for you."
   ]
  },
  {
   "cell_type": "code",
   "execution_count": 8,
   "metadata": {},
   "outputs": [],
   "source": [
    "# # Iterate over date_ranges\n",
    "# for start_date , end_date in date_ranges:\n",
    "\n",
    "#     # Convert the start_date string to a pendulum date: start_dt \n",
    "#     start_dt = pendulum.parse(start_date, strict = False)\n",
    "    \n",
    "#     # Convert the end_date string to a pendulum date: end_dt \n",
    "#     end_dt = pendulum.parse(end_date, strict = False)\n",
    "    \n",
    "#     # Print the End and Start Date\n",
    "#     print(end_dt, start_dt)\n",
    "    \n",
    "#     # Calculate the difference between end_dt and start_dt: diff_period\n",
    "#     diff_period = end_dt - start_dt\n",
    "    \n",
    "#     # Print the difference in days\n",
    "#     print(diff_period.in_days())"
   ]
  }
 ],
 "metadata": {
  "kernelspec": {
   "display_name": "Python 3.8.11 ('env_py')",
   "language": "python",
   "name": "python3"
  },
  "language_info": {
   "codemirror_mode": {
    "name": "ipython",
    "version": 3
   },
   "file_extension": ".py",
   "mimetype": "text/x-python",
   "name": "python",
   "nbconvert_exporter": "python",
   "pygments_lexer": "ipython3",
   "version": "3.8.11"
  },
  "orig_nbformat": 4,
  "vscode": {
   "interpreter": {
    "hash": "1e949e87132dd83f1a7623eb88007e3532b03b66b77111be347aa4a383049722"
   }
  }
 },
 "nbformat": 4,
 "nbformat_minor": 2
}

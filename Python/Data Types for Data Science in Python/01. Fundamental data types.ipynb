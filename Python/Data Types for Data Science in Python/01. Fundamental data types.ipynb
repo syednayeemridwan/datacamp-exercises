{
 "cells": [
  {
   "cell_type": "markdown",
   "metadata": {},
   "source": [
    "# Manipulating lists for fun and profit"
   ]
  },
  {
   "cell_type": "markdown",
   "metadata": {},
   "source": [
    "If you want to combine a list with another array type (list, set, tuple), you can use the `.extend()` method on the list.\n",
    "\n",
    "You can also use the `.index()` method to find the position of an item in a list. You can then use that position to remove the item with the `.pop()` method."
   ]
  },
  {
   "cell_type": "code",
   "execution_count": 1,
   "metadata": {},
   "outputs": [
    {
     "name": "stdout",
     "output_type": "stream",
     "text": [
      "['Ximena', 'Aliza', 'Ayden', 'Calvin', 'Rowen', 'Sandeep']\n",
      "['Ximena', 'Ayden', 'Calvin', 'Rowen', 'Sandeep']\n"
     ]
    }
   ],
   "source": [
    "# Create a list containing the names: baby_names\n",
    "baby_names = ['Ximena', 'Aliza', 'Ayden', 'Calvin']\n",
    "\n",
    "# Extend baby_names with 'Rowen' and 'Sandeep'\n",
    "baby_names.extend(['Rowen' , 'Sandeep'])\n",
    "\n",
    "# Print baby_names\n",
    "print(baby_names)\n",
    "\n",
    "# Find the position of 'Aliza': position\n",
    "position = baby_names.index('Aliza')\n",
    "\n",
    "# Remove 'Aliza' from baby_names\n",
    "baby_names.pop(position)\n",
    "\n",
    "# Print baby_names\n",
    "print(baby_names)"
   ]
  },
  {
   "cell_type": "markdown",
   "metadata": {},
   "source": [
    "# Looping over lists"
   ]
  },
  {
   "cell_type": "markdown",
   "metadata": {},
   "source": [
    "You can use a for loop to iterate through all the items in a list. You can take that a step further with the `sorted()` function which will sort the data in a list from lowest to highest in the case of numbers and alphabetical order if the list contains strings. The `sorted()` function returns a new list and does not affect the list you passed into the function."
   ]
  },
  {
   "cell_type": "code",
   "execution_count": 2,
   "metadata": {},
   "outputs": [],
   "source": [
    "# # Create the empty list: baby_names\n",
    "# baby_names = [ ]\n",
    "\n",
    "# # Loop over records \n",
    "# for row in records:\n",
    "#     # Add the name to the list\n",
    "#     baby_names.append(row[3])\n",
    "    \n",
    "# # Sort the names in alphabetical order\n",
    "# for name in sorted(baby_names):\n",
    "#     # Print each name\n",
    "#     print(name)"
   ]
  },
  {
   "cell_type": "markdown",
   "metadata": {},
   "source": [
    "# Using and unpacking tuples"
   ]
  },
  {
   "cell_type": "markdown",
   "metadata": {},
   "source": [
    "Tuples are made of several items just like a list, but they cannot be modified in any way. It is very common for tuples to be used to represent data from a database. \n",
    "Often you'll want to pair up multiple array data types. The `zip()` function does just that. It will return a list of tuples containing one element from each list passed into `zip()`.\n",
    "\n",
    "When looping over a list, you can also track your position in the list by using the `enumerate()` function. The function returns the index of the list item you are currently on in the list and the list item itself."
   ]
  },
  {
   "cell_type": "code",
   "execution_count": 4,
   "metadata": {},
   "outputs": [],
   "source": [
    "# # Pair up the girl and boy names: pairs\n",
    "# pairs = zip(girl_names, boy_names)\n",
    "\n",
    "# # Iterate over pairs\n",
    "# for idx, pair in enumerate(pairs):\n",
    "#     # Unpack pair: girl_name, boy_name\n",
    "#     girl_name, boy_name = pair\n",
    "#     # Print the rank and names associated with each rank\n",
    "#     print('Rank {}: {} and {}'.format(idx, girl_name, boy_name))"
   ]
  },
  {
   "cell_type": "markdown",
   "metadata": {},
   "source": [
    "# Making tuples by accident"
   ]
  },
  {
   "cell_type": "markdown",
   "metadata": {},
   "source": [
    "Tuples are very powerful and useful, and it's super easy to make one by accident. All you have to do is create a variable and follow the assignment with a comma. This becomes an error when you try to use the variable later expecting it to be a string or a number."
   ]
  },
  {
   "cell_type": "code",
   "execution_count": 5,
   "metadata": {},
   "outputs": [
    {
     "name": "stdout",
     "output_type": "stream",
     "text": [
      "<class 'str'>\n",
      "<class 'tuple'>\n"
     ]
    }
   ],
   "source": [
    "# Create the normal variable: normal\n",
    "normal = 'simple'\n",
    "\n",
    "# Create the mistaken variable: error\n",
    "error = 'trailing comma',\n",
    "\n",
    "# Print the types of the variables\n",
    "print(type(normal))\n",
    "print(type(error))"
   ]
  },
  {
   "cell_type": "markdown",
   "metadata": {},
   "source": [
    "# Finding all the data and the overlapping data between sets"
   ]
  },
  {
   "cell_type": "markdown",
   "metadata": {},
   "source": [
    "Sets have several methods to combine, compare, and study them all based on mathematical set theory. The `.union()` method returns a set of all the names found in the set you used the method on plus any sets passed as arguments to the method. You can also look for overlapping data in sets by using the `.intersection()` method on a set and passing another set as an argument. It will return an empty set if nothing matches."
   ]
  },
  {
   "cell_type": "code",
   "execution_count": 6,
   "metadata": {},
   "outputs": [],
   "source": [
    "# # Find the union: all_names\n",
    "# all_names = baby_names_2011.union(baby_names_2014)\n",
    "\n",
    "# # Print the count of names in all_names\n",
    "# print(len(all_names))\n",
    "\n",
    "# # Find the intersection: overlapping_names\n",
    "# overlapping_names = baby_names_2011.intersection(baby_names_2014)\n",
    "\n",
    "# # Print the count of names in overlapping_names\n",
    "# print(len(overlapping_names))"
   ]
  },
  {
   "cell_type": "markdown",
   "metadata": {},
   "source": [
    "# Determining set differences"
   ]
  },
  {
   "cell_type": "markdown",
   "metadata": {},
   "source": [
    "Another way of comparing sets is to use the `difference()` method. It returns all the items found in one set but not another. It's important to remember the set you call the method on will be the one from which the items are returned. Unlike tuples, you can `add()` items to a set. A set will only add items that do not exist in the set."
   ]
  },
  {
   "cell_type": "code",
   "execution_count": 7,
   "metadata": {},
   "outputs": [],
   "source": [
    "# # Create the empty set: baby_names_2011\n",
    "# baby_names_2011 = set()\n",
    "\n",
    "# # Loop over records and add the names from 2011 to the baby_names_2011 set\n",
    "# for row in records:\n",
    "#     # Check if the first column is '2011'\n",
    "#     if row[0] == '2011':\n",
    "#         # Add the fourth column to the set\n",
    "#         baby_names_2011.add(row[3])\n",
    "\n",
    "# # Find the difference between 2011 and 2014: differences\n",
    "# differences = baby_names_2011.difference(baby_names_2014)\n",
    "\n",
    "# # Print the differences\n",
    "# print(differences)"
   ]
  }
 ],
 "metadata": {
  "kernelspec": {
   "display_name": "Python 3.8.11 ('env_py')",
   "language": "python",
   "name": "python3"
  },
  "language_info": {
   "codemirror_mode": {
    "name": "ipython",
    "version": 3
   },
   "file_extension": ".py",
   "mimetype": "text/x-python",
   "name": "python",
   "nbconvert_exporter": "python",
   "pygments_lexer": "ipython3",
   "version": "3.8.11"
  },
  "orig_nbformat": 4,
  "vscode": {
   "interpreter": {
    "hash": "1e949e87132dd83f1a7623eb88007e3532b03b66b77111be347aa4a383049722"
   }
  }
 },
 "nbformat": 4,
 "nbformat_minor": 2
}

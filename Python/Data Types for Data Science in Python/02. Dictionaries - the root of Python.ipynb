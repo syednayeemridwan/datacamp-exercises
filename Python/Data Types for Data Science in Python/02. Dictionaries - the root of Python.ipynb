{
 "cells": [
  {
   "cell_type": "markdown",
   "metadata": {},
   "source": [
    "# Creating and looping through dictionaries"
   ]
  },
  {
   "cell_type": "markdown",
   "metadata": {},
   "source": [
    "By default, using `sorted()` on a dictionary will sort by the keys of the dictionary. You can also reverse the order by passing `reverse=True` as a keyword argument."
   ]
  },
  {
   "cell_type": "code",
   "execution_count": null,
   "metadata": {},
   "outputs": [],
   "source": [
    "# # Create an empty dictionary: names_by_rank\n",
    "# names_by_rank = {}\n",
    "\n",
    "# # Loop over the girl names\n",
    "# for rank, name in female_baby_names_2012.items():\n",
    "#     # Add each name to the names_by_rank dictionary using rank as the key\n",
    "#     names_by_rank[rank] = name\n",
    "    \n",
    "# # Sort the names_by_rank dict by rank in descending order and slice the first 10 items\n",
    "# for rank in sorted(names_by_rank, reverse=True)[:10]:\n",
    "#     # Print each item\n",
    "#     print(names_by_rank[rank])"
   ]
  },
  {
   "cell_type": "markdown",
   "metadata": {},
   "source": [
    "# Safely finding by key"
   ]
  },
  {
   "cell_type": "markdown",
   "metadata": {},
   "source": [
    "If you attempt to access a key that isn't present in a dictionary, you'll get a `KeyError`. One option to handle this type of error is to use a `try: except:` block.\n",
    "Python provides a faster, more versatile tool to help with this problem in the form of the `.get()` method. The `.get()` method allows you to supply the name of a key, and optionally, what you'd like to have returned if the key is not found."
   ]
  },
  {
   "cell_type": "code",
   "execution_count": 1,
   "metadata": {},
   "outputs": [],
   "source": [
    "# # Safely print rank 7 from the names dictionary\n",
    "# print(names.get(7))\n",
    "\n",
    "# # Safely print the type of rank 100 from the names dictionary\n",
    "# print(type(names.get(100)))\n",
    "\n",
    "# # Safely print rank 105 from the names dictionary or 'Not Found'\n",
    "# print(names.get(105), 'Not Found')"
   ]
  },
  {
   "cell_type": "markdown",
   "metadata": {},
   "source": [
    "# Dealing with nested data"
   ]
  },
  {
   "cell_type": "markdown",
   "metadata": {},
   "source": [
    "A dictionary can contain another dictionary as the value of a key, and this is a very common way to deal with repeating data structures such as yearly, monthly or weekly data. All the same rules apply when creating or accessing the dictionary.\n",
    "\n",
    "When exploring a new dictionary, it can be helpful to use the `.keys()` method to get an idea of what data might be available within the dictionary. "
   ]
  },
  {
   "cell_type": "code",
   "execution_count": 2,
   "metadata": {},
   "outputs": [],
   "source": [
    "# # Print a list of keys from the boy_names dictionary\n",
    "# print(boy_names.keys())\n",
    "\n",
    "# # Print a list of keys from the boy_names dictionary for the year 2013\n",
    "# print(boy_names[2013].keys())\n",
    "\n",
    "# # Loop over the dictionary\n",
    "# for year in boy_names:\n",
    "#     # Safely print the year and the third ranked name or 'Unknown'\n",
    "#     print(year, boy_names[year].get(3, 'Unknown'))"
   ]
  },
  {
   "cell_type": "markdown",
   "metadata": {},
   "source": [
    "# Adding and extending dictionaries"
   ]
  },
  {
   "cell_type": "markdown",
   "metadata": {},
   "source": [
    "If you have a dictionary and you want to add data to it, you can simply create a new key and assign the data you desire to it. It's important to remember that if it's a nested dictionary, then all the keys in the data path must exist, and each key in the path must be assigned individually.\n",
    "\n",
    "You can also use the `.update()` method to update a dictionary with keys and values from another dictionary, tuples or keyword arguments."
   ]
  },
  {
   "cell_type": "code",
   "execution_count": 3,
   "metadata": {},
   "outputs": [],
   "source": [
    "# # Assign the names_2011 dictionary as the value to the 2011 key of boy_names\n",
    "# boy_names[2011] = names_2011\n",
    "\n",
    "# # Update the 2012 key in the boy_names dictionary\n",
    "# boy_names[2012].update([(1, 'Casey'), (2, 'Aiden')])\n",
    "\n",
    "# # Loop over the years in the boy_names dictionary \n",
    "# for year in boy_names:\n",
    "#     # Sort the data for each year by descending rank and get the lowest one\n",
    "#     lowest_ranked =  sorted(boy_names[year], reverse=True)[0]\n",
    "#     # Safely print the year and the least popular name or 'Not Available'\n",
    "#     print(year, boy_names[year].get(lowest_ranked, 'Not Available'))"
   ]
  },
  {
   "cell_type": "markdown",
   "metadata": {},
   "source": [
    "# Popping and deleting from dictionaries"
   ]
  },
  {
   "cell_type": "markdown",
   "metadata": {},
   "source": [
    "Often, you will want to remove keys and value from a dictionary. You can do so using the `del` Python instruction. It's important to remember that del will throw a KeyError if the key you are trying to delete does not exist. You can not use it with the .get() method to safely delete items; however, it can be used with `try: catch:`.\n",
    "\n",
    "If you want to save that deleted data into another variable for further processing, the `.pop()` dictionary method will do just that. You can supply a default value for `.pop()` much like you did for `.get()` to safely deal with missing keys. It's also typical to use `.pop()` instead of `del` since it is a safe method."
   ]
  },
  {
   "cell_type": "code",
   "execution_count": 4,
   "metadata": {},
   "outputs": [],
   "source": [
    "# # Remove 2011 from female_names and store it: female_names_2011\n",
    "# female_names_2011 = female_names.pop(2011)\n",
    "\n",
    "# # Safely remove 2015 from female_names with an empty dictionary as the default: female_names_2015\n",
    "# female_names_2015 = female_names.pop(2015,{})\n",
    "\n",
    "# # Delete 2012 from female_names\n",
    "# del female_names[2012]\n",
    "\n",
    "# # Print female_names\n",
    "# print(female_names)"
   ]
  },
  {
   "cell_type": "markdown",
   "metadata": {},
   "source": [
    "# Working with dictionaries more pythonically"
   ]
  },
  {
   "cell_type": "markdown",
   "metadata": {},
   "source": [
    "in Python, the preferred manner for iterating over items in a dictionary is with the `.items()` method.\n",
    "\n",
    "This returns each key and value from the dictionary as a tuple, which you can unpack in a `for` loop. "
   ]
  },
  {
   "cell_type": "code",
   "execution_count": 5,
   "metadata": {},
   "outputs": [],
   "source": [
    "# # Iterate over the 2014 nested dictionary\n",
    "# for rank, name in baby_names[2014].items():\n",
    "#     # Print rank and name\n",
    "#     print(rank, name)\n",
    "    \n",
    "# # Iterate over the 2012 nested dictionary\n",
    "# for rank, name in baby_names[2012].items():\n",
    "#     # Print rank and name\n",
    "#     print(rank, name)\n",
    "  "
   ]
  },
  {
   "cell_type": "markdown",
   "metadata": {},
   "source": [
    "# Checking dictionaries for data"
   ]
  },
  {
   "cell_type": "markdown",
   "metadata": {},
   "source": [
    "You can check to see if a key exists in a dictionary by using the `in` expression."
   ]
  },
  {
   "cell_type": "code",
   "execution_count": 6,
   "metadata": {},
   "outputs": [],
   "source": [
    "# # Check to see if 2011 is in baby_names\n",
    "# if 2011 in baby_names:\n",
    "#     # Print 'Found 2011'\n",
    "#     print('Found 2011')\n",
    "    \n",
    "# # Check to see if rank 1 is in 2012\n",
    "# if 1 in baby_names[2012]:\n",
    "#     # Print 'Found Rank 1 in 2012' if found\n",
    "#     print('Found Rank 1 in 2012')\n",
    "# else:\n",
    "#     # Print 'Rank 1 missing from 2012' if not found\n",
    "#     print('Rank 1 missing from 2012')\n",
    "    \n",
    "# # Check to see if Rank 5 is in 2013\n",
    "# if 5 in baby_names[2013]:\n",
    "#    # Print 'Found Rank 5'\n",
    "#    print('Found Rank 5')"
   ]
  },
  {
   "cell_type": "markdown",
   "metadata": {},
   "source": [
    "# Reading from a file using CSV reader"
   ]
  },
  {
   "cell_type": "markdown",
   "metadata": {},
   "source": [
    "Python provides a wonderful module called `csv` to work with CSV files. You can pass the `.reader()` method of csv a Python file object and use it as you would any other iterable. To create a Python file object, you use the `open()` function, which accepts a file name and a mode. The mode is typically `'r'` for read or `'w'` for write"
   ]
  },
  {
   "cell_type": "code",
   "execution_count": 7,
   "metadata": {},
   "outputs": [],
   "source": [
    "# # Import the python CSV module\n",
    "# import csv\n",
    "\n",
    "# # Create a python file object in read mode for the baby_names.csv file: csvfile\n",
    "# csvfile = open(\"baby_names.csv\", 'r')\n",
    "\n",
    "# # Loop over a csv reader on the file object\n",
    "# for row in csv.reader(csvfile):\n",
    "#     # Print each row \n",
    "#     print(row)\n",
    "#     # Add the rank and name to the dictionary\n",
    "#     baby_names[row[5]] = row[3] \n",
    "\n",
    "# # Print the dictionary keys\n",
    "# print(baby_names.keys())"
   ]
  },
  {
   "cell_type": "markdown",
   "metadata": {},
   "source": [
    "# Creating a dictionary from a file"
   ]
  },
  {
   "cell_type": "markdown",
   "metadata": {},
   "source": [
    "The `csv` module also provides a way to directly create a dictionary from a CSV file with the `DictReader` class. If the file has a header row, that row will automatically be used as the keys for the dictionary. However, if not, you can supply a list of keys to be used. Each row from the file is returned as a dictionary. Using DictReader can make it much easier to read your code and understand what data is being used"
   ]
  },
  {
   "cell_type": "code",
   "execution_count": 8,
   "metadata": {},
   "outputs": [],
   "source": [
    "# # Import the python CSV module\n",
    "# import csv\n",
    "\n",
    "# # Create a python file object in read mode for the `baby_names.csv` file: csvfile\n",
    "# csvfile = open('baby_names.csv' , 'r')\n",
    "\n",
    "# # Loop over a DictReader on the file\n",
    "# for row in csv.DictReader(csvfile):\n",
    "#     # Print each row \n",
    "#     print(row)\n",
    "#     # Add the rank and name to the dictionary: baby_names\n",
    "#     baby_names[row['RANK']] = row['NAME']\n",
    "\n",
    "# # Print the dictionary keys\n",
    "# print(baby_names.keys())"
   ]
  }
 ],
 "metadata": {
  "kernelspec": {
   "display_name": "Python 3.8.11 ('env_py')",
   "language": "python",
   "name": "python3"
  },
  "language_info": {
   "codemirror_mode": {
    "name": "ipython",
    "version": 3
   },
   "file_extension": ".py",
   "mimetype": "text/x-python",
   "name": "python",
   "nbconvert_exporter": "python",
   "pygments_lexer": "ipython3",
   "version": "3.8.11"
  },
  "orig_nbformat": 4,
  "vscode": {
   "interpreter": {
    "hash": "1e949e87132dd83f1a7623eb88007e3532b03b66b77111be347aa4a383049722"
   }
  }
 },
 "nbformat": 4,
 "nbformat_minor": 2
}

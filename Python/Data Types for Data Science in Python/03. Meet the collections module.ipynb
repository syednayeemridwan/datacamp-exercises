{
 "cells": [
  {
   "cell_type": "markdown",
   "metadata": {},
   "source": [
    "# Using Counter on lists"
   ]
  },
  {
   "cell_type": "markdown",
   "metadata": {},
   "source": [
    "`Counter` is a powerful tool for counting, validating, and learning more about the elements within a dataset that is found in the collections module. You pass an iterable (list, set, tuple) or a dictionary to the Counter. You can also use the Counter object similarly to a dictionary with key/value assignment, for example `counter[key] = value`"
   ]
  },
  {
   "cell_type": "code",
   "execution_count": null,
   "metadata": {},
   "outputs": [],
   "source": [
    "# # Import the Counter object\n",
    "# from collections import Counter\n",
    "\n",
    "# # Print the first ten items from the stations list\n",
    "# print(stations[:10])\n",
    "\n",
    "# # Create a Counter of the stations list: station_count\n",
    "# station_count = Counter(stations)\n",
    "\n",
    "# # Print the station_count\n",
    "# print(station_count)"
   ]
  },
  {
   "cell_type": "markdown",
   "metadata": {},
   "source": [
    "# Finding most common elements"
   ]
  },
  {
   "cell_type": "markdown",
   "metadata": {},
   "source": [
    "Another powerful usage of Counter is finding the most common elements in a list. This can be done with the `.most_common()` method."
   ]
  },
  {
   "cell_type": "code",
   "execution_count": 1,
   "metadata": {},
   "outputs": [],
   "source": [
    "# # Import the Counter object\n",
    "# from collections import Counter\n",
    "\n",
    "# # Create a Counter of the stations list: station_count\n",
    "# station_count = Counter(stations)\n",
    "\n",
    "# # Find the 5 most common elements\n",
    "# print(station_count.most_common(5))"
   ]
  },
  {
   "cell_type": "markdown",
   "metadata": {},
   "source": [
    "# Creating dictionaries of an unknown structure"
   ]
  },
  {
   "cell_type": "markdown",
   "metadata": {},
   "source": [
    "Occasionally, you'll need a structure to hold nested data, and you may not be certain that the keys will all actually exist. This can be an issue if you're trying to append items to a list for that key."
   ]
  },
  {
   "cell_type": "code",
   "execution_count": 2,
   "metadata": {},
   "outputs": [],
   "source": [
    "# # Create an empty dictionary: ridership\n",
    "# ridership = { }\n",
    "\n",
    "# # Iterate over the entries\n",
    "# for date, stop,  riders in entries:\n",
    "#     # Check to see if date is already in the ridership dictionary\n",
    "#     if date not in ridership:\n",
    "#         # Create an empty list for any missing date\n",
    "#         ridership[date] = [ ]\n",
    "#     # Append the stop and riders as a tuple to the date keys list\n",
    "#     ridership[date].append((stop,  riders))\n",
    "    \n",
    "# # Print the ridership for '03/09/2016'\n",
    "# print(ridership['03/09/2016'])"
   ]
  },
  {
   "cell_type": "markdown",
   "metadata": {},
   "source": [
    "# Safely appending to a key's value list"
   ]
  },
  {
   "cell_type": "markdown",
   "metadata": {},
   "source": [
    "Often when working with dictionaries, you will need to initialize a data type before you can use it. A prime example of this is a list, which has to be initialized on each key before you can append to that list."
   ]
  },
  {
   "cell_type": "code",
   "execution_count": 3,
   "metadata": {},
   "outputs": [],
   "source": [
    "# # Import defaultdict\n",
    "# from collections import defaultdict\n",
    "\n",
    "# # Create a defaultdict with a default type of list: ridership\n",
    "# ridership = defaultdict(list)\n",
    "\n",
    "# # Iterate over the entries\n",
    "# for date, stop,  riders in entries:\n",
    "#     # Use the stop as the key of ridership and append the riders to its value\n",
    "#     ridership[stop].append(riders)\n",
    "    \n",
    "# # Print the first 10 items of the ridership dictionary\n",
    "# print(list(ridership.items())[:10])"
   ]
  },
  {
   "cell_type": "markdown",
   "metadata": {},
   "source": [
    "# Working with OrderedDictionaries"
   ]
  },
  {
   "cell_type": "markdown",
   "metadata": {},
   "source": [
    "Recently in Python 3.6, dictionaries were made to maintain the order in which the keys were inserted; however, in all versions prior to that you need to use an `OrderedDict` to maintain insertion order."
   ]
  },
  {
   "cell_type": "code",
   "execution_count": 4,
   "metadata": {},
   "outputs": [],
   "source": [
    "# # Import OrderedDict from collections\n",
    "# from collections import OrderedDict\n",
    "\n",
    "# # Create an OrderedDict called: ridership_date\n",
    "# ridership_date = OrderedDict()\n",
    "\n",
    "# # Iterate over the entries\n",
    "# for date , riders in entries:\n",
    "#     # If a key does not exist in ridership_date, set it to 0\n",
    "#     if  date not in ridership_date:\n",
    "#         ridership_date[date] = 0\n",
    "        \n",
    "#     # Add riders to the date key in ridership_date\n",
    "#     ridership_date[date] += riders\n",
    "    \n",
    "# # Print the first 31 records\n",
    "# print(list(ridership_date.items())[:31])"
   ]
  },
  {
   "cell_type": "markdown",
   "metadata": {},
   "source": [
    "# Powerful Ordered popping"
   ]
  },
  {
   "cell_type": "markdown",
   "metadata": {},
   "source": [
    "Where OrderedDicts really shine is when you need to access the data in the dictionary in the order you added it. `OrderedDict` has a `.popitem()` method that will return items in reverse of which they were inserted. You can also pass `.popitem()` the `last=False` keyword argument and go through the items in the order of how they were added."
   ]
  },
  {
   "cell_type": "code",
   "execution_count": 5,
   "metadata": {},
   "outputs": [],
   "source": [
    "# # Print the first key in ridership_date\n",
    "# print(list(ridership_date.items())[0][0])\n",
    "\n",
    "# # Pop the first item from ridership_date and print it\n",
    "# print(ridership_date.popitem(last = False))\n",
    "\n",
    "# # Print the last key in ridership_date\n",
    "# print(list(ridership_date.items())[-1][0])\n",
    "\n",
    "# # Pop the last item from ridership_date and print it\n",
    "# print(ridership_date.popitem())"
   ]
  },
  {
   "cell_type": "markdown",
   "metadata": {},
   "source": [
    "# Creating namedtuples for storing data"
   ]
  },
  {
   "cell_type": "markdown",
   "metadata": {},
   "source": [
    "Often times when working with data, you will use a dictionary just so you can use key names to make reading the code and accessing the data easier to understand. Python has another container called a `namedtuple` that is a tuple, but has names for each position of the tuple. You create one by passing a name for the tuple type and a list of field names."
   ]
  },
  {
   "cell_type": "code",
   "execution_count": 6,
   "metadata": {},
   "outputs": [],
   "source": [
    "# # Import namedtuple from collections\n",
    "# from collections import namedtuple\n",
    "\n",
    "# # Create the namedtuple: DateDetails\n",
    "# DateDetails = namedtuple('DateDetails', ['date', 'stop', 'riders'])\n",
    "\n",
    "# # Create the empty list: labeled_entries\n",
    "# labeled_entries = []\n",
    "\n",
    "# # Iterate over the entries list\n",
    "# for date, stop, riders in entries:\n",
    "#     # Append a new DateDetails namedtuple instance for each entry to labeled_entries\n",
    "#     labeled_entries.append(DateDetails(date, stop, riders))\n",
    "    \n",
    "# # Print the first 5 items in labeled_entries\n",
    "# print(labeled_entries[:5])"
   ]
  },
  {
   "cell_type": "markdown",
   "metadata": {},
   "source": [
    "# Leveraging attributes on namedtuples"
   ]
  },
  {
   "cell_type": "markdown",
   "metadata": {},
   "source": [
    "Once you have a namedtuple, you can write more expressive code that is easier to understand. Remember, you can access the elements in the tuple by their name as an attribute."
   ]
  },
  {
   "cell_type": "code",
   "execution_count": 7,
   "metadata": {},
   "outputs": [],
   "source": [
    "# # Iterate over the first twenty items in labeled_entries\n",
    "# for item in labeled_entries[:20]:\n",
    "#     # Print each item's stop\n",
    "#     print(item.stop)\n",
    "\n",
    "#     # Print each item's date\n",
    "#     print(item.date)\n",
    "\n",
    "#     # Print each item's riders\n",
    "#     print(item.riders)"
   ]
  }
 ],
 "metadata": {
  "kernelspec": {
   "display_name": "Python 3.8.11 ('env_py')",
   "language": "python",
   "name": "python3"
  },
  "language_info": {
   "codemirror_mode": {
    "name": "ipython",
    "version": 3
   },
   "file_extension": ".py",
   "mimetype": "text/x-python",
   "name": "python",
   "nbconvert_exporter": "python",
   "pygments_lexer": "ipython3",
   "version": "3.8.11"
  },
  "orig_nbformat": 4,
  "vscode": {
   "interpreter": {
    "hash": "1e949e87132dd83f1a7623eb88007e3532b03b66b77111be347aa4a383049722"
   }
  }
 },
 "nbformat": 4,
 "nbformat_minor": 2
}

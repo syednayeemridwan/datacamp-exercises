{
 "cells": [
  {
   "cell_type": "markdown",
   "metadata": {},
   "source": [
    "# Setting and removing indexes"
   ]
  },
  {
   "cell_type": "markdown",
   "metadata": {},
   "source": [
    "pandas allows you to designate columns as an index. This enables cleaner code when taking subsets (as well as providing more efficient lookup under some circumstances)."
   ]
  },
  {
   "cell_type": "code",
   "execution_count": 1,
   "metadata": {},
   "outputs": [],
   "source": [
    "# # Look at temperatures\n",
    "# print(temperatures)\n",
    "\n",
    "# # Index temperatures by city\n",
    "# temperatures_ind = temperatures.set_index(\"city\")\n",
    "\n",
    "# # Look at temperatures_ind\n",
    "# print(temperatures_ind)\n",
    "\n",
    "# # Reset the index, keeping its contents\n",
    "# print(temperatures_ind.reset_index())\n",
    "\n",
    "# # Reset the index, dropping its contents\n",
    "# print(temperatures_ind.reset_index(drop=True))"
   ]
  },
  {
   "cell_type": "markdown",
   "metadata": {},
   "source": [
    "# Subsetting with `.loc[]`"
   ]
  },
  {
   "cell_type": "markdown",
   "metadata": {},
   "source": [
    "The killer feature for indexes is `.loc[]`: a subsetting method that accepts index values. When you pass it a single argument, it will take a subset of rows."
   ]
  },
  {
   "cell_type": "code",
   "execution_count": 2,
   "metadata": {},
   "outputs": [],
   "source": [
    "# # Make a list of cities to subset on\n",
    "# cities = [ \"Moscow\", \"Saint Petersburg\"]\n",
    "\n",
    "# # Subset temperatures using square brackets\n",
    "# print(temperatures[temperatures[\"city\"].isin(cities)])\n",
    "\n",
    "# # Subset temperatures_ind using .loc[]\n",
    "# print(temperatures_ind.loc[cities])"
   ]
  },
  {
   "cell_type": "markdown",
   "metadata": {},
   "source": [
    "# Setting multi-level indexes"
   ]
  },
  {
   "cell_type": "markdown",
   "metadata": {},
   "source": [
    "Indexes can also be made out of multiple columns, forming a multi-level index (sometimes called a hierarchical index). There is a trade-off to using these.\n",
    "\n",
    "The benefits are:\n",
    "- Nested categorical variables. For example, In the temperature dataset, the city is located in the country, so we can say a city is nested inside the country.\n",
    "\n",
    "The main downsides are:\n",
    "- the code for manipulating indexes is different from the code for manipulating columns, so you have to learn two syntaxes and keep track of how your data is represented."
   ]
  },
  {
   "cell_type": "code",
   "execution_count": 3,
   "metadata": {},
   "outputs": [],
   "source": [
    "# # Index temperatures by country & city\n",
    "# temperatures_ind = temperatures.set_index([\"country\", \"city\"])\n",
    "\n",
    "# # List of tuples: Brazil, Rio De Janeiro & Pakistan, Lahore\n",
    "# rows_to_keep = [(\"Brazil\",\"Rio De Janeiro\"),  (\"Pakistan\",\"Lahore\")]\n",
    "\n",
    "# # Subset for rows to keep\n",
    "# print(temperatures_ind.loc[rows_to_keep])"
   ]
  },
  {
   "cell_type": "markdown",
   "metadata": {},
   "source": [
    "# Sorting by index values"
   ]
  },
  {
   "cell_type": "markdown",
   "metadata": {},
   "source": [
    "You can change the order of the rows in a DataFrame by calling `.sort_values()`. It's also useful to be able to sort by elements in the index. For this, you need to use `.sort_index()`."
   ]
  },
  {
   "cell_type": "code",
   "execution_count": 4,
   "metadata": {},
   "outputs": [],
   "source": [
    "# # Sort temperatures_ind by index values\n",
    "# print(temperatures_ind.sort_index())\n",
    "\n",
    "# # Sort temperatures_ind by index values at the city level\n",
    "# print(temperatures_ind.sort_index(level = \"city\"))\n",
    "\n",
    "# # Sort temperatures_ind by country then descending city\n",
    "# print(temperatures_ind.sort_index(level = [\"country\",\"city\"], ascending= [True, False]))"
   ]
  },
  {
   "cell_type": "markdown",
   "metadata": {},
   "source": [
    "# Slicing index values"
   ]
  },
  {
   "cell_type": "markdown",
   "metadata": {},
   "source": [
    "Slicing lets you select consecutive elements of an object using `first:last` syntax. DataFrames can be sliced by index values or by row/column number; we'll start with the first case. This involves slicing inside the `.loc[]` method.\n",
    "\n",
    "Compared to slicing lists, there are a few things to remember:\n",
    "\n",
    "- You can only slice an index if the index is sorted (using `.sort_index()`).\n",
    "- To slice at the outer level, first and last can be `strings`.\n",
    "- To slice at inner levels, first and last should be `tuples`.\n",
    "- If you pass a single slice to `.loc[]`, it will slice the rows."
   ]
  },
  {
   "cell_type": "code",
   "execution_count": 5,
   "metadata": {},
   "outputs": [],
   "source": [
    "# # Sort the index of temperatures_ind\n",
    "# temperatures_srt = temperatures_ind.sort_index()\n",
    "\n",
    "# # Subset rows from Pakistan to Russia\n",
    "# print(temperatures_srt.loc['Pakistan':'Russia'])\n",
    "\n",
    "# # Try to subset rows from Lahore to Moscow\n",
    "# print(temperatures_srt.loc['Lahore':'Moscow'])\n",
    "\n",
    "# # Subset rows from Pakistan, Lahore to Russia, Moscow\n",
    "# print(temperatures_srt.loc[('Pakistan','Lahore') : ('Russia','Moscow') ])"
   ]
  },
  {
   "cell_type": "markdown",
   "metadata": {},
   "source": [
    "# Slicing in both directions"
   ]
  },
  {
   "cell_type": "markdown",
   "metadata": {},
   "source": [
    "it is often natural to slice both dimensions at once. That is, by passing two arguments to `.loc[]`, you can subset by rows and columns in one go."
   ]
  },
  {
   "cell_type": "code",
   "execution_count": 6,
   "metadata": {},
   "outputs": [],
   "source": [
    "# # Subset rows from India, Hyderabad to Iraq, Baghdad\n",
    "# print(temperatures_srt.loc[('India', 'Hyderabad') : ('Iraq', 'Baghdad')])\n",
    "\n",
    "# # Subset columns from date to avg_temp_c\n",
    "# print(temperatures_srt.loc[:, 'date' : 'avg_temp_c'])\n",
    "\n",
    "# # Subset in both directions at once\n",
    "# print(temperatures_srt.loc[('India', 'Hyderabad') : ('Iraq', 'Baghdad'),'date' : 'avg_temp_c'])"
   ]
  },
  {
   "cell_type": "markdown",
   "metadata": {},
   "source": [
    "# Slicing time series"
   ]
  },
  {
   "cell_type": "markdown",
   "metadata": {},
   "source": [
    "Slicing is particularly useful for time series since it's a common thing to want to filter for data within a date range. Add the date column to the index, then use `.loc[]` to perform the subsetting. The important thing to remember is to keep your dates in ISO 8601 format, that is, `\"yyyy-mm-dd\"` for year-month-day, `\"yyyy-mm\"` for year-month, and `\"yyyy\"` for year."
   ]
  },
  {
   "cell_type": "code",
   "execution_count": 7,
   "metadata": {},
   "outputs": [],
   "source": [
    "# # Use Boolean conditions to subset temperatures for rows in 2010 and 2011\n",
    "# temperatures_bool = temperatures[(temperatures[\"date\"] >= \"2010-01-01\") & (temperatures[\"date\"] <= \"2011-12-31\")]\n",
    "# print(temperatures_bool)\n",
    "\n",
    "# # Set date as the index and sort the index\n",
    "# temperatures_ind = temperatures.set_index(\"date\").sort_index()\n",
    "\n",
    "# # Use .loc[] to subset temperatures_ind for rows in 2010 and 2011\n",
    "# print(temperatures_ind.loc['2010-01-01' : '2011-12-31',:])\n",
    "\n",
    "# # Use .loc[] to subset temperatures_ind for rows from Aug 2010 to Feb 2011\n",
    "# print(temperatures_ind.loc['2010-08-01' : '2011-02-28',:])"
   ]
  },
  {
   "cell_type": "markdown",
   "metadata": {},
   "source": [
    "# Subsetting by row/column number"
   ]
  },
  {
   "cell_type": "markdown",
   "metadata": {},
   "source": [
    "This is done using `.iloc[]`, and like `.loc[]`, it can take two arguments to let you subset by rows and columns."
   ]
  },
  {
   "cell_type": "code",
   "execution_count": 8,
   "metadata": {},
   "outputs": [],
   "source": [
    "# # Get 23rd row, 2nd column (index 22, 1)\n",
    "# print(temperatures.iloc[22,1])\n",
    "\n",
    "# # Use slicing to get the first 5 rows\n",
    "# print(temperatures.iloc[:5,:])\n",
    "\n",
    "# # Use slicing to get columns 3 to 4\n",
    "# print(temperatures.iloc[:,2:4])\n",
    "\n",
    "# # Use slicing in both directions at once\n",
    "# print(temperatures.iloc[:5,2:4])"
   ]
  },
  {
   "cell_type": "markdown",
   "metadata": {},
   "source": [
    "# Pivot temperature by city and year"
   ]
  },
  {
   "cell_type": "markdown",
   "metadata": {},
   "source": [
    "It's interesting to see how temperatures for each city change over time—looking at every month results in a big table, which can be tricky to reason about. Instead, let's look at how temperatures change by year."
   ]
  },
  {
   "cell_type": "code",
   "execution_count": 9,
   "metadata": {},
   "outputs": [],
   "source": [
    "# # Add a year column to temperatures\n",
    "# temperatures[\"year\"] = temperatures[\"date\"].dt.year\n",
    "\n",
    "# # Pivot avg_temp_c by country and city vs year\n",
    "# temp_by_country_city_vs_year = temperatures.pivot_table(values= 'avg_temp_c' ,index = ['country', 'city'], columns='year' )\n",
    "\n",
    "# # See the result\n",
    "# print(temp_by_country_city_vs_year)"
   ]
  },
  {
   "cell_type": "markdown",
   "metadata": {},
   "source": [
    "# Subsetting pivot tables"
   ]
  },
  {
   "cell_type": "markdown",
   "metadata": {},
   "source": [
    "A pivot table is just a DataFrame with sorted indexes, so the techniques you have learned already can be used to subset them. In particular, the `.loc[]` + slicing combination is often helpful."
   ]
  },
  {
   "cell_type": "code",
   "execution_count": 10,
   "metadata": {},
   "outputs": [],
   "source": [
    "# # Subset for Egypt to India\n",
    "# temp_by_country_city_vs_year.loc['Egypt' : 'India',:]\n",
    "\n",
    "# # Subset for Egypt, Cairo to India, Delhi\n",
    "# temp_by_country_city_vs_year.loc[('Egypt','Cairo') : ('India', 'Delhi') ,:]\n",
    "\n",
    "# # Subset in both directions at once\n",
    "# temp_by_country_city_vs_year.loc[('Egypt','Cairo') : ('India', 'Delhi') ,2005:2010]"
   ]
  },
  {
   "cell_type": "markdown",
   "metadata": {},
   "source": [
    "# Calculating on a pivot table"
   ]
  },
  {
   "cell_type": "markdown",
   "metadata": {},
   "source": [
    "Pivot tables are filled with summary statistics, but they are only a first step to finding something insightful. Often you'll need to perform further calculations on them. A common thing to do is to find the rows or columns where the highest or lowest value occurs."
   ]
  },
  {
   "cell_type": "code",
   "execution_count": 11,
   "metadata": {},
   "outputs": [],
   "source": [
    "# # Get the worldwide mean temp by year\n",
    "# mean_temp_by_year = temp_by_country_city_vs_year.mean(axis=0)\n",
    "\n",
    "# # Filter for the year that had the highest mean temp\n",
    "# print(mean_temp_by_year[mean_temp_by_year == mean_temp_by_year.max()])\n",
    "\n",
    "# # Get the mean temp by city\n",
    "# mean_temp_by_city = temp_by_country_city_vs_year.mean(axis=1)\n",
    "\n",
    "# # Filter for the city that had the lowest mean temp\n",
    "# print(mean_temp_by_city[mean_temp_by_city == mean_temp_by_city.min()])"
   ]
  }
 ],
 "metadata": {
  "kernelspec": {
   "display_name": "Python 3.8.3 ('base')",
   "language": "python",
   "name": "python3"
  },
  "language_info": {
   "codemirror_mode": {
    "name": "ipython",
    "version": 3
   },
   "file_extension": ".py",
   "mimetype": "text/x-python",
   "name": "python",
   "nbconvert_exporter": "python",
   "pygments_lexer": "ipython3",
   "version": "3.8.3"
  },
  "orig_nbformat": 4,
  "vscode": {
   "interpreter": {
    "hash": "dc575bfddb5c8ca4bb6a4f4dcdd32abc104b5fa4177361381c432fff36ce3e46"
   }
  }
 },
 "nbformat": 4,
 "nbformat_minor": 2
}

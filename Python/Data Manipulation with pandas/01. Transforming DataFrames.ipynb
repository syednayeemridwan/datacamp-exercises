{
 "cells": [
  {
   "cell_type": "markdown",
   "metadata": {},
   "source": [
    "# Inspecting a DataFrame"
   ]
  },
  {
   "cell_type": "markdown",
   "metadata": {},
   "source": [
    "When you get a new DataFrame to work with, the first thing you need to do is explore it and see what it contains.\n",
    "- `.head()` returns the first few rows (the “head” of the DataFrame).\n",
    "- `.info()` shows information on each of the columns, such as the data type and number of missing values.\n",
    "- `.shape` returns the number of rows and columns of the DataFrame.\n",
    "- `.describe()` calculates a few summary statistics for each column."
   ]
  },
  {
   "cell_type": "code",
   "execution_count": 1,
   "metadata": {},
   "outputs": [],
   "source": [
    "# # Print the head of the homelessness data\n",
    "# print(homelessness.head())\n",
    "\n",
    "# # Print information about homelessness\n",
    "# print(homelessness.info())\n",
    "\n",
    "# # Print the shape of homelessness\n",
    "# print(homelessness.shape)\n",
    "\n",
    "# # Print a description of homelessness\n",
    "# print(homelessness.describe())"
   ]
  },
  {
   "cell_type": "markdown",
   "metadata": {},
   "source": [
    "# Parts of a DataFrame"
   ]
  },
  {
   "cell_type": "markdown",
   "metadata": {},
   "source": [
    "`pandas` three components, stored as attributes:\n",
    "\n",
    "- `.values`: A two-dimensional NumPy array of values.\n",
    "- `.columns`: An index of columns: the column names.\n",
    "- `.index`: An index for the rows: either row numbers or row names."
   ]
  },
  {
   "cell_type": "code",
   "execution_count": 2,
   "metadata": {},
   "outputs": [],
   "source": [
    "# # Import pandas using the alias pd\n",
    "# import pandas as pd\n",
    "\n",
    "# # Print the values of homelessness\n",
    "# print(homelessness.values)\n",
    "\n",
    "# # Print the column index of homelessness\n",
    "# print(homelessness.columns)\n",
    "\n",
    "# # Print the row index of homelessness\n",
    "# print(homelessness.index)"
   ]
  },
  {
   "cell_type": "markdown",
   "metadata": {},
   "source": [
    "# Sorting rows"
   ]
  },
  {
   "cell_type": "markdown",
   "metadata": {},
   "source": [
    "Finding interesting bits of data in a DataFrame is often easier if you change the order of the rows. You can sort the rows by passing a column name to `.sort_values()`."
   ]
  },
  {
   "cell_type": "code",
   "execution_count": 3,
   "metadata": {},
   "outputs": [],
   "source": [
    "# # Sort homelessness by individual\n",
    "# homelessness_ind = homelessness.sort_values(\"individuals\")\n",
    "\n",
    "# # Print the top few rows\n",
    "# print(homelessness_ind.head())"
   ]
  },
  {
   "cell_type": "code",
   "execution_count": 4,
   "metadata": {},
   "outputs": [],
   "source": [
    "# # Sort homelessness by descending family members\n",
    "# homelessness_fam = homelessness.sort_values(\"family_members\", ascending = False)\n",
    "\n",
    "# # Print the top few rows\n",
    "# print(homelessness_fam.head())"
   ]
  },
  {
   "cell_type": "code",
   "execution_count": 5,
   "metadata": {},
   "outputs": [],
   "source": [
    "# # Sort homelessness by region, then descending family members\n",
    "# homelessness_reg_fam = homelessness.sort_values([\"region\",\"family_members\"], ascending = [True, False])\n",
    "\n",
    "# # Print the top few rows\n",
    "# print(homelessness_reg_fam.head())"
   ]
  },
  {
   "cell_type": "markdown",
   "metadata": {},
   "source": [
    "# Subsetting columns"
   ]
  },
  {
   "cell_type": "markdown",
   "metadata": {},
   "source": [
    "When working with data, you may not need all of the variables in your dataset. Square brackets (`[]`) can be used to select only the columns that matter to you in an order that makes sense to you. To select only `\"col_a\"` of the DataFrame"
   ]
  },
  {
   "cell_type": "code",
   "execution_count": 6,
   "metadata": {},
   "outputs": [],
   "source": [
    "# # Select the individuals column\n",
    "# individuals = homelessness[\"individuals\"]\n",
    "\n",
    "# # Print the head of the result\n",
    "# print(individuals.head())"
   ]
  },
  {
   "cell_type": "code",
   "execution_count": 7,
   "metadata": {},
   "outputs": [],
   "source": [
    "# # Select the state and family_members columns\n",
    "# state_fam = homelessness[[\"state\",\"family_members\"]]\n",
    "\n",
    "# # Print the head of the result\n",
    "# print(state_fam.head())"
   ]
  },
  {
   "cell_type": "code",
   "execution_count": 8,
   "metadata": {},
   "outputs": [],
   "source": [
    "# # Select only the individuals and state columns, in that order\n",
    "# ind_state = homelessness[[\"individuals\",\"state\"]]\n",
    "\n",
    "# # Print the head of the result\n",
    "# print(ind_state.head())"
   ]
  },
  {
   "cell_type": "markdown",
   "metadata": {},
   "source": [
    "# Subsetting rows"
   ]
  },
  {
   "cell_type": "markdown",
   "metadata": {},
   "source": [
    "One of the simplest techniques for this is to find a subset of rows that match some criteria. This is sometimes known as filtering rows or selecting rows.\n",
    "\n",
    "There are many ways to subset a DataFrame, perhaps the most common is to use relational operators to return True or False for each row, then pass that inside square brackets."
   ]
  },
  {
   "cell_type": "code",
   "execution_count": 9,
   "metadata": {},
   "outputs": [],
   "source": [
    "# # Filter for rows where individuals is greater than 10000\n",
    "# ind_gt_10k = homelessness[homelessness[\"individuals\"] > 10000]\n",
    "\n",
    "# # See the result\n",
    "# print(ind_gt_10k)"
   ]
  },
  {
   "cell_type": "code",
   "execution_count": 10,
   "metadata": {},
   "outputs": [],
   "source": [
    "# # Filter for rows where region is Mountain\n",
    "# mountain_reg = homelessness[homelessness[\"region\"] == \"Mountain\"]\n",
    "\n",
    "# # See the result\n",
    "# print(mountain_reg)"
   ]
  },
  {
   "cell_type": "code",
   "execution_count": 11,
   "metadata": {},
   "outputs": [],
   "source": [
    "# # Filter for rows where family_members is less than 1000 \n",
    "# # and region is Pacific\n",
    "# fam_lt_1k_pac = homelessness[(homelessness[\"family_members\"] < 1000) & (homelessness[\"region\"] == \"Pacific\")]\n",
    "\n",
    "# # See the result\n",
    "# print(fam_lt_1k_pac)"
   ]
  },
  {
   "cell_type": "markdown",
   "metadata": {},
   "source": [
    "# Subsetting rows by categorical variables"
   ]
  },
  {
   "cell_type": "markdown",
   "metadata": {},
   "source": [
    "Subsetting data based on a categorical variable often involves using the \"or\" operator (|) to select rows from multiple categories. This can get tedious when you want all states in one of three different regions, for example. Instead, use the `.isin()` method."
   ]
  },
  {
   "cell_type": "code",
   "execution_count": 12,
   "metadata": {},
   "outputs": [],
   "source": [
    "# # Subset for rows in South Atlantic or Mid-Atlantic regions\n",
    "# south_mid_atlantic = homelessness[homelessness[\"region\"].isin([\"South Atlantic\",\"Mid-Atlantic\"])]\n",
    "\n",
    "# # See the result\n",
    "# print(south_mid_atlantic)"
   ]
  },
  {
   "cell_type": "code",
   "execution_count": 13,
   "metadata": {},
   "outputs": [],
   "source": [
    "# # The Mojave Desert states\n",
    "# canu = [\"California\", \"Arizona\", \"Nevada\", \"Utah\"]\n",
    "\n",
    "# # Filter for rows in the Mojave Desert states\n",
    "# mojave_homelessness = homelessness[homelessness[\"state\"].isin(canu)]\n",
    "\n",
    "# # See the result\n",
    "# print(mojave_homelessness)"
   ]
  },
  {
   "cell_type": "markdown",
   "metadata": {},
   "source": [
    "# Adding new columns"
   ]
  },
  {
   "cell_type": "markdown",
   "metadata": {},
   "source": [
    "You can add new columns to a DataFrame. This has many names, such as transforming, mutating, and feature engineering."
   ]
  },
  {
   "cell_type": "code",
   "execution_count": 14,
   "metadata": {},
   "outputs": [],
   "source": [
    "# # Add total col as sum of individuals and family_members\n",
    "# homelessness [\"total\"] = homelessness [\"individuals\"] + homelessness [\"family_members\"]\n",
    "\n",
    "# # Add p_individuals col as proportion of individuals\n",
    "# homelessness [\"p_individuals\"] = homelessness [\"individuals\"] / homelessness [\"total\"]\n",
    "\n",
    "# # See the result\n",
    "# print(homelessness)"
   ]
  },
  {
   "cell_type": "markdown",
   "metadata": {},
   "source": [
    "# Combo-attack!"
   ]
  },
  {
   "cell_type": "markdown",
   "metadata": {},
   "source": [
    "Which state has the highest number of homeless individuals per 10,000 people in the state?"
   ]
  },
  {
   "cell_type": "code",
   "execution_count": 15,
   "metadata": {},
   "outputs": [],
   "source": [
    "# # Create indiv_per_10k col as homeless individuals per 10k state pop\n",
    "# homelessness[\"indiv_per_10k\"] = 10000 * homelessness[\"individuals\"] / homelessness[\"state_pop\"] \n",
    "\n",
    "# # Subset rows for indiv_per_10k greater than 20\n",
    "# high_homelessness = homelessness[homelessness[\"indiv_per_10k\"] > 20]\n",
    "\n",
    "# # Sort high_homelessness by descending indiv_per_10k\n",
    "# high_homelessness_srt = high_homelessness.sort_values(\"indiv_per_10k\",ascending = False)\n",
    "\n",
    "# # From high_homelessness_srt, select the state and indiv_per_10k cols\n",
    "# result = high_homelessness_srt[[\"state\",\"indiv_per_10k\"]]\n",
    "\n",
    "# # See the result\n",
    "# print(result)"
   ]
  }
 ],
 "metadata": {
  "kernelspec": {
   "display_name": "Python 3.8.3 ('base')",
   "language": "python",
   "name": "python3"
  },
  "language_info": {
   "codemirror_mode": {
    "name": "ipython",
    "version": 3
   },
   "file_extension": ".py",
   "mimetype": "text/x-python",
   "name": "python",
   "nbconvert_exporter": "python",
   "pygments_lexer": "ipython3",
   "version": "3.8.3"
  },
  "orig_nbformat": 4,
  "vscode": {
   "interpreter": {
    "hash": "dc575bfddb5c8ca4bb6a4f4dcdd32abc104b5fa4177361381c432fff36ce3e46"
   }
  }
 },
 "nbformat": 4,
 "nbformat_minor": 2
}

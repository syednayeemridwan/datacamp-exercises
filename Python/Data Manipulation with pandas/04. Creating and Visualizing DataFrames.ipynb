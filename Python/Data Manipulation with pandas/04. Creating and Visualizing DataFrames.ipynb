{
 "cells": [
  {
   "cell_type": "markdown",
   "metadata": {},
   "source": [
    "# Which avocado size is most popular?"
   ]
  },
  {
   "cell_type": "markdown",
   "metadata": {},
   "source": [
    "Avocados are increasingly popular and delicious in guacamole and on toast. The Hass Avocado Board keeps track of avocado supply and demand across the USA, including the sales of three different sizes of avocado. In this exercise, you'll use a bar plot to figure out which size is the most popular.\n",
    "\n",
    "Bar plots are great for revealing relationships between categorical (size) and numeric (number sold) variables, but you'll often have to manipulate your data first in order to get the numbers you need for plotting."
   ]
  },
  {
   "cell_type": "code",
   "execution_count": 2,
   "metadata": {},
   "outputs": [],
   "source": [
    "# # Import matplotlib.pyplot with alias plt\n",
    "# import matplotlib.pyplot as plt\n",
    "\n",
    "# # Look at the first few rows of data\n",
    "# print(avocados.head())\n",
    "\n",
    "# # Get the total number of avocados sold of each size\n",
    "# nb_sold_by_size = avocados.groupby(\"size\")[\"nb_sold\"].agg('sum')\n",
    "\n",
    "# # Create a bar plot of the number of avocados sold by size\n",
    "# nb_sold_by_size.plot(kind=\"bar\")\n",
    "\n",
    "# # Show the plot\n",
    "# plt.show()"
   ]
  },
  {
   "cell_type": "markdown",
   "metadata": {},
   "source": [
    "# Changes in sales over time"
   ]
  },
  {
   "cell_type": "markdown",
   "metadata": {},
   "source": [
    "Line plots are designed to visualize the relationship between two numeric variables, where each data values is connected to the next one. They are especially useful for visualizing the change in a number over time since each time point is naturally connected to the next time point."
   ]
  },
  {
   "cell_type": "code",
   "execution_count": 3,
   "metadata": {},
   "outputs": [],
   "source": [
    "# # Import matplotlib.pyplot with alias plt\n",
    "# import matplotlib.pyplot as plt\n",
    "\n",
    "# # Get the total number of avocados sold on each date\n",
    "# nb_sold_by_date = avocados.groupby(\"date\")[\"nb_sold\"].agg('sum')\n",
    "\n",
    "# # Create a line plot of the number of avocados sold by date\n",
    "# nb_sold_by_date.plot(kind = \"line\")\n",
    "\n",
    "# # Show the plot\n",
    "# plt.show()"
   ]
  },
  {
   "cell_type": "markdown",
   "metadata": {},
   "source": [
    "# Avocado supply and demand"
   ]
  },
  {
   "cell_type": "markdown",
   "metadata": {},
   "source": [
    "Scatter plots are ideal for visualizing relationships between numerical variables. If they're related, you may be able to use one number to predict the other."
   ]
  },
  {
   "cell_type": "code",
   "execution_count": 4,
   "metadata": {},
   "outputs": [],
   "source": [
    "# # Scatter plot of nb_sold vs avg_price with title\n",
    "# avocados.plot(x=\"nb_sold\", y=\"avg_price\", kind=\"scatter\", title = \"Number of avocados sold vs. average price\")\n",
    "\n",
    "# # Show the plot\n",
    "# plt.show()"
   ]
  },
  {
   "cell_type": "markdown",
   "metadata": {},
   "source": [
    "# Price of conventional vs. organic avocados"
   ]
  },
  {
   "cell_type": "markdown",
   "metadata": {},
   "source": [
    "Creating multiple plots for different subsets of data allows you to compare groups"
   ]
  },
  {
   "cell_type": "code",
   "execution_count": 5,
   "metadata": {},
   "outputs": [],
   "source": [
    "# # Modify bins to 20\n",
    "# avocados[avocados[\"type\"] == \"conventional\"][\"avg_price\"].hist(alpha=0.5, bins=20)\n",
    "\n",
    "# # Modify bins to 20\n",
    "# avocados[avocados[\"type\"] == \"organic\"][\"avg_price\"].hist(alpha=0.5, bins=20)\n",
    "\n",
    "# # Add a legend\n",
    "# plt.legend([\"conventional\", \"organic\"])\n",
    "\n",
    "# # Show the plot\n",
    "# plt.show()"
   ]
  },
  {
   "cell_type": "markdown",
   "metadata": {},
   "source": [
    "# Finding missing values"
   ]
  },
  {
   "cell_type": "markdown",
   "metadata": {},
   "source": [
    "Missing values are everywhere, and you don't want them interfering with your work. Some functions ignore missing data by default, but that's not always the behavior you might want. Some functions can't handle missing values at all, so these values need to be taken care of before you can use them."
   ]
  },
  {
   "cell_type": "code",
   "execution_count": 6,
   "metadata": {},
   "outputs": [],
   "source": [
    "# # Import matplotlib.pyplot with alias plt\n",
    "# import matplotlib.pyplot as plt\n",
    "\n",
    "# # Check individual values for missing values\n",
    "# print(avocados_2016.isna())\n",
    "\n",
    "# # Check each column for missing values\n",
    "# print(avocados_2016.isna().any())\n",
    "\n",
    "# # Bar plot of missing values by variable\n",
    "# avocados_2016.isna().sum().plot(kind = \"bar\")\n",
    "\n",
    "# # Show plot\n",
    "# plt.show()"
   ]
  },
  {
   "cell_type": "markdown",
   "metadata": {},
   "source": [
    "# Removing missing values"
   ]
  },
  {
   "cell_type": "markdown",
   "metadata": {},
   "source": [
    "There are a few options to deal with missing values. One way is to remove them from the dataset completely"
   ]
  },
  {
   "cell_type": "code",
   "execution_count": null,
   "metadata": {},
   "outputs": [],
   "source": [
    "# # Remove rows with missing values\n",
    "# avocados_complete = avocados_2016.dropna()\n",
    "\n",
    "# # Check if any columns contain missing values\n",
    "# print(avocados_complete.isna().any())"
   ]
  },
  {
   "cell_type": "markdown",
   "metadata": {},
   "source": [
    "# Replacing missing values"
   ]
  },
  {
   "cell_type": "markdown",
   "metadata": {},
   "source": [
    "Another way of handling missing values is to replace them all with the same value. For numerical variables, one option is to replace values with 0"
   ]
  },
  {
   "cell_type": "code",
   "execution_count": 7,
   "metadata": {},
   "outputs": [],
   "source": [
    "# # List the columns with missing values\n",
    "# cols_with_missing = [\"small_sold\", \"large_sold\", \"xl_sold\"]\n",
    "\n",
    "# # Create histograms showing the distributions cols_with_missing\n",
    "# avocados_2016[cols_with_missing].plot(kind=\"hist\")\n",
    "\n",
    "# # Show the plot\n",
    "# plt.show()"
   ]
  },
  {
   "cell_type": "code",
   "execution_count": 8,
   "metadata": {},
   "outputs": [],
   "source": [
    "# # From previous step\n",
    "# cols_with_missing = [\"small_sold\", \"large_sold\", \"xl_sold\"]\n",
    "# avocados_2016[cols_with_missing].hist()\n",
    "# plt.show()\n",
    "\n",
    "# # Fill in missing values with 0\n",
    "# avocados_filled = avocados_2016[cols_with_missing].fillna(0)\n",
    "\n",
    "# # Create histograms of the filled columns\n",
    "# avocados_filled[cols_with_missing].plot(kind=\"hist\")\n",
    "\n",
    "# # Show the plot\n",
    "# plt.show()"
   ]
  },
  {
   "cell_type": "markdown",
   "metadata": {},
   "source": [
    "# List of dictionaries"
   ]
  },
  {
   "cell_type": "markdown",
   "metadata": {},
   "source": [
    "You recently got some new avocado data from 2019 that you'd like to put in a DataFrame using the list of dictionaries method. "
   ]
  },
  {
   "cell_type": "code",
   "execution_count": 9,
   "metadata": {},
   "outputs": [],
   "source": [
    "# # Create a list of dictionaries with new data\n",
    "# avocados_list = [\n",
    "#     {\"date\": \"2019-11-03\", \"small_sold\": 10376832, \"large_sold\": 7835071},\n",
    "#     {\"date\": \"2019-11-10\", \"small_sold\": 10717154, \"large_sold\": 8561348},\n",
    "# ]\n",
    "\n",
    "# # Convert list into DataFrame\n",
    "# avocados_2019 = pd.DataFrame(avocados_list)\n",
    "\n",
    "# # Print the new DataFrame\n",
    "# print(avocados_2019)"
   ]
  },
  {
   "cell_type": "markdown",
   "metadata": {},
   "source": [
    "# Dictionary of lists"
   ]
  },
  {
   "cell_type": "markdown",
   "metadata": {},
   "source": [
    "Some more data just came in! This time, you'll use the dictionary of lists method, parsing the data column by column."
   ]
  },
  {
   "cell_type": "code",
   "execution_count": 10,
   "metadata": {},
   "outputs": [],
   "source": [
    "# # Create a dictionary of lists with new data\n",
    "# avocados_dict = {\n",
    "#   \"date\": [\"2019-11-17\", \"2019-12-01\"],\n",
    "#   \"small_sold\": [10859987, 9291631],\n",
    "#   \"large_sold\": [7674135, 6238096]\n",
    "# }\n",
    "\n",
    "# # Convert dictionary into DataFrame\n",
    "# avocados_2019 = pd.DataFrame(avocados_dict)\n",
    "\n",
    "# # Print the new DataFrame\n",
    "# print(avocados_2019)"
   ]
  },
  {
   "cell_type": "markdown",
   "metadata": {},
   "source": [
    "# CSV to DataFrame"
   ]
  },
  {
   "cell_type": "markdown",
   "metadata": {},
   "source": [
    "you'll need to get the CSV into a pandas DataFrame and do some manipulation!"
   ]
  },
  {
   "cell_type": "code",
   "execution_count": 11,
   "metadata": {},
   "outputs": [],
   "source": [
    "# # Read CSV as DataFrame called airline_bumping\n",
    "# airline_bumping = pd.read_csv(\"airline_bumping.csv\")\n",
    "\n",
    "# # Take a look at the DataFrame\n",
    "# print(airline_bumping.head())\n",
    "\n",
    "# # For each airline, select nb_bumped and total_passengers and sum\n",
    "# airline_totals = airline_bumping.groupby(\"airline\")[[\"nb_bumped\", \"total_passengers\"]].sum()\n",
    "\n",
    "# # Create new col, bumps_per_10k: no. of bumps per 10k passengers for each airline\n",
    "# airline_totals[\"bumps_per_10k\"] = airline_totals[\"nb_bumped\"] / airline_totals[\"total_passengers\"] * 10000\n",
    "\n",
    "# # Print airline_totals\n",
    "# print(airline_totals)"
   ]
  },
  {
   "cell_type": "markdown",
   "metadata": {},
   "source": [
    "# DataFrame to CSV"
   ]
  },
  {
   "cell_type": "markdown",
   "metadata": {},
   "source": [
    "you'll need to sort the data and export it to CSV so that your colleagues can read it."
   ]
  },
  {
   "cell_type": "code",
   "execution_count": 12,
   "metadata": {},
   "outputs": [],
   "source": [
    "# # Create airline_totals_sorted\n",
    "# airline_totals_sorted = airline_totals.sort_values(\"bumps_per_10k\", ascending= False)\n",
    "\n",
    "# # Print airline_totals_sorted\n",
    "# print(airline_totals_sorted)\n",
    "\n",
    "# # Save as airline_totals_sorted.csv\n",
    "# airline_totals_sorted.to_csv(\"airline_totals_sorted.csv\")"
   ]
  }
 ],
 "metadata": {
  "kernelspec": {
   "display_name": "Python 3.8.3 ('base')",
   "language": "python",
   "name": "python3"
  },
  "language_info": {
   "codemirror_mode": {
    "name": "ipython",
    "version": 3
   },
   "file_extension": ".py",
   "mimetype": "text/x-python",
   "name": "python",
   "nbconvert_exporter": "python",
   "pygments_lexer": "ipython3",
   "version": "3.8.3"
  },
  "orig_nbformat": 4,
  "vscode": {
   "interpreter": {
    "hash": "dc575bfddb5c8ca4bb6a4f4dcdd32abc104b5fa4177361381c432fff36ce3e46"
   }
  }
 },
 "nbformat": 4,
 "nbformat_minor": 2
}

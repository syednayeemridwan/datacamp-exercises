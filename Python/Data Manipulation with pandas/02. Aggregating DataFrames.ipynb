{
 "cells": [
  {
   "cell_type": "markdown",
   "metadata": {},
   "source": [
    "# Mean and median"
   ]
  },
  {
   "cell_type": "markdown",
   "metadata": {},
   "source": [
    "Summary statistics are exactly what they sound like - they summarize many numbers in one statistic. For example, mean, median, minimum, maximum, and standard deviation are summary statistics. Calculating summary statistics allows you to get a better sense of your data"
   ]
  },
  {
   "cell_type": "code",
   "execution_count": 1,
   "metadata": {},
   "outputs": [],
   "source": [
    "# # Print the head of the sales DataFrame\n",
    "# print(sales.head())\n",
    "\n",
    "# # Print the info about the sales DataFrame\n",
    "# print(sales.info())\n",
    "\n",
    "# # Print the mean of weekly_sales\n",
    "# print(sales[\"weekly_sales\"].mean())\n",
    "\n",
    "# # Print the median of weekly_sales\n",
    "# print(sales[\"weekly_sales\"].median())"
   ]
  },
  {
   "cell_type": "markdown",
   "metadata": {},
   "source": [
    "# Summarizing dates"
   ]
  },
  {
   "cell_type": "markdown",
   "metadata": {},
   "source": [
    "Summary statistics can also be calculated on date columns that have values with the data type `datetime64`. Some summary statistics — like mean — don't make a ton of sense on dates, but others are super helpful, for example, minimum and maximum, which allow you to see what time range your data covers."
   ]
  },
  {
   "cell_type": "code",
   "execution_count": 2,
   "metadata": {},
   "outputs": [],
   "source": [
    "# # Print the maximum of the date column\n",
    "# print(sales[\"date\"].max())\n",
    "\n",
    "# # Print the minimum of the date column\n",
    "# print(sales[\"date\"].min())"
   ]
  },
  {
   "cell_type": "markdown",
   "metadata": {},
   "source": [
    "# Efficient summaries"
   ]
  },
  {
   "cell_type": "markdown",
   "metadata": {},
   "source": [
    "The .agg() method allows you to apply your own custom functions to a DataFrame, as well as apply functions to more than one column of a DataFrame at once, making your aggregations super-efficient. "
   ]
  },
  {
   "cell_type": "code",
   "execution_count": 3,
   "metadata": {},
   "outputs": [],
   "source": [
    "# # A custom IQR function\n",
    "# def iqr(column):\n",
    "#     return column.quantile(0.75) - column.quantile(0.25)\n",
    "    \n",
    "# # Print IQR of the temperature_c column\n",
    "# print(sales[\"temperature_c\"].agg(iqr))"
   ]
  },
  {
   "cell_type": "code",
   "execution_count": 4,
   "metadata": {},
   "outputs": [],
   "source": [
    "# # A custom IQR function\n",
    "# def iqr(column):\n",
    "#     return column.quantile(0.75) - column.quantile(0.25)\n",
    "\n",
    "# # Update to print IQR of temperature_c, fuel_price_usd_per_l, & unemployment\n",
    "# print(sales[[\"temperature_c\", \"fuel_price_usd_per_l\", \"unemployment\"]].agg(iqr))"
   ]
  },
  {
   "cell_type": "code",
   "execution_count": 5,
   "metadata": {},
   "outputs": [],
   "source": [
    "# # Import NumPy and create custom IQR function\n",
    "# import numpy as np\n",
    "# def iqr(column):\n",
    "#     return column.quantile(0.75) - column.quantile(0.25)\n",
    "\n",
    "# # Update to print IQR and median of temperature_c, fuel_price_usd_per_l, & unemployment\n",
    "# print(sales[[\"temperature_c\", \"fuel_price_usd_per_l\", \"unemployment\"]].agg([iqr,np.median]))"
   ]
  },
  {
   "cell_type": "markdown",
   "metadata": {},
   "source": [
    "# Cumulative statistics"
   ]
  },
  {
   "cell_type": "markdown",
   "metadata": {},
   "source": [
    "Cumulative statistics can also be helpful in tracking summary statistics over time. It will allow you to identify what the total sales were so far as well as what the highest weekly sales were so far."
   ]
  },
  {
   "cell_type": "code",
   "execution_count": 6,
   "metadata": {},
   "outputs": [],
   "source": [
    "# # Sort sales_1_1 by date\n",
    "# sales_1_1 = sales_1_1.sort_values(\"date\")\n",
    "\n",
    "# # Get the cumulative sum of weekly_sales, add as cum_weekly_sales col\n",
    "# sales_1_1[\"cum_weekly_sales\"] = sales_1_1[\"weekly_sales\"].cumsum()\n",
    "\n",
    "# # Get the cumulative max of weekly_sales, add as cum_max_sales col\n",
    "# sales_1_1[\"cum_max_sales\"] = sales_1_1[\"weekly_sales\"].cummax()\n",
    "\n",
    "# # See the columns you calculated\n",
    "# print(sales_1_1[[\"date\", \"weekly_sales\", \"cum_weekly_sales\", \"cum_max_sales\"]])"
   ]
  },
  {
   "cell_type": "markdown",
   "metadata": {},
   "source": [
    "# Dropping duplicates"
   ]
  },
  {
   "cell_type": "markdown",
   "metadata": {},
   "source": [
    "Removing duplicates is an essential skill to get accurate counts because often, you don't want to count the same thing multiple times. "
   ]
  },
  {
   "cell_type": "code",
   "execution_count": 7,
   "metadata": {},
   "outputs": [],
   "source": [
    "# # Drop duplicate store/type combinations\n",
    "# store_types = sales.drop_duplicates(['store', 'type'])\n",
    "# print(store_types.head())\n",
    "\n",
    "# # Drop duplicate store/department combinations\n",
    "# store_depts = sales.drop_duplicates(['store', 'department'])\n",
    "# print(store_depts.head())\n",
    "\n",
    "# # Subset the rows where is_holiday is True and drop duplicate dates\n",
    "# holiday_dates = sales[sales['is_holiday']].drop_duplicates('date')\n",
    "\n",
    "# # Print date col of holiday_dates\n",
    "# print(holiday_dates['date'])"
   ]
  },
  {
   "cell_type": "markdown",
   "metadata": {},
   "source": [
    "# Counting categorical variables"
   ]
  },
  {
   "cell_type": "markdown",
   "metadata": {},
   "source": [
    "Counting is a great way to get an overview of your data and to spot curiosities that you might not notice otherwise."
   ]
  },
  {
   "cell_type": "code",
   "execution_count": 8,
   "metadata": {},
   "outputs": [],
   "source": [
    "# # Count the number of stores of each type\n",
    "# store_counts = store_types['type'].value_counts()\n",
    "# print(store_counts)\n",
    "\n",
    "# # Get the proportion of stores of each type\n",
    "# store_props = store_counts / store_counts.sum()\n",
    "# print(store_props)\n",
    "\n",
    "# # Count the number of each department number and sort\n",
    "# dept_counts_sorted = store_depts[\"department\"].value_counts(sort = True)\n",
    "# print(dept_counts_sorted)\n",
    "\n",
    "# # Get the proportion of departments of each number and sort\n",
    "# dept_props_sorted = store_depts[\"department\"].value_counts(sort=True, normalize=True)\n",
    "# print(dept_props_sorted)"
   ]
  },
  {
   "cell_type": "markdown",
   "metadata": {},
   "source": [
    "# What percent of sales occurred at each store type?"
   ]
  },
  {
   "cell_type": "markdown",
   "metadata": {},
   "source": [
    "While `.groupby()` is useful, you can calculate grouped summary statistics without it."
   ]
  },
  {
   "cell_type": "code",
   "execution_count": 9,
   "metadata": {},
   "outputs": [],
   "source": [
    "# # Calc total weekly sales\n",
    "# sales_all = sales[\"weekly_sales\"].sum()\n",
    "\n",
    "# # Subset for type A stores, calc total weekly sales\n",
    "# sales_A = sales[sales[\"type\"] == \"A\"][\"weekly_sales\"].sum()\n",
    "\n",
    "# # Subset for type B stores, calc total weekly sales\n",
    "# sales_B = sales[sales[\"type\"] == \"B\"][\"weekly_sales\"].sum()\n",
    "\n",
    "# # Subset for type C stores, calc total weekly sales\n",
    "# sales_C = sales[sales[\"type\"] == \"C\"][\"weekly_sales\"].sum()\n",
    "\n",
    "# # Get proportion for each type\n",
    "# sales_propn_by_type = [sales_A, sales_B, sales_C] / sales_all\n",
    "# print(sales_propn_by_type)"
   ]
  },
  {
   "cell_type": "markdown",
   "metadata": {},
   "source": [
    "# Calculations with .groupby()"
   ]
  },
  {
   "cell_type": "markdown",
   "metadata": {},
   "source": [
    "The `.groupby()` method makes these tasks much easier"
   ]
  },
  {
   "cell_type": "code",
   "execution_count": 10,
   "metadata": {},
   "outputs": [],
   "source": [
    "# # Group by type; calc total weekly sales\n",
    "# sales_by_type = sales.groupby(\"type\")[\"weekly_sales\"].sum()\n",
    "\n",
    "# # Get proportion for each type\n",
    "# sales_propn_by_type = sales_by_type / sum(sales[\"weekly_sales\"])\n",
    "# print(sales_propn_by_type)"
   ]
  },
  {
   "cell_type": "code",
   "execution_count": 11,
   "metadata": {},
   "outputs": [],
   "source": [
    "# # From previous step\n",
    "# sales_by_type = sales.groupby(\"type\")[\"weekly_sales\"].sum()\n",
    "\n",
    "# # Group by type and is_holiday; calc total weekly sales\n",
    "# sales_by_type_is_holiday = sales.groupby([\"type\",\"is_holiday\"])[\"weekly_sales\"].sum()\n",
    "# print(sales_by_type_is_holiday)"
   ]
  },
  {
   "cell_type": "markdown",
   "metadata": {},
   "source": [
    "# Multiple grouped summaries"
   ]
  },
  {
   "cell_type": "markdown",
   "metadata": {},
   "source": [
    "`.agg()` method is useful to compute multiple statistics on multiple variables. It also works with grouped data."
   ]
  },
  {
   "cell_type": "code",
   "execution_count": 12,
   "metadata": {},
   "outputs": [],
   "source": [
    "# # Import numpy with the alias np\n",
    "# import numpy as np\n",
    "\n",
    "# # For each store type, aggregate weekly_sales: get min, max, mean, and median\n",
    "# sales_stats = sales.groupby(\"type\")[\"weekly_sales\"].agg([np.min, np.max, np.mean, np.median])\n",
    "\n",
    "# # Print sales_stats\n",
    "# print(sales_stats)\n",
    "\n",
    "# # For each store type, aggregate unemployment and fuel_price_usd_per_l: get min, max, mean, and median\n",
    "# unemp_fuel_stats = sales.groupby(\"type\")[\"unemployment\",\"fuel_price_usd_per_l\"].agg([np.min, np.max, np.mean, np.median])\n",
    "\n",
    "# # Print unemp_fuel_stats\n",
    "# print(unemp_fuel_stats)"
   ]
  },
  {
   "cell_type": "markdown",
   "metadata": {},
   "source": [
    "# Pivoting on one variable"
   ]
  },
  {
   "cell_type": "markdown",
   "metadata": {},
   "source": [
    "Pivot tables are the standard way of aggregating data in spreadsheets. In pandas, pivot tables are essentially just another way of performing grouped calculations. That is, the `.pivot_table() `method is just an alternative to `.groupby()`."
   ]
  },
  {
   "cell_type": "code",
   "execution_count": 13,
   "metadata": {},
   "outputs": [],
   "source": [
    "# # Pivot for mean weekly_sales for each store type\n",
    "# mean_sales_by_type = sales.pivot_table(index= \"type\", values = \"weekly_sales\")\n",
    "\n",
    "# # Print mean_sales_by_type\n",
    "# print(mean_sales_by_type)"
   ]
  },
  {
   "cell_type": "code",
   "execution_count": 14,
   "metadata": {},
   "outputs": [],
   "source": [
    "# # Import NumPy as np\n",
    "# import numpy as np\n",
    "\n",
    "# # Pivot for mean and median weekly_sales for each store type\n",
    "# mean_med_sales_by_type = sales.pivot_table(index= \"type\", values = \"weekly_sales\", aggfunc=[np.mean,np.median])\n",
    "\n",
    "# # Print mean_med_sales_by_type\n",
    "# print(mean_med_sales_by_type)"
   ]
  },
  {
   "cell_type": "code",
   "execution_count": 15,
   "metadata": {},
   "outputs": [],
   "source": [
    "# # Pivot for mean weekly_sales by store type and holiday \n",
    "# mean_sales_by_type_holiday = sales.pivot_table(index= \"type\", values = \"weekly_sales\",columns=\"is_holiday\" , aggfunc='mean')\n",
    "\n",
    "# # Print mean_sales_by_type_holiday\n",
    "# print(mean_sales_by_type_holiday)"
   ]
  },
  {
   "cell_type": "markdown",
   "metadata": {},
   "source": [
    "# Fill in missing values and sum values with pivot tables"
   ]
  },
  {
   "cell_type": "markdown",
   "metadata": {},
   "source": [
    "The `.pivot_table()` method has several useful arguments, including `fill_value` and `margins`:\n",
    "\n",
    "- `fill_value` replaces missing values with a real value (known as imputation). What to replace missing values with is a topic big enough to have its own course (Dealing with Missing Data in Python), but the simplest thing to do is to substitute a dummy value.\n",
    "- `margins` is a shortcut for when you pivoted by two variables, but also wanted to pivot by each of those variables separately: it gives the row and column totals of the pivot table contents."
   ]
  },
  {
   "cell_type": "code",
   "execution_count": 16,
   "metadata": {},
   "outputs": [],
   "source": [
    "# # Print mean weekly_sales by department and type; fill missing values with 0\n",
    "# print(sales.pivot_table(index= \"type\", values = \"weekly_sales\",columns=\"department\",fill_value=0 , aggfunc='mean'))"
   ]
  },
  {
   "cell_type": "code",
   "execution_count": 17,
   "metadata": {},
   "outputs": [],
   "source": [
    "# # Print the mean weekly_sales by department and type; fill missing values with 0s; sum all rows and cols\n",
    "# print(sales.pivot_table(values=\"weekly_sales\", index=\"department\", columns=\"type\", fill_value=0 , aggfunc='sum', margins=True))"
   ]
  }
 ],
 "metadata": {
  "kernelspec": {
   "display_name": "Python 3.8.3 ('base')",
   "language": "python",
   "name": "python3"
  },
  "language_info": {
   "codemirror_mode": {
    "name": "ipython",
    "version": 3
   },
   "file_extension": ".py",
   "mimetype": "text/x-python",
   "name": "python",
   "nbconvert_exporter": "python",
   "pygments_lexer": "ipython3",
   "version": "3.8.3"
  },
  "orig_nbformat": 4,
  "vscode": {
   "interpreter": {
    "hash": "dc575bfddb5c8ca4bb6a4f4dcdd32abc104b5fa4177361381c432fff36ce3e46"
   }
  }
 },
 "nbformat": 4,
 "nbformat_minor": 2
}

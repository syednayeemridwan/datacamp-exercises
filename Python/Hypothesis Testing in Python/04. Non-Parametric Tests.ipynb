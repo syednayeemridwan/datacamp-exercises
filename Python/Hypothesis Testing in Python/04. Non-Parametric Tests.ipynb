{
 "cells": [
  {
   "attachments": {},
   "cell_type": "markdown",
   "metadata": {},
   "source": [
    "# Common assumptions of hypothesis tests"
   ]
  },
  {
   "attachments": {},
   "cell_type": "markdown",
   "metadata": {},
   "source": [
    "Hypothesis tests make assumptions about the dataset that they are testing, and the conclusions you draw from the test results are only valid if those assumptions hold. While some assumptions differ between types of test, others are common to all hypothesis tests.\n",
    "\n",
    "Which of the following statements is a common assumption of hypothesis tests?"
   ]
  },
  {
   "attachments": {},
   "cell_type": "markdown",
   "metadata": {},
   "source": [
    "- Sample observations have no direct relationship with each other."
   ]
  },
  {
   "attachments": {},
   "cell_type": "markdown",
   "metadata": {},
   "source": [
    "# Testing sample size"
   ]
  },
  {
   "attachments": {},
   "cell_type": "markdown",
   "metadata": {},
   "source": [
    "In order to conduct a hypothesis test and be sure that the result is fair, a sample must meet three requirements: it is a random sample of the population, the observations are independent, and there are enough observations. Of these, only the last condition is easily testable with code.\n",
    "\n",
    "The minimum sample size depends on the type of hypothesis tests you want to perform. You'll now test some scenarios on the `late_shipments` dataset.\n",
    "\n",
    "Note that the `.all()` method from pandas can be used to check if all elements are true. For example, given a DataFrame df with numeric entries, you check to see if all its elements are less than 5, using `(df < 5).all().`\n",
    "\n",
    "`late_shipments` is available, and pandas is loaded as pd."
   ]
  },
  {
   "cell_type": "code",
   "execution_count": null,
   "metadata": {},
   "outputs": [],
   "source": [
    "# # Count the freight_cost_group values\n",
    "# counts = late_shipments[\"freight_cost_group\"].value_counts()\n",
    "\n",
    "# # Print the result\n",
    "# print(counts)\n",
    "\n",
    "# # Inspect whether the counts are big enough\n",
    "# print((counts >= 30).all())"
   ]
  },
  {
   "cell_type": "code",
   "execution_count": 1,
   "metadata": {},
   "outputs": [],
   "source": [
    "# # Count the late values\n",
    "# counts = late_shipments[\"late\"].value_counts()\n",
    "\n",
    "# # Print the result\n",
    "# print(counts)\n",
    "\n",
    "# # Inspect whether the counts are big enough\n",
    "# print((counts >= 10).all())"
   ]
  },
  {
   "cell_type": "code",
   "execution_count": 2,
   "metadata": {},
   "outputs": [],
   "source": [
    "# # Count the values of freight_cost_group grouped by vendor_inco_term\n",
    "# counts = late_shipments.groupby(\"vendor_inco_term\")[\"freight_cost_group\"].value_counts()\n",
    "\n",
    "# # Print the result\n",
    "# print(counts)\n",
    "\n",
    "# # Inspect whether the counts are big enough\n",
    "# print((counts >= 5).all())"
   ]
  },
  {
   "cell_type": "code",
   "execution_count": 3,
   "metadata": {},
   "outputs": [],
   "source": [
    "# # Count the shipment_mode values\n",
    "# counts = late_shipments[\"shipment_mode\"].value_counts()\n",
    "\n",
    "# # Print the result\n",
    "# print(counts)\n",
    "\n",
    "# # Inspect whether the counts are big enough\n",
    "# print((counts >= 30).all())"
   ]
  },
  {
   "attachments": {},
   "cell_type": "markdown",
   "metadata": {},
   "source": [
    "# Which parametric test?"
   ]
  },
  {
   "attachments": {},
   "cell_type": "markdown",
   "metadata": {},
   "source": [
    "Which test is a parametric equivalent to the Wilcoxon signed-rank test?\n",
    "- The Wilcoxon signed-rank test works well when the assumptions of a paired t-test aren't met."
   ]
  },
  {
   "attachments": {},
   "cell_type": "markdown",
   "metadata": {},
   "source": [
    "# Wilcoxon signed-rank test"
   ]
  },
  {
   "attachments": {},
   "cell_type": "markdown",
   "metadata": {},
   "source": [
    "You'll explore the difference between the proportion of county-level votes for the Democratic candidate in 2012 and 2016 to identify if the difference is significant.\n",
    "\n",
    "`sample_dem_data` is available, and has columns `dem_percent_12` and `dem_percent_16` in addition to state and county names. The following packages have also been loaded: `pingouin` and `pandas` as pd."
   ]
  },
  {
   "cell_type": "code",
   "execution_count": 4,
   "metadata": {},
   "outputs": [],
   "source": [
    "# # Conduct a paired t-test on dem_percent_12 and dem_percent_16\n",
    "# paired_test_results = pingouin.ttest(sample_dem_data[\"dem_percent_12\"], sample_dem_data[\"dem_percent_16\"], paired=False)\n",
    "\n",
    "# # Print paired t-test results\n",
    "# print(paired_test_results)"
   ]
  },
  {
   "cell_type": "code",
   "execution_count": 5,
   "metadata": {},
   "outputs": [],
   "source": [
    "# # Conduct a Wilcoxon test on dem_percent_12 and dem_percent_16\n",
    "# wilcoxon_test_results = pingouin.wilcoxon(x=sample_dem_data['dem_percent_12'],\n",
    "#                   y=sample_dem_data['dem_percent_16'],\n",
    "#                   alternative=\"greater\")\n",
    "\n",
    "# # Print Wilcoxon test results\n",
    "# print(wilcoxon_test_results)"
   ]
  },
  {
   "attachments": {},
   "cell_type": "markdown",
   "metadata": {},
   "source": [
    "# Wilcoxon-Mann-Whitney"
   ]
  },
  {
   "attachments": {},
   "cell_type": "markdown",
   "metadata": {},
   "source": [
    "Another class of non-parametric hypothesis tests are called rank sum tests. Ranks are the positions of numeric values from smallest to largest. Think of them as positions in running events: whoever has the fastest (smallest) time is rank 1, second fastest is rank 2, and so on.\n",
    "\n",
    "By calculating on the ranks of data instead of the actual values, you can avoid making assumptions about the distribution of the test statistic. It's more robust in the same way that a median is more robust than a mean.\n",
    "\n",
    "One common rank-based test is the Wilcoxon-Mann-Whitney test, which is like a non-parametric t-test.\n",
    "\n",
    "`late_shipments` is available, and the following packages have been loaded: `pingouin` and pandas as pd."
   ]
  },
  {
   "cell_type": "code",
   "execution_count": 6,
   "metadata": {},
   "outputs": [],
   "source": [
    "# # Select the weight_kilograms and late columns\n",
    "# weight_vs_late = late_shipments[[\"weight_kilograms\" , \"late\"]]\n",
    "\n",
    "# # Convert weight_vs_late into wide format\n",
    "# weight_vs_late_wide = weight_vs_late.pivot(columns=\"late\", \n",
    "#                                            values=\"weight_kilograms\")\n",
    "\n",
    "\n",
    "# # Run a two-sided Wilcoxon-Mann-Whitney test on weight_kilograms vs. late\n",
    "# wmw_test = pingouin.mwu(x=weight_vs_late_wide['No'],\n",
    "#              y=weight_vs_late_wide['Yes'],\n",
    "#              alternative=\"two-sided\")\n",
    "\n",
    "\n",
    "\n",
    "# # Print the test results\n",
    "# print(wmw_test)"
   ]
  },
  {
   "attachments": {},
   "cell_type": "markdown",
   "metadata": {},
   "source": [
    "# Kruskal-Wallis"
   ]
  },
  {
   "attachments": {},
   "cell_type": "markdown",
   "metadata": {},
   "source": [
    "Recall that the Kruskal-Wallis test is a non-parametric version of an ANOVA test, comparing the means across multiple groups.\n",
    "\n",
    "late_shipments is available, and the following packages have been loaded: pingouin and pandas as pd."
   ]
  },
  {
   "cell_type": "code",
   "execution_count": 7,
   "metadata": {},
   "outputs": [],
   "source": [
    "# # Run a Kruskal-Wallis test on weight_kilograms vs. shipment_mode\n",
    "# kw_test = pingouin.kruskal(data=late_shipments,\n",
    "#                  dv='weight_kilograms',\n",
    "#                  between='shipment_mode')\n",
    "\n",
    "\n",
    "\n",
    "# # Print the results\n",
    "# print(kw_test)"
   ]
  }
 ],
 "metadata": {
  "kernelspec": {
   "display_name": "env_py",
   "language": "python",
   "name": "python3"
  },
  "language_info": {
   "codemirror_mode": {
    "name": "ipython",
    "version": 3
   },
   "file_extension": ".py",
   "mimetype": "text/x-python",
   "name": "python",
   "nbconvert_exporter": "python",
   "pygments_lexer": "ipython3",
   "version": "3.8.11"
  },
  "orig_nbformat": 4,
  "vscode": {
   "interpreter": {
    "hash": "1e949e87132dd83f1a7623eb88007e3532b03b66b77111be347aa4a383049722"
   }
  }
 },
 "nbformat": 4,
 "nbformat_minor": 2
}

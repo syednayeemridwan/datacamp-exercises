{
 "cells": [
  {
   "attachments": {},
   "cell_type": "markdown",
   "metadata": {},
   "source": [
    "# Hypothesis testing workflow"
   ]
  },
  {
   "attachments": {},
   "cell_type": "markdown",
   "metadata": {},
   "source": [
    "You've seen the hypothesis testing workflow for the one sample case where you compared a sample mean to a hypothesized value, and the two sample case where you compared two sample means. In both cases, the workflow shares common steps."
   ]
  },
  {
   "attachments": {},
   "cell_type": "markdown",
   "metadata": {},
   "source": [
    "<center><img src=\"images/02.02.jpg\"  style=\"width: 400px, height: 300px;\"/></center>"
   ]
  },
  {
   "attachments": {},
   "cell_type": "markdown",
   "metadata": {},
   "source": [
    "# Two sample mean test statistic"
   ]
  },
  {
   "attachments": {},
   "cell_type": "markdown",
   "metadata": {},
   "source": [
    "The hypothesis test for determining if there is a difference between the means of two populations uses a different type of test statistic to the z-scores you saw in Chapter 1. It's called \"t\", and it can be calculated from three values from each sample using this equation.\n",
    "<center><img src=\"images/02.03.jpg\"  style=\"width: 400px, height: 300px;\"/></center>\n",
    "While trying to determine why some shipments are late, you may wonder if the weight of the shipments that were on time is less than the weight of the shipments that were late. The late_shipments dataset has been split into a \"yes\" group, where late == \"Yes\" and a \"no\" group where late == \"No\". The weight of the shipment is given in the weight_kilograms variable.\n",
    "\n",
    "The sample means for the two groups are available as xbar_no and xbar_yes. The sample standard deviations are s_no and s_yes. The sample sizes are n_no and n_yes. numpy is also loaded as np."
   ]
  },
  {
   "cell_type": "code",
   "execution_count": 1,
   "metadata": {},
   "outputs": [],
   "source": [
    "# # Calculate the numerator of the test statistic\n",
    "# numerator = xbar_yes - xbar_no\n",
    "# n_yes = len(late_shipments[late_shipments[\"late\"] == \"Yes\"])\n",
    "# n_no = len(late_shipments[late_shipments[\"late\"] == \"No\"])\n",
    "# # Calculate the denominator of the test statistic\n",
    "# denominator = np.sqrt(s_yes**2 /n_yes + s_no**2 /n_no )\n",
    "\n",
    "# # Calculate the test statistic\n",
    "# t_stat = numerator / denominator\n",
    "\n",
    "# # Print the test statistic\n",
    "# print(t_stat)"
   ]
  },
  {
   "attachments": {},
   "cell_type": "markdown",
   "metadata": {},
   "source": [
    "# Why is t needed?"
   ]
  },
  {
   "attachments": {},
   "cell_type": "markdown",
   "metadata": {},
   "source": [
    "The process for calculating p-values is to start with the sample statistic, standardize it to get a test statistic, then transform it via a cumulative distribution function. In Chapter 1, that final transformation was denoted , and the CDF transformation used the (standard normal) z-distribution. In the last video, the test statistic was denoted , and the transformation used the t-distribution.\n",
    "\n",
    "In which hypothesis testing scenario is a t-distribution needed instead of the z-distribution?"
   ]
  },
  {
   "attachments": {},
   "cell_type": "markdown",
   "metadata": {},
   "source": [
    "- When a sample standard deviation is used in estimating a standard error."
   ]
  },
  {
   "attachments": {},
   "cell_type": "markdown",
   "metadata": {},
   "source": [
    "# The t-distribution"
   ]
  },
  {
   "attachments": {},
   "cell_type": "markdown",
   "metadata": {},
   "source": [
    "The t-distribution is used to calculate the p-value from the  test statistic, and having a sense of how the PDF and CDF look can help you understand this calculation. It has two parameters: the degrees of freedom, and the non-centrality parameter.\n",
    "\n",
    "The plots show the PDF and CDF for a t-distribution (solid black line), and for comparison show a standard normal distribution with mean 0 and variance 1 (gray dotted line).\n",
    "\n",
    "Which statement about the the t-distribution is true?"
   ]
  },
  {
   "attachments": {},
   "cell_type": "markdown",
   "metadata": {},
   "source": [
    "<center><img src=\"images/02.061.jpg\"  style=\"width: 400px, height: 300px;\"/></center>\n",
    "<center><img src=\"images/02.062.jpg\"  style=\"width: 400px, height: 300px;\"/></center>\n",
    "<center><img src=\"images/02.063.jpg\"  style=\"width: 400px, height: 300px;\"/></center>"
   ]
  },
  {
   "attachments": {},
   "cell_type": "markdown",
   "metadata": {},
   "source": [
    "- As you increase the degrees of freedom, the t-distribution PDF and CDF curves get closer to those of a normal distribution."
   ]
  },
  {
   "attachments": {},
   "cell_type": "markdown",
   "metadata": {},
   "source": [
    "# From t to p"
   ]
  },
  {
   "attachments": {},
   "cell_type": "markdown",
   "metadata": {},
   "source": [
    "Previously, you calculated the test statistic for the two-sample problem of whether the mean weight of shipments is smaller for shipments that weren't late (`late == \"No\"`) compared to shipments that were late (`late == \"Yes\"`). In order to make decisions about it, you need to transform the test statistic with a cumulative distribution function to get a p-value.\n",
    "\n",
    "Recall the hypotheses:\n",
    "\n",
    "H0: The mean weight of shipments that weren't late is the same as the mean weight of shipments that were late.\n",
    "\n",
    "HA: The mean weight of shipments that weren't late is less than the mean weight of shipments that were late.\n",
    "\n",
    "The test statistic, `t_stat`, is available, as are the samples sizes for each group, `n_no` and `n_yes`. Use a significance level of `alpha = 0.05`.\n",
    "\n",
    "t has also been imported from `scipy.stats`."
   ]
  },
  {
   "attachments": {},
   "cell_type": "markdown",
   "metadata": {},
   "source": [
    "What type of test does the alternative hypothesis indicate that we need?\n",
    "- Left-tailed"
   ]
  },
  {
   "cell_type": "code",
   "execution_count": null,
   "metadata": {},
   "outputs": [],
   "source": [
    "# # Calculate the degrees of freedom\n",
    "# degrees_of_freedom = n_no + n_yes -2\n",
    "\n",
    "# # Calculate the p-value from the test stat\n",
    "# p_value = t.sf(abs(t_stat), df=degrees_of_freedom)\n",
    "\n",
    "# # Print the p_value\n",
    "# print(p_value)"
   ]
  },
  {
   "cell_type": "code",
   "execution_count": 1,
   "metadata": {},
   "outputs": [],
   "source": [
    "# # Calculate the degrees of freedom\n",
    "# degrees_of_freedom = n_no + n_yes -2\n",
    "\n",
    "# # Calculate the p-value from the test stat\n",
    "# p_value = t.cdf(t_stat, df=degrees_of_freedom)\n",
    "\n",
    "# # Print the p_value\n",
    "# print(p_value)"
   ]
  },
  {
   "attachments": {},
   "cell_type": "markdown",
   "metadata": {},
   "source": [
    "What decision should you make based on the results of the hypothesis test?\n",
    "- Reject the null hypothesis."
   ]
  },
  {
   "attachments": {},
   "cell_type": "markdown",
   "metadata": {},
   "source": [
    "# Is pairing needed?"
   ]
  },
  {
   "attachments": {},
   "cell_type": "markdown",
   "metadata": {},
   "source": [
    "t-tests are used to compare two sample means. However, the test involves different calculations depending upon whether the two samples are paired or not. To make sure you use the correct version of the t-test, you need to be able to identify pairing."
   ]
  },
  {
   "attachments": {},
   "cell_type": "markdown",
   "metadata": {},
   "source": [
    "<center><img src=\"images/02.09.jpg\"  style=\"width: 400px, height: 300px;\"/></center>\n"
   ]
  },
  {
   "attachments": {},
   "cell_type": "markdown",
   "metadata": {},
   "source": [
    "# Visualizing the difference"
   ]
  },
  {
   "attachments": {},
   "cell_type": "markdown",
   "metadata": {},
   "source": [
    "Before you start running hypothesis tests, it's a great idea to perform some exploratory data analysis; that is, calculating summary statistics and visualizing distributions.\n",
    "\n",
    "Here, you'll look at the proportion of county-level votes for the Democratic candidate in 2012 and 2016, `sample_dem_data`. Since the counties are the same in both years, these samples are paired. The columns containing the samples are `dem_percent_12` and `dem_percent_16`.\n",
    "\n",
    "`dem_votes_potus_12_16` is available as `sample_dem_data`. `pandas` and `matplotlib.pyplot` are loaded with their usual aliases."
   ]
  },
  {
   "cell_type": "code",
   "execution_count": 2,
   "metadata": {},
   "outputs": [],
   "source": [
    "# # Calculate the differences from 2012 to 2016\n",
    "# sample_dem_data['diff'] = sample_dem_data['dem_percent_12'] - sample_dem_data['dem_percent_16']\n",
    "\n",
    "# # Find the mean of the diff column\n",
    "# xbar_diff = sample_dem_data['diff'].mean()\n",
    "\n",
    "# # Find the standard deviation of the diff column\n",
    "# s_diff = sample_dem_data['diff'].std()\n",
    "\n",
    "# # Plot a histogram of diff with 20 bins\n",
    "# sample_dem_data['diff'].hist( bins = 20)\n",
    "# plt.show()"
   ]
  },
  {
   "attachments": {},
   "cell_type": "markdown",
   "metadata": {},
   "source": [
    "# Using ttest()"
   ]
  },
  {
   "attachments": {},
   "cell_type": "markdown",
   "metadata": {},
   "source": [
    "Manually calculating test statistics and transforming them with a CDF to get a p-value is a lot of effort to compare two sample means. The comparison of two sample means is called a t-test, and the `pingouin` Python package has a `.ttest()` method to accomplish it. This method provides some flexibility in how you perform the test.\n",
    "\n",
    "As in the previous exercise, you'll explore the difference between the proportion of county-level votes for the Democratic candidate in 2012 and 2016 to identify if the difference is significant. The hypotheses are as follows:\n",
    "\n",
    "H0: The proportion of democratic votes in 2012 and 2016 were the same. \n",
    "\n",
    "H1: The proportion of democratic votes in 2012 and 2016 were different.\n",
    "\n",
    "`sample_dem_data` is available and has the columns `diff`, `dem_percent_12`, and `dem_percent_16` in addition to the state and county names. pingouin and has been loaded along with `pandas` as `pd`."
   ]
  },
  {
   "cell_type": "code",
   "execution_count": 3,
   "metadata": {},
   "outputs": [],
   "source": [
    "# # Conduct a t-test on diff\n",
    "# test_results = pingouin.ttest(x=sample_dem_data['diff'],\n",
    "#                y=0,\n",
    "#                paired=False,\n",
    "#                alternative=\"two-sided\")\n",
    "\n",
    "# # Print the test results\n",
    "# print(test_results)"
   ]
  },
  {
   "attachments": {},
   "cell_type": "markdown",
   "metadata": {},
   "source": [
    "What's the correct decision from the t-test, assuming alpha = 0.01?\n",
    "- Reject the null hypothesis."
   ]
  },
  {
   "cell_type": "code",
   "execution_count": 4,
   "metadata": {},
   "outputs": [],
   "source": [
    "# # Conduct a t-test on diff\n",
    "# test_results = pingouin.ttest(x=sample_dem_data['diff'], \n",
    "#                               y=0, \n",
    "#                               alternative=\"two-sided\")\n",
    "\n",
    "# # Conduct a paired t-test on dem_percent_12 and dem_percent_16\n",
    "# paired_test_results = pingouin.ttest(x=sample_dem_data['dem_percent_12'], \n",
    "#                               y=sample_dem_data['dem_percent_16'],\n",
    "#                               paired = True, \n",
    "#                               alternative=\"two-sided\")\n",
    "\n",
    "# # Print the paired test results\n",
    "# print(paired_test_results)"
   ]
  },
  {
   "attachments": {},
   "cell_type": "markdown",
   "metadata": {},
   "source": [
    "Compare the paired t-test to an (inappropriate) unpaired test on the same data. How does the p-value change?\n"
   ]
  },
  {
   "cell_type": "code",
   "execution_count": 5,
   "metadata": {},
   "outputs": [],
   "source": [
    "\n",
    "# pingouin.ttest(x=sample_dem_data['dem_percent_12'], \n",
    "#                y=sample_dem_data['dem_percent_16'], \n",
    "#                alternative=\"two-sided\")"
   ]
  },
  {
   "attachments": {},
   "cell_type": "markdown",
   "metadata": {},
   "source": [
    "- The p-value from the unpaired test is greater than than the p-value from the paired test."
   ]
  },
  {
   "attachments": {},
   "cell_type": "markdown",
   "metadata": {},
   "source": [
    "# Visualizing many categories"
   ]
  },
  {
   "attachments": {},
   "cell_type": "markdown",
   "metadata": {},
   "source": [
    "So far in this chapter, we've only considered the case of differences in a numeric variable between two categories. Of course, many datasets contain more categories. Before you get to conducting tests on many categories, it's often helpful to perform exploratory data analysis (EDA), calculating summary statistics for each group and visualizing the distributions of the numeric variable for each category using box plots.\n",
    "\n",
    "Here, we'll return to the late shipments data, and how the price of each package (`pack_price`) varies between the three shipment modes (`shipment_mode`): `\"Air\"`, `\"Air Charter\"`, and `\"Ocean\"`.\n",
    "`late_shipments` is available"
   ]
  },
  {
   "cell_type": "code",
   "execution_count": 6,
   "metadata": {},
   "outputs": [],
   "source": [
    "# # Calculate the mean pack_price for each shipment_mode\n",
    "# xbar_pack_by_mode = late_shipments.groupby(\"shipment_mode\")['pack_price'].mean()\n",
    "\n",
    "# # Calculate the standard deviation of the pack_price for each shipment_mode\n",
    "# s_pack_by_mode = late_shipments.groupby(\"shipment_mode\")['pack_price'].std()\n",
    "\n",
    "# # Boxplot of shipment_mode vs. pack_price\n",
    "# sns.boxplot( data = late_shipments,\n",
    "#             y = \"shipment_mode\",\n",
    "#             x = \"pack_price\")\n",
    "# plt.show()"
   ]
  },
  {
   "attachments": {},
   "cell_type": "markdown",
   "metadata": {},
   "source": [
    "# Conducting an ANOVA test"
   ]
  },
  {
   "attachments": {},
   "cell_type": "markdown",
   "metadata": {},
   "source": [
    "The box plots made it look like the distribution of pack price was different for each of the three shipment modes. However, it didn't tell us whether the mean pack price was different in each category. To determine that, we can use an ANOVA test. The null and alternative hypotheses can be written as follows.\n",
    "\n",
    "H0: Pack prices for every category of shipment mode are the same.\n",
    "\n",
    "HA: Pack prices for some categories of shipment mode are different.\n",
    "\n",
    "Use a significance level of 0.1.\n",
    "\n",
    "`late_shipments` is available and `pingouin` has been loaded."
   ]
  },
  {
   "cell_type": "code",
   "execution_count": 7,
   "metadata": {},
   "outputs": [],
   "source": [
    "# # Run an ANOVA for pack_price across shipment_mode\n",
    "# anova_results = pingouin.anova(data=late_shipments,\n",
    "#                dv=\"pack_price\",\n",
    "#                between=\"shipment_mode\")\n",
    "\n",
    "# # Print anova_results\n",
    "# print(anova_results)"
   ]
  },
  {
   "attachments": {},
   "cell_type": "markdown",
   "metadata": {},
   "source": [
    "Assuming a significance level of 0.1, should you reject the null hypothesis that there is no difference in pack prices between shipment modes?\n",
    "- Yes. The p-value is less than or equal to the significance level, so the null hypothesis should be rejected."
   ]
  },
  {
   "attachments": {},
   "cell_type": "markdown",
   "metadata": {},
   "source": [
    "# Pairwise t-tests"
   ]
  },
  {
   "attachments": {},
   "cell_type": "markdown",
   "metadata": {},
   "source": [
    "The ANOVA test didn't tell you which categories of shipment mode had significant differences in pack prices. To pinpoint which categories had differences, you could instead use pairwise t-tests.\n",
    "\n",
    "`late_shipments` is available and `pingouin` has been loaded."
   ]
  },
  {
   "cell_type": "code",
   "execution_count": 8,
   "metadata": {},
   "outputs": [],
   "source": [
    "# # Perform a pairwise t-test on pack price, grouped by shipment mode\n",
    "# pairwise_results = pingouin.pairwise_tests(data=late_shipments,\n",
    "#                         dv=\"pack_price\",\n",
    "#                         between=\"shipment_mode\",\n",
    "#                         padjust=\"none\")  \n",
    "\n",
    "# # Print pairwise_results\n",
    "# print(pairwise_results)"
   ]
  },
  {
   "cell_type": "code",
   "execution_count": 9,
   "metadata": {},
   "outputs": [],
   "source": [
    "# # Modify the pairwise t-tests to use Bonferroni p-value adjustment\n",
    "# pairwise_results = pingouin.pairwise_tests(data=late_shipments, \n",
    "#                                            dv=\"pack_price\",\n",
    "#                                            between=\"shipment_mode\",\n",
    "#                                            padjust=\"bonf\")\n",
    "\n",
    "# # Print pairwise_results\n",
    "# print(pairwise_results)"
   ]
  },
  {
   "attachments": {},
   "cell_type": "markdown",
   "metadata": {},
   "source": [
    "Using the Bonferroni correction results and assuming a significance level of 0.1, for which pairs of shipment modes should you reject the null hypothesis that the pack prices are equal?\n",
    "- \"Ocean\" and \"Air Charter\"; \"Ocean\" and \"Air\"; \"Air Charter\" and \"Air\"."
   ]
  }
 ],
 "metadata": {
  "kernelspec": {
   "display_name": "env_py",
   "language": "python",
   "name": "python3"
  },
  "language_info": {
   "codemirror_mode": {
    "name": "ipython",
    "version": 3
   },
   "file_extension": ".py",
   "mimetype": "text/x-python",
   "name": "python",
   "nbconvert_exporter": "python",
   "pygments_lexer": "ipython3",
   "version": "3.8.11"
  },
  "orig_nbformat": 4,
  "vscode": {
   "interpreter": {
    "hash": "1e949e87132dd83f1a7623eb88007e3532b03b66b77111be347aa4a383049722"
   }
  }
 },
 "nbformat": 4,
 "nbformat_minor": 2
}

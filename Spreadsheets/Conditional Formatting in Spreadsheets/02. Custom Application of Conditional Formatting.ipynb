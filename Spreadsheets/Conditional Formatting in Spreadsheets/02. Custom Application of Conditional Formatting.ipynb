{
 "cells": [
  {
   "cell_type": "markdown",
   "metadata": {},
   "source": [
    "# Amount variance"
   ]
  },
  {
   "cell_type": "markdown",
   "metadata": {},
   "source": [
    "Eddy's Dog Hotel is planning to expand their operations so the bank wants the hotel to get an audit.\n",
    "\n",
    "Eddy has asked you to perform an audit of the hotel's financial statements. As part of your planning process, you want to look for accounts that increased more than $1,000 since the prior year."
   ]
  },
  {
   "cell_type": "markdown",
   "metadata": {},
   "source": [
    "- See 02.02"
   ]
  },
  {
   "cell_type": "markdown",
   "metadata": {},
   "source": [
    "# Percentage variance"
   ]
  },
  {
   "cell_type": "markdown",
   "metadata": {},
   "source": [
    "Variances by amount only tell part of the story. If an account balance is large, a dollar amount variance may not mean that the balance change was meaningful.\n",
    "\n",
    "A more complete analysis would narrow down the account balances by only looking at those that varied more than a specified dollar amount and more than a certain percentage.\n",
    "\n",
    "Soon, we will be getting into formulas that can look at more than one condition at a time, but for now, we are using a simple formula to learn how they are applied"
   ]
  },
  {
   "cell_type": "markdown",
   "metadata": {},
   "source": [
    "- See 02.03"
   ]
  },
  {
   "cell_type": "markdown",
   "metadata": {},
   "source": [
    "# Positive and negative"
   ]
  },
  {
   "cell_type": "markdown",
   "metadata": {},
   "source": [
    "You may have gone through the last set of exercises wondering why we were ignoring the negative variances.\n",
    "\n",
    "Well, let's take a look at them while also highlighting the positive variances.\n",
    "\n",
    "Using the OR function, let's update the dollar variance formatting to also catch variances under -$1,000.\n",
    "\n",
    "Then, update the percentage variance highlighting to also highlight variances under -10% on this same sheet."
   ]
  },
  {
   "cell_type": "markdown",
   "metadata": {},
   "source": [
    "- See 02.05"
   ]
  },
  {
   "cell_type": "markdown",
   "metadata": {},
   "source": [
    "# Both amount and variance"
   ]
  },
  {
   "cell_type": "markdown",
   "metadata": {},
   "source": [
    "Now let's highlight the percentage variance only if it is over 10% and the associated dollar variance is over $1,000.\n",
    "\n",
    "We will not add in the negative variances so that we can focus on the structure of the AND function."
   ]
  },
  {
   "cell_type": "markdown",
   "metadata": {},
   "source": [
    "- See 02.06"
   ]
  },
  {
   "cell_type": "markdown",
   "metadata": {},
   "source": [
    "# Quality control"
   ]
  },
  {
   "cell_type": "markdown",
   "metadata": {},
   "source": [
    "You are working in the quality control department at a plastic bottle manufacturing company.\n",
    "\n",
    "Every day, you get a report of the bottles made the previous day.\n",
    "\n",
    "You have received complaints from two different customers, Tricord Packaging and Helm Plastics, about leaks in the Hose-end sprayer bottles.\n",
    "\n",
    "You need to urgently find out if any of your other customers are likely to receive faulty bottles and offer them full refunds to keep them happy."
   ]
  },
  {
   "cell_type": "markdown",
   "metadata": {},
   "source": [
    "- See 02.07"
   ]
  },
  {
   "cell_type": "markdown",
   "metadata": {},
   "source": [
    "# Quality control further analysis"
   ]
  },
  {
   "cell_type": "markdown",
   "metadata": {},
   "source": [
    "You turn in your report showing that your company needs to contact customers regarding six batches of leaking bottles.\n",
    "\n",
    "Your boss looks at the report and exlaims, \"There's no way we messed up six orders for four customers!\"\n",
    "\n",
    "You hate to admit it, but you have a feeling that your boss may be right.\n",
    "\n",
    "After taking a closer look, you notice that the cases of bottles you received complaints about were both inspected by inspector 111 and, as leak checking is performed by each inspector, you feel confident that only this inspector must have skipped that step.\n",
    "\n",
    "Note that your previous conditional formatting rule is still applied to this spreadsheet."
   ]
  },
  {
   "cell_type": "markdown",
   "metadata": {},
   "source": [
    "- See 02.08"
   ]
  },
  {
   "cell_type": "markdown",
   "metadata": {},
   "source": [
    "# Formatting an entire row"
   ]
  },
  {
   "cell_type": "markdown",
   "metadata": {},
   "source": [
    "Let's put what you just learned into action.\n",
    "\n",
    "This sales report is not unlike the others. The difference here is that this sales report contains your own sales.\n",
    "\n",
    "Of course, you want to honk your horn by highlighting the entire line whenever you had a sale, right?\n",
    "\n",
    "If you only highlighted the cells from one column, readers of this report may miss how great you are."
   ]
  },
  {
   "cell_type": "markdown",
   "metadata": {},
   "source": [
    "- See 02.10"
   ]
  },
  {
   "cell_type": "markdown",
   "metadata": {},
   "source": [
    "# Custom formula"
   ]
  },
  {
   "cell_type": "markdown",
   "metadata": {},
   "source": [
    "Let's combine what we've learned with color ranges and custom formulas.\n",
    "\n",
    "You are looking through historical sales data to see if order sizes get larger as the end of the year approaches. To this end, a conditional formatting rule that will highlight all dates after November 25, 2005 has already been implemented.\n",
    "\n",
    "Purchasing departments may have been getting ready for a long holiday break and are therefore increasing the size of their orders.\n",
    "\n",
    "You want to focus on when ornaments are sold, so use conditional formatting to change the entire line to red font for the lines that have an ornament sale. You will be changing the font color instead of the background color so the formatting can lay over the highlighting from the other rules."
   ]
  },
  {
   "cell_type": "markdown",
   "metadata": {},
   "source": [
    "- See 02.11"
   ]
  }
 ],
 "metadata": {
  "kernelspec": {
   "display_name": "Python 3.8.11 ('env_py')",
   "language": "python",
   "name": "python3"
  },
  "language_info": {
   "name": "python",
   "version": "3.8.11"
  },
  "orig_nbformat": 4,
  "vscode": {
   "interpreter": {
    "hash": "1e949e87132dd83f1a7623eb88007e3532b03b66b77111be347aa4a383049722"
   }
  }
 },
 "nbformat": 4,
 "nbformat_minor": 2
}

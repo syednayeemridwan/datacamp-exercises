{
 "cells": [
  {
   "cell_type": "markdown",
   "metadata": {},
   "source": [
    "# COUNTIF practice"
   ]
  },
  {
   "cell_type": "markdown",
   "metadata": {},
   "source": [
    "You're in charge of planning a conference and this is the starting point for your mailing list.\n",
    "\n",
    "Mailing invitations is expensive so you want to be sure there are no duplicate entries.\n",
    "\n",
    "Before we dive into the conditional formatting, we'll start off with a little practice of the COUNTIF function.\n",
    "\n",
    "After a little bit of work, you'll understand how the function works."
   ]
  },
  {
   "cell_type": "markdown",
   "metadata": {},
   "source": [
    "- See 03.02"
   ]
  },
  {
   "cell_type": "markdown",
   "metadata": {},
   "source": [
    "# Finding more duplicates"
   ]
  },
  {
   "cell_type": "markdown",
   "metadata": {},
   "source": [
    "Hmmm, wait a minute.\n",
    "\n",
    "You're not quite sure that you found all of the duplicates.\n",
    "\n",
    "Let's think of another field that may be likely to have well formed data that could be used for duplicate checking.\n",
    "\n",
    "I know you're thinking about the phone number field.\n",
    "\n",
    "You're a genius!"
   ]
  },
  {
   "cell_type": "markdown",
   "metadata": {},
   "source": [
    "- See 03.03"
   ]
  },
  {
   "cell_type": "markdown",
   "metadata": {},
   "source": [
    "# Conditionally formatting duplicates"
   ]
  },
  {
   "cell_type": "markdown",
   "metadata": {},
   "source": [
    "We are now going to apply the same logic used in the previous two exercises.\n",
    "\n",
    "However, we are now going to do it with conditional formatting.\n",
    "\n",
    "This will create a more readable report where the duplicates are easy to see.\n",
    "\n",
    "Specify fixed ranges for the formulas in this exercise.\n",
    "\n",
    "Identifying a fixed range with $'s (A$3:A$18 in this exercise's case) usually produces the same results as referring to an entire column (A:A), but fixing a range is more precise while using the entire column is more flexible."
   ]
  },
  {
   "cell_type": "markdown",
   "metadata": {},
   "source": [
    "- See 03.04"
   ]
  },
  {
   "cell_type": "markdown",
   "metadata": {},
   "source": [
    "# Cleaning it up"
   ]
  },
  {
   "cell_type": "markdown",
   "metadata": {},
   "source": [
    "You want to tidy up your list so that you can send out your invitations as efficiently as possible, right?\n",
    "\n",
    "You have identified the duplicates. Now, let's perform the satisfying task of deleting them!"
   ]
  },
  {
   "cell_type": "markdown",
   "metadata": {},
   "source": [
    "- See 03.05"
   ]
  },
  {
   "cell_type": "markdown",
   "metadata": {},
   "source": [
    "# SEARCH Function"
   ]
  },
  {
   "cell_type": "markdown",
   "metadata": {},
   "source": [
    "You are tasked with auditing legal expenses for a company.\n",
    "\n",
    "You suspect that legal expenses may be miscoded in other accounts so you decided to look through the utilities expense account.\n",
    "\n",
    "What's the best way to do this? Building a search box of course! Since you don't care about capitalization, you will use the SEARCH function instead of the FIND function. The SEARCH function uses the following format:\n",
    "\n",
    "SEARCH(search_for, text_to_search)\n",
    "\n",
    "Let's hold off on conditional formatting for now and use the regular functions in cells first."
   ]
  },
  {
   "cell_type": "markdown",
   "metadata": {},
   "source": [
    "- See 03.07"
   ]
  },
  {
   "cell_type": "markdown",
   "metadata": {},
   "source": [
    "# Highlighting search"
   ]
  },
  {
   "cell_type": "markdown",
   "metadata": {},
   "source": [
    "Now let's take that formula from the last lesson and use it as a custom formula for conditional formatting. This will bring your search to life.\n",
    "\n",
    "Recall, the SEARCH function from the last exercise returns a number greater than 1 if it finds the string it is looking for and follows the following format:\n",
    "\n",
    "`SEARCH(search_for, text_to_search)`"
   ]
  },
  {
   "cell_type": "markdown",
   "metadata": {},
   "source": [
    "- See 03.08"
   ]
  },
  {
   "cell_type": "markdown",
   "metadata": {},
   "source": [
    "# SMALL function"
   ]
  },
  {
   "cell_type": "markdown",
   "metadata": {},
   "source": [
    "You are an analyst in a textile factory that makes hand-made clothing. Of course you want the workers to be comfortable, but you also want them to work fast!\n",
    "\n",
    "In the video, you saw the LARGE function in action, so now we will use SMALL so that you'll see them both.\n",
    "\n",
    "Let's hold off on conditional formatting for now, it will be in the next exercise."
   ]
  },
  {
   "cell_type": "markdown",
   "metadata": {},
   "source": [
    "- See 03.10"
   ]
  },
  {
   "cell_type": "markdown",
   "metadata": {},
   "source": [
    "# Highlighting SMALL"
   ]
  },
  {
   "cell_type": "markdown",
   "metadata": {},
   "source": [
    "Now lets use the SMALL function as your custom formula for conditional formatting.\n",
    "\n",
    "Let's highlight the bottom three rates of Hours / Sweater."
   ]
  },
  {
   "cell_type": "markdown",
   "metadata": {},
   "source": [
    "- See 03.11"
   ]
  },
  {
   "cell_type": "markdown",
   "metadata": {},
   "source": [
    "# Cross off your to dos"
   ]
  },
  {
   "cell_type": "markdown",
   "metadata": {},
   "source": [
    "You have your list of tasks built out. Now let's build the condtional formatting rules to cross them off when the checkmark is checked."
   ]
  },
  {
   "cell_type": "markdown",
   "metadata": {},
   "source": [
    "- See 03.13"
   ]
  },
  {
   "cell_type": "markdown",
   "metadata": {},
   "source": [
    "# Long term career goals"
   ]
  },
  {
   "cell_type": "markdown",
   "metadata": {},
   "source": [
    "You've built a list of long-term goals.\n",
    "\n",
    "These goals are going to give you direction in life, so let's spend some time making sure the list works well.\n",
    "\n",
    "You got so excited when you were building the list that you think you may have duplicated one of your goals.\n",
    "\n",
    "Yeah, yeah, I know you can just look to see the duplicate, but this is practice for larger sets of data so just work with me here!"
   ]
  },
  {
   "cell_type": "markdown",
   "metadata": {},
   "source": [
    "- See 03.14"
   ]
  },
  {
   "cell_type": "markdown",
   "metadata": {},
   "source": [
    "# Ranking your goals"
   ]
  },
  {
   "cell_type": "markdown",
   "metadata": {},
   "source": [
    "You have added a rank for each goal with # 1 being the most important and # 11 being the least important.\n",
    "\n",
    "You're going to choose the number of goals that you want to focus on depending on your mood every day. Your mood today is moderately motivated.\n",
    "\n",
    "That means that you'll think about the top five goals as you go about your day."
   ]
  },
  {
   "cell_type": "markdown",
   "metadata": {},
   "source": [
    "- See 03.15"
   ]
  },
  {
   "cell_type": "markdown",
   "metadata": {},
   "source": [
    "# Crossing them off"
   ]
  },
  {
   "cell_type": "markdown",
   "metadata": {},
   "source": [
    "Let's get some satisfaction from this list and start crossing some things off.\n",
    "\n",
    "It's so much fun to cross things off that you create new versions of this list every day just so you can cross things off."
   ]
  },
  {
   "cell_type": "markdown",
   "metadata": {},
   "source": [
    "- See 03.16"
   ]
  }
 ],
 "metadata": {
  "kernelspec": {
   "display_name": "Python 3.8.11 ('env_py')",
   "language": "python",
   "name": "python3"
  },
  "language_info": {
   "name": "python",
   "version": "3.8.11"
  },
  "orig_nbformat": 4,
  "vscode": {
   "interpreter": {
    "hash": "1e949e87132dd83f1a7623eb88007e3532b03b66b77111be347aa4a383049722"
   }
  }
 },
 "nbformat": 4,
 "nbformat_minor": 2
}

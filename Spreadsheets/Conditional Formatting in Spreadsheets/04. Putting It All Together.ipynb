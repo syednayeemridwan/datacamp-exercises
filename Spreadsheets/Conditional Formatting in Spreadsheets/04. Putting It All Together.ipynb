{
 "cells": [
  {
   "cell_type": "markdown",
   "metadata": {},
   "source": [
    "# ISDATE function"
   ]
  },
  {
   "cell_type": "markdown",
   "metadata": {},
   "source": [
    "OK, so you are a payroll person again, but we're going to switch a few things up to keep you on your toes.\n",
    "\n",
    "We are going to start out with data that has those pesky hand typed dates again.\n",
    "\n",
    "This payroll needs to be perfect, so let's first check the dates to be sure that they're valid."
   ]
  },
  {
   "cell_type": "markdown",
   "metadata": {},
   "source": [
    "- See 04.02"
   ]
  },
  {
   "cell_type": "markdown",
   "metadata": {},
   "source": [
    "# Correcting your report"
   ]
  },
  {
   "cell_type": "markdown",
   "metadata": {},
   "source": [
    "The conditional formatting rule that you applied in the last exercise is left on to start with in order to show two ways that dates can be bad.\n",
    "\n",
    "A date won't be recognized if you add a suffix to the day, such as 26th instead of just 26. Additionally, February 30, 2024 will never exist, so that's also bad.\n",
    "\n",
    "Let's start by cleaning up the data."
   ]
  },
  {
   "cell_type": "markdown",
   "metadata": {},
   "source": [
    "- See 04.03"
   ]
  },
  {
   "cell_type": "markdown",
   "metadata": {},
   "source": [
    "# Checking for duplicates"
   ]
  },
  {
   "cell_type": "markdown",
   "metadata": {},
   "source": [
    "You're almost done checking this report.\n",
    "\n",
    "The last thing you need to do is check it for duplicate entries."
   ]
  },
  {
   "cell_type": "markdown",
   "metadata": {},
   "source": [
    "- See 04.04"
   ]
  },
  {
   "cell_type": "markdown",
   "metadata": {},
   "source": [
    "# Paid time off totals"
   ]
  },
  {
   "cell_type": "markdown",
   "metadata": {},
   "source": [
    "Let's take a look at the employees' Paid Time Off (PTO).\n",
    "\n",
    "We need to make sure that all the employees scheduled to be paid for PTO actually have PTO remaining.\n",
    "\n",
    "The PTO Hours column, the remaining amount of PTO to be paid, is the difference between the PTO Total and PTO Used amounts."
   ]
  },
  {
   "cell_type": "markdown",
   "metadata": {},
   "source": [
    "- See 04.06"
   ]
  },
  {
   "cell_type": "markdown",
   "metadata": {},
   "source": [
    "# Pay allowed range"
   ]
  },
  {
   "cell_type": "markdown",
   "metadata": {},
   "source": [
    "While we're on the subject of PTO, it's nice to have a sense of the range of PTO that each employee has accumulated.\n",
    "\n",
    "Let's format the values in the PTO Total column in a way that illustrates the values with degrees of color instead of just numbers."
   ]
  },
  {
   "cell_type": "markdown",
   "metadata": {},
   "source": [
    "- See 04.07"
   ]
  },
  {
   "cell_type": "markdown",
   "metadata": {},
   "source": [
    "# Moving to part-time"
   ]
  },
  {
   "cell_type": "markdown",
   "metadata": {},
   "source": [
    "Your morning just went from good to way-too-stressful when you learn that the entire marketing team has been outsourced to another company.\n",
    "\n",
    "People won't be too chipper around the water cooler this week. However, your company is going to retain them for 6 months on a part-time basis, which means they will need their PTO to be modified.\n",
    "\n",
    "You can leave the PTO amount formatting from the previous exercise, as this report will now be communicating more than one message."
   ]
  },
  {
   "cell_type": "markdown",
   "metadata": {},
   "source": [
    "- See 04.08"
   ]
  },
  {
   "cell_type": "markdown",
   "metadata": {},
   "source": [
    "# Year-to-date"
   ]
  },
  {
   "cell_type": "markdown",
   "metadata": {},
   "source": [
    "Now that you are comfortable that your payroll report is ready for processing, all you have left to do is prepare an analysis for the big wigs.\n",
    "\n",
    "They want to see a comparison to this same time last year, however this time they want to see year to date numbers. This makes more sense than comparing just one week to another, since it could smooth out any little bumps in the road."
   ]
  },
  {
   "cell_type": "markdown",
   "metadata": {},
   "source": [
    "- See 04.10"
   ]
  },
  {
   "cell_type": "markdown",
   "metadata": {},
   "source": [
    "# Positive variances"
   ]
  },
  {
   "cell_type": "markdown",
   "metadata": {},
   "source": [
    "Let's level up this report by showing each line that increased over 10% and $10,000.\n",
    "\n",
    "Recall that the AND function accepts two or more arguments, returning TRUE if they are all TRUE and FALSE if any of the arguments are FALSE. The function uses the following format: AND(first argument, second argument, ...)"
   ]
  },
  {
   "cell_type": "markdown",
   "metadata": {},
   "source": [
    "- See 04.11"
   ]
  },
  {
   "cell_type": "markdown",
   "metadata": {},
   "source": [
    "# Negative variances"
   ]
  },
  {
   "cell_type": "markdown",
   "metadata": {},
   "source": [
    "Well, this is the final test of how well you can apply your conditional formatting skills!\n",
    "\n",
    "Let's just add a red background to the lines that are showing a negative variance of less than -10% and -$10,000.\n",
    "\n",
    "Your sheet already contains the conditional formatting from the previous exercise, as this should also be a part of your report. Then, you can share the report with your boss with a glowing smile on your face."
   ]
  },
  {
   "cell_type": "markdown",
   "metadata": {},
   "source": [
    "- See 04.12"
   ]
  }
 ],
 "metadata": {
  "kernelspec": {
   "display_name": "Python 3.8.11 ('env_py')",
   "language": "python",
   "name": "python3"
  },
  "language_info": {
   "name": "python",
   "version": "3.8.11"
  },
  "orig_nbformat": 4,
  "vscode": {
   "interpreter": {
    "hash": "1e949e87132dd83f1a7623eb88007e3532b03b66b77111be347aa4a383049722"
   }
  }
 },
 "nbformat": 4,
 "nbformat_minor": 2
}

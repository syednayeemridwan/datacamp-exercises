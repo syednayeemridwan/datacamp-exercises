{
 "cells": [
  {
   "cell_type": "markdown",
   "metadata": {},
   "source": [
    "# Conditional formatting"
   ]
  },
  {
   "cell_type": "markdown",
   "metadata": {},
   "source": [
    "let's put it to use.\n",
    "\n",
    "In the following table, you'll find quarterly sales data from the sales reps at your company.\n",
    "\n",
    "You need to highlight the \"Yes\"s for the sales reps that met their goals."
   ]
  },
  {
   "cell_type": "markdown",
   "metadata": {},
   "source": [
    "- See 01.02"
   ]
  },
  {
   "cell_type": "markdown",
   "metadata": {},
   "source": [
    "# Additional rule"
   ]
  },
  {
   "cell_type": "markdown",
   "metadata": {},
   "source": [
    "Conditional formatting rules can be layered on top of each other.\n",
    "\n",
    "In this case, you are wondering if there is a correlation between high sales and the region in which the sales rep operates.\n",
    "\n",
    "You will apply another conditional formatting rule in the same set of data that we used in the last excercise."
   ]
  },
  {
   "cell_type": "markdown",
   "metadata": {},
   "source": [
    "- See 01.03"
   ]
  },
  {
   "cell_type": "markdown",
   "metadata": {},
   "source": [
    "# Greater than"
   ]
  },
  {
   "cell_type": "markdown",
   "metadata": {},
   "source": [
    "In this scenario, you are analyzing the inventory in your warehouse and you would like to see which items are over-stocked.\n",
    "\n",
    "You have decided that any items that you have more than 300 of need to be marked down with a \"clearance\" price and you need to show which items these are"
   ]
  },
  {
   "cell_type": "markdown",
   "metadata": {},
   "source": [
    "- See 01.05"
   ]
  },
  {
   "cell_type": "markdown",
   "metadata": {},
   "source": [
    "# Weight range"
   ]
  },
  {
   "cell_type": "markdown",
   "metadata": {},
   "source": [
    "You company is trying to allocate its shipping charges more fairly amongst its online customers.\n",
    "\n",
    "As shipping costs can be reasonably estimated using weights, you decide to analyze the weights of your items. Since you want to look at all of the items instead of just pointing out outliers, let's use a color scale to apply formatting to all of the cells."
   ]
  },
  {
   "cell_type": "markdown",
   "metadata": {},
   "source": [
    "- See 01.06"
   ]
  },
  {
   "cell_type": "markdown",
   "metadata": {},
   "source": [
    "# Auditing an expense account"
   ]
  },
  {
   "cell_type": "markdown",
   "metadata": {},
   "source": [
    "You have been asked to perform an internal audit of your company's accounting records.\n",
    "\n",
    "The miscellaneous expense account has been trending significantly higher and the accounting manager suspects that there may be ficticious transactions recorded.\n",
    "\n",
    "You have to work efficiently, so you will only look at the more suspicious transactions.\n",
    "\n",
    "You decide to only look at transactions that were posted outside of normal hours. You also want to look at transactions posted on Saturday or Sunday."
   ]
  },
  {
   "cell_type": "markdown",
   "metadata": {},
   "source": [
    "- See 01.07"
   ]
  },
  {
   "cell_type": "markdown",
   "metadata": {},
   "source": [
    "# Before last week"
   ]
  },
  {
   "cell_type": "markdown",
   "metadata": {},
   "source": [
    "Now that you have seen how to conditionally format dates, let's highlight all of the items in this list that were made more than a week ago.\n",
    "\n",
    "This conditional formatting rule should capture any date more than seven days before the present day and it won't have an endpoint.\n",
    "\n",
    "When you do this type of conditional formatting, the spreadsheet is aware of the current date and it works from that day."
   ]
  },
  {
   "cell_type": "markdown",
   "metadata": {},
   "source": [
    "- See 01.09"
   ]
  },
  {
   "cell_type": "markdown",
   "metadata": {},
   "source": [
    "# All dates except June"
   ]
  },
  {
   "cell_type": "markdown",
   "metadata": {},
   "source": [
    "If you want to open your spreadsheet tomorrow and see the same results that you see today, you may want to use the options for static dates that don't shift with the passage of time.\n",
    "\n",
    "In this example, you will be looking for all of the activity except for the month of June 2018."
   ]
  },
  {
   "cell_type": "markdown",
   "metadata": {},
   "source": [
    "- See 01.10"
   ]
  },
  {
   "cell_type": "markdown",
   "metadata": {},
   "source": [
    "# Dates"
   ]
  },
  {
   "cell_type": "markdown",
   "metadata": {},
   "source": [
    "Let's bring it all together to practice what you learned in chapter one by looking at several different attributes in the exercise. This is another example of sales transactions. Each row contains different information for each sale including date, dollar amount, sales rep, and item weight.\n",
    "\n",
    "There are a number of pieces of information that we are interested in and want to highlight in this sheet. You can use your knowledge of greater than / less than to show the items with the prices over $500. We also want to highlight the heavier item weights to indicate which items need special handling."
   ]
  },
  {
   "cell_type": "markdown",
   "metadata": {},
   "source": [
    "- See 01.11"
   ]
  }
 ],
 "metadata": {
  "kernelspec": {
   "display_name": "Python 3.8.11 ('env_py')",
   "language": "python",
   "name": "python3"
  },
  "language_info": {
   "name": "python",
   "version": "3.8.11"
  },
  "orig_nbformat": 4,
  "vscode": {
   "interpreter": {
    "hash": "1e949e87132dd83f1a7623eb88007e3532b03b66b77111be347aa4a383049722"
   }
  }
 },
 "nbformat": 4,
 "nbformat_minor": 2
}

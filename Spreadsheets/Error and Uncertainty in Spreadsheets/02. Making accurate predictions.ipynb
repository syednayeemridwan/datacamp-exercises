{
 "cells": [
  {
   "cell_type": "markdown",
   "metadata": {},
   "source": [
    "# We all have our (central) tendencies"
   ]
  },
  {
   "cell_type": "markdown",
   "metadata": {},
   "source": [
    "Imagine you're a teacher trying to predict what grades your students will earn. You want to know whether how they do during the first term or the second term is more indicative of their final grade. You'll use weighted averages to see which is more closely linked to final grades.\n",
    "\n",
    "Before you start predicting final grades, though, you'll want to see how much variation there is in the data."
   ]
  },
  {
   "cell_type": "markdown",
   "metadata": {},
   "source": [
    "- See 02.02"
   ]
  },
  {
   "cell_type": "markdown",
   "metadata": {},
   "source": [
    "# Variable weights"
   ]
  },
  {
   "cell_type": "markdown",
   "metadata": {},
   "source": [
    "Let's say you expect students' term 1 grades to be better predictors of their final grades. To test this hypothesis, you would expect that their predicted grades would get closer to their actual grades if you increase the weight on their term 1 grades.\n",
    "\n",
    "However, because it's not clear how changing the weights in the average will affect the outcome, you'll set up a formula to make it easier to adjust weights on the fly to test your hypothesis. This will allow you to see how tweaking your weighted averages will change the accuracy of your predictions."
   ]
  },
  {
   "cell_type": "markdown",
   "metadata": {},
   "source": [
    "- See 02.03"
   ]
  },
  {
   "cell_type": "markdown",
   "metadata": {},
   "source": [
    "# Now weight a minute"
   ]
  },
  {
   "cell_type": "markdown",
   "metadata": {},
   "source": [
    "Now it's time to calculate weighted averages. In this example, you'll compute students' final grades, but it's important to note that weighted averages could also apply to employee evaluations, weighting movie reviews, or other examples in which you are creating a composite of individual scores. For example, imagine you work for Netflix predicting which movies customers will like based on other films they have rated. People's tastes change, so you might want to assign more weight to reviews they made in the last six months compared with movies they reviewed five years ago.\n",
    "\n",
    "Now use your skills to calculate weighted averages."
   ]
  },
  {
   "cell_type": "markdown",
   "metadata": {},
   "source": [
    "- See 02.04"
   ]
  },
  {
   "cell_type": "markdown",
   "metadata": {},
   "source": [
    "# Lying in weights"
   ]
  },
  {
   "cell_type": "markdown",
   "metadata": {},
   "source": [
    "You just calculated weighted averages based on period 1 and period 2 grades. Are you ready to conclude whether period 1 or period 2 grades are more predictive of students' final grades?\n",
    "\n",
    "Play around with the weights used in the weighted averages and compare the result to the actual final grades in column A. Does it look like period 1 or period 2 grades are better predictors of final grades?"
   ]
  },
  {
   "cell_type": "markdown",
   "metadata": {},
   "source": [
    "- It looks like period 2 grades better predict final grades due to greater weights.(See 02.05)"
   ]
  },
  {
   "cell_type": "markdown",
   "metadata": {},
   "source": [
    "# What's in the FORECAST()?"
   ]
  },
  {
   "cell_type": "markdown",
   "metadata": {},
   "source": [
    "It's not surprising that interim and final grades are related. But what if you want to predict some outcome for which there is no intermediate measure? For example, what if we want to determine how much student attendance affects final grades? For situations like this, you will take information from other individuals and other factors to make a prediction.\n",
    "\n",
    "In this exercise, you'll predict students' final grades based on their number of absences."
   ]
  },
  {
   "cell_type": "markdown",
   "metadata": {},
   "source": [
    "- See 02.07"
   ]
  },
  {
   "cell_type": "markdown",
   "metadata": {},
   "source": [
    "# Variation in predictions"
   ]
  },
  {
   "cell_type": "markdown",
   "metadata": {},
   "source": [
    "Now that you have predicted grades based on absences and parental levels of education, you might want to see how accurate these predictions are. You'll start by summarizing the variation in the data using familiar measures of central tendency."
   ]
  },
  {
   "cell_type": "markdown",
   "metadata": {},
   "source": [
    "- See 02.08"
   ]
  },
  {
   "cell_type": "markdown",
   "metadata": {},
   "source": [
    "# Seems about right"
   ]
  },
  {
   "cell_type": "markdown",
   "metadata": {},
   "source": [
    "You determined that predictions based on maternal education levels vary more than those based on numbers of student absences. But does that mean they're more or less accurate?\n",
    "\n",
    "Which of the following statements is not true based on the measures of central tendency shown in the sheet to the right?"
   ]
  },
  {
   "cell_type": "markdown",
   "metadata": {},
   "source": [
    "- Both predictions are equally accurate because they have the same average value as actual final grades. Mean does not determine best model. (See 02.09)"
   ]
  },
  {
   "cell_type": "markdown",
   "metadata": {},
   "source": [
    "# Prediction accuracy"
   ]
  },
  {
   "cell_type": "markdown",
   "metadata": {},
   "source": [
    "You'll need to create multiple sets of predicted values to determine which one is more accurate.\n",
    "\n",
    "Remember that you can forecast values with the FORECAST() function by supplying three arguments:\n",
    "\n",
    "- x, which is the value to use to predict,\n",
    "- data_y, which is the set of outcome data to use, and\n",
    "- data_x, which is the set of predictor values."
   ]
  },
  {
   "cell_type": "markdown",
   "metadata": {},
   "source": [
    "- See 02.11"
   ]
  },
  {
   "cell_type": "markdown",
   "metadata": {},
   "source": [
    "# Absolute deviation"
   ]
  },
  {
   "cell_type": "markdown",
   "metadata": {},
   "source": [
    "Now you have multiple predictions, as well as the actual observed values. Recall that your predictions reflect both forecasts and weighted averages from previous calculations.\n",
    "\n",
    "You can calculate absolute deviations to see which predictions vary more from the actual final grades students earned. Remember that absolute deviations indicate how far off a given prediction was from the actual value. This will allow you to summarize your predictions and determine which ones are more accurate."
   ]
  },
  {
   "cell_type": "markdown",
   "metadata": {},
   "source": [
    "- See 02.12"
   ]
  },
  {
   "cell_type": "markdown",
   "metadata": {},
   "source": [
    "# Average absolute deviation"
   ]
  },
  {
   "cell_type": "markdown",
   "metadata": {},
   "source": [
    "Knowing how much a given predicted value deviates from the actual value isn't all that useful by itself. Instead, you want to know which set of predictions is more accurate.\n",
    "\n",
    "Fortunately, you can combine your knowledge of measures of central tendency with your practice with absolute deviations to see which predictions are more accurate."
   ]
  },
  {
   "cell_type": "markdown",
   "metadata": {},
   "source": [
    "- See 02.13"
   ]
  },
  {
   "cell_type": "markdown",
   "metadata": {},
   "source": [
    "# Significant differences"
   ]
  },
  {
   "cell_type": "markdown",
   "metadata": {},
   "source": [
    "You might want to use your knowledge of t-tests and summary statistics to determine whether there are significant differences between multiple sets of predictions. Say, for example, that you wanted to know with statistical certainty whether one set of predictions was more accurate than another. You could start by computing absolute deviations, taking the absolute value of the differences between predicted and actual final grades. Recall that higher average absolute deviation means less accurate predictions.\n",
    "\n",
    "You can also compute summary statistics and perform a t-test on these absolute deviations to determine which set of predictions has more variation (i.e., higher absolute deviation) and whether the difference between groups is statistically significant."
   ]
  },
  {
   "cell_type": "markdown",
   "metadata": {},
   "source": [
    "- See 02.15\n",
    "-  We know the weighted average and period 2 forecasts are more accurate because they have lower average deviation, and we know these differences are significant because the results of our t-tests are less than 0.05."
   ]
  },
  {
   "cell_type": "markdown",
   "metadata": {},
   "source": [
    "# Significant differences of opinion"
   ]
  },
  {
   "cell_type": "markdown",
   "metadata": {},
   "source": [
    "You determined that there were significant differences between predictions by using t-tests on the average absolute deviations you calculated. Recall that higher average absolute deviations mean that thoese predictions are less accurate overall. Remember to use a confidence level of 0.05 to determine whether the differences you found are significant.\n",
    "\n",
    "Based on your results, which are shown in the sheet to the right, which of the following statements is not true?"
   ]
  },
  {
   "cell_type": "markdown",
   "metadata": {},
   "source": [
    "- See 02.16\n",
    "- Period 2 forecasts are significantly less accurate than weighted average predictions because they have a higher average absolute deviation. (Wrong: The difference is not significant)"
   ]
  }
 ],
 "metadata": {
  "kernelspec": {
   "display_name": "Python 3.8.11 ('env_py')",
   "language": "python",
   "name": "python3"
  },
  "language_info": {
   "name": "python",
   "version": "3.8.11"
  },
  "orig_nbformat": 4,
  "vscode": {
   "interpreter": {
    "hash": "1e949e87132dd83f1a7623eb88007e3532b03b66b77111be347aa4a383049722"
   }
  }
 },
 "nbformat": 4,
 "nbformat_minor": 2
}

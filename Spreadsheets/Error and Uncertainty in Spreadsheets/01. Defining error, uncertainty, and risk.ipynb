{
 "cells": [
  {
   "cell_type": "markdown",
   "metadata": {},
   "source": [
    "# Measures of central tendency"
   ]
  },
  {
   "cell_type": "markdown",
   "metadata": {},
   "source": [
    "The Seattle police department looks for trends in its data to reduce crime. Specifically, they want to dispatch officers proactively when crimes are more likely to occur. In this exercise, you will identify patterns in the dates when crimes occurred. To do this, you'll use crime data from the first few days in January and the functions we discussed in the video.\n",
    "\n",
    "Calculate summary statistics for the dates that crimes were committed using the AVERAGE(), MEDIAN(), MODE(), and STDEV() functions."
   ]
  },
  {
   "cell_type": "markdown",
   "metadata": {},
   "source": [
    "- See 01.02"
   ]
  },
  {
   "cell_type": "markdown",
   "metadata": {},
   "source": [
    "# Crime time"
   ]
  },
  {
   "cell_type": "markdown",
   "metadata": {},
   "source": [
    "The Seattle PD also wants to know at what times they should assign officers to different beats based on when crimes are typically committed. You'll determine when crimes are most commonly committed using the functions that calculate measures of central tendency."
   ]
  },
  {
   "cell_type": "markdown",
   "metadata": {},
   "source": [
    "- See 01.03"
   ]
  },
  {
   "cell_type": "markdown",
   "metadata": {},
   "source": [
    "# Extracting UNIQUE() values"
   ]
  },
  {
   "cell_type": "markdown",
   "metadata": {},
   "source": [
    "Which precincts have the highest crime levels? The Seattle PD wants to focus on particularly effective community outreach to prevent crime in the precincts that show the highest crime rates.\n",
    "\n",
    "You'll need to help them by extracting an unduplicated list of precincts."
   ]
  },
  {
   "cell_type": "markdown",
   "metadata": {},
   "source": [
    "- See 01.05"
   ]
  },
  {
   "cell_type": "markdown",
   "metadata": {},
   "source": [
    "# Book 'em and count 'em"
   ]
  },
  {
   "cell_type": "markdown",
   "metadata": {},
   "source": [
    "Now that you have a list of all precincts, you can determine which one had the highest number of crimes committed. You can use one of the \"IF\" functions you learned about (e.g., COUNTIF(), SUMIF(), AVERAGEIF()) to determine which precinct needs the most support.\n",
    "\n",
    "Remember that these functions take a range of cells to evaluate, the criterion to evaluate, and the range of cells to which to apply the function"
   ]
  },
  {
   "cell_type": "markdown",
   "metadata": {},
   "source": [
    "- See 01.06"
   ]
  },
  {
   "cell_type": "markdown",
   "metadata": {},
   "source": [
    "# Averages and IF conditions"
   ]
  },
  {
   "cell_type": "markdown",
   "metadata": {},
   "source": [
    "So the West and North precincts appear to have higher levels of crime. But do these crimes tend to occur at different times of the day? The Seattle PD not only has to allocate resources between precincts; they also have to determine which times of day require the most officers. You can help them determine where and when to dispatch officers using more of the \"IF\" functions you've learned.\n",
    "\n",
    "Remember that these functions take a range of cells to evaluate, the criterion to evaluate, and the range of cells to which to apply the function."
   ]
  },
  {
   "cell_type": "markdown",
   "metadata": {},
   "source": [
    "- See 01.07"
   ]
  },
  {
   "cell_type": "markdown",
   "metadata": {},
   "source": [
    "# Counts with multiple criteria"
   ]
  },
  {
   "cell_type": "markdown",
   "metadata": {},
   "source": [
    "There are times when you will need to summarize data based on multiple criteria. You can use the AVERAGEIFS(), COUNTIFS(), and SUMIFS() functions to specify multiple criteria. Recall that these functions take pairs of ranges and criteria to include only the cells that meet the specified conditions.\n",
    "\n",
    "Now you'll tally the number of crimes that occur after 8:00 in the evening. A couple of reminders:\n",
    "\n",
    "- Remember that the time data are stored in 24-hour format.\n",
    "- You can specify comparison arguments by including the operator in the criterion (e.g., \"<900\")."
   ]
  },
  {
   "cell_type": "markdown",
   "metadata": {},
   "source": [
    "- See 01.08"
   ]
  },
  {
   "cell_type": "markdown",
   "metadata": {},
   "source": [
    "# Rap sheet"
   ]
  },
  {
   "cell_type": "markdown",
   "metadata": {},
   "source": [
    "The Seattle police department wants to know if different types of crimes tend to occur together to adjust their training of new recruits. They have asked you to correlate crime rates by precinct and offense type.\n",
    "\n",
    "You will first help them by creating a list of all types of crimes, incluing each type only once."
   ]
  },
  {
   "cell_type": "markdown",
   "metadata": {},
   "source": [
    "- See 01.10"
   ]
  },
  {
   "cell_type": "markdown",
   "metadata": {},
   "source": [
    "# Correlation preparation"
   ]
  },
  {
   "cell_type": "markdown",
   "metadata": {},
   "source": [
    "Now you'll help the Seattle PD determine whether there are hot spots of crimes across different precincts. You will use one of the IFS functions you learned about (e.g., COUNTIFS(), SUMIFS(), AVERAGEIFS()`) to determine which crimes and precincts occur most frequently.\n",
    "\n",
    "Remember that the IFS functions allow you to summarize groups of data using multiple criteria. Recall that you specify pairs of arguments that include the range of cells to search and the criterion to search for. These criteria can either be entered manually (e.g., \"THEFT-CARPROWL\") or can reference the value of another cell (e.g., $F3)."
   ]
  },
  {
   "cell_type": "markdown",
   "metadata": {},
   "source": [
    "- See 01.11"
   ]
  },
  {
   "cell_type": "markdown",
   "metadata": {},
   "source": [
    "# A (crimes) committed relationship"
   ]
  },
  {
   "cell_type": "markdown",
   "metadata": {},
   "source": [
    "After looking at these patterns, the unit wants to have officers discuss lessons learned and best practices based on which precincts have similar patterns in crime levels. You'll help them determine what relationships exist between the offenses committed across precincts by correlating crimes committed in the West precinct with those all other precincts to get a sense of citywide patterns.\n",
    "\n",
    "Recall that correlations close to -1 are strongly inversely related, those near 0 have little impact, and those close to 1 are strongly associated."
   ]
  },
  {
   "cell_type": "markdown",
   "metadata": {},
   "source": [
    "- See 01.12"
   ]
  },
  {
   "cell_type": "markdown",
   "metadata": {},
   "source": [
    "# Strong relationships"
   ]
  },
  {
   "cell_type": "markdown",
   "metadata": {},
   "source": [
    "You've just calculated correlation coefficients between the West precinct and all other precincts. Now you are ready to recommend a training plan to the Seattle police department.\n",
    "\n",
    "Which other precinct's crime data are most strongly correlated with the West precinct?"
   ]
  },
  {
   "cell_type": "markdown",
   "metadata": {},
   "source": [
    "- North (0.85)"
   ]
  }
 ],
 "metadata": {
  "kernelspec": {
   "display_name": "Python 3.8.11 ('env_py')",
   "language": "python",
   "name": "python3"
  },
  "language_info": {
   "name": "python",
   "version": "3.8.11"
  },
  "orig_nbformat": 4,
  "vscode": {
   "interpreter": {
    "hash": "1e949e87132dd83f1a7623eb88007e3532b03b66b77111be347aa4a383049722"
   }
  }
 },
 "nbformat": 4,
 "nbformat_minor": 2
}

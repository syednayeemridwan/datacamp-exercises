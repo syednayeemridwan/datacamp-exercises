{
 "cells": [
  {
   "cell_type": "markdown",
   "metadata": {},
   "source": [
    "# Half-baked ideas"
   ]
  },
  {
   "cell_type": "markdown",
   "metadata": {},
   "source": [
    "Imagine you own the Risky Business Bakery, a small bakeshop in need of some help. You work hard, and your profits are declining. You look back through your sales data to determine how you can increase sales without significantly increasing costs.\n",
    "\n",
    "You will start by determining which items sell best and which days are busiest. Then you'll see how tweaking prices on those days might increase or decrease sales and demand"
   ]
  },
  {
   "cell_type": "markdown",
   "metadata": {},
   "source": [
    "- See 04.02"
   ]
  },
  {
   "cell_type": "markdown",
   "metadata": {},
   "source": [
    "# Falling on hearth times"
   ]
  },
  {
   "cell_type": "markdown",
   "metadata": {},
   "source": [
    "The Risky Business Bakery is also struggling with staffing, and you want know if most of your sales come in the morning or afternoon to schedule your employees appropriately."
   ]
  },
  {
   "cell_type": "markdown",
   "metadata": {},
   "source": [
    "- See 04.03"
   ]
  },
  {
   "cell_type": "markdown",
   "metadata": {},
   "source": [
    "# Summary statistics"
   ]
  },
  {
   "cell_type": "markdown",
   "metadata": {},
   "source": [
    "You have computed some summary statistics to understand sales trends. Use your calculations to answer the question below.\n",
    "\n",
    "Which of the following statements are true?"
   ]
  },
  {
   "cell_type": "markdown",
   "metadata": {},
   "source": [
    "\n",
    "- Very little of Risky Business Bakery revenue comes from jam sales.\n",
    "- Sales tend to be highest on the weekends.\n",
    "- The bakery's largest source of revenue comes from coffee sales."
   ]
  },
  {
   "cell_type": "markdown",
   "metadata": {},
   "source": [
    "- See 04.04"
   ]
  },
  {
   "cell_type": "markdown",
   "metadata": {},
   "source": [
    "# Changing prices"
   ]
  },
  {
   "cell_type": "markdown",
   "metadata": {},
   "source": [
    "In an effort to increase demand and grow your sales, you made some pricing changes starting on 2/21/2017. In an effort to draw more people at lunch, you decreased prices by 20% on lunch items (i.e., soup, sandwiches, and chicken stew) but increased prices on drinks by 20% to offset the lower revenue. You also decreased all other prices by 10% in an effort to boost demand.\n",
    "\n",
    "Now you want to know if it actually boosted sales. You'll start by filtering the data into two groups to perform other analyses.\n",
    "\n",
    "Just as a reminder, to convert to a date value you can use the function DATE(), which takes the year, month, and day as arguments (e.g., DATE(1969,7,20))."
   ]
  },
  {
   "cell_type": "markdown",
   "metadata": {},
   "source": [
    "- See 04.06"
   ]
  },
  {
   "cell_type": "markdown",
   "metadata": {},
   "source": [
    "# Bread on the rise?"
   ]
  },
  {
   "cell_type": "markdown",
   "metadata": {},
   "source": [
    "Now you have separated your data into two groups: one from before the price changes took effect and one from after. You want to determine whether changing prices improved total sales. To do this, you will need to compute summary statistics and perform a t-test as you have done previously."
   ]
  },
  {
   "cell_type": "markdown",
   "metadata": {},
   "source": [
    "- See 04.07"
   ]
  },
  {
   "cell_type": "markdown",
   "metadata": {},
   "source": [
    "# Paying the price"
   ]
  },
  {
   "cell_type": "markdown",
   "metadata": {},
   "source": [
    "So did changing your prices work? Did it increase sales? Interpret the results and determine which of the statements below is not true."
   ]
  },
  {
   "cell_type": "markdown",
   "metadata": {},
   "source": [
    "- See 04.08"
   ]
  },
  {
   "cell_type": "markdown",
   "metadata": {},
   "source": [
    "- On average, the price of items sold varied more after we changed them. (Variance less = varied less)"
   ]
  },
  {
   "cell_type": "markdown",
   "metadata": {},
   "source": [
    "# A recipe for change"
   ]
  },
  {
   "cell_type": "markdown",
   "metadata": {},
   "source": [
    "Before we assume that our pricing changes didn't work (or even worked in the opposite direction), we might want to conduct some additional analyses. After all, there might have been other factors that affected sales in those weeks. For example, it may be that more rain kept potential customers at home, which would have nothing to do with the price changes you instituted. You'll compare sales and rainfall to determine whether factors other than price changes affected sales.\n",
    "\n",
    "Keep in mind that the number of inches of rain is the daily total, not the total during that given transaction. This means adding the rain totals together will inflate the numbers. You should use the daily maximum instead."
   ]
  },
  {
   "cell_type": "markdown",
   "metadata": {},
   "source": [
    "- See 04.10"
   ]
  },
  {
   "cell_type": "markdown",
   "metadata": {},
   "source": [
    "# Rain, rain, go away"
   ]
  },
  {
   "cell_type": "markdown",
   "metadata": {},
   "source": [
    "To determine whether rain was a factor in customers' purchasing habits, you should first determine whether it rained more before or after you changed your pricing structure. You can also correlate total rainfall with total sales to see how the two are related."
   ]
  },
  {
   "cell_type": "markdown",
   "metadata": {},
   "source": [
    "- See 04.11"
   ]
  },
  {
   "cell_type": "markdown",
   "metadata": {},
   "source": [
    "# Fed up"
   ]
  },
  {
   "cell_type": "markdown",
   "metadata": {},
   "source": [
    "So did the rain impact sales more than price changes? Interpret the results and determine which of the statements below is not true."
   ]
  },
  {
   "cell_type": "markdown",
   "metadata": {},
   "source": [
    "- Based on the correlation coefficient, there is a strong relationship between rainfall and total sales. (See 04.12)"
   ]
  },
  {
   "cell_type": "markdown",
   "metadata": {},
   "source": [
    "# Adding variation"
   ]
  },
  {
   "cell_type": "markdown",
   "metadata": {},
   "source": [
    "Your analysis suggests the weather didn't cause the drop in sales either, but there might have been other outside factors that influenced sales. As we reviewed, you can add random variation to your data to model different circumstances. More specifically, we'll add variation to the quantities of items purchased in our models to see the effects of different sales volumes.\n",
    "\n",
    "Use the functions described in the video to add variation to the data to see if your price changes might increase sales under other circumstances."
   ]
  },
  {
   "cell_type": "markdown",
   "metadata": {},
   "source": [
    "- See 04.14"
   ]
  },
  {
   "cell_type": "markdown",
   "metadata": {},
   "source": [
    "# Win some, lose some"
   ]
  },
  {
   "cell_type": "markdown",
   "metadata": {},
   "source": [
    "You created a new dataset to model your sales under different conditions. Now you will summarize the data and compare against your sales before and after you changed prices. Remember that we updated our prices on 2/20.\n",
    "\n",
    "This might give you a better idea of whether your price changes are likely to have a significant negative effect under other circumstances. Remember to create sparklines as bar charts, and specify the maximum value by calculating the highest value in the relevant data."
   ]
  },
  {
   "cell_type": "markdown",
   "metadata": {},
   "source": [
    "- See 04.15"
   ]
  },
  {
   "cell_type": "markdown",
   "metadata": {},
   "source": [
    "# Just t-testing"
   ]
  },
  {
   "cell_type": "markdown",
   "metadata": {},
   "source": [
    "You made quick comparisons between groups of data, but you want to know whether the modeled data you created differ significantly from your original sales.\n",
    "\n",
    "This is a good situation to use a t-test, which you can call with the function T.TEST(). Remember that T.TEST() takes four arguments: the two ranges, and then a 'tails' and 'type' argument. These latter two arguments you can specify simply with an integer."
   ]
  },
  {
   "cell_type": "markdown",
   "metadata": {},
   "source": [
    "- See 04.16"
   ]
  }
 ],
 "metadata": {
  "kernelspec": {
   "display_name": "Python 3.8.11 ('env_py')",
   "language": "python",
   "name": "python3"
  },
  "language_info": {
   "name": "python",
   "version": "3.8.11"
  },
  "orig_nbformat": 4,
  "vscode": {
   "interpreter": {
    "hash": "1e949e87132dd83f1a7623eb88007e3532b03b66b77111be347aa4a383049722"
   }
  }
 },
 "nbformat": 4,
 "nbformat_minor": 2
}

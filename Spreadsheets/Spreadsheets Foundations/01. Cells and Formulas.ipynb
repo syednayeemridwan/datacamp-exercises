{
 "cells": [
  {
   "cell_type": "markdown",
   "metadata": {},
   "source": [
    "# Importing data into spreadsheets"
   ]
  },
  {
   "cell_type": "markdown",
   "metadata": {},
   "source": [
    "When creating a new spreadsheet, the first step is usually to import the data to analyze. Importing data into a spreadsheet will save you from having to enter values manually, which doesn't scale for large datasets.\n",
    "\n",
    "Which of the following statements about importing data into spreadsheets is true?"
   ]
  },
  {
   "cell_type": "markdown",
   "metadata": {},
   "source": [
    "- Data from .csv, .txt, .tsv, and .xlsx files can all be imported into spreadsheets."
   ]
  },
  {
   "cell_type": "markdown",
   "metadata": {},
   "source": [
    "# Changing cell contents"
   ]
  },
  {
   "cell_type": "markdown",
   "metadata": {},
   "source": [
    "In spreadsheets, data is stored in cells, and each one can be uniquely identified using its cell address, which is a combination of the column and row labels.\n",
    "\n",
    "Understanding cell addresses is key to a strong spreadsheets foundation, so in this exercise, you'll use cell addresses to identify specific cells and change their contents."
   ]
  },
  {
   "cell_type": "markdown",
   "metadata": {},
   "source": [
    "- See 01.03"
   ]
  },
  {
   "cell_type": "markdown",
   "metadata": {},
   "source": [
    "# Cell ranges"
   ]
  },
  {
   "cell_type": "markdown",
   "metadata": {},
   "source": [
    "you identified individual cells using their cell addresses, and changed the contents of the cells. Often in spreadsheets, you'll interact with groups of cell, and to do this effectively, you'll need to use and understand cell ranges.\n",
    "\n",
    "In this exercise, you'll identify groups of cells using cell ranges, and modify their contents."
   ]
  },
  {
   "cell_type": "markdown",
   "metadata": {},
   "source": [
    "- See 01.04"
   ]
  },
  {
   "cell_type": "markdown",
   "metadata": {},
   "source": [
    "# Formulas"
   ]
  },
  {
   "cell_type": "markdown",
   "metadata": {},
   "source": [
    "Now that you're able to navigate your way around a spreadsheet, it's time to introduce some functionality to your spreadsheets with formulas.\n",
    "\n",
    "Formulas allow you to perform calculations in your spreadsheets, similar to the way you'd use a calculator. Writing formulas helps reduce the likelihood of errors arising from performing mental arithmetic or pen-and-paper calculations to manually input values; they also allow interested stakeholders to see how cell values were calculated.\n",
    "\n",
    "In this exercise, you'll perform multiplication and division in a formula to fill in the missing Price, Quantity, and Total Price values, where Total Price is calculated by multiplying Price and Quantity."
   ]
  },
  {
   "cell_type": "markdown",
   "metadata": {},
   "source": [
    "- See 01.06"
   ]
  },
  {
   "cell_type": "markdown",
   "metadata": {},
   "source": [
    "# Exponents and parentheses"
   ]
  },
  {
   "cell_type": "markdown",
   "metadata": {},
   "source": [
    "Formulas also support more complex operations, including exponentiation and parentheses. Exponentiation allows you to create formulas where one number is placed to the power of another number, and parentheses means you can control the order that operations are executed.\n",
    "\n",
    "In formulas, operations are executed in the following order, from first to last:\n",
    "\n",
    "- Parentheses\n",
    "- Exponents\n",
    "- Multiplication and division\n",
    "- Addition and subtraction\n",
    "\n",
    "you'll use your knowledge of formulas and order of operations to calculate the new prices for each item, which are calculated by adding 0.2 to the existing Price, then raising to the power of 2."
   ]
  },
  {
   "cell_type": "markdown",
   "metadata": {},
   "source": [
    "- See 01.07"
   ]
  },
  {
   "cell_type": "markdown",
   "metadata": {},
   "source": [
    "# Percentages"
   ]
  },
  {
   "cell_type": "markdown",
   "metadata": {},
   "source": [
    "One type of calculation you'll find yourself doing repeatedly in spreadsheets are percentage calculations. Percentage calculations have all sorts of uses, such as predicting compound interest on savings accounts to measuring project progress.\n",
    "\n",
    "you'll work with percentages to calculate the total cost of each item, which includes the price of the item and a sales tax (also called value added tax or VAT) of 21%."
   ]
  },
  {
   "cell_type": "markdown",
   "metadata": {},
   "source": [
    "- See 01.08"
   ]
  },
  {
   "cell_type": "markdown",
   "metadata": {},
   "source": [
    "# Working with text and numbers"
   ]
  },
  {
   "cell_type": "markdown",
   "metadata": {},
   "source": [
    "Each cell value in a spreadsheet has a data type, which affects the operations that can be performed on the cell and the way the value is displayed in the spreadsheet.\n",
    "\n",
    "In this exercise, you'll format the numerical data in the Weight column to decrease the number of decimal places displayed, and store percentages as plain text."
   ]
  },
  {
   "cell_type": "markdown",
   "metadata": {},
   "source": [
    "- See 01.10"
   ]
  },
  {
   "cell_type": "markdown",
   "metadata": {},
   "source": [
    "# Working with currencies and dates"
   ]
  },
  {
   "cell_type": "markdown",
   "metadata": {},
   "source": [
    "Now that you've got the hang of numerical and text data, time to explore dates and currencies! For any value placed into a cell, the spreadsheet will try to determine the correct data type automatically. For example, a cell value starting with $ will automatically be assigned the currency data type.\n",
    "\n",
    "Sometimes, the data type assigned to the cell value will be incorrect, so you'll have to manually change it to your data type of choice using the Format menu."
   ]
  },
  {
   "cell_type": "markdown",
   "metadata": {},
   "source": [
    "- See 01.11"
   ]
  },
  {
   "cell_type": "markdown",
   "metadata": {},
   "source": [
    "# Comparison operators and logicals"
   ]
  },
  {
   "cell_type": "markdown",
   "metadata": {},
   "source": [
    "Comparison operators are used to compare cell values to evaluate whether they are equal to, not equal to, less than, or greater than one another. Comparison operators return a Boolean value (TRUE/FALSE), which is automatically assigned the logical data type.\n",
    "\n",
    "In this exercise, you'll use comparison operators to identify items less than $1, and energy dense items. Here, the energy density is calculated by dividing the values in the KCal column by those in the Weight (g) column."
   ]
  },
  {
   "cell_type": "markdown",
   "metadata": {},
   "source": [
    "- See 01.12"
   ]
  }
 ],
 "metadata": {
  "kernelspec": {
   "display_name": "Python 3.8.11 ('env_py')",
   "language": "python",
   "name": "python3"
  },
  "language_info": {
   "name": "python",
   "version": "3.8.11"
  },
  "orig_nbformat": 4,
  "vscode": {
   "interpreter": {
    "hash": "1e949e87132dd83f1a7623eb88007e3532b03b66b77111be347aa4a383049722"
   }
  }
 },
 "nbformat": 4,
 "nbformat_minor": 2
}

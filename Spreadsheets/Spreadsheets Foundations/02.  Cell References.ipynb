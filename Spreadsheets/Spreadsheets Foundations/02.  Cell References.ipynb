{
 "cells": [
  {
   "cell_type": "markdown",
   "metadata": {},
   "source": [
    "# Using cell references"
   ]
  },
  {
   "cell_type": "markdown",
   "metadata": {},
   "source": [
    "Cell references allow you to point to another cell in the spreadsheet and retrieve its value, which will help you avoid much of the manual work you have had to do up to this point. In this exercise, you'll replace hard-coded values with cell references and explore the extra functionality cell references provide.\n",
    "\n",
    "Throughout this chapter, you'll be working with demographical and geographical data for the top ten most populous countries in the world."
   ]
  },
  {
   "cell_type": "markdown",
   "metadata": {},
   "source": [
    "# Circular references"
   ]
  },
  {
   "cell_type": "markdown",
   "metadata": {},
   "source": [
    "As you saw in the previous exercise, when the value in a referenced cell changed, any referencing cells update instantly.\n",
    "\n",
    "This behavior is incredibly useful in most cases, but it open up the possibility of creating circular references. A circular reference directly, or via a chain of other references, refers to itself:\n",
    "<center><img src=\"images/02.03.png\"  style=\"width: 400px, height: 300px;\"/></center>\n",
    "\n",
    "\n",
    "you'll experiment with cell references to help you identify circular references.\n",
    "\n",
    "Take a look at the cell references in the Continent column. Which of the following cell reference changes won't create a circular dependency issue?"
   ]
  },
  {
   "cell_type": "markdown",
   "metadata": {},
   "source": [
    "- Changing B2 to reference B3 (See 02.03)"
   ]
  },
  {
   "cell_type": "markdown",
   "metadata": {},
   "source": [
    "# Copying references"
   ]
  },
  {
   "cell_type": "markdown",
   "metadata": {},
   "source": [
    "Referencing becomes especially useful if you start copying the references around. When you copy formulas containing references to neighboring cells, the references will shift along by the corresponding amount."
   ]
  },
  {
   "cell_type": "markdown",
   "metadata": {},
   "source": [
    "- See 02.04"
   ]
  },
  {
   "cell_type": "markdown",
   "metadata": {},
   "source": [
    "# Mathematical operators and references"
   ]
  },
  {
   "cell_type": "markdown",
   "metadata": {},
   "source": [
    "Cell references can be used in formulas in a similar way to how you would use values, and when combined with your already exemplary reference copying skills, you can quickly scale up your calculations to draw insights from larger datasets.\n",
    "\n",
    "In the following exercises, you'll perform calculations on and with references to extract greater insight from the demographical and geographical data provided."
   ]
  },
  {
   "cell_type": "markdown",
   "metadata": {},
   "source": [
    "- See 02.06"
   ]
  },
  {
   "cell_type": "markdown",
   "metadata": {},
   "source": [
    "# Percentages and references"
   ]
  },
  {
   "cell_type": "markdown",
   "metadata": {},
   "source": [
    "You can use cell references in any of the types of calculations that you saw in Chapter 1, including percentage calculations.\n",
    "\n",
    "Using cell references means that you don't have to manually look up and enter values into each formula; you can instead use a cell reference to perform one calculation, then copy the reference to populate the remaining cells.\n",
    "\n",
    "You're also not limited to using a single reference in a formula, you can perform calculations with multiple references as well, which you'll explore in this exercise."
   ]
  },
  {
   "cell_type": "markdown",
   "metadata": {},
   "source": [
    "- See 02.07"
   ]
  },
  {
   "cell_type": "markdown",
   "metadata": {},
   "source": [
    "# Comparison operators and references"
   ]
  },
  {
   "cell_type": "markdown",
   "metadata": {},
   "source": [
    "The comparison operators used in Chapter 1 can also be used with references to identify cells that meet a specified criteria.\n",
    "\n",
    "In this exercise, you'll perform comparison operations using cell references to identify both countries in North America, and countries with an above average population density."
   ]
  },
  {
   "cell_type": "markdown",
   "metadata": {},
   "source": [
    "- See 02.08"
   ]
  },
  {
   "cell_type": "markdown",
   "metadata": {},
   "source": [
    "# Using absolute references"
   ]
  },
  {
   "cell_type": "markdown",
   "metadata": {},
   "source": [
    "The references you've used up until now are called relative references because they change when copied into other cells.\n",
    "\n",
    "Absolute references don't change when you copy them. This behavior can be really useful, as it allows you to continually refer to single values in your cell formulas, which will update automatically if the referenced cell is changed.\n",
    "\n",
    "In this exercise, you'll use absolute references to calculate the population of each country relative to the worldwide population as a percentage."
   ]
  },
  {
   "cell_type": "markdown",
   "metadata": {},
   "source": [
    "- See 02.10"
   ]
  },
  {
   "cell_type": "markdown",
   "metadata": {},
   "source": [
    "# Absolute references: fixing rows"
   ]
  },
  {
   "cell_type": "markdown",
   "metadata": {},
   "source": [
    "A reference can also be partially absolute, where only the column or the row is fixed. This means that the reference will remain unchanged when copied in one direction, but will change when copied in the other direction.\n",
    "\n",
    "In this exercise, you'll use partial absolute references with fixed rows to quickly populate the Relative Area column by copying the references from the Relative Population column. This will essentially let you reuse the formulas in D2:D11, and avoid unnecessary typing."
   ]
  },
  {
   "cell_type": "markdown",
   "metadata": {},
   "source": [
    "- See 02.11"
   ]
  },
  {
   "cell_type": "markdown",
   "metadata": {},
   "source": [
    "# Absolute references: fixing columns"
   ]
  },
  {
   "cell_type": "markdown",
   "metadata": {},
   "source": [
    "In other cases, it can be useful to make a reference where the column is fixed and the row shifts relative to the copying direction.\n",
    "\n",
    "In this exercise, you'll fix the column in your partial absolute references to calculate the population density in people per square mile. Using a partial absolute reference here will allow you to calculate the Density (mi2) column by copying the references from Density (km2)."
   ]
  },
  {
   "cell_type": "markdown",
   "metadata": {},
   "source": [
    "- See 02.12"
   ]
  },
  {
   "cell_type": "markdown",
   "metadata": {},
   "source": [
    "# References everywhere!"
   ]
  },
  {
   "cell_type": "markdown",
   "metadata": {},
   "source": [
    "You'll put all of these concepts into practice to build a spreadsheet that highlights population metrics for each country for different growth rates. The cell references you'll use will ensure that the cell calculations will automatically update to any changes in the Growth Index."
   ]
  },
  {
   "cell_type": "markdown",
   "metadata": {},
   "source": [
    "- See 02.13"
   ]
  }
 ],
 "metadata": {
  "kernelspec": {
   "display_name": "Python 3.8.11 ('env_py')",
   "language": "python",
   "name": "python3"
  },
  "language_info": {
   "name": "python",
   "version": "3.8.11"
  },
  "orig_nbformat": 4,
  "vscode": {
   "interpreter": {
    "hash": "1e949e87132dd83f1a7623eb88007e3532b03b66b77111be347aa4a383049722"
   }
  }
 },
 "nbformat": 4,
 "nbformat_minor": 2
}

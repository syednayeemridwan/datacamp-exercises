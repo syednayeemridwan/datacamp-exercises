{
 "cells": [
  {
   "cell_type": "markdown",
   "metadata": {},
   "source": [
    "# What does a pivot table do?"
   ]
  },
  {
   "cell_type": "markdown",
   "metadata": {},
   "source": [
    "Which answer best describes what a pivot table does?"
   ]
  },
  {
   "cell_type": "markdown",
   "metadata": {},
   "source": [
    "- It takes a dataset of any size, and allows you to build custom summaries of the data in an easy-to-manage table"
   ]
  },
  {
   "cell_type": "markdown",
   "metadata": {},
   "source": [
    "# Analyze the pivot table"
   ]
  },
  {
   "cell_type": "markdown",
   "metadata": {},
   "source": [
    "Based on the included Pivot Table which contains rainfall data about 3 cities, which statement is true?"
   ]
  },
  {
   "cell_type": "markdown",
   "metadata": {},
   "source": [
    "- Seattle has more rainfall in December, than Washington, DC or New Orleans have in any single month. (See 02.03)"
   ]
  },
  {
   "cell_type": "markdown",
   "metadata": {},
   "source": [
    "# Analyze the pivot table pt 2"
   ]
  },
  {
   "cell_type": "markdown",
   "metadata": {},
   "source": [
    "Based on the included Pivot Table, What does cell D14 represent?"
   ]
  },
  {
   "cell_type": "markdown",
   "metadata": {},
   "source": [
    "- The total annual rainfall in Phoenix is 10 inches. (See 02.04)"
   ]
  },
  {
   "cell_type": "markdown",
   "metadata": {},
   "source": [
    "# Selecting filters"
   ]
  },
  {
   "cell_type": "markdown",
   "metadata": {},
   "source": [
    "Now that you know how to create the body and layout of a pivot table, let's start organizing the data.\n",
    "\n",
    "One option is to filter the data. You can do this by selecting a field in the Filter section of the pivot table editor.\n",
    "\n",
    "This will then give you the option to filter based on the contents of that field."
   ]
  },
  {
   "cell_type": "markdown",
   "metadata": {},
   "source": [
    "- See 02.06"
   ]
  },
  {
   "cell_type": "markdown",
   "metadata": {},
   "source": [
    "# Filtering by using a string"
   ]
  },
  {
   "cell_type": "markdown",
   "metadata": {},
   "source": [
    "Sometimes you will need to select multiple entries within the Filter, which you can do by clicking each selection individually.\n",
    "\n",
    "However; this can become time-consuming if there are many items to scroll through, such as this example which contains a list of 50 cities.\n",
    "\n",
    "There is a shortcut to save you some time though, as you can type in a text-string, and select all of the entries that contain that string. For instance, if you want to select all of the cities in California, you can type \"Cali\" in the filter, and it will return only those items that contain that string."
   ]
  },
  {
   "cell_type": "markdown",
   "metadata": {},
   "source": [
    "- See 02.07"
   ]
  },
  {
   "cell_type": "markdown",
   "metadata": {},
   "source": [
    "# Filtering on min/max values"
   ]
  },
  {
   "cell_type": "markdown",
   "metadata": {},
   "source": [
    "Even though filters are often used to select different groups of items, you can also filter on numerical values as well. In this example you will select the highest and lowest values in order to determine the extreme outliers of the dataset."
   ]
  },
  {
   "cell_type": "markdown",
   "metadata": {},
   "source": [
    "- See 02.08"
   ]
  },
  {
   "cell_type": "markdown",
   "metadata": {},
   "source": [
    "# Filtering on values"
   ]
  },
  {
   "cell_type": "markdown",
   "metadata": {},
   "source": [
    " This time you'll need to find the cities that receive the most days of rainfall in a month."
   ]
  },
  {
   "cell_type": "markdown",
   "metadata": {},
   "source": [
    "- See 02.09"
   ]
  },
  {
   "cell_type": "markdown",
   "metadata": {},
   "source": [
    "# Building a complete pivot table"
   ]
  },
  {
   "cell_type": "markdown",
   "metadata": {},
   "source": [
    "You have done all of the steps individually, now it's time to put them all together and build a complete Pivot Table from scratch.\n",
    "\n",
    "Build a pivot table that shows the rainfall by month in each city."
   ]
  },
  {
   "cell_type": "markdown",
   "metadata": {},
   "source": [
    "- See 02.11"
   ]
  },
  {
   "cell_type": "markdown",
   "metadata": {},
   "source": [
    "# Building a complete pivot table pt 2"
   ]
  },
  {
   "cell_type": "markdown",
   "metadata": {},
   "source": [
    "One of the fields in the dataset is the number of days it rained in a given month and city. Build a pivot table that shows the frequency of each value (number of raindays), and how often each value occurred in each month."
   ]
  },
  {
   "cell_type": "markdown",
   "metadata": {},
   "source": [
    "- See 02.12"
   ]
  },
  {
   "cell_type": "markdown",
   "metadata": {},
   "source": [
    "# Building a complete pivot table pt 3"
   ]
  },
  {
   "cell_type": "markdown",
   "metadata": {},
   "source": [
    "Build a Pivot Table that shows the number of days and inches of rain for each city. Create a filter that allows you to filter by month, and filter the table to only show January."
   ]
  },
  {
   "cell_type": "markdown",
   "metadata": {},
   "source": [
    "- See 02.13"
   ]
  }
 ],
 "metadata": {
  "kernelspec": {
   "display_name": "Python 3.8.11 ('env_py')",
   "language": "python",
   "name": "python3"
  },
  "language_info": {
   "name": "python",
   "version": "3.8.11"
  },
  "orig_nbformat": 4,
  "vscode": {
   "interpreter": {
    "hash": "1e949e87132dd83f1a7623eb88007e3532b03b66b77111be347aa4a383049722"
   }
  }
 },
 "nbformat": 4,
 "nbformat_minor": 2
}

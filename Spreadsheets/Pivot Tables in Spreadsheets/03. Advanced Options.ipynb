{
 "cells": [
  {
   "cell_type": "markdown",
   "metadata": {},
   "source": [
    "# Counting text values"
   ]
  },
  {
   "cell_type": "markdown",
   "metadata": {},
   "source": [
    "you will need to count how many films were released in each year.\n",
    "\n",
    "In order to do this, you'll need to use the following fields: Release Year and Title"
   ]
  },
  {
   "cell_type": "markdown",
   "metadata": {},
   "source": [
    "- See 03.02"
   ]
  },
  {
   "cell_type": "markdown",
   "metadata": {},
   "source": [
    "# Counting numerical values"
   ]
  },
  {
   "cell_type": "markdown",
   "metadata": {},
   "source": [
    "This time we want to count how many films of each language made any amount of Gross Revenue.\n",
    "\n",
    "You'll need to find a way to distinguish the films by language, and then count how many have a numerical value for Gross Revenue."
   ]
  },
  {
   "cell_type": "markdown",
   "metadata": {},
   "source": [
    "- See 03.03"
   ]
  },
  {
   "cell_type": "markdown",
   "metadata": {},
   "source": [
    "# Minimum and maximum values"
   ]
  },
  {
   "cell_type": "markdown",
   "metadata": {},
   "source": [
    "you'll need to find the Minimum and Maximum Budgets for films in each country.\n",
    "\n",
    "You'll need to add Budget to the Values section twice, with the first one showing the minimum value, and the second one showing the maximum value."
   ]
  },
  {
   "cell_type": "markdown",
   "metadata": {},
   "source": [
    "- See 03.04"
   ]
  },
  {
   "cell_type": "markdown",
   "metadata": {},
   "source": [
    "# Average and median"
   ]
  },
  {
   "cell_type": "markdown",
   "metadata": {},
   "source": [
    "you'll need to find the Average and Median values for Gross Revenue each year.\n",
    "\n",
    "You'll need to add Gross to the Values section twice, with the first one showing the average value, and the second one showing the median value."
   ]
  },
  {
   "cell_type": "markdown",
   "metadata": {},
   "source": [
    "- See 03.05"
   ]
  },
  {
   "cell_type": "markdown",
   "metadata": {},
   "source": [
    "# What can be done with a calculated field"
   ]
  },
  {
   "cell_type": "markdown",
   "metadata": {},
   "source": [
    "Which answer best describes what a Calculated Field does?"
   ]
  },
  {
   "cell_type": "markdown",
   "metadata": {},
   "source": [
    "- It allows you to add additional fields to your pivot table, by performing simple mathematical functions on the existing data\n"
   ]
  },
  {
   "cell_type": "markdown",
   "metadata": {},
   "source": [
    "# Create a calculated field"
   ]
  },
  {
   "cell_type": "markdown",
   "metadata": {},
   "source": [
    "you'll need to calculate the profit by year. The pivot table is already partially built, showing the Gross Revenue and Budget for each year. You'll need to add the calculated field."
   ]
  },
  {
   "cell_type": "markdown",
   "metadata": {},
   "source": [
    "- See 03.08"
   ]
  },
  {
   "cell_type": "markdown",
   "metadata": {},
   "source": [
    "# Create a calculated field pt 2"
   ]
  },
  {
   "cell_type": "markdown",
   "metadata": {},
   "source": [
    "we are going to look at the ten films with the highest total budgets, and we need to cut them in half!"
   ]
  },
  {
   "cell_type": "markdown",
   "metadata": {},
   "source": [
    "- See 03.09"
   ]
  },
  {
   "cell_type": "markdown",
   "metadata": {},
   "source": [
    "# Create a calculated field pt 3"
   ]
  },
  {
   "cell_type": "markdown",
   "metadata": {},
   "source": [
    "This pivot table lists the top ten grossing films in the dataset. What would happen if the studios that produced these films decided to donate 1% of Gross Revenues to charity? Let's calculate how much that would amount to. Create a calculated field that shows 1% of Gross Revenue for each of these films."
   ]
  },
  {
   "cell_type": "markdown",
   "metadata": {},
   "source": [
    "- See 03.10"
   ]
  },
  {
   "cell_type": "markdown",
   "metadata": {},
   "source": [
    "# Percentage of grand total"
   ]
  },
  {
   "cell_type": "markdown",
   "metadata": {},
   "source": [
    "Let's calculate the percentage of Gross Revenue that is earned by each rating.\n"
   ]
  },
  {
   "cell_type": "markdown",
   "metadata": {},
   "source": [
    "- See 03.12"
   ]
  },
  {
   "cell_type": "markdown",
   "metadata": {},
   "source": [
    "# Percentage of rows"
   ]
  },
  {
   "cell_type": "markdown",
   "metadata": {},
   "source": [
    "Let's look at a selection of films released in various languages over several years. You'll need to calculate the percentage of Gross Revenue that can be attributed to a certain language in each year. For instance, in 2010 there were films released in French, Hindi, and Spanish, totalling $30M of Gross Revenue. What percentage of that $30M can be attributed to each language.\n",
    "\n",
    "You will not need to add any additional fields to the pivot table editor for this exercise."
   ]
  },
  {
   "cell_type": "markdown",
   "metadata": {},
   "source": [
    "- See 03.13"
   ]
  },
  {
   "cell_type": "markdown",
   "metadata": {},
   "source": [
    "# What does drilling down do?"
   ]
  },
  {
   "cell_type": "markdown",
   "metadata": {},
   "source": [
    "If you were to double-click on cell B4 what would happen?"
   ]
  },
  {
   "cell_type": "markdown",
   "metadata": {},
   "source": [
    "- A new tab would open which contains a sub-selection of the original dataset which corresponds to the number you double-clicked (See 03.14)"
   ]
  },
  {
   "cell_type": "markdown",
   "metadata": {},
   "source": [
    "# Grouping rows"
   ]
  },
  {
   "cell_type": "markdown",
   "metadata": {},
   "source": [
    "you are going to be looking at the Budgets for every film within the dataset. You'll need to determine how many films fell into specific ranges of budgets. For instance, how many had a budget of $0 - $50 Million; how many had a budget of $50 - $100 Million, and so on."
   ]
  },
  {
   "cell_type": "markdown",
   "metadata": {},
   "source": [
    "- See 03.15"
   ]
  }
 ],
 "metadata": {
  "kernelspec": {
   "display_name": "Python 3.8.11 ('env_py')",
   "language": "python",
   "name": "python3"
  },
  "language_info": {
   "name": "python",
   "version": "3.8.11"
  },
  "orig_nbformat": 4,
  "vscode": {
   "interpreter": {
    "hash": "1e949e87132dd83f1a7623eb88007e3532b03b66b77111be347aa4a383049722"
   }
  }
 },
 "nbformat": 4,
 "nbformat_minor": 2
}

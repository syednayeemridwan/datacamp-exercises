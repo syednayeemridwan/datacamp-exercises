{
 "cells": [
  {
   "cell_type": "markdown",
   "metadata": {},
   "source": [
    "# Using data validation controls view medal tallies"
   ]
  },
  {
   "cell_type": "markdown",
   "metadata": {},
   "source": [
    "In this completed basic dashboard example, you'll find the medal statistics by country taken from the 2016 Olympic Games held in Brazil.\n",
    "\n",
    "You are going to use the data validation controls to view the gold, silver, and bronze medal tallies for Australia."
   ]
  },
  {
   "cell_type": "markdown",
   "metadata": {},
   "source": [
    "- See 01.02"
   ]
  },
  {
   "cell_type": "markdown",
   "metadata": {},
   "source": [
    "# Using data validation controls to pick from a list"
   ]
  },
  {
   "cell_type": "markdown",
   "metadata": {},
   "source": [
    "you are going to pick sequential numbers from a list to order countries by medal rankings. In this exercise, you will be sorting the countries by total number of medals, but country rank in the Olympics is typically determined by the number of Gold medals per country. Ties are broken using silver medals, and then bronze medals."
   ]
  },
  {
   "cell_type": "markdown",
   "metadata": {},
   "source": [
    "- See 01.03"
   ]
  },
  {
   "cell_type": "markdown",
   "metadata": {},
   "source": [
    "# Using conditional formatting on a dashboard"
   ]
  },
  {
   "cell_type": "markdown",
   "metadata": {},
   "source": [
    "Conditional formatting is another functionality that completed dashboards can contain that allows users to modify the visual display on the dashboard. Here, you will explore the conditional formatting on the same dashboard for the 2016 Olympic Games in Brazil.\n",
    "\n",
    "There is already a conditional formatting rule set that highlights medal counts greater than or equal to 15. Your task is to adapt this rule so that the dashboard only highlights cells greater than or equal to 25."
   ]
  },
  {
   "cell_type": "markdown",
   "metadata": {},
   "source": [
    "- See 01.04"
   ]
  },
  {
   "cell_type": "markdown",
   "metadata": {},
   "source": [
    "# Creating a column chart from your data"
   ]
  },
  {
   "cell_type": "markdown",
   "metadata": {},
   "source": [
    "In the dataset you'll find the medal statistics by country from the 2016 Olympic Games held in Brazil in order of ranking. Let's use the data to create a column chart to show the medal tallies of the first 3 ranked countries."
   ]
  },
  {
   "cell_type": "markdown",
   "metadata": {},
   "source": [
    "- See 01.06 "
   ]
  },
  {
   "cell_type": "markdown",
   "metadata": {},
   "source": [
    "# Setting up your worksheet with formulas of reference"
   ]
  },
  {
   "cell_type": "markdown",
   "metadata": {},
   "source": [
    " you will showcase only the data you want to chart using formulas of reference to extract the top 3 countries' medal tallies from the dataset and show them in the dashboard."
   ]
  },
  {
   "cell_type": "markdown",
   "metadata": {},
   "source": [
    "- See 01.07"
   ]
  },
  {
   "cell_type": "markdown",
   "metadata": {},
   "source": [
    "# Charting the medal statistics"
   ]
  },
  {
   "cell_type": "markdown",
   "metadata": {},
   "source": [
    "Now that you have only the data you want to chart in this task you will create a column chart and display it underneath your extracted data."
   ]
  },
  {
   "cell_type": "markdown",
   "metadata": {},
   "source": [
    "- See 01.08"
   ]
  },
  {
   "cell_type": "markdown",
   "metadata": {},
   "source": [
    "# Getting started"
   ]
  },
  {
   "cell_type": "markdown",
   "metadata": {},
   "source": [
    "Setting up your data in the correct way in the beginning will save you lots of time and effort later on. Here, you will set up your data so you have an efficient spreadsheet to work with as you create your dashboard."
   ]
  },
  {
   "cell_type": "markdown",
   "metadata": {},
   "source": [
    "- See 01.10"
   ]
  },
  {
   "cell_type": "markdown",
   "metadata": {},
   "source": [
    "# Format dates and numbers"
   ]
  },
  {
   "cell_type": "markdown",
   "metadata": {},
   "source": [
    "To make your data clear at a glance, in this task you will apply a little bit of formatting to your data."
   ]
  },
  {
   "cell_type": "markdown",
   "metadata": {},
   "source": [
    "- See 01.11"
   ]
  }
 ],
 "metadata": {
  "kernelspec": {
   "display_name": "Python 3.8.11 ('env_py')",
   "language": "python",
   "name": "python3"
  },
  "language_info": {
   "name": "python",
   "version": "3.8.11"
  },
  "orig_nbformat": 4,
  "vscode": {
   "interpreter": {
    "hash": "1e949e87132dd83f1a7623eb88007e3532b03b66b77111be347aa4a383049722"
   }
  }
 },
 "nbformat": 4,
 "nbformat_minor": 2
}

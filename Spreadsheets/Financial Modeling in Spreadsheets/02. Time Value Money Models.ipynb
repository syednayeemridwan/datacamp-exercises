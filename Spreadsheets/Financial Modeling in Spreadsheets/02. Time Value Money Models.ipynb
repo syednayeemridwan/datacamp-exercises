{
 "cells": [
  {
   "cell_type": "markdown",
   "metadata": {},
   "source": [
    "# Estimate effective interest rates"
   ]
  },
  {
   "cell_type": "markdown",
   "metadata": {},
   "source": [
    "Let's say you invested $1000 at 8% simple interest rate for 5 years. What kind of effective interest rates should you see across different compounding frequencies?\n",
    "\n",
    "Use the following formula to estimate that rate: `(1 + Nominal Rate/Compound Freq)^Compound Freq - 1`"
   ]
  },
  {
   "cell_type": "markdown",
   "metadata": {},
   "source": [
    "- See 02.02"
   ]
  },
  {
   "cell_type": "markdown",
   "metadata": {},
   "source": [
    "# How much will I earn?"
   ]
  },
  {
   "cell_type": "markdown",
   "metadata": {},
   "source": [
    "Next, you can calculate the future value of your investment using the fv() function. This function allows you to examine the effects of the compounding frequency rate on the growth of your money, which you might use to compare between different investment opportunities.\n",
    "\n",
    "For example, is it worth going with a weekly rate? Or does a biweekly investment give you the same return?"
   ]
  },
  {
   "cell_type": "markdown",
   "metadata": {},
   "source": [
    "- See 02.03"
   ]
  },
  {
   "cell_type": "markdown",
   "metadata": {},
   "source": [
    "# Double your money"
   ]
  },
  {
   "cell_type": "markdown",
   "metadata": {},
   "source": [
    "Since you created this Sheets model with reference values, you can change the length of investment to help determine when you should make a certain amount of money. How long will it take you to double your initial investment from $1000 to $2000 dollars?"
   ]
  },
  {
   "cell_type": "markdown",
   "metadata": {},
   "source": [
    "- See 02.04"
   ]
  },
  {
   "cell_type": "markdown",
   "metadata": {},
   "source": [
    "# Out-of-state tuition"
   ]
  },
  {
   "cell_type": "markdown",
   "metadata": {},
   "source": [
    "You know you want your child to be able to go to any school they are interested in, even if it is out-of-state. Estimate the amount you will need to pay each year to save $25,000 for four years of college ($100,000 total) for the average out-of-state tuition cost"
   ]
  },
  {
   "cell_type": "markdown",
   "metadata": {},
   "source": [
    "- See 02.06"
   ]
  },
  {
   "cell_type": "markdown",
   "metadata": {},
   "source": [
    "# Add some starter money"
   ]
  },
  {
   "cell_type": "markdown",
   "metadata": {},
   "source": [
    "After hearing you were starting a college savings fund, your friends and family help donate $5000 to get the investment started for the future. How much does that decrease your payment from before?"
   ]
  },
  {
   "cell_type": "markdown",
   "metadata": {},
   "source": [
    "- See 02.07"
   ]
  },
  {
   "cell_type": "markdown",
   "metadata": {},
   "source": [
    "# Can your child pay for college?"
   ]
  },
  {
   "cell_type": "markdown",
   "metadata": {},
   "source": [
    "You've managed to save the $100,000 for the out-of-state college tuition. Will your child be able to withdraw $25,000 for all four years of college?"
   ]
  },
  {
   "cell_type": "markdown",
   "metadata": {},
   "source": [
    "- See 02.08"
   ]
  },
  {
   "cell_type": "markdown",
   "metadata": {},
   "source": [
    "# Study abroad for a year"
   ]
  },
  {
   "cell_type": "markdown",
   "metadata": {},
   "source": [
    "In the last exercise, you found that the investment would allow your child to withdrawal tuition for at least four years. Would the investment support going to study abroad for a year? See if there are still four years of withdrawals with a future (final) value of $10,000 for study abroad costs."
   ]
  },
  {
   "cell_type": "markdown",
   "metadata": {},
   "source": [
    "- See 02.09"
   ]
  },
  {
   "cell_type": "markdown",
   "metadata": {},
   "source": [
    "# Start the loan amortization table"
   ]
  },
  {
   "cell_type": "markdown",
   "metadata": {},
   "source": [
    "You want to know how much you will need to pay yearly on a $200,000 house loan to plan for your monthly expenses. You can use the pmt() function to calculate the yearly payment for this loan at 4% interest and a 15 year loan. Remember to expand the cells if you cannot see the table headers.\n",
    "\n",
    "Creating these tables will help you understand how loans are repaid and allow you to check different interest rates and loan amounts for the best fit to your budget."
   ]
  },
  {
   "cell_type": "markdown",
   "metadata": {},
   "source": [
    "- See 02.11"
   ]
  },
  {
   "cell_type": "markdown",
   "metadata": {},
   "source": [
    "# Where did your money go?"
   ]
  },
  {
   "cell_type": "markdown",
   "metadata": {},
   "source": [
    "When you create a loan amortization table, you will calculate how the initial payments are split between interest and principal payments. This information tells you how much it costs (interest) to pay on the loan each year and what you can expect your balance to be at the end of the year."
   ]
  },
  {
   "cell_type": "markdown",
   "metadata": {},
   "source": [
    "- See 02.12"
   ]
  },
  {
   "cell_type": "markdown",
   "metadata": {},
   "source": [
    "# Complete loan model"
   ]
  },
  {
   "cell_type": "markdown",
   "metadata": {},
   "source": [
    "You can now finalize your loan amortization model. With this type of Sheets model, you can examine the differences in loan payments for different interest rates, loan balances, and number of years for payments. These comparisons can help you pick the right loan for you!"
   ]
  },
  {
   "cell_type": "markdown",
   "metadata": {},
   "source": [
    "- See 02.13"
   ]
  }
 ],
 "metadata": {
  "kernelspec": {
   "display_name": "Python 3.8.11 ('env_py')",
   "language": "python",
   "name": "python3"
  },
  "language_info": {
   "name": "python",
   "version": "3.8.11"
  },
  "orig_nbformat": 4,
  "vscode": {
   "interpreter": {
    "hash": "1e949e87132dd83f1a7623eb88007e3532b03b66b77111be347aa4a383049722"
   }
  }
 },
 "nbformat": 4,
 "nbformat_minor": 2
}

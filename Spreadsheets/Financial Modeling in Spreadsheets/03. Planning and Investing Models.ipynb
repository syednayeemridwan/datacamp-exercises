{
 "cells": [
  {
   "cell_type": "markdown",
   "metadata": {},
   "source": [
    "# What's your nest egg?"
   ]
  },
  {
   "cell_type": "markdown",
   "metadata": {},
   "source": [
    "To get started building a retirement model in real dollars, you can enter your expected return rate for retirement and the amount you want to withdraw each year. Let's estimate a bit more money to withdraw, to account for potential inflation.\n",
    "\n",
    "With these values, you can then calculate just how much you need to have saved by the time you retire as the nest egg by using Annual Withdrawal divided by Interest Rate. Be to sure to maximize the columns to see the headers for the model."
   ]
  },
  {
   "cell_type": "markdown",
   "metadata": {},
   "source": [
    "- See 03.02"
   ]
  },
  {
   "cell_type": "markdown",
   "metadata": {},
   "source": [
    "# How much do you need to pay?"
   ]
  },
  {
   "cell_type": "markdown",
   "metadata": {},
   "source": [
    "Now that you know how much money total you need to save, let's create a table to examine the amount per month to save based on years to retirement and the expected return rate during these saving years.\n",
    "\n",
    "This example allows you to extend your skills with the pmt() function to monthly amounts, as previous exercises used yearly amounts. Use `=pmt((1+Annual Rate)^(1/12)-1, Years*12, 0, -Nest Egg)` as the formula filling in the cells for each value."
   ]
  },
  {
   "cell_type": "markdown",
   "metadata": {},
   "source": [
    "- See 03.03"
   ]
  },
  {
   "cell_type": "markdown",
   "metadata": {},
   "source": [
    "# Finish and visualize"
   ]
  },
  {
   "cell_type": "markdown",
   "metadata": {},
   "source": [
    "You should finish your retirement model by copying the formula you just created to the rest of the table for retirement savings. By using the partial and complete absolute references in the previous exercise, you can simply copy and paste them into all the cells.\n",
    "\n",
    "Last, visualize the difference more years of savings makes on the monthly payment by including a chart."
   ]
  },
  {
   "cell_type": "markdown",
   "metadata": {},
   "source": [
    "- See 03.04"
   ]
  },
  {
   "cell_type": "markdown",
   "metadata": {},
   "source": [
    "# Update yearly values"
   ]
  },
  {
   "cell_type": "markdown",
   "metadata": {},
   "source": [
    "This example includes a completed retirement model. However, this model is not dynamic - the data includes numbers that were calculated from the input values, but are not formulas that would update automatically.\n",
    "\n",
    "You will work on updating the numbers included to be formulas so the model can be used for new input data. Be sure to expand the cells in row 13 to see all the text."
   ]
  },
  {
   "cell_type": "markdown",
   "metadata": {},
   "source": [
    "- See 03.06"
   ]
  },
  {
   "cell_type": "markdown",
   "metadata": {},
   "source": [
    "# Add the estimate of fixed income"
   ]
  },
  {
   "cell_type": "markdown",
   "metadata": {},
   "source": [
    "You just calculated the total amount of money you have in the last exercise. Next, you want to calculate each of those columns separately, so you can track their changes over time. This breakdown of the values allows you to monitor for negative values in your future money.\n",
    "\n",
    "To calculate Fixed Income Holding Year Beginning, you will use the pv() function to calculate the present value for that year. For the pv() use:\n",
    "\n",
    "- rate: `(1 + Return on Income * (1 - Ordinary Tax Rate)) / (1 + Inflation Rate) - 1`\n",
    "- number of periods: `Security Horizon cell - 1`\n",
    "- payment amount: `- Annual Withdrawal in row 14`"
   ]
  },
  {
   "cell_type": "markdown",
   "metadata": {},
   "source": [
    "- See 03.07"
   ]
  },
  {
   "cell_type": "markdown",
   "metadata": {},
   "source": [
    "# Break down the stock balance"
   ]
  },
  {
   "cell_type": "markdown",
   "metadata": {},
   "source": [
    "Each year, you will sell stocks to ensure that you have enough money to continue to withdraw money for your expenses. You will need to calculate the stock sales in column D and the beginning of the year stock holding in column E. Remember, that stock holding has a different formula for year 2 and on:\n",
    "\n",
    "`= Year End Stock Holding + Stock Sales / (1 - Capital Gains Tax + Capital Gains Tax * Last Years Tax Basis / Last Years End Stock Holding)`\n",
    "\n",
    "Because this spreadsheet includes a lot of model values, you will use values that will be explained more in the next video. Add the stock sales and holdings, and take note of their values, as these fields are often where a nominal model indicates problems. Be sure to expand the column cells to see the full name of the header!"
   ]
  },
  {
   "cell_type": "markdown",
   "metadata": {},
   "source": [
    "- See 03.08"
   ]
  },
  {
   "cell_type": "markdown",
   "metadata": {},
   "source": [
    "# Add withdrawals and money made"
   ]
  },
  {
   "cell_type": "markdown",
   "metadata": {},
   "source": [
    "Let's update our previous retirement sheet with the annual withdrawal amounts and the money you made in income and stocks by replacing the numbers provided with formulas.\n",
    "\n",
    "For the second year of annual withdrawals use `= Annual Withdrawal * (1 + Inflation) ^ (Year - 1)` by filling in the right cell numbers and absolute references for initial variables.\n",
    "\n",
    "For income after tax, use `= Fixed Income Beginning * Return on Fixed Income * (1 - Ordinary Tax Rate).`\n",
    "\n",
    "For dollar return on stocks in each year, use `= Stock Holding Beginning * Overall Percent Return on Stocks.`"
   ]
  },
  {
   "cell_type": "markdown",
   "metadata": {},
   "source": [
    "- See 03.10"
   ]
  },
  {
   "cell_type": "markdown",
   "metadata": {},
   "source": [
    "# Calculate total year-end"
   ]
  },
  {
   "cell_type": "markdown",
   "metadata": {},
   "source": [
    "To finalize your model, you should edit the year-end totals to include formulas for those columns.\n",
    "\n",
    "Remember that year-end stock is: `= Stock Holding Beginning + Stock Return`\n",
    "\n",
    "Fixed income holding is: `= Fixed Income Beginning + Income After Tax`\n",
    "\n",
    "Total year-end balance is: `= Year-End Stock + Year-End Fixed Income`"
   ]
  },
  {
   "cell_type": "markdown",
   "metadata": {},
   "source": [
    "- See 03.11"
   ]
  },
  {
   "cell_type": "markdown",
   "metadata": {},
   "source": [
    "# How much initial money?"
   ]
  },
  {
   "cell_type": "markdown",
   "metadata": {},
   "source": [
    "You created a retirement planning spreadsheet in the previous exercises. In that spreadsheet, you indicated that you wanted to save for 15 years outside of retirement with $1,400,000 initial balance.\n",
    "\n",
    "Looking at the your model, you see the stock holdings are negative before the end of 15 years (cell E27). What initial balance do you need to keep all balances positive through 15 years?\n",
    "\n",
    "You can change the estimate of the initial balance by $15,000 at a time to find a suitable initial balance for nominal retirement dollars to remain positive."
   ]
  },
  {
   "cell_type": "markdown",
   "metadata": {},
   "source": [
    "- See 03.12"
   ]
  }
 ],
 "metadata": {
  "kernelspec": {
   "display_name": "Python 3.8.11 ('env_py')",
   "language": "python",
   "name": "python3"
  },
  "language_info": {
   "name": "python",
   "version": "3.8.11"
  },
  "orig_nbformat": 4,
  "vscode": {
   "interpreter": {
    "hash": "1e949e87132dd83f1a7623eb88007e3532b03b66b77111be347aa4a383049722"
   }
  }
 },
 "nbformat": 4,
 "nbformat_minor": 2
}

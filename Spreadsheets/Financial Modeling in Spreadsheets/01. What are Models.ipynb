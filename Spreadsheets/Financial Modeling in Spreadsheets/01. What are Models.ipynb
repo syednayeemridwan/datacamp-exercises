{
 "cells": [
  {
   "cell_type": "markdown",
   "metadata": {},
   "source": [
    "# Format the income statement"
   ]
  },
  {
   "cell_type": "markdown",
   "metadata": {},
   "source": [
    "The following sheet includes the income statement for the Grape Debate Wine Company. In this exercise, you will set up the income numbers to be in financial format by using the Format options in the tool bar.\n",
    "\n",
    "Be sure to format just the income numbers – leave the Year End row 5 as a regular number. Be sure to maximize Column A if you cannot see the entire label."
   ]
  },
  {
   "cell_type": "markdown",
   "metadata": {},
   "source": [
    "- See 01.02"
   ]
  },
  {
   "cell_type": "markdown",
   "metadata": {},
   "source": [
    "# Create the sum values"
   ]
  },
  {
   "cell_type": "markdown",
   "metadata": {},
   "source": [
    "After formatting the financial numbers, you will now want to update the bolded rows with formulas to create sums for the income statement.\n",
    "\n",
    "You can use the =sum() formula to add up each subsection for Income, EBIT, and Earnings. Remember from the slides that each section includes the total from the previous section. Therefore, EBIT is the sum of Gross Operating Income, Selling & Administraiton, Depreciation, and Other Income/Expenses."
   ]
  },
  {
   "cell_type": "markdown",
   "metadata": {},
   "source": [
    "- See 01.03"
   ]
  },
  {
   "cell_type": "markdown",
   "metadata": {},
   "source": [
    "# Copy sums for each year"
   ]
  },
  {
   "cell_type": "markdown",
   "metadata": {},
   "source": [
    "To finish your first financial model, you will copy the formulas from the previous exercise across Years 2016-2018. This information will show the four-year income statement for the Wine Company.\n",
    "\n",
    "You can use copy (ctrl + c) and paste (crtl + v) to copy over each formula, as Sheets automatically fills in the right cell references for you, or you can use the fill handle as shown in the slides."
   ]
  },
  {
   "cell_type": "markdown",
   "metadata": {},
   "source": [
    "- See 01.04"
   ]
  },
  {
   "cell_type": "markdown",
   "metadata": {},
   "source": [
    "# Format a balance statement model"
   ]
  },
  {
   "cell_type": "markdown",
   "metadata": {},
   "source": [
    "You will now create a balance statement model for the Grape Debate Wine Company. They want to format the statement using financial settings. Even though equity and liabilities are money owed, they are usually represented as positive numbers in these documents.\n",
    "\n",
    "Each section will have a subtotal, using the sum() function, and the final total for equity and liabilities should be the total of those two sections."
   ]
  },
  {
   "cell_type": "markdown",
   "metadata": {},
   "source": [
    "- See 01.06"
   ]
  },
  {
   "cell_type": "markdown",
   "metadata": {},
   "source": [
    "# Balance all the years"
   ]
  },
  {
   "cell_type": "markdown",
   "metadata": {},
   "source": [
    "To complete our balance statement model, you will copy over the formulas from the last exercise into columns C:E to complete all four years of data.\n",
    "\n",
    "A completed balance sheet allows you to view trends in growth or loss over time and what areas might be driving those changes."
   ]
  },
  {
   "cell_type": "markdown",
   "metadata": {},
   "source": [
    "- See 01.07"
   ]
  },
  {
   "cell_type": "markdown",
   "metadata": {},
   "source": [
    "# Common size statement"
   ]
  },
  {
   "cell_type": "markdown",
   "metadata": {},
   "source": [
    "Instead of a balance sheet, let's build a common size statement for Year 2018 to indicate where assets and equity/liability are placed in the company.\n",
    "\n",
    "You will use absolute referencing to create percentages for Column F. You should use the $ before the column letter and the column number to make sure the cell does not change when you copy over the formula."
   ]
  },
  {
   "cell_type": "markdown",
   "metadata": {},
   "source": [
    "- See 01.08"
   ]
  },
  {
   "cell_type": "markdown",
   "metadata": {},
   "source": [
    "# Update the cash flow"
   ]
  },
  {
   "cell_type": "markdown",
   "metadata": {},
   "source": [
    "You will be creating a cash flow for the Grape Debate Wine Company. You should update the red cells B16, B20:B22 with the formulas referencing the Income and Balance Statement sheets.\n",
    "\n",
    "You will use the Balance Statement to transfer over values. Equipment (B16) should be in the Balance statement (row 9), Debt (B20) to Balance Debt (row 15), and Equity (B21) to Balance Paid Capital (row 21). Subtract 2016 minus 2015.\n",
    "\n",
    "Cash dividends (B22) should be matched the Income Statement sheet Dividends (row 22) and pick year 2016."
   ]
  },
  {
   "cell_type": "markdown",
   "metadata": {},
   "source": [
    "- See 01.10"
   ]
  },
  {
   "cell_type": "markdown",
   "metadata": {},
   "source": [
    "# Complete cash flow for all years"
   ]
  },
  {
   "cell_type": "markdown",
   "metadata": {},
   "source": [
    "Now that you have set up the cash flow statement for Year 2016, you can complete Years 2017-2018 by copying the formulas for all cells across columns C and D."
   ]
  },
  {
   "cell_type": "markdown",
   "metadata": {},
   "source": [
    "- See 01.11"
   ]
  },
  {
   "cell_type": "markdown",
   "metadata": {},
   "source": [
    "# Forecast Cash Flows"
   ]
  },
  {
   "cell_type": "markdown",
   "metadata": {},
   "source": [
    "You now have updated forecast data, so you should update the cash flow model. This information would allow Grape Debate to plan for the future and identify potentials cash flow problems and ways to improve their financial outcomes.\n",
    "\n",
    "The formulas have mostly been provided but you should fill in the missing forecast for operations, and the missing forecast factors for inventories and equipment."
   ]
  },
  {
   "cell_type": "markdown",
   "metadata": {},
   "source": [
    "- See 01.12"
   ]
  }
 ],
 "metadata": {
  "kernelspec": {
   "display_name": "Python 3.8.11 ('env_py')",
   "language": "python",
   "name": "python3"
  },
  "language_info": {
   "name": "python",
   "version": "3.8.11"
  },
  "orig_nbformat": 4,
  "vscode": {
   "interpreter": {
    "hash": "1e949e87132dd83f1a7623eb88007e3532b03b66b77111be347aa4a383049722"
   }
  }
 },
 "nbformat": 4,
 "nbformat_minor": 2
}

{
 "cells": [
  {
   "cell_type": "markdown",
   "metadata": {},
   "source": [
    "# Relative price and daily return"
   ]
  },
  {
   "cell_type": "markdown",
   "metadata": {},
   "source": [
    "You will be calculating the relative price and daily returns for the AmerisourceBergen Corporation (ABC) stock for the last several months. ABC is one of the largest healthcare companies in the world that sells drugs and hospital supplies. You want to learn the volatility of their stock to see if you should invest by first calculating the relative price and daily returns.\n"
   ]
  },
  {
   "cell_type": "markdown",
   "metadata": {},
   "source": [
    "- See 04.02"
   ]
  },
  {
   "cell_type": "markdown",
   "metadata": {},
   "source": [
    "# What is the average return?"
   ]
  },
  {
   "cell_type": "markdown",
   "metadata": {},
   "source": [
    "You just calculated the daily returns for ABC's stock data. Now you can add the number of days and mean data to be able to see the average daily return."
   ]
  },
  {
   "cell_type": "markdown",
   "metadata": {},
   "source": [
    "- See 04.03"
   ]
  },
  {
   "cell_type": "markdown",
   "metadata": {},
   "source": [
    "# Find volatility"
   ]
  },
  {
   "cell_type": "markdown",
   "metadata": {},
   "source": [
    "By using the daily return data in Column G, you can calculate the daily standard deviation of the stock. To report volatility, it is common to annualize it, wherein you multiply the daily standard deviation by the square root of the number of days of data."
   ]
  },
  {
   "cell_type": "markdown",
   "metadata": {},
   "source": [
    "- See 04.04"
   ]
  },
  {
   "cell_type": "markdown",
   "metadata": {},
   "source": [
    "# Expected return and random values"
   ]
  },
  {
   "cell_type": "markdown",
   "metadata": {},
   "source": [
    "In the last set of exercises, you found that ABC's final stock price was $83.00 with a volatility of 28.56%. Using this data, we can simulate stock prices on an average expected return (\\mu) of 15% per year.\n",
    "\n",
    "First, calculate the compounded expected rate of return (k). Then, use the normsinv() and rand() functions to simulate volatility of the market. You can maximize the columns to see all the labels clearly."
   ]
  },
  {
   "cell_type": "markdown",
   "metadata": {},
   "source": [
    "- See 04.06"
   ]
  },
  {
   "cell_type": "markdown",
   "metadata": {},
   "source": [
    "# Certainty and uncertainty"
   ]
  },
  {
   "cell_type": "markdown",
   "metadata": {},
   "source": [
    "To complete your simulated stock prices model, you will add stock prices and an expected \"certain\" stock price. The stock price is based on a random estimate of volatility, while the certainty column is estimated based on expected compounded rate of return (k).\n",
    "\n",
    "You will use the formula: `=Previous Row Stock Price*exp(k*1/252+Volatility*Random Estimate*sqrt(1/252))` to estimate the second day of the random stock prices in column B, and the formula: `=Previous Row Certainty*exp(k*1/252)` to estimate the second day of certain stocks in column C."
   ]
  },
  {
   "cell_type": "markdown",
   "metadata": {},
   "source": [
    "- See 04.07"
   ]
  },
  {
   "cell_type": "markdown",
   "metadata": {},
   "source": [
    "# Uncertainty charted"
   ]
  },
  {
   "cell_type": "markdown",
   "metadata": {},
   "source": [
    "To really understand the power of the random volatility estimates, you can create a graph of the certain versus simulated stock prices.\n",
    "\n",
    "The data will be simulated based on a random normal distribution, so your chart will change every time you edit a cell."
   ]
  },
  {
   "cell_type": "markdown",
   "metadata": {},
   "source": [
    "- See 04.08"
   ]
  },
  {
   "cell_type": "markdown",
   "metadata": {},
   "source": [
    "# Stepping out the expected return"
   ]
  },
  {
   "cell_type": "markdown",
   "metadata": {},
   "source": [
    "You previously calculated the volatility and simulated the stock prices for the ABC healthcare and pharmaceutical company. You used a random normal estimation for that simulation. In these exercises, you will figure out the most likely stock prices and show that they are log-normally distributed.\n",
    "\n",
    "First, add the expected return (k) value for the stock. Next, use `=exp((ln(Stock Price)+k*Time Horizon)-4*Volatility*sqrt(Time Horizon))` to calculate minimum and maximum values for the stock."
   ]
  },
  {
   "cell_type": "markdown",
   "metadata": {},
   "source": [
    "- See 04.10"
   ]
  },
  {
   "cell_type": "markdown",
   "metadata": {},
   "source": [
    "# Create the steps for min and max stock prices"
   ]
  },
  {
   "cell_type": "markdown",
   "metadata": {},
   "source": [
    "You just finished creating the range of stock prices to estimate probability values for. To set up that estimation, you will create a table of stock prices with 200 steps between the minimum and maximum values. By using many steps, you can get a better feel for probabiltiies of stock prices across the possible range of the data."
   ]
  },
  {
   "cell_type": "markdown",
   "metadata": {},
   "source": [
    "- See 04.11"
   ]
  },
  {
   "cell_type": "markdown",
   "metadata": {},
   "source": [
    "# Model stock price probability"
   ]
  },
  {
   "cell_type": "markdown",
   "metadata": {},
   "source": [
    "From the stock steps, you can now calculate the probability of each price of your stock. You will first calculate the cumalative probability using the normdist() function. Knowing the cumulative probability of the stock allows you to then calculate the probability between two prices, which will show you the most likely prices given your input values."
   ]
  },
  {
   "cell_type": "markdown",
   "metadata": {},
   "source": [
    "- See 04.13"
   ]
  },
  {
   "cell_type": "markdown",
   "metadata": {},
   "source": [
    "# Complete the probability table"
   ]
  },
  {
   "cell_type": "markdown",
   "metadata": {},
   "source": [
    "You will now set up the rest of the probability table, which will allow you to graph the stock prices against their probabilities.\n",
    "\n",
    "You will copy over the prices from Column A to Column C to simplify making the graph for your model. Then, you will calculate the probability of each price range (i.e., price step 1 to price step 2) by subtracting their cumulative probabilities."
   ]
  },
  {
   "cell_type": "markdown",
   "metadata": {},
   "source": [
    "- See 04.14"
   ]
  },
  {
   "cell_type": "markdown",
   "metadata": {},
   "source": [
    "# Graph the stock distribution"
   ]
  },
  {
   "cell_type": "markdown",
   "metadata": {},
   "source": [
    "You want to visualize the most likely price of a stock, and you will graph the distribution of the expected stock prices.\n",
    "\n",
    "You previously created columns for price and probability of that price so you can create a probability density graph - the prices graphed against their likelihoods.\n",
    "\n",
    "Using the graphing options for sheets, show that the distribution of the graph is log normal."
   ]
  },
  {
   "cell_type": "markdown",
   "metadata": {},
   "source": [
    "- See 04.15"
   ]
  }
 ],
 "metadata": {
  "kernelspec": {
   "display_name": "Python 3.8.11 ('env_py')",
   "language": "python",
   "name": "python3"
  },
  "language_info": {
   "name": "python",
   "version": "3.8.11"
  },
  "orig_nbformat": 4,
  "vscode": {
   "interpreter": {
    "hash": "1e949e87132dd83f1a7623eb88007e3532b03b66b77111be347aa4a383049722"
   }
  }
 },
 "nbformat": 4,
 "nbformat_minor": 2
}

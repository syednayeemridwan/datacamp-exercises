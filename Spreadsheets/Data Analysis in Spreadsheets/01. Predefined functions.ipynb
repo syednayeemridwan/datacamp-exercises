{
 "cells": [
  {
   "cell_type": "markdown",
   "metadata": {},
   "source": [
    "# First function - ROUND"
   ]
  },
  {
   "cell_type": "markdown",
   "metadata": {},
   "source": [
    "Functions perform calculations on your data. For example, the ROUND function calculates the rounded value of its input.\n",
    "\n",
    "A function typically has some input values and one output value. What happens in the middle is handled by Google Sheets, you don't really have to worry about that. The input of a function is also called its arguments.\n",
    "\n",
    "Let's look at the ROUND function:\n",
    "\n",
    "`ROUND(value)`: rounds the number you give as input, value.\n",
    "For example, a cell that contains `=ROUND(7.27)` would evaluate to 7:"
   ]
  },
  {
   "cell_type": "markdown",
   "metadata": {},
   "source": [
    "- See 01.01"
   ]
  },
  {
   "cell_type": "markdown",
   "metadata": {},
   "source": [
    "# Function composition - SQRT"
   ]
  },
  {
   "cell_type": "markdown",
   "metadata": {},
   "source": [
    "you're going to use the output of one function as input to another function. Google Sheets will first evaluate the innermost function, and use the result as an argument for the outer function. Combining functions like this is called function composition.\n",
    "\n",
    "For example, you can use the SQRT function (explained below) in a ROUND function as such: =ROUND(SQRT(5.0625)). First, SQRT(5.0625) will be evaluated to 2.25 and used as an input in ROUND. The final output will be the result of =ROUND(2.25), which is 2. \n",
    "\n",
    "you'll use the following function in combination with the ROUND function:\n",
    "\n",
    "SQRT(value): the square root of a value"
   ]
  },
  {
   "cell_type": "markdown",
   "metadata": {},
   "source": [
    "- See 01.02"
   ]
  },
  {
   "cell_type": "markdown",
   "metadata": {},
   "source": [
    "# Functions and ranges - MIN, MAX"
   ]
  },
  {
   "cell_type": "markdown",
   "metadata": {},
   "source": [
    "Some functions in Google Sheets accept ranges as arguments. A little refresher here: ranges are rectangular groups of cells, identified by 2 cell addresses separated by a colon (e.g. A1:B2).\n",
    "\n",
    "For example, you could calculate the maximum value in range by using the MAX function. It will look for the maximum value within the range.\n",
    "\n",
    "You'll be using the following functions in this exercise: MIN and MAX. Arguments can be ranges, where every value in the range is checked (e.g. =MAX(A1:A7)):\n",
    "\n",
    "- MIN(value1, [value2, ...]): searches for the minimum value in its arguments\n",
    "- MAX(value1, [value2, ...]): searches for the maximum value in its arguments\n",
    "- MAX and MIN could also be used with multiple arguments: for example MAX(1, 5, 2) or even MIN(A1:A7, B7:D7)."
   ]
  },
  {
   "cell_type": "markdown",
   "metadata": {},
   "source": [
    "- See 01.03"
   ]
  },
  {
   "cell_type": "markdown",
   "metadata": {},
   "source": [
    "# Selecting ranges - SUM, AVERAGE, MEDIAN"
   ]
  },
  {
   "cell_type": "markdown",
   "metadata": {},
   "source": [
    "you'll learn how to use ranges as arguments using the mouse. When writing a function, after you have written the opening parentheses ((), you can navigate your mouse to select the desired range. The value of the range will be filled in automatically and the closing parentheses ()) is autocompleted.\n",
    "\n",
    "You'll be using the following functions in this exercise, each can have ranges as arguments:\n",
    "\n",
    "- SUM(value1, [value2, ...]): calculates the sum of all its arguments\n",
    "- AVERAGE(value1, [value2, ...]): calculates the average of all its arguments\n",
    "- MEDIAN(value1, [value2, ...]): calculates the median of all its arguments\n",
    "\n",
    "In the function documentation, you'll see arguments between square brackets ([) sometimes. It means these are optional."
   ]
  },
  {
   "cell_type": "markdown",
   "metadata": {},
   "source": [
    "- See 01.04"
   ]
  },
  {
   "cell_type": "markdown",
   "metadata": {},
   "source": [
    "# Multiple arguments - RANK"
   ]
  },
  {
   "cell_type": "markdown",
   "metadata": {},
   "source": [
    " you'll be using multiple arguments in the RANK function.\n",
    "\n",
    "RANK gives you an idea how a value compares to other values in a range. For example, in our example, it can be used to find out which were the top 5 months in terms of revenue. Specifically:\n",
    "\n",
    "RANK(value, data): evaluates to the rank of value in a range, data\n",
    "For example, if A1:A3 contains the values: 3, 1, 2, then =RANK(A1, $A$1:$A$3) will evaluate to 1, since it's the highest number. Notice the absolute reference here, which you typically want to use with RANK."
   ]
  },
  {
   "cell_type": "markdown",
   "metadata": {},
   "source": [
    "- See 01.05"
   ]
  },
  {
   "cell_type": "markdown",
   "metadata": {},
   "source": [
    "# Even more arguments - RANK"
   ]
  },
  {
   "cell_type": "markdown",
   "metadata": {},
   "source": [
    "you're going to use the RANK function again. This time, use the third argument, is_ascending, to get the rank of the value where the data list is considered in an ascending order.\n",
    "\n",
    "Here's some information on RANK as a refresher: - RANK(value, data, [is_ascending]): when is_ascending is 1, the rank is considered in an ascending order of the data. It defaults to 0, meaning the rank will be considered in a descending list of data. See the table below for an example.\n",
    "```\n",
    "A       B (is_ascending = 0)\tColumn C (is_ascending = 1)\n",
    "3510\t3\t                    1\n",
    "9730\t1\t                    3\n",
    "6450\t2\t                    2\n",
    "```\n",
    "In Column B, by default RANK() evaluates 3510 as 3 (as it is the third highest value in the range). However it is ranked 1 in Column C by specifying is_ascending as 1 . Note that is_ascending is an unnamed argument, meaning that you can simply pass in 1 after the range. For example, the formula for the first value in Column C would be: =RANK(A2, $A$2:$A$4, 1).\n",
    "\n",
    "You're going to use an ascending rank to find the worst months in terms of revenue."
   ]
  },
  {
   "cell_type": "markdown",
   "metadata": {},
   "source": [
    "- See 01.06"
   ]
  },
  {
   "cell_type": "markdown",
   "metadata": {},
   "source": [
    "# String manipulation - LEFT, RIGHT"
   ]
  },
  {
   "cell_type": "markdown",
   "metadata": {},
   "source": [
    "Let's look at some functions that are used to work with plain text, also called a string. The functions in this exercise can be used to manipulate strings.\n",
    "\n",
    "Have a look at the following functions:\n",
    "\n",
    "- LEFT(string, [number_of_characters]): selects the leftmost part of a string. The number of characters selected is defined in the optional argument number_of_characters, and defaults to 1.\n",
    "- RIGHT(string, [number_of_characters]): selects the rightmost part of a string. The number of characters selected is defined in the optional argument number_of_characters, and defaults to 1."
   ]
  },
  {
   "cell_type": "markdown",
   "metadata": {},
   "source": [
    "- See 01.07"
   ]
  },
  {
   "cell_type": "markdown",
   "metadata": {},
   "source": [
    "# String information - LEN, SEARCH"
   ]
  },
  {
   "cell_type": "markdown",
   "metadata": {},
   "source": [
    "you'll learn some functions that are used to gather some information about strings.\n",
    "\n",
    "You'll be using the following two new functions:\n",
    "\n",
    "- LEN(text): evaluates to the number of characters of text. E.g. =LEN(\"Cell\") would evaluate to 4.\n",
    "- SEARCH(search_for, text_to_search): searches for search_for in text_to_search:\n",
    "\n",
    "    - search_for: the string to look for\n",
    "    - text_to_search: the string to look in\n",
    "SEARCH evaluates to a number, the location in the string where search_for appears, with 1 being the first character. E.g. =SEARCH(\"e\", \"test test\") would evaluate to 2, because the first \"e\" appears as the second character."
   ]
  },
  {
   "cell_type": "markdown",
   "metadata": {},
   "source": [
    "- See 01.08"
   ]
  },
  {
   "cell_type": "markdown",
   "metadata": {},
   "source": [
    "# Combining strings - CONCATENATE"
   ]
  },
  {
   "cell_type": "markdown",
   "metadata": {},
   "source": [
    "you'll see how to combine strings using the CONCATENATE function:\n",
    "\n",
    "CONCATENATE(string1, [string2, ...]): combines one or more strings into a single string. E.g. =CONCATENATE(\"foo\", \" \", \"bar\") evaluates to foo bar."
   ]
  },
  {
   "cell_type": "markdown",
   "metadata": {},
   "source": [
    "- See 01.09"
   ]
  },
  {
   "cell_type": "markdown",
   "metadata": {},
   "source": [
    "# Date functions - WEEKDAY"
   ]
  },
  {
   "cell_type": "markdown",
   "metadata": {},
   "source": [
    "Some functions are used to get specific information or do operations on dates. One example of such a function is WEEKDAY:\n",
    "\n",
    "WEEKDAY(date, [type]): evaluates to the day of the week of a date. type is 1, 2 or 3.\n",
    "type = 1: Sunday is day 1 and Saturday is day 7 (default)\n",
    "type = 2: Monday is day 1 and Sunday is day 7\n",
    "type = 3: Monday is day 0 and Sunday is day 6\n",
    "For example, using =WEEKDAY(A1, 2) (where A1 contains the date 2019-01-01) would evaluate to 2, because January 1st 2019 fell on a Tuesday and setting type to 2 sets Monday at 1."
   ]
  },
  {
   "cell_type": "markdown",
   "metadata": {},
   "source": [
    "- See 01.10"
   ]
  },
  {
   "cell_type": "markdown",
   "metadata": {},
   "source": [
    "# Comparing dates"
   ]
  },
  {
   "cell_type": "markdown",
   "metadata": {},
   "source": [
    "Sometimes you might need to compare certain dates to each other, or to the current date. There are some useful functions for that in Google Sheets as well:\n",
    "\n",
    "- DATEDIF(start_date, end_date, unit): calculates the time difference between two dates. The difference will be calculated between start_date and end_date. The end_date must take place after the start_date. A third argument here is the unit, this can be:\n",
    "    - \"Y\": the number of years between two dates\n",
    "    - \"M\": the number of months between two dates\n",
    "    - \"D\": the number of days between two dates\n",
    "\n",
    "- NOW(): a function without arguments, evaluates to the current time\n",
    "\n",
    "For example, =DATEDIF(\"2018-01-01\", \"2018-01-03\", \"D\") would evaluate to 2."
   ]
  },
  {
   "cell_type": "markdown",
   "metadata": {},
   "source": [
    "- See 01.11"
   ]
  },
  {
   "cell_type": "markdown",
   "metadata": {},
   "source": [
    "# Combining functions"
   ]
  },
  {
   "cell_type": "markdown",
   "metadata": {},
   "source": [
    "you'll be combining a function you learned in the first part of the chapter with some of the more recent functions you learned.\n",
    "\n",
    "As a refresher, here's some information that might be useful for this exercise:\n",
    "\n",
    "- DATEDIF(start_date, end_date, unit): evaluates to amount of units between the start_date and end_date. A critical argument here is the unit, this can be:\n",
    "    - \"Y\": the number of years between two dates\n",
    "    - \"M\": the number of months between two dates\n",
    "    - \"D\": the number of days between two dates\n",
    "\n",
    "- A full list can be found here : [https://support.google.com/docs/answer/6055612]\n",
    "- SUM(value1, [value2, ...]): calculates the sum of all its arguments\n",
    "Now, you're going to calculate the average gross these movies make per day, per movie."
   ]
  },
  {
   "cell_type": "markdown",
   "metadata": {},
   "source": [
    "- See 01.12"
   ]
  }
 ],
 "metadata": {
  "kernelspec": {
   "display_name": "Python 3.8.11 ('env_py')",
   "language": "python",
   "name": "python3"
  },
  "language_info": {
   "name": "python",
   "version": "3.8.11"
  },
  "orig_nbformat": 4,
  "vscode": {
   "interpreter": {
    "hash": "1e949e87132dd83f1a7623eb88007e3532b03b66b77111be347aa4a383049722"
   }
  }
 },
 "nbformat": 4,
 "nbformat_minor": 2
}

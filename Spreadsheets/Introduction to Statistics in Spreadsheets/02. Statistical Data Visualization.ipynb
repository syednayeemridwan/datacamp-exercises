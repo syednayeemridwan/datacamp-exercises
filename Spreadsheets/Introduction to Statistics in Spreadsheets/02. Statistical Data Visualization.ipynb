{
 "cells": [
  {
   "cell_type": "markdown",
   "metadata": {},
   "source": [
    "# \"Normal\" views of money"
   ]
  },
  {
   "cell_type": "markdown",
   "metadata": {},
   "source": [
    "In this set of exercises, you'll work with this sample of US accounts. The first column is a unique account identifier, and the second contains the amount of savings that account has.\n",
    "\n",
    "It is helpful to visualize distributions using a histogram. A histogram buckets each observation into a \"bin\". It reduces information, just like an average, but not down to a single value. Instead, the count of observations in each bin is represented in a histogram. Keep in mind when making a histogram that it's best to have more than 20 observations. Furthermore, if you are working with samples of data, you will want a random sample to prevent biased results.\n",
    "\n",
    "Let's now take a look at what the savings distribution is and how it compares to the descriptive statistics that have already been calculated for you."
   ]
  },
  {
   "cell_type": "markdown",
   "metadata": {},
   "source": [
    "- SEE 02.02"
   ]
  },
  {
   "cell_type": "markdown",
   "metadata": {},
   "source": [
    "# Visualizing customer longevity"
   ]
  },
  {
   "cell_type": "markdown",
   "metadata": {},
   "source": [
    "Now that you see that savings has a peak with roughly equal \"tails\" to the left and right, let's explore another variable in the data: \"Retention\". The bank measures \"retention\" of each customer, which measures how long a customer stays with the company. This measure can be one aspect of a healthy bank because there is a lot of cost associated with acquiring and setting up new accounts.\n",
    "\n",
    "When you made the savings histogram the peak was centered around ~1400. This sample data ranges from 1 to 65 months so the peak will be different, and you should note how the \"tails\" look in this visual. Additionally, review the mean and mode to see if they are as close to each other as the previous exercise."
   ]
  },
  {
   "cell_type": "markdown",
   "metadata": {},
   "source": [
    "- SEE 02.03"
   ]
  },
  {
   "cell_type": "markdown",
   "metadata": {},
   "source": [
    "# Visualizing customer donations"
   ]
  },
  {
   "cell_type": "markdown",
   "metadata": {},
   "source": [
    "Some banks will buy third party information to help with marketing. For example, some non-profit donations are publicly available. A bank can market to these likely affluent customers for additional banking services. This sample data has the household identifier joined to example third party data for public donations.\n",
    "\n",
    "In this exercise, you will focus on the mode and standard deviation. Since the data is expected to be a proxy for affluence with most people not making donations, these descriptive statistics can aid you in understanding the distribution before you create another histogram."
   ]
  },
  {
   "cell_type": "markdown",
   "metadata": {},
   "source": [
    "- SEE 02.04"
   ]
  },
  {
   "cell_type": "markdown",
   "metadata": {},
   "source": [
    "# Is the data \"normally\" distributed?"
   ]
  },
  {
   "cell_type": "markdown",
   "metadata": {},
   "source": [
    "Let's revisit the savings data. Earlier, you noted that the mean and median savings values were almost equal. The savings histogram was also roughly symmetrical and resembled a bell curve.\n",
    "\n",
    "Now you want to use statistics to verify if the distribution is approximately symmetrical or \"normally distributed\". To do so, you will calculate the skew and kurtosis.\n",
    "\n",
    "Kurtosis: Calculated using KURT(). Measures how the tails behave. It identifies how values are concentrated around the mean and how they trail away from it in the tails.\n",
    "Skew: Calculated using SKEW(). Measures how symmetrical the distribution is. 0 means the distribution is exactly symmetrical. Values above or below 0 indicate that there are more values above or below the mean."
   ]
  },
  {
   "cell_type": "markdown",
   "metadata": {},
   "source": [
    "- SEE 02.05"
   ]
  },
  {
   "cell_type": "markdown",
   "metadata": {},
   "source": [
    "# Correlation between price and quantity sold"
   ]
  },
  {
   "cell_type": "markdown",
   "metadata": {},
   "source": [
    "This data represents 100 online auctions selling multiple collectible items in each listing. Is there a correlation between price and quantity sold? Let's find out!\n",
    "\n",
    "Recall that correlation, which you can calculate using CORREL(), ranges between -1 and 1.\n",
    "\n",
    "0 correlation means there is no relationship between variables.\n",
    "Positive correlation indicate that as one variable increases, the other also increases.\n",
    "Negative correlation values signify that as one variable increases, the other decreases.\n",
    "Here you will create a scatter plot (also known as a \"scatter chart\" or \"XY graph\") to visually represent the correlation. Do you think the price of an item has a positive or negative correlation to the total quantity sold? What do you expect the scatterplot pattern to look like? Let's find out in this exercise!"
   ]
  },
  {
   "cell_type": "markdown",
   "metadata": {},
   "source": [
    "- SEE 02.07"
   ]
  },
  {
   "cell_type": "markdown",
   "metadata": {},
   "source": [
    "# Correlation between seller rating and closing price"
   ]
  },
  {
   "cell_type": "markdown",
   "metadata": {},
   "source": [
    "Now you will explore the correlation between the seller's rating and the auction closing price. Common sense would lead you to believe that the higher ratings a seller has, the higher the closing price. If this were the case you would see a \"positive\" correlation, both acting similarly.\n",
    "\n",
    "Remember that \"correlation is not causation\"! You may suspect that higher ratings improves trust thereby causing prices to edge higher. However, other factors could really be the cause. Perhaps sellers with higher ratings are allowed to sell more expensive products. In which case the real cause is the expensive products, not trust. Thus be careful when exploring correlation & drawing conclusions."
   ]
  },
  {
   "cell_type": "markdown",
   "metadata": {},
   "source": [
    "- SEE 02.08"
   ]
  },
  {
   "cell_type": "markdown",
   "metadata": {},
   "source": [
    "# Adding a trend line"
   ]
  },
  {
   "cell_type": "markdown",
   "metadata": {},
   "source": [
    "Earlier, you saw how a high opening price has a negative correlation with the number of collectibles sold. The resulting scatterplot has a distinct pattern sloping down.\n",
    "\n",
    "You then visualized the positive correlation between \"Seller Rating\" and \"Close Price\" as shown here. Let's now take this further by calculating the slope, intercept, and adding a trend line to better explore the relationship between the two columns.\n",
    "\n",
    "Spreadsheets have 3 formulas for calculating the y-intercept and slope given two variables.\n",
    "\n",
    "- `SLOPE()` - will return the slope of a trend line or linear regression representing the linear change in one unit to another.\n",
    "- `INTERCEPT()` - returns the value where the trendline will intersect the y-axis.\n",
    "- `LINEST()` - calculates both the slope & the intercept of two variables using the least-squares method."
   ]
  },
  {
   "cell_type": "markdown",
   "metadata": {},
   "source": [
    "- SEE 02.09"
   ]
  },
  {
   "cell_type": "markdown",
   "metadata": {},
   "source": [
    "# Bar chart of competitive counts"
   ]
  },
  {
   "cell_type": "markdown",
   "metadata": {},
   "source": [
    "So far you've examined numeric data. What should you do to learn about categorical data? This sheet contains 150 online auctions with non-numeric data. One method to explore this type of variable is with a bar chart, also called a \"column chart\".\n",
    "\n",
    "Here, the COUNTIF() function has been to used to count the number of \"1\"s and \"0\"s. In DataCamp's Pivot Tables in Spreadsheets course, you can learn efficient ways like this to count data.\n",
    "\n",
    "Your job in this exercise is to create two types of bar charts: stacked, and side-by-side. The difference is subtle but helps your audience in different ways.\n",
    "\n",
    "Stacked: helps you focus on the proportion of the total that is a particular class. You will visually understand the amount of the total that represents competitive online auctions.\n",
    "Side-by-side: lets the audience understand the values in relation to each other. You will visually interpret how similar each class values are."
   ]
  },
  {
   "cell_type": "markdown",
   "metadata": {},
   "source": [
    "- SEE 02.11"
   ]
  },
  {
   "cell_type": "markdown",
   "metadata": {},
   "source": [
    "# Visualizing categories"
   ]
  },
  {
   "cell_type": "markdown",
   "metadata": {},
   "source": [
    "We've added other categories to the data: Toys/Hobbies and Collectibles.\n",
    "\n",
    "Notice that this Category column has no numeric information. This is because they are attributes of the auctions. They are distinct classes or factors. You can learn a lot about your sample descriptive statistics by better exploring these factors. For example, in patient data, gender could impact the average weight. Understanding if you have more \"Females\" would help you understand if the weight is possibly impacted.\n",
    "\n",
    "In this new auction sample, closing price averages have been compared across categories. Are categories impacting this descriptive statistic? Time to find out!"
   ]
  },
  {
   "cell_type": "markdown",
   "metadata": {},
   "source": [
    "- SEE 02.12"
   ]
  }
 ],
 "metadata": {
  "kernelspec": {
   "display_name": "Python 3.8.11 ('env_py')",
   "language": "python",
   "name": "python3"
  },
  "language_info": {
   "name": "python",
   "version": "3.8.11"
  },
  "orig_nbformat": 4,
  "vscode": {
   "interpreter": {
    "hash": "1e949e87132dd83f1a7623eb88007e3532b03b66b77111be347aa4a383049722"
   }
  }
 },
 "nbformat": 4,
 "nbformat_minor": 2
}

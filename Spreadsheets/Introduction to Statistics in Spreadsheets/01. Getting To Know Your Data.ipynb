{
 "cells": [
  {
   "cell_type": "markdown",
   "metadata": {},
   "source": [
    "# Don't be average!"
   ]
  },
  {
   "cell_type": "markdown",
   "metadata": {},
   "source": [
    "One of the most frequently used descriptive statistics is the mean, which is often just referred to as just the average. It is a useful statistic to compute when you are exploring a new dataset, such as this one, which lists Barack Obama's approval ratings in 2016.\n",
    "\n",
    "Your job in this exercise is to manually compute the mean approval rating."
   ]
  },
  {
   "cell_type": "markdown",
   "metadata": {},
   "source": [
    "- SEE 01.02"
   ]
  },
  {
   "cell_type": "markdown",
   "metadata": {},
   "source": [
    "# Presidential approval rating averages"
   ]
  },
  {
   "cell_type": "markdown",
   "metadata": {},
   "source": [
    "Manually calculating the mean is straightforward enough when you have a small dataset, however in this age of big data, you don't want to be calculating means manually, especially when you're working with multiple columns, like in this exercise!\n",
    "\n",
    "Your job here is to calculate the yearly average approval rating throughout Barack Obama's presidency."
   ]
  },
  {
   "cell_type": "markdown",
   "metadata": {},
   "source": [
    "- SEE 01.03"
   ]
  },
  {
   "cell_type": "markdown",
   "metadata": {},
   "source": [
    "# Difference between median and mean"
   ]
  },
  {
   "cell_type": "markdown",
   "metadata": {},
   "source": [
    "On the right is Amazon's quarterly revenue from their first year - 1996 - and a more recent year - 2017. Let's compare the mean and the median revenue between the two quarters to see how the data is distributed. The median is more robust to outliers, unlike the mean. So if your dataset has a lot of outliers, the mean will be pulled in the direction of the outliers.\n",
    "\n",
    "Recall that for an odd number of observations, a median is the middle value in the data. With an even number of observations, the median is the mean of the two middle values. To manually calculate a median, the data needs to be sorted (unlike if you are using the MEDIAN() function). This data is naturally ascending, so no sorting is necessary."
   ]
  },
  {
   "cell_type": "markdown",
   "metadata": {},
   "source": [
    "- SEE 01.04"
   ]
  },
  {
   "cell_type": "markdown",
   "metadata": {},
   "source": [
    "# Modal madness"
   ]
  },
  {
   "cell_type": "markdown",
   "metadata": {},
   "source": [
    "In this exercise you'll work with a medical dataset to practice calculating modes. Remember that a mode is the most frequent value that occurs in a sample. If every value is unique, then there is no mode, and if there is a tie, then the sample can have 2+ modes.\n",
    "\n",
    "Let's see how the mode compares to the median and mean here!"
   ]
  },
  {
   "cell_type": "markdown",
   "metadata": {},
   "source": [
    "- SEE 01.05"
   ]
  },
  {
   "cell_type": "markdown",
   "metadata": {},
   "source": [
    "# Train variation"
   ]
  },
  {
   "cell_type": "markdown",
   "metadata": {},
   "source": [
    "Time to work with US monthly train ridership data! Let's begin by exploring the variation in monthly train ridership. To understand a dataset beyond averages, the variance is an extremely useful statistic. As the name suggests, it gives a sense for the variation that exists in the data. That is, how far from the mean each point is.\n",
    "\n",
    "As a reminder, to calculate the variance of a population:\n",
    "\n",
    "Calculate the mean of the entire dataset.\n",
    "Subtract each value from the mean.\n",
    "Square the differences to ensure positive and negative values don't cancel each other out.\n",
    "Take the average of the squared differences.\n",
    "To fully understand variance, in this exercise you will first follow the above steps to calculate the variance manually and then use the VARP() function to automatically calculate variance."
   ]
  },
  {
   "cell_type": "markdown",
   "metadata": {},
   "source": [
    "- SEE 01.07"
   ]
  },
  {
   "cell_type": "markdown",
   "metadata": {},
   "source": [
    "# Calculating standard deviations"
   ]
  },
  {
   "cell_type": "markdown",
   "metadata": {},
   "source": [
    "There is a lot of seasonal variability in the train data. To better understand this, you will now calculate the standard deviation to understand how \"spread out\" the data is from the mean average.\n",
    "\n",
    "To calculate the standard deviation:\n",
    "\n",
    "Calculate the variance of the data.\n",
    "Take the SQRT(), or square root, of the variance.\n",
    "Building on the variance, you will first manually calculate the standard deviation before defaulting to the formula STDEVP()."
   ]
  },
  {
   "cell_type": "markdown",
   "metadata": {},
   "source": [
    "- SEE 01.08"
   ]
  },
  {
   "cell_type": "markdown",
   "metadata": {},
   "source": [
    "# Playing quarters"
   ]
  },
  {
   "cell_type": "markdown",
   "metadata": {},
   "source": [
    "So far, you have an understanding of the variance and standard deviation in the train data.\n",
    "You'll now refine this understanding by calculating the 4 quartiles. Quartiles divide a population into four parts.\n",
    "\n",
    "The QUARTILE() function accepts an array of values followed by an integer 1 to 4 to declare the specific quartile.\n",
    "\n",
    "Quartile 4: The maximum value in the data.\n",
    "Quartile 3: 75% of the data is less than the third quartile.\n",
    "Quartile 2: The median of the data.\n",
    "Quartile 1: The smallest values 25% of the data.\n",
    "A useful statistic computed from the quartiles is the \"interquartile range\" (IQR), which lies between the Q1 and Q3 and represents the middle 50% of the data."
   ]
  },
  {
   "cell_type": "markdown",
   "metadata": {},
   "source": [
    "- SEE 01.09"
   ]
  },
  {
   "cell_type": "markdown",
   "metadata": {},
   "source": [
    "# Comparing z-scores"
   ]
  },
  {
   "cell_type": "markdown",
   "metadata": {},
   "source": [
    "To illustrate the utility of z-scores, let's now look at some housing data, in which the two columns - Bedrooms and Square Feet - are measured very differently.\n",
    "\n",
    "The z-scores for the \"Bedroom\" column have already been calculated for you. In this exercise, you will calculate z-scores for the \"Square Feet\" column using the STANDARDIZE() function. After that, you will use SUM() and AVERAGE() to compare how the distributions are now on the same scale.\n",
    "\n",
    "As a reminder, the z-score measures how far a value is from the mean using standard deviations."
   ]
  },
  {
   "cell_type": "markdown",
   "metadata": {},
   "source": [
    "- SEE 01.11"
   ]
  },
  {
   "cell_type": "markdown",
   "metadata": {},
   "source": [
    "# Exploring eBay auctions"
   ]
  },
  {
   "cell_type": "markdown",
   "metadata": {},
   "source": [
    "It's time to finish up Chapter 1 by applying your newfound statistical skills to some eBay auction data! This dataset is a sample of 150 auctions which you will apply statistical functions to.\n",
    "\n",
    "Let's say you want to start selling on eBay and need to know what types of auctions are popular. The goal here is to identify what items you should start selling and what your average revenue would be. As a seller, you are most interested in the \"Close Price\" column."
   ]
  },
  {
   "cell_type": "markdown",
   "metadata": {},
   "source": [
    "- SEE 01.12"
   ]
  }
 ],
 "metadata": {
  "kernelspec": {
   "display_name": "Python 3.8.11 ('env_py')",
   "language": "python",
   "name": "python3"
  },
  "language_info": {
   "name": "python",
   "version": "3.8.11"
  },
  "orig_nbformat": 4,
  "vscode": {
   "interpreter": {
    "hash": "1e949e87132dd83f1a7623eb88007e3532b03b66b77111be347aa4a383049722"
   }
  }
 },
 "nbformat": 4,
 "nbformat_minor": 2
}

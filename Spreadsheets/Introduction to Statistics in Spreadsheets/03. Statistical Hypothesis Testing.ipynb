{
 "cells": [
  {
   "cell_type": "markdown",
   "metadata": {},
   "source": [
    "# Sampling in Spreadsheets"
   ]
  },
  {
   "cell_type": "markdown",
   "metadata": {},
   "source": [
    "Thus far, you've calculated statistics with all the data presented. Usually, it's more practical to create a sample from among a population.\n",
    "\n",
    "Population: An entire collection of observations or events\n",
    "Sample: A subset from a population meant to represent the population\n",
    "There are many ways to sample data. Sampling choices affect the statistics and as a result, what you learn about the data population. A popular method for sampling is to do it randomly.\n",
    "\n",
    "This data has an extra column of randomly generated numbers that was created with the RAND() function, which can be empty and returns numbers between 0 and 1. Once the second column has been created, sort the data array by the randomly created column. Then when constructing visuals or stats based on the sample, you can control the cell range. In this exercise you will randomly sample 20 observations of monthly US airline passenger miles, and then create a histogram of this sample to understand the distribution."
   ]
  },
  {
   "cell_type": "markdown",
   "metadata": {},
   "source": [
    "- SEE 03.02"
   ]
  },
  {
   "cell_type": "markdown",
   "metadata": {},
   "source": [
    "# Does sampling size matter?"
   ]
  },
  {
   "cell_type": "markdown",
   "metadata": {},
   "source": [
    "Let's now double the sample size to 40. Many analytics professionals believe a sample size of 30 or more is large enough to get trustworthy descriptive stats.\n",
    "\n",
    "This works if the original population distribution is roughly bell-shaped."
   ]
  },
  {
   "cell_type": "markdown",
   "metadata": {},
   "source": [
    "- SEE 03.03"
   ]
  },
  {
   "cell_type": "markdown",
   "metadata": {},
   "source": [
    "# Central Limit Theorem in action"
   ]
  },
  {
   "cell_type": "markdown",
   "metadata": {},
   "source": [
    "You've seen how increasing the sample size changes both the statistics as well as the histogram. Now you will calculate the statistics of the entire population and observe the central limit theorem in action.\n",
    "\n",
    "As a reminder, here's the definition:\n",
    "\n",
    "If a sample size from an independent, random variable is large enough, then the sampling distribution will be normal or nearly normal.\n",
    "\n",
    "\"Large enough\" is vague. The sample size is impacted by:\n",
    "\n",
    "How accurate you need to be. Since a sample is a representation, the resulting stats will be approximate. If you need a high degree of certainty, you will need more samples to more closely resemble the population.\n",
    "The more closely the population follows a normal distribution, the fewer sample points will be required."
   ]
  },
  {
   "cell_type": "markdown",
   "metadata": {},
   "source": [
    "- SEE 03.04"
   ]
  },
  {
   "cell_type": "markdown",
   "metadata": {},
   "source": [
    "# Comparing samples with a t-test"
   ]
  },
  {
   "cell_type": "markdown",
   "metadata": {},
   "source": [
    "How can you be sure a sample is the same or different compared to a population or other sample? As you just learned sample independence can be tested with a T.TEST()!\n",
    "\n",
    "`T.TEST(range1, range2, tails, type)`\n",
    "\n",
    "In this exercise you are examining data from a farm. Prior to introducing a new fertilizer, 10 plant heights were measured. After the new fertilizer was used another 10 plants were measured. You will perform a t-test to understand if the plant heights in the samples are in fact different. This is a two-tailed test because the heights are either above or below the original sample, \"tails\" to either side of the original distribution. The type is 2 because the samples are not from the same subjects but they have the same variance. Had they been the same plants before and after fertilizer treatment, it would be a \"paired\" t-test which is type 1."
   ]
  },
  {
   "cell_type": "markdown",
   "metadata": {},
   "source": [
    "- SEE 03.06"
   ]
  },
  {
   "cell_type": "markdown",
   "metadata": {},
   "source": [
    "# Paired t-test"
   ]
  },
  {
   "cell_type": "markdown",
   "metadata": {},
   "source": [
    "Now you are looking at driver data. Most research suggests drivers perform better in the morning versus in the afternoon. The researcher here measured 10 drivers in the morning and again the same drivers in the evening. The milliseconds response time is the time needed to apply the brakes after seeing a prompt in the simulator. You need to perform a t-test to see if this data supports the research that drivers do indeed perform better in the morning.\n",
    "\n",
    "Remember the parameters of the T.TEST() function. Think about if this test has two tails or is measuring the difference in one direction. Also think about what it means for both samples to be from the same people. These will affect the values you pass to T.TEST()."
   ]
  },
  {
   "cell_type": "markdown",
   "metadata": {},
   "source": [
    "- SEE 03.07"
   ]
  },
  {
   "cell_type": "markdown",
   "metadata": {},
   "source": [
    "# Performing a Z-test"
   ]
  },
  {
   "cell_type": "markdown",
   "metadata": {},
   "source": [
    "When you have over 30 observations, you should use a Z.TEST() over a T.TEST() to compare means. Listed to your right is some salary data of U.S Government workers. Your job is to conduct a hypothesis test using the Z-test.\n",
    "\n",
    "Here you want to know if the sample average salary is less than or equal to the government's published average. Are you going to compare one or two tails of the distribution? The <= operator is exploring a single direction away from the value. Thus, this is a one-tailed test.\n",
    "\n",
    "A Z-test accepts the data range followed by the population's mean - in this case, the government's published average salary. You can also add the population's standard deviation as a third parameter. If you don't, Z.TEST() will use the sample's standard deviation."
   ]
  },
  {
   "cell_type": "markdown",
   "metadata": {},
   "source": [
    "- SEE 03.09"
   ]
  },
  {
   "cell_type": "markdown",
   "metadata": {},
   "source": [
    "# What changes in a two-tailed test?"
   ]
  },
  {
   "cell_type": "markdown",
   "metadata": {},
   "source": [
    "In the previous exercise, you rejected the null hypothesis. Suppose you set up the experiment differently before making this decision. Would that affect the outcome even if the data is the same?\n",
    "\n",
    "Let's pretend you didn't know the outcome of the last exercise. Now you want to determine if the sample worker salary is equal to the population's. The NULL hypothesis operator changes to = .\n",
    "This means you are testing whether the sample average is statistically above or below the average. As a result, the experiement is testing in 2 directions from the mean, so it's a two-tailed test.\n",
    "\n",
    "If you have a two-tailed test you must multiple the Z.TEST() results by 2."
   ]
  },
  {
   "cell_type": "markdown",
   "metadata": {},
   "source": [
    "- SEE 03.10"
   ]
  },
  {
   "cell_type": "markdown",
   "metadata": {},
   "source": [
    "# Performing a chi-squared test"
   ]
  },
  {
   "cell_type": "markdown",
   "metadata": {},
   "source": [
    "In science and other disciplines, it's important to know if the variation you observe in your data is due to chance or is actually stemming from another source.\n",
    "\n",
    "One way to understand this is with a chi-squared test, which you can conduct in Spreadsheets using the CHITEST() function.\n",
    "\n",
    "This function accepts two ranges. The first represents the observations, and the second represents the expected values.\n",
    "In this case, both ranges must have the same COUNT() or the formula will fail. The formula returns the p-value you will use to determine whether or not to reject the null hypothesis.\n",
    "\n",
    "CHITEST(observedRange, expectedRange)\n",
    "In this exercise you are reviewing a call center agent's call times. The agent has a higher average call time than the expected call time for all other agents. Let's see if this agent's specific call times are due to chance, i.e. random call variation, or because the agent needs more training to speed up."
   ]
  },
  {
   "cell_type": "markdown",
   "metadata": {},
   "source": [
    "- SEE 03.12"
   ]
  },
  {
   "cell_type": "markdown",
   "metadata": {},
   "source": [
    "# Are bank loans getting worse?"
   ]
  },
  {
   "cell_type": "markdown",
   "metadata": {},
   "source": [
    "The previous CHITEST() experiment had equal expected probabilities. However, it is often the case that there are multiple states of an experiment, referred to as degrees of freedom.\n",
    "Furthermore, not all experiment outcomes are equal - some may be more or less likely.\n",
    "\n",
    "In this exercise, a senior vice president at a bank believes the loans of the bank are getting worse. A loan can have these states:\n",
    "\n",
    "Current: in good standing\n",
    "Grace Period: the loan hasn't made a payment but is late by less than 30 days\n",
    "Late 30-60: the loan is past due 30-60 days\n",
    "Late 60-90: the loan is past due 60+ days\n",
    "Collections: the loan was sent to collections to recieve any payment\n",
    "Charged Off: the loan has no value\n",
    "You decide to test this hypothesis against the bank's expected distribution for these states. For example, the bank expects 80% of loans to be current each month. A chi-squared test comparing the observed loan frequencies with expected will help you determine if the VP's estimation is correct."
   ]
  },
  {
   "cell_type": "markdown",
   "metadata": {},
   "source": [
    "- SEE 03.13"
   ]
  }
 ],
 "metadata": {
  "kernelspec": {
   "display_name": "Python 3.8.11 ('env_py')",
   "language": "python",
   "name": "python3"
  },
  "language_info": {
   "name": "python",
   "version": "3.8.11"
  },
  "orig_nbformat": 4,
  "vscode": {
   "interpreter": {
    "hash": "1e949e87132dd83f1a7623eb88007e3532b03b66b77111be347aa4a383049722"
   }
  }
 },
 "nbformat": 4,
 "nbformat_minor": 2
}

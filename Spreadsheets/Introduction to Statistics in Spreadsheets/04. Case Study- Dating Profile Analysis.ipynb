{
 "cells": [
  {
   "cell_type": "markdown",
   "metadata": {},
   "source": [
    "# Understanding the distribution of ages"
   ]
  },
  {
   "cell_type": "markdown",
   "metadata": {},
   "source": [
    "As an analyst at a social networking site trying to match like minded singles, you decide to first explore profile ages. This is a basic profile attribute but this alone is often an important factor in relationships.\n",
    "\n",
    "While you might expect that most people searching for love will tend to be younger, you should verify this by using statistics to better understand the distribution of ages."
   ]
  },
  {
   "cell_type": "markdown",
   "metadata": {},
   "source": [
    "- SEE 04.02"
   ]
  },
  {
   "cell_type": "markdown",
   "metadata": {},
   "source": [
    "# What's the drinking age?"
   ]
  },
  {
   "cell_type": "markdown",
   "metadata": {},
   "source": [
    "Now you want to add more data to your descriptive stats. In profiles, users report how often they drink alcohol in a week so you add it to your sample. Drinking behaviour can be important in relationships so obtaning additional summary statistics could help you learn more about profiles.\n",
    "\n",
    "You'll revisit the COUNTIF() function you saw in an earlier exercise. Recall that this is like COUNT(), except it only counts an observation if a certain condition is met. For example, COUNTIF(C2:C10, 1) would only count observations between C2 and C10 if those observations were equal to 1. Here, you'll use this to count the number of non-drinkers."
   ]
  },
  {
   "cell_type": "markdown",
   "metadata": {},
   "source": [
    "- SEE 04.03"
   ]
  },
  {
   "cell_type": "markdown",
   "metadata": {},
   "source": [
    "# Profile login behavior"
   ]
  },
  {
   "cell_type": "markdown",
   "metadata": {},
   "source": [
    "You suspect that people login about once a day. However, after they are in a relationship the hours since last login will likely grow dramatically. After all, people in a relationship have no incentive to continue to look for love! Let’s check.\n",
    "\n",
    "This data measures how many hours have passed since the user last logged in. The mode, 2nd quartile, and mean have already been calculated. Notice that the mean is vastly different. So, you need to calculate the variance, standard deviation, and maximum to understand the spread of the data. You also want to analyze the z-score of the maximum value.\n",
    "\n",
    "Remember, a z-score is the number of standard deviations from the mean and is calculated by subtracting the mean from the data point (in this case, the maximum), and dividing by the standard deviation."
   ]
  },
  {
   "cell_type": "markdown",
   "metadata": {},
   "source": [
    "- SEE 04.04"
   ]
  },
  {
   "cell_type": "markdown",
   "metadata": {},
   "source": [
    "# Visualizing logins"
   ]
  },
  {
   "cell_type": "markdown",
   "metadata": {},
   "source": [
    "Earlier you calculated descriptive statistics for the profile logins. Now you will plot them to confirm the sample's distribution.\n",
    "\n",
    "The mode and 2nd quartile are similar yet the other descriptive statistics are much larger. Considering 50% of the data is less than 45 hours since the last login, you think this data must be \"non-normal\" or skewed in some way. Skewed distributions mean the values are not evenly spread out on either side of the mean.\n",
    "\n",
    "This data must have some outliers skewing the mean away from the modal average and second quartile. Let's verify this using a histogram. Remember, a histogram is a series of rectangles whose size is proportional to the frequency of records in the bin or interval. It’s not the same as a bar chart!"
   ]
  },
  {
   "cell_type": "markdown",
   "metadata": {},
   "source": [
    "- SEE 04.06"
   ]
  },
  {
   "cell_type": "markdown",
   "metadata": {},
   "source": [
    "# How old do users look?"
   ]
  },
  {
   "cell_type": "markdown",
   "metadata": {},
   "source": [
    "Let's revisit the age variable with a to compare the age distribution with the histogram from the previous exercise.\n",
    "\n",
    "For hours since last login, recall that the mode and 2nd quartile were similar, yet the other descriptive statistics were much larger. In contrast, the age variable's descriptive stats are closer together. How do you think this will change the way a histogram of age will look?\n",
    "\n",
    "As a business analyst with a strong foundation in statistics, you know the age data should look more \"normal\". A normal distribution will have a symmetric and \"bell-shaped\" silouette. There shouldn't be outliers or a skew like you saw in the last exercise. Let's check it out."
   ]
  },
  {
   "cell_type": "markdown",
   "metadata": {},
   "source": [
    "- SEE 04.07"
   ]
  },
  {
   "cell_type": "markdown",
   "metadata": {},
   "source": [
    "# Investigating age and volunteering"
   ]
  },
  {
   "cell_type": "markdown",
   "metadata": {},
   "source": [
    "Earlier you observed a strong correlation between age & annual religious observation. Another interesting field which could indicate a profile's moral values is the number of volunteer hours annually. In each profile a user can add information regarding their annual estimated hours spent volunteering.\n",
    "\n",
    "In addition to corrlation you decide to plot a scatter plot. If there is a correlation between age & volunteer_hrs, you should be able to observe a trend sloping upward or downward. If the correlation is low, you could surmise that people volunteer at similar rates regardless of their age"
   ]
  },
  {
   "cell_type": "markdown",
   "metadata": {},
   "source": [
    "- SEE 04.09"
   ]
  },
  {
   "cell_type": "markdown",
   "metadata": {},
   "source": [
    "# Are gender and number of roommates independent?"
   ]
  },
  {
   "cell_type": "markdown",
   "metadata": {},
   "source": [
    "As it turns out, the dating website also has information on gender and the number of roommates each profile has, so let's \"pivot\" for a moment and explore whether the two are independent using a chi-squared independence test.\n",
    "\n",
    "Although you believe age and roommates could be related, you suspect that gender has no impact on the number of roommates.\n",
    "\n",
    "On the right is a frequency pivot table from 200 profiles. Check out DataCamp’s Pivot Tables in Spreadsheets learn all about pivot tables. Your hypotheses:\n",
    "```\n",
    "\n",
    "H0: The `roommates` & `gender` variables are independent\n",
    "H1: The `roommates` & `gender`  variables are not independent\n",
    "\n",
    "```\n",
    "Assume a 0.05 p-value cutoff. As a refresher, if the p-value result is less than the significance level (0.05), you can reject the null hypothesis."
   ]
  },
  {
   "cell_type": "markdown",
   "metadata": {},
   "source": [
    "- SEE 04.11"
   ]
  },
  {
   "cell_type": "markdown",
   "metadata": {},
   "source": [
    "# Getting old and rich"
   ]
  },
  {
   "cell_type": "markdown",
   "metadata": {},
   "source": [
    "As a business analyst asked to examine user profiles, you started by getting descriptive stats. Next, you plotted frequencies and scatterplots to learn about important relationships.\n",
    "\n",
    "Going a level deeper, you now want to calculate the exact relationship between age and income. Explicitly calculating the incremental relation between these important matching variables will help the marketers in your company complete user personas and gain a specific picture of many of the profile attributes.\n",
    "\n",
    "In review, the CORREL() function accepts an X column and a Y column for comparison. In our analysis, x = age and y = income."
   ]
  },
  {
   "cell_type": "markdown",
   "metadata": {},
   "source": [
    "- SEE 04.12"
   ]
  },
  {
   "cell_type": "markdown",
   "metadata": {},
   "source": [
    "# Multiple relationships!"
   ]
  },
  {
   "cell_type": "markdown",
   "metadata": {},
   "source": [
    "Using the LINEST() function, you explored how one variable related to another. This is a univariate linear regression with a y-intercept and one coefficient. The single coefficient along with the y-intercept demonstrates how the dependent-y variable changes with one unit measure change in the single independent-x variable.\n",
    "\n",
    "Since you are concerned with many dimensions of a profile and the users' overall site activity, you need multiple linear regression, in which there are many X variable coefficients impacting Y.\n",
    "\n",
    "This equation calculates the estimated outcome of your multiple linear regression, where you're interested in how the hours since last login is affected by age, income, and hours volunteered.\n",
    "\n",
    "Hours since last login = (age_coeff * age) + (income_coeff * income) + (volunteer_coeff * volunteerHrs) + y-intercept\n",
    "Your job is to calculate the coefficients for age, income, and hours volunteered, and then use the above formula to calculate the estimate. Go for it!"
   ]
  },
  {
   "cell_type": "markdown",
   "metadata": {},
   "source": [
    "- SEE 04.13"
   ]
  }
 ],
 "metadata": {
  "kernelspec": {
   "display_name": "Python 3.8.11 ('env_py')",
   "language": "python",
   "name": "python3"
  },
  "language_info": {
   "name": "python",
   "version": "3.8.11"
  },
  "orig_nbformat": 4,
  "vscode": {
   "interpreter": {
    "hash": "1e949e87132dd83f1a7623eb88007e3532b03b66b77111be347aa4a383049722"
   }
  }
 },
 "nbformat": 4,
 "nbformat_minor": 2
}

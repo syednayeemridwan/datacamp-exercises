{
 "cells": [
  {
   "cell_type": "markdown",
   "metadata": {},
   "source": [
    "# What IS*() the data type?"
   ]
  },
  {
   "cell_type": "markdown",
   "metadata": {},
   "source": [
    "The values contained in each cell (either the things you typed, or the results of formulas) have a data type. Common types include number, text, date and logical.\n",
    "\n",
    "Sometimes it is useful to check what type of data you have in each cell, since it may not be obvious just from looking at it. Google Sheets has a series of functions with names beginning \"IS\" that perform these checks, for example, ISTEXT() takes a cell address like B3 as an input, and returns the logical value TRUE if the cell contains text, or FALSE otherwise.\n",
    "\n",
    "Likewise, ISNUMBER() checks for numbers in the cell, ISDATE() checks for dates, and ISLOGICAL() checks for logical values."
   ]
  },
  {
   "cell_type": "markdown",
   "metadata": {},
   "source": [
    "- See 01.02"
   ]
  },
  {
   "cell_type": "markdown",
   "metadata": {},
   "source": [
    "# Checking rarer data types"
   ]
  },
  {
   "cell_type": "markdown",
   "metadata": {},
   "source": [
    "Google Sheets also allows checks for rarer data types beyond number, text, date, and logical. In this exercise you'll use ISURL() to check for website URLs, and ISFORMULA() to check for cells that contain formulas.\n",
    "\n",
    "ISURL() checks that the text in a cell takes the form of a URL. This includes text that starts with a protocol, like http://, ftp:// and mailto:, and guesses at other text like somewebsite.com.\n",
    "\n",
    "To make the text into a clickable hyperlink, use HYPERLINK(). This takes the address of a cell containing a URL and optionally the address of a cell containing the text to display, for example HYPERLINK(A1, B1).\n",
    "\n",
    "ISFORMULA() takes the address of a cell and returns TRUE when that cell contains a formula. For blank cells and cells with fixed values, it returns FALSE."
   ]
  },
  {
   "cell_type": "markdown",
   "metadata": {},
   "source": [
    "- See 01.03"
   ]
  },
  {
   "cell_type": "markdown",
   "metadata": {},
   "source": [
    "# Finding missing data"
   ]
  },
  {
   "cell_type": "markdown",
   "metadata": {},
   "source": [
    "ISBLANK() accepts a cell address and returns TRUE if that cell is empty. This provides a useful way of checking for missing data.\n",
    "\n",
    "Logical conditions like ISBLANK() are useful for filtering datasets: you can keep only the rows where some condition is TRUE. Data filtering can be done using FILTER(), which takes two arguments. The first argument is the range of the data that you want to filter, and the second argument is the range containing the logical values to filter on.\n",
    "\n",
    "For example, if the data (not including the header row) is in A2:E10, and the final column E contains the logical values to filter on, you would type =FILTER(A2:E10, E2:E10)."
   ]
  },
  {
   "cell_type": "markdown",
   "metadata": {},
   "source": [
    "- See 01.04"
   ]
  },
  {
   "cell_type": "markdown",
   "metadata": {},
   "source": [
    "# Dteectnig bdaly tpyed dtaa"
   ]
  },
  {
   "cell_type": "markdown",
   "metadata": {},
   "source": [
    "One of the sad realities of being a data scientist is that you get handed a lot of awful datasets. If data has been manually entered, then it is really common to have typos, which can give the data the wrong type! You can use the IS functions to detect if your data has been correctly entered.\n",
    "\n",
    "ISDATE() accepts a cell address and returns TRUE if that cell contains a date."
   ]
  },
  {
   "cell_type": "markdown",
   "metadata": {},
   "source": [
    "- See 01.05"
   ]
  },
  {
   "cell_type": "markdown",
   "metadata": {},
   "source": [
    "# Making numbers while the sun shines"
   ]
  },
  {
   "cell_type": "markdown",
   "metadata": {},
   "source": [
    "Here, you'll use ISNUMBER() to find which cells are really numbers, then N() to convert all values in a column to be numbers."
   ]
  },
  {
   "cell_type": "markdown",
   "metadata": {},
   "source": [
    "- See 01.07"
   ]
  },
  {
   "cell_type": "markdown",
   "metadata": {},
   "source": [
    "# How the 104% live"
   ]
  },
  {
   "cell_type": "markdown",
   "metadata": {},
   "source": [
    "Sometimes numbers are more easily comprehended as a percentage. To convert a number to a percent, you call TO_PERCENT() passing a cell address.\n",
    "\n",
    "This exercise requires the use of absolute cell addresses that don't change when you copy a formula. Recall that you can write an absolute address by prefixing it with dollar signs. For example, $Z$100 is the absolute equivalent of Z100."
   ]
  },
  {
   "cell_type": "markdown",
   "metadata": {},
   "source": [
    "- See 01.08"
   ]
  },
  {
   "cell_type": "markdown",
   "metadata": {},
   "source": [
    "# Converting logical values to numbers"
   ]
  },
  {
   "cell_type": "markdown",
   "metadata": {},
   "source": [
    "In order to calculate on logical values, it is often useful to pretend that TRUE is 1 and FALSE is 0. Just as with text, to perform the conversion, you can use the N() function. This allows you to count the number or proportion of true values.\n",
    "\n",
    "- The SUM() of the ones gives you the count of true values.\n",
    "- The AVERAGE() of the ones and zeros gives you the proportion of true values."
   ]
  },
  {
   "cell_type": "markdown",
   "metadata": {},
   "source": [
    "- See 01.09"
   ]
  },
  {
   "cell_type": "markdown",
   "metadata": {},
   "source": [
    "# Preaching to the CONVERT()ed"
   ]
  },
  {
   "cell_type": "markdown",
   "metadata": {},
   "source": [
    "CONVERT(), changes the units of a number. \n",
    "- For times, you have five choices of unit to switch between, including\n",
    "\n",
    "    - \"sec\": seconds\n",
    "    - \"min\": minutes\n",
    "\n",
    "- For speeds, the units include\n",
    "\n",
    "    - \"m/s\": meters per second\n",
    "    - \"mph\": miles per hour\n",
    "\n",
    "CONVERT() takes three arguments: a number or cell address, the existing unit (in double quotes), and the unit to convert to. For example, CONVERT(1, \"hr\", \"sec\") returns 3600."
   ]
  },
  {
   "cell_type": "markdown",
   "metadata": {},
   "source": [
    "- See 01.10"
   ]
  }
 ],
 "metadata": {
  "kernelspec": {
   "display_name": "Python 3.8.11 ('env_py')",
   "language": "python",
   "name": "python3"
  },
  "language_info": {
   "name": "python",
   "version": "3.8.11"
  },
  "orig_nbformat": 4,
  "vscode": {
   "interpreter": {
    "hash": "1e949e87132dd83f1a7623eb88007e3532b03b66b77111be347aa4a383049722"
   }
  }
 },
 "nbformat": 4,
 "nbformat_minor": 2
}

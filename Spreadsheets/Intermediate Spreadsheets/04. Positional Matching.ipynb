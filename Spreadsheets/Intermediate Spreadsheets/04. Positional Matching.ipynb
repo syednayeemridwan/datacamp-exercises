{
 "cells": [
  {
   "cell_type": "markdown",
   "metadata": {},
   "source": [
    "# Working with cell addresses"
   ]
  },
  {
   "cell_type": "markdown",
   "metadata": {},
   "source": [
    "The address of a cell in Google sheets can be specified in two ways: either as a letter-number pair like C5, or as a pair of numbers like \"row 5, column 3\". Some formulas may be easier to specify on one way or the other, so it's useful to know how to convert from one form to the other and back.\n",
    "\n",
    "- ROW() and COLUMN() take addresses in A1 format and return the number of the row and column respectively.\n",
    "- ADDRESS() takes numeric row and column inputs and returns the address in A1 format. It also has an option argument to specify the relativity of the addresses: 1 (the default) returns absolute addresses; 2, 3, and 4 return row absolute, column absolute, and relative addresses respectively."
   ]
  },
  {
   "cell_type": "markdown",
   "metadata": {},
   "source": [
    "- See 04.02"
   ]
  },
  {
   "cell_type": "markdown",
   "metadata": {},
   "source": [
    "# From addresses to values"
   ]
  },
  {
   "cell_type": "markdown",
   "metadata": {},
   "source": [
    "A really important use of the cell addresses you made using ADDRESS() is to get the value stored at that location. To do this, you use the INDIRECT() function. (The name of the function comes from the computer science concept of indirection, where you pass the address of a variable in memory to a function rather than the variable itself.)\n",
    "\n",
    "If the cell J42 contains the value 99, then typing =ADDRESS(42, 10) in cell J43 will give that cell a value of $J$42. Now the formula =INDIRECT(\"J43\") will return the value 99."
   ]
  },
  {
   "cell_type": "markdown",
   "metadata": {},
   "source": [
    "- See 04.03"
   ]
  },
  {
   "cell_type": "markdown",
   "metadata": {},
   "source": [
    "# Finding nearby cells with offsets"
   ]
  },
  {
   "cell_type": "markdown",
   "metadata": {},
   "source": [
    "Sometimes you want to calculate things based upon cells close by to the cell you are providing a calculation in.\n",
    "\n",
    "OFFSET() retrieves the values in cells offset from the current location by a certain number of rows and columns. It takes two arguments: the number of rows down to move from the current location, and the number of columns to move right.\n",
    "\n",
    "You can also specify height and width arguments to return a range of cells, which is often useful in combination with a summary statistic function like SUM(), AVERAGE() or MAX()."
   ]
  },
  {
   "cell_type": "markdown",
   "metadata": {},
   "source": [
    "- See 04.04"
   ]
  },
  {
   "cell_type": "markdown",
   "metadata": {},
   "source": [
    "# Local addresses"
   ]
  },
  {
   "cell_type": "markdown",
   "metadata": {},
   "source": [
    "The \"A1\" address system has coordinates that exist over the whole worksheet. If you have a block of data specified somewhere within that worksheet, it can be useful to be able to specify the addresses relative to that block.\n",
    "\n",
    "This can be done with INDEX(), which takes 3 arguments. The first argument is a rectangular range of data, for example A2:E8. The second and third arguments are numbers specifying an offset down then right from the top left of that data range. Unlike OFFSET(), the numbering starts at 1, so INDEX(A2:E8, 4, 2) refers to cell B5."
   ]
  },
  {
   "cell_type": "markdown",
   "metadata": {},
   "source": [
    "- See 04.05"
   ]
  },
  {
   "cell_type": "markdown",
   "metadata": {},
   "source": [
    "# A VLOOKUP refresher"
   ]
  },
  {
   "cell_type": "markdown",
   "metadata": {},
   "source": [
    "VLOOKUP() is like INDEX() in that it lets you look up values within a data block. It has the advantage that rather than you having to look and find the position of the cell to specify manually, you can specify the value you are looking for, and it automatically finds it. VLOOKUP() takes four arguments.\n",
    "\n",
    "- First is the value that you are looking for, usually a string.\n",
    "- Second is the data range, usually specified using absolute coordinates. The first column must contain the lookup values.\n",
    "- Third is the column offset, the same as with INDEX().\n",
    "- Fourth is whether or not the data is sorted by the lookup column. Usually you need to specify FALSE here."
   ]
  },
  {
   "cell_type": "markdown",
   "metadata": {},
   "source": [
    "- See 04.07"
   ]
  },
  {
   "cell_type": "markdown",
   "metadata": {},
   "source": [
    "# Sorted!"
   ]
  },
  {
   "cell_type": "markdown",
   "metadata": {},
   "source": [
    "It is often easier to make sense of datasets when the rows are ordered in some way, for example, when the values in a column go from smallest to largest (or largest to smallest). You can sort datasets using the SORT() function.\n",
    "\n",
    "The first argument to SORT() is the range of the dataset, not including the header row. The second argument is the number of the column to sort on, starting with 1 as the left-most column. Thirdly, you set the sort direction: pass TRUE to sort in ascending order (low to high, or A to Z) and FALSE for descending order. If you want to break ties by sorting on further columns, you can pass another column index and another direction for each column that you want to sort with.\n",
    "\n",
    "For example, to sort the dataset in range $D$2 to $H$100 by decreasing F values then increasing D values, you would write SORT($D$2:$H$100, 3, FALSE, 1, TRUE)."
   ]
  },
  {
   "cell_type": "markdown",
   "metadata": {},
   "source": [
    "- See 04.08"
   ]
  },
  {
   "cell_type": "markdown",
   "metadata": {},
   "source": [
    "# Matching values"
   ]
  },
  {
   "cell_type": "markdown",
   "metadata": {},
   "source": [
    "The MATCH() function let's you find the position of cells that match a particular criterion. It's a little tricky, so bear with this.\n",
    "\n",
    "It works best when the data is already sorted (that's the case we'll consider here). The first argument is the limit value, the second argument is the data range, and the third argument is 1 if the column is sorted in ascending order and -1 for descending.\n",
    "\n",
    "If a column of data, A2:A100 was sorted in ascending order, MATCH(1000, A2:A100, 1) would find the position of the largest value in A2:A100 that was less than or equal to 1000.\n",
    "\n",
    "If B2:B100 was sorted in descending order, MATCH(1000, B2:B100, -1) would find the position of the smallest value in B2:B100 that was greater than or equal to 1000.\n",
    "\n",
    "The dataset has been sorted by descending number of Skippers."
   ]
  },
  {
   "cell_type": "markdown",
   "metadata": {},
   "source": [
    "- See 04.09"
   ]
  },
  {
   "cell_type": "markdown",
   "metadata": {},
   "source": [
    "# Advanced filtering"
   ]
  },
  {
   "cell_type": "markdown",
   "metadata": {},
   "source": [
    "Time to practice the logical operations and filtering techniques."
   ]
  },
  {
   "cell_type": "markdown",
   "metadata": {},
   "source": [
    "- See 04.11"
   ]
  },
  {
   "cell_type": "markdown",
   "metadata": {},
   "source": [
    "# Conditional summary statistics"
   ]
  },
  {
   "cell_type": "markdown",
   "metadata": {},
   "source": [
    " you saw how to use COUNTIF() to calculate summary statistics. Here's you'll take it one step further using the related COUNTIFS() function, which lets you pass multiple conditions to it.\n",
    "\n",
    "Arguments to COUNTIFS() come in pairs: a range of values to filter on, best given as absolute addresses, and a condition. The condition is text consisting of\n",
    "\n",
    "a value to match, or\n",
    "a comparison operator (=, <, >=, etc.) and a number.\n",
    "For example, COUNTIFS(A2:A100, \"DataCamp\", B2:B100, \">10\") counts the number of values where column A matches \"DataCamp\" and column B is greater than 10."
   ]
  },
  {
   "cell_type": "markdown",
   "metadata": {},
   "source": [
    "- See 04.12"
   ]
  },
  {
   "cell_type": "markdown",
   "metadata": {},
   "source": [
    "# Simple imputation"
   ]
  },
  {
   "cell_type": "markdown",
   "metadata": {},
   "source": [
    "If you have missing data, you can use a set of techniques known as imputation to substitute guesses for those values. A very simple form of imputation is to substitute the average of the non-missing values for that group.\n",
    "\n",
    "This technique involves 3 steps: use AVERAGEIF() to get the group averages, VLOOKUP() to join these back to the original dataset, and ISBLANK() to locate missing values.\n",
    "\n",
    "The dataset has been edited so some Brush-footed counts are missing."
   ]
  },
  {
   "cell_type": "markdown",
   "metadata": {},
   "source": [
    "- See 04.13"
   ]
  }
 ],
 "metadata": {
  "kernelspec": {
   "display_name": "Python 3.8.11 ('env_py')",
   "language": "python",
   "name": "python3"
  },
  "language_info": {
   "name": "python",
   "version": "3.8.11"
  },
  "orig_nbformat": 4,
  "vscode": {
   "interpreter": {
    "hash": "1e949e87132dd83f1a7623eb88007e3532b03b66b77111be347aa4a383049722"
   }
  }
 },
 "nbformat": 4,
 "nbformat_minor": 2
}

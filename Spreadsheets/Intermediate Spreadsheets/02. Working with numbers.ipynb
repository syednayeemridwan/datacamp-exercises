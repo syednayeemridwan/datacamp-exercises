{
 "cells": [
  {
   "cell_type": "markdown",
   "metadata": {},
   "source": [
    "# Logarithmic transformations"
   ]
  },
  {
   "cell_type": "markdown",
   "metadata": {},
   "source": [
    "you'll work with data on asteroids that are predicted to pass close to the Earth. It's good to be prepared!\n",
    "\n",
    "Here you'll explore logarithm-transformations of data (\"log\" for short), which can be very useful if the values span several orders of magnitude.\n",
    "\n",
    "- LOG10() takes a number or cell location, and returns the log, base 10.\n",
    "- LN() does the same, with Euler's number (\"e\") as the base."
   ]
  },
  {
   "cell_type": "markdown",
   "metadata": {},
   "source": [
    "- See 02.02"
   ]
  },
  {
   "cell_type": "markdown",
   "metadata": {},
   "source": [
    "# Asteroid name"
   ]
  },
  {
   "cell_type": "markdown",
   "metadata": {},
   "source": [
    "To undo the logarithmic transformations from the last exercise, you need to perform an exponential transformation.\n",
    "\n",
    "- The \"power of\" operator, ^, raises a number to a power. For example, =10 ^ A1 is the opposite of =LOG10(A1).\n",
    "- EXP() handles the special case of raising Euler's number to a particular power, and is the opposite of =LN()."
   ]
  },
  {
   "cell_type": "markdown",
   "metadata": {},
   "source": [
    "- See 02.03"
   ]
  },
  {
   "cell_type": "markdown",
   "metadata": {},
   "source": [
    "# Square root transformations"
   ]
  },
  {
   "cell_type": "markdown",
   "metadata": {},
   "source": [
    "There are many more mathematical transformations that you can apply to your data. In fact, it's possible to create very complex transformations by building them step-by-step.\n",
    "\n",
    "Asteroids have roughly elliptical orbit around the sun, as shown in this image.\n",
    "\n",
    "<center><img src=\"images/02.04.png\"  style=\"width: 400px, height: 300px;\"/></center>\n",
    "\n",
    "Using the distance from the center of the ellipse to the aphelion and the perihelion, you can can calculate the area of the orbit.\n",
    "\n",
    "To solve this, you'll need:\n",
    "\n",
    "- SQRT() calculates the square root of a number.\n",
    "- PI() returns the mathematical constant."
   ]
  },
  {
   "cell_type": "markdown",
   "metadata": {},
   "source": [
    "- See 02.04"
   ]
  },
  {
   "cell_type": "markdown",
   "metadata": {},
   "source": [
    "# Round and round"
   ]
  },
  {
   "cell_type": "markdown",
   "metadata": {},
   "source": [
    "Often, numbers are easier to read if you limit how precisely they are written. For example, 75 is easier to read than 74.9729526456456.\n",
    "\n",
    "ROUND() lets you round numbers to a specified number of decimal places.\n",
    "\n",
    "- ROUND(A1) rounds the number in cell A1 to the nearest whole number.\n",
    "- ROUND(A1, 3) rounds it to three decimal places - or, in other words, to the nearest thousandth.\n",
    "- ROUND(A1, -3) rounds it to the nearest thousand."
   ]
  },
  {
   "cell_type": "markdown",
   "metadata": {},
   "source": [
    "- See 02.06"
   ]
  },
  {
   "cell_type": "markdown",
   "metadata": {},
   "source": [
    "# From floor to ceiling"
   ]
  },
  {
   "cell_type": "markdown",
   "metadata": {},
   "source": [
    "Sometimes you always want to round a value down (towards negative infinity), or always round upwards (towards infinity). You can do this using\n",
    "\n",
    "- FLOOR(), which rounds down, and\n",
    "- CEILING(), which round up.\n",
    "\n",
    "Both functions take a second argument that specifies the multiple to round to. For example, FLOOR(A1, 0.01) rounds the number in cell A1 down to the next lowest hundredth. If this argument is omitted, it rounds down to the nearest whole number."
   ]
  },
  {
   "cell_type": "markdown",
   "metadata": {},
   "source": [
    "- See 02.07"
   ]
  },
  {
   "cell_type": "markdown",
   "metadata": {},
   "source": [
    "# Rounding negative numbers"
   ]
  },
  {
   "cell_type": "markdown",
   "metadata": {},
   "source": [
    "FLOOR() and CEILING() will round negative numbers towards or away from negative infinity. That is, FLOOR(-1.5) is -2 and CEILING(-1.5) is -1.\n",
    "\n",
    "Sometimes you may wish to round them towards or away from zero.\n",
    "\n",
    "Google Sheets has two related functions called FLOOR.MATH() and CEILING.MATH(). When given one or two arguments, they behave in the same way as FLOOR() and CEILING() respectively. However, you can pass a third argument that determined the direction of the rounding: passing a positive number (for example, 1) to a third argument to make them round in the positive direction - towards zero.\n",
    "\n",
    "That is, FLOOR.MATH(-1.57, 0.1, 1) is -1.5 and CEILING.MATH(-1.57, 0.1, 1) is -1.6."
   ]
  },
  {
   "cell_type": "markdown",
   "metadata": {},
   "source": [
    "- See 02.08"
   ]
  },
  {
   "cell_type": "markdown",
   "metadata": {},
   "source": [
    "# Generating uniform random numbers"
   ]
  },
  {
   "cell_type": "markdown",
   "metadata": {},
   "source": [
    "Many data science tasks involve running simulations. One important step in a simulation is the generation of random numbers. There are two functions available for generating numbers from a uniform distribution. In a continuous uniform distribution, any number within a range is likely to be generated. In a discrete uniform distribution, any one of a finite number of values is equally likely to be generated.\n",
    "\n",
    "- RAND() generates a random number between 0 and 1 from a continuous uniform distribution. It takes no arguments.\n",
    "- RANDBETWEEN() lets you specify the lower and upper bounds, and generates a random integer (no fractional part); that is, it samples from a discrete uniform distribution."
   ]
  },
  {
   "cell_type": "markdown",
   "metadata": {},
   "source": [
    "- 02.10"
   ]
  },
  {
   "cell_type": "markdown",
   "metadata": {},
   "source": [
    "# Generating random numbers from other distributions"
   ]
  },
  {
   "cell_type": "markdown",
   "metadata": {},
   "source": [
    "You can generate random numbers from a variety of statistical distributions in addition to the uniform distribution. Unfortunately, it takes a sneaky trick!\n",
    "\n",
    "First, you generate a uniform random number between 0 and 1 using RAND(). Then you apply the inverse cumulative distribution function for the distribution you are interested in. Don't worry, it sounds trickier than it is.\n",
    "\n",
    "As an example, to generate random numbers from a normal distribution with mean 3 and standard deviation 2, you would use =NORMINV(RAND(), 3, 2).\n",
    "\n",
    "There are many other inverse cumulative distribution functions available: you can repeat that same code swapping FINV() for the F distribution, BETAINV() for the beta distribution, and so on."
   ]
  },
  {
   "cell_type": "markdown",
   "metadata": {},
   "source": [
    "- 02.11"
   ]
  }
 ],
 "metadata": {
  "kernelspec": {
   "display_name": "Python 3.8.11 ('env_py')",
   "language": "python",
   "name": "python3"
  },
  "language_info": {
   "name": "python",
   "version": "3.8.11"
  },
  "orig_nbformat": 4,
  "vscode": {
   "interpreter": {
    "hash": "1e949e87132dd83f1a7623eb88007e3532b03b66b77111be347aa4a383049722"
   }
  }
 },
 "nbformat": 4,
 "nbformat_minor": 2
}

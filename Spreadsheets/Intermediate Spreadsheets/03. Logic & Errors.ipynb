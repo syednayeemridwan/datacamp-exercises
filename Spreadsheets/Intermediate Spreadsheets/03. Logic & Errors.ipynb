{
 "cells": [
  {
   "cell_type": "markdown",
   "metadata": {},
   "source": [
    "# Logical operations are hard... NOT!"
   ]
  },
  {
   "cell_type": "markdown",
   "metadata": {},
   "source": [
    "you will explore logical operations using unemployment data from 1972. Each row corresponds to a woman was made unemployed because their seasonal job ended.\n",
    "\n",
    "The simplest logical operation is NOT(), which negates its input. That is, NOT(TRUE) is FALSE and NOT(FALSE) is TRUE.\n",
    "\n",
    "Logical operations are useful for filtering datasets: you can keep only the rows where some condition is TRUE. Data filtering can be done using FILTER(), which takes two arguments. The first argument is the range of the data that you want to filter, and the second argument is the range of the logical condition to filter on.\n",
    "\n",
    "For example, if the data (not including the header row) is in A2:E10, and the final column contains the logical condition to filter on, you would type =FILTER(A2:E10, E2:E10)"
   ]
  },
  {
   "cell_type": "markdown",
   "metadata": {},
   "source": [
    "- See 03.02"
   ]
  },
  {
   "cell_type": "markdown",
   "metadata": {},
   "source": [
    "# AND now for something completely different"
   ]
  },
  {
   "cell_type": "markdown",
   "metadata": {},
   "source": [
    "Sometimes you want to know if several logical conditions are all true at the same time. For this you can use the AND() function.\n",
    "\n",
    "AND(TRUE, TRUE, TRUE) returns TRUE, since all the inputs are TRUE. AND(TRUE, FALSE, TRUE) returns false, since the second input is not TRUE"
   ]
  },
  {
   "cell_type": "markdown",
   "metadata": {},
   "source": [
    "- See 03.03"
   ]
  },
  {
   "cell_type": "markdown",
   "metadata": {},
   "source": [
    "# Yea OR nay"
   ]
  },
  {
   "cell_type": "markdown",
   "metadata": {},
   "source": [
    "The third logical operator is OR(). This returns TRUE when any of its inputs is TRUE.\n",
    "\n",
    "For example, OR(FALSE, TRUE, FALSE) returns TRUE since the second input is TRUE, but OR(FALSE, FALSE, FALSE) returns FALSE since all its inputs are FALSE."
   ]
  },
  {
   "cell_type": "markdown",
   "metadata": {},
   "source": [
    "- See 03.04"
   ]
  },
  {
   "cell_type": "markdown",
   "metadata": {},
   "source": [
    "# IF only"
   ]
  },
  {
   "cell_type": "markdown",
   "metadata": {},
   "source": [
    "IF() takes a logical condition as its first input, so it is often used in conjunction with NOT(), AND() and OR().\n",
    "\n",
    "To recap, it takes three arguments: the logical condition, a value to return if the condition is met, and a value to return if the condition is not met.\n",
    "\n",
    "One common usage is to make the second and third arguments text values, to convert a logical condition into text status labels: =IF(logical_condition, \"status 1\", \"status 2\")"
   ]
  },
  {
   "cell_type": "markdown",
   "metadata": {},
   "source": [
    "- See 03.06"
   ]
  },
  {
   "cell_type": "markdown",
   "metadata": {},
   "source": [
    "# Lots of IFS"
   ]
  },
  {
   "cell_type": "markdown",
   "metadata": {},
   "source": [
    "If you have more than two categories to generate from your logical conditions, IF() becomes unwieldy. It is possible to generate as many categories as you like by nesting IF() inside other calls to IF(), but the code quickly becomes difficult to understand. Instead, Google Sheets provides a function called IFS() that lets you test for as many conditions as you like. It takes pairs of arguments as follows:\n",
    "```\n",
    "=IFS(condition1, \"value if condition 1 is TRUE\", \n",
    "     condition2, \"value if condition 2 is TRUE\", ...)\n",
    "```     "
   ]
  },
  {
   "cell_type": "markdown",
   "metadata": {},
   "source": [
    "- See 03.07"
   ]
  },
  {
   "cell_type": "markdown",
   "metadata": {},
   "source": [
    "# SWITCH it on!"
   ]
  },
  {
   "cell_type": "markdown",
   "metadata": {},
   "source": [
    "Sometimes you may wish to transform your categorical variables: you can use SWITCH() for this.\n",
    "\n",
    "The formula in cell I2 shows an example of reversing the \"Kids status\" variable you created to get the \"Has kids?\" values again from column D.\n",
    "\n",
    "=SWITCH(H2:H25, \"none\", FALSE, \"young\", TRUE, \"old\", TRUE)\n",
    "\n",
    "The first argument is a range of categorical input cells, then there are pairs of start values and transformed values."
   ]
  },
  {
   "cell_type": "markdown",
   "metadata": {},
   "source": [
    "- See 03.08"
   ]
  },
  {
   "cell_type": "markdown",
   "metadata": {},
   "source": [
    "# Blankety blank"
   ]
  },
  {
   "cell_type": "markdown",
   "metadata": {},
   "source": [
    " sometimes you may end up with cells containing no data. For example, if someone refuses to answer a question on a survey, or a sensor failed to pick up a reading, or a store was shut for a holiday.\n",
    "\n",
    "How you deal with these blank cells can have a big effect on your results, so it's important to tread carefully. The first steps are to able to identify whether a cell is blank (using ISBLANK()), and to count how many blanks that you have.\n",
    "\n",
    "COUNTBLANK accepts a range of cells, and returns the number of blanks in that range.\n",
    "\n",
    "Some of column G has been made blank."
   ]
  },
  {
   "cell_type": "markdown",
   "metadata": {},
   "source": [
    "- See 03.10"
   ]
  },
  {
   "cell_type": "markdown",
   "metadata": {},
   "source": [
    "# Going missing"
   ]
  },
  {
   "cell_type": "markdown",
   "metadata": {},
   "source": [
    "Some calculations involving blank values may give different results to what you might expect. For example, when you pass a blank value into the AND() function, it is treated as TRUE. This is often unhelpful. To make blanks behave in a sensible way in calculations, you must first convert them to be \"not available\" using NA(). This function takes no inputs, and returns a missing value. To convert a blank value to a missing value, use this pattern.\n",
    "\n",
    "=IF(ISBLANK(cell), NA(), cell)"
   ]
  },
  {
   "cell_type": "markdown",
   "metadata": {},
   "source": [
    "- See 03.11"
   ]
  },
  {
   "cell_type": "markdown",
   "metadata": {},
   "source": [
    "# Errors and omissions"
   ]
  },
  {
   "cell_type": "markdown",
   "metadata": {},
   "source": [
    "Technically speaking, the missing value created by NA() is a type of error. You can test for errors using ISERROR(). Similar to the other IS*() functions that you've seen, it takes a cell address as its input and returns TRUE if that cell contains an error and FALSE otherwise.\n",
    "\n",
    "Treating missing values as errors is often undesirable since real-world data naturally contains missing values. That's why there is also ISERR() that returns TRUE for all error types except missing values."
   ]
  },
  {
   "cell_type": "markdown",
   "metadata": {},
   "source": [
    "- See 03.12"
   ]
  },
  {
   "cell_type": "markdown",
   "metadata": {},
   "source": [
    "# What's the problem?"
   ]
  },
  {
   "cell_type": "markdown",
   "metadata": {},
   "source": [
    "There are 7 types of errors used in Google Sheets.\n",
    "```\n",
    "Error\tCause\n",
    "#DIV/0!\tDividing by zero.\n",
    "#VALUE!\tNonsense data in a calculation.\n",
    "#REF!\tReferencing a cell that has been deleted.\n",
    "#NAME?\tForgetting to quote a string.\n",
    "#NUM!\tNumbers being out of range.\n",
    "#N/A\tMissing value.\n",
    "#ERROR!\tSyntax problem in a formula.\n",
    "```\n",
    "\n",
    "What errors will these formulas generate?\n",
    "\n",
    "- `=1 / 0`\n",
    "- `=SQRT(-1)`\n",
    "- `=Z1 = value`\n",
    "- `=1 + \" \"`\n",
    "- `=SUM(0 1)`"
   ]
  },
  {
   "cell_type": "markdown",
   "metadata": {},
   "source": [
    "- #DIV/0!, #NUM!, #NAME?, #VALUE!, #ERROR! (See 03.13)"
   ]
  }
 ],
 "metadata": {
  "kernelspec": {
   "display_name": "Python 3.8.11 ('env_py')",
   "language": "python",
   "name": "python3"
  },
  "language_info": {
   "name": "python",
   "version": "3.8.11"
  },
  "orig_nbformat": 4,
  "vscode": {
   "interpreter": {
    "hash": "1e949e87132dd83f1a7623eb88007e3532b03b66b77111be347aa4a383049722"
   }
  }
 },
 "nbformat": 4,
 "nbformat_minor": 2
}

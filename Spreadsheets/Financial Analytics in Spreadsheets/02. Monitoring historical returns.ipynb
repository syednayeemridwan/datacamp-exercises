{
 "cells": [
  {
   "cell_type": "markdown",
   "metadata": {},
   "source": [
    "# What are dollar and percentage returns?"
   ]
  },
  {
   "cell_type": "markdown",
   "metadata": {},
   "source": [
    "You decide to buy one stock of ABC for $50. One year later, you start thinking about whether or not you want to sell the stock at the current price of $55. During that period, you received dividends for a total amount of $1.\n",
    "\n",
    "What would be the potential dollar and percentage returns realized on this investment?\n",
    "\n",
    "Recall that the dollar return is simply `Final price + Cash flows received - Initial price`, while the percentage return is `Dollar return / Initial price`. You can use a spreadsheet to do your computations."
   ]
  },
  {
   "cell_type": "markdown",
   "metadata": {},
   "source": [
    "- Dollar return: $6. Percentage return: 12%. (See 02.02)"
   ]
  },
  {
   "cell_type": "markdown",
   "metadata": {},
   "source": [
    "# Compute historical returns"
   ]
  },
  {
   "cell_type": "markdown",
   "metadata": {},
   "source": [
    "You are provided with the time series of 61 monthly prices for the stock ABC, together with the dividends paid by the company during that period.\n",
    "\n",
    "Your task is to compute the series of monthly percentage returns.\n",
    "\n",
    "To do so, divide the dollar returns by the initial value, and convert the outcome into a percentage with the function TO_PERCENT().\n",
    "\n",
    "Remember that the number of returns is always equal to the number of prices minus one. That's because you cannot compute the return corresponding to the first price since the value of the stock at the period preceding the first one is missing."
   ]
  },
  {
   "cell_type": "markdown",
   "metadata": {},
   "source": [
    "- See 02.03"
   ]
  },
  {
   "cell_type": "markdown",
   "metadata": {},
   "source": [
    "# Count positive and negative returns"
   ]
  },
  {
   "cell_type": "markdown",
   "metadata": {},
   "source": [
    "In this exercise, your task is to count the number of positive and negative returns for the various months of the year.\n",
    "\n",
    "To do so, use the function COUNTIFS(). You have already seen this function. It returns the count of the first range of cells depending on multiple criteria.\n",
    "\n",
    "  COUNTIFS(criteria_range1, criterion1, criteria_range2, criterion2)\n",
    "Notice that we have already extracted information about the month of each return by using the function MONTH(). This function receives a date and returns a number corresponding to the month of the year corresponding to that date."
   ]
  },
  {
   "cell_type": "markdown",
   "metadata": {},
   "source": [
    "- See 02.04"
   ]
  },
  {
   "cell_type": "markdown",
   "metadata": {},
   "source": [
    "# Compute the average return"
   ]
  },
  {
   "cell_type": "markdown",
   "metadata": {},
   "source": [
    "The average return is the simplest and most popular estimate of the expected return.\n",
    "\n",
    "It is computed as the sum of the periodic returns divided by the number of returns.\n",
    "\n",
    "In this exercise, your task is to compute the average return by using the function AVERAGE()."
   ]
  },
  {
   "cell_type": "markdown",
   "metadata": {},
   "source": [
    "- See 02.06"
   ]
  },
  {
   "cell_type": "markdown",
   "metadata": {},
   "source": [
    "# Compute the effective rate of return using PRODUCT() and COUNT()"
   ]
  },
  {
   "cell_type": "markdown",
   "metadata": {},
   "source": [
    "Given a series of monthly returns, the effective rate of return is the monthly rate at which your initial investment has appreciated (if the rate is positive), or depreciated (if the rate is negative) so far.\n",
    "\n",
    "In this exercise, your task is to find the effective rate of return realized by investing in the ABC stock for the period December 2012 to December 2017.\n",
    "\n",
    "Compute this rate by using the following approach:\n",
    "\n",
    "- Include one column in which you add 1 to every return.\n",
    "- In a single cell, apply the formula using PRODUCT() and COUNT() functions.\n",
    "\n",
    "Recall that the formula is `Effective return = [(1 + R_1)(1 + R_2) ... (1 + R_T)]^(1/T) - 1`,\n",
    "where R_1, R_2, …, R_T are the periodic returns and T is the number of periods."
   ]
  },
  {
   "cell_type": "markdown",
   "metadata": {},
   "source": [
    "- See 02.07"
   ]
  },
  {
   "cell_type": "markdown",
   "metadata": {},
   "source": [
    "# Compute the effective rate of return using ARRAYFORMULA()"
   ]
  },
  {
   "cell_type": "markdown",
   "metadata": {},
   "source": [
    "Your next task is to compute the effective return in a more concise way.\n",
    "\n",
    "You will use the second approach explained in the lesson with ARRAYFORMULA() and GEOMEAN().\n",
    "\n",
    "A few remarks. The function GEOMEAN() takes one argument, a range of positive values, and returns the geometric mean of those values. In this case, the argument of GEOMEAN() is the series of periodic returns augmented by one.\n",
    "\n",
    "ARRAYFORMULA() allows performing calculations with a range of cells. For example the following command\n",
    "\n",
    "`=ARRAYFORMULA(PRODUCT(D1:D62+1))`\n",
    "returns the product of cells D1:D62 augmented by 1.\n",
    "\n",
    "ARRAYFORMULA() can be invoked by using the keyboard shortcut CTRL + SHIFT + ENTER."
   ]
  },
  {
   "cell_type": "markdown",
   "metadata": {},
   "source": [
    "- See 02.08"
   ]
  },
  {
   "cell_type": "markdown",
   "metadata": {},
   "source": [
    "# Compute the volatility"
   ]
  },
  {
   "cell_type": "markdown",
   "metadata": {},
   "source": [
    "The volatility, known in statistics as the standard deviation, is probably the most used indicator to assess the past variability of stock returns. It is a proxy for risk.\n",
    "\n",
    "Your first task, here, is to compute the volatility of the historical returns of ABC stock.\n",
    "\n",
    "To do so, take the square root of [(R_1-Average)^2 + (R_2-Average)^2 + ... + (R_T-Average)^2] / (T-1).\n",
    "\n",
    "Use a combination of SUM(), COUNT(), SQRT() and ARRAYFORMULA()."
   ]
  },
  {
   "cell_type": "markdown",
   "metadata": {},
   "source": [
    "- See 02.10"
   ]
  },
  {
   "cell_type": "markdown",
   "metadata": {},
   "source": [
    "# Compute the volatility with STDEV()"
   ]
  },
  {
   "cell_type": "markdown",
   "metadata": {},
   "source": [
    "Applying the formula is nice, but there is a quicker and easier way to compute the volatility of a series of historical returns with spreadsheets. It is the STDEV() function.\n",
    "\n",
    "Your next task is to use this function to compute the volatility of ABC historical returns."
   ]
  },
  {
   "cell_type": "markdown",
   "metadata": {},
   "source": [
    "- See 02.11"
   ]
  },
  {
   "cell_type": "markdown",
   "metadata": {},
   "source": [
    "# Compute the historical value-at-risk"
   ]
  },
  {
   "cell_type": "markdown",
   "metadata": {},
   "source": [
    "The 5% historical value-at-risk assesses major historical losses of your investment and is obtained as the 5th percentile of the past returns. A percentile is a threshold value below which a given percentage of the past returns were observed. In this case, the 5th percentile of historical returns is the value below which 5% of the returns were observed.\n",
    "\n",
    "In this exercise, your task is to find the 5% historical value-at-risk of ABC based on the series of historical returns of the stock for the period 2013 to 2017.\n",
    "\n",
    "To do so, use the PERCENTILE() function. It receives two arguments: the range of cells containing the dataset to consider and the percentile included in the range [0,1]."
   ]
  },
  {
   "cell_type": "markdown",
   "metadata": {},
   "source": [
    "- See 02.12"
   ]
  },
  {
   "cell_type": "markdown",
   "metadata": {},
   "source": [
    "# Compute the Sharpe ratio"
   ]
  },
  {
   "cell_type": "markdown",
   "metadata": {},
   "source": [
    "After measuring reward and risk indicators, an accurate performance analysis on ABC should include risk-adjusted metrics.\n",
    "\n",
    "Your next task is to compute the Sharpe ratio, an indicator which measures the reward obtained per unit of risk taken. The reward is measured as the realized return in excess of the risk-free\n",
    "\n",
    "The risk is measured by the volatility. To find the Sharpe ratio, apply the formula (Effective return - Risk-free rate) / Volatility.\n",
    "\n",
    "The monthly risk-free rating during the period is constant and equal to 0.08%."
   ]
  },
  {
   "cell_type": "markdown",
   "metadata": {},
   "source": [
    "- See 02.14"
   ]
  },
  {
   "cell_type": "markdown",
   "metadata": {},
   "source": [
    "# Compute the semideviation"
   ]
  },
  {
   "cell_type": "markdown",
   "metadata": {},
   "source": [
    "The semideviation measures the amplitude of below-average returns. Investors sometimes prefer using it in place of the volatility because this metric focuses on the downside risk of an investment.\n",
    "\n",
    "In this exercise, your goal is to compute the semideviation of ABC historical returns.\n",
    "\n",
    "To do so, take the square root of\n",
    "\n",
    "[(R_1-Average)^2 + (R_2-Average)^2 + ... + (R_L-Average)^2] / L, where R_1, R_2, …, R_L are the L returns lower than the average return.\n",
    "\n",
    "Use a combination of SUMIFS(), COUNTIFS(), and SQRT(). Recall that to write a logical condition, include it within quotation marks “… ” and if necessary, use the concatenation operator & (for example, “<”&H4 means smaller than cell H4)."
   ]
  },
  {
   "cell_type": "markdown",
   "metadata": {},
   "source": [
    "- See 02.15"
   ]
  },
  {
   "cell_type": "markdown",
   "metadata": {},
   "source": [
    "# Compute the Sortino ratio"
   ]
  },
  {
   "cell_type": "markdown",
   "metadata": {},
   "source": [
    "The Sortino ratio is a simple modification of the Sharpe ratio which relies on the semideviation instead of the standard deviation as a measure of risk.\n",
    "\n",
    "In the final exercise of chapter 2, your goal is to compute the Sortino ratio of ABC.\n",
    "\n",
    "The formula to use is the following:\n",
    "\n",
    "(Realized return - Risk-free rate) / Semideviation"
   ]
  },
  {
   "cell_type": "markdown",
   "metadata": {},
   "source": [
    "- See 02.16"
   ]
  }
 ],
 "metadata": {
  "kernelspec": {
   "display_name": "Python 3.8.11 ('env_py')",
   "language": "python",
   "name": "python3"
  },
  "language_info": {
   "name": "python",
   "version": "3.8.11"
  },
  "orig_nbformat": 4,
  "vscode": {
   "interpreter": {
    "hash": "1e949e87132dd83f1a7623eb88007e3532b03b66b77111be347aa4a383049722"
   }
  }
 },
 "nbformat": 4,
 "nbformat_minor": 2
}

{
 "cells": [
  {
   "cell_type": "markdown",
   "metadata": {},
   "source": [
    "# How to choose a good benchmark?"
   ]
  },
  {
   "cell_type": "markdown",
   "metadata": {},
   "source": [
    "Which of the following would be an appropriate benchmark for a generic stock XYZ, which is traded on the London Stock Exchange?"
   ]
  },
  {
   "cell_type": "markdown",
   "metadata": {},
   "source": [
    "- A UK stock index. Since ABC is a stock traded in the UK, it is reasonable to benchmark its performance with a UK stock index, which summarizes the performance of major companies traded in the UK market."
   ]
  },
  {
   "cell_type": "markdown",
   "metadata": {},
   "source": [
    "# Compare the final wealth"
   ]
  },
  {
   "cell_type": "markdown",
   "metadata": {},
   "source": [
    "The first and most intuitive way to benchmark your investment is to compare the final wealth derived by investing in both ABC and its benchmark in the past.\n",
    "\n",
    "To do so, set an initial amount equal to $100 in December 2012, and compound its evolution using the monthly returns of both ABC and the benchmark for the period January 2013 to December 2017.\n",
    "\n",
    "The formula to use at each period is Wealth = Wealth previous period * (1 + Periodic return).\n",
    "\n",
    "Which one of the two investments led to the largest wealth at the end of the period, in December 2017?"
   ]
  },
  {
   "cell_type": "markdown",
   "metadata": {},
   "source": [
    "- See 04.03"
   ]
  },
  {
   "cell_type": "markdown",
   "metadata": {},
   "source": [
    "# Plot the cumulative wealth"
   ]
  },
  {
   "cell_type": "markdown",
   "metadata": {},
   "source": [
    "To have a clearer overview of the wealth variation during the period, you can display the series using a line chart.\n",
    "\n",
    "In this exercise, your task is to build a line chart which shows the comparison of the two series of cumulative wealth computed before."
   ]
  },
  {
   "cell_type": "markdown",
   "metadata": {},
   "source": [
    "- See 04.04"
   ]
  },
  {
   "cell_type": "markdown",
   "metadata": {},
   "source": [
    "# Compare the Sharpe ratios"
   ]
  },
  {
   "cell_type": "markdown",
   "metadata": {},
   "source": [
    "Comparing two investments through the cumulative wealth ignores the risk component in the performance. You can overcome this by using metrics such as the Sharpe ratio.\n",
    "\n",
    "In this exercise, your task is to benchmark ABC against a market index using the Sharpe ratio.\n",
    "\n",
    "Recall that the formula to compute the Sharpe ratio is (Effective return - Risk-free rate) / Volatility ."
   ]
  },
  {
   "cell_type": "markdown",
   "metadata": {},
   "source": [
    "- See 04.06"
   ]
  },
  {
   "cell_type": "markdown",
   "metadata": {},
   "source": [
    "# Compare the drawdowns"
   ]
  },
  {
   "cell_type": "markdown",
   "metadata": {},
   "source": [
    "A drawdown is defined as the peak-to-trough decline of the value of an investment during a specific period. It is usually quoted as a percentage of the peak value.\n",
    "\n",
    "In this exercise, you are asked to compute the evolution of drawdowns for both ABC and its benchmark over the period December 2012 to December 2017. After that, display both the series of drawdowns using a line chart. The graph will give you a better understanding of the dynamics of the drawdowns over the period.\n",
    "\n",
    "Recall that the drawdown is defined as the current price divided by the maximum price observed so far, minus one. For simplicity do not consider dividends, just prices."
   ]
  },
  {
   "cell_type": "markdown",
   "metadata": {},
   "source": [
    "- See 04.07"
   ]
  },
  {
   "cell_type": "markdown",
   "metadata": {},
   "source": [
    "# Compare the maximum drawdowns"
   ]
  },
  {
   "cell_type": "markdown",
   "metadata": {},
   "source": [
    "The maximum drawdown is the largest drawdown observed over the whole past period.\n",
    "\n",
    "In this exercise, your task is to compute the maximum drawdown for both securities and check whether ABC outperformed the benchmark in terms of capital preservation.\n",
    "\n",
    "Recall that maximum drawdowns are expressed as positive numbers."
   ]
  },
  {
   "cell_type": "markdown",
   "metadata": {},
   "source": [
    "- See 04.08"
   ]
  },
  {
   "cell_type": "markdown",
   "metadata": {},
   "source": [
    "# Compute the correlation coefficient"
   ]
  },
  {
   "cell_type": "markdown",
   "metadata": {},
   "source": [
    "How do the monthly returns of ABC and the one of its benchmark move together?\n",
    "\n",
    "To answer this question, you should compute the correlation coefficient of the two series of historical returns. Such a coefficient is also called \"Pearson correlation coefficient\", named after the English mathematician Karl Pearson.\n",
    "\n",
    "Use both the functions CORREL() and PEARSON() to compute the correlation coefficient. They require two arguments, the series of historical returns for stock ABC and the series of historical returns for the benchmark."
   ]
  },
  {
   "cell_type": "markdown",
   "metadata": {},
   "source": [
    "- See 04.10"
   ]
  },
  {
   "cell_type": "markdown",
   "metadata": {},
   "source": [
    "# Compute the rolling-window correlation"
   ]
  },
  {
   "cell_type": "markdown",
   "metadata": {},
   "source": [
    "A rolling-window correlation is a useful tool to investigate how the relationship between ABC and its benchmark moved over time.\n",
    "\n",
    "In this exercise, your task is to compute moving correlation using a one-year window (12 months). After that, display the values through a line chart.\n",
    "\n",
    "Rolling correlation is easy to perform with spreadsheets. Just expand the correlation formula with relative values of the input cells, corresponding to the sub-windows of interest.\n",
    "\n",
    "Note that cells I2:I13 are filled with #N/As. To do so, we used the functionNA(), which requires no argument and returns a #N/A. That's because when dealing with rolling windows, starting the computation in line with the last cell of the first period makes the process easier and more understandable."
   ]
  },
  {
   "cell_type": "markdown",
   "metadata": {},
   "source": [
    "- See 04.11"
   ]
  }
 ],
 "metadata": {
  "kernelspec": {
   "display_name": "Python 3.8.11 ('env_py')",
   "language": "python",
   "name": "python3"
  },
  "language_info": {
   "name": "python",
   "version": "3.8.11"
  },
  "orig_nbformat": 4,
  "vscode": {
   "interpreter": {
    "hash": "1e949e87132dd83f1a7623eb88007e3532b03b66b77111be347aa4a383049722"
   }
  }
 },
 "nbformat": 4,
 "nbformat_minor": 2
}

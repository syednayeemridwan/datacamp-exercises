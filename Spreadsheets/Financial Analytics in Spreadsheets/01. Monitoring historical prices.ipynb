{
 "cells": [
  {
   "cell_type": "markdown",
   "metadata": {},
   "source": [
    "# What is a stock?"
   ]
  },
  {
   "cell_type": "markdown",
   "metadata": {},
   "source": [
    "Based on what you have listened to so far, which of the following features describe a stock?"
   ]
  },
  {
   "cell_type": "markdown",
   "metadata": {},
   "source": [
    "- A stock can be purchased or sold on the stock exchange.\n",
    "- If the price of a stock increases, assuming that the number of stocks outstanding is constant, the value of a company increases as well.\n",
    "- If you own a share of a company, you are entitled to receive dividends (in case that company decided to pay them out)."
   ]
  },
  {
   "cell_type": "markdown",
   "metadata": {},
   "source": [
    "# Count prices and dividends"
   ]
  },
  {
   "cell_type": "markdown",
   "metadata": {},
   "source": [
    "You are provided with a time series of end-of-month prices and dividends for the ABC stock, spanning the period December 2012 to December 2017.\n",
    "\n",
    "Your first task is to count the number of historical prices and the number of times the company paid a dividend.\n",
    "\n",
    "Use the function COUNT() which takes as argument a range of cells (for instance A1:A20) and returns the number of values included in that range.\n",
    "\n",
    "An extension of this function is COUNTIFS(), which allows you to count the number of cells meeting specific conditions. In this case, in addition to the range of cells, you have to specify the condition you want to test as argument. The condition must be enclosed with quotes (for example “>10”)."
   ]
  },
  {
   "cell_type": "markdown",
   "metadata": {},
   "source": [
    "- See 01.03"
   ]
  },
  {
   "cell_type": "markdown",
   "metadata": {},
   "source": [
    "# Find minimum and maximum prices"
   ]
  },
  {
   "cell_type": "markdown",
   "metadata": {},
   "source": [
    "Your goal now is to extract some relevant information from the time series to better understand the price dynamics during the period under analysis.\n",
    "\n",
    "To that purpose, the first thing is to identify the extremes: what are the minimum and maximum prices reached by ABC during this period? Use the functions MIN() and MAX() to answer these questions.\n",
    "\n",
    "Recall that these functions work the same way: they receive as the main argument the range of cells from which you want to extract information and return respectively the minimum and maximum values in the range of cells."
   ]
  },
  {
   "cell_type": "markdown",
   "metadata": {},
   "source": [
    "- See 01.04"
   ]
  },
  {
   "cell_type": "markdown",
   "metadata": {},
   "source": [
    "# Find minimum and maximum dividends"
   ]
  },
  {
   "cell_type": "markdown",
   "metadata": {},
   "source": [
    "Complete your analysis by looking at the series of dividends. What are the minimum and maximum dividend paid out by the company over the period?\n",
    "\n",
    "To answer these questions, you cannot simply use MIN() and MAX(). As cells with 0 indicate “no dividend”, you must exclude them from the computations.\n",
    "\n",
    "To do so, you should use MINIFS() and MAXIFS(). These functions, like COUNTIFS(), apply the desired operation to all the cells which meet one or more specific conditions.\n",
    "\n",
    "Contrarily to COUNTIFS(), MINIFS() and MAXIFS() require three mandatory arguments: the range of cells from which the minimum or the maximum is determined, the range of cells on which the condition applies, and the condition itself enclosed with quotes."
   ]
  },
  {
   "cell_type": "markdown",
   "metadata": {},
   "source": [
    "- See 01.05"
   ]
  },
  {
   "cell_type": "markdown",
   "metadata": {},
   "source": [
    "# Find price at a given date"
   ]
  },
  {
   "cell_type": "markdown",
   "metadata": {},
   "source": [
    "Your first task here is to determine the stock price on September 30, 2015, using the function VLOOKUP().\n",
    "\n",
    "Recall that the function requires three mandatory arguments:\n",
    "\n",
    "- `search_key`: The value to search for.\n",
    "- `range`: The range of cells to consider for the search process.\n",
    "- `index`: The column index of the value to be returned, where the first column in the range is numbered 1.\n",
    "\n",
    "There is also an optional argument, which indicates whether the column to be searched (the first column of the specified range) is sorted, in which case the closest match for search_key will be returned."
   ]
  },
  {
   "cell_type": "markdown",
   "metadata": {},
   "source": [
    "- See 01.07"
   ]
  },
  {
   "cell_type": "markdown",
   "metadata": {},
   "source": [
    "# Find dates with minimum and maximum prices"
   ]
  },
  {
   "cell_type": "markdown",
   "metadata": {},
   "source": [
    "Now that you are more familiar with VLOOKUP(), your next goal is to use this function to find at which dates historical minimum and maximum prices occurred.\n",
    "\n",
    "However, there is a problem! Remember that for VLOOKUP() to work correctly the lookup value should always be in the first column. The first column of your dataset is represented by the dates, and in this exercise, you want that column to be the target of your search instead of the lookup value.\n",
    "\n",
    "What do you do then? Just move (or duplicate) the dates column and append it at the right-hand side of the dividend column."
   ]
  },
  {
   "cell_type": "markdown",
   "metadata": {},
   "source": [
    "- See 01.08"
   ]
  },
  {
   "cell_type": "markdown",
   "metadata": {},
   "source": [
    "# Plot a line chart of historical prices"
   ]
  },
  {
   "cell_type": "markdown",
   "metadata": {},
   "source": [
    "A line chart is a tool used by traders and financial analysts to visualize and better understand the past movements of the stock prices.\n",
    "\n",
    "In this exercise, your task is to build a line chart representing the time series of historical prices of stock ABC during the period December 2012 to December 2017."
   ]
  },
  {
   "cell_type": "markdown",
   "metadata": {},
   "source": [
    "- See 01.10"
   ]
  },
  {
   "cell_type": "markdown",
   "metadata": {},
   "source": [
    "# Customize the chart"
   ]
  },
  {
   "cell_type": "markdown",
   "metadata": {},
   "source": [
    "You correctly built a line chart representing historical prices of ABC over the period December 2012 to December 2017.\n",
    "\n",
    "Your next task is to customize the chart by adding the dates on the horizontal axis and the main title.\n",
    "\n",
    "Customizing a chart is a way to make it nicer and more informative."
   ]
  },
  {
   "cell_type": "markdown",
   "metadata": {},
   "source": [
    "- See 01.11"
   ]
  },
  {
   "cell_type": "markdown",
   "metadata": {},
   "source": [
    "# Highlight minimum and maximum prices"
   ]
  },
  {
   "cell_type": "markdown",
   "metadata": {},
   "source": [
    "Your final task is to highlight the minimum and maximum prices in the line chart generated before. They should be displayed as points.\n",
    "\n",
    "To do so, you must add two series to your graph.\n",
    "\n",
    "In a chart with multiple series, all of them must have the same length. That's why the minimum and maximum prices are represented as two series of 61 elements (like the prices), where 60 are #N/As and one is the minimum (or the maximum).\n",
    "\n",
    "As an optional task, you can further improve the chart using the other customizations seen in the lecture. For example, you can:\n",
    "\n",
    "- Set the limits of the vertical axis to 40 and 65\n",
    "- Under Series, set the point size of maximum and minimum to 10px.\n",
    "- Set labels on the X-axis as text and their slant to 30 degrees."
   ]
  },
  {
   "cell_type": "markdown",
   "metadata": {},
   "source": [
    "- See 01.12"
   ]
  }
 ],
 "metadata": {
  "kernelspec": {
   "display_name": "Python 3.8.11 ('env_py')",
   "language": "python",
   "name": "python3"
  },
  "language_info": {
   "name": "python",
   "version": "3.8.11"
  },
  "orig_nbformat": 4,
  "vscode": {
   "interpreter": {
    "hash": "1e949e87132dd83f1a7623eb88007e3532b03b66b77111be347aa4a383049722"
   }
  }
 },
 "nbformat": 4,
 "nbformat_minor": 2
}

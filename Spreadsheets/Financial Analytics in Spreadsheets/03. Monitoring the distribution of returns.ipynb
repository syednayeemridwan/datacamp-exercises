{
 "cells": [
  {
   "cell_type": "markdown",
   "metadata": {},
   "source": [
    "# Define bins"
   ]
  },
  {
   "cell_type": "markdown",
   "metadata": {},
   "source": [
    "A histogram is a bar chart that can be used to display the empirical distribution of historical stock returns. To build a histogram, the first step is to divide the range of historical returns into equal intervals, called bins.\n",
    "\n",
    "In this exercise, your task is to divide the series of ABC historical returns into 30 bins.\n",
    "\n",
    "To do so, use the following procedure:\n",
    "\n",
    "- Compute minimum and maximum return.\n",
    "- Compute the range by taking the difference between maximum and minimum return.\n",
    "- Divide such a difference by the number of bins minus one, and you’ll get the width of each bin.\n",
    "- Starting from the minimum, add iteratively the width and you’ll gradually come up with regular intervals of values."
   ]
  },
  {
   "cell_type": "markdown",
   "metadata": {},
   "source": [
    "- See 03.02"
   ]
  },
  {
   "cell_type": "markdown",
   "metadata": {},
   "source": [
    "# Find the frequency of each bin"
   ]
  },
  {
   "cell_type": "markdown",
   "metadata": {},
   "source": [
    "The next step is to count how many times historical returns fall into a specific bin, that is, to identify the frequency of each bin.\n",
    "\n",
    "For example, if a bin includes returns larger than or equal to 2% and smaller than 3%, to get the frequency you have to count the number of returns that meet these criteria.\n",
    "\n",
    "To do so, you can use the function COUNTIFS() with two conditions: historical returns larger than or equal to the left boundary of the bin (first condition) and smaller than the right boundary of the bin (second condition). Recall that to write a logical condition, include it within quotation marks “… ” and if necessary, use the concatenation operator & (for example, “>=”&G7 means larger than or equal to cell G7)."
   ]
  },
  {
   "cell_type": "markdown",
   "metadata": {},
   "source": [
    "- See 03.03"
   ]
  },
  {
   "cell_type": "markdown",
   "metadata": {},
   "source": [
    "# Convert frequencies into relative frequencies"
   ]
  },
  {
   "cell_type": "markdown",
   "metadata": {},
   "source": [
    "The frequencies indicate how many times historical returns fall into a given bin. To have a standardized measure, useful in terms of both comparison and interpretation, you can use relative frequencies. They are frequencies expressed in percentage, where 100% corresponds to the total amount of historical returns.\n",
    "\n",
    "Your next task is to convert the frequencies of ABC historical returns into relative frequencies."
   ]
  },
  {
   "cell_type": "markdown",
   "metadata": {},
   "source": [
    "- See 03.04"
   ]
  },
  {
   "cell_type": "markdown",
   "metadata": {},
   "source": [
    "# Build the histogram"
   ]
  },
  {
   "cell_type": "markdown",
   "metadata": {},
   "source": [
    "Once you have the bins and the relative frequencies, you can finally display the values in a bar chart. This chart is called a “histogram”.\n",
    "\n",
    "To do so, you need to select the range of relative frequencies, go on Insert, Chart, and in the Chart editor, under Chart type, select Column chart.\n",
    "\n",
    "In the Chart editor, in addition to several customization functions, you can include the values to display on the horizontal axis."
   ]
  },
  {
   "cell_type": "markdown",
   "metadata": {},
   "source": [
    "- See 03.05"
   ]
  },
  {
   "cell_type": "markdown",
   "metadata": {},
   "source": [
    "# Plot the standard Gaussian model"
   ]
  },
  {
   "cell_type": "markdown",
   "metadata": {},
   "source": [
    "The “standard” Gaussian model is a Gaussian model with a mean of zero and a standard deviation of one.\n",
    "\n",
    "In this exercise, given a set of bins spanning a range of possible values, your goal is to compute and display the theoretical probabilities of each bin.\n",
    "\n",
    "To do so, use the function NORMDIST(). It has four arguments:\n",
    "\n",
    "- `x`: The value for which you want to compute the density (or the cumulative probability).\n",
    "- `m`: The location (mean) of the Gaussian model.\n",
    "- `s`: The dispersion (standard deviation) of the Gaussian model.\n",
    "- `cumulative`: TRUE if you want the cumulative probability, FALSE if you want the density.\n",
    "\n",
    "Remember that the probability is the surface below the density curve, and can be computed by taking the difference of the cumulative probability at the boundaries of the bin."
   ]
  },
  {
   "cell_type": "markdown",
   "metadata": {},
   "source": [
    "- See 03.07"
   ]
  },
  {
   "cell_type": "markdown",
   "metadata": {},
   "source": [
    "# Change the location of the Gaussian model"
   ]
  },
  {
   "cell_type": "markdown",
   "metadata": {},
   "source": [
    "By changing the mean of an existing Gaussian model, you can shift the location of the model.\n",
    "\n",
    "In this exercise, your task is to compute and display the Gaussian model with a mean of 1 and a standard deviation of 1.\n",
    "\n",
    "Recall that the function NORMDIST() has the following syntax: NORMDIST(x, m, s, cumulative)."
   ]
  },
  {
   "cell_type": "markdown",
   "metadata": {},
   "source": [
    "- See 03.08"
   ]
  },
  {
   "cell_type": "markdown",
   "metadata": {},
   "source": [
    "# Change the dispersion of the Gaussian model"
   ]
  },
  {
   "cell_type": "markdown",
   "metadata": {},
   "source": [
    "If a different mean can shift the model, you can modify the dispersion by changing the standard deviation. The dispersion is the amplitude of the model.\n",
    "\n",
    "In this exercise, your task is to compute and display the Gaussian model with a mean of zero and a standard deviation of 1.5."
   ]
  },
  {
   "cell_type": "markdown",
   "metadata": {},
   "source": [
    "- See 03.09"
   ]
  },
  {
   "cell_type": "markdown",
   "metadata": {},
   "source": [
    "# Calibrate the Gaussian model on historical returns"
   ]
  },
  {
   "cell_type": "markdown",
   "metadata": {},
   "source": [
    "In this exercise, your goal is to calibrate a Gaussian model on the historical returns of ABC stock.\n",
    "\n",
    "Use the function NORMDIST() with the empirical moments as the inputs.\n",
    "\n",
    "Some remarks:\n",
    "\n",
    "- You are fitting a Gaussian model on the series of historical returns, hence the argument m and s of NORMDIST() should be set as the average return and the volatility of the historical returns. By doing so, you calibrate the model in an ad-hoc way.\n",
    "- As this is a model, you can span a larger set of possible values for the returns than the one observed in the past and used in the histogram."
   ]
  },
  {
   "cell_type": "markdown",
   "metadata": {},
   "source": [
    "- See 03.11"
   ]
  },
  {
   "cell_type": "markdown",
   "metadata": {},
   "source": [
    "# Overlay the Gaussian model to the empirical histogram"
   ]
  },
  {
   "cell_type": "markdown",
   "metadata": {},
   "source": [
    "It’s time now to check whether the Gaussian model is accurate for the past returns of ABC stock.\n",
    "\n",
    "You can inspect this graphically, by overlaying the Gaussian model to the histogram of historical returns."
   ]
  },
  {
   "cell_type": "markdown",
   "metadata": {},
   "source": [
    "- See 03.12"
   ]
  },
  {
   "cell_type": "markdown",
   "metadata": {},
   "source": [
    "# Compute the 5% value-at-risk from the Gaussian model"
   ]
  },
  {
   "cell_type": "markdown",
   "metadata": {},
   "source": [
    "Now that you have calibrated the Gaussian model on ABC historical returns, your next task is to estimate the 5% value-at-risk based on this model. This is the Gaussian value-at-risk because it relies on the Gaussian model calibrated on the past returns.\n",
    "\n",
    "To find the Gaussian value-at-risk, use the function NORMINV(). This function requires three arguments:\n",
    "\n",
    "- The input to the inverse Gaussian distribution function, which in this case is 0.05 for 5%.\n",
    "- The mean of the calibrated Gaussian model.\n",
    "- The standard deviation of the calibrated Gaussian model."
   ]
  },
  {
   "cell_type": "markdown",
   "metadata": {},
   "source": [
    "- See 03.13"
   ]
  },
  {
   "cell_type": "markdown",
   "metadata": {},
   "source": [
    "# What are the limitations of the Gaussian model?"
   ]
  },
  {
   "cell_type": "markdown",
   "metadata": {},
   "source": [
    "What are some features of stock returns that a Gaussian model cannot capture?"
   ]
  },
  {
   "cell_type": "markdown",
   "metadata": {},
   "source": [
    "- Stock returns tend to have extreme values, especially during financial crises.\n",
    "- Stock returns tend to be left-skewed."
   ]
  },
  {
   "cell_type": "markdown",
   "metadata": {},
   "source": [
    "# Compute skewness and kurtosis of the historical returns"
   ]
  },
  {
   "cell_type": "markdown",
   "metadata": {},
   "source": [
    "Two metrics are of interest when we want to assess if returns are in line with the Gaussian model: skewness and kurtosis.\n",
    "\n",
    "In this exercise, you are asked to find these metrics by using the functions SKEW() and KURT().\n",
    "\n",
    "Note that the function KURT() computes the excess kurtosis, that is, the kurtosis minus 3. So, if KURT() reports a value of 0, this indicates that the kurtosis is 3."
   ]
  },
  {
   "cell_type": "markdown",
   "metadata": {},
   "source": [
    "- See 03.16"
   ]
  }
 ],
 "metadata": {
  "kernelspec": {
   "display_name": "Python 3.8.11 ('env_py')",
   "language": "python",
   "name": "python3"
  },
  "language_info": {
   "name": "python",
   "version": "3.8.11"
  },
  "orig_nbformat": 4,
  "vscode": {
   "interpreter": {
    "hash": "1e949e87132dd83f1a7623eb88007e3532b03b66b77111be347aa4a383049722"
   }
  }
 },
 "nbformat": 4,
 "nbformat_minor": 2
}

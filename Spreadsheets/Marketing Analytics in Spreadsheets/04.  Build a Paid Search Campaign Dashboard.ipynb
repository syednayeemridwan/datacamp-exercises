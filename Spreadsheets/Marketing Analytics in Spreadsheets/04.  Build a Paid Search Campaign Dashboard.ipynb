{
 "cells": [
  {
   "cell_type": "markdown",
   "metadata": {},
   "source": [
    "# Dropdowns for source and campaign name"
   ]
  },
  {
   "cell_type": "markdown",
   "metadata": {},
   "source": [
    "With all of your skills in preparing data and visualizing data from the tables your marketing agency uses, you have now been tasked with building an easy-to-understand dashboard.\n",
    "\n",
    "The marketing manager at your agency would like any dashboard you create to be able to be filtered by both the Source and the Campaign Name. The first step you must take is to add these as dropdowns to your sheet, to be used as filters as the dashboard progresses."
   ]
  },
  {
   "cell_type": "markdown",
   "metadata": {},
   "source": [
    "- See 04.02"
   ]
  },
  {
   "cell_type": "markdown",
   "metadata": {},
   "source": [
    "# Create a filtered table"
   ]
  },
  {
   "cell_type": "markdown",
   "metadata": {},
   "source": [
    "Now that the dropdowns are created, the next step is to create a separate table. This table will be present in any future dashboard, as the marketing manager at your agency and the clients you work for like to see the filtered data."
   ]
  },
  {
   "cell_type": "markdown",
   "metadata": {},
   "source": [
    "- See 04.03"
   ]
  },
  {
   "cell_type": "markdown",
   "metadata": {},
   "source": [
    "# Prep for charts with a regex driven table"
   ]
  },
  {
   "cell_type": "markdown",
   "metadata": {},
   "source": [
    "The last item needed for the dashboard is a regex aggregate table. This aggregate table will dynamically change based on the values in the filtered table.\n",
    "\n",
    "The marketing director at your agency would like to see a pie chart and a column chart in the dashboard, and this regex aggregate table will make the creation of those charts easier.\n",
    "\n",
    "The regular expression in cells L2:L4 is already complete. As you can see, by appending .* after the first few letters of the ad group, you can match each one perfectly."
   ]
  },
  {
   "cell_type": "markdown",
   "metadata": {},
   "source": [
    "- See 04.04"
   ]
  },
  {
   "cell_type": "markdown",
   "metadata": {},
   "source": [
    "# Ad group impression share with a doughnut chart"
   ]
  },
  {
   "cell_type": "markdown",
   "metadata": {},
   "source": [
    "Once again, the marketing manager at your agency simply does not like the look and feel of a pie chart. In addition, they feel like the percent make up of total Impressions is more important than Cost, which is what it currently reports.\n",
    "\n",
    "Knowing all of the issues, you now need to modify the chart accordingly.\n",
    "\n",
    "Note: Columns A through G are minimized in this exercise. From this exercise through the rest of the exercises in chapter 4, A:G will remain hidden."
   ]
  },
  {
   "cell_type": "markdown",
   "metadata": {},
   "source": [
    "- See 04.06"
   ]
  },
  {
   "cell_type": "markdown",
   "metadata": {},
   "source": [
    "# Ad group metrics with a bar chart"
   ]
  },
  {
   "cell_type": "markdown",
   "metadata": {},
   "source": [
    "The digital marketing manager loved the doughnut chart you just created, that they are now hungry for more charts like these! This is great, except you know that having too many charts will ruin a dashboard.\n",
    "\n",
    "This is where you pull out one of the most recognizable charts - the bar chart. This chart is one of the easiest to read and is well understood by nearly everyone, so, this is always a good one to use in a dashboard."
   ]
  },
  {
   "cell_type": "markdown",
   "metadata": {},
   "source": [
    "- See 04.07"
   ]
  },
  {
   "cell_type": "markdown",
   "metadata": {},
   "source": [
    "# Campaign and ad group analysis with a bubble chart"
   ]
  },
  {
   "cell_type": "markdown",
   "metadata": {},
   "source": [
    "The last request by the marketing manager is for the dashboard to relate all three metrics: Impressions, Clicks, and Cost.\n",
    "\n",
    "In this case, the chart of choice is easy, the bubble chart is the best choice when the goal is to relate 3 metrics.\n",
    "\n",
    "After completing the task, look closely at the chart and consider which ad group may need some support."
   ]
  },
  {
   "cell_type": "markdown",
   "metadata": {},
   "source": [
    "- See 04.08"
   ]
  },
  {
   "cell_type": "markdown",
   "metadata": {},
   "source": [
    "# Who are the dashboards for?"
   ]
  },
  {
   "cell_type": "markdown",
   "metadata": {},
   "source": [
    "The marketing director at your digital marketing agency has noticed that you are a pro at creating effective and easy to understand dashboards. The dashboards are even being used when determining the allocation of resources across campaigns. Now, the marketing director wants to expand on the use of dashboards and they want to know: who can benefit from dashboards?\n",
    "\n",
    "Of the following descriptions of users, which do you tell the marketing director will benefit from a dashboard?"
   ]
  },
  {
   "cell_type": "markdown",
   "metadata": {},
   "source": [
    "- A digital marketing manager, who does not have the time to dig up the numbers.\n",
    "- Any client who wants to check in on how their advertisments are performing.\n",
    "- The strategist on a digital marketing team who needs to plan the budget for the following quarter"
   ]
  },
  {
   "cell_type": "markdown",
   "metadata": {},
   "source": [
    "# Add a campaign dropdown filter"
   ]
  },
  {
   "cell_type": "markdown",
   "metadata": {},
   "source": [
    "As the dashboard is almost complete, the marketing director at your agency reminds you that the initial request asked for the data to be filtered by both the Source and the Campaign Name. You know that all you need to do is modify the current formula to filter for both dropdown menus.\n",
    "\n",
    "As the formula is already quite complex at this stage, we have formatted it within the cell so that you can see the different elements of the two IF() functions. If you are struggling with the formula, you can review the relevant slide in the Slide Reference tab!"
   ]
  },
  {
   "cell_type": "markdown",
   "metadata": {},
   "source": [
    "- See 04.11"
   ]
  },
  {
   "cell_type": "markdown",
   "metadata": {},
   "source": [
    "# Apply dynamic filter to dashboard"
   ]
  },
  {
   "cell_type": "markdown",
   "metadata": {},
   "source": [
    "Everything is almost set. In order to make this dashboard ready for your marketing manager and clients to use, you just need to link the doughnut chart to the filtered table."
   ]
  },
  {
   "cell_type": "markdown",
   "metadata": {},
   "source": [
    "- See 04.12"
   ]
  }
 ],
 "metadata": {
  "kernelspec": {
   "display_name": "Python 3.8.11 ('env_py')",
   "language": "python",
   "name": "python3"
  },
  "language_info": {
   "name": "python",
   "version": "3.8.11"
  },
  "orig_nbformat": 4,
  "vscode": {
   "interpreter": {
    "hash": "1e949e87132dd83f1a7623eb88007e3532b03b66b77111be347aa4a383049722"
   }
  }
 },
 "nbformat": 4,
 "nbformat_minor": 2
}

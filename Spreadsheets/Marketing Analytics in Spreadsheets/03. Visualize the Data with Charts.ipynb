{
 "cells": [
  {
   "cell_type": "markdown",
   "metadata": {},
   "source": [
    "# Analyze cost data with a stacked area chart"
   ]
  },
  {
   "cell_type": "markdown",
   "metadata": {},
   "source": [
    "The digital marketing director at your company is in dire need of some trends, as they are behind on a report. The silver lining is that the chart is already partially completed.\n",
    "\n",
    "This chart needs to report on the makeup of total cost per month over the last 6 months. A stacked area chart will do the trick, as it displays the aggregate cost per month, and displays the breakdown of the trends."
   ]
  },
  {
   "cell_type": "markdown",
   "metadata": {},
   "source": [
    "- See 03.02"
   ]
  },
  {
   "cell_type": "markdown",
   "metadata": {},
   "source": [
    "# Plotting campaign click-through-rates with a line chart"
   ]
  },
  {
   "cell_type": "markdown",
   "metadata": {},
   "source": [
    "You finally get to the last trend that your marketing director needs for their report and you realize that the chart needs to be overhauled.\n",
    "\n",
    "Before you dive into the chart, you realize that the campaign IDs you created are being used in this chart, which will make your life easier, as you will want to plot all 4 trends.\n",
    "\n",
    "This chart will quickly become messy when adding all 4 CTR trends, but visualizing all the CTRs will help the reader understand how well or poor each source performed over the 6 month time frame."
   ]
  },
  {
   "cell_type": "markdown",
   "metadata": {},
   "source": [
    "- See 03.03"
   ]
  },
  {
   "cell_type": "markdown",
   "metadata": {},
   "source": [
    "# Using a bar chart to visualize total ad group spend"
   ]
  },
  {
   "cell_type": "markdown",
   "metadata": {},
   "source": [
    "The marketing director needs you to complete an ad group assessment. This is a common request as it will determine the strategy for each of the ad groups, which will include budget allocation.\n",
    "\n",
    "Before you dive deeper into the ad group assessment, you need to understand what each ad group spent."
   ]
  },
  {
   "cell_type": "markdown",
   "metadata": {},
   "source": [
    "- See 03.05"
   ]
  },
  {
   "cell_type": "markdown",
   "metadata": {},
   "source": [
    "# Assessing campaign performance with a column chart"
   ]
  },
  {
   "cell_type": "markdown",
   "metadata": {},
   "source": [
    "The next step in the assessment is for you to determine how well each ad group performed based on ad impressions and clicks.\n",
    "\n",
    "A bar chart containing impressions is already available for you. Your task is to add clicks to the chart, and to change the chart type to something more readable."
   ]
  },
  {
   "cell_type": "markdown",
   "metadata": {},
   "source": [
    "- See 03.06"
   ]
  },
  {
   "cell_type": "markdown",
   "metadata": {},
   "source": [
    "# Ad group overview with 100% stacked bar chart"
   ]
  },
  {
   "cell_type": "markdown",
   "metadata": {},
   "source": [
    "Stacking both impressions and clicks worked well, as both are related, but adding cost may muddy the chart a bit too much.\n",
    "\n",
    "To provide a general overview of ad group performance, you decide to break down each ad group using a 100% stacked bar chart."
   ]
  },
  {
   "cell_type": "markdown",
   "metadata": {},
   "source": [
    "- See 03.07"
   ]
  },
  {
   "cell_type": "markdown",
   "metadata": {},
   "source": [
    "# Assessing campaign goal completions with a pie chart"
   ]
  },
  {
   "cell_type": "markdown",
   "metadata": {},
   "source": [
    "After completing an impressive ad group assessment, the marketing director is interested in seeing what kind of useful visuals you can dig up regarding campaign performance.\n",
    "\n",
    "One of the best performance indicators is the number of goal completions a campaign has, which are measured interactions users have after they interact with an ad. Recall, examples of goal completions include things like submitting an online form, or purchasing a subscription.\n",
    "\n",
    "To begin, you decide that a pie chart reporting on total goal completions, broken down by campaign, will shed some light on which campaigns are most successful."
   ]
  },
  {
   "cell_type": "markdown",
   "metadata": {},
   "source": [
    "- See 03.09"
   ]
  },
  {
   "cell_type": "markdown",
   "metadata": {},
   "source": [
    "# Understanding click through rate with a scatter plot"
   ]
  },
  {
   "cell_type": "markdown",
   "metadata": {},
   "source": [
    "A scatter chart will help understand how metrics relate to one another. For our purposes, let us plot impressions vs. clicks, which will not provide too much information, but will help lead us into another chart that will be incredibly informative. The bubble chart is the next stage, which is simply a scatter chart but with an added dimension, or weight, to the scatter dots."
   ]
  },
  {
   "cell_type": "markdown",
   "metadata": {},
   "source": [
    "- See 03.10"
   ]
  },
  {
   "cell_type": "markdown",
   "metadata": {},
   "source": [
    "# Visualizing goal completions with a bubble chart"
   ]
  },
  {
   "cell_type": "markdown",
   "metadata": {},
   "source": [
    "To make better use of the scatter chart, with the data that is available, you decide to change it to a bubble chart and add goal completions as the bubble size.\n",
    "\n",
    "The chart not only shows how well the ads perform by comparing impressions and clicks, but also shows the effectiveness of the pages the users land on from each campaign through goal completions."
   ]
  },
  {
   "cell_type": "markdown",
   "metadata": {},
   "source": [
    "- See 03.11"
   ]
  },
  {
   "cell_type": "markdown",
   "metadata": {},
   "source": [
    "# Visualizing impressions with a doughnut chart"
   ]
  },
  {
   "cell_type": "markdown",
   "metadata": {},
   "source": [
    "From the list of items for the dashboard requested by the marketing director:\n",
    "\n",
    "A chart to show the percent of impressions by source\n",
    "\n",
    "This first chart in the dashboard will help visualize the difference in visibility between Google and Bing, which can be done using either a pie chart or a doughnut chart. The marketing director will want the charts to look clean and neat, so you will use the doughnut chart instead of the pie chart because it is a bit more visually appealing."
   ]
  },
  {
   "cell_type": "markdown",
   "metadata": {},
   "source": [
    "- See 03.13"
   ]
  },
  {
   "cell_type": "markdown",
   "metadata": {},
   "source": [
    "# Using a bubble chart to determine the better source"
   ]
  },
  {
   "cell_type": "markdown",
   "metadata": {},
   "source": [
    "The second requirement for the dashboard from the marketing director:\n",
    "\n",
    "A chart that will show the relationship between clicks, goal completions, and impressions\n",
    "\n",
    "The requirements hint at a bubble chart, since clicks, goal completions, and impressions seem to be closely related, and a bubble chart would do a great job at charting the relationships."
   ]
  },
  {
   "cell_type": "markdown",
   "metadata": {},
   "source": [
    "- See 03.14"
   ]
  },
  {
   "cell_type": "markdown",
   "metadata": {},
   "source": [
    "# Source performance using a standard stacked bar chart"
   ]
  },
  {
   "cell_type": "markdown",
   "metadata": {},
   "source": [
    "The last part of the dashboard, from the requirements given by the marketing director:\n",
    "\n",
    "A chart showing the total number of impressions, clicks, and goal completions by source\n",
    "\n",
    "This seems like a simple column or bar chart. This is where having both options of column and bar come in handy. Here, a bar chart fits best, as a column chart would make the bars too compact, making the smaller values in the chart unreadable.\n",
    "\n",
    "A bar chart has already been added for you beneath the previous charts. However, it needs some modifications to fulfill the marketing director's request."
   ]
  },
  {
   "cell_type": "markdown",
   "metadata": {},
   "source": [
    "- See 03.15"
   ]
  }
 ],
 "metadata": {
  "kernelspec": {
   "display_name": "Python 3.8.11 ('env_py')",
   "language": "python",
   "name": "python3"
  },
  "language_info": {
   "name": "python",
   "version": "3.8.11"
  },
  "orig_nbformat": 4,
  "vscode": {
   "interpreter": {
    "hash": "1e949e87132dd83f1a7623eb88007e3532b03b66b77111be347aa4a383049722"
   }
  }
 },
 "nbformat": 4,
 "nbformat_minor": 2
}

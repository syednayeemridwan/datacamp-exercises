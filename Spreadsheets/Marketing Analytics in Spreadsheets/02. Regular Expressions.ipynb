{
 "cells": [
  {
   "cell_type": "markdown",
   "metadata": {},
   "source": [
    "# Using regular expressions"
   ]
  },
  {
   "cell_type": "markdown",
   "metadata": {},
   "source": [
    "DataCamp's marketing team is looking for some updates on the new landing page, which should be driving users to register for an account. The page url for this landing page is datacamp.com/register-now. You are tasked with pulling this page performance out of Google Analytics.\n",
    "\n",
    "In your attempt to create a regular expression, you realize that there are pages subset in the /register-now folder, such as datacamp.com/register-now/pricing, which should not be included in this analysis. Which of the following will include only the /register-now page using regular expressions?"
   ]
  },
  {
   "cell_type": "markdown",
   "metadata": {},
   "source": [
    "- Add `$` to the end of the url: `/datacamp\\.com/register\\-now$`"
   ]
  },
  {
   "cell_type": "markdown",
   "metadata": {},
   "source": [
    "# Writing regular expressions"
   ]
  },
  {
   "cell_type": "markdown",
   "metadata": {},
   "source": [
    "Your marketing director needs to see how some campaigns and ad groups are performing. The performance of the campaigns and ad groups will determine the strategy for the upcoming quarter, so it is very important that the filtering is correct. Regular expressions are a great way to filter the campaigns and ad groups. Here are some examples to help you out:\n",
    "\n",
    "- You can use square brackets [] to match one of a set of characters. For example, if you wanted to match words beginning with a lower-case a or a lower-case b, you could use the pattern `^[a|b].*`. The `^` character marks the beginning of a word, and the `.*` matches any characters that follow an a or a b.\n",
    "- You can define the end of a string by using the anchor $. For example, .*ly$ would match Finally and Gladly.\n",
    "- If you want to check for one of two regular expression components, you can use the pipe operator |. For example, Steve|Sarah would match Steve or Sarah.\n",
    "\n",
    "The requests are simple. The first performance group the marketing director would like to see should contain the performance metrics for all Python and Python related campaigns, such as pandas. The second performance group is to understand how the branded campaigns are performing. The last performance group is a special interest case, where the marketing director would like to see how the Mugs and Sweaters ad groups are performing."
   ]
  },
  {
   "cell_type": "markdown",
   "metadata": {},
   "source": [
    "- See 02.03"
   ]
  },
  {
   "cell_type": "markdown",
   "metadata": {},
   "source": [
    "# Filter table using REGEXMATCH"
   ]
  },
  {
   "cell_type": "markdown",
   "metadata": {},
   "source": [
    "Your marketing director wants a list of only the competitor campaigns on their desk in an hour. Though this is last notice, you know that you can combine your knowlege of regular expressions and the FILTER() function to get the refined list to your marketing director in the next hour.\n",
    "\n",
    "In this exercise, you will be combining the functions FILTER() and REGEXMATCH() to generate a list of only the competitors campaigns. This exercise will help develop your understanding of how useful regular expressions are, as they can take care of minor mistakes in the spelling or structure of the campaign names - if the regex is set up properly, of course."
   ]
  },
  {
   "cell_type": "markdown",
   "metadata": {},
   "source": [
    "- See 02.05"
   ]
  },
  {
   "cell_type": "markdown",
   "metadata": {},
   "source": [
    "# Aggregate campaign cost using REGEXMATCH"
   ]
  },
  {
   "cell_type": "markdown",
   "metadata": {},
   "source": [
    "The digital marketing director was so impressed with the speed at which you got the filtered campaigns to them that they decided to give you another task. This time, they are asking on behalf of the client for a quick rundown of the total spend for both the DataCamp Brand and Python Brand campaign.\n",
    "\n",
    "Once again, FILTER() combined with REGEXMATCH() is the answer, but not the full answer. In this exercise, you will need to also apply a SUM() function in order to aggregate the total spend (Cost) of the two campaigns of interest."
   ]
  },
  {
   "cell_type": "markdown",
   "metadata": {},
   "source": [
    "- See 02.06"
   ]
  },
  {
   "cell_type": "markdown",
   "metadata": {},
   "source": [
    "# Aggregate ad group cost-per-click using REGEXMATCH"
   ]
  },
  {
   "cell_type": "markdown",
   "metadata": {},
   "source": [
    "As a digital marketing professional, you are tasked with determining the effectiveness of the three ad groups - Mugs, Sweaters, and Tee Shirts. You know from experience that average cost-per-click (CPC) is a very good indicator of ad group performance.\n",
    "\n",
    "Your team decides that they want to keep the new Mugs ad group no matter what, so you would like to see what the average CPC would be, depending on the ad groups chosen."
   ]
  },
  {
   "cell_type": "markdown",
   "metadata": {},
   "source": [
    "- See 02.07"
   ]
  },
  {
   "cell_type": "markdown",
   "metadata": {},
   "source": [
    "# Rename brand campaigns using REGEXREPLACE()"
   ]
  },
  {
   "cell_type": "markdown",
   "metadata": {},
   "source": [
    "Campaign names are never set in stone. In this case, your marketing director has informed you of a naming convention change to help comply with the naming conventions of the social media marketing team. In order to comply with the naming conventions, all 'Brand' words need to be changed to 'Branded'.\n",
    "\n",
    "In this exercise, you will use an IF() statement with REGEXMATCH() to find the branded campaigns, then replace the word Brand with Branded using REGEXREPLACE().\n",
    "\n",
    "- Recall that with REGEXMATCH(), you first supply the test cell, and then you supply the regex pattern.\n",
    "- With REGEXREPLACE() you supply the text (in this case the cell), your regex pattern, and the new string you want to swap in.\n",
    "\n",
    "A pattern to match branded campaigns is already written for you in cell I2."
   ]
  },
  {
   "cell_type": "markdown",
   "metadata": {},
   "source": [
    "- See 02.09"
   ]
  },
  {
   "cell_type": "markdown",
   "metadata": {},
   "source": [
    "# Rename all ad groups using REGEXREPLACE()"
   ]
  },
  {
   "cell_type": "markdown",
   "metadata": {},
   "source": [
    "Once again, the marketing director has put you in charge of complying with the social media marketing team's naming convention. This time, you are tasked with changing the ad group names to be more descriptive, so that the ad group names are a bit more informative.\n",
    "\n",
    "To achieve this, you will need to add the word 'Buyers' to the end of the ad group name, while removing the s from the end of the word (e.g. Mugs will become Mug Buyers). Recall that using a $ can match the end of a string. - For example, ing$ will match the ing in flying.\n",
    "\n",
    "Much as in the previous exercise, your formula will need to make use of IF(), REGEXMATCH(), and REGEXREPLACE()."
   ]
  },
  {
   "cell_type": "markdown",
   "metadata": {},
   "source": [
    "- See 02.10"
   ]
  },
  {
   "cell_type": "markdown",
   "metadata": {},
   "source": [
    "# Extract brand campaign names using REGEXEXTRACT()"
   ]
  },
  {
   "cell_type": "markdown",
   "metadata": {},
   "source": [
    "After some discussions with the social media marketing team, the digital marketing director decided to simply remove the terms Brand or Branded from each of the campaign names.\n",
    "\n",
    "This is where you come in. You know how to replace using regex but, this time, you will be using REGEXEXTRACT() to pull all the characters not equal to Brand. For example, after the extraction, DataCamp Brand will become DataCamp.\n",
    "\n",
    "To perform this extraction, you will need to write a new regular expression. As an example, the regex (.*).Expressions extracts any number of characters preceding the text and period, (i.e. Regular would be extracted from Regular Expressions)."
   ]
  },
  {
   "cell_type": "markdown",
   "metadata": {},
   "source": [
    "- See 02.11"
   ]
  },
  {
   "cell_type": "markdown",
   "metadata": {},
   "source": [
    "# Create campaign IDs using REGEXEXTRACT()"
   ]
  },
  {
   "cell_type": "markdown",
   "metadata": {},
   "source": [
    "After much thought, and testing different naming conventions, the digital marketing director and the social media team have finally settled on a naming convention. They have decided to simply create campaign IDs.\n",
    "\n",
    "These IDs will contain information about the source and campaign. For instance, the test IDs you create will be in the following format: the first letter from the Source, followed by an underscore, then the full Campaign Name. For example, the campaign ID for the source Yahoo with a campaign Spreadsheets would be: Y_Spreadsheets.\n",
    "\n",
    "Recall that a begin anchor is ^. For example, ^f will match the f in flying. However, in this exercise you will need to be able to match the first letter from any word."
   ]
  },
  {
   "cell_type": "markdown",
   "metadata": {},
   "source": [
    "- See 02.12"
   ]
  },
  {
   "cell_type": "markdown",
   "metadata": {},
   "source": [
    "# Modify the campaign ID to include source"
   ]
  },
  {
   "cell_type": "markdown",
   "metadata": {},
   "source": [
    "In this exercise, you will build the second, and final, part of the ID.\n",
    "\n",
    "This section of the ID will indicate the source by prepending the first three letters of the source to the campaign-ad group IDs created in the previous lesson."
   ]
  },
  {
   "cell_type": "markdown",
   "metadata": {},
   "source": [
    "- See 02.14"
   ]
  },
  {
   "cell_type": "markdown",
   "metadata": {},
   "source": [
    "# How much did each source spend?"
   ]
  },
  {
   "cell_type": "markdown",
   "metadata": {},
   "source": [
    "Now that the IDs are created, you need to pull some data to send to the digital marketing director, except this time you need to rethink the regular expressions you will use to aggregate the metrics.\n",
    "\n",
    "In this exercise, you will be finding the total cost of all the campaigns with Google as its source. Remember that the FILTER() function, along with regular expressions, will help aggregate the data."
   ]
  },
  {
   "cell_type": "markdown",
   "metadata": {},
   "source": [
    "- See 02.15"
   ]
  },
  {
   "cell_type": "markdown",
   "metadata": {},
   "source": [
    "# Sum up campaigns with RegEx"
   ]
  },
  {
   "cell_type": "markdown",
   "metadata": {},
   "source": [
    "One last task has been assigned to you by the digital marketing director. The digital marketing director would like a report of all the campaigns, regardless of source or ad group.\n",
    "\n",
    "Aggregating campaign totals using regular expressions is so useful because of the variety of sources that campaigns can come from. For example, you may be looking at two different digital marketing firms: one for search engines (Google & Bing), and the other for social media (Facebook). All of this data would be entered by the two different parties into a single table.\n",
    "\n",
    "In this exercise, we will explore how to get the total cost and cost-per-click (CPC) for each campaign, regardless of source."
   ]
  },
  {
   "cell_type": "markdown",
   "metadata": {},
   "source": [
    "- See 02.16"
   ]
  }
 ],
 "metadata": {
  "kernelspec": {
   "display_name": "Python 3.8.11 ('env_py')",
   "language": "python",
   "name": "python3"
  },
  "language_info": {
   "name": "python",
   "version": "3.8.11"
  },
  "orig_nbformat": 4,
  "vscode": {
   "interpreter": {
    "hash": "1e949e87132dd83f1a7623eb88007e3532b03b66b77111be347aa4a383049722"
   }
  }
 },
 "nbformat": 4,
 "nbformat_minor": 2
}

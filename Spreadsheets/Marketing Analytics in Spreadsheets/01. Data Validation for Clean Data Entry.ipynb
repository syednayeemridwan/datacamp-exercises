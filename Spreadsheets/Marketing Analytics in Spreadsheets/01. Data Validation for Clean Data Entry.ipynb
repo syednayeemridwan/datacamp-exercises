{
 "cells": [
  {
   "cell_type": "markdown",
   "metadata": {},
   "source": [
    "# Test your knowledge"
   ]
  },
  {
   "cell_type": "markdown",
   "metadata": {},
   "source": [
    "Your marketing director wants you to help them put together a spreadsheet containing all of the campaign data. The campaigns are run by a few different marketing agencies, which means that multiple parties will be entering in their campaign data into a single sheet. The only issue is that the marketing director knows from experience that the data entry may not be clean, leading to unnecessary work.\n",
    "\n",
    "Out of the following choices, please select the option that is not an effective strategy for clean data mitigation."
   ]
  },
  {
   "cell_type": "markdown",
   "metadata": {},
   "source": [
    "- Manually check every cell to make sure the values are correct."
   ]
  },
  {
   "cell_type": "markdown",
   "metadata": {},
   "source": [
    "# Fix the errors"
   ]
  },
  {
   "cell_type": "markdown",
   "metadata": {},
   "source": [
    " you learned the basics of Data Validation in Google Sheets. In this exercise, we look to apply this basic understanding to a digital marketing data set.\n",
    "\n",
    "As mentioned, your job as a digital marketer is not to manually check every cell to make sure they meet the criteria, nor is it your job to make sure that there are no mistakes made - as this is imposible. Your job is to mitigate bad data entry by setting up Data Validation to flag cells that do not meet the criteria. It is important to be able to read and understand the flagged messages, so that the fix can be easily made on the spot by any person, not just you.\n",
    "\n",
    "Here, you will practice using the error messages to make corrections to the cells."
   ]
  },
  {
   "cell_type": "markdown",
   "metadata": {},
   "source": [
    "- See 01.03"
   ]
  },
  {
   "cell_type": "markdown",
   "metadata": {},
   "source": [
    "# Contribute to the data set"
   ]
  },
  {
   "cell_type": "markdown",
   "metadata": {},
   "source": [
    "A few pain points in entering data comes from formatting dates and categorical columns.\n",
    "\n",
    "When formatting dates, users tend to default to their preferred date format. This is an issue because there are many ways for the date to be written.\n",
    "\n",
    "Categorical columns, such as the source of Bing or Google marketing campaigns, can be problematic because of naming convention differences between parties. In the world of marketing, different agencies usually have slightly different campaign names, but this issue can be mitigated by only offering a finite number of options to choose from."
   ]
  },
  {
   "cell_type": "markdown",
   "metadata": {},
   "source": [
    "- See 01.04"
   ]
  },
  {
   "cell_type": "markdown",
   "metadata": {},
   "source": [
    "# Mitigating campaign name errors"
   ]
  },
  {
   "cell_type": "markdown",
   "metadata": {},
   "source": [
    "The Marketing Director has requested that you create a spreadsheet with all of the campaign data, which means that multiple people from different specialties will be contributing their data to the spreadsheet. With your knowledge of data validation, you know that multiple parties entering data should not result in unclean or un-usable data if the correct data validation is used.\n",
    "\n",
    "What would be an effective way of mitigating spelling errors or variations in the Campaign Name column of the spreadsheet?"
   ]
  },
  {
   "cell_type": "markdown",
   "metadata": {},
   "source": [
    "- Using List of items or List from a range to create a finite number of choices."
   ]
  },
  {
   "cell_type": "markdown",
   "metadata": {},
   "source": [
    "# List from a range"
   ]
  },
  {
   "cell_type": "markdown",
   "metadata": {},
   "source": [
    "List from a range is a very useful tool to ensure categorical accuracy in a data set. The finite number of options will ensure that all the items are free of spelling and naming variations, as long as the user entering the data uses the dropdown.\n",
    "\n",
    "The purpose of this exercise is to create a standard variant list and then use the existing List from a range data validation in the Campaign Name column to correct the flagged cells. Keep in mind that List from a range should be a proactive step when creating a new data entry table.\n",
    "\n",
    "Note: the items in G2:G6 rely on the best fit, so use your judgement to pick between the variations.\n",
    "\n",
    "Learn more about Google Ads Campaigns."
   ]
  },
  {
   "cell_type": "markdown",
   "metadata": {},
   "source": [
    "- See 01.07"
   ]
  },
  {
   "cell_type": "markdown",
   "metadata": {},
   "source": [
    "# List of items"
   ]
  },
  {
   "cell_type": "markdown",
   "metadata": {},
   "source": [
    "Each paid search campaign has a number of Ad Groups, where Ad Groups are normally split into product offerings or themes. For the purposes of this exercise, the ad groups are built around the products offered by the fictitious ecommerce site - mugs, tee shirts, and sweaters. Since these are less likely to change and there are only 3 of them, a List of items should be used, as a List from range tends to be better suited for larger and often changing lists.\n",
    "\n",
    "In this exercise, you are tasked with modifying the List of items data validation settings. The ad group Mugs has already been done for you."
   ]
  },
  {
   "cell_type": "markdown",
   "metadata": {},
   "source": [
    "- See 01.08"
   ]
  },
  {
   "cell_type": "markdown",
   "metadata": {},
   "source": [
    "# Text validation"
   ]
  },
  {
   "cell_type": "markdown",
   "metadata": {},
   "source": [
    "you fixed and fine-tuned the digital marketing data table. In this exercise you are going to work to ensure that some key components of paid search marketing are clean.\n",
    "\n",
    "Each of the ad groups in a campaign has a theme, which we have defined in a previous lesson as the product category: Mugs, Tee Shirts, and Sweaters. It is important to know what page on your website the user is landing on, so landing pages are often included in the table. Learn more about landing pages.\n",
    "\n",
    "Another key component is knowing who is managing the campaigns, which is usually defined by the email associated with the campaigns. From this data, there are three emails, all controlling a set of campaigns."
   ]
  },
  {
   "cell_type": "markdown",
   "metadata": {},
   "source": [
    "- See 01.10"
   ]
  },
  {
   "cell_type": "markdown",
   "metadata": {},
   "source": [
    "# Check the checkboxes"
   ]
  },
  {
   "cell_type": "markdown",
   "metadata": {},
   "source": [
    "In this exercise, you are challenged with trying to find which Campaign-Ad Group sets are inactive. The method of doing this is by looking at the Number of Ads built. The logic is that if there are no ads built, then no ads can show, thus resulting in the status of Inactive.\n",
    "\n",
    "This is a very common task for a digital marketing professional. This process is the equivalent of taking inventory. It will also reveal which Campaign-Ad Group pairs still need some work."
   ]
  },
  {
   "cell_type": "markdown",
   "metadata": {},
   "source": [
    "- See 01.11"
   ]
  },
  {
   "cell_type": "markdown",
   "metadata": {},
   "source": [
    "# Putting it all together"
   ]
  },
  {
   "cell_type": "markdown",
   "metadata": {},
   "source": [
    "Let's clean up a digital marketing data set using Data Validation!\n",
    "\n",
    "In this exercise, we will take this table, which reports on two different digital marketing sources, and apply Data Validation to fix any issues. This data set was filled in by multiple digital marketing professionals.\n",
    "\n",
    "As we learned earlier, this means that there may be a few issues, as data entry is almost never perfect. The challenge here will be to apply different types of Data Validation that we have learned throughout this chapter to pin-point any issues with the data."
   ]
  },
  {
   "cell_type": "markdown",
   "metadata": {},
   "source": [
    "- See 01.12"
   ]
  }
 ],
 "metadata": {
  "kernelspec": {
   "display_name": "Python 3.8.11 ('env_py')",
   "language": "python",
   "name": "python3"
  },
  "language_info": {
   "name": "python",
   "version": "3.8.11"
  },
  "orig_nbformat": 4,
  "vscode": {
   "interpreter": {
    "hash": "1e949e87132dd83f1a7623eb88007e3532b03b66b77111be347aa4a383049722"
   }
  }
 },
 "nbformat": 4,
 "nbformat_minor": 2
}

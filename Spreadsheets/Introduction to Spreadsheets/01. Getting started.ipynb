{
 "cells": [
  {
   "cell_type": "markdown",
   "metadata": {},
   "source": [
    "# How it works"
   ]
  },
  {
   "cell_type": "markdown",
   "metadata": {},
   "source": [
    "Welcome to the course on Google Sheets! In this course, you'll work with data coming in spreadsheets. You can edit the spreadsheet on the right in order to complete the exercises. When you hit 'Check Answer', your work is evaluated and you get feedback based on your solution.\n",
    "\n",
    "Always make sure you finished entering your solution into the spreadsheet before you click 'Submit Answer'. You can ensure this by hitting the Enter key.\n",
    "\n",
    "Have a look at the data you find filled in in the spreadsheet. You'll find a list of items you need to bake some cookies. It includes information like weight, calories, expiration date and price.\n",
    "\n",
    "Feel free to have a look around. When you're ready to start the exercises, simply hit 'Submit Answer'."
   ]
  },
  {
   "cell_type": "markdown",
   "metadata": {},
   "source": [
    "- See 01.01"
   ]
  },
  {
   "cell_type": "markdown",
   "metadata": {},
   "source": [
    "# Rows and Columns"
   ]
  },
  {
   "cell_type": "markdown",
   "metadata": {},
   "source": [
    "all data have locations. Although this seems obvious, it is a very different way of thinking about data compared to programming in R, Python, or SQL. One consequence is that you spend a lot of time worrying about columns and rows.\n",
    "\n",
    "The column is the vertical position of a value, while the row reflects its horizontal position. In spreadsheets, columns are defined with letters, starting with A. Rows are defined with numbers, starting at 1. You can find the column letters at the top and the row numbers on the left.\n",
    "\n",
    "Let's have a look at an example in our data. The energy provided by a 190 grams of flour, 692 KCal, is given in column C and row 5."
   ]
  },
  {
   "cell_type": "markdown",
   "metadata": {},
   "source": [
    "- See 01.02"
   ]
  },
  {
   "cell_type": "markdown",
   "metadata": {},
   "source": [
    "# Cells"
   ]
  },
  {
   "cell_type": "markdown",
   "metadata": {},
   "source": [
    "If you're having a hard time telling apart rows from columns, a little trick that can help is to think of the spreadsheet as a theater, with the stage on the left. Your position relative to the stage is defined by a letter: A, B, C, etc. Your position within the row is defined with a number: 1, 2, 3, etc.\n",
    "\n",
    "Each indivisible rectangle you see in the spreadsheet is called a cell. Each cell has a value (like Flour) and a position. The position is defined by the combination of its column and its row. We call this combination a cell address.\n",
    "\n",
    "The address of a cell is defined by the column letter, followed by the row number. For example, the cell highlighted in the following image is B3: column B and row 3.\n",
    "\n",
    "<center><img src=\"images/01.png\"  style=\"width: 400px, height: 300px;\"/></center>\n"
   ]
  },
  {
   "cell_type": "markdown",
   "metadata": {},
   "source": [
    "- See 01.03"
   ]
  },
  {
   "cell_type": "markdown",
   "metadata": {},
   "source": [
    "# Ranges"
   ]
  },
  {
   "cell_type": "markdown",
   "metadata": {},
   "source": [
    "A range is a rectangular group of cells. We define ranges from the top left to the bottom right. A range is defined by two cell addresses, divided by a colon (:). The value left of : will be the address of the top left cell. The value on the right of : will be the bottom right.\n",
    "\n",
    "For example, A1:B2 will be the range that goes from A1 in the top left, to B2 in the bottom right. Like this:\n",
    "\n",
    "<center><img src=\"images/01.04.png\"  style=\"width: 400px, height: 300px;\"/></center>\n",
    "\n",
    "Ranges don't have to stretch over multiple columns or rows. They can be a single column or row."
   ]
  },
  {
   "cell_type": "markdown",
   "metadata": {},
   "source": [
    "- See 01.04"
   ]
  },
  {
   "cell_type": "markdown",
   "metadata": {},
   "source": [
    "# Formulas"
   ]
  },
  {
   "cell_type": "markdown",
   "metadata": {},
   "source": [
    "With formulas, you can make Google Sheets do calculations for you. That's right, formulas can make your life a whole lot easier.\n",
    "\n",
    "And they're easy: just think of it as using a calculator. Let's say you want to calculate 5 minus 3 on a calculator. You'd probably enter something like: 5, then -, 3 and finally you hit =. Well, in spreadsheets you just put the = in front: = 5 - 3, fill it in in a cell and let Google Sheets do the rest. You don't have to mind whitespace, as they're ignored.\n",
    "\n",
    "Remember, it's really important here to put the = in front."
   ]
  },
  {
   "cell_type": "markdown",
   "metadata": {},
   "source": [
    "- See 01.05"
   ]
  },
  {
   "cell_type": "markdown",
   "metadata": {},
   "source": [
    "# Exponents and parentheses"
   ]
  },
  {
   "cell_type": "markdown",
   "metadata": {},
   "source": [
    "There's one more mathematical operator: the exponent. The exponent of a number says how many times to multiply the number by itself. For example: 5 exponent 4 means multiplying 5 by 5 by 5 by 5, or = 5 * 5 * 5 * 5. With an exponent you'd write this as = 5 ^ 4, reading \"5 to the power 4\".\n",
    "\n",
    "Formulas can also have parentheses, or round brackets: ( and ). Parentheses control the order operations are calculated in. Mathematical operations are executed in the following order:\n",
    "\n",
    "- parentheses\n",
    "- exponents\n",
    "- multiplication and division\n",
    "- addition and subtraction.\n",
    "\n",
    "For example: in = 1 + (2 * 3) ^ 4, Google Sheets first calculates 2 * 3 between the parentheses, then takes the result (6) to the power 4 and finally adds 1. The result is 1297."
   ]
  },
  {
   "cell_type": "markdown",
   "metadata": {},
   "source": [
    "- See 01.06"
   ]
  },
  {
   "cell_type": "markdown",
   "metadata": {},
   "source": [
    "# Percentages"
   ]
  },
  {
   "cell_type": "markdown",
   "metadata": {},
   "source": [
    "Google Sheets makes it really easy for you to work with percentages. To write a percentage, simply write the number followed by a percent sign, %. To figure out the percentage of a number, multiply that number by that percentage.\n",
    "\n",
    "An example: you previously entered all costs without taxes. Now you want to add a sales tax (also called value added tax or VAT) of 21%. In that case, the tax on butter would be = 2 * 21%."
   ]
  },
  {
   "cell_type": "markdown",
   "metadata": {},
   "source": [
    "- See 01.07"
   ]
  },
  {
   "cell_type": "markdown",
   "metadata": {},
   "source": [
    "# Comparison operators"
   ]
  },
  {
   "cell_type": "markdown",
   "metadata": {},
   "source": [
    "you'll work with comparison operators. Comparison operators are used to check whether numbers are bigger, smaller, or the same size. For example, the less than operator checks that one number is less than another number. If you type the formula = 3 < 4, it will return TRUE, since 3 is less than 4. By contrast, the formula = 5 < 4 will return FALSE, since 5 isn't less than 4.\n",
    "\n",
    "Here's a full list of all comparison operators:\n",
    "\n",
    "- <, >: smaller/greater than\n",
    "- <=, >=: smaller/greater than or equal to\n",
    "- =, <>: equal/not equal to\n",
    "\n",
    "Watch out, using the = operator can become somewhat confusing. For example in = 3 = 4, = has two meanings: it starts a formula first, and compares 3 to 4 the second time."
   ]
  },
  {
   "cell_type": "markdown",
   "metadata": {},
   "source": [
    "- See 01.08"
   ]
  },
  {
   "cell_type": "markdown",
   "metadata": {},
   "source": [
    "# Data types: text and numbers"
   ]
  },
  {
   "cell_type": "markdown",
   "metadata": {},
   "source": [
    "we're going to discuss data types. Each cell value in Google Sheets has a type. In the data we've seen: text, number, date, currency and logical. Let's look at two:\n",
    "\n",
    "text: plain text, will be used if there's no other type recognized. You can force this with ', e.g.: 'text, or '2. Aligned to the left by default.\n",
    "numbers: if you enter numbers (without using '), they will automatically have this type. Aligned to the right by default.\n",
    "Alignment reflects the placement of text in a cell. This picture explains it all:\n",
    "\n",
    "<center><img src=\"images/01.09.png\"  style=\"width: 400px, height: 300px;\"/></center>\n"
   ]
  },
  {
   "cell_type": "markdown",
   "metadata": {},
   "source": [
    "- See 01.09"
   ]
  },
  {
   "cell_type": "markdown",
   "metadata": {},
   "source": [
    "# Data types: currency and date"
   ]
  },
  {
   "cell_type": "markdown",
   "metadata": {},
   "source": [
    "Moving on to some other data types, currency and date:\n",
    "\n",
    "- currency: all values that reflect a price or amount of money. Starts with the currency sign (e.g. $, £, €)\n",
    "- date: a value that stands for a period in time (e.g. 2018-01-18, 2018-03-20 18:30). In this course we're using the Year-Month-Day format.\n",
    "- Google Sheets tries to interpret the correct data type by default. For example, if you start a cell with $, it will be interpreted as a currency. Sometimes, it might be necessary to manually change a data type. You do this by selecting the cells you want to change and click on Format > Number in the menu bar:\n",
    "\n",
    "<center><img src=\"images/01.10.png\"  style=\"width: 400px, height: 300px;\"/></center>\n"
   ]
  },
  {
   "cell_type": "markdown",
   "metadata": {},
   "source": [
    "- See 01.10"
   ]
  },
  {
   "cell_type": "markdown",
   "metadata": {},
   "source": [
    "# Data types: logic"
   ]
  },
  {
   "cell_type": "markdown",
   "metadata": {},
   "source": [
    " A logical cell can have two values: TRUE or FALSE. Logical cells will be aligned in the center. They can be used to express whether certain conditions are true or false.\n",
    "\n",
    "When you enter true or false in a cell, it's also recognized as a logical. Logicals are case insensitive, but Google Sheets will replace the value you entered by the capitalized logical: TRUE or FALSE."
   ]
  },
  {
   "cell_type": "markdown",
   "metadata": {},
   "source": [
    "- See 01.11"
   ]
  }
 ],
 "metadata": {
  "kernelspec": {
   "display_name": "Python 3.8.11 ('env_py')",
   "language": "python",
   "name": "python3"
  },
  "language_info": {
   "name": "python",
   "version": "3.8.11"
  },
  "orig_nbformat": 4,
  "vscode": {
   "interpreter": {
    "hash": "1e949e87132dd83f1a7623eb88007e3532b03b66b77111be347aa4a383049722"
   }
  }
 },
 "nbformat": 4,
 "nbformat_minor": 2
}

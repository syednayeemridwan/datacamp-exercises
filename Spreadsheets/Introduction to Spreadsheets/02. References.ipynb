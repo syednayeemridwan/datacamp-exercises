{
 "cells": [
  {
   "cell_type": "markdown",
   "metadata": {},
   "source": [
    "# Cell references"
   ]
  },
  {
   "cell_type": "markdown",
   "metadata": {},
   "source": [
    "A reference lets you refer to another cell value in your workbook. To make a cell reference, use the address to that cell in a formula.\n",
    "\n",
    "For example, you could make a reference to cell A1 in another cell: = A1. The cell will then always be the same as what's in A1. As cell references are case insensitive, = a1 would be fine as well.\n",
    "\n",
    "Have a look at the data to the right. It shows you demo- and geographic information about the 10 most populous countries in the world. Now, get to work!"
   ]
  },
  {
   "cell_type": "markdown",
   "metadata": {},
   "source": [
    "- See 02.01"
   ]
  },
  {
   "cell_type": "markdown",
   "metadata": {},
   "source": [
    "# Circular references"
   ]
  },
  {
   "cell_type": "markdown",
   "metadata": {},
   "source": [
    "But what happens when the referencing cell and the referenced cell are the same? In other words, what happens if a cell references itself?\n",
    "\n",
    "In fact, this is called a circular reference: a cell that directly, or via a chain of other references, refers to itself. The following diagram illustrates 3 cases of circular references\n",
    "\n",
    "<center><img src=\"images/02.02.png\"  style=\"width: 400px, height: 300px;\"/></center>\n",
    "\n",
    "Google Sheets won't know how to deal with this by default, as it doesn't find a value to fill in. A #REF! error, or reference error, will appear."
   ]
  },
  {
   "cell_type": "markdown",
   "metadata": {},
   "source": [
    "- See 02.02"
   ]
  },
  {
   "cell_type": "markdown",
   "metadata": {},
   "source": [
    "# Copying references"
   ]
  },
  {
   "cell_type": "markdown",
   "metadata": {},
   "source": [
    "Referencing becomes especially useful if you start copying the references around. When you copy formulas containing references to neighbouring cells, the references will shift along.\n",
    "\n",
    "An example: let's say you have = A1 in the cell with address B1. If you copy this cell to B2, the reference will change to = A2.\n",
    "\n",
    "You're going to be copying a lot of cells in the following exercises. So here's a little trick: to copy a cell to neighbouring cells, select the cell and move your mouse to the lower right corner. The cursor should change to a \"+\"-sign. Drag and drop to where you want to copy, as such:\n",
    "\n",
    "<center><img src=\"images/02.03.gif\"  style=\"width: 400px, height: 300px;\"/></center>\n"
   ]
  },
  {
   "cell_type": "markdown",
   "metadata": {},
   "source": [
    "- See 02.03"
   ]
  },
  {
   "cell_type": "markdown",
   "metadata": {},
   "source": [
    "# Copying horizontally"
   ]
  },
  {
   "cell_type": "markdown",
   "metadata": {},
   "source": [
    "Just like you can copy cells vertically, you can just as well copy cells horizontally. Once again, when copying references, they will shift along. This time they will change columns.\n",
    "\n",
    "For example, when a cell on A2 holds a reference: =A1, and you copy this cell to B2, the reference will be copied as =B1."
   ]
  },
  {
   "cell_type": "markdown",
   "metadata": {},
   "source": [
    "- See 02.04"
   ]
  },
  {
   "cell_type": "markdown",
   "metadata": {},
   "source": [
    "# Copying columns"
   ]
  },
  {
   "cell_type": "markdown",
   "metadata": {},
   "source": [
    "ou'll copy columns of references all at once!\n",
    "\n",
    "To do this, you first need to select a column of cells instead of just one. Then move your mouse to the lower right corner until you see the \"+\"-sign, click and drag towards where you want to copy:\n",
    "\n",
    "<center><img src=\"images/02.05.gif\"  style=\"width: 400px, height: 300px;\"/></center>\n"
   ]
  },
  {
   "cell_type": "markdown",
   "metadata": {},
   "source": [
    "- See 02.05"
   ]
  },
  {
   "cell_type": "markdown",
   "metadata": {},
   "source": [
    "# Mathematical operators and references"
   ]
  },
  {
   "cell_type": "markdown",
   "metadata": {},
   "source": [
    "You might wonder how Google Sheets calculates something like = A1 + 1. It might feel a bit weird to do mathematical operations on something that's not a number, like a reference. In fact, in this example Google Sheets will just take the value in A1, and add 1 to it. If A1 has the value of 3, for example, = A1 + 1 will be 4.\n"
   ]
  },
  {
   "cell_type": "markdown",
   "metadata": {},
   "source": [
    "- See 02.06"
   ]
  },
  {
   "cell_type": "markdown",
   "metadata": {},
   "source": [
    "# Percentages and references"
   ]
  },
  {
   "cell_type": "markdown",
   "metadata": {},
   "source": [
    "you can take percentages of values you refer to. If A1 has the value 200 and you fill in = A1 * 1% in another cell, it will result in 2.\n",
    "\n",
    "You are not limited to use 1 reference, you can do calculations with multiple references as well. For example, if A1 holds 2 and B1 holds 3, = A1 * B1 will be equal to 6"
   ]
  },
  {
   "cell_type": "markdown",
   "metadata": {},
   "source": [
    "- See 02.07"
   ]
  },
  {
   "cell_type": "markdown",
   "metadata": {},
   "source": [
    "# Comparison operators and references"
   ]
  },
  {
   "cell_type": "markdown",
   "metadata": {},
   "source": [
    "The comparison operators can also be used with references.\n",
    "\n",
    "For example, if A1 holds the value 3 and another cell has =A1 > 2, it will evaluate to the logical value TRUE."
   ]
  },
  {
   "cell_type": "markdown",
   "metadata": {},
   "source": [
    "- See 02.08"
   ]
  },
  {
   "cell_type": "markdown",
   "metadata": {},
   "source": [
    "# Absolute references"
   ]
  },
  {
   "cell_type": "markdown",
   "metadata": {},
   "source": [
    "The references you used up until now are called relative references. They are called this way because they change when you copy them to other locations. There's another type of reference called absolute reference.\n",
    "\n",
    "There are times when you don't want references to change when you copy them. Think of it as values that have a fixed location, like addresses of important buildings in a street grid, for example the Empire State Building in New York City.\n",
    "\n",
    "An absolute reference won't change its value when you copy it to another cell. You can create absolute references by prepending columns and rows by the dollar sign $. For example, = $A$1 is an absolute reference to A1."
   ]
  },
  {
   "cell_type": "markdown",
   "metadata": {},
   "source": [
    "- See 02.09"
   ]
  },
  {
   "cell_type": "markdown",
   "metadata": {},
   "source": [
    "# Absolute references: row"
   ]
  },
  {
   "cell_type": "markdown",
   "metadata": {},
   "source": [
    "A reference can be partially absolute, where only the column or the row is absolute. Sometimes it can be useful to make a reference where the row reference is absolute and the column reference is relative.\n",
    "\n",
    "In the New York City streets analogy you saw in the previous exercise, this would be all houses on a particular street running from west to east.\n",
    "\n",
    "We keep the row constant by prepending only the row by a $, for example A$1."
   ]
  },
  {
   "cell_type": "markdown",
   "metadata": {},
   "source": [
    "- See 02.10"
   ]
  },
  {
   "cell_type": "markdown",
   "metadata": {},
   "source": [
    "# Absolute references: column"
   ]
  },
  {
   "cell_type": "markdown",
   "metadata": {},
   "source": [
    "In other cases, it can be useful to make a reference where the column reference is absolute and the row reference is relative. In the New York City streets analogy, this would be all houses on a particular avenue running from north to south.\n",
    "\n",
    "We keep the column constant by prepending only the column by a $, for example $A1."
   ]
  },
  {
   "cell_type": "markdown",
   "metadata": {},
   "source": [
    "- See 02.11"
   ]
  },
  {
   "cell_type": "markdown",
   "metadata": {},
   "source": [
    "# Combine everything"
   ]
  },
  {
   "cell_type": "markdown",
   "metadata": {},
   "source": [
    "- relative references: references to values in cells, e.g. A1. The value changes when the referred cell changes.\n",
    "- copying cells: dragging formulas to other cells will shift the relative references\n",
    "- calculations with references: references can be used in calculations as if they were the value they refer to\n",
    "- absolute references: references with columns and/or rows locked, e.g. $A$1. They don't change when copied.\n",
    "\n",
    "It's time to put all your referencing skills to work in the final exercise of this chapter."
   ]
  },
  {
   "cell_type": "markdown",
   "metadata": {},
   "source": [
    "- See 02.12"
   ]
  }
 ],
 "metadata": {
  "kernelspec": {
   "display_name": "Python 3.8.11 ('env_py')",
   "language": "python",
   "name": "python3"
  },
  "language_info": {
   "name": "python",
   "version": "3.8.11"
  },
  "orig_nbformat": 4,
  "vscode": {
   "interpreter": {
    "hash": "1e949e87132dd83f1a7623eb88007e3532b03b66b77111be347aa4a383049722"
   }
  }
 },
 "nbformat": 4,
 "nbformat_minor": 2
}

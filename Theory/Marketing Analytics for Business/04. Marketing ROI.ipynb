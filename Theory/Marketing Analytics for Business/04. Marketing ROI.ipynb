{
 "cells": [
  {
   "cell_type": "markdown",
   "metadata": {},
   "source": [
    "# Marketing funnel"
   ]
  },
  {
   "cell_type": "markdown",
   "metadata": {},
   "source": [
    "Now that you've been working with partners for some time, the COO is asking when leadership can expect to see marketing funnel reporting. Ideally, the COO and other leaders would like to monitor volume at each stage of the funnel: from upper funnel awareness to lower funnel decision.\n",
    "\n",
    "While you are familiar with the marketing funnel stages, you realize you need to translate these stages into expected customer behaviors. Once you associate customer behaviors with funnel stages, you can select appropriate metrics and KPIs to include in your funnel reporting!"
   ]
  },
  {
   "cell_type": "markdown",
   "metadata": {},
   "source": [
    "<center><img src=\"images/04.02.jpg\"  style=\"width: 400px, height: 300px;\"/></center>\n"
   ]
  },
  {
   "cell_type": "markdown",
   "metadata": {},
   "source": [
    "# KPI vs. supporting metric"
   ]
  },
  {
   "cell_type": "markdown",
   "metadata": {},
   "source": [
    "The Paid Search Manager enjoyed collaborating with you previously — they want to partner with you again to establish a solid measurement strategy. Currently, the manager feels overwhelmed by the number of possible metrics to track. You can help by categorizing the metrics into KPIs and supporting metrics."
   ]
  },
  {
   "cell_type": "markdown",
   "metadata": {},
   "source": [
    "<center><img src=\"images/04.03.jpg\"  style=\"width: 400px, height: 300px;\"/></center>\n"
   ]
  },
  {
   "cell_type": "markdown",
   "metadata": {},
   "source": [
    "# Forecast requirements"
   ]
  },
  {
   "cell_type": "markdown",
   "metadata": {},
   "source": [
    "It is annual budgeting and fiscal planning season at your company! This means that suddenly finance, operations, and marketing partners are all asking you to start thinking about forecasting some of the higher spend marketing channels.\n",
    "\n",
    "Because so many groups rely on these forecasts, you want to make sure that you understand which channels have the best chance at providing high forecast accuracy. When evaluating different channels as forecasting candidates, which of these options is not a requirement for accurate forecasting?"
   ]
  },
  {
   "cell_type": "markdown",
   "metadata": {},
   "source": [
    "- Granular media metadata (e.g., ad creative, publisher) . Because forecast accuracy will not improve if you have more granular advertising metadata — time-series granularity is much more important!"
   ]
  },
  {
   "cell_type": "markdown",
   "metadata": {},
   "source": [
    "# Forecasting process"
   ]
  },
  {
   "cell_type": "markdown",
   "metadata": {},
   "source": [
    "Based on your forecast requirement investigation, you decide to create a forecast on the Affiliate, Display, and Radio channels. Everyone is eager to incorporate your forecasts into their planning processes and wants to know when they can expect a final version to review.\n",
    "\n",
    "In order to keep everyone informed on your progress, you add the various steps in the forecasting process to your roadmap. This will also ensure that you set realistic expectations on when you can deliver a solid forecast!"
   ]
  },
  {
   "cell_type": "markdown",
   "metadata": {},
   "source": [
    "<center><img src=\"images/04.06.jpg\"  style=\"width: 400px, height: 300px;\"/></center>\n"
   ]
  },
  {
   "cell_type": "markdown",
   "metadata": {},
   "source": [
    "# LTA vs. MTA"
   ]
  },
  {
   "cell_type": "markdown",
   "metadata": {},
   "source": [
    "You knew this would happen at some point as a Marketing Analyst; the Director of Marketing wants to know what attribution model you recommend they use in the future. Currently, last touch attribution is the norm at your company because most of the spend was on paid search, historically.\n",
    "\n",
    "Now that the marketing program is more mature, with a more diverse set of channels, the director wants to evaluate multi-touch attribution versus last touch attribution. Your job as a Marketing Analyst is to explain both methodologies and their potential impact on marketing reports."
   ]
  },
  {
   "cell_type": "markdown",
   "metadata": {},
   "source": [
    "<center><img src=\"images/04.08.jpg\"  style=\"width: 400px, height: 300px;\"/></center>\n"
   ]
  },
  {
   "cell_type": "markdown",
   "metadata": {},
   "source": [
    "# Identify attribution model"
   ]
  },
  {
   "cell_type": "markdown",
   "metadata": {},
   "source": [
    "Based on your attribution model evaluation, you determine that an MTA model would make the most sense going forward. To start, you want to use a heuristic MTA model because it will be easier to implement than algorithmic.\n",
    "\n",
    "Out of the various heuristic attribution options, you select a time decay model. Which of the following MTA journeys demonstrates a time decay attribution model?"
   ]
  },
  {
   "cell_type": "markdown",
   "metadata": {},
   "source": [
    "<center><img src=\"images/04.09.jpg\"  style=\"width: 400px, height: 300px;\"/></center>\n"
   ]
  },
  {
   "cell_type": "markdown",
   "metadata": {},
   "source": [
    "- Journey Attribution 2"
   ]
  },
  {
   "cell_type": "markdown",
   "metadata": {},
   "source": [
    "# Spend and revenue considerations"
   ]
  },
  {
   "cell_type": "markdown",
   "metadata": {},
   "source": [
    "Finance partners were so impressed with your forecasting work that they want to work with you on ROI modeling for the marketing program. They are hoping you can supply spend and revenue numbers, which they will later integrate into larger financial models for the business overall.\n",
    "\n",
    "You know that pulling this data across all marketing channels will be no simple task, and you want to set expectations on the level of difficulty involved. While working with finance, you decide that it would be useful for them to understand the nuances of determining marketing spend and revenue."
   ]
  },
  {
   "cell_type": "markdown",
   "metadata": {},
   "source": [
    "<center><img src=\"images/04.11.jpg\"  style=\"width: 400px, height: 300px;\"/></center>\n"
   ]
  },
  {
   "cell_type": "markdown",
   "metadata": {},
   "source": [
    "# CAC and LTV calculations"
   ]
  },
  {
   "cell_type": "markdown",
   "metadata": {},
   "source": [
    "You made it through your first marketing forecasts. What an accomplishment! Conveniently, it is time for setting budgets for the next fiscal year, and as the expert on marketing performance, all the executives are counting on you to make ROI recommendations.\n",
    "\n",
    "Because you're a seasoned Marketing Analyst at this point, you know you have to go through a few steps to get to an ROI calculation that you feel confident in. Luckily you have historical campaigns and budgets to assist your work! Based on historical data, you will calculate lifetime value (LTV) and customer acquisition cost (CAC)."
   ]
  },
  {
   "cell_type": "markdown",
   "metadata": {},
   "source": [
    "<center><img src=\"images/04.12.jpg\"  style=\"width: 400px, height: 300px;\"/></center>\n"
   ]
  }
 ],
 "metadata": {
  "kernelspec": {
   "display_name": "Python 3.8.11 ('env_py')",
   "language": "python",
   "name": "python3"
  },
  "language_info": {
   "name": "python",
   "version": "3.8.11"
  },
  "orig_nbformat": 4,
  "vscode": {
   "interpreter": {
    "hash": "1e949e87132dd83f1a7623eb88007e3532b03b66b77111be347aa4a383049722"
   }
  }
 },
 "nbformat": 4,
 "nbformat_minor": 2
}

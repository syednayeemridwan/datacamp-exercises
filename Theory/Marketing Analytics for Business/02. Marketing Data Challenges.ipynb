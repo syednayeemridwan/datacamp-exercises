{
 "cells": [
  {
   "cell_type": "markdown",
   "metadata": {},
   "source": [
    "# Internal vs. advertiser data"
   ]
  },
  {
   "cell_type": "markdown",
   "metadata": {},
   "source": [
    "Now that your new role as a Marketing Analyst is ramping up, one of your first tasks is to access different reporting tools. You are exploring various reports and databases across the company, as well as on advertiser platforms! Ideally, you want to become so familiar with these data sources that you will quickly know where to look for data to answer marketing analytics questions."
   ]
  },
  {
   "cell_type": "markdown",
   "metadata": {},
   "source": [
    "<center><img src=\"images/02.02.jpg\"  style=\"width: 400px, height: 300px;\"/></center>\n"
   ]
  },
  {
   "cell_type": "markdown",
   "metadata": {},
   "source": [
    "# Channel granularity"
   ]
  },
  {
   "cell_type": "markdown",
   "metadata": {},
   "source": [
    "Now that you have access to reporting tools, the Director of Marketing asks to build a single dashboard that covers online and offline channels. You are not sure how easy that will be with data spread across different sources and different levels of detail. Before you join any data, you want to explain to the Director of Marketing the differences in data granularity between offline and online data. This will help you advise if a single dashboard will be feasible."
   ]
  },
  {
   "cell_type": "markdown",
   "metadata": {},
   "source": [
    "<center><img src=\"images/02.03.jpg\"  style=\"width: 400px, height: 300px;\"/></center>\n"
   ]
  },
  {
   "cell_type": "markdown",
   "metadata": {},
   "source": [
    "# Audience targeting insights"
   ]
  },
  {
   "cell_type": "markdown",
   "metadata": {},
   "source": [
    "The Director of Marketing wants to know which geographic regions contain the most customers, as this distribution may differ from the regions targeted in recent campaigns. As a Marketing Analyst, it is your job to check the difference in geographic distribution between internal data stores, DSPs (demand side platforms), and DMPs (data management platforms). Ultimately, you want to advise the Director of Marketing if the regional targeting should change."
   ]
  },
  {
   "cell_type": "markdown",
   "metadata": {},
   "source": [
    "<center><img src=\"images/02.04.jpg\"  style=\"width: 400px, height: 300px;\"/></center>\n"
   ]
  },
  {
   "cell_type": "markdown",
   "metadata": {},
   "source": [
    "# GDPR assessment"
   ]
  },
  {
   "cell_type": "markdown",
   "metadata": {},
   "source": [
    "As you start to explore different internal data sets, you notice a table that you suspect may be at risk for identifying customers without consent. You want to flag this potential GDPR risk to your legal team to make sure your company is aware and can correct the issue.\n",
    "\n",
    "Which of the tables below contains personally identifiable information that would present a GDPR risk?"
   ]
  },
  {
   "cell_type": "markdown",
   "metadata": {},
   "source": [
    "<center><img src=\"images/02.06.jpg\"  style=\"width: 400px, height: 300px;\"/></center>\n"
   ]
  },
  {
   "cell_type": "markdown",
   "metadata": {},
   "source": [
    "- Table 4"
   ]
  },
  {
   "cell_type": "markdown",
   "metadata": {},
   "source": [
    "# Cookie types"
   ]
  },
  {
   "cell_type": "markdown",
   "metadata": {},
   "source": [
    "Word has spread at work that a new Marketing Analyst has joined. Some of your partners keep hearing about a \"cookie-less\" future of marketing with increasing restrictions. However, they are unsure what the potential impact is of removing cookies. To better educate your co-workers, you try to explain the uses of different types of cookies from a marketing perspective."
   ]
  },
  {
   "cell_type": "markdown",
   "metadata": {},
   "source": [
    "<center><img src=\"images/02.07.jpg\"  style=\"width: 400px, height: 300px;\"/></center>\n"
   ]
  },
  {
   "cell_type": "markdown",
   "metadata": {},
   "source": [
    "# Direct vs. Indirect channels"
   ]
  },
  {
   "cell_type": "markdown",
   "metadata": {},
   "source": [
    "As you are planning analyses, you will have to consider how customers can interact (or not!) with different channels and tactics. This impacts data availability, privacy consent, reporting methods, and analysis options. Even for channels that have a direct customer interaction, you will likely be asked at some point to assess Indirect impact!\n",
    "\n",
    "Now try grouping channels between Direct and Indirect categories based on whether a channel is mainly clicked or viewed. Because there are many channels, it is a good idea to get some practice!"
   ]
  },
  {
   "cell_type": "markdown",
   "metadata": {},
   "source": [
    "<center><img src=\"images/02.09.jpg\"  style=\"width: 400px, height: 300px;\"/></center>\n"
   ]
  },
  {
   "cell_type": "markdown",
   "metadata": {},
   "source": [
    "# Blurred lines of channel impact"
   ]
  },
  {
   "cell_type": "markdown",
   "metadata": {},
   "source": [
    "You just learned about a subset of all possible marketing channels and how they fit into Direct and Indirect buckets. There are channels like display, streaming radio, and streaming TV that blur the boundaries between Direct and Indirect because of the surfaces those ads are served on (typically digital).\n",
    "\n",
    "Understanding channel attributes will help you determine which KPIs and analyses are most appropriate to evaluate channel performance. Which characteristics make a channel, like display, challenging to assign to Direct or Indirect?"
   ]
  },
  {
   "cell_type": "markdown",
   "metadata": {},
   "source": [
    "- If a channel is clickable but has a very low volume of clicks, it can be Indirect. Channels like display have mainly view-through impact even though they are technically clickable ads."
   ]
  }
 ],
 "metadata": {
  "kernelspec": {
   "display_name": "Python 3.8.11 ('env_py')",
   "language": "python",
   "name": "python3"
  },
  "language_info": {
   "name": "python",
   "version": "3.8.11"
  },
  "orig_nbformat": 4,
  "vscode": {
   "interpreter": {
    "hash": "1e949e87132dd83f1a7623eb88007e3532b03b66b77111be347aa4a383049722"
   }
  }
 },
 "nbformat": 4,
 "nbformat_minor": 2
}

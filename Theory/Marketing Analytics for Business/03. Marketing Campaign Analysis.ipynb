{
 "cells": [
  {
   "cell_type": "markdown",
   "metadata": {},
   "source": [
    "# Branded and non-branded keywords"
   ]
  },
  {
   "cell_type": "markdown",
   "metadata": {},
   "source": [
    "The Paid Search Manager is eager to partner with you on a deep dive analysis into their channel performance over the last year. First, they want to make sure you know enough about paid search to jump in, or if you have to brush up on different tactics before starting an analysis.\n",
    "\n",
    "The Manager asks you, \"Which statement is true about non-branded keywords?\""
   ]
  },
  {
   "cell_type": "markdown",
   "metadata": {},
   "source": [
    "- Does not contain company or brand name\n",
    "- More expensive than branded keywords\n",
    "- Common method of grouping and optimizing keywords"
   ]
  },
  {
   "cell_type": "markdown",
   "metadata": {},
   "source": [
    "# Paid search analysis"
   ]
  },
  {
   "cell_type": "markdown",
   "metadata": {},
   "source": [
    "Because you did so well in the discussion on branded and non-branded keywords, the Paid Search Manager thinks you are ready to begin a full baseline analysis of the paid search channel. They have noticed an increase in their cost per click numbers in 2021, but are not sure what is driving the increase versus 2020.\n",
    "\n",
    "You remember that the target cost per click for paid search is $4.25. You decide to compare by geographic region (Latin America, Asia, and Europe), as well as by campaigns focusing on driving discounts, trials, and other customer incentives. Of these geographic regions and campaign offers, which is the biggest driver of not meeting the $4.25 target in 2021 compared to 2020?"
   ]
  },
  {
   "cell_type": "markdown",
   "metadata": {},
   "source": [
    "<center><img src=\"images/03.031.jpg\"  style=\"width: 400px, height: 300px;\"/></center>\n",
    "<center><img src=\"images/03.032.jpg\"  style=\"width: 400px, height: 300px;\"/></center>\n"
   ]
  },
  {
   "cell_type": "markdown",
   "metadata": {},
   "source": [
    "- Discount"
   ]
  },
  {
   "cell_type": "markdown",
   "metadata": {},
   "source": [
    "# Social media comments"
   ]
  },
  {
   "cell_type": "markdown",
   "metadata": {},
   "source": [
    "The Social Media Manager remembers you from the interview process and is hopeful you can help them sort through the many comments and feedback on various social media platforms. You decide to start by looking through some comments on Instagram to assess sentiment. You want to get a sense of how easy or difficult it will be to scale sentiment analysis. Knowing if there are nuances specific to your business, or a wide range of emotions you want to capture, will indicate a need for a scalable solution that can handle complexity.\n",
    "\n",
    "Keep in mind that sentiment can have more categories than \"positive / neutral / negative\"!"
   ]
  },
  {
   "cell_type": "markdown",
   "metadata": {},
   "source": [
    "<center><img src=\"images/03.05.jpg\"  style=\"width: 400px, height: 300px;\"/></center>\n"
   ]
  },
  {
   "cell_type": "markdown",
   "metadata": {},
   "source": [
    "# NLP or manual sentiment analysis"
   ]
  },
  {
   "cell_type": "markdown",
   "metadata": {},
   "source": [
    "Now that you have a sense of how complex assigning sentiment to social media comments can be, you start to plan for sentiment analysis that you will produce monthly. As you learned, there are pros and cons to using a Natural Language Processing (NLP) model versus manually assigning sentiment. Use this exercise to list the factors to take into consideration as you think about repeating sentiment analysis."
   ]
  },
  {
   "cell_type": "markdown",
   "metadata": {},
   "source": [
    "<center><img src=\"images/03.06.jpg\"  style=\"width: 400px, height: 300px;\"/></center>\n"
   ]
  },
  {
   "cell_type": "markdown",
   "metadata": {},
   "source": [
    "# Segmentation data options"
   ]
  },
  {
   "cell_type": "markdown",
   "metadata": {},
   "source": [
    "It turns out the Director of Marketing wants you to take a fresh look at audience segment definitions for the overall marketing program. They want to consider dimensions within demographic, behavioral, and psychographic data. As a Marketing Analyst, you need to be able to easily assess these different data types because they are common sources of audience segmentation rules."
   ]
  },
  {
   "cell_type": "markdown",
   "metadata": {},
   "source": [
    "<center><img src=\"images/03.08.jpg\"  style=\"width: 400px, height: 300px;\"/></center>\n"
   ]
  },
  {
   "cell_type": "markdown",
   "metadata": {},
   "source": [
    "# Cluster analysis attributes"
   ]
  },
  {
   "cell_type": "markdown",
   "metadata": {},
   "source": [
    "After analyzing the data by demographic, behavioral, and psychographic data, you realize that these segments are too granular to be scaled in marketing campaigns. You test out a cluster model instead and find that the data naturally falls into two groups: business and personal customers. This is great news, but the Director of Marketing wants more detail on the attributes of these clusters. You need to show examples of what defines these clusters so they can set segment definitions in advertising tools."
   ]
  },
  {
   "cell_type": "markdown",
   "metadata": {},
   "source": [
    "<center><img src=\"images/03.09.jpg\"  style=\"width: 400px, height: 300px;\"/></center>\n"
   ]
  },
  {
   "cell_type": "markdown",
   "metadata": {},
   "source": [
    "# Campaign stages"
   ]
  },
  {
   "cell_type": "markdown",
   "metadata": {},
   "source": [
    "You are hearing that there will be some major campaigns launching soon. This immediately makes you plan for analyses supporting these campaigns. As you know, different analyses are more appropriate for different stages of the campaign process. You must be able to make a roadmap to show stakeholders which analyses will be delivered at each stage."
   ]
  },
  {
   "cell_type": "markdown",
   "metadata": {},
   "source": [
    "<center><img src=\"images/03.11.jpg\"  style=\"width: 400px, height: 300px;\"/></center>\n"
   ]
  },
  {
   "cell_type": "markdown",
   "metadata": {},
   "source": [
    "# Integrated campaign planning"
   ]
  },
  {
   "cell_type": "markdown",
   "metadata": {},
   "source": [
    "It is an exciting time for a Marketing Analyst — the Director of Marketing is launching a large integrated marketing campaign next month — and you get to advise the marketing team from the outset! This special discount offer will target recent college graduates who are interested in data science careers.\n",
    "\n",
    "Luckily, you already completed some analysis, but the following question remains, \"If we know which segment to target based on likelihood to respond to any promotional offer, how can we confirm which discount message to show this segment in a quick and scalable way before campaign launch?\""
   ]
  },
  {
   "cell_type": "markdown",
   "metadata": {},
   "source": [
    "- A choice model is the best option to understand which message similar customers have selected in the past."
   ]
  }
 ],
 "metadata": {
  "kernelspec": {
   "display_name": "Python 3.8.11 ('env_py')",
   "language": "python",
   "name": "python3"
  },
  "language_info": {
   "name": "python",
   "version": "3.8.11"
  },
  "orig_nbformat": 4,
  "vscode": {
   "interpreter": {
    "hash": "1e949e87132dd83f1a7623eb88007e3532b03b66b77111be347aa4a383049722"
   }
  }
 },
 "nbformat": 4,
 "nbformat_minor": 2
}

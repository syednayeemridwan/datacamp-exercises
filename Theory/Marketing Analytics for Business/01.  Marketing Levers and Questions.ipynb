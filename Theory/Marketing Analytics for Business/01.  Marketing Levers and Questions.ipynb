{
 "cells": [
  {
   "cell_type": "markdown",
   "metadata": {},
   "source": [
    "# Campaign attributes"
   ]
  },
  {
   "cell_type": "markdown",
   "metadata": {},
   "source": [
    "Great news! You are a top candidate that will interview to become a Marketing Analyst. During the interview process, the Director of Marketing (who will be your main partner on the marketing team) wants to check that you understand the basics of key marketing concepts. This will ensure you are able to jump straight into your analyses if you get the role. The director asks you, \"Which of these statements is not true about marketing campaigns?\""
   ]
  },
  {
   "cell_type": "markdown",
   "metadata": {},
   "source": [
    "- Campaigns and channels always have a one to one relationship"
   ]
  },
  {
   "cell_type": "markdown",
   "metadata": {},
   "source": [
    "# Channels and tactics"
   ]
  },
  {
   "cell_type": "markdown",
   "metadata": {},
   "source": [
    "Next, you are being interviewed by a Social Media Manager. Because this person uses many tactics within their channel, they want to test your understanding of tactics and channels. Knowing this difference will help the Social Media Manager feel confident that you can quickly dive into marketing analyses and reporting!"
   ]
  },
  {
   "cell_type": "markdown",
   "metadata": {},
   "source": [
    "<center><img src=\"images/01.03.jpg\"  style=\"width: 400px, height: 300px;\"/></center>\n"
   ]
  },
  {
   "cell_type": "markdown",
   "metadata": {},
   "source": [
    "# Lever hierarchy"
   ]
  },
  {
   "cell_type": "markdown",
   "metadata": {},
   "source": [
    "You made it to the technical screen interviews safely! Your next interview is with a Data Engineer who wants to check your understanding of different marketing dimensions. These dimensions align to levels of granularity in the marketing data model — data you might access soon! The engineer wants to confirm that you can explain the hierarchical relationship between tactics, channels, and campaigns."
   ]
  },
  {
   "cell_type": "markdown",
   "metadata": {},
   "source": [
    "<center><img src=\"images/01.04.jpg\"  style=\"width: 400px, height: 300px;\"/></center>\n"
   ]
  },
  {
   "cell_type": "markdown",
   "metadata": {},
   "source": [
    "# Internal partners"
   ]
  },
  {
   "cell_type": "markdown",
   "metadata": {},
   "source": [
    "Now that you passed the screening, you are moving onto the full interview loop for the Marketing Analyst role. Because you want to do your research before starting the interviews, you prepare by anticipating which marketing goals different interviewers will be most interested in. Knowing this will demonstrate your ability to brainstorm performance measurement options with stakeholders if you are hired!"
   ]
  },
  {
   "cell_type": "markdown",
   "metadata": {},
   "source": [
    "<center><img src=\"images/01.06.jpg\"  style=\"width: 400px, height: 300px;\"/></center>\n"
   ]
  },
  {
   "cell_type": "markdown",
   "metadata": {},
   "source": [
    "# External partners"
   ]
  },
  {
   "cell_type": "markdown",
   "metadata": {},
   "source": [
    "In one of your last interviews, you are asked about prioritizing partner requests. One of your key job responsibilities would be to manage the relationship with external advertising partners who have marketing data questions. You will be expected to manage any questions from advertisers, determine if they are feasible, and prioritize them on behalf of the company. In which of the following analytics areas would advertisers (versus internal partners) be unable to proceed without your help?"
   ]
  },
  {
   "cell_type": "markdown",
   "metadata": {},
   "source": [
    "- Accessing conversion data. Advertisers cannot access conversion data without the assistance of Marketing Analysts. This enables comprehensive reporting and optimization via advertisers."
   ]
  },
  {
   "cell_type": "markdown",
   "metadata": {},
   "source": [
    "# Marketing roles and business questions"
   ]
  },
  {
   "cell_type": "markdown",
   "metadata": {},
   "source": [
    "The final stage in your interviews is to do a group panel interview with various stakeholders and advertising partners. To prepare for this interview, you brainstorm which questions partners might ask. Aligning business questions with partner goals will be important in determining the scope of analysis and reporting in the future.\n",
    "\n",
    "Of course, you will be a very popular person if you get this role, and your new co-workers will expect you to address very broad and very tactical marketing questions."
   ]
  },
  {
   "cell_type": "markdown",
   "metadata": {},
   "source": [
    "<center><img src=\"images/01.09.jpg\"  style=\"width: 400px, height: 300px;\"/></center>\n"
   ]
  },
  {
   "cell_type": "markdown",
   "metadata": {},
   "source": [
    "# Marketing roles and KPIs"
   ]
  },
  {
   "cell_type": "markdown",
   "metadata": {},
   "source": [
    "Congratulations! You have been hired as a Marketing Analyst after many interviews. Now that your partner introductions are complete, you will sit down and think about which KPIs map to the goals and business questions of each person. Some partners will be closely monitoring marketing-related KPIs, and others will monitor broader KPIs.\n",
    "\n",
    "Eventually, you will design reports for different groups of partners who have a vested interest in different KPI categories."
   ]
  },
  {
   "cell_type": "markdown",
   "metadata": {},
   "source": [
    "<center><img src=\"images/01.10.jpg\"  style=\"width: 400px, height: 300px;\"/></center>\n"
   ]
  }
 ],
 "metadata": {
  "kernelspec": {
   "display_name": "Python 3.8.11 ('env_py')",
   "language": "python",
   "name": "python3"
  },
  "language_info": {
   "name": "python",
   "version": "3.8.11"
  },
  "orig_nbformat": 4,
  "vscode": {
   "interpreter": {
    "hash": "1e949e87132dd83f1a7623eb88007e3532b03b66b77111be347aa4a383049722"
   }
  }
 },
 "nbformat": 4,
 "nbformat_minor": 2
}

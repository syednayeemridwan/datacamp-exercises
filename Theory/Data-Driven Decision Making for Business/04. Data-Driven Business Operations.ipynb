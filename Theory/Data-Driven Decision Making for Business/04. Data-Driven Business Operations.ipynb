{
 "cells": [
  {
   "cell_type": "markdown",
   "metadata": {},
   "source": [
    "# TAM: top-down market sizing"
   ]
  },
  {
   "cell_type": "markdown",
   "metadata": {},
   "source": [
    "You're a company founder pitching potential investors on your idea for online business training certificates specifically for business analysts in the US. You know the importance of defining your total addressable market and have chosen to use the top-down method. Recall the steps for top-down TAM:\n",
    "\n",
    "- Start with macro dataset\n",
    "- Logically apply interactions\n",
    "\n",
    "\n",
    "After some industry research you found the following statistics. Note: not all are applicable to creating an annual TAM:\n",
    "\n",
    "- $1200/year spent per professional on certifications\n",
    "- 80% of general non-accredited business education occurs online\n",
    "- $39/month subscription fee\n",
    "- 7 months average online retention\n",
    "- 800,000 US business analysts\n",
    "\n",
    "What is the top-down TAM *for all professional certifications among all US business analysts?"
   ]
  },
  {
   "cell_type": "markdown",
   "metadata": {},
   "source": [
    "- $768M top-down TAM. The proportion of $1200 that is online for your business model is 80% times the total number of analysts."
   ]
  },
  {
   "cell_type": "markdown",
   "metadata": {},
   "source": [
    "# TAM: bottom up market sizing"
   ]
  },
  {
   "cell_type": "markdown",
   "metadata": {},
   "source": [
    "Now you've decided to think about the TAM from the bottom up. Bottom-up TAM requires:\n",
    "\n",
    "- Start with granular data\n",
    "- Logically extrapolate upwards\n",
    "\n",
    "You collected the following data:\n",
    "\n",
    "- A big public education company's revenue: $321M annually\n",
    "- Business education is 5% of the total company revenue ($321M)\n",
    "- The company's market share of the entire online education market is 50%\n",
    "\n",
    "What is the bottom-up TAM for the online business education market in the US?"
   ]
  },
  {
   "cell_type": "markdown",
   "metadata": {},
   "source": [
    "- $32.1M"
   ]
  },
  {
   "cell_type": "markdown",
   "metadata": {},
   "source": [
    "# Fast (& furious) food demand"
   ]
  },
  {
   "cell_type": "markdown",
   "metadata": {},
   "source": [
    "Since you're managing a fast food restaurant you have to make schedules for next week. This dashboard shows you the historical \"demand\" on your ecosystem. For each 30 minute interval in a day, you have a number of meals and drinks that were served.\n",
    "\n",
    "What is your busiest day of the week & time? This will help you understand when to staff people"
   ]
  },
  {
   "cell_type": "markdown",
   "metadata": {},
   "source": [
    "<center><img src=\"images/04.05.jpg\"  style=\"width: 400px, height: 300px;\"/></center>\n"
   ]
  },
  {
   "cell_type": "markdown",
   "metadata": {},
   "source": [
    "- Friday 9:00AM-9:30AM"
   ]
  },
  {
   "cell_type": "markdown",
   "metadata": {},
   "source": [
    "# Scrutinizing a forecast"
   ]
  },
  {
   "cell_type": "markdown",
   "metadata": {},
   "source": [
    "The restaurant chain's data scientists sent over a forecast for next week to help you schedule. Given your expertise about last week's demand and what you know about the business you have to identify the inconsistencies in the forecast."
   ]
  },
  {
   "cell_type": "markdown",
   "metadata": {},
   "source": [
    "- Negative numbers and decimal points for meals need to be adjusted. Friday may be another peak but this forecast is trending downwards."
   ]
  },
  {
   "cell_type": "markdown",
   "metadata": {},
   "source": [
    "<center><img src=\"images/04.06.jpg\"  style=\"width: 400px, height: 300px;\"/></center>\n"
   ]
  },
  {
   "cell_type": "markdown",
   "metadata": {},
   "source": [
    "# Reviewing the Erlang-C"
   ]
  },
  {
   "cell_type": "markdown",
   "metadata": {},
   "source": [
    "The restaurant's staff \"supply\" is needed to meet the expected demand. One method to calculate the number of servers, cooks, and hosts for any time period is with an Erlang-C formula. The Erlang-C has multiple inputs:\n",
    "\n",
    "- Rate: How much demand is occurring, i.e. \"the call center is taking 152 calls per hour\"\n",
    "- Duration: How long does it take to complete 1 unit, i.e. \"an average call will take 6 minutes\"\n",
    "- Target: How long is the operation allowed to let work wait, i.e. \"people can wait on hold for 20 seconds\"\n",
    "- Service goal: The number of work units completed by the target out of 100, i.e. \"80 out of 100 calls were answered within 20 seconds\""
   ]
  },
  {
   "cell_type": "markdown",
   "metadata": {},
   "source": [
    "<center><img src=\"images/04.08.jpg\"  style=\"width: 400px, height: 300px;\"/></center>\n"
   ]
  },
  {
   "cell_type": "markdown",
   "metadata": {},
   "source": [
    "# Make a data driven scheduling decision!"
   ]
  },
  {
   "cell_type": "markdown",
   "metadata": {},
   "source": [
    "Now that you understand the inputs, explore the Erlang to arrive at a decision. This dashboard explores and calculates the employees needed according to Erlang-C inputs.\n",
    "\n",
    "<center><img src=\"images/04.091.jpg\"  style=\"width: 400px, height: 300px;\"/></center>\n",
    "\n",
    "Looking only at Friday's corrected forecast, how many employees are needed to meet the maximum Friday demand?"
   ]
  },
  {
   "cell_type": "markdown",
   "metadata": {},
   "source": [
    "<center><img src=\"images/04.092.jpg\"  style=\"width: 400px, height: 300px;\"/></center>\n"
   ]
  },
  {
   "cell_type": "markdown",
   "metadata": {},
   "source": [
    "- 23"
   ]
  },
  {
   "cell_type": "markdown",
   "metadata": {},
   "source": [
    "# Data to focus effort and training (1)"
   ]
  },
  {
   "cell_type": "markdown",
   "metadata": {},
   "source": [
    "In your restaurant, a data scientist modeled how likely it is that a customer would recommend your service. The model predicts question 1, using questions 2-5 as inputs. Responses can range from 1-10 with answers 8, 9, and 10 being considered success. The questions are:\n",
    "\n",
    "- How likely are you to recommend our restaurant? (1-10)\n",
    "- Was the order handled in a timely fashion? (1-10)\n",
    "- Was the server friendly? (1-10)\n",
    "- Was the dining area clean? (1-10)\n",
    "- How satisfied were you with the food options provided? (1-10)\n",
    "\n",
    "Using the results of the model and corresponding plot, what aspect of the restaurant service should not be focused on since the restaurant scores well often but customers don't see it as important?"
   ]
  },
  {
   "cell_type": "markdown",
   "metadata": {},
   "source": [
    "<center><img src=\"images/04.11.jpg\"  style=\"width: 400px, height: 300px;\"/></center>\n"
   ]
  },
  {
   "cell_type": "markdown",
   "metadata": {},
   "source": [
    "- Q5: food options"
   ]
  },
  {
   "cell_type": "markdown",
   "metadata": {},
   "source": [
    "# Data to focus effort and training (2)"
   ]
  },
  {
   "cell_type": "markdown",
   "metadata": {},
   "source": [
    "Using the results of the model and corresponding plot, what aspect of restaurant quality should supervisors coach because the customers think it is important but employees do not score high on it very often?"
   ]
  },
  {
   "cell_type": "markdown",
   "metadata": {},
   "source": [
    "<center><img src=\"images/04.12.jpg\"  style=\"width: 400px, height: 300px;\"/></center>\n"
   ]
  },
  {
   "cell_type": "markdown",
   "metadata": {},
   "source": [
    "- Q3: friendliness"
   ]
  }
 ],
 "metadata": {
  "kernelspec": {
   "display_name": "Python 3.8.11 ('env_py')",
   "language": "python",
   "name": "python3"
  },
  "language_info": {
   "name": "python",
   "version": "3.8.11"
  },
  "orig_nbformat": 4,
  "vscode": {
   "interpreter": {
    "hash": "1e949e87132dd83f1a7623eb88007e3532b03b66b77111be347aa4a383049722"
   }
  }
 },
 "nbformat": 4,
 "nbformat_minor": 2
}

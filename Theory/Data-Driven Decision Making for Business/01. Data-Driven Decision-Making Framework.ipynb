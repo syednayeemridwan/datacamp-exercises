{
 "cells": [
  {
   "cell_type": "markdown",
   "metadata": {},
   "source": [
    "# Structuring a data-driven problem"
   ]
  },
  {
   "cell_type": "markdown",
   "metadata": {},
   "source": [
    "There are three categories to most data-driven decisions.\n",
    "\n",
    "- Exploratory analysis: Helps drive decisions by confirming your prior expectations, understanding or improving your fluency without a specific outcome.\n",
    "- Explanatory analysis: Helps you learn complex interactions of a business, situation or operation. You're really trying to understand the drivers of a specific topic.\n",
    "- Predictive analysis: Rather than a review of historical patterns, you're now trying to use those patterns to produce a future likely outcome."
   ]
  },
  {
   "cell_type": "markdown",
   "metadata": {},
   "source": [
    "<center><img src=\"images/01.02.jpg\"  style=\"width: 400px, height: 300px;\"/></center>\n"
   ]
  },
  {
   "cell_type": "markdown",
   "metadata": {},
   "source": [
    "# Probing an analysis"
   ]
  },
  {
   "cell_type": "markdown",
   "metadata": {},
   "source": [
    "Now that you know the major types of an analysis, you need to learn about ways to effectively probe an analysis you are being presented with. Alternatively, in your own analysis, make sure you have thought about these too.\n",
    "\n",
    "Remember, there are four areas to consider: data, method, results, and impact. Let's start with the first two."
   ]
  },
  {
   "cell_type": "markdown",
   "metadata": {},
   "source": [
    "<center><img src=\"images/01.03.jpg\"  style=\"width: 400px, height: 300px;\"/></center>\n"
   ]
  },
  {
   "cell_type": "markdown",
   "metadata": {},
   "source": [
    "# Analytical maturity"
   ]
  },
  {
   "cell_type": "markdown",
   "metadata": {},
   "source": [
    "In this course we covered all basic methods: exploratory, explanatory, and predictive. These methods can be applied within a specific context: Cost vs benefit, Risk vs reward, and Supply vs demand. Using this framework in a 3x3 matrix is helpful to spot the opportunity and type of analysis needed.\n",
    "```\n",
    "Cost vs Benefit\t| Risk vs reward | Supply vs demand\n",
    "____________\n",
    "Exploratory\t\n",
    "____________\t\t\n",
    "Explanatory\t\n",
    "____________\t\t\n",
    "Predictive\t\t\n",
    "```"
   ]
  },
  {
   "cell_type": "markdown",
   "metadata": {},
   "source": [
    "<center><img src=\"images/01.05.jpg\"  style=\"width: 400px, height: 300px;\"/></center>\n"
   ]
  },
  {
   "cell_type": "markdown",
   "metadata": {},
   "source": [
    "# Common pitfalls"
   ]
  },
  {
   "cell_type": "markdown",
   "metadata": {},
   "source": [
    "When identifying a data-driven decision, which of the following options is a common pitfall?"
   ]
  },
  {
   "cell_type": "markdown",
   "metadata": {},
   "source": [
    "- Mistakenly thinking you have access to the data when in fact you may not have what is needed for the exact problem."
   ]
  },
  {
   "cell_type": "markdown",
   "metadata": {},
   "source": [
    "# Identify the method"
   ]
  },
  {
   "cell_type": "markdown",
   "metadata": {},
   "source": [
    "The following chart and small data is the output of a time series forecast for a coffee shop. For each 30-minute time period the forecast for the number of drinks is displayed. The entire time series is shown in a line chart. Given that the data is a future forecast, choose the correct analytical method that would produce this type of output."
   ]
  },
  {
   "cell_type": "markdown",
   "metadata": {},
   "source": [
    "<center><img src=\"images/01.08.jpg\"  style=\"width: 400px, height: 300px;\"/></center>\n"
   ]
  },
  {
   "cell_type": "markdown",
   "metadata": {},
   "source": [
    "- Predictive"
   ]
  },
  {
   "cell_type": "markdown",
   "metadata": {},
   "source": [
    "# Identify the objective"
   ]
  },
  {
   "cell_type": "markdown",
   "metadata": {},
   "source": [
    "This is an output for an Erlang-C formula used in call center staffing and other service industries like scheduling baristas. Column one represents a 30 minute time interval. Next, the forecast prediction for number of drinks, available baristas, and baristas needed for an acceptable wait time is shown for each specific time interval.\n",
    "\n",
    "What type of data-driven objective does this information support?"
   ]
  },
  {
   "cell_type": "markdown",
   "metadata": {},
   "source": [
    "<center><img src=\"images/01.09.jpg\"  style=\"width: 400px, height: 300px;\"/></center>\n"
   ]
  },
  {
   "cell_type": "markdown",
   "metadata": {},
   "source": [
    "- Supply vs demand"
   ]
  },
  {
   "cell_type": "markdown",
   "metadata": {},
   "source": [
    "# Classifying the rest of the course"
   ]
  },
  {
   "cell_type": "markdown",
   "metadata": {},
   "source": [
    "The rest of the course will examine real case studies for data driven decisions in each section of our 3x3 framework. In this exercise, you will have to classify a subset of the upcoming cases by their method and objective."
   ]
  },
  {
   "cell_type": "markdown",
   "metadata": {},
   "source": [
    "<center><img src=\"images/01.10.jpg\"  style=\"width: 400px, height: 300px;\"/></center>\n"
   ]
  }
 ],
 "metadata": {
  "kernelspec": {
   "display_name": "Python 3.8.11 ('env_py')",
   "language": "python",
   "name": "python3"
  },
  "language_info": {
   "name": "python",
   "version": "3.8.11"
  },
  "orig_nbformat": 4,
  "vscode": {
   "interpreter": {
    "hash": "1e949e87132dd83f1a7623eb88007e3532b03b66b77111be347aa4a383049722"
   }
  }
 },
 "nbformat": 4,
 "nbformat_minor": 2
}

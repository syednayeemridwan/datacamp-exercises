{
 "cells": [
  {
   "cell_type": "markdown",
   "metadata": {},
   "source": [
    "# What good is the risk-free rate?"
   ]
  },
  {
   "cell_type": "markdown",
   "metadata": {},
   "source": [
    "Recall that the expected return on an investment formula includes a risk free rate. In the CAPM visual the risk-free rate is the y-intercept.\n",
    "\n",
    "What does the risk-free rate of return represent?"
   ]
  },
  {
   "cell_type": "markdown",
   "metadata": {},
   "source": [
    "- It is the theoretical return on an investment without any risk. Usually it is the US Treasury Bill investment minus inflation to help inform investment decisions."
   ]
  },
  {
   "cell_type": "markdown",
   "metadata": {},
   "source": [
    "# Use a CAPM-like chart to choose your investment"
   ]
  },
  {
   "cell_type": "markdown",
   "metadata": {},
   "source": [
    "Choose the most efficient investment opportunity, one with the highest expected reward and lowest risk. You can search the table of data to understand the relationship of risk vs reward or it's likely easier to see the relationship in the CAPM style plot. Remember to account for the risk-free rate of return."
   ]
  },
  {
   "cell_type": "markdown",
   "metadata": {},
   "source": [
    "<center><img src=\"images/03.03.jpg\"  style=\"width: 400px, height: 300px;\"/></center>\n"
   ]
  },
  {
   "cell_type": "markdown",
   "metadata": {},
   "source": [
    "- 43 (has the highest return, with lowest risk and is closest to the optimal portfolio line.)"
   ]
  },
  {
   "cell_type": "markdown",
   "metadata": {},
   "source": [
    "# Calculate gross rental income"
   ]
  },
  {
   "cell_type": "markdown",
   "metadata": {},
   "source": [
    "After contacting a real estate agent in Massachusetts, the following rental history was obtained. This is a real vacation studio condominium on a tourist island.\n",
    "\n",
    "Given this data, how would you calculate the gross rental income month to month?"
   ]
  },
  {
   "cell_type": "markdown",
   "metadata": {},
   "source": [
    "- Multiply the nights occupied column by the average price per night column."
   ]
  },
  {
   "cell_type": "markdown",
   "metadata": {},
   "source": [
    "<center><img src=\"images/03.05.jpg\"  style=\"width: 400px, height: 300px;\"/></center>\n"
   ]
  },
  {
   "cell_type": "markdown",
   "metadata": {},
   "source": [
    "# Review the best investment by cap rate"
   ]
  },
  {
   "cell_type": "markdown",
   "metadata": {},
   "source": [
    "Now the condo rental history has been expanded to three years and new data was added. Remember OER is the ratio of total costs (variable + fixed) to gross income. Lower OER is better than higher, and it needs to be adjusted for how often the property is occupied.\n",
    "\n",
    "Focusing on the correct data among all other, choose the OER that provides information helping you make an investment decision. Is this property investable based on OER?"
   ]
  },
  {
   "cell_type": "markdown",
   "metadata": {},
   "source": [
    "<center><img src=\"images/03.06.jpg\"  style=\"width: 400px, height: 300px;\"/></center>"
   ]
  },
  {
   "cell_type": "markdown",
   "metadata": {},
   "source": [
    "- Yes, it's an investable property. The weighted avg OER is 0.866.\n"
   ]
  },
  {
   "cell_type": "markdown",
   "metadata": {},
   "source": [
    "# Select the best investment opportunity"
   ]
  },
  {
   "cell_type": "markdown",
   "metadata": {},
   "source": [
    "Here is a table of investment vacation rentals. Focus first on having an OER that is less than than 1, which means overall the property expenses are less than the rental income. This is a summary statistic for your risk.\n",
    "\n",
    "After eliminating properties with high OER, review the capitalization rate. Remember the cap rate summarizes the reward as a measure of the total purchase cost. The cap rate compares income to purchase price, excluding financing costs. This let's you see what you could expect in income versus your total purchase outlay.\n",
    "\n",
    "Which property has attractive OER and cap rate?"
   ]
  },
  {
   "cell_type": "markdown",
   "metadata": {},
   "source": [
    "<center><img src=\"images/03.07.jpg\"  style=\"width: 400px, height: 300px;\"/></center>\n"
   ]
  },
  {
   "cell_type": "markdown",
   "metadata": {},
   "source": [
    "- Property 2"
   ]
  },
  {
   "cell_type": "markdown",
   "metadata": {},
   "source": [
    "# Defining a simulation"
   ]
  },
  {
   "cell_type": "markdown",
   "metadata": {},
   "source": [
    "What is a simulation in data driven decision making?\n",
    "- A simulation is an approximate imitation of an operation or system over time."
   ]
  },
  {
   "cell_type": "markdown",
   "metadata": {},
   "source": [
    "# Find the maximum price to pay"
   ]
  },
  {
   "cell_type": "markdown",
   "metadata": {},
   "source": [
    "In non-traditional investing, it is often said there is no such thing as a bad investment, only a bad price to pay. In this example, simulated Magic the Gathering packs were opened according to their rarity. The online prices were then appended and a distribution of sales price (investment return) outcomes was created. Recall the most likely outcome is the average return shown as a vertical line. That means with enough opened packs and boxes the investment return should be near the average.\n",
    "\n",
    "What is the maximum price you should be willing to pay, excluding friction costs?\n",
    "\n",
    "Note: You can hover over the plot to see more detailed values."
   ]
  },
  {
   "cell_type": "markdown",
   "metadata": {},
   "source": [
    "<center><img src=\"images/03.10.jpg\"  style=\"width: 400px, height: 300px;\"/></center>\n"
   ]
  },
  {
   "cell_type": "markdown",
   "metadata": {},
   "source": [
    "- $131.36. Because Based on the simulation's outcome, the maximum price to turn a profit is likely just below the average line."
   ]
  },
  {
   "cell_type": "markdown",
   "metadata": {},
   "source": [
    "# Calculate the expected profit"
   ]
  },
  {
   "cell_type": "markdown",
   "metadata": {},
   "source": [
    "In your 100-box simulation, the average box revenue was $131.36. Your shipped cost from the manufacturer was $87.50 per box. A game store agreed to post the cards online estimating 5% for the posting fee and 2% for shipping (7% total) in addition to the box cost. Lastly, the game store will take 50% of the profit for their service.\n",
    "\n",
    "What is the net profit margin, for you, as defined below?\n",
    "```\n",
    "net profit = revenue - cost\n",
    "profit margin = profit / revenue\n",
    "```"
   ]
  },
  {
   "cell_type": "markdown",
   "metadata": {},
   "source": [
    "- 0.1436545"
   ]
  }
 ],
 "metadata": {
  "kernelspec": {
   "display_name": "Python 3.8.11 ('env_py')",
   "language": "python",
   "name": "python3"
  },
  "language_info": {
   "name": "python",
   "version": "3.8.11"
  },
  "orig_nbformat": 4,
  "vscode": {
   "interpreter": {
    "hash": "1e949e87132dd83f1a7623eb88007e3532b03b66b77111be347aa4a383049722"
   }
  }
 },
 "nbformat": 4,
 "nbformat_minor": 2
}

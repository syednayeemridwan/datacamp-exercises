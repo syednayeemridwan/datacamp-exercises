{
 "cells": [
  {
   "cell_type": "markdown",
   "metadata": {},
   "source": [
    "# Finding the best model"
   ]
  },
  {
   "cell_type": "markdown",
   "metadata": {},
   "source": [
    "In a lot of marketing efforts, a propensity model outcome is \"unbalanced\". This means you should care a lot about the most likely respondents with higher probabilities to respond, usually focusing on the top 1,5 or 10% of the most likely respondents.\n",
    "\n",
    "When you have a limited budget and can't afford to market to all prospects, you should select the model with the highest _?"
   ]
  },
  {
   "cell_type": "markdown",
   "metadata": {},
   "source": [
    "- Top-N percentile accuracy (such as top decile/10%)"
   ]
  },
  {
   "cell_type": "markdown",
   "metadata": {},
   "source": [
    "# Focus on growth"
   ]
  },
  {
   "cell_type": "markdown",
   "metadata": {},
   "source": [
    "For your marketing campaign, you have decided to focus on growing your non-profit's donor base, instead of on pure profitability. The data scientists have modeled prospective donor response rates and plotted curves to help inform your decision. The non-profit has a $1000 fixed cost and each marketing letter costs $3. On average each donor gift results in $25 profit.\n",
    "\n",
    "Given these profit, response, ROI and Cost/Revenue curves, what is the maximum percentile, representing the number of people as a percentage, to reach out that still yields more than $100 profit? How many successful responses does the model predict?"
   ]
  },
  {
   "cell_type": "markdown",
   "metadata": {},
   "source": [
    "<center><img src=\"images/02.03.jpg\"  style=\"width: 400px, height: 300px;\"/></center>\n"
   ]
  },
  {
   "cell_type": "markdown",
   "metadata": {},
   "source": [
    "- Percentile 45: Profit = $120 & 88 donors"
   ]
  },
  {
   "cell_type": "markdown",
   "metadata": {},
   "source": [
    "# Focus on efficient acquisition"
   ]
  },
  {
   "cell_type": "markdown",
   "metadata": {},
   "source": [
    "You've changed your mind. Rather than grow the donor base, now you want to maximize the efficiency of your marketing spend. Previously you focused on growth balanced with profitability. Now you want to focus on the best ROI because you know each additional piece of mail is only $3 but each new percentile, or batch of postcards, will have a lower success rate.\n",
    "\n",
    "What is the highest ROI percentile? How much will that cost? What is the profitability of the campaign? How many new donors does the model predict?"
   ]
  },
  {
   "cell_type": "markdown",
   "metadata": {},
   "source": [
    "<center><img src=\"images/02.04.jpg\"  style=\"width: 400px, height: 300px;\"/></center>\n"
   ]
  },
  {
   "cell_type": "markdown",
   "metadata": {},
   "source": [
    "- Percentile 17: ROI 24%; Costs: $1408; Profit: $342; Donors: 70"
   ]
  },
  {
   "cell_type": "markdown",
   "metadata": {},
   "source": [
    "# Focus on profitability"
   ]
  },
  {
   "cell_type": "markdown",
   "metadata": {},
   "source": [
    "The president of the non-profit instructed you to abandon growing the donor base, or efficient acquisition. She states you must maximize the profit even if the marketing spend is inefficient.\n",
    "\n",
    "What is the maximum difference between revenue and cost? Given that profit percentile how many donors should you expect?"
   ]
  },
  {
   "cell_type": "markdown",
   "metadata": {},
   "source": [
    "- Percentile 27; Profit: $377; 81 donors"
   ]
  },
  {
   "cell_type": "markdown",
   "metadata": {},
   "source": [
    "# ID arbitrage examples"
   ]
  },
  {
   "cell_type": "markdown",
   "metadata": {},
   "source": [
    "There are many arbitrage markets and opportunities. Sometimes these markets are nascent, or non-traditional. Remember arbitrage is any time you are buying an asset in one market and selling it another taking advantage of price differences in the market to turn a profit."
   ]
  },
  {
   "cell_type": "markdown",
   "metadata": {},
   "source": [
    "<center><img src=\"images/02.07.jpg\"  style=\"width: 400px, height: 300px;\"/></center>\n"
   ]
  },
  {
   "cell_type": "markdown",
   "metadata": {},
   "source": [
    "# Identify the arbitrage opportunity"
   ]
  },
  {
   "cell_type": "markdown",
   "metadata": {},
   "source": [
    "The analytics team modeled the outcome of promoting a single article on various social media sites and pages with corresponding costs. Costs for traffic vary because the viewer may be more or less desired by the e-sports site. The team also modeled each sponsors' pay per view amount based on the user type expected. For example, a user from Site A Page B may be older men which an e-sports sponsor may be less likely to be pay for.\n",
    "\n",
    "Using the table, identify the arbitrage opportunities where the cost per view is less than the amount the sponsor is willing to pay for."
   ]
  },
  {
   "cell_type": "markdown",
   "metadata": {},
   "source": [
    "<center><img src=\"images/02.08.jpg\"  style=\"width: 400px, height: 300px;\"/></center>\n"
   ]
  },
  {
   "cell_type": "markdown",
   "metadata": {},
   "source": [
    "- \"Site B Page F\" and \"Site B Page H\""
   ]
  },
  {
   "cell_type": "markdown",
   "metadata": {},
   "source": [
    "# Calculate the profit"
   ]
  },
  {
   "cell_type": "markdown",
   "metadata": {},
   "source": [
    "Now that you selected the correct arbitrage opportunities (Site B Page F and Site B Page H), calculate the profit for the e-sports site given the modeled number of views. Profit is the difference between the markets times the number of views.\n",
    "```\n",
    "                Cost \t    Traffic\t    pay-per-view\n",
    "Site B Page F\t0.0963\t    150\t        0.105\n",
    "Site B Page H\t0.0871\t    97\t        0.0873\n",
    "```\n"
   ]
  },
  {
   "cell_type": "markdown",
   "metadata": {},
   "source": [
    "- $1.32"
   ]
  },
  {
   "cell_type": "markdown",
   "metadata": {},
   "source": [
    "# Choose the right P, Q & M analogs"
   ]
  },
  {
   "cell_type": "markdown",
   "metadata": {},
   "source": [
    "Your company expects the total smartphone market between 2007 and 2022 to be 2 billion devices after the 2007 launch.\n",
    "\n",
    "Non-smart phones historically had p = .008 and q = .421. Looking at historical p and q values you notice that Color TV had half the p value of Black & White TV. People took time to replace their old TVs so there were less \"innovators\". However, in the end, the imitators q stayed the same because everyone transitioned to Color TV. Thus, you expect smartphone imitators to be half of the regular cell phones yet the overall q to be the same.\n",
    "\n",
    "Forecast the rest of the sales within a BASS model. Given the first four years of data choose the most applicable p, q and m."
   ]
  },
  {
   "cell_type": "markdown",
   "metadata": {},
   "source": [
    "- `p = .004`, `q = .421`, `m = 2,000,000,000`"
   ]
  },
  {
   "cell_type": "markdown",
   "metadata": {},
   "source": [
    "# Diffusion modeling dashboard"
   ]
  },
  {
   "cell_type": "markdown",
   "metadata": {},
   "source": [
    "It's 2011, you work for a technology company that recently launched the world's first smartphone back in 2007. You have 4 years of data and a BASS model to help forecast. Your boss has asked you to forecast sales out to 2022, 11 years from 2011.\n",
    "\n",
    "Using the p, q, and m (in millions) values identified in the analog product in the prior exercise, enter the value in the dashboard. Remember the values were:\n",
    "```\n",
    "p = .004\n",
    "q = .421\n",
    "m = 2000 million\n",
    "```\n",
    "If you can't see where to input the information, you can click the icon with three lines at the top of the dashboard\n",
    "\n",
    "Interpret the visuals to identify the BASS model total sales for only 2022."
   ]
  },
  {
   "cell_type": "markdown",
   "metadata": {},
   "source": [
    "<center><img src=\"images/02.121.jpg\"  style=\"width: 400px, height: 300px;\"/></center>\n",
    "<center><img src=\"images/02.122.jpg\"  style=\"width: 400px, height: 300px;\"/></center>\n"
   ]
  },
  {
   "cell_type": "markdown",
   "metadata": {},
   "source": [
    "- 127 million units"
   ]
  }
 ],
 "metadata": {
  "kernelspec": {
   "display_name": "Python 3.8.11 ('env_py')",
   "language": "python",
   "name": "python3"
  },
  "language_info": {
   "name": "python",
   "version": "3.8.11"
  },
  "orig_nbformat": 4,
  "vscode": {
   "interpreter": {
    "hash": "1e949e87132dd83f1a7623eb88007e3532b03b66b77111be347aa4a383049722"
   }
  }
 },
 "nbformat": 4,
 "nbformat_minor": 2
}

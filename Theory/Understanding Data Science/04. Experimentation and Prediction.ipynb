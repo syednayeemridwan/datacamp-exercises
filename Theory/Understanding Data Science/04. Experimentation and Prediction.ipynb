{
 "cells": [
  {
   "cell_type": "markdown",
   "metadata": {},
   "source": [
    "# Creating an A/B testing workflow"
   ]
  },
  {
   "cell_type": "markdown",
   "metadata": {},
   "source": [
    "Darius wants to run an A/B test to test two sets of ad copy for an email campaign. He’s trying to make an ordered to-do list with the correct order of steps for creating his A/B test. Can you help him out?"
   ]
  },
  {
   "cell_type": "markdown",
   "metadata": {},
   "source": [
    "<center><img src=\"images/04.02.jpg\"  style=\"width: 400px, height: 300px;\"/></center>\n"
   ]
  },
  {
   "cell_type": "markdown",
   "metadata": {},
   "source": [
    "# Statistical significance"
   ]
  },
  {
   "cell_type": "markdown",
   "metadata": {},
   "source": [
    "What does it mean if an A/B test result is NOT statistically significant?\n",
    "- We can't conclude which option is better because the observed difference is likely due to random chance."
   ]
  },
  {
   "cell_type": "markdown",
   "metadata": {},
   "source": [
    "# Intermediate results"
   ]
  },
  {
   "cell_type": "markdown",
   "metadata": {},
   "source": [
    "Alondra is overseeing an A/B test for MeowMail, a subscription service that sends cat food to customers every month.\n",
    "\n",
    "The A/B test is comparing the original cancellation workflow to a new workflow where the user is shown the amount of money they have saved by using MeowMail and asked if they're sure they want to cancel.\n",
    "\n",
    "Alondra's team has prepared a slide summarizing the current state of the experiment, which is not yet finished. The slide shows a bar plot with error bars denoting uncertainty. What can Alondra conclude from this slide?"
   ]
  },
  {
   "cell_type": "markdown",
   "metadata": {},
   "source": [
    "<center><img src=\"images/04.04.jpg\"  style=\"width: 400px, height: 300px;\"/></center>\n"
   ]
  },
  {
   "cell_type": "markdown",
   "metadata": {},
   "source": [
    "- The number of users exposed to the test has not yet reached the desired sample size, so Alondra should wait and make her judgment after the desired sample size has been reached."
   ]
  },
  {
   "cell_type": "markdown",
   "metadata": {},
   "source": [
    "# Classifying time series data"
   ]
  },
  {
   "cell_type": "markdown",
   "metadata": {},
   "source": [
    "we defined time series data as a series of data points sequenced in time. As we learned, time series data is very useful for analyzing the past and predicting the future.\n",
    "\n",
    "Below are various examples of data. Indicate whether they can be classified as time series data or not."
   ]
  },
  {
   "cell_type": "markdown",
   "metadata": {},
   "source": [
    "<center><img src=\"images/04.06.jpg\"  style=\"width: 400px, height: 300px;\"/></center>\n"
   ]
  },
  {
   "cell_type": "markdown",
   "metadata": {},
   "source": [
    "# Interpret a time series plot"
   ]
  },
  {
   "cell_type": "markdown",
   "metadata": {},
   "source": [
    "elow is a forecast of potato prices in Rwanda for the years 2016 and 2017.\n",
    "<center><img src=\"images/04.07.jpg\"  style=\"width: 400px, height: 300px;\"/></center>\n",
    "\n",
    "Which of the following statements is true about the model's prediction?"
   ]
  },
  {
   "cell_type": "markdown",
   "metadata": {},
   "source": [
    "- The model is 80% confident that the highest the price will peak is 450 Rwandan francs."
   ]
  },
  {
   "cell_type": "markdown",
   "metadata": {},
   "source": [
    "# When to use supervised learning"
   ]
  },
  {
   "cell_type": "markdown",
   "metadata": {},
   "source": [
    " you've learned about different data science concepts including A/B Testing, Supervised Machine Learning, and Dashboards. Below are a list of problems that need to be solved. Match each problem to the best solution."
   ]
  },
  {
   "cell_type": "markdown",
   "metadata": {},
   "source": [
    "<center><img src=\"images/04.09.jpg\"  style=\"width: 400px, height: 300px;\"/></center>\n"
   ]
  },
  {
   "cell_type": "markdown",
   "metadata": {},
   "source": [
    "# Features and labels"
   ]
  },
  {
   "cell_type": "markdown",
   "metadata": {},
   "source": [
    "you learned that features and labels are key elements in supervised machine learning. Furthermore, it's important to understand the difference between them when building a model.\n",
    "\n",
    "Juan wants to build a recommendation system that predicts the industry someone works in based on other personal information. Juan has a dataset that he wants to use to train his model. Help him identify which column contains labels."
   ]
  },
  {
   "cell_type": "markdown",
   "metadata": {},
   "source": [
    "<center><img src=\"images/04.10.jpg\"  style=\"width: 400px, height: 300px;\"/></center>\n"
   ]
  },
  {
   "cell_type": "markdown",
   "metadata": {},
   "source": [
    "- Industry"
   ]
  },
  {
   "cell_type": "markdown",
   "metadata": {},
   "source": [
    "# Model Evaluation"
   ]
  },
  {
   "cell_type": "markdown",
   "metadata": {},
   "source": [
    "Karina is evaluating three different supervised machine learning models for detecting fraudulent bank transactions. Karina knows that one of the weaknesses of the training data was that there are many more examples of valid transactions compared to fraudulent transactions.\n",
    "\n",
    "Below, you can see how each model predicted that a transaction was fraudulent or valid compared to how often the transaction actually was fraudulent or valid:\n",
    "\n",
    "<center><img src=\"images/04.11.jpg\"  style=\"width: 400px, height: 300px;\"/></center>\n",
    "\n",
    "According to this data, which model is the best at detecting both fraudulent and valid transactions, and why?\n"
   ]
  },
  {
   "cell_type": "markdown",
   "metadata": {},
   "source": [
    "- Decision tree - it has high rates of accuracy for both valid transactions and fraudulent transactions.\n"
   ]
  },
  {
   "cell_type": "markdown",
   "metadata": {},
   "source": [
    "# Supervised vs. unsupervised"
   ]
  },
  {
   "cell_type": "markdown",
   "metadata": {},
   "source": [
    "These days big companies across all domains now use machine learning to make data-driven decisions. This speaks to the power of machine learning and the many ways it can be applied.\n",
    "\n",
    "Stacy is a machine learning scientist at a clothing company. She has a list of tasks that need to be completed: some are best suited for supervised machine learning and others are better for unsupervised machine learning. Can you help her organize her tasks? Remember that clustering falls under unsupervised learning!"
   ]
  },
  {
   "cell_type": "markdown",
   "metadata": {},
   "source": [
    "<center><img src=\"images/04.13.jpg\"  style=\"width: 400px, height: 300px;\"/></center>\n"
   ]
  },
  {
   "cell_type": "markdown",
   "metadata": {},
   "source": [
    "# Cluster size selection"
   ]
  },
  {
   "cell_type": "markdown",
   "metadata": {},
   "source": [
    "Crystal manages operations for a meal delivery service in Houston, Texas. She has latitude and longitude data for meals requests in the past month. She'd like to create several new \"delivery hubs\" where demand has been greatest. In order to do this, she's asked a machine learning scientist to use a clustering algorithm to divide the orders into groups based on their location.\n",
    "\n",
    "The machine learning scientist isn't sure how many clusters to make. Take a look at the clustering algorithm's results using different amount of clusters.\n",
    "\n",
    "What is the most suitable number of clusters?"
   ]
  },
  {
   "cell_type": "markdown",
   "metadata": {},
   "source": [
    "<center><img src=\"images/04.14.jpg\"  style=\"width: 400px, height: 300px;\"/></center>\n"
   ]
  },
  {
   "cell_type": "markdown",
   "metadata": {},
   "source": [
    "- 4 clusters"
   ]
  }
 ],
 "metadata": {
  "kernelspec": {
   "display_name": "Python 3.8.11 ('env_py')",
   "language": "python",
   "name": "python3"
  },
  "language_info": {
   "name": "python",
   "version": "3.8.11"
  },
  "orig_nbformat": 4,
  "vscode": {
   "interpreter": {
    "hash": "1e949e87132dd83f1a7623eb88007e3532b03b66b77111be347aa4a383049722"
   }
  }
 },
 "nbformat": 4,
 "nbformat_minor": 2
}

{
 "cells": [
  {
   "cell_type": "markdown",
   "metadata": {},
   "source": [
    "# The truth is out there"
   ]
  },
  {
   "cell_type": "markdown",
   "metadata": {},
   "source": [
    "Yesterday night, you were stargazing with a friend and you saw something strange in the sky. You decide to look into UFO (Unidentified Flying Object) reports to see if anyone has seen something similar in your area. Luckily, you find a UFO reports dataset, but before analyzing it, you need to prepare the data! Here is a snapshot of the first 5 rows.\n",
    "<center><img src=\"images/03.01.jpg\"  style=\"width: 400px, height: 300px;\"/></center>\n",
    "Which of the following statements is true?"
   ]
  },
  {
   "cell_type": "markdown",
   "metadata": {},
   "source": [
    "- The third row is full of NaN values, which is unusual. You should try to understand why that is the case before taking the decision to drop or keep it."
   ]
  },
  {
   "cell_type": "markdown",
   "metadata": {},
   "source": [
    "# Are you prepared?"
   ]
  },
  {
   "cell_type": "markdown",
   "metadata": {},
   "source": [
    "Data preparation is a fundamental step, as it directly impacts the feasibility and quality of your analysis and models. Some of the following statements are true, some are false. Can you classify them correctly?"
   ]
  },
  {
   "cell_type": "markdown",
   "metadata": {},
   "source": [
    "<center><img src=\"images/03.03.jpg\"  style=\"width: 400px, height: 300px;\"/></center>\n"
   ]
  },
  {
   "cell_type": "markdown",
   "metadata": {},
   "source": [
    "# Numerical EDA"
   ]
  },
  {
   "cell_type": "markdown",
   "metadata": {},
   "source": [
    "A few years ago, KIC 8462852, also known as Tabby's star, started decreasing strongly in luminosity. We're not sure why yet, but scientists are investigating by recording observations at different times and locations.\n",
    "\n",
    "Below are some descriptive statistics on the observations. Unlike the qualitative dataset we saw in the video, the Tabby's star dataset is made of quantitative data only, so we get statistics, like the mean and median.\n",
    "```\n",
    "Luminosity Observations\n",
    "+-------+----------+\n",
    "| count | 52       |\n",
    "| mean  | 1.169356 |\n",
    "| std   | 1.230953 |\n",
    "| min   | 0.974110 |\n",
    "| 25%   | 0.995637 |\n",
    "| 50%   | 1.002465 |\n",
    "| 75%   | 1.008685 |\n",
    "| max   | 9.874800 |\n",
    "+-------+----------+\n",
    "```\n",
    "How many separate luminosity observations make up the dataset?"
   ]
  },
  {
   "cell_type": "markdown",
   "metadata": {},
   "source": [
    "- 52"
   ]
  },
  {
   "cell_type": "markdown",
   "metadata": {},
   "source": [
    "# Visual EDA"
   ]
  },
  {
   "cell_type": "markdown",
   "metadata": {},
   "source": [
    "Your friend graphed the star's luminosity using data he copied from public sources. He shows you the graph below. He concludes that scientists have it completely backwards. Scientists say the star is dimming, as the graph shows the luminosity is actually pretty flat, except one moment when it increases a lot.\n",
    "<center><img src=\"images/03.06.jpg\"  style=\"width: 400px, height: 300px;\"/></center>\n",
    "\n",
    "Which of the following statements is true?"
   ]
  },
  {
   "cell_type": "markdown",
   "metadata": {},
   "source": [
    "- Something weird is going on. That jump here is an outlier and the data should be reviewed."
   ]
  },
  {
   "cell_type": "markdown",
   "metadata": {},
   "source": [
    "# Interactive dashboards"
   ]
  },
  {
   "cell_type": "markdown",
   "metadata": {},
   "source": [
    "Dashboards are great, interactive dashboards are even better. Find here a dashboard made for tracking a website's activity. It consists of (A) average page visit length segmented by age, (B) the number of visits today, (C) the monthly active users over time, and (D) the source of traffic segmented by month.\n",
    "\n",
    "If you hover over or tap certain elements of the bar and line graphs, you'll see some interactivity that shows more detail about the selected data. You can always reset any plot to its original state by double-clicking it.\n",
    "\n",
    "Using this interactivity, how much website traffic in March was from search engines?"
   ]
  },
  {
   "cell_type": "markdown",
   "metadata": {},
   "source": [
    "- 0.389"
   ]
  },
  {
   "cell_type": "markdown",
   "metadata": {},
   "source": [
    "# Improving a dashboard"
   ]
  },
  {
   "cell_type": "markdown",
   "metadata": {},
   "source": [
    "Here's another dashboard, which you may remember from the first chapter. It's the dashboard of data collected by vibration sensors on the Brooklyn Bridge to measure the amount of traffic. Since the first chapter, you've learned more about visualization, so take a closer look at this dashboard and see if you can come up with some suggestions to improve it.\n",
    "\n",
    "Remember, some of the plots in the dashboard are interactive and may change as you interact with them. You can always reset any plot to its original state by double-clicking it.\n",
    "\n",
    "Which suggestion would you not give?\n",
    "<center><img src=\"images/03.091.jpg\"  style=\"width: 400px, height: 300px;\"/></center>\n",
    "<center><img src=\"images/03.092.jpg\"  style=\"width: 400px, height: 300px;\"/></center>\n",
    "<center><img src=\"images/03.093.jpg\"  style=\"width: 400px, height: 300px;\"/></center>\n",
    "<center><img src=\"images/03.094.jpg\"  style=\"width: 400px, height: 300px;\"/></center>\n",
    "\n"
   ]
  },
  {
   "cell_type": "markdown",
   "metadata": {},
   "source": [
    "- The y-axis in the top right \"Average Speed\" graph needs to start at 0, as opposed to 52."
   ]
  }
 ],
 "metadata": {
  "kernelspec": {
   "display_name": "Python 3.8.11 ('env_py')",
   "language": "python",
   "name": "python3"
  },
  "language_info": {
   "name": "python",
   "version": "3.8.11"
  },
  "orig_nbformat": 4,
  "vscode": {
   "interpreter": {
    "hash": "1e949e87132dd83f1a7623eb88007e3532b03b66b77111be347aa4a383049722"
   }
  }
 },
 "nbformat": 4,
 "nbformat_minor": 2
}

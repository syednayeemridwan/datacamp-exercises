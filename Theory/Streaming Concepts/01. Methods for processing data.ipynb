{
 "cells": [
  {
   "cell_type": "markdown",
   "metadata": {},
   "source": [
    "# Batch characteristics"
   ]
  },
  {
   "cell_type": "markdown",
   "metadata": {},
   "source": [
    "You've recently started a new position at a software and data consultancy as a junior data engineer. After working through some general introductory material and training, your manager and your team have started to ask for your assistance on various projects.\n",
    "\n",
    "Since learning about batch processing, you come across some documentation for a data process in your notes. Your manager has asked you to classify the portions in two groups: those that apply to batch processing, and those that apply to something else. For now, you decide to put non-batching characteristics in a group called Other until your knowledge of data processing increases."
   ]
  },
  {
   "cell_type": "markdown",
   "metadata": {},
   "source": [
    "<center><img src=\"images/01.02.jpg\"  style=\"width: 400px, height: 300px;\"/></center>"
   ]
  },
  {
   "cell_type": "markdown",
   "metadata": {},
   "source": [
    "# Batch ordering"
   ]
  },
  {
   "cell_type": "markdown",
   "metadata": {},
   "source": [
    "Your manager overhears you discussing batching with a colleague and asks you to stop by for a quick chat. She has recently read a proposal from sales for a given process to read, parse, and store some order data on a regular interval until complete. She's not sure the order described makes sense and would like you to help place the tasks in the correct sequence.\n",
    "\n",
    "The tasks in question involve reading groups of no more than 10 files in a given round and there are expected to be 15-18 files on any given instance."
   ]
  },
  {
   "cell_type": "markdown",
   "metadata": {},
   "source": [
    "<center><img src=\"images/01.03.jpg\"  style=\"width: 400px, height: 300px;\"/></center>\n"
   ]
  },
  {
   "cell_type": "markdown",
   "metadata": {},
   "source": [
    "# On the scale"
   ]
  },
  {
   "cell_type": "markdown",
   "metadata": {},
   "source": [
    "Your manager sends you an email outlining some performance upgrades that the IT group has made available to improve a data process. She's worried as the sales team is forecasting some new purchases, but before determining exactly what should be done, she asks you to help her understand what type of scaling would be used by implementing the given upgrade."
   ]
  },
  {
   "cell_type": "markdown",
   "metadata": {},
   "source": [
    "<center><img src=\"images/01.05.jpg\"  style=\"width: 400px, height: 300px;\"/></center>\n"
   ]
  },
  {
   "cell_type": "markdown",
   "metadata": {},
   "source": [
    "# Horizontally opposed"
   ]
  },
  {
   "cell_type": "markdown",
   "metadata": {},
   "source": [
    "During a team meeting, there's a small argument between a couple of your colleagues about what type of scaling is the best. As you've learned, it's often preferable to provide simple factual answers to help clear up these kinds of problems.\n",
    "\n",
    "After listening to the issues, given the following scaling options, which statement is not true regarding horizontal scaling?"
   ]
  },
  {
   "cell_type": "markdown",
   "metadata": {},
   "source": [
    "- Horizontal scaling is always more cost effective than vertical scaling."
   ]
  },
  {
   "cell_type": "markdown",
   "metadata": {},
   "source": [
    "# Batch problems"
   ]
  },
  {
   "cell_type": "markdown",
   "metadata": {},
   "source": [
    "While getting some water in the break room, a member of your team tells you about their concerns regarding the use of batch processing. She asks for your opinion.\n",
    "\n",
    "Which of the following is not a potential problem when using a batch methodology?"
   ]
  },
  {
   "cell_type": "markdown",
   "metadata": {},
   "source": [
    "- Batches of data cannot be processed in parallel."
   ]
  },
  {
   "cell_type": "markdown",
   "metadata": {},
   "source": [
    "# Batch scenarios"
   ]
  },
  {
   "cell_type": "markdown",
   "metadata": {},
   "source": [
    "You've learned a bit about using batch processing to handle common data oriented scenarios. One of your colleagues believes that batch processing is appropriate for every situation, but you're not so sure. Consider each of the following scenarios and decide whether it would make a good case for using batch processing.\n",
    "\n",
    "- Order processing - Consider a website selling physical goods and the entire process to get the order to the customer.\n",
    "- Internet audio - Listening to your favorite songs online.\n",
    "- Machine Learning (ML) training - The process of building a machine learning model based on large amounts of data.\n",
    "- Software compilation - Turning software source code into an executable program or programs.\n",
    "- Fraud detection - Determining whether a credit card charge is likely valid."
   ]
  },
  {
   "cell_type": "markdown",
   "metadata": {},
   "source": [
    "<center><img src=\"images/01.09.jpg\"  style=\"width: 400px, height: 300px;\"/></center>\n"
   ]
  }
 ],
 "metadata": {
  "kernelspec": {
   "display_name": "Python 3.8.11 ('env_py')",
   "language": "python",
   "name": "python3"
  },
  "language_info": {
   "name": "python",
   "version": "3.8.11"
  },
  "orig_nbformat": 4,
  "vscode": {
   "interpreter": {
    "hash": "1e949e87132dd83f1a7623eb88007e3532b03b66b77111be347aa4a383049722"
   }
  }
 },
 "nbformat": 4,
 "nbformat_minor": 2
}

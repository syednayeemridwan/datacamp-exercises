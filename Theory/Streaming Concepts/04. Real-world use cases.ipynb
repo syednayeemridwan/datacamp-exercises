{
 "cells": [
  {
   "cell_type": "markdown",
   "metadata": {},
   "source": [
    "# Streaming truths"
   ]
  },
  {
   "cell_type": "markdown",
   "metadata": {},
   "source": [
    "After learning about the basics of some streaming data systems, you decide to make sure you understand the attributes of each tool. This should help you in the future when you need to match requirements to tools that are available."
   ]
  },
  {
   "cell_type": "markdown",
   "metadata": {},
   "source": [
    "<center><img src=\"images/04.02.jpg\"  style=\"width: 400px, height: 300px;\"/></center>\n"
   ]
  },
  {
   "cell_type": "markdown",
   "metadata": {},
   "source": [
    "# Crossing the streams..."
   ]
  },
  {
   "cell_type": "markdown",
   "metadata": {},
   "source": [
    "Now that you've successfully identified the attributes of streaming data tools, your manager asks you to look at a list of requirements and determine which system would best meet the need."
   ]
  },
  {
   "cell_type": "markdown",
   "metadata": {},
   "source": [
    "<center><img src=\"images/04.03.jpg\"  style=\"width: 400px, height: 300px;\"/></center>\n"
   ]
  },
  {
   "cell_type": "markdown",
   "metadata": {},
   "source": [
    "# Message components"
   ]
  },
  {
   "cell_type": "markdown",
   "metadata": {},
   "source": [
    "After reviewing some use cases for streaming data, your manager asks you to look at the data requirements provided by a client and determine the information that should be included with each user interaction event. She wants to verify that all needed information is required, but that the messages are as small as possible. This client is considering an application such as a streaming video service, where they are most interested in user interactions with their media player, and to support analytical research of inferred insights."
   ]
  },
  {
   "cell_type": "markdown",
   "metadata": {},
   "source": [
    "<center><img src=\"images/04.05.jpg\"  style=\"width: 400px, height: 300px;\"/></center>\n"
   ]
  },
  {
   "cell_type": "markdown",
   "metadata": {},
   "source": [
    "# Answer me this..."
   ]
  },
  {
   "cell_type": "markdown",
   "metadata": {},
   "source": [
    "Your client has a set of analytical questions they'd like to be able to answer based on information the application is currently logging. Your team lead has asked you to look at the information being logged and try to determine if they could answer the questions. An example log message is shown below, along with the general format of the messages.\n",
    "\n",
    "client_id, timestamp, action_taken, action_details\n",
    "14365892, 20210915 15:14:00, Video skipped, Blade Runner\n",
    "Note that action_taken is one of 4 options: Video liked, Video skipped, Video rewatched, Genre liked. The action_details field includes appropriate information, such as the video name or identifier. Also assume that the only data currently available is the information in this log."
   ]
  },
  {
   "cell_type": "markdown",
   "metadata": {},
   "source": [
    "<center><img src=\"images/04.06.jpg\"  style=\"width: 400px, height: 300px;\"/></center>\n"
   ]
  },
  {
   "cell_type": "markdown",
   "metadata": {},
   "source": [
    "# Great order of the SLAs"
   ]
  },
  {
   "cell_type": "markdown",
   "metadata": {},
   "source": [
    "You've realized that one of your clients has many different SLA needs within their application. Your manager has asked you to arrange the event types included in the appropriate order of importance. The client needs the specifications for their connected doorbell device."
   ]
  },
  {
   "cell_type": "markdown",
   "metadata": {},
   "source": [
    "<center><img src=\"images/04.08.jpg\"  style=\"width: 400px, height: 300px;\"/></center>\n"
   ]
  },
  {
   "cell_type": "markdown",
   "metadata": {},
   "source": [
    "# Sensor scaling considerations"
   ]
  },
  {
   "cell_type": "markdown",
   "metadata": {},
   "source": [
    "You've been assigned to a team working with various sensor data projects. The lead has asked you to look at the best way to scale these systems based on the requirements for each project."
   ]
  },
  {
   "cell_type": "markdown",
   "metadata": {},
   "source": [
    "<center><img src=\"images/04.09.jpg\"  style=\"width: 400px, height: 300px;\"/></center>\n"
   ]
  },
  {
   "cell_type": "markdown",
   "metadata": {},
   "source": [
    "# Vaccination clinic - classify areas"
   ]
  },
  {
   "cell_type": "markdown",
   "metadata": {},
   "source": [
    "Now that you've worked through the concepts in this course, your manager would like you to classify each of the following areas of the vaccination clinic. Place each into the type of data process that best models how people would move through that area.\n",
    "\n",
    "Areas:\n",
    "\n",
    "- Arrival / entrance: This represents the initial line of entry to the clinic and where the person is checked for an elevated temperature or other symptoms. There is only a single line into the clinic.\n",
    "- Registration: Check-in and information validation. There are multiple registrars in this area.\n",
    "- Vaccine administration: Actual application of the vaccine. There are multiple vaccine stations.\n",
    "- Monitoring: Area where people are monitored for possible reactions post-vaccine application. There are 10-15 spaces for people, but each must wait at least 15 minutes prior to departure.\n",
    "- Departure: The area where people can leave the clinic.\n",
    "- Remember that while it is possible to model a process in various ways, we want to select the most efficient option for each area. Note: while there could be lines (queues) between stations, we'll ignore that situation for this instance. Consider only the behavior within the station itself for this exercise."
   ]
  },
  {
   "cell_type": "markdown",
   "metadata": {},
   "source": [
    "<center><img src=\"images/04.11.jpg\"  style=\"width: 400px, height: 300px;\"/></center>\n"
   ]
  },
  {
   "cell_type": "markdown",
   "metadata": {},
   "source": [
    "# A new problem..."
   ]
  },
  {
   "cell_type": "markdown",
   "metadata": {},
   "source": [
    "Your company's clients have been really impressed with your suggestions and your manager is pleased. A new client, a credit card company, has requested some assistance in designing a pipeline to make use of streaming technologies. The credit card company is primarily concerned about fraudulent activity and wants to make certain that any incoming transactions are run through their fraud prediction models as quickly as possible. They would also like to run some analysis on the information, so it needs to be made available to their users in a timely manner.\n",
    "\n",
    "Your manager has asked you to classify the areas of their transaction pipelines with the best style of data processing that meets their needs."
   ]
  },
  {
   "cell_type": "markdown",
   "metadata": {},
   "source": [
    "<center><img src=\"images/04.12.jpg\"  style=\"width: 400px, height: 300px;\"/></center>\n"
   ]
  }
 ],
 "metadata": {
  "kernelspec": {
   "display_name": "Python 3.8.11 ('env_py')",
   "language": "python",
   "name": "python3"
  },
  "language_info": {
   "name": "python",
   "version": "3.8.11"
  },
  "orig_nbformat": 4,
  "vscode": {
   "interpreter": {
    "hash": "1e949e87132dd83f1a7623eb88007e3532b03b66b77111be347aa4a383049722"
   }
  }
 },
 "nbformat": 4,
 "nbformat_minor": 2
}

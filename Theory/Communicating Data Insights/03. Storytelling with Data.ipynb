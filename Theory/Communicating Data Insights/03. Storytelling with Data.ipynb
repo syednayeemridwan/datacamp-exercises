{
 "cells": [
  {
   "cell_type": "markdown",
   "metadata": {},
   "source": [
    "# Building a story"
   ]
  },
  {
   "cell_type": "markdown",
   "metadata": {},
   "source": [
    "You recently started working at Buildingsway, on your first day you are asked to brief the team on data storytelling. You compile a presentation and list out the reasons why data storytelling is so powerful.\n",
    "\n",
    "Looking over your list you realize one of your statements is false. Select which one it is."
   ]
  },
  {
   "cell_type": "markdown",
   "metadata": {},
   "source": [
    "- Colleagues will trust a data story more than if you present raw data instead."
   ]
  },
  {
   "cell_type": "markdown",
   "metadata": {},
   "source": [
    "# Important call"
   ]
  },
  {
   "cell_type": "markdown",
   "metadata": {},
   "source": [
    "After your presentation to your colleagues at Buildingsway, you asked the audience to share what they learned about data storytelling and how they plan on leveraging data stories.\n",
    "\n",
    "Some of your colleagues missed parts of your presentation because of an important client call."
   ]
  },
  {
   "cell_type": "markdown",
   "metadata": {},
   "source": [
    "<center><img src=\"images/03.03.jpg\"  style=\"width: 400px, height: 300px;\"/></center>\n"
   ]
  },
  {
   "cell_type": "markdown",
   "metadata": {},
   "source": [
    "# Defining the goal"
   ]
  },
  {
   "cell_type": "markdown",
   "metadata": {},
   "source": [
    "Data storytelling focuses on defining three key components, narrative, visualization, and context, to communicate data insights. These components each achieve a specific goal for the story.\n",
    "\n",
    "Which of the following does not describe the objective of the three components?"
   ]
  },
  {
   "cell_type": "markdown",
   "metadata": {},
   "source": [
    "- Illustrate to the audience how difficult it was to uncover the insights."
   ]
  },
  {
   "cell_type": "markdown",
   "metadata": {},
   "source": [
    "# Narrative and context"
   ]
  },
  {
   "cell_type": "markdown",
   "metadata": {},
   "source": [
    "Data stories come in many shapes and sizes; identifying the key parts of a story is essential to evaluating and growing your data storytelling skills.\n",
    "\n",
    "You decide to focus on distinguishing between what is narrative and what is context."
   ]
  },
  {
   "cell_type": "markdown",
   "metadata": {},
   "source": [
    "<center><img src=\"images/03.06.jpg\"  style=\"width: 400px, height: 300px;\"/></center>\n"
   ]
  },
  {
   "cell_type": "markdown",
   "metadata": {},
   "source": [
    "# Telling a good story"
   ]
  },
  {
   "cell_type": "markdown",
   "metadata": {},
   "source": [
    "Data storytelling is an expansive topic with many interesting best practices and guidelines.\n",
    "\n",
    "Which of the following guidelines should you not follow when creating a data story?"
   ]
  },
  {
   "cell_type": "markdown",
   "metadata": {},
   "source": [
    "- Plan the same message for all audiences."
   ]
  },
  {
   "cell_type": "markdown",
   "metadata": {},
   "source": [
    "# Guiding a story"
   ]
  },
  {
   "cell_type": "markdown",
   "metadata": {},
   "source": [
    "Putting a data story together requires parsing a lot of information and guidelines and utilizing them at the right moment to build the best story you can."
   ]
  },
  {
   "cell_type": "markdown",
   "metadata": {},
   "source": [
    "<center><img src=\"images/03.09.jpg\"  style=\"width: 400px, height: 300px;\"/></center>\n"
   ]
  },
  {
   "cell_type": "markdown",
   "metadata": {},
   "source": [
    "# Delivering a story"
   ]
  },
  {
   "cell_type": "markdown",
   "metadata": {},
   "source": [
    "Data stories rely on many different components coming together just right to create a unified vision.\n",
    "\n",
    "A meal delivery company is working on understanding their signups in greater detail and construct the following data story.\n",
    "<center><img src=\"images/03.10.png\"  style=\"width: 400px, height: 300px;\"/></center>\n",
    "\n"
   ]
  },
  {
   "cell_type": "markdown",
   "metadata": {},
   "source": [
    "<center><img src=\"images/03.10.jpg\"  style=\"width: 400px, height: 300px;\"/></center>\n"
   ]
  },
  {
   "cell_type": "markdown",
   "metadata": {},
   "source": [
    "# Organizing success"
   ]
  },
  {
   "cell_type": "markdown",
   "metadata": {},
   "source": [
    "Communicating data insights with data storytelling is a challenging skill to master. Working with a group of peers significantly improves your chances of success.\n",
    "\n",
    "You decide to form a group to refine your skills together. Working in your group what should you avoid doing to be successful?"
   ]
  },
  {
   "cell_type": "markdown",
   "metadata": {},
   "source": [
    "- Allow everyone to select from one of the common roles and don't allow them to switch"
   ]
  },
  {
   "cell_type": "markdown",
   "metadata": {},
   "source": [
    "# Aligning roles"
   ]
  },
  {
   "cell_type": "markdown",
   "metadata": {},
   "source": [
    "Holly is forming a new group of colleagues to work on their data storytelling skills together. She asks each prospective member what their strengths are to match them to propose roles to the group.\n",
    "\n",
    "- Julius - Fantastic analytical capabilities. Excels at uncovering deep insights.\n",
    "- Reggie - Extensive business knowledge, knows all the important initiatives.\n",
    "- Erwin - Adept at creating convincing graphs and charts\n",
    "- Holly - New to the team, unfamiliar with analytics and insights"
   ]
  },
  {
   "cell_type": "markdown",
   "metadata": {},
   "source": [
    "<center><img src=\"images/03.13.jpg\"  style=\"width: 400px, height: 300px;\"/></center>\n"
   ]
  },
  {
   "cell_type": "markdown",
   "metadata": {},
   "source": [
    "# Teamwork for success"
   ]
  },
  {
   "cell_type": "markdown",
   "metadata": {},
   "source": [
    "Working together as a group is a great way to enhance data communication skills and start telling great stories.\n",
    "\n",
    "- Caroline is working on improving the data storytelling skills of her team. She has devised a list of tasks her team can complete while constructing a story.\n",
    "- Caroline's team consists of three members; each team member has submitted a brief data skills profile.\n",
    "- Lisa: The data expert has a clear vision of the dataset and insights. (analyst)\n",
    "- George: The business expert has a comprehensive view of how the insights impact other business areas but is unfamiliar with the inner workings of the dataset. (SME)\n",
    "- Leslie: Visualization expert, advanced understanding of communicating data clearly and concisely to reach the intended audience. (Visualizer)"
   ]
  },
  {
   "cell_type": "markdown",
   "metadata": {},
   "source": [
    "<center><img src=\"images/03.14.jpg\"  style=\"width: 400px, height: 300px;\"/></center>\n"
   ]
  }
 ],
 "metadata": {
  "kernelspec": {
   "display_name": "Python 3.8.11 ('env_py')",
   "language": "python",
   "name": "python3"
  },
  "language_info": {
   "name": "python",
   "version": "3.8.11"
  },
  "orig_nbformat": 4,
  "vscode": {
   "interpreter": {
    "hash": "1e949e87132dd83f1a7623eb88007e3532b03b66b77111be347aa4a383049722"
   }
  }
 },
 "nbformat": 4,
 "nbformat_minor": 2
}

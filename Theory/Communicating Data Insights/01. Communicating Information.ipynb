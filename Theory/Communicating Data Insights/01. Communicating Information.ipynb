{
 "cells": [
  {
   "cell_type": "markdown",
   "metadata": {},
   "source": [
    "# Communication types"
   ]
  },
  {
   "cell_type": "markdown",
   "metadata": {},
   "source": [
    "Blending different communication styles creates powerful messaging. Which of the following is not an accurate summary of the type of communication someone may utilize when sharing information?"
   ]
  },
  {
   "cell_type": "markdown",
   "metadata": {},
   "source": [
    "- Visual communication isn't formal enough to be taken seriously on its own and requires other forms to be effective."
   ]
  },
  {
   "cell_type": "markdown",
   "metadata": {},
   "source": [
    "# Communication journey"
   ]
  },
  {
   "cell_type": "markdown",
   "metadata": {},
   "source": [
    "Tyler, a marketing intern for a national bakery, is working on sharing some of his results with a coworker, Matt.\n",
    "\n",
    "Tyler decides that a video call will be the best way to talk through his findings.\n",
    "\n",
    "During the call, Tyler sees Matt looking away from the call and sending messages to other coworkers and realizes that Matt isn't engaged with hearing the results during the call.\n",
    "\n",
    "Tyler decides to follow up his call with a quick email containing a chart of the results he was trying to share, grabbing Matt's attention.\n",
    "\n",
    "Matt asks Tyler for more information and Tyler sends over the rest of the written report for Matt to review."
   ]
  },
  {
   "cell_type": "markdown",
   "metadata": {},
   "source": [
    "<center><img src=\"images/01.03.jpg\"  style=\"width: 400px, height: 300px;\"/></center>"
   ]
  },
  {
   "cell_type": "markdown",
   "metadata": {},
   "source": [
    "# Becoming a more effective communicator"
   ]
  },
  {
   "cell_type": "markdown",
   "metadata": {},
   "source": [
    "When trying to improve communication methods it is important to consider the strengths and weaknesses for each of the four types. Which of the following statements is not a guideline for improving communication?"
   ]
  },
  {
   "cell_type": "markdown",
   "metadata": {},
   "source": [
    "- Rely on complex visualizations to simplify concepts."
   ]
  },
  {
   "cell_type": "markdown",
   "metadata": {},
   "source": [
    "# Insightful characteristics"
   ]
  },
  {
   "cell_type": "markdown",
   "metadata": {},
   "source": [
    "Which of the following is not a required characteristic of an actionable insight?"
   ]
  },
  {
   "cell_type": "markdown",
   "metadata": {},
   "source": [
    "- Creates large impacts on business processes and procedures."
   ]
  },
  {
   "cell_type": "markdown",
   "metadata": {},
   "source": [
    "# Insightful journey"
   ]
  },
  {
   "cell_type": "markdown",
   "metadata": {},
   "source": [
    "Gabriel is working on improving his organization's approach to scheduling resources. Gabriel's organization is looking for a data driven solution and tasks him with uncovering insights to guide their decision."
   ]
  },
  {
   "cell_type": "markdown",
   "metadata": {},
   "source": [
    "<center><img src=\"images/01.07.jpg\"  style=\"width: 400px, height: 300px;\"/></center>\n"
   ]
  },
  {
   "cell_type": "markdown",
   "metadata": {},
   "source": [
    "# Audience information"
   ]
  },
  {
   "cell_type": "markdown",
   "metadata": {},
   "source": [
    "Harold, an analyst at Buildingsway, is working on a presentation for a new stakeholder, Elise.\n",
    "\n",
    "Harold has never met this stakeholder and is reaching out to Elise and his contacts within Buildingsway to gather information to prepare."
   ]
  },
  {
   "cell_type": "markdown",
   "metadata": {},
   "source": [
    "<center><img src=\"images/01.09.jpg\"  style=\"width: 400px, height: 300px;\"/></center>\n"
   ]
  },
  {
   "cell_type": "markdown",
   "metadata": {},
   "source": [
    "# Factoring importance"
   ]
  },
  {
   "cell_type": "markdown",
   "metadata": {},
   "source": [
    "Communicating insights has many different factors that come together and interact heavily with each other. What is the most important aspect to consider when communicating data insights?"
   ]
  },
  {
   "cell_type": "markdown",
   "metadata": {},
   "source": [
    "- How the message interacts with the intended recipients ( audience is at the heart of every aspect of communicating)."
   ]
  },
  {
   "cell_type": "markdown",
   "metadata": {},
   "source": [
    "# Communication framework"
   ]
  },
  {
   "cell_type": "markdown",
   "metadata": {},
   "source": [
    "Communicating effectively requires having a clear objective and following a framework for success.\n",
    "\n",
    "Kevin is creating a presentation for a new client he has never met before. This client is interested in signing up for Kevin's analytics service and wants to know key details before making the purchase.\n",
    "\n",
    "Kevin needs to determine how he should approach communicating with the client to earn their business."
   ]
  },
  {
   "cell_type": "markdown",
   "metadata": {},
   "source": [
    "<center><img src=\"images/01.11.jpg\"  style=\"width: 400px, height: 300px;\"/></center>\n"
   ]
  }
 ],
 "metadata": {
  "kernelspec": {
   "display_name": "Python 3.8.11 ('env_py')",
   "language": "python",
   "name": "python3"
  },
  "language_info": {
   "name": "python",
   "version": "3.8.11"
  },
  "orig_nbformat": 4,
  "vscode": {
   "interpreter": {
    "hash": "1e949e87132dd83f1a7623eb88007e3532b03b66b77111be347aa4a383049722"
   }
  }
 },
 "nbformat": 4,
 "nbformat_minor": 2
}

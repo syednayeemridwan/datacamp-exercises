{
 "cells": [
  {
   "cell_type": "markdown",
   "metadata": {},
   "source": [
    "# Identify situation, opportunity and action"
   ]
  },
  {
   "cell_type": "markdown",
   "metadata": {},
   "source": [
    "When scoping out the business requirements for machine learning project, it's very important to follow the right steps. Here, you're presented with a list of statements. You need to match them with different topics of the business requirement scoping process."
   ]
  },
  {
   "cell_type": "markdown",
   "metadata": {},
   "source": [
    "<center><img src=\"images/03.02.jpg\"  style=\"width: 400px, height: 300px;\"/></center>\n"
   ]
  },
  {
   "cell_type": "markdown",
   "metadata": {},
   "source": [
    "# Identify successful experiments"
   ]
  },
  {
   "cell_type": "markdown",
   "metadata": {},
   "source": [
    "Machine learning (ML) outputs have to be tested through experiments in order to make sure the identified opportunity can be achieved. Below you will find a list of three ML initiatives, business scope and their test results. Identify which one has NOT reached the expected opportunity and should NOT be scaled up as the standard way of operating?"
   ]
  },
  {
   "cell_type": "markdown",
   "metadata": {},
   "source": [
    "- A beauty products company started seeing a lower number of customers reaching their \"Gold Status\" which requires meeting certain level of annual spending and other criteria. The competition has been much more active lately. The company decided to build an ML model identifying potential \"Gold Status\" customers early after they joined the company, and giving them extra discounts, more focused customer service and other incentives. The company ran a test on half of its customers using ML prediction. The conversion rate to \"Gold Status\" has increased for all customers.\n",
    "- Because, Since the conversion rate has been increasing to all customers, not just the targeted group, it means that the number of \"Gold Status\" conversion fluctuations have been random. The ML model is not responsible for the increase."
   ]
  },
  {
   "cell_type": "markdown",
   "metadata": {},
   "source": [
    "# Model training process"
   ]
  },
  {
   "cell_type": "markdown",
   "metadata": {},
   "source": [
    "Following the process to train machine learning models is extremely important to ensure the models are generalizable, and don't just memorize the patterns in the data for that specific sample. While the business leaders are not likely to be involved in the details, they will have to understand how the results were obtained, what the results mean, and how they should be interpreted. Which of these statements about the model training process and datasets is correct?"
   ]
  },
  {
   "cell_type": "markdown",
   "metadata": {},
   "source": [
    "- Model is built on the training dataset, then its performance is validated on the validation dataset, and finally on the test dataset."
   ]
  },
  {
   "cell_type": "markdown",
   "metadata": {},
   "source": [
    "# Training, validation and test"
   ]
  },
  {
   "cell_type": "markdown",
   "metadata": {},
   "source": [
    "You can see a list of machine learning tasks on the right. Your task is to identify if they should be done on the training or test datasets."
   ]
  },
  {
   "cell_type": "markdown",
   "metadata": {},
   "source": [
    "<center><img src=\"images/03.06.jpg\"  style=\"width: 400px, height: 300px;\"/></center>\n"
   ]
  },
  {
   "cell_type": "markdown",
   "metadata": {},
   "source": [
    "# Poor performance examples"
   ]
  },
  {
   "cell_type": "markdown",
   "metadata": {},
   "source": [
    "For a business leader it is critical to understand how the model is performing, and where it fails to predict. There is a (in)famous saying about ML models - \"All models are wrong but some are useful\". The useful part is to understand how it can be leveraged to help the business optimize its operations. Here, you will review several model performance metrics with business conclusions and identify which statement is incorrect."
   ]
  },
  {
   "cell_type": "markdown",
   "metadata": {},
   "source": [
    "- The manufacturing company wants to predict which items on its production line are faulty. The model is built and it identifies 50% of total faulty products (50% recall), and from the ones identified as faulty around 95% actually are (95% precision). The company decides to continue the manual process as identifying only half of faulty products is not going to help. They need 100% recall and 100% precision."
   ]
  },
  {
   "cell_type": "markdown",
   "metadata": {},
   "source": [
    "# Identify performance metrics"
   ]
  },
  {
   "cell_type": "markdown",
   "metadata": {},
   "source": [
    "Here you will be given a set of model performance metrics, and will have to identify what kind of performance metrics are they - precision (classification), recall (classification) or error (regression).\n",
    "\n",
    "CHEATSHEET: Precision measures how many of the predictions of that class turned out to be true. Recall measures how many of the total observations of that class the prediction was able to capture (or recall). Regression error calculates how far away the prediction is from the observed number."
   ]
  },
  {
   "cell_type": "markdown",
   "metadata": {},
   "source": [
    "<center><img src=\"images/03.09.jpg\"  style=\"width: 400px, height: 300px;\"/></center>\n"
   ]
  },
  {
   "cell_type": "markdown",
   "metadata": {},
   "source": [
    "# Fixing non performing models"
   ]
  },
  {
   "cell_type": "markdown",
   "metadata": {},
   "source": [
    "Once the business runs a number of structured AB tests based on the machine learning predictions and gets negative results, it has to re-group and rethink the strategy again. Which of these is  the right action to take in such a situation?"
   ]
  },
  {
   "cell_type": "markdown",
   "metadata": {},
   "source": [
    "\n",
    "- Get more data.\n",
    "- Run qualitative research e.g. surveys.\n",
    "- Change the scope of the problem."
   ]
  },
  {
   "cell_type": "markdown",
   "metadata": {},
   "source": [
    "# Non-actionable models"
   ]
  },
  {
   "cell_type": "markdown",
   "metadata": {},
   "source": [
    "Identifying failed experiments and models that have not helped with driving the desired business outcomes is important: it helps ensure resources are allocated to the areas with the most business impact. Below are three results from a churn prevention test based on the ML model output. Which one performed the best and should be chosen for the implementation in the main production systems?"
   ]
  },
  {
   "cell_type": "markdown",
   "metadata": {},
   "source": [
    "- Half of the customers with a high predicted probability to churn have been getting promotions and discounts on the items they were interested in (also predicted by ML). The company has observed a reduction in churn for that group by at least 3% and increase in overall purchase frequency."
   ]
  },
  {
   "cell_type": "markdown",
   "metadata": {},
   "source": [
    "# Identify actionable recommendations"
   ]
  },
  {
   "cell_type": "markdown",
   "metadata": {},
   "source": [
    "John has built a prototype machine learning model predicting the number of hours the customer will play on the online gaming website next month. He is presenting insights and recommendations. The top 5 most important variables are listed in the barplot, each with a coefficient which shows how much each variable affects the number of active hours for an average customer next month.\n",
    "\n",
    "How would you interpret the results and what kind of initiatives would you start? Select one that DOES NOT apply."
   ]
  },
  {
   "cell_type": "markdown",
   "metadata": {},
   "source": [
    "<center><img src=\"images/03.13.jpg\"  style=\"width: 400px, height: 300px;\"/></center>\n"
   ]
  },
  {
   "cell_type": "markdown",
   "metadata": {},
   "source": [
    "- Reduce the price for the add-ons to zero. Because, you always need to look into the coefficients and double check if the business recommendations align the signals from the model."
   ]
  }
 ],
 "metadata": {
  "kernelspec": {
   "display_name": "Python 3.8.11 ('env_py')",
   "language": "python",
   "name": "python3"
  },
  "language_info": {
   "name": "python",
   "version": "3.8.11"
  },
  "orig_nbformat": 4,
  "vscode": {
   "interpreter": {
    "hash": "1e949e87132dd83f1a7623eb88007e3532b03b66b77111be347aa4a383049722"
   }
  }
 },
 "nbformat": 4,
 "nbformat_minor": 2
}

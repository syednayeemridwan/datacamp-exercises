{
 "cells": [
  {
   "cell_type": "markdown",
   "metadata": {},
   "source": [
    "# Identify machine learning mistakes"
   ]
  },
  {
   "cell_type": "markdown",
   "metadata": {},
   "source": [
    "It's important to identify the situations in the machine learning development process where a mistake might be happening. Below you see a list of situations, identify the one that is a machine learning mistake."
   ]
  },
  {
   "cell_type": "markdown",
   "metadata": {},
   "source": [
    "\n",
    "- Not having enough data.\n",
    "- Poor target variable definition.\n",
    "- Delaying market testing to push incremental improvements to the model."
   ]
  },
  {
   "cell_type": "markdown",
   "metadata": {},
   "source": [
    "# Data needs pyramid"
   ]
  },
  {
   "cell_type": "markdown",
   "metadata": {},
   "source": [
    "The data pyramid represents how value gets created with data, and how to ensure there are no gaps in the process. It's important for business leaders to understand which needs should be met first and which later, and structure their organization's data resources accordingly.\n",
    "\n",
    "You're going to order the needs from the first (bottom of the pyramid) to the very last (top of the pyramid). Foundational needs should be in the bottom and the most advanced analytic methods on the top."
   ]
  },
  {
   "cell_type": "markdown",
   "metadata": {},
   "source": [
    "<center><img src=\"images/04.03.jpg\"  style=\"width: 400px, height: 300px;\"/></center>\n"
   ]
  },
  {
   "cell_type": "markdown",
   "metadata": {},
   "source": [
    "# Match ML mistakes by their types"
   ]
  },
  {
   "cell_type": "markdown",
   "metadata": {},
   "source": [
    "It is vital to spot situations where machine learning team might be too focused on the methodology or are just excited about the science behind the project, but the business case is not strong, or the company is not be ready to execute on the ML model outputs. Below you will see a few situations, and will have to identify which of the ML mistake types they belong to."
   ]
  },
  {
   "cell_type": "markdown",
   "metadata": {},
   "source": [
    "<center><img src=\"images/04.04.jpg\"  style=\"width: 400px, height: 300px;\"/></center>\n"
   ]
  },
  {
   "cell_type": "markdown",
   "metadata": {},
   "source": [
    "# Business communication focus"
   ]
  },
  {
   "cell_type": "markdown",
   "metadata": {},
   "source": [
    "It's important to focus the business and machine learning communication on the right things. Below you will see a list of topics that are included in the proposed weekly machine learning model agenda. Which of these topics is NOT relevant for the business audience and should be decided by the ML team only?"
   ]
  },
  {
   "cell_type": "markdown",
   "metadata": {},
   "source": [
    "- Discussing machine learning algorithm nuances. Because the business team does not care, nor has the expertise to provide inputs into algorithmic discussion."
   ]
  },
  {
   "cell_type": "markdown",
   "metadata": {},
   "source": [
    "# Market testing"
   ]
  },
  {
   "cell_type": "markdown",
   "metadata": {},
   "source": [
    "Market testing is extremely important to ensure that the model is useful and can drive desired business outcomes. The way to do this is through running structured experiments - they could be experiments with customers, systems, or even machines e.g. testing if preventive maintenance of manufacturing machines identified to be at risk of failure by ML would extend their lifetime and maintenance costs.\n",
    "\n",
    "Here, you will sort the market testing steps from first to the last."
   ]
  },
  {
   "cell_type": "markdown",
   "metadata": {},
   "source": [
    "<center><img src=\"images/04.07.jpg\"  style=\"width: 400px, height: 300px;\"/></center>\n"
   ]
  },
  {
   "cell_type": "markdown",
   "metadata": {},
   "source": [
    "# Production systems"
   ]
  },
  {
   "cell_type": "markdown",
   "metadata": {},
   "source": [
    "There are thousands of different production systems in the world, but there are certain nuances that separate them, as they are live, customer facing and critical to the business.\n",
    "\n",
    "Below is a list of examples of production systems. Identify which of these items is NOT a production system."
   ]
  },
  {
   "cell_type": "markdown",
   "metadata": {},
   "source": [
    "- Weekly business report stored as a spreadsheet file in company's shared drive. Because This is not a production system - just a file. However, it's possible that there's a production system automatically producing this file."
   ]
  },
  {
   "cell_type": "markdown",
   "metadata": {},
   "source": [
    "# Production systems ML use cases"
   ]
  },
  {
   "cell_type": "markdown",
   "metadata": {},
   "source": [
    "We have seen multiple types of production systems. Now, we will look into some specific machine learning in production examples, and you will have to match them with appropriate types of production systems."
   ]
  },
  {
   "cell_type": "markdown",
   "metadata": {},
   "source": [
    "<center><img src=\"images/04.10.jpg\"  style=\"width: 400px, height: 300px;\"/></center>\n"
   ]
  },
  {
   "cell_type": "markdown",
   "metadata": {},
   "source": [
    "# ML in production launch"
   ]
  },
  {
   "cell_type": "markdown",
   "metadata": {},
   "source": [
    "Deploying machine learning models into production systems is a complex task, and requires caution and close business involvement to make sure customers are not negatively affected. Releasing slowly and to a limited audience, tracking results and feedback is critical to ensure a smooth launch and early detection of any possible issues."
   ]
  },
  {
   "cell_type": "markdown",
   "metadata": {},
   "source": [
    "<center><img src=\"images/04.11.jpg\"  style=\"width: 400px, height: 300px;\"/></center>\n"
   ]
  }
 ],
 "metadata": {
  "kernelspec": {
   "display_name": "Python 3.8.11 ('env_py')",
   "language": "python",
   "name": "python3"
  },
  "language_info": {
   "name": "python",
   "version": "3.8.11"
  },
  "orig_nbformat": 4,
  "vscode": {
   "interpreter": {
    "hash": "1e949e87132dd83f1a7623eb88007e3532b03b66b77111be347aa4a383049722"
   }
  }
 },
 "nbformat": 4,
 "nbformat_minor": 2
}

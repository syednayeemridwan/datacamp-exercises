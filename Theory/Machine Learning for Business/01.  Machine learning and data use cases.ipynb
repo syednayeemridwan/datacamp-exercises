{
 "cells": [
  {
   "cell_type": "markdown",
   "metadata": {},
   "source": [
    "# Terminology clarification"
   ]
  },
  {
   "cell_type": "markdown",
   "metadata": {},
   "source": [
    "With all the hype and new phrases being invented each day, it's easy to get lost and misuse some of the terms, adding to the already complex field of machine learning. Identify which of the statements about machine learning and data needs below are incorrect."
   ]
  },
  {
   "cell_type": "markdown",
   "metadata": {},
   "source": [
    "- Machine Learning can be done at any point in the data pyramid as its algorithmic power can overcome challenges with data quality."
   ]
  },
  {
   "cell_type": "markdown",
   "metadata": {},
   "source": [
    "# Order data pyramid needs"
   ]
  },
  {
   "cell_type": "markdown",
   "metadata": {},
   "source": [
    "The data pyramid represents how value gets created with data, and how to ensure there are no gaps in the process. It's important for business leaders to understand which needs should be met first and which later, and structure their organization's data resources accordingly. In this exercise, you will order the needs. What happens first (foundational needs) should be at the bottom, and what happens last (the most advanced analytic methods) should be at the top."
   ]
  },
  {
   "cell_type": "markdown",
   "metadata": {},
   "source": [
    "<center><img src=\"images/01.03.jpg\"  style=\"width: 400px, height: 300px;\"/></center>\n"
   ]
  },
  {
   "cell_type": "markdown",
   "metadata": {},
   "source": [
    "# Match tasks in data pyramid"
   ]
  },
  {
   "cell_type": "markdown",
   "metadata": {},
   "source": [
    "Once a company starts working on their data and analytics roadmap, it's important to understand where these tasks fall within the data needs pyramid, and how many projects there are in different areas. In this exercise, you should match the tasks with the right place in the data needs pyramid."
   ]
  },
  {
   "cell_type": "markdown",
   "metadata": {},
   "source": [
    "<center><img src=\"images/01.04.jpg\"  style=\"width: 400px, height: 300px;\"/></center>\n"
   ]
  },
  {
   "cell_type": "markdown",
   "metadata": {},
   "source": [
    "# Modeling types"
   ]
  },
  {
   "cell_type": "markdown",
   "metadata": {},
   "source": [
    "There are many differences between supervised and unsupervised machine learning types, and it's important to understand how each can be used in a business setting. Review the following statements about supervised and unsupervised machine learning types and identify which one is correct."
   ]
  },
  {
   "cell_type": "markdown",
   "metadata": {},
   "source": [
    "- Supervised learning uses input features to learn patterns and predict the target variable."
   ]
  },
  {
   "cell_type": "markdown",
   "metadata": {},
   "source": [
    "# Find supervised and unsupervised cases"
   ]
  },
  {
   "cell_type": "markdown",
   "metadata": {},
   "source": [
    "Supervised and unsupervised machine learning have many use cases in different industries, it's important to understand whether a project belongs to a certain machine learning type. Why is it relevant to a business leader? Because there's a fundamental difference between prediction (supervised) and pattern discovery / clustering (unsupervised) and this will help understanding the expected usage of the project and manage expectations."
   ]
  },
  {
   "cell_type": "markdown",
   "metadata": {},
   "source": [
    "<center><img src=\"images/01.07.jpg\"  style=\"width: 400px, height: 300px;\"/></center>\n"
   ]
  },
  {
   "cell_type": "markdown",
   "metadata": {},
   "source": [
    "# Job role responsibilities"
   ]
  },
  {
   "cell_type": "markdown",
   "metadata": {},
   "source": [
    "In any company, it's very important to hire the right people to work on the existing data needs to make sure their skills and motivations are aligned with the company's data maturity and goals. In this exercise, you will review several data needs and business situations, and will identify which decision is incorrect."
   ]
  },
  {
   "cell_type": "markdown",
   "metadata": {},
   "source": [
    "- A data analyst at a manufacturing company has spotted weird outlier data points in the readings from the machine sensors. He shared the results with the leadership and their decision is to build a machine learning model right away that will identify any outliers automatically in the operating system of the manufacturing machines and send a signal to the employees operating it."
   ]
  },
  {
   "cell_type": "markdown",
   "metadata": {},
   "source": [
    "# Match data projects with job roles"
   ]
  },
  {
   "cell_type": "markdown",
   "metadata": {},
   "source": [
    "Imagine you are building an analytics, engineering, data science and machine learning organization at a large bank with functional managers reporting to you. You have to review the project roadmap to make sure each different function gets the right financing."
   ]
  },
  {
   "cell_type": "markdown",
   "metadata": {},
   "source": [
    "<center><img src=\"images/01.10.jpg\"  style=\"width: 400px, height: 300px;\"/></center>\n"
   ]
  },
  {
   "cell_type": "markdown",
   "metadata": {},
   "source": [
    "# Team structure types"
   ]
  },
  {
   "cell_type": "markdown",
   "metadata": {},
   "source": [
    "While the data functions can be organized in many different ways, there are three fundamental operating models that the business can start with and adjust based on their corporate structure and business dynamics. In this exercise, you will review a certain data team structure, and identify if this is a centralized, decentralized or a hybrid model."
   ]
  },
  {
   "cell_type": "markdown",
   "metadata": {},
   "source": [
    "<center><img src=\"images/01.11.jpg\"  style=\"width: 400px, height: 300px;\"/></center>\n"
   ]
  }
 ],
 "metadata": {
  "kernelspec": {
   "display_name": "Python 3.8.11 ('env_py')",
   "language": "python",
   "name": "python3"
  },
  "language_info": {
   "name": "python",
   "version": "3.8.11"
  },
  "orig_nbformat": 4,
  "vscode": {
   "interpreter": {
    "hash": "1e949e87132dd83f1a7623eb88007e3532b03b66b77111be347aa4a383049722"
   }
  }
 },
 "nbformat": 4,
 "nbformat_minor": 2
}

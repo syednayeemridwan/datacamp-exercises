{
 "cells": [
  {
   "cell_type": "markdown",
   "metadata": {},
   "source": [
    "# Inference and prediction differences"
   ]
  },
  {
   "cell_type": "markdown",
   "metadata": {},
   "source": [
    "The difference between inference and prediction models is mostly in the way the business question or hypothesis is phrased. It's also important to understand the pros and cons of each. There is a trade-off between accuracy and interpretability: some models are easy to understand but do not have optimal predictions; others have excellent predictions but it's unclear how they got there. Below are several statements about the inference and prediction focused models. Select the one that is NOT correct."
   ]
  },
  {
   "cell_type": "markdown",
   "metadata": {},
   "source": [
    "- Inference models are more accurate than prediction machine learning models"
   ]
  },
  {
   "cell_type": "markdown",
   "metadata": {},
   "source": [
    "# Identify inference vs. prediction use cases"
   ]
  },
  {
   "cell_type": "markdown",
   "metadata": {},
   "source": [
    "You've learned about the inference vs. prediction dilemma - business leaders do not have to know the algorithmic nuances of the models, but defining the business questions correctly will guide the science team to correctly frame the modeling strategy. Now, you will identify which of these business questions are more likely to be a candidate for an inference (or causal) model, or instead a prediction model."
   ]
  },
  {
   "cell_type": "markdown",
   "metadata": {},
   "source": [
    "<center><img src=\"images/02.03.jpg\"  style=\"width: 400px, height: 300px;\"/></center>\n"
   ]
  },
  {
   "cell_type": "markdown",
   "metadata": {},
   "source": [
    "# Experiments and causal models"
   ]
  },
  {
   "cell_type": "markdown",
   "metadata": {},
   "source": [
    "In the video, we have discussed the importance of experiments such as website or email A/B tests and the role they play when assessing the need of causal models. Read the statements below and identify which of these is incorrect."
   ]
  },
  {
   "cell_type": "markdown",
   "metadata": {},
   "source": [
    "- Whenever possible, causal models are preferred over experiments."
   ]
  },
  {
   "cell_type": "markdown",
   "metadata": {},
   "source": [
    "# Identify non actionable variables"
   ]
  },
  {
   "cell_type": "markdown",
   "metadata": {},
   "source": [
    "Rosie’s machine learning team has deployed a machine learning model on an insurance company’s website. It predicts a purchase probability for a certain insurance type for each customer. Then, the customized recommended product with the highest probability for each customer is shown on the homepage.\n",
    "\n",
    "The website team started running AB tests and didn't see any sales increase in the customer group with machine learned recommendation compared with the group that only has generic messages on the main website. Rosie asked to review the model, and provide insights into what are the key driving variables, and how the model was designed.\n",
    "\n",
    "In the inferential models, it is important to use variables which the business can affect and has impact on versus the ones that are just correlated but are not useful.\n",
    "\n",
    "What conclusion can you draw based on the most impactful variables? Select the most important one."
   ]
  },
  {
   "cell_type": "markdown",
   "metadata": {},
   "source": [
    "<center><img src=\"images/02.06.jpg\"  style=\"width: 400px, height: 300px;\"/></center>\n"
   ]
  },
  {
   "cell_type": "markdown",
   "metadata": {},
   "source": [
    "- The most impactful variables are highly correlated with the desired outcome (interest in a product leads to product purchase) but they are not actionable. The machine learning model needs to be rebuilt using actionable inputs that the business can impact"
   ]
  },
  {
   "cell_type": "markdown",
   "metadata": {},
   "source": [
    "# Supervised modeling principles"
   ]
  },
  {
   "cell_type": "markdown",
   "metadata": {},
   "source": [
    "You have learned the fundamental principles of supervised machine learning models. Now you will read a list of several statements about supervised learning and find one that is incorrect."
   ]
  },
  {
   "cell_type": "markdown",
   "metadata": {},
   "source": [
    "- Supervised machine learning uses inputs features to discover outliers. This is the task of unsupervised learning"
   ]
  },
  {
   "cell_type": "markdown",
   "metadata": {},
   "source": [
    "# Identify classification and regression models"
   ]
  },
  {
   "cell_type": "markdown",
   "metadata": {},
   "source": [
    "You know that supervised machine learning has two types - classification and regression. While the underlying supervised learning principles are the same, they produce different outcomes. Here, you will be presented with a number of machine learning use cases, and try to identify if this is a classification or regression."
   ]
  },
  {
   "cell_type": "markdown",
   "metadata": {},
   "source": [
    "<center><img src=\"images/02.09.jpg\"  style=\"width: 400px, height: 300px;\"/></center>\n"
   ]
  },
  {
   "cell_type": "markdown",
   "metadata": {},
   "source": [
    "# Unsupervised modeling use cases"
   ]
  },
  {
   "cell_type": "markdown",
   "metadata": {},
   "source": [
    "You have reviewed the key principles to unsupervised learning and have gone through a specific example of customer segmentation. In this exercise, you will read a list of statements about unsupervised machine learning and identify which of them is correct."
   ]
  },
  {
   "cell_type": "markdown",
   "metadata": {},
   "source": [
    "- Unsupervised learning is used to identify patterns in data, build clusters or detect outliers"
   ]
  },
  {
   "cell_type": "markdown",
   "metadata": {},
   "source": [
    "# Classification, regression or unsupervised models"
   ]
  },
  {
   "cell_type": "markdown",
   "metadata": {},
   "source": [
    "Now you know a lot about different types of machine learning models. In this case you will see a number of machine learning examples, formulated as a business question or a need e.g. \"I want to predict potato prices next month\", and will identify if this it belongs with a classification, regression or unsupervised learning."
   ]
  },
  {
   "cell_type": "markdown",
   "metadata": {},
   "source": [
    "<center><img src=\"images/02.12.jpg\"  style=\"width: 400px, height: 300px;\"/></center>\n"
   ]
  }
 ],
 "metadata": {
  "kernelspec": {
   "display_name": "Python 3.8.11 ('env_py')",
   "language": "python",
   "name": "python3"
  },
  "language_info": {
   "name": "python",
   "version": "3.8.11"
  },
  "orig_nbformat": 4,
  "vscode": {
   "interpreter": {
    "hash": "1e949e87132dd83f1a7623eb88007e3532b03b66b77111be347aa4a383049722"
   }
  }
 },
 "nbformat": 4,
 "nbformat_minor": 2
}

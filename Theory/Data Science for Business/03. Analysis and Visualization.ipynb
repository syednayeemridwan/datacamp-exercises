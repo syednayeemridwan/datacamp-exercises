{
 "cells": [
  {
   "cell_type": "markdown",
   "metadata": {},
   "source": [
    "# Classifying dashboard elements"
   ]
  },
  {
   "cell_type": "markdown",
   "metadata": {},
   "source": [
    "Maurice works at a bank that makes loans to small businesses. To the right, you can see a dashboard that he checks daily. Which of the elements of his dashboard is an example of \"Tracking a value over time\"?"
   ]
  },
  {
   "cell_type": "markdown",
   "metadata": {},
   "source": [
    "<center><img src=\"images/03.02.jpg\"  style=\"width: 400px, height: 300px;\"/></center>\n"
   ]
  },
  {
   "cell_type": "markdown",
   "metadata": {},
   "source": [
    "- (C) Monthly Active Users"
   ]
  },
  {
   "cell_type": "markdown",
   "metadata": {},
   "source": [
    "# Improving a dashboard"
   ]
  },
  {
   "cell_type": "markdown",
   "metadata": {},
   "source": [
    "Lucia manages a team of portfolio analysts. She asked one of her analysts to make a dashboard to track the composition of a portfolio over time. To the right, you can see the chart that her analyst made. You'll notice that this isn't one of the common chart types from our video.\n",
    "\n",
    "How might Lucia ask her analyst to edit this dashboard?"
   ]
  },
  {
   "cell_type": "markdown",
   "metadata": {},
   "source": [
    "<center><img src=\"images/03.03.jpg\"  style=\"width: 400px, height: 300px;\"/></center>\n"
   ]
  },
  {
   "cell_type": "markdown",
   "metadata": {},
   "source": [
    "- Change it to a stacked bar chart as in \"tracking composition over time\" to make it easier to visually compare different segments."
   ]
  },
  {
   "cell_type": "markdown",
   "metadata": {},
   "source": [
    "# Choosing the right dashboard"
   ]
  },
  {
   "cell_type": "markdown",
   "metadata": {},
   "source": [
    "Kevin leads a team of stock analysts at a hedge fund. He is filling out a request for a dashboard to monitor his team's KPIs (Key Performance Indicators)."
   ]
  },
  {
   "cell_type": "markdown",
   "metadata": {},
   "source": [
    "<center><img src=\"images/03.04.jpg\"  style=\"width: 400px, height: 300px;\"/></center>\n"
   ]
  },
  {
   "cell_type": "markdown",
   "metadata": {},
   "source": [
    "# Filling out an ad hoc request"
   ]
  },
  {
   "cell_type": "markdown",
   "metadata": {},
   "source": [
    "Kendra is an executive at a health insurance company. She's trying to negotiate pricing for MRIs at a local hospital system. She wants to know how many MRIs were ordered from this hospital system in the previous year.\n",
    "\n",
    "Kendra is filling out her ticket to request the analysis. What can Kendra add to ensure the best possible analysis?"
   ]
  },
  {
   "cell_type": "markdown",
   "metadata": {},
   "source": [
    "<center><img src=\"images/03.06.jpg\"  style=\"width: 400px, height: 300px;\"/></center>\n"
   ]
  },
  {
   "cell_type": "markdown",
   "metadata": {},
   "source": [
    "- The reason why she needs this data; the analysts might suggest other data that will help her with her problem. By providing context, the analysts can include other helpful information, like the number of MRIs at other hospitals, or the total number of patients at the hospital."
   ]
  },
  {
   "cell_type": "markdown",
   "metadata": {},
   "source": [
    "# Classifying requests"
   ]
  },
  {
   "cell_type": "markdown",
   "metadata": {},
   "source": [
    "Pedro manages a team of data analysts. He recently created a ticketing system so that other teams could make requests from his team. Some requests can be satisfied with dashboards and others are ad hoc requests."
   ]
  },
  {
   "cell_type": "markdown",
   "metadata": {},
   "source": [
    "<center><img src=\"images/03.07.jpg\"  style=\"width: 400px, height: 300px;\"/></center>\n"
   ]
  },
  {
   "cell_type": "markdown",
   "metadata": {},
   "source": [
    "# Creating an A/B testing workflow"
   ]
  },
  {
   "cell_type": "markdown",
   "metadata": {},
   "source": [
    "Darius wants to run an A/B test to test two sets of ad copy for an email campaign. He’s trying to fill out a Gantt Chart with the correct order of steps for creating his A/B test."
   ]
  },
  {
   "cell_type": "markdown",
   "metadata": {},
   "source": [
    "<center><img src=\"images/03.09.jpg\"  style=\"width: 400px, height: 300px;\"/></center>\n"
   ]
  },
  {
   "cell_type": "markdown",
   "metadata": {},
   "source": [
    "# Sample size"
   ]
  },
  {
   "cell_type": "markdown",
   "metadata": {},
   "source": [
    "Jason manages web design for a jewelry website, BuyBangles.com. He wants to run an A/B Test where he compares the old website layout (A) to the new website layout (B) and tracks the percent of visitors who eventually purchase a bangle.\n",
    "\n",
    "Jason has a widget for finding the ideal A/B Test sample size; the required sample size changes as you adjust the baseline conversion percent and the minimum detectable effect. The baseline conversion sets the current percent of visitors who buy a bangle after visiting the site and the minimum detectable effect sets the minimum percent improvement that we want to be able to detect.\n",
    "\n",
    "How do the baseline conversion and the minimum detectable difference affect sample size? Complete the following sentence: As baseline conversion increases, sample size ____. As minimum detectable difference increases, sample size ____."
   ]
  },
  {
   "cell_type": "markdown",
   "metadata": {},
   "source": [
    "<center><img src=\"images/03.10.jpg\"  style=\"width: 400px, height: 300px;\"/></center>\n"
   ]
  },
  {
   "cell_type": "markdown",
   "metadata": {},
   "source": [
    "- decreases/decreases"
   ]
  },
  {
   "cell_type": "markdown",
   "metadata": {},
   "source": [
    "# Intermediate results"
   ]
  },
  {
   "cell_type": "markdown",
   "metadata": {},
   "source": [
    "Alondra is overseeing an A/B test for MeowMail, a subscription service that sends cat food to customers every month.\n",
    "\n",
    "The A/B test is comparing the original cancellation workflow to a new workflow where the user is shown the amount of money they have saved by using MeowMail and asked if they're sure they want to cancel.\n",
    "\n",
    "Alondra's team has prepared a slide summarizing the current state of the experiment, which is not yet finished. What can Alondra conclude from this slide?"
   ]
  },
  {
   "cell_type": "markdown",
   "metadata": {},
   "source": [
    "<center><img src=\"images/03.11.jpg\"  style=\"width: 400px, height: 300px;\"/></center>\n"
   ]
  },
  {
   "cell_type": "markdown",
   "metadata": {},
   "source": [
    "- The number of users exposed to the test has not yet reached the desired sample size, so Alondra should wait and make her judgment after the desired sample size has been reached."
   ]
  }
 ],
 "metadata": {
  "kernelspec": {
   "display_name": "Python 3.8.11 ('env_py')",
   "language": "python",
   "name": "python3"
  },
  "language_info": {
   "name": "python",
   "version": "3.8.11"
  },
  "orig_nbformat": 4,
  "vscode": {
   "interpreter": {
    "hash": "1e949e87132dd83f1a7623eb88007e3532b03b66b77111be347aa4a383049722"
   }
  }
 },
 "nbformat": 4,
 "nbformat_minor": 2
}

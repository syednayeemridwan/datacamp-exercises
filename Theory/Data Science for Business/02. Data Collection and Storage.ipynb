{
 "cells": [
  {
   "cell_type": "markdown",
   "metadata": {},
   "source": [
    "# Classifying data for security"
   ]
  },
  {
   "cell_type": "markdown",
   "metadata": {},
   "source": [
    "Mari is defining a schema for a new database that stores information from product order forms. Some of the data she wants to collect is Personally Identifiable Information (PII), and some is not.\n",
    "\n",
    "Help her classify which data is PII, and needs special protection, and which data is Not PII, and can be stored with less security."
   ]
  },
  {
   "cell_type": "markdown",
   "metadata": {},
   "source": [
    "<center><img src=\"images/02.02.jpg\"  style=\"width: 400px, height: 300px;\"/></center>\n"
   ]
  },
  {
   "cell_type": "markdown",
   "metadata": {},
   "source": [
    "# Creating web data events"
   ]
  },
  {
   "cell_type": "markdown",
   "metadata": {},
   "source": [
    "Jacinda’s engineering team just finished redesigning the website for their community forum SkimmedIt. Jacinda wants to make sure that her data engineering team is recording all appropriate events from this website.\n",
    "\n",
    "Investigate the website and decide which of the following events should be stored in Jacinda’s data warehouse."
   ]
  },
  {
   "cell_type": "markdown",
   "metadata": {},
   "source": [
    "<center><img src=\"images/02.03.jpg\"  style=\"width: 400px, height: 300px;\"/></center>\n"
   ]
  },
  {
   "cell_type": "markdown",
   "metadata": {},
   "source": [
    "- Liking a story\n",
    "- Sharing a story\n",
    "- Clicking a navigation link"
   ]
  },
  {
   "cell_type": "markdown",
   "metadata": {},
   "source": [
    "# Protecting PII"
   ]
  },
  {
   "cell_type": "markdown",
   "metadata": {},
   "source": [
    "Thalia is setting up a database for tracking the purchase of items from a hardware store. She has created two tables: Customers and Purchases.\n",
    "\n",
    "Who in Thalia's organization should have access to each table?"
   ]
  },
  {
   "cell_type": "markdown",
   "metadata": {},
   "source": [
    "<center><img src=\"images/02.04.jpg\"  style=\"width: 400px, height: 300px;\"/></center>\n"
   ]
  },
  {
   "cell_type": "markdown",
   "metadata": {},
   "source": [
    "- Only people with a demonstrated need to contact customers should have access to Customers, and everyone can have access to Purchases."
   ]
  },
  {
   "cell_type": "markdown",
   "metadata": {},
   "source": [
    "# Identifying question purpose"
   ]
  },
  {
   "cell_type": "markdown",
   "metadata": {},
   "source": [
    "Bronwen is putting together several surveys that will be sent to customers of Wine Not?, a subscription wine service. One is sent to a group of power users to collect positive statements about the wine that will be used in marketing collateral. Another is a small survey of a random subset of users that will be used to de-risk the Product team’s decision about launching a new gift subscription. The final survey is a pop-up that appears after customers received their latest shipment to monitor the quality of each new box."
   ]
  },
  {
   "cell_type": "markdown",
   "metadata": {},
   "source": [
    "<center><img src=\"images/02.06.jpg\"  style=\"width: 400px, height: 300px;\"/></center>\n"
   ]
  },
  {
   "cell_type": "markdown",
   "metadata": {},
   "source": [
    "# Validating focus group feedback"
   ]
  },
  {
   "cell_type": "markdown",
   "metadata": {},
   "source": [
    "Kristof conducted a focus group last week for Foodwheel, a meal delivery service. His notes from the meeting are shown to the right. The focus group generated a lot of interesting hypotheses, but Kristof doesn’t want to make any suggestions to management until he has some quantitative data.\n",
    "\n",
    "Which of the following questions would be the best to ask to a large sample of Foodwheel users to validate the findings of the focus group?"
   ]
  },
  {
   "cell_type": "markdown",
   "metadata": {},
   "source": [
    "<center><img src=\"images/02.07.jpg\"  style=\"width: 400px, height: 300px;\"/></center>\n"
   ]
  },
  {
   "cell_type": "markdown",
   "metadata": {},
   "source": [
    "- Rank the following features from most important to least important: delivery time estimate, high-res pictures of food, corporate accounts."
   ]
  },
  {
   "cell_type": "markdown",
   "metadata": {},
   "source": [
    "# Net Promoter Score"
   ]
  },
  {
   "cell_type": "markdown",
   "metadata": {},
   "source": [
    "Net Promoter Score (or NPS) is a common metric used to track the success of a product or website. It’s measured by asking a simple question:\n",
    "\n",
    "How likely are you to recommend this product or website to a friend or colleague?\n",
    "\n",
    "Users respond on a scale of 0 - 10 with 0 being not at all likely to recommend and 10 being extremely likely to recommend.\n",
    "\n"
   ]
  },
  {
   "cell_type": "markdown",
   "metadata": {},
   "source": [
    "<center><img src=\"images/02.08.jpg\"  style=\"width: 400px, height: 300px;\"/></center>\n",
    "\n",
    "\n",
    "Which of the following best describes NPS?"
   ]
  },
  {
   "cell_type": "markdown",
   "metadata": {},
   "source": [
    "- Quantitative method of measuring stated preference"
   ]
  },
  {
   "cell_type": "markdown",
   "metadata": {},
   "source": [
    "# Sorting data sources"
   ]
  },
  {
   "cell_type": "markdown",
   "metadata": {},
   "source": [
    "Lucinda manages a team of marketing analysts at a cosmetics company. Her team is considering a bus advertising campaign for customers living in Miami-Dade county. She has several research questions that she needs to answer to put together a presentation."
   ]
  },
  {
   "cell_type": "markdown",
   "metadata": {},
   "source": [
    "<center><img src=\"images/02.10.jpg\"  style=\"width: 400px, height: 300px;\"/></center>\n"
   ]
  },
  {
   "cell_type": "markdown",
   "metadata": {},
   "source": [
    "# Asthma frequency"
   ]
  },
  {
   "cell_type": "markdown",
   "metadata": {},
   "source": [
    "Rex works at a health insurance company. A member of his team created a great visualization of asthma hospitalization rates for different states where the company offers coverage.\n",
    "\n",
    "What source might the team member have used to collect this data?"
   ]
  },
  {
   "cell_type": "markdown",
   "metadata": {},
   "source": [
    "<center><img src=\"images/02.11.jpg\"  style=\"width: 400px, height: 300px;\"/></center>\n"
   ]
  },
  {
   "cell_type": "markdown",
   "metadata": {},
   "source": [
    "- Public records"
   ]
  },
  {
   "cell_type": "markdown",
   "metadata": {},
   "source": [
    "# Cloud platforms"
   ]
  },
  {
   "cell_type": "markdown",
   "metadata": {},
   "source": [
    "Jerome is a consultant for a company that is building out its data engineering infrastructure. He's been asked to advise on which Cloud provider the company should choose for storing their data.\n",
    "\n",
    "Which of the following is NOT an example of a Cloud provider?"
   ]
  },
  {
   "cell_type": "markdown",
   "metadata": {},
   "source": [
    "- MongoDB"
   ]
  },
  {
   "cell_type": "markdown",
   "metadata": {},
   "source": [
    "# Querying a database"
   ]
  },
  {
   "cell_type": "markdown",
   "metadata": {},
   "source": [
    "To your right, you'll see a command for selecting some data from the database. You can use the drop-down menus to modify the command. Whenever you want to see the results of the query, click \"run query\".\n",
    "\n",
    "Based on your investigation of this database, which of the following statements is most accurate? Complete the following sentence: This is a ____, and the query is written in ____."
   ]
  },
  {
   "cell_type": "markdown",
   "metadata": {},
   "source": [
    "<center><img src=\"images/02.14.jpg\"  style=\"width: 400px, height: 300px;\"/></center>\n"
   ]
  },
  {
   "cell_type": "markdown",
   "metadata": {},
   "source": [
    "- Relational Database, SQL"
   ]
  },
  {
   "cell_type": "markdown",
   "metadata": {},
   "source": [
    "# Which type of database?"
   ]
  },
  {
   "cell_type": "markdown",
   "metadata": {},
   "source": [
    "Cristobal has been asked to store several different types of data for her company. Some of the data is tabular and belongs in a Relational Database. Some of it is unstructured and belongs in a Document Database."
   ]
  },
  {
   "cell_type": "markdown",
   "metadata": {},
   "source": [
    "<center><img src=\"images/02.15.jpg\"  style=\"width: 400px, height: 300px;\"/></center>\n"
   ]
  }
 ],
 "metadata": {
  "kernelspec": {
   "display_name": "Python 3.8.11 ('env_py')",
   "language": "python",
   "name": "python3"
  },
  "language_info": {
   "name": "python",
   "version": "3.8.11"
  },
  "orig_nbformat": 4,
  "vscode": {
   "interpreter": {
    "hash": "1e949e87132dd83f1a7623eb88007e3532b03b66b77111be347aa4a383049722"
   }
  }
 },
 "nbformat": 4,
 "nbformat_minor": 2
}

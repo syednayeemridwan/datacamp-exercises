{
 "cells": [
  {
   "cell_type": "markdown",
   "metadata": {},
   "source": [
    "# When to use Supervised Learning"
   ]
  },
  {
   "cell_type": "markdown",
   "metadata": {},
   "source": [
    "Latisha is planning what each member of her data team will work on in the upcoming quarter. She has one sub-team that works on A/B Test, one that does Supervised Machine Learning, and one that builds Dashboards. She has a list of problems that she needs to solve. Help Latisha match each problem to the correct solution."
   ]
  },
  {
   "cell_type": "markdown",
   "metadata": {},
   "source": [
    "<center><img src=\"images/04.02.jpg\"  style=\"width: 400px, height: 300px;\"/></center>\n"
   ]
  },
  {
   "cell_type": "markdown",
   "metadata": {},
   "source": [
    "# Features and labels"
   ]
  },
  {
   "cell_type": "markdown",
   "metadata": {},
   "source": [
    "Juan manages a Data Science team at a bank. His team wants to use Supervised Machine Learning to build a recommendation system that predicts the type of loan that a customer is most likely to use. The results of the recommendation system will be used to send targeted advertising to each customer.\n",
    "\n",
    "Juan has a dataset that he wants to use to train his model. Help him identify which of these columns is a label."
   ]
  },
  {
   "cell_type": "markdown",
   "metadata": {},
   "source": [
    "<center><img src=\"images/04.03.jpg\"  style=\"width: 400px, height: 300px;\"/></center>\n"
   ]
  },
  {
   "cell_type": "markdown",
   "metadata": {},
   "source": [
    "- Loan Type"
   ]
  },
  {
   "cell_type": "markdown",
   "metadata": {},
   "source": [
    "# Model evaluation"
   ]
  },
  {
   "cell_type": "markdown",
   "metadata": {},
   "source": [
    "Karina is evaluating three different Supervised Machine Learning models for detecting fraudulent bank transactions. Karina knows that one of the weaknesses of the training data was that there are many more examples of valid transactions compared to fraudulent transactions.\n",
    "\n",
    "To the right, you can see how each model predicted that a transaction was fraudulent or valid compared to how often the transaction actually was fraudulent or valid.\n",
    "\n",
    "According to this data, which model is the best and why?"
   ]
  },
  {
   "cell_type": "markdown",
   "metadata": {},
   "source": [
    "<center><img src=\"images/04.041.jpg\"  style=\"width: 400px, height: 300px;\"/></center>\n"
   ]
  },
  {
   "cell_type": "markdown",
   "metadata": {},
   "source": [
    "- Decision tree - it has high rates of accuracy for both valid transactions and fraudulent transactions."
   ]
  },
  {
   "cell_type": "markdown",
   "metadata": {},
   "source": [
    "# Supervised vs. unsupervised"
   ]
  },
  {
   "cell_type": "markdown",
   "metadata": {},
   "source": [
    "Kamala manages a team of machine learning scientists at a clothing company. She has a list of tasks that need to be completed: some are best suited for Supervised Machine Learning and others are better for Unsupervised Machine Learning."
   ]
  },
  {
   "cell_type": "markdown",
   "metadata": {},
   "source": [
    "<center><img src=\"images/04.06.jpg\"  style=\"width: 400px, height: 300px;\"/></center>\n"
   ]
  },
  {
   "cell_type": "markdown",
   "metadata": {},
   "source": [
    "# Cluster size selection"
   ]
  },
  {
   "cell_type": "markdown",
   "metadata": {},
   "source": [
    "Crystal manages operations for a meal delivery service in Houston, Texas. She has latitude and longitude data for meals requests in the past month. She'd like to create several new \"delivery hubs\" where demand has been greatest. In order to do this, she's asked a Machine Learning Scientist to use a clustering algorithm to divide the orders into groups based on their location.\n",
    "\n",
    "The Machine Learning Scientist isn't sure how many clusters to make. On the right, run the algorithm with different numbers of clusters to see the results.\n",
    "\n",
    "What is the most suitable number of clusters?"
   ]
  },
  {
   "cell_type": "markdown",
   "metadata": {},
   "source": [
    "<center><img src=\"images/04.07.jpg\"  style=\"width: 400px, height: 300px;\"/></center>\n"
   ]
  },
  {
   "cell_type": "markdown",
   "metadata": {},
   "source": [
    "- 4"
   ]
  },
  {
   "cell_type": "markdown",
   "metadata": {},
   "source": [
    "# Classifying machine learning tasks"
   ]
  },
  {
   "cell_type": "markdown",
   "metadata": {},
   "source": [
    "Kunal has a team of three Machine Learning Scientists who work on financial technologies. One specializes in Time Series Forecasting, one specializes in NLP, and a third specializes in Traditional Machine Learning. Kunal needs to assign the correct task to each employee so that they can work with optimal efficiency."
   ]
  },
  {
   "cell_type": "markdown",
   "metadata": {},
   "source": [
    "<center><img src=\"images/04.09.jpg\"  style=\"width: 400px, height: 300px;\"/></center>\n"
   ]
  },
  {
   "cell_type": "markdown",
   "metadata": {},
   "source": [
    "# Sentiment Analysis"
   ]
  },
  {
   "cell_type": "markdown",
   "metadata": {},
   "source": [
    "Sentiment Analysis is an NLP methodology for quantifying how positive or negative the emotion expressed by a segment of text is. It is often used for automatically categorizing customer feedback messages or product reviews.\n",
    "\n",
    "Which of these reviews of the movie \"The Last Jedi\" is scored as the most negative by the sentiment analysis algorithm?"
   ]
  },
  {
   "cell_type": "markdown",
   "metadata": {},
   "source": [
    "<center><img src=\"images/04.10.jpg\"  style=\"width: 400px, height: 300px;\"/></center>\n"
   ]
  },
  {
   "cell_type": "markdown",
   "metadata": {},
   "source": [
    "- This movie was a pointless, ugly, and plot-hole-riddled mess. All it served to do was crush all hope and destroy everything that remained of the Original Trilogy."
   ]
  },
  {
   "cell_type": "markdown",
   "metadata": {},
   "source": [
    "# Finding the correct solution"
   ]
  },
  {
   "cell_type": "markdown",
   "metadata": {},
   "source": [
    "Felix is working on quarterly planning for his Machine Learning team at a health insurance company. He knows that some of the tasks he is working on require Deep Learning because of the complex nature of the input data. Others require an Explainable AI approach because the rationale for each classification is important."
   ]
  },
  {
   "cell_type": "markdown",
   "metadata": {},
   "source": [
    "<center><img src=\"images/04.12.jpg\"  style=\"width: 400px, height: 300px;\"/></center>\n"
   ]
  },
  {
   "cell_type": "markdown",
   "metadata": {},
   "source": [
    "# Should I use Deep Learning?"
   ]
  },
  {
   "cell_type": "markdown",
   "metadata": {},
   "source": [
    "Patricia works for a bank and wants to help her company make smarter loans. She'd like to predict the probability of a borrower defaulting on a loan based on information in their application, such as their credit history, education level, income, and assets. Patricia would then use this amount to determine the interest rate of the loan.\n",
    "\n",
    "Patricia has hundreds of thousands of examples of loans from the past ten years.\n",
    "\n",
    "Patricia runs her idea past the legal department, and they remind her that there are laws about how interest rates can be determined that protect borrowers from discrimination on the basis of age, gender, race, and other factors.\n",
    "\n",
    "Based on this information, should Patricia use Deep Learning or Explainable AI for this problem?"
   ]
  },
  {
   "cell_type": "markdown",
   "metadata": {},
   "source": [
    "- Explainable AI, because she needs to be able to justify how each interest rate was calculated."
   ]
  }
 ],
 "metadata": {
  "kernelspec": {
   "display_name": "Python 3.8.11 ('env_py')",
   "language": "python",
   "name": "python3"
  },
  "language_info": {
   "name": "python",
   "version": "3.8.11"
  },
  "orig_nbformat": 4,
  "vscode": {
   "interpreter": {
    "hash": "1e949e87132dd83f1a7623eb88007e3532b03b66b77111be347aa4a383049722"
   }
  }
 },
 "nbformat": 4,
 "nbformat_minor": 2
}

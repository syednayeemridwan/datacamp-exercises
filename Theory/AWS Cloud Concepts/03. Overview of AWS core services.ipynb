{
 "cells": [
  {
   "cell_type": "markdown",
   "metadata": {},
   "source": [
    "# The benefits of compute services"
   ]
  },
  {
   "cell_type": "markdown",
   "metadata": {},
   "source": [
    "It is time to check your general understanding of the AWS compute services.\n",
    "\n",
    "Can you identify which benefit is associated with which AWS service: EC2 or Lambda?"
   ]
  },
  {
   "cell_type": "markdown",
   "metadata": {},
   "source": [
    "<center><img src=\"images/03.02.jpg\"  style=\"width: 400px, height: 300px;\"/></center>\n"
   ]
  },
  {
   "cell_type": "markdown",
   "metadata": {},
   "source": [
    "# Help MeetFoodies use AWS compute services"
   ]
  },
  {
   "cell_type": "markdown",
   "metadata": {},
   "source": [
    "MeetFoodies teams have developed a few in-house tools in order to manage their infrastructure. Now that they have decided to migrate to AWS, they want to rely on AWS services instead.\n",
    "\n",
    "Could you help them associate each scenario with the right service?"
   ]
  },
  {
   "cell_type": "markdown",
   "metadata": {},
   "source": [
    "<center><img src=\"images/03.03.jpg\"  style=\"width: 400px, height: 300px;\"/></center>\n"
   ]
  },
  {
   "cell_type": "markdown",
   "metadata": {},
   "source": [
    "# The benefits of storage and database services"
   ]
  },
  {
   "cell_type": "markdown",
   "metadata": {},
   "source": [
    "It is time to check your general understanding of the storage and database services.\n",
    "\n",
    "Can you identify which benefit is associated with which AWS service: S3, RDS or DynamoDB?"
   ]
  },
  {
   "cell_type": "markdown",
   "metadata": {},
   "source": [
    "<center><img src=\"images/03.05.jpg\"  style=\"width: 400px, height: 300px;\"/></center>\n"
   ]
  },
  {
   "cell_type": "markdown",
   "metadata": {},
   "source": [
    "# Help MeetFoodies use AWS storage and database services"
   ]
  },
  {
   "cell_type": "markdown",
   "metadata": {},
   "source": [
    "MeetFoodies teams have developed a few in-house tools in order to manage their infrastructure. Now that they have decided to migrate to AWS, they want to rely on AWS services instead.\n",
    "\n",
    "Could you help them associate each scenario with the right service?"
   ]
  },
  {
   "cell_type": "markdown",
   "metadata": {},
   "source": [
    "<center><img src=\"images/03.06.jpg\"  style=\"width: 400px, height: 300px;\"/></center>\n"
   ]
  },
  {
   "cell_type": "markdown",
   "metadata": {},
   "source": [
    "# The benefits of networking and content delivery services"
   ]
  },
  {
   "cell_type": "markdown",
   "metadata": {},
   "source": [
    "It is time to check your general understanding of the networking and content delivery services.\n",
    "\n",
    "Can you identify which benefit is associated with which AWS service: CloudFront, Route 53 or API Gateway?"
   ]
  },
  {
   "cell_type": "markdown",
   "metadata": {},
   "source": [
    "<center><img src=\"images/03.08.jpg\"  style=\"width: 400px, height: 300px;\"/></center>\n"
   ]
  },
  {
   "cell_type": "markdown",
   "metadata": {},
   "source": [
    "# Help MeetFoodies use AWS networking and content delivery services"
   ]
  },
  {
   "cell_type": "markdown",
   "metadata": {},
   "source": [
    "MeetFoodies teams have developed a few in-house tools in order to manage their infrastructure. Now that they have decided to migrate to AWS, they want to rely on AWS services instead.\n",
    "\n",
    "Could you help them associate each scenario with the right service?"
   ]
  },
  {
   "cell_type": "markdown",
   "metadata": {},
   "source": [
    "<center><img src=\"images/03.09.jpg\"  style=\"width: 400px, height: 300px;\"/></center>\n"
   ]
  },
  {
   "cell_type": "markdown",
   "metadata": {},
   "source": [
    "# The benefits of management, security and identity services"
   ]
  },
  {
   "cell_type": "markdown",
   "metadata": {},
   "source": [
    "It is time to check your general understanding of the management, security and identity services.\n",
    "\n",
    "Can you identify which benefit is associated with which AWS service: CloudWatch, CloudTrail, CloudFormation or IAM?"
   ]
  },
  {
   "cell_type": "markdown",
   "metadata": {},
   "source": [
    "<center><img src=\"images/03.11.jpg\"  style=\"width: 400px, height: 300px;\"/></center>\n"
   ]
  },
  {
   "cell_type": "markdown",
   "metadata": {},
   "source": [
    "# Help MeetFoodies use AWS management, security and identity services"
   ]
  },
  {
   "cell_type": "markdown",
   "metadata": {},
   "source": [
    "MeetFoodies teams have developed a few in-house tools in order to manage their infrastructure. Now that they have decided to migrate to AWS, they want to rely on AWS services instead.\n",
    "\n",
    "Could you help them associate each scenario with the right service?"
   ]
  },
  {
   "cell_type": "markdown",
   "metadata": {},
   "source": [
    "<center><img src=\"images/03.12.jpg\"  style=\"width: 400px, height: 300px;\"/></center>\n"
   ]
  },
  {
   "cell_type": "markdown",
   "metadata": {},
   "source": [
    "# Help MeetFoodies choose the right AWS services"
   ]
  },
  {
   "cell_type": "markdown",
   "metadata": {},
   "source": [
    "MeetFoodies now has a migration plan to AWS: they know in which order they would like to migrate the different bricks of their architecture. However they are not sure what AWS service to use for each one of them.\n",
    "\n",
    "Here is the order they have in mind:\n",
    "\n",
    "- Security set up with fine-grained access privileges management\n",
    "- Account activity logging\n",
    "- User database currently under MySQL\n",
    "- Recipes database currently under MongoDB (a popular NoSQL database)\n",
    "- Media files storage: images, videos…\n",
    "- Code handling data access and manipulation in a serverless fashion\n",
    "- API interface to access their services\n",
    "- Monitoring usage KPIs and triggering alerts accordingly\n",
    "\n",
    "Could you associate each brick with the right AWS service?"
   ]
  },
  {
   "cell_type": "markdown",
   "metadata": {},
   "source": [
    "<center><img src=\"images/03.13.jpg\"  style=\"width: 400px, height: 300px;\"/></center>\n"
   ]
  }
 ],
 "metadata": {
  "kernelspec": {
   "display_name": "Python 3.8.11 ('env_py')",
   "language": "python",
   "name": "python3"
  },
  "language_info": {
   "name": "python",
   "version": "3.8.11"
  },
  "orig_nbformat": 4,
  "vscode": {
   "interpreter": {
    "hash": "1e949e87132dd83f1a7623eb88007e3532b03b66b77111be347aa4a383049722"
   }
  }
 },
 "nbformat": 4,
 "nbformat_minor": 2
}

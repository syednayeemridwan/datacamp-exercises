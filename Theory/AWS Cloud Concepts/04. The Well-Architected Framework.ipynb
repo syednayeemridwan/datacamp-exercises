{
 "cells": [
  {
   "cell_type": "markdown",
   "metadata": {},
   "source": [
    "# The AWS Well-Architected Framework"
   ]
  },
  {
   "cell_type": "markdown",
   "metadata": {},
   "source": [
    "Now you have a broad vision of what the AWS Well-Architected Framework is as well as its advantages. Let's test your knowledge so far, before going deeper into the details of each pillar.\n",
    "\n",
    "Can you tell which of the following statements about the Well-Architected Framework are true or false?"
   ]
  },
  {
   "cell_type": "markdown",
   "metadata": {},
   "source": [
    "<center><img src=\"images/04.02.jpg\"  style=\"width: 400px, height: 300px;\"/></center>\n"
   ]
  },
  {
   "cell_type": "markdown",
   "metadata": {},
   "source": [
    "# Help MeetFoodies define the AWS Well-Architected Framework pillars"
   ]
  },
  {
   "cell_type": "markdown",
   "metadata": {},
   "source": [
    "MeetFoodies puts a lot of effort into ensuring that their application is secure, reliable and offers the best user experience among others. They heard about the AWS Well-Architected Framework and they think it might align with their objectives and requirements.\n",
    "\n",
    "They need your help understanding exactly what it consists of. Can you help them define and make the difference between 4 among the 6 pillars of the AWS Well-Architected Framework?\n",
    "\n",
    "Notice that for the purposes of this exercise, the security and reliability pillars have been grouped together."
   ]
  },
  {
   "cell_type": "markdown",
   "metadata": {},
   "source": [
    "<center><img src=\"images/04.03.jpg\"  style=\"width: 400px, height: 300px;\"/></center>\n"
   ]
  },
  {
   "cell_type": "markdown",
   "metadata": {},
   "source": [
    "# Operational excellence and sustainability best practices"
   ]
  },
  {
   "cell_type": "markdown",
   "metadata": {},
   "source": [
    "Before moving on to the next pillars, can you tell which of the following best practices are in the scope of the operational excellence and sustainability pillars?"
   ]
  },
  {
   "cell_type": "markdown",
   "metadata": {},
   "source": [
    "<center><img src=\"images/04.05.jpg\"  style=\"width: 400px, height: 300px;\"/></center>\n"
   ]
  },
  {
   "cell_type": "markdown",
   "metadata": {},
   "source": [
    "# MeetFoodies, operational excellence and sustainability"
   ]
  },
  {
   "cell_type": "markdown",
   "metadata": {},
   "source": [
    "MeetFoodies has come to the conclusion that to fully leverage the power of AWS, they need to incorporate the AWS Well-Architected Framework best practices in their workflow.\n",
    "\n",
    "Can you help them identify which of the following measures are in the scope of the operational excellence and sustainability?"
   ]
  },
  {
   "cell_type": "markdown",
   "metadata": {},
   "source": [
    "<center><img src=\"images/04.06.jpg\"  style=\"width: 400px, height: 300px;\"/></center>\n"
   ]
  },
  {
   "cell_type": "markdown",
   "metadata": {},
   "source": [
    "# Security and reliability best practices"
   ]
  },
  {
   "cell_type": "markdown",
   "metadata": {},
   "source": [
    "Before moving on to the next and last pillars, can you tell which of the following best practices are in the scope of the security and the reliability pillars?"
   ]
  },
  {
   "cell_type": "markdown",
   "metadata": {},
   "source": [
    "<center><img src=\"images/04.08.jpg\"  style=\"width: 400px, height: 300px;\"/></center>\n"
   ]
  },
  {
   "cell_type": "markdown",
   "metadata": {},
   "source": [
    "# MeetFoodies, security and reliability"
   ]
  },
  {
   "cell_type": "markdown",
   "metadata": {},
   "source": [
    "MeetFoodies is sold on the advantages of the AWS Well-Architected Framework best practices.\n",
    "\n",
    "They need to assess how adopting the framework would impact their processes.\n",
    "\n",
    "Can you help them identify which of the following measures are in the scope of the security and the reliability pillars?"
   ]
  },
  {
   "cell_type": "markdown",
   "metadata": {},
   "source": [
    "<center><img src=\"images/04.09.jpg\"  style=\"width: 400px, height: 300px;\"/></center>\n"
   ]
  },
  {
   "cell_type": "markdown",
   "metadata": {},
   "source": [
    "# Performance efficiency and cost optimization best practices"
   ]
  },
  {
   "cell_type": "markdown",
   "metadata": {},
   "source": [
    "In order to validate your knowledge about the last two pillars of the AWS Well-Architected Framework, can you tell which of the following best practices are in the scope of the performance efficiency and the cost optimization pillars?"
   ]
  },
  {
   "cell_type": "markdown",
   "metadata": {},
   "source": [
    "<center><img src=\"images/04.11.jpg\"  style=\"width: 400px, height: 300px;\"/></center>\n"
   ]
  },
  {
   "cell_type": "markdown",
   "metadata": {},
   "source": [
    "# MeetFoodies, performance efficiency and cost optimization"
   ]
  },
  {
   "cell_type": "markdown",
   "metadata": {},
   "source": [
    "OK, MeetFoodies is almost ready to adopt the AWS Well-Architected Framework.\n",
    "\n",
    "Can you help them identify which of the following measures are in the scope of the performance efficiency and the cost optimization pillars?"
   ]
  },
  {
   "cell_type": "markdown",
   "metadata": {},
   "source": [
    "<center><img src=\"images/04.12.jpg\"  style=\"width: 400px, height: 300px;\"/></center>\n"
   ]
  },
  {
   "cell_type": "markdown",
   "metadata": {},
   "source": [
    "# Help MeetFoodies audit their AWS architecture"
   ]
  },
  {
   "cell_type": "markdown",
   "metadata": {},
   "source": [
    "Congratulations for getting so far! Now you know the 6 pillars of the AWS Well-Architected Framework as well as the underlying design principles. Guess what? MeetFoodies needs YOU to help them implement a few design principles from the Well-Architected Framework in their organization and infrastructure."
   ]
  },
  {
   "cell_type": "markdown",
   "metadata": {},
   "source": [
    "<center><img src=\"images/04.13.jpg\"  style=\"width: 400px, height: 300px;\"/></center>\n"
   ]
  }
 ],
 "metadata": {
  "kernelspec": {
   "display_name": "Python 3.8.11 ('env_py')",
   "language": "python",
   "name": "python3"
  },
  "language_info": {
   "name": "python",
   "version": "3.8.11"
  },
  "orig_nbformat": 4,
  "vscode": {
   "interpreter": {
    "hash": "1e949e87132dd83f1a7623eb88007e3532b03b66b77111be347aa4a383049722"
   }
  }
 },
 "nbformat": 4,
 "nbformat_minor": 2
}

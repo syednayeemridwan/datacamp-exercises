{
 "cells": [
  {
   "cell_type": "markdown",
   "metadata": {},
   "source": [
    "# The benefits of Cloud Computing for data practitioners"
   ]
  },
  {
   "cell_type": "markdown",
   "metadata": {},
   "source": [
    "By now, you know that learning about cloud computing is not only necessary for developers and system administrators, but it is also a crucial skill for anyone working with data (data engineers, data scientists, data analysts, etc).\n",
    "\n",
    "Can you tell which of the following statements about the benefits of cloud computing are true or false?"
   ]
  },
  {
   "cell_type": "markdown",
   "metadata": {},
   "source": [
    "<center><img src=\"images/01.02.jpg\"  style=\"width: 400px, height: 300px;\"/></center>\n"
   ]
  },
  {
   "cell_type": "markdown",
   "metadata": {},
   "source": [
    "# Why choose AWS as a cloud provider?"
   ]
  },
  {
   "cell_type": "markdown",
   "metadata": {},
   "source": [
    "Choosing a single cloud provider is not absolutely necessary, since you can combine different offers in a hybrid approach. However, when you are starting your cloud computing journey, it is advisable stick to one cloud provider, at least in the beginning. So far, we have motivated selecting AWS as a cloud provider of choice.\n",
    "\n",
    "Can you tell which of the following statements about the advantages of AWS are true or false?"
   ]
  },
  {
   "cell_type": "markdown",
   "metadata": {},
   "source": [
    "<center><img src=\"images/01.03.jpg\"  style=\"width: 400px, height: 300px;\"/></center>\n"
   ]
  },
  {
   "cell_type": "markdown",
   "metadata": {},
   "source": [
    "# AWS characteristics"
   ]
  },
  {
   "cell_type": "markdown",
   "metadata": {},
   "source": [
    "Every cloud offer in the market has its own specificities and the case of AWS is quite special. It is the first cloud computing platform as we know it today. Could you tell which of the following statements characterize AWS?"
   ]
  },
  {
   "cell_type": "markdown",
   "metadata": {},
   "source": [
    "<center><img src=\"images/01.05.jpg\"  style=\"width: 400px, height: 300px;\"/></center>\n"
   ]
  },
  {
   "cell_type": "markdown",
   "metadata": {},
   "source": [
    "# AWS history"
   ]
  },
  {
   "cell_type": "markdown",
   "metadata": {},
   "source": [
    "AWS is not a company in itself. It is the result of the innovative efforts made by Amazon.com during the first decade of the 21st century. In order to check your knowledge about the history of AWS, try to separate true statements from false statements."
   ]
  },
  {
   "cell_type": "markdown",
   "metadata": {},
   "source": [
    "<center><img src=\"images/01.06.jpg\"  style=\"width: 400px, height: 300px;\"/></center>\n"
   ]
  },
  {
   "cell_type": "markdown",
   "metadata": {},
   "source": [
    "# Low-level vs. high-level access means"
   ]
  },
  {
   "cell_type": "markdown",
   "metadata": {},
   "source": [
    "Depending on your purpose and your role within your company, you may want to access AWS accounts in a certain way. Some of them are more high-level and human-readable than others, and some are more flexible allowing you to perform a larger variety of tasks.\n",
    "\n",
    "The aim of this exercise is to recall which ones are more high-level, and which are more low-level and flexible."
   ]
  },
  {
   "cell_type": "markdown",
   "metadata": {},
   "source": [
    "<center><img src=\"images/01.08.jpg\"  style=\"width: 400px, height: 300px;\"/></center>\n"
   ]
  },
  {
   "cell_type": "markdown",
   "metadata": {},
   "source": [
    "# Access methods vs. use cases"
   ]
  },
  {
   "cell_type": "markdown",
   "metadata": {},
   "source": [
    "All access methods to an AWS account make you able to perform the same actions such as creating, deleting or configuring AWS resources. However, each one is more suited to perform a certain kind of operations.\n",
    "\n",
    "Can you tell which one is best for which use case?"
   ]
  },
  {
   "cell_type": "markdown",
   "metadata": {},
   "source": [
    "<center><img src=\"images/01.09.jpg\"  style=\"width: 400px, height: 300px;\"/></center>\n"
   ]
  }
 ],
 "metadata": {
  "kernelspec": {
   "display_name": "Python 3.8.11 ('env_py')",
   "language": "python",
   "name": "python3"
  },
  "language_info": {
   "name": "python",
   "version": "3.8.11"
  },
  "orig_nbformat": 4,
  "vscode": {
   "interpreter": {
    "hash": "1e949e87132dd83f1a7623eb88007e3532b03b66b77111be347aa4a383049722"
   }
  }
 },
 "nbformat": 4,
 "nbformat_minor": 2
}

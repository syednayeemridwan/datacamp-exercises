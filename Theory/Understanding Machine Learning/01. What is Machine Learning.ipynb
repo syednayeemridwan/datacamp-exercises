{
 "cells": [
  {
   "cell_type": "markdown",
   "metadata": {},
   "source": [
    "# Generating movie recommendations"
   ]
  },
  {
   "cell_type": "markdown",
   "metadata": {},
   "source": [
    "If you've ever used a streaming service like Netflix, you've seen how these platforms personalize their home pages based on what they think you would enjoy watching next. To achieve this, machine learning is used to come up with recommendations based on your viewing history, the viewing history of similar users, and any other data that could help understand what you enjoy.\n",
    "\n",
    "In this exercise, you'll find a simplified movie recommendation model. It takes as input your favorite genres as well as one movie characteristic. Try it out and see what the model outputs!\n",
    "\n",
    "What does the model's output represent?"
   ]
  },
  {
   "cell_type": "markdown",
   "metadata": {},
   "source": [
    "<center><img src=\"images/01.02.jpg\"  style=\"width: 400px, height: 300px;\"/></center>\n"
   ]
  },
  {
   "cell_type": "markdown",
   "metadata": {},
   "source": [
    "- The top movies with the highest probability of matching your taste"
   ]
  },
  {
   "cell_type": "markdown",
   "metadata": {},
   "source": [
    "# AI, data science, and machine learning walk into a bar..."
   ]
  },
  {
   "cell_type": "markdown",
   "metadata": {},
   "source": [
    "In the age of big data, AI, data science, and machine learning have become buzzwords that are often incorrectly used interchangeably. They are all related in some way but encompass a different range of methods and goals.\n",
    "\n",
    "Which of the following statements are TRUE?"
   ]
  },
  {
   "cell_type": "markdown",
   "metadata": {},
   "source": [
    "- Machine learning methods can be considered AI methods.\n",
    "- Machine learning has become the most prominent subset of AI.\n",
    "- Machine learning is used in data science to make predictions."
   ]
  },
  {
   "cell_type": "markdown",
   "metadata": {},
   "source": [
    "# What's true about machine learning?"
   ]
  },
  {
   "cell_type": "markdown",
   "metadata": {},
   "source": [
    "There are a lot of headlines about machine learning. Always be cautious because some of it can be sensational. What is true about machine learning?"
   ]
  },
  {
   "cell_type": "markdown",
   "metadata": {},
   "source": [
    "<center><img src=\"images/01.04.jpg\"  style=\"width: 400px, height: 300px;\"/></center>\n"
   ]
  },
  {
   "cell_type": "markdown",
   "metadata": {},
   "source": [
    "# Machine learning lingo"
   ]
  },
  {
   "cell_type": "markdown",
   "metadata": {},
   "source": [
    "You overhear a group of data scientists discussing their latest machine learning project on predicting whether a tweet is fake or not. Twitter has provided them with a labeled dataset in hopes of improving their spam detection system.\n",
    "\n",
    "Here are two observations from the dataset:\n",
    "\n",
    "<center><img src=\"images/01.061.jpg\"  style=\"width: 400px, height: 300px;\"/></center>\n",
    "\n",
    "\n",
    "Based on this information, classify aspects of their training data as either a feature, label, or target variable."
   ]
  },
  {
   "cell_type": "markdown",
   "metadata": {},
   "source": [
    "<center><img src=\"images/01.062.jpg\"  style=\"width: 400px, height: 300px;\"/></center>"
   ]
  },
  {
   "cell_type": "markdown",
   "metadata": {},
   "source": [
    "# Supervised vs unsupervised"
   ]
  },
  {
   "cell_type": "markdown",
   "metadata": {},
   "source": [
    "Have you heard of open data? These are datasets that are freely available and governments especially have been pushing initiatives for open public data. For example, here is a snippet of a dataset from California's Open Data portal that looks at educational attainment (i.e., highest degree of education) and personal income.\n",
    "\n",
    "Each row represents a Californian citizen. It contains the year the citizen completed the survey and the citizen's age, gender, educational attainment, and population count of where they live.\n",
    "\n",
    "Which of the statements below incorrectly uses the term unsupervised or supervised learning?"
   ]
  },
  {
   "cell_type": "markdown",
   "metadata": {},
   "source": [
    "<center><img src=\"images/01.07.jpg\"  style=\"width: 400px, height: 300px;\"/></center>\n"
   ]
  },
  {
   "cell_type": "markdown",
   "metadata": {},
   "source": [
    "- Train a unsupervised machine learning model to predict a citizen's educational attainment level."
   ]
  },
  {
   "cell_type": "markdown",
   "metadata": {},
   "source": [
    "# Steps for building a model"
   ]
  },
  {
   "cell_type": "markdown",
   "metadata": {},
   "source": [
    "Machine learning is integrated in many of the technologies we use everyday. For example, have you noticed that platforms will have personalized recommendations, whether it's another funny video on Youtube or a book by your favorite author on Amazon? These are \"recommender systems\" and they typically consist of a machine learning model trained on a user's browsing history.\n",
    "\n",
    "Imagine the recommender system of your favorite online clothing store. They have data on all the clothes you've viewed and the clothes you ended up buying. This is enough to make a model to output personalized clothing recommendation for you. Listed here are the tasks needed to create this model, however, they are incorrectly ordered. Can you correctly order them?"
   ]
  },
  {
   "cell_type": "markdown",
   "metadata": {},
   "source": [
    "<center><img src=\"images/01.09.jpg\"  style=\"width: 400px, height: 300px;\"/></center>\n"
   ]
  },
  {
   "cell_type": "markdown",
   "metadata": {},
   "source": [
    "# A true step"
   ]
  },
  {
   "cell_type": "markdown",
   "metadata": {},
   "source": [
    "Below are four statements about each of the steps in the machine learning workflow. Which of them is true?"
   ]
  },
  {
   "cell_type": "markdown",
   "metadata": {},
   "source": [
    "- Train model: There are many machine learning models to choose from, but they often have specific uses. For example, some models can only be used for supervised learning."
   ]
  }
 ],
 "metadata": {
  "kernelspec": {
   "display_name": "Python 3.8.11 ('env_py')",
   "language": "python",
   "name": "python3"
  },
  "language_info": {
   "name": "python",
   "version": "3.8.11"
  },
  "orig_nbformat": 4,
  "vscode": {
   "interpreter": {
    "hash": "1e949e87132dd83f1a7623eb88007e3532b03b66b77111be347aa4a383049722"
   }
  }
 },
 "nbformat": 4,
 "nbformat_minor": 2
}

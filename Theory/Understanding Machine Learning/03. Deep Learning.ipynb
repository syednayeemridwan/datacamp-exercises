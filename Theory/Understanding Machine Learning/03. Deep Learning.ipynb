{
 "cells": [
  {
   "cell_type": "markdown",
   "metadata": {},
   "source": [
    "# What is deep learning?"
   ]
  },
  {
   "cell_type": "markdown",
   "metadata": {},
   "source": [
    "Deep learning applications are everywhere. Think of Google translating large blocks of text in a matter of seconds or your phone's photo gallery automatically recognizing faces."
   ]
  },
  {
   "cell_type": "markdown",
   "metadata": {},
   "source": [
    "<center><img src=\"images/03.02.jpg\"  style=\"width: 400px, height: 300px;\"/></center>\n"
   ]
  },
  {
   "cell_type": "markdown",
   "metadata": {},
   "source": [
    "# Should I use deep learning?"
   ]
  },
  {
   "cell_type": "markdown",
   "metadata": {},
   "source": [
    "You work for a bank and want to help your company make smarter loans. You'd like to predict the probability of a borrower defaulting on a loan based on information in their application, such as their credit history, education level, income, and assets. This amount can then be used to determine the interest rate of the loan. You have hundreds of thousands of examples of loans from the past ten years.\n",
    "\n",
    "For now, you just want to build a proof of concept on your laptop showing that there is some value in building this model. The performance doesn't have to be perfect just yet.\n",
    "\n",
    "Based on this information, how should you solve this problem?"
   ]
  },
  {
   "cell_type": "markdown",
   "metadata": {},
   "source": [
    "- Traditional machine learning"
   ]
  },
  {
   "cell_type": "markdown",
   "metadata": {},
   "source": [
    "# Image data"
   ]
  },
  {
   "cell_type": "markdown",
   "metadata": {},
   "source": [
    "Your friend just texted you an image. However, when you open the message the content seems to be distorted. No worries, you have access to a pre-trained neural network that can restore any image.\n",
    "\n",
    "Before you can pass the image to the neural network, it needs to be converted to numbers so that we have features to input. The image's resolution is 284 × 429 pixels. Remember, each color pixel is represented by three color channels (red, green, and blue).\n",
    "\n",
    "How many features will be passed into the model for this color image?"
   ]
  },
  {
   "cell_type": "markdown",
   "metadata": {},
   "source": [
    "- 284 * 429 * 3"
   ]
  },
  {
   "cell_type": "markdown",
   "metadata": {},
   "source": [
    "# The process"
   ]
  },
  {
   "cell_type": "markdown",
   "metadata": {},
   "source": [
    "In a bar you strike up a conversation with someone who turns out to be a data scientist at the self-driving car department of Tesla. They start talking about one of the deep learning models they built a while ago. It was able to classify images of vehicles as cars or trucks. You discuss the process and find out they used a neural network to build the model.\n",
    "\n",
    "Can you place the steps that happen inside a neural network in the right order?"
   ]
  },
  {
   "cell_type": "markdown",
   "metadata": {},
   "source": [
    "<center><img src=\"images/03.06.jpg\"  style=\"width: 400px, height: 300px;\"/></center>\n"
   ]
  },
  {
   "cell_type": "markdown",
   "metadata": {},
   "source": [
    "# Sentiment analysis"
   ]
  },
  {
   "cell_type": "markdown",
   "metadata": {},
   "source": [
    "Sentiment Analysis is a Natural Language Processing methodology for quantifying how positive or negative the emotion expressed by a segment of text is. It is often used for automatically categorizing customer feedback messages or product reviews.\n",
    "\n",
    "Below are four reviews of the movie \"The Last Jedi\":\n",
    "\n",
    "- I really agree with this comment \"Great film, one of the best Star Wars films.\"\n",
    "- Worst star wars movie ever made. It disrespected the force and everything we love.\n",
    "- A fun exciting, visually striking movie with a great score, great characters, and great action. The Last Jedi is very well directed, but very messy.\n",
    "- This movie was a pointless, ugly, and plot-hole-riddled mess. All it served to do was crush all hope and destroy everything that remained of the Original Trilogy.\n",
    "\n",
    "\n",
    "Paste each of these into the Sentiment Analyzer provided in this exercise. Which review is scored as the most negative by the sentiment analysis algorithm?\n",
    "\n"
   ]
  },
  {
   "cell_type": "markdown",
   "metadata": {},
   "source": [
    "- This movie was a pointless, ugly, and plot-hole-riddled mess. All it served to do was crush all hope and destroy everything that remained of the Original Trilogy."
   ]
  },
  {
   "cell_type": "markdown",
   "metadata": {},
   "source": [
    "# Classifying machine learning tasks"
   ]
  },
  {
   "cell_type": "markdown",
   "metadata": {},
   "source": [
    "By this point, you have seen a lot of different applications of machine learning. In this chapter, two special fields were discussed: computer vision and Natural Language Processing (NLP). Deep learning is particularly well-suited to solve these kinds of problems. Let's see if you can identify which use case belongs to which field."
   ]
  },
  {
   "cell_type": "markdown",
   "metadata": {},
   "source": [
    "<center><img src=\"images/03.09.jpg\"  style=\"width: 400px, height: 300px;\"/></center>\n"
   ]
  },
  {
   "cell_type": "markdown",
   "metadata": {},
   "source": [
    "# Bag of words"
   ]
  },
  {
   "cell_type": "markdown",
   "metadata": {},
   "source": [
    "In the field of Natural Language Processing, n-grams are a foundational way to make features from text. n-grams count the sequence of words and n indicates how many word(s) a sequence contains. For example, 2-grams, count the occurrence of two-word sequences.\n",
    "\n",
    "In this exercise, you can input text and see what are the top 1-gram, 2-gram, and 3-gram features based on occurrence. If you're not sure what to enter, try some of these restaurant reviews:\n",
    "\n",
    "`The food was not great and the service could be faster.`\n",
    "\n",
    "\n",
    "`I've seen a lot of bad reviews about this place, but it was not that bad. You get what you pay for!`\n",
    "\n",
    "\n",
    "Which of the following statements is true?"
   ]
  },
  {
   "cell_type": "markdown",
   "metadata": {},
   "source": [
    "- As you increase the value of n, the occurrences of n-grams decreases."
   ]
  },
  {
   "cell_type": "markdown",
   "metadata": {},
   "source": [
    "# To black box or not to black box?"
   ]
  },
  {
   "cell_type": "markdown",
   "metadata": {},
   "source": [
    "You are interested in machine learning applications in the health sector. You know that some of the tasks require a high accuracy but it's not that important to know what happens inside the model. Others require an Explainable AI approach because the rationale for each classification is important."
   ]
  },
  {
   "cell_type": "markdown",
   "metadata": {},
   "source": [
    "<center><img src=\"images/03.12.jpg\"  style=\"width: 400px, height: 300px;\"/></center>\n"
   ]
  },
  {
   "cell_type": "markdown",
   "metadata": {},
   "source": [
    "# Spotting bias in machine learning"
   ]
  },
  {
   "cell_type": "markdown",
   "metadata": {},
   "source": [
    "An AI-enabled recruiting software that preferred men because it learned from historical data when more men were hired. When we have models that affect peoples' lives, we need to carefully evaluate them for any discriminatory behavior that can be learned from historical data.\n",
    "\n",
    "In this exercise, you have a model that attempts to predict whether someone will default on their loan. You can break down the resulting predictions, by different features like demographics and employment status. Play around with these features and see if you can find anything suspicious about who is predicted to default and who isn't.\n",
    "\n",
    "Which feature(s) should be investigated more for potential bias before deploying the model?"
   ]
  },
  {
   "cell_type": "markdown",
   "metadata": {},
   "source": [
    "<center><img src=\"images/03.13.jpg\"  style=\"width: 400px, height: 300px;\"/></center>\n"
   ]
  },
  {
   "cell_type": "markdown",
   "metadata": {},
   "source": [
    "- Race because there is a relatively large difference between African American/ Caucasian proportions in the \"No\" (32%/68%) and \"Yes\" (74%/26%) outcomes."
   ]
  }
 ],
 "metadata": {
  "kernelspec": {
   "display_name": "Python 3.8.11 ('env_py')",
   "language": "python",
   "name": "python3"
  },
  "language_info": {
   "name": "python",
   "version": "3.8.11"
  },
  "orig_nbformat": 4,
  "vscode": {
   "interpreter": {
    "hash": "1e949e87132dd83f1a7623eb88007e3532b03b66b77111be347aa4a383049722"
   }
  }
 },
 "nbformat": 4,
 "nbformat_minor": 2
}

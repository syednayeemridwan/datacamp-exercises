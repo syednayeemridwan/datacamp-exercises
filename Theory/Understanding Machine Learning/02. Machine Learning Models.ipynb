{
 "cells": [
  {
   "cell_type": "markdown",
   "metadata": {},
   "source": [
    "# Warm up"
   ]
  },
  {
   "cell_type": "markdown",
   "metadata": {},
   "source": [
    "What are the two flavors of supervised learning?\n",
    "- Classification and regression"
   ]
  },
  {
   "cell_type": "markdown",
   "metadata": {},
   "source": [
    "# Regressing with class"
   ]
  },
  {
   "cell_type": "markdown",
   "metadata": {},
   "source": [
    "You know there are two flavors of supervised learning: classification and regression. Let's see if you can distinguish between these two types of problems."
   ]
  },
  {
   "cell_type": "markdown",
   "metadata": {},
   "source": [
    "<center><img src=\"images/02.03.jpg\"  style=\"width: 400px, height: 300px;\"/></center>\n"
   ]
  },
  {
   "cell_type": "markdown",
   "metadata": {},
   "source": [
    "# We don't need no supervision"
   ]
  },
  {
   "cell_type": "markdown",
   "metadata": {},
   "source": [
    "You now know about supervised and unsupervised learning. Let's see if you can distinguish them."
   ]
  },
  {
   "cell_type": "markdown",
   "metadata": {},
   "source": [
    "<center><img src=\"images/02.05.jpg\"  style=\"width: 400px, height: 300px;\"/></center>\n"
   ]
  },
  {
   "cell_type": "markdown",
   "metadata": {},
   "source": [
    "# Gotta cluster 'em all!"
   ]
  },
  {
   "cell_type": "markdown",
   "metadata": {},
   "source": [
    "Pokemon Go is a popular mobile game where users find, capture, and train virtual Pokemon characters. These characters are scattered throughout real locations and users have to physically travel to find these characters. Pokemon Go users can battle other users at Pokemon Gyms, which are physical locations with high traffic.\n",
    "\n",
    "Reported Pokemon sightings in downtown Perth have been plotted according to longitude and latitude. Using clustering and this sighting data, you need to help decide where gyms should open up in downtown Perth.\n",
    "\n",
    "According to these sightings, how many gyms do you think should be opened up in downtown Perth?"
   ]
  },
  {
   "cell_type": "markdown",
   "metadata": {},
   "source": [
    "<center><img src=\"images/02.06.jpg\"  style=\"width: 400px, height: 300px;\"/></center>\n"
   ]
  },
  {
   "cell_type": "markdown",
   "metadata": {},
   "source": [
    "- There isn't a clear right answer here. We need to know more like the minimum or maximum sightings that should be in one cluster. These different clustering options should definitely be considered when making the decision though, we just need more information."
   ]
  },
  {
   "cell_type": "markdown",
   "metadata": {},
   "source": [
    "# True or false?"
   ]
  },
  {
   "cell_type": "markdown",
   "metadata": {},
   "source": [
    "You just learned how to evaluate your model's performance, and how doing so differs depending on the nature of the problem. Let's check if everything is clear."
   ]
  },
  {
   "cell_type": "markdown",
   "metadata": {},
   "source": [
    "<center><img src=\"images/02.08.jpg\"  style=\"width: 400px, height: 300px;\"/></center>\n"
   ]
  },
  {
   "cell_type": "markdown",
   "metadata": {},
   "source": [
    "# Land of confusion"
   ]
  },
  {
   "cell_type": "markdown",
   "metadata": {},
   "source": [
    "Your colleague comes to you with the predictions of a model that predicts whether a bank customer will default on their loan or not. They started filling out the matrix, but they got confused about what goes where.\n",
    "\n",
    "Can you help your colleague finish their confusion matrix?\n",
    "<center><img src=\"images/02.09.jpg\"  style=\"width: 400px, height: 300px;\"/></center>\n",
    "\n"
   ]
  },
  {
   "cell_type": "markdown",
   "metadata": {},
   "source": [
    "- There are 2 false positives."
   ]
  },
  {
   "cell_type": "markdown",
   "metadata": {},
   "source": [
    "# It's a long way to the top"
   ]
  },
  {
   "cell_type": "markdown",
   "metadata": {},
   "source": [
    "As you've seen, there are several ways to improve your model's performance. We focused on hyperparameter tuning, dimensionality reduction and ensemble methods."
   ]
  },
  {
   "cell_type": "markdown",
   "metadata": {},
   "source": [
    "<center><img src=\"images/02.11.jpg\"  style=\"width: 400px, height: 300px;\"/></center>\n"
   ]
  },
  {
   "cell_type": "markdown",
   "metadata": {},
   "source": [
    "# Explore hyperparameter tuning"
   ]
  },
  {
   "cell_type": "markdown",
   "metadata": {},
   "source": [
    "A hyperparameter is a model parameter that is chosen by you before training begins. (This is in contrast to parameters, which are determined by the model training.) The hyperparameters available to set differ between types of model.\n",
    "\n",
    "Here you see the results of a gradient boosting models (GBMs) that tries to predict whether or not people will vote in an election. GBMs are a type of ensemble model that create lots of regression trees. Hyperparameters for GBMs include the number of trees to generate, the complexity of each tree, and the learning rate (how much weight is given to each tree).\n",
    "\n",
    "It's usually impossible to know which combination of hyperparameters will result in the best performing model, so you have to try lots of combinations of them.\n",
    "\n",
    "Use the dashboard controls to change hyperparameters and find the combination that gives the highest accuracy."
   ]
  },
  {
   "cell_type": "markdown",
   "metadata": {},
   "source": [
    "<center><img src=\"images/02.12.jpg\"  style=\"width: 400px, height: 300px;\"/></center>\n"
   ]
  },
  {
   "cell_type": "markdown",
   "metadata": {},
   "source": [
    "- 250 trees, 6 levels of complexity, learning rate 0.1"
   ]
  }
 ],
 "metadata": {
  "kernelspec": {
   "display_name": "Python 3.8.11 ('env_py')",
   "language": "python",
   "name": "python3"
  },
  "language_info": {
   "name": "python",
   "version": "3.8.11"
  },
  "orig_nbformat": 4,
  "vscode": {
   "interpreter": {
    "hash": "1e949e87132dd83f1a7623eb88007e3532b03b66b77111be347aa4a383049722"
   }
  }
 },
 "nbformat": 4,
 "nbformat_minor": 2
}

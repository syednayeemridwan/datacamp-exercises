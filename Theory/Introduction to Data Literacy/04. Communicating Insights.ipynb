{
 "cells": [
  {
   "cell_type": "markdown",
   "metadata": {},
   "source": [
    "# The purpose of visualizations"
   ]
  },
  {
   "cell_type": "markdown",
   "metadata": {},
   "source": [
    "Why are visualizations important for communicating insights?"
   ]
  },
  {
   "cell_type": "markdown",
   "metadata": {},
   "source": [
    "- Visualizations help to understand insights identified in the data"
   ]
  },
  {
   "cell_type": "markdown",
   "metadata": {},
   "source": [
    "# Providing context"
   ]
  },
  {
   "cell_type": "markdown",
   "metadata": {},
   "source": [
    "To help provide context to your visualization, you can make use of the McCandless technique."
   ]
  },
  {
   "cell_type": "markdown",
   "metadata": {},
   "source": [
    "<center><img src=\"images/04.03.jpg\"  style=\"width: 400px, height: 300px;\"/></center>\n"
   ]
  },
  {
   "cell_type": "markdown",
   "metadata": {},
   "source": [
    "# (Not) part of the story"
   ]
  },
  {
   "cell_type": "markdown",
   "metadata": {},
   "source": [
    "When crafting a data story, you need to consider the narrative elements that make up the story. Some of these are listed below, but one of them does not belong.\n",
    "\n",
    "Which of these elements is not part of a data story?"
   ]
  },
  {
   "cell_type": "markdown",
   "metadata": {},
   "source": [
    "- Detailed analysis process"
   ]
  },
  {
   "cell_type": "markdown",
   "metadata": {},
   "source": [
    "# Crafting a story"
   ]
  },
  {
   "cell_type": "markdown",
   "metadata": {},
   "source": [
    "One of the most powerful ways to improve your communication is to use storytelling. But how do you tell a story?"
   ]
  },
  {
   "cell_type": "markdown",
   "metadata": {},
   "source": [
    "<center><img src=\"images/04.06.jpg\"  style=\"width: 400px, height: 300px;\"/></center>\n"
   ]
  },
  {
   "cell_type": "markdown",
   "metadata": {},
   "source": [
    "# Focus on your central message"
   ]
  },
  {
   "cell_type": "markdown",
   "metadata": {},
   "source": [
    "The key to focusing your communication is to know your central message and to keep reinforcing it throughout your communication.  \n",
    "\n",
    "A central message typically consists of one sentence describing the problem, one for the central insight(s), and one for the impact. For example:\n",
    "\n",
    "- Problem: Students' average math scores at University A have declined over the last three years.\n",
    "- Insights: Data analysis indicates that more students enroll with a weaker starting knowledge of mathematics.\n",
    "- Impact: By organizing math summer schools, University A can help students better prepare for the expected knowledge level of mathematics."
   ]
  },
  {
   "cell_type": "markdown",
   "metadata": {},
   "source": [
    "<center><img src=\"images/04.08.jpg\"  style=\"width: 400px, height: 300px;\"/></center>\n"
   ]
  },
  {
   "cell_type": "markdown",
   "metadata": {},
   "source": [
    "# Getting your outline in order"
   ]
  },
  {
   "cell_type": "markdown",
   "metadata": {},
   "source": [
    "An important way to ensure structure in your communication is to craft an outline beforehand. This ensures that you include all the necessary topics, and that there is a logical order for your audience to follow.\n",
    "\n",
    "A good outline is structured as follows:\n",
    "\n",
    "- Introduction\n",
    "    - Problem statement\n",
    "    - Context\n",
    "    - Objectives\n",
    "- Body\n",
    "    - Data\n",
    "    - Analysis\n",
    "- Key findings\n",
    "    - Conclusions\n",
    "    - Insights\n",
    "    - Recommendations"
   ]
  },
  {
   "cell_type": "markdown",
   "metadata": {},
   "source": [
    "<center><img src=\"images/04.091.jpg\"  style=\"width: 400px, height: 300px;\"/></center>\n",
    "<center><img src=\"images/04.092.jpg\"  style=\"width: 400px, height: 300px;\"/></center>\n",
    "<center><img src=\"images/04.093.jpg\"  style=\"width: 400px, height: 300px;\"/></center>\n"
   ]
  },
  {
   "cell_type": "markdown",
   "metadata": {},
   "source": [
    "# The importance of form"
   ]
  },
  {
   "cell_type": "markdown",
   "metadata": {},
   "source": [
    "Form is one of the three important components to think about when crafting your communication. But why is that?\n",
    "\n",
    "Which of the following statements is false?"
   ]
  },
  {
   "cell_type": "markdown",
   "metadata": {},
   "source": [
    "- Form is about designing the right layout and selecting appropriate visualizations."
   ]
  },
  {
   "cell_type": "markdown",
   "metadata": {},
   "source": [
    "# Formulating the central message"
   ]
  },
  {
   "cell_type": "markdown",
   "metadata": {},
   "source": [
    "You and your colleague are tasked with giving a presentation to higher management at a hospital about your analysis of the effect of certain investments on the average length of hospital stay. Your colleague has crafted the central message as follows:\n",
    "\n",
    "To decrease the average length of hospital stay, we need to determine which investments are most likely to reduce the length of hospital stay. Our analysis shows that investments in advanced CT and MRI scanner equipment are the most important factors influencing hospital stay.\n",
    "\n",
    "You notice that something is not quite right. Which part is missing from this central message?"
   ]
  },
  {
   "cell_type": "markdown",
   "metadata": {},
   "source": [
    "- Impact (\"To decrease length of hospital stay, we recommend increasing the budget for investments in advanced CT and MRI scanner equipment.\")"
   ]
  },
  {
   "cell_type": "markdown",
   "metadata": {},
   "source": [
    "# Setting up the narrative structure"
   ]
  },
  {
   "cell_type": "markdown",
   "metadata": {},
   "source": [
    "You are preparing your presentation on the findings of your analysis about investments in new equipment affecting length of hospital stay. You decide to use narrative structure to improve your presentation."
   ]
  },
  {
   "cell_type": "markdown",
   "metadata": {},
   "source": [
    "<center><img src=\"images/04.13.jpg\"  style=\"width: 400px, height: 300px;\"/></center>\n"
   ]
  },
  {
   "cell_type": "markdown",
   "metadata": {},
   "source": [
    "# Choosing visualizations"
   ]
  },
  {
   "cell_type": "markdown",
   "metadata": {},
   "source": [
    "You would like to use a visualization to support one of your key insights: the relationship between the number of available CT scanners and the length of hospital stay. Your team has prepared some visualizations for you, which is the right choice."
   ]
  },
  {
   "cell_type": "markdown",
   "metadata": {},
   "source": [
    "- Scatter plot"
   ]
  },
  {
   "cell_type": "markdown",
   "metadata": {},
   "source": [
    "# Best and bad practices"
   ]
  },
  {
   "cell_type": "markdown",
   "metadata": {},
   "source": [
    "Communicating insights from data is a skill in and of itself. Still, when considering some basic best practices, every presentation or report can turn into a true data story."
   ]
  },
  {
   "cell_type": "markdown",
   "metadata": {},
   "source": [
    "<center><img src=\"images/04.15.jpg\"  style=\"width: 400px, height: 300px;\"/></center>\n"
   ]
  }
 ],
 "metadata": {
  "kernelspec": {
   "display_name": "Python 3.8.11 ('env_py')",
   "language": "python",
   "name": "python3"
  },
  "language_info": {
   "name": "python",
   "version": "3.8.11"
  },
  "orig_nbformat": 4,
  "vscode": {
   "interpreter": {
    "hash": "1e949e87132dd83f1a7623eb88007e3532b03b66b77111be347aa4a383049722"
   }
  }
 },
 "nbformat": 4,
 "nbformat_minor": 2
}

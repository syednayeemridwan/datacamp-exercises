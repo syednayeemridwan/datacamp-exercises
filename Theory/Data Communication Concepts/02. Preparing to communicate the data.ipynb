{
 "cells": [
  {
   "cell_type": "markdown",
   "metadata": {},
   "source": [
    "# The truth about salaries"
   ]
  },
  {
   "cell_type": "markdown",
   "metadata": {},
   "source": [
    "Your predictive model for customer churn, which you worked on in Chapter 1, has been deployed. Your project manager asks you to work on a new internal project. The goal is to analyze a database with employee salaries in San Francisco, USA.\n",
    "\n",
    "After doing an exhaustive exploratory data analysis, you have to present your findings to the human resources team. They want to compare San Francisco salary growth to the one at the company; they need to understand how to forecast salaries for the next year. You are about to copy the graphs from your analysis. Your manager reminds you to select the right data for your stakeholders.\n",
    "\n",
    "You start by writing down what you believe can help you choose the proper findings.\n",
    "\n",
    "One of the statements you wrote is false. Can you select which one it is?"
   ]
  },
  {
   "cell_type": "markdown",
   "metadata": {},
   "source": [
    "- Select all collected numerical data about San Francisco salaries and show them in a big dashboard so it helps understand in detail why salaries have been increasing."
   ]
  },
  {
   "cell_type": "markdown",
   "metadata": {},
   "source": [
    "# Earning interests"
   ]
  },
  {
   "cell_type": "markdown",
   "metadata": {},
   "source": [
    "Well done! Your presentation with the human resource department was a success. Your team lead asks you to show your data analysis results to different stakeholders. Before you dive into preparing the presentation or the report, you want to make sure that you are aligned with their interests.\n",
    "\n",
    "With that goal in mind, you define several personas. It will help you select the suitable data later. You write down the personas, their knowledge, and their interest on this project.\n",
    "\n",
    "Can you classify your notes into the following audience personas?"
   ]
  },
  {
   "cell_type": "markdown",
   "metadata": {},
   "source": [
    "<center><img src=\"images/02.03.jpg\"  style=\"width: 400px, height: 300px;\"/></center>\n"
   ]
  },
  {
   "cell_type": "markdown",
   "metadata": {},
   "source": [
    "# Salary variation"
   ]
  },
  {
   "cell_type": "markdown",
   "metadata": {},
   "source": [
    "You have selected suitable data for your story on San Francisco salaries. Now, you evaluate which metrics you should use.\n",
    "\n",
    "You want to convey the following message to the human resource team: \"The total pay of employees has increased or decreased according to their job title from 2017 to 2018.\"\n",
    "\n",
    "You prepared the two visualizations below, but you are unsure which one is best.\n",
    "\n",
    "<center><img src=\"images/02.05.png\"  style=\"width: 400px, height: 300px;\"/></center>\n"
   ]
  },
  {
   "cell_type": "markdown",
   "metadata": {},
   "source": [
    "- The graph on the right is the best way to convey the message. With percentage change, the magnitude of the salary change depending on the job is more evident."
   ]
  },
  {
   "cell_type": "markdown",
   "metadata": {},
   "source": [
    "# On a payroll"
   ]
  },
  {
   "cell_type": "markdown",
   "metadata": {},
   "source": [
    "Good job on selecting the most impactful visualization! Your insight made an impact. The human resource team lead asked you to show more findings. You go back to your exploratory data analysis and select some data.\n",
    "\n",
    "But you want to explore different variants of the same data to discover the best one for explaining your distinct insights to the human resource team.\n",
    "\n",
    "Can you decide what data variant would be best suited depending on the finding you want to show?"
   ]
  },
  {
   "cell_type": "markdown",
   "metadata": {},
   "source": [
    "<center><img src=\"images/02.06.jpg\"  style=\"width: 400px, height: 300px;\"/></center>\n"
   ]
  },
  {
   "cell_type": "markdown",
   "metadata": {},
   "source": [
    "# It's not significant"
   ]
  },
  {
   "cell_type": "markdown",
   "metadata": {},
   "source": [
    "You have a big deadline ahead. You need to submit a report on the data analysis for the project on San Francisco salaries to your technical lead. He will read it and report your results to the senior management team.\n",
    "\n",
    "You have a story, and you select data to support it. You want to show comparisons of average pay for people with different job titles.\n",
    "\n",
    "You are hesitant to show p-values. You know that there are a lot of misconceptions around it. You decide to use it anyway. However, you plan to clarify any confusion about p-values, so your audience understands its meaning and trusts your results.\n",
    "\n",
    "Can you classify these statements as good use or misuse of the p-value?"
   ]
  },
  {
   "cell_type": "markdown",
   "metadata": {},
   "source": [
    "<center><img src=\"images/02.07.jpg\"  style=\"width: 400px, height: 300px;\"/></center>\n"
   ]
  },
  {
   "cell_type": "markdown",
   "metadata": {},
   "source": [
    "# Salary development"
   ]
  },
  {
   "cell_type": "markdown",
   "metadata": {},
   "source": [
    "You are presenting your data analysis on San Francisco salaries to the business development department.\n",
    "\n",
    "You have your story, and you select data and metrics to support it. But choosing the visualizations is still an ongoing task. You decide to speed it up by getting hands-on. You want to follow the best practices.\n",
    "\n",
    "The message you want to convey is: \"San Francisco salaries have been constantly going up in the last 4 years. The percentage variation is 10% annually. The number of people working in the private sector, such as software or biotechnology, have increased by 100k.\"\n",
    "\n",
    "Can you classify if these practices would be good or bad when presenting to the business department?"
   ]
  },
  {
   "cell_type": "markdown",
   "metadata": {},
   "source": [
    "<center><img src=\"images/02.09.jpg\"  style=\"width: 400px, height: 300px;\"/></center>\n"
   ]
  },
  {
   "cell_type": "markdown",
   "metadata": {},
   "source": [
    "# Salary on demand"
   ]
  },
  {
   "cell_type": "markdown",
   "metadata": {},
   "source": [
    "You have selected visualizations for the business development department.\n",
    "\n",
    "It's time to include them in your report and present them. You are aware of the steps you should follow to include and present visualizations effectively, and you want to do your best and impress your business coworkers. So you ask a colleague to help you organize your thoughts.\n",
    "\n",
    "Can you order the steps for including and presenting visual data effectively?"
   ]
  },
  {
   "cell_type": "markdown",
   "metadata": {},
   "source": [
    "<center><img src=\"images/02.10.jpg\"  style=\"width: 400px, height: 300px;\"/></center>\n"
   ]
  },
  {
   "cell_type": "markdown",
   "metadata": {},
   "source": [
    "# A communication problem"
   ]
  },
  {
   "cell_type": "markdown",
   "metadata": {},
   "source": [
    "Your coworker has been working on a project on price predictions. He asks you to help him choose the most suitable format to deliver his results to the executive board as well as to his team.\n",
    "\n",
    "You give him a set of advice and rules of thumb, so he can make an informed decision. When you arrive home, you realize that you made one mistake.\n",
    "\n",
    "Which of the following advice should you not have provided?"
   ]
  },
  {
   "cell_type": "markdown",
   "metadata": {},
   "source": [
    "- If a software engineer in your team wants to continue your project with new data, the central piece of information to include in your meeting is the project conclusions."
   ]
  },
  {
   "cell_type": "markdown",
   "metadata": {},
   "source": [
    "# Should we meet?"
   ]
  },
  {
   "cell_type": "markdown",
   "metadata": {},
   "source": [
    "It's Friday. Your project manager comes by your desk. She asks you about the status of your project on salaries for San Francisco employees. She tells you that you need to close the project. Fortunately, you have finished building the model.\n",
    "\n",
    "But to close it, you need to communicate the results to the different stakeholders. After she talks with the people involved, you start to receive emails asking about the results. You need to decide if you are going to use an oral presentation or a written report.\n",
    "\n",
    "Can you decide what type of format would be best suited depending on the situation and requirements?"
   ]
  },
  {
   "cell_type": "markdown",
   "metadata": {},
   "source": [
    "<center><img src=\"images/02.13.jpg\"  style=\"width: 400px, height: 300px;\"/></center>\n"
   ]
  },
  {
   "cell_type": "markdown",
   "metadata": {},
   "source": [
    "# When in doubt"
   ]
  },
  {
   "cell_type": "markdown",
   "metadata": {},
   "source": [
    "You manage to deliver the results to almost all the stakeholders. You are about to start writing the report for the founder when you get an email. Your founder is coming by the office the following Friday. Your manager wants to know if presenting the project during a meeting would be better.\n",
    "\n",
    "You have second thoughts about changing the format. So you decide to write down beneficial and unfavorable aspects of an oral presentation.\n",
    "\n",
    "Can you classify your thoughts correctly?"
   ]
  },
  {
   "cell_type": "markdown",
   "metadata": {},
   "source": [
    "<center><img src=\"images/02.14.jpg\"  style=\"width: 400px, height: 300px;\"/></center>\n"
   ]
  }
 ],
 "metadata": {
  "kernelspec": {
   "display_name": "Python 3.8.11 ('env_py')",
   "language": "python",
   "name": "python3"
  },
  "language_info": {
   "name": "python",
   "version": "3.8.11"
  },
  "orig_nbformat": 4,
  "vscode": {
   "interpreter": {
    "hash": "1e949e87132dd83f1a7623eb88007e3532b03b66b77111be347aa4a383049722"
   }
  }
 },
 "nbformat": 4,
 "nbformat_minor": 2
}

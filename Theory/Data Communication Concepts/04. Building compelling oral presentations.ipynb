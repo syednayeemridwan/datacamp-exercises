{
 "cells": [
  {
   "cell_type": "markdown",
   "metadata": {},
   "source": [
    "# Is this the plan?"
   ]
  },
  {
   "cell_type": "markdown",
   "metadata": {},
   "source": [
    "You need to present your findings on software development sector salaries for San Francisco employees and the predictive model you used, which you worked on in Chapter 2, to the executive team.\n",
    "\n",
    "You open your computer and start drafting slides. But then, you recall the course you took on communicating with data. You feel that you are missing something. So you write down the facts you remember to build a compelling oral presentation.\n",
    "\n",
    "Can you identify which of the following statements is correct?"
   ]
  },
  {
   "cell_type": "markdown",
   "metadata": {},
   "source": [
    "<center><img src=\"images/04.02.jpg\"  style=\"width: 400px, height: 300px;\"/></center>\n"
   ]
  },
  {
   "cell_type": "markdown",
   "metadata": {},
   "source": [
    "# An effective plan!"
   ]
  },
  {
   "cell_type": "markdown",
   "metadata": {},
   "source": [
    "Well done! You identified which statements were correct. Now, you know how to plan your slides on salaries for San Francisco employees. It's time to determine which sections you will include in your presentation.\n",
    "\n",
    "Can you put in order the topics for the sections of your oral presentation?"
   ]
  },
  {
   "cell_type": "markdown",
   "metadata": {},
   "source": [
    "<center><img src=\"images/04.03.jpg\"  style=\"width: 400px, height: 300px;\"/></center>\n"
   ]
  },
  {
   "cell_type": "markdown",
   "metadata": {},
   "source": [
    "# A color building"
   ]
  },
  {
   "cell_type": "markdown",
   "metadata": {},
   "source": [
    "You have planned the presentation for your findings on software development sector salaries for San Francisco employees. Now, it's time to build the slides. After putting your slide deck together, you ask your coworker to give you feedback. She makes comments on the different slides.\n",
    "\n",
    "You start by reviewing the following graph slide."
   ]
  },
  {
   "cell_type": "markdown",
   "metadata": {},
   "source": [
    "<center><img src=\"images/04.05.png\"  style=\"width: 400px, height: 300px;\"/></center>\n",
    "One of the comments she wrote about the slide is not correct. Can you select which one it is?\n"
   ]
  },
  {
   "cell_type": "markdown",
   "metadata": {},
   "source": [
    "- The headline looks stylish. Even though the spacing between the letters is small, the font adds originality to the slide."
   ]
  },
  {
   "cell_type": "markdown",
   "metadata": {},
   "source": [
    "# Too much text"
   ]
  },
  {
   "cell_type": "markdown",
   "metadata": {},
   "source": [
    "Your coworker also gives you feedback on slides that only have text. She feels like the slide can be improved a lot. She gives you some options on how you can improve the slide.\n",
    "<center><img src=\"images/04.06.png\"  style=\"width: 400px, height: 300px;\"/></center>\n",
    "\n",
    "One of the following statement is not correct. Can you select which one is it?"
   ]
  },
  {
   "cell_type": "markdown",
   "metadata": {},
   "source": [
    "- Highlight the keywords in the text using red, green, yellow, blue, and magenta. Using several colors will help catch the audience's attention."
   ]
  },
  {
   "cell_type": "markdown",
   "metadata": {},
   "source": [
    "# The right building"
   ]
  },
  {
   "cell_type": "markdown",
   "metadata": {},
   "source": [
    "Well done building a text slide! Now, you need to review the rest of the comments from your coworker. She left you the feedback in two stacks of notes: one stack for best practices and one stack for what you should avoid. However, the stacks fell during your lunch break and are all mixed up.\n",
    "\n",
    "Can you classify which of the following comments are best practice in building a presentation, and which ones should be avoided?"
   ]
  },
  {
   "cell_type": "markdown",
   "metadata": {},
   "source": [
    "<center><img src=\"images/04.07.jpg\"  style=\"width: 400px, height: 300px;\"/></center>\n"
   ]
  },
  {
   "cell_type": "markdown",
   "metadata": {},
   "source": [
    "# Put it into practice"
   ]
  },
  {
   "cell_type": "markdown",
   "metadata": {},
   "source": [
    "Excellent job creating those slides for the project on software development sector salaries for San Francisco employees!\n",
    "\n",
    "Now that you have your slide deck ready, it's time to deliver your presentation. Your project manager sends you an email. She asks you if you can have the meeting at the end of the afternoon. You are unsure because you need to practice. So you ask for some time for rehearsal. To convince your manager, you make a list of the advantages of practicing and rehearsing a presentation.\n",
    "\n",
    "Can you decide which example you wrote is correct and which one is incorrect?"
   ]
  },
  {
   "cell_type": "markdown",
   "metadata": {},
   "source": [
    "<center><img src=\"images/04.09.jpg\"  style=\"width: 400px, height: 300px;\"/></center>\n"
   ]
  },
  {
   "cell_type": "markdown",
   "metadata": {},
   "source": [
    "# Best practice"
   ]
  },
  {
   "cell_type": "markdown",
   "metadata": {},
   "source": [
    "Your rehearsal went very well! You are ready to present to the stakeholders.\n",
    "\n",
    "However, you feel nervous. You know this is completely normal but you don't want to look like you are unsure of your content. You take three big breaths and remember your training. There are some key points that will help you deliver the presentation effectively.\n",
    "\n",
    "Can you identify which of this statements is a suitable point to consider, and which one is not?"
   ]
  },
  {
   "cell_type": "markdown",
   "metadata": {},
   "source": [
    "<center><img src=\"images/04.10.jpg\"  style=\"width: 400px, height: 300px;\"/></center>\n"
   ]
  },
  {
   "cell_type": "markdown",
   "metadata": {},
   "source": [
    "# The true mistake"
   ]
  },
  {
   "cell_type": "markdown",
   "metadata": {},
   "source": [
    "Your coworker asks you to help him practice for his presentation. He wants your feedback so he can be prepared to deliver an important project to the company's CEO.\n",
    "\n",
    "He gives you a list of best practices he should observe during his speech. But you notice that some of them are not correct.\n",
    "\n",
    "Can you identify which statements are wrong?"
   ]
  },
  {
   "cell_type": "markdown",
   "metadata": {},
   "source": [
    "<center><img src=\"images/04.12.jpg\"  style=\"width: 400px, height: 300px;\"/></center>\n"
   ]
  },
  {
   "cell_type": "markdown",
   "metadata": {},
   "source": [
    "# Do's and don'ts"
   ]
  },
  {
   "cell_type": "markdown",
   "metadata": {},
   "source": [
    "It's the day before the presentation for your project on customer churn. Your team lead arrives and tells you that the CEO will be there to listen to your results. You start getting nervous.\n",
    "\n",
    "You have planned your presentation. You built the slides focusing on a non-tech audience. You have practiced and rehearsed with some colleagues. But you really want to avoid making any common mistakes during your talk. So you decide to practice one more time.\n",
    "\n",
    "To achieve your goal, you need to remember best practices so you can implement them. Also, you should make a list of common errors so you can avoid them."
   ]
  },
  {
   "cell_type": "markdown",
   "metadata": {},
   "source": [
    "<center><img src=\"images/04.13.jpg\"  style=\"width: 400px, height: 300px;\"/></center>\n"
   ]
  }
 ],
 "metadata": {
  "kernelspec": {
   "display_name": "Python 3.8.11 ('env_py')",
   "language": "python",
   "name": "python3"
  },
  "language_info": {
   "name": "python",
   "version": "3.8.11"
  },
  "orig_nbformat": 4,
  "vscode": {
   "interpreter": {
    "hash": "1e949e87132dd83f1a7623eb88007e3532b03b66b77111be347aa4a383049722"
   }
  }
 },
 "nbformat": 4,
 "nbformat_minor": 2
}

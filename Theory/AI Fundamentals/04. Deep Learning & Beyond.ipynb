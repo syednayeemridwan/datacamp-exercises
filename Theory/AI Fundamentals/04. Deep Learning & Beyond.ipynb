{
 "cells": [
  {
   "cell_type": "markdown",
   "metadata": {},
   "source": [
    "# The nucleus"
   ]
  },
  {
   "cell_type": "markdown",
   "metadata": {},
   "source": [
    "Artificial neural networks are built from artificial neurons.\n",
    "\n",
    "Just like human neurons, artificial neurons have input pathways, bringing the signals to the neuron, and output pathways, leading the resulting signal further.\n",
    "\n",
    "The values of the inputs signals have been aggregated (usually just summed up), then the final output value of the neuron is defined by a function.\n",
    "\n",
    "What is this function called?"
   ]
  },
  {
   "cell_type": "markdown",
   "metadata": {},
   "source": [
    "- Activation function."
   ]
  },
  {
   "cell_type": "markdown",
   "metadata": {},
   "source": [
    "# How to train your dragon"
   ]
  },
  {
   "cell_type": "markdown",
   "metadata": {},
   "source": [
    "For a long time, neural networks were more of a theoretical concept than a practical tool. The reason for this was the lack of an efficient training algorithm.\n",
    "\n",
    "This all changed in 1986 when a group of authors published a famous paper. Which revolutionary algorithm did this paper further improve and popularize?"
   ]
  },
  {
   "cell_type": "markdown",
   "metadata": {},
   "source": [
    "- Backpropagation algorithm."
   ]
  },
  {
   "cell_type": "markdown",
   "metadata": {},
   "source": [
    "# Your first neural net"
   ]
  },
  {
   "cell_type": "markdown",
   "metadata": {},
   "source": [
    "All that buzz around AI and Deep Learning, but we already promised you it is not so scary when you take a look under the hood.\n",
    "\n",
    "You're going to create your first neural network, to solve a classification task.\n",
    "\n",
    "You are working with labelled sensor data which has:\n",
    "\n",
    "- 16 input columns, representing 16 features coming from a movement sensor of a smartwatch.\n",
    "- a target column representing one of 4 movement types: walking, running, sitting, lying.\n",
    "\n",
    "All the ingredients have been loaded for you: the Sequential() model and the Dense() layer -- you just have to put the ingredients in the right order, just like stacking pancakes!"
   ]
  },
  {
   "cell_type": "code",
   "execution_count": null,
   "metadata": {},
   "outputs": [],
   "source": [
    "# # Initialize the model\n",
    "# model = Sequential()\n",
    "\n",
    "# # Add the hidden and the output layer, specify the layer type, number of units and input/output dimensions\n",
    "# model.add(Dense(units=8, input_dim=16, activation='relu'))\n",
    "# model.add(Dense(units=4, activation='softmax'))\n",
    "\n",
    "# # Compile the model\n",
    "# model.compile(optimizer='adam', loss='categorical_crossentropy', metrics=['accuracy'])"
   ]
  },
  {
   "cell_type": "markdown",
   "metadata": {},
   "source": [
    "# Layers"
   ]
  },
  {
   "cell_type": "markdown",
   "metadata": {},
   "source": [
    "There are many types of layers in Deep Learning. One type in particular could be singled out and given credit for their rise in power and popularity, enabling Neural Nets to be come champions of image classification benchmarks.\n",
    "\n",
    "Which one is it?"
   ]
  },
  {
   "cell_type": "markdown",
   "metadata": {},
   "source": [
    "- Convolutional layer"
   ]
  },
  {
   "cell_type": "markdown",
   "metadata": {},
   "source": [
    "# Guess the architecture"
   ]
  },
  {
   "cell_type": "markdown",
   "metadata": {},
   "source": [
    "Streamify, a new audio streaming platform, entered the market. From day one, they are running into an issue: with hundreds of new artists and songs uploaded daily, there is rarely enough time to appropriately classify the content into genres, which significantly hurts their users' experience.\n",
    "\n",
    "Streamify wants you to train a Deep Learning model to perform this task automatically. You take up the challenge.\n",
    "\n",
    "Since you're dealing with a gigantic amount of audio data, whose main dimension is time, which of the following networks is the perfect candidate to extract patterns?"
   ]
  },
  {
   "cell_type": "markdown",
   "metadata": {},
   "source": [
    "- Recurrent neural network"
   ]
  },
  {
   "cell_type": "markdown",
   "metadata": {},
   "source": [
    "# Rolling in the deep"
   ]
  },
  {
   "cell_type": "markdown",
   "metadata": {},
   "source": [
    "You have been asked by the local police department to produce a Deep Learning model for license plate reading.\n",
    "\n",
    "Your input data are images of digits, 28 pixels wide and 28 pixels tall, each with a label stating which of the 10 possible digits is present on the picture.\n",
    "\n",
    "The Sequential() model is already loaded, which you will use to build a Deep Neural Network using the following layers:\n",
    "\n",
    "- `Conv2D()` - 2D convolutional layer\n",
    "- `MaxPooling2D()` - pooling layer\n",
    "- `Flatten()` - flattening layer\n",
    "- `Dense()` - fully connected layer"
   ]
  },
  {
   "cell_type": "code",
   "execution_count": null,
   "metadata": {},
   "outputs": [],
   "source": [
    "# # Initialize the model\n",
    "# model = Sequential()\n",
    "\n",
    "# # Create your 5-layer network (input specified implicitly with 1st layer)\n",
    "# model.add(Conv2D(filters=64, kernel_size=(3, 3), input_shape=(28, 28, 1)))\n",
    "# model.add(MaxPooling2D())\n",
    "# model.add(Flatten())\n",
    "# model.add(Dense(units=10, activation='softmax'))\n",
    "\n",
    "# # Set fitting hyper-parameters and compile the model\n",
    "# model.compile(optimizer='adam', loss='categorical_crossentropy', metrics=['accuracy'])"
   ]
  },
  {
   "cell_type": "markdown",
   "metadata": {},
   "source": [
    "# The Beauty of the Beast"
   ]
  },
  {
   "cell_type": "markdown",
   "metadata": {},
   "source": [
    "Convolutional Neural Networks have come to dominate the domain of Computer Vision. What is the key reason, and fundamental difference compared to traditional Computer Vision algorithms, why this is the case?"
   ]
  },
  {
   "cell_type": "markdown",
   "metadata": {},
   "source": [
    "- CNNs autonomously learn optimal feature transformations leading to best possible performance"
   ]
  },
  {
   "cell_type": "markdown",
   "metadata": {},
   "source": [
    "# One-liner modeling"
   ]
  },
  {
   "cell_type": "markdown",
   "metadata": {},
   "source": [
    "Modern Deep Learning libraries already help you by abstracting an ever bigger part of work that was once required to build neural networks.\n",
    "\n",
    "As you could already see, in just 10 lines of code you can specify an extremely powerful network that could be trained for days, using terabytes of data.\n",
    "\n",
    "But sometimes you want to go even further into abstraction: when you have a typical network specification that you often use, changing only a handful of parameters, it's a good idea to enclose it in a function.\n",
    "\n",
    "That's what you will do in this exercise, and later reuse the created function for further exercises."
   ]
  },
  {
   "cell_type": "code",
   "execution_count": null,
   "metadata": {},
   "outputs": [],
   "source": [
    "# def make_deep_net(input_shape, n_output_classes, n_kernels=32, kernel_size=(3,3)):\n",
    "#     # Initialize the sequential model\n",
    "#     model = Sequential()\t\n",
    "#     # Add the convolutional layer (containing implicitly the input layer)\n",
    "#     model.add(Conv2D(input_shape=input_shape, filters=n_kernels, kernel_size=kernel_size, activation='relu'))\n",
    "#     # Add the flattening layer\n",
    "#     model.add(Flatten())\t\n",
    "#     # Add the fully connected layer\n",
    "#     model.add(Dense(n_output_classes, activation='softmax')) \n",
    "#     # Compile the model\n",
    "#     model.compile(optimizer=\"adam\", metrics=[\"accuracy\"], loss='categorical_crossentropy')\n",
    "    \n",
    "#     return model"
   ]
  },
  {
   "cell_type": "markdown",
   "metadata": {},
   "source": [
    "# One-line evaluation"
   ]
  },
  {
   "cell_type": "markdown",
   "metadata": {},
   "source": [
    "Although constant progress is being made, not all outputs of your modeling and evaluation algorithms come in a human readable shape.\n",
    "\n",
    "Very often they come in plain arrays of unnamed values, requiring you to read through the documentation in order to interpret what each value means.\n",
    "\n",
    "In such cases it is again clever to make wrapper functions that format and return the results in a neat and understandable way.\n",
    "\n",
    "The evaluation result, stored in the variable score, is an array whose first element is the loss and the second accuracy of the model over the given dataset."
   ]
  },
  {
   "cell_type": "code",
   "execution_count": null,
   "metadata": {},
   "outputs": [],
   "source": [
    "# def evaluate_deep_net(model, x_test, y_test):\n",
    "#     # Generate the test predictions and evaluate against the ground truth\n",
    "#     score = model.evaluate(x=x_test, y=y_test)\n",
    "#     # Print the evaluation results in a human readable form\n",
    "#     print('Test loss: %.2f' % score[0])\n",
    "#     print('Test accuracy: %.2f %%' % (100*score[1]))"
   ]
  },
  {
   "cell_type": "markdown",
   "metadata": {},
   "source": [
    "# Deep Learning for Digit Recognition"
   ]
  },
  {
   "cell_type": "markdown",
   "metadata": {},
   "source": [
    "Deep Learning models excel at classifying unstructured data, such as images and text. Common problems solved by Deep Learning include image classification, object detection, text translation, and text summarization.\n",
    "\n",
    "In this exercise, you will use the functions defined in previous exercises (make_deep_net() and evaluate_deep_net()) to build a Deep Neural Network for recognizing hand-written digits.\n",
    "\n",
    "You will train and test your model using the well known MNIST dataset, which contains a collection of images of individual hand-written digits, each 28x28 pixels big.\n",
    "\n",
    "The dataset is pre-loaded and split into the training and test sets:(x_train, y_train) and (x_test, y_test)."
   ]
  },
  {
   "cell_type": "code",
   "execution_count": null,
   "metadata": {},
   "outputs": [],
   "source": [
    "# # Construct the Deep Neural Network\n",
    "# deep_net = make_deep_net(input_shape=[28, 28, 1],\n",
    "#                          n_output_classes=10)\n",
    "\n",
    "# # Train the Deep Neural Network\n",
    "# deep_net.fit(x=x_train, y=y_train,\n",
    "#           \t validation_data=(x_test, y_test),\n",
    "#           \t batch_size=128,\n",
    "#           \t epochs=3)\n",
    "\n",
    "# # Estimate the network performance\n",
    "# evaluate_deep_net(deep_net, x=x_test, y=y_test)"
   ]
  }
 ],
 "metadata": {
  "kernelspec": {
   "display_name": "Python 3.8.11 ('env_py')",
   "language": "python",
   "name": "python3"
  },
  "language_info": {
   "name": "python",
   "version": "3.8.11"
  },
  "orig_nbformat": 4,
  "vscode": {
   "interpreter": {
    "hash": "1e949e87132dd83f1a7623eb88007e3532b03b66b77111be347aa4a383049722"
   }
  }
 },
 "nbformat": 4,
 "nbformat_minor": 2
}

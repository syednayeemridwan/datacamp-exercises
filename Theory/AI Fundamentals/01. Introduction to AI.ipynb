{
 "cells": [
  {
   "cell_type": "markdown",
   "metadata": {},
   "source": [
    "# General vs Narrow AI"
   ]
  },
  {
   "cell_type": "markdown",
   "metadata": {},
   "source": [
    "Some computer algorithms are capable of mimicking human intelligence, to reason and solve problems on their own, and to apply previously acquired knowledge on completely new types of problems. These algorithms fall into the domain of:"
   ]
  },
  {
   "cell_type": "markdown",
   "metadata": {},
   "source": [
    "- Artificial General Intelligence (General AI)"
   ]
  },
  {
   "cell_type": "markdown",
   "metadata": {},
   "source": [
    "# Why Python?"
   ]
  },
  {
   "cell_type": "markdown",
   "metadata": {},
   "source": [
    "Python is the best choice for developing machine learning solutions. Why is that the case?"
   ]
  },
  {
   "cell_type": "markdown",
   "metadata": {},
   "source": [
    "- Python has a simple and beautiful syntax.\n",
    "- Python is very versatile.\n",
    "- Python is very flexible.\n",
    "- Python offers rich AI-related libraries.\n",
    "- The Python community is big and growing fast."
   ]
  },
  {
   "cell_type": "markdown",
   "metadata": {},
   "source": [
    "# The elephant in the room"
   ]
  },
  {
   "cell_type": "markdown",
   "metadata": {},
   "source": [
    "To further illustrate the concept of Narrow AI, let's see what happens when an algorithm trained for one problem, is given a completely unrelated input and asked for a prediction.\n",
    "\n",
    "Specifically, what happens when you feed a picture of an elephant into a model that is trained to recognize handwritten digits?\n",
    "\n",
    "To make things simple, a digit recognition model has been pre-trained. Your task is to feed the elephant image into it and see the result."
   ]
  },
  {
   "cell_type": "code",
   "execution_count": 1,
   "metadata": {},
   "outputs": [],
   "source": [
    "# # Load the test example\n",
    "# elephant_image = load_elephant()\n",
    "\n",
    "# # Apply the model on the test example\n",
    "# test_digit_predictor(elephant_image, 'elephant')"
   ]
  },
  {
   "cell_type": "markdown",
   "metadata": {},
   "source": [
    "# Parameters & hyper-parameters"
   ]
  },
  {
   "cell_type": "markdown",
   "metadata": {},
   "source": [
    "Let's explore the impact of hyper-parameters on the performance of your model.\n",
    "\n",
    "You are building a digit recognition algorithm using the LogisticRegression classifier and you are challenged to find the optimal value of its regularization parameter, C.\n",
    "\n",
    "Lower values of C make the model more conservative and resilient to noise, while higher values give it more flexibility and capacity to capture the nuances. If you increase it too much, you risk overfitting.\n",
    "\n",
    "Where is the \"sweet spot\"?"
   ]
  },
  {
   "cell_type": "code",
   "execution_count": 3,
   "metadata": {},
   "outputs": [],
   "source": [
    "# # Define the model\n",
    "# model = LogisticRegression(C=0.000001)\n",
    "\n",
    "# # Fit the model\n",
    "# model.fit(training_inputs, training_labels)\n",
    "\n",
    "# # Check model performance\n",
    "# check_performance(model, testing_inputs, testing_labels)"
   ]
  },
  {
   "cell_type": "code",
   "execution_count": 4,
   "metadata": {},
   "outputs": [],
   "source": [
    "# # Define the model\n",
    "# model = LogisticRegression(C=0.0001)\n",
    "\n",
    "# # Fit the model\n",
    "# model.fit(training_inputs, training_labels)\n",
    "\n",
    "# # Check model performance\n",
    "# check_performance(model, testing_inputs, testing_labels)"
   ]
  },
  {
   "cell_type": "code",
   "execution_count": 5,
   "metadata": {},
   "outputs": [],
   "source": [
    "# # Define the model\n",
    "# model = LogisticRegression(C=0.01)\n",
    "\n",
    "# # Fit the model\n",
    "# model.fit(training_inputs, training_labels)\n",
    "\n",
    "# # Check model performance\n",
    "# check_performance(model, testing_inputs, testing_labels)"
   ]
  },
  {
   "cell_type": "code",
   "execution_count": 6,
   "metadata": {},
   "outputs": [],
   "source": [
    "# # Define the model\n",
    "# model = LogisticRegression(C=100)\n",
    "\n",
    "# # Fit the model\n",
    "# model.fit(training_inputs, training_labels)\n",
    "\n",
    "# # Check model performance\n",
    "# check_performance(model, testing_inputs, testing_labels)"
   ]
  },
  {
   "cell_type": "markdown",
   "metadata": {},
   "source": [
    "# Too much of a good thing"
   ]
  },
  {
   "cell_type": "markdown",
   "metadata": {},
   "source": [
    "Let's inspect the issue of overfitting in a more visual way.\n",
    "\n",
    "Say you have measured the temperature in your office for several days and you want to create a model to describe these oscillations.\n",
    "\n",
    "You have (wisely) decided to tackle this challenge using a polynomial model. Your task is now to find the right value of the hyper-parameter representing the degree of the polynomial.\n",
    "\n",
    "But be careful! As your measurements are quite noisy (because you used a cheap thermometer), you're in danger of overfitting if you exaggerate with model complexity.\n",
    "\n",
    "A fit_polynomial() function has been defined for you."
   ]
  },
  {
   "cell_type": "code",
   "execution_count": 7,
   "metadata": {},
   "outputs": [],
   "source": [
    "# # Set degree to 1\n",
    "# fit_polynomial(degree=1)"
   ]
  },
  {
   "cell_type": "markdown",
   "metadata": {},
   "source": [
    "<center><img src=\"images/01.071.svg\"  style=\"width: 200px, height: 200px;\"/></center>\n"
   ]
  },
  {
   "cell_type": "code",
   "execution_count": 8,
   "metadata": {},
   "outputs": [],
   "source": [
    "# # Set degree to 4\n",
    "# fit_polynomial(degree=4)"
   ]
  },
  {
   "cell_type": "markdown",
   "metadata": {},
   "source": [
    "<center><img src=\"images/01.072.svg\"  style=\"width: 200px, height: 200px;\"/></center>\n"
   ]
  },
  {
   "cell_type": "code",
   "execution_count": 9,
   "metadata": {},
   "outputs": [],
   "source": [
    "# # Set degree to 30\n",
    "# fit_polynomial(degree=30)"
   ]
  },
  {
   "cell_type": "markdown",
   "metadata": {},
   "source": [
    "<center><img src=\"images/01.073.svg\"  style=\"width: 200px, height: 200px;\"/></center>\n"
   ]
  },
  {
   "cell_type": "markdown",
   "metadata": {},
   "source": [
    "# Guess the flavor I"
   ]
  },
  {
   "cell_type": "markdown",
   "metadata": {},
   "source": [
    "A model is trained based on a collection of pictures to recognize cats and dogs in pictures, annotated with appropriate labels. Into which domain does this model fall?"
   ]
  },
  {
   "cell_type": "markdown",
   "metadata": {},
   "source": [
    "- This model falls into the domain of supervised learning."
   ]
  },
  {
   "cell_type": "markdown",
   "metadata": {},
   "source": [
    "# Guess the flavor II"
   ]
  },
  {
   "cell_type": "markdown",
   "metadata": {},
   "source": [
    "You want to apply machine learning on a large collection of news articles and cluster them into groups, so that you could identify and count recurring topics, while ignoring the existing news categorization.\n",
    "\n",
    "Which flavor of Machine Learning algorithms is the most appropriate for this task?"
   ]
  },
  {
   "cell_type": "markdown",
   "metadata": {},
   "source": [
    "- Unsupervised learning is the most appropriate approach for this task."
   ]
  },
  {
   "cell_type": "markdown",
   "metadata": {},
   "source": [
    "# Simple digit recognition"
   ]
  },
  {
   "cell_type": "markdown",
   "metadata": {},
   "source": [
    "You want to build, train and test the simplest digit recognition algorithm.\n",
    "\n",
    "However simple or complex the Machine Learning problem at hand may be, it will always contain the following steps:\n",
    "\n",
    "Data loading, preparation and splitting into the train and test partitions\n",
    "Model selection and training (\"fitting\")\n",
    "Model performance assessment\n",
    "For this purpose, you will load a dataset containing 1797 images of individual digits, 8x8 pixels in size.\n",
    "\n",
    "Just remember that you use regressors for predicting quantities and classifiers when dealing with categories as the output.\n",
    "\n",
    "evaluate_predictions() has been defined for you."
   ]
  },
  {
   "cell_type": "code",
   "execution_count": 10,
   "metadata": {},
   "outputs": [],
   "source": [
    "# # Select the model appropriate for the task\n",
    "# model = DecisionTreeClassifier()\n",
    "\n",
    "# # Train the model\n",
    "# model.fit(X=X_train, y=y_train)\n",
    "\n",
    "# # Generate predictions\n",
    "# prediction_results = model.predict(X=X_test) \n",
    "\n",
    "# # Test the model\n",
    "# evaluate_predictions(y_true=y_test,\n",
    "#                      y_pred=prediction_results)"
   ]
  }
 ],
 "metadata": {
  "kernelspec": {
   "display_name": "Python 3.8.11 ('env_py')",
   "language": "python",
   "name": "python3"
  },
  "language_info": {
   "codemirror_mode": {
    "name": "ipython",
    "version": 3
   },
   "file_extension": ".py",
   "mimetype": "text/x-python",
   "name": "python",
   "nbconvert_exporter": "python",
   "pygments_lexer": "ipython3",
   "version": "3.8.11"
  },
  "orig_nbformat": 4,
  "vscode": {
   "interpreter": {
    "hash": "1e949e87132dd83f1a7623eb88007e3532b03b66b77111be347aa4a383049722"
   }
  }
 },
 "nbformat": 4,
 "nbformat_minor": 2
}

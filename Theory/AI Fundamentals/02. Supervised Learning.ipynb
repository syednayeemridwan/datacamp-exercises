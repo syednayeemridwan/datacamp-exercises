{
 "cells": [
  {
   "cell_type": "markdown",
   "metadata": {},
   "source": [
    "# Regression or Classification I"
   ]
  },
  {
   "cell_type": "markdown",
   "metadata": {},
   "source": [
    "Your company has a problem with too many suppliers failing to meet their delivery deadlines, which creates a lot of downstream problems in your production and many angry customers.\n",
    "\n",
    "Your boss tells you that you have a very rich database of supplier data and asks you to build an algorithm for early prediction of suppliers which are too risky to work with.\n",
    "\n",
    "What kind of model should you use?"
   ]
  },
  {
   "cell_type": "markdown",
   "metadata": {},
   "source": [
    "- Classification should be used to predict risky suppliers."
   ]
  },
  {
   "cell_type": "markdown",
   "metadata": {},
   "source": [
    "# When regression means classification"
   ]
  },
  {
   "cell_type": "markdown",
   "metadata": {},
   "source": [
    "OK, so you have a classification problem at your hands. Neat.\n",
    "\n",
    "Now you talk to your client, which tells you that the algorithm needs to be implemented on their legacy systems, with very poor computing resources.\n",
    "\n",
    "It turns out you can only run the simplest of models there and you have only two options: `LinearRegression()` and `LogisticRegression()`.\n",
    "\n",
    "But you need a classifier and these models have \"regression\" in their name, can you really pull this off?\n",
    "\n",
    "If you paid attention in the previous video lesson, you know there's no reason to worry so just go ahead and select the right algorithm for your problem."
   ]
  },
  {
   "cell_type": "code",
   "execution_count": 1,
   "metadata": {},
   "outputs": [],
   "source": [
    "# # Select the model\n",
    "# model = LogisticRegression()\n",
    "\n",
    "# # Train the model\n",
    "# model.fit(X_train, y_train)"
   ]
  },
  {
   "cell_type": "markdown",
   "metadata": {},
   "source": [
    "# SPAMtastic!"
   ]
  },
  {
   "cell_type": "markdown",
   "metadata": {},
   "source": [
    "You have built an e-mail SPAM filtering algorithm.\n",
    "\n",
    "Which metric is best suited to quantify the percentage of emails your algorithm flags as spam that are actually spam?"
   ]
  },
  {
   "cell_type": "markdown",
   "metadata": {},
   "source": [
    "- Precision."
   ]
  },
  {
   "cell_type": "markdown",
   "metadata": {},
   "source": [
    "# Hold-out"
   ]
  },
  {
   "cell_type": "markdown",
   "metadata": {},
   "source": [
    "You already know about the danger of overfitting, which occurs when your model learns the training data too well, but then performs poorly when faced with new data.\n",
    "\n",
    "Because of that, you've been urged to always test your model using data that wasn't previously used for training.\n",
    "\n",
    "But don't take our word for it, see for yourself!\n",
    "\n",
    "You will use a dataset consisting of two classes. 60% of the data has been selected for training and stored in X_train and y_train. The remaining 40% is stored in variables X_test and y_test.\n",
    "\n",
    "You will train a RandomForestClassifier() model and see the difference in performance:\n",
    "\n",
    "- when it's applied on the very same data used to train it\n",
    "- when it's applied on data just slightly different from the training set"
   ]
  },
  {
   "cell_type": "code",
   "execution_count": 2,
   "metadata": {},
   "outputs": [],
   "source": [
    "# # Model setup\n",
    "# model = RandomForestClassifier(n_estimators=5, max_depth=20)\n",
    "\n",
    "# # Model fitting\n",
    "# model.fit(X_train, y_train)\n",
    "\n",
    "# # Testing on training data\n",
    "# test_and_show_accuracy(model,\n",
    "#                        X_test=X_train, \n",
    "#                        y_test=y_train)"
   ]
  },
  {
   "cell_type": "code",
   "execution_count": 3,
   "metadata": {},
   "outputs": [],
   "source": [
    "# # Model setup\n",
    "# model = RandomForestClassifier(n_estimators=5, max_depth=20)\n",
    "\n",
    "# # Model fitting\n",
    "# model.fit(X_train, y_train)\n",
    "\n",
    "# # Testing on testing data\n",
    "# test_and_show_accuracy(model,\n",
    "#                        X_test=X_test, \n",
    "#                        y_test=y_test)"
   ]
  },
  {
   "cell_type": "markdown",
   "metadata": {},
   "source": [
    "# Tailor made"
   ]
  },
  {
   "cell_type": "markdown",
   "metadata": {},
   "source": [
    "You need to estimate the goodness-of-fit of your regression model to your data in a relative, unit-less manner. Which metric should be your first choice?"
   ]
  },
  {
   "cell_type": "markdown",
   "metadata": {},
   "source": [
    "- The R^2 score."
   ]
  },
  {
   "cell_type": "markdown",
   "metadata": {},
   "source": [
    "# Going non-linear"
   ]
  },
  {
   "cell_type": "markdown",
   "metadata": {},
   "source": [
    "You're about to see how it's possible to model non-linear relationships using linear regression models.\n",
    "\n",
    "To make this \"transition\", you don't have to change anything in the model, you just have to generate higher order features  and interaction features.\n",
    "You will first try to fit a purely linear model to a quadratic process and check the R^2 score.\n",
    "\n",
    "After that you'll use the function PolynomialFeatures() to generate, well, polynomial features and see how much better your fit is -- both visually and according to the R^2 score.\n",
    "\n",
    "Finally, you've been provided with the custom function check_model_fit() that plots the model predictions against actual data and prints the R^2 score of your model."
   ]
  },
  {
   "cell_type": "code",
   "execution_count": 5,
   "metadata": {},
   "outputs": [],
   "source": [
    "# # Select the appropriate method to call the model training procedure\n",
    "# linear_model.fit(X=x_train, y=y_train)\n",
    "\n",
    "# # Check the \"goodness-of-fit\" of the fitted model\n",
    "# check_model_fit(model=linear_model,\n",
    "#                 x=x_train,\n",
    "#                 y=y_train)"
   ]
  },
  {
   "cell_type": "markdown",
   "metadata": {},
   "source": [
    "<center><img src=\"images/02.091.svg\"  style=\"width: 200px, height: 200px;\"/></center>\n"
   ]
  },
  {
   "cell_type": "code",
   "execution_count": 6,
   "metadata": {},
   "outputs": [],
   "source": [
    "# # Create a new dataset x2_train with 2nd degree polynomial features.\n",
    "# poly = PolynomialFeatures(degree=2)\n",
    "# x2_train = poly.fit_transform(x_train)\n",
    "\n",
    "# # Fit the linear model using the newly created dataset\n",
    "# linear_model.fit(X=x2_train, y=y_train)\n",
    "\n",
    "# # Check the \"goodness-of-fit\" of the fitted model  \n",
    "# check_model_fit(model=linear_model,\n",
    "#                 x=x2_train,\n",
    "#                 y=y_train)"
   ]
  },
  {
   "cell_type": "markdown",
   "metadata": {},
   "source": [
    "<center><img src=\"images/02.092.svg\"  style=\"width: 200px, height: 200px;\"/></center>\n"
   ]
  }
 ],
 "metadata": {
  "kernelspec": {
   "display_name": "Python 3.8.3 ('base')",
   "language": "python",
   "name": "python3"
  },
  "language_info": {
   "codemirror_mode": {
    "name": "ipython",
    "version": 3
   },
   "file_extension": ".py",
   "mimetype": "text/x-python",
   "name": "python",
   "nbconvert_exporter": "python",
   "pygments_lexer": "ipython3",
   "version": "3.8.3"
  },
  "orig_nbformat": 4,
  "vscode": {
   "interpreter": {
    "hash": "dc575bfddb5c8ca4bb6a4f4dcdd32abc104b5fa4177361381c432fff36ce3e46"
   }
  }
 },
 "nbformat": 4,
 "nbformat_minor": 2
}

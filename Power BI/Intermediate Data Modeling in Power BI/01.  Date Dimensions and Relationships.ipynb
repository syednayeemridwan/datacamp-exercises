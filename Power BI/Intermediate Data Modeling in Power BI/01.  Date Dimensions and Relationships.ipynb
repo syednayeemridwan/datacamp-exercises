{
 "cells": [
  {
   "attachments": {},
   "cell_type": "markdown",
   "metadata": {},
   "source": [
    "# Cardinality"
   ]
  },
  {
   "attachments": {},
   "cell_type": "markdown",
   "metadata": {},
   "source": [
    "Cardinality is an important consideration when working with tables in Power BI. By understanding the cardinality of a given relationship, you will be able to form expectations about how you can aggregate and visualize the data. If you expect one row but actually have many, it could cause duplication of results on screen or incorrect aggregations.\n",
    "\n",
    "A relationship from a fact table to a dimension is typically which of the following?"
   ]
  },
  {
   "attachments": {},
   "cell_type": "markdown",
   "metadata": {},
   "source": [
    "- Many-to-one (eg: Many transactions from one user)"
   ]
  }
 ],
 "metadata": {
  "kernelspec": {
   "display_name": "env_py",
   "language": "python",
   "name": "python3"
  },
  "language_info": {
   "name": "python",
   "version": "3.8.11 (default, Aug  6 2021, 09:57:55) [MSC v.1916 64 bit (AMD64)]"
  },
  "orig_nbformat": 4,
  "vscode": {
   "interpreter": {
    "hash": "1e949e87132dd83f1a7623eb88007e3532b03b66b77111be347aa4a383049722"
   }
  }
 },
 "nbformat": 4,
 "nbformat_minor": 2
}

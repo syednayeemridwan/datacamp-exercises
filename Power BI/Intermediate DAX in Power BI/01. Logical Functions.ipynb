{
 "cells": [
  {
   "attachments": {},
   "cell_type": "markdown",
   "metadata": {},
   "source": [
    "# Interpreting SWITCH()"
   ]
  },
  {
   "attachments": {},
   "cell_type": "markdown",
   "metadata": {},
   "source": [
    "Logical functions are utilized to perform more complex computations. As you begin to write these complex computations it's important that you understand how to decipher the expected results when writing it with DAX.\n",
    "\n",
    "What is the result of the following DAX function?\n",
    "```\n",
    "SWITCH(TRUE, \n",
    "    OR(FALSE, FALSE), \"1\", \n",
    "    AND(TRUE, FALSE), \"2\", \n",
    "    OR(TRUE, FALSE), \"3\", \n",
    "    \"4\" )\n",
    "```"
   ]
  },
  {
   "attachments": {},
   "cell_type": "markdown",
   "metadata": {},
   "source": [
    "- 3"
   ]
  }
 ],
 "metadata": {
  "kernelspec": {
   "display_name": "env_py",
   "language": "python",
   "name": "python3"
  },
  "language_info": {
   "name": "python",
   "version": "3.8.11 (default, Aug  6 2021, 09:57:55) [MSC v.1916 64 bit (AMD64)]"
  },
  "orig_nbformat": 4,
  "vscode": {
   "interpreter": {
    "hash": "1e949e87132dd83f1a7623eb88007e3532b03b66b77111be347aa4a383049722"
   }
  }
 },
 "nbformat": 4,
 "nbformat_minor": 2
}

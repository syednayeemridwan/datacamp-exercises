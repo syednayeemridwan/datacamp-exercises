{
 "cells": [
  {
   "cell_type": "markdown",
   "metadata": {},
   "source": [
    "# Power Query vs. Power BI"
   ]
  },
  {
   "cell_type": "markdown",
   "metadata": {},
   "source": [
    "Power Query includes a considerable number of built-in operations to modify columns, and it serves very well as an \"80%\" solution. That said, there are column properties which you can edit only outside of Power Query, and it is important to know where you can find these elements in the Power BI user interface.\n",
    "\n",
    "Which of the following data modeling steps can you only change outside the Power BI user interface?"
   ]
  },
  {
   "cell_type": "markdown",
   "metadata": {},
   "source": [
    "- Unpivot a table \n",
    "- Although there are visualization tricks to mimic (un)pivoting tables in Power BI, actual table (un)pivoting happens in Power Query."
   ]
  }
 ],
 "metadata": {
  "kernelspec": {
   "display_name": "Python 3.8.11 ('env_py')",
   "language": "python",
   "name": "python3"
  },
  "language_info": {
   "name": "python",
   "version": "3.8.11"
  },
  "orig_nbformat": 4,
  "vscode": {
   "interpreter": {
    "hash": "1e949e87132dd83f1a7623eb88007e3532b03b66b77111be347aa4a383049722"
   }
  }
 },
 "nbformat": 4,
 "nbformat_minor": 2
}

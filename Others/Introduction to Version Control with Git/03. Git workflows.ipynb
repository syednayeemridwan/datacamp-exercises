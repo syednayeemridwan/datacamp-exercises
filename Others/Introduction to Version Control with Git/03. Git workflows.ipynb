{
 "cells": [
  {
   "cell_type": "markdown",
   "metadata": {},
   "source": [
    "# Modifying your email address in Git"
   ]
  },
  {
   "cell_type": "markdown",
   "metadata": {},
   "source": [
    "Updating your configuration settings with Git can save you time, particularly where some commands require your credentials to verify access to repositories.\n",
    "\n",
    "In this exercise, you'll configure your email settings."
   ]
  },
  {
   "cell_type": "markdown",
   "metadata": {},
   "source": [
    "<center><img src=\"images/03.02.jpg\"  style=\"width: 400px, height: 300px;\"/></center>\n"
   ]
  },
  {
   "cell_type": "markdown",
   "metadata": {},
   "source": [
    "# Creating an alias"
   ]
  },
  {
   "cell_type": "markdown",
   "metadata": {},
   "source": [
    "As you work with Git more regularly, you will likely notice that you are performing certain tasks repetitively.\n",
    "\n",
    "In this case, you have noticed that you are often checking which files have been modified and where you are in the workflow.\n",
    "\n",
    "Therefore, you will change the command used to check the state of files to an alias, allowing you to save time."
   ]
  },
  {
   "cell_type": "markdown",
   "metadata": {},
   "source": [
    "<center><img src=\"images/03.03.jpg\"  style=\"width: 400px, height: 300px;\"/></center>\n"
   ]
  },
  {
   "cell_type": "markdown",
   "metadata": {},
   "source": [
    "# Ignoring files"
   ]
  },
  {
   "cell_type": "markdown",
   "metadata": {},
   "source": [
    "Data analysis often produces temporary or intermediate files that you don't want to save.\n",
    "\n",
    "You can tell it to stop paying attention to files you don't care about by creating a file in the root directory of your repository called `.gitignore` and storing a list of wildcard patterns that specify the files you don't want Git to pay attention to.\n",
    "\n",
    "Which of the following files would not be ignored by a .gitignore that contained the lines:\n",
    "```\n",
    "pdf\n",
    "*.py\n",
    "*.log\n",
    "backup/*\n",
    "```"
   ]
  },
  {
   "cell_type": "markdown",
   "metadata": {},
   "source": [
    "- `report.pdf`"
   ]
  },
  {
   "cell_type": "markdown",
   "metadata": {},
   "source": [
    "# Branching and merging"
   ]
  },
  {
   "cell_type": "markdown",
   "metadata": {},
   "source": [
    "Interpreting branches and merges is essential when working with Git.\n",
    "\n",
    "In the diagram below, each box is a commit and the arrows point to the next commit. How many merges have taken place?"
   ]
  },
  {
   "cell_type": "markdown",
   "metadata": {},
   "source": [
    "<center><img src=\"images/03.06.svg\"  style=\"width: 400px, height: 300px;\"/></center>\n"
   ]
  },
  {
   "cell_type": "markdown",
   "metadata": {},
   "source": [
    "- Two"
   ]
  },
  {
   "cell_type": "markdown",
   "metadata": {},
   "source": [
    "# Creating new branches"
   ]
  },
  {
   "cell_type": "markdown",
   "metadata": {},
   "source": [
    "You have some more content to add to `summary_statistics.csv` for the `mh_survey` project, and then you'll be moving on to the report phase. Therefore, you would like to make a new branch called `report` where you can work on the project report.\n",
    "\n",
    "The branch needs to be created from the `summary-statistics` branch, in which you are currently located in.\n",
    "\n",
    "Your task is to finish working on the summary statistics file, make a commit, then create the `report` branch."
   ]
  },
  {
   "cell_type": "markdown",
   "metadata": {},
   "source": [
    "<center><img src=\"images/03.07.jpg\"  style=\"width: 400px, height: 300px;\"/></center>\n"
   ]
  },
  {
   "cell_type": "markdown",
   "metadata": {},
   "source": [
    "# Checking the number of branches"
   ]
  },
  {
   "cell_type": "markdown",
   "metadata": {},
   "source": [
    "You've seen how to create new branches and develop in them, but it's also important to be able to identify the number of branches in a repo so you can keep track of concurrent development across your project.\n",
    "\n",
    "You are in the `mh_survey` repos—how many branches are there?"
   ]
  },
  {
   "cell_type": "markdown",
   "metadata": {},
   "source": [
    "<center><img src=\"images/03.08.jpg\"  style=\"width: 400px, height: 300px;\"/></center>\n"
   ]
  },
  {
   "cell_type": "markdown",
   "metadata": {},
   "source": [
    "- 4"
   ]
  },
  {
   "cell_type": "markdown",
   "metadata": {},
   "source": [
    "# Comparing branches"
   ]
  },
  {
   "cell_type": "markdown",
   "metadata": {},
   "source": [
    "If you're working across multiple branches then you may want to compare the state of repos between branches from time to time.\n",
    "\n",
    "You are in the `mh_survey` repository and would like to compare two branches."
   ]
  },
  {
   "cell_type": "markdown",
   "metadata": {},
   "source": [
    "<center><img src=\"images/03.09.jpg\"  style=\"width: 400px, height: 300px;\"/></center>\n"
   ]
  },
  {
   "cell_type": "markdown",
   "metadata": {},
   "source": [
    "# Switching branches"
   ]
  },
  {
   "cell_type": "markdown",
   "metadata": {},
   "source": [
    "You have previously created a new branch called `report`.\n",
    "\n",
    "Now it's time to switch into this new branch and edit `report.md` with some of your findings."
   ]
  },
  {
   "cell_type": "markdown",
   "metadata": {},
   "source": [
    "<center><img src=\"images/03.11.jpg\"  style=\"width: 400px, height: 300px;\"/></center>\n"
   ]
  },
  {
   "cell_type": "markdown",
   "metadata": {},
   "source": [
    "# Merging two branches"
   ]
  },
  {
   "cell_type": "markdown",
   "metadata": {},
   "source": [
    "You've updated the project `report` in the report branch, and now need to merge it into main to keep it accurate and up to date."
   ]
  },
  {
   "cell_type": "markdown",
   "metadata": {},
   "source": [
    "<center><img src=\"images/03.12.jpg\"  style=\"width: 400px, height: 300px;\"/></center>\n"
   ]
  },
  {
   "cell_type": "markdown",
   "metadata": {},
   "source": [
    "# Recognizing conflict syntax"
   ]
  },
  {
   "cell_type": "markdown",
   "metadata": {},
   "source": [
    "Despite best intentions, some conflicts have come up in your project.\n",
    "\n",
    "Some updates have been made to the `report.md` file in the `alter-report-title` branch as well as the `main` branch.\n",
    "\n",
    "This image shows the conflicts that Git has identified when you tried to merge `alter-report-title` into `main`.\n",
    "\n",
    "<center><img src=\"images/03.14.png\"  style=\"width: 400px, height: 300px;\"/></center>\n",
    "\n",
    "\n",
    "\n",
    "report.md with git syntax on second, third, and fifth lines.png\n",
    "\n",
    "How many more lines does `report.md` contain in the `alter-report-title` branch compared to `main`?"
   ]
  },
  {
   "cell_type": "markdown",
   "metadata": {},
   "source": [
    "- 2"
   ]
  },
  {
   "cell_type": "markdown",
   "metadata": {},
   "source": [
    "# Resolving a conflict"
   ]
  },
  {
   "cell_type": "markdown",
   "metadata": {},
   "source": [
    "You've added a reminder to the `report.md` and then switched to the `summary-statistics` branch.\n",
    "\n",
    "You remember that you need that extra task from the report in this branch too, so you decide to add it and make a commit.\n",
    "\n",
    "You're now ready to merge `summary-statistics` into `main` but there is a conflict in `report.md`.\n",
    "\n",
    "Looks like there was an error when adding the task into `report.md` in the `summary-statistics` branch.\n",
    "\n",
    "You'll need to resolve any conflicts to merge the branches."
   ]
  },
  {
   "cell_type": "markdown",
   "metadata": {},
   "source": [
    "<center><img src=\"images/03.15.jpg\"  style=\"width: 400px, height: 300px;\"/></center>\n"
   ]
  }
 ],
 "metadata": {
  "kernelspec": {
   "display_name": "Python 3.8.11 ('env_py')",
   "language": "python",
   "name": "python3"
  },
  "language_info": {
   "name": "python",
   "version": "3.8.11"
  },
  "orig_nbformat": 4,
  "vscode": {
   "interpreter": {
    "hash": "1e949e87132dd83f1a7623eb88007e3532b03b66b77111be347aa4a383049722"
   }
  }
 },
 "nbformat": 4,
 "nbformat_minor": 2
}

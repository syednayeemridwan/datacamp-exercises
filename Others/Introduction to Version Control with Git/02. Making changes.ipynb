{
 "cells": [
  {
   "cell_type": "markdown",
   "metadata": {},
   "source": [
    "# Interpreting the commit structure"
   ]
  },
  {
   "cell_type": "markdown",
   "metadata": {},
   "source": [
    "The commit structure in Git is complex, but understanding how it works is essential for navigating storage and accessing specific versions of files.\n",
    "\n",
    "The image displays three commits. What is the commit hash for the last updated version of `report.md`?"
   ]
  },
  {
   "cell_type": "markdown",
   "metadata": {},
   "source": [
    "<center><img src=\"images/02.02.jpg\"  style=\"width: 400px, height: 300px;\"/></center>\n"
   ]
  },
  {
   "cell_type": "markdown",
   "metadata": {},
   "source": [
    "- `ebe93178`"
   ]
  },
  {
   "cell_type": "markdown",
   "metadata": {},
   "source": [
    "# Viewing a repository's history"
   ]
  },
  {
   "cell_type": "markdown",
   "metadata": {},
   "source": [
    "Recall that every commit has a unique identifier called a hash.\n",
    "\n",
    "Git has a command you can use to display all commits made to a repo, along with the hash, author, and time of the commit.\n",
    "\n",
    "Using the console, use a command to find the hash of the most recent commit."
   ]
  },
  {
   "cell_type": "markdown",
   "metadata": {},
   "source": [
    "- `7f71eade`"
   ]
  },
  {
   "cell_type": "markdown",
   "metadata": {},
   "source": [
    "<center><img src=\"images/02.03.jpg\"  style=\"width: 400px, height: 300px;\"/></center>\n"
   ]
  },
  {
   "cell_type": "markdown",
   "metadata": {},
   "source": [
    "# Viewing a specific commit"
   ]
  },
  {
   "cell_type": "markdown",
   "metadata": {},
   "source": [
    "A common workflow with Git is to view all commits, then compare files between a specific commit and the current version of the file.\n",
    "\n",
    "You are located in `mh_survey`.\n",
    "\n",
    "In this exercise, you will look into the commit history for `report.md`."
   ]
  },
  {
   "cell_type": "markdown",
   "metadata": {},
   "source": [
    "<center><img src=\"images/02.04.jpg\"  style=\"width: 400px, height: 300px;\"/></center>\n"
   ]
  },
  {
   "cell_type": "markdown",
   "metadata": {},
   "source": [
    "# Comparing to the second most recent commit"
   ]
  },
  {
   "cell_type": "markdown",
   "metadata": {},
   "source": [
    "Being able to look at what happened in a specific commit is useful to check how files have changed over time.\n",
    "\n",
    "Use an appropriate command to find out how current versions of files compare to the second most recent commit.\n",
    "\n",
    "Choose the answer reflecting what changes occurred."
   ]
  },
  {
   "cell_type": "markdown",
   "metadata": {},
   "source": [
    "- `mental_health_survey.csv` had 47 lines added."
   ]
  },
  {
   "cell_type": "markdown",
   "metadata": {},
   "source": [
    "<center><img src=\"images/02.06.jpg\"  style=\"width: 400px, height: 300px;\"/></center>\n"
   ]
  },
  {
   "cell_type": "markdown",
   "metadata": {},
   "source": [
    "# Comparing commits"
   ]
  },
  {
   "cell_type": "markdown",
   "metadata": {},
   "source": [
    "Not only can Git be used to check what changed in a specific commit, it also allows you to compare changes between commits!\n",
    "\n",
    "Which files were modified between the fourth most recent and second most recent commits?"
   ]
  },
  {
   "cell_type": "markdown",
   "metadata": {},
   "source": [
    "- `report.md` and `mental_health_survey.csv`"
   ]
  },
  {
   "cell_type": "markdown",
   "metadata": {},
   "source": [
    "<center><img src=\"images/02.07.jpg\"  style=\"width: 400px, height: 300px;\"/></center>\n"
   ]
  },
  {
   "cell_type": "markdown",
   "metadata": {},
   "source": [
    "# Who changed what?"
   ]
  },
  {
   "cell_type": "markdown",
   "metadata": {},
   "source": [
    "Sometimes you need to see more detail than the commands you've used previously can provide.\n",
    "\n",
    "Your task is to use an appropriate command to show changes such as author, change made, time of change, and commit hash, for `report.md`."
   ]
  },
  {
   "cell_type": "markdown",
   "metadata": {},
   "source": [
    "<center><img src=\"images/02.08.jpg\"  style=\"width: 400px, height: 300px;\"/></center>\n"
   ]
  },
  {
   "cell_type": "markdown",
   "metadata": {},
   "source": [
    "# How to unstage a file"
   ]
  },
  {
   "cell_type": "markdown",
   "metadata": {},
   "source": [
    "You've been working on the Mental Health in Tech project and have added `mental_health_survey.csv `to the staging area.\n",
    "\n",
    "However, you've just received data from one more participant."
   ]
  },
  {
   "cell_type": "markdown",
   "metadata": {},
   "source": [
    "<center><img src=\"images/02.10.jpg\"  style=\"width: 400px, height: 300px;\"/></center>\n"
   ]
  },
  {
   "cell_type": "markdown",
   "metadata": {},
   "source": [
    "# Undoing changes to unstaged files"
   ]
  },
  {
   "cell_type": "markdown",
   "metadata": {},
   "source": [
    "`git reset` is useful for unstaging files, but what if you need to undo changes made to a file that is not in the staging area?\n",
    "\n",
    "You've been working on the `report.md` file, starting a discussion about the results of the project. You've not yet saved the file, and have just realized that the summary statistics changed with the addition of the last participant's data. As a result, your discussion is no longer accurate and you'd prefer to start over.\n",
    "\n",
    "Your task is to use a Git command that will discard the changes made to r`eport.md` and allow you to start over on the discussion section."
   ]
  },
  {
   "cell_type": "markdown",
   "metadata": {},
   "source": [
    "<center><img src=\"images/02.11.jpg\"  style=\"width: 400px, height: 300px;\"/></center>\n"
   ]
  },
  {
   "cell_type": "markdown",
   "metadata": {},
   "source": [
    "# Undoing all changes"
   ]
  },
  {
   "cell_type": "markdown",
   "metadata": {},
   "source": [
    "You've been practicing your shell command skills to edit files when you realize you've accidentally been adding content to the wrong files—the `report.md` file now has participant data in, and you've added some summary statistics into the `mental_health_survey.csv` file!\n",
    "\n",
    "You have already added these files to the staging area.\n",
    "\n",
    "You will need to perform a couple of commands to undo these changes"
   ]
  },
  {
   "cell_type": "markdown",
   "metadata": {},
   "source": [
    "<center><img src=\"images/02.12.jpg\"  style=\"width: 400px, height: 300px;\"/></center>\n"
   ]
  },
  {
   "cell_type": "markdown",
   "metadata": {},
   "source": [
    "# Restoring an old version of a repo"
   ]
  },
  {
   "cell_type": "markdown",
   "metadata": {},
   "source": [
    "Restoring versions of files can be extremely powerful and useful, particularly if you've made a mistake and can pinpoint when it occurred.\n",
    "\n",
    "You've been working on the mental health in tech project for a couple of days when you spot an error in the participant data held in `mental_health_survey.csv`. Since then, you've modified `report.md`, `summary_statistics.csv`, and created a references document.\n",
    "\n",
    "Therefore, you need to restore versions of all of these files to the second to last commit, which is where the error occurred."
   ]
  },
  {
   "cell_type": "markdown",
   "metadata": {},
   "source": [
    "<center><img src=\"images/02.14.jpg\"  style=\"width: 400px, height: 300px;\"/></center>\n"
   ]
  },
  {
   "cell_type": "markdown",
   "metadata": {},
   "source": [
    "# Deleting untracked files"
   ]
  },
  {
   "cell_type": "markdown",
   "metadata": {},
   "source": [
    "You recently completed another research project and thought that some of the documents used would be helpful as templates for the mental health in tech project, so you copied the files into the repo.\n",
    "\n",
    "However, they've remained unchanged since you did this, so you would like to tidy up the repo by removing these files.\n",
    "\n",
    "You need to select the two commands you would run to find out which files are untracked in your repo and then remove those files."
   ]
  },
  {
   "cell_type": "markdown",
   "metadata": {},
   "source": [
    "- `git clean -n` and `git clean -f`"
   ]
  },
  {
   "cell_type": "markdown",
   "metadata": {},
   "source": [
    "# Restoring an old version of a file"
   ]
  },
  {
   "cell_type": "markdown",
   "metadata": {},
   "source": [
    "You previously saw how to use `git checkout` to undo the changes that you made since the last commit. This command can also be used to go back even further into a file's history and restore versions of that file from a commit. In this way, you can think of committing as saving your work and checking out as loading that saved version.\n",
    "\n",
    "Your task is to restore a file to a previous version and update the repo so it contains this as the current version of the file."
   ]
  },
  {
   "cell_type": "markdown",
   "metadata": {},
   "source": [
    "<center><img src=\"images/02.16.jpg\"  style=\"width: 400px, height: 300px;\"/></center>\n"
   ]
  }
 ],
 "metadata": {
  "kernelspec": {
   "display_name": "Python 3.8.11 ('env_py')",
   "language": "python",
   "name": "python3"
  },
  "language_info": {
   "name": "python",
   "version": "3.8.11"
  },
  "orig_nbformat": 4,
  "vscode": {
   "interpreter": {
    "hash": "1e949e87132dd83f1a7623eb88007e3532b03b66b77111be347aa4a383049722"
   }
  }
 },
 "nbformat": 4,
 "nbformat_minor": 2
}

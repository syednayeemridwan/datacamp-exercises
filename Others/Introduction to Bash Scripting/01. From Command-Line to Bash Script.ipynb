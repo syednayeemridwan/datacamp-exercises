{
 "cells": [
  {
   "cell_type": "markdown",
   "metadata": {},
   "source": [
    "# Extracting scores with shell"
   ]
  },
  {
   "cell_type": "markdown",
   "metadata": {},
   "source": [
    "There is a file in either the `start_dir/first_dir`, `start_dir/second_dir` or `start_dir/third_dir` directory called `soccer_scores.csv`. It has columns Year,Winner,Winner Goals for outcomes of a soccer league.\n",
    "\n",
    "cd into the correct directory and use `cat` and `grep` to find who was the winner in `1959`. You could also just `ls` from the top directory if you like!"
   ]
  },
  {
   "cell_type": "markdown",
   "metadata": {},
   "source": [
    "- `cat soccer_scores.csv | grep 1959` \n",
    "- Dunav"
   ]
  },
  {
   "cell_type": "markdown",
   "metadata": {},
   "source": [
    "# Searching a book with shell"
   ]
  },
  {
   "cell_type": "markdown",
   "metadata": {},
   "source": [
    "There is a copy of Charles Dickens's infamous 'Tale of Two Cities' in your home directory called `two_cities.txt`.\n",
    "\n",
    "Use command line arguments such as `cat`, `grep` and `wc` with the right flag to count the number of lines in the book that contain either the character 'Sydney Carton' or 'Charles Darnay'. Use exactly these spellings and capitalizations."
   ]
  },
  {
   "cell_type": "markdown",
   "metadata": {},
   "source": [
    "- `egrep 'Sydney Carton|Charles Darnay' two_cities.txt| wc -l`\n",
    "- 77"
   ]
  },
  {
   "cell_type": "markdown",
   "metadata": {},
   "source": [
    "# A simple Bash script"
   ]
  },
  {
   "cell_type": "markdown",
   "metadata": {},
   "source": [
    "Welcome to your first IDE exercise! On the left, you have a directory of folders and several files. You can open the files and see the code in the right pane. This will auto-save every few seconds, though you can still use cmd + s (on mac, or `ctrl + s` on windows) to save.\n",
    "\n",
    "You can run scripts using the run this file button or via the terminal window below (using the command `bash script.sh`). Running in terminal is good practice for real use cases and will be necessary later when we cover arguments.\n",
    "\n",
    "<center><img src=\"images/01.05.png\"  style=\"width: 400px, height: 300px;\"/></center>\n",
    "\n",
    "Let's start with a very basic example to practice turning command-line (shell) arguments into a Bash script. In the provided editor, the first line has already been written for you. Remember how that was called the 'hash-bang' or 'shebang'? For this environment bash is not located at `/usr/bash` but at `/bin/bash`. You can confirm this with the command which bash.\n",
    "\n",
    "There is a file in your working directory called `server_log_with_todays_date.txt`. Your task is to write a simple Bash script that concatenates this out to the terminal so you can see what is inside.\n"
   ]
  },
  {
   "cell_type": "markdown",
   "metadata": {},
   "source": [
    "<center><img src=\"images/01.051.jpg\"  style=\"width: 400px, height: 300px;\"/></center>\n"
   ]
  },
  {
   "cell_type": "markdown",
   "metadata": {},
   "source": [
    "# Shell pipelines to Bash scripts\n"
   ]
  },
  {
   "cell_type": "markdown",
   "metadata": {},
   "source": [
    "In this exercise, you are working as a sports analyst for a Bulgarian soccer league. You have received some data on the results of the grand final from 1932 in a csv file. The file is comma-delimited in the format `Year,Winner,Winner Goals` which lists the year of the match, the team that won and how many goals the winning team scored, such as `1932,Arda,4`.\n",
    "\n",
    "Your job is to create a Bash script from a shell piped command which will aggregate to see how many times each team has won.\n",
    "\n",
    "Don't worry about the `tail -n +2 `part, this just ensures we don't aggregate the CSV headers!"
   ]
  },
  {
   "cell_type": "markdown",
   "metadata": {},
   "source": [
    "<center><img src=\"images/01.06.jpg\"  style=\"width: 400px, height: 300px;\"/></center>\n"
   ]
  },
  {
   "cell_type": "markdown",
   "metadata": {},
   "source": [
    "# Extract and edit using Bash scripts\n"
   ]
  },
  {
   "cell_type": "markdown",
   "metadata": {},
   "source": [
    "Continuing your work for the Bulgarian soccer league - you need to do some editing on the data you have. Several teams have changed their names so you need to do some replacements. The data is the same as the previous exercise.\n",
    "\n",
    "You will need to create a Bash script that makes use of `sed` to change the required team names."
   ]
  },
  {
   "cell_type": "markdown",
   "metadata": {},
   "source": [
    "<center><img src=\"images/01.07.jpg\"  style=\"width: 400px, height: 300px;\"/></center>\n"
   ]
  },
  {
   "cell_type": "markdown",
   "metadata": {},
   "source": [
    "# Using arguments in Bash scripts"
   ]
  },
  {
   "cell_type": "markdown",
   "metadata": {},
   "source": [
    "Often you will find that your Bash scripts are part of an overall analytics pipeline or process, so it's very useful to be able to take in arguments (ARGV) from the command line and use these inside your scripts.\n",
    "\n",
    "Your job is to create a Bash script that will return the arguments inputted as well as utilize some of the special properties of ARGV elements in Bash scripts.\n",
    "\n",
    "Since we are using arguments, you must run your script from the terminal pane, not using the 'run this file' button."
   ]
  },
  {
   "cell_type": "markdown",
   "metadata": {},
   "source": [
    "<center><img src=\"images/01.09.jpg\"  style=\"width: 400px, height: 300px;\"/></center>\n"
   ]
  },
  {
   "cell_type": "markdown",
   "metadata": {},
   "source": [
    "# Using arguments with HR data"
   ]
  },
  {
   "cell_type": "markdown",
   "metadata": {},
   "source": [
    "In this exercise, you are working as a data scientist in the HR department of a large IT company. You need to extract salary figures for recent hires, however, the HR IT system simply spits out hundreds of files into the folder `/hire_data`.\n",
    "\n",
    "Each file is comma-delimited in the format `COUNTRY,CITY,JOBTITLE,SALARY` such as `Estonia,Tallinn,Javascript Developer,118286`\n",
    "\n",
    "Your job is to create a Bash script to extract the information needed. Depending on the task at hand, you may need to go back and extract data for a different city. Therefore, your script will need to take in a city (an argument) as a variable, filter all the files by this city and output to a new CSV with the city name. This file can then form part of your analytics work."
   ]
  },
  {
   "cell_type": "markdown",
   "metadata": {},
   "source": [
    "<center><img src=\"images/01.10.jpg\"  style=\"width: 400px, height: 300px;\"/></center>\n"
   ]
  }
 ],
 "metadata": {
  "kernelspec": {
   "display_name": "Python 3.8.11 ('env_py')",
   "language": "python",
   "name": "python3"
  },
  "language_info": {
   "name": "python",
   "version": "3.8.11"
  },
  "orig_nbformat": 4,
  "vscode": {
   "interpreter": {
    "hash": "1e949e87132dd83f1a7623eb88007e3532b03b66b77111be347aa4a383049722"
   }
  }
 },
 "nbformat": 4,
 "nbformat_minor": 2
}

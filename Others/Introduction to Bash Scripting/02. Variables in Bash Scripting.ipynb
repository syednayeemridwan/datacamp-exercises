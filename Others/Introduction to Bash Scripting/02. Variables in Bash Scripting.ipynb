{
 "cells": [
  {
   "cell_type": "markdown",
   "metadata": {},
   "source": [
    "# Using variables in Bash"
   ]
  },
  {
   "cell_type": "markdown",
   "metadata": {},
   "source": [
    "You have just joined a data analytics team at a new company after someone left very quickly to pursue a new job (lucky them!). Unfortunately they left so fast they did not have time to finish the Bash script they were working on as part of a new chatbot project.\n",
    "\n",
    "There is an error with this script - it is printing out the words yourname rather than the person's name. You know this has something to do with variable assignment - can you help fix this script? Add the necessary components to ensure this script runs correctly."
   ]
  },
  {
   "cell_type": "markdown",
   "metadata": {},
   "source": [
    "<center><img src=\"images/02.02.jpg\"  style=\"width: 400px, height: 300px;\"/></center>\n"
   ]
  },
  {
   "cell_type": "markdown",
   "metadata": {},
   "source": [
    "# Shell within a shell"
   ]
  },
  {
   "cell_type": "markdown",
   "metadata": {},
   "source": [
    "Which of the following correctly uses a 'shell within a shell' to print out the date? We do not want to select the option that will just print out the string 'date'.\n",
    "\n",
    "You could try these in the console yourself!"
   ]
  },
  {
   "cell_type": "markdown",
   "metadata": {},
   "source": [
    "- ```echo \"Right now it is `date`\"```"
   ]
  },
  {
   "cell_type": "markdown",
   "metadata": {},
   "source": [
    "# Converting Fahrenheit to Celsius"
   ]
  },
  {
   "cell_type": "markdown",
   "metadata": {},
   "source": [
    "You work in the analytics department for an Australian company that recently purchased an American company. The files and data from the US company are in the imperial system and need to be converted to metric. This sounds like a great opportunity to use your Bash skills to create a program which will assist.\n",
    "\n",
    "Your task is to write a program that takes in a single number (a temperature in Fahrenheit) as an ARGV argument, converts it to Celsius and returns the new value. There may be decimal places so you will need to undertake calculations using the bc program.\n",
    "\n",
    "At all times use 2 decimal places using the scale command for bc.\n",
    "\n",
    "The formula for Fahrenheit to Celsius is:\n",
    "\n",
    "`C = (F - 32) x (5/9)`\n",
    "\n",
    "Remember, since we are using arguments, you will need to run your script from the terminal pane rather than 'run this file' button."
   ]
  },
  {
   "cell_type": "markdown",
   "metadata": {},
   "source": [
    "<center><img src=\"images/02.05.jpg\"  style=\"width: 400px, height: 300px;\"/></center>\n"
   ]
  },
  {
   "cell_type": "markdown",
   "metadata": {},
   "source": [
    "# Extracting data from files"
   ]
  },
  {
   "cell_type": "markdown",
   "metadata": {},
   "source": [
    "You are a data scientist for a climate research organization. To update some models, you need to extract temperature data for 3 regions you are monitoring. Unfortunately the temperature reading devices are quite old and can only be configured to dump data each day into a folder called `/temps` on your server. Each file contains the daily temperature for each region.\n",
    "\n",
    "Your task is to extract the data from each file (by concatenating) into the relevant variable and print it out. The temperature in the file `region_A` needs to be assigned to the variable `temp_a` and so on.\n",
    "\n",
    "You will later do some more advanced calculations on these variables."
   ]
  },
  {
   "cell_type": "markdown",
   "metadata": {},
   "source": [
    "<center><img src=\"images/02.06.jpg\"  style=\"width: 400px, height: 300px;\"/></center>\n"
   ]
  },
  {
   "cell_type": "markdown",
   "metadata": {},
   "source": [
    "# Creating an array"
   ]
  },
  {
   "cell_type": "markdown",
   "metadata": {},
   "source": [
    "In this exercise, you will practice building and accessing key properties of an array. Understanding what key properties are built in to Bash is important for fully utilizing arrays. For example, when iterating through arrays, knowing their length is very handy. Similarly, knowing how to easily return all array elements is also important for looping and also for checking your work and printing.\n",
    "\n",
    "In this exercise, you will firstly build an array using two different methods and then access the length of the array. You will then return the entire array using a different special property."
   ]
  },
  {
   "cell_type": "markdown",
   "metadata": {},
   "source": [
    "```\n",
    "# Create a normal array with the mentioned elements\n",
    "capital_cities=(\"Sydney\" \"Albany\" \"Paris\")\n",
    "```"
   ]
  },
  {
   "cell_type": "markdown",
   "metadata": {},
   "source": [
    "```\n",
    "# Create a normal array with the mentioned elements using the declare method\n",
    "declare -a capital_cities\n",
    "\n",
    "# Add (append) the elements\n",
    "capital_cities+=(\"Sydney\")\n",
    "capital_cities+=(\"Albany\")\n",
    "capital_cities+=(\"Paris\")\n",
    "```"
   ]
  },
  {
   "cell_type": "markdown",
   "metadata": {},
   "source": [
    "```\n",
    "# The array has been created for you\n",
    "capital_cities=(\"Sydney\" \"Albany\" \"Paris\")\n",
    "\n",
    "# Print out the entire array\n",
    "echo ${capital_cities[@]}\n",
    "\n",
    "# Print out the array length\n",
    "echo ${#capital_cities[@]}\n",
    "```"
   ]
  },
  {
   "cell_type": "markdown",
   "metadata": {},
   "source": [
    "# Creating associative arrays"
   ]
  },
  {
   "cell_type": "markdown",
   "metadata": {},
   "source": [
    "Associative arrays are powerful constructs to use in your Bash scripting. They are very similar to 'normal' arrays, however they have a few important differences in their creation, manipulation and key properties.\n",
    "\n",
    "Associative arrays allow you to index using words rather than numbers, which can be important for ease of inputting and accessing properties. For example, rather than accessing 'index 4' of an array about a city's information, you can access the city_population property, which is a lot clearer!\n",
    "\n",
    "In this exercise we will practice creating and adding to an associative array. We will then access some special properties that are unique to associative arrays. Let's get started!\n",
    "\n",
    "NOTE: if you submit incorrect code, you may need to refresh the browser to remove old variables etc that affect the test suite before submitting again"
   ]
  },
  {
   "cell_type": "markdown",
   "metadata": {},
   "source": [
    "```\n",
    "# Create empty associative array\n",
    "declare -A model_metrics\n",
    "\n",
    "# Add the key-value pairs\n",
    "model_metrics[model_accuracy]=98\n",
    "model_metrics[model_name]=\"knn\"\n",
    "model_metrics[model_f1]=0.82\n",
    "```"
   ]
  },
  {
   "cell_type": "markdown",
   "metadata": {},
   "source": [
    "```\n",
    "# Declare associative array with key-value pairs on one line\n",
    "declare -A model_metrics=([model_accuracy]=98 [model_name]=\"knn\" [model_f1]=0.82)\n",
    "\n",
    "# Print out the entire array\n",
    "echo ${model_metrics[@]}\n",
    "```"
   ]
  },
  {
   "cell_type": "markdown",
   "metadata": {},
   "source": [
    "```\n",
    "# An associative array has been created for you\n",
    "declare -A model_metrics=([model_accuracy]=98 [model_name]=\"knn\" [model_f1]=0.82)\n",
    "\n",
    "# Print out just the keys\n",
    "echo ${!model_metrics[@]}\n",
    "```"
   ]
  },
  {
   "cell_type": "markdown",
   "metadata": {},
   "source": [
    "# Climate calculations in Bash"
   ]
  },
  {
   "cell_type": "markdown",
   "metadata": {},
   "source": [
    "You are continuing your work as a data scientist for the climate research organization. In a previous exercise, you extracted temperature data for 3 regions you are monitoring from some files from the /temps directory.\n",
    "\n",
    "Remember, each file contains the daily temperature for each region. However, only two regions will be used in this exercise.\n",
    "\n",
    "In this exercise, the lines from your previous exercise are already there which extract the data from each file. However, this time you will then store these variables in an array, calculate the average temperature of the regions and append this to the array.\n",
    "\n",
    "For example, for temperatures of 60 and 70, the array should have 60, 70, and 65 as its elements."
   ]
  },
  {
   "cell_type": "markdown",
   "metadata": {},
   "source": [
    "<center><img src=\"images/02.10.jpg\"  style=\"width: 400px, height: 300px;\"/></center>\n"
   ]
  }
 ],
 "metadata": {
  "kernelspec": {
   "display_name": "Python 3.8.11 ('env_py')",
   "language": "python",
   "name": "python3"
  },
  "language_info": {
   "name": "python",
   "version": "3.8.11"
  },
  "orig_nbformat": 4,
  "vscode": {
   "interpreter": {
    "hash": "1e949e87132dd83f1a7623eb88007e3532b03b66b77111be347aa4a383049722"
   }
  }
 },
 "nbformat": 4,
 "nbformat_minor": 2
}

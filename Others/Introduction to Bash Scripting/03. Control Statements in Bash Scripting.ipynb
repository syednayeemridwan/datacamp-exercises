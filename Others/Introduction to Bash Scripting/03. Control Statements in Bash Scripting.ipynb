{
 "cells": [
  {
   "cell_type": "markdown",
   "metadata": {},
   "source": [
    "# Sorting model results"
   ]
  },
  {
   "cell_type": "markdown",
   "metadata": {},
   "source": [
    "You are working as a data scientist in a large corporation. The production environment for your machine learning models writes out text files into the model_results/ folder whenever an experiment is completed. The files have the following structure (example):\n",
    "```\n",
    "Model Name: KNN\n",
    "Accuracy: 89\n",
    "F1: 0.87\n",
    "Date: 2019-12-01\n",
    "ModelID: 34598utjfddfgdg\n",
    "```\n",
    "You can see the model name, accuracy and F1 scores, the date the experiment completed and a unique ID to link the model experiment back into your experiment system.\n",
    "\n",
    "The company has a threshold of 90% for accuracy for a model to continue experimentation. Your task is to write a Bash script that takes in an ARGV argument (a filename), extracts the accuracy score and conditionally sorts the model result file into one of two folders: `good_models/` for those with accuracy greater than or equal to 90 and `bad_models/` for those less than 90. You must run your script from the terminal with the requested arguments before submitting your answer.\n",
    "\n",
    "NOTE!! If you don't run the script with an argument, it will hang - so make sure to run the script with the requested argument! If you make an error requiring a hint - you may need to refresh the session before submitting as well!"
   ]
  },
  {
   "cell_type": "markdown",
   "metadata": {},
   "source": [
    "<center><img src=\"images/03.02.jpg\"  style=\"width: 400px, height: 300px;\"/></center>\n"
   ]
  },
  {
   "cell_type": "markdown",
   "metadata": {},
   "source": [
    "# Moving relevant files"
   ]
  },
  {
   "cell_type": "markdown",
   "metadata": {},
   "source": [
    "You have recently joined a new startup as one of the few technical employees. Your manager has asked if you can assist to clean up some of the folders on the server. The company has been through a variety of server monitoring software and so there are many files that should be deleted.\n",
    "\n",
    "Luckily you know that all the files to keep contain both `vpt` and `SRVM_` inside the file somewhere.\n",
    "\n",
    "Your task is to write a Bash script that will take in file names as ARGV elements and move the file to `good_logs/` if it matches both conditions above. Remember from the lecture, the `q` flag is for 'quiet' so it doesn't return the matched lines like `grep` normally does. It just returns true if any lines match.\n",
    "\n",
    "Remember that when you use command-line arguments like `grep` in IF statements, there is no need for square brackets so don't add them! You must also remember to run your script using each file as an ARGV element. One each time; a total of four times to run your script."
   ]
  },
  {
   "cell_type": "markdown",
   "metadata": {},
   "source": [
    "<center><img src=\"images/03.03.jpg\"  style=\"width: 400px, height: 300px;\"/></center>\n"
   ]
  },
  {
   "cell_type": "markdown",
   "metadata": {},
   "source": [
    "# A simple FOR loop"
   ]
  },
  {
   "cell_type": "markdown",
   "metadata": {},
   "source": [
    "You are working as a data scientist in an organization. Due to a recent merge of departments, you have inherited a folder with many files inside. You know that the .R scripts may be useful for your work but you aren't sure what they contain.\n",
    "\n",
    "Write a simple Bash script to loop through all the files in the directory inherited_folder/ that end in .R and print out their names so you can get a quick look at what sort of scripts you have. Hopefully the file names are useful!"
   ]
  },
  {
   "cell_type": "markdown",
   "metadata": {},
   "source": [
    "<center><img src=\"images/03.05.jpg\"  style=\"width: 400px, height: 300px;\"/></center>\n"
   ]
  },
  {
   "cell_type": "markdown",
   "metadata": {},
   "source": [
    "# Correcting a WHILE statement"
   ]
  },
  {
   "cell_type": "markdown",
   "metadata": {},
   "source": [
    "There is a script placed in this directory which has a mistake in it. It is some code to modify some employee files, but only for the first 1000 employees. Do not attempt to run the script as the necessary files are not in this directory.\n",
    "\n",
    "Using your knowledge of WHILE scripts, can you determine where the mistake is? What will happen if it runs?\n",
    "\n",
    "You can find the code by using `cat emp_script.sh` to print it to the console."
   ]
  },
  {
   "cell_type": "markdown",
   "metadata": {},
   "source": [
    "<center><img src=\"images/03.06.jpg\"  style=\"width: 400px, height: 300px;\"/></center>\n"
   ]
  },
  {
   "cell_type": "markdown",
   "metadata": {},
   "source": [
    "- It will run forever because `emp_num` isn't incremented inside the loop."
   ]
  },
  {
   "cell_type": "markdown",
   "metadata": {},
   "source": [
    "# Cleaning up a directory"
   ]
  },
  {
   "cell_type": "markdown",
   "metadata": {},
   "source": [
    "Continuing your work as a data scientist in a large organization, you were told today that a colleague has left for their dream job (lucky them!). Unfortunately, when their logins were terminated, all their files were dumped into a single folder.\n",
    "\n",
    "The good news is that most of their useful code has been backed up. However, all their python files using the Random Forest algorithm are buried in the file dump.\n",
    "\n",
    "The task has fallen to you to sift through the hundreds of files to determine if they are both Python files and contain a Random Forest model. This sounds like a perfect opportunity to use your Bash skills, rather than checking every single file manually.\n",
    "\n",
    "Write a script that loops through each file in the `robs_files/` directory to see if it is a Python file (ends in `.py`) AND contains `RandomForestClassifier`. If so, move it into the `to_keep/` directory."
   ]
  },
  {
   "cell_type": "markdown",
   "metadata": {},
   "source": [
    "<center><img src=\"images/03.07.jpg\"  style=\"width: 400px, height: 300px;\"/></center>\n"
   ]
  },
  {
   "cell_type": "markdown",
   "metadata": {},
   "source": [
    "# Days of the week with CASE"
   ]
  },
  {
   "cell_type": "markdown",
   "metadata": {},
   "source": [
    "In your role as a Data Scientist, it is sometimes useful to associate dates with a 'working day' (Monday, Tuesday, Wednesday, Thursday, Friday) or a 'weekend' (Saturday & Sunday).\n",
    "\n",
    "Your task is to build a small Bash script that will be useful to call in many areas of your data pipeline. It must take in a single argument (string of a day) into ARGV and use a CASE statement to print out whether the argument was a weekday or a weekend. You only need to account for the capitalized case for now.\n",
    "\n",
    "You also don't need to worry about words or letters before and after. Just use exact matching for this example.\n",
    "\n",
    "Remember the basic structure of a case statement is:\n",
    "```\n",
    "case MATCHVAR in\n",
    "  PATTERN1)\n",
    "  COMMAND1;;\n",
    "  PATTERN2)\n",
    "  COMMAND2;;\n",
    "  *)\n",
    "  DEFAULT COMMAND;;\n",
    "esac\n",
    "```"
   ]
  },
  {
   "cell_type": "markdown",
   "metadata": {},
   "source": [
    "<center><img src=\"images/03.09.jpg\"  style=\"width: 400px, height: 300px;\"/></center>\n"
   ]
  },
  {
   "cell_type": "markdown",
   "metadata": {},
   "source": [
    "# Moving model results with CASE"
   ]
  },
  {
   "cell_type": "markdown",
   "metadata": {},
   "source": [
    "You are working as a data scientist in charge of analyzing some machine learning model results. The production environment moves files into a folder called `model_out/` and names them `model_RXX.csv` where `XX` is a random number related to which experiment was run.\n",
    "\n",
    "Each file has the following structure (example):\n",
    "```\n",
    "Model Name, Accuracy, CV, Model Duration (s)\n",
    "Logistic,42,4,48\n",
    "```\n",
    "Your manager has told you that recent work in the organization has meant that tree-based models are to be kept in one folder and everything else deleted.\n",
    "\n",
    "Your task is to use a CASE statement to move the tree-based models (`Random Forest`, `GBM`, and `XGBoost`) to the `tree_models/` folder, and delete all other models (`KNN` and `Logistic`)."
   ]
  },
  {
   "cell_type": "markdown",
   "metadata": {},
   "source": [
    "<center><img src=\"images/03.10.jpg\"  style=\"width: 400px, height: 300px;\"/></center>\n"
   ]
  },
  {
   "cell_type": "markdown",
   "metadata": {},
   "source": [
    "# Finishing a CASE statement"
   ]
  },
  {
   "cell_type": "markdown",
   "metadata": {},
   "source": [
    "What is the correct way to finish a CASE statement?"
   ]
  },
  {
   "cell_type": "markdown",
   "metadata": {},
   "source": [
    "- `esac`"
   ]
  }
 ],
 "metadata": {
  "kernelspec": {
   "display_name": "Python 3.8.11 ('env_py')",
   "language": "python",
   "name": "python3"
  },
  "language_info": {
   "name": "python",
   "version": "3.8.11"
  },
  "orig_nbformat": 4,
  "vscode": {
   "interpreter": {
    "hash": "1e949e87132dd83f1a7623eb88007e3532b03b66b77111be347aa4a383049722"
   }
  }
 },
 "nbformat": 4,
 "nbformat_minor": 2
}

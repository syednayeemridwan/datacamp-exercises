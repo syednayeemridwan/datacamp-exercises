{
 "cells": [
  {
   "cell_type": "markdown",
   "metadata": {},
   "source": [
    "# Uploading model results to the cloud"
   ]
  },
  {
   "cell_type": "markdown",
   "metadata": {},
   "source": [
    "You are working as a data scientist on building part of your machine learning cloud infrastructure. Your team has many machine learning experiments running all the time. When an experiment is finished, it will output the results file and a configuration file into a folder called `output_dir/`.\n",
    "\n",
    "These results need to be uploaded to your cloud storage environment for analysis. Your task is to write a Bash script that contains a function which will loop through all the files in `output_dir/ `and upload the result files to your cloud storage.\n",
    "\n",
    "For technical reasons, no files will be uploaded; we will simply echo out the file name. Though you could easily replace this section with code to upload to Amazon S3, Google Cloud or Microsoft Azure!"
   ]
  },
  {
   "cell_type": "markdown",
   "metadata": {},
   "source": [
    "<center><img src=\"images/04.02.jpg\"  style=\"width: 400px, height: 300px;\"/></center>\n"
   ]
  },
  {
   "cell_type": "markdown",
   "metadata": {},
   "source": [
    "# Get the current day"
   ]
  },
  {
   "cell_type": "markdown",
   "metadata": {},
   "source": [
    "Whilst working on a variety of Bash scripts in your data analytics infrastructure, you find that you often need to get the current day of the week. You can see this is unnecessary duplication of code and can be refactored (reduce the size by writing more efficient code) using your new skills in Bash functions.\n",
    "\n",
    "Write a simple Bash function that, when called, will simply print out the current day of the week. This will involve parsing the output of the `date` program from a shell-within-a-shell.\n",
    "\n",
    "A reminder that the output of date will look something like this (depending on the timezone you are calling it from!)\n",
    "\n",
    "`Fri 27 Dec 2019 14:24:33 AEDT`\n",
    "\n",
    "You want to extract the Fri part only."
   ]
  },
  {
   "cell_type": "markdown",
   "metadata": {},
   "source": [
    "<center><img src=\"images/04.03.jpg\"  style=\"width: 400px, height: 300px;\"/></center>\n"
   ]
  },
  {
   "cell_type": "markdown",
   "metadata": {},
   "source": [
    "# A percentage calculator"
   ]
  },
  {
   "cell_type": "markdown",
   "metadata": {},
   "source": [
    "In your work as a data scientist, you often find yourself needing to calculate percentages within Bash scripts. This would be a great opportunity to create a nice modular function to be called from different places in your code.\n",
    "\n",
    "Your task is to create a Bash function that will calculate a percentage of two numbers that are given as arguments and return the value.\n",
    "\n",
    "A test example you can think of to use in this script is a model that you just ran where there were 456 correct predictions out of 632 on the test set.\n",
    "\n",
    "Remember that the shell can't natively handle decimal places, so it will be safer to employ the use of `bc`."
   ]
  },
  {
   "cell_type": "markdown",
   "metadata": {},
   "source": [
    "<center><img src=\"images/04.05.jpg\"  style=\"width: 400px, height: 300px;\"/></center>\n"
   ]
  },
  {
   "cell_type": "markdown",
   "metadata": {},
   "source": [
    "# Sports analytics function"
   ]
  },
  {
   "cell_type": "markdown",
   "metadata": {},
   "source": [
    "You have been contracted back to the soccer league to help them with some sports analytics. You notice that a number of the scripts undertake aggregations, just like you did in a previous exercise. Since there is a lot of duplication of code, this is an excellent opportunity to create a single useful function that can be called at many places in the script.\n",
    "\n",
    "Your task is to create a Bash function that will take in a city name and find out how many wins they have had since recording began.\n",
    "\n",
    "Inside the main function, this script will call out to a shell-within-a-shell which is captured in a (by default, global) variable. You can then access this variable outside the function. This was the first technique discussed in the video for getting data out of a function.\n",
    "\n",
    "Most of the shell pipeline used has been done for you, though of course feel free to explore and understand what is happening here. Nothing there should be new to you!"
   ]
  },
  {
   "cell_type": "markdown",
   "metadata": {},
   "source": [
    "<center><img src=\"images/04.06.jpg\"  style=\"width: 400px, height: 300px;\"/></center>\n"
   ]
  },
  {
   "cell_type": "markdown",
   "metadata": {},
   "source": [
    "# Summing an array"
   ]
  },
  {
   "cell_type": "markdown",
   "metadata": {},
   "source": [
    "A common programming task is obtaining the sum of an array of numbers. Let's create a function to assist with this common task.\n",
    "\n",
    "Create a Bash function that will take in an array of numbers and return its sum. We will use bc rather than expr to ensure we can handle decimals.\n",
    "\n",
    "Your company's security rules state that all variables in functions must be restricted local scope so you will need to keep this in mind.\n",
    "\n",
    "An array of numbers you can use for a test of your function would be the daily sales in your organization this week (in thousands):\n",
    "\n",
    "`14 12 23.5 16 19.34` which should sum to `84.84`"
   ]
  },
  {
   "cell_type": "markdown",
   "metadata": {},
   "source": [
    "<center><img src=\"images/04.07.jpg\"  style=\"width: 400px, height: 300px;\"/></center>\n"
   ]
  },
  {
   "cell_type": "markdown",
   "metadata": {},
   "source": [
    "# Analyzing a crontab schedule"
   ]
  },
  {
   "cell_type": "markdown",
   "metadata": {},
   "source": [
    "Using your knowledge of the structure of a crontab schedule, can you determine how often the script.sh Bash script will run if the following line is in the user's crontab?\n",
    "\n",
    "`15 * * * 6,7 bash script.sh`"
   ]
  },
  {
   "cell_type": "markdown",
   "metadata": {},
   "source": [
    "- 15 minutes past every hour on Saturdays and Sundays."
   ]
  },
  {
   "cell_type": "markdown",
   "metadata": {},
   "source": [
    "# Creating cronjobs"
   ]
  },
  {
   "cell_type": "markdown",
   "metadata": {},
   "source": [
    "You are working as a data scientist managing an end-to-end machine learning environment in the cloud. You have created some great Bash scripts but it is becoming tedious to have to run these scripts every morning and afternoon. You recently learned about cron which you think can greatly assist here!\n",
    "\n",
    "An example file has been placed in your directory where you can create some crontab jobs.\n",
    "\n",
    "Remember that a crontab schedule has 5 stars relation to the time periods minute, hour, day-of-month, month-of-year, day-of-week. For this task, assume Sunday is the 0th day rather than the 7th day (as in some unix systems).\n",
    "\n",
    "Note that where all time periods are not specified in the instructions below, you can assume those time periods are 'every' (*).\n",
    "\n",
    "Don't try to run the scripts or use crontab. Neither will work.\n",
    "\n",
    "A useful tool for constructing crontabs is https://crontab.guru/."
   ]
  },
  {
   "cell_type": "markdown",
   "metadata": {},
   "source": [
    "```\n",
    "# Create a schedule for 30 minutes past 2am every day\n",
    "30 2 * * * bash script1.sh\n",
    "\n",
    "# Create a schedule for every 15, 30 and 45 minutes past the hour\n",
    "15,30,45 * * * * bash script2.sh\n",
    "\n",
    "# Create a schedule for 11.30pm on Sunday evening, every week\n",
    "30 23 * * 0 bash script3.sh\n",
    "```"
   ]
  },
  {
   "cell_type": "markdown",
   "metadata": {},
   "source": [
    "# Scheduling cronjobs with crontab"
   ]
  },
  {
   "cell_type": "markdown",
   "metadata": {},
   "source": [
    "As the resident data scientist, you have been asked to automate part of a data processing pipeline. You will use one of the cronjob schedules created in a previous exercise.\n",
    "\n",
    "You will use the built in crontab functionality of this workspace to schedule a data pipeline script, `extract_data.sh` to run at 30 minutes past 2am every day. Running early in the morning saves a great amount of cost by utilizing cheaper server power.\n",
    "\n",
    "You will end up in the nano text editor where you save a file with `ctrl + o` (press `enter`) and exit with `ctrl + x`. Useful Nano documentation is here: https://wiki.gentoo.org/wiki/Nano/Basics_guide.\n",
    "\n",
    "At any stage you can refresh your browser window and you will get a fresh workspace to try again if you accidentally make a mistake in the workspace."
   ]
  },
  {
   "cell_type": "markdown",
   "metadata": {},
   "source": [
    "1. `crontab -l`\n",
    "2. `crontab -e`\n",
    "3. `30 2 * * * bash extract_data.sh`\n",
    "4. `crontab -l`\n"
   ]
  }
 ],
 "metadata": {
  "kernelspec": {
   "display_name": "Python 3.8.11 ('env_py')",
   "language": "python",
   "name": "python3"
  },
  "language_info": {
   "name": "python",
   "version": "3.8.11"
  },
  "orig_nbformat": 4,
  "vscode": {
   "interpreter": {
    "hash": "1e949e87132dd83f1a7623eb88007e3532b03b66b77111be347aa4a383049722"
   }
  }
 },
 "nbformat": 4,
 "nbformat_minor": 2
}

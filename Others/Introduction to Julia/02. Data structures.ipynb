{
 "cells": [
  {
   "cell_type": "markdown",
   "metadata": {},
   "source": [
    "# Indexing strings"
   ]
  },
  {
   "cell_type": "markdown",
   "metadata": {},
   "source": [
    "To process strings, you need to know how string indexes work and which index corresponds to which position in the string.\n",
    "\n",
    "In this exercise, you are working with the string variable:\n",
    "\n",
    "`my_string = \"array\"`"
   ]
  },
  {
   "cell_type": "markdown",
   "metadata": {},
   "source": [
    "<center><img src=\"images/02.02.jpg\"  style=\"width: 400px, height: 300px;\"/></center>\n"
   ]
  },
  {
   "cell_type": "markdown",
   "metadata": {},
   "source": [
    "# String interpolation"
   ]
  },
  {
   "cell_type": "markdown",
   "metadata": {},
   "source": [
    "You are writing a script informing students of their grades in their classes.\n",
    "\n",
    "For each student, you have text data that looks like:\n",
    "\n",
    "`grades = \"XXXX\"`\n",
    "\n",
    "where the letters \"XXXX\" are the grades for the student in mathematics, history, science, and drama respectively.\n",
    "\n",
    "The variable `grades`, which contains the actual student's grades, is available in your environment."
   ]
  },
  {
   "cell_type": "markdown",
   "metadata": {},
   "source": [
    "```\n",
    "# Index drama grade\n",
    "drama = grades[end]\n",
    "\n",
    "# Print drama grade with interpolation\n",
    "println(\"Your drama grade is $drama\")\n",
    "\n",
    "# Print mathematics grade with interpolation and parentheses\n",
    "println(\"Your mathematics grade is $(grades[1])\")\n",
    "```"
   ]
  },
  {
   "cell_type": "markdown",
   "metadata": {},
   "source": [
    "# Slicing strings"
   ]
  },
  {
   "cell_type": "markdown",
   "metadata": {},
   "source": [
    "When working with text data, slicing out the pieces you need is very important. Using this method, you can often turn text data into neat, structured data.\n",
    "\n",
    "In this example, you are extracting information from a string of data regarding a customer's order at an online shop.\n",
    "\n",
    "The string you are examining is:\n",
    "\n",
    "`order_data = \"| customer-id: 13415 | order-number: 000019034 |\";`\n",
    "\n",
    "The customer-id number is a 5-digit number starting from the 16th character of the string. The order-number is an 9-digit number starting from the 38th character of the string.\n",
    "\n",
    "The string `order_data` is available in your environment."
   ]
  },
  {
   "cell_type": "markdown",
   "metadata": {},
   "source": [
    "```\n",
    "# Slice out the customer-id\n",
    "customer_id = order_data[16:20]\n",
    "\n",
    "# Slice out the order-number\n",
    "order_number = order_data[end-10 : end-2]\n",
    "```"
   ]
  },
  {
   "cell_type": "markdown",
   "metadata": {},
   "source": [
    "# Creating arrays"
   ]
  },
  {
   "cell_type": "markdown",
   "metadata": {},
   "source": [
    "Arrays are a great solution to storing and processing a large amount of data, particularly when that data is all of the same data types.\n",
    "\n",
    "Previously you wrote a script to process your working hours throughout the week. That script would become hard to work with as you gathered more and more data. What if you wanted to process your work hours over an entire month? In this exercise, you will practice creating arrays to store that data.\n",
    "\n",
    "The hours you worked in the previous week:\n",
    "\n",
    "- Monday : 39\n",
    "- Tuesday : 37.5\n",
    "- Wednesday : 40\n",
    "- Thursday : 42\n",
    "- Friday : 39.5"
   ]
  },
  {
   "cell_type": "markdown",
   "metadata": {},
   "source": [
    "```\n",
    "# Create array of the days of the week\n",
    "week_days = [\"Monday\" , \"Tuesday\", \"Wednesday\" ,\"Thursday\", \"Friday\" ]\n",
    "\n",
    "# Create array of hours worked\n",
    "hours_worked = [ 39,  37.5 , 40 , 42, 39.5]\n",
    "\n",
    "# Print the type of the week days arrays\n",
    "println(typeof(week_days))\n",
    "\n",
    "# Print the type of the hours worked array\n",
    "println(typeof(hours_worked))\n",
    "```"
   ]
  },
  {
   "cell_type": "markdown",
   "metadata": {},
   "source": [
    "# Indexing arrays"
   ]
  },
  {
   "cell_type": "markdown",
   "metadata": {},
   "source": [
    "You have kept up your training regime to get faster over 5000m runs. After a few weeks of training regularly, you want to look back at your run times to see if your new times are better than your old ones.\n",
    "\n",
    "The array of floats of your run times is available in your environment as `runtimes`."
   ]
  },
  {
   "cell_type": "markdown",
   "metadata": {},
   "source": [
    "```\n",
    "# Select the first run time\n",
    "first_runtime = runtimes[1]\n",
    "\n",
    "# Select the last run time\n",
    "last_runtime = runtimes[end]\n",
    "\n",
    "# Calculate the difference\n",
    "time_diff = first_runtime - last_runtime\n",
    "\n",
    "println(\"Last run time was $time_diff minutes faster\")\n",
    "```"
   ]
  },
  {
   "cell_type": "markdown",
   "metadata": {},
   "source": [
    "# Slicing arrays"
   ]
  },
  {
   "cell_type": "markdown",
   "metadata": {},
   "source": [
    "Slicing is a key skill you will need to work with arrays. You will often use slicing to select specific parts of the datasets you are working with. The elements of data you exclude can be as important as those you include.\n",
    "\n",
    "In this exercise, you will be slicing sections out of the following array, which is available in your environment:\n",
    "\n",
    "`x = ['a', 'b', 'c', 'd', 'e', 'f', 'g']`"
   ]
  },
  {
   "cell_type": "markdown",
   "metadata": {},
   "source": [
    "- Which of the following commands will slice out the array `['b', 'c','d']`?\n",
    "    - `x[2:4]`"
   ]
  },
  {
   "cell_type": "markdown",
   "metadata": {},
   "source": [
    "- Which of the following commands will slice out the array `['c', 'd', 'e', 'f']`?\n",
    "    - `x[3:end-1]`"
   ]
  },
  {
   "cell_type": "markdown",
   "metadata": {},
   "source": [
    "- Which of the following commands will slice out the array `['e', 'f', 'g']` ?\n",
    "    - `x[end-2:end]`"
   ]
  },
  {
   "cell_type": "markdown",
   "metadata": {},
   "source": [
    "# Modifying arrays"
   ]
  },
  {
   "cell_type": "markdown",
   "metadata": {},
   "source": [
    "Creating and modifying arrays is an essential step of any scientific computing. In this exercise, you will become familiar with doing so with Julia."
   ]
  },
  {
   "cell_type": "markdown",
   "metadata": {},
   "source": [
    "```\n",
    "# Create array of zeros\n",
    "x = zeros(Float64, 100)\n",
    "\n",
    "# Set the second value to 12\n",
    "x[2] = 12\n",
    "\n",
    "# Set the values from the 3rd to 6th index\n",
    "x[3:6] = [3,4,5,6]\n",
    "```"
   ]
  },
  {
   "cell_type": "markdown",
   "metadata": {},
   "source": [
    "# Fibonacci sequence"
   ]
  },
  {
   "cell_type": "markdown",
   "metadata": {},
   "source": [
    "You are working on a script to calculate the Fibonacci sequence. The Fibonacci sequence is a famous sequence of numbers that appears in nature in many places.\n",
    "\n",
    "The first two numbers in the sequence are 0 and 1. The numbers after that are each equal to the sum of the two numbers which come before them. So the start of the sequence is `0, 1, 1, 2, 3, 5,....`\n",
    "\n",
    "The first several digits of the Fibonacci sequence have been calculated for you and are stored in the integer array fibonacci, which is available in your environment."
   ]
  },
  {
   "cell_type": "markdown",
   "metadata": {},
   "source": [
    "```\n",
    "# Calculate the next number in the sequence\n",
    "next_number = fibonacci[end] + fibonacci[end-1]\n",
    "\n",
    "# Add this new number to the sequence\n",
    "push!(fibonacci, next_number)\n",
    "\n",
    "println(fibonacci)\n",
    "```"
   ]
  },
  {
   "cell_type": "markdown",
   "metadata": {},
   "source": [
    "# Appending arrays"
   ]
  },
  {
   "cell_type": "markdown",
   "metadata": {},
   "source": [
    "You are once again examining your run times. Since you last looked at these values, you have been on more runs. You have also realized that you made a mistake in recording your run times previously - you accidentally added the time of your last run twice.\n",
    "\n",
    "You want to remove this duplicated value and add your new run times to the array.\n",
    "\n",
    "The array of your previous run times, named `runtimes`, and the array of your new run times, named `new_runtimes`, are available in your environment.\n",
    "\n",
    "Remember that functions that end with an ! modify their arguments. Other functions will not do this. You may need to hit Submit Solution twice: once to reset values, and once to submit your solution."
   ]
  },
  {
   "cell_type": "markdown",
   "metadata": {},
   "source": [
    "```\n",
    "# Remove the duplicated value\n",
    "duplicated_value = pop!(runtimes)\n",
    "\n",
    "# Append new runtimes and new_runtimes\n",
    "append!(runtimes,new_runtimes)\n",
    "\n",
    "println(\"Duplicated value $duplicated_value\")\n",
    "println(\"All run times: $runtimes\")\n",
    "```"
   ]
  },
  {
   "cell_type": "markdown",
   "metadata": {},
   "source": [
    "# Finding the array length"
   ]
  },
  {
   "cell_type": "markdown",
   "metadata": {},
   "source": [
    "In your environment is a 1D array named x. How many elements are there in the array?"
   ]
  },
  {
   "cell_type": "markdown",
   "metadata": {},
   "source": [
    "<center><img src=\"images/02.14.jpg\"  style=\"width: 400px, height: 300px;\"/></center>\n"
   ]
  },
  {
   "cell_type": "markdown",
   "metadata": {},
   "source": [
    "- 792"
   ]
  },
  {
   "cell_type": "markdown",
   "metadata": {},
   "source": [
    "# Array operating fluency"
   ]
  },
  {
   "cell_type": "markdown",
   "metadata": {},
   "source": [
    "Operating on arrays is an integral part of working with data. Most of the time you are working with data in Julia, you will be working with arrays, so it is essential to know how to operate on this data type. In this exercise, you will build your array fluency.\n",
    "\n",
    "Two 1D arrays, `x` and `y`, are available in your environment."
   ]
  },
  {
   "cell_type": "markdown",
   "metadata": {},
   "source": [
    "```\n",
    "# Multiply x by 3\n",
    "a = x * 3\n",
    "\n",
    "# Subtract 5 from x\n",
    "b = x .- 5\n",
    "\n",
    "# Add x and y\n",
    "c = x .+ y\n",
    "\n",
    "# Divide x by y\n",
    "d = x ./ y\n",
    "\n",
    "```"
   ]
  },
  {
   "cell_type": "markdown",
   "metadata": {},
   "source": [
    "# Operating on body temperatures"
   ]
  },
  {
   "cell_type": "markdown",
   "metadata": {},
   "source": [
    "You have been asked to analyze an array of body temperature data for a sample of people. Abnormally high or low body temperatures might indicate that person is unwell.\n",
    "\n",
    "The array of measurements is available in your environment as body_temps_f, but these are the body temperatures measured in degrees Fahrenheit. You would prefer to work with these values in Celsius.\n",
    "\n",
    "Thankfully, you know that you can convert these temperatures in Julia using array operations.\n",
    "\n",
    "You can convert a measurement  measured in Fahrenheit into the equivalent temperature in Celsius using:\n",
    "\n",
    "<center><img src=\"images/02.16.png\"  style=\"width: 400px, height: 300px;\"/></center>\n"
   ]
  },
  {
   "cell_type": "markdown",
   "metadata": {},
   "source": [
    "```\n",
    "# Subtract 32 from each element of body_temps_f\n",
    "body_temps_sub = body_temps_f .- 32\n",
    "\n",
    "# Multiply each element in body_temps_sub by 5/9\n",
    "body_temps_c = body_temps_sub .* (5/9)\n",
    "\n",
    "# Sort the temperatures from lowest to highest\n",
    "sorted_body_temps_c = sort(body_temps_c)\n",
    "\n",
    "# Print the 5 lowest temperatures\n",
    "println(sorted_body_temps_c[1:5])\n",
    "```"
   ]
  }
 ],
 "metadata": {
  "kernelspec": {
   "display_name": "Python 3.8.11 ('env_py')",
   "language": "python",
   "name": "python3"
  },
  "language_info": {
   "name": "python",
   "version": "3.8.11"
  },
  "orig_nbformat": 4,
  "vscode": {
   "interpreter": {
    "hash": "1e949e87132dd83f1a7623eb88007e3532b03b66b77111be347aa4a383049722"
   }
  }
 },
 "nbformat": 4,
 "nbformat_minor": 2
}

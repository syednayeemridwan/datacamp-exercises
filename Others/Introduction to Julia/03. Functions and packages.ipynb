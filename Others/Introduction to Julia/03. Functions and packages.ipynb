{
 "cells": [
  {
   "cell_type": "markdown",
   "metadata": {},
   "source": [
    "# Comparisons"
   ]
  },
  {
   "cell_type": "markdown",
   "metadata": {},
   "source": [
    "Comparisons are important to allow your code to respond to the values it calculates. They are also a crucial part of writing conditional expressions.\n",
    "\n",
    "In this exercise, you will become more comfortable with how these comparisons work. We will use the following variables:\n",
    "```\n",
    "x = 1\n",
    "y = 100.0\n",
    "z = \"one\"\n",
    "```"
   ]
  },
  {
   "cell_type": "markdown",
   "metadata": {},
   "source": [
    "<center><img src=\"images/03.02.jpg\"  style=\"width: 400px, height: 300px;\"/></center>\n"
   ]
  },
  {
   "cell_type": "markdown",
   "metadata": {},
   "source": [
    "# Check input data type"
   ]
  },
  {
   "cell_type": "markdown",
   "metadata": {},
   "source": [
    "Conditional statements make your code intelligent so that it can respond to your inputs or to the results it calculates.\n",
    "\n",
    "One common use for conditional statements is to respond to the users' inputs. In this example, let's say you have written some code for an online shop that will return a number n of this week's top-rated products. This code only works if the input n is an integer (a whole number). You want to check if `n` is suitable and print a message to help the user.\n",
    "\n",
    "The input n has already been assigned and is available in your environment."
   ]
  },
  {
   "cell_type": "markdown",
   "metadata": {},
   "source": [
    "```\n",
    "# Check if n is the correct type\n",
    "if typeof(n)==Int64\n",
    "\t# Print n is the correct type\n",
    "\tprintln(\"n is the correct type\")\n",
    "# Use an else statement to print if n is not the correct type\n",
    "else\n",
    "\tprintln(\"This script only works on integers\")\n",
    "# Finish the conditional statement\n",
    "end\n",
    "\n",
    "println(n)\n",
    "```"
   ]
  },
  {
   "cell_type": "markdown",
   "metadata": {},
   "source": [
    "# If-else practice"
   ]
  },
  {
   "cell_type": "markdown",
   "metadata": {},
   "source": [
    "Conditional statements will come up in your code in lots of places, so its really important you are comfortable with them.\n",
    "\n",
    "In the following samples you are writing little pieces of code to:\n",
    "\n",
    "- Find the absolute value of a number\n",
    "- Find the maximum value of two numbers\n",
    "- Print a message if your script has finished\n",
    "\n",
    "The variables you need to complete these examples, `x`, `y`, and `finished` are available in your environment."
   ]
  },
  {
   "cell_type": "markdown",
   "metadata": {},
   "source": [
    "```\n",
    "# Print x if it is positive, otherwise print -x\n",
    "if x> 0\n",
    "\tprintln(x)\n",
    "else\n",
    "\tprintln(-x)\n",
    "end\n",
    "```"
   ]
  },
  {
   "cell_type": "markdown",
   "metadata": {},
   "source": [
    "```\n",
    "# Complete the conditional statement to find the largest value\n",
    "if x > y\n",
    "\tlarger = x\n",
    "else\n",
    "\tlarger = y\n",
    "end\n",
    "\n",
    "println(\"Maximum from x=$x and y=$y is $larger\")\n",
    "```"
   ]
  },
  {
   "cell_type": "markdown",
   "metadata": {},
   "source": [
    "```\n",
    "# Complete the conditional statement to check if your script has finished\n",
    "if finished\n",
    "\tprintln(\"Script has finished\")\n",
    "else\n",
    "\tprintln(\"Script still running\")\n",
    "end\n",
    "```"
   ]
  },
  {
   "cell_type": "markdown",
   "metadata": {},
   "source": [
    "# Conditioning on body temperature"
   ]
  },
  {
   "cell_type": "markdown",
   "metadata": {},
   "source": [
    "Let's say you were tasked with programming a diagnostic tool that assesses a patient's body temperature. You want to print warnings if the temperature is too high or too low and a reassuring message if it is just right. In this exercise, you'll write a conditional expression to aid the diagnosis.\n",
    "\n",
    "The float `body_temp`, which is the body temperature in degrees Celsius, is available in your environment."
   ]
  },
  {
   "cell_type": "markdown",
   "metadata": {},
   "source": [
    "```\n",
    "# Print a warning message if the temperature is too low\n",
    "if body_temp < 35.9\n",
    "\tprintln(\"Seems a little cold\")\n",
    "# Print a warning message if the temperature is too high\n",
    "elseif body_temp > 37.6\n",
    "    println(\"Might be a fever\")\n",
    "# Print the message if the temperature is normal\n",
    "else\n",
    "\tprintln(\"The patient's temperature seems normal\")\n",
    "# Finish the conditional block\n",
    "end\n",
    "\n",
    "println(\"temperature = $body_temp\")\n",
    "```"
   ]
  },
  {
   "cell_type": "markdown",
   "metadata": {},
   "source": [
    "# Writing a function for strings"
   ]
  },
  {
   "cell_type": "markdown",
   "metadata": {},
   "source": [
    "Now you have a lot of students' grades to process, so it's time to write a function for it.\n",
    "\n",
    "For each student, you have text data that looks like this:\n",
    "\n",
    "`grades = \"XXXX\"`\n",
    "\n",
    "Where the letters \"XXXX\" are the grades for the student in mathematics, history, science, and drama, respectively.\n",
    "\n",
    "A single string of grades named `mygrades` and an array of grade strings named `grades_array` is available in your environment."
   ]
  },
  {
   "cell_type": "markdown",
   "metadata": {},
   "source": [
    "```\n",
    "# Create the get_mathgrade function\n",
    "function get_mathgrade(grades)\n",
    "\treturn grades[1]\n",
    "end\n",
    "\n",
    "# Use the function on mygrades\n",
    "println(get_mathgrade(mygrades))\n",
    "\n",
    "# Use the function on grades_array\n",
    "println(get_mathgrade.(grades_array))\n",
    "```"
   ]
  },
  {
   "cell_type": "markdown",
   "metadata": {},
   "source": [
    "# Writing a function with multiple arguments"
   ]
  },
  {
   "cell_type": "markdown",
   "metadata": {},
   "source": [
    "In the last exercise, you wrote a function that returns the first letter of a student's grades. However, you would like a function that can be used to extract any of the student's grades.\n",
    "\n",
    "For each student, you have text data that looks like this:\n",
    "\n",
    "`grades = \"XXXX\"`\n",
    "\n",
    "Where the letters \"XXXX\" are the grades for the student in mathematics, history, science, and drama, respectively.\n",
    "\n",
    "A single string of grades named `mygrades` and an array of grade strings named `grades_array` is available in your environment."
   ]
  },
  {
   "cell_type": "markdown",
   "metadata": {},
   "source": [
    "```\n",
    "# Create the get_gradenumber function\n",
    "function get_gradenumber(grades, n)\n",
    "\treturn grades[n]\n",
    "end\n",
    "\n",
    "# Use the function on mygrades to extract the history grade\n",
    "println(get_gradenumber(mygrades, 2))\n",
    "\n",
    "# Use the function on grades_array to extract the history grades\n",
    "println(get_gradenumber.(grades_array, 2))\n",
    "```"
   ]
  },
  {
   "cell_type": "markdown",
   "metadata": {},
   "source": [
    "# Absolute value"
   ]
  },
  {
   "cell_type": "markdown",
   "metadata": {},
   "source": [
    "Previously we fit a straight line to your run times. Now you want to examine how far the values of your run times were from the predictions of the straight-line fit. A common way to do this is by using the absolute difference between the values.\n",
    "\n",
    "You need to write a function that can calculate the absolute values so you can perform this analysis.\n",
    "\n",
    "The array of residuals between the straight line and your run times is available in your environment as `residuals`."
   ]
  },
  {
   "cell_type": "markdown",
   "metadata": {},
   "source": [
    "```\n",
    "# Begin the absolute function\n",
    "function absolute(x)\n",
    "\t# Write an if-statement to return absolute value of x\n",
    "\tif x >= 0\n",
    "    \treturn x\n",
    "    else\n",
    "    \treturn -x\n",
    "    end\n",
    "end\n",
    "\n",
    "# Use the function on residuals\n",
    "println(absolute.(residuals))\n",
    "```"
   ]
  },
  {
   "cell_type": "markdown",
   "metadata": {},
   "source": [
    "# Modifying arrays"
   ]
  },
  {
   "cell_type": "markdown",
   "metadata": {},
   "source": [
    "You are looking at the array of students' grades once again. It has come to your attention that your own grade, which is at index 4 in the array, is not as high as it should be. It's time to write a mutating function to take care of this obvious mistake."
   ]
  },
  {
   "cell_type": "markdown",
   "metadata": {},
   "source": [
    "```\n",
    "# Write a grade mutating function\n",
    "function topstudent!(x)\n",
    "\tx[4] = \"AAAA\"\n",
    "end\n",
    "\n",
    "println(\"Your previous grades were $(grades_array[4])\")\n",
    "\n",
    "# Call the function on grades_array\n",
    "topstudent!(grades_array)\n",
    "\n",
    "println(\"Your new grades are $(grades_array[4])\")\n",
    "```"
   ]
  },
  {
   "cell_type": "markdown",
   "metadata": {},
   "source": [
    "# Everyone wins"
   ]
  },
  {
   "cell_type": "markdown",
   "metadata": {},
   "source": [
    "After the last exercise, you realize that you have the power not just to improve your own grades but the grades of everyone else. So why not use your skills to help others too?\n",
    "\n",
    "The array of grades `grades_array` is available in your environment."
   ]
  },
  {
   "cell_type": "markdown",
   "metadata": {},
   "source": [
    "```\n",
    "# Write a grade mutating function\n",
    "function topstudents!(x)\n",
    "\tx.= \"AAAA\"\n",
    "end\n",
    "\n",
    "# Call the function on grades_array\n",
    "topstudents!(grades_array)\n",
    "\n",
    "println(\"The new grades are $(grades_array)\")\n",
    "```"
   ]
  },
  {
   "cell_type": "markdown",
   "metadata": {},
   "source": [
    "# Multiple dispatch"
   ]
  },
  {
   "cell_type": "markdown",
   "metadata": {},
   "source": [
    "Multiple dispatch is one of the unique features of Julia, and it will help you write really neat and efficient code. Earlier in this chapter, you wrote some code to check whether a variable had the correct type for a function. With multiple dispatch we can handle different input types more effectively.\n",
    "\n",
    "In this exercise, you will write a function that uses multiple dispatch."
   ]
  },
  {
   "cell_type": "markdown",
   "metadata": {},
   "source": [
    "```\n",
    "# Write the negative function\n",
    "function negative(x)\n",
    "\treturn -x\n",
    "end\n",
    "\n",
    "# Write negative function for Bool data type\n",
    "function negative(x::Bool)\n",
    "\tif x\n",
    "    \treturn false\n",
    "    else\n",
    "    \treturn true\n",
    "    end\n",
    "end\n",
    "```"
   ]
  },
  {
   "cell_type": "markdown",
   "metadata": {},
   "source": [
    "# Importing packages"
   ]
  },
  {
   "cell_type": "markdown",
   "metadata": {},
   "source": [
    "Utilizing external packages will make you a more effective programmer. In this exercise, you will import and use the `Statistics` package in two different ways.\n",
    "\n",
    "An array of data named x, is available in your environment."
   ]
  },
  {
   "cell_type": "markdown",
   "metadata": {},
   "source": [
    "```\n",
    "# Import the Statistics package\n",
    "import Statistics\n",
    "\n",
    "# Calculate median\n",
    "m = Statistics.median(x)\n",
    "\n",
    "println(\"Median of x is $m\")\n",
    "```"
   ]
  },
  {
   "cell_type": "markdown",
   "metadata": {},
   "source": [
    "```\n",
    "# Import the Statistics package\n",
    "using Statistics\n",
    "\n",
    "# Calculate standard deviation\n",
    "m = std(x)\n",
    "\n",
    "println(\"Standard deviation of x is $m\")\n",
    "```"
   ]
  },
  {
   "cell_type": "markdown",
   "metadata": {},
   "source": [
    "# Using the Statistics package"
   ]
  },
  {
   "cell_type": "markdown",
   "metadata": {},
   "source": [
    "Now that you know how to import and use packages, you can analyze the data from the last chapter even further.\n",
    "\n",
    "The array `body_temps_c`, which you created in the last chapter, is available in the environment. This array contains some measurements of body temperatures in degrees Celsius.\n",
    "\n",
    "Another array named `heart_rates` is also available in your environment and contains the heart rates of the same sample of people measured in beats per minute.\n",
    "\n",
    "You want to find the average value of each of these arrays. You know that inside the `Statistics` package, there is a function called `mean()`, which will calculate exactly what you want."
   ]
  },
  {
   "cell_type": "markdown",
   "metadata": {},
   "source": [
    "```\n",
    "# Import the Statistics package\n",
    "import Statistics as sts\n",
    "\n",
    "# Calculate the mean body temperature\n",
    "mean_body_temp_c = sts.mean(body_temps_c)\n",
    "\n",
    "# Print the mean body temperature\n",
    "println(\"The mean body temperature is \", mean_body_temp_c)\n",
    "\n",
    "# Calculate the mean heart rate\n",
    "mean_heart_rate = sts.mean(heart_rates)\n",
    "\n",
    "println(\"The mean heart rate is $mean_heart_rate\")\n",
    "```"
   ]
  }
 ],
 "metadata": {
  "kernelspec": {
   "display_name": "Python 3.8.11 ('env_py')",
   "language": "python",
   "name": "python3"
  },
  "language_info": {
   "name": "python",
   "version": "3.8.11"
  },
  "orig_nbformat": 4,
  "vscode": {
   "interpreter": {
    "hash": "1e949e87132dd83f1a7623eb88007e3532b03b66b77111be347aa4a383049722"
   }
  }
 },
 "nbformat": 4,
 "nbformat_minor": 2
}

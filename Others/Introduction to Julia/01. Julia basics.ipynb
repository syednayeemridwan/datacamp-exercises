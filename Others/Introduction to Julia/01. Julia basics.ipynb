{
 "cells": [
  {
   "cell_type": "markdown",
   "metadata": {},
   "source": [
    "# Using the console"
   ]
  },
  {
   "cell_type": "markdown",
   "metadata": {},
   "source": [
    "The console to the right allows you to interactively run lines of Julia code. You can type a command and press enter to run it.\n",
    "\n",
    "Use the console to find the difference between 39221 and 1892."
   ]
  },
  {
   "cell_type": "markdown",
   "metadata": {},
   "source": [
    "- 37329"
   ]
  },
  {
   "cell_type": "markdown",
   "metadata": {},
   "source": [
    "<center><img src=\"images/01.02.jpg\"  style=\"width: 400px, height: 300px;\"/></center>\n"
   ]
  },
  {
   "cell_type": "markdown",
   "metadata": {},
   "source": [
    "# Julia as a calculator"
   ]
  },
  {
   "cell_type": "markdown",
   "metadata": {},
   "source": [
    "Writing your code into a script instead of the console means you will have it saved for later. This allows you to rerun the code, modify it and run it with different inputs, or check for any mistakes in the code you used earlier.\n",
    "\n",
    "Here you are writing a script to keep track of your hours worked throughout the week. You have been adding to it every day to get a total."
   ]
  },
  {
   "cell_type": "markdown",
   "metadata": {},
   "source": [
    "```\n",
    "# Add the comment on the line below\n",
    "# Hours worked this week\n",
    "\n",
    "# Add the hours worked\n",
    "39 + 37.5 + 40 + 42\n",
    "```"
   ]
  },
  {
   "cell_type": "markdown",
   "metadata": {},
   "source": [
    "# Printing"
   ]
  },
  {
   "cell_type": "markdown",
   "metadata": {},
   "source": [
    "When working with scripts, print statements can help you see the output of your code. You can use one or more print statements in the same script, and everything inside the statements will be printed to the console.\n",
    "\n",
    "You are working on the same script from the previous exercise to track your working hours. Now you want to add printing to see the output of your total hours worked."
   ]
  },
  {
   "cell_type": "markdown",
   "metadata": {},
   "source": [
    "```\n",
    "# Hours worked this week\n",
    "\n",
    "# Print the number of days worked\n",
    "println(4)\n",
    "\n",
    "# Print the sum of the hours worked\n",
    "println(39 + 37.5 + 40 + 42)\n",
    "```"
   ]
  },
  {
   "cell_type": "markdown",
   "metadata": {},
   "source": [
    "# Valid variable names"
   ]
  },
  {
   "cell_type": "markdown",
   "metadata": {},
   "source": [
    "Some variable names will cause your code to raise an error, while others are not in keeping with the recommended form. Identifying and replacing these with better names that adhere to best practices will help you write more readable and neat code."
   ]
  },
  {
   "cell_type": "markdown",
   "metadata": {},
   "source": [
    "<center><img src=\"images/01.06.jpg\"  style=\"width: 400px, height: 300px;\"/></center>\n"
   ]
  },
  {
   "cell_type": "markdown",
   "metadata": {},
   "source": [
    "# Assigning variables"
   ]
  },
  {
   "cell_type": "markdown",
   "metadata": {},
   "source": [
    "Assigning variables means you can write more complex code. Using variables also makes the code you write more interpretable since you are labeling the pieces of information rather than having them as raw pieces of data.\n",
    "\n",
    "You are writing a script to calculate your average running pace from your last two runs. You want to assign your run times and distances to variables so you can process them later."
   ]
  },
  {
   "cell_type": "markdown",
   "metadata": {},
   "source": [
    "```\n",
    "# Create variable monday_distance\n",
    "monday_distance = 4500\n",
    "\n",
    "# Create variable monday_time\n",
    "monday_time = 28.9\n",
    "\n",
    "# Create variable wednesday_distance\n",
    "wednesday_distance = 6000\n",
    "\n",
    "# Create variable wednesday_time\n",
    "wednesday_time = 37.1\n",
    "```"
   ]
  },
  {
   "cell_type": "markdown",
   "metadata": {},
   "source": [
    "# Calculating with variables\n"
   ]
  },
  {
   "cell_type": "markdown",
   "metadata": {},
   "source": [
    "Now that you have assigned your run times and distances to variables, you want to process these times to calculate your average speed over the two runs.\n",
    "\n",
    "You can calculate the speed using:\n",
    "\n",
    " `speed = distance / time`\n",
    "\n",
    "The variables monday_distance, wednesday_distance, monday_time, and wednesday_time are all available in your environment."
   ]
  },
  {
   "cell_type": "markdown",
   "metadata": {},
   "source": [
    "```\n",
    "# Calculate the total distance in miles\n",
    "total_distance = (monday_distance + wednesday_distance)/1609\n",
    "\n",
    "# Calculate the total run time in hours\n",
    "total_time = (monday_time + wednesday_time)/60\n",
    "\n",
    "# Calculate the average speed\n",
    "average_speed = total_distance / total_time\n",
    "\n",
    "# Print the average speed\n",
    "println(average_speed)\n",
    "```"
   ]
  },
  {
   "cell_type": "markdown",
   "metadata": {},
   "source": [
    "# Recognizing data types"
   ]
  },
  {
   "cell_type": "markdown",
   "metadata": {},
   "source": [
    "It is important to recognize what data types will be used when you are assigning variables. A common bug type you might encounter is where you have got mismatched data types. Even if the data types don't cause an error, they can reduce the performance of your code or result in unexpected behavior."
   ]
  },
  {
   "cell_type": "markdown",
   "metadata": {},
   "source": [
    "<center><img src=\"images/01.10.jpg\"  style=\"width: 400px, height: 300px;\"/></center>\n"
   ]
  },
  {
   "cell_type": "markdown",
   "metadata": {},
   "source": [
    "# Finding the data type"
   ]
  },
  {
   "cell_type": "markdown",
   "metadata": {},
   "source": [
    "When you perform a calculation, the data type of the result can be different than the data type of the inputs. This change in data types can happen without you realizing it and may cause your code to malfunction. Printing the data type of variables can help you track down issues caused by variables being a different data type than expected.\n",
    "\n",
    "In this script, you are analyzing your run times again. Your last two times (30 minutes and 33 minutes) to run 5 kilometers have been assigned to the variables `runtime_1` and `runtime_2`.\n",
    "\n",
    "In this exercise, you will find the average of your run times. You can find the average of two numbers,x and y, using:\n",
    "`(x+y)/2`\n"
   ]
  },
  {
   "cell_type": "markdown",
   "metadata": {},
   "source": [
    "```\n",
    "# Print the type of runtime_1\n",
    "println(typeof(runtime_1))\n",
    "\n",
    "# Print the type of runtime_2\n",
    "println(typeof(runtime_2))\n",
    "\n",
    "# Calculate the average run time\n",
    "average_runtime = (runtime_1 + runtime_2)/2\n",
    "\n",
    "# Print the type of average_runtime\n",
    "println(typeof(average_runtime))\n",
    "```"
   ]
  },
  {
   "cell_type": "markdown",
   "metadata": {},
   "source": [
    "# Converting types"
   ]
  },
  {
   "cell_type": "markdown",
   "metadata": {},
   "source": [
    "Integers, floats, and strings are the most common data types you will encounter when working with Julia. Certain operations can only be performed on certain data types, and some operations work differently based on the data type.\n",
    "\n",
    "For example, in Julia `3*2` will return `6`, but `\"3\"*\"2\"` will return `\"32\"`. These kinds of bugs can crash your code or ruin your analysis, so it is important to know how to convert between types."
   ]
  },
  {
   "cell_type": "markdown",
   "metadata": {},
   "source": [
    "```\n",
    "a_float = 3.0\n",
    "\n",
    "# Convert a_float to be an integer and print its new type\n",
    "a_int = Int64(a_float)\n",
    "\n",
    "println(typeof(a_int))\n",
    "```"
   ]
  },
  {
   "cell_type": "markdown",
   "metadata": {},
   "source": [
    "```\n",
    "b_int = 3\n",
    "\n",
    "# Convert b into a float\n",
    "b_float = Float64(b_int)\n",
    "\n",
    "println(\"b_float is a \", typeof(b_float))\n",
    "```"
   ]
  },
  {
   "cell_type": "markdown",
   "metadata": {},
   "source": [
    "```\n",
    "c_int = 10\n",
    "\n",
    "# Convert c_int into a string\n",
    "c_string = string(c_int)\n",
    "\n",
    "println(\"c_string is a \", typeof(c_string))\n",
    "```"
   ]
  },
  {
   "cell_type": "markdown",
   "metadata": {},
   "source": [
    "```\n",
    "d_string = \"3.1415\"\n",
    "\n",
    "# Convert d_string into a float\n",
    "d_float = parse(Float64, d_string)\n",
    "\n",
    "println(\"d_float is a \", typeof(d_float))\n",
    "```"
   ]
  }
 ],
 "metadata": {
  "kernelspec": {
   "display_name": "Python 3.8.11 ('env_py')",
   "language": "python",
   "name": "python3"
  },
  "language_info": {
   "name": "python",
   "version": "3.8.11"
  },
  "orig_nbformat": 4,
  "vscode": {
   "interpreter": {
    "hash": "1e949e87132dd83f1a7623eb88007e3532b03b66b77111be347aa4a383049722"
   }
  }
 },
 "nbformat": 4,
 "nbformat_minor": 2
}

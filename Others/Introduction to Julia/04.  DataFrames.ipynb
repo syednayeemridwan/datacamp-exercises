{
 "cells": [
  {
   "cell_type": "markdown",
   "metadata": {},
   "source": [
    "# Loading and examining data"
   ]
  },
  {
   "cell_type": "markdown",
   "metadata": {},
   "source": [
    "Accessing data is the very first step of any analysis. Tabular data, which can be stored in CSV files, is the most common type of data out there, so it is vital that you know how to handle it.\n",
    "\n",
    "In this exercise, you will load some patient data of body temperatures and heart rates from a CSV file. You used this body temperature data in chapter 2, where you converted it from Fahrenheit to Celsius. Now that you know how to use DataFrames, you can load it yourself!"
   ]
  },
  {
   "cell_type": "markdown",
   "metadata": {},
   "source": [
    "```\n",
    "# Import packages\n",
    "using CSV\n",
    "using DataFrames\n",
    "\n",
    "# Load CSV File\n",
    "file_contents = CSV.File(\"patients.csv\")\n",
    "\n",
    "# Convert to dataframe\n",
    "df_patients = DataFrame(file_contents)\n",
    "\n",
    "# Print the first 5 rows of the DataFrame\n",
    "println(first(df_patients, 5))\n",
    "```"
   ]
  },
  {
   "cell_type": "markdown",
   "metadata": {},
   "source": [
    "# Creating a DataFrame"
   ]
  },
  {
   "cell_type": "markdown",
   "metadata": {},
   "source": [
    "You are examining the students' grade data, which is available in your environment as `grades_array`. Each array element is a string of 4 letters for a student's mathematics, history, science, and drama grades.\n",
    "\n",
    "In the last chapter, you wrote a function called `get_gradenumber(grades, n)` to select the nth grade from the grade string `grade`. The function's first argument is the grade string, and the second argument is the number n from 1-4. The grades in each string are for mathematics, history, science, and drama, respectively.\n",
    "\n",
    "The `DataFrames` package has been imported for you with the `using` keyword."
   ]
  },
  {
   "cell_type": "markdown",
   "metadata": {},
   "source": [
    "```\n",
    "# Extract the mathematics grades\n",
    "math_grades = get_gradenumber.(grades_array, 1)\n",
    "\n",
    "# Create the DataFrame\n",
    "df_grades = DataFrame(\n",
    "\tmathematics=math_grades\n",
    ")\n",
    "\n",
    "println(first(df_grades, 5))\n",
    "```"
   ]
  },
  {
   "cell_type": "markdown",
   "metadata": {},
   "source": [
    "```\n",
    "# Create the DataFrame\n",
    "df_grades = DataFrame(\n",
    "\tmathematics=get_gradenumber.(grades_array, 1),\n",
    "    history=get_gradenumber.(grades_array, 2), \n",
    "    science=get_gradenumber.(grades_array, 3), \n",
    "    drama=get_gradenumber.(grades_array, 4),\n",
    ")\n",
    "\n",
    "println(first(df_grades, 5))\n",
    "```"
   ]
  },
  {
   "cell_type": "markdown",
   "metadata": {},
   "source": [
    "# DataFrame properties"
   ]
  },
  {
   "cell_type": "markdown",
   "metadata": {},
   "source": [
    "One of the benefits of DataFrames is that they allow us to work with big datasets much more easily than with arrays. These datasets can be very long and have lots of rows, and they can be very wide with lots of columns.\n",
    "\n",
    "In this chapter, you will work with the `\"books.csv\"` dataset. Each row corresponds to information about a single book and its ratings on a book review website.\n",
    "\n",
    "In this exercise, you'll explore the dataset to familiarize yourself with its columns and length. You'll analyze it in more depth later.\n",
    "\n",
    "The `DataFrames` and `CSV` packages have been imported for you with the `using` keyword."
   ]
  },
  {
   "cell_type": "markdown",
   "metadata": {},
   "source": [
    "```\n",
    "# Load the book review data\n",
    "df_books = DataFrame(CSV.File(\"books.csv\"))\n",
    "\n",
    "# Print column names\n",
    "println(names(df_books))\n",
    "\n",
    "# Find number of rows and columns\n",
    "println(size(df_books))\n",
    "```"
   ]
  },
  {
   "cell_type": "markdown",
   "metadata": {},
   "source": [
    "# Indexing DataFrames"
   ]
  },
  {
   "cell_type": "markdown",
   "metadata": {},
   "source": [
    "DataFrames are powerful tools for analyzing data, but you need to be able to select the information you need from them. Let's practice selecting data here.\n",
    "\n",
    "The DataFrames `df_patients`, `df_grades`, and `df_books` are available in your environment."
   ]
  },
  {
   "cell_type": "markdown",
   "metadata": {},
   "source": [
    "```\n",
    "# Select the body temperature column\n",
    "body_temps = df_patients[:, \"bodytemp\"]\n",
    "\n",
    "println(body_temps)\n",
    "\n",
    "# Select the third row of df_grades\n",
    "third_grades = df_grades[3, :]\n",
    "\n",
    "println(third_grades)\n",
    "\n",
    "# Select the \n",
    "book_title = df_books[710, \"title\"]\n",
    "\n",
    "println(\"The book is $book_title\")\n",
    "```"
   ]
  },
  {
   "cell_type": "markdown",
   "metadata": {},
   "source": [
    "# Slicing DataFrames"
   ]
  },
  {
   "cell_type": "markdown",
   "metadata": {},
   "source": [
    "You are working with the books DataFrame again. This DataFrame had 12 columns, which makes it hard to print any single row. However, the most important information is contained in the first 6 columns of this DataFrame. Therefore, we slice it to select the parts we want and make processing and printing easier.\n",
    "\n",
    "The books DataFrame is available in your environment as `df_books`."
   ]
  },
  {
   "cell_type": "markdown",
   "metadata": {},
   "source": [
    "```\n",
    "# Slice the first 6 columns\n",
    "df_narrow = df_books[:, 1:6]\n",
    "\n",
    "# Slice the first 6 columns\n",
    "df_narrow = df_books[:, 1:6]\n",
    "\n",
    "# Slice the 10th to 20th rows\n",
    "df_short = df_narrow[10:20, :]\n",
    "\n",
    "println(df_short)\n",
    "```"
   ]
  },
  {
   "cell_type": "markdown",
   "metadata": {},
   "source": [
    "# Sorting patients"
   ]
  },
  {
   "cell_type": "markdown",
   "metadata": {},
   "source": [
    "You are looking at the patient data again, and you have come to realize just how unruly it is. Let's bring some order to this data using the `sort()` function.\n",
    "\n",
    "The patient data is available in your environment as `df_patients`."
   ]
  },
  {
   "cell_type": "markdown",
   "metadata": {},
   "source": [
    "```\n",
    "# Sort the data by heart rate\n",
    "df_byheart = sort(df_patients, \"heartrate\")\n",
    "\n",
    "# Print the first 5 rows\n",
    "println(df_byheart[1:5, :])\n",
    "\n",
    "\n",
    "# Sort the data by body temperature\n",
    "df_bytemp = sort(df_patients,\"bodytemp\" , rev= true)\n",
    "\n",
    "# Print the first 5 rows\n",
    "println(df_bytemp[1:5,:])\n",
    "```"
   ]
  },
  {
   "cell_type": "markdown",
   "metadata": {},
   "source": [
    "# Literary analysis"
   ]
  },
  {
   "cell_type": "markdown",
   "metadata": {},
   "source": [
    "Let's look at the book rating data again. You've been tasked with finding out more information about this data that you couldn't calculate before. You need to find the total number of ratings used to create this dataset and how old is the oldest book.\n",
    "\n",
    "The DataFrame `df_books` is available in your environment."
   ]
  },
  {
   "cell_type": "markdown",
   "metadata": {},
   "source": [
    "```\n",
    "# Find the total number of ratings\n",
    "total_reviews = sum(df_books.ratings_count)\n",
    "\n",
    "# Find the earliest publication year\n",
    "earliest_year = minimum(df_books.original_publication_year)\n",
    "\n",
    "println(\"Total number of reviews is $total_reviews\")\n",
    "println(\"Earliest year of publication is $earliest_year\")\n",
    "```"
   ]
  },
  {
   "cell_type": "markdown",
   "metadata": {},
   "source": [
    "# Describing patient data"
   ]
  },
  {
   "cell_type": "markdown",
   "metadata": {},
   "source": [
    "This time, you have been tasked with producing a summary of the patient body temperature and heart rate data. You need to find the different columns' mean, minimum, and maximum. Luckily, you know a function that can calculate all of these at once.\n",
    "\n",
    "The DataFrame `df_patients` is available in your environment."
   ]
  },
  {
   "cell_type": "markdown",
   "metadata": {},
   "source": [
    "```\n",
    "# Summarize the DataFrame\n",
    "println(describe(df_patients))\n",
    "```"
   ]
  },
  {
   "cell_type": "markdown",
   "metadata": {},
   "source": [
    "<center><img src=\"images/04.11.jpg\"  style=\"width: 400px, height: 300px;\"/></center>\n"
   ]
  },
  {
   "cell_type": "markdown",
   "metadata": {},
   "source": [
    "# Standardize heart rate"
   ]
  },
  {
   "cell_type": "markdown",
   "metadata": {},
   "source": [
    "\"Standardization\" is a data transformation that modifies values of (variable)  as:\n",
    "\n",
    " `standardized_x = (x - x_mean) / std_x`\n",
    "\n",
    "Standardization can be helpful when you don't know how to interpret an absolute value. For example, what does a heart rate of 78 beats per minute mean? Is it high, low, or average?\n",
    "\n",
    "In this exercise, you'll calculate the mean and standard deviation of the heart rate data and create a new column of standardized heart rates to help answer this question.\n",
    "\n",
    "The patient data is available in your environment as `df_patients`. The `Statistics` package has been imported for you with the `using` keyword."
   ]
  },
  {
   "cell_type": "markdown",
   "metadata": {},
   "source": [
    "```\n",
    "# Find the mean heart rate\n",
    "mean_hr = mean(df_patients.heartrate)\n",
    "\n",
    "# Find the standard deviation of heart rates\n",
    "std_hr = std(df_patients.heartrate)\n",
    "\n",
    "# Calculate the normalized array of heart rates\n",
    "norm_heartrate = (df_patients.heartrate .- mean_hr) ./ std_hr\n",
    "\n",
    "# Add the normalized heartrate to the DataFrame\n",
    "df_patients.norm_heartrate = norm_heartrate\n",
    "\n",
    "println(last(df_patients, 5))\n",
    "```"
   ]
  },
  {
   "cell_type": "markdown",
   "metadata": {},
   "source": [
    "# Constructing filters"
   ]
  },
  {
   "cell_type": "markdown",
   "metadata": {},
   "source": [
    "You are working with a DataFrame of wildfires named df_wild. You want to filter the data to examine only the largest fires, with a burn area of over 300 acres. You can do this by filtering the rows of the DataFrame to only keep rows where the acres column is more than 300.\n",
    "\n",
    "Which of the following code snippets should you use to complete the filter:\n",
    "\n",
    "`df_bigfires = filter(____, df)`"
   ]
  },
  {
   "cell_type": "markdown",
   "metadata": {},
   "source": [
    "- `row -> row.acres > 300`"
   ]
  },
  {
   "cell_type": "markdown",
   "metadata": {},
   "source": [
    "# Filtered body temp"
   ]
  },
  {
   "cell_type": "markdown",
   "metadata": {},
   "source": [
    "Now that you know how to filter data, you can dive deeper into the patient data and perform conditional data analysis.\n",
    "\n",
    "You are working with the patient data again. You are interested in whether the patient's body temperature depends on their sex. You can use filtering to answer this question.\n",
    "\n",
    "The patient DataFrame is available in your environment as `df_patients`. The `Statistics` package has been imported for you with the `using` keyword."
   ]
  },
  {
   "cell_type": "markdown",
   "metadata": {},
   "source": [
    "```\n",
    "# Filter to where the sex is female\n",
    "df_female = filter(row -> row.sex == \"female\", df_patients)\n",
    "\n",
    "# Filter to where the sex is male\n",
    "df_male = filter(row -> row.sex == \"male\", df_patients)\n",
    "\n",
    "# Calculate mean body temperature for females\n",
    "female_temp = mean(df_female.bodytemp)\n",
    "\n",
    "# Calculate mean body temperature for males\n",
    "male_temp = mean(df_male.bodytemp)\n",
    "\n",
    "println(\"Body temperatures of females is: $female_temp F\")\n",
    "println(\"Body temperatures of males is: $male_temp F\")\n",
    "```"
   ]
  },
  {
   "cell_type": "markdown",
   "metadata": {},
   "source": [
    "# Classic books"
   ]
  },
  {
   "cell_type": "markdown",
   "metadata": {},
   "source": [
    "Time to use your new DataFrame skills to analyze the books dataset one last time.\n",
    "\n",
    "You are working for a publisher that wants to spotlight classic books this month. Can you analyze the DataFrame `df_books` to find the top-rated books published before 1900?\n",
    "\n",
    "`df_books` is available in your environment."
   ]
  },
  {
   "cell_type": "markdown",
   "metadata": {},
   "source": [
    "```\n",
    "# Filter to books which were published before 1900\n",
    "df_old_books = filter(row -> row.original_publication_year<1900, df_books)\n",
    "\n",
    "# Sort these books by rating\n",
    "df_old_books_sorted = sort(df_old_books, \"average_rating\", rev=true)\n",
    "\n",
    "# Print the 5 top-rated old books\n",
    "println(first(df_old_books_sorted,5))\n",
    "```"
   ]
  }
 ],
 "metadata": {
  "kernelspec": {
   "display_name": "Python 3.8.11 ('env_py')",
   "language": "python",
   "name": "python3"
  },
  "language_info": {
   "name": "python",
   "version": "3.8.11"
  },
  "orig_nbformat": 4,
  "vscode": {
   "interpreter": {
    "hash": "1e949e87132dd83f1a7623eb88007e3532b03b66b77111be347aa4a383049722"
   }
  }
 },
 "nbformat": 4,
 "nbformat_minor": 2
}

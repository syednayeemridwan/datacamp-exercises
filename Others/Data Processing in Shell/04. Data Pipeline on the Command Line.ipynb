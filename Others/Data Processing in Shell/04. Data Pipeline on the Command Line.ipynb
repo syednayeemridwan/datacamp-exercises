{
 "cells": [
  {
   "cell_type": "markdown",
   "metadata": {},
   "source": [
    "# Finding Python version on the command line"
   ]
  },
  {
   "cell_type": "markdown",
   "metadata": {},
   "source": [
    "Which of the following commands will NOT show what version of Python is installed? Feel free to try out the various answers on the terminal."
   ]
  },
  {
   "cell_type": "markdown",
   "metadata": {},
   "source": [
    "- `which python` (will show where python is installed)"
   ]
  },
  {
   "cell_type": "markdown",
   "metadata": {},
   "source": [
    "# Executing Python script on the command line"
   ]
  },
  {
   "cell_type": "markdown",
   "metadata": {},
   "source": [
    "Let's work through an example of how we can use Python on the command line without needing to open up a GUI like Jupyter Notebook or Spyder. Interacting with Python on the command line is faster and more efficient than using a GUI. Here, we will create a Python file and execute it using our native Python, all without leaving the bash terminal."
   ]
  },
  {
   "cell_type": "markdown",
   "metadata": {},
   "source": [
    "```\n",
    "# in one step, create a new file and pass the print function into the file\n",
    "echo \"print('This is my first Python script')\" > my_first_python_script.py\n",
    "\n",
    "# check file location \n",
    "ls\n",
    "\n",
    "# check file content \n",
    "cat my_first_python_script.py\n",
    "\n",
    "# execute Python script file directly from command line  \n",
    "python my_first_python_script.py\n",
    "```"
   ]
  },
  {
   "cell_type": "markdown",
   "metadata": {},
   "source": [
    "# Understanding pip's capabilities"
   ]
  },
  {
   "cell_type": "markdown",
   "metadata": {},
   "source": [
    "Which of the following statements regarding pip is NOT true?\n",
    "\n",
    "Feel free to try out the various answers on the terminal."
   ]
  },
  {
   "cell_type": "markdown",
   "metadata": {},
   "source": [
    "- pip can only install one Python package at a time"
   ]
  },
  {
   "cell_type": "markdown",
   "metadata": {},
   "source": [
    "# Installing Python dependencies"
   ]
  },
  {
   "cell_type": "markdown",
   "metadata": {},
   "source": [
    "In the following exercises, we will work through the set up process for making sure our Python environment has the proper library dependencies installed prior to executing a Python model script. In this pipeline we will create the `requirements.txt` file which houses the dependencies we need to install, install the dependencies, and do a quick sanity check to make sure everything is properly set up."
   ]
  },
  {
   "cell_type": "markdown",
   "metadata": {},
   "source": [
    "```\n",
    "# Add scikit-learn to the requirements.txt file\n",
    "echo \"scikit-learn\" > requirements.txt\n",
    "\n",
    "# Preview file content\n",
    "cat requirements.txt\n",
    "\n",
    "# Install the required dependencies\n",
    "pip install -r requirements.txt\n",
    "\n",
    "# Verify that Scikit-Learn is now installed\n",
    "pip list\n",
    "```"
   ]
  },
  {
   "cell_type": "markdown",
   "metadata": {},
   "source": [
    "# Running a Python model"
   ]
  },
  {
   "cell_type": "markdown",
   "metadata": {},
   "source": [
    "In the previous exercise, we installed the packages necessary to run a Python model script. In this exercise, we'll run a pre-written Python script `create_model.py` which will output two things: a Python model in a saved `.pkl` file and the predicted scores in a saved `.csv` file."
   ]
  },
  {
   "cell_type": "markdown",
   "metadata": {},
   "source": [
    "```\n",
    "# Re-install requirements\n",
    "pip install -r requirements.txt\n",
    "\n",
    "# Preview Python model script for import dependencies\n",
    "cat create_model.py\n",
    "\n",
    "# Verify that dependencies are installed\n",
    "pip list\n",
    "\n",
    "# Execute Python model script, which outputs a pkl file\n",
    "python create_model.py\n",
    "\n",
    "# Verify that the model.pkl file has been created \n",
    "ls\n",
    "```"
   ]
  },
  {
   "cell_type": "markdown",
   "metadata": {},
   "source": [
    "# Understanding cron scheduling syntax"
   ]
  },
  {
   "cell_type": "markdown",
   "metadata": {},
   "source": [
    "Which of the following is the correct Crontab syntax for execute the Python model script (model.py) every hour, on the 15 minute of an hour? (e.g. 12:15 PM, 1:15 AM, 2:15 AM, etc)?\n",
    "\n",
    "Remember the syntax for Crontab:\n",
    "<center><img src=\"images/04.08.jpg\"  style=\"width: 400px, height: 300px;\"/></center>\n"
   ]
  },
  {
   "cell_type": "markdown",
   "metadata": {},
   "source": [
    "- `15 * * * * python model.py`"
   ]
  },
  {
   "cell_type": "markdown",
   "metadata": {},
   "source": [
    "# Scheduling a job with crontab"
   ]
  },
  {
   "cell_type": "markdown",
   "metadata": {},
   "source": [
    "In this exercise, we will create a simple Python job and automate this job using CRONTAB so that it runs every minute.\n",
    "\n",
    "If you're unsure of how to use cron or crontab, refer to https://crontab.guru for more documentation."
   ]
  },
  {
   "cell_type": "markdown",
   "metadata": {},
   "source": [
    "```\n",
    "# Verify that there are no CRON jobs currently scheduled\n",
    "crontab -l \n",
    "\n",
    "# Create Python file hello_world.py\n",
    "echo \"print('hello world')\" > hello_world.py\n",
    "\n",
    "# Preview Python file \n",
    "cat hello_world.py\n",
    "\n",
    "# Add as job that runs every minute on the minute to crontab\n",
    "echo \"* * * * * python hello_world.py\" | crontab\n",
    "\n",
    "# Verify that the CRON job has been added\n",
    "crontab -l\n",
    "```"
   ]
  },
  {
   "cell_type": "markdown",
   "metadata": {},
   "source": [
    "# Model production on the command line"
   ]
  },
  {
   "cell_type": "markdown",
   "metadata": {},
   "source": [
    "Often times, Python models, once perfected, need to be moved into production and run on a frequent basis. To save the data scientist's time, instead of running the model manually every day, the run process is automated.\n",
    "\n",
    "Automating and putting a Python model into production involves first installing all necessary library dependencies, running the Python model itself, and then setting a schedule for frequency of the runs. While it is possible to do all these steps separately using different languages and programs, consolidating all efforts into command line commands allows for more user control and easier automation.\n",
    "\n",
    "In this capstone exercise, we will practice how to set up an end-to-end Python script automation process step by step."
   ]
  },
  {
   "cell_type": "markdown",
   "metadata": {},
   "source": [
    "```\n",
    "# Preview both Python script and requirements text file\n",
    "cat create_model.py\n",
    "cat requirements.txt\n",
    "\n",
    "# Pip install Python dependencies in requirements file\n",
    "pip install -r requirements.txt\n",
    "\n",
    "# Run Python script on command line\n",
    "python create_model.py\n",
    "\n",
    "# Add CRON job that runs create_model.py every minute\n",
    "echo \"* * * * * python create_model.py\" | crontab\n",
    "\n",
    "# Verify that the CRON job has been scheduled via CRONTAB\n",
    "crontab -l\n",
    "```"
   ]
  }
 ],
 "metadata": {
  "kernelspec": {
   "display_name": "Python 3.8.11 ('env_py')",
   "language": "python",
   "name": "python3"
  },
  "language_info": {
   "name": "python",
   "version": "3.8.11"
  },
  "orig_nbformat": 4,
  "vscode": {
   "interpreter": {
    "hash": "1e949e87132dd83f1a7623eb88007e3532b03b66b77111be347aa4a383049722"
   }
  }
 },
 "nbformat": 4,
 "nbformat_minor": 2
}

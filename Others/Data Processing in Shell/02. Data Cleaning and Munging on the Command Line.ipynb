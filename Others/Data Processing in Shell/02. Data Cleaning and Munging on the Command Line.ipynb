{
 "cells": [
  {
   "cell_type": "markdown",
   "metadata": {},
   "source": [
    "# Installation and documentation for csvkit"
   ]
  },
  {
   "cell_type": "markdown",
   "metadata": {},
   "source": [
    "First step in learning about any libraries, tools, or suite of tools is to make sure we are using the latest and most stable version.\n",
    "\n",
    "Second step is to make sure we know how to access the documentation so we know where to go when we get stuck.\n",
    "\n",
    "Let's do both in this exercise for csvkit and the various commands in this suite of data processing command-line tools."
   ]
  },
  {
   "cell_type": "markdown",
   "metadata": {},
   "source": [
    "```\n",
    "# Upgrade csvkit using pip  \n",
    "pip install --upgrade csvkit\n",
    "\n",
    "# Print manual for in2csv\n",
    "in2csv -h\n",
    "\n",
    "# Print manual for csvlook\n",
    "csvlook -h\n",
    "```"
   ]
  },
  {
   "cell_type": "markdown",
   "metadata": {},
   "source": [
    "# Converting and previewing data with csvkit"
   ]
  },
  {
   "cell_type": "markdown",
   "metadata": {},
   "source": [
    "csvkit is written to process only CSV files. Therefore, the first thing we do is to convert our raw data file into CSV format.\n",
    "\n",
    "After conversion, it's good practice to take a quick peak into the content of the file for a quick sanity check."
   ]
  },
  {
   "cell_type": "markdown",
   "metadata": {},
   "source": [
    "```\n",
    "# Use ls to find the name of the zipped file\n",
    "ls\n",
    "\n",
    "# Use Linux's built in unzip tool to unpack the zipped file \n",
    "unzip SpotifyData.zip\n",
    "\n",
    "# Check to confirm name and location of unzipped file\n",
    "ls\n",
    "\n",
    "# Convert SpotifyData.xlsx to csv\n",
    "in2csv SpotifyData.xlsx > SpotifyData.csv\n",
    "\n",
    "# Print a preview in console using a csvkit suite command \n",
    "csvlook SpotifyData.csv \n",
    "```"
   ]
  },
  {
   "cell_type": "markdown",
   "metadata": {},
   "source": [
    "# File conversion and summary statistics with csvkit"
   ]
  },
  {
   "cell_type": "markdown",
   "metadata": {},
   "source": [
    "It's common for Excel data files to have more than one worksheet (tab) of data. The Excel file `SpotifyData.xlsx` has two sheets named `Worksheet1_Popularity` and `Worksheet2_MusicAttributes`. Each sheet should be treated like its own data file, so we will use `csvkit`'s commands here to convert each sheet to its own CSV file. Then, using the power of the commands we already know, print a high level summary for each column in the CSV files."
   ]
  },
  {
   "cell_type": "markdown",
   "metadata": {},
   "source": [
    "```\n",
    "# Check to confirm name and location of the Excel data file\n",
    "ls\n",
    "\n",
    "# Convert sheet \"Worksheet1_Popularity\" to CSV\n",
    "in2csv SpotifyData.xlsx --sheet \"Worksheet1_Popularity\" > Spotify_Popularity.csv\n",
    "\n",
    "# Check to confirm name and location of the new CSV file\n",
    "ls\n",
    "\n",
    "# Print high level summary statistics for each column\n",
    "csvstat Spotify_Popularity.csv \n",
    "```"
   ]
  },
  {
   "cell_type": "markdown",
   "metadata": {},
   "source": [
    "```\n",
    "# Check to confirm name and location of the Excel data file\n",
    "ls\n",
    "\n",
    "# Convert sheet \"Worksheet2_MusicAttributes\" to CSV\n",
    "in2csv SpotifyData.xlsx --sheet \"Worksheet2_MusicAttributes\" > Spotify_MusicAttributes.csv\n",
    "\n",
    "# Check to confirm name and location of the new CSV file\n",
    "ls\n",
    "\n",
    "# Print preview of Spotify_MusicAttributes\n",
    "csvlook Spotify_MusicAttributes.csv\n",
    "```"
   ]
  },
  {
   "cell_type": "markdown",
   "metadata": {},
   "source": [
    "# Printing column headers with csvkit"
   ]
  },
  {
   "cell_type": "markdown",
   "metadata": {},
   "source": [
    "There are many ways to preview the data within `csvkit` alone(e.g. `csvlook`, `csvstat`, etc). However, if all we want is to find the position and name of the columns in our data, it is easier to simply print a string of column headers. Let's print the column headers for the data file `Spotify_MusicAttributes.csv`."
   ]
  },
  {
   "cell_type": "markdown",
   "metadata": {},
   "source": [
    "```\n",
    "# Check to confirm name and location of data file\n",
    "ls\n",
    "\n",
    "# Print a list of column headers in data file \n",
    "csvcut -n Spotify_MusicAttributes.csv\n",
    "```"
   ]
  },
  {
   "cell_type": "markdown",
   "metadata": {},
   "source": [
    "# Filtering data by column with csvkit"
   ]
  },
  {
   "cell_type": "markdown",
   "metadata": {},
   "source": [
    "Let's get some hands-on practice for filtering data column using the `csvkit` command `csvcut`. Remember that we can filter columns by referring to the position of the column (e.g. 1st column, 2nd column) or by referring to the exact name of the column as it appears in the data file."
   ]
  },
  {
   "cell_type": "markdown",
   "metadata": {},
   "source": [
    "```\n",
    "# Print a list of column headers in the data \n",
    "csvcut -n Spotify_MusicAttributes.csv\n",
    "\n",
    "# Print the first column, by position\n",
    "csvcut -c 1 Spotify_MusicAttributes.csv\n",
    "```"
   ]
  },
  {
   "cell_type": "markdown",
   "metadata": {},
   "source": [
    "```\n",
    "# Print a list of column headers in the data \n",
    "csvcut -n Spotify_MusicAttributes.csv\n",
    "\n",
    "# Print the first, third, and fifth column, by position\n",
    "csvcut -c 1,3,5 Spotify_MusicAttributes.csv\n",
    "```"
   ]
  },
  {
   "cell_type": "markdown",
   "metadata": {},
   "source": [
    "```\n",
    "# Print a list of column headers in the data \n",
    "csvcut -n Spotify_MusicAttributes.csv\n",
    "\n",
    "# Print the first column, by name\n",
    "csvcut -c \"track_id\" Spotify_MusicAttributes.csv\n",
    "```"
   ]
  },
  {
   "cell_type": "markdown",
   "metadata": {},
   "source": [
    "```\n",
    "# Print a list of column headers in the data \n",
    "csvcut -n Spotify_MusicAttributes.csv\n",
    "\n",
    "# Print the track id, song duration, and loudness, by name \n",
    "csvcut -c \"track_id\",\"duration_ms\",\"loudness\" Spotify_MusicAttributes.csv\n",
    "```"
   ]
  },
  {
   "cell_type": "markdown",
   "metadata": {},
   "source": [
    "# Filtering data by row with csvkit"
   ]
  },
  {
   "cell_type": "markdown",
   "metadata": {},
   "source": [
    "Now it's time get some hands-on practice for filtering data by exact row values using `-m`. Whether it's text or numeric, `csvgrep` can help us filter by these values."
   ]
  },
  {
   "cell_type": "markdown",
   "metadata": {},
   "source": [
    "```\n",
    "# Print a list of column headers in the data \n",
    "csvcut -n Spotify_MusicAttributes.csv\n",
    "\n",
    "# Filter for row(s) where track_id = 118GQ70Sp6pMqn6w1oKuki\n",
    "csvgrep -c \"track_id\" -m 118GQ70Sp6pMqn6w1oKuki Spotify_MusicAttributes.csv\n",
    "```"
   ]
  },
  {
   "cell_type": "markdown",
   "metadata": {},
   "source": [
    "```\n",
    "# Print a list of column headers in the data \n",
    "csvcut -n Spotify_MusicAttributes.csv\n",
    "\n",
    "# Filter for row(s) where danceability = 0.812\n",
    "csvgrep -c \"danceability\" -m 0.812 Spotify_MusicAttributes.csv\n",
    "```"
   ]
  },
  {
   "cell_type": "markdown",
   "metadata": {},
   "source": [
    "# Stacking files with csvkit"
   ]
  },
  {
   "cell_type": "markdown",
   "metadata": {},
   "source": [
    "`SpotifyData_PopularityRank6.csv` and `SpotifyData_PopularityRank7.csv` have the same file format, column order, and overall data schema. However, one file contains information for songs ranked #6, and the other contains information for songs ranked #7. Combine the two files together into one unified file by stacking them."
   ]
  },
  {
   "cell_type": "markdown",
   "metadata": {},
   "source": [
    "```\n",
    "# Stack the two files and save results as a new file\n",
    "csvstack SpotifyData_PopularityRank6.csv SpotifyData_PopularityRank7.csv > SpotifyPopularity.csv\n",
    "\n",
    "# Preview the newly created file \n",
    "csvlook SpotifyPopularity.csv\n",
    "```"
   ]
  },
  {
   "cell_type": "markdown",
   "metadata": {},
   "source": [
    "# Chaining commands using operators"
   ]
  },
  {
   "cell_type": "markdown",
   "metadata": {},
   "source": [
    "The more we use command-line tools, the more we start stringing complex commands together. Sometimes it's for convenience, but other times, the output of one command can be used as input to another. Let's get some hands on practice with this by filling in the correct chain operators for the circumstances described in the instructions below."
   ]
  },
  {
   "cell_type": "markdown",
   "metadata": {},
   "source": [
    "```\n",
    "# If csvlook succeeds, then run csvstat \n",
    "csvlook Spotify_Popularity.csv && csvstat Spotify_Popularity.csv\n",
    "\n",
    "# Use the output of csvsort as input to csvlook\n",
    "csvsort -c 2 Spotify_Popularity.csv | csvlook\n",
    "\n",
    "# Take top 15 rows from sorted output and save to new file\n",
    "csvsort -c 2 Spotify_Popularity.csv | head -n 15 > Spotify_Popularity_Top15.csv\n",
    "\n",
    "# Preview the new file \n",
    "csvlook Spotify_Popularity_Top15.csv\n",
    "\n",
    "```"
   ]
  },
  {
   "cell_type": "markdown",
   "metadata": {},
   "source": [
    "# Data processing with csvkit"
   ]
  },
  {
   "cell_type": "markdown",
   "metadata": {},
   "source": [
    "Once we have assembled a dataset, we still need to process and clean the data prior to more advanced analysis such as predictive modeling. In this capstone exercise, let's make use of various commands in csvkit for some common data processing and cleaning.\n",
    "\n",
    "The Excel file `Spotify_201809_201810.xlsx` contains two sheets (tabs), named `Spotify201809` and `Spotify201810`. First, we will split the Excel file down to its individual sheets, preview summary statistics, remove some columns, and then stack the two sheets back together again to form one single csv file, ready for further analysis."
   ]
  },
  {
   "cell_type": "markdown",
   "metadata": {},
   "source": [
    "```\n",
    "# Convert the Spotify201809 tab into its own csv file \n",
    "in2csv Spotify_201809_201810.xlsx --sheet \"Spotify201809\" > Spotify201809.csv\n",
    "\n",
    "# Check to confirm name and location of data file\n",
    "ls\n",
    "\n",
    "# Preview file preview using a csvkit function\n",
    "csvlook Spotify201809.csv\n",
    "\n",
    "# Create a new csv with 2 columns: track_id and popularity\n",
    "csvcut -c \"track_id\",\"popularity\" Spotify201809.csv > Spotify201809_subset.csv\n",
    "\n",
    "# While stacking the 2 files, create a data source column\n",
    "csvstack -g \"Sep2018\",\"Oct2018\" Spotify201809_subset.csv Spotify201810_subset.csv > Spotify_all_rankings.csv\n",
    "```"
   ]
  }
 ],
 "metadata": {
  "kernelspec": {
   "display_name": "Python 3.8.11 ('env_py')",
   "language": "python",
   "name": "python3"
  },
  "language_info": {
   "name": "python",
   "version": "3.8.11"
  },
  "orig_nbformat": 4,
  "vscode": {
   "interpreter": {
    "hash": "1e949e87132dd83f1a7623eb88007e3532b03b66b77111be347aa4a383049722"
   }
  }
 },
 "nbformat": 4,
 "nbformat_minor": 2
}

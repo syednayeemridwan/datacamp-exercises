{
 "cells": [
  {
   "cell_type": "markdown",
   "metadata": {},
   "source": [
    "# How does the shell store information?"
   ]
  },
  {
   "cell_type": "markdown",
   "metadata": {},
   "source": [
    "Like other programs, the shell stores information in variables. Some of these, called environment variables, are available all the time. Environment variables' names are conventionally written in upper case, and a few of the more commonly-used ones are shown below.\n",
    "```\n",
    "Variable    Purpose\t                        Value\n",
    "HOME\t    User's home directory\t        /home/repl\n",
    "PWD         Present working directory\t        Same as pwd command\n",
    "SHELL\t    Which shell program is being used\t/bin/bash\n",
    "USER\t    User's ID\t                        repl\n",
    "To get a complete list (which is quite long), you can type set in the shell.\n",
    "```\n",
    "Use set and grep with a pipe to display the value of `HISTFILESIZE`, which determines how many old commands are stored in your command history. What is its value?"
   ]
  },
  {
   "cell_type": "markdown",
   "metadata": {},
   "source": [
    "- 2000"
   ]
  },
  {
   "cell_type": "markdown",
   "metadata": {},
   "source": [
    "# How can I print a variable's value?"
   ]
  },
  {
   "cell_type": "markdown",
   "metadata": {},
   "source": [
    "A simpler way to find a variable's value is to use a command called echo, which prints its arguments. Typing\n",
    "\n",
    "`echo hello DataCamp!`\n",
    "prints\n",
    "\n",
    "`hello DataCamp!`\n",
    "If you try to use it to print a variable's value like this:\n",
    "\n",
    "`echo USER`\n",
    "it will print the variable's name, `USER`.\n",
    "\n",
    "To get the variable's value, you must put a dollar sign $ in front of it. Typing\n",
    "\n",
    "`echo $USER`\n",
    "prints\n",
    "\n",
    "`repl`\n",
    "This is true everywhere: to get the value of a variable called X, you must write $X. (This is so that the shell can tell whether you mean \"a file named X\" or \"the value of a variable named X\".)"
   ]
  },
  {
   "cell_type": "markdown",
   "metadata": {},
   "source": [
    "# How else does the shell store information?"
   ]
  },
  {
   "cell_type": "markdown",
   "metadata": {},
   "source": [
    "The other kind of variable is called a shell variable, which is like a local variable in a programming language.\n",
    "\n",
    "To create a shell variable, you simply assign a value to a name:\n",
    "\n",
    "`training=seasonal/summer.csv`\n",
    "without any spaces before or after the = sign. Once you have done this, you can check the variable's value with:\n",
    "```\n",
    "echo $training\n",
    "seasonal/summer.csv\n",
    "```"
   ]
  },
  {
   "cell_type": "markdown",
   "metadata": {},
   "source": [
    "# How can I repeat a command many times?"
   ]
  },
  {
   "cell_type": "markdown",
   "metadata": {},
   "source": [
    "Shell variables are also used in loops, which repeat commands many times. If we run this command:\n",
    "\n",
    "`for filetype in gif jpg png; do echo $filetype; done`\n",
    "\n",
    "it produces:\n",
    "```\n",
    "gif\n",
    "jpg\n",
    "png\n",
    "```\n",
    "Notice these things about the loop:\n",
    "\n",
    "- The structure is `for …variable… in …list… ; do …body… ; done`\n",
    "- The list of things the loop is to process (in our case, the words gif, jpg, and png).\n",
    "- The variable that keeps track of which thing the loop is currently processing (in our case, filetype).\n",
    "- The body of the loop that does the processing (in our case, `echo $filetype`).\n",
    "Notice that the body uses $filetype to get the variable's value instead of just filetype, just like it does with any other shell variable. Also notice where the semi-colons go: the first one comes between the list and the keyword do, and the second comes between the body and the keyword `done`."
   ]
  },
  {
   "cell_type": "markdown",
   "metadata": {},
   "source": [
    "# How can I repeat a command once for each file?"
   ]
  },
  {
   "cell_type": "markdown",
   "metadata": {},
   "source": [
    "You can always type in the names of the files you want to process when writing the loop, but it's usually better to use wildcards. Try running this loop in the console:\n",
    "\n",
    "`for filename in seasonal/*.csv; do echo $filename; done`\n",
    "It prints:\n",
    "```\n",
    "seasonal/autumn.csv\n",
    "seasonal/spring.csv\n",
    "seasonal/summer.csv\n",
    "seasonal/winter.csv\n",
    "```\n",
    "because the shell expands `seasonal/*.csv` to be a list of four filenames before it runs the loop."
   ]
  },
  {
   "cell_type": "markdown",
   "metadata": {},
   "source": [
    "# How can I record the names of a set of files?"
   ]
  },
  {
   "cell_type": "markdown",
   "metadata": {},
   "source": [
    "People often set a variable using a wildcard expression to record a list of filenames. For example, if you define datasets like this:\n",
    "\n",
    "`datasets=seasonal/*.csv`\n",
    "you can display the files' names later using:\n",
    "\n",
    "`for filename in $datasets; do echo $filename; done`\n",
    "This saves typing and makes errors less likely.\n",
    "\n",
    "If you run these two commands in your home directory, how many lines of output will they print?\n",
    "\n",
    "```\n",
    "files=seasonal/*.csv\n",
    "for f in $files; do echo $f; done\n",
    "```"
   ]
  },
  {
   "cell_type": "markdown",
   "metadata": {},
   "source": [
    "- Four: the names of all four seasonal data files."
   ]
  },
  {
   "cell_type": "markdown",
   "metadata": {},
   "source": [
    "# A variable's name versus its value"
   ]
  },
  {
   "cell_type": "markdown",
   "metadata": {},
   "source": [
    "A common mistake is to forget to use `$` before the name of a variable. When you do this, the shell uses the name you have typed rather than the value of that variable.\n",
    "\n",
    "A more common mistake for experienced users is to mis-type the variable's name. For example, if you define datasets like this:\n",
    "\n",
    "`datasets=seasonal/*.csv`\n",
    "and then type:\n",
    "\n",
    "`echo $datsets`\n",
    "the shell doesn't print anything, because datsets (without the second \"a\") isn't defined.\n",
    "\n",
    "If you were to run these two commands in your home directory, what output would be printed?\n",
    "```\n",
    "files=seasonal/*.csv\n",
    "for f in files; do echo $f; done\n",
    "```\n",
    "(Read the first part of the loop carefully before answering.)"
   ]
  },
  {
   "cell_type": "markdown",
   "metadata": {},
   "source": [
    "- One line: the word \"files\"."
   ]
  },
  {
   "cell_type": "markdown",
   "metadata": {},
   "source": [
    "# How can I run many commands in a single loop?"
   ]
  },
  {
   "cell_type": "markdown",
   "metadata": {},
   "source": [
    "Printing filenames is useful for debugging, but the real purpose of loops is to do things with multiple files. This loop prints the second line of each data file:\n",
    "\n",
    "`for file in seasonal/*.csv; do head -n 2 $file | tail -n 1; done`\n",
    "\n",
    "It has the same structure as the other loops you have already seen: all that's different is that its body is a pipeline of two commands instead of a single command."
   ]
  },
  {
   "cell_type": "markdown",
   "metadata": {},
   "source": [
    "# Why shouldn't I use spaces in filenames?"
   ]
  },
  {
   "cell_type": "markdown",
   "metadata": {},
   "source": [
    "It's easy and sensible to give files multi-word names like `July 2017.csv` when you are using a graphical file explorer. However, this causes problems when you are working in the shell. For example, suppose you wanted to rename `July 2017.csv` to be `2017 July data.csv`. You cannot type:\n",
    "\n",
    "`mv July 2017.csv 2017 July data.csv`\n",
    "\n",
    "because it looks to the shell as though you are trying to move four files called July, 2017.csv, 2017, and July (again) into a directory called data.csv. Instead, you have to quote the files' names so that the shell treats each one as a single parameter:\n",
    "\n",
    "`mv 'July 2017.csv' '2017 July data.csv'`\n",
    "\n",
    "If you have two files called current.csv and last year.csv (with a space in its name) and you type:\n",
    "\n",
    "`rm current.csv last year.csv`\n",
    "what will happen:"
   ]
  },
  {
   "cell_type": "markdown",
   "metadata": {},
   "source": [
    "- The shell will print an error message because `last` and `year.csv` do not exist.\n",
    "- The shell will delete `current.csv`."
   ]
  },
  {
   "cell_type": "markdown",
   "metadata": {},
   "source": [
    "# How can I do many things in a single loop?"
   ]
  },
  {
   "cell_type": "markdown",
   "metadata": {},
   "source": [
    "The loops you have seen so far all have a single command or pipeline in their body, but a loop can contain any number of commands. To tell the shell where one ends and the next begins, you must separate them with semi-colons:\n",
    "\n",
    "`for f in seasonal/*.csv; do echo $f; head -n 2 $f | tail -n 1; done`\n",
    "```\n",
    "seasonal/autumn.csv\n",
    "2017-01-05,canine\n",
    "seasonal/spring.csv\n",
    "2017-01-25,wisdom\n",
    "seasonal/summer.csv\n",
    "2017-01-11,canine\n",
    "seasonal/winter.csv\n",
    "2017-01-03,bicuspid\n",
    "```\n",
    "Suppose you forget the semi-colon between the echo and head commands in the previous loop, so that you ask the shell to run:\n",
    "\n",
    "`for f in seasonal/*.csv; do echo $f head -n 2 $f | tail -n 1; done`\n",
    "What will the shell do?"
   ]
  },
  {
   "cell_type": "markdown",
   "metadata": {},
   "source": [
    "- Print one line for each of the four files."
   ]
  }
 ],
 "metadata": {
  "kernelspec": {
   "display_name": "Python 3.8.11 ('env_py')",
   "language": "python",
   "name": "python3"
  },
  "language_info": {
   "name": "python",
   "version": "3.8.11"
  },
  "orig_nbformat": 4,
  "vscode": {
   "interpreter": {
    "hash": "1e949e87132dd83f1a7623eb88007e3532b03b66b77111be347aa4a383049722"
   }
  }
 },
 "nbformat": 4,
 "nbformat_minor": 2
}

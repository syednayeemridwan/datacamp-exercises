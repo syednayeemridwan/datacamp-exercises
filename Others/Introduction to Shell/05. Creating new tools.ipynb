{
 "cells": [
  {
   "cell_type": "markdown",
   "metadata": {},
   "source": [
    "# How can I edit a file?"
   ]
  },
  {
   "cell_type": "markdown",
   "metadata": {},
   "source": [
    "Unix has a bewildering variety of text editors. For this course, we will use a simple one called Nano. If you type `nano filename`, it will open filename for editing (or create it if it doesn't already exist). You can move around with the arrow keys, delete characters using backspace, and do other operations with control-key combinations:\n",
    "\n",
    "- `Ctrl + K`: delete a line.\n",
    "- `Ctrl + U`: un-delete a line.\n",
    "- `Ctrl + O`: save the file ('O' stands for 'output'). You will also need to press Enter to confirm the filename!\n",
    "- `Ctrl + X`: exit the editor."
   ]
  },
  {
   "cell_type": "markdown",
   "metadata": {},
   "source": [
    "# How can I record what I just did?"
   ]
  },
  {
   "cell_type": "markdown",
   "metadata": {},
   "source": [
    "When you are doing a complex analysis, you will often want to keep a record of the commands you used. You can do this with the tools you have already seen:\n",
    "\n",
    "- Run history.\n",
    "- Pipe its output to tail -n 10 (or however many recent steps you want to save).\n",
    "- Redirect that to a file called something like figure-5.history.\n",
    "\n",
    "This is better than writing things down in a lab notebook because it is guaranteed not to miss any steps. It also illustrates the central idea of the shell: simple tools that produce and consume lines of text can be combined in a wide variety of ways to solve a broad range of problems."
   ]
  },
  {
   "cell_type": "markdown",
   "metadata": {},
   "source": [
    "# How can I save commands to re-run later?"
   ]
  },
  {
   "cell_type": "markdown",
   "metadata": {},
   "source": [
    "You have been using the shell interactively so far. But since the commands you type in are just text, you can store them in files for the shell to run over and over again. To start exploring this powerful capability, put the following command in a file called `headers.sh`:\n",
    "\n",
    "`head -n 1 seasonal/*.csv`\n",
    "This command selects the first row from each of the CSV files in the seasonal directory. Once you have created this file, you can run it by typing:\n",
    "\n",
    "`bash headers.sh`\n",
    "This tells the shell (which is just a program called bash) to run the commands contained in the file `headers.sh`, which produces the same output as running the commands directly."
   ]
  },
  {
   "cell_type": "markdown",
   "metadata": {},
   "source": [
    "# How can I re-use pipes?"
   ]
  },
  {
   "cell_type": "markdown",
   "metadata": {},
   "source": [
    "A file full of shell commands is called a *shell script, or sometimes just a \"script\" for short. Scripts don't have to have names ending in .sh, but this lesson will use that convention to help you keep track of which files are scripts.\n",
    "\n",
    "Scripts can also contain pipes. For example, if all-dates.sh contains this line:\n",
    "\n",
    "`cut -d , -f 1 seasonal/*.csv | grep -v Date | sort | uniq`\n",
    "then:\n",
    "\n",
    "`bash all-dates.sh > dates.out`\n",
    "will extract the unique dates from the seasonal data files and save them in dates.out."
   ]
  },
  {
   "cell_type": "markdown",
   "metadata": {},
   "source": [
    "# How can I pass filenames to scripts?"
   ]
  },
  {
   "cell_type": "markdown",
   "metadata": {},
   "source": [
    "A script that processes specific files is useful as a record of what you did, but one that allows you to process any files you want is more useful. To support this, you can use the special expression `$@` (dollar sign immediately followed by at-sign) to mean \"all of the command-line parameters given to the script\".\n",
    "\n",
    "For example, if `unique-lines.sh` contains `sort $@ | uniq`, when you run:\n",
    "\n",
    "`bash unique-lines.sh seasonal/summer.csv`\n",
    "the shell replaces `$@` with `seasonal/summer.csv` and processes one file. If you run this:\n",
    "\n",
    "`bash unique-lines.sh seasonal/summer.csv seasonal/autumn.csv`\n",
    "it processes two data files, and so on.\n",
    "\n",
    "As a reminder, to save what you have written in Nano, type `Ctrl + O` to write the file out, then `Enter` to confirm the filename, then` Ctrl + X` to exit the editor."
   ]
  },
  {
   "cell_type": "markdown",
   "metadata": {},
   "source": [
    "# How can I process a single argument?"
   ]
  },
  {
   "cell_type": "markdown",
   "metadata": {},
   "source": [
    "As well as `$@`, the shell lets you use `$1, $2`, and so on to refer to specific command-line parameters. You can use this to write commands that feel simpler or more natural than the shell's. For example, you can create a script called column.sh that selects a single column from a CSV file when the user provides the filename as the first parameter and the column as the second:\n",
    "\n",
    "`cut -d , -f $2 $1`\n",
    "and then run it using:\n",
    "\n",
    "`bash column.sh seasonal/autumn.csv 1`\n",
    "Notice how the script uses the two parameters in reverse order.\n",
    "\n",
    "The script get-field.sh is supposed to take a filename, the number of the row to select, the number of the column to select, and print just that field from a CSV file. For example:\n",
    "\n",
    "`bash get-field.sh seasonal/summer.csv 4 2`\n",
    "should select the second field from line 4 of `seasonal/summer.csv`. Which of the following commands should be put in `get-field.sh` to do that?"
   ]
  },
  {
   "cell_type": "markdown",
   "metadata": {},
   "source": [
    "- `head -n $2 $1 | tail -n 1 | cut -d , -f $3`"
   ]
  },
  {
   "cell_type": "markdown",
   "metadata": {},
   "source": [
    "# How can one shell script do many things?"
   ]
  },
  {
   "cell_type": "markdown",
   "metadata": {},
   "source": [
    "Our shells scripts so far have had a single command or pipe, but a script can contain many lines of commands. For example, you can create one that tells you how many records are in the shortest and longest of your data files, i.e., the range of your datasets' lengths.\n",
    "\n",
    "Note that in Nano, \"copy and paste\" is achieved by navigating to the line you want to copy, pressing CTRL + K to cut the line, then CTRL + U twice to paste two copies of it.\n",
    "\n",
    "As a reminder, to save what you have written in Nano, type Ctrl + O to write the file out, then Enter to confirm the filename, then Ctrl + X to exit the editor."
   ]
  },
  {
   "cell_type": "markdown",
   "metadata": {},
   "source": [
    "# How can I write loops in a shell script?"
   ]
  },
  {
   "cell_type": "markdown",
   "metadata": {},
   "source": [
    "Shell scripts can also contain loops. You can write them using semi-colons, or split them across lines without semi-colons to make them more readable:\n",
    "```\n",
    "# Print the first and last data records of each file.\n",
    "\n",
    "for filename in $@\n",
    "do\n",
    "    head -n 2 $filename | tail -n 1\n",
    "    tail -n 1 $filename\n",
    "done\n",
    "```\n",
    "(You don't have to indent the commands inside the loop, but doing so makes things clearer.)\n",
    "\n",
    "The first line of this script is a comment to tell readers what the script does. Comments start with the # character and run to the end of the line. Your future self will thank you for adding brief explanations like the one shown here to every script you write.\n",
    "\n",
    "As a reminder, to save what you have written in Nano, type Ctrl + O to write the file out, then Enter to confirm the filename, then Ctrl + X to exit the editor."
   ]
  },
  {
   "cell_type": "markdown",
   "metadata": {},
   "source": [
    "# What happens when I don't provide filenames?"
   ]
  },
  {
   "cell_type": "markdown",
   "metadata": {},
   "source": [
    "A common mistake in shell scripts (and interactive commands) is to put filenames in the wrong place. If you type:\n",
    "\n",
    "`tail -n 3`\n",
    "then since tail hasn't been given any filenames, it waits to read input from your keyboard. This means that if you type:\n",
    "\n",
    "`head -n 5 | tail -n 3 somefile.txt`\n",
    "then tail goes ahead and prints the last three lines of somefile.txt, but head waits forever for keyboard input, since it wasn't given a filename and there isn't anything ahead of it in the pipeline.\n",
    "\n",
    "Suppose you do accidentally type:\n",
    "\n",
    "`head -n 5 | tail -n 3 somefile.txt`\n",
    "What should you do next?"
   ]
  },
  {
   "cell_type": "markdown",
   "metadata": {},
   "source": [
    "- Use `Ctrl + C` to stop the running head program."
   ]
  }
 ],
 "metadata": {
  "kernelspec": {
   "display_name": "Python 3.8.11 ('env_py')",
   "language": "python",
   "name": "python3"
  },
  "language_info": {
   "name": "python",
   "version": "3.8.11"
  },
  "orig_nbformat": 4,
  "vscode": {
   "interpreter": {
    "hash": "1e949e87132dd83f1a7623eb88007e3532b03b66b77111be347aa4a383049722"
   }
  }
 },
 "nbformat": 4,
 "nbformat_minor": 2
}

{
 "cells": [
  {
   "cell_type": "markdown",
   "metadata": {},
   "source": [
    "# How can I view a file's contents?"
   ]
  },
  {
   "cell_type": "markdown",
   "metadata": {},
   "source": [
    "Before you rename or delete files, you may want to have a look at their contents. The simplest way to do this is with cat, which just prints the contents of files onto the screen. (Its name is short for \"concatenate\", meaning \"to link things together\", since it will print all the files whose names you give it, one after the other.)\n",
    "\n",
    "`cat agarwal.txt`\n",
    "```\n",
    "name: Agarwal, Jasmine\n",
    "position: RCT2\n",
    "start: 2017-04-01\n",
    "benefits: full\n",
    "```"
   ]
  },
  {
   "cell_type": "markdown",
   "metadata": {},
   "source": [
    "# How can I view a file's contents piece by piece?"
   ]
  },
  {
   "cell_type": "markdown",
   "metadata": {},
   "source": [
    "You can use cat to print large files and then scroll through the output, but it is usually more convenient to page the output. The original command for doing this was called more, but it has been superseded by a more powerful command called `less`. (This kind of naming is what passes for humor in the Unix world.) When you `less` a file, one page is displayed at a time; you can press spacebar to page down or type `q` to quit.\n",
    "\n",
    "If you give `less` the names of several files, you can type `:n` (colon and a lower-case 'n') to move to the next file, `:p` to go back to the previous one, or `:q` to quit.\n",
    "\n",
    "Note: If you view solutions to exercises that use less, you will see an extra command at the end that turns paging off so that we can test your solutions efficiently."
   ]
  },
  {
   "cell_type": "markdown",
   "metadata": {},
   "source": [
    "# How can I look at the start of a file?"
   ]
  },
  {
   "cell_type": "markdown",
   "metadata": {},
   "source": [
    "The first thing most data scientists do when given a new dataset to analyze is figure out what fields it contains and what values those fields have. If the dataset has been exported from a database or spreadsheet, it will often be stored as comma-separated values (CSV). A quick way to figure out what it contains is to look at the first few rows.\n",
    "\n",
    "We can do this in the shell using a command called head. As its name suggests, it prints the first few lines of a file (where \"a few\" means 10), so the command:\n",
    "\n",
    "`head seasonal/summer.csv`\n",
    "displays:\n",
    "```\n",
    "Date,Tooth\n",
    "2017-01-11,canine\n",
    "2017-01-18,wisdom\n",
    "2017-01-21,bicuspid\n",
    "2017-02-02,molar\n",
    "2017-02-27,wisdom\n",
    "2017-02-27,wisdom\n",
    "2017-03-07,bicuspid\n",
    "2017-03-15,wisdom\n",
    "2017-03-20,canine\n",
    "```\n",
    "What does head do if there aren't 10 lines in the file? (To find out, use it to look at the top of people/agarwal.txt.)\n"
   ]
  },
  {
   "cell_type": "markdown",
   "metadata": {},
   "source": [
    "- Display as many lines as there are."
   ]
  },
  {
   "cell_type": "markdown",
   "metadata": {},
   "source": [
    "# How can I type less?"
   ]
  },
  {
   "cell_type": "markdown",
   "metadata": {},
   "source": [
    "One of the shell's power tools is tab completion. If you start typing the name of a file and then press the tab key, the shell will do its best to auto-complete the path. For example, if you type sea and press tab, it will fill in the directory name `seasonal/` (with a trailing slash). If you then type `a` and tab, it will complete the path as `seasonal/autumn.csv`.\n",
    "\n",
    "If the path is ambiguous, such as `seasonal/s`, pressing tab a second time will display a list of possibilities. Typing another character or two to make your path more specific and then pressing tab will fill in the rest of the name."
   ]
  },
  {
   "cell_type": "markdown",
   "metadata": {},
   "source": [
    "# How can I control what commands do?"
   ]
  },
  {
   "cell_type": "markdown",
   "metadata": {},
   "source": [
    "You won't always want to look at the first 10 lines of a file, so the shell lets you change head's behavior by giving it a command-line flag (or just \"flag\" for short). If you run the command:\n",
    "\n",
    "`head -n 3 seasonal/summer.csv`\n",
    "head will only display the first three lines of the file. If you run head -n 100, it will display the first 100 (assuming there are that many), and so on.\n",
    "\n",
    "A flag's name usually indicates its purpose (for example, -n is meant to signal \"number of lines\"). Command flags don't have to be a - followed by a single letter, but it's a widely-used convention.\n",
    "\n",
    "Note: it's considered good style to put all flags before any filenames, so in this course, we only accept answers that do that."
   ]
  },
  {
   "cell_type": "markdown",
   "metadata": {},
   "source": [
    "# How can I list everything below a directory?"
   ]
  },
  {
   "cell_type": "markdown",
   "metadata": {},
   "source": [
    "In order to see everything underneath a directory, no matter how deeply nested it is, you can give `ls` the flag `-R` (which means \"recursive\"). If you use `ls -R` in your home directory, you will see something like this:\n",
    "```\n",
    "backup          course.txt      people          seasonal\n",
    "\n",
    "./backup:\n",
    "\n",
    "./people:\n",
    "agarwal.txt\n",
    "\n",
    "./seasonal:\n",
    "autumn.csv      spring.csv      summer.csv      winter.csv\n",
    "```\n",
    "This shows every file and directory in the current level, then everything in each sub-directory, and so on."
   ]
  },
  {
   "cell_type": "markdown",
   "metadata": {},
   "source": [
    "# How can I get help for a command?"
   ]
  },
  {
   "cell_type": "markdown",
   "metadata": {},
   "source": [
    "To find out what commands do, people used to use the `man` command (short for \"manual\"). For example, the command `man head` brings up this information:\n",
    "```\n",
    "HEAD(1)               BSD General Commands Manual              HEAD(1)\n",
    "\n",
    "NAME\n",
    "     head -- display first lines of a file\n",
    "\n",
    "SYNOPSIS\n",
    "     head [-n count | -c bytes] [file ...]\n",
    "\n",
    "DESCRIPTION\n",
    "     This filter displays the first count lines or bytes of each of\n",
    "     the specified files, or of the standard input if no files are\n",
    "     specified.  If count is omitted it defaults to 10.\n",
    "\n",
    "     If more than a single file is specified, each file is preceded by\n",
    "     a header consisting of the string ``==> XXX <=='' where ``XXX''\n",
    "     is the name of the file.\n",
    "\n",
    "SEE ALSO\n",
    "     tail(1)\n",
    "man automatically invokes less, so you may need to press spacebar to page through the information and :q to quit.\n",
    "```\n",
    "The one-line description under NAME tells you briefly what the command does, and the summary under SYNOPSIS lists all the flags it understands. Anything that is optional is shown in square brackets [...], either/or alternatives are separated by |, and things that can be repeated are shown by ..., so head's manual page is telling you that you can either give a line count with -n or a byte count with -c, and that you can give it any number of filenames.\n",
    "\n",
    "The problem with the Unix manual is that you have to know what you're looking for. If you don't, you can search Stack Overflow, ask a question on DataCamp's Slack channels, or look at the SEE ALSO sections of the commands you already know."
   ]
  },
  {
   "cell_type": "markdown",
   "metadata": {},
   "source": [
    "# How can I select columns from a file?"
   ]
  },
  {
   "cell_type": "markdown",
   "metadata": {},
   "source": [
    "head and tail let you select rows from a text file. If you want to select columns, you can use the command cut. It has several options (use man cut to explore them), but the most common is something like:\n",
    "\n",
    "`cut -f 2-5,8 -d , values.csv`\n",
    "which means \"select columns 2 through 5 and columns 8, using comma as the separator\". cut uses -f (meaning \"fields\") to specify columns and -d (meaning \"delimiter\") to specify the separator. You need to specify the latter because some files may use spaces, tabs, or colons to separate columns.\n",
    "\n",
    "What command will select the first column (containing dates) from the file `spring.csv`?"
   ]
  },
  {
   "cell_type": "markdown",
   "metadata": {},
   "source": [
    "- `cut -d , -f 1 seasonal/spring.csv`\n",
    "- `cut -d, -f1 seasonal/spring.csv`"
   ]
  },
  {
   "cell_type": "markdown",
   "metadata": {},
   "source": [
    "# What can't cut do?"
   ]
  },
  {
   "cell_type": "markdown",
   "metadata": {},
   "source": [
    "cut is a simple-minded command. In particular, it doesn't understand quoted strings. If, for example, your file is:\n",
    "```\n",
    "Name,Age\n",
    "\"Johel,Ranjit\",28\n",
    "\"Sharma,Rupinder\",26\n",
    "```\n",
    "then:\n",
    "\n",
    "`cut -f 2 -d , everyone.csv`\n",
    "will produce:\n",
    "```\n",
    "Age\n",
    "Ranjit\"\n",
    "Rupinder\"\n",
    "```\n",
    "rather than everyone's age, because it will think the comma between last and first names is a column separator.\n",
    "\n",
    "What is the output of `cut -d : -f 2-4` on the line:\n",
    "\n",
    "`first:second:third:`\n",
    "(Note the trailing colon.)"
   ]
  },
  {
   "cell_type": "markdown",
   "metadata": {},
   "source": [
    "- `second:third:`"
   ]
  },
  {
   "cell_type": "markdown",
   "metadata": {},
   "source": [
    "# How can I repeat commands?"
   ]
  },
  {
   "cell_type": "markdown",
   "metadata": {},
   "source": [
    "One of the biggest advantages of using the shell is that it makes it easy for you to do things over again. If you run some commands, you can then press the up-arrow key to cycle back through them. You can also use the left and right arrow keys and the delete key to edit them. Pressing return will then run the modified command.\n",
    "\n",
    "Even better, `history` will print a list of commands you have run recently. Each one is preceded by a serial number to make it easy to re-run particular commands: just type `!55` to re-run the 55th command in your `history` (if you have that many). You can also re-run a command by typing an exclamation mark followed by the command's name, such as `!head` or `!cut`, which will re-run the most recent use of that command."
   ]
  },
  {
   "cell_type": "markdown",
   "metadata": {},
   "source": [
    "# How can I select lines containing specific values?"
   ]
  },
  {
   "cell_type": "markdown",
   "metadata": {},
   "source": [
    "`head` and `tail` select rows, `cut` selects columns, and `grep` selects lines according to what they contain. In its simplest form, grep takes a piece of text followed by one or more filenames and prints all of the lines in those files that contain that text. For example, `grep bicuspid seasonal/winter.csv` prints lines from `winter.csv` that contain \"bicuspid\".\n",
    "\n",
    "grep can search for patterns as well; we will explore those in the next course. What's more important right now is some of grep's more common flags:\n",
    "\n",
    "- `-c`: print a count of matching lines rather than the lines themselves\n",
    "- `-h`: do not print the names of files when searching multiple files\n",
    "- `-i`: ignore case (e.g., treat \"Regression\" and \"regression\" as matches)\n",
    "- `-l`: print the names of files that contain matches, not the matches\n",
    "- `-n`: print line numbers for matching lines\n",
    "- `-v`: invert the match, i.e., only show lines that don't match"
   ]
  },
  {
   "cell_type": "markdown",
   "metadata": {},
   "source": [
    "# Why isn't it always safe to treat data as text?"
   ]
  },
  {
   "cell_type": "markdown",
   "metadata": {},
   "source": [
    "The `SEE ALSO` section of the manual page for `cut` refers to a command called `paste` that can be used to combine data files instead of cutting them up.\n",
    "\n",
    "Read the manual page for paste, and then run paste to combine the autumn and winter data files in a single table using a comma as a separator. What's wrong with the output from a data analysis point of view?"
   ]
  },
  {
   "cell_type": "markdown",
   "metadata": {},
   "source": [
    "- The last few rows have the wrong number of columns."
   ]
  }
 ],
 "metadata": {
  "kernelspec": {
   "display_name": "Python 3.8.11 ('env_py')",
   "language": "python",
   "name": "python3"
  },
  "language_info": {
   "name": "python",
   "version": "3.8.11"
  },
  "orig_nbformat": 4,
  "vscode": {
   "interpreter": {
    "hash": "1e949e87132dd83f1a7623eb88007e3532b03b66b77111be347aa4a383049722"
   }
  }
 },
 "nbformat": 4,
 "nbformat_minor": 2
}

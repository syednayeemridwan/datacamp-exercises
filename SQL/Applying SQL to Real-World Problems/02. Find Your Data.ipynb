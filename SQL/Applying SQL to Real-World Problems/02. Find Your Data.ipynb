{
 "cells": [
  {
   "cell_type": "markdown",
   "metadata": {},
   "source": [
    "# LIMITing your search"
   ]
  },
  {
   "cell_type": "markdown",
   "metadata": {},
   "source": [
    "You may find yourself working with tables that contain so many records that simple queries can take forever to load. This is especially challenging when you're searching for the right table to use and just need a quick result. For these scenarios the trick is to `LIMIT` the number of rows that your query returns. In this exercise you will practice using this function."
   ]
  },
  {
   "cell_type": "markdown",
   "metadata": {},
   "source": [
    "```\n",
    "SELECT * \n",
    "FROM payment\n",
    "ORDER BY amount DESC\n",
    "LIMIT 10;\n",
    "```"
   ]
  },
  {
   "cell_type": "markdown",
   "metadata": {},
   "source": [
    "# Which table to use?"
   ]
  },
  {
   "cell_type": "markdown",
   "metadata": {},
   "source": [
    "Use the `SELECT * FROM ___ LIMIT 10` framework to find the table you need to answer the following question:\n",
    "\n",
    "What categories of films does this company rent?"
   ]
  },
  {
   "cell_type": "markdown",
   "metadata": {},
   "source": [
    "- `category`"
   ]
  },
  {
   "cell_type": "markdown",
   "metadata": {},
   "source": [
    "# What tables are in your database?"
   ]
  },
  {
   "cell_type": "markdown",
   "metadata": {},
   "source": [
    "You don't have to rely solely on knowing what tables exist. Instead, you can query the `pg_catalog.pg_tables` to list all of the tables that exist in your database.\n",
    "\n",
    "Of course, this will list every table, including system tables so ideally, you want to limit your results to the schema where your data resides which in this case is `'public'`.\n",
    "\n",
    "Note: This system table is specific to PostgreSQL but similar tables exist for other databases (see slides)."
   ]
  },
  {
   "cell_type": "markdown",
   "metadata": {},
   "source": [
    "```\n",
    "SELECT * \n",
    "FROM pg_catalog.pg_tables\n",
    "WHERE schemaname = 'public';\n",
    "```"
   ]
  },
  {
   "cell_type": "markdown",
   "metadata": {},
   "source": [
    "# Determine the monthly income"
   ]
  },
  {
   "cell_type": "markdown",
   "metadata": {},
   "source": [
    "Now that you know how to find the table that you need to answer a question and how to use SQL to answer that question let's practice these skills end-to-end.\n",
    "\n",
    "How much does this business make per month?\n",
    "\n",
    "First, you will need to use `pg_catalog.pg_tables` to find the possible tables and determine which tables & columns you need to answer that question. Second, you will leverage the tools you learned in the previous chapter to prepare the answer."
   ]
  },
  {
   "cell_type": "markdown",
   "metadata": {},
   "source": [
    "```\n",
    "-- List all tables in the public schema\n",
    "SELECT * \n",
    "FROM pg_catalog.pg_tables\n",
    "WHERE schemaname = 'public';\n",
    "\n",
    "-- Explore the tables and fill in the correct one\n",
    "SELECT * \n",
    "FROM payment \n",
    "LIMIT 10;\n",
    "\n",
    "-- Prepare the result\n",
    "SELECT EXTRACT(MONTH FROM payment_date) AS month, \n",
    "       SUM(amount) AS total_payment\n",
    "FROM payment \n",
    "GROUP BY month;\n",
    "```"
   ]
  },
  {
   "cell_type": "markdown",
   "metadata": {},
   "source": [
    "# What columns are in your database?"
   ]
  },
  {
   "cell_type": "markdown",
   "metadata": {},
   "source": [
    "Just like `pg_catalog.pg_tables` can be incredibly helpful for listing all the tables in your database, `information_schema`.columns can be used to list the columns of these tables. In this exercise, you will combine these system tables to get a list of all of the columns for all your tables (in the `'public'` schema).\n",
    "\n",
    "Note: These system tables are specific to PostgreSQL but similar tables exist for other databases (see slides)."
   ]
  },
  {
   "cell_type": "markdown",
   "metadata": {},
   "source": [
    "```\n",
    "SELECT table_name, column_name\n",
    "FROM information_schema.columns\n",
    "WHERE table_schema = 'public';\n",
    "```"
   ]
  },
  {
   "cell_type": "markdown",
   "metadata": {},
   "source": [
    "# A VIEW of all your columns"
   ]
  },
  {
   "cell_type": "markdown",
   "metadata": {},
   "source": [
    "In this exercise you will create a new tool for finding the tables and columns you need. Using the system table `information_schema.columns` you will concatenate the list of each table's columns into a single entry.\n",
    "\n",
    "Once you've done this you will make this query easily reusable by creating a new `VIEW` for it called `table_columns`."
   ]
  },
  {
   "cell_type": "markdown",
   "metadata": {},
   "source": [
    "```\n",
    "-- Create a new view called table_columns\n",
    "CREATE VIEW table_columns AS\n",
    "SELECT table_name, \n",
    "\t   STRING_AGG(column_name, ', ') AS columns\n",
    "FROM information_schema.columns\n",
    "WHERE table_schema = 'public'\n",
    "GROUP BY table_name;\n",
    "\n",
    "-- Query the newly created view table_columns\n",
    "SELECT * FROM table_columns;\n",
    "```"
   ]
  },
  {
   "cell_type": "markdown",
   "metadata": {},
   "source": [
    "# Testing out your new VIEW"
   ]
  },
  {
   "cell_type": "markdown",
   "metadata": {},
   "source": [
    "You are interested in calculating the average movie length for every category. Which tables & columns will you need to create this query?\n",
    "\n",
    "Note: The `table_columns` view is now stored in your database and can be used to help you with this question."
   ]
  },
  {
   "cell_type": "markdown",
   "metadata": {},
   "source": [
    "- Tables: `film` & `category` -- Join on: `film_id`"
   ]
  },
  {
   "cell_type": "markdown",
   "metadata": {},
   "source": [
    "# The average length of films by category"
   ]
  },
  {
   "cell_type": "markdown",
   "metadata": {},
   "source": [
    "From the previous exercise you've learned that the tables `film` and `category` have the necessary information to calculate the average movie length for every category. You've also learned that they share a common field `film_id` which can be used to join these tables. Now you will use this information to query a list of average `length` for each `category`."
   ]
  },
  {
   "cell_type": "markdown",
   "metadata": {},
   "source": [
    "```\n",
    "-- Calculate the average_length for each category\n",
    "SELECT category, \n",
    "\t   AVG(length) AS average_length\n",
    "FROM film AS f\n",
    "-- Join the tables film & category\n",
    "INNER JOIN category AS c\n",
    "  ON f.film_id = c.film_id\n",
    "GROUP BY category\n",
    "-- Sort the results in ascending order by length\n",
    "ORDER BY average_length;\n",
    "```"
   ]
  },
  {
   "cell_type": "markdown",
   "metadata": {},
   "source": [
    "# Build the entity relationship diagram"
   ]
  },
  {
   "cell_type": "markdown",
   "metadata": {},
   "source": [
    "Using the skills you learned throughout this chapter you will build an entity relationship diagram to trace and connect the tables needed to answer the following question:\n",
    "\n",
    "Which films are most frequently rented?"
   ]
  },
  {
   "cell_type": "markdown",
   "metadata": {},
   "source": [
    "- First explore `film`\n",
    "- Then explore `rental`\n",
    "- Then explore intermediate tables to connect them `inventory`\n",
    "<center><img src=\"images/02.12.png\"  style=\"width: 400px, height: 300px;\"/></center>\n"
   ]
  },
  {
   "cell_type": "markdown",
   "metadata": {},
   "source": [
    "# Which films are most frequently rented?"
   ]
  },
  {
   "cell_type": "markdown",
   "metadata": {},
   "source": [
    "Now that you've figured out the relationships between the tables and their columns, you are ready to answer the question we started with:\n",
    "\n",
    "Which films are most frequently rented?\n",
    "\n",
    "Use the relationship diagram to answer this question.\n",
    "\n",
    "<center><img src=\"images/02.13.png\"  style=\"width: 400px, height: 300px;\"/></center>\n"
   ]
  },
  {
   "cell_type": "markdown",
   "metadata": {},
   "source": [
    "```\n",
    "SELECT title, COUNT(title)\n",
    "FROM film AS f\n",
    "INNER JOIN inventory AS i\n",
    "  ON f.film_id = i.film_id\n",
    "INNER JOIN rental AS r\n",
    "  ON i.inventory_id = r.inventory_id\n",
    "GROUP BY title\n",
    "ORDER BY count DESC;\n",
    "```"
   ]
  }
 ],
 "metadata": {
  "kernelspec": {
   "display_name": "Python 3.8.11 ('env_py')",
   "language": "python",
   "name": "python3"
  },
  "language_info": {
   "name": "python",
   "version": "3.8.11"
  },
  "orig_nbformat": 4,
  "vscode": {
   "interpreter": {
    "hash": "1e949e87132dd83f1a7623eb88007e3532b03b66b77111be347aa4a383049722"
   }
  }
 },
 "nbformat": 4,
 "nbformat_minor": 2
}

{
 "cells": [
  {
   "cell_type": "markdown",
   "metadata": {},
   "source": [
    "# How to convey our intent"
   ]
  },
  {
   "cell_type": "markdown",
   "metadata": {},
   "source": [
    "Which of these approaches can you leverage to clarify the intent of your SQL script?"
   ]
  },
  {
   "cell_type": "markdown",
   "metadata": {},
   "source": [
    "- Use comments when the approach can't be conveyed with just the code."
   ]
  },
  {
   "cell_type": "markdown",
   "metadata": {},
   "source": [
    "# Clarify the intent of this query"
   ]
  },
  {
   "cell_type": "markdown",
   "metadata": {},
   "source": [
    "What can you do to improve this query with respect to conveying it's intent for future readers?\n",
    "```\n",
    "SELECT x1.customer_id, x1.rental_date, x1.return_date \n",
    "FROM rental x1\n",
    "JOIN inventory x2\n",
    "    ON x1.inventory_id = x2.inventory_id\n",
    "JOIN film x3\n",
    "    ON x2.film_id = x3.film_id\n",
    "WHERE x3.length < 90;\n",
    "```"
   ]
  },
  {
   "cell_type": "markdown",
   "metadata": {},
   "source": [
    "\n",
    "- Use aliases that help clarify the table source (e.g. `x1` -> `r` or `ren`).\n",
    "- Ensure that all aliases commands use `AS`.\n",
    "- Clarify the type of `JOIN` being used by using `INNER JOIN` instead.\n",
    "- Add a comment to clarify that the inventory table is used to unite the `rental` and `film` tables."
   ]
  },
  {
   "cell_type": "markdown",
   "metadata": {},
   "source": [
    "# Fix this query - intent"
   ]
  },
  {
   "cell_type": "markdown",
   "metadata": {},
   "source": [
    "Using the four opportunities you've identified you will now clarify the intent of this query, one step at a time.\n",
    "```\n",
    "SELECT x1.customer_id, x1.rental_date, x1.return_date \n",
    "FROM rental x1\n",
    "JOIN inventory x2\n",
    "    ON x1.inventory_id = x2.inventory_id\n",
    "JOIN film x3\n",
    "    ON x2.film_id = x3.film_id\n",
    "WHERE x3.length < 90;\n",
    "```"
   ]
  },
  {
   "cell_type": "markdown",
   "metadata": {},
   "source": [
    "```\n",
    "SELECT r.customer_id, r.rental_date, r.return_date \n",
    "FROM rental AS r\n",
    "/* INNER JOIN rental table with inventory table */ \n",
    "INNER JOIN inventory AS i\n",
    "  ON r.inventory_id = i.inventory_id\n",
    "INNER JOIN film AS f\n",
    "  ON i.film_id = f.film_id\n",
    "WHERE f.length < 90;\n",
    "```"
   ]
  },
  {
   "cell_type": "markdown",
   "metadata": {},
   "source": [
    "# How to make code easier to read"
   ]
  },
  {
   "cell_type": "markdown",
   "metadata": {},
   "source": [
    "Which of these strategies can be used to make SQL scripts easier to read?"
   ]
  },
  {
   "cell_type": "markdown",
   "metadata": {},
   "source": [
    "- Use Snake-Case for column and table names.\n",
    "- Always use `IN` instead of `OR` whenever possible.\n",
    "- Use lowercase text for all text in your query other than keywords."
   ]
  },
  {
   "cell_type": "markdown",
   "metadata": {},
   "source": [
    "# Make this query easier to read - Part I"
   ]
  },
  {
   "cell_type": "markdown",
   "metadata": {},
   "source": [
    "In this exercise you will work on making the query below easier to read.\n",
    "```\n",
    "SELECT title, rating FROM film \n",
    "WHERE rating = 'G' OR rating = 'PG' OR rating = 'R';\n",
    "```"
   ]
  },
  {
   "cell_type": "markdown",
   "metadata": {},
   "source": [
    "```\n",
    "SELECT \n",
    "    title, \n",
    "    rating \n",
    "FROM film \n",
    "WHERE rating IN ('G', 'PG', 'R');\n",
    "```"
   ]
  },
  {
   "cell_type": "markdown",
   "metadata": {},
   "source": [
    "# Make this query easier to read - Part II"
   ]
  },
  {
   "cell_type": "markdown",
   "metadata": {},
   "source": [
    "In this exercise you will work on making the query below easier to read.\n",
    "```\n",
    "select \n",
    "  category as FILMCATEGORY, \n",
    "  avg(length) as AverageLength\n",
    "from film as f\n",
    "inner join category as c\n",
    "  on f.film_id = c.film_id\n",
    "where release_year >= 2005\n",
    "  and release_year <= 2010\n",
    "group by category;\n",
    "```"
   ]
  },
  {
   "cell_type": "markdown",
   "metadata": {},
   "source": [
    "```\n",
    "SELECT \n",
    "  category AS film_category, \n",
    "  AVG(length) AS average_length \n",
    "FROM film AS f\n",
    "INNER JOIN category AS c\n",
    "  ON f.film_id = c.film_id\n",
    "WHERE release_year BETWEEN 2005 AND 2010\n",
    "GROUP BY category;\n",
    "```"
   ]
  },
  {
   "cell_type": "markdown",
   "metadata": {},
   "source": [
    "# What are the don'ts of writing SQL code?"
   ]
  },
  {
   "cell_type": "markdown",
   "metadata": {},
   "source": [
    "Which of these practices should you avoid when writing SQL queries?"
   ]
  },
  {
   "cell_type": "markdown",
   "metadata": {},
   "source": [
    "\n",
    "- Writing comments that are redundant with the code.\n",
    "- Selecting every column in your query instead of only the ones you need.\n",
    "- Using Loops in SQL."
   ]
  },
  {
   "cell_type": "markdown",
   "metadata": {},
   "source": [
    "# Apply best practices to your code"
   ]
  },
  {
   "cell_type": "markdown",
   "metadata": {},
   "source": [
    "In this exercise you will update the code below to adhere to the best practices you learned in this chapter.\n",
    "```\n",
    "SELECT first_name, last_name, email FROM rental AS r \n",
    "-- FROM address AS a JOIN r.address_id = a.address_id\n",
    "JOIN customer AS c ON r.customer_id = c.customer_id;\n",
    "```"
   ]
  },
  {
   "cell_type": "markdown",
   "metadata": {},
   "source": [
    "```\n",
    "SELECT first_name, \n",
    "       last_name, \n",
    "       email \n",
    "FROM rental AS r \n",
    "INNER JOIN customer AS c \n",
    "   ON r.customer_id = c.customer_id;\n",
    "```"
   ]
  }
 ],
 "metadata": {
  "kernelspec": {
   "display_name": "Python 3.8.11 ('env_py')",
   "language": "python",
   "name": "python3"
  },
  "language_info": {
   "name": "python",
   "version": "3.8.11"
  },
  "orig_nbformat": 4,
  "vscode": {
   "interpreter": {
    "hash": "1e949e87132dd83f1a7623eb88007e3532b03b66b77111be347aa4a383049722"
   }
  }
 },
 "nbformat": 4,
 "nbformat_minor": 2
}

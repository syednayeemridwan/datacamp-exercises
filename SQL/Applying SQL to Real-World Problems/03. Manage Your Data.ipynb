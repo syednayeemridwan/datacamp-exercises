{
 "cells": [
  {
   "cell_type": "markdown",
   "metadata": {},
   "source": [
    "# Storing new data"
   ]
  },
  {
   "cell_type": "markdown",
   "metadata": {},
   "source": [
    "You're planing to run a promotion on movies that won a best film academy award in the last 5 years. To do this you need to add a table in your database containing the movies which won an Oscar for best film.\n",
    "\n",
    "The data you need for this exercise is provided in the table below:\n",
    "```\n",
    "title                        award\n",
    "'TRANSLATION SUMMER'        'Best Film'\n",
    "'DORADO NOTTING'            'Best Film'\n",
    "'MARS ROMAN'                'Best Film'\n",
    "'CUPBOARD SINNERS'          'Best Film'\n",
    "'LONELY ELEPHANT'           'Best Film'\n",
    "````"
   ]
  },
  {
   "cell_type": "markdown",
   "metadata": {},
   "source": [
    "```\n",
    "-- Create a new table called oscars\n",
    "CREATE TABLE oscars (\n",
    "    title VARCHAR,\n",
    "    award VARCHAR\n",
    ");\n",
    "\n",
    "-- Insert the data into the oscars table\n",
    "INSERT INTO oscars (title, award)\n",
    "VALUES\n",
    "('TRANSLATION SUMMER', 'Best Film'),\n",
    "('DORADO NOTTING', 'Best Film'),\n",
    "('MARS ROMAN', 'Best Film'),\n",
    "('CUPBOARD SINNERS', 'Best Film'),\n",
    "('LONELY ELEPHANT', 'Best Film');\n",
    "\n",
    "-- Confirm the table was created and is populated\n",
    "SELECT * \n",
    "FROM oscars;\n",
    "```"
   ]
  },
  {
   "cell_type": "markdown",
   "metadata": {},
   "source": [
    "# Using existing data"
   ]
  },
  {
   "cell_type": "markdown",
   "metadata": {},
   "source": [
    "You are interested in identifying and storing information about films that are family-friendly. To do this, you will create a new table `family_films` using the data from the `film` table. This new table will contain a subset of films that have either the rating `G` or `PG`."
   ]
  },
  {
   "cell_type": "markdown",
   "metadata": {},
   "source": [
    "```\n",
    "-- Create a new table named family_films using this query\n",
    "CREATE TABLE family_films AS\n",
    "SELECT *\n",
    "FROM film\n",
    "WHERE rating IN ('G', 'PG');\n",
    "```"
   ]
  },
  {
   "cell_type": "markdown",
   "metadata": {},
   "source": [
    "# TABLE vs VIEW"
   ]
  },
  {
   "cell_type": "markdown",
   "metadata": {},
   "source": [
    "Which of these statements are correct?\n",
    "- To modify the data in a VIEW you need to change the data in the tables the VIEW relies on."
   ]
  },
  {
   "cell_type": "markdown",
   "metadata": {},
   "source": [
    "# What should you modify?"
   ]
  },
  {
   "cell_type": "markdown",
   "metadata": {},
   "source": [
    "When working with databases in a business setting, it is best to ensure that any modification you make to a database does not negatively impact any users or processes that depend on it.\n",
    "\n",
    "With that in mind, which of these precautions should you take when modifying data?"
   ]
  },
  {
   "cell_type": "markdown",
   "metadata": {},
   "source": [
    "- Ensure that you have access to modify the table.\n",
    "- Ensure the records you want to modify are the right ones by running a SELECT query first."
   ]
  },
  {
   "cell_type": "markdown",
   "metadata": {},
   "source": [
    "# Update the price of rentals"
   ]
  },
  {
   "cell_type": "markdown",
   "metadata": {},
   "source": [
    "You just learned that there have been some updates for the rental pricing of your films. In this exercise you will leverage the `UPDATE` command to modify the rental prices by increasing the `rental_rate` with the following logic.\n",
    "\n",
    "- All films now cost 50 cents more to rent.\n",
    "- R Rated films will go up by an additional 1 dollar."
   ]
  },
  {
   "cell_type": "markdown",
   "metadata": {},
   "source": [
    "```\n",
    "-- Increase rental_rate by 0.5 in the film table\n",
    "UPDATE film\n",
    "SET rental_rate = rental_rate+0.5;\n",
    "```"
   ]
  },
  {
   "cell_type": "markdown",
   "metadata": {},
   "source": [
    "```\n",
    "-- Increase rental_rate by one dollar for R-rated movies\n",
    "UPDATE film\n",
    "SET rental_rate = rental_rate + 1\n",
    "WHERE rating = 'R'\n",
    "```"
   ]
  },
  {
   "cell_type": "markdown",
   "metadata": {},
   "source": [
    "# Updated based on other tables"
   ]
  },
  {
   "cell_type": "markdown",
   "metadata": {},
   "source": [
    "The rental company is running a promotion and needs you to lower the rental costs by 1 dollar of films who star the actors/actresses with the following last names: WILLIS, CHASE, WINSLET, GUINESS, HUDSON.\n",
    "\n",
    "To `UPDATE` this data in the `film` table you will need to identify the `film_id` for these actors."
   ]
  },
  {
   "cell_type": "markdown",
   "metadata": {},
   "source": [
    "```\n",
    "UPDATE  film\n",
    "SET rental_rate = rental_rate-1\n",
    "WHERE film_id IN\n",
    "  (SELECT film_id from actor AS a\n",
    "   INNER JOIN film_actor AS f\n",
    "      ON a.actor_id = f.actor_id\n",
    "   WHERE last_name IN ('WILLIS', 'CHASE', 'WINSLET', 'GUINESS', 'HUDSON'));\n",
    "```"
   ]
  },
  {
   "cell_type": "markdown",
   "metadata": {},
   "source": [
    "# Deleting all table data"
   ]
  },
  {
   "cell_type": "markdown",
   "metadata": {},
   "source": [
    "A) `DROP TABLE film;`\n",
    "\n",
    "B) `TRUNCATE TABLE film;`\n",
    "\n",
    "C) `DELETE FROM film;`\n",
    "\n",
    "Which of the statements about the above commands are TRUE?"
   ]
  },
  {
   "cell_type": "markdown",
   "metadata": {},
   "source": [
    "- A removes the film table from the database; B & C remove all records from the film table."
   ]
  },
  {
   "cell_type": "markdown",
   "metadata": {},
   "source": [
    "# Delete selected records"
   ]
  },
  {
   "cell_type": "markdown",
   "metadata": {},
   "source": [
    "You've discovered that some films are just not worth keeping your inventory, for cases where the `replacement_cost` is greater than 25 dollars. As such you'd like to remove them from you `film` table."
   ]
  },
  {
   "cell_type": "markdown",
   "metadata": {},
   "source": [
    "```\n",
    "-- Delete films that cost most than 25 dollars\n",
    "DELETE\n",
    "FROM film\n",
    "WHERE replacement_cost > 25\n",
    "```"
   ]
  },
  {
   "cell_type": "markdown",
   "metadata": {},
   "source": [
    "# A family friendly video store"
   ]
  },
  {
   "cell_type": "markdown",
   "metadata": {},
   "source": [
    "Your company has decided to become a family friendly store. As such, all R & NC-17 movies will be cleared from the inventory. You will take the steps necessary to clear these films from both the `inventory` and the `film` tables."
   ]
  },
  {
   "cell_type": "markdown",
   "metadata": {},
   "source": [
    "```\n",
    "-- Identify the film_id of all films that have a rating of R or NC-17\n",
    "SELECT film_id\n",
    "FROM film\n",
    "WHERE rating IN ('R' , 'NC-17');\n",
    "```"
   ]
  },
  {
   "cell_type": "markdown",
   "metadata": {},
   "source": [
    "```\n",
    "-- Use the list of film_id values to DELETE all R & NC-17 rated films from inventory.\n",
    "DELETE FROM inventory\n",
    "WHERE film_id IN (\n",
    "  SELECT film_id FROM film\n",
    "  WHERE rating IN ('R', 'NC-17')\n",
    ");\n",
    "\n",
    "-- Delete records from the `film` table that are either rated as R or NC-17.\n",
    "DELETE FROM film\n",
    "  WHERE rating IN ('R', 'NC-17');\n",
    "```"
   ]
  }
 ],
 "metadata": {
  "kernelspec": {
   "display_name": "Python 3.8.11 ('env_py')",
   "language": "python",
   "name": "python3"
  },
  "language_info": {
   "name": "python",
   "version": "3.8.11"
  },
  "orig_nbformat": 4,
  "vscode": {
   "interpreter": {
    "hash": "1e949e87132dd83f1a7623eb88007e3532b03b66b77111be347aa4a383049722"
   }
  }
 },
 "nbformat": 4,
 "nbformat_minor": 2
}

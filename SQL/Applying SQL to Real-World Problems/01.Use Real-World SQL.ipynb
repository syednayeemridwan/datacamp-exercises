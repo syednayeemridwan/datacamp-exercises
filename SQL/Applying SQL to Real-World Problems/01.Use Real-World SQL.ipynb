{
 "cells": [
  {
   "cell_type": "markdown",
   "metadata": {},
   "source": [
    "# Review the essentials"
   ]
  },
  {
   "cell_type": "markdown",
   "metadata": {},
   "source": [
    "In this exercise you must prepare the data you need (`title` & `description`) to run a promotion for the store's `Italian` & `French` language films from 2005.\n",
    "\n",
    "To practice the essentials you will prepare this query one step at a time."
   ]
  },
  {
   "cell_type": "markdown",
   "metadata": {},
   "source": [
    "```\n",
    "SELECT title, description\n",
    "FROM film AS f\n",
    "INNER JOIN language AS l\n",
    "  ON f.language_id = l.language_id\n",
    "WHERE name IN ('Italian', 'French')\n",
    "  AND release_year = 2005 ;\n",
    "```"
   ]
  },
  {
   "cell_type": "markdown",
   "metadata": {},
   "source": [
    "# Practice the essentials"
   ]
  },
  {
   "cell_type": "markdown",
   "metadata": {},
   "source": [
    "In this exercise you are preparing list of your top paying `active` customers. The data you will need are the names of the customer sorted by the `amount` they paid."
   ]
  },
  {
   "cell_type": "markdown",
   "metadata": {},
   "source": [
    "```\n",
    "SELECT first_name,\n",
    "\t   last_name,\n",
    "       amount\n",
    "FROM payment AS p\n",
    "INNER JOIN customer AS c\n",
    "  ON p.customer_id = c.customer_id\n",
    "WHERE active = true\n",
    "ORDER BY amount DESC ;\n",
    "```"
   ]
  },
  {
   "cell_type": "markdown",
   "metadata": {},
   "source": [
    "# Transform numeric & strings"
   ]
  },
  {
   "cell_type": "markdown",
   "metadata": {},
   "source": [
    "For this exercise you are planning to run a 50% off promotion for films released prior to 2006. To prepare for this promotion you will need to return the films that qualify for this promotion, to make these titles easier to read you will convert them all to lower case. You will also need to return both the `original_rate` and the `sale_rate`."
   ]
  },
  {
   "cell_type": "markdown",
   "metadata": {},
   "source": [
    "```\n",
    "SELECT LOWER(title) AS title, \n",
    "  rental_rate AS original_rate, \n",
    "  rental_rate * 0.5 AS sale_rate \n",
    "FROM film\n",
    "-- Filter for films prior to 2006\n",
    "WHERE release_year < 2006;\n",
    "```"
   ]
  },
  {
   "cell_type": "markdown",
   "metadata": {},
   "source": [
    "# Extract what you need"
   ]
  },
  {
   "cell_type": "markdown",
   "metadata": {},
   "source": [
    "In this exercise you will practice preparing date/time elements by using the `EXTRACT()` function."
   ]
  },
  {
   "cell_type": "markdown",
   "metadata": {},
   "source": [
    "```\n",
    "SELECT payment_date,\n",
    "  EXTRACT('DAY' FROM payment_date ) AS payment_day \n",
    "FROM payment;\n",
    "\n",
    "```"
   ]
  },
  {
   "cell_type": "markdown",
   "metadata": {},
   "source": [
    "```\n",
    "SELECT payment_date,\n",
    "  EXTRACT('YEAR' FROM payment_date) AS payment_year \n",
    "FROM payment;\n",
    "```"
   ]
  },
  {
   "cell_type": "markdown",
   "metadata": {},
   "source": [
    "```\n",
    "SELECT payment_date,\n",
    "  EXTRACT('HOUR' FROM payment_date) AS payment_hour \n",
    "FROM payment;\n",
    "```"
   ]
  },
  {
   "cell_type": "markdown",
   "metadata": {},
   "source": [
    "# Aggregating finances"
   ]
  },
  {
   "cell_type": "markdown",
   "metadata": {},
   "source": [
    "In this exercise you would like to learn more about the differences in payments between the customers who are active and those who are not."
   ]
  },
  {
   "cell_type": "markdown",
   "metadata": {},
   "source": [
    "```\n",
    "SELECT active, \n",
    "       COUNT(payment_id) AS num_transactions, \n",
    "       AVG(amount) AS avg_amount, \n",
    "       SUM(amount) AS total_amount\n",
    "FROM payment AS p\n",
    "INNER JOIN customer AS c\n",
    "  ON p.customer_id = c.customer_id\n",
    "GROUP BY active;\n",
    "```"
   ]
  },
  {
   "cell_type": "markdown",
   "metadata": {},
   "source": [
    "# Aggregating strings"
   ]
  },
  {
   "cell_type": "markdown",
   "metadata": {},
   "source": [
    "You are planning to update your storefront window to demonstrate how family-friendly and multi-lingual your DVD collection is. To prepare for this you need to prepare a comma-separated list G-rated film titles by language released in 2010."
   ]
  },
  {
   "cell_type": "markdown",
   "metadata": {},
   "source": [
    "```\n",
    "SELECT name, \n",
    "\tSTRING_AGG(title ,',') AS film_titles\n",
    "FROM film AS f\n",
    "INNER JOIN language AS l\n",
    "  ON f.language_id = l.language_id\n",
    "WHERE release_year = 2010\n",
    "  AND rating = 'G'\n",
    "GROUP BY name;\n",
    "```"
   ]
  },
  {
   "cell_type": "markdown",
   "metadata": {},
   "source": [
    "# Which tables?"
   ]
  },
  {
   "cell_type": "markdown",
   "metadata": {},
   "source": [
    "You must answer the following question using a query:\n",
    "\n",
    "Which films are most frequently rented?\n",
    "\n",
    "Which of these table(s) do you need to prepare the query to answer this question?\n",
    "```\n",
    "Tables\t\n",
    "actor\t    film_actor\n",
    "address\t    inventory\n",
    "category    language\n",
    "customer    payment\n",
    "film\t    rental\n",
    "```"
   ]
  },
  {
   "cell_type": "markdown",
   "metadata": {},
   "source": [
    "- I need to explore my database to find the data I'm looking for!"
   ]
  }
 ],
 "metadata": {
  "kernelspec": {
   "display_name": "Python 3.8.11 ('env_py')",
   "language": "python",
   "name": "python3"
  },
  "language_info": {
   "name": "python",
   "version": "3.8.11"
  },
  "orig_nbformat": 4,
  "vscode": {
   "interpreter": {
    "hash": "1e949e87132dd83f1a7623eb88007e3532b03b66b77111be347aa4a383049722"
   }
  }
 },
 "nbformat": 4,
 "nbformat_minor": 2
}

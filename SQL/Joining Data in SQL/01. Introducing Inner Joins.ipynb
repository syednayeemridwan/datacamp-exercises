{
 "cells": [
  {
   "cell_type": "markdown",
   "metadata": {},
   "source": [
    "# Your first join"
   ]
  },
  {
   "cell_type": "markdown",
   "metadata": {},
   "source": [
    "countries database contains information about the most populous world cities and countries, and provides country-level economic data, population data, and geographic data. The database also contains information on languages spoken in each country.\n",
    "\n",
    "You can see the different tables in this database to get a sense of what they contain by clicking on the corresponding tabs. Click through them and familiarize yourself with the fields that seem to be shared across tables before you continue with the course.\n",
    "\n",
    "You'll use the cities and countries tables to build your first inner join. You'll start off by selecting all columns, performing your join, and then refining your query to choose specific columns."
   ]
  },
  {
   "cell_type": "markdown",
   "metadata": {},
   "source": [
    "```\n",
    "-- Select name fields (with alias) and region \n",
    "SELECT cities.name AS city, countries.name AS country, region\n",
    "FROM cities\n",
    "INNER JOIN countries\n",
    "ON cities.country_code = countries.code;\n",
    "```"
   ]
  },
  {
   "cell_type": "markdown",
   "metadata": {},
   "source": [
    "# Joining with aliased tables"
   ]
  },
  {
   "cell_type": "markdown",
   "metadata": {},
   "source": [
    "instead of writing full table names in queries, you can use table aliasing as a shortcut. The alias can be used in other parts of your query, such as the SELECT statement!\n",
    "\n",
    "You also learned that when you SELECT fields, a field can be ambiguous. For example, imagine two tables, apples and oranges, both containing a column called color. You need to use the syntax apples.color or oranges.color in your SELECT statement to point SQL to the correct table. Without this, you would get the following error:\n",
    "\n",
    "  ```column reference \"color\" is ambiguous```\n",
    "you'll practice joining with aliased tables. You'll use data from both the countries and economies tables to examine the inflation rate in 2010 and 2015. For this exercise, you will apply table aliases to some columns, but not all.\n",
    "\n",
    "When writing joins, it's easier to write SQL code out of order: many SQL users prefer to write the SELECT statement after writing the JOIN."
   ]
  },
  {
   "cell_type": "markdown",
   "metadata": {},
   "source": [
    "```\n",
    "-- Select fields with aliases\n",
    "SELECT c.code AS country_code, name, year, inflation_rate \n",
    "FROM countries AS c\n",
    "-- Join to economies (alias e)\n",
    "INNER JOIN economies AS e\n",
    "-- Match on code field using table aliases\n",
    "ON c.code = e.code\n",
    "```"
   ]
  },
  {
   "cell_type": "markdown",
   "metadata": {},
   "source": [
    "# USING in action"
   ]
  },
  {
   "cell_type": "markdown",
   "metadata": {},
   "source": [
    "when both the field names being joined ON are the same, you can take advantage of the USING clause.\n",
    "\n",
    "You'll now explore the languages table from our database. Which languages are official languages, and which ones are unofficial?"
   ]
  },
  {
   "cell_type": "markdown",
   "metadata": {},
   "source": [
    "```\n",
    "SELECT c.name AS country, l.name AS language, official\n",
    "FROM countries AS c\n",
    "INNER JOIN languages AS l\n",
    "-- Match using the code column\n",
    "USING(code)\n",
    "```"
   ]
  },
  {
   "cell_type": "markdown",
   "metadata": {},
   "source": [
    "# Relationships in our database"
   ]
  },
  {
   "cell_type": "markdown",
   "metadata": {},
   "source": [
    " it's time to examine a few relationships in the countries database!\n",
    "\n",
    "To answer questions about table relationships, you can explore the tables displayed as tabs in your console."
   ]
  },
  {
   "cell_type": "markdown",
   "metadata": {},
   "source": [
    "Which of these options best describes the relationship between the countries table and the cities table?\n",
    "- This is a one-to-many relationship."
   ]
  },
  {
   "cell_type": "markdown",
   "metadata": {},
   "source": [
    "Which of these options best describes the relationship between the countries table and the languages table?\n",
    "- This is a many-to-many relationship."
   ]
  },
  {
   "cell_type": "markdown",
   "metadata": {},
   "source": [
    "# Inspecting a relationship"
   ]
  },
  {
   "cell_type": "markdown",
   "metadata": {},
   "source": [
    "You've just identified that the countries table has a many-to-many relationship with the languages table. That is, many languages can be spoken in a country, and a language can be spoken in many countries.\n",
    "\n",
    "First, what is the best way to query all the different languages spoken in a country? And second, how is this different from the best way to query all the countries that speak each language?"
   ]
  },
  {
   "cell_type": "markdown",
   "metadata": {},
   "source": [
    "```\n",
    "-- Rearrange SELECT statement, keeping aliases\n",
    "SELECT l.name AS language, c.name AS country\n",
    "FROM countries AS c\n",
    "INNER JOIN languages AS l\n",
    "USING(code)\n",
    "-- Order the results by language\n",
    "ORDER BY language\n",
    "```"
   ]
  },
  {
   "cell_type": "markdown",
   "metadata": {},
   "source": [
    "# Joining multiple tables"
   ]
  },
  {
   "cell_type": "markdown",
   "metadata": {},
   "source": [
    "you are interested in the relationship between fertility and unemployment rates. You will join tables to return the country name, year, fertility rate, and unemployment rate in a single result from the countries, populations and economies tables."
   ]
  },
  {
   "cell_type": "markdown",
   "metadata": {},
   "source": [
    "```\n",
    "-- Select fields\n",
    "SELECT c.name, e.year, fertility_rate, e.unemployment_rate\n",
    "FROM countries AS c\n",
    "INNER JOIN populations AS p\n",
    "ON c.code = p.country_code\n",
    "-- Join to economies (as e)\n",
    "JOIN economies AS e\n",
    "-- Match on country code\n",
    "ON p.country_code = e.code ;\n",
    "```"
   ]
  },
  {
   "cell_type": "markdown",
   "metadata": {},
   "source": [
    "# Checking multi-table joins"
   ]
  },
  {
   "cell_type": "markdown",
   "metadata": {},
   "source": [
    "Have a look at the results for Albania from the previous query below. You can see that the 2015 fertility_rate has been paired with 2010 unemployment_rate, and vice versa.\n",
    "```\n",
    "name\tyear\tfertility_rate\tunemployment_rate\n",
    "Albania\t2015\t1.663\t17.1\n",
    "Albania\t2010\t1.663\t14\n",
    "Albania\t2015\t1.793\t17.1\n",
    "Albania\t2010\t1.793\t14\n",
    "```\n",
    "Instead of four records, the query should return two: one for each year. The last join was performed on c.code = e.code, without also joining on year. fix your query by explicitly stating that both the country code and year should match!"
   ]
  },
  {
   "cell_type": "markdown",
   "metadata": {},
   "source": [
    "```\n",
    "SELECT name, e.year, fertility_rate, unemployment_rate\n",
    "FROM countries AS c\n",
    "INNER JOIN populations AS p\n",
    "ON c.code = p.country_code\n",
    "INNER JOIN economies AS e\n",
    "ON c.code = e.code\n",
    "-- Add an additional joining condition such that you are also joining on year\n",
    "\tAND p.year = e.year;\n",
    "```"
   ]
  }
 ],
 "metadata": {
  "kernelspec": {
   "display_name": "Python 3.8.11 ('env_py')",
   "language": "python",
   "name": "python3"
  },
  "language_info": {
   "name": "python",
   "version": "3.8.11"
  },
  "orig_nbformat": 4,
  "vscode": {
   "interpreter": {
    "hash": "1e949e87132dd83f1a7623eb88007e3532b03b66b77111be347aa4a383049722"
   }
  }
 },
 "nbformat": 4,
 "nbformat_minor": 2
}

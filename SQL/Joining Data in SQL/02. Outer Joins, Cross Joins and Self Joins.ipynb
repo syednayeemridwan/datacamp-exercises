{
 "cells": [
  {
   "cell_type": "markdown",
   "metadata": {},
   "source": [
    "# Remembering what is LEFT"
   ]
  },
  {
   "cell_type": "markdown",
   "metadata": {},
   "source": [
    "To become faster at writing queries, it's helpful to memorize their structure."
   ]
  },
  {
   "cell_type": "markdown",
   "metadata": {},
   "source": [
    "<img src=\"images/02.02.jpg\" style=\"width:800px;height:300px;\">\n"
   ]
  },
  {
   "cell_type": "markdown",
   "metadata": {},
   "source": [
    "# This is a LEFT JOIN, right?"
   ]
  },
  {
   "cell_type": "markdown",
   "metadata": {},
   "source": [
    "You'll explore the differences between INNER JOIN and LEFT JOIN. This will help you decide which type of join to use.\n",
    "\n",
    "As before, you will be using the cities and countries tables.\n",
    "\n",
    "You'll begin with an INNER JOIN with the cities table (left) and countries table (right). This helps if you are interested only in records where a country is present in both tables.\n",
    "\n",
    "You'll then change to a LEFT JOIN. This helps if you're interested in returning all countries in the cities table, whether or not they have a match in the countries table."
   ]
  },
  {
   "cell_type": "markdown",
   "metadata": {},
   "source": [
    "```\n",
    "SELECT \n",
    "    c1.name AS city,\n",
    "    code,\n",
    "    c2.name AS country,\n",
    "    region,\n",
    "    city_proper_pop\n",
    "FROM cities AS c1\n",
    "-- Perform an inner join with cities as c1 and countries as c2 on country code\n",
    "INNER JOIN countries AS c2\n",
    "ON c1.country_code = c2.code\n",
    "ORDER BY code DESC;\n",
    "```"
   ]
  },
  {
   "cell_type": "markdown",
   "metadata": {},
   "source": [
    "```\n",
    "SELECT \n",
    "\tc1.name AS city, \n",
    "    code, \n",
    "    c2.name AS country,\n",
    "    region, \n",
    "    city_proper_pop\n",
    "FROM cities AS c1\n",
    "-- Join right table (with alias)\n",
    "LEFT JOIN  countries AS c2\n",
    "ON c1.country_code = c2.code\n",
    "ORDER BY code DESC;\n",
    "```"
   ]
  },
  {
   "cell_type": "markdown",
   "metadata": {},
   "source": [
    "# Building on your LEFT JOIN"
   ]
  },
  {
   "cell_type": "markdown",
   "metadata": {},
   "source": [
    "Being able to build more than one SQL function into your query will enable you to write compact, supercharged queries.\n",
    "\n",
    "You will use AVG() in combination with a LEFT JOIN to determine the average gross domestic product (GDP) per capita by region in 2010."
   ]
  },
  {
   "cell_type": "markdown",
   "metadata": {},
   "source": [
    "```\n",
    "SELECT region, AVG(gdp_percapita) AS avg_gdp\n",
    "FROM countries AS c\n",
    "LEFT JOIN economies AS e\n",
    "USING(code)\n",
    "WHERE year = 2010\n",
    "GROUP BY region\n",
    "-- Order by descending avg_gdp\n",
    "ORDER BY avg_gdp DESC\n",
    "-- Return only first 10 records\n",
    "LIMIT 10\n",
    "```"
   ]
  },
  {
   "cell_type": "markdown",
   "metadata": {},
   "source": [
    "# Is this RIGHT?"
   ]
  },
  {
   "cell_type": "markdown",
   "metadata": {},
   "source": [
    "Right joins are not used as commonly as left joins. A key reason for this is that right joins can always be re-written as left joins, and because joins are typically typed from left to right, joining from the left feels more intuitive when constructing queries.\n",
    "\n",
    "It can be tricky to wrap one's head around when left and right joins return equivalent results. "
   ]
  },
  {
   "cell_type": "markdown",
   "metadata": {},
   "source": [
    "### BEFORE:"
   ]
  },
  {
   "cell_type": "markdown",
   "metadata": {},
   "source": [
    "```\n",
    "-- Modify this query to use RIGHT JOIN instead of LEFT JOIN\n",
    "SELECT countries.name AS country, languages.name AS language, percent\n",
    "FROM countries\n",
    "LEFT JOIN languages\n",
    "USING(code)\n",
    "ORDER BY language;\n",
    "```"
   ]
  },
  {
   "cell_type": "markdown",
   "metadata": {},
   "source": [
    "### AFTER"
   ]
  },
  {
   "cell_type": "markdown",
   "metadata": {},
   "source": [
    "```\n",
    "-- Modify this query to use RIGHT JOIN instead of LEFT JOIN\n",
    "SELECT countries.name AS country, languages.name AS language, percent\n",
    "FROM languages\n",
    "RIGHT JOIN  countries\n",
    "USING(code)\n",
    "ORDER BY language;\n",
    "```"
   ]
  },
  {
   "cell_type": "markdown",
   "metadata": {},
   "source": [
    "# Comparing joins"
   ]
  },
  {
   "cell_type": "markdown",
   "metadata": {},
   "source": [
    "you'll examine how results can differ when performing a full join compared to a left join and inner join by joining the countries and currencies tables. You'll be focusing on the North American region and records where the name of the country is missing.\n",
    "\n",
    "You'll begin with a full join with countries on the left and currencies on the right."
   ]
  },
  {
   "cell_type": "markdown",
   "metadata": {},
   "source": [
    "```\n",
    "SELECT name AS country, code, region, basic_unit\n",
    "FROM countries\n",
    "-- Join to currencies\n",
    "FULL JOIN currencies \n",
    "USING (code)\n",
    "-- Where region is North America or name is null\n",
    "WHERE region = 'North America' OR name IS NULL\n",
    "ORDER BY region;\n",
    "```"
   ]
  },
  {
   "cell_type": "markdown",
   "metadata": {},
   "source": [
    "```\n",
    "...\n",
    "INNER JOIN currencies\n",
    "...\n",
    "``` "
   ]
  },
  {
   "cell_type": "markdown",
   "metadata": {},
   "source": [
    "```\n",
    "...\n",
    "LEFT JOIN currencies\n",
    "...\n",
    "``` "
   ]
  },
  {
   "cell_type": "markdown",
   "metadata": {},
   "source": [
    "# Chaining FULL JOINs"
   ]
  },
  {
   "cell_type": "markdown",
   "metadata": {},
   "source": [
    "it is possible to chain joins in SQL, such as when looking to connect data from more than two tables.\n",
    "\n",
    "Suppose you are doing some research on Melanesia and Micronesia, and are interested in pulling information about languages and currencies into the data we see for these regions in the countries table. Since languages and currencies exist in separate tables, this will require two consecutive full joins involving the countries, languages and currencies tables."
   ]
  },
  {
   "cell_type": "markdown",
   "metadata": {},
   "source": [
    "```\n",
    "SELECT \n",
    "\tc1.name AS country, \n",
    "    region, \n",
    "    l.name AS language,\n",
    "\tbasic_unit, \n",
    "    frac_unit\n",
    "FROM countries as c1 \n",
    "-- Full join with languages (alias as l)\n",
    "FULL JOIN languages AS l \n",
    "USING (code)\n",
    "-- Full join with currencies (alias as c2)\n",
    "FULL JOIN currencies AS c2\n",
    "USING (code)\n",
    "WHERE region LIKE 'M%esia';\n",
    "```"
   ]
  },
  {
   "cell_type": "markdown",
   "metadata": {},
   "source": [
    "# Histories and languages"
   ]
  },
  {
   "cell_type": "markdown",
   "metadata": {},
   "source": [
    "CROSS JOIN can be incredibly helpful when asking questions that involve looking at all possible combinations or pairings between two sets of data.\n",
    "\n",
    "Imagine you are a researcher interested in the languages spoken in two countries: Pakistan and India. You are interested in asking:\n",
    "\n",
    "- What are the languages presently spoken in the two countries?\n",
    "- Given the shared history between the two countries, what languages could potentially have been spoken in either country over the course of their history?"
   ]
  },
  {
   "cell_type": "markdown",
   "metadata": {},
   "source": [
    "```\n",
    "SELECT c.name AS country, l.name AS language\n",
    "-- Inner join countries as c with languages as l on code\n",
    "FROM countries AS c\n",
    "INNER JOIN languages AS l\n",
    "USING (code)\n",
    "WHERE c.code IN ('PAK','IND')\n",
    "\tAND l.code in ('PAK','IND');\n",
    "```"
   ]
  },
  {
   "cell_type": "markdown",
   "metadata": {},
   "source": [
    "```\n",
    "SELECT c.name AS country, l.name AS language\n",
    "FROM countries AS c        \n",
    "-- Perform a cross join to languages (alias as l)\n",
    "CROSS JOIN languages AS l\n",
    "WHERE c.code in ('PAK','IND')\n",
    "\tAND l.code in ('PAK','IND');\n",
    "```"
   ]
  },
  {
   "cell_type": "markdown",
   "metadata": {},
   "source": [
    "# Choosing your join"
   ]
  },
  {
   "cell_type": "markdown",
   "metadata": {},
   "source": [
    "You will determine the names of the five countries and their respective regions with the lowest life expectancy for the year 2010. Use your knowledge about joins, filtering, sorting and limiting to create this list!"
   ]
  },
  {
   "cell_type": "markdown",
   "metadata": {},
   "source": [
    "```\n",
    "SELECT \n",
    "\tc.name AS country,\n",
    "    region,\n",
    "    life_expectancy AS life_exp\n",
    "FROM countries AS c\n",
    "-- Join to populations (alias as p) using an appropriate join\n",
    "FULL JOIN populations AS p \n",
    "ON c.code = p.country_code\n",
    "-- Filter for only results in the year 2010\n",
    "WHERE p.year = 2010\n",
    "-- Sort by life_exp\n",
    "ORDER BY life_exp\n",
    "-- Limit to five records\n",
    "LIMIT 5;\n",
    "```"
   ]
  },
  {
   "cell_type": "markdown",
   "metadata": {},
   "source": [
    "- more than one type of join can be used to return the five records in our result? All four types of joins we have learned will return the same result."
   ]
  },
  {
   "cell_type": "markdown",
   "metadata": {},
   "source": [
    "# Comparing a country to itself"
   ]
  },
  {
   "cell_type": "markdown",
   "metadata": {},
   "source": [
    "Self joins are very useful for comparing data from one part of a table with another part of the same table. Suppose you are interested in finding out how much the populations for each country changed from 2010 to 2015. You can visualize this change by performing a self join.\n",
    "\n",
    "You'll work to answer this question by joining the populations table with itself. Recall that, with self joins, tables must be aliased. Use this as an opportunity to practice your aliasing!\n",
    "\n",
    "Since you'll be joining the populations table to itself, you can alias populations first as p1 and again as p2. This is good practice whenever you are aliasing tables with the same first letter."
   ]
  },
  {
   "cell_type": "markdown",
   "metadata": {},
   "source": [
    "```\n",
    "SELECT \n",
    "\tp1.country_code, \n",
    "    p1.size AS size2010, \n",
    "    p2.size AS size2015\n",
    "FROM populations AS p1\n",
    "INNER JOIN populations AS p2\n",
    "ON p1.country_code = p2.country_code\n",
    "WHERE p1.year = 2010\n",
    "-- Filter such that p1.year is always five years before p2.year\n",
    "    AND p2.year = p1.year + 5\n",
    "```"
   ]
  },
  {
   "cell_type": "markdown",
   "metadata": {},
   "source": [
    "# All joins on deck"
   ]
  },
  {
   "cell_type": "markdown",
   "metadata": {},
   "source": [
    "For each of the problems presented, think carefully about what types of tables are involved and how each of the joins you have learned relates to NULL values."
   ]
  },
  {
   "cell_type": "markdown",
   "metadata": {},
   "source": [
    "<img src=\"images/02.14.jpg\" style=\"width:800px;height:300px;\">\n"
   ]
  }
 ],
 "metadata": {
  "kernelspec": {
   "display_name": "Python 3.8.11 ('env_py')",
   "language": "python",
   "name": "python3"
  },
  "language_info": {
   "name": "python",
   "version": "3.8.11"
  },
  "orig_nbformat": 4,
  "vscode": {
   "interpreter": {
    "hash": "1e949e87132dd83f1a7623eb88007e3532b03b66b77111be347aa4a383049722"
   }
  }
 },
 "nbformat": 4,
 "nbformat_minor": 2
}

{
 "cells": [
  {
   "cell_type": "markdown",
   "metadata": {},
   "source": [
    "# Multiple WHERE clauses"
   ]
  },
  {
   "cell_type": "markdown",
   "metadata": {},
   "source": [
    "Semi joins in the form of nested subqueries are within the WHERE clause of the main query. In this exercise, you'll familiarize yourself with semi join syntax by thinking through and re-ordering the lines of code provided. Note that subqueries are queries in their own right, so they can have a WHERE clause of their own! This is why you see two WHERE statements here.\n",
    "\n",
    "Your task is to construct a semi join that pulls all records from economies2019 where gross_savings in the economies2015 table were below the 2015 global average. The global average gross_savings in 2015 was 22.5, and is already pre-calculated in the lines of code provided."
   ]
  },
  {
   "cell_type": "markdown",
   "metadata": {},
   "source": [
    "<img src=\"images/04.02.jpg\" style=\"width:800px;height:400px;\">"
   ]
  },
  {
   "cell_type": "markdown",
   "metadata": {},
   "source": [
    "# Semi join"
   ]
  },
  {
   "cell_type": "markdown",
   "metadata": {},
   "source": [
    "You are interested in identifying languages spoken in the Middle East. The languages table contains information about languages and countries, but it does not tell you what region the countries belong to. You can build up a semi join by filtering the countries table by a particular region, and then using this to further filter the languages table.\n",
    "\n",
    "You'll build up your semi join as you did in the video exercise, block by block, starting with a selection of countries from the countries table, and then leveraging a WHERE clause to filter the languages table by this selection."
   ]
  },
  {
   "cell_type": "markdown",
   "metadata": {},
   "source": [
    "```\n",
    "SELECT DISTINCT name\n",
    "FROM languages\n",
    "-- Add syntax to use bracketed subquery below as a filter\n",
    "WHERE code IN\n",
    "    (SELECT code\n",
    "    FROM countries\n",
    "    WHERE region = 'Middle East')\n",
    "ORDER BY name;\n",
    "```"
   ]
  },
  {
   "cell_type": "markdown",
   "metadata": {},
   "source": [
    "# Diagnosing problems using anti join"
   ]
  },
  {
   "cell_type": "markdown",
   "metadata": {},
   "source": [
    "The anti join is a related and powerful joining tool. It can be particularly useful for identifying whether an incorrect number of records appears in a join.\n",
    "\n",
    "Say we are interested in identifying currencies of Oceanian countries. We have the following INNER JOIN which returns 15 records, and want to check that all Oceanian countries in our countries table are included in this result. If not, we want to return the names of any excluded countries.\n",
    "```\n",
    "SELECT c1.code, name, basic_unit AS currency\n",
    "FROM countries AS c1\n",
    "INNER JOIN currencies AS c2\n",
    "ON c1.code = c2.code\n",
    "WHERE c1.continent = 'Oceania';\n",
    "```\n",
    "An anti join will give us the names of these countries, if any! "
   ]
  },
  {
   "cell_type": "markdown",
   "metadata": {},
   "source": [
    "```\n",
    "SELECT code, name\n",
    "FROM countries\n",
    "WHERE continent = 'Oceania'\n",
    "-- Filter for countries not included in the bracketed subquery\n",
    "  AND code NOT IN\n",
    "    (SELECT code\n",
    "    FROM currencies);\n",
    "```"
   ]
  },
  {
   "cell_type": "markdown",
   "metadata": {},
   "source": [
    "# Subquery inside WHERE"
   ]
  },
  {
   "cell_type": "markdown",
   "metadata": {},
   "source": [
    " subqueries inside WHERE can either be from the same table or a different table. In this exercise, you will nest a subquery from the populations table inside another query, also from the populations table. Your goal is to figure out which countries had high average life expectancies in 2015.\n",
    "\n",
    "You can use SQL to do calculations for you. Suppose you only want records from 2015 with life_expectancy above 1.15 * avg_life_expectancy. You could use the following SQL query:\n",
    "```\n",
    "SELECT *\n",
    "FROM populations\n",
    "WHERE life_expectancy > 1.15 * avg_life_expectancy\n",
    "  AND year = 2015;\n",
    "```  "
   ]
  },
  {
   "cell_type": "markdown",
   "metadata": {},
   "source": [
    "```\n",
    "SELECT *\n",
    "FROM populations\n",
    "-- Filter for only those populations where life expectancy is 1.15 times higher than average\n",
    "WHERE life_expectancy > 1.15 *\n",
    "  (SELECT AVG(life_expectancy)\n",
    "   FROM populations\n",
    "   WHERE year = 2015) \n",
    "\t AND year = 2015;\n",
    "```"
   ]
  },
  {
   "cell_type": "markdown",
   "metadata": {},
   "source": [
    "# WHERE do people live?"
   ]
  },
  {
   "cell_type": "markdown",
   "metadata": {},
   "source": [
    "you will strengthen your knowledge of subquerying using WHERE. Follow the instructions below to get the urban area population for capital cities only. Explore the tables displayed in the console to help identify columns of interest as you build your query."
   ]
  },
  {
   "cell_type": "markdown",
   "metadata": {},
   "source": [
    "```\n",
    "-- Select relevant fields from cities table\n",
    "SELECT  name, country_code, urbanarea_pop\n",
    "-- Filter using a subquery on the countries table\n",
    "FROM cities\n",
    "WHERE name IN ( SELECT capital FROM countries)\n",
    "ORDER BY urbanarea_pop DESC;\n",
    "```"
   ]
  },
  {
   "cell_type": "markdown",
   "metadata": {},
   "source": [
    "# Subquery inside SELECT"
   ]
  },
  {
   "cell_type": "markdown",
   "metadata": {},
   "source": [
    "There are often multiple ways to produce the same result in SQL. You saw that subqueries can provide an alternative to joins to obtain the same result.\n",
    "\n",
    "you'll go further in exploring how some queries can be written using either a join or a subquery.\n",
    "\n",
    "In Step 1, you'll begin with a LEFT JOIN combined with a GROUP BY to obtain summarized information from two tables in order to select the nine countries with the most cities appearing in the cities table. In Step 2, you'll write a query that returns the same result as the join, but leveraging a nested query instead."
   ]
  },
  {
   "cell_type": "markdown",
   "metadata": {},
   "source": [
    "```\n",
    "-- Find top nine countries with the most cities\n",
    "SELECT countries.name AS country, COUNT(cities.name) AS cities_num\n",
    "FROM countries\n",
    "LEFT JOIN cities\n",
    "ON countries.code = cities.country_code\n",
    "-- Order by count of cities as cities_num\n",
    "GROUP BY country\n",
    "ORDER BY cities_num DESC\n",
    "LIMIT 9;\n",
    "```"
   ]
  },
  {
   "cell_type": "markdown",
   "metadata": {},
   "source": [
    "```\n",
    "SELECT countries.name AS country,\n",
    "-- Subquery that provides the count of cities \n",
    "  (SELECT COUNT(*) \n",
    "  FROM cities \n",
    "  WHERE countries.code = cities.country_code) AS cities_num\n",
    "FROM countries\n",
    "\n",
    "ORDER BY cities_num DESC, country\n",
    "LIMIT 9;\n",
    "```"
   ]
  },
  {
   "cell_type": "markdown",
   "metadata": {},
   "source": [
    "# Subquery inside FROM"
   ]
  },
  {
   "cell_type": "markdown",
   "metadata": {},
   "source": [
    "Subqueries inside FROM can help us select columns from multiple tables in a single query.\n",
    "\n",
    "Say you are interested in determining the number of languages spoken for each country. You want to present this information alongside each country's local_name, which is a field only present in the countries table and not in the languages table. You'll use a subquery inside FROM to bring information from these two tables together!"
   ]
  },
  {
   "cell_type": "markdown",
   "metadata": {},
   "source": [
    "```\n",
    "-- Select code, and language count as lang_num\n",
    "SELECT languages.code, COUNT(languages.name) AS lang_num\n",
    "FROM languages\n",
    "GROUP BY languages.code\n",
    "```"
   ]
  },
  {
   "cell_type": "markdown",
   "metadata": {},
   "source": [
    "```\n",
    "-- Select local_name and lang_num from appropriate tables\n",
    "SELECT local_name, lang_num\n",
    "FROM countries,\n",
    "  (SELECT code, COUNT(*) AS lang_num\n",
    "  FROM languages\n",
    "  GROUP BY code) AS sub\n",
    "-- Where codes match\n",
    "WHERE countries.code = sub.code\n",
    "ORDER BY lang_num DESC;\n",
    "```"
   ]
  },
  {
   "cell_type": "markdown",
   "metadata": {},
   "source": [
    "# Subquery challenge"
   ]
  },
  {
   "cell_type": "markdown",
   "metadata": {},
   "source": [
    "you're interested in analyzing inflation and unemployment rate for certain countries in 2015. You are not interested in countries with \"Republic\" or \"Monarchy\" as their form of government, but are interested in all other forms of government, such as emirate federations, socialist states, and commonwealths.\n",
    "\n",
    "You will use the field gov_form to filter for these two conditions, which represents a country's form of government. You can review the different entries for gov_form in the countries table."
   ]
  },
  {
   "cell_type": "markdown",
   "metadata": {},
   "source": [
    "```\n",
    "-- Select relevant fields\n",
    "SELECT code, inflation_rate, unemployment_rate\n",
    "FROM economies\n",
    "WHERE year = 2015 \n",
    "  AND code NOT IN\n",
    "-- Subquery returning country codes filtered on gov_form\n",
    "\t(SELECT code \n",
    "  FROM countries \n",
    "  WHERE gov_form LIKE '%epublic%' OR gov_form LIKE '%onarch%' )\n",
    "ORDER BY inflation_rate;\n",
    "```"
   ]
  },
  {
   "cell_type": "markdown",
   "metadata": {},
   "source": [
    "# Final challenge"
   ]
  },
  {
   "cell_type": "markdown",
   "metadata": {},
   "source": [
    "Determine the top 10 capital cities in Europe and the Americas by city_perc, a metric you'll calculate. city_perc is a percentage that calculates the \"proper\" population in a city as a percentage of the total population in the wider metro area, as follows:\n",
    "\n",
    "city_proper_pop / metroarea_pop * 100"
   ]
  },
  {
   "cell_type": "markdown",
   "metadata": {},
   "source": [
    "```\n",
    "-- Select fields from cities\n",
    "SELECT cities.name, cities.country_code, cities.city_proper_pop, cities.metroarea_pop, (cities.city_proper_pop /cities.metroarea_pop * 100) AS city_perc\n",
    "FROM cities\n",
    "-- Use subquery to filter city name\n",
    "WHERE cities.name IN (SELECT capital \n",
    "FROM countries\n",
    "WHERE (countries.continent LIKE 'Europe' OR countries.continent LIKE '%America')\n",
    "-- Add filter condition such that metroarea_pop does not have null values\n",
    "AND cities.metroarea_pop IS NOT NULL)\n",
    "-- Sort and limit the result\n",
    "ORDER BY city_perc DESC\n",
    "LIMIT 10\n",
    "```"
   ]
  }
 ],
 "metadata": {
  "kernelspec": {
   "display_name": "Python 3.8.11 ('env_py')",
   "language": "python",
   "name": "python3"
  },
  "language_info": {
   "name": "python",
   "version": "3.8.11"
  },
  "orig_nbformat": 4,
  "vscode": {
   "interpreter": {
    "hash": "1e949e87132dd83f1a7623eb88007e3532b03b66b77111be347aa4a383049722"
   }
  }
 },
 "nbformat": 4,
 "nbformat_minor": 2
}

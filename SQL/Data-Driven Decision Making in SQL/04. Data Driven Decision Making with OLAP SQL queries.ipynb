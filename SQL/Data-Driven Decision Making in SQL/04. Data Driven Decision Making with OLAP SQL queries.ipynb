{
 "cells": [
  {
   "cell_type": "markdown",
   "metadata": {},
   "source": [
    "# Groups of customers"
   ]
  },
  {
   "cell_type": "markdown",
   "metadata": {},
   "source": [
    "Use the CUBE operator to extract the content of a pivot table from the database. Create a table with the total number of male and female customers from each country."
   ]
  },
  {
   "cell_type": "markdown",
   "metadata": {},
   "source": [
    "```\n",
    "SELECT gender, -- Extract information of a pivot table of gender and country for the number of customers\n",
    "\t   country,\n",
    "\t   COUNT(*)\n",
    "FROM customers\n",
    "GROUP BY CUBE (gender, country)\n",
    "ORDER BY country;\n",
    "```"
   ]
  },
  {
   "cell_type": "markdown",
   "metadata": {},
   "source": [
    "# Categories of movies"
   ]
  },
  {
   "cell_type": "markdown",
   "metadata": {},
   "source": [
    "Give an overview on the movies available on MovieNow. List the number of movies for different genres and release years."
   ]
  },
  {
   "cell_type": "markdown",
   "metadata": {},
   "source": [
    "```\n",
    "SELECT genre,\n",
    "       year_of_release,\n",
    "       COUNT(*)\n",
    "FROM movies\n",
    "GROUP BY CUBE(genre,year_of_release)\n",
    "ORDER BY year_of_release;\n",
    "```"
   ]
  },
  {
   "cell_type": "markdown",
   "metadata": {},
   "source": [
    "Which statement is NOT correct about the result table?\n",
    "- The year of release with most movies is 2014."
   ]
  },
  {
   "cell_type": "markdown",
   "metadata": {},
   "source": [
    "# Analyzing average ratings"
   ]
  },
  {
   "cell_type": "markdown",
   "metadata": {},
   "source": [
    "Prepare a table for a report about the national preferences of the customers from MovieNow comparing the average rating of movies across countries and genres."
   ]
  },
  {
   "cell_type": "markdown",
   "metadata": {},
   "source": [
    "```\n",
    "-- Calculate the average rating for each country\n",
    "SELECT \n",
    "\tcountry,\n",
    "    AVG(rating)\n",
    "FROM renting AS r\n",
    "LEFT JOIN movies AS m\n",
    "ON m.movie_id = r.movie_id\n",
    "LEFT JOIN customers AS c\n",
    "ON r.customer_id = c.customer_id\n",
    "GROUP BY country;\n",
    "```"
   ]
  },
  {
   "cell_type": "markdown",
   "metadata": {},
   "source": [
    "```\n",
    "SELECT \n",
    "\tcountry, \n",
    "\tgenre, \n",
    "\tAVG(r.rating) AS avg_rating -- Calculate the average rating \n",
    "FROM renting AS r\n",
    "LEFT JOIN movies AS m\n",
    "ON m.movie_id = r.movie_id\n",
    "LEFT JOIN customers AS c\n",
    "ON r.customer_id = c.customer_id\n",
    "GROUP BY CUBE(country, genre); -- For all aggregation levels of country and genre\n",
    "```"
   ]
  },
  {
   "cell_type": "markdown",
   "metadata": {},
   "source": [
    "What is the average rating over all records, rounded to two digits?\n",
    "- 7.94"
   ]
  },
  {
   "cell_type": "markdown",
   "metadata": {},
   "source": [
    "# Number of customers"
   ]
  },
  {
   "cell_type": "markdown",
   "metadata": {},
   "source": [
    "You have to give an overview of the number of customers for a presentation."
   ]
  },
  {
   "cell_type": "markdown",
   "metadata": {},
   "source": [
    "```\n",
    "-- Count the total number of customers, the number of customers for each country, and the number of female and male customers for each country\n",
    "SELECT country,\n",
    "       gender,\n",
    "\t   COUNT(*)\n",
    "FROM customers\n",
    "GROUP BY ROLLUP (country, gender)\n",
    "ORDER BY country, gender; -- Order the result by country and gender\n",
    "```"
   ]
  },
  {
   "cell_type": "markdown",
   "metadata": {},
   "source": [
    "# Analyzing preferences of genres across countries"
   ]
  },
  {
   "cell_type": "markdown",
   "metadata": {},
   "source": [
    "You are asked to study the preferences of genres across countries. Are there particular genres which are more popular in specific countries? Evaluate the preferences of customers by averaging their ratings and counting the number of movies rented from each genre."
   ]
  },
  {
   "cell_type": "markdown",
   "metadata": {},
   "source": [
    "```\n",
    "SELECT \n",
    "\tc.country, -- Select country\n",
    "\tm.genre, -- Select genre\n",
    "\tAVG(r.rating), -- Average ratings\n",
    "\tCOUNT(r.*)  -- Count number of movie rentals\n",
    "FROM renting AS r\n",
    "LEFT JOIN movies AS m\n",
    "ON m.movie_id = r.movie_id\n",
    "LEFT JOIN customers AS c\n",
    "ON r.customer_id = c.customer_id\n",
    "GROUP BY c.country,m.genre -- Aggregate for each country and each genre\n",
    "ORDER BY c.country, m.genre;\n",
    "```"
   ]
  },
  {
   "cell_type": "markdown",
   "metadata": {},
   "source": [
    "```\n",
    "-- Group by each county and genre with OLAP extension\n",
    "SELECT \n",
    "\tc.country, \n",
    "\tm.genre, \n",
    "\tAVG(r.rating) AS avg_rating, \n",
    "\tCOUNT(*) AS num_rating\n",
    "FROM renting AS r\n",
    "LEFT JOIN movies AS m\n",
    "ON m.movie_id = r.movie_id\n",
    "LEFT JOIN customers AS c\n",
    "ON r.customer_id = c.customer_id\n",
    "GROUP BY ROLLUP(c.country, m.genre)\n",
    "ORDER BY c.country, m.genre;\n",
    "```"
   ]
  },
  {
   "cell_type": "markdown",
   "metadata": {},
   "source": [
    "# Queries with GROUPING SETS"
   ]
  },
  {
   "cell_type": "markdown",
   "metadata": {},
   "source": [
    "What question CANNOT be answered by the following query?\n",
    "```\n",
    "SELECT \n",
    "  r.customer_id, \n",
    "  m.genre, \n",
    "  AVG(r.rating), \n",
    "  COUNT(*)\n",
    "FROM renting AS r\n",
    "LEFT JOIN movies AS m\n",
    "ON r.movie_id = m.movie_id\n",
    "GROUP BY GROUPING SETS ((r.customer_id, m.genre), (r.customer_id), ());\n",
    "```"
   ]
  },
  {
   "cell_type": "markdown",
   "metadata": {},
   "source": [
    "- What is the average rating for each genre?"
   ]
  },
  {
   "cell_type": "markdown",
   "metadata": {},
   "source": [
    "# Exploring nationality and gender of actors"
   ]
  },
  {
   "cell_type": "markdown",
   "metadata": {},
   "source": [
    "For each movie in the database, the three most important actors are identified and listed in the table `actors`. This table includes the `nationality` and `gender` of the actors. We are interested in how much diversity there is in the nationalities of the actors and how many actors and actresses are in the list."
   ]
  },
  {
   "cell_type": "markdown",
   "metadata": {},
   "source": [
    "```\n",
    "SELECT \n",
    "\tnationality, -- Select nationality of the actors\n",
    "    gender, -- Select gender of the actors\n",
    "    COUNT(*) -- Count the number of actors\n",
    "FROM actors\n",
    "GROUP BY GROUPING SETS ((nationality), (gender), ()); -- Use the correct GROUPING SETS operation\n",
    "```"
   ]
  },
  {
   "cell_type": "markdown",
   "metadata": {},
   "source": [
    "# Exploring rating by country and gender"
   ]
  },
  {
   "cell_type": "markdown",
   "metadata": {},
   "source": [
    "Now you will investigate the average rating of customers aggregated by country and gender."
   ]
  },
  {
   "cell_type": "markdown",
   "metadata": {},
   "source": [
    "```\n",
    "SELECT \n",
    "\tc.country, \n",
    "    c.gender,\n",
    "\tAVG(r.rating) -- Calculate average rating\n",
    "FROM renting AS r\n",
    "LEFT JOIN customers AS c\n",
    "ON r.customer_id = c.customer_id\n",
    "GROUP BY c.country, c.gender -- Order and group by country and gender\n",
    "ORDER BY c.country, c.gender;\n",
    "```"
   ]
  },
  {
   "cell_type": "markdown",
   "metadata": {},
   "source": [
    "```\n",
    "SELECT \n",
    "\tc.country, \n",
    "    c.gender,\n",
    "\tAVG(r.rating)\n",
    "FROM renting AS r\n",
    "LEFT JOIN customers AS c\n",
    "ON r.customer_id = c.customer_id\n",
    "GROUP BY GROUPING SETS((c.country,c.gender)); -- Group by country and gender with GROUPING SETS\n",
    "```"
   ]
  },
  {
   "cell_type": "markdown",
   "metadata": {},
   "source": [
    "```\n",
    "SELECT \n",
    "\tc.country, \n",
    "    c.gender,\n",
    "\tAVG(r.rating)\n",
    "FROM renting AS r\n",
    "LEFT JOIN customers AS c\n",
    "ON r.customer_id = c.customer_id\n",
    "-- Report all info from a Pivot table for country and gender\n",
    "GROUP BY GROUPING SETS ((country, gender), (country), (gender),());\n",
    "```"
   ]
  },
  {
   "cell_type": "markdown",
   "metadata": {},
   "source": [
    "# Customer preference for genres"
   ]
  },
  {
   "cell_type": "markdown",
   "metadata": {},
   "source": [
    "You just saw that customers have no clear preference for more recent movies over older ones. Now the management considers investing money in movies of the best rated genres."
   ]
  },
  {
   "cell_type": "markdown",
   "metadata": {},
   "source": [
    "```\n",
    "SELECT *\n",
    "FROM renting AS r\n",
    "LEFT JOIN movies AS m\n",
    "ON m.movie_id = r.movie_id\n",
    "WHERE r.movie_id IN ( -- Select records of movies with at least 4 ratings\n",
    "\tSELECT movie_id\n",
    "\tFROM renting\n",
    "\tGROUP BY movie_id\n",
    "\tHAVING COUNT(rating) >= 4)\n",
    "AND r.date_renting >= '2018-04-01'; -- Select records of movie rentals since 2018-04-01\n",
    "```"
   ]
  },
  {
   "cell_type": "markdown",
   "metadata": {},
   "source": [
    "```\n",
    "SELECT m.genre, -- For each genre, calculate:\n",
    "\t   AVG(r.rating) AS avg_rating, -- The average rating and use the alias avg_rating\n",
    "\t   COUNT(r.rating) AS n_rating, -- The number of ratings and use the alias n_rating\n",
    "\t   COUNT(r.*) AS n_rentals,     -- The number of movie rentals and use the alias n_rentals\n",
    "\t   COUNT(DISTINCT r.movie_id) AS n_movies -- The number of distinct movies and use the alias n_movies\n",
    "FROM renting AS r\n",
    "LEFT JOIN movies AS m\n",
    "ON m.movie_id = r.movie_id\n",
    "WHERE r.movie_id IN ( \n",
    "\tSELECT movie_id\n",
    "\tFROM renting\n",
    "\tGROUP BY movie_id\n",
    "\tHAVING COUNT(rating) >= 3)\n",
    "AND r.date_renting >= '2018-01-01'\n",
    "GROUP BY m.genre;\n",
    "```"
   ]
  },
  {
   "cell_type": "markdown",
   "metadata": {},
   "source": [
    "```\n",
    "SELECT genre,\n",
    "\t   AVG(rating) AS avg_rating,\n",
    "\t   COUNT(rating) AS n_rating,\n",
    "       COUNT(*) AS n_rentals,     \n",
    "\t   COUNT(DISTINCT m.movie_id) AS n_movies \n",
    "FROM renting AS r\n",
    "LEFT JOIN movies AS m\n",
    "ON m.movie_id = r.movie_id\n",
    "WHERE r.movie_id IN ( \n",
    "\tSELECT movie_id\n",
    "\tFROM renting\n",
    "\tGROUP BY movie_id\n",
    "\tHAVING COUNT(rating) >= 3 )\n",
    "AND r.date_renting >= '2018-01-01'\n",
    "GROUP BY genre\n",
    "ORDER BY avg_rating DESC; -- Order the table by decreasing average rating\n",
    "```"
   ]
  },
  {
   "cell_type": "markdown",
   "metadata": {},
   "source": [
    "# Customer preference for actors"
   ]
  },
  {
   "cell_type": "markdown",
   "metadata": {},
   "source": [
    "The last aspect you have to analyze are customer preferences for certain actors."
   ]
  },
  {
   "cell_type": "markdown",
   "metadata": {},
   "source": [
    "```\n",
    "SELECT a.nationality,\n",
    "       a.gender,\n",
    "\t   AVG(r.rating) AS avg_rating, -- The average rating\n",
    "\t   COUNT(r.rating) AS n_rating, -- The number of ratings\n",
    "\t   COUNT(*) AS n_rentals, -- The number of movie rentals\n",
    "\t   COUNT(DISTINCT a.actor_id) AS n_actors -- The number of actors\n",
    "FROM renting AS r\n",
    "LEFT JOIN actsin AS ai\n",
    "ON ai.movie_id = r.movie_id\n",
    "LEFT JOIN actors AS a\n",
    "ON ai.actor_id = a.actor_id\n",
    "WHERE r.movie_id IN ( \n",
    "\tSELECT movie_id\n",
    "\tFROM renting\n",
    "\tGROUP BY movie_id\n",
    "\tHAVING COUNT(rating) >=4 )\n",
    "AND r.date_renting >= '2018-04-01'\n",
    "GROUP BY a.nationality, a.gender;\n",
    "```"
   ]
  },
  {
   "cell_type": "markdown",
   "metadata": {},
   "source": [
    "```\n",
    "SELECT a.nationality,\n",
    "       a.gender,\n",
    "\t   AVG(r.rating) AS avg_rating,\n",
    "\t   COUNT(r.rating) AS n_rating,\n",
    "\t   COUNT(*) AS n_rentals,\n",
    "\t   COUNT(DISTINCT a.actor_id) AS n_actors\n",
    "FROM renting AS r\n",
    "LEFT JOIN actsin AS ai\n",
    "ON ai.movie_id = r.movie_id\n",
    "LEFT JOIN actors AS a\n",
    "ON ai.actor_id = a.actor_id\n",
    "WHERE r.movie_id IN ( \n",
    "\tSELECT movie_id\n",
    "\tFROM renting\n",
    "\tGROUP BY movie_id\n",
    "\tHAVING COUNT(rating) >= 4)\n",
    "AND r.date_renting >= '2018-04-01'\n",
    "GROUP BY CUBE(a.nationality,a.gender); -- Provide results for all aggregation levels represented in a pivot table\n",
    "```"
   ]
  }
 ],
 "metadata": {
  "kernelspec": {
   "display_name": "Python 3.8.11 ('env_py')",
   "language": "python",
   "name": "python3"
  },
  "language_info": {
   "name": "python",
   "version": "3.8.11"
  },
  "orig_nbformat": 4,
  "vscode": {
   "interpreter": {
    "hash": "1e949e87132dd83f1a7623eb88007e3532b03b66b77111be347aa4a383049722"
   }
  }
 },
 "nbformat": 4,
 "nbformat_minor": 2
}

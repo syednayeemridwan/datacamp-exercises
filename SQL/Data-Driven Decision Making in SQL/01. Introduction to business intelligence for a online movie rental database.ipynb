{
 "cells": [
  {
   "cell_type": "markdown",
   "metadata": {},
   "source": [
    "# Exploring the database"
   ]
  },
  {
   "cell_type": "markdown",
   "metadata": {},
   "source": [
    "Explore the tables and its columns. Which of the following quantities can't be computed?"
   ]
  },
  {
   "cell_type": "markdown",
   "metadata": {},
   "source": [
    "<center><img src=\"images/01.01.jpg\"  style=\"width: 400px, height: 300px;\"/></center>"
   ]
  },
  {
   "cell_type": "markdown",
   "metadata": {},
   "source": [
    "- The number of movies with an international award."
   ]
  },
  {
   "cell_type": "markdown",
   "metadata": {},
   "source": [
    "# Exploring the table renting"
   ]
  },
  {
   "cell_type": "markdown",
   "metadata": {},
   "source": [
    "The table renting includes all records of movie rentals. Each record has a unique ID `renting_id`. It also contains information about customers (`customer_id`) and which movies they watched (`movie_id`). Furthermore, customers can give a rating after watching the movie, and the day the movie was rented is recorded."
   ]
  },
  {
   "cell_type": "markdown",
   "metadata": {},
   "source": [
    "```\n",
    "SELECT *  -- Select all\n",
    "FROM renting;        -- From table renting\n",
    "```"
   ]
  },
  {
   "cell_type": "markdown",
   "metadata": {},
   "source": [
    "```\n",
    "SELECT movie_id,  -- Select all columns needed to compute the average rating per movie\n",
    "       rating\n",
    "FROM renting;\n",
    "```"
   ]
  },
  {
   "cell_type": "markdown",
   "metadata": {},
   "source": [
    "In SQL missing values are coded with null. In which column of renting did you notice null values?"
   ]
  },
  {
   "cell_type": "markdown",
   "metadata": {},
   "source": [
    "- `rating`"
   ]
  },
  {
   "cell_type": "markdown",
   "metadata": {},
   "source": [
    "# Working with dates"
   ]
  },
  {
   "cell_type": "markdown",
   "metadata": {},
   "source": [
    "For the analysis of monthly or annual changes, it is important to select data from specific time periods. You will select records from the table `renting` of movie rentals. The format of dates is 'YYYY-MM-DD'."
   ]
  },
  {
   "cell_type": "markdown",
   "metadata": {},
   "source": [
    "```\n",
    "SELECT *\n",
    "FROM renting\n",
    "WHERE date_renting = '2018-10-09'; -- Movies rented on October 9th, 2018\n",
    "```"
   ]
  },
  {
   "cell_type": "markdown",
   "metadata": {},
   "source": [
    "```\n",
    "SELECT *\n",
    "FROM renting\n",
    "WHERE date_renting BETWEEN '2018-04-01' AND '2018-08-31'; -- from beginning April 2018 to end August 2018\n",
    "```"
   ]
  },
  {
   "cell_type": "markdown",
   "metadata": {},
   "source": [
    "```\n",
    "SELECT *\n",
    "FROM renting\n",
    "WHERE date_renting BETWEEN '2018-04-01' AND '2018-08-31'\n",
    "ORDER BY date_renting DESC; -- Order by recency in decreasing order\n",
    "```"
   ]
  },
  {
   "cell_type": "markdown",
   "metadata": {},
   "source": [
    "# Selecting movies"
   ]
  },
  {
   "cell_type": "markdown",
   "metadata": {},
   "source": [
    "The table `movies` contains all movies available on the online platform."
   ]
  },
  {
   "cell_type": "markdown",
   "metadata": {},
   "source": [
    "```\n",
    "SELECT *\n",
    "FROM movies\n",
    "WHERE genre <> 'Drama'; -- All genres except drama\n",
    "```"
   ]
  },
  {
   "cell_type": "markdown",
   "metadata": {},
   "source": [
    "```\n",
    "SELECT *\n",
    "FROM movies\n",
    "WHERE title IN ('Showtime', 'Love Actually' , 'The Fighter'); -- Select all movies with the given titles\n",
    "```"
   ]
  },
  {
   "cell_type": "markdown",
   "metadata": {},
   "source": [
    "```\n",
    "SELECT *\n",
    "FROM movies\n",
    "ORDER BY  renting_price; -- Order the movies by increasing renting price\n",
    "```"
   ]
  },
  {
   "cell_type": "markdown",
   "metadata": {},
   "source": [
    "# Select from renting"
   ]
  },
  {
   "cell_type": "markdown",
   "metadata": {},
   "source": [
    "Only some users give a rating after watching a movie. Sometimes it is interesting to explore only those movie rentals where a rating was provided."
   ]
  },
  {
   "cell_type": "markdown",
   "metadata": {},
   "source": [
    "```\n",
    "SELECT *\n",
    "FROM renting\n",
    "WHERE date_renting BETWEEN '2018-01-01' AND '2018-12-31' -- Renting in 2018\n",
    "AND rating IS NOT NULL; -- Rating exists\n",
    "```"
   ]
  },
  {
   "cell_type": "markdown",
   "metadata": {},
   "source": [
    "# Summarizing customer information"
   ]
  },
  {
   "cell_type": "markdown",
   "metadata": {},
   "source": [
    "In most business decisions customers are analyzed in groups, such as customers per country or customers per age group."
   ]
  },
  {
   "cell_type": "markdown",
   "metadata": {},
   "source": [
    "```\n",
    "SELECT COUNT(*) -- Count the total number of customers\n",
    "FROM customers\n",
    "WHERE date_of_birth BETWEEN '1980-01-01' AND '1989-12-31'; -- Select customers born between 1980-01-01 and 1989-12-31\n",
    "```"
   ]
  },
  {
   "cell_type": "markdown",
   "metadata": {},
   "source": [
    "```\n",
    "SELECT COUNT(*)   -- Count the total number of customers\n",
    "FROM customers\n",
    "WHERE country = 'Germany'; -- Select all customers from Germany\n",
    "```"
   ]
  },
  {
   "cell_type": "markdown",
   "metadata": {},
   "source": [
    "```\n",
    "SELECT COUNT(DISTINCT country )   -- Count the number of countries\n",
    "FROM customers;\n",
    "```"
   ]
  },
  {
   "cell_type": "markdown",
   "metadata": {},
   "source": [
    "# Ratings of movie 25"
   ]
  },
  {
   "cell_type": "markdown",
   "metadata": {},
   "source": [
    "The movie ratings give us insight into the preferences of our customers. Report summary statistics, such as the minimum, maximum, average, and count, of ratings for the movie with ID 25."
   ]
  },
  {
   "cell_type": "markdown",
   "metadata": {},
   "source": [
    "```\n",
    "SELECT MIN(rating) min_rating, -- Calculate the minimum rating and use alias min_rating\n",
    "\t   MAX(rating) max_rating, -- Calculate the maximum rating and use alias max_rating\n",
    "\t   AVG(rating) avg_rating, -- Calculate the average rating and use alias avg_rating\n",
    "\t   COUNT(rating) number_ratings -- Count the number of ratings and use alias number_ratings\n",
    "FROM renting\n",
    "WHERE movie_id = 25; -- Select all records of the movie with ID 25\n",
    "```"
   ]
  },
  {
   "cell_type": "markdown",
   "metadata": {},
   "source": [
    "# Examining annual rentals"
   ]
  },
  {
   "cell_type": "markdown",
   "metadata": {},
   "source": [
    "You are asked to provide a report about the development of the company. Specifically, your manager is interested in the total number of movie rentals, the total number of ratings and the average rating of all movies since the beginning of 2019."
   ]
  },
  {
   "cell_type": "markdown",
   "metadata": {},
   "source": [
    "```\n",
    "SELECT * -- Select all records of movie rentals since January 1st 2019\n",
    " FROM renting\n",
    "WHERE date_renting >= '2019-01-01'; \n",
    "```"
   ]
  },
  {
   "cell_type": "markdown",
   "metadata": {},
   "source": [
    "```\n",
    "SELECT \n",
    "\tCOUNT(*), -- Count the total number of rented movies\n",
    "\tAVG(rating) -- Add the average rating\n",
    "FROM renting\n",
    "WHERE date_renting >= '2019-01-01';\n",
    "```"
   ]
  },
  {
   "cell_type": "markdown",
   "metadata": {},
   "source": [
    "```\n",
    "SELECT \n",
    "\tCOUNT(*) number_renting, -- Give it the column name number_renting\n",
    "\tAVG(rating) average_rating  -- Give it the column name average_rating\n",
    "FROM renting\n",
    "WHERE date_renting >= '2019-01-01';\n",
    "```"
   ]
  },
  {
   "cell_type": "markdown",
   "metadata": {},
   "source": [
    "```\n",
    "SELECT \n",
    "\tCOUNT(*) AS number_renting,\n",
    "\tAVG(rating) AS average_rating, \n",
    "    COUNT(rating) AS number_ratings -- Add the total number of ratings here.\n",
    "FROM renting\n",
    "WHERE date_renting >= '2019-01-01';\n",
    "```"
   ]
  }
 ],
 "metadata": {
  "kernelspec": {
   "display_name": "Python 3.8.11 ('env_py')",
   "language": "python",
   "name": "python3"
  },
  "language_info": {
   "name": "python",
   "version": "3.8.11"
  },
  "orig_nbformat": 4,
  "vscode": {
   "interpreter": {
    "hash": "1e949e87132dd83f1a7623eb88007e3532b03b66b77111be347aa4a383049722"
   }
  }
 },
 "nbformat": 4,
 "nbformat_minor": 2
}

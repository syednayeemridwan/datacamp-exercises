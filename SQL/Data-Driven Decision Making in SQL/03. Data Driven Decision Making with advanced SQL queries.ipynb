{
 "cells": [
  {
   "cell_type": "markdown",
   "metadata": {},
   "source": [
    "# Often rented movies"
   ]
  },
  {
   "cell_type": "markdown",
   "metadata": {},
   "source": [
    "Your manager wants you to make a list of movies excluding those which are hardly ever watched. This list of movies will be used for advertising. List all movies with more than 5 views using a nested query which is a powerful tool to implement selection conditions."
   ]
  },
  {
   "cell_type": "markdown",
   "metadata": {},
   "source": [
    "```\n",
    "SELECT movie_id,COUNT(*) -- Select movie IDs with more than 5 views\n",
    "FROM renting\n",
    "GROUP BY movie_id\n",
    "HAVING COUNT(*) > 5\n",
    "```"
   ]
  },
  {
   "cell_type": "markdown",
   "metadata": {},
   "source": [
    "```\n",
    "SELECT *\n",
    "FROM movies\n",
    "WHERE movie_id IN  -- Select movie IDs from the inner query\n",
    "\t(SELECT movie_id\n",
    "\tFROM renting\n",
    "\tGROUP BY movie_id\n",
    "\tHAVING COUNT(*) > 5)\n",
    "```"
   ]
  },
  {
   "cell_type": "markdown",
   "metadata": {},
   "source": [
    "# Frequent customers"
   ]
  },
  {
   "cell_type": "markdown",
   "metadata": {},
   "source": [
    "Report a list of customers who frequently rent movies on MovieNow."
   ]
  },
  {
   "cell_type": "markdown",
   "metadata": {},
   "source": [
    "```\n",
    "SELECT *\n",
    "FROM customers\n",
    "WHERE customer_id IN            -- Select all customers with more than 10 movie rentals\n",
    "\t(SELECT customer_id\n",
    "\tFROM renting\n",
    "\tGROUP BY customer_id\n",
    "\tHAVING COUNT(*)>10);\n",
    "```"
   ]
  },
  {
   "cell_type": "markdown",
   "metadata": {},
   "source": [
    "# Movies with rating above average"
   ]
  },
  {
   "cell_type": "markdown",
   "metadata": {},
   "source": [
    "For the advertising campaign your manager also needs a list of popular movies with high ratings. Report a list of movies with rating above average"
   ]
  },
  {
   "cell_type": "markdown",
   "metadata": {},
   "source": [
    "```\n",
    "SELECT AVG(rating) -- Calculate the total average rating\n",
    "FROM renting\n",
    "```"
   ]
  },
  {
   "cell_type": "markdown",
   "metadata": {},
   "source": [
    "```\n",
    "SELECT movie_id, -- Select movie IDs and calculate the average rating \n",
    "       AVG(rating)\n",
    "FROM renting\n",
    "GROUP BY movie_id\n",
    "HAVING AVG(rating) >           -- Of movies with rating above average\n",
    "\t(SELECT AVG(rating)\n",
    "\tFROM renting);\n",
    "```"
   ]
  },
  {
   "cell_type": "markdown",
   "metadata": {},
   "source": [
    "```\n",
    "SELECT title -- Report the movie titles of all movies with average rating higher than the total average\n",
    "FROM movies\n",
    "WHERE movie_id IN\n",
    "\t(SELECT movie_id\n",
    "\t FROM renting\n",
    "     GROUP BY movie_id\n",
    "     HAVING AVG(rating) > \n",
    "\t\t(SELECT AVG(rating)\n",
    "\t\t FROM renting));\n",
    "```"
   ]
  },
  {
   "cell_type": "markdown",
   "metadata": {},
   "source": [
    "# Analyzing customer behavior"
   ]
  },
  {
   "cell_type": "markdown",
   "metadata": {},
   "source": [
    "A new advertising campaign is going to focus on customers who rented fewer than 5 movies. Use a correlated query to extract all customer information for the customers of interest."
   ]
  },
  {
   "cell_type": "markdown",
   "metadata": {},
   "source": [
    "```\n",
    "-- Count movie rentals of customer 45\n",
    "SELECT COUNT(*)\n",
    "FROM renting\n",
    "WHERE customer_id=45;\n",
    "```"
   ]
  },
  {
   "cell_type": "markdown",
   "metadata": {},
   "source": [
    "```\n",
    "-- Select customers with less than 5 movie rentals\n",
    "SELECT *\n",
    "FROM customers as c\n",
    "WHERE 5> \n",
    "\t(SELECT count(*)\n",
    "\tFROM renting as r\n",
    "\tWHERE r.customer_id = c.customer_id);\n",
    "```"
   ]
  },
  {
   "cell_type": "markdown",
   "metadata": {},
   "source": [
    "# Customers who gave low ratings"
   ]
  },
  {
   "cell_type": "markdown",
   "metadata": {},
   "source": [
    "Identify customers who were not satisfied with movies they watched on MovieNow. Report a list of customers with minimum rating smaller than 4."
   ]
  },
  {
   "cell_type": "markdown",
   "metadata": {},
   "source": [
    "```\n",
    "-- Calculate the minimum rating of customer with ID 7\n",
    "SELECT MIN(rating)\n",
    "FROM renting\n",
    "WHERE customer_id=7;\n",
    "```"
   ]
  },
  {
   "cell_type": "markdown",
   "metadata": {},
   "source": [
    "```\n",
    "SELECT *\n",
    "FROM customers AS c\n",
    "WHERE 4> -- Select all customers with a minimum rating smaller than 4 \n",
    "\t(SELECT MIN(rating)\n",
    "\tFROM renting AS r\n",
    "\tWHERE r.customer_id = c.customer_id);\n",
    "```"
   ]
  },
  {
   "cell_type": "markdown",
   "metadata": {},
   "source": [
    "# Movies and ratings with correlated queries"
   ]
  },
  {
   "cell_type": "markdown",
   "metadata": {},
   "source": [
    "Report a list of movies that received the most attention on the movie platform, (i.e. report all movies with more than 5 ratings and all movies with an average rating higher than 8)."
   ]
  },
  {
   "cell_type": "markdown",
   "metadata": {},
   "source": [
    "```\n",
    "SELECT *\n",
    "FROM movies AS m\n",
    "WHERE 5 < -- Select all movies with more than 5 ratings\n",
    "\t(SELECT COUNT(rating)\n",
    "\tFROM renting AS r\n",
    "\tWHERE r.movie_id = m.movie_id);\n",
    "```"
   ]
  },
  {
   "cell_type": "markdown",
   "metadata": {},
   "source": [
    "```\n",
    "SELECT *\n",
    "FROM movies AS m\n",
    "WHERE 8 < -- Select all movies with an average rating higher than 8\n",
    "\t(SELECT AVG(rating)\n",
    "\tFROM renting AS r\n",
    "\tWHERE r.movie_id = m.movie_id);\n",
    "\n",
    "```"
   ]
  },
  {
   "cell_type": "markdown",
   "metadata": {},
   "source": [
    "# Customers with at least one rating"
   ]
  },
  {
   "cell_type": "markdown",
   "metadata": {},
   "source": [
    "Having active customers is a key performance indicator for MovieNow. Make a list of customers who gave at least one rating."
   ]
  },
  {
   "cell_type": "markdown",
   "metadata": {},
   "source": [
    "```\n",
    "-- Select all records of movie rentals from customer with ID 115\n",
    "SELECT *\n",
    "FROM renting\n",
    "WHERE customer_id = 115;\n",
    "```"
   ]
  },
  {
   "cell_type": "markdown",
   "metadata": {},
   "source": [
    "```\n",
    "SELECT *\n",
    "FROM renting\n",
    "WHERE rating IS NOT NULL -- Exclude those with null ratings\n",
    "AND customer_id = 115;\n",
    "```"
   ]
  },
  {
   "cell_type": "markdown",
   "metadata": {},
   "source": [
    "```\n",
    "SELECT *\n",
    "FROM renting\n",
    "WHERE rating IS NOT NULL -- Exclude null ratings\n",
    "AND customer_id = 1; -- Select all ratings from customer with ID 1\n",
    "\n",
    "```"
   ]
  },
  {
   "cell_type": "markdown",
   "metadata": {},
   "source": [
    "```\n",
    "SELECT *\n",
    "FROM customers c -- Select all customers with at least one rating\n",
    "WHERE EXISTS\n",
    "\t(SELECT *\n",
    "\tFROM renting AS r\n",
    "\tWHERE rating IS NOT NULL \n",
    "\tAND r.customer_id = c.customer_id);\n",
    "```"
   ]
  },
  {
   "cell_type": "markdown",
   "metadata": {},
   "source": [
    "# Actors in comedies"
   ]
  },
  {
   "cell_type": "markdown",
   "metadata": {},
   "source": [
    "In order to analyze the diversity of actors in comedies, first, report a list of actors who play in comedies and then, the number of actors for each nationality playing in comedies."
   ]
  },
  {
   "cell_type": "markdown",
   "metadata": {},
   "source": [
    "```\n",
    "SELECT *  -- Select the records of all actors who play in a Comedy\n",
    "FROM actsin AS ai\n",
    "LEFT JOIN movies AS m\n",
    "ON ai.movie_id = m.movie_id\n",
    "WHERE m.genre = 'Comedy';\n",
    "```"
   ]
  },
  {
   "cell_type": "markdown",
   "metadata": {},
   "source": [
    "```\n",
    "SELECT *\n",
    "FROM actsin AS ai\n",
    "LEFT JOIN movies AS m\n",
    "ON m.movie_id = ai.movie_id\n",
    "WHERE m.genre = 'Comedy'\n",
    "AND ai.actor_id = 1; -- Select only the actor with ID 1\n",
    "```"
   ]
  },
  {
   "cell_type": "markdown",
   "metadata": {},
   "source": [
    "```\n",
    "SELECT *\n",
    "FROM actors AS a\n",
    "WHERE EXISTS\n",
    "\t(SELECT *\n",
    "\t FROM actsin AS ai\n",
    "\t LEFT JOIN movies AS m\n",
    "\t ON m.movie_id = ai.movie_id\n",
    "\t WHERE m.genre = 'Comedy'\n",
    "\t AND ai.actor_id = a.actor_id);\n",
    "```"
   ]
  },
  {
   "cell_type": "markdown",
   "metadata": {},
   "source": [
    "```\n",
    "SELECT a.nationality, COUNT(*) -- Report the nationality and the number of actors for each nationality\n",
    "FROM actors AS a\n",
    "WHERE EXISTS\n",
    "\t(SELECT ai.actor_id\n",
    "\t FROM actsin AS ai\n",
    "\t LEFT JOIN movies AS m\n",
    "\t ON m.movie_id = ai.movie_id\n",
    "\t WHERE m.genre = 'Comedy'\n",
    "\t AND ai.actor_id = a.actor_id)\n",
    "GROUP BY a.nationality;\n",
    "```"
   ]
  },
  {
   "cell_type": "markdown",
   "metadata": {},
   "source": [
    "# Young actors not coming from the USA"
   ]
  },
  {
   "cell_type": "markdown",
   "metadata": {},
   "source": [
    "As you've just seen, the operators `UNION` and `INTERSECT` are powerful tools when you work with two or more tables. Identify actors who are not from the USA and actors who were born after 1990."
   ]
  },
  {
   "cell_type": "markdown",
   "metadata": {},
   "source": [
    "```\n",
    "SELECT name,  -- Report the name, nationality and the year of birth\n",
    "       nationality, \n",
    "       year_of_birth\n",
    "FROM actors\n",
    "WHERE nationality <> 'USA'; -- Of all actors who are not from the USA\n",
    "```"
   ]
  },
  {
   "cell_type": "markdown",
   "metadata": {},
   "source": [
    "```\n",
    "SELECT name, \n",
    "       nationality, \n",
    "       year_of_birth\n",
    "FROM actors\n",
    "WHERE year_of_birth > 1990; -- Born after 1990\n",
    "```"
   ]
  },
  {
   "cell_type": "markdown",
   "metadata": {},
   "source": [
    "```\n",
    "SELECT name, \n",
    "       nationality, \n",
    "       year_of_birth\n",
    "FROM actors\n",
    "WHERE nationality <> 'USA'\n",
    "UNION -- Select all actors who are not from the USA and all actors who are born after 1990\n",
    "SELECT name, \n",
    "       nationality, \n",
    "       year_of_birth\n",
    "FROM actors\n",
    "WHERE year_of_birth > 1990;\n",
    "```"
   ]
  },
  {
   "cell_type": "markdown",
   "metadata": {},
   "source": [
    "```\n",
    "SELECT name, \n",
    "       nationality, \n",
    "       year_of_birth\n",
    "FROM actors\n",
    "WHERE nationality <> 'USA'\n",
    "INTERSECT -- Select all actors who are not from the USA and who are also born after 1990\n",
    "SELECT name, \n",
    "       nationality, \n",
    "       year_of_birth\n",
    "FROM actors\n",
    "WHERE year_of_birth > 1990;\n",
    "```"
   ]
  },
  {
   "cell_type": "markdown",
   "metadata": {},
   "source": [
    "# Dramas with high ratings"
   ]
  },
  {
   "cell_type": "markdown",
   "metadata": {},
   "source": [
    "The advertising team has a new focus. They want to draw the attention of the customers to dramas. Make a list of all movies that are in the drama genre and have an average rating higher than 9."
   ]
  },
  {
   "cell_type": "markdown",
   "metadata": {},
   "source": [
    "```\n",
    "SELECT movie_id -- Select the IDs of all dramas\n",
    "FROM movies\n",
    "WHERE genre='Drama';\n",
    "```"
   ]
  },
  {
   "cell_type": "markdown",
   "metadata": {},
   "source": [
    "```\n",
    "SELECT movie_id -- Select the IDs of all movies with average rating higher than 9\n",
    "FROM renting\n",
    "GROUP BY movie_id\n",
    "HAVING AVG(rating)>9;\n",
    "```"
   ]
  },
  {
   "cell_type": "markdown",
   "metadata": {},
   "source": [
    "```\n",
    "SELECT movie_id\n",
    "FROM movies\n",
    "WHERE genre = 'Drama'\n",
    "INTERSECT  -- Select the IDs of all dramas with average rating higher than 9\n",
    "SELECT movie_id\n",
    "FROM renting\n",
    "GROUP BY movie_id\n",
    "HAVING AVG(rating)>9;\n",
    "```"
   ]
  },
  {
   "cell_type": "markdown",
   "metadata": {},
   "source": [
    "```\n",
    "SELECT *\n",
    "FROM movies\n",
    "WHERE movie_id IN  -- Select all movies of genre drama with average rating higher than 9\n",
    "   (SELECT movie_id\n",
    "    FROM movies\n",
    "    WHERE genre = 'Drama'\n",
    "    INTERSECT\n",
    "    SELECT movie_id\n",
    "    FROM renting\n",
    "    GROUP BY movie_id\n",
    "    HAVING AVG(rating)>9);\n",
    "```"
   ]
  }
 ],
 "metadata": {
  "kernelspec": {
   "display_name": "Python 3.8.11 ('env_py')",
   "language": "python",
   "name": "python3"
  },
  "language_info": {
   "name": "python",
   "version": "3.8.11"
  },
  "orig_nbformat": 4,
  "vscode": {
   "interpreter": {
    "hash": "1e949e87132dd83f1a7623eb88007e3532b03b66b77111be347aa4a383049722"
   }
  }
 },
 "nbformat": 4,
 "nbformat_minor": 2
}

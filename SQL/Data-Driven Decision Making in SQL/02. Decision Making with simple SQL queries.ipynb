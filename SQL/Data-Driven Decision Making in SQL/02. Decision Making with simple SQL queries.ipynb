{
 "cells": [
  {
   "cell_type": "markdown",
   "metadata": {},
   "source": [
    "# First account for each country."
   ]
  },
  {
   "cell_type": "markdown",
   "metadata": {},
   "source": [
    "Conduct an analysis to see when the first customer accounts were created for each country."
   ]
  },
  {
   "cell_type": "markdown",
   "metadata": {},
   "source": [
    "```\n",
    "SELECT country, -- For each country report the earliest date when an account was created\n",
    "\t MIN(date_account_start) AS first_account\n",
    "FROM customers\n",
    "GROUP BY country\n",
    "ORDER BY first_account;\n",
    "```"
   ]
  },
  {
   "cell_type": "markdown",
   "metadata": {},
   "source": [
    "# Average movie ratings"
   ]
  },
  {
   "cell_type": "markdown",
   "metadata": {},
   "source": [
    "For each movie the average rating, the number of ratings and the number of views has to be reported. Generate a table with meaningful column names."
   ]
  },
  {
   "cell_type": "markdown",
   "metadata": {},
   "source": [
    "```\n",
    "SELECT movie_id, \n",
    "       AVG(rating)    -- Calculate average rating per movie\n",
    "FROM renting\n",
    "GROUP BY movie_id;\n",
    "```"
   ]
  },
  {
   "cell_type": "markdown",
   "metadata": {},
   "source": [
    "```\n",
    "SELECT movie_id, \n",
    "       AVG(rating) AS avg_rating, -- Use as alias avg_rating\n",
    "       COUNT(rating) AS number_rating,                -- Add column for number of ratings with alias number_rating\n",
    "       COUNT(*)  AS  number_renting             -- Add column for number of movie rentals with alias number_renting\n",
    "FROM renting\n",
    "GROUP BY movie_id;\n",
    "```"
   ]
  },
  {
   "cell_type": "markdown",
   "metadata": {},
   "source": [
    "```\n",
    "SELECT movie_id, \n",
    "       AVG(rating) AS avg_rating,\n",
    "       COUNT(rating) AS number_ratings,\n",
    "       COUNT(*) AS number_renting\n",
    "FROM renting\n",
    "GROUP BY movie_id\n",
    "ORDER BY avg_rating DESC; -- Order by average rating in decreasing order\n",
    "```"
   ]
  },
  {
   "cell_type": "markdown",
   "metadata": {},
   "source": [
    "- The average is `null` because all of the ratings of the movie are `null`."
   ]
  },
  {
   "cell_type": "markdown",
   "metadata": {},
   "source": [
    "# Average rating per customer"
   ]
  },
  {
   "cell_type": "markdown",
   "metadata": {},
   "source": [
    "Similar to what you just did, you will now look at the average movie ratings, this time for customers. So you will obtain a table with the average rating given by each customer. Further, you will include the number of ratings and the number of movie rentals per customer. You will report these summary statistics only for customers with more than 7 movie rentals and order them in ascending order by the average rating."
   ]
  },
  {
   "cell_type": "markdown",
   "metadata": {},
   "source": [
    "```\n",
    "SELECT customer_id, -- Report the customer_id\n",
    "      AVG(rating),  -- Report the average rating per customer\n",
    "      COUNT(rating),  -- Report the number of ratings per customer\n",
    "      COUNT(*)  -- Report the number of movie rentals per customer\n",
    "FROM renting\n",
    "GROUP BY customer_id\n",
    "HAVING COUNT(*)>7  -- Select only customers with more than 7 movie rentals\n",
    "ORDER BY AVG(rating); -- Order by the average rating in ascending order\n",
    "```"
   ]
  },
  {
   "cell_type": "markdown",
   "metadata": {},
   "source": [
    "# Join renting and customers"
   ]
  },
  {
   "cell_type": "markdown",
   "metadata": {},
   "source": [
    "For many analyses it is necessary to add customer information to the data in the table renting."
   ]
  },
  {
   "cell_type": "markdown",
   "metadata": {},
   "source": [
    "```\n",
    "SELECT * -- Join renting with customers\n",
    "FROM renting r\n",
    "LEFT JOIN customers c\n",
    "ON r.customer_id = c.customer_id;\n",
    "```"
   ]
  },
  {
   "cell_type": "markdown",
   "metadata": {},
   "source": [
    "```\n",
    "SELECT *\n",
    "FROM renting AS r\n",
    "LEFT JOIN customers AS c\n",
    "ON r.customer_id = c.customer_id\n",
    "WHERE country = 'Belgium'; -- Select only records from customers coming from Belgium\n",
    "```"
   ]
  },
  {
   "cell_type": "markdown",
   "metadata": {},
   "source": [
    "```\n",
    "SELECT AVG(rating) -- Average ratings of customers from Belgium\n",
    "FROM renting AS r\n",
    "LEFT JOIN customers AS c\n",
    "ON r.customer_id = c.customer_id\n",
    "WHERE c.country='Belgium';\n",
    "```"
   ]
  },
  {
   "cell_type": "markdown",
   "metadata": {},
   "source": [
    "# Aggregating revenue, rentals and active customers"
   ]
  },
  {
   "cell_type": "markdown",
   "metadata": {},
   "source": [
    "The management of MovieNow wants to report key performance indicators (KPIs) for the performance of the company in 2018. They are interested in measuring the financial successes as well as user engagement. Important KPIs are, therefore, the profit coming from movie rentals, the number of movie rentals and the number of active customers."
   ]
  },
  {
   "cell_type": "markdown",
   "metadata": {},
   "source": [
    "```\n",
    "SELECT *\n",
    "FROM renting AS r\n",
    "LEFT JOIN movies AS m -- Choose the correct join statment\n",
    "ON r.movie_id=m.movie_id;\n",
    "```"
   ]
  },
  {
   "cell_type": "markdown",
   "metadata": {},
   "source": [
    "```\n",
    "SELECT \n",
    "\tSUM(renting_price), -- Get the revenue from movie rentals\n",
    "\tCOUNT(renting_id), -- Count the number of rentals\n",
    "\tCOUNT(DISTINCT customer_id)  -- Count the number of customers\n",
    "FROM renting AS r\n",
    "LEFT JOIN movies AS m\n",
    "ON r.movie_id = m.movie_id;\n",
    "```"
   ]
  },
  {
   "cell_type": "markdown",
   "metadata": {},
   "source": [
    "```\n",
    "SELECT \n",
    "\tSUM(m.renting_price), \n",
    "\tCOUNT(*), \n",
    "\tCOUNT(DISTINCT r.customer_id)\n",
    "FROM renting AS r\n",
    "LEFT JOIN movies AS m\n",
    "ON r.movie_id = m.movie_id\n",
    "-- Only look at movie rentals in 2018\n",
    "WHERE date_renting BETWEEN '2018-01-01'  AND '2018-12-31' ;\n",
    "```"
   ]
  },
  {
   "cell_type": "markdown",
   "metadata": {},
   "source": [
    "# Movies and actors"
   ]
  },
  {
   "cell_type": "markdown",
   "metadata": {},
   "source": [
    "You are asked to give an overview of which actors play in which movie."
   ]
  },
  {
   "cell_type": "markdown",
   "metadata": {},
   "source": [
    "```\n",
    "SELECT title, -- Create a list of movie titles and actor names\n",
    "       name\n",
    "FROM actsin AS ai\n",
    "LEFT JOIN movies AS m\n",
    "ON m.movie_id = ai.movie_id\n",
    "LEFT JOIN actors AS a\n",
    "ON a.actor_id = ai.actor_id;\n",
    "```"
   ]
  },
  {
   "cell_type": "markdown",
   "metadata": {},
   "source": [
    "# Income from movies"
   ]
  },
  {
   "cell_type": "markdown",
   "metadata": {},
   "source": [
    "How much income did each movie generate? To answer this question subsequent `SELECT` statements can be used."
   ]
  },
  {
   "cell_type": "markdown",
   "metadata": {},
   "source": [
    "```\n",
    "SELECT title, -- Use a join to get the movie title and price for each movie rental\n",
    "       renting_price\n",
    "FROM renting AS r\n",
    "LEFT JOIN movies AS m\n",
    "ON r.movie_id=m.movie_id;\n",
    "```"
   ]
  },
  {
   "cell_type": "markdown",
   "metadata": {},
   "source": [
    "```\n",
    "SELECT rm.title, -- Report the income from movie rentals for each movie \n",
    "       SUM(rm.renting_price) AS income_movie\n",
    "FROM\n",
    "       (SELECT m.title,  \n",
    "               m.renting_price\n",
    "       FROM renting AS r\n",
    "       LEFT JOIN movies AS m\n",
    "       ON r.movie_id=m.movie_id) AS rm\n",
    "GROUP BY title\n",
    "ORDER BY income_movie DESC; -- Order the result by decreasing income\n",
    "```"
   ]
  },
  {
   "cell_type": "markdown",
   "metadata": {},
   "source": [
    "Which statement about the movie 'Django Unchained' is NOT correct?\n",
    "\n",
    "- The income from 'Django Unchained' is higher than from 'Simone'."
   ]
  },
  {
   "cell_type": "markdown",
   "metadata": {},
   "source": [
    "# Age of actors from the USA"
   ]
  },
  {
   "cell_type": "markdown",
   "metadata": {},
   "source": [
    "Now you will explore the age of American actors and actresses. Report the date of birth of the oldest and youngest US actor and actress."
   ]
  },
  {
   "cell_type": "markdown",
   "metadata": {},
   "source": [
    "```\n",
    "SELECT a.gender, -- Report for male and female actors from the USA \n",
    "       MIN(year_of_birth), -- The year of birth of the oldest actor\n",
    "       MAX(year_of_birth) -- The year of birth of the youngest actor\n",
    "FROM\n",
    "   (SELECT * -- Use a subsequen SELECT to get all information about actors from the USA\n",
    "   FROM actors\n",
    "   WHERE nationality = 'USA')  AS a-- Give the table the name a\n",
    "GROUP BY gender;\n",
    "```"
   ]
  },
  {
   "cell_type": "markdown",
   "metadata": {},
   "source": [
    "# Identify favorite movies for a group of customers"
   ]
  },
  {
   "cell_type": "markdown",
   "metadata": {},
   "source": [
    "Which is the favorite movie on MovieNow? Answer this question for a specific group of customers: for all customers born in the 70s."
   ]
  },
  {
   "cell_type": "markdown",
   "metadata": {},
   "source": [
    "```\n",
    "SELECT *\n",
    "FROM renting AS r\n",
    "LEFT JOIN customers AS c  -- Add customer information\n",
    "ON r.customer_id=c.customer_id\n",
    "LEFT JOIN movies AS m -- Add movie information\n",
    "ON m.movie_id=r.movie_id ;\n",
    "```"
   ]
  },
  {
   "cell_type": "markdown",
   "metadata": {},
   "source": [
    "```\n",
    "SELECT *\n",
    "FROM renting AS r\n",
    "LEFT JOIN customers AS c\n",
    "ON c.customer_id = r.customer_id\n",
    "LEFT JOIN movies AS m\n",
    "ON m.movie_id = r.movie_id\n",
    "WHERE date_of_birth BETWEEN '1970-01-01' AND '1979-12-31' ; -- Select customers born in the 70s\n",
    "```"
   ]
  },
  {
   "cell_type": "markdown",
   "metadata": {},
   "source": [
    "```\n",
    "SELECT m.title, \n",
    "COUNT(*), -- Report number of views per movie\n",
    "AVG(rating) -- Report the average rating per movie\n",
    "FROM renting AS r\n",
    "LEFT JOIN customers AS c\n",
    "ON c.customer_id = r.customer_id\n",
    "LEFT JOIN movies AS m\n",
    "ON m.movie_id = r.movie_id\n",
    "WHERE c.date_of_birth BETWEEN '1970-01-01' AND '1979-12-31'\n",
    "GROUP BY title;\n",
    "```"
   ]
  },
  {
   "cell_type": "markdown",
   "metadata": {},
   "source": [
    "```\n",
    "SELECT m.title, \n",
    "COUNT(*),\n",
    "AVG(r.rating)\n",
    "FROM renting AS r\n",
    "LEFT JOIN customers AS c\n",
    "ON c.customer_id = r.customer_id\n",
    "LEFT JOIN movies AS m\n",
    "ON m.movie_id = r.movie_id\n",
    "WHERE c.date_of_birth BETWEEN '1970-01-01' AND '1979-12-31'\n",
    "GROUP BY m.title\n",
    "HAVING COUNT(*)<>1 -- Remove movies with only one rental\n",
    "ORDER BY AVG(r.rating) DESC; -- Order with highest rating first\n",
    "```"
   ]
  },
  {
   "cell_type": "markdown",
   "metadata": {},
   "source": [
    "# Identify favorite actors for Spain"
   ]
  },
  {
   "cell_type": "markdown",
   "metadata": {},
   "source": [
    "You're now going to explore actor popularity in Spain. Use as alias the first letter of the table, except for the table `actsin` use `ai` instead."
   ]
  },
  {
   "cell_type": "markdown",
   "metadata": {},
   "source": [
    "```\n",
    "SELECT *\n",
    "FROM renting as r \n",
    "LEFT JOIN customers AS c  -- Augment table renting with information about customers \n",
    "ON r.customer_id=c.customer_id\n",
    "LEFT JOIN actsin AS ai  -- Augment the table renting with the table actsin\n",
    "ON ai.movie_id=r.movie_id\n",
    "LEFT JOIN actors AS a  -- Augment table renting with information about actors\n",
    "ON a.actor_id=ai.actor_id;\n",
    "```"
   ]
  },
  {
   "cell_type": "markdown",
   "metadata": {},
   "source": [
    "```\n",
    "SELECT a.name,  c.gender,\n",
    "       COUNT(*) AS number_views, \n",
    "       AVG(r.rating) AS avg_rating\n",
    "FROM renting as r\n",
    "LEFT JOIN customers AS c\n",
    "ON r.customer_id = c.customer_id\n",
    "LEFT JOIN actsin as ai\n",
    "ON r.movie_id = ai.movie_id\n",
    "LEFT JOIN actors as a\n",
    "ON ai.actor_id = a.actor_id\n",
    "\n",
    "GROUP BY a.name, c.gender -- For each actor, separately for male and female customers\n",
    "HAVING AVG(r.rating) IS NOT NULL \n",
    "AND COUNT(*) > 5 -- Report only actors with more than 5 movie rentals\n",
    "ORDER BY avg_rating DESC, number_views DESC;\n",
    "```"
   ]
  },
  {
   "cell_type": "markdown",
   "metadata": {},
   "source": [
    "```\n",
    "SELECT a.name,  c.gender,\n",
    "       COUNT(*) AS number_views, \n",
    "       AVG(r.rating) AS avg_rating\n",
    "FROM renting as r\n",
    "LEFT JOIN customers AS c\n",
    "ON r.customer_id = c.customer_id\n",
    "LEFT JOIN actsin as ai\n",
    "ON r.movie_id = ai.movie_id\n",
    "LEFT JOIN actors as a\n",
    "ON ai.actor_id = a.actor_id\n",
    "WHERE c.country = 'Spain' -- Select only customers from Spain\n",
    "GROUP BY a.name, c.gender\n",
    "HAVING AVG(r.rating) IS NOT NULL \n",
    "  AND COUNT(*) > 5 \n",
    "ORDER BY avg_rating DESC, number_views DESC;\n",
    "```"
   ]
  },
  {
   "cell_type": "markdown",
   "metadata": {},
   "source": [
    "# KPIs per country"
   ]
  },
  {
   "cell_type": "markdown",
   "metadata": {},
   "source": [
    "In chapter 1 you were asked to provide a report about the development of the company. This time you have to prepare a similar report with KPIs for each country separately. Your manager is interested in the total number of movie rentals, the average rating of all movies and the total revenue for each country since the beginning of 2019."
   ]
  },
  {
   "cell_type": "markdown",
   "metadata": {},
   "source": [
    "```\n",
    "SELECT *\n",
    "FROM renting AS r -- Augment the table renting with information about customers\n",
    "LEFT JOIN customers AS c\n",
    "ON r.customer_id=c.customer_id\n",
    "LEFT JOIN movies AS m -- Augment the table renting with information about movies\n",
    "ON m.movie_id=r.movie_id\n",
    "WHERE date_renting >= '2019-01-01'; -- Select only records about rentals since the beginning of 2019\n",
    "```"
   ]
  },
  {
   "cell_type": "markdown",
   "metadata": {},
   "source": [
    "```\n",
    "SELECT \n",
    "\tcountry,                    -- For each country report\n",
    "\tCOUNT(*) AS number_renting, -- The number of movie rentals\n",
    "\tAVG(rating) AS average_rating, -- The average rating\n",
    "\tSUM(renting_price) AS revenue         -- The revenue from movie rentals\n",
    "FROM renting AS r\n",
    "LEFT JOIN customers AS c\n",
    "ON c.customer_id = r.customer_id\n",
    "LEFT JOIN movies AS m\n",
    "ON m.movie_id = r.movie_id\n",
    "WHERE date_renting >= '2019-01-01'\n",
    "GROUP BY country;\n",
    "```"
   ]
  }
 ],
 "metadata": {
  "kernelspec": {
   "display_name": "Python 3.8.11 ('env_py')",
   "language": "python",
   "name": "python3"
  },
  "language_info": {
   "name": "python",
   "version": "3.8.11"
  },
  "orig_nbformat": 4,
  "vscode": {
   "interpreter": {
    "hash": "1e949e87132dd83f1a7623eb88007e3532b03b66b77111be347aa4a383049722"
   }
  }
 },
 "nbformat": 4,
 "nbformat_minor": 2
}

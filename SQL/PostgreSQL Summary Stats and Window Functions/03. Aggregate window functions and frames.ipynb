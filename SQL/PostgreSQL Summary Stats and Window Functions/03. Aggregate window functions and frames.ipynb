{
 "cells": [
  {
   "cell_type": "markdown",
   "metadata": {},
   "source": [
    "# Running totals of athlete medals"
   ]
  },
  {
   "cell_type": "markdown",
   "metadata": {},
   "source": [
    "The running total (or cumulative sum) of a column helps you determine what each row's contribution is to the total sum."
   ]
  },
  {
   "cell_type": "markdown",
   "metadata": {},
   "source": [
    "```\n",
    "WITH Athlete_Medals AS (\n",
    "  SELECT\n",
    "    Athlete, COUNT(*) AS Medals\n",
    "  FROM Summer_Medals\n",
    "  WHERE\n",
    "    Country = 'USA' AND Medal = 'Gold'\n",
    "    AND Year >= 2000\n",
    "  GROUP BY Athlete)\n",
    "\n",
    "SELECT\n",
    "  -- Calculate the running total of athlete medals\n",
    "  athlete,\n",
    "  medals,\n",
    "  SUM(medals) OVER (ORDER BY athlete ASC) AS Max_Medals\n",
    "FROM Athlete_Medals\n",
    "ORDER BY Athlete ASC;\n",
    "```"
   ]
  },
  {
   "cell_type": "markdown",
   "metadata": {},
   "source": [
    "# Maximum country medals by year"
   ]
  },
  {
   "cell_type": "markdown",
   "metadata": {},
   "source": [
    "Getting the maximum of a country's earned medals so far helps you determine whether a country has broken its medals record by comparing the current year's earned medals and the maximum so far."
   ]
  },
  {
   "cell_type": "markdown",
   "metadata": {},
   "source": [
    "```\n",
    "WITH Country_Medals AS (\n",
    "  SELECT\n",
    "    Year, Country, COUNT(*) AS Medals\n",
    "  FROM Summer_Medals\n",
    "  WHERE\n",
    "    Country IN ('CHN', 'KOR', 'JPN')\n",
    "    AND Medal = 'Gold' AND Year >= 2000\n",
    "  GROUP BY Year, Country)\n",
    "\n",
    "SELECT\n",
    "  -- Return the max medals earned so far per country\n",
    "  year,\n",
    "  country,\n",
    "  medals,\n",
    "  MAX(medals) OVER (PARTITION BY country\n",
    "                ORDER BY year ASC) AS Max_Medals\n",
    "FROM Country_Medals\n",
    "ORDER BY Country ASC, Year ASC;\n",
    "```"
   ]
  },
  {
   "cell_type": "markdown",
   "metadata": {},
   "source": [
    "# Minimum country medals by year"
   ]
  },
  {
   "cell_type": "markdown",
   "metadata": {},
   "source": [
    "you've seen MAX and SUM, aggregate functions normally used with GROUP BY, being used as window functions. You can also use the other aggregate functions, like MIN, as window functions."
   ]
  },
  {
   "cell_type": "markdown",
   "metadata": {},
   "source": [
    "```\n",
    "WITH France_Medals AS (\n",
    "  SELECT\n",
    "    Year, COUNT(*) AS Medals\n",
    "  FROM Summer_Medals\n",
    "  WHERE\n",
    "    Country = 'FRA'\n",
    "    AND Medal = 'Gold' AND Year >= 2000\n",
    "  GROUP BY Year)\n",
    "\n",
    "SELECT\n",
    "  Year,\n",
    "  Medals,\n",
    "  MIN(Medals) OVER (ORDER BY Year ASC) AS Min_Medals\n",
    "FROM France_Medals\n",
    "ORDER BY Year ASC;\n",
    "```"
   ]
  },
  {
   "cell_type": "markdown",
   "metadata": {},
   "source": [
    "# Number of rows in a frame"
   ]
  },
  {
   "cell_type": "markdown",
   "metadata": {},
   "source": [
    "How many rows does the following frame span?\n",
    "\n",
    "`ROWS BETWEEN 3 PRECEDING AND 2 FOLLOWING`"
   ]
  },
  {
   "cell_type": "markdown",
   "metadata": {},
   "source": [
    "- 6 (3 rows preceding the current row, the current row itself, and the two rows after it.)"
   ]
  },
  {
   "cell_type": "markdown",
   "metadata": {},
   "source": [
    "# Moving maximum of Scandinavian athletes' medals"
   ]
  },
  {
   "cell_type": "markdown",
   "metadata": {},
   "source": [
    "Frames allow you to restrict the rows passed as input to your window function to a sliding window for you to define the start and finish.\n",
    "\n",
    "Adding a frame to your window function allows you to calculate \"moving\" metrics, inputs of which slide from row to row."
   ]
  },
  {
   "cell_type": "markdown",
   "metadata": {},
   "source": [
    "```\n",
    "WITH Scandinavian_Medals AS (\n",
    "  SELECT\n",
    "    Year, COUNT(*) AS Medals\n",
    "  FROM Summer_Medals\n",
    "  WHERE\n",
    "    Country IN ('DEN', 'NOR', 'FIN', 'SWE', 'ISL')\n",
    "    AND Medal = 'Gold'\n",
    "  GROUP BY Year)\n",
    "\n",
    "SELECT\n",
    "  -- Select each year's medals\n",
    "  year,\n",
    "  Medals,\n",
    "  -- Get the max of the current and next years'  medals\n",
    "  MAX(medals) OVER (ORDER BY year ASC\n",
    "             ROWS BETWEEN CURRENT ROW\n",
    "             AND 1 FOLLOWING) AS Max_Medals\n",
    "FROM Scandinavian_Medals\n",
    "ORDER BY Year ASC;\n",
    "```"
   ]
  },
  {
   "cell_type": "markdown",
   "metadata": {},
   "source": [
    "# Moving maximum of Chinese athletes' medals"
   ]
  },
  {
   "cell_type": "markdown",
   "metadata": {},
   "source": [
    "Frames allow you to \"peek\" forwards or backward without first using the relative fetching functions, LAG and LEAD, to fetch previous rows' values into the current row."
   ]
  },
  {
   "cell_type": "markdown",
   "metadata": {},
   "source": [
    "```\n",
    "WITH Chinese_Medals AS (\n",
    "  SELECT\n",
    "    Athlete, COUNT(*) AS Medals\n",
    "  FROM Summer_Medals\n",
    "  WHERE\n",
    "    Country = 'CHN' AND Medal = 'Gold'\n",
    "    AND Year >= 2000\n",
    "  GROUP BY Athlete)\n",
    "\n",
    "SELECT\n",
    "  -- Select the athletes and the medals they've earned\n",
    "  Athlete,\n",
    "  Medals,\n",
    "  -- Get the max of the last two and current rows' medals \n",
    "  MAX(Medals) OVER (ORDER BY Athlete ASC\n",
    "            ROWS BETWEEN 2 PRECEDING\n",
    "            AND CURRENT ROW) AS Max_Medals\n",
    "FROM Chinese_Medals\n",
    "ORDER BY Athlete ASC;\n",
    "```"
   ]
  },
  {
   "cell_type": "markdown",
   "metadata": {},
   "source": [
    "# Moving average's frame"
   ]
  },
  {
   "cell_type": "markdown",
   "metadata": {},
   "source": [
    "If you want your moving average to cover the last 3 and current Olympic games, how would you define its frame?"
   ]
  },
  {
   "cell_type": "markdown",
   "metadata": {},
   "source": [
    "- `ROWS BETWEEN 3 PRECEDING AND CURRENT ROW`"
   ]
  },
  {
   "cell_type": "markdown",
   "metadata": {},
   "source": [
    "# Moving average of Russian medals"
   ]
  },
  {
   "cell_type": "markdown",
   "metadata": {},
   "source": [
    "Using frames with aggregate window functions allow you to calculate many common metrics, including moving averages and totals. These metrics track the change in performance over time."
   ]
  },
  {
   "cell_type": "markdown",
   "metadata": {},
   "source": [
    "```\n",
    "WITH Russian_Medals AS (\n",
    "  SELECT\n",
    "    Year, COUNT(*) AS Medals\n",
    "  FROM Summer_Medals\n",
    "  WHERE\n",
    "    Country = 'RUS'\n",
    "    AND Medal = 'Gold'\n",
    "    AND Year >= 1980\n",
    "  GROUP BY Year)\n",
    "\n",
    "SELECT\n",
    "  Year, Medals,\n",
    "  --- Calculate the 3-year moving average of medals earned\n",
    "  AVG(Medals) OVER\n",
    "    (ORDER BY Year ASC\n",
    "     ROWS BETWEEN\n",
    "     2 PRECEDING AND CURRENT ROW) AS Medals_MA\n",
    "FROM Russian_Medals\n",
    "ORDER BY Year ASC;\n",
    "```"
   ]
  },
  {
   "cell_type": "markdown",
   "metadata": {},
   "source": [
    "# Moving total of countries' medals"
   ]
  },
  {
   "cell_type": "markdown",
   "metadata": {},
   "source": [
    "What if your data is split into multiple groups spread over one or more columns in the table? Even with a defined frame, if you can't somehow separate the groups' data, one group's values will affect the average of another group's values."
   ]
  },
  {
   "cell_type": "markdown",
   "metadata": {},
   "source": [
    "```\n",
    "WITH Country_Medals AS (\n",
    "  SELECT\n",
    "    Year, Country, COUNT(*) AS Medals\n",
    "  FROM Summer_Medals\n",
    "  GROUP BY Year, Country)\n",
    "\n",
    "SELECT\n",
    "  Year, Country, Medals,\n",
    "  -- Calculate each country's 3-game moving total\n",
    "  SUM(Medals) OVER\n",
    "    (PARTITION BY country\n",
    "     ORDER BY Year ASC\n",
    "     ROWS BETWEEN\n",
    "     2 PRECEDING AND CURRENT ROW) AS Medals_MA\n",
    "FROM Country_Medals\n",
    "ORDER BY Country ASC, Year ASC;\n",
    "```"
   ]
  }
 ],
 "metadata": {
  "kernelspec": {
   "display_name": "Python 3.8.11 ('env_py')",
   "language": "python",
   "name": "python3"
  },
  "language_info": {
   "name": "python",
   "version": "3.8.11"
  },
  "orig_nbformat": 4,
  "vscode": {
   "interpreter": {
    "hash": "1e949e87132dd83f1a7623eb88007e3532b03b66b77111be347aa4a383049722"
   }
  }
 },
 "nbformat": 4,
 "nbformat_minor": 2
}

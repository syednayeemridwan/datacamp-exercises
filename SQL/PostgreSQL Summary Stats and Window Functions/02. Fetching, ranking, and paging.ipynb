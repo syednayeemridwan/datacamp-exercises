{
 "cells": [
  {
   "cell_type": "markdown",
   "metadata": {},
   "source": [
    "# Future gold medalists"
   ]
  },
  {
   "cell_type": "markdown",
   "metadata": {},
   "source": [
    "Fetching functions allow you to get values from different parts of the table into one row. If you have time-ordered data, you can \"peek into the future\" with the LEAD fetching function. This is especially useful if you want to compare a current value to a future value."
   ]
  },
  {
   "cell_type": "markdown",
   "metadata": {},
   "source": [
    "```\n",
    "WITH Discus_Medalists AS (\n",
    "  SELECT DISTINCT\n",
    "    Year,\n",
    "    Athlete\n",
    "  FROM Summer_Medals\n",
    "  WHERE Medal = 'Gold'\n",
    "    AND Event = 'Discus Throw'\n",
    "    AND Gender = 'Women'\n",
    "    AND Year >= 2000)\n",
    "\n",
    "SELECT\n",
    "  -- For each year, fetch the current and future medalists\n",
    "  year,\n",
    "  athlete,\n",
    "  LEAD(athlete,3) OVER (ORDER BY year ASC) AS Future_Champion\n",
    "FROM Discus_Medalists\n",
    "ORDER BY Year ASC;\n",
    "```"
   ]
  },
  {
   "cell_type": "markdown",
   "metadata": {},
   "source": [
    "# First athlete by name"
   ]
  },
  {
   "cell_type": "markdown",
   "metadata": {},
   "source": [
    "It's often useful to get the first or last value in a dataset to compare all other values to it. With absolute fetching functions like FIRST_VALUE, you can fetch a value at an absolute position in the table, like its beginning or end."
   ]
  },
  {
   "cell_type": "markdown",
   "metadata": {},
   "source": [
    "```\n",
    "WITH All_Male_Medalists AS (\n",
    "  SELECT DISTINCT\n",
    "    Athlete\n",
    "  FROM Summer_Medals\n",
    "  WHERE Medal = 'Gold'\n",
    "    AND Gender = 'Men')\n",
    "\n",
    "SELECT\n",
    "  -- Fetch all athletes and the first athlete alphabetically\n",
    "  athlete,\n",
    "  FIRST_VALUE(athlete) OVER (\n",
    "    ORDER BY athlete ASC\n",
    "  ) AS First_Athlete\n",
    "FROM All_Male_Medalists;\n",
    "```"
   ]
  },
  {
   "cell_type": "markdown",
   "metadata": {},
   "source": [
    "# Last country by name"
   ]
  },
  {
   "cell_type": "markdown",
   "metadata": {},
   "source": [
    "You can get the last row's value. This is often useful when you want to compare the most recent value to previous values."
   ]
  },
  {
   "cell_type": "markdown",
   "metadata": {},
   "source": [
    "```\n",
    "WITH Hosts AS (\n",
    "  SELECT DISTINCT Year, City\n",
    "    FROM Summer_Medals)\n",
    "\n",
    "SELECT\n",
    "  Year,\n",
    "  City,\n",
    "  -- Get the last city in which the Olympic games were held\n",
    "  LAST_VALUE(city) OVER (\n",
    "   ORDER BY year ASC\n",
    "   RANGE BETWEEN\n",
    "     UNBOUNDED PRECEDING AND\n",
    "     UNBOUNDED FOLLOWING\n",
    "  ) AS Last_City\n",
    "FROM Hosts\n",
    "ORDER BY Year ASC;\n",
    "```"
   ]
  },
  {
   "cell_type": "markdown",
   "metadata": {},
   "source": [
    "# Ranking athletes by medals earned"
   ]
  },
  {
   "cell_type": "markdown",
   "metadata": {},
   "source": [
    "you used ROW_NUMBER to rank athletes by awarded medals. However, ROW_NUMBER assigns different numbers to athletes with the same count of awarded medals, so it's not a useful ranking function; if two athletes earned the same number of medals, they should have the same rank."
   ]
  },
  {
   "cell_type": "markdown",
   "metadata": {},
   "source": [
    "```\n",
    "WITH Athlete_Medals AS (\n",
    "  SELECT\n",
    "    Athlete,\n",
    "    COUNT(*) AS Medals\n",
    "  FROM Summer_Medals\n",
    "  GROUP BY Athlete)\n",
    "\n",
    "SELECT\n",
    "  Athlete,\n",
    "  Medals,\n",
    "  -- Rank athletes by the medals they've won\n",
    "  RANK() OVER (ORDER BY medals DESC) AS Rank_N\n",
    "FROM Athlete_Medals\n",
    "ORDER BY Medals DESC;\n",
    "```"
   ]
  },
  {
   "cell_type": "markdown",
   "metadata": {},
   "source": [
    "# Ranking athletes from multiple countries"
   ]
  },
  {
   "cell_type": "markdown",
   "metadata": {},
   "source": [
    "you used RANK to assign rankings to one group of athletes. In real-world data, however, you'll often find numerous groups within your data. Without partitioning your data, one group's values will influence the rankings of the others.\n",
    "\n",
    "Also, while RANK skips numbers in case of identical values, the most natural way to assign rankings is not to skip numbers. If two countries are tied for second place, the country after them is considered to be third by most people."
   ]
  },
  {
   "cell_type": "markdown",
   "metadata": {},
   "source": [
    "```\n",
    "WITH Athlete_Medals AS (\n",
    "  SELECT\n",
    "    Country, Athlete, COUNT(*) AS Medals\n",
    "  FROM Summer_Medals\n",
    "  WHERE\n",
    "    Country IN ('JPN', 'KOR')\n",
    "    AND Year >= 2000\n",
    "  GROUP BY Country, Athlete\n",
    "  HAVING COUNT(*) > 1)\n",
    "\n",
    "SELECT\n",
    "  Country,\n",
    "  -- Rank athletes in each country by the medals they've won\n",
    "  Athlete,\n",
    "  DENSE_RANK() OVER (PARTITION BY country\n",
    "                ORDER BY Medals DESC) AS Rank_N\n",
    "FROM Athlete_Medals\n",
    "ORDER BY Country ASC, RANK_N ASC;\n",
    "```"
   ]
  },
  {
   "cell_type": "markdown",
   "metadata": {},
   "source": [
    "# DENSE_RANK's output"
   ]
  },
  {
   "cell_type": "markdown",
   "metadata": {},
   "source": [
    "You have the following table:\n",
    "```\n",
    "| Country | Medals |\n",
    "|---------|--------|\n",
    "| IRN     | 23     |\n",
    "| IRQ     | 19     |\n",
    "| LBN     | 19     |\n",
    "| SYR     | 19     |\n",
    "| BHR     | 7      |\n",
    "| KSA     | 3      |\n",
    "```\n",
    "If you were to use DENSE_RANK to order the Medals column in descending order, what rank would BHR be assigned?"
   ]
  },
  {
   "cell_type": "markdown",
   "metadata": {},
   "source": [
    "- 3"
   ]
  },
  {
   "cell_type": "markdown",
   "metadata": {},
   "source": [
    "# Paging events"
   ]
  },
  {
   "cell_type": "markdown",
   "metadata": {},
   "source": [
    "There are exactly 666 unique events in the Summer Medals Olympics dataset. If you want to chunk them up to analyze them piece by piece, you'll need to split the events into groups of approximately equal size."
   ]
  },
  {
   "cell_type": "markdown",
   "metadata": {},
   "source": [
    "```\n",
    "WITH Events AS (\n",
    "  SELECT DISTINCT Event\n",
    "  FROM Summer_Medals)\n",
    "  \n",
    "SELECT\n",
    "  --- Split up the distinct events into 111 unique groups\n",
    "  event,\n",
    "  NTILE(111) OVER (ORDER BY event ASC) AS Page\n",
    "FROM Events\n",
    "ORDER BY Event ASC;\n",
    "```"
   ]
  },
  {
   "cell_type": "markdown",
   "metadata": {},
   "source": [
    "# Top, middle, and bottom thirds"
   ]
  },
  {
   "cell_type": "markdown",
   "metadata": {},
   "source": [
    "Splitting your data into thirds or quartiles is often useful to understand how the values in your dataset are spread. Getting summary statistics (averages, sums, standard deviations, etc.) of the top, middle, and bottom thirds can help you determine what distribution your values follow."
   ]
  },
  {
   "cell_type": "markdown",
   "metadata": {},
   "source": [
    "```\n",
    "WITH Athlete_Medals AS (\n",
    "  SELECT Athlete, COUNT(*) AS Medals\n",
    "  FROM Summer_Medals\n",
    "  GROUP BY Athlete\n",
    "  HAVING COUNT(*) > 1),\n",
    "  \n",
    "  Thirds AS (\n",
    "  SELECT\n",
    "    Athlete,\n",
    "    Medals,\n",
    "    NTILE(3) OVER (ORDER BY Medals DESC) AS Third\n",
    "  FROM Athlete_Medals)\n",
    "  \n",
    "SELECT\n",
    "  -- Get the average medals earned in each third\n",
    "  Third,\n",
    "  AVG(Medals) AS Avg_Medals\n",
    "FROM Thirds\n",
    "GROUP BY Third\n",
    "ORDER BY Third ASC;\n",
    "```"
   ]
  }
 ],
 "metadata": {
  "kernelspec": {
   "display_name": "Python 3.8.11 ('env_py')",
   "language": "python",
   "name": "python3"
  },
  "language_info": {
   "name": "python",
   "version": "3.8.11"
  },
  "orig_nbformat": 4,
  "vscode": {
   "interpreter": {
    "hash": "1e949e87132dd83f1a7623eb88007e3532b03b66b77111be347aa4a383049722"
   }
  }
 },
 "nbformat": 4,
 "nbformat_minor": 2
}

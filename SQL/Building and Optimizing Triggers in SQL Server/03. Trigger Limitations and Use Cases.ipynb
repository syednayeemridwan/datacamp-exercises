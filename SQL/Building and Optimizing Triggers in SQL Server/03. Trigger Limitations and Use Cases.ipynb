{
 "cells": [
  {
   "cell_type": "markdown",
   "metadata": {},
   "source": [
    "# Trigger limitations"
   ]
  },
  {
   "cell_type": "markdown",
   "metadata": {},
   "source": [
    "What are some known trigger limitations?"
   ]
  },
  {
   "cell_type": "markdown",
   "metadata": {},
   "source": [
    "- Triggers are invisible to client applications and difficult to debug.\n",
    "- Triggers are difficult to test and troubleshoot when they are too complex.\n",
    "- Triggers can degrade the server's performance when overused."
   ]
  },
  {
   "cell_type": "markdown",
   "metadata": {},
   "source": [
    "# Creating a report on existing triggers"
   ]
  },
  {
   "cell_type": "markdown",
   "metadata": {},
   "source": [
    "Taking on the responsibility of administrating the database for the Fresh Fruit Delivery company also means keeping an eye on existing triggers.\n",
    "\n",
    "The best approach is to have a report that can be run regularly and outputs details of the existing triggers.\n",
    "\n",
    "This will ensure you have a good overview of the triggers and give you access to some interesting information."
   ]
  },
  {
   "cell_type": "markdown",
   "metadata": {},
   "source": [
    "```\n",
    "-- Gather information about database triggers\n",
    "SELECT name AS TriggerName,\n",
    "\t   parent_class_desc AS TriggerType,\n",
    "\t   create_date AS CreateDate,\n",
    "\t   modify_date AS LastModifiedDate,\n",
    "\t   is_disabled AS Disabled,\n",
    "\t   is_instead_of_trigger AS InsteadOfTrigger,\n",
    "       -- Get the trigger definition by using a function\n",
    "\t   OBJECT_DEFINITION (object_id)\n",
    "FROM sys.triggers\n",
    "UNION ALL\n",
    "-- Gather information about server triggers\n",
    "SELECT name AS TriggerName,\n",
    "\t   parent_class_desc AS TriggerType,\n",
    "\t   create_date AS CreateDate,\n",
    "\t   modify_date AS LastModifiedDate,\n",
    "\t   is_disabled AS Disabled,\n",
    "\t   0 AS InsteadOfTrigger,\n",
    "       -- Get the trigger definition by using a function\n",
    "\t   OBJECT_DEFINITION (object_id)\n",
    "FROM sys.server_triggers\n",
    "ORDER BY TriggerName;\n",
    "```"
   ]
  },
  {
   "cell_type": "markdown",
   "metadata": {},
   "source": [
    "# Keeping a history of row changes"
   ]
  },
  {
   "cell_type": "markdown",
   "metadata": {},
   "source": [
    "The Fresh Fruit Delivery company needs to track changes made to the `Customers` table.\n",
    "\n",
    "You are asked to create a new trigger that covers any statements modifying rows in the table."
   ]
  },
  {
   "cell_type": "markdown",
   "metadata": {},
   "source": [
    "```\n",
    "-- Create a trigger to keep row history\n",
    "CREATE TRIGGER CopyCustomersToHistory\n",
    "ON Customers\n",
    "-- Fire the trigger for new and updated rows\n",
    "AFTER INSERT, UPDATE\n",
    "AS\n",
    "\tINSERT INTO CustomersHistory (CustomerID, Customer, ContractID, ContractDate, Address, PhoneNo, Email, ChangeDate)\n",
    "\tSELECT CustomerID, Customer, ContractID, ContractDate, Address, PhoneNo, Email, GETDATE()\n",
    "    -- Get info from the special table that keeps new rows\n",
    "    FROM inserted;\n",
    "```"
   ]
  },
  {
   "cell_type": "markdown",
   "metadata": {},
   "source": [
    "# Table auditing using triggers"
   ]
  },
  {
   "cell_type": "markdown",
   "metadata": {},
   "source": [
    "The company has decided to keep track of changes made to all the most important tables. One of those tables is `Orders`.\n",
    "\n",
    "Any modification made to the content of Orders should be inserted into `TablesAudit`."
   ]
  },
  {
   "cell_type": "markdown",
   "metadata": {},
   "source": [
    "```\n",
    "-- Add a trigger that tracks table changes\n",
    "CREATE TRIGGER OrdersAudit\n",
    "ON Orders\n",
    "AFTER INSERT, UPDATE, DELETE\n",
    "AS\n",
    "\tDECLARE @Insert BIT = 0;\n",
    "\tDECLARE @Delete BIT = 0;\n",
    "\tIF EXISTS (SELECT * FROM inserted) SET @Insert = 1;\n",
    "\tIF EXISTS (SELECT * FROM deleted) SET @Delete = 1;\n",
    "\tINSERT INTO TablesAudit (TableName, EventType, UserAccount, EventDate)\n",
    "\tSELECT 'Orders' AS TableName\n",
    "\t       ,CASE WHEN @Insert = 1 AND @Delete = 0 THEN 'INSERT'\n",
    "\t\t\t\t WHEN @Insert = 1 AND @Delete = 1 THEN 'UPDATE'\n",
    "\t\t\t\t WHEN @Insert = 0 AND @Delete = 1 THEN 'DELETE'\n",
    "\t\t\t\t END AS Event\n",
    "\t\t   ,ORIGINAL_LOGIN() AS UserAccount\n",
    "\t\t   ,GETDATE() AS EventDate;\n",
    "```"
   ]
  },
  {
   "cell_type": "markdown",
   "metadata": {},
   "source": [
    "# Preventing changes to Products"
   ]
  },
  {
   "cell_type": "markdown",
   "metadata": {},
   "source": [
    "The Fresh Fruit Delivery company doesn't want regular users to be able to change product information or the actual stock."
   ]
  },
  {
   "cell_type": "markdown",
   "metadata": {},
   "source": [
    "```\n",
    "-- Prevent any product changes\n",
    "CREATE TRIGGER PreventProductChanges\n",
    "ON Products\n",
    "INSTEAD OF UPDATE\n",
    "AS\n",
    "\tRAISERROR ('Updates of products are not permitted. Contact the database administrator if a change is needed.', 16, 1);\n",
    "```"
   ]
  },
  {
   "cell_type": "markdown",
   "metadata": {},
   "source": [
    "# Checking stock before placing orders"
   ]
  },
  {
   "cell_type": "markdown",
   "metadata": {},
   "source": [
    "On multiple occasions, customers have placed orders for products when the company didn't have enough stock to fulfill the orders.\n",
    "\n",
    "This issue can be easily fixed by adding a new trigger with conditional logic for its actions.\n",
    "\n",
    "The trigger should fire when new rows are added to the `Orders` table and check if the company has sufficient stock of the specified products to fulfill those orders.\n",
    "\n",
    "If there is sufficient stock, the trigger will then perform the same `INSERT` operation like the one that fired it—only this time, the values will be taken from the `inserted` special table."
   ]
  },
  {
   "cell_type": "markdown",
   "metadata": {},
   "source": [
    "```\n",
    "-- Create a new trigger to confirm stock before ordering\n",
    "CREATE TRIGGER ConfirmStock\n",
    "ON Orders\n",
    "INSTEAD OF INSERT\n",
    "AS\n",
    "\tIF EXISTS (SELECT *\n",
    "\t\t\t   FROM Products AS p\n",
    "\t\t\t   INNER JOIN inserted AS i ON i.Product = p.Product\n",
    "\t\t\t   WHERE p.Quantity < i.Quantity)\n",
    "\tBEGIN\n",
    "\t\tRAISERROR ('You cannot place orders when there is no stock for the order''s product.', 16, 1);\n",
    "\tEND\n",
    "\tELSE\n",
    "\tBEGIN\n",
    "\t\tINSERT INTO Orders (OrderID, Customer, Product, Price, Currency, Quantity, WithDiscount, Discount, OrderDate, TotalAmount, Dispatched)\n",
    "\t\tSELECT OrderID, Customer, Product, Price, Currency, Quantity, WithDiscount, Discount, OrderDate, TotalAmount, Dispatched FROM inserted;\n",
    "\tEND;\n",
    "```"
   ]
  },
  {
   "cell_type": "markdown",
   "metadata": {},
   "source": [
    "# Database auditing"
   ]
  },
  {
   "cell_type": "markdown",
   "metadata": {},
   "source": [
    "Your next task is to develop a new trigger to audit database object changes.\n",
    "\n",
    "You need to create the trigger at the database level. You can use the `DDL_TABLE_VIEW_EVENTS` group event to fire the trigger. This group event includes any database operation involving tables, views, indexes, or statistics. By using the group event, you do not need to specify all the events individually.\n",
    "\n",
    "The trigger will insert details about the firing statement (event, user, query, etc.) into the `DatabaseAudit` table."
   ]
  },
  {
   "cell_type": "markdown",
   "metadata": {},
   "source": [
    "```\n",
    "-- Create a new trigger\n",
    "CREATE TRIGGER DatabaseAudit\n",
    "-- Attach the trigger at the database level\n",
    "ON DATABASE\n",
    "-- Fire the trigger for all tables/ views events\n",
    "FOR DDL_TABLE_VIEW_EVENTS\n",
    "AS\n",
    "\tINSERT INTO DatabaseAudit (EventType, DatabaseName, SchemaName, Object, ObjectType, UserAccount, Query, EventTime)\n",
    "\tSELECT EVENTDATA().value('(/EVENT_INSTANCE/EventType)[1]', 'NVARCHAR(50)') AS EventType\n",
    "\t\t  ,EVENTDATA().value('(/EVENT_INSTANCE/DatabaseName)[1]', 'NVARCHAR(50)') AS DatabaseName\n",
    "\t\t  ,EVENTDATA().value('(/EVENT_INSTANCE/SchemaName)[1]', 'NVARCHAR(50)') AS SchemaName\n",
    "\t\t  ,EVENTDATA().value('(/EVENT_INSTANCE/ObjectName)[1]', 'NVARCHAR(100)') AS Object\n",
    "\t\t  ,EVENTDATA().value('(/EVENT_INSTANCE/ObjectType)[1]', 'NVARCHAR(50)') AS ObjectType\n",
    "\t\t  ,EVENTDATA().value('(/EVENT_INSTANCE/LoginName)[1]', 'NVARCHAR(100)') AS UserAccount\n",
    "\t\t  ,EVENTDATA().value('(/EVENT_INSTANCE/TSQLCommand/CommandText)[1]', 'NVARCHAR(MAX)') AS Query\n",
    "\t\t  ,EVENTDATA().value('(/EVENT_INSTANCE/PostTime)[1]', 'DATETIME') AS EventTime;\n",
    "```"
   ]
  },
  {
   "cell_type": "markdown",
   "metadata": {},
   "source": [
    "# Preventing server changes"
   ]
  },
  {
   "cell_type": "markdown",
   "metadata": {},
   "source": [
    "The company is also asking you to find a method to prevent databases from being mistakenly deleted by employees.\n",
    "\n",
    "After a detailed analysis, you decide to use a trigger to fulfill the request.\n",
    "\n",
    "The trigger will roll back any attempts to delete databases."
   ]
  },
  {
   "cell_type": "markdown",
   "metadata": {},
   "source": [
    "```\n",
    "-- Create a trigger to prevent database deletion\n",
    "CREATE TRIGGER PreventDatabaseDelete\n",
    "-- Attach the trigger at the server level\n",
    "ON ALL SERVER\n",
    "FOR DROP_DATABASE\n",
    "AS\n",
    "   PRINT 'You are not allowed to remove existing databases.';\n",
    "   ROLLBACK;\n",
    "```"
   ]
  }
 ],
 "metadata": {
  "kernelspec": {
   "display_name": "Python 3.8.11 ('env_py')",
   "language": "python",
   "name": "python3"
  },
  "language_info": {
   "name": "python",
   "version": "3.8.11"
  },
  "orig_nbformat": 4,
  "vscode": {
   "interpreter": {
    "hash": "1e949e87132dd83f1a7623eb88007e3532b03b66b77111be347aa4a383049722"
   }
  }
 },
 "nbformat": 4,
 "nbformat_minor": 2
}

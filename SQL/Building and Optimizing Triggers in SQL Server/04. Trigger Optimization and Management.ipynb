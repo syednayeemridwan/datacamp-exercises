{
 "cells": [
  {
   "cell_type": "markdown",
   "metadata": {},
   "source": [
    "# Removing unwanted triggers"
   ]
  },
  {
   "cell_type": "markdown",
   "metadata": {},
   "source": [
    "After some time, the Fresh Fruit Delivery company notices that some of the triggers they requested are no longer needed. Their workflow has changed and not all of the triggers are used now.\n",
    "\n",
    "It's a good practice to have your database clean and up-to-date. Unused objects should always be removed after proper confirmation from the involved parties.\n",
    "\n",
    "The company calls to ask you to help them remove the unused triggers."
   ]
  },
  {
   "cell_type": "markdown",
   "metadata": {},
   "source": [
    "```\n",
    "-- Remove the trigger\n",
    "DROP TRIGGER PreventNewDiscounts;\n",
    "```"
   ]
  },
  {
   "cell_type": "markdown",
   "metadata": {},
   "source": [
    "```\n",
    "-- Remove the database trigger\n",
    "DROP TRIGGER PreventTableDeletion\n",
    "ON DATABASE;\n",
    "```"
   ]
  },
  {
   "cell_type": "markdown",
   "metadata": {},
   "source": [
    "```\n",
    "-- Remove the server trigger\n",
    "DROP TRIGGER DisallowLinkedServers\n",
    "ON ALL SERVER;\n",
    "```"
   ]
  },
  {
   "cell_type": "markdown",
   "metadata": {},
   "source": [
    "# Modifying a trigger's definition"
   ]
  },
  {
   "cell_type": "markdown",
   "metadata": {},
   "source": [
    "A member of the Sales team has noticed that one of the triggers attached to the `Discounts` table is showing a message with the word \"allowed\" missing."
   ]
  },
  {
   "cell_type": "markdown",
   "metadata": {},
   "source": [
    "```\n",
    "-- Fix the typo in the trigger message\n",
    "ALTER TRIGGER PreventDiscountsDelete\n",
    "ON Discounts\n",
    "INSTEAD OF DELETE\n",
    "AS\n",
    "\tPRINT 'You are not allowed to remove data from the Discounts table.';\n",
    "```"
   ]
  },
  {
   "cell_type": "markdown",
   "metadata": {},
   "source": [
    "# Disabling a trigger"
   ]
  },
  {
   "cell_type": "markdown",
   "metadata": {},
   "source": [
    "Fresh Fruit Delivery needs to make some changes to a couple of rows in the `Orders` table.\n",
    "\n",
    "Earlier they asked for a trigger to prevent unwanted changes to the `Orders` table, but now that trigger is stopping them from making the necessary modifications.\n",
    "\n",
    "You are asked to help them with the situation by temporarily stopping that trigger from firing."
   ]
  },
  {
   "cell_type": "markdown",
   "metadata": {},
   "source": [
    "```\n",
    "-- Pause the trigger execution\n",
    "DISABLE TRIGGER PreventOrdersUpdate\n",
    "ON Orders;\n",
    "```"
   ]
  },
  {
   "cell_type": "markdown",
   "metadata": {},
   "source": [
    "# Re-enabling a disabled trigger"
   ]
  },
  {
   "cell_type": "markdown",
   "metadata": {},
   "source": [
    "You helped the company update the `Orders` table by disabling the `PreventOrdersUpdate` trigger. Now they want the trigger to be active again to ensure no unwanted modifications are made to the table"
   ]
  },
  {
   "cell_type": "markdown",
   "metadata": {},
   "source": [
    "```\n",
    "-- Resume the trigger execution\n",
    "ENABLE TRIGGER PreventOrdersUpdate\n",
    "ON Orders;\n",
    "```"
   ]
  },
  {
   "cell_type": "markdown",
   "metadata": {},
   "source": [
    "# Managing existing triggers"
   ]
  },
  {
   "cell_type": "markdown",
   "metadata": {},
   "source": [
    "Fresh Fruit Delivery has asked you to act as the main administrator of their database.\n",
    "\n",
    "A best practice when taking over an existing database is to get familiar with all the existing objects.\n",
    "\n",
    "You'd like to start by looking at the existing triggers."
   ]
  },
  {
   "cell_type": "markdown",
   "metadata": {},
   "source": [
    "```\n",
    "-- Get the disabled triggers\n",
    "SELECT name,\n",
    "\t   object_id,\n",
    "\t   parent_class_desc\n",
    "FROM sys.triggers\n",
    "WHERE is_disabled = 1;\n",
    "```"
   ]
  },
  {
   "cell_type": "markdown",
   "metadata": {},
   "source": [
    "```\n",
    "-- Check for unchanged server triggers\n",
    "SELECT *\n",
    "FROM sys.server_triggers\n",
    "WHERE create_date = modify_date;\n",
    "```"
   ]
  },
  {
   "cell_type": "markdown",
   "metadata": {},
   "source": [
    "```\n",
    "-- Get the database triggers\n",
    "SELECT *\n",
    "FROM sys.triggers\n",
    "WHERE parent_class_desc = 'DATABASE';\n",
    "```"
   ]
  },
  {
   "cell_type": "markdown",
   "metadata": {},
   "source": [
    "# Counting the AFTER triggers"
   ]
  },
  {
   "cell_type": "markdown",
   "metadata": {},
   "source": [
    "During your analysis of the database, you decide you'd like to have an overview of how many `AFTER` triggers exist.\n",
    "\n",
    "You use the `sys.triggers` view to count the `AFTER` triggers.\n",
    "\n",
    "How many triggers are there?"
   ]
  },
  {
   "cell_type": "markdown",
   "metadata": {},
   "source": [
    "```\n",
    "SELECT COUNT(DISTINCT name) FROM sys.triggers\n",
    "WHERE is_instead_of_trigger = 0\n",
    "```\n",
    "- 11"
   ]
  },
  {
   "cell_type": "markdown",
   "metadata": {},
   "source": [
    "# Keeping track of trigger executions"
   ]
  },
  {
   "cell_type": "markdown",
   "metadata": {},
   "source": [
    "One important factor when monitoring triggers is to have a history of their execution. This allows you to associate the timings between trigger runs and any issues that occur in the database.\n",
    "\n",
    "If the times match, it's possible that the problems were caused by the trigger.\n",
    "\n",
    "SQL Server provides information about the execution of any triggers that are currently stored in memory in the `sys.dm_exec_trigger_stats` view. But once a trigger is removed from the memory, any information about it is removed from the view as well, so you lose the trigger execution history.\n",
    "\n",
    "To overcome this limitation, you decide to make use of the `TriggerAudit` table to store information about any attempts to modify rows in the `Orders` table, because people have reported the table is often unresponsive"
   ]
  },
  {
   "cell_type": "markdown",
   "metadata": {},
   "source": [
    "```\n",
    "-- Modify the trigger to add new functionality\n",
    "ALTER TRIGGER PreventOrdersUpdate\n",
    "ON Orders\n",
    "-- Prevent any row changes\n",
    "INSTEAD OF UPDATE\n",
    "AS\n",
    "\t-- Keep history of trigger executions\n",
    "\tINSERT INTO TriggerAudit (TriggerName, ExecutionDate)\n",
    "\tSELECT 'PreventOrdersUpdate', \n",
    "           GETDATE();\n",
    "\n",
    "\tRAISERROR ('Updates on \"Orders\" table are not permitted.\n",
    "                Place a new order to add new products.', 16, 1);\n",
    "```"
   ]
  },
  {
   "cell_type": "markdown",
   "metadata": {},
   "source": [
    "# Identifying problematic triggers"
   ]
  },
  {
   "cell_type": "markdown",
   "metadata": {},
   "source": [
    "You've identified an issue when placing new orders in the company's sales system.\n",
    "\n",
    "The issue is related to a trigger run, but you don't have many details on the triggers themselves. Unfortunately, the database objects (including triggers) are not documented.\n",
    "\n",
    "You need to identify the trigger that's causing the problem to proceed with the investigation. To be sure, you need to gather some important details about the triggers.\n",
    "\n",
    "The only information you have when starting the investigation is that the table related to the issues is `Orders`."
   ]
  },
  {
   "cell_type": "markdown",
   "metadata": {},
   "source": [
    "```\n",
    "-- Get the table ID\n",
    "SELECT object_id AS TableID\n",
    "FROM sys.objects\n",
    "WHERE name = 'Orders';\n",
    "```"
   ]
  },
  {
   "cell_type": "markdown",
   "metadata": {},
   "source": [
    "```\n",
    "-- Get the trigger name\n",
    "SELECT t.name AS TriggerName\n",
    "FROM sys.objects AS o\n",
    "-- Join with the triggers table\n",
    "INNER JOIN sys.triggers AS t ON t.parent_id = o.object_id\n",
    "WHERE o.name = 'Orders';\n",
    "```"
   ]
  },
  {
   "cell_type": "markdown",
   "metadata": {},
   "source": [
    "```\n",
    "SELECT t.name AS TriggerName\n",
    "FROM sys.objects AS o\n",
    "INNER JOIN sys.triggers AS t ON t.parent_id = o.object_id\n",
    "-- Get the trigger events\n",
    "INNER JOIN sys.trigger_events AS te ON te.object_id = t.object_id\n",
    "WHERE o.name = 'Orders'\n",
    "-- Filter for triggers reacting to new rows\n",
    "AND te.type_desc = 'UPDATE';\n",
    "```"
   ]
  },
  {
   "cell_type": "markdown",
   "metadata": {},
   "source": [
    "```\n",
    "SELECT t.name AS TriggerName,\n",
    "\t   OBJECT_DEFINITION(t.object_id) AS TriggerDefinition\n",
    "FROM sys.objects AS o\n",
    "INNER JOIN sys.triggers AS t ON t.parent_id = o.object_id\n",
    "INNER JOIN sys.trigger_events AS te ON te.object_id = t.object_id\n",
    "WHERE o.name = 'Orders'\n",
    "AND te.type_desc = 'UPDATE';\n",
    "```"
   ]
  }
 ],
 "metadata": {
  "kernelspec": {
   "display_name": "Python 3.8.11 ('env_py')",
   "language": "python",
   "name": "python3"
  },
  "language_info": {
   "name": "python",
   "version": "3.8.11"
  },
  "orig_nbformat": 4,
  "vscode": {
   "interpreter": {
    "hash": "1e949e87132dd83f1a7623eb88007e3532b03b66b77111be347aa4a383049722"
   }
  }
 },
 "nbformat": 4,
 "nbformat_minor": 2
}

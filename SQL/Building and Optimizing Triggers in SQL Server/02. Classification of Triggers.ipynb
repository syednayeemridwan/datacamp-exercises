{
 "cells": [
  {
   "cell_type": "markdown",
   "metadata": {},
   "source": [
    "# Tracking retired products"
   ]
  },
  {
   "cell_type": "markdown",
   "metadata": {},
   "source": [
    "As shown in the example from the video, Fresh Fruit Delivery needs to keep track of any retired products in a dedicated history table (`RetiredProducts`).\n",
    "\n",
    "You are asked to create a new trigger that fires when rows are removed from the `Products` table.\n",
    "\n",
    "The information about the removed rows will be saved into the `RetiredProducts` table."
   ]
  },
  {
   "cell_type": "markdown",
   "metadata": {},
   "source": [
    "```\n",
    "-- Create the trigger\n",
    "CREATE TRIGGER TrackRetiredProducts\n",
    "ON Products\n",
    "AFTER DELETE\n",
    "AS\n",
    "\tINSERT INTO RetiredProducts (Product, Measure)\n",
    "\tSELECT Product, Measure\n",
    "\tFROM deleted;\n",
    "```"
   ]
  },
  {
   "cell_type": "markdown",
   "metadata": {},
   "source": [
    "# The TrackRetiredProducts trigger in action"
   ]
  },
  {
   "cell_type": "markdown",
   "metadata": {},
   "source": [
    "Once you've created a trigger, it's always a good idea to see if it performs as expected.\n",
    "\n",
    "The company's request for the trigger created earlier was based on a real need: they want to retire several products from their offering. This means you can check the trigger in action."
   ]
  },
  {
   "cell_type": "markdown",
   "metadata": {},
   "source": [
    "```\n",
    "-- Remove the products that will be retired\n",
    "DELETE FROM Products\n",
    "WHERE Product IN ('Cloudberry', 'Guava', 'Nance', 'Yuzu');\n",
    "\n",
    "-- Verify the output of the history table\n",
    "SELECT * FROM RetiredProducts;\n",
    "```"
   ]
  },
  {
   "cell_type": "markdown",
   "metadata": {},
   "source": [
    "# Practicing with AFTER triggers"
   ]
  },
  {
   "cell_type": "markdown",
   "metadata": {},
   "source": [
    "Fresh Fruit Delivery company is happy with your services, and they've decided to keep working with you.\n",
    "\n",
    "You have been given the task to create new triggers on some tables, with the following requirements:\n",
    "\n",
    "- Keep track of canceled orders (rows deleted from the `Orders` table). Their details will be kept in the table `CanceledOrders` upon removal.\n",
    "\n",
    "- Keep track of discount changes in the table `Discounts`. Both the old and the new values will be copied to the `DiscountsHistory` table.\n",
    "\n",
    "- Send an email to the Sales team via the `SendEmailtoSales` stored procedure when a new order is placed."
   ]
  },
  {
   "cell_type": "markdown",
   "metadata": {},
   "source": [
    "```\n",
    "-- Create a new trigger for canceled orders\n",
    "CREATE TRIGGER KeepCanceledOrders\n",
    "ON Orders\n",
    "AFTER DELETE\n",
    "AS \n",
    "\tINSERT INTO CanceledOrders\n",
    "\tSELECT * FROM deleted;\n",
    "```"
   ]
  },
  {
   "cell_type": "markdown",
   "metadata": {},
   "source": [
    "```\n",
    "-- Create a new trigger to keep track of discounts\n",
    "CREATE TRIGGER CustomerDiscountHistory\n",
    "ON Discounts\n",
    "AFTER UPDATE\n",
    "AS\n",
    "\t-- Store old and new values into the `DiscountsHistory` table\n",
    "\tINSERT INTO DiscountsHistory (Customer, OldDiscount, NewDiscount, ChangeDate)\n",
    "\tSELECT i.Customer, d.Discount, i.Discount, GETDATE()\n",
    "\tFROM inserted AS i\n",
    "\tINNER JOIN deleted AS d ON i.Customer = d.Customer;\n",
    "```"
   ]
  },
  {
   "cell_type": "markdown",
   "metadata": {},
   "source": [
    "```\n",
    "-- Notify the Sales team of new orders\n",
    "CREATE TRIGGER NewOrderAlert\n",
    "ON Orders\n",
    "AFTER INSERT\n",
    "AS\n",
    "\tEXECUTE SendEmailtoSales;\n",
    "```"
   ]
  },
  {
   "cell_type": "markdown",
   "metadata": {},
   "source": [
    "# Preventing changes to orders"
   ]
  },
  {
   "cell_type": "markdown",
   "metadata": {},
   "source": [
    "Fresh Fruit Delivery needs to prevent changes from being made to the `Orders` table.\n",
    "\n",
    "Any attempt to do so should not be permitted and an error should be shown instead."
   ]
  },
  {
   "cell_type": "markdown",
   "metadata": {},
   "source": [
    "```\n",
    "-- Create the trigger\n",
    "CREATE TRIGGER PreventOrdersUpdate\n",
    "ON Orders\n",
    "INSTEAD OF UPDATE\n",
    "AS\n",
    "\tRAISERROR ('Updates on \"Orders\" table are not permitted.\n",
    "                Place a new order to add new products.', 16, 1);\n",
    "```"
   ]
  },
  {
   "cell_type": "markdown",
   "metadata": {},
   "source": [
    "# PreventOrdersUpdate in action"
   ]
  },
  {
   "cell_type": "markdown",
   "metadata": {},
   "source": [
    "Let's see what the newly created trigger does when you try to update some rows in the `Orders` table.\n",
    "\n",
    "Run the following script to change the order quantity to 700 for order number 425:\n",
    "\n",
    "`UPDATE Orders SET Quantity = 700 WHERE OrderID = 425;`\n",
    "\n",
    "What happens when you run the code?"
   ]
  },
  {
   "cell_type": "markdown",
   "metadata": {},
   "source": [
    "- The query results pane shows an error thrown by the new trigger."
   ]
  },
  {
   "cell_type": "markdown",
   "metadata": {},
   "source": [
    "# Creating the PreventNewDiscounts trigger"
   ]
  },
  {
   "cell_type": "markdown",
   "metadata": {},
   "source": [
    "The company doesn't want regular users to add discounts. Only the Sales Manager should be able to do that.\n",
    "\n",
    "To prevent such changes, you need to create a new trigger called `PreventNewDiscounts`.\n",
    "\n",
    "The trigger should be attached to the `Discounts` table and prevent new rows from being added to the table."
   ]
  },
  {
   "cell_type": "markdown",
   "metadata": {},
   "source": [
    "```\n",
    "-- Create a new trigger\n",
    "CREATE TRIGGER PreventNewDiscounts\n",
    "ON Discounts\n",
    "INSTEAD OF INSERT\n",
    "AS\n",
    "\tRAISERROR ('You are not allowed to add discounts for existing customers.\n",
    "                Contact the Sales Manager for more details.', 16, 1);\n",
    "```"
   ]
  },
  {
   "cell_type": "markdown",
   "metadata": {},
   "source": [
    "# Tracking table changes"
   ]
  },
  {
   "cell_type": "markdown",
   "metadata": {},
   "source": [
    "You need to create a new trigger at the database level that logs modifications to the table `TablesChangeLog`.\n",
    "\n",
    "The trigger should fire when tables are created, modified, or deleted."
   ]
  },
  {
   "cell_type": "markdown",
   "metadata": {},
   "source": [
    "```\n",
    "-- Create the trigger to log table info\n",
    "CREATE TRIGGER TrackTableChanges\n",
    "ON DATABASE\n",
    "FOR CREATE_TABLE,\n",
    "\tALTER_TABLE,\n",
    "\tDROP_TABLE\n",
    "AS\n",
    "\tINSERT INTO TablesChangeLog (EventData, ChangedBy)\n",
    "    VALUES (EVENTDATA(), USER);\n",
    "```"
   ]
  },
  {
   "cell_type": "markdown",
   "metadata": {},
   "source": [
    "# Using FOR in a trigger"
   ]
  },
  {
   "cell_type": "markdown",
   "metadata": {},
   "source": [
    "What is the purpose of the `FOR` clause when used in a trigger definition?"
   ]
  },
  {
   "cell_type": "markdown",
   "metadata": {},
   "source": [
    "- `FOR` is a synonym of `AFTER` and performs the trigger's set of actions after the triggering event finishes."
   ]
  },
  {
   "cell_type": "markdown",
   "metadata": {},
   "source": [
    "# Preventing table deletion"
   ]
  },
  {
   "cell_type": "markdown",
   "metadata": {},
   "source": [
    "Fresh Fruit Delivery wants to prevent its regular employees from deleting tables from the database."
   ]
  },
  {
   "cell_type": "markdown",
   "metadata": {},
   "source": [
    "```\n",
    "-- Add a trigger to disable the removal of tables\n",
    "CREATE TRIGGER PreventTableDeletion\n",
    "ON DATABASE\n",
    "FOR DROP_TABLE\n",
    "AS\n",
    "\tRAISERROR ('You are not allowed to remove tables from this database.', 16, 1);\n",
    "    -- Revert the statement that removes the table\n",
    "    ROLLBACK;\n",
    "```"
   ]
  },
  {
   "cell_type": "markdown",
   "metadata": {},
   "source": [
    "# Enhancing database security"
   ]
  },
  {
   "cell_type": "markdown",
   "metadata": {},
   "source": [
    "Recently, several inconsistencies have been discovered on the Fresh Fruit Delivery company's database server.\n",
    "\n",
    "The IT Security team does not have an auditing process to find out when users are connecting to the database and track breaking changes back to the responsible user.\n",
    "\n",
    "You are asked to help the Security team by implementing a new trigger based on their requirements.\n",
    "\n",
    "Due to the complexity of this request, you should build the `INSERT` statement in the first step and use it to create the trigger in the second step."
   ]
  },
  {
   "cell_type": "markdown",
   "metadata": {},
   "source": [
    "```\n",
    "-- Create a trigger firing when users log on to the server\n",
    "CREATE TRIGGER LogonAudit\n",
    "-- Use ALL SERVER to create a server-level trigger\n",
    "ON ALL SERVER WITH EXECUTE AS 'sa'\n",
    "-- The trigger should fire after a logon\n",
    "FOR LOGON\n",
    "AS\n",
    "\t-- Save user details in the audit table\n",
    "\tINSERT INTO ServerLogonLog (LoginName, LoginDate, SessionID, SourceIPAddress)\n",
    "\tSELECT ORIGINAL_LOGIN(), GETDATE(), @@SPID, client_net_address\n",
    "\tFROM SYS.DM_EXEC_CONNECTIONS WHERE session_id = @@SPID;\n",
    "```"
   ]
  },
  {
   "cell_type": "markdown",
   "metadata": {},
   "source": [
    "# Defining a logon trigger"
   ]
  },
  {
   "cell_type": "markdown",
   "metadata": {},
   "source": [
    "Which characteristics can be set when creating a logon trigger?"
   ]
  },
  {
   "cell_type": "markdown",
   "metadata": {},
   "source": [
    "- The trigger name / The set of actions to be performed"
   ]
  }
 ],
 "metadata": {
  "kernelspec": {
   "display_name": "Python 3.8.11 ('env_py')",
   "language": "python",
   "name": "python3"
  },
  "language_info": {
   "name": "python",
   "version": "3.8.11"
  },
  "orig_nbformat": 4,
  "vscode": {
   "interpreter": {
    "hash": "1e949e87132dd83f1a7623eb88007e3532b03b66b77111be347aa4a383049722"
   }
  }
 },
 "nbformat": 4,
 "nbformat_minor": 2
}

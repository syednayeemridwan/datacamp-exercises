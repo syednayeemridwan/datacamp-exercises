{
 "cells": [
  {
   "cell_type": "markdown",
   "metadata": {},
   "source": [
    "# Types of trigger"
   ]
  },
  {
   "cell_type": "markdown",
   "metadata": {},
   "source": [
    "Data Manipulation Language (DML) triggers are executed when a user or process tries to modify data in a given table. A trigger can be fired in response to these statements.\n",
    "\n",
    "What are the three DML statements that can be used to fire triggers?"
   ]
  },
  {
   "cell_type": "markdown",
   "metadata": {},
   "source": [
    "- `DELETE` / `INSERT` / `UPDATE`"
   ]
  },
  {
   "cell_type": "markdown",
   "metadata": {},
   "source": [
    "# Creating your first trigger"
   ]
  },
  {
   "cell_type": "markdown",
   "metadata": {},
   "source": [
    "You have been hired by the company Fresh Fruit Delivery to help secure their database and ensure data integrity. The company sells fresh fruit to other online shops, and they use several tables to keep track of stock and placed orders.\n",
    "\n",
    "One of their tables (`Discounts`) specifies the discount amount that shops receive when placing large orders. A deletion of several hundred rows happened at some point in the past when one of their employees removed some orders by mistake. They need a new trigger on the `Discounts` table to prevent `DELETE` statements related to the table, and this is where you can help."
   ]
  },
  {
   "cell_type": "markdown",
   "metadata": {},
   "source": [
    "```\n",
    "-- Create a new trigger that fires when deleting data\n",
    "CREATE TRIGGER PreventDiscountsDelete\n",
    "ON Discounts\n",
    "-- The trigger should fire instead of DELETE\n",
    "INSTEAD OF DELETE\n",
    "AS\n",
    "\tPRINT 'You are not allowed to delete data from the Discounts table.';\n",
    "```"
   ]
  },
  {
   "cell_type": "markdown",
   "metadata": {},
   "source": [
    "# Practicing creating triggers"
   ]
  },
  {
   "cell_type": "markdown",
   "metadata": {},
   "source": [
    "The Fresh Fruit Delivery company needs help creating a new trigger called `OrdersUpdatedRows` on the `Orders` table.\n",
    "\n",
    "This trigger will be responsible for filling in a historical table (`OrdersUpdate`) where information about the updated rows is kept.\n",
    "\n",
    "A historical table is often used in practice to store information that has been altered in the original table. In this example, changes to orders will be saved into `OrdersUpdate` to be used by the company for auditing purposes."
   ]
  },
  {
   "cell_type": "markdown",
   "metadata": {},
   "source": [
    "```\n",
    "-- Set up a new trigger\n",
    "CREATE TRIGGER OrdersUpdatedRows\n",
    "ON Orders\n",
    "-- The trigger should fire after UPDATE statements\n",
    "AFTER UPDATE\n",
    "-- Add the AS keyword before the trigger body\n",
    "AS\n",
    "\t-- Insert details about the changes to a dedicated table\n",
    "\tINSERT INTO OrdersUpdate(OrderID, OrderDate, ModifyDate)\n",
    "\tSELECT OrderID, OrderDate, GETDATE()\n",
    "\tFROM inserted;\n",
    "```"
   ]
  },
  {
   "cell_type": "markdown",
   "metadata": {},
   "source": [
    "# When to use triggers"
   ]
  },
  {
   "cell_type": "markdown",
   "metadata": {},
   "source": [
    "Triggers are a good way to execute additional actions when changes occur in your database.\n",
    "\n",
    "Triggers can also be used to prevent changes and execute different actions instead.\n",
    "\n",
    "Which of the following could be valid use cases for triggers?"
   ]
  },
  {
   "cell_type": "markdown",
   "metadata": {},
   "source": [
    "- To send an email to the Sales team when a new order is added to the Orders table\n",
    "- To copy the modified rows to a history table when an update occurs on the Products table\n",
    "- To deny the creation of a new database in SQL Server"
   ]
  },
  {
   "cell_type": "markdown",
   "metadata": {},
   "source": [
    "# Creating a trigger to keep track of data changes"
   ]
  },
  {
   "cell_type": "markdown",
   "metadata": {},
   "source": [
    "The Fresh Fruit Delivery company needs to keep track of any new items added to the `Products` table. You can do this by using a trigger.\n",
    "\n",
    "The new trigger will store the name, price, and first introduced date for new items into a `ProductsHistory` table."
   ]
  },
  {
   "cell_type": "markdown",
   "metadata": {},
   "source": [
    "```\n",
    "-- Create a new trigger\n",
    "CREATE TRIGGER ProductsNewItems\n",
    "ON Products\n",
    "AFTER INSERT\n",
    "AS\n",
    "\t-- Add details to the history table\n",
    "\tINSERT INTO ProductsHistory(Product, Price, Currency, FirstAdded)\n",
    "\tSELECT Product, Price, Currency, GETDATE()\n",
    "\tFROM inserted;\n",
    "```"
   ]
  },
  {
   "cell_type": "markdown",
   "metadata": {},
   "source": [
    "# Triggers vs. stored procedures"
   ]
  },
  {
   "cell_type": "markdown",
   "metadata": {},
   "source": [
    "One important task when you take ownership of an existing database is to familiarize yourself with the objects that comprise the database.\n",
    "\n",
    "This task includes getting to know existing procedures, functions, and triggers.\n",
    "\n",
    "You find the following objects in the Fresh Fruit Delivery database:\n",
    "\n",
    "- The company uses a regular stored procedure, `MonthlyOrders`, for reporting purposes. The stored procedure sums up order amounts for each product every month.\n",
    "\n",
    "- The trigger `CustomerDiscountHistory` is used to keep a history of the changes that occur in the `Discounts` table. The trigger is fired when updates are made to the `Discounts` table, and it stores the old and new values from the `Discount` column into the table `DiscountsHistory`."
   ]
  },
  {
   "cell_type": "markdown",
   "metadata": {},
   "source": [
    "```\n",
    "-- Run an update for some of the discounts\n",
    "UPDATE Discounts\n",
    "SET Discount = Discount + 1\n",
    "WHERE Discount <= 5;\n",
    "\n",
    "-- Verify the trigger ran successfully\n",
    "SELECT * FROM DiscountsHistory;\n",
    "```"
   ]
  },
  {
   "cell_type": "markdown",
   "metadata": {},
   "source": [
    "```\n",
    "EXECUTE MonthlyOrders;\n",
    "UPDATE Discounts SET Discount = Discount + 1 WHERE Discount <= 5\n",
    "```"
   ]
  },
  {
   "cell_type": "markdown",
   "metadata": {},
   "source": [
    "- Triggers can only be fired by the corresponding event, while regular stored procedures can be executed explicitly when needed.\n"
   ]
  },
  {
   "cell_type": "markdown",
   "metadata": {},
   "source": [
    "# Triggers vs. computed columns"
   ]
  },
  {
   "cell_type": "markdown",
   "metadata": {},
   "source": [
    "While continuing your analysis of the database, you find two other interesting objects:\n",
    "\n",
    "- The table `SalesWithPrice` has a column that calculates the `TotalAmount` as `Quantity * Price`. This is done using a computed column which uses columns from the same table for the calculation.\n",
    "\n",
    "- The trigger `SalesCalculateTotalAmount` was created on the `SalesWithoutPrice` table. The `Price` column is not part of the `SalesWithoutPrice` table, so a computed column cannot be used for the `TotalAmount`. The trigger overcomes this limitation by using the `Price` column from the `Products` table."
   ]
  },
  {
   "cell_type": "markdown",
   "metadata": {},
   "source": [
    "```\n",
    "-- Add the following rows to the table\n",
    "INSERT INTO SalesWithPrice (Customer, Product, Price, Currency, Quantity)\n",
    "VALUES ('Fruit Mag', 'Pomelo', 1.12, 'USD', 200),\n",
    "\t   ('VitaFruit', 'Avocado', 2.67, 'USD', 400),\n",
    "\t   ('Tasty Fruits', 'Blackcurrant', 2.32, 'USD', 1100),\n",
    "\t   ('Health Mag', 'Kiwi', 1.42, 'USD', 100),\n",
    "\t   ('eShop', 'Plum', 1.1, 'USD', 500);\n",
    "\n",
    "-- Verify the results after adding the new rows\n",
    "SELECT * FROM SalesWithPrice;\n",
    "```"
   ]
  },
  {
   "cell_type": "markdown",
   "metadata": {},
   "source": [
    "```\n",
    "-- Add the following rows to the table\n",
    "INSERT INTO SalesWithoutPrice (Customer, Product, Currency, Quantity)\n",
    "VALUES ('Fruit Mag', 'Pomelo', 'USD', 200),\n",
    "\t   ('VitaFruit', 'Avocado', 'USD', 400),\n",
    "\t   ('Tasty Fruits', 'Blackcurrant', 'USD', 1100),\n",
    "\t   ('Health Mag', 'Kiwi', 'USD', 100),\n",
    "\t   ('eShop', 'Plum', 'USD', 500);\n",
    "\n",
    "-- Verify the results after the INSERT\n",
    "SELECT * FROM SalesWithoutPrice;\n",
    "```"
   ]
  },
  {
   "cell_type": "markdown",
   "metadata": {},
   "source": [
    "- A computed column cannot use columns from other tables for the calculation."
   ]
  }
 ],
 "metadata": {
  "kernelspec": {
   "display_name": "Python 3.8.11 ('env_py')",
   "language": "python",
   "name": "python3"
  },
  "language_info": {
   "name": "python",
   "version": "3.8.11"
  },
  "orig_nbformat": 4,
  "vscode": {
   "interpreter": {
    "hash": "1e949e87132dd83f1a7623eb88007e3532b03b66b77111be347aa4a383049722"
   }
  }
 },
 "nbformat": 4,
 "nbformat_minor": 2
}

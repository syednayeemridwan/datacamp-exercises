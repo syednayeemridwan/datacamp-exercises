{
 "cells": [
  {
   "cell_type": "markdown",
   "metadata": {},
   "source": [
    "# Matching data representations and categories"
   ]
  },
  {
   "cell_type": "markdown",
   "metadata": {},
   "source": [
    "Choosing the proper data type for representing the data to be stored in a database is an important aspect of database development. This choice has ramifications for how the data can be used, how much space is required to store the data, and how resilient the database is to the introduction of erroneous data."
   ]
  },
  {
   "cell_type": "markdown",
   "metadata": {},
   "source": [
    "<img src=\"images/01.02.jpg\" style=\"width:800px;height:300px;\">"
   ]
  },
  {
   "cell_type": "markdown",
   "metadata": {},
   "source": [
    "# Choosing data types at table creation"
   ]
  },
  {
   "cell_type": "markdown",
   "metadata": {},
   "source": [
    "It is best to specify the data type for a column when the table is initially created. The type can be changed later. However, this change may have unintended consequences if the column contains previously populated values."
   ]
  },
  {
   "cell_type": "markdown",
   "metadata": {},
   "source": [
    "```\n",
    "-- Create the project table\n",
    "CREATE TABLE project (\n",
    "\t-- Unique identifier for projects\n",
    "\tid SERIAL PRIMARY KEY,\n",
    "    -- Whether or not project is franchise opportunity\n",
    "\tis_franchise BOOLEAN DEFAULT FALSE,\n",
    "\t-- Franchise name if project is franchise opportunity\n",
    "    franchise_name TEXT DEFAULT NULL,\n",
    "    -- State where project will reside\n",
    "    project_state TEXT,\n",
    "    -- County in state where project will reside\n",
    "    project_county TEXT,\n",
    "    -- District number where project will reside\n",
    "    congressional_district NUMERIC,\n",
    "    -- Amount of jobs projected to be created\n",
    "    jobs_supported NUMERIC\n",
    ");\n",
    "```"
   ]
  },
  {
   "cell_type": "markdown",
   "metadata": {},
   "source": [
    "# Matching text types"
   ]
  },
  {
   "cell_type": "markdown",
   "metadata": {},
   "source": [
    "While there are a small number of text data types in PostgreSQL, each type is best utilized for representing character sequences with different characteristics. These differences are subtle in the case of using a VARCHAR(N) column versus a CHAR(N) column. However, there are benefits to be realized by making the correct choice. "
   ]
  },
  {
   "cell_type": "markdown",
   "metadata": {},
   "source": [
    "<img src=\"images/02.05.jpg\" style=\"width:800px;height:400px;\">\n"
   ]
  },
  {
   "cell_type": "markdown",
   "metadata": {},
   "source": [
    "# SBA appeals table"
   ]
  },
  {
   "cell_type": "markdown",
   "metadata": {},
   "source": [
    "In managing the SBA database, it would be helpful for applicants that were denied a loan to have an electronic appeal process that would allow the rejected loan application to be reconsidered. "
   ]
  },
  {
   "cell_type": "markdown",
   "metadata": {},
   "source": [
    "```\n",
    "-- Create the appeal table\n",
    "CREATE TABLE appeal (\n",
    "    -- Specify the unique identifier column\n",
    "\tid SERIAL NOT NULL,\n",
    "    -- Define a column for holding the text of the appeals\n",
    "    content TEXT NOT NULL\n",
    ");\n",
    "```"
   ]
  },
  {
   "cell_type": "markdown",
   "metadata": {},
   "source": [
    "# Using integer types"
   ]
  },
  {
   "cell_type": "markdown",
   "metadata": {},
   "source": [
    "The Small Business Administration through its local Small Business Development Centers (SBDC) provides advising and technical support for entrepreneurs and small businesses. Given the importance of having an online presence, the SBA is starting an initiative to help small businesses with e-commerce website development. You have been brought in to develop a database to store data on these development efforts."
   ]
  },
  {
   "cell_type": "markdown",
   "metadata": {},
   "source": [
    "```\n",
    "-- Create the client table\n",
    "CREATE TABLE client (\n",
    "\t-- Unique identifier column\n",
    "\tid SERIAL PRIMARY KEY,\n",
    "    -- Name of the company\n",
    "    name VARCHAR(50),\n",
    "\t-- Specify a text data type for variable length urls\n",
    "\tsite_url VARCHAR(50),\n",
    "    -- Number of employees (max of 1500 for small business)\n",
    "    num_employees SMALLINT,\n",
    "    -- Number of customers\n",
    "    num_customers INTEGER\n",
    ");\n",
    "```"
   ]
  },
  {
   "cell_type": "markdown",
   "metadata": {},
   "source": [
    "# Supporting an SBA marketing campaign"
   ]
  },
  {
   "cell_type": "markdown",
   "metadata": {},
   "source": [
    "The SBA has recently seen applications for their loan offerings decline. You have been hired to build a database to support marketing campaigns to increase SBA loan applications. You will define a campaign table to track campaign characteristics and results. Descriptions for the fields of this table are as follows:\n",
    "\n",
    "- an id column to assign a unique identifier to each campaign\n",
    "- a name column restricted to 50 characters in length\n",
    "- a budget column that is restricted to monetary values less than $100,000\n",
    "- a num_days column to indicate the length in days of the campaign (typically 180 days or less)\n",
    "- a goal_amount column to track the target number of applications\n",
    "- a num_applications column to track the number applications received"
   ]
  },
  {
   "cell_type": "markdown",
   "metadata": {},
   "source": [
    "```\n",
    "-- Create the campaign table\n",
    "CREATE TABLE campaign (\n",
    "  -- Unique identifier column\n",
    "  id SERIAL PRIMARY KEY,\n",
    "  -- Campaign name column\n",
    "  name VARCHAR(50),\n",
    "  -- The campaign's budget\n",
    "  budget NUMERIC(7, 2),\n",
    "  -- The duration of campaign in days\n",
    "  num_days SMALLINT DEFAULT 30,\n",
    "  -- The number of new applications desired\n",
    "  goal_amount INTEGER DEFAULT 100,\n",
    "  -- The number of received applications\n",
    "  num_applications INTEGER DEFAULT 0\n",
    ");\n",
    "```"
   ]
  },
  {
   "cell_type": "markdown",
   "metadata": {},
   "source": [
    "# Revisiting the appeals table"
   ]
  },
  {
   "cell_type": "markdown",
   "metadata": {},
   "source": [
    "The SBA database now contains a table for storing loan applicant appeal requests. The table contains only a PRIMARY KEY and a text column for the appeal. It is useful to track additional information such as when the appeal was received, whether or not the decision was reversed after the appeal, and the date when the appeal was reconsidered. Define a new version of the appeals table to capture this information."
   ]
  },
  {
   "cell_type": "markdown",
   "metadata": {},
   "source": [
    "```\n",
    "CREATE TABLE appeal (\n",
    "\tid SERIAL PRIMARY KEY,\n",
    "    content TEXT NOT NULL,\n",
    "  \t-- Add received_on column\n",
    "    received_on TIMESTAMP DEFAULT CURRENT_TIMESTAMP,\n",
    "  \t\n",
    "  \t-- Add approved_on_appeal column\n",
    "  \tapproved_on_appeal BOOL DEFAULT NULL,\n",
    "  \t\n",
    "  \t-- Add reviewed column\n",
    "    reviewed DATE\n",
    ");\n",
    "```"
   ]
  },
  {
   "cell_type": "markdown",
   "metadata": {},
   "source": [
    "# Boolean defaults"
   ]
  },
  {
   "cell_type": "markdown",
   "metadata": {},
   "source": [
    "A BOOLEAN column defaulting to false is not always desired. In some situations, a default value of true is preferred. Imagine a user management system built for a website. The default behavior is to authorize a newly registered user to access the website. This access remains available unless the user exhibits poor community behavior. Including an approved column on a user table in this database enables such a process. This column is true by default in this scenario."
   ]
  },
  {
   "cell_type": "markdown",
   "metadata": {},
   "source": [
    "<img src=\"images/02.12.jpg\" style=\"width:800px;height:400px;\">\n"
   ]
  },
  {
   "cell_type": "markdown",
   "metadata": {},
   "source": [
    "# Choosing data types representations"
   ]
  },
  {
   "cell_type": "markdown",
   "metadata": {},
   "source": [
    " Continuing with our SBA data example, let's gain some experience determining which data types to use to best represent the data that you are interested in storing. For example, if you wanted to understand the monthly payment rates of a borrower, it would be helpful to have the loan amount and interest rate represented as numeric values to aid in such a calculation.\n",
    "\n",
    "Your manager has asked you to create a new loan table that requires specifying the correct data type and properties to use for the table columns."
   ]
  },
  {
   "cell_type": "markdown",
   "metadata": {},
   "source": [
    "```\n",
    "-- Create the loan table\n",
    "CREATE TABLE loan (\n",
    "    borrower_id INTEGER REFERENCES borrower(id),\n",
    "    bank_id INTEGER REFERENCES bank(id),\n",
    "  \t-- 'approval_date': the loan approval date\n",
    "    approval_date DATE NOT NULL DEFAULT CURRENT_DATE,\n",
    "    -- 'gross_approval': amounts up to $5,000,000.00\n",
    "  \tgross_approval DECIMAL(9, 2) NOT NULL,\n",
    "  \t-- 'term_in_months': total # of months for repayment\n",
    "    term_in_months SMALLINT NOT NULL,\n",
    "    -- 'revolver_status': TRUE for revolving line of credit\n",
    "  \trevolver_status BOOLEAN NOT NULL DEFAULT FALSE,\n",
    "  \tinitial_interest_rate DECIMAL(4, 2) NOT NULL\n",
    ");\n",
    "```"
   ]
  }
 ],
 "metadata": {
  "kernelspec": {
   "display_name": "Python 3.8.11 ('env_py')",
   "language": "python",
   "name": "python3"
  },
  "language_info": {
   "name": "python",
   "version": "3.8.11"
  },
  "orig_nbformat": 4,
  "vscode": {
   "interpreter": {
    "hash": "1e949e87132dd83f1a7623eb88007e3532b03b66b77111be347aa4a383049722"
   }
  }
 },
 "nbformat": 4,
 "nbformat_minor": 2
}

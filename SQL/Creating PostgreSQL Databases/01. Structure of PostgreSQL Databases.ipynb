{
 "cells": [
  {
   "cell_type": "markdown",
   "metadata": {},
   "source": [
    "# New database creation"
   ]
  },
  {
   "cell_type": "markdown",
   "metadata": {},
   "source": [
    "Created in 1953, the U.S. Small Business Administration (SBA) helps small business owners and entrepreneurs pursue the American dream. The SBA is a federal agency dedicated to small business and provides counseling, capital, and contracting expertise for small businesses. This important agency publishes a lot of interesting data about the work that it does. Making capital available to small businesses through various loan programs is an important responsibility of the SBA. We will be focusing on this particular function of the organization throughout this course as we build a PostgreSQL database to store this data.\n",
    "\n",
    "Examine the commands listed below and select the correct command to create a valid SBA database."
   ]
  },
  {
   "cell_type": "markdown",
   "metadata": {},
   "source": [
    "- `CREATE DATABASE sba;`"
   ]
  },
  {
   "cell_type": "markdown",
   "metadata": {},
   "source": [
    "# Motivation for a new database"
   ]
  },
  {
   "cell_type": "markdown",
   "metadata": {},
   "source": [
    "Let's think about some additional scenarios that might motivate someone to create a PostgreSQL database for organizing information.\n",
    "\n",
    "Examine the scenarios below and select the one which is least likely to warrant the creation of a new database.\n",
    "- You generate a strong-password to be used to sign in to all of your favorite sites and want to store it somewhere in case you forget. A database should be used to store more than one piece of information. There are simpler options than creating a database for this use."
   ]
  },
  {
   "cell_type": "markdown",
   "metadata": {},
   "source": [
    "# Name that table"
   ]
  },
  {
   "cell_type": "markdown",
   "metadata": {},
   "source": [
    "Like all named objects in PostgreSQL, table names have certain restrictions. To avoid issues when creating new tables, you should recognize which naming conventions are not allowed."
   ]
  },
  {
   "cell_type": "markdown",
   "metadata": {},
   "source": [
    "```\n",
    "-- Delete me and command below if this table name is invalid\n",
    "\n",
    "-- Delete me and command below if this table name is invalid\n",
    "CREATE TABLE customers ();\n",
    "\n",
    "-- Delete me and command below if this table name is invalid\n",
    "CREATE TABLE orders ();\n",
    "\n",
    "-- Delete me and command below if this table name is invalid\n",
    "```"
   ]
  },
  {
   "cell_type": "markdown",
   "metadata": {},
   "source": [
    "# Two tables and a foreign key connection"
   ]
  },
  {
   "cell_type": "markdown",
   "metadata": {},
   "source": [
    "The Small Business Association (SBA) captures a large amount of data on their loan programs and releases it publicly. Some of the available data includes details on the applicant (including name and address) and how the business is organized (the business type). As you are developing your project to better understand characteristics behind which loans are approved and which are rejected, you suspect that details about the applicant and business type will be important to include in your analysis."
   ]
  },
  {
   "cell_type": "markdown",
   "metadata": {},
   "source": [
    "```\n",
    "-- Define the business_type table below\n",
    "CREATE TABLE business_type (\n",
    "\tid SERIAL PRIMARY KEY,\n",
    "  \tdescription TEXT NOT NULL\n",
    ");\n",
    "\n",
    "-- Define the applicant table below\n",
    "CREATE TABLE applicant (\n",
    "\tid SERIAL PRIMARY KEY,\n",
    "  \tname TEXT NOT NULL,\n",
    "  \tzip_code CHAR(5) NOT NULL,\n",
    "  \tbusiness_type_id INTEGER references business_type(id)\n",
    ");\n",
    "```"
   ]
  },
  {
   "cell_type": "markdown",
   "metadata": {},
   "source": [
    "# User-level schemas"
   ]
  },
  {
   "cell_type": "markdown",
   "metadata": {},
   "source": [
    "An important use-case for PostgreSQL schemas is the ability to provide database users with their own group of tables that are only accessible to each individual user, such that users' database access does not interfere with others. In the name of security, this can be taken one step further to separate any production tables from being manipulated by unauthorized users. Schemas allow these divisions to be created without the use of multiple databases which can reduce maintenance requirements for database administrators."
   ]
  },
  {
   "cell_type": "markdown",
   "metadata": {},
   "source": [
    "```\n",
    "-- Add a schema for Ann Simmons\n",
    "CREATE SCHEMA ann_simmons;\n",
    "\n",
    "-- Add a schema for Ty Beck\n",
    "CREATE SCHEMA ty_beck;\n",
    "\n",
    "-- Add a schema for production data\n",
    "CREATE SCHEMA production;\n",
    "```"
   ]
  },
  {
   "cell_type": "markdown",
   "metadata": {},
   "source": [
    "# The public schema"
   ]
  },
  {
   "cell_type": "markdown",
   "metadata": {},
   "source": [
    "The public schema of a PostgreSQL database is created by default when a new database is created. All users by default have access to this schema unless this access is explicitly restricted. When a database is going to be used by a single user and does not have complex groupings of data objects beyond what can naturally be supported by an object-relational database, the public schema will usually suffice. No additional schemas need to be added to such a database. "
   ]
  },
  {
   "cell_type": "markdown",
   "metadata": {},
   "source": [
    "```\n",
    "-- Add users table to the public schema for the pod database\n",
    "CREATE TABLE users (\n",
    "  id serial PRIMARY KEY,\n",
    "  first_name TEXT NOT NULL,\n",
    "  last_name TEXT NOT NULL,\n",
    "  email TEXT NOT NULL,\n",
    "  hashed_password CHAR(72) NOT NULL\n",
    ");\n",
    "```"
   ]
  },
  {
   "cell_type": "markdown",
   "metadata": {},
   "source": [
    "# Creating tables in existing schemas"
   ]
  },
  {
   "cell_type": "markdown",
   "metadata": {},
   "source": [
    "The SBA provides twelve different funding opportunities. Two popular programs are the 7a and 504 programs. These loans have different purposes where 504 loans are typically used for real estate purchases and 7a loans are typically for general business needs. You have been tasked with the creation of tables which share a name but allow for different structures within their respective schemas. The schemas for these loans have already been created for you (named loan_7a and loan_504, respectively).\n",
    "\n",
    "You will now put your knowledge to use to add new tables to these existing schemas."
   ]
  },
  {
   "cell_type": "markdown",
   "metadata": {},
   "source": [
    "```\n",
    "-- Create a table named 'bank' in the 'loan_504' schema\n",
    "CREATE TABLE loan_504.bank (\n",
    "    id serial PRIMARY KEY,\n",
    "    name VARCHAR (100) NOT NULL\n",
    ");\n",
    "\n",
    "-- Create a table named 'bank' in the 'loan_7a' schema\n",
    "CREATE TABLE loan_7a.bank (\n",
    "        id serial PRIMARY KEY,\n",
    "        name VARCHAR (100) NOT NULL,\n",
    "  \t    express_provider BOOLEAN\n",
    ");\n",
    "\n",
    "-- Create a table named 'borrower' in the 'loan_504' schema\n",
    "CREATE TABLE loan_504.borrower (\n",
    "    id serial PRIMARY KEY,\n",
    "    full_name VARCHAR (100) NOT NULL\n",
    ");\n",
    "\n",
    "-- Create a table named 'borrower' in the 'loan_7a' schema\n",
    "CREATE TABLE loan_7a.borrower (\n",
    "    id serial PRIMARY KEY,\n",
    "    full_name VARCHAR (100) NOT NULL,\n",
    "  \tindividual BOOLEAN\n",
    ");\n",
    "\n",
    "```"
   ]
  }
 ],
 "metadata": {
  "kernelspec": {
   "display_name": "Python 3.8.11 ('env_py')",
   "language": "python",
   "name": "python3"
  },
  "language_info": {
   "name": "python",
   "version": "3.8.11"
  },
  "orig_nbformat": 4,
  "vscode": {
   "interpreter": {
    "hash": "1e949e87132dd83f1a7623eb88007e3532b03b66b77111be347aa4a383049722"
   }
  }
 },
 "nbformat": 4,
 "nbformat_minor": 2
}

{
 "cells": [
  {
   "cell_type": "markdown",
   "metadata": {},
   "source": [
    "# Reasons for normalizing databases"
   ]
  },
  {
   "cell_type": "markdown",
   "metadata": {},
   "source": [
    "Which of the following are reasons to normalize a database?\n",
    "\n",
    "- To reduce data duplication\n",
    "- To increase data consistency\n",
    "- To improve data organization"
   ]
  },
  {
   "cell_type": "markdown",
   "metadata": {},
   "source": [
    "# Reducing data redundancy"
   ]
  },
  {
   "cell_type": "markdown",
   "metadata": {},
   "source": [
    "A previous employee of the Small Business Administration developed an initial version of the database. Location information is utilized throughout the database for borrowers, banks, and projects. Each of the corresponding tables for these entities utilizes city, state, and zip_code columns creating redundant data. It is your responsibility to normalize this location data. You will have the opportunity to put your data normalization knowledge to work for you by creating a place table to consolidate location data."
   ]
  },
  {
   "cell_type": "markdown",
   "metadata": {},
   "source": [
    "```\n",
    "-- Create the place table\n",
    "CREATE TABLE place (\n",
    "  -- Define zip_code column\n",
    "  zip_code CHAR(5) PRIMARY KEY,\n",
    "  -- Define city column\n",
    "  city VARCHAR(50) NOT NULL,\n",
    "  -- Define state column\n",
    "  state CHAR(2) NOT NULL\n",
    ");\n",
    "\n",
    "CREATE TABLE borrower (\n",
    "  id SERIAL PRIMARY KEY,\n",
    "  name VARCHAR(50) NOT NULL,\n",
    "  approved BOOLEAN DEFAULT NULL,\n",
    "  \n",
    "  -- Remove zip_code column (defined below)\n",
    "  \n",
    "  -- Remove city column (defined below)\n",
    "  \n",
    "  -- Remove state column (defined below)\n",
    "  \n",
    "  -- Add column referencing place table\n",
    "  place_id CHAR(5) REFERENCES place(zip_code)\n",
    ");\n",
    "```"
   ]
  },
  {
   "cell_type": "markdown",
   "metadata": {},
   "source": [
    "# Improving object-to-data mapping"
   ]
  },
  {
   "cell_type": "markdown",
   "metadata": {},
   "source": [
    "The Small Business Development Center client table was previously defined without the inclusion of a point of contact for the client. The initial instinct of the database team was to simply add contact_name and contact_email columns to the client table. However, you object to this plan due to your instincts regarding proper data organization. In the future, a contact might be referenced in multiple tables. In this exercise, you will define table structures for the client and contact information that better separates the client and contact objects."
   ]
  },
  {
   "cell_type": "markdown",
   "metadata": {},
   "source": [
    "```\n",
    "-- Create the contact table\n",
    "CREATE TABLE contact (\n",
    "  \t-- Define the id primary key column\n",
    "\tid SERIAL PRIMARY KEY,\n",
    "  \t-- Define the name column\n",
    "  \tname VARCHAR(50) NOT NULL,\n",
    "    -- Define the email column\n",
    "  \temail VARCHAR(50) NOT NULL\n",
    ");\n",
    "\n",
    "-- Add contact_id to the client table\n",
    "ALTER TABLE client ADD contact_id INTEGER NOT NULL;\n",
    "\n",
    "-- Add a FOREIGN KEY constraint to the client table\n",
    "ALTER TABLE client ADD CONSTRAINT fk_c_id FOREIGN KEY (contact_id) REFERENCES contact(id);\n",
    "```"
   ]
  },
  {
   "cell_type": "markdown",
   "metadata": {},
   "source": [
    "# Simplifying database records"
   ]
  },
  {
   "cell_type": "markdown",
   "metadata": {},
   "source": [
    "One teacher from the high school heard rumblings about efforts to better organize student records. He would like to organize student grades in his courses. The teacher proposes the following table structure for the test_grades table:\n",
    "```\n",
    "CREATE TABLE test_grades (\n",
    "    student_id INTEGER NOT NULL,\n",
    "    course_name VARCHAR(50) NOT NULL,\n",
    "    grades TEXT NOT NULL\n",
    ");\n",
    "```\n",
    "Each record represents a student from one of the teacher's classes identified by the student's id, the course name, and the student's test grades. The teacher finds that managing the database with this structure is difficult. Inserting new grades requires a complex query. In addition, doing calculations on the grades is not very easy. In this exercise, you will help to put this table in 1st Normal Form (1NF)."
   ]
  },
  {
   "cell_type": "markdown",
   "metadata": {},
   "source": [
    "```\n",
    "-- Create the test_grade table\n",
    "CREATE TABLE test_grade (\n",
    "    -- Include a column for the student id\n",
    "\tstudent_id INTEGER NOT NULL,\n",
    "  \n",
    "  \t-- Include a column for the course name\n",
    "    course_name  VARCHAR(50) NOT NULL,\n",
    "  \n",
    "  \t-- Add a column to capture a single test grade\n",
    "    grade  NUMERIC NOT NULL\n",
    ");\n",
    "```"
   ]
  },
  {
   "cell_type": "markdown",
   "metadata": {},
   "source": [
    "# Too much normalization"
   ]
  },
  {
   "cell_type": "markdown",
   "metadata": {},
   "source": [
    "Recall the definition of the loan table.\n",
    "```\n",
    "CREATE TABLE loan (\n",
    "    borrower_id INTEGER REFERENCES borrower(id),\n",
    "    bank_id INTEGER REFERENCES bank(id),\n",
    "    approval_date DATE NOT NULL DEFAULT CURRENT_DATE,\n",
    "    gross_approval DECIMAL(9, 2) NOT NULL,\n",
    "    term_in_months SMALLINT NOT NULL,\n",
    "    revolver_status BOOLEAN NOT NULL DEFAULT FALSE,\n",
    "    initial_interest_rate DECIMAL(4, 2) NOT NULL\n",
    ");\n",
    "```\n",
    "A new design for this table has been suggested to satisfy 1NF. The revised table definition replaces approval_date with approval_month, approval_day, and approval_year:\n",
    "```\n",
    "CREATE TABLE loan (\n",
    "    ...\n",
    "    approval_month SMALLINT,\n",
    "    approval_day SMALLINT,\n",
    "    approval_year SMALLINT,\n",
    "    ...\n",
    ");\n",
    "```\n",
    "This exercise demonstrates how too much normalization can allow for the insertion of invalid data."
   ]
  },
  {
   "cell_type": "markdown",
   "metadata": {},
   "source": [
    "```\n",
    "INSERT INTO loan (\n",
    "  \tborrower_id, bank_id, approval_month, approval_day,\n",
    "  \tapproval_year, gross_approval, term_in_months,\n",
    "  \trevolver_status, initial_interest_rate\n",
    ") VALUES (12, 14, 12, 1, 2013, 421115, 120, false, 4.42);\n",
    "\n",
    "\n",
    "\n",
    "INSERT INTO loan (\n",
    "  \tborrower_id, bank_id, approval_month, approval_day,\n",
    "  \tapproval_year, gross_approval, term_in_months,\n",
    "  \trevolver_status, initial_interest_rate\n",
    ") VALUES (19, 5, 8, 19, 2018, 200000, 120, false, 6.3);\n",
    "```"
   ]
  },
  {
   "cell_type": "markdown",
   "metadata": {},
   "source": [
    "# Designing a course table"
   ]
  },
  {
   "cell_type": "markdown",
   "metadata": {},
   "source": [
    "The school's administration decides to use its database to store course details. Given that this is the first attempt at building the database, they are unsure of which columns to include in the course table. Below is a list of possible columns and a description of the data type for each. In this exercise, you will choose the appropriate columns for this table from the list of possible column choices:\n",
    "\n",
    "- id - a PRIMARY KEY for the course\n",
    "- name - a variable length (max 50, not NULL) string for the course name\n",
    "- meeting_time - a time representing the meeting time of the course\n",
    "- student_name - a variable length (max 50, not NULL) string representing an enrolled student\n",
    "- max_students - an integer for maximum student enrollment (classrooms can only fit 30 desks safely)"
   ]
  },
  {
   "cell_type": "markdown",
   "metadata": {},
   "source": [
    "```\n",
    "-- Create the course table\n",
    "CREATE TABLE course (\n",
    "    -- Add a column for the course table\n",
    "\tid SERIAL PRIMARY KEY,\n",
    "  \n",
    "  \t-- Add a column for the course table\n",
    "  \tname VARCHAR(50) NOT NULL,\n",
    "  \n",
    "  \t-- Add a column for the course table\n",
    "  \tmax_students SMALLINT\n",
    ");\n",
    "```"
   ]
  },
  {
   "cell_type": "markdown",
   "metadata": {},
   "source": [
    "# Streamlining meal options"
   ]
  },
  {
   "cell_type": "markdown",
   "metadata": {},
   "source": [
    "The cafeteria staff hears about all of the great work happening at the high school to organize data for important aspects of school operations. This group now wants to join these efforts. In particular, the staff wants to keep track of the different meal options that are available throughout the school year. With the help of the IT staff, the following table is defined for this purpose:\n",
    "```\n",
    "CREATE TABLE meal (\n",
    "    id INTEGER,\n",
    "    name VARCHAR(50) NOT NULL\n",
    "    ingredients VARCHAR(150), -- comma seperated list\n",
    "    avg_student_rating NUMERIC,\n",
    "    date_served DATE,\n",
    "    total_calories SMALLINT NOT NULL\n",
    ");\n",
    "```\n",
    "Using your knowledge of database normalization, you will provide a better design for the meal table."
   ]
  },
  {
   "cell_type": "markdown",
   "metadata": {},
   "source": [
    "```\n",
    "CREATE TABLE ingredient (\n",
    "  -- Add PRIMARY KEY for table\n",
    "  id SERIAL PRIMARY KEY,\n",
    "  name VARCHAR(50) NOT NULL\n",
    ");\n",
    "\n",
    "CREATE TABLE meal (\n",
    "    -- Make id a PRIMARY KEY\n",
    "\tid SERIAL PRIMARY KEY,\n",
    "    name VARCHAR(50) NOT NULL,\n",
    "\n",
    "\t-- Remove the 2 columns (below) that do not satisfy 2NF\n",
    "    avg_student_rating NUMERIC,\n",
    "    total_calories SMALLINT NOT NULL\n",
    ");\n",
    "\n",
    "CREATE TABLE meal_date (\n",
    "    -- Define a column referencing the meal table\n",
    "  \tmeal_id INTEGER REFERENCES meal(id),\n",
    "    date_served DATE NOT NULL\n",
    ");\n",
    "\n",
    "CREATE TABLE meal_ingredient (\n",
    "  \tmeal_id INTEGER REFERENCES meal(id),\n",
    "  \n",
    "    -- Define a column referencing the ingredient table\n",
    "    ingredient_id INTEGER REFERENCES ingredient(id)\n",
    ");\n",
    "\n",
    "\n",
    "```"
   ]
  },
  {
   "cell_type": "markdown",
   "metadata": {},
   "source": [
    "# Identifying transitive dependencies"
   ]
  },
  {
   "cell_type": "markdown",
   "metadata": {},
   "source": [
    "Imagine that a nation-wide database of schools exists. Someone who is unfamiliar with database normalization proposes the following structure for the school table:\n",
    "```\n",
    "CREATE TABLE school (\n",
    "    id serial PRIMARY KEY,\n",
    "    name VARCHAR(100) NOT NULL,\n",
    "    street_address VARCHAR(100) NOT NULL,\n",
    "    city VARCHAR(50) NOT NULL,\n",
    "    state VARCHAR(50) NOT NULL,\n",
    "    zip_code INTEGER NOT NULL\n",
    ")\n",
    "```\n",
    "Identify the transitive dependency introduced by this table definition."
   ]
  },
  {
   "cell_type": "markdown",
   "metadata": {},
   "source": [
    "- `zip_code` determines `city` and `state`."
   ]
  },
  {
   "cell_type": "markdown",
   "metadata": {},
   "source": [
    "# Table definitions for 3rd Normal Form"
   ]
  },
  {
   "cell_type": "markdown",
   "metadata": {},
   "source": [
    "Recall the definition of the school table from the previous exercise:\n",
    "```\n",
    "CREATE TABLE school (\n",
    "    id serial PRIMARY KEY,\n",
    "    name VARCHAR(100) NOT NULL,\n",
    "    street_address VARCHAR(100) NOT NULL,\n",
    "    city VARCHAR(50) NOT NULL,\n",
    "    state VARCHAR(50) NOT NULL,\n",
    "    zip_code INTEGER NOT NULL\n",
    ")\n",
    "```\n",
    "We can define a new table called zip to help satisfy 3rd Normal Form."
   ]
  },
  {
   "cell_type": "markdown",
   "metadata": {},
   "source": [
    "# Table definitions for 3rd Normal Form"
   ]
  },
  {
   "cell_type": "markdown",
   "metadata": {},
   "source": [
    "Recall the definition of the school table from the previous exercise:\n",
    "```\n",
    "CREATE TABLE school (\n",
    "    id serial PRIMARY KEY,\n",
    "    name VARCHAR(100) NOT NULL,\n",
    "    street_address VARCHAR(100) NOT NULL,\n",
    "    city VARCHAR(50) NOT NULL,\n",
    "    state VARCHAR(50) NOT NULL,\n",
    "    zip_code INTEGER NOT NULL\n",
    ")\n",
    "```\n",
    "We can define a new table called zip to help satisfy 3rd Normal Form."
   ]
  },
  {
   "cell_type": "markdown",
   "metadata": {},
   "source": [
    "```\n",
    "-- Complete the definition of the table for zip codes\n",
    "CREATE TABLE zip (\n",
    "\tcode INTEGER PRIMARY KEY,\n",
    "    city VARCHAR(50) NOT NULL,\n",
    "    state VARCHAR(50) NOT NULL\n",
    ");\n",
    "\n",
    "-- Complete the definition of the \"zip_code\" column\n",
    "CREATE TABLE school (\n",
    "\tid serial PRIMARY KEY,\n",
    "    name VARCHAR(100) NOT NULL,\n",
    "    street_address VARCHAR(100) NOT NULL,\n",
    "    zip_code INTEGER REFERENCES zip(code)\n",
    ");\n",
    "```"
   ]
  },
  {
   "cell_type": "markdown",
   "metadata": {},
   "source": [
    "# Working through the normalization process"
   ]
  },
  {
   "cell_type": "markdown",
   "metadata": {},
   "source": [
    "Table normalization is an important action to undertake prior to creation of a new database to ensure that data redundancy is reduced and the integrity of your data is properly managed.\n",
    "\n",
    "You will be normalizing database tables related to the Small Business Association loan program:\n",
    "\n",
    "- a borrower table will be altered to satisfy the requirements for 1st Normal Form (1NF)\n",
    "- a bank and a loan table will be altered to satisfy the requirements for 2nd Normal Form (2NF)\n",
    "- the loan table will be altered again to satisfy the requirements for 3rd Normal Form (3NF)"
   ]
  },
  {
   "cell_type": "markdown",
   "metadata": {},
   "source": [
    "The borrower table is not in 1NF.\n",
    "```\n",
    "CREATE TABLE borrower (\n",
    "    id serial PRIMARY KEY,\n",
    "    full_name VARCHAR (100) NOT NULL\n",
    ");\n",
    "```"
   ]
  },
  {
   "cell_type": "markdown",
   "metadata": {},
   "source": [
    "Resolving 1NF:"
   ]
  },
  {
   "cell_type": "markdown",
   "metadata": {},
   "source": [
    "```\n",
    "-- Add new columns to the borrower table\n",
    "ALTER TABLE borrower\n",
    "ADD COLUMN first_name VARCHAR (50) NOT NULL,\n",
    "ADD COLUMN last_name VARCHAR (50) NOT NULL;\n",
    "\n",
    "-- Remove column from borrower table to satisfy 1NF\n",
    "ALTER TABLE borrower\n",
    "DROP COLUMN full_name ;\n",
    "```"
   ]
  },
  {
   "cell_type": "markdown",
   "metadata": {},
   "source": [
    "The loan table contains a `bank_zip` column. The bank table is defined below:\n",
    "\n",
    "```\n",
    "CREATE TABLE bank (\n",
    "    id serial PRIMARY KEY,\n",
    "    name VARCHAR(100) NOT NULL\n",
    ");\n",
    "```"
   ]
  },
  {
   "cell_type": "markdown",
   "metadata": {},
   "source": [
    "Resolving 2NF:"
   ]
  },
  {
   "cell_type": "markdown",
   "metadata": {},
   "source": [
    "```\n",
    "-- Add a new column named 'zip' to the 'bank' table \n",
    "ALTER TABLE bank\n",
    "ADD COLUMN zip VARCHAR(10) NOT NULL;\n",
    "\n",
    "-- Remove corresponding column from 'loan' to satisfy 2NF\n",
    "ALTER TABLE loan\n",
    "DROP COLUMN bank_zip;\n",
    "```"
   ]
  },
  {
   "cell_type": "markdown",
   "metadata": {},
   "source": [
    "Let's also track the type of program for the loan. Create a new table named program that will store program records consisting of a id, description, and max_amount columns."
   ]
  },
  {
   "cell_type": "markdown",
   "metadata": {},
   "source": [
    "### Resolving 3NF: Creating New Column"
   ]
  },
  {
   "cell_type": "markdown",
   "metadata": {},
   "source": [
    "```\n",
    "-- Define 'program' table with max amount for each program\n",
    "CREATE TABLE program (\n",
    "  \tid serial PRIMARY KEY,\n",
    "  \tdescription text NOT NULL,\n",
    "  \tmax_amount DECIMAL(9,2) NOT NULL\n",
    ");\n",
    "```"
   ]
  },
  {
   "cell_type": "markdown",
   "metadata": {},
   "source": [
    "### Resolving 3NF: Removing Transitive Dependency from a Table"
   ]
  },
  {
   "cell_type": "markdown",
   "metadata": {},
   "source": [
    "The max_amount of a loan depends only on the loan's program. The max_amount of a loan can be determined using a foreign key reference to the program table, program_id, removing the need for the program column. Alter loan to satisfy 3NF."
   ]
  },
  {
   "cell_type": "markdown",
   "metadata": {},
   "source": [
    "```\n",
    "-- Alter the 'loan' table to satisfy 3NF\n",
    "ALTER TABLE loan\n",
    "ADD COLUMN program_id INTEGER REFERENCES program (id), \n",
    "DROP COLUMN program,\n",
    "DROP COLUMN max_amount;\n",
    "```"
   ]
  }
 ],
 "metadata": {
  "kernelspec": {
   "display_name": "Python 3.8.11 ('env_py')",
   "language": "python",
   "name": "python3"
  },
  "language_info": {
   "name": "python",
   "version": "3.8.11"
  },
  "orig_nbformat": 4,
  "vscode": {
   "interpreter": {
    "hash": "1e949e87132dd83f1a7623eb88007e3532b03b66b77111be347aa4a383049722"
   }
  }
 },
 "nbformat": 4,
 "nbformat_minor": 2
}

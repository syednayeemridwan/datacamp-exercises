{
 "cells": [
  {
   "cell_type": "markdown",
   "metadata": {},
   "source": [
    "# Creating a new user"
   ]
  },
  {
   "cell_type": "markdown",
   "metadata": {},
   "source": [
    "The Small Business Association (SBA) database (sba) is now live after many weeks of design and development effort. Your supervisor has asked you to create a new user account for this database to be used by a new hire, Sandra Gold, on the software development team."
   ]
  },
  {
   "cell_type": "markdown",
   "metadata": {},
   "source": [
    "```\n",
    "-- Create sgold with a temporary password\n",
    "CREATE USER sgold WITH PASSWORD 'changeme';\n",
    "```"
   ]
  },
  {
   "cell_type": "markdown",
   "metadata": {},
   "source": [
    "# Updating user passwords"
   ]
  },
  {
   "cell_type": "markdown",
   "metadata": {},
   "source": [
    "Sandra Gold has just started her new job at the SBA. She is excited to get started in this new role. On her first day, her on-boarding process includes receiving access to the SBA database. She is instructed to access her account using the temporary password that she was given and change her password to be more secure. You will have the opportunity to assume the role of Sandra and update the password for her account."
   ]
  },
  {
   "cell_type": "markdown",
   "metadata": {},
   "source": [
    "```\n",
    "-- Update the password for sgold\n",
    "ALTER USER sgold WITH PASSWORD 'kxqr478-?egH%&FQ';\n",
    "```"
   ]
  },
  {
   "cell_type": "markdown",
   "metadata": {},
   "source": [
    "# Granting user privileges"
   ]
  },
  {
   "cell_type": "markdown",
   "metadata": {},
   "source": [
    "Sandra Gold's first development project is the creation of an online platform for processing loans. This platform will be used to perform actions such as registering new loan applications and updating loan terms. Recall that loan data is stored in the loan table of the sba database. Your user account can grant privileges to tables in the sba database. You will grant privileges that Sandra Gold requires to develop the platform for managing loan processing."
   ]
  },
  {
   "cell_type": "markdown",
   "metadata": {},
   "source": [
    "```\n",
    "-- Grant the INSERT privilege\n",
    "GRANT INSERT ON loan TO sgold;\n",
    "\n",
    "-- Grant the UPDATE privilege\n",
    "GRANT UPDATE ON loan TO sgold;\n",
    "\n",
    "-- Grant the SELECT privilege\n",
    "GRANT SELECT ON loan TO sgold;\n",
    "\n",
    "-- Grant the DELETE privilege\n",
    "GRANT DELETE ON loan TO sgold;\n",
    "```"
   ]
  },
  {
   "cell_type": "markdown",
   "metadata": {},
   "source": [
    "# Using the granted privileges"
   ]
  },
  {
   "cell_type": "markdown",
   "metadata": {},
   "source": [
    "Now that Sandra has been granted the INSERT, UPDATE, SELECT, and DELETE privileges, she has been able to use the loan table. She successfully manages what data is in the table. However, she is working on an aspect of her project that requires an alteration to the loan table. Specifically, she would like to start capturing the approval date AND time of a loan. This requires altering the structure of the table using the following commands:\n",
    "```\n",
    "ALTER TABLE loan DROP COLUMN approval_date;\n",
    "ALTER TABLE loan ADD COLUMN approval_dt DATETIME;\n",
    "```\n",
    "Now you will change ownership of the loan table so that Sandra can begin capturing both the approval date and approval time."
   ]
  },
  {
   "cell_type": "markdown",
   "metadata": {},
   "source": [
    "```\n",
    "-- Provide sgold with the required table privileges\n",
    "ALTER TABLE loan OWNER TO sgold;\n",
    "```"
   ]
  },
  {
   "cell_type": "markdown",
   "metadata": {},
   "source": [
    "# Working with users and groups"
   ]
  },
  {
   "cell_type": "markdown",
   "metadata": {},
   "source": [
    "Sandra's project at the SBA is turning into a great success. Loan processing is now much faster than before the rollout of the online loan platform. This results in the growth of the team responsible for the loan management platform. Sandra is now leading the team and recently hired 3 new developers. Before the new developers begin their first days on the job, Sandra would like to create database accounts for each user and give each account the same access privileges."
   ]
  },
  {
   "cell_type": "markdown",
   "metadata": {},
   "source": [
    "```\n",
    "-- Create a user account for Ronald Jones\n",
    "CREATE USER rjones WITH PASSWORD 'changeme';\n",
    "\n",
    "-- Create a user account for Kim Lopez\n",
    "CREATE USER klopez WITH PASSWORD 'changeme';\n",
    "\n",
    "-- Create a user account for Jessica Chen\n",
    "CREATE USER jchen WITH PASSWORD 'changeme';\n",
    "\n",
    "-- Create the dev_team group\n",
    "CREATE GROUP dev_team;\n",
    "\n",
    "-- Grant privileges to dev_team group on loan table\n",
    "GRANT INSERT, UPDATE, DELETE, SELECT ON loan TO dev_team;\n",
    "\n",
    "-- Add the new user accounts to the dev_team group\n",
    "ALTER GROUP dev_team ADD USER rjones, klopez, jchen;\n",
    "```"
   ]
  },
  {
   "cell_type": "markdown",
   "metadata": {},
   "source": [
    "# Schema privileges"
   ]
  },
  {
   "cell_type": "markdown",
   "metadata": {},
   "source": [
    "The new software development team members are eager to get started on the loan management project. But Sandra, as the team lead, is not comfortable with so many people having direct access to the production version of the loan database (in the public schema). The rapidly growing team must implement some software development best practices which include setting up a development environment that is separated from the production environment. In this exercise, you will create a new schema to represent this development environment and grant members of the software development team privileges on this schema."
   ]
  },
  {
   "cell_type": "markdown",
   "metadata": {},
   "source": [
    "```\n",
    "-- Create the development schema\n",
    "CREATE SCHEMA development;\n",
    "\n",
    "-- Grant usage privilege on new schema to dev_team\n",
    "GRANT USAGE ON SCHEMA development TO dev_team;\n",
    "\n",
    "-- Create a loan table in the development schema\n",
    "CREATE TABLE development.loan (\n",
    "\tborrower_id INTEGER,\n",
    "\tbank_id INTEGER,\n",
    "\tapproval_date DATE,\n",
    "\tprogram text NOT NULL,\n",
    "\tmax_amount DECIMAL(9,2) NOT NULL,\n",
    "\tgross_approval DECIMAL(9, 2) NOT NULL,\n",
    "\tterm_in_months SMALLINT NOT NULL,\n",
    "\trevolver_status BOOLEAN NOT NULL,\n",
    "\tbank_zip VARCHAR(10) NOT NULL,\n",
    "\tinitial_interest_rate DECIMAL(4, 2) NOT NULL\n",
    ");\n",
    "\n",
    "-- Grant privileges on development schema\n",
    "GRANT SELECT, INSERT, UPDATE, DELETE ON ALL TABLES IN SCHEMA development TO dev_team;\n",
    "```"
   ]
  },
  {
   "cell_type": "markdown",
   "metadata": {},
   "source": [
    "# Removing user privileges"
   ]
  },
  {
   "cell_type": "markdown",
   "metadata": {},
   "source": [
    "It seems that success on the loan platform team is contagious. One of the team members, Kim Lopez, has been promoted and will be taking on a project management role. She won't need to make any modifications to the loan data going forward. However, having the ability to query the loan table will still be useful in her new role."
   ]
  },
  {
   "cell_type": "markdown",
   "metadata": {},
   "source": [
    "```\n",
    "-- Remove the specified privileges for Kim\n",
    "REVOKE INSERT, UPDATE, DELETE ON development.loan FROM klopez;\n",
    "```"
   ]
  },
  {
   "cell_type": "markdown",
   "metadata": {},
   "source": [
    "# Rescinding group membership"
   ]
  },
  {
   "cell_type": "markdown",
   "metadata": {},
   "source": [
    "The technology team at the SBA would like to be more proactive in assigning database access by group. Each user account must belong to at least one group. All project managers will be members of a project_management group. Therefore, Kim Lopez, should be added to this account and removed from the dev_team group. This exercise will allow you to manage group membership for these teams."
   ]
  },
  {
   "cell_type": "markdown",
   "metadata": {},
   "source": [
    "```\n",
    "-- Create the project_management group\n",
    "CREATE GROUP  project_management;\n",
    "\n",
    "-- Grant project_management SELECT privilege\n",
    "GRANT SELECT ON loan TO project_management;\n",
    "\n",
    "-- Add Kim's user to project_management group\n",
    "ALTER GROUP project_management ADD USER klopez;\n",
    "\n",
    "-- Remove Kim's user from dev_team group\n",
    "REVOKE dev_team FROM klopez;\n",
    "```"
   ]
  },
  {
   "cell_type": "markdown",
   "metadata": {},
   "source": [
    "# Implementing access control for teams"
   ]
  },
  {
   "cell_type": "markdown",
   "metadata": {},
   "source": [
    "You will create a new schema and table for holding data that will be provided to data scientists on your team. While your team members are likely responsible individuals, accidents can happen. You should only give these team members as much control over the database as required to do their job. These team members will have access to data on loans that have not been approved.\n",
    "\n",
    "- The schema analysis will be created.\n",
    "- The table unapproved_loan will be defined in this new schema.\n",
    "- User data_scientist will be created.\n",
    "- The user will be restricted to reading from the new table."
   ]
  },
  {
   "cell_type": "markdown",
   "metadata": {},
   "source": [
    "```\n",
    "-- Create the new analysis schema\n",
    "CREATE SCHEMA analysis;\n",
    "\n",
    "-- Create a table unapproved loan under the analysis schema\n",
    "CREATE TABLE analysis.unapproved_loan (\n",
    "    id serial PRIMARY KEY,\n",
    "    loan_id INTEGER REFERENCES loan(id),\n",
    "    description TEXT NOT NULL\n",
    ");\n",
    "\n",
    "-- Create 'data_scientist' user with password 'changeme'\n",
    "CREATE USER data_scientist WITH PASSWORD 'changeme';\n",
    "\n",
    "-- Give 'data_scientist' ability to use 'analysis' schema\n",
    "GRANT USAGE ON SCHEMA analysis TO data_scientist;\n",
    "\n",
    "-- Grant read-only access to table for 'data_scientist' user\n",
    "GRANT SELECT ON analysis.unapproved_loan TO data_scientist;\n",
    "```"
   ]
  }
 ],
 "metadata": {
  "kernelspec": {
   "display_name": "Python 3.8.11 ('env_py')",
   "language": "python",
   "name": "python3"
  },
  "language_info": {
   "name": "python",
   "version": "3.8.11"
  },
  "orig_nbformat": 4,
  "vscode": {
   "interpreter": {
    "hash": "1e949e87132dd83f1a7623eb88007e3532b03b66b77111be347aa4a383049722"
   }
  }
 },
 "nbformat": 4,
 "nbformat_minor": 2
}

{
 "cells": [
  {
   "cell_type": "markdown",
   "metadata": {},
   "source": [
    "# Tallying corner parking violations"
   ]
  },
  {
   "cell_type": "markdown",
   "metadata": {},
   "source": [
    "The `parking_violation` table has two columns (`street_name` and `intersecting_street`) with New York City streets. When the values for both columns are not `NULL`, this indicates that the violation occurred on a corner where two streets intersect. In an effort to identify street corners that tend to be the location of frequent parking violations, you have been tasked with identifying which violations occurred on a street corner and the total number of violations at each corner.\n",
    "\n",
    "In this exercise, you will concatenate the `street_name` and `intersecting_street` columns to create a new `corner` column. Then all parking violations occurring at a corner will be tallied by a SQL query."
   ]
  },
  {
   "cell_type": "markdown",
   "metadata": {},
   "source": [
    "```\n",
    "SELECT\n",
    "  -- Combine street_name, ' & ', and intersecting_street\n",
    "  street_name || ' & ' || intersecting_street AS corner\n",
    "FROM\n",
    "  parking_violation;\n",
    "```"
   ]
  },
  {
   "cell_type": "markdown",
   "metadata": {},
   "source": [
    "```\n",
    "SELECT\n",
    "  -- include the corner in results\n",
    "  corner,\n",
    "  -- include the total number of violations occurring at corner\n",
    "  COUNT(corner)\n",
    "FROM (\n",
    "  SELECT\n",
    "    -- concatenate street_name, ' & ', and intersecting_street\n",
    "    street_name || ' & ' || intersecting_street AS corner\n",
    "  FROM\n",
    "    parking_violation\n",
    ") sub\n",
    "WHERE\n",
    "  -- exclude corner values that are NULL\n",
    "  corner IS NOT NULL\n",
    "GROUP BY\n",
    "  corner\n",
    "ORDER BY\n",
    "  count DESC\n",
    "```"
   ]
  },
  {
   "cell_type": "markdown",
   "metadata": {},
   "source": [
    "# Creating a TIMESTAMP with concatenation"
   ]
  },
  {
   "cell_type": "markdown",
   "metadata": {},
   "source": [
    "In a previous exercise, the `violation_time` column in the `parking_violation` table was used to check that the recorded `violation_time` is within the violation location's restricted times. This presented a challenge in cases where restricted parking took place overnight because, for these records, the `from_hours_in_effect` time is later than the `to_hours_in_effect` time. This issue could be eliminated by including a date in addition to the time of a violation.\n",
    "\n",
    "In this exercise, you will begin the process of simplifying the identification of overnight violations through the creation of the `violation_datetime` column populated with `TIMESTAMP` values. This will be accomplished by concatenating `issue_date` and `violation_time` and converting the resulting strings to `TIMESTAMP` values."
   ]
  },
  {
   "cell_type": "markdown",
   "metadata": {},
   "source": [
    "```\n",
    "SELECT\n",
    "  -- Convert violation_time to TIMESTAMP\n",
    "  TO_TIMESTAMP(violation_datetime, 'MM/DD/YYYY HH12MIAM') AS violation_datetime\n",
    "FROM (\n",
    "  SELECT\n",
    "    CONCAT(issue_date, ' ', violation_time) AS violation_datetime\n",
    "  FROM\n",
    "    parking_violation\n",
    ") sub;\n",
    "```"
   ]
  },
  {
   "cell_type": "markdown",
   "metadata": {},
   "source": [
    "# Extracting time units with SUBSTRING()"
   ]
  },
  {
   "cell_type": "markdown",
   "metadata": {},
   "source": [
    "In a previous exercise, you separated the interval between the `violation_time` and `to_hours_in_effect` columns into their constituent `hour` and `minute` time units. Some pre-cleaning of these values was done behind the scenes to make the values more amenable for conversion because of inconsistencies in the recording of these values. The functions explored in this lesson provide an approach to extract values from strings.\n",
    "\n",
    "In this exercise, you will use `SUBSTRING()` to extract the hour and minute units from time strings. This is an alternative approach to extracting time units removing the need to convert the string to a `TIMESTAMP` value to extract the time unit as was done previously."
   ]
  },
  {
   "cell_type": "markdown",
   "metadata": {},
   "source": [
    "```\n",
    "SELECT\n",
    "  SUBSTRING(violation_time FROM 1 FOR 2) AS hour,\n",
    "  -- Define minute column\n",
    "  SUBSTRING(violation_time FROM 3 FOR 2) AS minute\n",
    "FROM\n",
    "  parking_violation;\n",
    "```"
   ]
  },
  {
   "cell_type": "markdown",
   "metadata": {},
   "source": [
    "# Extracting house numbers from a string"
   ]
  },
  {
   "cell_type": "markdown",
   "metadata": {},
   "source": [
    "Addresses for the Queens borough of New York City are unique in that they often include dashes in the house number component of the street address. For example, for the address `86-16 60 Ave`, the house number is `16`, and `86` refers to the closest cross street. Therefore, if we want the house_number to strictly represent the house number where a parking violation occurred, we need to extract the digits after the dash (-) to represent this value.\n",
    "\n",
    "In this exercise, you will use `STRPOS()`, `SUBSTRING()`, and `LENGTH()` to extract the specific house number from Queens street addresses."
   ]
  },
  {
   "cell_type": "markdown",
   "metadata": {},
   "source": [
    "```\n",
    "SELECT\n",
    "  house_number,\n",
    "  -- Extract the substring after '-'\n",
    "  SUBSTRING(\n",
    "    -- Specify the column of the original house number\n",
    "    house_number\n",
    "    -- Calculate the position that is 1 beyond '-'\n",
    "    FROM STRPOS(house_number, '-') + 1\n",
    "    -- Calculate number characters from dash to end of string\n",
    "    FOR LENGTH(house_number) - STRPOS(house_number, '-')\n",
    "  ) AS new_house_number\n",
    "FROM\n",
    "  parking_violation;\n",
    "```"
   ]
  },
  {
   "cell_type": "markdown",
   "metadata": {},
   "source": [
    "# Splitting house numbers with a delimiter"
   ]
  },
  {
   "cell_type": "markdown",
   "metadata": {},
   "source": [
    "In the previous exercise, you used `STRPOS()`, `LENGTH()`, and `SUBSTRING()` to separate the actual house number for Queens addresses from the value representing a cross street. In the video exercise, you learned how strings can be split into parts based on a delimiter string value.\n",
    "\n",
    "In this exercise, you will extract the house number for Queens addresses using the `SPLIT_PART()` function."
   ]
  },
  {
   "cell_type": "markdown",
   "metadata": {},
   "source": [
    "```\n",
    "SELECT\n",
    "  -- Split house_number using '-' as the delimiter\n",
    "  SPLIT_PART(house_number, '-', 2) AS new_house_number\n",
    "FROM\n",
    "  parking_violation\n",
    "WHERE\n",
    "  violation_county = 'Q';\n",
    "```"
   ]
  },
  {
   "cell_type": "markdown",
   "metadata": {},
   "source": [
    "# Mapping parking restrictions"
   ]
  },
  {
   "cell_type": "markdown",
   "metadata": {},
   "source": [
    "You are interested in building a mobile parking recommendation app for New York City. The goal is to use the `parking_violation` dataset to map parking restrictions to a driver's location. Parking restrictions are stored in the `days_parking_in_effect` column in a format that consists of a string of 7 characters. Each position in the string represents a day of the week (Monday-Sunday). A B indicates parking is restricted and a Y indicates parking is allowed. A colleague has organized the data from `parking_violation` by creating a table named `parking_restrictions`, which includes the `street_address`, `violation_county`, and `days_parking_in_effect`.\n",
    "\n",
    "In this exercise, you will use `REGEXP_SPLIT_TO_TABLE()` and `ROW_NUMBER()` to associate each street address to its parking availability."
   ]
  },
  {
   "cell_type": "markdown",
   "metadata": {},
   "source": [
    "```\n",
    "SELECT\n",
    "  -- Specify SELECT list columns\n",
    "  street_address,\n",
    "  violation_county,\n",
    "  REGEXP_SPLIT_TO_TABLE(days_parking_in_effect, '') AS daily_parking_restriction\n",
    "FROM\n",
    "  parking_restriction;\n",
    "```"
   ]
  },
  {
   "cell_type": "markdown",
   "metadata": {},
   "source": [
    "```\n",
    "SELECT\n",
    "  -- Label daily parking restrictions for locations by day\n",
    "  ROW_NUMBER() OVER(\n",
    "    PARTITION BY\n",
    "        street_address, violation_county\n",
    "    ORDER BY\n",
    "        street_address, violation_county\n",
    "  ) AS day_number,\n",
    "  *\n",
    "FROM (\n",
    "  SELECT\n",
    "    street_address,\n",
    "    violation_county,\n",
    "    REGEXP_SPLIT_TO_TABLE(days_parking_in_effect, '') AS daily_parking_restriction\n",
    "  FROM\n",
    "    parking_restriction\n",
    ") sub;\n",
    "```"
   ]
  },
  {
   "cell_type": "markdown",
   "metadata": {},
   "source": [
    "# Selecting data for a pivot table"
   ]
  },
  {
   "cell_type": "markdown",
   "metadata": {},
   "source": [
    "In an effort to get a better understanding of which agencies are responsible for different types of parking violations, you have been tasked with creating a report providing these details. This report will focus on four issuing agencies: `Police Department` (`P`), `Department of Sanitation` (`S`), `Parks Department` (`K`), and `Department of Transportation` (`V`). All of the records required to create such a report are present in the `parking_violations` table. An `INTEGER` `violation_code` and `CHAR` `issuing_agency` is recorded for every `parking_violation`.\n",
    "\n",
    "In this exercise, you will write a `SELECT` query that provides the underlying data for your report: the parking violation code, the issuing agency code, and the total number of records with each pair of values."
   ]
  },
  {
   "cell_type": "markdown",
   "metadata": {},
   "source": [
    "```\n",
    "SELECT \n",
    "\t-- Include the violation code in results\n",
    "\tviolation_code, \n",
    "    -- Include the issuing agency in results\n",
    "    issuing_agency, \n",
    "    -- Number of records with violation code/issuing agency\n",
    "    COUNT(*) \n",
    "FROM \n",
    "\tparking_violation \n",
    "WHERE \n",
    "\t-- Restrict the results to the agencies of interest\n",
    "\tissuing_agency IN ('P', 'S', 'K', 'V') \n",
    "GROUP BY \n",
    "\t-- Define GROUP BY columns to ensure correct pair count\n",
    "\tviolation_code, issuing_agency\n",
    "ORDER BY \n",
    "\tviolation_code, issuing_agency;\n",
    "```"
   ]
  },
  {
   "cell_type": "markdown",
   "metadata": {},
   "source": [
    "# Using FILTER to create a pivot table"
   ]
  },
  {
   "cell_type": "markdown",
   "metadata": {},
   "source": [
    "In the previous exercise, you wrote a query that provided information on the number of parking violations (by their numerical code) issued by each of four agencies. The results contained all of the desired information but were presented in a format that included a duplicate display of each `violation_code` up to four times (for every `issuing_agency` selected) in the results. A more compact representation of the same data can be achieved through the creation of a pivot table.\n",
    "\n",
    "In this exercise, you will write a query using the `FILTER` clause to produce results in a pivot table format. This improved presentation of the data can more easily be used in the report for parking violations issued by each of the four agencies of interest."
   ]
  },
  {
   "cell_type": "markdown",
   "metadata": {},
   "source": [
    "```\n",
    "SELECT \n",
    "\tviolation_code, \n",
    "    -- Define the \"Police\" column\n",
    "\tCOUNT(issuing_agency) FILTER (WHERE issuing_agency = 'P') AS \"Police\",\n",
    "    -- Define the \"Sanitation\" column\n",
    "\tCOUNT(issuing_agency) FILTER (WHERE issuing_agency = 'S') AS \"Sanitation\",\n",
    "    -- Define the \"Parks\" column\n",
    "\tCOUNT(issuing_agency) FILTER (WHERE issuing_agency = 'K') AS \"Parks\",\n",
    "    -- Define the \"Transportation\" column\n",
    "\tCOUNT(issuing_agency) FILTER (WHERE issuing_agency = 'V') AS \"Transportation\"\n",
    "FROM \n",
    "\tparking_violation \n",
    "GROUP BY \n",
    "\tviolation_code\n",
    "ORDER BY \n",
    "\tviolation_code\n",
    "```"
   ]
  },
  {
   "cell_type": "markdown",
   "metadata": {},
   "source": [
    "# Aggregating film categories"
   ]
  },
  {
   "cell_type": "markdown",
   "metadata": {},
   "source": [
    "For the final exercise in this course, let's return to the `film_permit` table. It contains a `community_board` `TEXT` column composed of a comma-separated list of integers. There is interest in doing an analysis of the types of film permits that are being provided for each community board. However, the representation of community boards (`INTEGER`s in a `TEXT` column) makes this difficult. By using techniques learned in this chapter, the data can be transformed to allow for such an analysis.\n",
    "\n",
    "In this exercise, you will first create a (temporary) `VIEW` that represents the `community_board` values individually for two permit categories. A `VIEW` is a named query that can be used like a `TABLE` once created. You will use this `VIEW` in a subquery for aggregating the results in a pivot table."
   ]
  },
  {
   "cell_type": "markdown",
   "metadata": {},
   "source": [
    "```\n",
    "CREATE OR REPLACE TEMP VIEW cb_categories AS \n",
    "SELECT\n",
    "\t-- Split community board values\n",
    "\tREGEXP_SPLIT_TO_TABLE(community_board, ', ') AS community_board,\n",
    "    category\n",
    "FROM\n",
    "\tfilm_permit\n",
    "WHERE \n",
    "    -- Restrict the categories in results\n",
    "    category IN ('Film', 'Television', 'Documentary');\n",
    "\n",
    "-- View cb_categories\n",
    "SELECT * FROM cb_categories;\n",
    "```"
   ]
  },
  {
   "cell_type": "markdown",
   "metadata": {},
   "source": [
    "```\n",
    "SELECT\n",
    "\t-- Convert community_board data type\n",
    "\tcommunity_board::INT AS community_board,\n",
    "    -- Define pivot table columns\n",
    "\tCOUNT(category) FILTER(where category = 'Film') AS \"Film\",\n",
    "    COUNT(category) FILTER(where category = 'Television') AS \"Television\",\n",
    "\tCOUNT(category) FILTER(where category = 'Documentary') AS \"Documentary\"\n",
    "FROM\n",
    "\tcb_categories\n",
    "GROUP BY \n",
    "\tcommunity_board\n",
    "ORDER BY \n",
    "\tcommunity_board;\n",
    "```"
   ]
  }
 ],
 "metadata": {
  "kernelspec": {
   "display_name": "Python 3.8.11 ('env_py')",
   "language": "python",
   "name": "python3"
  },
  "language_info": {
   "name": "python",
   "version": "3.8.11"
  },
  "orig_nbformat": 4,
  "vscode": {
   "interpreter": {
    "hash": "1e949e87132dd83f1a7623eb88007e3532b03b66b77111be347aa4a383049722"
   }
  }
 },
 "nbformat": 4,
 "nbformat_minor": 2
}

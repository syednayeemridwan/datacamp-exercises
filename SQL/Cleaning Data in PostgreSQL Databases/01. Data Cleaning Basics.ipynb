{
 "cells": [
  {
   "cell_type": "markdown",
   "metadata": {},
   "source": [
    "# Developing a data cleaning mindset"
   ]
  },
  {
   "cell_type": "markdown",
   "metadata": {},
   "source": [
    "When is the best time to implement data cleaning processes?"
   ]
  },
  {
   "cell_type": "markdown",
   "metadata": {},
   "source": [
    "- As soon as possible in the data collection pipeline"
   ]
  },
  {
   "cell_type": "markdown",
   "metadata": {},
   "source": [
    "# Applying functions for string cleaning"
   ]
  },
  {
   "cell_type": "markdown",
   "metadata": {},
   "source": [
    "Throughout this course, we will be using a dataset with 5000 New York City parking violation records stored in the `parking_violation` table.\n",
    "\n",
    "A service to provide parking violation recipients with a hard copy of the violation is being re-designed. For proper formatting of the output of the information on the report, some fields needs to be changed from the database representation. The changes are as follows:\n",
    "\n",
    "- For proper text alignment on the form, `violation_location` values must be 4 characters in length.\n",
    "- All `P-U` (pick-up truck) values in the `vehicle_body_type` column should use a general `TRK` value.\n",
    "- Only the first letter in each word in the `street_name` column should be capitalized.\n",
    "- The `LPAD()`, `REPLACE()`, and `INITCAP()` functions will be used to effect these changes."
   ]
  },
  {
   "cell_type": "markdown",
   "metadata": {},
   "source": [
    "```\n",
    "SELECT\n",
    "  -- Add 0s to ensure violation_location is 4 characters in length\n",
    "  LPAD(violation_location, 4, '0') AS violation_location,\n",
    "  -- Replace 'P-U' with 'TRK' in vehicle_body_type column\n",
    "  REPLACE(vehicle_body_type, 'P-U', 'TRK') AS vehicle_body_type,\n",
    "  -- Ensure only first letter capitalized in street_name\n",
    "  INITCAP(street_name) AS street_name\n",
    "FROM\n",
    "  parking_violation;\n",
    "```"
   ]
  },
  {
   "cell_type": "markdown",
   "metadata": {},
   "source": [
    "# Classifying parking violations by time of day"
   ]
  },
  {
   "cell_type": "markdown",
   "metadata": {},
   "source": [
    "There have been some concerns raised that parking violations are not being issued uniformly throughout the day. You have been tasked with associating parking violations with the time of day of issuance. You determine that the simplest approach to completing this task is to create a new column named `morning`. This field will be populated with (the integer) `1` if the violation was issued in the `morning` (between 12:00 AM and 11:59 AM), and, (the integer) `0`, otherwise. The time of issuance is recorded in the `violation_time` column of the `parking_violation` table. This column consists of 4 digits followed by an `A` (for `AM`) or `P` (for `PM`).\n",
    "\n",
    "In this exercise, you will populate the morning column by matching patterns for `violation_times` occurring in the morning."
   ]
  },
  {
   "cell_type": "markdown",
   "metadata": {},
   "source": [
    "```\n",
    "SELECT \n",
    "\tsummons_number, \n",
    "    CASE WHEN \n",
    "    \tsummons_number IN (\n",
    "          SELECT \n",
    "  \t\t\tsummons_number \n",
    "  \t\t  FROM \n",
    "  \t\t\tparking_violation \n",
    "  \t\t  WHERE \n",
    "            -- Match violation_time for morning values\n",
    "  \t\t\tviolation_time SIMILAR TO '\\d\\d\\d\\dA'\n",
    "    \t)\n",
    "        -- Value when pattern matched\n",
    "        THEN 1 \n",
    "        -- Value when pattern not matched\n",
    "        ELSE 0 \n",
    "    END AS morning \n",
    "FROM \n",
    "\tparking_violation;\n",
    "```"
   ]
  },
  {
   "cell_type": "markdown",
   "metadata": {},
   "source": [
    "# Masking identifying information with regular expressions"
   ]
  },
  {
   "cell_type": "markdown",
   "metadata": {},
   "source": [
    "Regular expressions can also be used to replace patterns in strings using `REGEXP_REPLACE()`. The function is similar to the `REPLACE()` function. Its signature is `REGEXP_REPLACE(source, pattern, replace, flags)`.\n",
    "\n",
    "- `pattern` is the string pattern to match in the source string.\n",
    "- `replace` is the replacement string to use in place of the pattern.\n",
    "- `flags` is an optional string used to control matching.\n",
    "\n",
    "For example, `REGEXP_REPLACE(xyz, '\\d', '_', 'g')` would replace any digit character (`\\d`) in the column `xyz` with an underscore (`_`). The `g` (\"global\") flag ensures every match is replaced.\n",
    "\n",
    "To protect parking violation recipients' privacy in a new web report, all letters in the `plate_id` column must be replaced with a dash (`-`) to mask the true license plate number."
   ]
  },
  {
   "cell_type": "markdown",
   "metadata": {},
   "source": [
    "```\n",
    "SELECT \n",
    "\tsummons_number,\n",
    "\t-- Replace uppercase letters in plate_id with dash\n",
    "\tREGEXP_REPLACE(plate_id, '[A-Z]', '-', 'g') \n",
    "FROM \n",
    "\tparking_violation;\n",
    "```"
   ]
  },
  {
   "cell_type": "markdown",
   "metadata": {},
   "source": [
    "# Matching inconsistent color names"
   ]
  },
  {
   "cell_type": "markdown",
   "metadata": {},
   "source": [
    "From the sample of records in the `parking_violation` table, it is clear that the `vehicle_color` values are not consistent. For example, `'GRY'`, `'GRAY'`, and `'GREY'` are all used to describe a gray vehicle. In order to consistently represent this color, it is beneficial to use a single value. Fortunately, the `DIFFERENCE()` function can be used to accomplish this goal.\n",
    "\n",
    "In this exercise, you will use the `DIFFERENCE()` function to return records that contain a `vehicle_color` value that closely matches the string `'GRAY'`. The `fuzzystrmatch` module has already been enabled for you."
   ]
  },
  {
   "cell_type": "markdown",
   "metadata": {},
   "source": [
    "```\n",
    "SELECT\n",
    "  summons_number,\n",
    "  vehicle_color\n",
    "FROM\n",
    "  parking_violation\n",
    "WHERE\n",
    "  -- Match SOUNDEX codes of vehicle_color and 'GRAY'\n",
    "  DIFFERENCE('GRAY', vehicle_color) = 4;\n",
    "```"
   ]
  },
  {
   "cell_type": "markdown",
   "metadata": {},
   "source": [
    "# Standardizing color names"
   ]
  },
  {
   "cell_type": "markdown",
   "metadata": {},
   "source": [
    "In the previous exercise, the `DIFFERENCE()` function was used to identify colors that closely matched our desired representation of the color `GRAY`. However, this approach retained a number of records where the `vehicle_color` value may or may not be gray. Specifically, the string GR (green) has the same Soundex code as the string GRAY. Fortunately, records with these `vehicle_color` values can be excluded from the set of records that should be changed.\n",
    "\n",
    "In this exercise, you will assign a consistent gray `vehicle_color` value by identifying similar strings that represent the same color. Again, the `fuzzystrmatch` module has already been installed for you."
   ]
  },
  {
   "cell_type": "markdown",
   "metadata": {},
   "source": [
    "```\n",
    "UPDATE \n",
    "\tparking_violation\n",
    "SET \n",
    "\t-- Update vehicle_color to `GRAY`\n",
    "\tvehicle_color = 'GRAY'\n",
    "WHERE \n",
    "\tsummons_number IN (\n",
    "      SELECT\n",
    "        summons_number\n",
    "      FROM\n",
    "        parking_violation\n",
    "      WHERE\n",
    "        DIFFERENCE(vehicle_color, 'GRAY') = 4 AND\n",
    "        -- Filter out records that have GR as vehicle_color\n",
    "        vehicle_color != 'GR'\n",
    ");\n",
    "```"
   ]
  },
  {
   "cell_type": "markdown",
   "metadata": {},
   "source": [
    "# Standardizing multiple colors"
   ]
  },
  {
   "cell_type": "markdown",
   "metadata": {},
   "source": [
    "After the success of standardizing the naming of `GRAY`-colored vehicles, you decide to extend this approach to additional colors. The primary colors `RED`, `BLUE`, and `YELLOW` will be used for extending the color name standardization approach. In this exercise, you will:\n",
    "\n",
    "- Find `vehicle_color` values that are similar to `RED`, `BLUE`, or `YELLOW`.\n",
    "- Handle both the ambiguous `vehicle_color` value `BL` and the incorrectly identified `vehicle_color` value `BLA` using pattern matching.\n",
    "- Update the `vehicle_color` values with strong similarity to `RED`, `BLUE`, or `YELLOW` to the standard string values."
   ]
  },
  {
   "cell_type": "markdown",
   "metadata": {},
   "source": [
    "```\n",
    "SELECT \n",
    "\tsummons_number,\n",
    "    vehicle_color,\n",
    "\tDIFFERENCE(vehicle_color, 'RED') AS \"red\",\n",
    "\tDIFFERENCE(vehicle_color, 'BLUE') AS \"blue\",\n",
    "\tDIFFERENCE(vehicle_color, 'YELLOW') AS \"yellow\"\n",
    "FROM\n",
    "\tparking_violation\n",
    "WHERE\n",
    "\t(\n",
    "\t\tDIFFERENCE(vehicle_color, 'RED') = 4 OR\n",
    "\t\tDIFFERENCE(vehicle_color, 'BLUE') = 4 OR\n",
    "\t\tDIFFERENCE(vehicle_color, 'YELLOW') = 4\n",
    "    -- Exclude records with 'BL' and 'BLA' vehicle colors\n",
    "\t) AND vehicle_color NOT IN ('BL' , 'BLA')\n",
    "```"
   ]
  },
  {
   "cell_type": "markdown",
   "metadata": {},
   "source": [
    "```\n",
    "UPDATE \n",
    "\tparking_violation pv\n",
    "SET \n",
    "\tvehicle_color = CASE\n",
    "      -- Complete conditions and results\n",
    "      WHEN red = 4 THEN 'RED'\n",
    "      WHEN blue = 4 THEN 'BLUE'\n",
    "      WHEN yellow = 4 THEN 'YELLOW'\n",
    "\tEND\n",
    "FROM \n",
    "\tred_blue_yellow rby\n",
    "WHERE \n",
    "\trby.summons_number = pv.summons_number;\n",
    "\n",
    "SELECT * FROM parking_violation LIMIT 10;\n",
    "```"
   ]
  },
  {
   "cell_type": "markdown",
   "metadata": {},
   "source": [
    "# Formatting text for colleagues"
   ]
  },
  {
   "cell_type": "markdown",
   "metadata": {},
   "source": [
    "A website to monitor filming activity in New York City is being constructed based on film permit applications stored in `film_permit`. This website will include information such as an `event_id`, parking restrictions required for the filming (`parking_held`), and the purpose of the filming.\n",
    "\n",
    "Your task is to deliver data to the web development team that will not require the team to perform further cleaning. `event_id` values will need to be padded with 0s in order to have a uniform length, capitalization for parking will need to be modified to only capitalize the initial letter of a word, and extra spaces from parking descriptions will need to be removed. The `REGEXP_REPLACE()` function (introduced in one of the previous exercises) will be used to clean the extra spaces."
   ]
  },
  {
   "cell_type": "markdown",
   "metadata": {},
   "source": [
    "```\n",
    "SELECT \n",
    "\tLPAD(event_id, 10, '0') as event_id, \n",
    "    -- Fix capitalization in parking_held column\n",
    "    INITCAP(parking_held) as parking_held\n",
    "FROM \n",
    "    film_permit;\n",
    "```"
   ]
  },
  {
   "cell_type": "markdown",
   "metadata": {},
   "source": [
    "```\n",
    "SELECT \n",
    "\tLPAD(event_id, 10, '0') as event_id, \n",
    "    -- Replace consecutive spaces with a single space\n",
    "    REGEXP_REPLACE(INITCAP(parking_held), ' +', ' ', 'g')  as parking_held\n",
    "FROM \n",
    "    film_permit;\n",
    "```"
   ]
  }
 ],
 "metadata": {
  "kernelspec": {
   "display_name": "Python 3.8.11 ('env_py')",
   "language": "python",
   "name": "python3"
  },
  "language_info": {
   "name": "python",
   "version": "3.8.11"
  },
  "orig_nbformat": 4,
  "vscode": {
   "interpreter": {
    "hash": "1e949e87132dd83f1a7623eb88007e3532b03b66b77111be347aa4a383049722"
   }
  }
 },
 "nbformat": 4,
 "nbformat_minor": 2
}

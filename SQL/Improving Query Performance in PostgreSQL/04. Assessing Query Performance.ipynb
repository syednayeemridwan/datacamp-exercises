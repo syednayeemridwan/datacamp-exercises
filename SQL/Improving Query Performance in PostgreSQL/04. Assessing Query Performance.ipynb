{
 "cells": [
  {
   "cell_type": "markdown",
   "metadata": {},
   "source": [
    "# Exploring pg_tables"
   ]
  },
  {
   "cell_type": "markdown",
   "metadata": {},
   "source": [
    "In order to make a query plan, the query planner needs basic information like table names, column names, and the number of rows of each table or view. Without this information, the planner would not know how many rows to search to find a specific columns used in filter conditions. It would not know if it can use an index search.\n",
    "\n",
    "This type of metadata is stored in the pg_tables schema. Specifically, the planner uses pg_class and pg_stats. Take a look to see what kind of information these objects contain."
   ]
  },
  {
   "cell_type": "markdown",
   "metadata": {},
   "source": [
    "```\n",
    "SELECT * -- Index indicator column\n",
    "FROM pg_class\n",
    "WHERE relname = 'daily_aqi';\n",
    "```"
   ]
  },
  {
   "cell_type": "markdown",
   "metadata": {},
   "source": [
    "```\n",
    "SELECT *\n",
    "FROM pg_stats\n",
    "WHERE tablename = 'daily_aqi'\n",
    "AND attname = 'category';\n",
    "```"
   ]
  },
  {
   "cell_type": "markdown",
   "metadata": {},
   "source": [
    "# Basic EXPLAIN"
   ]
  },
  {
   "cell_type": "markdown",
   "metadata": {},
   "source": [
    "Checking the query plan is an excellent window into the query function. Seeing the query plan steps helps you understand if you can restructure your query or add additional conditions to limit the rows and improve query speed. Comparing the relative costs between different query structures helps you see which plan is more efficient.\n",
    "\n",
    "Here, you will be examining USA daily air quality data. First, familiarize yourself with running a query that will show the query plan."
   ]
  },
  {
   "cell_type": "markdown",
   "metadata": {},
   "source": [
    "```\n",
    "EXPLAIN\n",
    "SELECT * \n",
    "FROM daily_aqi;\n",
    "```"
   ]
  },
  {
   "cell_type": "markdown",
   "metadata": {},
   "source": [
    "# Index scans"
   ]
  },
  {
   "cell_type": "markdown",
   "metadata": {},
   "source": [
    "Your friend lives in Hawaii where the volcanic smog is aggravating his asthma. You are helping him research new locations to live by using the Environmental Protection Agency's county level air quality data. You decide his new home should have good air quality at least 90% of the days.\n",
    "\n",
    "You know there are a lot of counties in the USA, and the air quality table is large. Your first query (not shown) did a sequential scan and took a long time to run.\n",
    "\n",
    "You decide to add an index to the column tracking the number of good air quality days. Examine the query plan and see the type of scan."
   ]
  },
  {
   "cell_type": "markdown",
   "metadata": {},
   "source": [
    "```\n",
    "CREATE INDEX good_index \n",
    "ON annual_aqi(good);\n",
    "\n",
    "EXPLAIN\n",
    "SELECT state_name, county_name, aqi_year, good\n",
    "FROM annual_aqi\n",
    "WHERE good > 327 -- 90% of the year\n",
    "AND aqi_year IN (2017,2018);\n",
    "```"
   ]
  },
  {
   "cell_type": "markdown",
   "metadata": {},
   "source": [
    "# EXPLAIN the WHERE"
   ]
  },
  {
   "cell_type": "markdown",
   "metadata": {},
   "source": [
    "Running a query with EXPLAIN does not actually run the query. Thus, EXPLAIN provides estimates of the query plan. The cost, rows, and width are all estimates. Some query structures result in better estimates than other structures.\n",
    "\n",
    "You will take another look at Hawaiian air quality, focusing on the days where multiple locations fell into that AQI category (good, moderate, etc.). You will then look at the impact of a partition on the query plans estimates. Does the partition change the planner's estimates?"
   ]
  },
  {
   "cell_type": "markdown",
   "metadata": {},
   "source": [
    "```\n",
    "SELECT COUNT(*)\n",
    "FROM daily_aqi\n",
    "WHERE state_code = 15 -- Hawaii state code\n",
    "AND no_sites > 1;\n",
    "```"
   ]
  },
  {
   "cell_type": "markdown",
   "metadata": {},
   "source": [
    "```\n",
    "EXPLAIN\n",
    "SELECT *\n",
    "FROM daily_aqi\n",
    "WHERE state_code = 15 -- Hawaii state code\n",
    "AND no_sites > 1;\n",
    "```"
   ]
  },
  {
   "cell_type": "markdown",
   "metadata": {},
   "source": [
    "```\n",
    "EXPLAIN\n",
    "SELECT *\n",
    "FROM daily_aqi_partitioned\n",
    "WHERE state_code = 15 -- partitioned on state code\n",
    "AND no_sites > 1;\n",
    "```"
   ]
  },
  {
   "cell_type": "markdown",
   "metadata": {},
   "source": [
    "# EXPLAIN parameters"
   ]
  },
  {
   "cell_type": "markdown",
   "metadata": {},
   "source": [
    "EXPLAIN gives a window into the query plan. It has some optional parameters that provide additional information. You want to try out these optional parameters, focusing on the VERBOSE and ANALYZE parameters.\n",
    "\n",
    "VERBOSE allows you to see the available columns at each step of the plan. ANALYZE computes actual run times in milliseconds. Which parameter's output do you find most useful?"
   ]
  },
  {
   "cell_type": "markdown",
   "metadata": {},
   "source": [
    "```\n",
    "EXPLAIN VERBOSE\n",
    "SELECT *\n",
    "FROM country_demos;\n",
    "```"
   ]
  },
  {
   "cell_type": "markdown",
   "metadata": {},
   "source": [
    "```\n",
    "EXPLAIN ANALYZE\n",
    "SELECT *\n",
    "FROM country_demos;\n",
    "```"
   ]
  },
  {
   "cell_type": "markdown",
   "metadata": {},
   "source": [
    "# Aggregating and sorting populations"
   ]
  },
  {
   "cell_type": "markdown",
   "metadata": {},
   "source": [
    "ou are interested in planning your next vacation. You think it would be fun to visit a country that has changed a lot in recent years. You figure one way to look at change is to look at a change in population. So you focus on countries with big changes in population over the past 25 years.\n",
    "\n",
    "You have annual population data from the World Bank covering each year from 1990 to 2017. Find the countries with the biggest population changes. Check your query plan to see how the aggregations impact the plan."
   ]
  },
  {
   "cell_type": "markdown",
   "metadata": {},
   "source": [
    "```\n",
    "EXPLAIN ANALYZE\n",
    "SELECT country\n",
    " , region\n",
    " , MAX(population) - MIN(population) as population_change\n",
    "FROM country_pop \n",
    "GROUP BY country, region;\n",
    "```"
   ]
  },
  {
   "cell_type": "markdown",
   "metadata": {},
   "source": [
    "```\n",
    "EXPLAIN ANALYZE\n",
    "SELECT country\n",
    " , region\n",
    " , MAX(population) - MIN(population) as population_change\n",
    "FROM country_pop \n",
    "GROUP BY country, region\n",
    "ORDER BY population_change DESC;\n",
    "```"
   ]
  },
  {
   "cell_type": "markdown",
   "metadata": {},
   "source": [
    "# Joining in the query plan"
   ]
  },
  {
   "cell_type": "markdown",
   "metadata": {},
   "source": [
    "China and India each have over 1 billion people and together contain over 30% of the world's people. You want to see if they are the countries with the biggest population growth.\n",
    "\n",
    "Since they are both in Asia, you gather population data from the World Bank for every Asian country between 1990 to 2017. To simplify your analysis, you decide to compare two years of population data. You compare the recent (2017) population to the 1990 population to find a population growth metric.\n",
    "\n",
    "Do India and China top the list? Are they the Asian countries with the most growth since the 1990s?\n",
    "\n",
    "After writing your query, check the query plan to see how the join impacts the plan."
   ]
  },
  {
   "cell_type": "markdown",
   "metadata": {},
   "source": [
    "```\n",
    "EXPLAIN ANALYZE\n",
    "SELECT old.country\n",
    ", old.region\n",
    ", old.population_1990\n",
    ", new.population_2017\n",
    ", 100*((new.population_2017 - old.population_1990)/new.population_2017::float) as population_growth\n",
    "FROM pop_1990 old\n",
    "INNER JOIN pop_2017 new \n",
    "USING(country)\n",
    "ORDER BY population_growth DESC\n",
    "```"
   ]
  },
  {
   "cell_type": "markdown",
   "metadata": {},
   "source": [
    "# Subqueries vs. CTEs"
   ]
  },
  {
   "cell_type": "markdown",
   "metadata": {},
   "source": [
    "You have learned different ways of writing queries and how these choices impact performance. This exercise will again look at country demographics for the African countries with athletes competing in the Olympics. You will focus on the Summer Olympics.\n",
    "\n",
    "Using pre-written queries, you will restructure the queries and assess the impact of the changes. You will start by seeing the difference in query plans when using subqueries compared to common table expressions (CTEs).\n",
    "\n",
    "Run the execution plan for each step."
   ]
  },
  {
   "cell_type": "markdown",
   "metadata": {},
   "source": [
    "```\n",
    "-- Subquery\n",
    "EXPLAIN ANALYZE\n",
    "SELECT city\n",
    ", sex\n",
    ", COUNT(DISTINCT athlete_id) as no_athletes\n",
    ", AVG(age) as avg_age\n",
    "FROM athletes_summ\n",
    "WHERE country_code IN (SELECT olympic_cc FROM demographics WHERE gdp > 10000 and year = 2016)\n",
    "AND year = 2016\n",
    "GROUP BY city, sex;\n",
    "```"
   ]
  },
  {
   "cell_type": "markdown",
   "metadata": {},
   "source": [
    "Putting `WHERE` subquery inside CTE:"
   ]
  },
  {
   "cell_type": "markdown",
   "metadata": {},
   "source": [
    "```\n",
    "-- Note the initial step in the query plan\n",
    "\n",
    "-- Common Table Expression (CTE)\n",
    "EXPLAIN ANALYZE\n",
    "WITH gdp AS -- From the demographics table\n",
    "(\n",
    "  SELECT olympic_cc FROM demographics WHERE gdp > 10000 and year = 2016\n",
    ")\n",
    "SELECT a.city, a.sex\n",
    "  , COUNT(DISTINCT a.athlete_id) as no_athletes\n",
    "  , AVG(a.age) as avg_age\n",
    "FROM athletes_summ a\n",
    "INNER JOIN gdp\n",
    "  ON a.country_code = gdp.olympic_cc\n",
    "WHERE a.year = 2016\n",
    "GROUP BY a.city, a.sex;\n",
    "```"
   ]
  },
  {
   "cell_type": "markdown",
   "metadata": {},
   "source": [
    "# Why the difference?"
   ]
  },
  {
   "cell_type": "markdown",
   "metadata": {},
   "source": [
    "The execution plan differs when using a subquery versus a common table expression (CTE) structure.\n",
    "\n",
    "The following statements describe execution rules that are only true for CTEs. Choose the statement that describes a difference in the execution between a subquery and CTE."
   ]
  },
  {
   "cell_type": "markdown",
   "metadata": {},
   "source": [
    "\n",
    "- CTEs are only executed once per query, even if they are referenced more than one time in the parent query.\n",
    "- CTEs create a temporary table.\n",
    "- If a column with an index is referenced in a CTE, the index is also available outside of that CTE."
   ]
  },
  {
   "cell_type": "markdown",
   "metadata": {},
   "source": [
    "# Filtering impacts"
   ]
  },
  {
   "cell_type": "markdown",
   "metadata": {},
   "source": [
    "You will revisit filtering while examining the African countries with athletes competing in the Summer Olympics. You will look at the average age by gender for the Rio de Janeiro and Beijing games.\n",
    "\n",
    "Along the way, you will compare the query plans using numeric filters, text filters, and indexed filters."
   ]
  },
  {
   "cell_type": "markdown",
   "metadata": {},
   "source": [
    "```\n",
    "-- Read the query plan with the text city filter\n",
    "EXPLAIN ANALYZE\n",
    "SELECT city, sex, COUNT(DISTINCT athlete_id), AVG(age) AS avg_age\n",
    "FROM athletes_summ\n",
    "WHERE city IN ('Rio de Janeiro','Beijing')\n",
    "GROUP BY city, sex;\n",
    "```"
   ]
  },
  {
   "cell_type": "markdown",
   "metadata": {},
   "source": [
    "```\n",
    "-- Find the execution time with a numeric year filter\n",
    "EXPLAIN ANALYZE\n",
    "SELECT city, sex, COUNT(DISTINCT athlete_id), AVG(age) AS avg_age\n",
    "FROM athletes_summ\n",
    "WHERE year IN (2016, 2008) -- Filter by year\n",
    "GROUP BY city, sex;\n",
    "```"
   ]
  }
 ],
 "metadata": {
  "kernelspec": {
   "display_name": "Python 3.8.11 ('env_py')",
   "language": "python",
   "name": "python3"
  },
  "language_info": {
   "name": "python",
   "version": "3.8.11"
  },
  "orig_nbformat": 4,
  "vscode": {
   "interpreter": {
    "hash": "1e949e87132dd83f1a7623eb88007e3532b03b66b77111be347aa4a383049722"
   }
  }
 },
 "nbformat": 4,
 "nbformat_minor": 2
}

{
 "cells": [
  {
   "cell_type": "markdown",
   "metadata": {},
   "source": [
    "# Data loading and storage"
   ]
  },
  {
   "cell_type": "markdown",
   "metadata": {},
   "source": [
    "The FROM clause of a query references data from multiple sources.\n",
    "\n",
    "Which of the following sources both stores and refreshes data?\n",
    "- Base Table\n",
    "- Materialized View"
   ]
  },
  {
   "cell_type": "markdown",
   "metadata": {},
   "source": [
    "# Finding the table type"
   ]
  },
  {
   "cell_type": "markdown",
   "metadata": {},
   "source": [
    "You may have wondered if these data sources were actually tables or instead views. Knowing this information could help you decide how to structure your queries and understand why a query may be slow (e.g. it uses a view)."
   ]
  },
  {
   "cell_type": "markdown",
   "metadata": {},
   "source": [
    "```\n",
    "SELECT DISTINCT table_type \n",
    "FROM information_schema.tables \n",
    "WHERE table_catalog = 'olympics_aqi'; \n",
    "```"
   ]
  },
  {
   "cell_type": "markdown",
   "metadata": {},
   "source": [
    "```\n",
    "SELECT *\n",
    "FROM information_schema.tables \n",
    "WHERE table_catalog = 'olympics_aqi' \n",
    "AND table_name = 'annual_aqi';\n",
    "```"
   ]
  },
  {
   "cell_type": "markdown",
   "metadata": {},
   "source": [
    "# Row-oriented storage properties"
   ]
  },
  {
   "cell_type": "markdown",
   "metadata": {},
   "source": [
    "Databases store data in two main formats, row-oriented storage, and column-oriented storage. Postgres inherently uses row-oriented storage.\n",
    "\n",
    "Choose the statements that correctly explain the properties of row-oriented storage in a database."
   ]
  },
  {
   "cell_type": "markdown",
   "metadata": {},
   "source": [
    "- Row-oriented storage keeps the association between columns."
   ]
  },
  {
   "cell_type": "markdown",
   "metadata": {},
   "source": [
    "# Previewing a row-oriented table"
   ]
  },
  {
   "cell_type": "markdown",
   "metadata": {},
   "source": [
    "When working with new tables, it is common to SELECT * to preview the data. However, selecting all the rows from a large table using row-oriented storage is resource intensive and slow. A quick optimization trick is to limit the number of rows returned.\n",
    "\n",
    "You will be working with air quality data from the United States. This data lives in a Postgres database using row-oriented storage. Familiarize yourself with daily_aqi by previewing the data. First, select all records. Then limit the results to improve speed.\n",
    "\n",
    "Use the EXPLAIN command to quantify the effect of limiting the rows"
   ]
  },
  {
   "cell_type": "markdown",
   "metadata": {},
   "source": [
    "```\n",
    "EXPLAIN\n",
    "SELECT *\n",
    "FROM daily_aqi;\n",
    "```"
   ]
  },
  {
   "cell_type": "markdown",
   "metadata": {},
   "source": [
    "```\n",
    "EXPLAIN\n",
    "SELECT *\n",
    "FROM daily_aqi\n",
    "LIMIT 10;\n",
    "```"
   ]
  },
  {
   "cell_type": "markdown",
   "metadata": {},
   "source": [
    "# Partitioning on location"
   ]
  },
  {
   "cell_type": "markdown",
   "metadata": {},
   "source": [
    "The air quality index (AQI) is calculated on four air pollutants (ozone, particle pollution, carbon monoxide, and sulfur dioxide) then categorized into six levels.\n",
    "\n",
    "Air quality in the US is monitored on a state level, with states reporting data to the Environmental Protection Agency (EPA). Because of these different sources, the air quality table is partitioned by state. While it looks like one table, each state has its own child table.\n",
    "\n",
    "Find the cost estimate impact of the partition. Then find the best days and places to visit in Hawaii based on the AQI."
   ]
  },
  {
   "cell_type": "markdown",
   "metadata": {},
   "source": [
    "```\n",
    "EXPLAIN\n",
    "SELECT * \n",
    "FROM daily_aqi\n",
    "WHERE state_code = 15; -- Hawaii state code\n",
    "```"
   ]
  },
  {
   "cell_type": "markdown",
   "metadata": {},
   "source": [
    "```\n",
    "EXPLAIN\n",
    "SELECT * \n",
    "FROM daily_aqi_partitioned\n",
    "WHERE state_code = 15; -- Hawaii state code\n",
    "```"
   ]
  },
  {
   "cell_type": "markdown",
   "metadata": {},
   "source": [
    "```\n",
    "SELECT county_name\n",
    "  , aqi\n",
    "  , category\n",
    "  , aqi_date\n",
    "FROM daily_aqi_partitioned\n",
    "WHERE state_code = 15 \n",
    "ORDER BY aqi;\n",
    "```"
   ]
  },
  {
   "cell_type": "markdown",
   "metadata": {},
   "source": [
    "# Finding the database indexes"
   ]
  },
  {
   "cell_type": "markdown",
   "metadata": {},
   "source": [
    "One aspect of writing well-performing queries is using the database optimization properties. When working in row-oriented databases, you want to limit the number of records returned. If partitions and indexes exist, you should use them in your queries as filters. Ideally, you could reference a database diagram or ask your friendly database administrator (DBA) which tables and columns have indexes.\n",
    "\n",
    "However, sometimes documentation is missing, and DBAs are busy. Luckily, the pg_tables schema has views that show all the existing indexes."
   ]
  },
  {
   "cell_type": "markdown",
   "metadata": {},
   "source": [
    "```\n",
    "SELECT tablename\n",
    " , indexname\n",
    "FROM pg_indexes;\n",
    "```"
   ]
  },
  {
   "cell_type": "markdown",
   "metadata": {},
   "source": [
    "# Creating and using an index"
   ]
  },
  {
   "cell_type": "markdown",
   "metadata": {},
   "source": [
    "You are working with the US air quality index (AQI) data. AQI data captures four pollutants: ozone, particle pollution, carbon monoxide, and sulfur dioxide. You want to know if one of these pollutants is the main source of poor air quality.\n",
    "\n",
    "The daily_aqi table contains daily AQI measurements. The defining_parameter field describes which of the four pollutants was the worst for that day.\n",
    "\n",
    "You will be writing a lot of queries using the pollutant type as a filter. Before you dig into the data, you want to check if defining_parameter has an index on it. If not, you want to add one."
   ]
  },
  {
   "cell_type": "markdown",
   "metadata": {},
   "source": [
    "```\n",
    "SELECT indexname\n",
    "FROM pg_indexes\n",
    "WHERE tablename = 'daily_aqi'; -- Filter condition\n",
    "```"
   ]
  },
  {
   "cell_type": "markdown",
   "metadata": {},
   "source": [
    "```\n",
    "CREATE INDEX defining_parameter_index \n",
    " ON daily_aqi (defining_parameter); -- Define the index creation\n",
    "\n",
    "SELECT indexname -- Check for the index\n",
    "FROM pg_indexes\n",
    "WHERE tablename = 'daily_aqi';\n",
    "```"
   ]
  },
  {
   "cell_type": "markdown",
   "metadata": {},
   "source": [
    "# Compare runtimes"
   ]
  },
  {
   "cell_type": "markdown",
   "metadata": {},
   "source": [
    "Hawaii is home to many volcanoes. One volcano, Kīlauea has been erupting nearly continuously since 1983. The spewing volcanic smog (vog) is high in sulfur dioxide (SO2) and results in poor air quality. In fact, based on the count of good or moderate air quality days over 10 years (2008 to 2018), Hawaii has the worst air quality of any state.\n",
    "\n",
    "Look at the main air pollutant on poor air quality days, focusing on SO2 . Compare the cost estimate between a query with an index on the pollutant column and a query without an index."
   ]
  },
  {
   "cell_type": "markdown",
   "metadata": {},
   "source": [
    "```\n",
    "SELECT category\n",
    "  , COUNT(*) as record_cnt\n",
    "  , SUM(no_sites) as aqi_monitoring_site_cnt\n",
    "FROM daily_aqi\n",
    "WHERE category <> 'Good'\n",
    "AND state_code = 15 -- Filter to Hawaii\n",
    "GROUP BY category;\n",
    "```"
   ]
  },
  {
   "cell_type": "markdown",
   "metadata": {},
   "source": [
    "```\n",
    "EXPLAIN\n",
    "SELECT category\n",
    "  , COUNT(*) as record_cnt\n",
    "  , SUM(no_sites) as aqi_monitoring_site_cnt\n",
    "FROM daily_aqi\n",
    "WHERE defining_parameter = 'SO2'\n",
    "AND category <> 'Good'\n",
    "AND state_code = 15 -- Filter to Hawaii\n",
    "GROUP BY  category;\n",
    "```"
   ]
  },
  {
   "cell_type": "markdown",
   "metadata": {},
   "source": [
    "```\n",
    "CREATE INDEX defining_parameter_index ON daily_aqi (defining_parameter); \n",
    "\n",
    "EXPLAIN\n",
    "SELECT category\n",
    "  , COUNT(*) as record_cnt\n",
    "  , SUM(no_sites) as aqi_monitoring_site_cnt\n",
    "FROM daily_aqi\n",
    "WHERE defining_parameter = 'SO2'\n",
    "AND category <> 'Good'\n",
    "AND state_code = 15 -- Hawaii\n",
    "GROUP BY  category;\n",
    "```"
   ]
  },
  {
   "cell_type": "markdown",
   "metadata": {},
   "source": [
    "# Column-oriented storage properties"
   ]
  },
  {
   "cell_type": "markdown",
   "metadata": {},
   "source": [
    "You are at a small company that is just starting to build its data infrastructure. You are discussing with coworkers the best type of database structure for the company data warehouse. The data warehouse will bring together data from multiple source systems such as human resources data, financial data, and customer data.\n",
    "\n",
    "You think you should use a database that uses column-oriented storage.\n",
    "\n",
    "Which of these reasons does NOT support your argument?"
   ]
  },
  {
   "cell_type": "markdown",
   "metadata": {},
   "source": [
    "- The data needs to be real time so records will continually be appended to tables in the warehouse. Because Column-oriented storage databases are slow to insert records. Constantly appending data will significantly slow performance."
   ]
  },
  {
   "cell_type": "markdown",
   "metadata": {},
   "source": [
    "# Using the information schema"
   ]
  },
  {
   "cell_type": "markdown",
   "metadata": {},
   "source": [
    "The most basic optimization method with column-oriented storage databases is to reduce the number of columns each query returns.\n",
    "\n",
    "When working with new tables, it is common to select the first 5 or 10 rows. However, a basic select on a wide table may be resource intensive. The information schema provides some column metadata and is a good starting place to learn about your data.\n",
    "\n",
    "While it does not show as available, views in the information_schema are always available to query. Feel free to explore the columns view in the console to explore what information is available before completing the exercise."
   ]
  },
  {
   "cell_type": "markdown",
   "metadata": {},
   "source": [
    "```\n",
    "-- Examine metadata about daily_aqi\n",
    "SELECT column_name, data_type, is_nullable\n",
    "FROM information_schema.columns\n",
    "WHERE table_catalog = 'olympics_aqi'\n",
    "AND table_name = 'daily_aqi' -- Limit to a specific table\n",
    ";\n",
    "```"
   ]
  }
 ],
 "metadata": {
  "kernelspec": {
   "display_name": "Python 3.8.11 ('env_py')",
   "language": "python",
   "name": "python3"
  },
  "language_info": {
   "name": "python",
   "version": "3.8.11"
  },
  "orig_nbformat": 4,
  "vscode": {
   "interpreter": {
    "hash": "1e949e87132dd83f1a7623eb88007e3532b03b66b77111be347aa4a383049722"
   }
  }
 },
 "nbformat": 4,
 "nbformat_minor": 2
}

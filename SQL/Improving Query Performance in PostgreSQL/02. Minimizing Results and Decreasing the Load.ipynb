{
 "cells": [
  {
   "cell_type": "markdown",
   "metadata": {},
   "source": [
    "# Order of operations impact on query structure"
   ]
  },
  {
   "cell_type": "markdown",
   "metadata": {},
   "source": [
    "The World Bank has data on a lot of countries, but they are missing values for some years. You decide to look for countries that have at least one year of missing population data. You write the following query, but it does NOT run.\n",
    "```\n",
    "SELECT olympic_cc, COUNT(*)\n",
    "FROM demographics\n",
    "WHERE population IS NULL\n",
    "AND COUNT(*) > 1\n",
    "```\n",
    "You reference your notes about the SQL order of operations to understand why.\n",
    "\n",
    "Which of the following explains the logical error?"
   ]
  },
  {
   "cell_type": "markdown",
   "metadata": {},
   "source": [
    "- Aggregations occur after the WHERE clause.\n"
   ]
  },
  {
   "cell_type": "markdown",
   "metadata": {},
   "source": [
    "# Group by and aggregations"
   ]
  },
  {
   "cell_type": "markdown",
   "metadata": {},
   "source": [
    "You join the World Bank demographics data to the Olympic oregions data.\n",
    "\n",
    "You want to look at trends so group countries regionally so see how many countries, by region, are missing population data. You know you want to view the results by Olympic region and count the countries with population data using the country code olympic_cc.\n",
    "\n",
    "Select Run Code to view the results. Did you get an error?\n",
    "\n",
    "Read the red error message then follow the instructions below to correct the query."
   ]
  },
  {
   "cell_type": "markdown",
   "metadata": {},
   "source": [
    "```\n",
    "SELECT reg.region, COUNT(DISTINCT dem.olympic_cc)\n",
    "FROM regions reg -- Olympics region data\n",
    "LEFT JOIN demographics dem -- World Bank population data\n",
    "  ON dem.olympic_cc = reg.olympic_cc\n",
    "GROUP BY reg.region;\n",
    "```"
   ]
  },
  {
   "cell_type": "markdown",
   "metadata": {},
   "source": [
    "# Count and count distinct"
   ]
  },
  {
   "cell_type": "markdown",
   "metadata": {},
   "source": [
    "By pure numbers, the greater a country's population, the greater the pool of athletes and thus Olympians. You decide to look at Olympic medals based purely on population, or volume of available athletes.\n",
    "\n",
    "The World Bank data shows that in 2016, the countries with the highest populations were China (1,378,665,000), India (1,324,171,354), and the United States of America (323,405,935).\n",
    "\n",
    "Now you will look at the Olympic athletes' data from the 2016 Summer Olympics to see if China, India, and the USA did indeed win the most medals."
   ]
  },
  {
   "cell_type": "markdown",
   "metadata": {},
   "source": [
    "```\n",
    "SELECT country_code\n",
    "  , COUNT(athlete_id) as medals_count\n",
    "FROM athletes_recent\n",
    "WHERE medal IS NOT NULL\n",
    "AND year = 2016\n",
    "GROUP BY country_code\n",
    "ORDER BY medals_count DESC;\n",
    "```"
   ]
  },
  {
   "cell_type": "markdown",
   "metadata": {},
   "source": [
    "```\n",
    "SELECT country_code\n",
    "  , COUNT(DISTINCT athlete_id) as medals_count\n",
    "FROM athletes_recent\n",
    "WHERE medal IS NOT NULL\n",
    "AND year = 2016\n",
    "GROUP BY country_code\n",
    "ORDER BY medals_count DESC;\n",
    "```"
   ]
  },
  {
   "cell_type": "markdown",
   "metadata": {},
   "source": [
    "# OR versus IN with athletes"
   ]
  },
  {
   "cell_type": "markdown",
   "metadata": {},
   "source": [
    "The Olympics has no age restrictions for competitors. The youngest ever Winter competitor was 11-year-old Cecilia Colledge, a figure skating athlete from Great Britain.\n",
    "\n",
    "Africa also has an 11-year-old figure skating competitor named Marcelle Matthews. Focusing on Africa and the Winter Olympics, find how many young African athletes have competed since the Olympics inception."
   ]
  },
  {
   "cell_type": "markdown",
   "metadata": {},
   "source": [
    "```\n",
    "SELECT COUNT(*)\n",
    "FROM athletes_wint \n",
    "WHERE age = 11 \n",
    "OR age = 12 ;\n",
    "```"
   ]
  },
  {
   "cell_type": "markdown",
   "metadata": {},
   "source": [
    "```\n",
    "SELECT *\n",
    "FROM athletes_wint \n",
    "WHERE age IN (11,12);\n",
    "```"
   ]
  },
  {
   "cell_type": "markdown",
   "metadata": {},
   "source": [
    "# Data type filters"
   ]
  },
  {
   "cell_type": "markdown",
   "metadata": {},
   "source": [
    "Since the first African country participated in the Winter Olympics in 1960, only two preteen (11 and 12 years) athletes have participated. Both athletes competed in the 1960 games.\n",
    "\n",
    "Perhaps athletes in the 21st century are now older when they compete. Take a quick look at the oldest (1960) Winter games and compare it to the Winter games 50 years later (2010) to test this hypothesis."
   ]
  },
  {
   "cell_type": "markdown",
   "metadata": {},
   "source": [
    "```\n",
    "SELECT games\n",
    "  , name\n",
    "  , age\n",
    "FROM athletes_wint\n",
    "WHERE games IN ('1960 Winter' ,'2010 Winter' )\n",
    "ORDER BY games;\n",
    "```"
   ]
  },
  {
   "cell_type": "markdown",
   "metadata": {},
   "source": [
    "```\n",
    "SELECT games\n",
    "  , name\n",
    "  , age\n",
    "FROM athletes_wint\n",
    "WHERE year IN (1960 ,2010 )\n",
    "ORDER BY games;\n",
    "```"
   ]
  },
  {
   "cell_type": "markdown",
   "metadata": {},
   "source": [
    "# EXPLAIN the filter query plan step"
   ]
  },
  {
   "cell_type": "markdown",
   "metadata": {},
   "source": [
    "All Olympic athletes are impressive, but athletes that are not yet adults (i.e., too young to drive or vote) are particularly impressive. You will look at these young athletes, those under 16 years, for African athletes across all Winter Olympics.\n",
    "\n",
    "Before proceeding, feel free to explore the athletes_wint table and find if any athletes are your age.\n",
    "\n",
    "Once done exploring, you will use the EXPLAIN function to see how your WHERE clause executes."
   ]
  },
  {
   "cell_type": "markdown",
   "metadata": {},
   "source": [
    "```\n",
    "EXPLAIN\n",
    "SELECT *\n",
    "FROM athletes_wint\n",
    "WHERE age < 16;\n",
    "```"
   ]
  },
  {
   "cell_type": "markdown",
   "metadata": {},
   "source": [
    "# Where to place a region filter"
   ]
  },
  {
   "cell_type": "markdown",
   "metadata": {},
   "source": [
    "Population alone does not predict the number of Olympians. Researchers propose that gross domestic product (GDP) together with population can predict the number of Olympians. Luckily the World Bank also collects GDP per capita (GDP divided by the number of citizens) on many countries.\n",
    "\n",
    "Focusing again on Africa, the most populous countries in 2014 were Nigeria, Ethiopia, and Egypt; however, the only African countries sending athletes to the 2014 Olympics were Morocco, Togo, and Zimbabwe.\n",
    "\n",
    "Determine which African countries have 2014 GDP data and whether Morocco, Togo, and Zimbabwe have high GDPs."
   ]
  },
  {
   "cell_type": "markdown",
   "metadata": {},
   "source": [
    "Use region as a non-linking join condition"
   ]
  },
  {
   "cell_type": "markdown",
   "metadata": {},
   "source": [
    "```\n",
    "SELECT dem.olympic_cc, reg.country, dem.gdp, dem.population\n",
    "FROM demographics dem\n",
    "LEFT JOIN oregions reg\n",
    "  ON dem.olympic_cc = reg.olympic_cc\n",
    "  AND region = 'Africa'\n",
    "WHERE dem.year = 2014\n",
    "AND dem.gdp IS NOT NULL\n",
    "ORDER BY dem.gdp DESC; \n",
    "```"
   ]
  },
  {
   "cell_type": "markdown",
   "metadata": {},
   "source": [
    "Move region to the WHERE clause"
   ]
  },
  {
   "cell_type": "markdown",
   "metadata": {},
   "source": [
    "```\n",
    "SELECT dem.olympic_cc, reg.country, dem.gdp, dem.population\n",
    "FROM demographics dem\n",
    "LEFT JOIN oregions reg\n",
    "  ON dem.olympic_cc = reg.olympic_cc\n",
    "WHERE dem.year = 2014\n",
    "  AND region = 'Africa'\n",
    "AND dem.gdp IS NOT NULL\n",
    "ORDER BY dem.gdp DESC;\n",
    "```"
   ]
  },
  {
   "cell_type": "markdown",
   "metadata": {},
   "source": [
    "Limit the demographics table with INNER JOIN"
   ]
  },
  {
   "cell_type": "markdown",
   "metadata": {},
   "source": [
    "```\n",
    "SELECT dem.olympic_cc, reg.country, dem.gdp, dem.population\n",
    "FROM demographics dem\n",
    "INNER JOIN oregions reg\n",
    "  ON dem.olympic_cc = reg.olympic_cc\n",
    "  AND reg.region = 'Africa'\n",
    "WHERE dem.year = 2014\n",
    "AND dem.gdp IS NOT NULL\n",
    "ORDER BY dem.gdp DESC;\n",
    "```"
   ]
  },
  {
   "cell_type": "markdown",
   "metadata": {},
   "source": [
    "# Filtering in the join, where, and select"
   ]
  },
  {
   "cell_type": "markdown",
   "metadata": {},
   "source": [
    "Looking at all the countries with gross domestic product (GDP) data in 2014, the average GDP per capita was $19,342. For African countries, the average GDP per capita was $5,879.\n",
    "\n",
    "Perhaps the African countries that sent athletes to the Olympics (Morocco, Togo, Zimbabwe) did not have the highest GDPs per capita in Africa but had higher GDPs than the average African GDP.\n",
    "\n",
    "Test this theory. Find the per capita GDP for the African countries with athletes at the 2014 Winter Games."
   ]
  },
  {
   "cell_type": "markdown",
   "metadata": {},
   "source": [
    "```\n",
    "SELECT DISTINCT ath.name, dem.country, dem.gdp\n",
    "FROM athletes_wint ath\n",
    "INNER JOIN odemographics dem\n",
    "  ON ath.country_code = dem.olympic_cc \n",
    "AND ath.year = 2014 \n",
    "ORDER BY dem.gdp DESC;\n",
    "```"
   ]
  },
  {
   "cell_type": "markdown",
   "metadata": {},
   "source": [
    "# Aggregate before joining tables"
   ]
  },
  {
   "cell_type": "markdown",
   "metadata": {},
   "source": [
    "You have a list of the following items:\n",
    "\n",
    "- African athletes participating in past Olympics\n",
    "- Country GDP per capita\n",
    "- Population by year\n",
    "For simplification, the annual demographics (GDP and population) have been grouped into low, medium, and high categories. Your job is to compare each African country's GDP, population, and athlete count.\n",
    "\n",
    "You want the final answer to have one row per country, per year. Because the athletes table is on a different grain (athlete-event) than the demographics_rank table (country-year), you will first aggregate the athletes table before joining it to the GDP and population data."
   ]
  },
  {
   "cell_type": "markdown",
   "metadata": {},
   "source": [
    "```\n",
    "-- Number of competing athletes\n",
    "WITH athletes as (\n",
    "  SELECT country_code, year, COUNT(athlete_id) AS no_athletes\n",
    "  FROM athletes\n",
    "  GROUP BY country_code, year\n",
    ")\n",
    "\n",
    "SELECT demos.country, ath.year, ath.no_athletes\n",
    "    , demos.gdp_rank\n",
    "    , demos.population_rank\n",
    "FROM athletes ath\n",
    "INNER JOIN demographics_rank demos  \n",
    "  ON ath.country_code = demos.olympic_cc -- Country\n",
    "  AND ath.year = demos.year -- Year\n",
    "ORDER BY ath.no_athletes DESC;\n",
    "```"
   ]
  },
  {
   "cell_type": "markdown",
   "metadata": {},
   "source": [
    "# South African trends"
   ]
  },
  {
   "cell_type": "markdown",
   "metadata": {},
   "source": [
    "You decide to zero in on one country to look at country demographic trends over time. Since 1990 (the first year of demographics' data), South Africa's population has increased from 37.5 to 56.7 million people. The GDP per capita has also increased from $6,267 to $13,497.\n",
    "\n",
    "You want to determine if the number of Olympic athletes from South Africa has increased during this time.\n",
    "\n",
    "The athletes table is at an athlete-event level grain. You aggregate it to the year-country grain before joining it to the demographics_rank table. Additionally, the demographics_rank table is large, so you want to filter it to only South Africa before joining it to the athletes data."
   ]
  },
  {
   "cell_type": "markdown",
   "metadata": {},
   "source": [
    "```\n",
    "-- South African athletes by year\n",
    "WITH athletes_cte AS \n",
    "(\n",
    "    SELECT year\n",
    "      , season\n",
    "      , COUNT(DISTINCT athlete_id) AS no_athletes\n",
    "    FROM athletes\n",
    "    WHERE country_code = 'RSA' -- South Africa filter\n",
    "    GROUP BY year, season\n",
    ")\n",
    "\n",
    "SELECT ath.year\n",
    "  , ath.season\n",
    "  , ath.no_athletes\n",
    "  , demos.gdp_rounded\n",
    "  , demos.gdp_rank\n",
    "  , demos.population_rounded\n",
    "  , demos.population_rank\n",
    "FROM athletes_cte ath\n",
    "INNER JOIN demographics_rank demos\n",
    "  ON ath.year = demos.year\n",
    "  WHERE demos.olympic_cc = 'RSA' -- Filter to South Africa\n",
    "ORDER BY ath.season, ath.year;\n",
    "```"
   ]
  }
 ],
 "metadata": {
  "kernelspec": {
   "display_name": "Python 3.8.11 ('env_py')",
   "language": "python",
   "name": "python3"
  },
  "language_info": {
   "name": "python",
   "version": "3.8.11"
  },
  "orig_nbformat": 4,
  "vscode": {
   "interpreter": {
    "hash": "1e949e87132dd83f1a7623eb88007e3532b03b66b77111be347aa4a383049722"
   }
  }
 },
 "nbformat": 4,
 "nbformat_minor": 2
}

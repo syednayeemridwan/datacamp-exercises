{
 "cells": [
  {
   "cell_type": "markdown",
   "metadata": {},
   "source": [
    "# Where are all the athletes from"
   ]
  },
  {
   "cell_type": "markdown",
   "metadata": {},
   "source": [
    " join together the athletes and oregions tables to return countries with participating athletes"
   ]
  },
  {
   "cell_type": "markdown",
   "metadata": {},
   "source": [
    "```\n",
    "-- Athlete count by country and region\n",
    "SELECT reg.region\n",
    "  , reg.country\n",
    "  , COUNT(DISTINCT ath.athlete_id) AS no_athletes -- Athletes can compete in multiple events\n",
    "FROM athletes ath\n",
    "INNER JOIN oregions reg\n",
    "  ON reg.olympic_cc = ath.country_code\n",
    "GROUP BY reg.region, reg.country\n",
    "ORDER BY no_athletes;\n",
    "```"
   ]
  },
  {
   "cell_type": "markdown",
   "metadata": {},
   "source": [
    "# Using different joins to explore athletes' regions"
   ]
  },
  {
   "cell_type": "markdown",
   "metadata": {},
   "source": [
    "Many Russians watch figure skating. Kenyans have a strong presence in running events. Canadians dominate hockey. Do these trends hold true across regions? Do all European countries have figure skating Olympians? Do all North Americans have Olympic-level hockey teams?\n",
    "\n",
    "See which European countries sent figure skating competitors to the 2014 Winter Olympics. The athletes table is already filtered to figure skating athletes, and the regions table is filtered to European countries. Use the different join types and compare the results."
   ]
  },
  {
   "cell_type": "markdown",
   "metadata": {},
   "source": [
    "```\n",
    "SELECT reg.region, reg.country\n",
    "  , COUNT(DISTINCT ath.athlete_id) AS no_athletes\n",
    "FROM regions reg\n",
    "LEFT  JOIN athletes ath\n",
    "  ON reg.olympic_cc = ath.country_code\n",
    "GROUP BY reg.region, reg.country\n",
    "ORDER BY no_athletes DESC;\n",
    "```"
   ]
  },
  {
   "cell_type": "markdown",
   "metadata": {},
   "source": [
    "```\n",
    "SELECT reg.region, reg.country\n",
    "  , COUNT(DISTINCT ath.athlete_id) AS no_athletes\n",
    "FROM athletes ath\n",
    "RIGHT JOIN regions reg\n",
    "  ON ath.country_code = reg.olympic_cc\n",
    "GROUP BY reg.region, reg.country\n",
    "ORDER BY no_athletes DESC;\n",
    "```"
   ]
  },
  {
   "cell_type": "markdown",
   "metadata": {},
   "source": [
    "```\n",
    "SELECT reg.region, reg.country\n",
    "  , COUNT(DISTINCT ath.athlete_id) AS no_athletes\n",
    "FROM athletes ath\n",
    "INNER JOIN regions reg\n",
    "  ON ath.country_code = reg.olympic_cc\n",
    "GROUP BY reg.region, reg.country\n",
    "ORDER BY no_athletes DESC;\n",
    "\n",
    "```"
   ]
  },
  {
   "cell_type": "markdown",
   "metadata": {},
   "source": [
    "# What about the weather"
   ]
  },
  {
   "cell_type": "markdown",
   "metadata": {},
   "source": [
    "Regionally, Africa has a reputation for dominating in the field of running. However, Africa has the fewest athletes per (competing) country. Why?\n",
    "\n",
    "Running events are only found in the Summer Olympics, so maybe Africa does not send many athletes to the Winter Games. This would explain the low number of athletes when looking across all Olympic Games.\n",
    "\n",
    "Explore that hypothesis by looking at athlete counts by season (Summer versus Winter)."
   ]
  },
  {
   "cell_type": "markdown",
   "metadata": {},
   "source": [
    "```\n",
    "SELECT reg.region\n",
    "  , ath.season\n",
    "  , COUNT(DISTINCT ath.athlete_id) AS no_athletes\n",
    "  , COUNT(DISTINCT reg.olympic_cc) AS no_countries\n",
    "  , COUNT(DISTINCT ath.athlete_id)/COUNT(DISTINCT reg.olympic_cc) AS athletes_per_country\n",
    "FROM athletes ath\n",
    "INNER JOIN oregions reg\n",
    "  ON ath.country_code = reg.olympic_cc\n",
    "GROUP BY reg.region, ath.season -- Group by region and season\n",
    "ORDER BY reg.region , athletes_per_country;\n",
    "```"
   ]
  },
  {
   "cell_type": "markdown",
   "metadata": {},
   "source": [
    "# Filtering to freezing with a subquery"
   ]
  },
  {
   "cell_type": "markdown",
   "metadata": {},
   "source": [
    "From the first Olympics in 1904 through the 2016 games, African countries have sent 7,845 athletes. However, only 55 of those athletes competed in the Winter Olympics.\n",
    "\n",
    "One-quarter of Africa is covered by the Sahara, and the non-desert areas have year-round heat. Perhaps this lack of cold weather and snow limits the training opportunities for Winter Olympians.\n",
    "\n",
    "Explore climate data to see if all African countries lack winter sports conditions. The World Bank collects average temperatures and precipitation for each country. Monthly and annual 40-year averages are preloaded with temperature in degrees Celsius (0 is freezing) and precipitation in millimeters.\n",
    "\n",
    "Examine the climate data, looking for countries below freezing all year. Are there any in Africa?"
   ]
  },
  {
   "cell_type": "markdown",
   "metadata": {},
   "source": [
    "```\n",
    "-- Countries cold enough for snow year-round\n",
    "SELECT country_code\n",
    "  , country\n",
    "  , COUNT (DISTINCT athlete_id) AS winter_athletes -- Athletes can compete in multiple events \n",
    "FROM athletes\n",
    "WHERE country_code IN (SELECT olympic_cc FROM oclimate WHERE temp_annual < 0)\n",
    "AND season = 'Winter'\n",
    "GROUP BY country_code, country;\n",
    "```"
   ]
  },
  {
   "cell_type": "markdown",
   "metadata": {},
   "source": [
    "# Where winter is white"
   ]
  },
  {
   "cell_type": "markdown",
   "metadata": {},
   "source": [
    "Canada, Russia, and Mongolia are the only countries with Olympians and average annual temperatures below freezing. More commonly, countries have cold weather occurring only during winter months. Countries with only a few months of freezing temperatures and snow still provide athletes the opportunity to train for events like skiing and bobsledding.\n",
    "\n",
    "With this in mind, you will look at climate data for countries with Olympic athletes using the 40-year average monthly temperatures. You are really intrigued by the low Winter Olympics participation in Africa and decide to look at the temperature for all the Olympic regions in the southern hemisphere.\n",
    "\n",
    "Write the query to optimize for readability by using a common table expression (CTE)."
   ]
  },
  {
   "cell_type": "markdown",
   "metadata": {},
   "source": [
    "```\n",
    "WITH south_cte AS -- CTE\n",
    "(\n",
    "  SELECT region\n",
    "    , ROUND(AVG(temp_06),2) AS avg_winter_temp\n",
    "    , ROUND(AVG(precip_06),2) AS avg_winter_precip\n",
    "  FROM oclimate\n",
    "  WHERE region IN ('Africa','South America','Australia and Oceania')\n",
    "  GROUP BY region\n",
    ")\n",
    "\n",
    "SELECT south.region, south.avg_winter_temp, south.avg_winter_precip\n",
    "  , COUNT(DISTINCT ath.athlete_id)\n",
    "FROM south_cte as south\n",
    "INNER JOIN athletes_recent ath\n",
    "  ON south.region = ath.region\n",
    "  AND ath.season = 'Winter'\n",
    "GROUP BY south.region, south.avg_winter_temp, south.avg_winter_precip\n",
    "ORDER BY south.avg_winter_temp;\n",
    "```"
   ]
  },
  {
   "cell_type": "markdown",
   "metadata": {},
   "source": [
    "# Countries with subqueries or CTEs"
   ]
  },
  {
   "cell_type": "markdown",
   "metadata": {},
   "source": [
    "Of the Olympic regions, Africa has the warmest winters. However, some African countries do participate in the Winter Olympics. For instance, Morocco has sent more than 20 athletes over the years. Perhaps looking at the data at the regional level is too broad. Maybe some African countries have colder winters than other African countries.\n",
    "\n",
    "Take another look at winter climate data, but look on a country level. The athletes have been filtered down to include only African athletes, with the first African Olympians competing in 1960.\n",
    "\n",
    "Use both a subquery and CTE structure and compare the results."
   ]
  },
  {
   "cell_type": "markdown",
   "metadata": {},
   "source": [
    "### Subquery"
   ]
  },
  {
   "cell_type": "markdown",
   "metadata": {},
   "source": [
    "```\n",
    "-- Climate by country with Olympian athletes\n",
    "SELECT country\n",
    "  , temp_06\n",
    "  , precip_06\n",
    "FROM climate\n",
    "WHERE region = 'Africa'\n",
    "AND olympic_cc IN (SELECT DISTINCT country_code FROM athletes_wint)\n",
    "ORDER BY temp_06;\n",
    "```"
   ]
  },
  {
   "cell_type": "markdown",
   "metadata": {},
   "source": [
    "### CTE"
   ]
  },
  {
   "cell_type": "markdown",
   "metadata": {},
   "source": [
    "```\n",
    "WITH countries_cte AS -- CTE\n",
    "(\n",
    "    SELECT olympic_cc\n",
    "      , country\n",
    "      , temp_06\n",
    "      , precip_06\n",
    "    FROM climate\n",
    "    WHERE region = 'Africa'\n",
    ")\n",
    "\n",
    "SELECT DISTINCT cte.country\n",
    "  , cte.temp_06\n",
    "  , cte.precip_06\n",
    "FROM athletes_wint AS wint\n",
    "INNER JOIN countries_cte AS cte\n",
    "  ON wint.country_code = cte.olympic_cc\n",
    "ORDER BY temp_06;\n",
    "```"
   ]
  },
  {
   "cell_type": "markdown",
   "metadata": {},
   "source": [
    "# Canadians temp table"
   ]
  },
  {
   "cell_type": "markdown",
   "metadata": {},
   "source": [
    "Canada has an average annual temperature below freezing, so you decide to look at Canadian athletes. You want to know all the winter sports that Canadians participate in and which sport has the most Canadian competitors.\n",
    "\n",
    "The preloaded base table of Olympic athletes, athletes_recent, is quite large. Even though it only includes athletes from two Olympic games, it has thousands of rows and could be slow to query.\n",
    "\n",
    "Since you want to look at Canadian athletes only and then perform some exploratory analysis, you will first create a temporary table of Canadian athletes. Use this table to find the sport with the most athletes."
   ]
  },
  {
   "cell_type": "markdown",
   "metadata": {},
   "source": [
    "```\n",
    "-- Create a temp table of Canadians\n",
    "CREATE TEMP TABLE canadians AS\n",
    "    (SELECT *\n",
    "    FROM athletes_recent\n",
    "    WHERE country_code = 'CAN'\n",
    "    AND season = 'Winter'); -- The table has both summer and winter athletes\n",
    "\n",
    "-- Find the most popular sport\n",
    "SELECT sport\n",
    "  , COUNT(DISTINCT athlete_id) as no_athletes\n",
    "FROM canadians\n",
    "GROUP BY sport \n",
    "ORDER BY no_athletes DESC;\n",
    "```"
   ]
  },
  {
   "cell_type": "markdown",
   "metadata": {},
   "source": [
    "# Analyze that temp table"
   ]
  },
  {
   "cell_type": "markdown",
   "metadata": {},
   "source": [
    "You have access to the table athletes, but it has thousands of entries, making it slow to query. One solution is to create a temporary table of all country codes. You can then analyze statistics related to country characteristics using the temporary table, which allow the query planner to optimize the query execution better."
   ]
  },
  {
   "cell_type": "markdown",
   "metadata": {},
   "source": [
    "```\n",
    "-- Create temp countries table\n",
    "CREATE TEMP TABLE countries AS\n",
    "    (SELECT DISTINCT o.region, a.country_code, o.country\n",
    "    FROM athletes a\n",
    "    INNER JOIN oregions o\n",
    "      ON a.country_code = o.olympic_cc);\n",
    "      \n",
    "ANALYZE countries; -- Collect the statistics\n",
    "\n",
    "-- Count the entries\n",
    "SELECT COUNT(*) FROM countries;\n",
    "```"
   ]
  }
 ],
 "metadata": {
  "kernelspec": {
   "display_name": "Python 3.8.11 ('env_py')",
   "language": "python",
   "name": "python3"
  },
  "language_info": {
   "name": "python",
   "version": "3.8.11"
  },
  "orig_nbformat": 4,
  "vscode": {
   "interpreter": {
    "hash": "1e949e87132dd83f1a7623eb88007e3532b03b66b77111be347aa4a383049722"
   }
  }
 },
 "nbformat": 4,
 "nbformat_minor": 2
}

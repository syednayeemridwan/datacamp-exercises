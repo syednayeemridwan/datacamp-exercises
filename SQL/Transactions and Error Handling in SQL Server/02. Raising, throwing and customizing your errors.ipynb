{
 "cells": [
  {
   "cell_type": "markdown",
   "metadata": {},
   "source": [
    "# RAISERROR syntax"
   ]
  },
  {
   "cell_type": "markdown",
   "metadata": {},
   "source": [
    "Given this `RAISERROR` statement\n",
    "\n",
    "`RAISERROR('You cannot apply a 50%% discount on %s number %d', 6, 1, 'product', 5);`\n",
    "\n",
    "Which of the following outputs will you get if you execute this code?"
   ]
  },
  {
   "cell_type": "markdown",
   "metadata": {},
   "source": [
    "- \"You cannot apply a 50% discount on product number 5\""
   ]
  },
  {
   "cell_type": "markdown",
   "metadata": {},
   "source": [
    "# CATCHING the RAISERROR"
   ]
  },
  {
   "cell_type": "markdown",
   "metadata": {},
   "source": [
    "You need to select a product from the `products` table using a given `product_id`.\n",
    "\n",
    "If the select statement doesn't find any product, you want to raise an error using the `RAISERROR` statement. You also need to catch possible errors in the execution."
   ]
  },
  {
   "cell_type": "markdown",
   "metadata": {},
   "source": [
    "```\n",
    "BEGIN TRY\n",
    "\t-- Change the value\n",
    "    DECLARE @product_id INT = 5;\t\n",
    "    IF NOT EXISTS (SELECT * FROM products WHERE product_id = @product_id)\n",
    "        RAISERROR('No product with id %d.', 11, 1, @product_id);\n",
    "    ELSE \n",
    "        SELECT * FROM products WHERE product_id = @product_id;\n",
    "END TRY\n",
    "BEGIN CATCH\n",
    "\tSELECT ERROR_MESSAGE();\n",
    "END CATCH\n",
    "```"
   ]
  },
  {
   "cell_type": "markdown",
   "metadata": {},
   "source": [
    "# THROW with or without parameters"
   ]
  },
  {
   "cell_type": "markdown",
   "metadata": {},
   "source": [
    "Which of the following is true about the `THROW` statement?"
   ]
  },
  {
   "cell_type": "markdown",
   "metadata": {},
   "source": [
    "- The `THROW` statement without parameters should be placed within a `CATCH` block."
   ]
  },
  {
   "cell_type": "markdown",
   "metadata": {},
   "source": [
    "# THROW without parameters"
   ]
  },
  {
   "cell_type": "markdown",
   "metadata": {},
   "source": [
    "You want to prepare a stored procedure to insert new products in the database. In that stored procedure, you want to insert the possible errors in a table called `errors`, and after that, re-throw the original error.\n",
    "\n",
    "How do you prepare the stored procedure?"
   ]
  },
  {
   "cell_type": "markdown",
   "metadata": {},
   "source": [
    "```\n",
    "CREATE PROCEDURE insert_product\n",
    "  @product_name VARCHAR(50),\n",
    "  @stock INT,\n",
    "  @price DECIMAL\n",
    "\n",
    "AS\n",
    "\n",
    "BEGIN TRY\n",
    "\tINSERT INTO products (product_name, stock, price)\n",
    "\t\tVALUES (@product_name, @stock, @price);\n",
    "END TRY\n",
    "-- Set up the CATCH block\n",
    "BEGIN CATCH\n",
    "\t-- Insert the error and end the statement with a semicolon\n",
    "    INSERT INTO errors VALUES ('Error inserting a product');\n",
    "    -- Re-throw the error\n",
    "\tTHROW; \n",
    "END CATCH\n",
    "```"
   ]
  },
  {
   "cell_type": "markdown",
   "metadata": {},
   "source": [
    "# Executing a stored procedure that throws an error"
   ]
  },
  {
   "cell_type": "markdown",
   "metadata": {},
   "source": [
    "You want to register that you received 3 Trek Conduit+ bikes with a price of $499.99. You think Trek Conduit+ doesn't exist in the `products` table, so you try to insert it as a new product, using the stored procedure you created in the previous exercise:\n",
    "```\n",
    "CREATE PROCEDURE insert_product\n",
    "  @product_name VARCHAR(50),\n",
    "  @stock INT,\n",
    "  @price DECIMAL\n",
    "\n",
    "AS\n",
    "\n",
    "BEGIN TRY\n",
    "    INSERT INTO products (product_name, stock, price)\n",
    "        VALUES (@product_name, @stock, @price);\n",
    "END TRY\n",
    "BEGIN CATCH    \n",
    "    INSERT INTO errors VALUES ('Error inserting a product');  \n",
    "    THROW;  \n",
    "END CATCH\n",
    "```\n",
    "You need to catch the possible errors generated in the execution of the stored procedure, showing the original error message.\n",
    "\n",
    "How do you prepare the script?"
   ]
  },
  {
   "cell_type": "markdown",
   "metadata": {},
   "source": [
    "```\n",
    "BEGIN TRY\n",
    "\t-- Execute the stored procedure\n",
    "\tEXEC insert_product\n",
    "    \t-- Set the values for the parameters\n",
    "    \t@product_name = 'Trek Conduit+',\n",
    "        @stock = 3,\n",
    "        @price = 499.99;\n",
    "END TRY\n",
    "-- Set up the CATCH block\n",
    "BEGIN CATCH\n",
    "\t-- Select the error message\n",
    "\tSELECT ERROR_MESSAGE();\n",
    "END CATCH\n",
    "```"
   ]
  },
  {
   "cell_type": "markdown",
   "metadata": {},
   "source": [
    "# THROW with parameters"
   ]
  },
  {
   "cell_type": "markdown",
   "metadata": {},
   "source": [
    "You need to prepare a script to select all the information of a member from the `staff` table using a given `staff_id`.\n",
    "\n",
    "If the select statement doesn't find any member, you want to throw an error using the `THROW` statement. You need to warn there is no staff member with such id."
   ]
  },
  {
   "cell_type": "markdown",
   "metadata": {},
   "source": [
    "```\n",
    "DECLARE @staff_id INT = 4;\n",
    "\n",
    "IF NOT EXISTS (SELECT * FROM staff WHERE staff_id = @staff_id)\n",
    "   \t-- Invoke the THROW statement with parameters\n",
    "\tTHROW 50001, 'No staff member with such id', 1;\n",
    "ELSE\n",
    "   \tSELECT * FROM staff WHERE staff_id = @staff_id\n",
    "```"
   ]
  },
  {
   "cell_type": "markdown",
   "metadata": {},
   "source": [
    "# Ways of customizing error messages"
   ]
  },
  {
   "cell_type": "markdown",
   "metadata": {},
   "source": [
    "You want to use the `THROW` statement to throw an error with a custom message. Which of the following is a possible option to do so?"
   ]
  },
  {
   "cell_type": "markdown",
   "metadata": {},
   "source": [
    "- You use the `FORMATMESSAGE` function and save the result into a variable that you pass to the `THROW` statement."
   ]
  },
  {
   "cell_type": "markdown",
   "metadata": {},
   "source": [
    "# Concatenating the message"
   ]
  },
  {
   "cell_type": "markdown",
   "metadata": {},
   "source": [
    "You need to prepare a script to select all the information about the members from the `staff` table using a given `first_name`.\n",
    "\n",
    "If the select statement doesn't find any member, you want to throw an error using the `THROW` statement. You need to warn there is no staff member with such a name."
   ]
  },
  {
   "cell_type": "markdown",
   "metadata": {},
   "source": [
    "```\n",
    "DECLARE @first_name NVARCHAR(20) = 'Pedro';\n",
    "\n",
    "-- Concat the message\n",
    "DECLARE @my_message NVARCHAR(500) =\n",
    "\tCONCAT('There is no staff member with ', @first_name, ' as the first name.');\n",
    "\n",
    "IF NOT EXISTS (SELECT * FROM staff WHERE first_name = @first_name)\n",
    "\t-- Throw the error\n",
    "\tTHROW 50000, @my_message, 1;\n",
    "```"
   ]
  },
  {
   "cell_type": "markdown",
   "metadata": {},
   "source": [
    "# FORMATMESSAGE with message string"
   ]
  },
  {
   "cell_type": "markdown",
   "metadata": {},
   "source": [
    "Every time you sell a bike in your store, you need to check if there is enough stock. You prepare a script to check it and throw an error if there is not enough stock."
   ]
  },
  {
   "cell_type": "markdown",
   "metadata": {},
   "source": [
    "```\n",
    "DECLARE @product_name AS NVARCHAR(50) = 'Trek CrossRip+ - 2018';\n",
    "-- Set the number of sold bikes\n",
    "DECLARE @sold_bikes AS INT = 10;\n",
    "DECLARE @current_stock INT;\n",
    "\n",
    "SELECT @current_stock = stock FROM products WHERE product_name = @product_name;\n",
    "\n",
    "DECLARE @my_message NVARCHAR(500) =\n",
    "\t-- Customize the error message\n",
    "\tFORMATMESSAGE('There are not enough %s bikes. You have %d in stock.' , @product_name, @current_stock);\n",
    "\n",
    "IF (@current_stock - @sold_bikes < 0)\n",
    "\t-- Throw the error\n",
    "\tTHROW 50000, @my_message, 1;\n",
    "```"
   ]
  },
  {
   "cell_type": "markdown",
   "metadata": {},
   "source": [
    "# FORMATMESSAGE with message number"
   ]
  },
  {
   "cell_type": "markdown",
   "metadata": {},
   "source": [
    "Like in the previous exercise, you need to check if there is enough stock when you sell a product.\n",
    "\n",
    "This time you want to add your custom error message to the `sys.messages` catalog, by executing the `sp_addmessage` stored procedure. Once you have added the message, you can use it in the `FORMATMESSAGE` function."
   ]
  },
  {
   "cell_type": "markdown",
   "metadata": {},
   "source": [
    "```\n",
    "EXEC sp_addmessage @msgnum = 50002, @severity = 16, @msgtext = 'There are not enough %s bikes. You only have %d in stock.', @lang = N'us_english';\n",
    "\n",
    "DECLARE @product_name AS NVARCHAR(50) = 'Trek CrossRip+ - 2018';\n",
    "DECLARE @sold_bikes AS INT = 10;\n",
    "DECLARE @current_stock INT;\n",
    "\n",
    "SELECT @current_stock = stock FROM products WHERE product_name = @product_name;\n",
    "\n",
    "DECLARE @my_message NVARCHAR(500) =\n",
    "\t-- Prepare the error message\n",
    "\tFORMATMESSAGE(50002, @product_name, @current_stock);\n",
    "\n",
    "IF (@current_stock - @sold_bikes < 0)\n",
    "\t-- Throw the error\n",
    "\tTHROW 50000, @my_message, 1;\n",
    "```"
   ]
  }
 ],
 "metadata": {
  "kernelspec": {
   "display_name": "Python 3.8.11 ('env_py')",
   "language": "python",
   "name": "python3"
  },
  "language_info": {
   "name": "python",
   "version": "3.8.11"
  },
  "orig_nbformat": 4,
  "vscode": {
   "interpreter": {
    "hash": "1e949e87132dd83f1a7623eb88007e3532b03b66b77111be347aa4a383049722"
   }
  }
 },
 "nbformat": 4,
 "nbformat_minor": 2
}

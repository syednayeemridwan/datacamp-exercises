{
 "cells": [
  {
   "cell_type": "markdown",
   "metadata": {},
   "source": [
    "# The TRY...CATCH syntax"
   ]
  },
  {
   "cell_type": "markdown",
   "metadata": {},
   "source": [
    "You want to insert a new product in your products table. You prepare this script, trying to control the execution if an error occurs. You use the `TRY...CATCH` construct you learned to handle the possible errors.\n",
    "```\n",
    "BEGIN TRY\n",
    "    INSERT INTO products (product_name, stock, price)\n",
    "        VALUES ('Trek Powerfly 5 - 2018', 10, 3499.99);\n",
    "    SELECT 'Product inserted correctly!';\n",
    "\n",
    "    BEGIN CATCH\n",
    "        SELECT 'An error occurred! You are in the CATCH block';   \n",
    "    END CATCH\n",
    "END TRY\n",
    "```\n",
    "Which of the following is true about the syntax?"
   ]
  },
  {
   "cell_type": "markdown",
   "metadata": {},
   "source": [
    "- This script isn't correct because the `CATCH` block must start after the end of the `TRY` block."
   ]
  },
  {
   "cell_type": "markdown",
   "metadata": {},
   "source": [
    "# Your first error-handling script"
   ]
  },
  {
   "cell_type": "markdown",
   "metadata": {},
   "source": [
    "You realized your `products` table doesn't have any constraint to check the data stored in its `stock` column. It makes sense that `stock` is always greater than or equal to 0. For some reason, there is a mistake in the following row. The stock is -1!\n",
    "\n",
    "```\n",
    "| product_id | product_name | stock | price |\n",
    "|------------|--------------|-------|-------|\n",
    "| 6          | Trek Neko+   | -1    | 2799  |\n",
    "```\n",
    "\n",
    "You want to prepare a script adding a constraint to the `products` table, so that only stocks greater than or equal to 0 are allowed.\n",
    "\n",
    "If you add this constraint that only allows stocks greater than or equal to 0, the execution will fail because there is one row where the stock equals -1.\n",
    "\n",
    "How can you prepare the script?"
   ]
  },
  {
   "cell_type": "markdown",
   "metadata": {},
   "source": [
    "```\n",
    "-- Set up the TRY block\n",
    "BEGIN TRY\n",
    "\t-- Add the constraint\n",
    "\tALTER TABLE products\n",
    "\t\tADD CONSTRAINT CHK_Stock CHECK (stock >= 0);\n",
    "END TRY\n",
    "-- Set up the CATCH block\n",
    "BEGIN CATCH\n",
    "\tSELECT 'An error occurred!';\n",
    "END CATCH\n",
    "```"
   ]
  },
  {
   "cell_type": "markdown",
   "metadata": {},
   "source": [
    "# Nesting TRY...CATCH constructs"
   ]
  },
  {
   "cell_type": "markdown",
   "metadata": {},
   "source": [
    "You want to register a new buyer in your `buyers` table. This new buyer is Peter Thomson. His e-mail is peterthomson@mail.com and his phone number is 555000100.\n",
    "\n",
    "In your database, there is also a table called `errors`, in which each error is stored.\n",
    "\n",
    "You prepare a script that controls possible errors in the insertion of this person's data. It also inserts those errors into the `errors` table.\n",
    "\n",
    "How do you prepare the script?"
   ]
  },
  {
   "cell_type": "markdown",
   "metadata": {},
   "source": [
    "```\n",
    "-- Set up the first TRY block\n",
    "BEGIN TRY\n",
    "\tINSERT INTO buyers (first_name, last_name, email, phone)\n",
    "\t\tVALUES ('Peter', 'Thompson', 'peterthomson@mail.com', '555000100');\n",
    "END TRY\n",
    "-- Set up the first CATCH block\n",
    "BEGIN CATCH\n",
    "\tSELECT 'An error occurred inserting the buyer! You are in the first CATCH block';\n",
    "    -- Set up the nested TRY block\n",
    "    BEGIN TRY\n",
    "    \tINSERT INTO errors \n",
    "        \tVALUES ('Error inserting a buyer');\n",
    "        SELECT 'Error inserted correctly!';\n",
    "\tEND TRY\n",
    "    -- Set up the nested CATCH block\n",
    "    BEGIN CATCH\n",
    "    \tSELECT 'An error occurred inserting the error! You are in the nested CATCH block';\n",
    "    END CATCH \n",
    "END CATCH\n",
    "```"
   ]
  },
  {
   "cell_type": "markdown",
   "metadata": {},
   "source": [
    "# Anatomy review"
   ]
  },
  {
   "cell_type": "markdown",
   "metadata": {},
   "source": [
    "When you execute the following script:\n",
    "```\n",
    "INSERT INTO products (product_name, stock, price)\n",
    "    VALUES ('Trek Powerfly 5 - 2018', 10, 3499.99);\n",
    "```\n",
    "The console of your SQL Server shows this:\n",
    "```\n",
    "Msg 2627, Level 14, State 1, Line 1\n",
    "Violation of UNIQUE KEY constraint 'unique_name'. \n",
    "Cannot insert duplicate key in object 'dbo.products'. \n",
    "The duplicate key value is (Trek Powerfly 5 - 2018).\n",
    "```\n",
    "What are the different parts of the error you get, from left to right?"
   ]
  },
  {
   "cell_type": "markdown",
   "metadata": {},
   "source": [
    "- Error number, severity level, state, line, and message text."
   ]
  },
  {
   "cell_type": "markdown",
   "metadata": {},
   "source": [
    "# Correcting compilation errors"
   ]
  },
  {
   "cell_type": "markdown",
   "metadata": {},
   "source": [
    "Today, your colleague Bernard has to leave work early. He was preparing a script to insert a new product into the `products` table, but he couldn't finish it. He asks you for help and gives you the script to finish it.\n",
    "\n",
    "He wants to insert the 'Sun Bicycles ElectroLite - 2017', with a `stock` of 10 units and a `price` of $1559.99. He also wants to insert possible errors in a table called `errors`. In fact, if you try to insert this bicycle, you will get an error because there is already another product with the same name.\n",
    "\n",
    "When you execute the script, you realize there are several compilation errors.\n",
    "\n",
    "Can you correct Bernard's script? The final output must be: An error occurred inserting the product!"
   ]
  },
  {
   "cell_type": "markdown",
   "metadata": {},
   "source": [
    "```\n",
    "BEGIN TRY\n",
    "\tINSERT INTO products (product_name, stock, price)\n",
    "\t\tVALUES ('Sun Bicycles ElectroLite - 2017', 10, 1559.99);\n",
    "END TRY\n",
    "BEGIN CATCH\n",
    "\tSELECT 'An error occurred inserting the product!';\n",
    "    BEGIN TRY\n",
    "    \tINSERT INTO errors\n",
    "        \tVALUES ('Error inserting a product');\n",
    "    END TRY    \n",
    "    BEGIN CATCH\n",
    "    \tSELECT 'An error occurred inserting the error!';\n",
    "    END CATCH    \n",
    "END CATCH\n",
    "```"
   ]
  },
  {
   "cell_type": "markdown",
   "metadata": {},
   "source": [
    "# Error function syntax"
   ]
  },
  {
   "cell_type": "markdown",
   "metadata": {},
   "source": [
    "Which of the following is true about the functions `ERROR_NUMBER()`, `ERROR_SEVERITY()`, `ERROR_STATE()`, `ERROR_PROCEDURE()`, `ERROR_LINE()`, and `ERROR_MESSAGE()`?"
   ]
  },
  {
   "cell_type": "markdown",
   "metadata": {},
   "source": [
    "- These functions must be placed within the `CATCH` block. If an error occurs within the `TRY` block, they return information about the error."
   ]
  },
  {
   "cell_type": "markdown",
   "metadata": {},
   "source": [
    "# Using error functions"
   ]
  },
  {
   "cell_type": "markdown",
   "metadata": {},
   "source": [
    "For every month, you want to know the total amount of money you earned in your bike store. Instead of reviewing every order line, you thought it would be better to prepare a script that computes it and displays the results.\n",
    "\n",
    "While writing the script, you made a mistake. As you can see, the operation `'Total: ' + SUM(price * quantity) AS total` is missing a cast conversion, causing an error.\n",
    "\n",
    "How can we catch this error? Show the error number, severity, state, line, and message."
   ]
  },
  {
   "cell_type": "markdown",
   "metadata": {},
   "source": [
    "```\n",
    "-- Set up the TRY block\n",
    "BEGIN TRY  \t\n",
    "\tSELECT 'Total: ' + SUM(price * quantity) AS total\n",
    "\tFROM orders  \n",
    "END TRY\n",
    "-- Set up the CATCH block\n",
    "BEGIN CATCH  \n",
    "\t-- Show error information.\n",
    "\tSELECT  ERROR_NUMBER() AS number,  \n",
    "        \tERROR_SEVERITY() AS severity_level,  \n",
    "        \tERROR_STATE() AS state,\n",
    "        \tERROR_LINE() AS line,  \n",
    "        \tERROR_MESSAGE() AS message; \t\n",
    "END CATCH \n",
    "```"
   ]
  },
  {
   "cell_type": "markdown",
   "metadata": {},
   "source": [
    "# Using error functions in a nested TRY...CATCH"
   ]
  },
  {
   "cell_type": "markdown",
   "metadata": {},
   "source": [
    "You received some new electric bikes in your store, so you need to update the stock.\n",
    "\n",
    "You want to register that you received 2 Trek Powerfly 5 - 2018 bikes with a price of $3499.99 each, and 3 New Power K- 2018 bikes at $1999.99 each.\n",
    "\n",
    "You try to insert the products in the database because you think they are new models. However, you forgot you already have the first one in stock. Luckily, the `products` table has a constraint requiring every product name to be unique.\n",
    "\n",
    "You prepare a script controlling possible errors in the insertions. You also want to insert possible errors in a table called `errors`, and, if something fails when inserting the error, show the error number and error message."
   ]
  },
  {
   "cell_type": "markdown",
   "metadata": {},
   "source": [
    "```\n",
    "BEGIN TRY\n",
    "    INSERT INTO products (product_name, stock, price) \n",
    "    VALUES\t('Trek Powerfly 5 - 2018', 2, 3499.99),   \t\t\n",
    "    \t\t('New Power K- 2018', 3, 1999.99)\t\t\n",
    "END TRY\n",
    "-- Set up the outer CATCH block\n",
    "BEGIN CATCH\n",
    "\tSELECT 'An error occurred inserting the product!';\n",
    "    -- Set up the inner TRY block\n",
    "    BEGIN TRY\n",
    "    \t-- Insert the error\n",
    "    \tINSERT INTO errors \n",
    "        \tVALUES ('Error inserting a product');\n",
    "    END TRY    \n",
    "    -- Set up the inner CATCH block\n",
    "    BEGIN CATCH\n",
    "    \t-- Show number and message error\n",
    "    \tSELECT \n",
    "        \tERROR_NUMBER() AS line,\t   \n",
    "\t\t\tERROR_MESSAGE() AS message; \n",
    "    END CATCH    \n",
    "END CATCH\n",
    "```"
   ]
  }
 ],
 "metadata": {
  "kernelspec": {
   "display_name": "Python 3.8.11 ('env_py')",
   "language": "python",
   "name": "python3"
  },
  "language_info": {
   "name": "python",
   "version": "3.8.11"
  },
  "orig_nbformat": 4,
  "vscode": {
   "interpreter": {
    "hash": "1e949e87132dd83f1a7623eb88007e3532b03b66b77111be347aa4a383049722"
   }
  }
 },
 "nbformat": 4,
 "nbformat_minor": 2
}

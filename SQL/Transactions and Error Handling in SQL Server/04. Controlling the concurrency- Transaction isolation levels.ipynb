{
 "cells": [
  {
   "cell_type": "markdown",
   "metadata": {},
   "source": [
    "# Concurrency phenomena"
   ]
  },
  {
   "cell_type": "markdown",
   "metadata": {},
   "source": [
    "Which of the following is true about these concurrency phenomena?"
   ]
  },
  {
   "cell_type": "markdown",
   "metadata": {},
   "source": [
    "- Phantom reads occur when a transaction reads some records twice, but the first result it gets is different from the second result as a consequence of another committed transaction having inserted a row."
   ]
  },
  {
   "cell_type": "markdown",
   "metadata": {},
   "source": [
    "# Using the READ UNCOMMITTED isolation level"
   ]
  },
  {
   "cell_type": "markdown",
   "metadata": {},
   "source": [
    "A new client visits your bank to open an account. You insert her data into your system, causing a script like this one to start running:\n",
    "```\n",
    "BEGIN TRAN\n",
    "\n",
    "  INSERT INTO customers (first_name, last_name, email, phone)\n",
    "  VALUES ('Ann', 'Ros', 'aros@mail.com', '555555555')\n",
    "\n",
    "  DECLARE @cust_id INT = scope_identity()\n",
    "\n",
    "  INSERT INTO accounts (account_number, customer_id, current_balance)\n",
    "  VALUES ('55555555555010121212', @cust_id, 150)\n",
    "\n",
    "COMMIT TRAN\n",
    "```\n",
    "At that moment, your marketing colleague starts to send e-mails to every customer. There is going to be a raffle for a car! The script he executes gets every customer's data, including the last customer you inserted. This script starts running after the first insert occurs but before the `COMMIT TRAN`.\n",
    "\n",
    "How can that be?"
   ]
  },
  {
   "cell_type": "markdown",
   "metadata": {},
   "source": [
    "```\n",
    "-- Set the appropriate isolation level\n",
    "SET TRANSACTION ISOLATION LEVEL READ UNCOMMITTED;\n",
    "\n",
    "\t-- Select first_name, last_name, email and phone\n",
    "\tSELECT\n",
    "    \tfirst_name, \n",
    "        last_name, \n",
    "        email,\n",
    "        phone\n",
    "    FROM customers;\n",
    "```"
   ]
  },
  {
   "cell_type": "markdown",
   "metadata": {},
   "source": [
    "# Choosing the correct isolation level"
   ]
  },
  {
   "cell_type": "markdown",
   "metadata": {},
   "source": [
    "Non-repeatable reads occur when a transaction reads a record twice, but the first result is different from the second result as a consequence of another committed transaction altering this data.\n",
    "\n",
    "From all the isolation levels you have studied so far, which isolation level prevents non-repeatable reads?"
   ]
  },
  {
   "cell_type": "markdown",
   "metadata": {},
   "source": [
    "- The `REPEATABLE READ` isolation level."
   ]
  },
  {
   "cell_type": "markdown",
   "metadata": {},
   "source": [
    "# Prevent dirty reads"
   ]
  },
  {
   "cell_type": "markdown",
   "metadata": {},
   "source": [
    "You have to analyze how many accounts have more than $50,000.\n",
    "\n",
    "As the number of accounts is an important result, you don't want to read data modified by other transactions that haven't committed or rolled back yet. In doing this, you prevent dirty reads. However, you don't need to consider having non-repeatable or phantom reads.\n",
    "\n",
    "Prepare the script."
   ]
  },
  {
   "cell_type": "markdown",
   "metadata": {},
   "source": [
    "```\n",
    "-- Set the appropriate isolation level\n",
    "SET TRANSACTION ISOLATION LEVEL READ COMMITTED\n",
    "\n",
    "-- Count the accounts\n",
    "SELECT COUNT(*) AS number_of_accounts\n",
    "FROM accounts\n",
    "WHERE current_balance >= 50000;\n",
    "```"
   ]
  },
  {
   "cell_type": "markdown",
   "metadata": {},
   "source": [
    "# Preventing non-repeatable reads"
   ]
  },
  {
   "cell_type": "markdown",
   "metadata": {},
   "source": [
    "You are in charge of analyzing data about your bank customers.\n",
    "\n",
    "You prepare a script that first selects the data of every customer. After that, your script needs to process some mathematical operations based on the result. (We won't focus on these operations for this exercise.) After that, you want to select the same data again, ensuring nothing has changed.\n",
    "\n",
    "As this is critical, you think it is better if nobody can change anything in the `customers` table until you finish your analysis. In doing this, you prevent non-repeatable reads."
   ]
  },
  {
   "cell_type": "markdown",
   "metadata": {},
   "source": [
    "```\n",
    "-- Set the appropriate isolation level\n",
    "SET TRANSACTION ISOLATION LEVEL REPEATABLE READ\n",
    "\n",
    "-- Begin a transaction\n",
    "BEGIN TRAN\n",
    "\n",
    "SELECT * FROM customers;\n",
    "\n",
    "-- some mathematical operations, don't care about them...\n",
    "\n",
    "SELECT * FROM customers;\n",
    "\n",
    "-- Commit the transaction\n",
    "COMMIT TRAN\n",
    "```"
   ]
  },
  {
   "cell_type": "markdown",
   "metadata": {},
   "source": [
    "# Prevent phantom reads in a table"
   ]
  },
  {
   "cell_type": "markdown",
   "metadata": {},
   "source": [
    "Today you have to analyze the data of every customer of your bank. As this information is very important, you think about locking the complete `customers` table, so that nobody will be able to change anything in this table. In doing this, you prevent phantom reads.\n",
    "\n",
    "You prepare a script to select that information, and with the result of this selection, you need to process some mathematical operations. (We won't focus on these operations for this exercise.) After that, you want to select the same data again, ensuring nothing has changed."
   ]
  },
  {
   "cell_type": "markdown",
   "metadata": {},
   "source": [
    "```\n",
    "-- Set the appropriate isolation level\n",
    "SET TRANSACTION ISOLATION LEVEL SERIALIZABLE\n",
    "\n",
    "-- Begin a transaction\n",
    "BEGIN TRAN\n",
    "\n",
    "SELECT * FROM customers;\n",
    "\n",
    "-- After some mathematical operations, we selected information from the customers table.\n",
    "SELECT * FROM customers;\n",
    "\n",
    "-- Commit the transaction\n",
    "COMMIT TRAN\n",
    "```"
   ]
  },
  {
   "cell_type": "markdown",
   "metadata": {},
   "source": [
    "# Prevent phantom reads just in some rows"
   ]
  },
  {
   "cell_type": "markdown",
   "metadata": {},
   "source": [
    "You need to analyze some data about your bank customers with the `customer_id` between 1 and 10. You only want to lock the rows of the `customers` table with the customer_id between 1 and 10. In doing this, you guarantee nobody will be able to change these rows, and you allow other transactions to work with the rest of the table.\n",
    "\n",
    "You need to select the customers and execute some mathematical operations again. (We won't focus either on these operations for this exercise.) After that, you want to select the customers with the customer_id between 1 and 10 again, ensuring nothing has changed.\n",
    "\n",
    "How can you prepare the script?"
   ]
  },
  {
   "cell_type": "markdown",
   "metadata": {},
   "source": [
    "```\n",
    "-- Set the appropriate isolation level\n",
    "SET TRANSACTION ISOLATION LEVEL SERIALIZABLE\n",
    "\n",
    "-- Begin a transaction\n",
    "BEGIN TRAN\n",
    "\n",
    "-- Select customer_id between 1 and 10\n",
    "SELECT * \n",
    "FROM customers\n",
    "WHERE customer_id BETWEEN 1 AND 10;\n",
    "\n",
    "-- After completing some mathematical operation, select customer_id between 1 and 10\n",
    "SELECT * \n",
    "FROM customers\n",
    "WHERE customer_id BETWEEN 1 AND 10;\n",
    "\n",
    "-- Commit the transaction\n",
    "COMMIT TRAN\n",
    "```"
   ]
  },
  {
   "cell_type": "markdown",
   "metadata": {},
   "source": [
    "# Setting READ COMMITTED SNAPSHOT to ON"
   ]
  },
  {
   "cell_type": "markdown",
   "metadata": {},
   "source": [
    "The default isolation level of your database is `READ COMMITTED`. You made some scripts that were supposed to be run under the `READ COMMITTED` isolation level.\n",
    "\n",
    "Now, you want every script you already made to be run with the `READ COMMITTED SNAPSHOT` option set to ON. In doing this, each statement under the `READ COMMITTED` isolation level will see the committed changes that occur before the start of each statement.\n",
    "\n",
    "Which options do you need to set in your database?"
   ]
  },
  {
   "cell_type": "markdown",
   "metadata": {},
   "source": [
    "- `ALTER DATABASE myDatabaseName SET ALLOW_SNAPSHOT_ISOLATION ON` and `ALTER DATABASE myDatabaseName SET READ_COMMITTED_SNAPSHOT ON`."
   ]
  },
  {
   "cell_type": "markdown",
   "metadata": {},
   "source": [
    "# Comparing WITH (NOLOCK) & READ UNCOMMITTED"
   ]
  },
  {
   "cell_type": "markdown",
   "metadata": {},
   "source": [
    "Your colleague needs to read some uncommitted data within a transaction. He has to decide whether to use `WITH (NOLOCK)` option or the `READ UNCOMMITTED` isolation level, but he is not sure about the differences between both options.\n",
    "\n",
    "Can you help him to clarify the differences between using `WITH (NOLOCK)` option and the `READ UNCOMMITTED` isolation level?"
   ]
  },
  {
   "cell_type": "markdown",
   "metadata": {},
   "source": [
    "- The `WITH (NOLOCK)` option behaves like the `READ UNCOMMITTED` isolation level. But whereas the isolation level applies for the entire connection, `WITH NOLOCK` applies to a specific table."
   ]
  },
  {
   "cell_type": "markdown",
   "metadata": {},
   "source": [
    "# Avoid being blocked"
   ]
  },
  {
   "cell_type": "markdown",
   "metadata": {},
   "source": [
    "You are trying to select every movement of account 1 from the `transactions` table. When selecting that information, you are blocked by another transaction, and the result doesn't output. Your database is configured under the `READ COMMITTED` isolation level.\n",
    "\n",
    "Can you change your select query to get the information right now without changing the isolation level? In doing this you can read the uncommitted data from the `transactions` table."
   ]
  },
  {
   "cell_type": "markdown",
   "metadata": {},
   "source": [
    "```\n",
    "SELECT *\n",
    "\t-- Avoid being blocked\n",
    "\tFROM transactions WITH (NOLOCK)\n",
    "WHERE account_id = 1\n",
    "```"
   ]
  }
 ],
 "metadata": {
  "kernelspec": {
   "display_name": "Python 3.8.11 ('env_py')",
   "language": "python",
   "name": "python3"
  },
  "language_info": {
   "name": "python",
   "version": "3.8.11"
  },
  "orig_nbformat": 4,
  "vscode": {
   "interpreter": {
    "hash": "1e949e87132dd83f1a7623eb88007e3532b03b66b77111be347aa4a383049722"
   }
  }
 },
 "nbformat": 4,
 "nbformat_minor": 2
}

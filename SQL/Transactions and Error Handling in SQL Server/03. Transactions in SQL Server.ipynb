{
 "cells": [
  {
   "cell_type": "markdown",
   "metadata": {},
   "source": [
    "# Transaction statements"
   ]
  },
  {
   "cell_type": "markdown",
   "metadata": {},
   "source": [
    "Which of the following is not correct about transaction statements?"
   ]
  },
  {
   "cell_type": "markdown",
   "metadata": {},
   "source": [
    "- The `COMMIT TRAN|TRANSACTION` statement reverts a transaction to the beginning or a savepoint inside the transaction."
   ]
  },
  {
   "cell_type": "markdown",
   "metadata": {},
   "source": [
    "# Correcting a transaction"
   ]
  },
  {
   "cell_type": "markdown",
   "metadata": {},
   "source": [
    "Today you have been given a script which is not correct. It was written by a colleague of yours who didn't know how to finish it. Your colleague tried to transfer $100 from account 1 to account 5, and register those movements into the `transactions` table.\n",
    "\n",
    "You immediately realize there are several errors. SQL Server doesn't recognize the transaction statements it uses.\n",
    "\n",
    "Can you correct the script?"
   ]
  },
  {
   "cell_type": "markdown",
   "metadata": {},
   "source": [
    "```\n",
    "BEGIN TRY  \n",
    "\tBEGIN TRAN;\n",
    "\t\tUPDATE accounts SET current_balance = current_balance - 100 WHERE account_id = 1;\n",
    "\t\tINSERT INTO transactions VALUES (1, -100, GETDATE());\n",
    "        \n",
    "\t\tUPDATE accounts SET current_balance = current_balance + 100 WHERE account_id = 5;\n",
    "\t\tINSERT INTO transactions VALUES (5, 100, GETDATE());\n",
    "\tCOMMIT TRAN;\n",
    "END TRY\n",
    "BEGIN CATCH  \n",
    "\tROLLBACK TRAN;\n",
    "END CATCH\n",
    "```"
   ]
  },
  {
   "cell_type": "markdown",
   "metadata": {},
   "source": [
    "# Rolling back a transaction if there is an error"
   ]
  },
  {
   "cell_type": "markdown",
   "metadata": {},
   "source": [
    "On your first day of work, you were given the task of setting up transactions that record when money is transferred in your bank.\n",
    "\n",
    "You want to prepare a simple script where $100 transfers from `account_id = 1` and goes to `account_id = 5`. After that, it registers those movements into the `transactions` table. You think you have written everything correctly, but as a cautious worker, you prefer to check everything!\n",
    "\n",
    "As a matter of fact, you did make a mistake. Instead of inserting a new transaction for account 5, you did it for account 500, which doesn't exist.\n",
    "\n",
    "To prevent future errors, the script you create should rollback every change if an error occurs. If everything goes correctly, the transaction should be committed."
   ]
  },
  {
   "cell_type": "markdown",
   "metadata": {},
   "source": [
    "```\n",
    "BEGIN TRY  \n",
    "\t-- Begin the transaction\n",
    "\tBEGIN TRAN;\n",
    "\t\tUPDATE accounts SET current_balance = current_balance - 100 WHERE account_id = 1;\n",
    "\t\tINSERT INTO transactions VALUES (1, -100, GETDATE());\n",
    "        \n",
    "\t\tUPDATE accounts SET current_balance = current_balance + 100 WHERE account_id = 5;\n",
    "        -- Correct it\n",
    "\t\tINSERT INTO transactions VALUES (500, 100, GETDATE());\n",
    "    -- Commit the transaction\n",
    "\tCOMMIT TRAN;    \n",
    "END TRY\n",
    "BEGIN CATCH  \n",
    "\tSELECT 'Rolling back the transaction';\n",
    "    -- Rollback the transaction\n",
    "\tROLLBACK TRAN;\n",
    "END CATCH\n",
    "```"
   ]
  },
  {
   "cell_type": "markdown",
   "metadata": {},
   "source": [
    "# Choosing when to commit or rollback a transaction"
   ]
  },
  {
   "cell_type": "markdown",
   "metadata": {},
   "source": [
    "The bank where you work has decided to give $100 to those accounts with less than $5,000. However, the bank director only wants to give that money if there aren't more than 200 accounts with less than $5,000.\n",
    "\n",
    "You prepare a script to give those $100, and of the multiple ways of doing it, you decide to open a transaction and then update every account with a balance of less than $5,000. After that, you check the number of the rows affected by the update, using the `@@ROWCOUNT` function. If this number is bigger than 200, you rollback the transaction. Otherwise, you commit it.\n",
    "\n",
    "How do you prepare the script?"
   ]
  },
  {
   "cell_type": "markdown",
   "metadata": {},
   "source": [
    "```\n",
    "-- Begin the transaction\n",
    "BEGIN TRAN; \n",
    "\tUPDATE accounts set current_balance = current_balance + 100\n",
    "\t\tWHERE current_balance < 5000;\n",
    "\t-- Check number of affected rows\n",
    "\tIF @@ROWCOUNT > 200 \n",
    "\t\tBEGIN \n",
    "        \t-- Rollback the transaction\n",
    "\t\t\tROLLBACK TRAN; \n",
    "\t\t\tSELECT 'More accounts than expected. Rolling back'; \n",
    "\t\tEND\n",
    "\tELSE\n",
    "\t\tBEGIN \n",
    "        \t-- Commit the transaction\n",
    "\t\t\tCOMMIT TRAN; \n",
    "\t\t\tSELECT 'Updates commited'; \n",
    "\t\tEND\n",
    "```"
   ]
  },
  {
   "cell_type": "markdown",
   "metadata": {},
   "source": [
    "# Modifiers of the @@TRANCOUNT value"
   ]
  },
  {
   "cell_type": "markdown",
   "metadata": {},
   "source": [
    "Which of the following is false about @@`TRANCOUNT`?"
   ]
  },
  {
   "cell_type": "markdown",
   "metadata": {},
   "source": [
    "- The `COMMIT TRAN|TRANSACTION` statement decrements the value of `@@TRANCOUNT` to 0, except if there is a savepoint."
   ]
  },
  {
   "cell_type": "markdown",
   "metadata": {},
   "source": [
    "# Checking @@TRANCOUNT in a TRY...CATCH construct"
   ]
  },
  {
   "cell_type": "markdown",
   "metadata": {},
   "source": [
    "The owner of account 10 has won a raffle and will be awarded $200. You prepare a simple script to add those $200 to the `current_balance` of account 10. You think you have written everything correctly, but you prefer to check your code.\n",
    "\n",
    "In fact, you made a silly mistake when adding the money: `SET current_balance = 'current_balance' + 200`. You wrote `'current_balance'` as a string, which generates an error.\n",
    "\n",
    "The script you create should rollback every change if an error occurs, checking if there is an open transaction. If everything goes correctly, the transaction should be committed, also checking if there is an open transaction."
   ]
  },
  {
   "cell_type": "markdown",
   "metadata": {},
   "source": [
    "```\n",
    "BEGIN TRY\n",
    "\t-- Begin the transaction\n",
    "\tBEGIN TRAN;\n",
    "    \t-- Correct the mistake\n",
    "\t\tUPDATE accounts SET current_balance = current_balance + 200\n",
    "\t\t\tWHERE account_id = 10;\n",
    "    \t-- Check if there is a transaction\n",
    "\t\tIF @@TRANCOUNT > 0     \n",
    "    \t\t-- Commit the transaction\n",
    "\t\t\tCOMMIT TRAN;\n",
    "     \n",
    "\tSELECT * FROM accounts\n",
    "    \tWHERE account_id = 10;      \n",
    "END TRY\n",
    "BEGIN CATCH  \n",
    "    SELECT 'Rolling back the transaction'; \n",
    "    -- Check if there is a transaction\n",
    "    IF @@TRANCOUNT > 0   \t\n",
    "    \t-- Rollback the transaction\n",
    "        ROLLBACK TRAN;\n",
    "END CATCH\n",
    "```"
   ]
  },
  {
   "cell_type": "markdown",
   "metadata": {},
   "source": [
    "# Using savepoints"
   ]
  },
  {
   "cell_type": "markdown",
   "metadata": {},
   "source": [
    "Your colleague Anita needs help. She prepared a script that uses savepoints, but it doesn't work. The script marks the first savepoint, `savepoint1` and then inserts the data of a customer. Then, the script marks another savepoint, `savepoint2`, and inserts the data of another customer again. After that, both savepoints are rolled back. Finally, the script marks another savepoint, `savepoint3`, and inserts the data of another customer.\n",
    "\n",
    "Anita tells you that her script doesn't work because it has some errors, but she doesn't know how to correct them. Can you help her?"
   ]
  },
  {
   "cell_type": "markdown",
   "metadata": {},
   "source": [
    "```\n",
    "BEGIN TRAN;\n",
    "\t-- Mark savepoint1\n",
    "\t SAVE TRAN savepoint1;\n",
    "\tINSERT INTO customers VALUES ('Mark', 'Davis', 'markdavis@mail.com', '555909090');\n",
    "\n",
    "\t-- Mark savepoint2\n",
    "     SAVE TRAN savepoint2;\n",
    "\tINSERT INTO customers VALUES ('Zack', 'Roberts', 'zackroberts@mail.com', '555919191');\n",
    "\n",
    "\t-- Rollback savepoint2\n",
    "\t ROLLBACK TRAN savepoint2;\n",
    "    -- Rollback savepoint1\n",
    "\t ROLLBACK TRAN savepoint1;\n",
    "\n",
    "\t-- Mark savepoint3\n",
    "\t SAVE TRAN savepoint3;\n",
    "\tINSERT INTO customers VALUES ('Jeremy', 'Johnsson', 'jeremyjohnsson@mail.com', '555929292');\n",
    "-- Commit the transaction\n",
    "COMMIT TRAN;\n",
    "```"
   ]
  },
  {
   "cell_type": "markdown",
   "metadata": {},
   "source": [
    "# XACT_ABORT behavior"
   ]
  },
  {
   "cell_type": "markdown",
   "metadata": {},
   "source": [
    "If there is an error and `XACT_ABORT` is set to…"
   ]
  },
  {
   "cell_type": "markdown",
   "metadata": {},
   "source": [
    "- `ON`, the transaction will always be rollbacked."
   ]
  },
  {
   "cell_type": "markdown",
   "metadata": {},
   "source": [
    "# XACT_ABORT and THROW"
   ]
  },
  {
   "cell_type": "markdown",
   "metadata": {},
   "source": [
    "The wealthiest customers of the bank where you work have decided to donate the 0.01% of their `current_balance` to a non-profit organization. You are in charge of preparing the script to update the customer's accounts, but you have to do it only for those accounts with a `current_balance` with more than $5,000,000. The director of the bank tells you that if there aren't at least 10 wealthy customers, you shouldn't do this operation, because she wants to interview more customers.\n",
    "\n",
    "You prepare a script, and of the multiple ways of doing it, you decide to use `XACT_ABORT` in combination with `THROW`. This way, if the number of affected rows is less than or equal to 10, you can throw an error so that the transaction is rolled back."
   ]
  },
  {
   "cell_type": "markdown",
   "metadata": {},
   "source": [
    "```\n",
    "-- Use the appropriate setting\n",
    "SET XACT_ABORT ON;\n",
    "-- Begin the transaction\n",
    "BEGIN TRAN; \n",
    "\tUPDATE accounts set current_balance = current_balance - current_balance * 0.01 / 100\n",
    "\t\tWHERE current_balance > 5000000;\n",
    "\tIF @@ROWCOUNT <= 10\t\n",
    "    \t-- Throw the error\n",
    "\t\tTHROW 55000, 'Not enough wealthy customers!', 1;\n",
    "\tELSE\t\t\n",
    "    \t-- Commit the transaction\n",
    "\t\tCOMMIT TRAN; \n",
    "```"
   ]
  },
  {
   "cell_type": "markdown",
   "metadata": {},
   "source": [
    "# Doomed transactions"
   ]
  },
  {
   "cell_type": "markdown",
   "metadata": {},
   "source": [
    "You want to insert the data of two new customers into the `customer` table. You prepare a script controlling that if an error occurs, the transaction rollbacks and you get the message of the error. You want to control it using `XACT_ABORT` in combination with `XACT_STATE`."
   ]
  },
  {
   "cell_type": "markdown",
   "metadata": {},
   "source": [
    "```\n",
    "-- Use the appropriate setting\n",
    "SET XACT_ABORT ON;\n",
    "BEGIN TRY\n",
    "\tBEGIN TRAN;\n",
    "\t\tINSERT INTO customers VALUES ('Mark', 'Davis', 'markdavis@mail.com', '555909090');\n",
    "\t\tINSERT INTO customers VALUES ('Dylan', 'Smith', 'dylansmith@mail.com', '555888999');\n",
    "\tCOMMIT TRAN;\n",
    "END TRY\n",
    "BEGIN CATCH\n",
    "\t-- Check if there is an open transaction\n",
    "\tIF XACT_STATE() <> 0\n",
    "    \t-- Rollback the transaction\n",
    "\t\tROLLBACK TRAN;\n",
    "    -- Select the message of the error\n",
    "    SELECT ERROR_MESSAGE() AS Error_message;\n",
    "END CATCH\n",
    "```"
   ]
  }
 ],
 "metadata": {
  "kernelspec": {
   "display_name": "Python 3.8.11 ('env_py')",
   "language": "python",
   "name": "python3"
  },
  "language_info": {
   "name": "python",
   "version": "3.8.11"
  },
  "orig_nbformat": 4,
  "vscode": {
   "interpreter": {
    "hash": "1e949e87132dd83f1a7623eb88007e3532b03b66b77111be347aa4a383049722"
   }
  }
 },
 "nbformat": 4,
 "nbformat_minor": 2
}

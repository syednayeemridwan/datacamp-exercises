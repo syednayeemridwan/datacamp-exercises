{
 "cells": [
  {
   "cell_type": "markdown",
   "metadata": {},
   "source": [
    "# Filtering results"
   ]
  },
  {
   "cell_type": "markdown",
   "metadata": {},
   "source": [
    "The WHERE clause allows you to filter based on text and numeric values in a table using comparison operators.\n",
    "\n",
    "What does the following query return?\n",
    "```\n",
    "SELECT title\n",
    "FROM films\n",
    "WHERE release_year > 2000;\n",
    "```"
   ]
  },
  {
   "cell_type": "markdown",
   "metadata": {},
   "source": [
    "- Films released after the year 2000"
   ]
  },
  {
   "cell_type": "markdown",
   "metadata": {},
   "source": [
    "# Using WHERE with numbers"
   ]
  },
  {
   "cell_type": "markdown",
   "metadata": {},
   "source": [
    "Filtering with WHERE allows you to analyze your data better. You may have a dataset that includes a range of different movies, and you need to do a case study on the most notable films with the biggest budgets. In this case, you'll want to filter your data to a specific budget range."
   ]
  },
  {
   "cell_type": "markdown",
   "metadata": {},
   "source": [
    "```\n",
    "-- Select film_ids and imdb_score with an imdb_score over 7.0\n",
    "SELECT film_id, imdb_score \n",
    "FROM reviews\n",
    "WHERE imdb_score > 7.0\n",
    "```"
   ]
  },
  {
   "cell_type": "markdown",
   "metadata": {},
   "source": [
    "```\n",
    "-- Select film_ids and facebook_likes for ten records with less than 1000 likes \n",
    "SELECT film_id, facebook_likes \n",
    "FROM reviews\n",
    "WHERE facebook_likes < 1000\n",
    "LIMIT 10\n",
    "```"
   ]
  },
  {
   "cell_type": "markdown",
   "metadata": {},
   "source": [
    "```\n",
    "-- Count the records with at least 100,000 votes\n",
    "SELECT COUNT(num_votes) AS films_over_100K_votes \n",
    "FROM reviews\n",
    "WHERE num_votes >=  100000\n",
    "```"
   ]
  },
  {
   "cell_type": "markdown",
   "metadata": {},
   "source": [
    "# Using WHERE with text"
   ]
  },
  {
   "cell_type": "markdown",
   "metadata": {},
   "source": [
    "WHERE can also filter string values.\n",
    "you are part of an organization that gives cinematography awards, and you have several international categories. Before you confirm an award for every language listed in your dataset, it may be worth seeing if there are enough films of a specific language to make it a fair competition. If there is only one movie or a significant skew, it may be worth considering a different way of giving international awards."
   ]
  },
  {
   "cell_type": "markdown",
   "metadata": {},
   "source": [
    "```\n",
    "-- Count the Spanish-language films\n",
    "SELECT COUNT(language) AS count_spanish\n",
    "FROM films\n",
    "WHERE language = 'Spanish'\n",
    "```"
   ]
  },
  {
   "cell_type": "markdown",
   "metadata": {},
   "source": [
    "# Using AND"
   ]
  },
  {
   "cell_type": "markdown",
   "metadata": {},
   "source": [
    "The following exercises combine AND and OR with the WHERE clause. Using these operators together strengthens your queries and analyses of data."
   ]
  },
  {
   "cell_type": "markdown",
   "metadata": {},
   "source": [
    "```\n",
    "-- Select the title and release_year for all German-language films released before 2000\n",
    "SELECT title, release_year\n",
    "FROM films\n",
    "WHERE language = 'German' AND release_year < 2000\n",
    "```"
   ]
  },
  {
   "cell_type": "markdown",
   "metadata": {},
   "source": [
    "```\n",
    "-- Update the query to see all German-language films released after 2000\n",
    "SELECT title, release_year\n",
    "FROM films\n",
    "WHERE release_year > 2000\n",
    "\tAND language = 'German';\n",
    "```"
   ]
  },
  {
   "cell_type": "markdown",
   "metadata": {},
   "source": [
    "```\n",
    "-- Select all records for German-language films released after 2000 and before 2010\n",
    "SELECT *\n",
    "FROM films\n",
    "WHERE release_year > 2000 AND release_year < 2010 AND language = 'German';\n",
    "```"
   ]
  },
  {
   "cell_type": "markdown",
   "metadata": {},
   "source": [
    "# Using OR"
   ]
  },
  {
   "cell_type": "markdown",
   "metadata": {},
   "source": [
    "you'll write a query to get the title and release_year of films released in 1990 or 1999, which were in English or Spanish and took in more than $2,000,000 gross."
   ]
  },
  {
   "cell_type": "markdown",
   "metadata": {},
   "source": [
    "```\n",
    "SELECT title, release_year\n",
    "FROM films\n",
    "-- Find the title and year of films from the 1990 or 1999\n",
    "WHERE (release_year = 1990 OR release_year = 1999)\n",
    "-- Add a filter to see only English or Spanish-language films\n",
    "\tAND (language = 'English' OR language = 'Spanish')\n",
    "-- Filter films with more than $2,000,000 gross\n",
    "\tAND gross > 2000000;\n",
    "```"
   ]
  },
  {
   "cell_type": "markdown",
   "metadata": {},
   "source": [
    "# Using BETWEEN"
   ]
  },
  {
   "cell_type": "markdown",
   "metadata": {},
   "source": [
    "Let's use BETWEEN with AND on the films database to get the title and release_year of all Spanish-language films released between 1990 and 2000 (inclusive) with budgets over $100 million."
   ]
  },
  {
   "cell_type": "markdown",
   "metadata": {},
   "source": [
    "```\n",
    "-- Select the title and release_year for films released between 1990 and 2000\n",
    "SELECT title, release_year\n",
    "FROM films\n",
    "WHERE release_year BETWEEN 1990 AND 2000\n",
    "-- Narrow down your query to films with budgets > $100 million\n",
    "\tAND budget > 100000000\n",
    "-- Amend the query to include Spanish or French-language films\n",
    "\tAND (language = 'Spanish' OR language = 'French');\n",
    "```"
   ]
  },
  {
   "cell_type": "markdown",
   "metadata": {},
   "source": [
    "# LIKE and NOT LIKE"
   ]
  },
  {
   "cell_type": "markdown",
   "metadata": {},
   "source": [
    "The LIKE and NOT LIKE operators can be used to find records that either match or do not match a specified pattern, respectively. They can be coupled with the wildcards % and _. The % will match zero or many characters, and _ will match a single character.\n",
    "\n",
    "This is useful when you want to filter text, but not to an exact word."
   ]
  },
  {
   "cell_type": "markdown",
   "metadata": {},
   "source": [
    "```\n",
    "-- Select the names that start with B\n",
    "SELECT name\n",
    "FROM people  \n",
    "WHERE name LIKE 'B%'\n",
    "```"
   ]
  },
  {
   "cell_type": "markdown",
   "metadata": {},
   "source": [
    "```\n",
    "SELECT name\n",
    "FROM people\n",
    "-- Select the names that have r as the second letter\n",
    "WHERE name LIKE '_r%'\n",
    "```"
   ]
  },
  {
   "cell_type": "markdown",
   "metadata": {},
   "source": [
    "```\n",
    "SELECT name\n",
    "FROM people\n",
    "-- Select names that don't start with A\n",
    "WHERE name NOT LIKE 'A%'\n",
    "```"
   ]
  },
  {
   "cell_type": "markdown",
   "metadata": {},
   "source": [
    "# WHERE IN"
   ]
  },
  {
   "cell_type": "markdown",
   "metadata": {},
   "source": [
    "you can query multiple conditions using the IN operator and a set of parentheses. It is a valuable piece of code that helps us keep our queries clean and concise."
   ]
  },
  {
   "cell_type": "markdown",
   "metadata": {},
   "source": [
    "```\n",
    "-- Find the title and release_year for all films over two hours in length released in 1990 and 2000\n",
    "SELECT title, release_year\n",
    "FROM films\n",
    "WHERE release_year IN (1990, 2000) AND duration > 120\n",
    "```"
   ]
  },
  {
   "cell_type": "markdown",
   "metadata": {},
   "source": [
    "```\n",
    "-- Find the title and language of all films in English, Spanish, and French\n",
    "\n",
    "SELECT title, language\n",
    "FROM films\n",
    "WHERE language IN ('French', 'English', 'Spanish') \n",
    "```"
   ]
  },
  {
   "cell_type": "markdown",
   "metadata": {},
   "source": [
    "```\n",
    "-- Find the title, certification, and language all films certified NC-17 or R that are in English, Italian, or Greek\n",
    "\n",
    "SELECT title, certification, language\n",
    "FROM films\n",
    "WHERE language IN ('Italian', 'English', 'Greek') AND certification IN ('NC-17', 'R')\n",
    "```"
   ]
  },
  {
   "cell_type": "markdown",
   "metadata": {},
   "source": [
    "# Combining filtering and selecting"
   ]
  },
  {
   "cell_type": "markdown",
   "metadata": {},
   "source": [
    "you will try to use some of these together. Writing more complex queries will be standard for you as you become a qualified SQL programmer."
   ]
  },
  {
   "cell_type": "markdown",
   "metadata": {},
   "source": [
    "```\n",
    "-- Count the unique titles\n",
    "SELECT COUNT(DISTINCT title) AS nineties_english_films_for_teens\n",
    "FROM films\n",
    "-- Filter to release_years to between 1990 and 1999\n",
    "WHERE release_year BETWEEN 1990 AND 1999\n",
    "-- Filter to English-language films\n",
    "\tAND language = 'English'\n",
    "-- Narrow it down to G, PG, and PG-13 certifications\n",
    "\tAND certification IN ( 'G', 'PG', 'PG-13') ;\n",
    "```"
   ]
  },
  {
   "cell_type": "markdown",
   "metadata": {},
   "source": [
    "# What does NULL mean?"
   ]
  },
  {
   "cell_type": "markdown",
   "metadata": {},
   "source": [
    "What does NULL represent?\n",
    "- A missing value"
   ]
  },
  {
   "cell_type": "markdown",
   "metadata": {},
   "source": [
    "# Practice with NULLs"
   ]
  },
  {
   "cell_type": "markdown",
   "metadata": {},
   "source": [
    "Let's explore the films table again to better understand what data you have."
   ]
  },
  {
   "cell_type": "markdown",
   "metadata": {},
   "source": [
    "```\n",
    "-- List all film titles with missing budgets\n",
    "SELECT title AS no_budget_info\n",
    "FROM films\n",
    "WHERE budget IS NULL\n",
    "```"
   ]
  },
  {
   "cell_type": "markdown",
   "metadata": {},
   "source": [
    "```\n",
    "-- Count the number of films we have language data for\n",
    "SELECT COUNT(*) AS count_language_known\n",
    "FROM films\n",
    "WHERE language IS NOT NULL\n",
    "```"
   ]
  }
 ],
 "metadata": {
  "kernelspec": {
   "display_name": "Python 3.8.11 ('env_py')",
   "language": "python",
   "name": "python3"
  },
  "language_info": {
   "name": "python",
   "version": "3.8.11"
  },
  "orig_nbformat": 4,
  "vscode": {
   "interpreter": {
    "hash": "1e949e87132dd83f1a7623eb88007e3532b03b66b77111be347aa4a383049722"
   }
  }
 },
 "nbformat": 4,
 "nbformat_minor": 2
}

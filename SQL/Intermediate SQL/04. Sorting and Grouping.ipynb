{
 "cells": [
  {
   "cell_type": "markdown",
   "metadata": {},
   "source": [
    "# Sorting text"
   ]
  },
  {
   "cell_type": "markdown",
   "metadata": {},
   "source": [
    "SQL provides you with the ORDER BY keyword to sort one or more fields from your data. It can do this multi-directionally and helps make results easy to interpret.\n",
    "\n",
    "How does ORDER BY sort a column of text values by default?"
   ]
  },
  {
   "cell_type": "markdown",
   "metadata": {},
   "source": [
    "- Alphabetically (A-Z) / Ascending"
   ]
  },
  {
   "cell_type": "markdown",
   "metadata": {},
   "source": [
    "# Sorting single fields"
   ]
  },
  {
   "cell_type": "markdown",
   "metadata": {},
   "source": [
    "you'll work on sorting single fields only. This can be helpful to extract quick insights such as the top-grossing or top-scoring film."
   ]
  },
  {
   "cell_type": "markdown",
   "metadata": {},
   "source": [
    "```\n",
    "-- Select name from people and sort alphabetically\n",
    "SELECT name\n",
    "FROM people\n",
    "ORDER BY name ASC\n",
    "```"
   ]
  },
  {
   "cell_type": "markdown",
   "metadata": {},
   "source": [
    "```\n",
    "-- Select the title and duration from longest to shortest film\n",
    "SELECT title, duration\n",
    "FROM films\n",
    "ORDER BY duration DESC\n",
    "```"
   ]
  },
  {
   "cell_type": "markdown",
   "metadata": {},
   "source": [
    "# Sorting multiple fields"
   ]
  },
  {
   "cell_type": "markdown",
   "metadata": {},
   "source": [
    "ORDER BY can also be used to sort on multiple fields. It will sort by the first field specified, then sort by the next, and so on. As an example, you may want to sort the people data by age and keep the names in alphabetical order."
   ]
  },
  {
   "cell_type": "markdown",
   "metadata": {},
   "source": [
    "```\n",
    "-- Select the release year, duration, and title sorted by release year and duration\n",
    "SELECT release_year, duration, title\n",
    "FROM films\n",
    "ORDER BY release_year, duration\n",
    "```"
   ]
  },
  {
   "cell_type": "markdown",
   "metadata": {},
   "source": [
    "```\n",
    "-- Select the certification, release year, and title sorted by certification and release year\n",
    "SELECT certification, release_year, title\n",
    "FROM films\n",
    "ORDER BY certification, release_year\n",
    "```"
   ]
  },
  {
   "cell_type": "markdown",
   "metadata": {},
   "source": [
    "# GROUP BY single fields"
   ]
  },
  {
   "cell_type": "markdown",
   "metadata": {},
   "source": [
    "GROUP BY is a SQL keyword that allows you to group and summarize results with the additional use of aggregate functions. For example, films can be grouped by the certification and language before counting the film titles in each group. This allows you to see how many films had a particular certification and language grouping."
   ]
  },
  {
   "cell_type": "markdown",
   "metadata": {},
   "source": [
    "```\n",
    "-- Find the release_year and film_count of each year\n",
    "SELECT release_year, COUNT(*) AS film_count\n",
    "FROM films\n",
    "GROUP BY release_year\n",
    "```"
   ]
  },
  {
   "cell_type": "markdown",
   "metadata": {},
   "source": [
    "```\n",
    "-- Find the release_year and average duration of films for each year\n",
    "SELECT release_year, AVG(duration) AS avg_duration\n",
    "FROM films\n",
    "GROUP BY release_year\n",
    "```"
   ]
  },
  {
   "cell_type": "markdown",
   "metadata": {},
   "source": [
    "# GROUP BY multiple fields"
   ]
  },
  {
   "cell_type": "markdown",
   "metadata": {},
   "source": [
    "GROUP BY becomes more powerful when used across multiple fields or combined with ORDER BY and LIMIT.\n",
    "\n",
    "Perhaps you're interested in learning about budget changes throughout the years in individual countries. You'll use grouping to look at the maximum budget for each country in each year there is data available."
   ]
  },
  {
   "cell_type": "markdown",
   "metadata": {},
   "source": [
    "```\n",
    "-- Find the release_year, country, and max_budget, then group and order by release_year and country\n",
    "SELECT release_year, country, MAX(budget) AS max_budget\n",
    "FROM films\n",
    "GROUP BY release_year, country\n",
    "ORDER BY release_year, country\n",
    "\n",
    "```"
   ]
  },
  {
   "cell_type": "markdown",
   "metadata": {},
   "source": [
    "# Answering business questions"
   ]
  },
  {
   "cell_type": "markdown",
   "metadata": {},
   "source": [
    "In the real world, every SQL query starts with a business question. Then it is up to you to decide how to write the query that answers the question. Let's try this out.\n",
    "\n",
    "Which release_year had the most language diversity?"
   ]
  },
  {
   "cell_type": "markdown",
   "metadata": {},
   "source": [
    "```\n",
    "SELECT release_year, COUNT(DISTINCT language) AS diverse_lang\n",
    "FROM films\n",
    "GROUP BY release_year\n",
    "ORDER BY diverse_lang DESC\n",
    "```"
   ]
  },
  {
   "cell_type": "markdown",
   "metadata": {},
   "source": [
    "# Filter with HAVING"
   ]
  },
  {
   "cell_type": "markdown",
   "metadata": {},
   "source": [
    "HAVING works similarly to WHERE in that it is a filtering clause, with the difference that HAVING filters grouped data.\n",
    "\n",
    "Filtering grouped data can be especially handy when working with a large dataset. When working with thousands or even millions of rows, HAVING will allow you to filter for just the group of data you want, such as films over two hours in length!\n",
    "\n",
    "Use HAVING to find out which countries (or country) have the most varied film certifications."
   ]
  },
  {
   "cell_type": "markdown",
   "metadata": {},
   "source": [
    "```\n",
    "-- Select the country and distinct count of certification as certification_count\n",
    "SELECT country, COUNT(DISTINCT certification) AS certification_count\n",
    "FROM films\n",
    "-- Group by country\n",
    "GROUP BY country\n",
    "-- Filter results to countries with more than 10 different certifications\n",
    "HAVING COUNT(DISTINCT certification) > 10\n",
    "```"
   ]
  },
  {
   "cell_type": "markdown",
   "metadata": {},
   "source": [
    "# HAVING and sorting"
   ]
  },
  {
   "cell_type": "markdown",
   "metadata": {},
   "source": [
    "Filtering and sorting go hand in hand and gives you greater interpretability by ordering our results.\n",
    "\n",
    "Let's see this magic at work by writing a query showing what countries have the highest average film budgets."
   ]
  },
  {
   "cell_type": "markdown",
   "metadata": {},
   "source": [
    "```\n",
    "-- Select the country and average_budget from films\n",
    "SELECT country, AVG(budget) AS average_budget\n",
    "FROM films\n",
    "-- Group by country\n",
    "GROUP BY country\n",
    "-- Filter to countries with an average_budget of more than one billion\n",
    "HAVING AVG(budget) > 1000000000\n",
    "-- Order by descending order of the aggregated budget\n",
    "ORDER BY average_budget DESC\n",
    "```"
   ]
  },
  {
   "cell_type": "markdown",
   "metadata": {},
   "source": [
    "# All together now"
   ]
  },
  {
   "cell_type": "markdown",
   "metadata": {},
   "source": [
    "you'll write a query that returns the average budget and gross earnings for films each year after 1990 if the average budget is greater than 60 million."
   ]
  },
  {
   "cell_type": "markdown",
   "metadata": {},
   "source": [
    "```\n",
    "-- Select the release_year for each film released after 1990, and group by release_year.\n",
    "SELECT release_year\n",
    "FROM films\n",
    "WHERE release_year > 1990\n",
    "GROUP BY release_year\n",
    "\n",
    "```"
   ]
  },
  {
   "cell_type": "markdown",
   "metadata": {},
   "source": [
    "```\n",
    "-- Modify the query to also list the average budget and average gross\n",
    "SELECT release_year, AVG(budget) AS avg_budget, AVG(gross) AS avg_gross\n",
    "FROM films\n",
    "WHERE release_year > 1990\n",
    "GROUP BY release_year;\n",
    "```"
   ]
  },
  {
   "cell_type": "markdown",
   "metadata": {},
   "source": [
    "```\n",
    "SELECT release_year, AVG(budget) AS avg_budget, AVG(gross) AS avg_gross\n",
    "FROM films\n",
    "WHERE release_year > 1990\n",
    "GROUP BY release_year\n",
    "-- Modify the query to see only years with an avg_budget of more than 60 million\n",
    "HAVING AVG(budget) > 60000000;\n",
    "```"
   ]
  },
  {
   "cell_type": "markdown",
   "metadata": {},
   "source": [
    "```\n",
    "SELECT release_year, AVG(budget) AS avg_budget, AVG(gross) AS avg_gross\n",
    "FROM films\n",
    "WHERE release_year > 1990\n",
    "GROUP BY release_year\n",
    "HAVING AVG(budget) > 60000000\n",
    "-- Order the results from highest to lowest average gross and limit to one\n",
    "ORDER BY avg_gross DESC \n",
    "LIMIT 1;\n",
    "```"
   ]
  }
 ],
 "metadata": {
  "kernelspec": {
   "display_name": "Python 3.8.11 ('env_py')",
   "language": "python",
   "name": "python3"
  },
  "language_info": {
   "name": "python",
   "version": "3.8.11"
  },
  "orig_nbformat": 4,
  "vscode": {
   "interpreter": {
    "hash": "1e949e87132dd83f1a7623eb88007e3532b03b66b77111be347aa4a383049722"
   }
  }
 },
 "nbformat": 4,
 "nbformat_minor": 2
}

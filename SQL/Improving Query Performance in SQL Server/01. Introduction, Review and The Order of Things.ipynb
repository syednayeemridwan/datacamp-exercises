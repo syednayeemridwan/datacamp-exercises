{
 "cells": [
  {
   "cell_type": "markdown",
   "metadata": {},
   "source": [
    "# Formatting - player BMI"
   ]
  },
  {
   "cell_type": "markdown",
   "metadata": {},
   "source": [
    "In this exercise, you are working with a team on a data analytics project, which has been asked to provide some statistics on NBA players to a health care company. You want to create a query that returns the Body Mass Index (BMI) for each player from North America.\n",
    "\n",
    " `BMI = weight / (height)^2`\n",
    "\n",
    "A colleague has passed you a query he was working on:\n",
    "```\n",
    "select PlayerName, Country,\n",
    "round(Weight_kg/SQUARE(Height_cm/100),2) BMI \n",
    "from Players Where Country = 'USA' \n",
    "Or Country = 'Canada'\n",
    "order by BMI\n",
    "```\n",
    "To make some sense of the code, you want to structure and format it in a way that is consistent and easy to read."
   ]
  },
  {
   "cell_type": "markdown",
   "metadata": {},
   "source": [
    "```\n",
    "SELECT PlayerName, Country,\n",
    "    ROUND(Weight_kg/SQUARE(Height_cm/100),2) BMI\n",
    "FROM Players \n",
    "WHERE Country = 'USA'\n",
    "    OR Country = 'Canada'\n",
    "ORDER BY BMI;\n",
    "```"
   ]
  },
  {
   "cell_type": "markdown",
   "metadata": {},
   "source": [
    "# Commenting - player BMI"
   ]
  },
  {
   "cell_type": "markdown",
   "metadata": {},
   "source": [
    "Adding comments is a good way to convey what the query is about or information about certain parts of the query.\n",
    "\n",
    "The sample code is a query on the `Players` table that returns player name, country of origin and a calculated Body Mass Index (BMI). The `WHERE` condition is filtering for only players from North America.\n",
    "\n",
    "You will add the following comment.\n",
    "\n",
    "`Returns the Body Mass Index (BMI) for all North American players from the 2017-2018 NBA season`\n",
    "\n",
    "Also, you believe that ORDER BY is unnecessary in this query so it will be commented out and a comment added on the same line indicating it is not required."
   ]
  },
  {
   "cell_type": "markdown",
   "metadata": {},
   "source": [
    "```\n",
    "/*\n",
    "Returns the Body Mass Index (BMI) for \n",
    "all North American players from the 2017-2018 NBA season\n",
    "*/\n",
    "\n",
    "SELECT PlayerName, Country,\n",
    "    ROUND(Weight_kg/SQUARE(Height_cm/100),2) BMI \n",
    "FROM Players \n",
    "WHERE Country = 'USA'\n",
    "    OR Country = 'Canada';\n",
    "-- ORDER BY BMI; /* Order by not required */\n",
    "```"
   ]
  },
  {
   "cell_type": "markdown",
   "metadata": {},
   "source": [
    "# Commenting - how many Kiwis in the NBA?"
   ]
  },
  {
   "cell_type": "markdown",
   "metadata": {},
   "source": [
    "You and a friend would like to know how many New Zealanders (affectionately known as Kiwis) play in the NBA. Your friend attempts to write a query, but it is not very well formatted and contains several errors. You re-write the query, but you want to keep his original for comparison and future reference.\n",
    "\n",
    "This exercise requires you to create line comments and comment out blocks of code"
   ]
  },
  {
   "cell_type": "markdown",
   "metadata": {},
   "source": [
    "```\n",
    "-- Your friend's query\n",
    "-- First attempt, contains errors and inconsistent formatting\n",
    "/*\n",
    "select PlayerName, p.Country,sum(ps.TotalPoints) \n",
    "AS TotalPoints  \n",
    "FROM PlayerStats ps inner join Players On ps.PlayerName = p.PlayerName\n",
    "WHERE p.Country = 'New Zeeland'\n",
    "Group \n",
    "by PlayerName, Country\n",
    "order by Country;\n",
    "*/\n",
    "\n",
    "-- Your query\n",
    "-- Second attempt - errors corrected and formatting fixed\n",
    "\n",
    "SELECT p.PlayerName, p.Country,\n",
    "\t\tSUM(ps.TotalPoints) AS TotalPoints  \n",
    "FROM PlayerStats ps \n",
    "INNER JOIN Players p\n",
    "\tON ps.PlayerName = p.PlayerName\n",
    "WHERE p.Country = 'New Zealand'\n",
    "GROUP BY p.PlayerName, p.Country;\n",
    "\n",
    "```"
   ]
  },
  {
   "cell_type": "markdown",
   "metadata": {},
   "source": [
    "# Ambiguous column names"
   ]
  },
  {
   "cell_type": "markdown",
   "metadata": {},
   "source": [
    "When joining tables, we use aliases in the `SELECT` statement to indicate the source tables of the selected columns, with each column name prefixed with the table name alias.\n",
    "\n",
    "The following query joins the `Players` and `PlayerStats` tables to return total points by `PlayerName` and `Country` for all players from Australia.\n",
    "```\n",
    "SELECT PlayerName, p.Country,\n",
    "         SUM(ps.TotalPoints) AS TotalPoints  \n",
    "FROM PlayerStats ps\n",
    "INNER JOIN Players p\n",
    "   ON ps.PlayerName = p.PlayerName\n",
    "WHERE p.Country = 'Australia'\n",
    "GROUP BY p.PlayerName, p.Country\n",
    "```\n",
    "Copy and paste the query into the console and select Run Code to view the results. The query returns an error which includes the words `... Ambiguous column name...`\n",
    "\n",
    "Fix the query and run it. What was wrong with the original query?"
   ]
  },
  {
   "cell_type": "markdown",
   "metadata": {},
   "source": [
    "- `PlayerName` is in both the `Players` and `PlayerStats` tables. It requires an alias prefix."
   ]
  },
  {
   "cell_type": "markdown",
   "metadata": {},
   "source": [
    "# Aliasing - team BMI"
   ]
  },
  {
   "cell_type": "markdown",
   "metadata": {},
   "source": [
    "A basketball statistician would like to know the average Body Mass Index (BMI) per NBA team, in particular, any team with an average BMI of 25 or more. To include `Team` in the query, you will need to join the `Players` table to the `PlayerStats` table. The query will require aliasing to:\n",
    "\n",
    "- Easily identify joined tables and associated columns.\n",
    "- Identify sub-queries.\n",
    "- Avoid ambiguity in column names.\n",
    "- Identify new columns."
   ]
  },
  {
   "cell_type": "markdown",
   "metadata": {},
   "source": [
    "```\n",
    "SELECT Team, \n",
    "   ROUND(AVG(BMI),2) AS AvgTeamBMI -- Alias the new column\n",
    "FROM PlayerStats AS ps -- Alias PlayerStats table\n",
    "INNER JOIN\n",
    "\t\t(SELECT PlayerName, Country,\n",
    "\t\t\tWeight_kg/SQUARE(Height_cm/100) BMI\n",
    "\t\t FROM Players) AS p -- Alias the sub-query\n",
    "             -- Alias the joining columns\n",
    "\tON ps.PlayerName = p.PlayerName \n",
    "GROUP BY Team\n",
    "HAVING AVG(BMI) >= 25;\n",
    "```"
   ]
  },
  {
   "cell_type": "markdown",
   "metadata": {},
   "source": [
    "# Processing order"
   ]
  },
  {
   "cell_type": "markdown",
   "metadata": {},
   "source": [
    "The following query returns earthquakes with a magnitude higher than 8, and at a depth of more than 500km.\n",
    "```\n",
    "SELECT Date, Country, Place, Depth, Magnitude\n",
    "FROM Earthquakes\n",
    "WHERE Magnitude > 8\n",
    "    AND Depth > 500\n",
    "ORDER BY Depth DESC;\n",
    "```\n",
    "Copy and paste the query into the console and select Run Code to view the results.\n",
    "\n",
    "In which order is the SQL syntax processed in this query?"
   ]
  },
  {
   "cell_type": "markdown",
   "metadata": {},
   "source": [
    "- `FROM`, `WHERE`, `SELECT`, `ORDER BY`"
   ]
  },
  {
   "cell_type": "markdown",
   "metadata": {},
   "source": [
    "# Syntax order - New Zealand earthquakes"
   ]
  },
  {
   "cell_type": "markdown",
   "metadata": {},
   "source": [
    "When executing a query, the processing order of the main SQL syntax is different from the written order in the query.\n",
    "\n",
    "You want a simple query that returns all the recorded earthquakes in New Zealand that had a magnitude of 7.5 or higher. You think the query out in a sentence before creating it.\n",
    "\n",
    "> From the Earthquakes table, filter for only rows where Country equals 'NZ' and Magnitude greater than or equal to 7.5. Then, select the columns Date, Place, NearestPop, and Magnitude. Order the final results from the largest Magnitude to the smallest Magnitude.\n",
    "\n",
    "The sample code is arranged in the order that matches the above sentence, which is the same as the SQL syntax processing order in the database. You will need to reorder it so that it runs without error."
   ]
  },
  {
   "cell_type": "markdown",
   "metadata": {},
   "source": [
    "```\n",
    "/*\n",
    "Returns earthquakes in New Zealand with a magnitude of 7.5 or more\n",
    "*/\n",
    "SELECT Date, Place, NearestPop, Magnitude\n",
    "FROM Earthquakes\n",
    "WHERE Country = 'NZ'\n",
    "\tAND Magnitude >= 7.5\n",
    "ORDER BY Magnitude DESC;\n",
    "```"
   ]
  },
  {
   "cell_type": "markdown",
   "metadata": {},
   "source": [
    "# Syntax order - Japan earthquakes"
   ]
  },
  {
   "cell_type": "markdown",
   "metadata": {},
   "source": [
    "Your friend is impressed by your querying skills. She decides to create a query on her own that shows all earthquakes in Japan that were a magnitude of 8 or higher. She has constructed a query based on how she thought about what she requires. Her query will produce an error because of the incorrect ordering of the syntax. Also, the code requires reformatting to make it easy to read.\n",
    "```\n",
    "FROM Earthquakes WHERE Country = 'JP' AND Magnitude >= 8 SELECT Date, Place ,NearestPop, Magnitude ORDER BY Magnitude DESC;\n",
    "```\n",
    "You will fix the query for her with a better coding format and correct the SQL syntax order."
   ]
  },
  {
   "cell_type": "markdown",
   "metadata": {},
   "source": [
    "```\n",
    "-- Your query\n",
    "SELECT Date, \n",
    "    Place , \n",
    "    NearestPop, \n",
    "    Magnitude \n",
    "FROM Earthquakes \n",
    "WHERE Country = 'JP'\n",
    "\tAND Magnitude >= 8\n",
    "ORDER BY Magnitude DESC;\n",
    "```"
   ]
  },
  {
   "cell_type": "markdown",
   "metadata": {},
   "source": [
    "# Syntax order - very large earthquakes"
   ]
  },
  {
   "cell_type": "markdown",
   "metadata": {},
   "source": [
    "When a query is executed it will stop at the first error it encounters and will return an error message. Because a query is processed in a stepped order the first error it stops at will be related to the processing order.\n",
    "\n",
    "- `FROM` is processed first and checks that the queried table(s) exist in the database.\n",
    "- `WHERE` is always processed after `FROM` if a row filtering condition is specified. Column(s) having the filtering condition applied must exist.\n",
    "- `SELECT` is only processed once the data is ready to be extracted and displayed or returned to the user.\n",
    "\n",
    "This exercise has three queries—each contains errors. Your job is to find the errors and fix them.\n",
    "\n",
    "Note that the red text below the query result tab is a description of the error."
   ]
  },
  {
   "cell_type": "markdown",
   "metadata": {},
   "source": [
    "```\n",
    "/*\n",
    "Location of the epicenter of earthquakes with a 9+ magnitude\n",
    "*/\n",
    "\n",
    "-- Replace City with the correct column name\n",
    "SELECT n.CountryName AS Country\n",
    "\t,e.NearestPop AS ClosestCity\n",
    "    ,e.Date\n",
    "    ,e.Magnitude\n",
    "FROM Nations AS n\n",
    "INNER JOIN Earthquakes AS e\n",
    "\tON n.Code2 = e.Country\n",
    "WHERE e.Magnitude >= 9\n",
    "ORDER BY e.Magnitude DESC;\n",
    "```"
   ]
  }
 ],
 "metadata": {
  "kernelspec": {
   "display_name": "Python 3.8.11 ('env_py')",
   "language": "python",
   "name": "python3"
  },
  "language_info": {
   "name": "python",
   "version": "3.8.11"
  },
  "orig_nbformat": 4,
  "vscode": {
   "interpreter": {
    "hash": "1e949e87132dd83f1a7623eb88007e3532b03b66b77111be347aa4a383049722"
   }
  }
 },
 "nbformat": 4,
 "nbformat_minor": 2
}

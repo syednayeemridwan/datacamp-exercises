{
 "cells": [
  {
   "cell_type": "markdown",
   "metadata": {},
   "source": [
    "# STATISTICS TIME in queries"
   ]
  },
  {
   "cell_type": "markdown",
   "metadata": {},
   "source": [
    "A friend is writing a training course on how the command `STATISTICS TIME` can be used to tune query performance and asks for your help to complete a presentation. He requires two queries that return NBA team details where the host city had a 2017 population of more than two million.\n",
    "\n",
    "NBA team details can be queried from the` NBA Season 2017-2018` database and city populations can be queried by adding in tables from the `Earthquakes` database.\n",
    "\n",
    "Each query uses a different filter on the Teams table.\n",
    "\n",
    "- Query 1\n",
    "    - Filters the Teams table using IN and three sub-queries\n",
    "- Query 2\n",
    "    - Filters the Teams table using EXISTS"
   ]
  },
  {
   "cell_type": "markdown",
   "metadata": {},
   "source": [
    "```\n",
    "SET STATISTICS TIME ON -- Turn the time command on\n",
    "\n",
    "-- Query 1\n",
    "SELECT * \n",
    "FROM Teams\n",
    "-- Sub-query 1\n",
    "WHERE City IN -- Sub-query filter operator\n",
    "      (SELECT CityName \n",
    "       FROM Cities) -- Table from Earthquakes database\n",
    "-- Sub-query 2\n",
    "   AND City IN -- Sub-query filter operator\n",
    "\t   (SELECT CityName \n",
    "\t    FROM Cities\n",
    "\t\tWHERE CountryCode IN ('US','CA'))\n",
    "-- Sub-query 3\n",
    "    AND City IN -- Sub-query filter operator\n",
    "        (SELECT CityName \n",
    "         FROM Cities\n",
    "\t     WHERE Pop2017 >2000000);\n",
    "\n",
    "-- Query 2\n",
    "SELECT * \n",
    "FROM Teams AS t\n",
    "WHERE EXISTS -- Sub-query filter operator\n",
    "\t(SELECT 1 \n",
    "     FROM Cities AS c\n",
    "     WHERE t.City = c.CityName -- Columns being compared\n",
    "        AND c.CountryCode IN ('US','CA')\n",
    "          AND c.Pop2017 > 2000000);\n",
    "\n",
    "SET STATISTICS TIME OFF -- Turn the time command off                   \n",
    "```"
   ]
  },
  {
   "cell_type": "markdown",
   "metadata": {},
   "source": [
    "# STATISTICS TIME results"
   ]
  },
  {
   "cell_type": "markdown",
   "metadata": {},
   "source": [
    "In the previous exercise, the `STATISTICS TIME` command was used on two different queries. The following table summarizes an analysis of the elapsed time statistics for each query.\n",
    "```\n",
    "Query\t        Details                                        Average elapsed time (ms)\n",
    "1\t    Filters the Teams table using IN and three sub-queries\t    20\n",
    "2\t    Filters the Teams table using EXISTS\t                    3\n",
    "```\n",
    "What conclusion can you make from this summary?"
   ]
  },
  {
   "cell_type": "markdown",
   "metadata": {},
   "source": [
    "- The second query that uses `EXISTS` is more efficient."
   ]
  },
  {
   "cell_type": "markdown",
   "metadata": {},
   "source": [
    "# STATISTICS IO: Example 1"
   ]
  },
  {
   "cell_type": "markdown",
   "metadata": {},
   "source": [
    "Your sales company has just taken on a new regional manager for Western Europe. He has asked you to provide him daily updates on orders shipped to some key Western Europe capital cities. As this data is time sensitive, you want a robust query that is tuned to return the results as quickly as possible.\n",
    "\n",
    "You initially decide on a query that uses two sub-queries: one in the `SELECT` statement to get the count of orders and one using a filter condition with an `IN` operator.\n",
    "\n",
    "You will turn on the `STATISTICS IO` command to review the page read statistics."
   ]
  },
  {
   "cell_type": "markdown",
   "metadata": {},
   "source": [
    "```\n",
    "SET STATISTICS IO ON -- Turn the IO command on\n",
    "\n",
    "\n",
    "-- Example 1\n",
    "SELECT CustomerID,\n",
    "       CompanyName,\n",
    "       (SELECT COUNT(*) \n",
    "\t    FROM Orders AS o -- Add table\n",
    "\t\tWHERE c.CustomerID = o.CustomerID) CountOrders\n",
    "FROM Customers AS c\n",
    "WHERE CustomerID IN -- Add filter operator\n",
    "       (SELECT CustomerID \n",
    "\t    FROM Orders \n",
    "\t\tWHERE ShipCity IN\n",
    "            ('Berlin','Bern','Bruxelles','Helsinki',\n",
    "\t\t\t'Lisboa','Madrid','Paris','London'));\n",
    "\n",
    "SET STATISTICS IO OFF -- Turn the IO command off\n",
    "\n",
    "```\n",
    "\n"
   ]
  },
  {
   "cell_type": "markdown",
   "metadata": {},
   "source": [
    "From the `STATISTICS IO` output below, how many data pages from the Orders table were read from memory to complete the query?\n",
    "```\n",
    "Table 'Customers'. Scan count 1, logical reads 2, physical reads 0,...\n",
    "Table 'Orders'. Scan count 2, logical reads 32, physical reads 0,...\n",
    "```\n",
    "- Thirty-two"
   ]
  },
  {
   "cell_type": "markdown",
   "metadata": {},
   "source": [
    "# STATISTICS IO: Example 2"
   ]
  },
  {
   "cell_type": "markdown",
   "metadata": {},
   "source": [
    "In the previous exercise, you were asked you to provide a new regional manager daily updates on orders shipped to Western Europe capital cities. You initially created a query that contained two sub-queries. You decide to do a rewrite and use an `INNER JOIN`.\n",
    "\n",
    "The `STATISTICS IO` command is turned on. You will need to turn it off after completing the query."
   ]
  },
  {
   "cell_type": "markdown",
   "metadata": {},
   "source": [
    "```\n",
    "SET STATISTICS IO ON -- Turn the IO command on\n",
    "\n",
    "-- Example 2\n",
    "SELECT c.CustomerID,\n",
    "       c.CompanyName,\n",
    "       COUNT(o.CustomerID)\n",
    "FROM Customers AS c\n",
    "INNER JOIN Orders AS o -- Join operator\n",
    "    ON c.CustomerID = o.CustomerID\n",
    "WHERE o.ShipCity IN -- Shipping destination column\n",
    "     ('Berlin','Bern','Bruxelles','Helsinki',\n",
    "\t 'Lisboa','Madrid','Paris','London')\n",
    "GROUP BY c.CustomerID,\n",
    "         c.CompanyName;\n",
    "\n",
    "\n",
    "SET STATISTICS IO OFF -- Turn the IO command off\n",
    "```"
   ]
  },
  {
   "cell_type": "markdown",
   "metadata": {},
   "source": [
    "From the `STATISTICS IO` output below, how many data pages from the Orders table were read from memory to complete the query?\n",
    "```\n",
    "Table 'Customers'. Scan count 1, logical reads 2, physical reads 0,...\n",
    "Table 'Orders'. Scan count 2, logical reads 16, physical reads 0,...\n",
    "```\n",
    "- Sixteen"
   ]
  },
  {
   "cell_type": "markdown",
   "metadata": {},
   "source": [
    "# STATISTICS IO comparison"
   ]
  },
  {
   "cell_type": "markdown",
   "metadata": {},
   "source": [
    "Using the `STATISTICS IO` outputs from the example queries in the previous two exercises, what might you conclude?\n",
    "\n",
    "Example 1\n",
    "```\n",
    "Table 'Customers'. Scan count 1, logical reads 2, physical reads 0,....\n",
    "Table 'Orders'. Scan count 2, logical reads 32, physical reads 0,...\n",
    "```\n",
    "Example 2\n",
    "```\n",
    "Table 'Customers'. Scan count 1, logical reads 2, physical reads 0,....\n",
    "Table 'Orders'. Scan count 2, logical reads 16, physical reads 0,...\n",
    "```"
   ]
  },
  {
   "cell_type": "markdown",
   "metadata": {},
   "source": [
    "- The Example 2 query will run faster than the Example 1 query."
   ]
  },
  {
   "cell_type": "markdown",
   "metadata": {},
   "source": [
    "# Test your knowledge of indexes"
   ]
  },
  {
   "cell_type": "markdown",
   "metadata": {},
   "source": [
    "Which of the following statements about indexes is FALSE?"
   ]
  },
  {
   "cell_type": "markdown",
   "metadata": {},
   "source": [
    "- Clustered and nonclustered indexes are applied to table rows."
   ]
  },
  {
   "cell_type": "markdown",
   "metadata": {},
   "source": [
    "# Clustered index"
   ]
  },
  {
   "cell_type": "markdown",
   "metadata": {},
   "source": [
    "Clustered indexes can be added to tables to speed up search operations in queries. You have two copies of the `Cities` table from the `Earthquakes` database: one copy has a clustered index on the `CountryCode` column. The other is not indexed.\n",
    "\n",
    "You have a query on each table with a different filter condition:\n",
    "\n",
    "- Query 1\n",
    "    - Returns all rows where the country is either `Russia` or `China`.\n",
    "- Query 2\n",
    "    - Returns all rows where the country is either `Jamaica` or `New Zealand`."
   ]
  },
  {
   "cell_type": "markdown",
   "metadata": {},
   "source": [
    "```\n",
    "-- Query 1\n",
    "SELECT *\n",
    "FROM Cities\n",
    "WHERE CountryCode = 'RU' -- Country code\n",
    "\t\tOR CountryCode = 'CN' -- Country code\n",
    "```"
   ]
  },
  {
   "cell_type": "markdown",
   "metadata": {},
   "source": [
    "```\n",
    "-- Query 2\n",
    "SELECT *\n",
    "FROM Cities\n",
    "WHERE CountryCode IN ('JM','NZ') -- Country codes\n",
    "```"
   ]
  },
  {
   "cell_type": "markdown",
   "metadata": {},
   "source": [
    "For these two queries, what conclusion could you make using the following output from the `STATISTICS IO` command?\n",
    "\n",
    "```\n",
    "4694 results returned\n",
    "Table 'Cities'. ..., logical reads 274, ... ,\n",
    "```\n",
    "\n",
    "```\n",
    "212 results returned\n",
    "Table 'Cities'. ..., logical reads 10, ... ,\n",
    "```\n",
    "- Query 2 accesses a clustered index because logical reads indicates fewer data pages were accessed compared to Query 1"
   ]
  },
  {
   "cell_type": "markdown",
   "metadata": {},
   "source": [
    "# Sort operator in execution plans"
   ]
  },
  {
   "cell_type": "markdown",
   "metadata": {},
   "source": [
    "Execution plans can tell us if and where a query used an internal sorting operation. Internal sorting is often required when using an operator in a query that checks for and removes duplicate rows.\n",
    "\n",
    "You are given an execution plan of a query that returns all cities listed in the `Earthquakes` database. The query appends queries from the `Nations` and `Cities` tables. Use the following execution plan to determine if the appending operator used is `UNION` or `UNION ALL`\n",
    "<center><img src=\"images/04.12.bmp\"  style=\"width: 400px, height: 300px;\"/></center>\n"
   ]
  },
  {
   "cell_type": "markdown",
   "metadata": {},
   "source": [
    "```\n",
    "SELECT CityName AS NearCityName,\n",
    "\t   CountryCode\n",
    "FROM Cities\n",
    "\n",
    "UNION -- Append queries\n",
    "\n",
    "SELECT Capital AS NearCityName,\n",
    "       Code2 AS CountryCode\n",
    "FROM Nations;\n",
    "```"
   ]
  },
  {
   "cell_type": "markdown",
   "metadata": {},
   "source": [
    "# Test your knowledge of execution plans"
   ]
  },
  {
   "cell_type": "markdown",
   "metadata": {},
   "source": [
    "Which one of the following is NOT information you can get from an execution plan in SQL Server?"
   ]
  },
  {
   "cell_type": "markdown",
   "metadata": {},
   "source": [
    "- The total duration of the query, in milliseconds, from execution to returning the complete results"
   ]
  }
 ],
 "metadata": {
  "kernelspec": {
   "display_name": "Python 3.8.11 ('env_py')",
   "language": "python",
   "name": "python3"
  },
  "language_info": {
   "name": "python",
   "version": "3.8.11"
  },
  "orig_nbformat": 4,
  "vscode": {
   "interpreter": {
    "hash": "1e949e87132dd83f1a7623eb88007e3532b03b66b77111be347aa4a383049722"
   }
  }
 },
 "nbformat": 4,
 "nbformat_minor": 2
}

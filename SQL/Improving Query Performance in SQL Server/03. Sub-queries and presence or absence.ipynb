{
 "cells": [
  {
   "cell_type": "markdown",
   "metadata": {},
   "source": [
    "# Uncorrelated sub-query"
   ]
  },
  {
   "cell_type": "markdown",
   "metadata": {},
   "source": [
    "A sub-query is another query within a query. The sub-query returns its results to an outer query to be processed.\n",
    "\n",
    "You want a query that returns the region and countries that have experienced earthquakes centered at a depth of 400km or deeper. Your query will use the `Earthquakes` table in the sub-query, and `Nations` table in the outer query."
   ]
  },
  {
   "cell_type": "markdown",
   "metadata": {},
   "source": [
    "```\n",
    "SELECT UNStatisticalRegion,\n",
    "       CountryName \n",
    "FROM Nations\n",
    "WHERE Code2 -- Country code for outer query \n",
    "         IN (SELECT Country -- Country code for sub-query\n",
    "             FROM Earthquakes\n",
    "             WHERE depth >= 400 ) -- Depth filter\n",
    "ORDER BY UNStatisticalRegion;\n",
    "```"
   ]
  },
  {
   "cell_type": "markdown",
   "metadata": {},
   "source": [
    "- The sub-query does not reference the outer query."
   ]
  },
  {
   "cell_type": "markdown",
   "metadata": {},
   "source": [
    "# Correlated sub-query"
   ]
  },
  {
   "cell_type": "markdown",
   "metadata": {},
   "source": [
    "Sub-queries are used to retrieve information from another table, or query, that is separate to the main query.\n",
    "\n",
    "A friend is working on a project looking at earthquake hazards around the world. She requires a table that lists all countries, their continent and the average magnitude earthquake by country. This query will need to access data from the `Nations` and `Earthquakes` tables."
   ]
  },
  {
   "cell_type": "markdown",
   "metadata": {},
   "source": [
    "```\n",
    "SELECT UNContinentRegion,\n",
    "       CountryName, \n",
    "        (SELECT AVG(magnitude) -- Add average magnitude\n",
    "        FROM Earthquakes e \n",
    "         \t  -- Add country code reference\n",
    "        WHERE n.Code2 = e.Country) AS AverageMagnitude \n",
    "FROM Nations n\n",
    "ORDER BY UNContinentRegion DESC, \n",
    "         AverageMagnitude DESC;\n",
    "```"
   ]
  },
  {
   "cell_type": "markdown",
   "metadata": {},
   "source": [
    "- The sub-query references the outer query."
   ]
  },
  {
   "cell_type": "markdown",
   "metadata": {},
   "source": [
    "# Sub-query vs INNER JOIN"
   ]
  },
  {
   "cell_type": "markdown",
   "metadata": {},
   "source": [
    "Often the results from a correlated sub-query can be replicated using an `INNER JOIN`. Depending on what your requirements are, using an INNER JOIN may be more efficient because it only makes one pass through the data whereas the correlated sub-query must execute for each row in the outer query.\n",
    "\n",
    "You want to find out the 2017 population of the biggest city for every country in the world. You can get this information from the `Earthquakes` database with the `Nations` table as the outer query and `Cities` table in the sub-query.\n",
    "\n",
    "You will first create this query as a correlated sub-query then rewrite it using an `INNER JOIN`."
   ]
  },
  {
   "cell_type": "markdown",
   "metadata": {},
   "source": [
    "```\n",
    "SELECT\n",
    "\tn.CountryName,\n",
    "\t (SELECT MAX(c.Pop2017) -- Add 2017 population column\n",
    "\t FROM Cities AS c \n",
    "                       -- Outer query country code column\n",
    "\t WHERE n.Code2 = c.CountryCode) AS BiggestCity\n",
    "FROM Nations AS n; -- Outer query table\n",
    "```"
   ]
  },
  {
   "cell_type": "markdown",
   "metadata": {},
   "source": [
    "```\n",
    "SELECT n.CountryName, \n",
    "       c.BiggestCity \n",
    "FROM Nations AS n\n",
    "INNER JOIN -- Join the Nations table and sub-query\n",
    "    (SELECT CountryCode, \n",
    "     MAX(Pop2017) AS BiggestCity \n",
    "     FROM Cities\n",
    "     GROUP BY CountryCode) AS c\n",
    "ON n.Code2 = c.CountryCode; -- Add the joining columns\n",
    "```"
   ]
  },
  {
   "cell_type": "markdown",
   "metadata": {},
   "source": [
    "# INTERSECT"
   ]
  },
  {
   "cell_type": "markdown",
   "metadata": {},
   "source": [
    "`INTERSECT` is one of the easier and more intuitive methods used to check if data in one table is present in another.\n",
    "\n",
    "You want to know which, if any, country capitals are listed as the nearest city to recorded earthquakes. You can get this information by comparing the `Nations` table with the `Earthquakes` table."
   ]
  },
  {
   "cell_type": "markdown",
   "metadata": {},
   "source": [
    "```\n",
    "SELECT Capital\n",
    "FROM Nations -- Table with capital cities\n",
    "\n",
    "INTERSECT -- Add the operator to compare the two queries\n",
    "\n",
    "SELECT NearestPop -- Add the city name column\n",
    "FROM Earthquakes;\n",
    "```"
   ]
  },
  {
   "cell_type": "markdown",
   "metadata": {},
   "source": [
    "# EXCEPT"
   ]
  },
  {
   "cell_type": "markdown",
   "metadata": {},
   "source": [
    "`EXCEPT` does the opposite of `INTERSECT`. It is used to check if data, present in one table, is absent in another.\n",
    "\n",
    "You want to know which countries have no recorded earthquakes. You can get this information by comparing the `Nations` table with the `Earthquakes` table."
   ]
  },
  {
   "cell_type": "markdown",
   "metadata": {},
   "source": [
    "```\n",
    "SELECT Code2 -- Add the country code column\n",
    "FROM Nations\n",
    "\n",
    "EXCEPT -- Add the operator to compare the two queries\n",
    "\n",
    "SELECT Country \n",
    "FROM Earthquakes; -- Table with country codes\n",
    "```"
   ]
  },
  {
   "cell_type": "markdown",
   "metadata": {},
   "source": [
    "# Interrogating with INTERSECT"
   ]
  },
  {
   "cell_type": "markdown",
   "metadata": {},
   "source": [
    "`INTERSECT` and `EXCEPT` are very useful for data interrogation.\n",
    "\n",
    "The `Earthquakes` and `NBA Season 2017-2018` databases both contain information on countries and cities. You are interested to know which countries are represented by players in the 2017-2018 NBA season and you believe you can get the results you require by querying the relevant tables across these two databases.\n",
    "\n",
    "Use the `INTERSECT` operator between queries, but be careful and think about the results. Although both tables contain a country name column to compare, these are separate databases and the data may be stored differently."
   ]
  },
  {
   "cell_type": "markdown",
   "metadata": {},
   "source": [
    "```\n",
    "SELECT CountryName \n",
    "FROM Nations -- Table from Earthquakes database\n",
    "\n",
    "INTERSECT -- Operator for the intersect between tables\n",
    "\n",
    "SELECT Country\n",
    "FROM Players; -- Table from NBA Season 2017-2018 database\n",
    "```"
   ]
  },
  {
   "cell_type": "markdown",
   "metadata": {},
   "source": [
    "With one exception, all NBA teams are USA based, so why does USA not appear in the results? Are there no Americans playing in the NBA?\n",
    "\n",
    "To help get your answer, use the two queries below;\n",
    "\n",
    "- Delete the query in the query console.\n",
    "- Copy and paste one of the queries into the query console.\n",
    "- Select Run Code to view the results.\n",
    "- Repeat steps 1 to 4 for the other query.\n",
    "```\n",
    "SELECT * \n",
    "FROM Nations\n",
    "WHERE CountryName LIKE 'U%'\n",
    "SELECT *\n",
    "FROM Players\n",
    "WHERE Country LIKE 'U%'\n",
    "```"
   ]
  },
  {
   "cell_type": "markdown",
   "metadata": {},
   "source": [
    "- The values do not match. In the `Nations` table, the value for country name is stored as `United States of America`, and in the `Players` table, the value is stored as `USA`. `INTERSECT` is being used correctly. However, although both tables contain names of countries, the way the values are stored is different. In the `Nations` table, the values are stored as `United States of America` and in the `Players` table, as `USA`. Therefore, there is no match, which is a good reason to perform a thorough data interrogation on all data sets before working with databases."
   ]
  },
  {
   "cell_type": "markdown",
   "metadata": {},
   "source": [
    "# IN and EXISTS"
   ]
  },
  {
   "cell_type": "markdown",
   "metadata": {},
   "source": [
    "You want to know which, if any, country capitals are listed as the nearest city to recorded earthquakes. You can get this information using `INTERSECT` and comparing the `Nations` table with the `Earthquakes` table. However, `INTERSECT` requires that the number and order of columns in the `SELECT` statements must be the same between queries and you would like to include additional columns from the outer query in the results.\n",
    "\n",
    "You attempt two queries, each with a different operator that gives you the results you require."
   ]
  },
  {
   "cell_type": "markdown",
   "metadata": {},
   "source": [
    "```\n",
    "-- First attempt\n",
    "SELECT CountryName,\n",
    "       Pop2017, -- 2017 country population\n",
    "\t   Capital, -- Capital city\t   \n",
    "       WorldBankRegion\n",
    "FROM Nations\n",
    "WHERE Capital IN -- Add the operator to compare queries\n",
    "        (SELECT NearestPop \n",
    "\t     FROM Earthquakes);\n",
    "```"
   ]
  },
  {
   "cell_type": "markdown",
   "metadata": {},
   "source": [
    "```\n",
    "-- Second attempt\n",
    "SELECT CountryName,   \n",
    "\t   Capital,\n",
    "       Pop2016, -- 2016 country population\n",
    "       WorldBankRegion\n",
    "FROM Nations AS n\n",
    "WHERE EXISTS -- Add the operator to compare queries\n",
    "\t  (SELECT 1\n",
    "\t   FROM Earthquakes AS e\n",
    "\t   WHERE n.Capital = e.NearestPop); -- Columns being compared\n",
    "```"
   ]
  },
  {
   "cell_type": "markdown",
   "metadata": {},
   "source": [
    "# NOT IN and NOT EXISTS"
   ]
  },
  {
   "cell_type": "markdown",
   "metadata": {},
   "source": [
    "`NOT IN` and `NOT EXISTS` do the opposite of `IN` and `EXISTS` respectively. They are used to check if the data present in one table is absent in another.\n",
    "\n",
    "You are interested to know if there are some countries in the `Nations` table that do not appear in the `Cities` table. There may be many reasons for this. For example, all the city populations from a country may be too small to be listed, or there may be no city data for a particular country at the time the data was compiled.\n",
    "\n",
    "You will compare the queries using country codes."
   ]
  },
  {
   "cell_type": "markdown",
   "metadata": {},
   "source": [
    "```\n",
    "SELECT WorldBankRegion,\n",
    "       CountryName\n",
    "FROM Nations\n",
    "WHERE Code2 NOT IN -- Add the operator to compare queries\n",
    "\t(SELECT CountryCode -- Country code column\n",
    "\t FROM Cities);\n",
    "```"
   ]
  },
  {
   "cell_type": "markdown",
   "metadata": {},
   "source": [
    "```\n",
    "SELECT WorldBankRegion,\n",
    "       CountryName,\n",
    "\t   Code2,\n",
    "       Capital, -- Country capital column\n",
    "\t   Pop2017\n",
    "FROM Nations AS n\n",
    "WHERE NOT EXISTS -- Add the operator to compare queries\n",
    "\t(SELECT 1\n",
    "\t FROM Cities AS c\n",
    "\t WHERE n.Code2 = c.CountryCode); -- Columns being compared\n",
    "```"
   ]
  },
  {
   "cell_type": "markdown",
   "metadata": {},
   "source": [
    "# NOT IN with IS NOT NULL"
   ]
  },
  {
   "cell_type": "markdown",
   "metadata": {},
   "source": [
    "You want to know which country capitals have never been the closest city to recorded earthquakes. You decide to use `NOT IN` to compare `Capital` from the `Nations` table, in the outer query, with `NearestPop`, from the `Earthquakes` table, in a sub-query."
   ]
  },
  {
   "cell_type": "markdown",
   "metadata": {},
   "source": [
    "```\n",
    "SELECT WorldBankRegion,\n",
    "       CountryName,\n",
    "       Capital -- Capital city name column\n",
    "FROM Nations\n",
    "WHERE Capital NOT IN\n",
    "\t(SELECT NearestPop -- City name column\n",
    "     FROM Earthquakes);\n",
    "```"
   ]
  },
  {
   "cell_type": "markdown",
   "metadata": {},
   "source": [
    "```\n",
    "SELECT WorldBankRegion,\n",
    "       CountryName,\n",
    "       Capital\n",
    "FROM Nations\n",
    "WHERE Capital NOT IN\n",
    "\t(SELECT NearestPop\n",
    "     FROM Earthquakes\n",
    "     WHERE NearestPop IS NOT NULL); -- filter condition\n",
    "```"
   ]
  },
  {
   "cell_type": "markdown",
   "metadata": {},
   "source": [
    "# INNER JOIN"
   ]
  },
  {
   "cell_type": "markdown",
   "metadata": {},
   "source": [
    "An insurance company that specializes in sports franchises has asked you to assess the geological hazards of cities hosting NBA teams. You believe you can get this information by querying the `Teams` and `Earthquakes` tables across the `Earthquakes` and `NBA Season 2017-2018` databases respectively. Your initial query will use `EXISTS` to compare tables. The second query will use a more appropriate operator."
   ]
  },
  {
   "cell_type": "markdown",
   "metadata": {},
   "source": [
    "```\n",
    "-- Initial query\n",
    "SELECT TeamName,\n",
    "       TeamCode,\n",
    "\t   City\n",
    "FROM Teams AS t -- Add table\n",
    "WHERE EXISTS -- Operator to compare queries\n",
    "      (SELECT 1 \n",
    "\t  FROM Earthquakes AS e -- Add table\n",
    "\t  WHERE t.City = e.NearestPop);\n",
    "```"
   ]
  },
  {
   "cell_type": "markdown",
   "metadata": {},
   "source": [
    "```\n",
    "-- Second query\n",
    "SELECT t.TeamName,\n",
    "       t.TeamCode,\n",
    "\t   t.City,\n",
    "\t   e.Date,\n",
    "\t   e.place, -- Place description\n",
    "\t   e.Country -- Country code\n",
    "FROM Teams AS t\n",
    "INNER JOIN Earthquakes AS e -- Operator to compare tables\n",
    "\t  ON t.City = e.NearestPop\n",
    "```"
   ]
  },
  {
   "cell_type": "markdown",
   "metadata": {},
   "source": [
    "In this exercise, what does the `INNER JOIN` help you to determine that `EXISTS` could not?\n",
    "- The earthquakes occurred in `San Antonio`, `Chile`, not `San Antonio`, `USA`."
   ]
  },
  {
   "cell_type": "markdown",
   "metadata": {},
   "source": [
    "# Exclusive LEFT OUTER JOIN\n"
   ]
  },
  {
   "cell_type": "markdown",
   "metadata": {},
   "source": [
    "An exclusive `LEFT OUTER JOIN` can be used to check for the presence of data in one table that is absent in another table. To create an exclusive `LEFT OUTER JOIN` the right query requires an `IS NULL` filter condition on the joining column.\n",
    "\n",
    "Your sales manager is concerned that orders from French customers are declining. He wants you to compile a list of French customers that have not placed any orders so he can contact them."
   ]
  },
  {
   "cell_type": "markdown",
   "metadata": {},
   "source": [
    "```\n",
    "-- Second attempt\n",
    "SELECT c.CustomerID,\n",
    "       c.CompanyName,\n",
    "\t   c.ContactName,\n",
    "\t   c.ContactTitle,\n",
    "\t   c.Phone \n",
    "FROM Customers c\n",
    "LEFT OUTER JOIN Orders o\n",
    "\tON c.CustomerID = o.CustomerID\n",
    "WHERE c.Country = 'France'\n",
    "\tAND o.CustomerID IS NULL; -- Filter condition\n",
    "```"
   ]
  },
  {
   "cell_type": "markdown",
   "metadata": {},
   "source": [
    "# Test your knowledge\n"
   ]
  },
  {
   "cell_type": "markdown",
   "metadata": {},
   "source": [
    "The Venn diagram below describes which method used to check whether the data in one table is present, or absent, in a related table?\n",
    "\n",
    "The `Earthquakes` database is available for you to test scenarios in the query console."
   ]
  },
  {
   "cell_type": "markdown",
   "metadata": {},
   "source": [
    "<center><img src=\"images/03.16.bmp\"  style=\"width: 400px, height: 300px;\"/></center>\n"
   ]
  },
  {
   "cell_type": "markdown",
   "metadata": {},
   "source": [
    "- exclusive `LEFT OUTER JOIN`"
   ]
  }
 ],
 "metadata": {
  "kernelspec": {
   "display_name": "Python 3.8.11 ('env_py')",
   "language": "python",
   "name": "python3"
  },
  "language_info": {
   "name": "python",
   "version": "3.8.11"
  },
  "orig_nbformat": 4,
  "vscode": {
   "interpreter": {
    "hash": "1e949e87132dd83f1a7623eb88007e3532b03b66b77111be347aa4a383049722"
   }
  }
 },
 "nbformat": 4,
 "nbformat_minor": 2
}

{
 "cells": [
  {
   "cell_type": "markdown",
   "metadata": {},
   "source": [
    "# Column does not exist"
   ]
  },
  {
   "cell_type": "markdown",
   "metadata": {},
   "source": [
    "When using `WHERE` as a filter condition, it is important to think about the processing order in the query. In this exercise, you want a query that returns NBA players with average total rebounds of 12 or more per game. The following formula calculates average total rebounds from the `PlayerStats` table;\n",
    "\n",
    " `Average Total Rebounds = (Defensive Rebounds + Offensive Rebounds)/Games Played`\n",
    "\n",
    "The first query in Step 1 returns an error. Select Run Code to view the error. The second query, in Step 2, will give you the results you want, without error, by using a sub-query.\n",
    "\n",
    "Note that `GamesPlayed` is `CAST AS numeric` to ensure we get decimal points in our output, as opposed to whole numbers."
   ]
  },
  {
   "cell_type": "markdown",
   "metadata": {},
   "source": [
    "```\n",
    "-- Second query\n",
    "\n",
    "-- Add the new column to the select statement\n",
    "SELECT PlayerName, \n",
    "       Team, \n",
    "       Position, \n",
    "       AvgRebounds -- Add the new column\n",
    "FROM\n",
    "     -- Sub-query starts here                             \n",
    "\t(SELECT \n",
    "      PlayerName, \n",
    "      Team, \n",
    "      Position,\n",
    "      -- Calculate average total rebounds\n",
    "     (ORebound+DRebound)/CAST(GamesPlayed AS numeric) AS AvgRebounds\n",
    "\t FROM PlayerStats) tr\n",
    "WHERE AvgRebounds >= 12; -- Filter rows\n",
    "\n",
    "```"
   ]
  },
  {
   "cell_type": "markdown",
   "metadata": {},
   "source": [
    "# Functions in WHERE"
   ]
  },
  {
   "cell_type": "markdown",
   "metadata": {},
   "source": [
    "You want to know which players from the 2017-2018 NBA season went to college in Louisiana. You ask a friend to make the query for you. It looks like he overcomplicated the `WHERE` filter condition by unnecessarily applying string functions and, also, it does not give you precisely what you want because he forgot how to spell Louisiana. You will simplify his query to return exactly what you require."
   ]
  },
  {
   "cell_type": "markdown",
   "metadata": {},
   "source": [
    "```\n",
    "SELECT PlayerName, \n",
    "      Country,\n",
    "      College, \n",
    "      DraftYear, \n",
    "      DraftNumber \n",
    "FROM Players \n",
    "-- WHERE UPPER(LEFT(College,5)) LIKE 'LOU%';\n",
    "WHERE College LIKE 'Louisiana%' -- Add the new wildcard filter\n",
    "```"
   ]
  },
  {
   "cell_type": "markdown",
   "metadata": {},
   "source": [
    "# Test your knowledge of WHERE"
   ]
  },
  {
   "cell_type": "markdown",
   "metadata": {},
   "source": [
    "Which of the following statements regarding `WHERE` is FALSE?"
   ]
  },
  {
   "cell_type": "markdown",
   "metadata": {},
   "source": [
    "- `WHERE` is processed before `SELECT` and `FROM`."
   ]
  },
  {
   "cell_type": "markdown",
   "metadata": {},
   "source": [
    "# Row filtering with HAVING"
   ]
  },
  {
   "cell_type": "markdown",
   "metadata": {},
   "source": [
    "In some cases, using `HAVING`, instead of `WHERE`, as a filter condition will produce the same results. If filtering individual or ungrouped rows then it is more efficient to use `WHERE`.\n",
    "\n",
    "In this exercise, you want to know the number of players from Latin American countries playing in the 2017-2018 NBA season."
   ]
  },
  {
   "cell_type": "markdown",
   "metadata": {},
   "source": [
    "```\n",
    "SELECT Country, COUNT(*) CountOfPlayers \n",
    "FROM Players\n",
    "GROUP BY Country\n",
    "HAVING Country \n",
    "    IN ('Argentina','Brazil','Dominican Republic'\n",
    "        ,'Puerto Rico');\n",
    "```"
   ]
  },
  {
   "cell_type": "markdown",
   "metadata": {},
   "source": [
    "- The filter is on individual rows. Using `HAVING` here, for filtering, could increase the time a query takes to run."
   ]
  },
  {
   "cell_type": "markdown",
   "metadata": {},
   "source": [
    "```\n",
    "SELECT Country, COUNT(*) CountOfPlayers\n",
    "FROM Players\n",
    "-- Add the filter condition\n",
    "WHERE Country\n",
    "-- Fill in the missing countries\n",
    "\tIN ('Argentina','Brazil','Dominican Republic'\n",
    "        ,'Puerto Rico')\n",
    "GROUP BY Country;\n",
    "\n",
    "```"
   ]
  },
  {
   "cell_type": "markdown",
   "metadata": {},
   "source": [
    "# Filtering with WHERE and HAVING"
   ]
  },
  {
   "cell_type": "markdown",
   "metadata": {},
   "source": [
    "`WHERE` and `HAVING` can be used as filters in the same query. But how we use them, where we use them and what we use them for is quite different.\n",
    "\n",
    "You want a query that returns the total points contribution of a teams Power Forwards where their total points contribution is greater than 3000."
   ]
  },
  {
   "cell_type": "markdown",
   "metadata": {},
   "source": [
    "```\n",
    "SELECT Team, \n",
    "\tSUM(TotalPoints) AS TotalPFPoints\n",
    "FROM PlayerStats\n",
    "-- Filter for only rows with power forwards\n",
    "WHERE Position = 'PF'\n",
    "GROUP BY Team\n",
    "-- Filter for total points greater than 3000\n",
    "HAVING SUM(TotalPoints) > 3000;\n",
    "```"
   ]
  },
  {
   "cell_type": "markdown",
   "metadata": {},
   "source": [
    "# Test your knowledge of HAVING"
   ]
  },
  {
   "cell_type": "markdown",
   "metadata": {},
   "source": [
    "The following query from the `NBA Season 2017-2018` database returns the total points contribution, of a teams Centers, where total points are greater than 2500.\n",
    "```\n",
    "SELECT Team, \n",
    "    SUM(TotalPoints) AS TotalCPoints\n",
    "FROM PlayerStats\n",
    "WHERE Position = 'C'\n",
    "GROUP BY Team\n",
    "HAVING SUM(TotalPoints) > 2500;\n",
    "```\n",
    "Copy and paste the above query into the query console and select Run Code to check the results.\n",
    "\n",
    "When using `HAVING` in a query which one of the following statements is FALSE?"
   ]
  },
  {
   "cell_type": "markdown",
   "metadata": {},
   "source": [
    "- `HAVING` and `WHERE` produce the same output, so it doesn't matter which one you use."
   ]
  },
  {
   "cell_type": "markdown",
   "metadata": {},
   "source": [
    "# SELECT what you need"
   ]
  },
  {
   "cell_type": "markdown",
   "metadata": {},
   "source": [
    "Your friend is a seismologist, and she is doing a study on earthquakes in South East Asia. She asks you for a query that returns coordinate locations, strength, depth and nearest city of all earthquakes in Papua New Guinea and Indonesia.\n",
    "\n",
    "All the information you need is in the `Earthquakes` table, and your initial interrogation of the data tells you that the column for the `country` code is Country and that the Codes for Papua New Guinea and Indonesia are `PG` and `ID` respectively."
   ]
  },
  {
   "cell_type": "markdown",
   "metadata": {},
   "source": [
    "```\n",
    "SELECT * -- Select all rows and columns\n",
    "FROM Earthquakes;\n",
    "```"
   ]
  },
  {
   "cell_type": "markdown",
   "metadata": {},
   "source": [
    "```\n",
    "SELECT latitude, -- Y location coordinate column\n",
    "       longitude, -- X location coordinate column\n",
    "\t   magnitude , -- Earthquake strength column\n",
    "\t   depth, -- Earthquake depth column\n",
    "\t   NearestPop -- Nearest city column\n",
    "FROM Earthquakes\n",
    "WHERE Country = 'PG' -- Papua New Guinea country code\n",
    "\tOR Country = 'ID'; -- Indonesia country code\n",
    "```"
   ]
  },
  {
   "cell_type": "markdown",
   "metadata": {},
   "source": [
    "# Limit the rows with TOP"
   ]
  },
  {
   "cell_type": "markdown",
   "metadata": {},
   "source": [
    "Your seismologist friend that is doing a study on earthquakes in South East Asia has asked you to subset a query that you provided her. She wants two additional queries for earthquakes recorded in Indonesia and Papua New Guinea. The first returning the ten shallowest earthquakes and the second the upper quartile of the strongest earthquakes."
   ]
  },
  {
   "cell_type": "markdown",
   "metadata": {},
   "source": [
    "```\n",
    "SELECT TOP 10 -- Limit the number of rows to ten\n",
    "      Latitude,\n",
    "      Longitude,\n",
    "\t  Magnitude,\n",
    "\t  Depth,\n",
    "\t  NearestPop\n",
    "FROM Earthquakes\n",
    "WHERE Country = 'PG'\n",
    "\tOR Country = 'ID'\n",
    "ORDER BY Depth; -- Order results from shallowest to deepest\n",
    "\n",
    "```"
   ]
  },
  {
   "cell_type": "markdown",
   "metadata": {},
   "source": [
    "```\n",
    "SELECT TOP 25 PERCENT -- Limit rows to the upper quartile\n",
    "       Latitude,\n",
    "       Longitude,\n",
    "\t   Magnitude,\n",
    "\t   Depth,\n",
    "\t   NearestPop\n",
    "FROM Earthquakes\n",
    "WHERE Country = 'PG'\n",
    "\tOR Country = 'ID'\n",
    "ORDER BY Magnitude DESC; -- Order the results\n",
    "```"
   ]
  },
  {
   "cell_type": "markdown",
   "metadata": {},
   "source": [
    "# Should I use ORDER BY?"
   ]
  },
  {
   "cell_type": "markdown",
   "metadata": {},
   "source": [
    "Which of the following statements is FALSE, when considering using `ORDER BY` in a query?"
   ]
  },
  {
   "cell_type": "markdown",
   "metadata": {},
   "source": [
    "- `ORDER BY` is only supported by Microsoft SQL Server and none of the other major database vendors."
   ]
  },
  {
   "cell_type": "markdown",
   "metadata": {},
   "source": [
    "# Remove duplicates with DISTINCT()"
   ]
  },
  {
   "cell_type": "markdown",
   "metadata": {},
   "source": [
    "You want to know the closest city to earthquakes with a magnitude of 8 or higher. You can get this information from the `Earthquakes` table. However, a simple query returns duplicate rows because some cities have experienced more than one magnitude 8 or higher earthquake.\n",
    "\n",
    "You can remove duplicates by using the `DISTINCT()` clause. Once you have your results, you would like to know how many times each city has experienced an earthquake of magnitude 8 or higher.\n",
    "\n",
    "Note that `IS NOT NULL` is being used because many earthquakes do not occur near any populated area, thankfully."
   ]
  },
  {
   "cell_type": "markdown",
   "metadata": {},
   "source": [
    "```\n",
    "SELECT DISTINCT(NearestPop),-- Remove duplicate city\n",
    "\t\tCountry\n",
    "FROM Earthquakes\n",
    "WHERE magnitude >= 8 -- Add filter condition \n",
    "\tAND NearestPop IS NOT NULL\n",
    "ORDER BY NearestPop;\n",
    "```"
   ]
  },
  {
   "cell_type": "markdown",
   "metadata": {},
   "source": [
    "```\n",
    "SELECT NearestPop, \n",
    "       Country, \n",
    "       COUNT(NearestPop) NumEarthquakes -- Number of cities\n",
    "FROM Earthquakes\n",
    "WHERE Magnitude >= 8\n",
    "\tAND Country IS NOT NULL\n",
    "GROUP BY NearestPop, Country -- Group columns\n",
    "ORDER BY NumEarthquakes DESC;\n",
    "```"
   ]
  },
  {
   "cell_type": "markdown",
   "metadata": {},
   "source": [
    "# UNION and UNION ALL"
   ]
  },
  {
   "cell_type": "markdown",
   "metadata": {},
   "source": [
    "You want a query that returns all cities listed in the `Earthquakes` database. It should be an easy query on the `Cities` table. However, to be sure you get all cities in the database you will append the query to the `Nations` table to include capital cities as well. You will use `UNION` to remove any duplicate rows.\n",
    "\n",
    "Out of curiosity, you want to know if there were any duplicate rows. If you do the same query but append with `UNION ALL` instead, and compare the number of rows returned in each query, `UNION ALL` will return more rows if there are duplicates."
   ]
  },
  {
   "cell_type": "markdown",
   "metadata": {},
   "source": [
    "```\n",
    "SELECT CityName AS NearCityName, -- City name column\n",
    "\t   CountryCode\n",
    "FROM Cities\n",
    "\n",
    "UNION -- Append queries\n",
    "\n",
    "SELECT Capital AS NearCityName, -- Nation capital column\n",
    "       Code2 AS CountryCode\n",
    "FROM Nations;\n",
    "```"
   ]
  },
  {
   "cell_type": "markdown",
   "metadata": {},
   "source": [
    "```\n",
    "SELECT CityName AS NearCityName,\n",
    "\t   CountryCode\n",
    "FROM Cities\n",
    "\n",
    "UNION ALL -- Append queries\n",
    "\n",
    "SELECT Capital AS NearCityName,\n",
    "       Code2 AS CountryCode  -- Country code column\n",
    "FROM Nations;\n",
    "```"
   ]
  },
  {
   "cell_type": "markdown",
   "metadata": {},
   "source": [
    "- More rows are returned with `UNION ALL` therefore, `UNION` must be removing duplicates."
   ]
  },
  {
   "cell_type": "markdown",
   "metadata": {},
   "source": [
    "# UNION or DISTINCT()?"
   ]
  },
  {
   "cell_type": "markdown",
   "metadata": {},
   "source": [
    "When deciding whether to use `DISTINCT()` or `UNION` in a query to remove duplicate rows, which of the following questions would you NOT ask yourself?"
   ]
  },
  {
   "cell_type": "markdown",
   "metadata": {},
   "source": [
    "- Should I be thinking about duplicate rows because my queries never produce duplicate rows?"
   ]
  }
 ],
 "metadata": {
  "kernelspec": {
   "display_name": "Python 3.8.11 ('env_py')",
   "language": "python",
   "name": "python3"
  },
  "language_info": {
   "name": "python",
   "version": "3.8.11"
  },
  "orig_nbformat": 4,
  "vscode": {
   "interpreter": {
    "hash": "1e949e87132dd83f1a7623eb88007e3532b03b66b77111be347aa4a383049722"
   }
  }
 },
 "nbformat": 4,
 "nbformat_minor": 2
}

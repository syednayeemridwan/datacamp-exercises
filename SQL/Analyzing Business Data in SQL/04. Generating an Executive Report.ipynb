{
 "cells": [
  {
   "cell_type": "markdown",
   "metadata": {},
   "source": [
    "# Formatting dates"
   ]
  },
  {
   "cell_type": "markdown",
   "metadata": {},
   "source": [
    "Eve from the Business Intelligence (BI) team lets you know that she's gonna need your help to write queries for reports. The reports are read by C-level execs, so they need to be as readable and quick to scan as possible. Eve tells you that the C-level execs' preferred date format is something like `Friday 01, June 2018` for `2018-06-01`.\n",
    "\n",
    "You have a list of useful patterns.\n",
    "```\n",
    "Pattern\tDescription\n",
    "DD\tDay number (01 - 31)\n",
    "FMDay\tFull day name (Monday, Tuesday, etc.)\n",
    "FMMonth\tFull month name (January, February, etc.)\n",
    "YYYY\tFull 4-digit year (2018, 2019, etc.)\n",
    "```\n",
    "Figure out the format string that formats `2018-06-01` as `\"Friday 01, June 2018\"` when using `TO_CHAR`."
   ]
  },
  {
   "cell_type": "markdown",
   "metadata": {},
   "source": [
    "```\n",
    "SELECT DISTINCT\n",
    "  -- Select the order date\n",
    "  order_date,\n",
    "  -- Format the order date\n",
    "  TO_CHAR(order_date, 'FMDay DD, FMMonth YYYY') AS format_order_date\n",
    "FROM orders\n",
    "ORDER BY order_date ASC\n",
    "LIMIT 3;\n",
    "```"
   ]
  },
  {
   "cell_type": "markdown",
   "metadata": {},
   "source": [
    "# Rank users by their count of orders"
   ]
  },
  {
   "cell_type": "markdown",
   "metadata": {},
   "source": [
    "Eve tells you that she wants to report which user IDs have the most orders each month. She doesn't want to display long numbers, which will only distract C-level execs, so she wants to display only their ranks. The top 1 rank goes to the user with the most orders, the second-top 2 rank goes to the user with the second-most orders, and so on.\n",
    "\n",
    "Send Eve a list of the top 3 user IDs by orders in August 2018 with their ranks."
   ]
  },
  {
   "cell_type": "markdown",
   "metadata": {},
   "source": [
    "```\n",
    "-- Set up the user_count_orders CTE\n",
    "WITH user_count_orders AS (\n",
    "  SELECT\n",
    "    user_id,\n",
    "    COUNT(DISTINCT order_id) AS count_orders\n",
    "  FROM orders\n",
    "  -- Only keep orders in August 2018\n",
    "  WHERE DATE_TRUNC('month', order_date) = '2018-08-01'\n",
    "  GROUP BY user_id)\n",
    "\n",
    "SELECT\n",
    "  -- Select user ID, and rank user ID by count_orders\n",
    "  user_id,\n",
    "  RANK() OVER(ORDER BY count_orders DESC) AS count_orders_rank\n",
    "FROM user_count_orders\n",
    "ORDER BY count_orders_rank ASC\n",
    "-- Limit the user IDs selected to 3\n",
    "LIMIT 3;\n",
    "```"
   ]
  },
  {
   "cell_type": "markdown",
   "metadata": {},
   "source": [
    "# Pivoting user revenues by month"
   ]
  },
  {
   "cell_type": "markdown",
   "metadata": {},
   "source": [
    "Next, Eve tells you that the C-level execs prefer wide tables over long ones because they're easier to scan. She prepared a sample report of user revenues by month, detailing the first 5 user IDs' revenues from June to August 2018. The execs told her to pivot the table by month. She's passed that task off to you.\n",
    "\n",
    "Pivot the user revenues by month query so that the user ID is a row and each month from June to August 2018 is a column."
   ]
  },
  {
   "cell_type": "markdown",
   "metadata": {},
   "source": [
    "```\n",
    "-- Import tablefunc\n",
    "CREATE EXTENSION IF NOT EXISTS tablefunc;\n",
    "\n",
    "SELECT * FROM CROSSTAB($$\n",
    "  SELECT\n",
    "    user_id,\n",
    "    DATE_TRUNC('month', order_date) :: DATE AS delivr_month,\n",
    "    SUM(meal_price * order_quantity) :: FLOAT AS revenue\n",
    "  FROM meals\n",
    "  JOIN orders ON meals.meal_id = orders.meal_id\n",
    " WHERE user_id IN (0, 1, 2, 3, 4)\n",
    "   AND order_date < '2018-09-01'\n",
    " GROUP BY user_id, delivr_month\n",
    " ORDER BY user_id, delivr_month;\n",
    "$$)\n",
    "-- Select user ID and the months from June to August 2018\n",
    "AS ct (user_id INT,\n",
    "       \"2018-06-01\" FLOAT,\n",
    "       \"2018-07-01\" FLOAT,\n",
    "       \"2018-08-01\" FLOAT)\n",
    "ORDER BY user_id ASC;\n",
    "```"
   ]
  },
  {
   "cell_type": "markdown",
   "metadata": {},
   "source": [
    "# Costs"
   ]
  },
  {
   "cell_type": "markdown",
   "metadata": {},
   "source": [
    "The C-level execs next tell Eve that they want a report on the total costs by eatery in the last two months.\n",
    "\n",
    "First, write a query to get the total costs by eatery in November and December 2018, then pivot by month.\n",
    "\n",
    "Note: Recall from Chapter 1 that total cost is the sum of each meal's cost times its stocking quantity."
   ]
  },
  {
   "cell_type": "markdown",
   "metadata": {},
   "source": [
    "```\n",
    "SELECT\n",
    "  -- Select eatery and calculate total cost\n",
    "  eatery,\n",
    "  DATE_TRUNC('month', stocking_date) :: DATE AS delivr_month,\n",
    "  SUM(meal_cost*stocked_quantity) :: FLOAT AS cost\n",
    "FROM meals\n",
    "JOIN stock ON meals.meal_id = stock.meal_id\n",
    "-- Keep only the records after October 2018\n",
    "WHERE stocking_date>'2018-10-31'\n",
    "GROUP BY eatery, delivr_month\n",
    "ORDER BY eatery, delivr_month;\n",
    "```"
   ]
  },
  {
   "cell_type": "markdown",
   "metadata": {},
   "source": [
    "```\n",
    "-- Import tablefunc\n",
    "CREATE EXTENSION IF NOT EXISTS tablefunc;\n",
    "\n",
    "SELECT * FROM CROSSTAB($$\n",
    "  SELECT\n",
    "    -- Select eatery and calculate total cost\n",
    "    eatery,\n",
    "    DATE_TRUNC('month', stocking_date) :: DATE AS delivr_month,\n",
    "    SUM(meal_cost * stocked_quantity) :: FLOAT AS cost\n",
    "  FROM meals\n",
    "  JOIN stock ON meals.meal_id = stock.meal_id\n",
    "  -- Keep only the records after October 2018\n",
    "  WHERE DATE_TRUNC('month', stocking_date) > '2018-10-01'\n",
    "  GROUP BY eatery, delivr_month\n",
    "  ORDER BY eatery, delivr_month;\n",
    "$$)\n",
    "\n",
    "-- Select the eatery and November and December 2018 as columns\n",
    "AS ct (eatery TEXT,\n",
    "       \"2018-11-01\" FLOAT,\n",
    "       \"2018-12-01\" FLOAT)\n",
    "ORDER BY eatery ASC;\n",
    "```"
   ]
  },
  {
   "cell_type": "markdown",
   "metadata": {},
   "source": [
    "# Report readability"
   ]
  },
  {
   "cell_type": "markdown",
   "metadata": {},
   "source": [
    "This executive report detailing the quarterly rank of each eatery by how many orders each eatery received was generated by Frank, a more junior member of the BI team. Frank sent it to Eve, who rejected it and told him that it was unreadable.\n",
    "\n",
    "Frank approaches you and asks you what he can do to make this report more readable.\n",
    "```\n",
    "eatery               delivr_quarter  orders_rank\n",
    "-----------------  --------------  -----------            \n",
    "Bean Me Up Scotty  Q2 2018           3          \n",
    "Bean Me Up Scotty  Q3 2018           2          \n",
    "Bean Me Up Scotty  Q4 2018           2           \n",
    "Burgatorio         Q2 2018           2           \n",
    "...                ...             ...  \n",
    "```"
   ]
  },
  {
   "cell_type": "markdown",
   "metadata": {},
   "source": [
    "- Pivot the table by quarter so that each quarter is a column."
   ]
  },
  {
   "cell_type": "markdown",
   "metadata": {},
   "source": [
    "# Executive report"
   ]
  },
  {
   "cell_type": "markdown",
   "metadata": {},
   "source": [
    "Eve wants to produce a final executive report about the rankings of eateries by the number of unique users who order from them by quarter. She said she'll handle the pivoting, so you only need to prepare the source table for her to pivot.\n",
    "\n",
    "Send Eve a table of unique ordering users by eatery and by quarter."
   ]
  },
  {
   "cell_type": "markdown",
   "metadata": {},
   "source": [
    "```\n",
    "SELECT\n",
    "  eatery,\n",
    "  -- Format the order date so \"2018-06-01\" becomes \"Q2 2018\"\n",
    "  TO_CHAR(order_date, '\"Q\"Q YYYY') AS delivr_quarter,\n",
    "  -- Count unique users\n",
    "  COUNT(DISTINCT user_id) AS users\n",
    "FROM meals\n",
    "JOIN orders ON meals.meal_id = orders.meal_id\n",
    "GROUP BY eatery, delivr_quarter\n",
    "ORDER BY delivr_quarter, users;\n",
    "```"
   ]
  },
  {
   "cell_type": "markdown",
   "metadata": {},
   "source": [
    "```\n",
    "WITH eatery_users AS  (\n",
    "  SELECT\n",
    "    eatery,\n",
    "    -- Format the order date so \"2018-06-01\" becomes \"Q2 2018\"\n",
    "    TO_CHAR(order_date, '\"Q\"Q YYYY') AS delivr_quarter,\n",
    "    -- Count unique users\n",
    "    COUNT(DISTINCT user_id) AS users\n",
    "  FROM meals\n",
    "  JOIN orders ON meals.meal_id = orders.meal_id\n",
    "  GROUP BY eatery, delivr_quarter\n",
    "  ORDER BY delivr_quarter, users)\n",
    "\n",
    "SELECT\n",
    "  -- Select eatery and quarter\n",
    "  eatery,\n",
    "  delivr_quarter,\n",
    "  -- Rank rows, partition by quarter and order by users\n",
    "  RANK() OVER\n",
    "    (PARTITION BY delivr_quarter\n",
    "     ORDER BY users DESC) :: INT AS users_rank\n",
    "FROM eatery_users\n",
    "ORDER BY delivr_quarter, users_rank;\n",
    "```"
   ]
  },
  {
   "cell_type": "markdown",
   "metadata": {},
   "source": [
    "```\n",
    "-- Import tablefunc\n",
    "CREATE EXTENSION IF NOT EXISTS tablefunc;\n",
    "\n",
    "-- Pivot the previous query by quarter\n",
    "SELECT * FROM CROSSTAB($$\n",
    "  WITH eatery_users AS  (\n",
    "    SELECT\n",
    "      eatery,\n",
    "      -- Format the order date so \"2018-06-01\" becomes \"Q2 2018\"\n",
    "      TO_CHAR(order_date, '\"Q\"Q YYYY') AS delivr_quarter,\n",
    "      -- Count unique users\n",
    "      COUNT(DISTINCT user_id) AS users\n",
    "    FROM meals\n",
    "    JOIN orders ON meals.meal_id = orders.meal_id\n",
    "    GROUP BY eatery, delivr_quarter\n",
    "    ORDER BY delivr_quarter, users)\n",
    "\n",
    "  SELECT\n",
    "    -- Select eatery and quarter\n",
    "    eatery,\n",
    "    delivr_quarter,\n",
    "    -- Rank rows, partition by quarter and order by users\n",
    "    RANK() OVER\n",
    "      (PARTITION BY delivr_quarter\n",
    "       ORDER BY users DESC) :: INT AS users_rank\n",
    "  FROM eatery_users\n",
    "  ORDER BY eatery, delivr_quarter;\n",
    "$$)\n",
    "-- Select the columns of the pivoted table\n",
    "AS  ct (eatery TEXT,\n",
    "        \"Q2 2018\" INT,\n",
    "        \"Q3 2018\" INT,\n",
    "        \"Q4 2018\" INT)\n",
    "ORDER BY \"Q4 2018\";\n",
    "```"
   ]
  }
 ],
 "metadata": {
  "kernelspec": {
   "display_name": "Python 3.8.11 ('env_py')",
   "language": "python",
   "name": "python3"
  },
  "language_info": {
   "name": "python",
   "version": "3.8.11"
  },
  "orig_nbformat": 4,
  "vscode": {
   "interpreter": {
    "hash": "1e949e87132dd83f1a7623eb88007e3532b03b66b77111be347aa4a383049722"
   }
  }
 },
 "nbformat": 4,
 "nbformat_minor": 2
}

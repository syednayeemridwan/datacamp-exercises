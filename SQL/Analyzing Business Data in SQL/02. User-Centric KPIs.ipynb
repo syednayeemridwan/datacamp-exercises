{
 "cells": [
  {
   "cell_type": "markdown",
   "metadata": {},
   "source": [
    "# Registrations by month"
   ]
  },
  {
   "cell_type": "markdown",
   "metadata": {},
   "source": [
    "Usually, registration dates are stored in a table containing users' metadata. However, Delivr only considers a user registered if that user has ordered at least once. A Delivr user's registration date is the date of that user's first order.\n",
    "\n",
    "Bob, the Investment Relations Manager at Delivr, is preparing a pitch deck for a meeting with potential investors. He wants to add a line chart of registrations by month to highlight Delivr's success in gaining new users.\n",
    "\n",
    "Send Bob a table of registrations by month."
   ]
  },
  {
   "cell_type": "markdown",
   "metadata": {},
   "source": [
    "```\n",
    "-- Wrap the query you wrote in a CTE named reg_dates\n",
    "WITH reg_dates AS (\n",
    "  SELECT\n",
    "    user_id,\n",
    "    MIN(order_date) AS reg_date\n",
    "  FROM orders\n",
    "  GROUP BY user_id)\n",
    "\n",
    "SELECT\n",
    "  -- Count the unique user IDs by registration month\n",
    "  DATE_TRUNC('month', reg_date) :: DATE AS delivr_month,\n",
    "  COUNT(DISTINCT user_id) AS regs\n",
    "FROM reg_dates\n",
    "GROUP BY delivr_month\n",
    "ORDER BY delivr_month ASC; \n",
    "```"
   ]
  },
  {
   "cell_type": "markdown",
   "metadata": {},
   "source": [
    "# Monthly active users (MAU)"
   ]
  },
  {
   "cell_type": "markdown",
   "metadata": {},
   "source": [
    "Bob predicts that the investors won't be satisfied with only registrations by month. They will want to know how many users actually used Delivr as well. He's decided to include another line chart of Delivr's monthly active users (MAU); he's asked you to send him a table of monthly active users."
   ]
  },
  {
   "cell_type": "markdown",
   "metadata": {},
   "source": [
    "```\n",
    "SELECT\n",
    "  -- Truncate the order date to the nearest month\n",
    "  DATE_TRUNC('month' , order_date) :: DATE AS delivr_month,\n",
    "  -- Count the unique user IDs\n",
    "  COUNT(DISTINCT user_id) AS mau\n",
    "FROM orders\n",
    "GROUP BY delivr_month\n",
    "-- Order by month\n",
    "ORDER BY delivr_month ASC;\n",
    "```"
   ]
  },
  {
   "cell_type": "markdown",
   "metadata": {},
   "source": [
    "# Registrations running total"
   ]
  },
  {
   "cell_type": "markdown",
   "metadata": {},
   "source": [
    "You have a suggestion for Bob's pitch deck: Instead of showing registrations by month in the line chart, he can show the registrations running total by month. The numbers are bigger that way, and investors always love bigger numbers! He agrees, and you begin to work on a query that returns a table of the registrations running total by month."
   ]
  },
  {
   "cell_type": "markdown",
   "metadata": {},
   "source": [
    "```\n",
    "WITH reg_dates AS (\n",
    "  SELECT\n",
    "    user_id,\n",
    "    MIN(order_date) AS reg_date\n",
    "  FROM orders\n",
    "  GROUP BY user_id),\n",
    "\n",
    "  regs AS (\n",
    "  SELECT\n",
    "    DATE_TRUNC('month', reg_date) :: DATE AS delivr_month,\n",
    "    COUNT(DISTINCT user_id) AS regs\n",
    "  FROM reg_dates\n",
    "  GROUP BY delivr_month)\n",
    "\n",
    "SELECT\n",
    "  -- Calculate the registrations running total by month\n",
    "  regs.delivr_month,\n",
    "  SUM(regs) OVER(ORDER BY regs.delivr_month) AS regs_rt\n",
    "FROM regs\n",
    "-- Order by month in ascending order\n",
    "ORDER BY regs.delivr_month ASC; \n",
    "```"
   ]
  },
  {
   "cell_type": "markdown",
   "metadata": {},
   "source": [
    "# MAU monitor (I)"
   ]
  },
  {
   "cell_type": "markdown",
   "metadata": {},
   "source": [
    "Carol from the Product team noticed that you're working with a lot of user-centric KPIs for Bob's pitch deck. While you're at it, she says, you can help build an idea of hers involving a user-centric KPI. She wants to build a monitor that compares the MAUs of the previous and current month, raising a red flag to the Product team if the current month's active users are less than those of the previous month.\n",
    "\n",
    "To start, write a query that returns a table of MAUs and the previous month's MAU for every month."
   ]
  },
  {
   "cell_type": "markdown",
   "metadata": {},
   "source": [
    "```\n",
    "WITH mau AS (\n",
    "  SELECT\n",
    "    DATE_TRUNC('month', order_date) :: DATE AS delivr_month,\n",
    "    COUNT(DISTINCT user_id) AS mau\n",
    "  FROM orders\n",
    "  GROUP BY delivr_month)\n",
    "\n",
    "SELECT\n",
    "  -- Select the month and the MAU\n",
    "  delivr_month,\n",
    "  mau,\n",
    "  COALESCE(\n",
    "    LAG(mau) OVER (ORDER BY delivr_month),\n",
    "  0) AS last_mau\n",
    "FROM mau\n",
    "-- Order by month in ascending order\n",
    "ORDER BY delivr_month ASC;\n",
    "```"
   ]
  },
  {
   "cell_type": "markdown",
   "metadata": {},
   "source": [
    "# MAU monitor (II)"
   ]
  },
  {
   "cell_type": "markdown",
   "metadata": {},
   "source": [
    "Now that you've built the basis for Carol's MAU monitor, write a query that returns a table of months and the deltas of each month's current and previous MAUs.\n",
    "\n",
    "If the delta is negative, less users were active in the current month than in the previous month, which triggers the monitor to raise a red flag so the Product team can investigate."
   ]
  },
  {
   "cell_type": "markdown",
   "metadata": {},
   "source": [
    "```\n",
    "WITH mau AS (\n",
    "  SELECT\n",
    "    DATE_TRUNC('month', order_date) :: DATE AS delivr_month,\n",
    "    COUNT(DISTINCT user_id) AS mau\n",
    "  FROM orders\n",
    "  GROUP BY delivr_month),\n",
    "\n",
    "  mau_with_lag AS (\n",
    "  SELECT\n",
    "    delivr_month,\n",
    "    mau,\n",
    "    -- Fetch the previous month's MAU\n",
    "    COALESCE(\n",
    "      LAG(mau) OVER(ORDER BY delivr_month),\n",
    "    0) AS last_mau\n",
    "  FROM mau)\n",
    "\n",
    "SELECT\n",
    "  -- Calculate each month's delta of MAUs\n",
    "  delivr_month,\n",
    "  mau-last_mau AS mau_delta\n",
    "FROM mau_with_lag\n",
    "-- Order by month in ascending order\n",
    "ORDER BY delivr_month;\n",
    "```"
   ]
  },
  {
   "cell_type": "markdown",
   "metadata": {},
   "source": [
    "# MAU monitor (III)"
   ]
  },
  {
   "cell_type": "markdown",
   "metadata": {},
   "source": [
    "Carol is very pleased with your last query, but she's requested one change: She prefers to have the month-on-month (MoM) MAU growth rate over a raw delta of MAUs. That way, the MAU monitor can have more complex triggers, like raising a yellow flag if the growth rate is -2% and a red flag if the growth rate is -5%.\n",
    "\n",
    "Write a query that returns a table of months and each month's MoM MAU growth rate to finalize the MAU monitor."
   ]
  },
  {
   "cell_type": "markdown",
   "metadata": {},
   "source": [
    "```\n",
    "WITH mau AS (\n",
    "  SELECT\n",
    "    DATE_TRUNC('month', order_date) :: DATE AS delivr_month,\n",
    "    COUNT(DISTINCT user_id) AS mau\n",
    "  FROM orders\n",
    "  GROUP BY delivr_month),\n",
    "\n",
    "  mau_with_lag AS (\n",
    "  SELECT\n",
    "    delivr_month,\n",
    "    mau,\n",
    "    GREATEST(\n",
    "      LAG(mau) OVER (ORDER BY delivr_month ASC),\n",
    "    1) AS last_mau\n",
    "  FROM mau)\n",
    "\n",
    "SELECT\n",
    "  -- Calculate the MoM MAU growth rates\n",
    "  delivr_month,\n",
    "  ROUND(\n",
    "    (mau-last_mau)/last_mau::NUMERIC,\n",
    "  2) AS growth\n",
    "FROM mau_with_lag\n",
    "-- Order by month in ascending order\n",
    "ORDER BY growth;\n",
    "```"
   ]
  },
  {
   "cell_type": "markdown",
   "metadata": {},
   "source": [
    "# Order growth rate"
   ]
  },
  {
   "cell_type": "markdown",
   "metadata": {},
   "source": [
    "Bob needs one more chart to wrap up his pitch deck. He's covered Delivr's gain of new users, its growing MAUs, and its high retention rates. Something is missing, though. Throughout the pitch deck, there's not a single mention of the best indicator of user activity: the users' orders! The more orders users make, the more active they are on Delivr, and the more money Delivr generates.\n",
    "\n",
    "Send Bob a table of MoM order growth rates.\n",
    "\n",
    "(Recap: MoM means month-on-month.)"
   ]
  },
  {
   "cell_type": "markdown",
   "metadata": {},
   "source": [
    "```\n",
    "WITH orders AS (\n",
    "  SELECT\n",
    "    DATE_TRUNC('month', order_date) :: DATE AS delivr_month,\n",
    "    --  Count the unique order IDs\n",
    "    COUNT(DISTINCT order_id) AS orders\n",
    "  FROM orders\n",
    "  GROUP BY delivr_month),\n",
    "\n",
    "  orders_with_lag AS (\n",
    "  SELECT\n",
    "    delivr_month,\n",
    "    -- Fetch each month's current and previous orders\n",
    "    orders,\n",
    "    COALESCE(\n",
    "      LAG(orders) OVER (ORDER BY delivr_month),\n",
    "    1) AS last_orders\n",
    "  FROM orders)\n",
    "\n",
    "SELECT\n",
    "  delivr_month,\n",
    "  -- Calculate the MoM order growth rate\n",
    "  ROUND(\n",
    "    (orders-last_orders)/last_orders::NUMERIC,\n",
    "  2) AS growth\n",
    "FROM orders_with_lag\n",
    "ORDER BY delivr_month ASC;\n",
    "```"
   ]
  },
  {
   "cell_type": "markdown",
   "metadata": {},
   "source": [
    "# New, retained, and resurrected users"
   ]
  },
  {
   "cell_type": "markdown",
   "metadata": {},
   "source": [
    "In August 2018, Delivr had 300 overall active users. Of these users, 124 were retained from last month, and 67 were resurrected users who weren't active in previous months but returned to the platform in August. How many users were new?\n",
    "<center><img src=\"images/02.12.jpg\"  style=\"width: 400px, height: 300px;\"/></center>"
   ]
  },
  {
   "cell_type": "markdown",
   "metadata": {},
   "source": [
    "- 109"
   ]
  },
  {
   "cell_type": "markdown",
   "metadata": {},
   "source": [
    "# Retention rate"
   ]
  },
  {
   "cell_type": "markdown",
   "metadata": {},
   "source": [
    "Bob's requested your help again now that you're done with Carol's MAU monitor. His meeting with potential investors is fast approaching, and he wants to wrap up his pitch deck. You've already helped him with the registrations running total by month and MAU line charts; the investors, Bob says, would be convinced that Delivr is growing both in new users and in MAUs.\n",
    "\n",
    "However, Bob wants to show that Delivr not only attracts new users but also retains existing users. Send him a table of MoM retention rates so that he can highlight Delivr's high user loyalty."
   ]
  },
  {
   "cell_type": "markdown",
   "metadata": {},
   "source": [
    "```\n",
    "WITH user_monthly_activity AS (\n",
    "  SELECT DISTINCT\n",
    "    DATE_TRUNC('month', order_date) :: DATE AS delivr_month,\n",
    "    user_id\n",
    "  FROM orders)\n",
    "\n",
    "SELECT\n",
    "  -- Calculate the MoM retention rates\n",
    "  previous.delivr_month,\n",
    "  ROUND(\n",
    "    COUNT(DISTINCT current.user_id) :: NUMERIC /\n",
    "    GREATEST(COUNT(DISTINCT previous.user_id), 1),\n",
    "  2) AS retention_rate\n",
    "FROM user_monthly_activity AS previous\n",
    "LEFT JOIN user_monthly_activity AS current\n",
    "-- Fill in the user and month join conditions\n",
    "ON previous.user_id = current.user_id\n",
    "AND previous.delivr_month = (current.delivr_month - INTERVAL '1 month')\n",
    "GROUP BY previous.delivr_month\n",
    "ORDER BY previous.delivr_month ASC;\n",
    "```"
   ]
  }
 ],
 "metadata": {
  "kernelspec": {
   "display_name": "Python 3.8.11 ('env_py')",
   "language": "python",
   "name": "python3"
  },
  "language_info": {
   "name": "python",
   "version": "3.8.11"
  },
  "orig_nbformat": 4,
  "vscode": {
   "interpreter": {
    "hash": "1e949e87132dd83f1a7623eb88007e3532b03b66b77111be347aa4a383049722"
   }
  }
 },
 "nbformat": 4,
 "nbformat_minor": 2
}

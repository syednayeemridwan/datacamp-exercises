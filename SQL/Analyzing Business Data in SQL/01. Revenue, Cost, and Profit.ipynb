{
 "cells": [
  {
   "cell_type": "markdown",
   "metadata": {},
   "source": [
    "# Revenue per customer"
   ]
  },
  {
   "cell_type": "markdown",
   "metadata": {},
   "source": [
    "You've been hired at Delivr as a data analyst! A customer just called Delivr's Customer Support team; she wants to double-check whether her receipts add up. Going by her receipts, she calculated that her total bill on Delivr is $271, and she wants to make sure of that. Her user ID is 15.\n",
    "\n",
    "Help the Customer Support team by calculating her total bill! Sum up everything she's spent on Delivr orders; in other words, calculate the total revenue that Delivr has generated from her."
   ]
  },
  {
   "cell_type": "markdown",
   "metadata": {},
   "source": [
    "```\n",
    "-- Calculate revenue\n",
    "SELECT SUM(meal_price*order_quantity) AS revenue\n",
    "  FROM meals\n",
    "  JOIN orders ON meals.meal_id = orders.meal_id\n",
    "-- Keep only the records of customer ID 15\n",
    "WHERE user_id = 15;\n",
    "```"
   ]
  },
  {
   "cell_type": "markdown",
   "metadata": {},
   "source": [
    "# Revenue per week"
   ]
  },
  {
   "cell_type": "markdown",
   "metadata": {},
   "source": [
    "Delivr's first full month of operations was June 2018. At launch, the Marketing team ran an ad campaign on popular food channels on TV, with the number of ads increasing each week through the end of the month. The Head of Marketing asks you to help her assess that campaign's success.\n",
    "\n",
    "Get the revenue per week for each week in June and check whether there's any consistent growth in revenue.\n",
    "\n",
    "Note: Don't be surprised if you get a date in May in the result. `DATE_TRUNC('week', '2018-06-02') `returns `'2018-05-28'`, since `'2018-06-02'` is a Saturday and the preceding Monday is on `'2018-05-28'`."
   ]
  },
  {
   "cell_type": "markdown",
   "metadata": {},
   "source": [
    "```\n",
    "SELECT DATE_TRUNC('week', order_date) :: DATE AS delivr_week,\n",
    "       -- Calculate revenue\n",
    "       SUM(order_quantity * meal_price) AS revenue\n",
    "  FROM meals\n",
    "  JOIN orders ON meals.meal_id = orders.meal_id\n",
    "-- Keep only the records in June 2018\n",
    "WHERE DATE_TRUNC('month', order_date) = '2018-06-01'\n",
    "GROUP BY delivr_week\n",
    "ORDER BY delivr_week ASC;\n",
    "\n",
    "\n",
    "```"
   ]
  },
  {
   "cell_type": "markdown",
   "metadata": {},
   "source": [
    "# Total cost"
   ]
  },
  {
   "cell_type": "markdown",
   "metadata": {},
   "source": [
    "What is Delivr's total cost since it began operating?"
   ]
  },
  {
   "cell_type": "markdown",
   "metadata": {},
   "source": [
    "```\n",
    "WITH table_1 AS (\n",
    "SELECT m.meal_id, SUM(stocked_quantity*meal_cost) AS sub_total\n",
    "FROM meals AS m\n",
    "INNER JOIN stock AS s\n",
    "ON m.meal_id=s.meal_id\n",
    "GROUP BY m.meal_id)\n",
    "SELECT SUM (sub_total) FROM table_1\n",
    "```"
   ]
  },
  {
   "cell_type": "markdown",
   "metadata": {},
   "source": [
    "- 92,133"
   ]
  },
  {
   "cell_type": "markdown",
   "metadata": {},
   "source": [
    "# Top meals by cost"
   ]
  },
  {
   "cell_type": "markdown",
   "metadata": {},
   "source": [
    "Alice from Finance wants to know what Delivr's top 5 meals are by overall cost; in other words, Alice wants to know the 5 meals that Delivr has spent the most on for stocking.\n",
    "\n",
    "You're provided with an aggregate query; you'll need to fill in the blanks to get the output Alice needs.\n",
    "\n",
    "Note: Recall that in the `meals` table, `meal_price` is what the user pays Delivr for the meal, while `meal_cost` is what Delivr pays its eateries to stock this meal."
   ]
  },
  {
   "cell_type": "markdown",
   "metadata": {},
   "source": [
    "```\n",
    "SELECT\n",
    "  -- Calculate cost per meal ID\n",
    "  meals.meal_id,\n",
    "  SUM(meals.meal_cost * stock.stocked_quantity) AS cost\n",
    "FROM meals\n",
    "JOIN stock ON meals.meal_id = stock.meal_id\n",
    "GROUP BY meals.meal_id\n",
    "ORDER BY cost DESC\n",
    "-- Only the top 5 meal IDs by purchase cost\n",
    "LIMIT 5;\n",
    "```"
   ]
  },
  {
   "cell_type": "markdown",
   "metadata": {},
   "source": [
    "# Using CTEs"
   ]
  },
  {
   "cell_type": "markdown",
   "metadata": {},
   "source": [
    "Alice wants to know how much Delivr spent per month on average during its early months (before September 2018). You'll need to write two queries to solve this problem:\n",
    "\n",
    "- A query to calculate cost per month, wrapped in a CTE,\n",
    "- A query that averages monthly cost before September 2018 by referencing the CTE."
   ]
  },
  {
   "cell_type": "markdown",
   "metadata": {},
   "source": [
    "```\n",
    "-- Declare a CTE named monthly_cost\n",
    "WITH monthly_cost AS (\n",
    "  SELECT\n",
    "    DATE_TRUNC('month', stocking_date)::DATE AS delivr_month,\n",
    "    SUM(meal_cost * stocked_quantity) AS cost\n",
    "  FROM meals\n",
    "  JOIN stock ON meals.meal_id = stock.meal_id\n",
    "  GROUP BY delivr_month)\n",
    "\n",
    "SELECT\n",
    "  -- Calculate the average monthly cost before September\n",
    "  AVG(cost)\n",
    "FROM monthly_cost\n",
    "WHERE delivr_month<'2018-09-01';\n",
    "```"
   ]
  },
  {
   "cell_type": "markdown",
   "metadata": {},
   "source": [
    "# Profit per eatery"
   ]
  },
  {
   "cell_type": "markdown",
   "metadata": {},
   "source": [
    "Delivr is renegotiating its contracts with its eateries. The higher the profit that an eatery generates, the higher the rate that Delivr is willing to pay this eatery for the bulk purchase of meals.\n",
    "\n",
    "The Business Development team asks you to find out how much profit each eatery is generating to strengthen their negotiating positions.\n",
    "\n",
    "Note: You don't need to `GROUP BY` eatery in the final query. You've already grouped by eatery in the revenue and cost CTEs; all that's required is joining them to each other to get each eatery's revenue and cost in one row. Since revenue and cost take up one row each per eatery, there are no additional groupings to be made."
   ]
  },
  {
   "cell_type": "markdown",
   "metadata": {},
   "source": [
    "```\n",
    "WITH revenue AS (\n",
    "  -- Calculate revenue per eatery\n",
    "  SELECT eatery,\n",
    "         SUM(order_quantity * meal_price) AS revenue\n",
    "    FROM meals\n",
    "    JOIN orders ON meals.meal_id = orders.meal_id\n",
    "   GROUP BY eatery),\n",
    "\n",
    "  cost AS (\n",
    "  -- Calculate cost per eatery\n",
    "  SELECT eatery,\n",
    "         SUM(stocked_quantity*meal_cost) AS cost\n",
    "    FROM meals\n",
    "    JOIN stock ON meals.meal_id = stock.meal_id\n",
    "   GROUP BY eatery)\n",
    "\n",
    "   -- Calculate profit per eatery\n",
    "   SELECT cost.eatery,\n",
    "          revenue.revenue-cost.cost AS profit\n",
    "     FROM revenue\n",
    "     JOIN cost ON revenue.eatery = cost.eatery\n",
    "    ORDER BY profit DESC;\n",
    "```"
   ]
  },
  {
   "cell_type": "markdown",
   "metadata": {},
   "source": [
    "# Profit per month"
   ]
  },
  {
   "cell_type": "markdown",
   "metadata": {},
   "source": [
    "After prioritizing and making deals with eateries by their overall profits, Alice wants to track Delivr profits per month to see how well it's doing. You're here to help.\n",
    "\n",
    "You're provided with two CTEs. The first stores revenue and the second stores cost. To access revenue and cost in one query, the two CTEs are joined in the last query. From there, you can apply the formula for profit `Profit = Revenue - Cost` to calculate profit per month.\n",
    "\n",
    "Remember that revenue is the sum of each meal's price times its order quantity, and that cost is the sum of each meal's cost times its stocked quantity."
   ]
  },
  {
   "cell_type": "markdown",
   "metadata": {},
   "source": [
    "```\n",
    "-- Set up the revenue CTE\n",
    "WITH revenue AS ( \n",
    "\tSELECT\n",
    "\t\tDATE_TRUNC('month', order_date) :: DATE AS delivr_month,\n",
    "\t\tSUM(order_quantity * meal_price) AS revenue\n",
    "\tFROM meals\n",
    "\tJOIN orders ON meals.meal_id = orders.meal_id\n",
    "\tGROUP BY delivr_month),\n",
    "-- Set up the cost CTE\n",
    "  cost AS (\n",
    " \tSELECT\n",
    "\t\tDATE_TRUNC('month', stocking_date) :: DATE AS delivr_month,\n",
    "\t\tSUM(stocked_quantity*meal_cost) AS cost\n",
    "\tFROM meals\n",
    "    JOIN stock ON meals.meal_id = stock.meal_id\n",
    "\tGROUP BY delivr_month)\n",
    "-- Calculate profit by joining the CTEs\n",
    "SELECT\n",
    "\tcost.delivr_month,\n",
    "\trevenue.revenue-cost.cost AS profit\n",
    "FROM revenue\n",
    "JOIN cost ON revenue.delivr_month = cost.delivr_month\n",
    "ORDER BY revenue.delivr_month ASC;\n",
    "```"
   ]
  }
 ],
 "metadata": {
  "kernelspec": {
   "display_name": "Python 3.8.11 ('env_py')",
   "language": "python",
   "name": "python3"
  },
  "language_info": {
   "name": "python",
   "version": "3.8.11"
  },
  "orig_nbformat": 4,
  "vscode": {
   "interpreter": {
    "hash": "1e949e87132dd83f1a7623eb88007e3532b03b66b77111be347aa4a383049722"
   }
  }
 },
 "nbformat": 4,
 "nbformat_minor": 2
}

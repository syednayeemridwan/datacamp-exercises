{
 "cells": [
  {
   "cell_type": "markdown",
   "metadata": {},
   "source": [
    "# Average revenue per user"
   ]
  },
  {
   "cell_type": "markdown",
   "metadata": {},
   "source": [
    "Dave from Finance wants to study Delivr's performance in revenue and orders per each of its user base. In other words, he wants to understand its unit economics.\n",
    "\n",
    "Help Dave kick off his study by calculating the overall average revenue per user (ARPU) using the first way discussed in Lesson 3.1."
   ]
  },
  {
   "cell_type": "markdown",
   "metadata": {},
   "source": [
    "```\n",
    "-- Create a CTE named kpi\n",
    "WITH kpi AS (\n",
    "  SELECT\n",
    "    -- Select the user ID and calculate revenue\n",
    "    user_id,\n",
    "    SUM(m.meal_price * o.order_quantity) AS revenue\n",
    "  FROM meals AS m\n",
    "  JOIN orders AS o ON m.meal_id = o.meal_id\n",
    "  GROUP BY user_id)\n",
    "-- Calculate ARPU\n",
    "SELECT ROUND(AVG(revenue) :: NUMERIC, 2) AS arpu\n",
    "FROM kpi;\n",
    "```"
   ]
  },
  {
   "cell_type": "markdown",
   "metadata": {},
   "source": [
    "# ARPU per week"
   ]
  },
  {
   "cell_type": "markdown",
   "metadata": {},
   "source": [
    "Next, Dave wants to see whether ARPU has increased over time. Even if Delivr's revenue is increasing, it's not scaling well if its ARPU is decreasing—it's generating less revenue from each of its customers.\n",
    "\n",
    "Send Dave a table of ARPU by week using the second way discussed in Lesson 3.1."
   ]
  },
  {
   "cell_type": "markdown",
   "metadata": {},
   "source": [
    "```\n",
    "WITH kpi AS (\n",
    "  SELECT\n",
    "    -- Select the week, revenue, and count of users\n",
    "    DATE_TRUNC('week', order_date) :: DATE AS delivr_week,\n",
    "    SUM(m.meal_price * o.order_quantity) AS revenue,\n",
    "    COUNT(DISTINCT user_id) AS users\n",
    "  FROM meals AS m\n",
    "  JOIN orders AS o ON m.meal_id = o.meal_id\n",
    "  GROUP BY delivr_week)\n",
    "\n",
    "SELECT\n",
    "  delivr_week,\n",
    "  -- Calculate ARPU\n",
    "  ROUND(\n",
    "    revenue :: NUMERIC / GREATEST(users, 1),\n",
    "  2) AS arpu\n",
    "FROM kpi\n",
    "-- Order by week in ascending order\n",
    "ORDER BY delivr_week ASC;\n",
    "```"
   ]
  },
  {
   "cell_type": "markdown",
   "metadata": {},
   "source": [
    "# Average orders per user"
   ]
  },
  {
   "cell_type": "markdown",
   "metadata": {},
   "source": [
    "Dave wants to add the average orders per user value to his unit economics study, since more orders usually correspond to more revenue.\n",
    "\n",
    "Calculate the average orders per user for Dave.\n",
    "\n",
    "Note: The count of distinct orders is different than the sum of ordered meals. One order can have many meals within it. Average orders per user depends on the count of orders, not the sum of ordered meals."
   ]
  },
  {
   "cell_type": "markdown",
   "metadata": {},
   "source": [
    "```\n",
    "WITH kpi AS (\n",
    "  SELECT\n",
    "    -- Select the count of orders and users\n",
    "    COUNT(DISTINCT order_id) AS orders,\n",
    "    COUNT(DISTINCT user_id) AS users\n",
    "  FROM orders)\n",
    "\n",
    "SELECT\n",
    "  -- Calculate the average orders per user\n",
    "  ROUND(\n",
    "    orders :: NUMERIC / users,\n",
    "  2) AS arpu\n",
    "FROM kpi;\n",
    "```"
   ]
  },
  {
   "cell_type": "markdown",
   "metadata": {},
   "source": [
    "# Histogram of revenue"
   ]
  },
  {
   "cell_type": "markdown",
   "metadata": {},
   "source": [
    "After determining that Delivr is doing well at scaling its business model, Dave wants to explore the distribution of revenues. He wants to see whether the distribution is U-shaped or normal to see how best to categorize users by the revenue they generate.\n",
    "\n",
    "Send Dave a frequency table of revenues by user."
   ]
  },
  {
   "cell_type": "markdown",
   "metadata": {},
   "source": [
    "```\n",
    "WITH user_revenues AS (\n",
    "  SELECT\n",
    "    -- Select the user ID and revenue\n",
    "    user_id,\n",
    "    SUM(order_quantity*meal_price) AS revenue\n",
    "  FROM meals AS m\n",
    "  JOIN orders AS o ON m.meal_id = o.meal_id\n",
    "  GROUP BY user_id)\n",
    "\n",
    "SELECT\n",
    "  -- Return the frequency table of revenues by user\n",
    "  ROUND(revenue :: NUMERIC, -2) AS revenue_100,\n",
    "  COUNT(DISTINCT user_id) AS users\n",
    "FROM user_revenues\n",
    "GROUP BY revenue_100\n",
    "ORDER BY revenue_100 ASC;\n",
    "```"
   ]
  },
  {
   "cell_type": "markdown",
   "metadata": {},
   "source": [
    "# Histogram of orders"
   ]
  },
  {
   "cell_type": "markdown",
   "metadata": {},
   "source": [
    "Dave also wants to plot the histogram of orders to see if it matches the shape of the histogram of revenues.\n",
    "\n",
    "Send Dave a frequency table of orders by user."
   ]
  },
  {
   "cell_type": "markdown",
   "metadata": {},
   "source": [
    "```\n",
    "WITH user_orders AS (\n",
    "  SELECT\n",
    "    user_id,\n",
    "    COUNT(DISTINCT order_id) AS orders\n",
    "  FROM orders\n",
    "  GROUP BY user_id)\n",
    "\n",
    "SELECT\n",
    "  -- Return the frequency table of orders by user\n",
    "  orders,\n",
    "  COUNT(user_id) AS users\n",
    "FROM user_orders\n",
    "GROUP BY orders\n",
    "ORDER BY orders ASC;\n",
    "```"
   ]
  },
  {
   "cell_type": "markdown",
   "metadata": {},
   "source": [
    "# Bucketing users by revenue"
   ]
  },
  {
   "cell_type": "markdown",
   "metadata": {},
   "source": [
    "Based on his analysis, Dave identified that $150 is a good cut-off for low-revenue users, and $300 is a good cut-off for mid-revenue users. He wants to find the number of users in each category to tweak Delivr's business model.\n",
    "\n",
    "Split the users into low, mid, and high-revenue buckets, and return the count of users in each group."
   ]
  },
  {
   "cell_type": "markdown",
   "metadata": {},
   "source": [
    "```\n",
    "WITH user_revenues AS (\n",
    "  SELECT\n",
    "    -- Select the user IDs and the revenues they generate\n",
    "    user_id,\n",
    "    SUM(meal_price * order_quantity) AS revenue\n",
    "  FROM meals AS m\n",
    "  JOIN orders AS o ON m.meal_id = o.meal_id\n",
    "  GROUP BY user_id)\n",
    "\n",
    "SELECT\n",
    "  -- Fill in the bucketing conditions\n",
    "  CASE\n",
    "    WHEN revenue < 150 THEN 'Low-revenue users'\n",
    "    WHEN revenue < 300 THEN 'Mid-revenue users'\n",
    "    ELSE 'High-revenue users'\n",
    "  END AS revenue_group,\n",
    "  COUNT(DISTINCT user_id) AS users\n",
    "FROM user_revenues\n",
    "GROUP BY revenue_group;\n",
    "```"
   ]
  },
  {
   "cell_type": "markdown",
   "metadata": {},
   "source": [
    "# Bucketing users by orders"
   ]
  },
  {
   "cell_type": "markdown",
   "metadata": {},
   "source": [
    "Dave is repeating his bucketing analysis on orders to have a more complete profile of each group. He determined that 8 orders is a good cut-off for the low-orders group, and 15 is a good cut-off for the medium orders group.\n",
    "\n",
    "Send Dave a table of each order group and how many users are in it."
   ]
  },
  {
   "cell_type": "markdown",
   "metadata": {},
   "source": [
    "```\n",
    "-- Store each user's count of orders in a CTE named user_orders\n",
    "WITH user_orders AS (\n",
    "  SELECT\n",
    "    user_id,\n",
    "    COUNT(DISTINCT order_id) AS orders\n",
    "  FROM orders\n",
    "  GROUP BY user_id)\n",
    "\n",
    "SELECT\n",
    "  -- Write the conditions for the three buckets\n",
    "  CASE\n",
    "    WHEN orders<8 THEN 'Low-orders users'\n",
    "    WHEN orders<15 THEN 'Mid-orders users'\n",
    "    ELSE 'High-orders users'\n",
    "  END AS order_group,\n",
    "  -- Count the distinct users in each bucket\n",
    "  COUNT (DISTINCT user_id) AS users\n",
    "FROM user_orders\n",
    "GROUP BY order_group;\n",
    "```"
   ]
  },
  {
   "cell_type": "markdown",
   "metadata": {},
   "source": [
    "# Revenue quartiles"
   ]
  },
  {
   "cell_type": "markdown",
   "metadata": {},
   "source": [
    "Dave is wrapping up his study, and wants to calculate a few more figures. He wants to find out the first, second, and third revenue quartiles. He also wants to find the average to see in which direction the data is skewed.\n",
    "\n",
    "Calculate the first, second, and third revenue quartiles, as well as the average.\n",
    "\n",
    "Note: You can calculate the 30th percentile for a column named column_a by using `PERCENTILE_CONT(0.30) WITHIN GROUP (ORDER BY column_a ASC)`."
   ]
  },
  {
   "cell_type": "markdown",
   "metadata": {},
   "source": [
    "```\n",
    "WITH user_revenues AS (\n",
    "  -- Select the user IDs and their revenues\n",
    "  SELECT\n",
    "    user_id,\n",
    "    SUM(order_quantity*meal_price) AS revenue\n",
    "  FROM meals AS m\n",
    "  JOIN orders AS o ON m.meal_id = o.meal_id\n",
    "  GROUP BY user_id)\n",
    "\n",
    "SELECT\n",
    "  -- Calculate the first, second, and third quartile\n",
    "  ROUND(\n",
    "    PERCENTILE_CONT(0.25) WITHIN GROUP (ORDER BY revenue ASC) :: NUMERIC,\n",
    "  2) AS revenue_p25,\n",
    "  ROUND(\n",
    "    PERCENTILE_CONT(0.50) WITHIN GROUP (ORDER BY revenue ASC) :: NUMERIC,\n",
    "  2) AS revenue_p50,\n",
    "  ROUND(\n",
    "    PERCENTILE_CONT(0.75) WITHIN GROUP (ORDER BY revenue ASC) :: NUMERIC,\n",
    "  2) AS revenue_p75,\n",
    "  -- Calculate the average\n",
    "  ROUND(AVG(revenue) :: NUMERIC, 2) AS avg_revenue\n",
    "FROM user_revenues;\n",
    "```"
   ]
  },
  {
   "cell_type": "markdown",
   "metadata": {},
   "source": [
    "# Interquartile range"
   ]
  },
  {
   "cell_type": "markdown",
   "metadata": {},
   "source": [
    "The final value that Dave wants is the count of users in the revenue interquartile range (IQR). Users outside the revenue IQR are outliers, and Dave wants to know the number of \"typical\" users.\n",
    "\n",
    "Return the count of users in the revenue IQR."
   ]
  },
  {
   "cell_type": "markdown",
   "metadata": {},
   "source": [
    "```\n",
    "WITH user_revenues AS (\n",
    "  SELECT\n",
    "    -- Select user_id and calculate revenue by user \n",
    "    user_id,\n",
    "    SUM(m.meal_price * o.order_quantity) AS revenue\n",
    "  FROM meals AS m\n",
    "  JOIN orders AS o ON m.meal_id = o.meal_id\n",
    "  GROUP BY user_id),\n",
    "\n",
    "  quartiles AS (\n",
    "  SELECT\n",
    "    -- Calculate the first and third revenue quartiles\n",
    "    ROUND(\n",
    "      PERCENTILE_CONT(0.25) WITHIN GROUP\n",
    "      (ORDER BY revenue ASC) :: NUMERIC,\n",
    "    2) AS revenue_p25,\n",
    "    ROUND(\n",
    "      PERCENTILE_CONT(0.75) WITHIN GROUP\n",
    "      (ORDER BY revenue ASC) :: NUMERIC,\n",
    "    2) AS revenue_p75\n",
    "  FROM user_revenues)\n",
    "\n",
    "SELECT\n",
    "  -- Count the number of users in the IQR\n",
    "  COUNT(DISTINCT user_id) AS users\n",
    "FROM user_revenues\n",
    "CROSS JOIN quartiles\n",
    "-- Only keep users with revenues in the IQR range\n",
    "WHERE revenue :: NUMERIC >= revenue_p25\n",
    "  AND revenue :: NUMERIC <= revenue_p75;\n",
    "```"
   ]
  }
 ],
 "metadata": {
  "kernelspec": {
   "display_name": "Python 3.8.11 ('env_py')",
   "language": "python",
   "name": "python3"
  },
  "language_info": {
   "name": "python",
   "version": "3.8.11"
  },
  "orig_nbformat": 4,
  "vscode": {
   "interpreter": {
    "hash": "1e949e87132dd83f1a7623eb88007e3532b03b66b77111be347aa4a383049722"
   }
  }
 },
 "nbformat": 4,
 "nbformat_minor": 2
}

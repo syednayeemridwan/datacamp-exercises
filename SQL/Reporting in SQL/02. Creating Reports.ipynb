{
 "cells": [
  {
   "cell_type": "markdown",
   "metadata": {},
   "source": [
    "# Planning the SELECT statement"
   ]
  },
  {
   "cell_type": "markdown",
   "metadata": {},
   "source": [
    "When setting up queries, it is important to use the correct aggregations for fields. A common mistake is to incorrectly set up a ratio. In this exercise, your goal is to create a report that shows the ratio of `nobel_prize_winners` and `pop_in_millions`.\n",
    "\n",
    "Which of the following SELECT statements would sufficiently create this report?"
   ]
  },
  {
   "cell_type": "markdown",
   "metadata": {},
   "source": [
    "- `SELECT SUM(nobel_prize_winners)/SUM(pop_in_millions)`"
   ]
  },
  {
   "cell_type": "markdown",
   "metadata": {},
   "source": [
    "# Planning the filter"
   ]
  },
  {
   "cell_type": "markdown",
   "metadata": {},
   "source": [
    "Your boss is looking to see which winter events include athletes over the age of 40. To answer this, you need a report that lists out all events that satisfy this condition. In order to have a correct list, you will need to leverage a filter. In this exercise, you will decide which filter option to use."
   ]
  },
  {
   "cell_type": "markdown",
   "metadata": {},
   "source": [
    "```\n",
    "-- Pull distinct event names found in winter_games\n",
    "SELECT DISTINCT event\n",
    "FROM winter_games;\n",
    "```"
   ]
  },
  {
   "cell_type": "markdown",
   "metadata": {},
   "source": [
    "Which of the following approaches will not work to filter this list for events that have athletes over the age of 40?\n",
    "\n",
    "- `JOIN` to athletes and add a `HAVING AVG(age) > 40`."
   ]
  },
  {
   "cell_type": "markdown",
   "metadata": {},
   "source": [
    "# JOIN then UNION query"
   ]
  },
  {
   "cell_type": "markdown",
   "metadata": {},
   "source": [
    "Your goal is to create a report with the following fields:\n",
    "\n",
    "- season, which outputs either summer or winter\n",
    "- country\n",
    "- events, which shows the unique number of events\n",
    "\n",
    "There are multiple ways to create this report. In this exercise, create the report by using the `JOIN` first, `UNION` second approach.\n",
    "\n",
    "As always, feel free to reference your E:R Diagram to identify relevant fields and tables."
   ]
  },
  {
   "cell_type": "markdown",
   "metadata": {},
   "source": [
    "```\n",
    "-- Query season, country, and events for all summer events\n",
    "SELECT \n",
    "\t'summer' AS season, \n",
    "    country, \n",
    "    COUNT(DISTINCT event) AS events\n",
    "FROM summer_games AS s\n",
    "JOIN countries AS c\n",
    "ON c.id = s.country_id\n",
    "GROUP BY season,country\n",
    "-- Combine the queries\n",
    "UNION ALL\n",
    "-- Query season, country, and events for all winter events\n",
    "SELECT \n",
    "\t'winter' AS season, \n",
    "    country, \n",
    "    COUNT(DISTINCT event) AS events\n",
    "FROM winter_games AS w\n",
    "JOIN countries AS c\n",
    "ON c.id = w.country_id\n",
    "GROUP BY season,country\n",
    "-- Sort the results to show most events at the top\n",
    "ORDER BY events DESC;\n",
    "```"
   ]
  },
  {
   "cell_type": "markdown",
   "metadata": {},
   "source": [
    "# UNION then JOIN query"
   ]
  },
  {
   "cell_type": "markdown",
   "metadata": {},
   "source": [
    "Your goal is to create the same report as before, which contains with the following fields:\n",
    "\n",
    "- season, which outputs either summer or winter\n",
    "- country\n",
    "- events, which shows the unique number of events\n",
    "\n",
    "In this exercise, create the query by using the UNION first, JOIN second approach. When taking this approach, you will need to use the initial UNION query as a subquery. The subquery will need to include all relevant fields, including those used in a join.\n",
    "\n",
    "As always, feel free to reference the E:R Diagram."
   ]
  },
  {
   "cell_type": "markdown",
   "metadata": {},
   "source": [
    "```\n",
    "-- Add outer layer to pull season, country and unique events\n",
    "SELECT \n",
    "\tseason, \n",
    "    country, \n",
    "    COUNT(DISTINCT event) AS events\n",
    "FROM\n",
    "    -- Pull season, country_id, and event for both seasons\n",
    "    (SELECT \n",
    "     \t'summer' AS season, \n",
    "     \tcountry_id, \n",
    "     \tevent\n",
    "    FROM summer_games\n",
    "    UNION ALL\n",
    "    SELECT \n",
    "     \t'winter' AS season, \n",
    "     \tcountry_id, \n",
    "     \tevent\n",
    "    FROM winter_games) AS subquery\n",
    "JOIN countries AS c\n",
    "ON c.id = subquery.country_id\n",
    "-- Group by any unaggregated fields\n",
    "GROUP BY season,country\n",
    "-- Order to show most events at the top\n",
    "ORDER BY events DESC;\n",
    "```"
   ]
  },
  {
   "cell_type": "markdown",
   "metadata": {},
   "source": [
    "# CASE statement refresher"
   ]
  },
  {
   "cell_type": "markdown",
   "metadata": {},
   "source": [
    "CASE statements are useful for grouping values into different buckets based on conditions you specify. Any row that fails to satisfy any condition will fall to the ELSE statement (or show as null if no ELSE statement exists).\n",
    "\n",
    "In this exercise, your goal is to create the segment field that buckets an athlete into one of three segments:\n",
    "\n",
    "- `Tall Female`, which represents a female that is at least 175 centimeters tall.\n",
    "- `Tall Male`, which represents a male that is at least 190 centimeters tall.\n",
    "- `Other`\n",
    "\n",
    "Each segment will need to reference the fields `height` and `gender` from the athletes table. Leverage `CASE` statements and conditional logic (such as `AND`/`OR`) to build this.\n",
    "\n",
    "Remember that each line of a case statement looks like this: `CASE WHEN {condition} THEN {output}`"
   ]
  },
  {
   "cell_type": "markdown",
   "metadata": {},
   "source": [
    "```\n",
    "SELECT \n",
    "\tname,\n",
    "    -- Output 'Tall Female', 'Tall Male', or 'Other'\n",
    "\tCASE WHEN gender='F' AND height>=175 THEN 'Tall Female'\n",
    "    WHEN gender='M' AND height>=190 THEN 'Tall Male'\n",
    "    ELSE 'Other' END AS segment\n",
    "FROM athletes;\n",
    "```"
   ]
  },
  {
   "cell_type": "markdown",
   "metadata": {},
   "source": [
    "# BMI bucket by sport"
   ]
  },
  {
   "cell_type": "markdown",
   "metadata": {},
   "source": [
    "You are looking to understand how BMI differs by each summer sport. To answer this, set up a report that contains the following:\n",
    "\n",
    "- `sport`, which is the name of the summer sport\n",
    "- `bmi_bucket`, which splits up BMI into three groups: <.25, .25-.30, >.30\n",
    "- `athletes`, or the unique number of athletes\n",
    "\n",
    "Definition: `BMI = 100 * weight / (height squared)`.\n",
    "\n",
    "Also note that `CASE` statements run row-by-row, so the second conditional is only applied if the first conditional is false. This makes it that you do not need an `AND` statement excluding already-mentioned conditionals.\n",
    "\n",
    "Feel free to reference the E:R Diagram."
   ]
  },
  {
   "cell_type": "markdown",
   "metadata": {},
   "source": [
    "```\n",
    "-- Pull in sport, bmi_bucket, and athletes\n",
    "SELECT \n",
    "\tsport,\n",
    "    -- Bucket BMI in three groups: <.25, .25-.30, and >.30\t\n",
    "    CASE WHEN 100*weight/height^2 < 0.25 THEN '<.25'\n",
    "    WHEN 100*weight/height^2 >= 0.25 AND 100*weight/height^2  <= 0.30  THEN '.25-.30'\n",
    "    WHEN 100*weight/height^2 > 0.30 THEN '>.30' END AS bmi_bucket,\n",
    "    COUNT(DISTINCT a.id) AS athletes\n",
    "FROM summer_games AS s\n",
    "JOIN athletes AS a\n",
    "ON s.athlete_id = a.id\n",
    "-- GROUP BY non-aggregated fields\n",
    "GROUP BY sport,bmi_bucket\n",
    "-- Sort by sport and then by athletes in descending order\n",
    "ORDER BY athletes DESC;\n",
    "\n",
    "```"
   ]
  },
  {
   "cell_type": "markdown",
   "metadata": {},
   "source": [
    "# Troubleshooting CASE statements"
   ]
  },
  {
   "cell_type": "markdown",
   "metadata": {},
   "source": [
    "In the previous exercise, you may have noticed several `null` values in our case statement, which can indicate there is an issue with the code.\n",
    "\n",
    "In these instances, it's worth investigating to understand why these `null` values are appearing. In this exercise, you will go through a series of steps to identify the issue and make changes to the code where necessary."
   ]
  },
  {
   "cell_type": "markdown",
   "metadata": {},
   "source": [
    "```\n",
    "-- Show height, weight, and bmi for all athletes\n",
    "SELECT \n",
    "\theight,\n",
    "    weight,\n",
    "    weight/height^2*100 AS bmi\n",
    "FROM athletes\n",
    "-- Filter for NULL bmi values\n",
    "WHERE weight/height^2*100 IS NULL;\n",
    "```"
   ]
  },
  {
   "cell_type": "markdown",
   "metadata": {},
   "source": [
    "What is the reason we have null values in our bmi field?\n",
    "- There are numerous `null` `weight` values, which will calculate `null` `bmi` values."
   ]
  },
  {
   "cell_type": "markdown",
   "metadata": {},
   "source": [
    "```\n",
    "-- Uncomment the original query\n",
    "SELECT \n",
    "\tsport,\n",
    "    CASE WHEN weight/height^2*100 <.25 THEN '<.25'\n",
    "    WHEN weight/height^2*100 <=.30 THEN '.25-.30'\n",
    "    WHEN weight/height^2*100 >.30 THEN '>.30'\n",
    "    -- Add ELSE statement to output 'no weight recorded'\n",
    "    ELSE 'no weight recorded' END AS bmi_bucket,\n",
    "    COUNT(DISTINCT athlete_id) AS athletes\n",
    "FROM summer_games AS s\n",
    "JOIN athletes AS a\n",
    "ON s.athlete_id = a.id\n",
    "GROUP BY sport, bmi_bucket\n",
    "ORDER BY sport, athletes DESC;\n",
    "\n",
    "/*\n",
    "-- Comment out the troubleshooting query\n",
    "SELECT \n",
    "\theight, \n",
    "    weight, \n",
    "    weight/height^2*100 AS bmi\n",
    "FROM athletes\n",
    "WHERE weight/height^2*100 IS NULL;\n",
    "*/\n",
    "```"
   ]
  },
  {
   "cell_type": "markdown",
   "metadata": {},
   "source": [
    "# Filtering with a JOIN"
   ]
  },
  {
   "cell_type": "markdown",
   "metadata": {},
   "source": [
    "When adding a filter to a query that requires you to reference a separate table, there are different approaches you can take. One option is to `JOIN` to the new table and then add a basic `WHERE` statement.\n",
    "\n",
    "Your goal is to create a report with the following characteristics:\n",
    "\n",
    "- First column is bronze_medals, or the total number of `bronze`.\n",
    "- Second column is silver_medals, or the total number of `silver`.\n",
    "- Third column is gold_medals, or the total number of `gold`.\n",
    "- Only `summer_games` are included.\n",
    "- Report is filtered to only include athletes age 16 or under.\n",
    "\n",
    "In this exercise, use the `JOIN` approach."
   ]
  },
  {
   "cell_type": "markdown",
   "metadata": {},
   "source": [
    "```\n",
    "-- Pull summer bronze_medals, silver_medals, and gold_medals\n",
    "SELECT \n",
    "\tSUM(bronze) AS bronze_medals, \n",
    "    SUM(silver) AS silver_medals, \n",
    "    SUM(gold) AS gold_medals\n",
    "FROM summer_games AS s\n",
    "JOIN athletes AS a\n",
    "ON a.id = s.athlete_id\n",
    "-- Filter for athletes age 16 or below\n",
    "WHERE age <=16;\n",
    "```"
   ]
  },
  {
   "cell_type": "markdown",
   "metadata": {},
   "source": [
    "# Filtering with a subquery"
   ]
  },
  {
   "cell_type": "markdown",
   "metadata": {},
   "source": [
    "Another approach to filter from a separate table is to use a subquery. The process is as follows:\n",
    "\n",
    "- Create a subquery that outputs a list.\n",
    "- In your main query, add a `WHERE` statement that references the list.\n",
    "\n",
    "Your goal is to create the same report as the last exercise, which contains the following characteristics:\n",
    "\n",
    "- First column is `bronze_medals`, or the total number of `bronze`.\n",
    "- Second column is `silver_medals`, or the total number of `silver`.\n",
    "- Third column is `gold_medals`, or the total number of `gold`.\n",
    "- Only `summer_games` are included.\n",
    "- Report is filtered to only include athletes `age` 16 or under.\n",
    "\n",
    "In this exercise, use the subquery approach."
   ]
  },
  {
   "cell_type": "markdown",
   "metadata": {},
   "source": [
    "```\n",
    "-- Pull summer bronze_medals, silver_medals, and gold_medals\n",
    "SELECT \n",
    "\tSUM(bronze) AS bronze_medals, \n",
    "    SUM(silver) AS silver_medals, \n",
    "    SUM(gold) AS gold_medals\n",
    "FROM summer_games\n",
    "-- Add the WHERE statement below\n",
    "WHERE athlete_id IN\n",
    "    -- Create subquery list for athlete_ids age 16 or below    \n",
    "    (SELECT id\n",
    "     FROM athletes\n",
    "     WHERE age <= 16);\n",
    "```"
   ]
  },
  {
   "cell_type": "markdown",
   "metadata": {},
   "source": [
    "# Report 2: Top athletes in nobel-prized countries"
   ]
  },
  {
   "cell_type": "markdown",
   "metadata": {},
   "source": [
    "It's time to bring together all the concepts brought up in this chapter to expand on your dashboard! Your next report to build is Report 2: Athletes Representing Nobel-Prize Winning Countries.\n",
    "\n",
    "Report Details:\n",
    "\n",
    "- Column 1 should be `event`, which represents the Olympic event. Both summer and winter events should be included.\n",
    "- Column 2 should be `gender`, which represents the gender of athletes in the event.\n",
    "- Column 3 should be `athletes`, which represents the unique athletes in the event.\n",
    "- Athletes from countries that have had no `nobel_prize_winners` should be excluded.\n",
    "- The report should contain 10 events, where events with the most `athletes` show at the top.\n",
    "\n",
    "view the E:R Diagram."
   ]
  },
  {
   "cell_type": "markdown",
   "metadata": {},
   "source": [
    "```\n",
    "-- Pull event and unique athletes from summer_games \n",
    "SELECT \n",
    "    event,\n",
    "    -- Add the gender field below\n",
    "    CASE WHEN event LIKE '%Women%' THEN 'female' \n",
    "    ELSE 'male' END AS gender,\n",
    "    COUNT(DISTINCT athlete_id) AS athletes\n",
    "FROM summer_games\n",
    "-- Only include countries that won a nobel prize\n",
    "WHERE country_id IN \n",
    "\t(SELECT country_id \n",
    "    FROM country_stats \n",
    "    WHERE nobel_prize_winners > 0)\n",
    "GROUP BY event\n",
    "-- Add the second query below and combine with a UNION\n",
    "UNION ALL\n",
    "-- Pull event and unique athletes from winter_games \n",
    "SELECT \n",
    "    event,\n",
    "    -- Add the gender field below\n",
    "    CASE WHEN event LIKE '%Women%' THEN 'female' \n",
    "    ELSE 'male' END AS gender,\n",
    "    COUNT(DISTINCT athlete_id) AS athletes\n",
    "FROM winter_games\n",
    "-- Only include countries that won a nobel prize\n",
    "WHERE country_id IN \n",
    "\t(SELECT country_id \n",
    "    FROM country_stats \n",
    "    WHERE nobel_prize_winners > 0)\n",
    "GROUP BY event\n",
    "-- Order and limit the final output\n",
    "ORDER BY athletes DESC\n",
    "LIMIT 10;\n",
    "```"
   ]
  }
 ],
 "metadata": {
  "kernelspec": {
   "display_name": "Python 3.8.11 ('env_py')",
   "language": "python",
   "name": "python3"
  },
  "language_info": {
   "name": "python",
   "version": "3.8.11"
  },
  "orig_nbformat": 4,
  "vscode": {
   "interpreter": {
    "hash": "1e949e87132dd83f1a7623eb88007e3532b03b66b77111be347aa4a383049722"
   }
  }
 },
 "nbformat": 4,
 "nbformat_minor": 2
}

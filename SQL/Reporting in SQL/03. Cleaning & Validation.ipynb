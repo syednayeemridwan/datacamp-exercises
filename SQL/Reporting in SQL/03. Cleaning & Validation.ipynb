{
 "cells": [
  {
   "cell_type": "markdown",
   "metadata": {},
   "source": [
    "# Identifying data types"
   ]
  },
  {
   "cell_type": "markdown",
   "metadata": {},
   "source": [
    "Being able to identify data types before setting up your query can help you plan for any potential issues. There is a group of tables, or a schema, called the `information_schema`, which provides a wide array of information about the database itself, including the structure of tables and columns.\n",
    "\n",
    "The `columns` table houses useful details about the columns, including the data type.\n",
    "\n",
    "Note that the `information_schema` is not the default schema SQL looks at when querying, which means you will need to explicitly tell SQL to pull from this schema. To pull a table from a non-default schema, use the syntax `schema_name.table_name`."
   ]
  },
  {
   "cell_type": "markdown",
   "metadata": {},
   "source": [
    "```\n",
    "-- Pull column_name & data_type from the columns table\n",
    "SELECT \n",
    "\tcolumn_name,\n",
    "    data_type\n",
    "FROM information_schema.columns\n",
    "-- Filter for the table 'country_stats'\n",
    "WHERE table_name = 'country_stats';\n",
    "\n",
    "```"
   ]
  },
  {
   "cell_type": "markdown",
   "metadata": {},
   "source": [
    "# Interpreting error messages"
   ]
  },
  {
   "cell_type": "markdown",
   "metadata": {},
   "source": [
    "Inevitably, you will run into errors when running SQL queries. It is important to understand how to interpret these errors to correctly identify what type of error it is.\n",
    "\n",
    "The console contains two separate queries, each which will output an error when ran. In this exercise, you will run each query, read the error message, and troubleshoot the error."
   ]
  },
  {
   "cell_type": "markdown",
   "metadata": {},
   "source": [
    "```\n",
    "/*\n",
    "-- Comment out the previous query\n",
    "SELECT AVG(CAST(pop_in_millions AS float)) AS avg_population\n",
    "FROM country_stats;\n",
    "*/\n",
    "-- Uncomment the following block & run the query\n",
    "SELECT \n",
    "\ts.country_id, \n",
    "    COUNT(DISTINCT s.athlete_id) AS summer_athletes, \n",
    "    COUNT(DISTINCT w.athlete_id) AS winter_athletes\n",
    "FROM summer_games AS s\n",
    "JOIN winter_games_str AS w\n",
    "-- Fix the error by making both columns integers\n",
    "ON s.country_id = CAST(w.country_id AS INT)\n",
    "GROUP BY s.country_id;\n",
    "```"
   ]
  },
  {
   "cell_type": "markdown",
   "metadata": {},
   "source": [
    "# Using date functions on strings"
   ]
  },
  {
   "cell_type": "markdown",
   "metadata": {},
   "source": [
    "There are several useful functions that act specifically on date or datetime fields. For example:\n",
    "\n",
    "- `DATE_TRUNC('month', date)` truncates each date to the first day of the month.\n",
    "- `DATE_PART('year', date)` outputs the year, as an integer, of each date value.\n",
    "\n",
    "In general, the arguments for both functions are `('period', field)`, where period is a `date` or time `interval`, such as '`minute`', '`day`', or '`decade`'.\n",
    "\n",
    "In this exercise, your goal is to test out these date functions on the `country_stats` table, specifically by outputting the decade of each year using two separate approaches. To run these functions, you will need to use `CAST()` function on the `year` `field`."
   ]
  },
  {
   "cell_type": "markdown",
   "metadata": {},
   "source": [
    "```\n",
    "SELECT \n",
    "\tyear,\n",
    "    -- Pull decade, decade_truncate, and the world's gdp\n",
    "    DATE_PART('decade', CAST(year AS DATE)) AS decade,\n",
    "    DATE_TRUNC('decade', CAST(year AS DATE)) AS decade_truncated,\n",
    "    SUM(gdp) AS world_gdp\n",
    "FROM country_stats\n",
    "-- Group and order by year in descending order\n",
    "GROUP BY year,decade, decade_truncated\n",
    "ORDER BY year DESC;\n",
    "```"
   ]
  },
  {
   "cell_type": "markdown",
   "metadata": {},
   "source": [
    "# String functions"
   ]
  },
  {
   "cell_type": "markdown",
   "metadata": {},
   "source": [
    "There are a number of string functions that can be used to alter strings. A description of a few of these functions are shown below:\n",
    "\n",
    "- The `LOWER(fieldName)` function changes the case of all characters in fieldName to lower case.\n",
    "- The `INITCAP(fieldName)` function changes the case of all characters in fieldName to proper case.\n",
    "- The `LEFT(fieldName,N)` function returns the left N characters of the string fieldName.\n",
    "- The `SUBSTRING(fieldName from S for N)` returns N characters starting from position S of the string fieldName. Note that both from S and for N are optional."
   ]
  },
  {
   "cell_type": "markdown",
   "metadata": {},
   "source": [
    "```\n",
    "-- Convert country to proper case\n",
    "SELECT \n",
    "\tcountry, \n",
    "    INITCAP(LOWER(country)) AS country_altered\n",
    "FROM countries\n",
    "GROUP BY country;\n",
    "```"
   ]
  },
  {
   "cell_type": "markdown",
   "metadata": {},
   "source": [
    "```\n",
    "-- Output the left 3 characters of country\n",
    "SELECT \n",
    "\tcountry, \n",
    "    LEFT(country,3) AS country_altered\n",
    "FROM countries\n",
    "GROUP BY country;\n",
    "```"
   ]
  },
  {
   "cell_type": "markdown",
   "metadata": {},
   "source": [
    "```\n",
    "-- Output all characters starting with position 7\n",
    "SELECT \n",
    "\tcountry, \n",
    "    SUBSTR(country,7,LENGTH(country)) AS country_altered\n",
    "FROM countries\n",
    "GROUP BY country;\n",
    "```"
   ]
  },
  {
   "cell_type": "markdown",
   "metadata": {},
   "source": [
    "# Replacing and removing substrings"
   ]
  },
  {
   "cell_type": "markdown",
   "metadata": {},
   "source": [
    "The `REPLACE()` function is a versatile function that allows you to replace or remove characters from a string. The syntax is as follows:\n",
    "\n",
    "`REPLACE(fieldName, 'searchFor', 'replaceWith')`\n",
    "\n",
    "Where `fieldName` is the field or string being updated, `searchFor` is the characters to be replaced, and `replaceWith` is the replacement substring.\n",
    "\n",
    "In this exercise, you will look at one specific value in the countries table and change up the format by using a few `REPLACE()` functions."
   ]
  },
  {
   "cell_type": "markdown",
   "metadata": {},
   "source": [
    "```\n",
    "SELECT \n",
    "\tregion, \n",
    "    -- Replace all '&' characters with the string 'and'\n",
    "    REPLACE(region,'&','and') AS character_swap,\n",
    "    -- Remove all periods\n",
    "    REPLACE(region,'.','') AS character_remove,\n",
    "    -- Combine the functions to run both changes at once\n",
    "    REPLACE(REPLACE(region,'&','and'),'.','') AS character_swap_and_remove\n",
    "FROM countries\n",
    "WHERE region = 'LATIN AMER. & CARIB'\n",
    "GROUP BY region;\n",
    "```"
   ]
  },
  {
   "cell_type": "markdown",
   "metadata": {},
   "source": [
    "# Fixing incorrect groupings"
   ]
  },
  {
   "cell_type": "markdown",
   "metadata": {},
   "source": [
    "One issues with having strings stored in different formats is that you may incorrectly group data. If the same value is represented in multiple ways, your report will split the values into different rows, which can lead to inaccurate conclusions.\n",
    "\n",
    "In this exercise, you will query from the `summer_games_messy` table, which is a messy, smaller version of `summer_games`. You'll notice that the same event is stored in multiple ways. Your job is to clean the `event` field to show the correct number of rows."
   ]
  },
  {
   "cell_type": "markdown",
   "metadata": {},
   "source": [
    "```\n",
    "-- Pull event and unique athletes from summer_games_messy \n",
    "SELECT \n",
    "\tevent, \n",
    "    COUNT(DISTINCT athlete_id) AS athletes\n",
    "FROM summer_games_messy\n",
    "-- Group by the non-aggregated field\n",
    "GROUP BY event;\n",
    "```"
   ]
  },
  {
   "cell_type": "markdown",
   "metadata": {},
   "source": [
    "```\n",
    "-- Pull event and unique athletes from summer_games_messy \n",
    "SELECT \n",
    "    -- Remove dashes from all event values\n",
    "    REPLACE(TRIM(event),'-','') AS event_fixed, \n",
    "    COUNT(DISTINCT athlete_id) AS athletes\n",
    "FROM summer_games_messy\n",
    "-- Update the group by accordingly\n",
    "GROUP BY event_fixed;\n",
    "```"
   ]
  },
  {
   "cell_type": "markdown",
   "metadata": {},
   "source": [
    "# Filtering out nulls"
   ]
  },
  {
   "cell_type": "markdown",
   "metadata": {},
   "source": [
    "One way to deal with nulls is to simply filter them out. There are two important conditionals related to nulls:\n",
    "\n",
    "- `IS NULL` is true for any value that is null.\n",
    "- `IS NOT NULL` is true for any value that is not null. Note that a zero or a blank cell is not the same as a null.\n",
    "\n",
    "These conditionals can be leveraged by several clauses, such as CASE statements, WHERE statements, and HAVING statements. In this exercise, you will learn how to filter out nulls using two separate techniques.\n",
    "\n",
    "Feel free to reference the E:R Diagram."
   ]
  },
  {
   "cell_type": "markdown",
   "metadata": {},
   "source": [
    "```\n",
    "-- Show total gold_medals by country\n",
    "SELECT \n",
    "\tcountry, \n",
    "    SUM(gold) AS gold_medals\n",
    "FROM winter_games AS w\n",
    "JOIN countries AS c\n",
    "ON w.country_id = c.id\n",
    "-- Comment out the WHERE statement\n",
    "-- WHERE gold IS NOT NULL\n",
    "GROUP BY country\n",
    "-- Replace WHERE statement with equivalent HAVING statement\n",
    "HAVING SUM(gold) IS NOT NULL\n",
    "-- Order by gold_medals in descending order\n",
    "ORDER BY gold_medals DESC;\n",
    "```"
   ]
  },
  {
   "cell_type": "markdown",
   "metadata": {},
   "source": [
    "# Fixing calculations with coalesce"
   ]
  },
  {
   "cell_type": "markdown",
   "metadata": {},
   "source": [
    "Null values impact aggregations in a number of ways. One issue is related to the `AVG()` function. By default, the `AVG()` function does not take into account any null values. However, there may be times when you want to include these null values in the calculation as zeros.\n",
    "\n",
    "To replace null values with a string or a number, use the `COALESCE()` function. Syntax is `COALESCE(fieldName,replacement)`, where `replacement` is what should replace all `null` instances of `fieldName`.\n",
    "\n",
    "This exercise will walk you through why null values can throw off calculations and how to troubleshoot these issues."
   ]
  },
  {
   "cell_type": "markdown",
   "metadata": {},
   "source": [
    "```\n",
    "-- Pull events and golds by athlete_id for summer events\n",
    "SELECT \n",
    "    athlete_id, \n",
    "    -- Add a field that averages the existing gold field\n",
    "    AVG(gold) AS avg_golds,\n",
    "    COUNT(event) AS total_events, \n",
    "    SUM(gold) AS gold_medals\n",
    "FROM summer_games\n",
    "GROUP BY athlete_id\n",
    "-- Order by total_events descending and athlete_id ascending\n",
    "ORDER BY total_events DESC, athlete_id;\n",
    "```"
   ]
  },
  {
   "cell_type": "markdown",
   "metadata": {},
   "source": [
    "If the report was accurate, what should the first three values of avg_golds be?\n",
    "- `[0, 0, .125]`"
   ]
  },
  {
   "cell_type": "markdown",
   "metadata": {},
   "source": [
    "```\n",
    "-- Pull events and golds by athlete_id for summer events\n",
    "SELECT \n",
    "    athlete_id, \n",
    "    -- Replace all null gold values with 0\n",
    "    AVG(COALESCE(gold,0)) AS avg_golds,\n",
    "    COUNT(event) AS total_events, \n",
    "    SUM(gold) AS gold_medals\n",
    "FROM summer_games\n",
    "GROUP BY athlete_id\n",
    "-- Order by total_events descending and athlete_id ascending\n",
    "ORDER BY total_events DESC, athlete_id;\n",
    "```"
   ]
  },
  {
   "cell_type": "markdown",
   "metadata": {},
   "source": []
  }
 ],
 "metadata": {
  "kernelspec": {
   "display_name": "Python 3.8.11 ('env_py')",
   "language": "python",
   "name": "python3"
  },
  "language_info": {
   "name": "python",
   "version": "3.8.11"
  },
  "orig_nbformat": 4,
  "vscode": {
   "interpreter": {
    "hash": "1e949e87132dd83f1a7623eb88007e3532b03b66b77111be347aa4a383049722"
   }
  }
 },
 "nbformat": 4,
 "nbformat_minor": 2
}

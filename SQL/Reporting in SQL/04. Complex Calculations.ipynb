{
 "cells": [
  {
   "cell_type": "markdown",
   "metadata": {},
   "source": [
    "# Testing out window functions"
   ]
  },
  {
   "cell_type": "markdown",
   "metadata": {},
   "source": [
    "Window functions reference other rows within the report. There are a variety of window-specific functions to use, but all basic aggregation functions can be used as a window function. These include:\n",
    "\n",
    "- `SUM()`\n",
    "- `AVG()`\n",
    "- `MAX()`\n",
    "- `MIN()`\n",
    "\n",
    "The syntax of a window function is `FUNCTION(value) OVER (PARTITION BY field ORDER BY field)`. Note that the `PARTITION BY` and `ORDER BY` clauses are optional. The `FUNCTION` should be replaced with the function of your choice.\n",
    "\n",
    "In this exercise, you will run a few different window functions on the `country_stats` table."
   ]
  },
  {
   "cell_type": "markdown",
   "metadata": {},
   "source": [
    "```\n",
    "SELECT \n",
    "\tcountry_id,\n",
    "    year,\n",
    "    gdp,\n",
    "    -- Show max gdp per country and alias accordingly\n",
    "\tMAX(gdp) OVER (PARTITION BY country_id) AS country_max_gdp\n",
    "FROM country_stats;\n",
    "```"
   ]
  },
  {
   "cell_type": "markdown",
   "metadata": {},
   "source": [
    "```\n",
    "SELECT \n",
    "\tcountry_id,\n",
    "    year,\n",
    "    gdp,\n",
    "    -- Show max gdp for the table and alias accordingly\n",
    "\tMAX(gdp) OVER () AS global_max_gdp\n",
    "FROM country_stats;\n",
    "```"
   ]
  },
  {
   "cell_type": "markdown",
   "metadata": {},
   "source": [
    "# Average total country medals by region"
   ]
  },
  {
   "cell_type": "markdown",
   "metadata": {},
   "source": [
    "Layered calculations are when you create a basic query with an aggregation, then reference that query as a subquery to run an additional calculation. This approach allows you to run aggregations on aggregations, such as a `MAX()` of a `COUNT()` or an `AVG()` of a `SUM()`.\n",
    "\n",
    "In this exercise, your task is to pull the average `total_golds` for all countries within each region. This report will apply only for summer events.\n",
    "\n",
    "To avoid having to deal with null handling, we have created a `summer_games_clean` table. Please use this when building the report."
   ]
  },
  {
   "cell_type": "markdown",
   "metadata": {},
   "source": [
    "```\n",
    "-- Pull in avg_total_golds by region\n",
    "SELECT \n",
    "\tregion,\n",
    "    AVG(total_golds) AS avg_total_golds\n",
    "FROM\n",
    "  (SELECT \n",
    "      region, \n",
    "      country_id, \n",
    "      SUM(gold) AS total_golds\n",
    "  FROM summer_games_clean AS s\n",
    "  JOIN countries AS c\n",
    "  ON s.country_id = c.id\n",
    "  -- Alias the subquery\n",
    "  GROUP BY region, country_id) AS subquery\n",
    "GROUP BY region\n",
    "-- Order by avg_total_golds in descending order\n",
    "ORDER BY avg_total_golds DESC;\n",
    "```"
   ]
  },
  {
   "cell_type": "markdown",
   "metadata": {},
   "source": [
    "# Most decorated athlete per region"
   ]
  },
  {
   "cell_type": "markdown",
   "metadata": {},
   "source": [
    "Your goal for this exercise is to show the most decorated athlete per region. To set up this report, you need to leverage the `ROW_NUMBER()` window function, which numbers each row as an incremental integer, where the first row is 1, the second is 2, and so on.\n",
    "\n",
    "Syntax for this window function is `ROW_NUMBER() OVER (PARTITION BY field ORDER BY field)`. Notice how there is no argument within the initial function.\n",
    "\n",
    "When set up correctly, a `row_num = 1` represents the most decorated athlete within that region. Note that you cannot use a window calculation within a `HAVING` or `WHERE` statement, so you will need to use a subquery to filter.\n",
    "\n",
    "Feel free to reference the E:R Diagram. We will use `summer_games_clean` to avoid null handling."
   ]
  },
  {
   "cell_type": "markdown",
   "metadata": {},
   "source": [
    "```\n",
    "-- Query region, athlete name, and total_golds\n",
    "SELECT \n",
    "\tregion,\n",
    "    athlete_name,\n",
    "    total_golds\n",
    "FROM\n",
    "    (SELECT \n",
    "\t\t-- Query region, athlete_name, and total gold medals\n",
    "        region, \n",
    "        name AS athlete_name, \n",
    "        SUM(gold) AS total_golds,\n",
    "        -- Assign a regional rank to each athlete\n",
    "        ROW_NUMBER() OVER (PARTITION BY region ORDER BY SUM(gold) DESC) AS row_num\n",
    "    FROM summer_games_clean AS s\n",
    "    JOIN athletes AS a\n",
    "    ON a.id = s.athlete_id\n",
    "    JOIN countries AS c\n",
    "    ON s.country_id = c.id\n",
    "    -- Alias as subquery\n",
    "    GROUP BY region, athlete_name) AS subquery\n",
    "-- Filter for only the top athlete per region\n",
    "WHERE row_num = 1;\n",
    "```"
   ]
  },
  {
   "cell_type": "markdown",
   "metadata": {},
   "source": [
    "# Volume vs efficiency metrics"
   ]
  },
  {
   "cell_type": "markdown",
   "metadata": {},
   "source": [
    "The two types of metrics are volume metrics, which scales with size, and efficiency metrics, which can compare across groups regardless of the size of each group.\n",
    "\n",
    "Which of the following is an efficiency metric?"
   ]
  },
  {
   "cell_type": "markdown",
   "metadata": {},
   "source": [
    "- Athletes per event"
   ]
  },
  {
   "cell_type": "markdown",
   "metadata": {},
   "source": [
    "# Percent of gdp per country"
   ]
  },
  {
   "cell_type": "markdown",
   "metadata": {},
   "source": [
    "A percent of total calculation is a good way to compare volume metrics across groups. While simply showing the volume metric in a report provides some insights, adding a ratio allows us to easily compare values quickly.\n",
    "\n",
    "To run a percent of total calculation, take the following steps:\n",
    "\n",
    "- Create a window function that outputs the total volume, partitioned by whatever is considered the total. If the entire table is considered the total, then no partition clause is needed.\n",
    "- Run a ratio that divides each row's volume metric by the total volume in the partition.\n",
    "\n",
    "In this exercise, you will calculate the percent of gdp for each country relative to the entire world and relative to that country's region."
   ]
  },
  {
   "cell_type": "markdown",
   "metadata": {},
   "source": [
    "```\n",
    "-- Pull country_gdp by region and country\n",
    "SELECT \n",
    "\tregion,\n",
    "    country,\n",
    "\tSUM(gdp) AS country_gdp,\n",
    "    -- Calculate the global gdp\n",
    "    SUM(SUM(gdp)) OVER () AS global_gdp,\n",
    "    -- Calculate percent of global gdp\n",
    "    SUM(gdp) / SUM(SUM(gdp)) OVER () AS perc_global_gdp,\n",
    "    -- Calculate percent of gdp relative to its region\n",
    "    SUM(gdp) / SUM(SUM(gdp)) OVER (PARTITION BY region) AS perc_region_gdp\n",
    "FROM country_stats AS cs\n",
    "JOIN countries AS c\n",
    "ON cs.country_id = c.id\n",
    "-- Filter out null gdp values\n",
    "WHERE gdp IS NOT NULL\n",
    "GROUP BY region, country\n",
    "-- Show the highest country_gdp at the top\n",
    "ORDER BY country_gdp DESC;\n",
    "```"
   ]
  },
  {
   "cell_type": "markdown",
   "metadata": {},
   "source": [
    "# GDP per capita performance index"
   ]
  },
  {
   "cell_type": "markdown",
   "metadata": {},
   "source": [
    "A performance index calculation is a good way to compare efficiency metrics across groups. A performance index compares each row to a benchmark.\n",
    "\n",
    "To run a performance index calculation, take the following steps:\n",
    "\n",
    "- Create a window function that outputs the performance for the entire partition.\n",
    "- Run a ratio that divides each row's performance to the performance of the entire partition.\n",
    "\n",
    "In this exercise, you will calculate the gdp_per_million for each country relative to the entire world.\n",
    "\n",
    "`gdp_per_million = gdp / pop_in_millions`\n",
    "\n",
    "You will reference the `country_stats_cleaned` table, which is a copy of `country_stats` without data type issues."
   ]
  },
  {
   "cell_type": "markdown",
   "metadata": {},
   "source": [
    "```\n",
    "-- Bring in region, country, and gdp_per_million\n",
    "SELECT \n",
    "    region,\n",
    "    country,\n",
    "    SUM(gdp) / SUM(pop_in_millions) AS gdp_per_million,\n",
    "    -- Output the worlds gdp_per_million\n",
    "    SUM(SUM(gdp)) OVER () / SUM(SUM(pop_in_millions)) OVER () AS gdp_per_million_total\n",
    "-- Pull from country_stats_clean\n",
    "FROM country_stats_clean AS cs\n",
    "JOIN countries AS c \n",
    "ON cs.country_id = c.id\n",
    "-- Filter for 2016 and remove null gdp values\n",
    "WHERE year = '2016-01-01' AND gdp IS NOT NULL\n",
    "GROUP BY region, country\n",
    "-- Show highest gdp_per_million at the top\n",
    "ORDER BY gdp_per_million DESC;\n",
    "```"
   ]
  },
  {
   "cell_type": "markdown",
   "metadata": {},
   "source": [
    "```\n",
    "-- Bring in region, country, and gdp_per_million\n",
    "SELECT \n",
    "    region,\n",
    "    country,\n",
    "    SUM(gdp) / SUM(pop_in_millions) AS gdp_per_million,\n",
    "    -- Output the worlds gdp_per_million\n",
    "    SUM(SUM(gdp)) OVER () / SUM(SUM(pop_in_millions)) OVER () AS gdp_per_million_total,\n",
    "    -- Build the performance_index in the 3 lines below\n",
    "    (SUM(gdp) / SUM(pop_in_millions))\n",
    "    /\n",
    "    (SUM(SUM(gdp)) OVER () / SUM(SUM(pop_in_millions)) OVER ()) AS performance_index\n",
    "-- Pull from country_stats_clean\n",
    "FROM country_stats_clean AS cs\n",
    "JOIN countries AS c \n",
    "ON cs.country_id = c.id\n",
    "-- Filter for 2016 and remove null gdp values\n",
    "WHERE year = '2016-01-01' AND gdp IS NOT NULL\n",
    "GROUP BY region, country\n",
    "-- Show highest gdp_per_million at the top\n",
    "ORDER BY gdp_per_million DESC;\n",
    "```"
   ]
  },
  {
   "cell_type": "markdown",
   "metadata": {},
   "source": [
    "# Month-over-month comparison"
   ]
  },
  {
   "cell_type": "markdown",
   "metadata": {},
   "source": [
    "In order to compare months, you need to use one of the following window functions:\n",
    "\n",
    "- `LAG(value, offset)`, which outputs a value from an offset number previous to to the current row in the report.\n",
    "- `LEAD(value, offset)`, which outputs a value from a offset number after the current row in the report.\n",
    "\n",
    "Your goal is to build a report that shows each country's month-over-month views. A few tips:\n",
    "\n",
    "- You will need to bucket dates into months. To do this, you can use the `DATE_PART()` function.\n",
    "- You can calculate the percent change using the following formula: `(value)/(previous_value) - 1`.\n",
    "- If no offset value is included in the `LAG()` or `LEAD()` functions, it will default to 1.\n",
    "- Since the table stops in the middle of June, the query is set up to only include data to the end of May."
   ]
  },
  {
   "cell_type": "markdown",
   "metadata": {},
   "source": [
    "```\n",
    "SELECT\n",
    "\t-- Pull month and country_id\n",
    "\tDATE_PART('month', date) AS month,\n",
    "\tcountry_id,\n",
    "    -- Pull in current month views\n",
    "    SUM(views) AS month_views,\n",
    "    -- Pull in last month views\n",
    "    LAG(SUM(views)) OVER (PARTITION BY country_id ORDER BY DATE_PART('month', date)) AS previous_month_views,\n",
    "    -- Calculate the percent change\n",
    "    SUM(views) / LAG(SUM(views)) OVER (PARTITION BY country_id ORDER BY DATE_PART('month', date)) - 1 AS perc_change\n",
    "FROM web_data\n",
    "WHERE date <= '2018-05-31'\n",
    "GROUP BY month, country_id;\n",
    "```"
   ]
  },
  {
   "cell_type": "markdown",
   "metadata": {},
   "source": [
    "# Week-over-week comparison"
   ]
  },
  {
   "cell_type": "markdown",
   "metadata": {},
   "source": [
    "In the previous exercise, you leveraged the set window of a month to calculate month-over-month changes. But sometimes, you may want to calculate a different time period, such as comparing last 7 days to the previous 7 days. To calculate a value from the last 7 days, you will need to set up a rolling calculation.\n",
    "\n",
    "In this exercise, you will take the rolling 7 day average of views for each date and compare it to the previous 7 day average for views. This gives a clear week-over-week comparison for every single day.\n",
    "\n",
    "Syntax for a rolling average is `AVG(value) OVER (PARTITION BY field ORDER BY field ROWS BETWEEN N PRECEDING AND CURRENT ROW)`, where `N` is the number of rows to look back when doing the calculation. Remember that `CURRENT ROW` counts as a row."
   ]
  },
  {
   "cell_type": "markdown",
   "metadata": {},
   "source": [
    "```\n",
    "SELECT\n",
    "\t-- Pull in date and daily_views\n",
    "\tdate,\n",
    "\tSUM(views) AS daily_views,\n",
    "    -- Calculate the rolling 7 day average\n",
    "\tAVG(SUM(views)) OVER( ORDER BY date ROWS BETWEEN 6 PRECEDING AND CURRENT ROW) AS weekly_avg\n",
    "FROM web_data\n",
    "GROUP BY date;\n",
    "```"
   ]
  },
  {
   "cell_type": "markdown",
   "metadata": {},
   "source": [
    "```\n",
    "SELECT \n",
    "\t-- Pull in date and weekly_avg\n",
    "\tdate,\n",
    "    weekly_avg,\n",
    "    -- Output the value of weekly_avg from 7 days prior\n",
    "    LAG(weekly_avg,7) OVER(ORDER BY date) AS weekly_avg_previous\n",
    "FROM\n",
    "  (SELECT\n",
    "      -- Pull in date and daily_views\n",
    "      date,\n",
    "      SUM(views) AS daily_views,\n",
    "      -- Calculate the rolling 7 day average\n",
    "      AVG(SUM(views)) OVER (ORDER BY date ROWS BETWEEN 6 PRECEDING AND CURRENT ROW) AS weekly_avg\n",
    "  FROM web_data\n",
    "  -- Alias as subquery\n",
    "  GROUP BY date) AS subquery\n",
    "-- Order by date in descending order\n",
    "ORDER BY date;\n",
    "```"
   ]
  },
  {
   "cell_type": "markdown",
   "metadata": {},
   "source": [
    "```\n",
    "SELECT \n",
    "\t-- Pull in date and weekly_avg\n",
    "\tdate,\n",
    "    weekly_avg,\n",
    "    -- Output the value of weekly_avg from 7 days prior\n",
    "    LAG(weekly_avg,7) OVER (ORDER BY date) AS weekly_avg_previous,\n",
    "    -- Calculate percent change vs previous period\n",
    "    weekly_avg / LAG(weekly_avg,7) OVER (ORDER BY date) -1 AS perc_change\n",
    "FROM\n",
    "  (SELECT\n",
    "      -- Pull in date and daily_views\n",
    "      date,\n",
    "      SUM(views) AS daily_views,\n",
    "      -- Calculate the rolling 7 day average\n",
    "      AVG(SUM(views)) OVER (ORDER BY date ROWS BETWEEN 6 PRECEDING AND CURRENT ROW) AS weekly_avg\n",
    "  FROM web_data\n",
    "  -- Alias as subquery\n",
    "  GROUP BY date) AS subquery\n",
    "-- Order by date in descending order\n",
    "ORDER BY date DESC;\n",
    "```"
   ]
  },
  {
   "cell_type": "markdown",
   "metadata": {},
   "source": [
    "# Report 4: Tallest athletes and % GDP by region"
   ]
  },
  {
   "cell_type": "markdown",
   "metadata": {},
   "source": [
    "The final report on the dashboard is Report 4: Avg Tallest Athlete and % of world GDP by Region.\n",
    "\n",
    "Report Details:\n",
    "\n",
    "- Column 1 should be `region` found in the `countries` table.\n",
    "- Column 2 should be `avg_tallest`, which averages the tallest athlete from each country within the region.\n",
    "- Column 3 should be `perc_world_gdp`, which represents what % of the world's GDP is attributed to the region.\n",
    "- Only `winter_games` should be included (no summer events)."
   ]
  },
  {
   "cell_type": "markdown",
   "metadata": {},
   "source": [
    "```\n",
    "SELECT \n",
    "\t-- Pull in country_id and height\n",
    "\tcountry_id,\n",
    "    height,\n",
    "    -- Number the height of each country's athletes\n",
    "    ROW_NUMBER() OVER(PARTITION BY country_id ORDER BY height DESC) AS row_num\n",
    "FROM winter_games AS w\n",
    "JOIN athletes AS a\n",
    "ON a.id = w.athlete_id\n",
    "GROUP BY country_id, height\n",
    "-- Order by country_id and then height in descending order\n",
    "ORDER BY country_id, height DESC;\n",
    "```"
   ]
  },
  {
   "cell_type": "markdown",
   "metadata": {},
   "source": [
    "```\n",
    "SELECT\n",
    "\t-- Pull in region and calculate avg tallest height\n",
    "\tregion,\n",
    "    AVG(height) AS avg_tallest\n",
    "FROM countries AS c\n",
    "JOIN\n",
    "    (SELECT \n",
    "   \t    -- Pull in country_id and height\n",
    "        country_id, \n",
    "        height, \n",
    "        -- Number the height of each country's athletes\n",
    "        ROW_NUMBER() OVER (PARTITION BY country_id ORDER BY height DESC) AS row_num\n",
    "    FROM winter_games AS w \n",
    "    JOIN athletes AS a \n",
    "    ON w.athlete_id = a.id\n",
    "    GROUP BY country_id, height\n",
    "    -- Alias as subquery\n",
    "    ORDER BY country_id, height DESC) AS subquery\n",
    "ON subquery.country_id = c.id\n",
    "-- Only include the tallest height for each country\n",
    "WHERE row_num = 1\n",
    "GROUP BY region;\n",
    "```"
   ]
  },
  {
   "cell_type": "markdown",
   "metadata": {},
   "source": [
    "```\n",
    "SELECT\n",
    "\t-- Pull in region and calculate avg tallest height\n",
    "    region,\n",
    "    AVG(height) AS avg_tallest,\n",
    "    -- Calculate region's percent of world gdp\n",
    "    SUM(SUM(gdp)) OVER (PARTITION BY region) / SUM(SUM(gdp)) OVER () AS perc_world_gdp    \n",
    "FROM countries AS c\n",
    "JOIN\n",
    "    (SELECT \n",
    "     \t-- Pull in country_id and height\n",
    "        country_id, \n",
    "        height, \n",
    "        -- Number the height of each country's athletes\n",
    "        ROW_NUMBER() OVER (PARTITION BY country_id ORDER BY height DESC) AS row_num\n",
    "    FROM winter_games AS w \n",
    "    JOIN athletes AS a ON w.athlete_id = a.id\n",
    "    GROUP BY country_id, height\n",
    "    -- Alias as subquery\n",
    "    ORDER BY country_id, height DESC) AS subquery\n",
    "ON c.id = subquery.country_id\n",
    "-- Join to country_stats\n",
    "JOIN country_stats AS cs\n",
    "ON cs.country_id = c.id\n",
    "-- Only include the tallest height for each country\n",
    "WHERE row_num = 1\n",
    "GROUP BY region;\n",
    "```"
   ]
  }
 ],
 "metadata": {
  "kernelspec": {
   "display_name": "Python 3.8.11 ('env_py')",
   "language": "python",
   "name": "python3"
  },
  "language_info": {
   "name": "python",
   "version": "3.8.11"
  },
  "orig_nbformat": 4,
  "vscode": {
   "interpreter": {
    "hash": "1e949e87132dd83f1a7623eb88007e3532b03b66b77111be347aa4a383049722"
   }
  }
 },
 "nbformat": 4,
 "nbformat_minor": 2
}

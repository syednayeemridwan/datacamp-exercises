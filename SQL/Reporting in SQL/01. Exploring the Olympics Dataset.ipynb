{
 "cells": [
  {
   "cell_type": "markdown",
   "metadata": {},
   "source": [
    "# Identifying the base report"
   ]
  },
  {
   "cell_type": "markdown",
   "metadata": {},
   "source": [
    "You are tasked with building the following visualization:\n",
    "\n",
    "<center><img src=\"images/01.02.png\"  style=\"width: 400px, height: 300px;\"/></center>\n",
    "\n",
    "\n",
    "A base report is an underlying report that sources a visualization. From a SQL point of view, you first want to build a base report before creating the visualization.\n",
    "\n",
    "Which of the following statements about the base report for this visualization is false?"
   ]
  },
  {
   "cell_type": "markdown",
   "metadata": {},
   "source": [
    "- The query needs a `WHERE` statement."
   ]
  },
  {
   "cell_type": "markdown",
   "metadata": {},
   "source": [
    "# Building the base report"
   ]
  },
  {
   "cell_type": "markdown",
   "metadata": {},
   "source": [
    "Now, build the base report for this visualization:\n",
    "\n",
    "<center><img src=\"images/01.02.png\"  style=\"width: 400px, height: 300px;\"/></center>\n",
    "\n",
    "This should be built by querying the `summer_games` table."
   ]
  },
  {
   "cell_type": "markdown",
   "metadata": {},
   "source": [
    "```\n",
    "-- Query the sport and distinct number of athletes\n",
    "SELECT \n",
    "\tsport, \n",
    "    COUNT(DISTINCT athlete_id) AS athletes\n",
    "FROM summer_games\n",
    "GROUP BY sport\n",
    "-- Only include the 3 sports with the most athletes\n",
    "ORDER BY athletes\n",
    "LIMIT 3;\n",
    "\n",
    "```"
   ]
  },
  {
   "cell_type": "markdown",
   "metadata": {},
   "source": [
    "# Athletes vs events by sport"
   ]
  },
  {
   "cell_type": "markdown",
   "metadata": {},
   "source": [
    "Now consider the following visualization:\n",
    "\n",
    "<center><img src=\"images/01.04.png\"  style=\"width: 400px, height: 300px;\"/></center>\n",
    "\n",
    "\n",
    "Using the summer_games table, run a query that creates the base report that sources this visualization."
   ]
  },
  {
   "cell_type": "markdown",
   "metadata": {},
   "source": [
    "```\n",
    "-- Query sport, events, and athletes from summer_games\n",
    "SELECT \n",
    "\tsport, \n",
    "    COUNT(DISTINCT event) AS events, \n",
    "    COUNT(DISTINCT athlete_id) AS athletes\n",
    "FROM summer_games\n",
    "GROUP BY sport;\n",
    "```"
   ]
  },
  {
   "cell_type": "markdown",
   "metadata": {},
   "source": [
    "# Planning queries with an E:R diagram"
   ]
  },
  {
   "cell_type": "markdown",
   "metadata": {},
   "source": [
    "An E:R diagram visually shows all tables, fields, and relationships in a database. You are given the following E:R diagram:\n",
    "\n",
    "<center><img src=\"images/01.06.png\"  style=\"width: 400px, height: 300px;\"/></center>\n",
    "\n",
    "You are tasked with building a report that shows Age of Oldest Athlete by Region. What tables will need to be included in the query?"
   ]
  },
  {
   "cell_type": "markdown",
   "metadata": {},
   "source": [
    "- `athletes`, `summer_games`, `countries`"
   ]
  },
  {
   "cell_type": "markdown",
   "metadata": {},
   "source": [
    "# Age of oldest athlete by region"
   ]
  },
  {
   "cell_type": "markdown",
   "metadata": {},
   "source": [
    "You are given the following E:R diagram:\n",
    "\n",
    "<center><img src=\"images/01.06.png\"  style=\"width: 400px, height: 300px;\"/></center>\n",
    "\n",
    "In the previous exercise, you identified which tables are needed to create a report that shows Age of Oldest Athlete by Region. Now, set up the query to create this report.\n"
   ]
  },
  {
   "cell_type": "markdown",
   "metadata": {},
   "source": [
    "```\n",
    "-- Select the age of the oldest athlete for each region\n",
    "SELECT \n",
    "\tregion, \n",
    "    MAX(age) AS age_of_oldest_athlete\n",
    "FROM athletes AS a\n",
    "-- First JOIN statement\n",
    "JOIN summer_games AS s\n",
    "ON a.id = s.athlete_id\n",
    "-- Second JOIN statement\n",
    "JOIN countries AS c\n",
    "ON c.id = s.country_id\n",
    "GROUP BY region;\n",
    "```"
   ]
  },
  {
   "cell_type": "markdown",
   "metadata": {},
   "source": [
    "# Number of events in each sport"
   ]
  },
  {
   "cell_type": "markdown",
   "metadata": {},
   "source": [
    "The full E:R diagram for the database is shown below:\n",
    "\n",
    "<center><img src=\"images/01.08.png\"  style=\"width: 400px, height: 300px;\"/></center>\n",
    "\n",
    "\n",
    "Since the company will be involved in both summer sports and winter sports, it is beneficial to look at all sports in one centralized report.\n",
    "\n",
    "Your task is to create a query that shows the unique number of events held for each sport. Note that since no relationships exist between these two tables, you will need to use a UNION instead of a JOIN."
   ]
  },
  {
   "cell_type": "markdown",
   "metadata": {},
   "source": [
    "```\n",
    "-- Select sport and events for summer sports\n",
    "SELECT \n",
    "\tsport, \n",
    "    COUNT(DISTINCT event) AS events\n",
    "FROM summer_games\n",
    "GROUP BY sport\n",
    "UNION\n",
    "-- Select sport and events for winter sports\n",
    "SELECT \n",
    "\tsport, \n",
    "    COUNT(DISTINCT event) AS events\n",
    "FROM winter_games\n",
    "GROUP BY sport\n",
    "-- Show the most events at the top of the report\n",
    "ORDER BY events DESC;\n",
    "```"
   ]
  },
  {
   "cell_type": "markdown",
   "metadata": {},
   "source": [
    "# Exploring summer_games"
   ]
  },
  {
   "cell_type": "markdown",
   "metadata": {},
   "source": [
    "Exploring the data in a table can provide further insights into the database as a whole. In this exercise, you will try out a series of different techniques to explore the `summer_games` table."
   ]
  },
  {
   "cell_type": "markdown",
   "metadata": {},
   "source": [
    "```\n",
    "-- Update query to explore the unique bronze field values\n",
    "SELECT DISTINCT bronze\n",
    "FROM summer_games;\n",
    "```"
   ]
  },
  {
   "cell_type": "markdown",
   "metadata": {},
   "source": [
    "```\n",
    "-- Recreate the query by using GROUP BY \n",
    "SELECT bronze\n",
    "FROM summer_games\n",
    "GROUP BY bronze;\n",
    "```"
   ]
  },
  {
   "cell_type": "markdown",
   "metadata": {},
   "source": [
    "```\n",
    "-- Add the rows column to your query\n",
    "SELECT \n",
    "\tbronze, \n",
    "\tCOUNT(*) AS rows\n",
    "FROM summer_games\n",
    "GROUP BY bronze;\n",
    "```"
   ]
  },
  {
   "cell_type": "markdown",
   "metadata": {},
   "source": [
    "# Validating our query"
   ]
  },
  {
   "cell_type": "markdown",
   "metadata": {},
   "source": [
    "The same techniques we use to explore the data can be used to validate queries. By using the query as a subquery, you can run exploratory techniques to confirm the query results are as expected.\n",
    "\n",
    "In this exercise, you will create a query that shows Bronze Medals by Country and then validate it using the subquery technique.\n",
    "\n",
    "Feel free to reference the E:R Diagram as needed."
   ]
  },
  {
   "cell_type": "markdown",
   "metadata": {},
   "source": [
    "```\n",
    "-- Pull total_bronze_medals from summer_games below\n",
    "SELECT SUM(bronze) AS total_bronze_medals\n",
    "FROM summer_games;\n",
    "```"
   ]
  },
  {
   "cell_type": "markdown",
   "metadata": {},
   "source": [
    "```\n",
    "-- Setup a query that shows bronze_medal by country\n",
    "SELECT \n",
    "\tcountry, \n",
    "    SUM(bronze) AS bronze_medals\n",
    "FROM summer_games AS s\n",
    "JOIN countries AS c\n",
    "ON c.id = s.country_id\n",
    "GROUP BY country;\n",
    "```"
   ]
  },
  {
   "cell_type": "markdown",
   "metadata": {},
   "source": [
    "```\n",
    "/* Pull total_bronze_medals below\n",
    "SELECT SUM(bronze) AS total_bronze_medals\n",
    "FROM summer_games; \n",
    ">> OUTPUT = 141 total_bronze_medals */\n",
    "\n",
    "-- Select the total bronze_medals from your query\n",
    "SELECT SUM(temp.bronze_medals)\n",
    "FROM (\n",
    "-- Previous query is shown below.  Alias this AS subquery\n",
    "  SELECT \n",
    "      country, \n",
    "      SUM(bronze) AS bronze_medals\n",
    "  FROM summer_games AS s\n",
    "  JOIN countries AS c\n",
    "  ON s.country_id = c.id\n",
    "  GROUP BY country) AS temp\n",
    ";\n",
    "```"
   ]
  },
  {
   "cell_type": "markdown",
   "metadata": {},
   "source": [
    "# Report 1: Most decorated summer athletes"
   ]
  },
  {
   "cell_type": "markdown",
   "metadata": {},
   "source": [
    "Now that you have a good understanding of the data, let's get back to our case study and build out the first element for the dashboard, Most Decorated Summer Athletes:\n",
    "\n",
    "<center><img src=\"images/01.12.png\"  style=\"width: 400px, height: 300px;\"/></center>\n",
    "\n",
    "\n",
    "Your job is to create the base report for this element. Base report details:\n",
    "\n",
    "- Column 1 should be athlete_name.\n",
    "- Column 2 should be gold_medals.\n",
    "- The report should only include athletes with at least 3 medals.\n",
    "- The report should be ordered by gold medals won, with the most medals at the top."
   ]
  },
  {
   "cell_type": "markdown",
   "metadata": {},
   "source": [
    "```\n",
    "-- Pull athlete_name and gold_medals for summer games\n",
    "SELECT \n",
    "\tname AS athlete_name, \n",
    "    SUM(gold) AS gold_medals\n",
    "FROM summer_games AS s\n",
    "JOIN athletes AS a\n",
    "ON a.id = s.athlete_id\n",
    "GROUP BY athlete_name\n",
    "-- Filter for only athletes with 3 gold medals or more\n",
    "HAVING SUM(gold) >= 3\n",
    "-- Sort to show the most gold medals at the top\n",
    "ORDER BY gold_medals DESC;\n",
    "```"
   ]
  },
  {
   "cell_type": "markdown",
   "metadata": {},
   "source": [
    "# Identifying duplication"
   ]
  },
  {
   "cell_type": "markdown",
   "metadata": {},
   "source": [
    "Duplication can happen for a number of reasons, often in unexpected ways. Because of this, it's important to get in the habit of validating your queries to ensure no duplication exists. To validate a query, take the following steps:\n",
    "\n",
    "- Check the total value of a metric from the original table.\n",
    "- Compare that with the total value of the same metric in your final report.\n",
    "\n",
    "If the number from step 2 is larger than step 1, then duplication is likely the culprit. In this exercise, you will go through these steps to identify if duplication exists."
   ]
  },
  {
   "cell_type": "markdown",
   "metadata": {},
   "source": [
    "```\n",
    "-- Comment out the query after noting the gold medal count\n",
    "/*SELECT SUM(gold) AS gold_medals\n",
    "FROM winter_games;*/\n",
    "-- TOTAL GOLD MEDALS: 47 \n",
    "\n",
    "-- Calculate the total gold_medals in your query\n",
    "SELECT SUM(gold_medals)\n",
    "FROM\n",
    "\t(SELECT \n",
    "        w.country_id, \n",
    "     \tSUM(gold) AS gold_medals, \n",
    "        AVG(gdp) AS avg_gdp\n",
    "    FROM winter_games AS w\n",
    "    JOIN country_stats AS c\n",
    "    ON c.country_id = w.country_id\n",
    "    -- Alias your query as subquery\n",
    "    GROUP BY w.country_id) AS subquery;\n",
    "```"
   ]
  },
  {
   "cell_type": "markdown",
   "metadata": {},
   "source": [
    "# Fixing duplication through a JOIN"
   ]
  },
  {
   "cell_type": "markdown",
   "metadata": {},
   "source": [
    "In the previous exercise, you set up a query that contained duplication. This exercise will remove the duplication. One approach to removing duplication is to change the `JOIN` logic by adding another field to the `ON` statement.\n",
    "\n",
    "The final query from last exercise is shown in the console. Your job is to fix the duplication by updating the `ON` statement. Note that the total `gold_medals` value should be 47.\n",
    "\n",
    "Feel free to reference the E:R Diagram."
   ]
  },
  {
   "cell_type": "markdown",
   "metadata": {},
   "source": [
    "```\n",
    "SELECT SUM(gold_medals) AS gold_medals\n",
    "FROM\n",
    "\t(SELECT \n",
    "     \tw.country_id, \n",
    "     \tSUM(gold) AS gold_medals, \n",
    "     \tAVG(gdp) AS avg_gdp\n",
    "    FROM winter_games AS w\n",
    "    JOIN country_stats AS c\n",
    "    -- Update the subquery to join on a second field\n",
    "    ON c.country_id = w.country_id AND CAST(c.year AS DATE) = w.year\n",
    "    GROUP BY w.country_id) AS subquery;\n",
    "```"
   ]
  },
  {
   "cell_type": "markdown",
   "metadata": {},
   "source": [
    "# Report 3: Countries with high medal rates"
   ]
  },
  {
   "cell_type": "markdown",
   "metadata": {},
   "source": [
    "Great work so far! It is time to use the concepts you learned in this chapter to build the next base report for your dashboard.\n",
    "\n",
    "Details for report 3: medals vs population rate.\n",
    "\n",
    "- Column 1 should be `country_code`, which is an altered version of the `country` field.\n",
    "- Column 2 should be `pop_in_millions`, representing the population of the country (in millions).\n",
    "- Column 3 should be `medals`, representing the total number of medals.\n",
    "- Column 4 should be `medals_per_million`, which equals `medals` / `pop_in_millions`"
   ]
  },
  {
   "cell_type": "markdown",
   "metadata": {},
   "source": [
    "```\n",
    "SELECT \n",
    "\tc.country,  \n",
    "    -- Add the three medal fields using one sum function\n",
    "\tSUM(COALESCE(bronze,0)+COALESCE(silver,0)+COALESCE(gold,0)) AS medals\n",
    "FROM summer_games AS s\n",
    "JOIN countries AS c\n",
    "ON c.id = s.country_id\n",
    "GROUP BY c.country\n",
    "ORDER BY medals DESC;\n",
    "```"
   ]
  },
  {
   "cell_type": "markdown",
   "metadata": {},
   "source": [
    "```\n",
    "SELECT \n",
    "\tc.country,\n",
    "    -- Pull in pop_in_millions and medals_per_million \n",
    "\tpop_in_millions,\n",
    "    -- Add the three medal fields using one sum function\n",
    "\tSUM(COALESCE(bronze,0) + COALESCE(silver,0) + COALESCE(gold,0)) AS medals,\n",
    "\tSUM(COALESCE(bronze,0) + COALESCE(silver,0) + COALESCE(gold,0)) / CAST(cs.pop_in_millions AS float) AS medals_per_million\n",
    "FROM summer_games AS s\n",
    "JOIN countries AS c \n",
    "ON s.country_id = c.id\n",
    "-- Update the newest join statement to remove duplication\n",
    "JOIN country_stats AS cs \n",
    "ON s.country_id = cs.country_id AND c.id=cs.country_id AND s.year = CAST(cs.year AS DATE)\n",
    "GROUP BY c.country, pop_in_millions\n",
    "ORDER BY medals DESC;\n",
    "```"
   ]
  },
  {
   "cell_type": "markdown",
   "metadata": {},
   "source": [
    "```\n",
    "SELECT \n",
    "\t-- Clean the country field to only show country_code\n",
    "    LEFT(REPLACE(UPPER(TRIM(c.country)),'.',''),3) AS country_code,\n",
    "    -- Pull in pop_in_millions and medals_per_million \n",
    "\tpop_in_millions,\n",
    "    -- Add the three medal fields using one sum function\n",
    "\tSUM(COALESCE(bronze,0) + COALESCE(silver,0) + COALESCE(gold,0)) AS medals,\n",
    "\tSUM(COALESCE(bronze,0) + COALESCE(silver,0) + COALESCE(gold,0)) / CAST(cs.pop_in_millions AS float) AS medals_per_million\n",
    "FROM summer_games AS s\n",
    "JOIN countries AS c \n",
    "ON s.country_id = c.id\n",
    "-- Update the newest join statement to remove duplication\n",
    "JOIN country_stats AS cs \n",
    "ON s.country_id = cs.country_id AND s.year = CAST(cs.year AS date)\n",
    "-- Filter out null populations\n",
    "WHERE pop_in_millions IS NOT NULL\n",
    "GROUP BY c.country, pop_in_millions\n",
    "-- Keep only the top 25 medals_per_million rows\n",
    "ORDER BY medals_per_million DESC\n",
    "LIMIT 25;\n",
    "```"
   ]
  }
 ],
 "metadata": {
  "kernelspec": {
   "display_name": "Python 3.8.11 ('env_py')",
   "language": "python",
   "name": "python3"
  },
  "language_info": {
   "name": "python",
   "version": "3.8.11"
  },
  "orig_nbformat": 4,
  "vscode": {
   "interpreter": {
    "hash": "1e949e87132dd83f1a7623eb88007e3532b03b66b77111be347aa4a383049722"
   }
  }
 },
 "nbformat": 4,
 "nbformat_minor": 2
}

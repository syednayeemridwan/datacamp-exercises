{
 "cells": [
  {
   "cell_type": "markdown",
   "metadata": {},
   "source": [
    "# Identifying the base report"
   ]
  },
  {
   "cell_type": "markdown",
   "metadata": {},
   "source": [
    "You are tasked with building the following visualization:\n",
    "\n",
    "<center><img src=\"images/01.02.png\"  style=\"width: 400px, height: 300px;\"/></center>\n",
    "\n",
    "\n",
    "A base report is an underlying report that sources a visualization. From a SQL point of view, you first want to build a base report before creating the visualization.\n",
    "\n",
    "Which of the following statements about the base report for this visualization is false?"
   ]
  },
  {
   "cell_type": "markdown",
   "metadata": {},
   "source": [
    "- The query needs a `WHERE` statement."
   ]
  },
  {
   "cell_type": "markdown",
   "metadata": {},
   "source": [
    "# Building the base report"
   ]
  },
  {
   "cell_type": "markdown",
   "metadata": {},
   "source": [
    "Now, build the base report for this visualization:\n",
    "\n",
    "<center><img src=\"images/01.02.png\"  style=\"width: 400px, height: 300px;\"/></center>\n",
    "\n",
    "This should be built by querying the `summer_games` table."
   ]
  },
  {
   "cell_type": "markdown",
   "metadata": {},
   "source": [
    "```\n",
    "-- Query the sport and distinct number of athletes\n",
    "SELECT \n",
    "\tsport, \n",
    "    COUNT(DISTINCT athlete_id) AS athletes\n",
    "FROM summer_games\n",
    "GROUP BY sport\n",
    "-- Only include the 3 sports with the most athletes\n",
    "ORDER BY athletes\n",
    "LIMIT 3;\n",
    "\n",
    "```"
   ]
  },
  {
   "cell_type": "markdown",
   "metadata": {},
   "source": [
    "# Athletes vs events by sport"
   ]
  },
  {
   "cell_type": "markdown",
   "metadata": {},
   "source": [
    "Now consider the following visualization:\n",
    "\n",
    "<center><img src=\"images/01.04.png\"  style=\"width: 400px, height: 300px;\"/></center>\n",
    "\n",
    "\n",
    "Using the summer_games table, run a query that creates the base report that sources this visualization."
   ]
  },
  {
   "cell_type": "markdown",
   "metadata": {},
   "source": [
    "```\n",
    "-- Query sport, events, and athletes from summer_games\n",
    "SELECT \n",
    "\tsport, \n",
    "    COUNT(DISTINCT event) AS events, \n",
    "    COUNT(DISTINCT athlete_id) AS athletes\n",
    "FROM summer_games\n",
    "GROUP BY sport;\n",
    "```"
   ]
  },
  {
   "cell_type": "markdown",
   "metadata": {},
   "source": [
    "# Planning queries with an E:R diagram"
   ]
  },
  {
   "cell_type": "markdown",
   "metadata": {},
   "source": [
    "An E:R diagram visually shows all tables, fields, and relationships in a database. You are given the following E:R diagram:\n",
    "\n",
    "<center><img src=\"images/01.06.png\"  style=\"width: 400px, height: 300px;\"/></center>\n",
    "\n",
    "You are tasked with building a report that shows Age of Oldest Athlete by Region. What tables will need to be included in the query?"
   ]
  },
  {
   "cell_type": "markdown",
   "metadata": {},
   "source": [
    "- `athletes`, `summer_games`, `countries`"
   ]
  },
  {
   "cell_type": "markdown",
   "metadata": {},
   "source": [
    "# Age of oldest athlete by region"
   ]
  },
  {
   "cell_type": "markdown",
   "metadata": {},
   "source": [
    "You are given the following E:R diagram:\n",
    "\n",
    "<center><img src=\"images/01.06.png\"  style=\"width: 400px, height: 300px;\"/></center>\n",
    "\n",
    "In the previous exercise, you identified which tables are needed to create a report that shows Age of Oldest Athlete by Region. Now, set up the query to create this report.\n"
   ]
  },
  {
   "cell_type": "markdown",
   "metadata": {},
   "source": [
    "```\n",
    "-- Select the age of the oldest athlete for each region\n",
    "SELECT \n",
    "\tregion, \n",
    "    MAX(age) AS age_of_oldest_athlete\n",
    "FROM athletes AS a\n",
    "-- First JOIN statement\n",
    "JOIN summer_games AS s\n",
    "ON a.id = s.athlete_id\n",
    "-- Second JOIN statement\n",
    "JOIN countries AS c\n",
    "ON c.id = s.country_id\n",
    "GROUP BY region;\n",
    "```"
   ]
  },
  {
   "cell_type": "markdown",
   "metadata": {},
   "source": [
    "# Number of events in each sport"
   ]
  },
  {
   "cell_type": "markdown",
   "metadata": {},
   "source": [
    "The full E:R diagram for the database is shown below:\n",
    "\n",
    "<center><img src=\"images/01.08.png\"  style=\"width: 400px, height: 300px;\"/></center>\n",
    "\n",
    "\n",
    "Since the company will be involved in both summer sports and winter sports, it is beneficial to look at all sports in one centralized report.\n",
    "\n",
    "Your task is to create a query that shows the unique number of events held for each sport. Note that since no relationships exist between these two tables, you will need to use a UNION instead of a JOIN."
   ]
  },
  {
   "cell_type": "markdown",
   "metadata": {},
   "source": [
    "```\n",
    "-- Select sport and events for summer sports\n",
    "SELECT \n",
    "\tsport, \n",
    "    COUNT(DISTINCT event) AS events\n",
    "FROM summer_games\n",
    "GROUP BY sport\n",
    "UNION\n",
    "-- Select sport and events for winter sports\n",
    "SELECT \n",
    "\tsport, \n",
    "    COUNT(DISTINCT event) AS events\n",
    "FROM winter_games\n",
    "GROUP BY sport\n",
    "-- Show the most events at the top of the report\n",
    "ORDER BY events DESC;\n",
    "```"
   ]
  },
  {
   "cell_type": "markdown",
   "metadata": {},
   "source": [
    "# Exploring summer_games"
   ]
  },
  {
   "cell_type": "markdown",
   "metadata": {},
   "source": [
    "Exploring the data in a table can provide further insights into the database as a whole. In this exercise, you will try out a series of different techniques to explore the `summer_games` table."
   ]
  },
  {
   "cell_type": "markdown",
   "metadata": {},
   "source": [
    "```\n",
    "-- Update query to explore the unique bronze field values\n",
    "SELECT DISTINCT bronze\n",
    "FROM summer_games;\n",
    "```"
   ]
  },
  {
   "cell_type": "markdown",
   "metadata": {},
   "source": [
    "```\n",
    "-- Recreate the query by using GROUP BY \n",
    "SELECT bronze\n",
    "FROM summer_games\n",
    "GROUP BY bronze;\n",
    "```"
   ]
  },
  {
   "cell_type": "markdown",
   "metadata": {},
   "source": [
    "```\n",
    "-- Add the rows column to your query\n",
    "SELECT \n",
    "\tbronze, \n",
    "\tCOUNT(*) AS rows\n",
    "FROM summer_games\n",
    "GROUP BY bronze;\n",
    "```"
   ]
  },
  {
   "cell_type": "markdown",
   "metadata": {},
   "source": [
    "# Validating our query"
   ]
  },
  {
   "cell_type": "markdown",
   "metadata": {},
   "source": [
    "The same techniques we use to explore the data can be used to validate queries. By using the query as a subquery, you can run exploratory techniques to confirm the query results are as expected.\n",
    "\n",
    "In this exercise, you will create a query that shows Bronze Medals by Country and then validate it using the subquery technique.\n",
    "\n",
    "Feel free to reference the E:R Diagram as needed."
   ]
  },
  {
   "cell_type": "markdown",
   "metadata": {},
   "source": [
    "```\n",
    "-- Pull total_bronze_medals from summer_games below\n",
    "SELECT SUM(bronze) AS total_bronze_medals\n",
    "FROM summer_games;\n",
    "```"
   ]
  },
  {
   "cell_type": "markdown",
   "metadata": {},
   "source": [
    "```\n",
    "-- Setup a query that shows bronze_medal by country\n",
    "SELECT \n",
    "\tcountry, \n",
    "    SUM(bronze) AS bronze_medals\n",
    "FROM summer_games AS s\n",
    "JOIN countries AS c\n",
    "ON c.id = s.country_id\n",
    "GROUP BY country;\n",
    "```"
   ]
  },
  {
   "cell_type": "markdown",
   "metadata": {},
   "source": [
    "```\n",
    "/* Pull total_bronze_medals below\n",
    "SELECT SUM(bronze) AS total_bronze_medals\n",
    "FROM summer_games; \n",
    ">> OUTPUT = 141 total_bronze_medals */\n",
    "\n",
    "-- Select the total bronze_medals from your query\n",
    "SELECT SUM(temp.bronze_medals)\n",
    "FROM (\n",
    "-- Previous query is shown below.  Alias this AS subquery\n",
    "  SELECT \n",
    "      country, \n",
    "      SUM(bronze) AS bronze_medals\n",
    "  FROM summer_games AS s\n",
    "  JOIN countries AS c\n",
    "  ON s.country_id = c.id\n",
    "  GROUP BY country) AS temp\n",
    ";\n",
    "```"
   ]
  },
  {
   "cell_type": "markdown",
   "metadata": {},
   "source": [
    "# Report 1: Most decorated summer athletes"
   ]
  },
  {
   "cell_type": "markdown",
   "metadata": {},
   "source": [
    "Now that you have a good understanding of the data, let's get back to our case study and build out the first element for the dashboard, Most Decorated Summer Athletes:\n",
    "\n",
    "<center><img src=\"images/01.12.png\"  style=\"width: 400px, height: 300px;\"/></center>\n",
    "\n",
    "\n",
    "Your job is to create the base report for this element. Base report details:\n",
    "\n",
    "- Column 1 should be athlete_name.\n",
    "- Column 2 should be gold_medals.\n",
    "- The report should only include athletes with at least 3 medals.\n",
    "- The report should be ordered by gold medals won, with the most medals at the top."
   ]
  },
  {
   "cell_type": "markdown",
   "metadata": {},
   "source": [
    "```\n",
    "-- Pull athlete_name and gold_medals for summer games\n",
    "SELECT \n",
    "\tname AS athlete_name, \n",
    "    SUM(gold) AS gold_medals\n",
    "FROM summer_games AS s\n",
    "JOIN athletes AS a\n",
    "ON a.id = s.athlete_id\n",
    "GROUP BY athlete_name\n",
    "-- Filter for only athletes with 3 gold medals or more\n",
    "HAVING SUM(gold) >= 3\n",
    "-- Sort to show the most gold medals at the top\n",
    "ORDER BY gold_medals DESC;\n",
    "```"
   ]
  }
 ],
 "metadata": {
  "kernelspec": {
   "display_name": "Python 3.8.11 ('env_py')",
   "language": "python",
   "name": "python3"
  },
  "language_info": {
   "name": "python",
   "version": "3.8.11"
  },
  "orig_nbformat": 4,
  "vscode": {
   "interpreter": {
    "hash": "1e949e87132dd83f1a7623eb88007e3532b03b66b77111be347aa4a383049722"
   }
  }
 },
 "nbformat": 4,
 "nbformat_minor": 2
}

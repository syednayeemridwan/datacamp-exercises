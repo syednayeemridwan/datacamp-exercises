{
 "cells": [
  {
   "cell_type": "markdown",
   "metadata": {},
   "source": [
    "# Working with different types of data"
   ]
  },
  {
   "cell_type": "markdown",
   "metadata": {},
   "source": [
    "The examples in this course are based on a data set about chocolate ratings (one of the most commonly consumed candies in the world).\n",
    "\n",
    "This data set contains\n",
    "\n",
    "- The `ratings` table: information about chocolate bars: the origin of the beans, percentage of cocoa and the rating of each bar.\n",
    "- The `voters` table: details about the people who participate in the voting process. It contains personal information of a voter: first and last name, email address, gender, country, the first time they voted and the total number of votes.\n",
    "\n",
    "In this exercise, you will take a look at different types of data."
   ]
  },
  {
   "cell_type": "markdown",
   "metadata": {},
   "source": [
    "```\n",
    "SELECT \n",
    "\tcompany, \n",
    "\tcompany_location, \n",
    "\tbean_origin, \n",
    "\tcocoa_percent, \n",
    "\trating\n",
    "FROM ratings\n",
    "-- Location should be Belgium and the rating should exceed 3.5\n",
    "WHERE company_location = 'Belgium'\n",
    "\tAND rating > 3.5;\n",
    "```"
   ]
  },
  {
   "cell_type": "markdown",
   "metadata": {},
   "source": [
    "```\n",
    "SELECT \n",
    "\tfirst_name,\n",
    "\tlast_name,\n",
    "\tbirthdate,\n",
    "\tgender,\n",
    "\temail,\n",
    "\tcountry,\n",
    "\ttotal_votes\n",
    "FROM voters\n",
    "-- Birthdate > 1990-01-01, total_votes > 100 but < 200\n",
    "WHERE birthdate > '1990-01-01'\n",
    "  AND total_votes > 100\n",
    "  AND total_votes < 200;\n",
    "```"
   ]
  },
  {
   "cell_type": "markdown",
   "metadata": {},
   "source": [
    "# Storing dates in a database"
   ]
  },
  {
   "cell_type": "markdown",
   "metadata": {},
   "source": [
    "In this exercise, you will practice your knowledge of the different data types you can use in SQL Server. You will add more columns to the voters table and decide which is the most appropriate data type for each of them.\n",
    "\n",
    "The syntax for adding a new column in a table is the following:\n",
    "```\n",
    "ALTER TABLE table_name\n",
    "ADD column_name data_type\n",
    "```\n",
    "Remember, the most common date/time data types are:\n",
    "\n",
    "- `date`\n",
    "- `time`\n",
    "- `datetime`\n",
    "- `datetime2`\n",
    "- `smalldatetime`."
   ]
  },
  {
   "cell_type": "markdown",
   "metadata": {},
   "source": [
    "```\n",
    "ALTER TABLE voters\n",
    "ADD last_vote_date date;\n",
    "\n",
    "```"
   ]
  },
  {
   "cell_type": "markdown",
   "metadata": {},
   "source": [
    "```\n",
    "ALTER TABLE voters\n",
    "ADD last_vote_time time;\n",
    "```"
   ]
  },
  {
   "cell_type": "markdown",
   "metadata": {},
   "source": [
    "```\n",
    "ALTER TABLE voters\n",
    "ADD last_login datetime2;\n",
    "```"
   ]
  },
  {
   "cell_type": "markdown",
   "metadata": {},
   "source": [
    "# Types of character strings"
   ]
  },
  {
   "cell_type": "markdown",
   "metadata": {},
   "source": [
    "To what data category does the `nvarchar` type belong?\n",
    "- Unicode character strings"
   ]
  },
  {
   "cell_type": "markdown",
   "metadata": {},
   "source": [
    "# Implicit conversion between data types"
   ]
  },
  {
   "cell_type": "markdown",
   "metadata": {},
   "source": [
    "This is what you need to remember about implicit conversion:\n",
    "\n",
    "- For comparing two values in SQL Server, they need to have the same data type.\n",
    "- If the data types are different, SQL Server implicitly converts one type to another, based on data type precedence.\n",
    "- The data type with the lower precedence is converted to the data type with the higher precedence.\n",
    "\n",
    "In this exercise, you are going to test if explicit conversion works between a numeric type and a character. use information from the conversion table, where the implicit and explicit conversions between all data types are presented. You are going to try an implicit conversion between two different data types.\n",
    "\n",
    "For this, you will use the `voters` table and will compare the `total_votes` numeric column with a character."
   ]
  },
  {
   "cell_type": "markdown",
   "metadata": {},
   "source": [
    "```\n",
    "SELECT \n",
    "\tfirst_name,\n",
    "\tlast_name,     \n",
    "\ttotal_votes\n",
    "FROM voters\n",
    "WHERE total_votes > '120'\n",
    "```"
   ]
  },
  {
   "cell_type": "markdown",
   "metadata": {},
   "source": [
    "What kind of implicit conversion is performed by SQL Server to make this query execute successfully?\n",
    "- The character '120' is converted to a numeric type."
   ]
  },
  {
   "cell_type": "markdown",
   "metadata": {},
   "source": [
    "# Data type precedence"
   ]
  },
  {
   "cell_type": "markdown",
   "metadata": {},
   "source": [
    "In this exercise, you will evaluate the rating information from the `ratings` table and you will see what happens when a decimal value is compared to an integer. Remember: in SQL Server, data is implicitly converted behind the scenes from one type to another, in such a way that no data loss occurs."
   ]
  },
  {
   "cell_type": "markdown",
   "metadata": {},
   "source": [
    "```\n",
    "SELECT \n",
    "\tbean_type,\n",
    "\trating\n",
    "FROM ratings\n",
    "WHERE rating > 3;\n",
    "```"
   ]
  },
  {
   "cell_type": "markdown",
   "metadata": {},
   "source": [
    "Taking into account that the rating column is a decimal, which statement is true about the execution of this query?\n",
    "- The integer value is converted to decimal because decimal has higher precedence than int."
   ]
  },
  {
   "cell_type": "markdown",
   "metadata": {},
   "source": [
    "# CASTing data"
   ]
  },
  {
   "cell_type": "markdown",
   "metadata": {},
   "source": [
    "It happens often to need data in a certain type or format and to find that it's stored differently. For example:\n",
    "\n",
    "Integrating data from multiple sources, having different data types, into a single one\n",
    "Abstract data should be more readable (i.e. True/False instead of 1/0) Luckily, you don't need to make any changes in the data itself. You can use functions for explicitly converting to the data type you need (using `CAST()` and `CONVERT()`).\n",
    "You are now going to explicitly convert data using the `CAST()` function. Remember the syntax:\n",
    "\n",
    "`CAST(expression AS data_type [(length)])`"
   ]
  },
  {
   "cell_type": "markdown",
   "metadata": {},
   "source": [
    "```\n",
    "SELECT \n",
    "\t-- Transform the year part from the birthdate to a string\n",
    "\tfirst_name + ' ' + last_name + ' was born in ' + CAST(YEAR(birthdate) AS nvarchar) + '.' \n",
    "FROM voters;\n",
    "```"
   ]
  },
  {
   "cell_type": "markdown",
   "metadata": {},
   "source": [
    "```\n",
    "SELECT \n",
    "\t-- Transform to int the division of total_votes to 5.5\n",
    "\tCAST(total_votes/5.5 AS INT) AS DividedVotes\n",
    "FROM voters;\n",
    "```"
   ]
  },
  {
   "cell_type": "markdown",
   "metadata": {},
   "source": [
    "```\n",
    "SELECT \n",
    "\tfirst_name,\n",
    "\tlast_name,\n",
    "\ttotal_votes\n",
    "FROM voters\n",
    "-- Transform the total_votes to char of length 10\n",
    "WHERE CAST(total_votes AS CHAR(10)) LIKE '5%';\n",
    "```"
   ]
  },
  {
   "cell_type": "markdown",
   "metadata": {},
   "source": [
    "# CONVERTing data"
   ]
  },
  {
   "cell_type": "markdown",
   "metadata": {},
   "source": [
    "Another important function similar to `CAST()` is `CONVERT()`. They are very similar in functionality, with the exception that with `CONVERT()` you can use a style parameter for changing the aspect of a date. Also, `CONVERT()` is SQL Server specific, so its performance is slightly better than `CAST()`. Nonetheless, it's important to know how to use both of them.\n",
    "\n",
    "In this exercise, you are going to enhance your knowledge of the `CONVERT()` function."
   ]
  },
  {
   "cell_type": "markdown",
   "metadata": {},
   "source": [
    "```\n",
    "SELECT \n",
    "\temail,\n",
    "    -- Convert birthdate to varchar show it like: \"Mon dd,yyyy\" \n",
    "    CONVERT(varchar, birthdate, 107) AS birthdate\n",
    "FROM voters;\n",
    "```"
   ]
  },
  {
   "cell_type": "markdown",
   "metadata": {},
   "source": [
    "```\n",
    "SELECT \n",
    "\tcompany,\n",
    "    bean_origin,\n",
    "    -- Convert the rating column to an integer\n",
    "    CONVERT(INT, rating) AS rating\n",
    "FROM ratings;\n",
    "```"
   ]
  },
  {
   "cell_type": "markdown",
   "metadata": {},
   "source": [
    "```\n",
    "SELECT \n",
    "\tcompany,\n",
    "    bean_origin,\n",
    "    rating\n",
    "FROM ratings\n",
    "-- Convert the rating to an integer before comparison\n",
    "WHERE CONVERT(INT,rating) = 3;\n",
    "```"
   ]
  },
  {
   "cell_type": "markdown",
   "metadata": {},
   "source": [
    "# Working with the correct data types"
   ]
  },
  {
   "cell_type": "markdown",
   "metadata": {},
   "source": [
    "It’s now time to practice your understanding of various data types in SQL Server and how to convert them from one type to another. In this exercise, you will query the `voters` table. Remember that this table holds information about the people who provided ratings for the different chocolate flavors.\n",
    "\n",
    "You are going to write a query that returns information (first name, last name, gender, country, number of times they voted) about the female voters from Belgium, who voted more than 20 times.\n",
    "\n",
    "You will work with columns of different data types and perform both implicit and explicit conversions between different types of data (using `CAST()` and `CONVERT()` functions).\n",
    "\n",
    "It sounds like a big query, but we will take it step-by-step and you will see the results in no time!"
   ]
  },
  {
   "cell_type": "markdown",
   "metadata": {},
   "source": [
    "```\n",
    "SELECT \n",
    "\tfirst_name,\n",
    "    last_name,\n",
    "\t-- Convert birthdate to varchar(10) and show it as yy/mm/dd. This format corresponds to value 11 of the \"style\" parameter.\n",
    "\tCONVERT(varchar(10), birthdate, 11) AS birthdate,\n",
    "    gender,\n",
    "    country\n",
    "FROM voters\n",
    "WHERE country = 'Belgium' \n",
    "    -- Select only the female voters\n",
    "\tAND gender = 'F'\n",
    "    -- Select only people who voted more than 20 times  \n",
    "    AND total_votes > 20;\n",
    "```"
   ]
  },
  {
   "cell_type": "markdown",
   "metadata": {},
   "source": [
    "```\n",
    "SELECT\n",
    "\tfirst_name,\n",
    "    last_name,\n",
    "\t-- Convert birthdate to varchar(10) to show it as yy/mm/dd\n",
    "\tCONVERT(varchar(10), birthdate, 11) AS birthdate,\n",
    "    gender,\n",
    "    country,\n",
    "    -- Convert the total_votes number to nvarchar\n",
    "    'Voted ' + CAST(total_votes AS nvarchar) + ' times.' AS comments\n",
    "FROM voters\n",
    "WHERE country = 'Belgium'\n",
    "    -- Select only the female voters\n",
    "\tAND gender = 'F'\n",
    "    -- Select only people who voted more than 20 times\n",
    "    AND total_votes > 20;\n",
    "```"
   ]
  }
 ],
 "metadata": {
  "kernelspec": {
   "display_name": "Python 3.8.11 ('env_py')",
   "language": "python",
   "name": "python3"
  },
  "language_info": {
   "name": "python",
   "version": "3.8.11"
  },
  "orig_nbformat": 4,
  "vscode": {
   "interpreter": {
    "hash": "1e949e87132dd83f1a7623eb88007e3532b03b66b77111be347aa4a383049722"
   }
  }
 },
 "nbformat": 4,
 "nbformat_minor": 2
}

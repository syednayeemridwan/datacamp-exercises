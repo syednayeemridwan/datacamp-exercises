{
 "cells": [
  {
   "cell_type": "markdown",
   "metadata": {},
   "source": [
    "# Learning how to count and add"
   ]
  },
  {
   "cell_type": "markdown",
   "metadata": {},
   "source": [
    "In this exercise, you will get familiar with the function used for counting rows and the one that sums up values.\n",
    "\n",
    "You will select information from the `voters` table and will calculate the number of female and male voters and the total number of votes for these groups.\n",
    "\n",
    "Remember, for applying aggregate functions on groups of data, you need to use the `GROUP BY` statement."
   ]
  },
  {
   "cell_type": "markdown",
   "metadata": {},
   "source": [
    "```\n",
    "SELECT \n",
    "\tgender, \n",
    "\t-- Count the number of voters for each group\n",
    "\tCOUNT(*) AS voters,\n",
    "\t-- Calculate the total number of votes per group\n",
    "\tSUM(total_votes) AS total_votes\n",
    "FROM voters\n",
    "GROUP BY gender;\n",
    "```"
   ]
  },
  {
   "cell_type": "markdown",
   "metadata": {},
   "source": [
    "# MINimizing and MAXimizing some results"
   ]
  },
  {
   "cell_type": "markdown",
   "metadata": {},
   "source": [
    "Calculating the minimum, maximum or average value from a data set are common tasks when working with databases. You may need to calculate the maximum or minimum salary within a department or the average weight of some people going to the gym.\n",
    "\n",
    "In this exercise, you will find out the average cocoa percentage used by each company in their chocolate bars.\n",
    "\n",
    "You will also calculate the minimum and maximum score received by each company during the voting process."
   ]
  },
  {
   "cell_type": "markdown",
   "metadata": {},
   "source": [
    "```\n",
    "SELECT \n",
    "\tcompany,\n",
    "\t-- Calculate the average cocoa percent\n",
    "\tAVG(cocoa_percent) AS avg_cocoa,\n",
    "\t-- Calculate the minimum rating received by each company\n",
    "\tMIN(rating) AS min_rating,\n",
    "\t-- Calculate the maximum rating received by each company\n",
    "\tMAX(rating) AS max_rating\n",
    "FROM ratings\n",
    "GROUP BY company\n",
    "-- Order the values by the maximum rating\n",
    "ORDER BY max_rating DESC;\n",
    "```"
   ]
  },
  {
   "cell_type": "markdown",
   "metadata": {},
   "source": [
    "# Accessing values from the next row"
   ]
  },
  {
   "cell_type": "markdown",
   "metadata": {},
   "source": [
    "With the `LEAD()` function, you can access data from a subsequent row in the same query, without using the `GROUP BY` statement. This way, you can easily compare values from an ordered list.\n",
    "\n",
    "This is the syntax: `LEAD(numeric_expression) OVER ([PARTITION BY column] ORDER BY column)`\n",
    "\n",
    "In this exercise, you will get familiar with comparing values from the current row with values from the following row.\n",
    "\n",
    "You will select information about the voters from France and arrange the results by total votes, in ascending order. The purpose is to analyze how the number of votes from each voter compares to the number of votes recorded for the next person in the list."
   ]
  },
  {
   "cell_type": "markdown",
   "metadata": {},
   "source": [
    "```\n",
    "SELECT \n",
    "\tfirst_name,\n",
    "\tlast_name,\n",
    "\ttotal_votes AS votes,\n",
    "    -- Select the number of votes of the next voter\n",
    "\tLEAD(total_votes) OVER (ORDER BY total_votes) AS votes_next_voter,\n",
    "    -- Calculate the difference between the number of votes\n",
    "\tLEAD(total_votes) OVER (ORDER BY total_votes) - total_votes AS votes_diff\n",
    "FROM voters\n",
    "WHERE country = 'France'\n",
    "ORDER BY total_votes;\n",
    "```"
   ]
  },
  {
   "cell_type": "markdown",
   "metadata": {},
   "source": [
    "# Accessing values from the previous row"
   ]
  },
  {
   "cell_type": "markdown",
   "metadata": {},
   "source": [
    "By using the `LAG()` function in a query, you can access rows previous to the current one.\n",
    "\n",
    "This is the syntax: `LAG(numeric_expression) OVER ([PARTITION BY column] ORDER BY column)`\n",
    "\n",
    "In this exercise, you will use this function in your query. You will analyze the ratings of the chocolate bars produced by a company called \"Fruition\".\n",
    "\n",
    "This company produces chocolate with cocoa coming from different areas of the world.\n",
    "\n",
    "You want to check if there is a correlation between the percentage of cocoa and the score received, for the bars coming from the same location. For this, you will compare the cocoa percentage of each bar with the percentage of the bar that received the previous rating. Then, you will calculate the difference between these values and interpret the results."
   ]
  },
  {
   "cell_type": "markdown",
   "metadata": {},
   "source": [
    "```\n",
    "SELECT \n",
    "\tbroad_bean_origin AS bean_origin,\n",
    "\trating,\n",
    "\tcocoa_percent,\n",
    "    -- Retrieve the cocoa % of the bar with the previous rating\n",
    "\tLAG(cocoa_percent) \n",
    "\t\tOVER(PARTITION BY broad_bean_origin ORDER BY rating) AS percent_lower_rating\n",
    "FROM ratings\n",
    "WHERE company = 'Fruition'\n",
    "ORDER BY broad_bean_origin, rating ASC;\n",
    "```"
   ]
  },
  {
   "cell_type": "markdown",
   "metadata": {},
   "source": [
    "# Getting the first and last value"
   ]
  },
  {
   "cell_type": "markdown",
   "metadata": {},
   "source": [
    "The analytical functions that return the first or last value from an ordered list prove to be very helpful in queries. In this exercise, you will get familiar with them. The syntax is:\n",
    "\n",
    "`FIRST_VALUE(numeric_expression) OVER ([PARTITION BY column] ORDER BY column ROW_or_RANGE frame)`\n",
    "\n",
    "`LAST_VALUE(numeric_expression) OVER ([PARTITION BY column] ORDER BY column ROW_or_RANGE frame)`\n",
    "\n",
    "You will write a query to retrieve all the voters from Spain and the USA. Then, you will add in your query some commands for retrieving the birth date of the youngest and the oldest voter from each country. You want to see these values on each row, to be able to compare them with the birth date of each voter."
   ]
  },
  {
   "cell_type": "markdown",
   "metadata": {},
   "source": [
    "```\n",
    "SELECT \n",
    "\tfirst_name + ' ' + last_name AS name,\n",
    "\tcountry,\n",
    "\tbirthdate,\n",
    "\t-- Retrieve the birthdate of the oldest voter per country\n",
    "\tFIRST_VALUE(birthdate) \n",
    "\tOVER (PARTITION BY country ORDER BY birthdate ROWS BETWEEN UNBOUNDED PRECEDING AND UNBOUNDED FOLLOWING) AS oldest_voter,\n",
    "\t-- Retrieve the birthdate of the youngest voter per country\n",
    "\tLAST_VALUE(birthdate) \n",
    "\t\tOVER (PARTITION BY country ORDER BY birthdate ROWS BETWEEN UNBOUNDED PRECEDING AND UNBOUNDED FOLLOWING\n",
    "\t\t\t\t) AS youngest_voter\n",
    "FROM voters\n",
    "WHERE country IN ('Spain', 'USA');\n",
    "```"
   ]
  },
  {
   "cell_type": "markdown",
   "metadata": {},
   "source": [
    "# Extracting the sign and the absolute value"
   ]
  },
  {
   "cell_type": "markdown",
   "metadata": {},
   "source": [
    "In some situations, you may need to use mathematical functions in your database development. After complex calculations, you may need to check the sign of an expression or its absolute value. The functions provided by SQL Server for these tasks are:\n",
    "\n",
    "`ABS(expression)`\n",
    "\n",
    "`SIGN(expression)`\n",
    "\n",
    "In this exercise, you will work with the following variables:\n",
    "```\n",
    "DECLARE @number1 DECIMAL(18,2) = -5.4;\n",
    "DECLARE @number2 DECIMAL(18,2) = 7.89;\n",
    "DECLARE @number3 DECIMAL(18,2) = 13.2;\n",
    "DECLARE @number4 DECIMAL(18,2) = 0.003;\n",
    "```\n",
    "The @result variable stores the result of the following calculation: `@number1 * @number2 - @number3 - @number4`.\n",
    "\n",
    "You will calculate the absolute value and the sign of this expression."
   ]
  },
  {
   "cell_type": "markdown",
   "metadata": {},
   "source": [
    "```\n",
    "DECLARE @number1 DECIMAL(18,2) = -5.4;\n",
    "DECLARE @number2 DECIMAL(18,2) = 7.89;\n",
    "DECLARE @number3 DECIMAL(18,2) = 13.2;\n",
    "DECLARE @number4 DECIMAL(18,2) = 0.003;\n",
    "\n",
    "DECLARE @result DECIMAL(18,2) = @number1 * @number2 - @number3 - @number4;\n",
    "SELECT \n",
    "\t@result AS result,\n",
    "\t-- Show the absolute value of the result\n",
    "\tABS(@result) AS abs_result,\n",
    "\t-- Find the sign of the result\n",
    "\tSIGN(@result) AS sign_result;\n",
    "```"
   ]
  },
  {
   "cell_type": "markdown",
   "metadata": {},
   "source": [
    "# Rounding numbers"
   ]
  },
  {
   "cell_type": "markdown",
   "metadata": {},
   "source": [
    "Sometimes in your database development, you may need to round the results of a calculation. There are three functions you can use for this:\n",
    "\n",
    "- `CEILING(expression)`: rounds-up to the nearest integer value\n",
    "- `FLOOR(expression)`: rounds-down to the nearest integer value\n",
    "- `ROUND(expression, length)`: rounds the expression to the specified length.\n",
    "\n",
    "In this exercise, you will get familiar with the rounding functions, by applying them on a query based on the `ratings` table."
   ]
  },
  {
   "cell_type": "markdown",
   "metadata": {},
   "source": [
    "```\n",
    "SELECT\n",
    "\trating,\n",
    "\t-- Round-up the rating to an integer value\n",
    "\tCEILING(rating) AS round_up,\n",
    "\t-- Round-down the rating to an integer value\n",
    "\tFLOOR(rating) AS round_down,\n",
    "\t-- Round the rating value to one decimal\n",
    "\tROUND(rating, 1) AS round_onedec,\n",
    "\t-- Round the rating value to two decimals\n",
    "\tROUND(rating, 2) AS round_twodec\n",
    "FROM ratings;\n",
    "```"
   ]
  },
  {
   "cell_type": "markdown",
   "metadata": {},
   "source": [
    "# Working with exponential functions"
   ]
  },
  {
   "cell_type": "markdown",
   "metadata": {},
   "source": [
    "The exponential functions are useful when you need to perform calculations in the database. For databases storing real estate information, for example, you may need to calculate areas. In this case, these functions may come in handy:\n",
    "\n",
    "- `POWER(number, power)`: raises the number to the specified power\n",
    "- `SQUARE(number)`: raises the number to the power of 2\n",
    "Or, if you need to calculate the distance between two cities, whose coordinates are known, you could use this function:\n",
    "- `SQRT(number)`: calculates the square root of a positive number.\n",
    "\n",
    "In this exercise, you will play with the exponential functions and analyze the values they return."
   ]
  },
  {
   "cell_type": "markdown",
   "metadata": {},
   "source": [
    "```\n",
    "DECLARE @number DECIMAL(4, 2) = 4.5;\n",
    "DECLARE @power INT = 4;\n",
    "\n",
    "SELECT\n",
    "\t@number AS number,\n",
    "\t@power AS power,\n",
    "\t-- Raise the @number to the @power\n",
    "\tPOWER(@number,@power) AS number_to_power,\n",
    "\t-- Calculate the square of the @number\n",
    "\tSQUARE(@number) num_squared,\n",
    "\t-- Calculate the square root of the @number\n",
    "\tSQRT(@number) num_square_root;\n",
    "```"
   ]
  },
  {
   "cell_type": "markdown",
   "metadata": {},
   "source": [
    "# Manipulating numeric data"
   ]
  },
  {
   "cell_type": "markdown",
   "metadata": {},
   "source": [
    "In this exercise, you are going to use some common SQL Server functions to manipulate numeric data.\n",
    "\n",
    "You are going to use the `ratings` table, which stores information about each company that has been rated, their different cocoa beans and the rating per bean.\n",
    "\n",
    "You are going to find out information like the highest, lowest, average score received by each company (using functions like `MAX()`, `MIN()`, `AVG()`). Then, you will use some rounding functions to present this data with fewer decimals (`ROUND()`, `CEILING()`, `FLOOR()`)."
   ]
  },
  {
   "cell_type": "markdown",
   "metadata": {},
   "source": [
    "```\n",
    "SELECT \n",
    "\tcompany, \n",
    "    -- Select the number of cocoa flavors for each company\n",
    "\tCOUNT(*) AS flavors,\n",
    "    -- Select the minimum, maximum and average rating\n",
    "\tMIN(rating) AS lowest_score,   \n",
    "\tMAX(rating) AS highest_score,   \n",
    "\tAVG(rating) AS avg_score,\n",
    "    -- Round the average rating to 1 decimal\n",
    "    ROUND(AVG(rating), 1) AS round_avg_score,\n",
    "    -- Round up and then down the aveg. rating to the next integer \n",
    "    CEILING(AVG(rating)) AS round_up_avg_score,   \n",
    "\tFLOOR(AVG(rating)) AS round_down_avg_score\n",
    "FROM ratings\n",
    "GROUP BY company\n",
    "ORDER BY flavors DESC;\n",
    "```"
   ]
  }
 ],
 "metadata": {
  "kernelspec": {
   "display_name": "Python 3.8.11 ('env_py')",
   "language": "python",
   "name": "python3"
  },
  "language_info": {
   "name": "python",
   "version": "3.8.11"
  },
  "orig_nbformat": 4,
  "vscode": {
   "interpreter": {
    "hash": "1e949e87132dd83f1a7623eb88007e3532b03b66b77111be347aa4a383049722"
   }
  }
 },
 "nbformat": 4,
 "nbformat_minor": 2
}

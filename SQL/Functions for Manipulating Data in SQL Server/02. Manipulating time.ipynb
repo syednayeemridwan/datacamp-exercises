{
 "cells": [
  {
   "cell_type": "markdown",
   "metadata": {},
   "source": [
    "# Get the know the system date and time functions"
   ]
  },
  {
   "cell_type": "markdown",
   "metadata": {},
   "source": [
    "The purpose of this exercise is for you to work with the system date and time functions and see how you can use them in SQL Server. Whether you just want to discover what day it is or you are performing complex time analysis, these functions will prove to be very helpful in many situations.\n",
    "\n",
    "In this exercise, you will familiarize yourself with the most commonly used system date and time functions. These are:\n",
    "\n",
    "- Higher Precision\n",
    "\n",
    "    - `SYSDATETIME()`\n",
    "    - `SYSUTCDATETIME()`\n",
    "    - `SYSDATETIMEOFFSET()`\n",
    "- Lower Precision\n",
    "\n",
    "    - `GETDATE()`\n",
    "    - `GETUTCDATE()`\n",
    "    - `CURRENT_TIMESTAMP`"
   ]
  },
  {
   "cell_type": "markdown",
   "metadata": {},
   "source": [
    "```\n",
    "SELECT \n",
    "\tGETDATE() AS CurrentDate;\n",
    "\n",
    "SELECT \n",
    "\tSYSUTCDATETIME() AS UTC_HighPrecision,\n",
    "\tGETUTCDATE() AS UTC_LowPrecision;\n",
    "\n",
    "SELECT \n",
    "\tCURRENT_TIMESTAMP AS Timezone;\n",
    "```"
   ]
  },
  {
   "cell_type": "markdown",
   "metadata": {},
   "source": [
    "# Selecting parts of the system's date and time"
   ]
  },
  {
   "cell_type": "markdown",
   "metadata": {},
   "source": [
    "In this exercise, you will retrieve only parts of the system's date and time, focusing on only the date or only the time. You will use the same date and time functions, but you will use `CAST()` and `CONVERT()` to transform the results to a different data type."
   ]
  },
  {
   "cell_type": "markdown",
   "metadata": {},
   "source": [
    "```\n",
    "SELECT \n",
    "\tCONVERT(VARCHAR(24), SYSDATETIME(), 107) AS HighPrecision,\n",
    "\tCONVERT(VARCHAR(24), GETDATE(), 102) AS LowPrecision;\n",
    "```"
   ]
  },
  {
   "cell_type": "markdown",
   "metadata": {},
   "source": [
    "```\n",
    "SELECT \n",
    "\tCAST(SYSUTCDATETIME() AS time) AS HighPrecision,\n",
    "\tCAST(CURRENT_TIMESTAMP AS time) AS LowPrecision;\n",
    "```"
   ]
  },
  {
   "cell_type": "markdown",
   "metadata": {},
   "source": [
    "# Extracting parts from a date"
   ]
  },
  {
   "cell_type": "markdown",
   "metadata": {},
   "source": [
    "In this exercise, you will practice extracting date parts from a date, using SQL Server built-in functions. These functions are easy to apply and you can also use them in the `WHERE` clause, to restrict the results returned by the query.\n",
    "\n",
    "You will start by querying the `voters` table and create new columns by extracting the year, month, and day from the `first_vote_date`."
   ]
  },
  {
   "cell_type": "markdown",
   "metadata": {},
   "source": [
    "```\n",
    "SELECT \n",
    "\tfirst_name,\n",
    "\tlast_name,\n",
    "   \t-- Extract the year of the first vote\n",
    "\tYEAR(first_vote_date)  AS first_vote_year,\n",
    "    -- Extract the month of the first vote\n",
    "\tMONTH(first_vote_date) AS first_vote_month,\n",
    "    -- Extract the day of the first vote\n",
    "\tDAY(first_vote_date)   AS first_vote_day\n",
    "FROM voters\n",
    "-- The year of the first vote should be greater than 2015\n",
    "WHERE YEAR(first_vote_date) > 2015\n",
    "-- The day should not be the first day of the month\n",
    "  AND DAY(first_vote_date) <> 1;\n",
    "```"
   ]
  },
  {
   "cell_type": "markdown",
   "metadata": {},
   "source": [
    "# Generating descriptive date parts"
   ]
  },
  {
   "cell_type": "markdown",
   "metadata": {},
   "source": [
    "`DATENAME()` is an interesting and easy to use function. When you create reports, for example, you may want to show parts of a date in a more understandable manner (i.e. January instead of 1). This is when the `DATENAME()` function proves its value. This function will return a string value with a description of the date part you are interested in.\n",
    "\n",
    "In this exercise, you will become familiar with `DATENAME()`, by using it to retrieve different date parts. You will work with the `first_vote_date` column from the `voters` table."
   ]
  },
  {
   "cell_type": "markdown",
   "metadata": {},
   "source": [
    "```\n",
    "SELECT \n",
    "\tfirst_name,\n",
    "\tlast_name,\n",
    "\tfirst_vote_date,\n",
    "    -- Select the name of the month of the first vote\n",
    "\tDATENAME(M, first_vote_date) AS first_vote_month\n",
    "FROM voters;\n",
    "```"
   ]
  },
  {
   "cell_type": "markdown",
   "metadata": {},
   "source": [
    "```\n",
    "SELECT \n",
    "\tfirst_name,\n",
    "\tlast_name,\n",
    "\tfirst_vote_date,\n",
    "    -- Select the number of the day within the year\n",
    "\tDATENAME(DAYOFYEAR, first_vote_date) AS first_vote_dayofyear\n",
    "FROM voters;\n",
    "\n",
    "```"
   ]
  },
  {
   "cell_type": "markdown",
   "metadata": {},
   "source": [
    "```\n",
    "SELECT \n",
    "\tfirst_name,\n",
    "\tlast_name,\n",
    "\tfirst_vote_date,\n",
    "    -- Select day of the week from the first vote date\n",
    "\tDATENAME(WEEKDAY, first_vote_date) AS first_vote_dayofweek\n",
    "FROM voters;\n",
    "```"
   ]
  },
  {
   "cell_type": "markdown",
   "metadata": {},
   "source": [
    "# Presenting parts of a date"
   ]
  },
  {
   "cell_type": "markdown",
   "metadata": {},
   "source": [
    "`DATENAME()` and `DATEPART()` are two similar functions. The difference between them is that while the former understandably shows some date parts, as strings of characters, the latter returns only integer values.\n",
    "\n",
    "In this exercise, you will use both of these functions to select the month and weekday of the `first_vote_date` in different forms."
   ]
  },
  {
   "cell_type": "markdown",
   "metadata": {},
   "source": [
    "```\n",
    "SELECT \n",
    "\tfirst_name,\n",
    "\tlast_name,\n",
    "   \t-- Extract the month number of the first vote\n",
    "\tDATEPART(MONTH,first_vote_date) AS first_vote_month1,\n",
    "\t-- Extract the month name of the first vote\n",
    "    DATENAME(MONTH,first_vote_date) AS first_vote_month2,\n",
    "\t-- Extract the weekday number of the first vote\n",
    "\tDATEPART(WEEKDAY,first_vote_date) AS first_vote_weekday1,\n",
    "    -- Extract the weekday name of the first vote\n",
    "\tDATENAME(WEEKDAY,first_vote_date) AS first_vote_weekday2\n",
    "FROM voters;\n",
    "```"
   ]
  },
  {
   "cell_type": "markdown",
   "metadata": {},
   "source": [
    "# Creating a date from parts"
   ]
  },
  {
   "cell_type": "markdown",
   "metadata": {},
   "source": [
    "While most functions you worked with so far extract parts from a date, `DATEFROMPARTS()` does exactly the opposite: it creates a date from three numbers, representing the year, month and the day.\n",
    "\n",
    "The syntax is: `DATEFROMPARTS(year, month, day)`\n",
    "\n",
    "You can also use expressions that return numeric values as parameters for this function, like this: `DATEFROMPARTS(YEAR(date_expression), MONTH(date_expression), 2)`\n",
    "\n",
    "In this exercise, you will select information from the `voters` table, including the year and the month of the `first_vote_date`. Then, you will create a new date column representing the first day in the month of the first vote."
   ]
  },
  {
   "cell_type": "markdown",
   "metadata": {},
   "source": [
    "```\n",
    "SELECT \n",
    "\tfirst_name,\n",
    "\tlast_name,\n",
    "    -- Select the year of the first vote\n",
    "   \tYEAR(first_vote_date) AS first_vote_year, \n",
    "    -- Select the month of the first vote\n",
    "\tMONTH(first_vote_date) AS first_vote_month,\n",
    "    -- Create a date as the start of the month of the first vote\n",
    "\tDATEFROMPARTS(YEAR(first_vote_date), MONTH(first_vote_date), 1) AS first_vote_starting_month\n",
    "FROM voters;\n",
    "```"
   ]
  },
  {
   "cell_type": "markdown",
   "metadata": {},
   "source": [
    "# Arithmetic operations with dates"
   ]
  },
  {
   "cell_type": "markdown",
   "metadata": {},
   "source": [
    "In this exercise, you will perform arithmetic operations on dates in two different ways: using the arithmetic operators (\"+\" and \"-\") and also using the `DATEDIFF()` function. You will use these variables:\n",
    "```\n",
    "DECLARE @date1 datetime = '2018-12-01';\n",
    "DECLARE @date2 datetime = '2030-03-03';\n",
    "```\n",
    "Create a `SELECT` statement, in which to perform the following operations:\n",
    "\n",
    "- Subtract `@date1` from` @date2`.\n",
    "- Add `@date1 `to `@date2`.\n",
    "- Using `DATEDIFF()`, calculate the difference in years between the results of the subtraction and the addition above.\n",
    "\n",
    "What is the result returned by the `DATEDIFF()` function?"
   ]
  },
  {
   "cell_type": "markdown",
   "metadata": {},
   "source": [
    "```\n",
    "DECLARE @date1 datetime = '2018-12-01';\n",
    "DECLARE @date2 datetime = '2030-03-03';\n",
    "\n",
    "SELECT DATEDIFF(YEAR,@date2 - @date1, @date2+@date1);\n",
    "```\n",
    "- 238"
   ]
  },
  {
   "cell_type": "markdown",
   "metadata": {},
   "source": [
    "# Modifying the value of a date"
   ]
  },
  {
   "cell_type": "markdown",
   "metadata": {},
   "source": [
    "Adding different date parts to a date expression proves to be useful in many scenarios. You can calculate, for example:\n",
    "\n",
    "- The delivery date of an order, by adding 3 days to the order date\n",
    "- The dates when a bonus is received, knowing that they are received every 3 months, starting with a certain date.\n",
    "In SQL Server, you can use `DATEADD()` for adding date parts to a date. In this exercise, you will get familiar with this function."
   ]
  },
  {
   "cell_type": "markdown",
   "metadata": {},
   "source": [
    "```\n",
    "SELECT \n",
    "\tfirst_name,\n",
    "\tbirthdate,\n",
    "    -- Add 18 years to the birthdate\n",
    "\tDATEADD(YEAR, 18, birthdate) AS eighteenth_birthday\n",
    "  FROM voters;\n",
    "\n",
    "SELECT \n",
    "\tfirst_name,\n",
    "\tfirst_vote_date,\n",
    "    -- Add 5 days to the first voting date\n",
    "\tDATEADD(DAY,5,first_vote_date) AS processing_vote_date\n",
    "  FROM voters;\n",
    "\n",
    "  SELECT\n",
    "\t-- Subtract 476 days from the current date\n",
    "\tDATEDIFF(DAY,476,CURRENT_TIMESTAMP) AS date_476days_ago;\n",
    "```"
   ]
  },
  {
   "cell_type": "markdown",
   "metadata": {},
   "source": [
    "# Calculating the difference between dates"
   ]
  },
  {
   "cell_type": "markdown",
   "metadata": {},
   "source": [
    "`DATEDIFF()` is one of the most commonly-known functions for manipulating dates. It is used for retrieving the number of time units between two dates. This function is useful for calculating, for example:\n",
    "\n",
    "How many years have passed since a specific event.\n",
    "The age of a person at a point in time.\n",
    "How many minutes it takes to process an order in a restaurant.\n",
    "In almost all business scenarios you can find an example for which using this function proves to be useful.\n",
    "\n",
    "In this exercise, you will use `DATEDIFF()` to perform calculations with the dates stored in the `voters` table."
   ]
  },
  {
   "cell_type": "markdown",
   "metadata": {},
   "source": [
    "```\n",
    "SELECT\n",
    "\tfirst_name,\n",
    "\tbirthdate,\n",
    "\tfirst_vote_date,\n",
    "    -- Select the diff between the 18th birthday and first vote\n",
    "\tDATEDIFF(YEAR, DATEADD(YEAR, 18, birthdate), first_vote_date) AS adult_years_until_vote\n",
    "FROM voters;\n",
    "\n",
    "SELECT \n",
    "\t-- Get the difference in weeks from 2019-01-01 until now\n",
    "\tDATEDIFF(WEEK, '2019-01-01', CURRENT_TIMESTAMP) AS weeks_passed;\n",
    "```"
   ]
  },
  {
   "cell_type": "markdown",
   "metadata": {},
   "source": [
    "# Changing the date format"
   ]
  },
  {
   "cell_type": "markdown",
   "metadata": {},
   "source": [
    "Remember that SQL Server can interpret character strings that look like dates in a different way than you would expect. Depending on your settings, the string `\"29-04-2019\"` could be interpreted as the 29th of April, or an error can be thrown that the conversion to a date was not possible. In the first situation, SQL Server expects a day-month-year format, while in the second, it probably expects a month-day-year and the 29th month does not exist.\n",
    "\n",
    "In this exercise, you will instruct SQL Server what kind of date format you want to use."
   ]
  },
  {
   "cell_type": "markdown",
   "metadata": {},
   "source": [
    "```\n",
    "DECLARE @date1 NVARCHAR(20) = '2018-30-12';\n",
    "\n",
    "-- Set the date format and check if the variable is a date\n",
    "SET DATEFORMAT ydm;\n",
    "SELECT ISDATE(@date1) AS result;\n",
    "```"
   ]
  },
  {
   "cell_type": "markdown",
   "metadata": {},
   "source": [
    "```\n",
    "DECLARE @date1 NVARCHAR(20) = '15/2019/4';\n",
    "\n",
    "-- Set the date format and check if the variable is a date\n",
    "SET DATEFORMAT dym;\n",
    "SELECT ISDATE(@date1) AS result;\n",
    "```"
   ]
  },
  {
   "cell_type": "markdown",
   "metadata": {},
   "source": [
    "```\n",
    "DECLARE @date1 NVARCHAR(20) = '10.13.2019';\n",
    "\n",
    "-- Set the date format and check if the variable is a date\n",
    "SET DATEFORMAT mdy;\n",
    "SELECT ISDATE(@date1) AS result;\n",
    "```"
   ]
  },
  {
   "cell_type": "markdown",
   "metadata": {},
   "source": [
    "```\n",
    "DECLARE @date1 NVARCHAR(20) = '18.4.2019';\n",
    "\n",
    "-- Set the date format and check if the variable is a date\n",
    "SET DATEFORMAT dmy;\n",
    "SELECT ISDATE(@date1) AS result;\n",
    "```"
   ]
  },
  {
   "cell_type": "markdown",
   "metadata": {},
   "source": [
    "# Changing the default language"
   ]
  },
  {
   "cell_type": "markdown",
   "metadata": {},
   "source": [
    "The language set in SQL Server can influence the way character strings are interpreted as dates. Changing the language automatically updates the date format. In this exercise, you will analyze the impact of the `SET LANGUAGE` command on some practical examples. You will select between the English, Croatian, and Dutch language, taking into account that they use the following formats:\n",
    "```\n",
    "Language    Date format\n",
    "English     mdy\n",
    "Croatian    ymd\n",
    "Dutch       dmy\n",
    "```"
   ]
  },
  {
   "cell_type": "markdown",
   "metadata": {},
   "source": [
    "```\n",
    "DECLARE @date1 NVARCHAR(20) = '30.03.2019';\n",
    "\n",
    "-- Set the correct language\n",
    "SET LANGUAGE Dutch;\n",
    "SELECT\n",
    "\t@date1 AS initial_date,\n",
    "    -- Check that the date is valid\n",
    "\tISDATE(@date1) AS is_valid,\n",
    "    -- Select the name of the month\n",
    "\tDATENAME(MONTH,@date1) AS month_name;\n",
    "```"
   ]
  },
  {
   "cell_type": "markdown",
   "metadata": {},
   "source": [
    "```\n",
    "DECLARE @date1 NVARCHAR(20) = '32/12/13';\n",
    "\n",
    "-- Set the correct language\n",
    "SET LANGUAGE Croatian;\n",
    "SELECT\n",
    "\t@date1 AS initial_date,\n",
    "    -- Check that the date is valid\n",
    "\tISDATE(@date1) AS is_valid,\n",
    "    -- Select the name of the month\n",
    "\tDATENAME(MONTH, @date1) AS month_name,\n",
    "\t-- Extract the year from the date\n",
    "\tYEAR(@date1) AS year_name;\n",
    "```"
   ]
  },
  {
   "cell_type": "markdown",
   "metadata": {},
   "source": [
    "```\n",
    "DECLARE @date1 NVARCHAR(20) = '12/18/55';\n",
    "\n",
    "-- Set the correct language\n",
    "SET LANGUAGE English;\n",
    "SELECT\n",
    "\t@date1 AS initial_date,\n",
    "    -- Check that the date is valid\n",
    "\tISDATE(@date1) AS is_valid,\n",
    "    -- Select the week day name\n",
    "\tDATENAME(WEEKDAY,@date1 ) AS week_day,\n",
    "\t-- Extract the year from the date\n",
    "\tYEAR(@date1) AS year_name;\n",
    "```"
   ]
  },
  {
   "cell_type": "markdown",
   "metadata": {},
   "source": [
    "# Correctly applying different date functions"
   ]
  },
  {
   "cell_type": "markdown",
   "metadata": {},
   "source": [
    "It's time to combine your knowledge on date functions!\n",
    "\n",
    "In this exercise, you are going to extract information about each voter and the first time they voted. In the `voters` table, the date of the first vote is stored in the `first_vote_date` column.\n",
    "\n",
    "You will use several date functions, like: `DATENAME()`, `DATEDIFF()`, `YEAR()`, `GETDATE()`."
   ]
  },
  {
   "cell_type": "markdown",
   "metadata": {},
   "source": [
    "```\n",
    "SELECT\n",
    "\tfirst_name,\n",
    "    last_name,\n",
    "    birthdate,\n",
    "\tfirst_vote_date,\n",
    "\t-- Find out on which day of the week each participant voted \n",
    "\tDATENAME(weekday, first_vote_date) AS first_vote_weekday,\n",
    "\t-- Find out the year of the first vote\n",
    "\tYEAR(first_vote_date) AS first_vote_year,\n",
    "\t-- Discover the participants' age when they joined the contest\n",
    "\tDATEDIFF(YEAR, birthdate, first_vote_date) AS age_at_first_vote,\t\n",
    "\t-- Calculate the current age of each voter\n",
    "\tDATEDIFF(YEAR, birthdate, CURRENT_TIMESTAMP) AS current_age\n",
    "FROM voters;\n",
    "```"
   ]
  }
 ],
 "metadata": {
  "kernelspec": {
   "display_name": "Python 3.8.11 ('env_py')",
   "language": "python",
   "name": "python3"
  },
  "language_info": {
   "name": "python",
   "version": "3.8.11"
  },
  "orig_nbformat": 4,
  "vscode": {
   "interpreter": {
    "hash": "1e949e87132dd83f1a7623eb88007e3532b03b66b77111be347aa4a383049722"
   }
  }
 },
 "nbformat": 4,
 "nbformat_minor": 2
}

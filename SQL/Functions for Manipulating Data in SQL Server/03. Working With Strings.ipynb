{
 "cells": [
  {
   "cell_type": "markdown",
   "metadata": {},
   "source": [
    "# Calculating the length of a string"
   ]
  },
  {
   "cell_type": "markdown",
   "metadata": {},
   "source": [
    "It is important to know how to calculate the length of the strings stored in a database. You may need to calculate the product with the shortest name or the person with the longest email address.\n",
    "\n",
    "Calculating the length of a string also proves to be useful in data cleansing and validation tasks. For example, if a business rule is that all product codes must have at least 6 characters, you can easily find the ones that are shorter.\n",
    "\n",
    "In SQL Server, you can use the `LEN()` function for calculating the length of a string of characters.\n",
    "\n",
    "You will use it in this exercise to calculate the location with the longest name from where cocoa beans are used (column `broad_bean_origin`, from the `ratings` table)."
   ]
  },
  {
   "cell_type": "markdown",
   "metadata": {},
   "source": [
    "```\n",
    "SELECT TOP 10 \n",
    "\tcompany, \n",
    "\tbroad_bean_origin,\n",
    "\t-- Calculate the length of the broad_bean_origin column\n",
    "\tLEN(broad_bean_origin) AS length\n",
    "FROM ratings\n",
    "--Order the results based on the new column, descending\n",
    "ORDER BY length DESC;\n",
    "```"
   ]
  },
  {
   "cell_type": "markdown",
   "metadata": {},
   "source": [
    "# Looking for a string within a string"
   ]
  },
  {
   "cell_type": "markdown",
   "metadata": {},
   "source": [
    "If you need to check whether an expression exists within a string, you can use the `CHARINDEX()` function. This function returns the position of the expression you are searching within the string.\n",
    "\n",
    "The syntax is: `CHARINDEX(expression_to_find, expression_to_search [, start_location])`\n",
    "\n",
    "In this exercise, you are going to use the `voters` table to search for information about the voters whose names meet several conditions."
   ]
  },
  {
   "cell_type": "markdown",
   "metadata": {},
   "source": [
    "```\n",
    "SELECT \n",
    "\tfirst_name,\n",
    "\tlast_name,\n",
    "\temail \n",
    "FROM voters\n",
    "-- Look for the \"dan\" expression in the first_name\n",
    "WHERE CHARINDEX('dan', first_name) > 0 \n",
    "    -- Look for last_names that do not contain the letter \"z\"\n",
    "\tAND CHARINDEX('z', last_name) = 0;\n",
    "```"
   ]
  },
  {
   "cell_type": "markdown",
   "metadata": {},
   "source": [
    "# Looking for a pattern within a string"
   ]
  },
  {
   "cell_type": "markdown",
   "metadata": {},
   "source": [
    "If you want to search for a pattern in a string, `PATINDEX()` is the function you are looking for. This function returns the starting position of the first occurrence of the pattern within the string.\n",
    "\n",
    "The syntax is: `PATINDEX('%pattern%', expression)`\n",
    "```\n",
    "pattern\tmatch\n",
    "%\tany string of zero or more characters\n",
    "_\tany single character\n",
    "[]\tany single character within the range specified in brackets\n",
    "```\n",
    "In this exercise, you are going to use the `voters` table to look at information about the voters whose names follow a specified pattern."
   ]
  },
  {
   "cell_type": "markdown",
   "metadata": {},
   "source": [
    "```\n",
    "SELECT \n",
    "\tfirst_name,\n",
    "\tlast_name,\n",
    "\temail \n",
    "FROM voters\n",
    "-- Look for first names that contain \"rr\" in the middle\n",
    "WHERE PATINDEX('%rr%',first_name) >0;\n",
    "```"
   ]
  },
  {
   "cell_type": "markdown",
   "metadata": {},
   "source": [
    "```\n",
    "SELECT \n",
    "\tfirst_name,\n",
    "\tlast_name,\n",
    "\temail \n",
    "FROM voters\n",
    "-- Look for first names that start with C and the 3rd letter is r\n",
    "WHERE PATINDEX('C_r%', first_name) > 0;\n",
    "```"
   ]
  },
  {
   "cell_type": "markdown",
   "metadata": {},
   "source": [
    "```\n",
    "SELECT \n",
    "\tfirst_name,\n",
    "\tlast_name,\n",
    "\temail \n",
    "FROM voters\n",
    "-- Look for first names that have an \"a\" followed by 0 or more letters and then have a \"w\"\n",
    "WHERE PATINDEX('%a%w%', first_name)>0;\n",
    "```"
   ]
  },
  {
   "cell_type": "markdown",
   "metadata": {},
   "source": [
    "```\n",
    "SELECT \n",
    "\tfirst_name,\n",
    "\tlast_name,\n",
    "\temail \n",
    "FROM voters\n",
    "-- Look for first names that contain one of the letters: \"x\", \"w\", \"q\"\n",
    "WHERE PATINDEX('%[xwq]%', first_name) > 0;\n",
    "```"
   ]
  },
  {
   "cell_type": "markdown",
   "metadata": {},
   "source": [
    "# Changing to lowercase and uppercase"
   ]
  },
  {
   "cell_type": "markdown",
   "metadata": {},
   "source": [
    "Most of the time, you can't make changes directly to the data from the database to make it look more user-friendly. However, when you query the data, you can control the aspect of the results, and you can make them easier to read.\n",
    "\n",
    "Working with functions that manipulate string values is easy and gives great results. In this exercise, you will see how easy it is to work with the functions that transform the characters from a string to lowercase or uppercase. The purpose is to create a message mentioning the types of cocoa beans used by each company and their country of origin: `The company BONNAT uses beans of type \"Criollo\", originating from VENEZUELA` ."
   ]
  },
  {
   "cell_type": "markdown",
   "metadata": {},
   "source": [
    "```\n",
    "SELECT \n",
    "\tcompany,\n",
    "\tbean_type,\n",
    "\tbroad_bean_origin,\n",
    "    -- 'company' and 'broad_bean_origin' should be in uppercase\n",
    "\t'The company ' +  UPPER(company) + ' uses beans of type \"' + bean_type + '\", originating from ' + UPPER(broad_bean_origin) + '.'\n",
    "FROM ratings\n",
    "WHERE \n",
    "    -- The 'broad_bean_origin' should not be unknown\n",
    "\tLOWER(broad_bean_origin) NOT LIKE '%unknown%'\n",
    "     -- The 'bean_type' should not be unknown\n",
    "    AND LOWER(bean_type) NOT LIKE '%unknown%';\n",
    "```"
   ]
  },
  {
   "cell_type": "markdown",
   "metadata": {},
   "source": [
    "# Using the beginning or end of a string"
   ]
  },
  {
   "cell_type": "markdown",
   "metadata": {},
   "source": [
    "Sometimes you may need to take only certain parts of a string. If you know that those parts can be found at the beginning or the end of the string, remember that there are built-in functions that can help you with this task.\n",
    "\n",
    "You will use these functions in this exercise. The purpose is to create an alias for each voter from the `voters` table, as a combination of the first 3 letters from the first name, the last 3 letters from the last name, and the last 2 digits from the birthday."
   ]
  },
  {
   "cell_type": "markdown",
   "metadata": {},
   "source": [
    "```\n",
    "SELECT \n",
    "\tfirst_name,\n",
    "\tlast_name,\n",
    "\tcountry,\n",
    "    -- Select only the first 3 characters from the first name\n",
    "\tLEFT(first_name, 3) AS part1,\n",
    "    -- Select only the last 3 characters from the last name\n",
    "    RIGHT(last_name, 3) AS part2,\n",
    "    -- Select only the last 2 digits from the birth date\n",
    "    RIGHT(birthdate, 2) AS part3,\n",
    "    -- Create the alias for each voter\n",
    "    LEFT(first_name, 3) + RIGHT(last_name, 3) + '_' + RIGHT(birthdate, 2) \n",
    "FROM voters;\n",
    "```"
   ]
  },
  {
   "cell_type": "markdown",
   "metadata": {},
   "source": [
    "# Extracting a substring"
   ]
  },
  {
   "cell_type": "markdown",
   "metadata": {},
   "source": [
    "In this exercise, you will extract parts of a string. You will work with data from the `voters` table.\n",
    "\n",
    "There is a built-in function that can help you with this task. The parameters required by this function are:\n",
    "\n",
    "- the expression from which the substring is extracted;\n",
    "- the starting position of the substring\n",
    "- and its length.\n",
    "\n",
    "Keep in mind that the position of the first character in a string is 1, not 0. This will help you to correctly calculate the starting position of the substring."
   ]
  },
  {
   "cell_type": "markdown",
   "metadata": {},
   "source": [
    "```\n",
    "SELECT \n",
    "\temail,\n",
    "    -- Extract 5 characters from email, starting at position 3\n",
    "\tSUBSTRING(email,3,5) AS some_letters\n",
    "FROM voters;\n",
    "```"
   ]
  },
  {
   "cell_type": "markdown",
   "metadata": {},
   "source": [
    "```\n",
    "DECLARE @sentence NVARCHAR(200) = 'Apples are neither oranges nor potatoes.'\n",
    "SELECT\n",
    "\t-- Extract the word \"Apples\" \n",
    "\tSUBSTRING(@sentence, 1, LEN('Apples')) AS fruit1,\n",
    "    -- Extract the word \"oranges\"\n",
    "\tSUBSTRING(@sentence, 20, LEN('oranges')) AS fruit2;\n",
    "```"
   ]
  },
  {
   "cell_type": "markdown",
   "metadata": {},
   "source": [
    "# Replacing parts of a string"
   ]
  },
  {
   "cell_type": "markdown",
   "metadata": {},
   "source": [
    "Sometimes, you need to replace characters from a string with something else.\n",
    "\n",
    "For example, if a name was inserted in a table with an extra character, you may want to fix the mistake.\n",
    "\n",
    "If a company was acquired and changed its name, you need to replace the old company name with the new name in all documents stored in the database.\n",
    "\n",
    "In this exercise, you will use a built-in function that replaces a part of a string with something else. For using the function correctly, you need to supply the following parameters:\n",
    "\n",
    "- the expression\n",
    "- the string to be found\n",
    "- the replacement string."
   ]
  },
  {
   "cell_type": "markdown",
   "metadata": {},
   "source": [
    "```\n",
    "SELECT \n",
    "\tfirst_name,\n",
    "\tlast_name,\n",
    "\temail,\n",
    "\t-- Replace \"yahoo.com\" with \"live.com\"\n",
    "\tREPLACE(email,'yahoo.com', 'live.com' ) AS new_email\n",
    "FROM voters;\n",
    "```"
   ]
  },
  {
   "cell_type": "markdown",
   "metadata": {},
   "source": [
    "```\n",
    "SELECT \n",
    "\tcompany AS initial_name,\n",
    "    -- Replace '&' with 'and'\n",
    "\tREPLACE(company,'&', 'and') AS new_name \n",
    "FROM ratings\n",
    "WHERE CHARINDEX('&', company) > 0;\n",
    "```"
   ]
  },
  {
   "cell_type": "markdown",
   "metadata": {},
   "source": [
    "```\n",
    "SELECT \n",
    "\tcompany AS old_company,\n",
    "    -- Remove the text '(Valrhona)' from the name\n",
    "\tREPLACE(company,'(Valrhona)','') AS new_company,\n",
    "\tbean_type,\n",
    "\tbroad_bean_origin\n",
    "FROM ratings\n",
    "WHERE company = 'La Maison du Chocolat (Valrhona)';\n",
    "```"
   ]
  },
  {
   "cell_type": "markdown",
   "metadata": {},
   "source": [
    "# Concatenating data"
   ]
  },
  {
   "cell_type": "markdown",
   "metadata": {},
   "source": [
    "Assembling a string from parts is done quite often in SQL Server. You may need to put together information from different columns and send the result as a whole to different applications. In this exercise, you will get familiar with the different options for concatenating data.\n",
    "\n",
    "You will create a message similar to this one: \"Chocolate with beans from Belize has a cocoa percentage of 0.6400\".\n",
    "\n",
    "The sentence is created by concatenating two string variables with data from the columns `bean_origin` and `cocoa_percent`, from the `ratings` table.\n",
    "\n",
    "For restricting the number of results, the query will select only values for the company called \"Ambrosia\" and `bean_type` is not unknown."
   ]
  },
  {
   "cell_type": "markdown",
   "metadata": {},
   "source": [
    "```\n",
    "DECLARE @string1 NVARCHAR(100) = 'Chocolate with beans from';\n",
    "DECLARE @string2 NVARCHAR(100) = 'has a cocoa percentage of';\n",
    "\n",
    "SELECT \n",
    "\tbean_type,\n",
    "\tbean_origin,\n",
    "\tcocoa_percent,\n",
    "\t-- Create a message by concatenating values with \"+\"\n",
    "\t@string1 + ' ' + bean_origin + ' ' + @string2 + ' ' + CAST(cocoa_percent AS nvarchar) AS message1,\n",
    "\t-- Create a message by concatenating values with \"CONCAT()\"\n",
    "\tCONCAT(@string1, ' ', bean_origin, ' ', @string2, ' ', cocoa_percent) AS message2,\n",
    "\t-- Create a message by concatenating values with \"CONCAT_WS()\"\n",
    "\tCONCAT_WS(' ', @string1, bean_origin, @string2, cocoa_percent) AS message3\n",
    "FROM ratings\n",
    "WHERE \n",
    "\tcompany = 'Ambrosia' \n",
    "\tAND bean_type <> 'Unknown';\n",
    "```"
   ]
  },
  {
   "cell_type": "markdown",
   "metadata": {},
   "source": [
    "# Aggregating strings"
   ]
  },
  {
   "cell_type": "markdown",
   "metadata": {},
   "source": [
    "Usually, when we talk about concatenation, we mean putting together values from different columns. A common challenge for database developers is also to concatenate values from multiple rows. This was a task that required writing many lines of code and each developer had a personal implementation.\n",
    "\n",
    "You can now achieve the same results using the `STRING_AGG()` function.\n",
    "\n",
    "The syntax is: `STRING_AGG(expression, separator) [WITHIN GROUP (ORDER BY expression)]`\n",
    "\n",
    "In this exercise, you will create a list with the origins of the beans for each of the following companies: 'Bar Au Chocolat', 'Chocolate Con Amor', 'East Van Roasters'.\n",
    "\n",
    "Remember, for `STRING_AGG()` to work, you need to find a rule for grouping your data and use it in the `GROUP BY` clause."
   ]
  },
  {
   "cell_type": "markdown",
   "metadata": {},
   "source": [
    "```\n",
    "SELECT \n",
    "\tcompany,\n",
    "    -- Create a list with all bean origins ordered alphabetically\n",
    "\tSTRING_AGG(bean_origin, ',') WITHIN GROUP (ORDER BY bean_origin) AS bean_origins\n",
    "FROM ratings\n",
    "WHERE company IN ('Bar Au Chocolat', 'Chocolate Con Amor', 'East Van Roasters')\n",
    "-- Specify the columns used for grouping your data\n",
    "GROUP BY company;\n",
    "```"
   ]
  },
  {
   "cell_type": "markdown",
   "metadata": {},
   "source": [
    "# Splitting a string into pieces"
   ]
  },
  {
   "cell_type": "markdown",
   "metadata": {},
   "source": [
    "Besides concatenating multiple row values, a common task is to split a string into pieces.\n",
    "\n",
    "Starting with SQL Server 2016, there is a built-in function for achieving this task: `STRING_SPLIT(string, separator)`.\n",
    "\n",
    "This function splits the string into substrings based on the separator and returns a table, each row containing a part of the original string.\n",
    "\n",
    "Remember: because the result of the function is a table, it cannot be used as a column in the `SELECT` clause; you can only use it in the `FROM` clause, just like a normal table.\n",
    "\n",
    "In this exercise, you will get familiar with this function."
   ]
  },
  {
   "cell_type": "markdown",
   "metadata": {},
   "source": [
    "```\n",
    "DECLARE @phrase NVARCHAR(MAX) = 'In the morning I brush my teeth. In the afternoon I take a nap. In the evening I watch TV.'\n",
    "\n",
    "SELECT value\n",
    "FROM STRING_SPLIT(@phrase,' ');\n",
    "```"
   ]
  },
  {
   "cell_type": "markdown",
   "metadata": {},
   "source": [
    "# Applying various string functions on data"
   ]
  },
  {
   "cell_type": "markdown",
   "metadata": {},
   "source": [
    "As you may have noticed, string functions are really useful for manipulating data. SQL Server offers a lot of built-in functions for string manipulation and some of them are quite fun to use. In this exercise, you are going to apply several string functions to the data from the `voters` table, to show it in a more presentable manner.\n",
    "\n",
    "You will get the chance to use functions like: `LEN()`, `UPPER()`, `PATINDEX()`, `CONCAT()`, `REPLACE()` and` SUBSTRING()`.\n",
    "\n",
    "Remember: when searching for patterns within a string, these are the most helpful:\n",
    "```\n",
    "pattern\tmatch\n",
    "%\tany string of zero or more characters\n",
    "_\tany single character\n",
    "[]\tany single character within the range specified in brackets\n",
    "```"
   ]
  },
  {
   "cell_type": "markdown",
   "metadata": {},
   "source": [
    "```\n",
    "SELECT\n",
    "    -- Concatenate the first and last name\n",
    "\tCONCAT('***' , first_name, ' ', UPPER(last_name), '***') AS name,\n",
    "    -- Mask the last two digits of the year\n",
    "    REPLACE(birthdate, SUBSTRING(CAST(birthdate AS varchar), 3, 2), 'XX') AS birthdate,\n",
    "\temail,\n",
    "\tcountry\n",
    "FROM voters\n",
    "   -- Select only voters with a first name less than 5 characters\n",
    "WHERE LEN(first_name) < 5\n",
    "   -- Look for this pattern in the email address: \"j%[0-9]@yahoo.com\"\n",
    "\tAND PATINDEX('j_a%@yahoo.com', email) > 0;    \n",
    "```"
   ]
  }
 ],
 "metadata": {
  "kernelspec": {
   "display_name": "Python 3.8.11 ('env_py')",
   "language": "python",
   "name": "python3"
  },
  "language_info": {
   "name": "python",
   "version": "3.8.11"
  },
  "orig_nbformat": 4,
  "vscode": {
   "interpreter": {
    "hash": "1e949e87132dd83f1a7623eb88007e3532b03b66b77111be347aa4a383049722"
   }
  }
 },
 "nbformat": 4,
 "nbformat_minor": 2
}

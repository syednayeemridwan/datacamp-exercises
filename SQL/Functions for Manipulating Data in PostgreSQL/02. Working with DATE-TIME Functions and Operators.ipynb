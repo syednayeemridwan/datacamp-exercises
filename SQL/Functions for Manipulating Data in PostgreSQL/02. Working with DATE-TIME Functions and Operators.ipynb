{
 "cells": [
  {
   "cell_type": "markdown",
   "metadata": {},
   "source": [
    "# Adding and subtracting date and time values"
   ]
  },
  {
   "cell_type": "markdown",
   "metadata": {},
   "source": [
    "In this exercise, you will calculate the actual number of days rented as well as the true `expected_return_date` by using the `rental_duration` column from the film table along with the familiar `rental_date` from the `rental` table.\n",
    "\n",
    "This will require that you dust off the skills you learned from prior courses on how to join two or more tables together. To select columns from both the `film` and `rental` tables in a single query, we'll need to use the `inventory` table to join these two tables together since there is no explicit relationship between them. Let's give it a try!"
   ]
  },
  {
   "cell_type": "markdown",
   "metadata": {},
   "source": [
    "```\n",
    "SELECT f.title, f.rental_duration,\n",
    "    -- Calculate the number of days rented\n",
    "    r.return_date - r.rental_date AS days_rented\n",
    "FROM film AS f\n",
    "     INNER JOIN inventory AS i ON f.film_id = i.film_id\n",
    "     INNER JOIN rental AS r ON i.inventory_id = r.inventory_id\n",
    "ORDER BY f.title;\n",
    "```"
   ]
  },
  {
   "cell_type": "markdown",
   "metadata": {},
   "source": [
    "```\n",
    "SELECT f.title, f.rental_duration,\n",
    "    -- Calculate the number of days rented\n",
    "\tAGE(r.return_date, r.rental_date) AS days_rented\n",
    "FROM film AS f\n",
    "\tINNER JOIN inventory AS i ON f.film_id = i.film_id\n",
    "\tINNER JOIN rental AS r ON i.inventory_id = r.inventory_id\n",
    "ORDER BY f.title;\n",
    "```"
   ]
  },
  {
   "cell_type": "markdown",
   "metadata": {},
   "source": [
    "# INTERVAL arithmetic"
   ]
  },
  {
   "cell_type": "markdown",
   "metadata": {},
   "source": [
    "If you were running a real DVD Rental store, there would be times when you would need to determine what film titles were currently out for rental with customers. In the previous exercise, we saw that some of the records in the results had a `NULL` value for the `return_date`. This is because the rental was still outstanding.\n",
    "\n",
    "Each rental in the `film` table has an associated `rental_duration` column which represents the number of days that a DVD can be rented by a customer before it is considered late. In this example, you will exclude films that have a `NULL` value for the `return_date` and also convert the `rental_duration` to an `INTERVAL` type. Here's a reminder of one method for performing this conversion.\n",
    "\n",
    "`SELECT INTERVAL '1' day * timestamp '2019-04-10 12:34:56'`"
   ]
  },
  {
   "cell_type": "markdown",
   "metadata": {},
   "source": [
    "```\n",
    "SELECT\n",
    "\tf.title,\n",
    " \t-- Convert the rental_duration to an interval\n",
    "    INTERVAL '1' day * f.rental_duration,\n",
    " \t-- Calculate the days rented as we did previously\n",
    "    r.return_date - r.rental_date AS days_rented\n",
    "FROM film AS f\n",
    "    INNER JOIN inventory AS i ON f.film_id = i.film_id\n",
    "    INNER JOIN rental AS r ON i.inventory_id = r.inventory_id\n",
    "-- Filter the query to exclude outstanding rentals\n",
    "WHERE r.return_date IS NOT NULL\n",
    "ORDER BY f.title;\n",
    "```"
   ]
  },
  {
   "cell_type": "markdown",
   "metadata": {},
   "source": [
    "# Calculating the expected return date"
   ]
  },
  {
   "cell_type": "markdown",
   "metadata": {},
   "source": [
    "So now that you've practiced how to add and subtract timestamps and perform relative calculations using intervals, let's use those new skills to calculate the actual expected return date of a specific rental. As you've seen in previous exercises, the `rental_duration` is the number of days allowed for a rental before it's considered late. To calculate the `expected_return_date` you will want to use the `rental_duration` and add it to the `rental_date`."
   ]
  },
  {
   "cell_type": "markdown",
   "metadata": {},
   "source": [
    "```\n",
    "SELECT\n",
    "    f.title,\n",
    "\tr.rental_date,\n",
    "    f.rental_duration,\n",
    "    -- Add the rental duration to the rental date\n",
    "    INTERVAL '1' day * f.rental_duration + r.rental_date AS expected_return_date,\n",
    "    r.return_date\n",
    "FROM film AS f\n",
    "    INNER JOIN inventory AS i ON f.film_id = i.film_id\n",
    "    INNER JOIN rental AS r ON i.inventory_id = r.inventory_id\n",
    "ORDER BY f.title;\n",
    "```"
   ]
  },
  {
   "cell_type": "markdown",
   "metadata": {},
   "source": [
    "# Current timestamp functions"
   ]
  },
  {
   "cell_type": "markdown",
   "metadata": {},
   "source": [
    "Use the console to explore the `NOW()`, `CURRENT_TIMESTAMP`, `CURRENT_DATE` and `CURRENT_TIME` functions and their outputs to determine which of the following is NOT correct?"
   ]
  },
  {
   "cell_type": "markdown",
   "metadata": {},
   "source": [
    "- `CURRENT_TIMESTAMP` returns the current timestamp without timezone."
   ]
  },
  {
   "cell_type": "markdown",
   "metadata": {},
   "source": [
    "# Working with the current date and time"
   ]
  },
  {
   "cell_type": "markdown",
   "metadata": {},
   "source": [
    "Because the Sakila database is a bit dated and most of the date and time values are from 2005 or 2006, you are going to practice using the current date and time in our queries without using Sakila. You'll get back into working with this database in the next video and throughout the remainder of the course. For now, let's practice the techniques you learned about so far in this chapter to work with the current date and time.\n",
    "\n",
    "As you learned in the video, `NOW()` and `CURRENT_TIMESTAMP` can be used interchangeably."
   ]
  },
  {
   "cell_type": "markdown",
   "metadata": {},
   "source": [
    "```\n",
    "-- Select the current timestamp\n",
    "SELECT NOW();\n",
    "\n",
    "-- Select the current date\n",
    "SELECT CURRENT_DATE;\n",
    "\n",
    "--Select the current timestamp without a timezone\n",
    "SELECT CAST( NOW() AS timestamp )\n",
    "\n",
    "SELECT \n",
    "\t-- Select the current date\n",
    "\tCURRENT_DATE,\n",
    "    -- CAST the result of the NOW() function to a date\n",
    "    CAST( NOW() AS date )\n",
    "```"
   ]
  },
  {
   "cell_type": "markdown",
   "metadata": {},
   "source": [
    "# Manipulating the current date and time"
   ]
  },
  {
   "cell_type": "markdown",
   "metadata": {},
   "source": [
    "Most of the time when you work with the current date and time, you will want to transform, manipulate, or perform operations on the value in your queries. In this exercise, you will practice adding an `INTERVAL` to the current timestamp as well as perform some more advanced calculations.\n",
    "\n",
    "Let's practice retrieving the current timestamp. For this exercise, please use `CURRENT_TIMESTAMP` instead of the `NOW()` function and if you need to convert a date or time value to a timestamp data type, please use the PostgreSQL specific casting rather than the `CAST()` function."
   ]
  },
  {
   "cell_type": "markdown",
   "metadata": {},
   "source": [
    "```\n",
    "--Select the current timestamp without timezone\n",
    "SELECT CURRENT_TIMESTAMP::timestamp AS right_now;\n",
    "\n",
    "SELECT\n",
    "\tCURRENT_TIMESTAMP::timestamp AS right_now,\n",
    "    INTERVAL '5 days' + CURRENT_TIMESTAMP AS five_days_from_now;\n",
    "\n",
    "SELECT\n",
    "\tCURRENT_TIMESTAMP(2)::timestamp AS right_now,\n",
    "    interval '5 days' + CURRENT_TIMESTAMP(2) AS five_days_from_now;\n",
    "```"
   ]
  },
  {
   "cell_type": "markdown",
   "metadata": {},
   "source": [
    "# Using EXTRACT"
   ]
  },
  {
   "cell_type": "markdown",
   "metadata": {},
   "source": [
    "You can use `EXTRACT()` and `DATE_PART()` to easily create new fields in your queries by extracting sub-fields from a source timestamp field.\n",
    "\n",
    "Now suppose you want to produce a predictive model that will help forecast DVD rental activity by day of the week. You could use the `EXTRACT()` function with the `dow` field identifier in our query to create a new field called `dayofweek` as a sub-field of the `rental_date` column from the `rental` table.\n",
    "\n",
    "You can `COUNT()` the number of records in the rental table for a given date range and aggregate by the newly created `dayofweek` column."
   ]
  },
  {
   "cell_type": "markdown",
   "metadata": {},
   "source": [
    "```\n",
    "SELECT \n",
    "  -- Extract day of week from rental_date\n",
    "  EXTRACT(DOW FROM rental_date) AS dayofweek \n",
    "FROM rental \n",
    "LIMIT 100;\n",
    "```"
   ]
  },
  {
   "cell_type": "markdown",
   "metadata": {},
   "source": [
    "```\n",
    "-- Extract day of week from rental_date\n",
    "SELECT \n",
    "  EXTRACT(dow FROM rental_date) AS dayofweek, \n",
    "  -- Count the number of rentals\n",
    "  COUNT(*) as rentals \n",
    "FROM rental \n",
    "GROUP BY 1;\n",
    "```"
   ]
  },
  {
   "cell_type": "markdown",
   "metadata": {},
   "source": [
    "# Using DATE_TRUNC"
   ]
  },
  {
   "cell_type": "markdown",
   "metadata": {},
   "source": [
    "The `DATE_TRUNC()` function will truncate timestamp or interval data types to return a timestamp or interval at a specified precision. The precision values are a subset of the field identifiers that can be used with the `EXTRACT()` and `DATE_PART()` functions. `DATE_TRUNC()` will return an interval or timestamp rather than a number. For example\n",
    "\n",
    "`SELECT DATE_TRUNC('month', TIMESTAMP '2005-05-21 15:30:30');`\n",
    "\n",
    "Result: `2005-05-01 00;00:00`\n",
    "\n",
    "Now, let's experiment with different precisions and ultimately modify the queries from the previous exercises to aggregate rental activity."
   ]
  },
  {
   "cell_type": "markdown",
   "metadata": {},
   "source": [
    "```\n",
    "-- Truncate rental_date by year\n",
    "SELECT DATE_TRUNC('year', rental_date) AS rental_year\n",
    "FROM rental;\n",
    "\n",
    "-- Truncate rental_date by month\n",
    "SELECT DATE_TRUNC('month', rental_date) AS rental_month\n",
    "FROM rental;\n",
    "\n",
    "-- Truncate rental_date by day of the month \n",
    "SELECT DATE_TRUNC('day', rental_date) AS rental_day \n",
    "FROM rental;\n",
    "\n",
    "\n",
    "SELECT \n",
    "  DATE_TRUNC('day', rental_date) AS rental_day,\n",
    "  -- Count total number of rentals \n",
    "  COUNT(*) AS rentals \n",
    "FROM rental\n",
    "GROUP BY 1;\n",
    "```"
   ]
  },
  {
   "cell_type": "markdown",
   "metadata": {},
   "source": [
    "# Putting it all together"
   ]
  },
  {
   "cell_type": "markdown",
   "metadata": {},
   "source": [
    "Many of the techniques you've learned in this course will be useful when building queries to extract data for model training. Now let's use some date/time functions to extract and manipulate some DVD rentals data from our fictional DVD rental store.\n",
    "\n",
    "In this exercise, you are going to extract a list of customers and their rental history over 90 days. You will be using the `EXTRACT()`, `DATE_TRUNC()`, and `AGE()` functions that you learned about during this chapter along with some general SQL skills from the prerequisites to extract a data set that could be used to determine what day of the week customers are most likely to rent a DVD and the likelihood that they will return the DVD late."
   ]
  },
  {
   "cell_type": "markdown",
   "metadata": {},
   "source": [
    "```\n",
    "SELECT \n",
    "  -- Extract the day of week date part from the rental_date\n",
    "  EXTRACT(dow FROM rental_date) AS dayofweek,\n",
    "  AGE(return_date, rental_date) AS rental_days\n",
    "FROM rental AS r \n",
    "WHERE \n",
    "  -- Use an INTERVAL for the upper bound of the rental_date \n",
    "  rental_date BETWEEN CAST('2005-05-01' AS timestamp)\n",
    "   AND CAST('2005-05-01' AS timestamp) + INTERVAL '90 day';\n",
    "```"
   ]
  },
  {
   "cell_type": "markdown",
   "metadata": {},
   "source": [
    "```\n",
    "SELECT \n",
    "  c.first_name || ' ' || c.last_name AS customer_name,\n",
    "  f.title,\n",
    "  r.rental_date,\n",
    "  -- Extract the day of week date part from the rental_date\n",
    "  EXTRACT(dow FROM r.rental_date) AS dayofweek,\n",
    "  AGE(r.return_date, r.rental_date) AS rental_days,\n",
    "  -- Use DATE_TRUNC to get days from the AGE function\n",
    "  CASE WHEN DATE_TRUNC('day', AGE(r.return_date, r.rental_date)) > \n",
    "  -- Calculate number of d\n",
    "    f.rental_duration * INTERVAL '1' day \n",
    "  THEN TRUE \n",
    "  ELSE FALSE END AS past_due \n",
    "FROM \n",
    "  film AS f \n",
    "  INNER JOIN inventory AS i \n",
    "  \tON f.film_id = i.film_id \n",
    "  INNER JOIN rental AS r \n",
    "  \tON i.inventory_id = r.inventory_id \n",
    "  INNER JOIN customer AS c \n",
    "  \tON c.customer_id = r.customer_id \n",
    "WHERE \n",
    "  -- Use an INTERVAL for the upper bound of the rental_date \n",
    "  r.rental_date BETWEEN CAST('2005-05-01' AS DATE) \n",
    "  AND CAST('2005-05-01' AS DATE) + INTERVAL '90 day';\n",
    "```"
   ]
  }
 ],
 "metadata": {
  "kernelspec": {
   "display_name": "Python 3.8.11 ('env_py')",
   "language": "python",
   "name": "python3"
  },
  "language_info": {
   "name": "python",
   "version": "3.8.11"
  },
  "orig_nbformat": 4,
  "vscode": {
   "interpreter": {
    "hash": "1e949e87132dd83f1a7623eb88007e3532b03b66b77111be347aa4a383049722"
   }
  }
 },
 "nbformat": 4,
 "nbformat_minor": 2
}

{
 "cells": [
  {
   "cell_type": "markdown",
   "metadata": {},
   "source": [
    "# Text data types"
   ]
  },
  {
   "cell_type": "markdown",
   "metadata": {},
   "source": [
    "Which of the following is not a valid text data type in PostgreSQL?"
   ]
  },
  {
   "cell_type": "markdown",
   "metadata": {},
   "source": [
    "- `STRING`"
   ]
  },
  {
   "cell_type": "markdown",
   "metadata": {},
   "source": [
    "# Getting information about your database"
   ]
  },
  {
   "cell_type": "markdown",
   "metadata": {},
   "source": [
    "As we saw in the video, PostgreSQL has a system database called `INFORMATION_SCHEMA` that allows us to extract information about objects, including tables, in our database.\n",
    "\n",
    "In this exercise we will look at how to query the `tables` table of the `INFORMATION_SCHEMA` database to discover information about tables in the DVD Rentals database including the name, type, schema, and catalog of all tables and views and then how to use the results to get additional information about columns in our tables."
   ]
  },
  {
   "cell_type": "markdown",
   "metadata": {},
   "source": [
    "```\n",
    " -- Select all columns from the TABLES system database\n",
    " SELECT * \n",
    " FROM INFORMATION_SCHEMA.tables\n",
    " -- Filter by schema\n",
    " WHERE table_schema = 'public';\n",
    "```"
   ]
  },
  {
   "cell_type": "markdown",
   "metadata": {},
   "source": [
    "```\n",
    " -- Select all columns from the COLUMNS system database\n",
    " SELECT * \n",
    " FROM INFORMATION_SCHEMA.COLUMNS \n",
    " WHERE table_name = 'actor';\n",
    "```"
   ]
  },
  {
   "cell_type": "markdown",
   "metadata": {},
   "source": [
    "# Determining data types"
   ]
  },
  {
   "cell_type": "markdown",
   "metadata": {},
   "source": [
    "The `columns` table of the `INFORMATION_SCHEMA` database also allows us to extract information about the data types of columns in a table. We can extract information like the character or string length of a `CHAR` or `VARCHAR` column or the precision of a `DECIMAL` or `NUMERIC` floating point type.\n",
    "\n",
    "Using the techniques you learned in the lesson, let's explore the `customer` table of our DVD Rental database."
   ]
  },
  {
   "cell_type": "markdown",
   "metadata": {},
   "source": [
    "```\n",
    "-- Get the column name and data type\n",
    "SELECT\n",
    " \tcolumn_name, \n",
    "    data_type\n",
    "-- From the system database information schema\n",
    "FROM INFORMATION_SCHEMA.COLUMNS \n",
    "-- For the customer table\n",
    "WHERE table_name = 'customer';\n",
    "```"
   ]
  },
  {
   "cell_type": "markdown",
   "metadata": {},
   "source": [
    "# Properties of date and time data types"
   ]
  },
  {
   "cell_type": "markdown",
   "metadata": {},
   "source": [
    "Which of the following is NOT correct?"
   ]
  },
  {
   "cell_type": "markdown",
   "metadata": {},
   "source": [
    "- `TIME` data types are stored with a timezone by default."
   ]
  },
  {
   "cell_type": "markdown",
   "metadata": {},
   "source": [
    "# Interval data types"
   ]
  },
  {
   "cell_type": "markdown",
   "metadata": {},
   "source": [
    "`INTERVAL` data types provide you with a very useful tool for performing arithmetic on date and time data types. For example, let's say our rental policy requires a DVD to be returned within 3 days. We can calculate the `expected_return_date` for a given DVD rental by adding an `INTERVAL` of 3 days to the `rental_date` from the `rental` table. We can then compare this result to the actual `return_date` to determine if the DVD was returned late.\n",
    "\n",
    "Let's try this example in the exercise."
   ]
  },
  {
   "cell_type": "markdown",
   "metadata": {},
   "source": [
    "```\n",
    "SELECT\n",
    " \t-- Select the rental and return dates\n",
    "\trental_date,\n",
    "\treturn_date,\n",
    " \t-- Calculate the expected_return_date\n",
    "\trental_date + INTERVAL '3 days' AS expected_return_date\n",
    "FROM rental;\n",
    "\n",
    "```"
   ]
  },
  {
   "cell_type": "markdown",
   "metadata": {},
   "source": [
    "# Accessing data in an ARRAY"
   ]
  },
  {
   "cell_type": "markdown",
   "metadata": {},
   "source": [
    "In our DVD Rentals database, the film table contains an ARRAY for `special_features` which has a type of `TEXT[]`. Much like any `ARRAY` data type in PostgreSQL, a `TEXT[]` array can store an array of `TEXT` values. This comes in handy when you want to store things like phone numbers or email addresses as we saw in the lesson.\n",
    "\n",
    "Let's take a look at the `special_features` column and also practice accessing data in the `ARRAY`."
   ]
  },
  {
   "cell_type": "markdown",
   "metadata": {},
   "source": [
    "```\n",
    "-- Select the title and special features column \n",
    "SELECT \n",
    "  title, \n",
    "  special_features \n",
    "FROM film\n",
    "-- Use the array index of the special_features column\n",
    "WHERE special_features[1] = 'Trailers';\n",
    "```"
   ]
  },
  {
   "cell_type": "markdown",
   "metadata": {},
   "source": [
    "```\n",
    "-- Select the title and special features column \n",
    "SELECT \n",
    "  title, \n",
    "  special_features \n",
    "FROM film\n",
    "-- Use the array index of the special_features column\n",
    "WHERE special_features[2] = 'Deleted Scenes';\n",
    "```"
   ]
  },
  {
   "cell_type": "markdown",
   "metadata": {},
   "source": [
    "# Searching an ARRAY with ANY"
   ]
  },
  {
   "cell_type": "markdown",
   "metadata": {},
   "source": [
    "As we saw in the video, PostgreSQL also provides the ability to filter results by searching for values in an ARRAY. The `ANY` function allows you to search for a value in any index position of an ARRAY. Here's an example.\n",
    "\n",
    "`WHERE 'search text' = ANY(array_name)`\n",
    "\n",
    "When using the `ANY` function, the value you are filtering on appears on the left side of the equation with the name of the `ARRAY` column as the parameter in the `ANY` function."
   ]
  },
  {
   "cell_type": "markdown",
   "metadata": {},
   "source": [
    "```\n",
    "SELECT\n",
    "  title, \n",
    "  special_features \n",
    "FROM film \n",
    "-- Modify the query to use the ANY function \n",
    "WHERE 'Trailers' = ANY (special_features);\n",
    "```"
   ]
  },
  {
   "cell_type": "markdown",
   "metadata": {},
   "source": [
    "# Searching an ARRAY with @>"
   ]
  },
  {
   "cell_type": "markdown",
   "metadata": {},
   "source": [
    "The contains operator `@>` operator is alternative syntax to the `ANY` function and matches data in an ARRAY using the following syntax.\n",
    "\n",
    "`WHERE array_name @> ARRAY['search text'] :: type[]`\n",
    "\n",
    "So let's practice using this operator in the exercise."
   ]
  },
  {
   "cell_type": "markdown",
   "metadata": {},
   "source": [
    "```\n",
    "SELECT \n",
    "  title, \n",
    "  special_features \n",
    "FROM film \n",
    "-- Filter where special_features contains 'Deleted Scenes'\n",
    "WHERE special_features  @> ARRAY['Deleted Scenes'];\n",
    "```"
   ]
  }
 ],
 "metadata": {
  "kernelspec": {
   "display_name": "Python 3.8.11 ('env_py')",
   "language": "python",
   "name": "python3"
  },
  "language_info": {
   "name": "python",
   "version": "3.8.11"
  },
  "orig_nbformat": 4,
  "vscode": {
   "interpreter": {
    "hash": "1e949e87132dd83f1a7623eb88007e3532b03b66b77111be347aa4a383049722"
   }
  }
 },
 "nbformat": 4,
 "nbformat_minor": 2
}

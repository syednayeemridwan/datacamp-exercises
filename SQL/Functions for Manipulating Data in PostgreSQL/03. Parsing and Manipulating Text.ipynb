{
 "cells": [
  {
   "cell_type": "markdown",
   "metadata": {},
   "source": [
    "# Concatenating strings"
   ]
  },
  {
   "cell_type": "markdown",
   "metadata": {},
   "source": [
    "In this exercise and the ones that follow, we are going to derive new fields from columns within the `customer` and `film` tables of the DVD rental database.\n",
    "\n",
    "We'll start with the `customer` table and create a query to return the customers name and email address formatted such that we could use it as a \"To\" field in an email script or program. This format will look like the following:\n",
    "\n",
    "`Brian Piccolo <bpiccolo@datacamp.com>`\n",
    "\n",
    "In the first step of the exercise, use the `||` operator to do the string concatenation and in the second step, use the `CONCAT()` functions."
   ]
  },
  {
   "cell_type": "markdown",
   "metadata": {},
   "source": [
    "```\n",
    "-- Concatenate the first_name and last_name and email \n",
    "SELECT first_name || ' ' || last_name || ' <' || email || '>' AS full_email \n",
    "FROM customer\n",
    "\n",
    "-- Concatenate the first_name and last_name and email\n",
    "SELECT CONCAT(first_name, ' ', last_name,  ' <', email, '>') AS full_email \n",
    "FROM customer\n",
    "```"
   ]
  },
  {
   "cell_type": "markdown",
   "metadata": {},
   "source": [
    "# Changing the case of string data"
   ]
  },
  {
   "cell_type": "markdown",
   "metadata": {},
   "source": [
    "Now you are going to use the `film` and `category` tables to create a new field called `film_category` by concatenating the category `name` with the film's `title`. You will also format the result using functions you learned about in the video to transform the case of the fields you are selecting in the query; for example, the `INITCAP()` function which converts a string to title case."
   ]
  },
  {
   "cell_type": "markdown",
   "metadata": {},
   "source": [
    "```\n",
    "SELECT \n",
    "  -- Concatenate the category name to coverted to uppercase\n",
    "  -- to the film title converted to title case\n",
    "  UPPER(name)  || ': ' || INITCAP(title) AS film_category, \n",
    "  -- Convert the description column to lowercase\n",
    "  LOWER(description) AS description\n",
    "FROM \n",
    "  film AS f \n",
    "  INNER JOIN film_category AS fc \n",
    "  \tON f.film_id = fc.film_id \n",
    "  INNER JOIN category AS c \n",
    "  \tON fc.category_id = c.category_id;\n",
    "```"
   ]
  },
  {
   "cell_type": "markdown",
   "metadata": {},
   "source": [
    "# Replacing string data"
   ]
  },
  {
   "cell_type": "markdown",
   "metadata": {},
   "source": [
    "Sometimes you will need to make sure that the data you are extracting does not contain any whitespace. There are many different approaches you can take to cleanse and prepare your data for these situations. A common technique is to replace any whitespace with an underscore.\n",
    "\n",
    "In this example, we are going to practice finding and replacing whitespace characters in the `title` column of the `film` table using the `REPLACE()` function."
   ]
  },
  {
   "cell_type": "markdown",
   "metadata": {},
   "source": [
    "```\n",
    "SELECT \n",
    "  -- Replace whitespace in the film title with an underscore\n",
    "  REPLACE(title, ' ', '_') AS title\n",
    "FROM film; \n",
    "```"
   ]
  },
  {
   "cell_type": "markdown",
   "metadata": {},
   "source": [
    "# Determining the length of strings"
   ]
  },
  {
   "cell_type": "markdown",
   "metadata": {},
   "source": [
    "Determining the number of characters in a string is something that you will use frequently when working with data in a SQL database. Many situations will require you to find the length of a string stored in your database. For example, you may need to limit the number of characters that are displayed in an application or you may need to ensure that a column in your dataset contains values that are all the same length. In this example, we are going to determine the length of the `description` column in the `film` table of the DVD Rental database."
   ]
  },
  {
   "cell_type": "markdown",
   "metadata": {},
   "source": [
    "```\n",
    "SELECT \n",
    "  -- Select the title and description columns\n",
    "  title,\n",
    "  description,\n",
    "  -- Determine the length of the description column\n",
    "  LENGTH(description) AS desc_len\n",
    "FROM film;\n",
    "```"
   ]
  },
  {
   "cell_type": "markdown",
   "metadata": {},
   "source": [
    "# Truncating strings"
   ]
  },
  {
   "cell_type": "markdown",
   "metadata": {},
   "source": [
    "In the previous exercise, you calculated the length of the `description` column and noticed that the number of characters varied but most of the results were over 75 characters. There will be many times when you need to truncate a text column to a certain length to meet specific criteria for an application. In this exercise, we will practice getting the first 50 characters of the `description` column."
   ]
  },
  {
   "cell_type": "markdown",
   "metadata": {},
   "source": [
    "```\n",
    "SELECT \n",
    "  -- Select the first 50 characters of description\n",
    "  LEFT(description, 50) AS short_desc\n",
    "FROM \n",
    "  film AS f; \n",
    "```"
   ]
  },
  {
   "cell_type": "markdown",
   "metadata": {},
   "source": [
    "# Extracting substrings from text data"
   ]
  },
  {
   "cell_type": "markdown",
   "metadata": {},
   "source": [
    "In this exercise, you are going to practice how to extract substrings from text columns. The Sakila database contains the address table which stores the street address for all the rental store locations. You need a list of all the street names where the stores are located but the address column also contains the street number. You'll use several functions that you've learned about in the video to manipulate the `address` column and return only the street address."
   ]
  },
  {
   "cell_type": "markdown",
   "metadata": {},
   "source": [
    "```\n",
    "SELECT \n",
    "  -- Select only the street name from the address table\n",
    "  SUBSTRING(address FROM POSITION(' ' IN address)+1 FOR LENGTH(address))\n",
    "FROM \n",
    "  address;\n",
    "```"
   ]
  },
  {
   "cell_type": "markdown",
   "metadata": {},
   "source": [
    "# Combining functions for string manipulation"
   ]
  },
  {
   "cell_type": "markdown",
   "metadata": {},
   "source": [
    "In the next example, we are going to break apart the `email` column from the `customer` table into three new derived fields. Parsing a single column into multiple columns can be useful when you need to work with certain subsets of data. Email addresses have embedded information stored in them that can be parsed out to derive additional information about our data. For example, we can use the techniques we learned about in the video to determine how many of our customers use an email from a specific domain."
   ]
  },
  {
   "cell_type": "markdown",
   "metadata": {},
   "source": [
    "```\n",
    "SELECT\n",
    "  -- Extract the characters to the left of the '@'\n",
    "  LEFT(email, POSITION('@' IN email)-1) AS username,\n",
    "  -- Extract the characters to the right of the '@'\n",
    "  SUBSTRING(email FROM POSITION('@' IN email)+1 FOR LENGTH(email)) AS domain\n",
    "FROM customer;\n",
    "```"
   ]
  },
  {
   "cell_type": "markdown",
   "metadata": {},
   "source": [
    "# Padding"
   ]
  },
  {
   "cell_type": "markdown",
   "metadata": {},
   "source": [
    "Padding strings is useful in many real-world situations. Earlier in this course, we learned about string concatenation and how to combine the customer's first and last name separated by a single blank space and also combined the customer's full name with their email address.\n",
    "\n",
    "The padding functions that we learned about in the video are an alternative approach to do this task. To use this approach, you will need to combine and nest functions to determine the length of a string to produce the desired result. Remember when calculating the length of a string you often need to adjust the integer returned to get the proper length or position of a string.\n",
    "\n",
    "Let's revisit the string concatenation exercise but use padding functions."
   ]
  },
  {
   "cell_type": "markdown",
   "metadata": {},
   "source": [
    "```\n",
    "-- Concatenate the padded first_name and last_name \n",
    "SELECT \n",
    "\tRPAD(first_name, LENGTH(first_name)+1) || last_name AS full_name\n",
    "FROM customer;\n",
    "\n",
    "-- Concatenate the first_name and last_name \n",
    "SELECT \n",
    "\tfirst_name || LPAD(last_name, LENGTH(last_name)+1) AS full_name\n",
    "FROM customer; \n",
    "\n",
    "-- Concatenate the first_name and last_name \n",
    "SELECT \n",
    "\tRPAD(first_name, LENGTH(first_name)+1) \n",
    "    || RPAD(last_name, LENGTH(last_name)+2, ' <') \n",
    "    || RPAD(email, LENGTH(email)+1, '>') AS full_email\n",
    "FROM customer; \n",
    "```"
   ]
  },
  {
   "cell_type": "markdown",
   "metadata": {},
   "source": [
    "# The TRIM function"
   ]
  },
  {
   "cell_type": "markdown",
   "metadata": {},
   "source": [
    "In this exercise, we are going to revisit and combine a couple of exercises from earlier in this chapter. If you recall, you used the `LEFT()` function to truncate the `description` column to 50 characters but saw that some words were cut off and/or had trailing whitespace. We can use trimming functions to eliminate the whitespace at the end of the string after it's been truncated."
   ]
  },
  {
   "cell_type": "markdown",
   "metadata": {},
   "source": [
    "```\n",
    "-- Concatenate the uppercase category name and film title\n",
    "SELECT \n",
    "  CONCAT(UPPER(name), ': ', title) AS film_category, \n",
    "  -- Truncate the description remove trailing whitespace\n",
    "  TRIM(LEFT(description, 50)) AS film_desc\n",
    "FROM \n",
    "  film AS f \n",
    "  INNER JOIN film_category AS fc \n",
    "  \tON f.film_id = fc.film_id \n",
    "  INNER JOIN category AS c \n",
    "  \tON fc.category_id = c.category_id;\n",
    "```"
   ]
  },
  {
   "cell_type": "markdown",
   "metadata": {},
   "source": [
    "# Putting it all together"
   ]
  },
  {
   "cell_type": "markdown",
   "metadata": {},
   "source": [
    "In this exercise, we are going to use the `film` and `category` tables to create a new field called `film_category` by concatenating the category `name` with the film's `title`. You will also practice how to truncate text fields like the `film` table's `description` column without cutting off a word.\n",
    "\n",
    "To accomplish this we will use the `REVERSE()` function to help determine the position of the last whitespace character in the description before we reach 50 characters. This technique can be used to determine the position of the last character that you want to truncate and ensure that it is less than or equal to 50 characters AND does not cut off a word.\n",
    "\n",
    "This is an advanced technique but I know you can do it! Let's dive in."
   ]
  },
  {
   "cell_type": "markdown",
   "metadata": {},
   "source": [
    "```\n",
    "SELECT \n",
    "  UPPER(c.name) || ': ' || f.title AS film_category, \n",
    "  -- Truncate the description without cutting off a word\n",
    "  LEFT(description, 50 - \n",
    "    -- Subtract the position of the first whitespace character\n",
    "    POSITION(\n",
    "      ' ' IN REVERSE(LEFT(description, 50))\n",
    "    )\n",
    "  ) \n",
    "FROM \n",
    "  film AS f \n",
    "  INNER JOIN film_category AS fc \n",
    "  \tON f.film_id = fc.film_id \n",
    "  INNER JOIN category AS c \n",
    "  \tON fc.category_id = c.category_id;\n",
    "```"
   ]
  }
 ],
 "metadata": {
  "kernelspec": {
   "display_name": "Python 3.8.11 ('env_py')",
   "language": "python",
   "name": "python3"
  },
  "language_info": {
   "name": "python",
   "version": "3.8.11"
  },
  "orig_nbformat": 4,
  "vscode": {
   "interpreter": {
    "hash": "1e949e87132dd83f1a7623eb88007e3532b03b66b77111be347aa4a383049722"
   }
  }
 },
 "nbformat": 4,
 "nbformat_minor": 2
}

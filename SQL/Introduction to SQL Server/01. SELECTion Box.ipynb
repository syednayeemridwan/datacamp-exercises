{
 "cells": [
  {
   "cell_type": "markdown",
   "metadata": {},
   "source": [
    "# Simple selections"
   ]
  },
  {
   "cell_type": "markdown",
   "metadata": {},
   "source": [
    "It's time to begin writing your own queries! In this first coding exercise, you will use `SELECT` statements to retrieve columns from a database table. You'll be working with the `eurovision` table, which contains data relating to individual country performance at the Eurovision Song Contest from 1998 to 2012.\n",
    "\n",
    "After selecting columns, you'll also practice renaming columns, and limiting the number of rows returned."
   ]
  },
  {
   "cell_type": "markdown",
   "metadata": {},
   "source": [
    "```\n",
    "-- SELECT the country column FROM the eurovision table\n",
    "SELECT country FROM eurovision\n",
    "```"
   ]
  },
  {
   "cell_type": "markdown",
   "metadata": {},
   "source": [
    "```\n",
    "-- Select the points column\n",
    "SELECT \n",
    "  points \n",
    "FROM \n",
    "  eurovision;\n",
    "```"
   ]
  },
  {
   "cell_type": "markdown",
   "metadata": {},
   "source": [
    "```\n",
    "-- Limit the number of rows returned\n",
    "SELECT \n",
    "  TOP (50) points \n",
    "FROM \n",
    "  eurovision;\n",
    "```"
   ]
  },
  {
   "cell_type": "markdown",
   "metadata": {},
   "source": [
    "```\n",
    "-- Return unique countries and use an alias\n",
    "SELECT \n",
    "  DISTINCT country AS unique_country \n",
    "FROM \n",
    "  eurovision;\n",
    "```"
   ]
  },
  {
   "cell_type": "markdown",
   "metadata": {},
   "source": [
    "# More selections"
   ]
  },
  {
   "cell_type": "markdown",
   "metadata": {},
   "source": [
    "Now that you've practiced how to select one column at a time, it's time to practice selecting more than one column. You'll continue working with the `eurovision` table."
   ]
  },
  {
   "cell_type": "markdown",
   "metadata": {},
   "source": [
    "```\n",
    "-- Select country and event_year from eurovision\n",
    "SELECT \n",
    "  country, \n",
    "  event_year \n",
    "FROM \n",
    "  eurovision;\n",
    "```"
   ]
  },
  {
   "cell_type": "markdown",
   "metadata": {},
   "source": [
    "```\n",
    "-- Amend the code to select all columns\n",
    "SELECT \n",
    "  * \n",
    "FROM \n",
    "  eurovision;\n",
    "```"
   ]
  },
  {
   "cell_type": "markdown",
   "metadata": {},
   "source": [
    "```\n",
    "-- Return all columns, restricting the percent of rows returned\n",
    "SELECT \n",
    "  TOP (50) PERCENT * \n",
    "FROM \n",
    "  eurovision;\n",
    "```"
   ]
  },
  {
   "cell_type": "markdown",
   "metadata": {},
   "source": [
    "# Order by"
   ]
  },
  {
   "cell_type": "markdown",
   "metadata": {},
   "source": [
    "In this exercise, you'll practice the use of `ORDER BY` using the `grid` dataset. It's loaded and waiting for you! It contains a subset of wider publicly available information on US power outages.\n",
    "\n",
    "Some of the main columns include:\n",
    "\n",
    "- `description`: The reason/ cause of the outage.\n",
    "- `nerc_region`: The North American Electricity Reliability Corporation was formed to ensure the reliability of the grid and comprises several regional entities.\n",
    "- `demand_loss_mw`: How much energy was not transmitted/consumed during the outage."
   ]
  },
  {
   "cell_type": "markdown",
   "metadata": {},
   "source": [
    "```\n",
    "-- Select the first 5 rows from the specified columns\n",
    "SELECT \n",
    "  TOP (5) description, \n",
    "  event_date \n",
    "FROM \n",
    "  grid \n",
    "  -- Order your results by the event_date column\n",
    "ORDER BY \n",
    "  event_date;\n",
    "```"
   ]
  },
  {
   "cell_type": "markdown",
   "metadata": {},
   "source": [
    "```\n",
    "-- Select the top 20 rows from description, nerc_region and event_date\n",
    "SELECT \n",
    "  TOP (20) description,\n",
    "  nerc_region,\n",
    "  event_date\n",
    "FROM \n",
    "  grid \n",
    "  -- Order by nerc_region, affected_customers & event_date\n",
    "  -- Event_date should be in descending order\n",
    "ORDER BY\n",
    "  nerc_region,\n",
    "  affected_customers,\n",
    "  event_date DESC;\n",
    "```"
   ]
  },
  {
   "cell_type": "markdown",
   "metadata": {},
   "source": [
    "# Where"
   ]
  },
  {
   "cell_type": "markdown",
   "metadata": {},
   "source": [
    "You won't usually want to retrieve every row in your database. You'll have specific information you need in order to answer questions from your boss or colleagues.\n",
    "\n",
    "The `WHERE` clause is essential for selecting, updating (and deleting!) data from your tables. You'll continue working with the `grid` dataset for this exercise."
   ]
  },
  {
   "cell_type": "markdown",
   "metadata": {},
   "source": [
    "```\n",
    "-- Select description and event_year\n",
    "SELECT \n",
    "  description, \n",
    "  event_year \n",
    "FROM \n",
    "  grid \n",
    "  -- Filter the results\n",
    "WHERE \n",
    "  description = 'Vandalism';\n",
    "```"
   ]
  },
  {
   "cell_type": "markdown",
   "metadata": {},
   "source": [
    "# Where again"
   ]
  },
  {
   "cell_type": "markdown",
   "metadata": {},
   "source": [
    "When filtering strings, you need to wrap your value in 'single quotes', as you did in the previous exercise. You don't need to do this for numeric values, but you DO need to use single quotes for date columns.\n",
    "\n",
    "In this course, dates are always represented in the `YYYY-MM-DD` format (Year-Month-Day), which is the default in Microsoft SQL Server."
   ]
  },
  {
   "cell_type": "markdown",
   "metadata": {},
   "source": [
    "```\n",
    "-- Select nerc_region and demand_loss_mw\n",
    "SELECT \n",
    "  nerc_region, \n",
    "  demand_loss_mw \n",
    "FROM \n",
    "  grid \n",
    "-- Retrieve rows where affected_customers is >= 500000  (500,000)\n",
    "WHERE \n",
    "  affected_customers >= 500000;\n",
    "```"
   ]
  },
  {
   "cell_type": "markdown",
   "metadata": {},
   "source": [
    "```\n",
    "-- Select description and affected customers\n",
    "SELECT \n",
    "  description, \n",
    "  affected_customers \n",
    "FROM \n",
    "  grid \n",
    "  -- Retrieve rows where the event_date was the 22nd December, 2013    \n",
    "WHERE \n",
    "  event_date = '2013-12-22';\n",
    "```"
   ]
  },
  {
   "cell_type": "markdown",
   "metadata": {},
   "source": [
    "```\n",
    "-- Select description, affected_customers and event date\n",
    "SELECT \n",
    "  description, \n",
    "  affected_customers,\n",
    "  event_date\n",
    "FROM \n",
    "  grid \n",
    "  -- The affected_customers column should be >= 50000 and <=150000   \n",
    "WHERE \n",
    "  affected_customers BETWEEN 50000\n",
    "  AND 150000 \n",
    "   -- Define the order   \n",
    "ORDER BY \n",
    "  event_date DESC;\n",
    "\n",
    "```"
   ]
  },
  {
   "cell_type": "markdown",
   "metadata": {},
   "source": [
    "# Working with NULL values"
   ]
  },
  {
   "cell_type": "markdown",
   "metadata": {},
   "source": [
    "A NULL value could mean 'zero' - if something doesn't happen, it can't be logged in a table. However, NULL can also mean 'unknown' or 'missing'. So consider if it is appropriate to replace them in your results. NULL values provide feedback on data quality. If you have NULL values, and you didn't expect to have any, then you have an issue with either how data is captured or how it's entered in the database.\n",
    "\n",
    "In this exercise, you'll practice filtering for NULL values, excluding them from results, and replacing them with alternative values."
   ]
  },
  {
   "cell_type": "markdown",
   "metadata": {},
   "source": [
    "```\n",
    "-- Retrieve all columns\n",
    "SELECT \n",
    "  * \n",
    "FROM \n",
    "  grid \n",
    "  -- Return only rows where demand_loss_mw is missing or unknown  \n",
    "WHERE \n",
    "  demand_loss_mw IS NULL;\n",
    "```"
   ]
  },
  {
   "cell_type": "markdown",
   "metadata": {},
   "source": [
    "```\n",
    "-- Retrieve all columns\n",
    "SELECT \n",
    "  * \n",
    "FROM \n",
    "  grid \n",
    "  -- Return rows where demand_loss_mw is not missing or unknown   \n",
    "WHERE \n",
    "  demand_loss_mw IS NOT NULL;\n",
    "```"
   ]
  },
  {
   "cell_type": "markdown",
   "metadata": {},
   "source": [
    "# Exploring classic rock songs"
   ]
  },
  {
   "cell_type": "markdown",
   "metadata": {},
   "source": [
    "It's time to rock and roll! In this set of exercises, you'll use the `songlist` table, which contains songs featured on the playlists of 25 classic rock radio stations.\n",
    "\n",
    "First, let's get familiar with the data."
   ]
  },
  {
   "cell_type": "markdown",
   "metadata": {},
   "source": [
    "```\n",
    "-- Retrieve the song,artist and release_year columns\n",
    "SELECT \n",
    "  song, \n",
    "  artist, \n",
    "  release_year \n",
    "FROM \n",
    "  songlist \n",
    "  -- Ensure there are no missing or unknown values in the release_year column\n",
    "WHERE \n",
    "  release_year IS NOT NULL \n",
    "  -- Arrange the results by the artist and release_year columns\n",
    "ORDER BY \n",
    "  artist, \n",
    "  release_year;\n",
    "```"
   ]
  },
  {
   "cell_type": "markdown",
   "metadata": {},
   "source": [
    "# Exploring classic rock songs - AND/OR"
   ]
  },
  {
   "cell_type": "markdown",
   "metadata": {},
   "source": [
    "Having familiarized yourself with the `songlist` table, you'll now extend your `WHERE` clause from the previous exercise."
   ]
  },
  {
   "cell_type": "markdown",
   "metadata": {},
   "source": [
    "```\n",
    "SELECT \n",
    "  song, \n",
    "  artist, \n",
    "  release_year\n",
    "FROM \n",
    "  songlist \n",
    "WHERE \n",
    "  -- Retrieve records greater than and including 1980\n",
    "  release_year >= 1980 \n",
    "  -- Also retrieve records up to and including 1990\n",
    "  AND release_year <= 1990 \n",
    "ORDER BY \n",
    "  artist, \n",
    "  release_year;\n",
    "```"
   ]
  },
  {
   "cell_type": "markdown",
   "metadata": {},
   "source": [
    "```\n",
    "SELECT \n",
    "  song, \n",
    "  artist, \n",
    "  release_year\n",
    "FROM \n",
    "  songlist \n",
    "WHERE \n",
    "  -- Retrieve records greater than and including 1980\n",
    "  release_year >= 1980 \n",
    "  -- Replace AND with OR\n",
    "  OR release_year <= 1990 \n",
    "ORDER BY \n",
    "  artist, \n",
    "  release_year;\n",
    "```"
   ]
  },
  {
   "cell_type": "markdown",
   "metadata": {},
   "source": [
    "# Using parentheses in your queries"
   ]
  },
  {
   "cell_type": "markdown",
   "metadata": {},
   "source": [
    "You can use parentheses to make the intention of your code clearer. This becomes very important when using AND and OR clauses, to ensure your queries return the exact subsets you need."
   ]
  },
  {
   "cell_type": "markdown",
   "metadata": {},
   "source": [
    "```\n",
    "SELECT \n",
    "  artist, \n",
    "  release_year, \n",
    "  song \n",
    "FROM \n",
    "  songlist \n",
    "  -- Choose the correct artist and specify the release year\n",
    "WHERE \n",
    "  (\n",
    "    artist LIKE 'B%' \n",
    "    AND release_year = 1986\n",
    "  ) \n",
    "  -- Or return all songs released after 1990\n",
    "  OR release_year > 1990 \n",
    "  -- Order the results\n",
    "ORDER BY \n",
    "  release_year, \n",
    "  artist, \n",
    "  song;\n",
    "```"
   ]
  }
 ],
 "metadata": {
  "kernelspec": {
   "display_name": "Python 3.8.11 ('env_py')",
   "language": "python",
   "name": "python3"
  },
  "language_info": {
   "name": "python",
   "version": "3.8.11"
  },
  "orig_nbformat": 4,
  "vscode": {
   "interpreter": {
    "hash": "1e949e87132dd83f1a7623eb88007e3532b03b66b77111be347aa4a383049722"
   }
  }
 },
 "nbformat": 4,
 "nbformat_minor": 2
}

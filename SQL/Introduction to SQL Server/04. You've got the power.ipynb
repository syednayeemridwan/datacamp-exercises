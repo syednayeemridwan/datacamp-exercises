{
 "cells": [
  {
   "cell_type": "markdown",
   "metadata": {},
   "source": [
    "# CRUD operations"
   ]
  },
  {
   "cell_type": "markdown",
   "metadata": {},
   "source": [
    "When we talk about 'CRUD' operations on the records of a database, what do we mean - what do those letters stand for?"
   ]
  },
  {
   "cell_type": "markdown",
   "metadata": {},
   "source": [
    "- Create, Read, Update, Delete."
   ]
  },
  {
   "cell_type": "markdown",
   "metadata": {},
   "source": [
    "# Create tables"
   ]
  },
  {
   "cell_type": "markdown",
   "metadata": {},
   "source": [
    "Say you want to create a table to consolidate some useful track information into one table. This will consist of the track name, the artist, and the album the track came from. You also want to store the track length in a different format to how it is currently stored in the track table. How can you go about doing this? Using CREATE TABLE. Recall the example from the video:\n",
    "```\n",
    "CREATE TABLE test_table(\n",
    "  test_date DATE, \n",
    "  test_name VARCHAR(20), \n",
    "  test_int INT\n",
    ")\n",
    "```\n",
    "Let's get started!"
   ]
  },
  {
   "cell_type": "markdown",
   "metadata": {},
   "source": [
    "```\n",
    "-- Create the table\n",
    "CREATE TABLE results (\n",
    "\t-- Create track column\n",
    "\ttrack VARCHAR(200),\n",
    "    -- Create artist column\n",
    "\tartist VARCHAR(120),\n",
    "    -- Create album column\n",
    "\talbum VARCHAR(160),\n",
    "\t-- Create track_length_mins\n",
    "\ttrack_length_mins INT,\n",
    "\t);\n",
    "\n",
    "-- Select all columns from the table\n",
    "SELECT \n",
    "  track, \n",
    "  artist, \n",
    "  album, \n",
    "  track_length_mins \n",
    "FROM \n",
    "  results;\n",
    "```"
   ]
  },
  {
   "cell_type": "markdown",
   "metadata": {},
   "source": [
    "# Insert"
   ]
  },
  {
   "cell_type": "markdown",
   "metadata": {},
   "source": [
    "This exercise consists of two parts: In the first, you'll create a new table very similar to the one you created in the previous interactive exercise. After that, you'll insert some data and retrieve it.\n",
    "\n",
    "You'll continue working with the Chinook database here."
   ]
  },
  {
   "cell_type": "markdown",
   "metadata": {},
   "source": [
    "```\n",
    "-- Create the table\n",
    "CREATE TABLE tracks(\n",
    "  -- Create track column\n",
    "  track VARCHAR(200), \n",
    "  -- Create album column\n",
    "  album VARCHAR(160), \n",
    "  -- Create track_length_mins column\n",
    "  track_length_mins INT\n",
    ");\n",
    "-- Complete the statement to enter the data to the table         \n",
    "INSERT INTO tracks\n",
    "-- Specify the destination columns\n",
    "(track, album, track_length_mins)\n",
    "-- Insert the appropriate values for track, album and track length\n",
    "VALUES\n",
    "  ('Basket Case', 'Dookie', 3);\n",
    "-- Select all columns from the new table\n",
    "SELECT \n",
    "  *\n",
    "FROM \n",
    "  tracks;\n",
    "```"
   ]
  },
  {
   "cell_type": "markdown",
   "metadata": {},
   "source": [
    "# Update"
   ]
  },
  {
   "cell_type": "markdown",
   "metadata": {},
   "source": [
    "You may sometimes have to update the rows in a table. For example, in the `album` table, there is a row with a very long album title, and you may want to shorten it.\n",
    "\n",
    "You don't want to delete the record - you just want to update it in place. To do this, you need to specify the `album_id` to ensure that only the desired row is updated and all others are not modified."
   ]
  },
  {
   "cell_type": "markdown",
   "metadata": {},
   "source": [
    "```\n",
    "-- Select the album\n",
    "SELECT \n",
    "  title \n",
    "FROM \n",
    "  album \n",
    "WHERE \n",
    "  album_id = 213;\n",
    "-- UPDATE the title of the album\n",
    "UPDATE \n",
    "  album \n",
    "SET \n",
    "  title = 'Pure Cult: The Best Of The Cult' \n",
    "WHERE \n",
    "  album_id = 213;\n",
    "-- Run the query again\n",
    "SELECT \n",
    "  title \n",
    "FROM \n",
    "  album\n",
    "WHERE \n",
    "  album_id = 213;\n",
    "```"
   ]
  },
  {
   "cell_type": "markdown",
   "metadata": {},
   "source": [
    "# Delete"
   ]
  },
  {
   "cell_type": "markdown",
   "metadata": {},
   "source": [
    "You may not have permissions to delete from your database, but it is safe to practice it here in this course!\n",
    "\n",
    "Remember - there is no confirmation before deleting. When you execute the statement, the record(s) are deleted immediately. Always ensure you test with a `SELECT` and `WHERE` in a separate query to ensure you are selecting and deleting the correct records. If you forget to specify a `WHERE` condition, you will delete ALL rows from the table."
   ]
  },
  {
   "cell_type": "markdown",
   "metadata": {},
   "source": [
    "```\n",
    "-- Run the query\n",
    "SELECT \n",
    "  * \n",
    "FROM \n",
    "  album \n",
    "  -- DELETE the record\n",
    "DELETE FROM \n",
    "  album \n",
    "WHERE \n",
    "  album_id = 1 \n",
    "  -- Run the query again\n",
    "SELECT \n",
    "  * \n",
    "FROM \n",
    "  album;\n",
    "```"
   ]
  },
  {
   "cell_type": "markdown",
   "metadata": {},
   "source": [
    "# DECLARE and SET a variable"
   ]
  },
  {
   "cell_type": "markdown",
   "metadata": {},
   "source": [
    "Using variables makes it easy to run a query multiple times, with different values, without having to scroll down and amend the `WHERE` clause each time. You can quickly update the variable at the top of the query instead. This also helps provide greater security, but that is out of scope of this course.\n",
    "\n",
    "Let's go back to the now very familiar `grid` table for this exercise, and use it to practice extracting data according to your newly defined variable."
   ]
  },
  {
   "cell_type": "markdown",
   "metadata": {},
   "source": [
    "```\n",
    "-- Declare the variable @region\n",
    "DECLARE @region VARCHAR(10)\n",
    "\n",
    "-- Update the variable value\n",
    "SET @region = 'RFC'\n",
    "\n",
    "SELECT description,\n",
    "       nerc_region,\n",
    "       demand_loss_mw,\n",
    "       affected_customers\n",
    "FROM grid\n",
    "WHERE nerc_region = @region;\n",
    "```"
   ]
  },
  {
   "cell_type": "markdown",
   "metadata": {},
   "source": [
    "# Declare multiple variables"
   ]
  },
  {
   "cell_type": "markdown",
   "metadata": {},
   "source": [
    "You've seen how to `DECLARE` and `SET` set 1 variable. Now, you'll `DECLARE` and `SET` multiple variables. There is already one variable declared, however you need to overwrite this and declare 3 new ones. The `WHERE` clause will also need to be modified to return results between a range of dates."
   ]
  },
  {
   "cell_type": "markdown",
   "metadata": {},
   "source": [
    "```\n",
    "-- Declare your variables\n",
    "DECLARE @start DATE\n",
    "DECLARE @stop DATE\n",
    "DECLARE @affected INT;\n",
    "-- SET the relevant values for each variable\n",
    "SET @start = '2014-01-24'\n",
    "SET @stop  = '2014-07-02'\n",
    "SET @affected =  5000 ;\n",
    "\n",
    "SELECT \n",
    "  description,\n",
    "  nerc_region,\n",
    "  demand_loss_mw,\n",
    "  affected_customers\n",
    "FROM \n",
    "  grid\n",
    "-- Specify the date range of the event_date and the value for @affected\n",
    "WHERE event_date BETWEEN @start AND @stop\n",
    "AND affected_customers >= @affected;\n",
    "```"
   ]
  },
  {
   "cell_type": "markdown",
   "metadata": {},
   "source": [
    "# Ultimate Power"
   ]
  },
  {
   "cell_type": "markdown",
   "metadata": {},
   "source": [
    "Sometimes you might want to 'save' the results of a query so you can do some more work with the data. You can do that by creating a temporary table that remains in the database until SQL Server is restarted. In this final exercise, you'll select the longest track from every album and add that into a temporary table which you'll create as part of the query."
   ]
  },
  {
   "cell_type": "markdown",
   "metadata": {},
   "source": [
    "```\n",
    "SELECT  album.title AS album_title,\n",
    "  artist.name as artist,\n",
    "  MAX(track.milliseconds / (1000 * 60) % 60 ) AS max_track_length_mins\n",
    "-- Name the temp table #maxtracks\n",
    "INTO #maxtracks\n",
    "FROM album\n",
    "-- Join album to artist using artist_id\n",
    "INNER JOIN artist ON album.artist_id = artist.artist_id\n",
    "-- Join track to album using album_id\n",
    "INNER JOIN track ON album.album_id = track.album_id\n",
    "GROUP BY artist.artist_id, album.title, artist.name,album.album_id\n",
    "-- Run the final SELECT query to retrieve the results from the temporary table\n",
    "SELECT album_title, artist, max_track_length_mins\n",
    "FROM  #maxtracks\n",
    "ORDER BY max_track_length_mins DESC, artist;\n",
    "```"
   ]
  }
 ],
 "metadata": {
  "kernelspec": {
   "display_name": "Python 3.8.11 ('env_py')",
   "language": "python",
   "name": "python3"
  },
  "language_info": {
   "name": "python",
   "version": "3.8.11"
  },
  "orig_nbformat": 4,
  "vscode": {
   "interpreter": {
    "hash": "1e949e87132dd83f1a7623eb88007e3532b03b66b77111be347aa4a383049722"
   }
  }
 },
 "nbformat": 4,
 "nbformat_minor": 2
}

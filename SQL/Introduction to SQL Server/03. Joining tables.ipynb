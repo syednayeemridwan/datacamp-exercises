{
 "cells": [
  {
   "cell_type": "markdown",
   "metadata": {},
   "source": [
    "# Inner Joins - a perfect match"
   ]
  },
  {
   "cell_type": "markdown",
   "metadata": {},
   "source": [
    "Let's use the `Chinook` database, which consists of tables related to an online store, to understand how inner joins work. The `album` table lists albums by multiple artists. The `track` table lists individual songs, each with a unique identifier, but also, an `album_id` column that links each track to an album.\n",
    "\n",
    "Let's find the tracks that belong to each album."
   ]
  },
  {
   "cell_type": "markdown",
   "metadata": {},
   "source": [
    "```\n",
    "SELECT \n",
    "  track_id,\n",
    "  name AS track_name,\n",
    "  title AS album_title\n",
    "FROM track\n",
    "  -- Complete the join type and the common joining column\n",
    "INNER JOIN album on track.album_id = album.album_id;\n",
    "```"
   ]
  },
  {
   "cell_type": "markdown",
   "metadata": {},
   "source": [
    "# Inner Joins (II)"
   ]
  },
  {
   "cell_type": "markdown",
   "metadata": {},
   "source": [
    "Here, you'll continue to practice your `INNER JOIN` skills. We'll use the `album` table as last time, but will join it to a new table - `artist` - which consists of two columns: `artist_id` and `name`."
   ]
  },
  {
   "cell_type": "markdown",
   "metadata": {},
   "source": [
    "```\n",
    "-- Select album_id and title from album, and name from artist\n",
    "SELECT \n",
    "  album_id,\n",
    "  title,\n",
    "  name AS artist\n",
    "  -- Enter the main source table name\n",
    "FROM album\n",
    "  -- Perform the inner join\n",
    "INNER JOIN artist on album.artist_id = artist.artist_id;\n",
    "```"
   ]
  },
  {
   "cell_type": "markdown",
   "metadata": {},
   "source": [
    "# Inner Join (III) - Join 3 tables"
   ]
  },
  {
   "cell_type": "markdown",
   "metadata": {},
   "source": [
    "We've seen how to join 2 tables together - `album` with `track`, and `album` with `artist`. In this exercise, you'll join all three tables to pull together a more complete result set. You'll continue using `INNER JOIN`, but you need to specify more than one.\n",
    "\n",
    "Here, note that because both `track` and `artist` contain a `name` column, you need to qualify where you are selecting the columns by prefixing the column name with the relevant table name."
   ]
  },
  {
   "cell_type": "markdown",
   "metadata": {},
   "source": [
    "```\n",
    "SELECT track_id,\n",
    "-- Enter the correct table name prefix when retrieving the name column from the track table\n",
    "  track.name AS track_name,\n",
    "  title as album_title,\n",
    "  -- Enter the correct table name prefix when retrieving the name column from the artist table\n",
    "  artist.name AS artist_name\n",
    "FROM track\n",
    "  -- Complete the matching columns to join album with track, and artist with album\n",
    "INNER JOIN album on track.album_id = album.album_id \n",
    "INNER JOIN artist on album.artist_id = artist.artist_id;\n",
    "```"
   ]
  },
  {
   "cell_type": "markdown",
   "metadata": {},
   "source": [
    "# LEFT join"
   ]
  },
  {
   "cell_type": "markdown",
   "metadata": {},
   "source": [
    "An `INNER JOIN` shows you exact matches. What about when you want to compare all the values in one table with another, to see which rows match? That's when you can use a `LEFT JOIN`.\n",
    "\n",
    "A `LEFT JOIN` will return ALL rows in the first table, and any matching rows in the right table. If there aren't any matches in the right table for a particular row, then a NULL is returned. This quickly lets you assess the gaps in your data, and how many you have."
   ]
  },
  {
   "cell_type": "markdown",
   "metadata": {},
   "source": [
    "```\n",
    "SELECT \n",
    "  invoiceline_id,\n",
    "  unit_price, \n",
    "  quantity,\n",
    "  billing_state\n",
    "  -- Specify the source table\n",
    "FROM invoiceline\n",
    "  -- Complete the join to the invoice table\n",
    "LEFT JOIN invoice\n",
    "ON invoiceline.invoice_id = invoice.invoice_id;\n",
    "```"
   ]
  },
  {
   "cell_type": "markdown",
   "metadata": {},
   "source": [
    "# RIGHT JOIN"
   ]
  },
  {
   "cell_type": "markdown",
   "metadata": {},
   "source": [
    "Let's now try some `RIGHT` joins. A RIGHT join will return all rows from the right hand table, plus any matches from the left hand side table.\n",
    "\n",
    "In addition to performing a RIGHT join, you'll also learn how to avoid problems when different tables have the same column names, by fully qualifying the column in your select statement. Remember, we do this by prefixing the column name with the table name.\n",
    "\n",
    "For this exercise, we'll return to the Chinook database from earlier in the chapter."
   ]
  },
  {
   "cell_type": "markdown",
   "metadata": {},
   "source": [
    "```\n",
    "SELECT \n",
    "  album.album_id,\n",
    "  title,\n",
    "  album.artist_id,\n",
    "  artist.name as artist\n",
    "FROM album\n",
    "INNER JOIN artist ON album.artist_id = artist.artist_id\n",
    "-- Perform the correct join type to return matches or NULLS from the track table\n",
    "RIGHT JOIN track on album.album_id = track.album_id\n",
    "WHERE album.album_id IN (213,214)\n",
    "```"
   ]
  },
  {
   "cell_type": "markdown",
   "metadata": {},
   "source": [
    "# UNION ALL Check"
   ]
  },
  {
   "cell_type": "markdown",
   "metadata": {},
   "source": [
    "Which of the following options correctly describes what happens when 2 queries are combined with `UNION ALL`?"
   ]
  },
  {
   "cell_type": "markdown",
   "metadata": {},
   "source": [
    "- All rows from both queries are returned, including duplicates."
   ]
  },
  {
   "cell_type": "markdown",
   "metadata": {},
   "source": [
    "# Join the UNION"
   ]
  },
  {
   "cell_type": "markdown",
   "metadata": {},
   "source": [
    "You can write 2 or more `SELECT` statements and combine the results using `UNION`. For example, you may have two different tables with similar column types. If you wanted to combine these into one set of results, you'd use `UNION`. You'll see how to do this using the `artist` and `album` tables. In this exercise, you'll `SELECT` two common columns, add a `description`, then a `Source` column so you can tell which table the columns originated from."
   ]
  },
  {
   "cell_type": "markdown",
   "metadata": {},
   "source": [
    "```\n",
    "SELECT \n",
    "  album_id AS ID,\n",
    "  title AS description,\n",
    "  'Album' AS Source\n",
    "  -- Complete the FROM statement\n",
    "FROM album\n",
    " -- Combine the result set using the relevant keyword\n",
    "UNION\n",
    "SELECT \n",
    "  artist_id AS ID,\n",
    "  name AS description,\n",
    "  'Artist'  AS Source\n",
    "  -- Complete the FROM statement\n",
    "FROM artist;\n",
    "```"
   ]
  }
 ],
 "metadata": {
  "kernelspec": {
   "display_name": "Python 3.8.11 ('env_py')",
   "language": "python",
   "name": "python3"
  },
  "language_info": {
   "name": "python",
   "version": "3.8.11"
  },
  "orig_nbformat": 4,
  "vscode": {
   "interpreter": {
    "hash": "1e949e87132dd83f1a7623eb88007e3532b03b66b77111be347aa4a383049722"
   }
  }
 },
 "nbformat": 4,
 "nbformat_minor": 2
}

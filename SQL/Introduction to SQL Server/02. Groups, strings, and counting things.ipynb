{
 "cells": [
  {
   "cell_type": "markdown",
   "metadata": {},
   "source": [
    "# Summing"
   ]
  },
  {
   "cell_type": "markdown",
   "metadata": {},
   "source": [
    "Summing and counting are key ways of aggregating data, regardless of whether you are using a database, manipulating a spreadsheet, or using a programming language such as Python or R. Let's see how to do it in T-SQL using the `grid` table from Chapter 1.\n",
    "\n",
    "You'll start by obtaining overall sums, focusing specifically on the `'MRO'` region."
   ]
  },
  {
   "cell_type": "markdown",
   "metadata": {},
   "source": [
    "```\n",
    "-- Sum the demand_loss_mw column\n",
    "SELECT \n",
    "  SUM(demand_loss_mw) AS MRO_demand_loss \n",
    "FROM \n",
    "  grid \n",
    "WHERE\n",
    "  -- demand_loss_mw should not contain NULL values\n",
    "  demand_loss_mw IS NOT NULL\n",
    "  -- and nerc_region should be 'MRO';\n",
    "  AND nerc_region = 'MRO';\n",
    "```"
   ]
  },
  {
   "cell_type": "markdown",
   "metadata": {},
   "source": [
    "# Counting"
   ]
  },
  {
   "cell_type": "markdown",
   "metadata": {},
   "source": [
    "Having explored the `'MRO'` region, let's now explore the `'RFC'` region in more detail while learning how to use the `COUNT` aggregate function."
   ]
  },
  {
   "cell_type": "markdown",
   "metadata": {},
   "source": [
    "```\n",
    "-- Obtain a count of 'grid_id'\n",
    "SELECT \n",
    "  COUNT(grid_id) AS RFC_count\n",
    "FROM \n",
    "  grid\n",
    "-- Restrict to rows where the nerc_region is 'RFC'\n",
    "WHERE\n",
    "  nerc_region = 'RFC';\n",
    "```"
   ]
  },
  {
   "cell_type": "markdown",
   "metadata": {},
   "source": [
    "# MIN, MAX and AVG"
   ]
  },
  {
   "cell_type": "markdown",
   "metadata": {},
   "source": [
    "Along with summing and counting, you'll frequently need to find the minimum, maximum, and average of column values. Thankfully, T-SQL has functions you can use to make the task easier!"
   ]
  },
  {
   "cell_type": "markdown",
   "metadata": {},
   "source": [
    "```\n",
    "-- Find the minimum number of affected customers\n",
    "SELECT \n",
    "  MIN(affected_customers) AS min_affected_customers \n",
    "FROM \n",
    "  grid\n",
    "-- Only retrieve rows where demand_loss_mw has a value\n",
    "WHERE\n",
    "  demand_loss_mw IS NOT NULL;\n",
    "```"
   ]
  },
  {
   "cell_type": "markdown",
   "metadata": {},
   "source": [
    "```\n",
    "-- Find the maximum number of affected customers\n",
    "SELECT \n",
    "  MAX(affected_customers) AS max_affected_customers \n",
    "FROM \n",
    "  grid\n",
    "-- Only retrieve rows where demand_loss_mw has a value\n",
    "WHERE \n",
    "  demand_loss_mw IS NOT NULL;\n",
    "```"
   ]
  },
  {
   "cell_type": "markdown",
   "metadata": {},
   "source": [
    "```\n",
    "-- Find the average number of affected customers\n",
    "SELECT \n",
    "  AVG(affected_customers) AS avg_affected_customers \n",
    "FROM \n",
    "  grid\n",
    "-- Only retrieve rows where demand_loss_mw has a value\n",
    "WHERE \n",
    "  demand_loss_mw IS NOT NULL;\n",
    "```"
   ]
  },
  {
   "cell_type": "markdown",
   "metadata": {},
   "source": [
    "# LEN'gth of a string"
   ]
  },
  {
   "cell_type": "markdown",
   "metadata": {},
   "source": [
    "Knowing the length of a string is key to being able to manipulate it further using other functions, so what better way to start the lesson?"
   ]
  },
  {
   "cell_type": "markdown",
   "metadata": {},
   "source": [
    "```\n",
    "-- Calculate the length of the description column\n",
    "SELECT \n",
    "  LEN (description) AS description_length \n",
    "FROM \n",
    "  grid;\n",
    "```"
   ]
  },
  {
   "cell_type": "markdown",
   "metadata": {},
   "source": [
    "# Left and right"
   ]
  },
  {
   "cell_type": "markdown",
   "metadata": {},
   "source": [
    "We can retrieve portions of a string from either the start of the string, using `LEFT`, or working back from the end of the string, using `RIGHT`."
   ]
  },
  {
   "cell_type": "markdown",
   "metadata": {},
   "source": [
    "```\n",
    "-- Select the first 25 characters from the left of the description column\n",
    "SELECT \n",
    "  LEFT(description, 25) AS first_25_left \n",
    "FROM \n",
    "  grid;\n",
    "```"
   ]
  },
  {
   "cell_type": "markdown",
   "metadata": {},
   "source": [
    "```\n",
    "-- Amend the query to select 25 characters from the  right of the description column\n",
    "SELECT \n",
    "  RIGHT(description, 25) AS last_25_right \n",
    "FROM \n",
    "  grid;\n",
    "```"
   ]
  },
  {
   "cell_type": "markdown",
   "metadata": {},
   "source": [
    "# Stuck in the middle with you"
   ]
  },
  {
   "cell_type": "markdown",
   "metadata": {},
   "source": [
    "You might be fortunate, and find that the interesting parts of your strings are at either end. However, chances are, you'll want to retrieve characters from somewhere around the middle. Let's see how to use `RIGHT`, `LEN`, `CHARINDEX` AND `SUBSTRING` to extract the interior portion of a text string. The `description` column can contain multiple reasons for power outages in each row. We want to extract any additional causes of outage whenever `Weather` appears in the description column."
   ]
  },
  {
   "cell_type": "markdown",
   "metadata": {},
   "source": [
    "```\n",
    "-- Complete the query to find `Weather` within the description column\n",
    "SELECT \n",
    "  description, \n",
    "  CHARINDEX('Weather', description) \n",
    "FROM \n",
    "  grid\n",
    "WHERE description LIKE '%Weather%';\n",
    "```"
   ]
  },
  {
   "cell_type": "markdown",
   "metadata": {},
   "source": [
    "```\n",
    "-- Complete the query to find the length of `Weather'\n",
    "SELECT \n",
    "  description, \n",
    "  CHARINDEX('Weather', description) AS start_of_string,\n",
    "  LEN('Weather') AS length_of_string \n",
    "FROM \n",
    "  grid\n",
    "WHERE description LIKE '%Weather%'; \n",
    "```"
   ]
  },
  {
   "cell_type": "markdown",
   "metadata": {},
   "source": [
    "```\n",
    "-- Complete the substring function to begin extracting from the correct character in the description column\n",
    "SELECT TOP (10)\n",
    "  description, \n",
    "  CHARINDEX('Weather', description) AS start_of_string, \n",
    "  LEN ('Weather') AS length_of_string, \n",
    "  SUBSTRING(\n",
    "    description, \n",
    "    15, \n",
    "    LEN(description)\n",
    "  ) AS additional_description \n",
    "FROM \n",
    "  grid\n",
    "WHERE description LIKE '%Weather%';\n",
    "```"
   ]
  },
  {
   "cell_type": "markdown",
   "metadata": {},
   "source": [
    "# GROUP BY"
   ]
  },
  {
   "cell_type": "markdown",
   "metadata": {},
   "source": [
    "In an earlier exercise, you wrote a separate `WHERE` query to determine the amount of demand lost for a specific region. We wouldn't want to have to write individual queries for every region. Fortunately,you don't have to write individual queries for every region. With `GROUP BY`, you can obtain a sum of all the unique values for your chosen column, all at once.\n",
    "\n",
    "You'll return to the `grid` table here and calculate the total lost demand for all regions."
   ]
  },
  {
   "cell_type": "markdown",
   "metadata": {},
   "source": [
    "```\n",
    "-- Select the region column\n",
    "SELECT \n",
    "  nerc_region,\n",
    "  -- Sum the demand_loss_mw column\n",
    "  SUM(demand_loss_mw) AS demand_loss\n",
    "FROM \n",
    "  grid\n",
    "  -- Exclude NULL values of demand_loss\n",
    "WHERE \n",
    "  demand_loss_mw IS NOT NULL\n",
    "  -- Group the results by nerc_region\n",
    "GROUP BY nerc_region\n",
    "  -- Order the results in descending order of demand_loss\n",
    "ORDER BY demand_loss DESC;\n",
    "```"
   ]
  },
  {
   "cell_type": "markdown",
   "metadata": {},
   "source": [
    "# Having"
   ]
  },
  {
   "cell_type": "markdown",
   "metadata": {},
   "source": [
    "`WHERE` is used to filter rows before any grouping occurs. Once you have performed a grouping operation, you may want to further restrict the number of rows returned. This is a job for `HAVING`. In this exercise, you will modify an existing query to use `HAVING`, so that only those results with a sum of over `10000` are returned."
   ]
  },
  {
   "cell_type": "markdown",
   "metadata": {},
   "source": [
    "```\n",
    "SELECT \n",
    "  nerc_region, \n",
    "  SUM (demand_loss_mw) AS demand_loss \n",
    "FROM \n",
    "  grid \n",
    "  -- Remove the WHERE clause\n",
    "GROUP BY \n",
    "  nerc_region \n",
    "  -- Enter a new HAVING clause so that the sum of demand_loss_mw is greater than 10000\n",
    "HAVING \n",
    "  SUM(demand_loss_mw) > 10000 \n",
    "ORDER BY \n",
    "  demand_loss DESC;\n",
    "```"
   ]
  },
  {
   "cell_type": "markdown",
   "metadata": {},
   "source": [
    "# Grouping together"
   ]
  },
  {
   "cell_type": "markdown",
   "metadata": {},
   "source": [
    "In this final exercise, you will combine `GROUP BY` with aggregate functions such as `MIN` that you've seen earlier in this chapter.\n",
    "\n",
    "To conclude this chapter, we'll return to the `eurovision` table from the first chapter."
   ]
  },
  {
   "cell_type": "markdown",
   "metadata": {},
   "source": [
    "```\n",
    "SELECT \n",
    "  country, \n",
    "  COUNT (country) AS country_count, \n",
    "  AVG (place) AS avg_place, \n",
    "  AVG (points) AS avg_points, \n",
    "  MIN (points) AS min_points, \n",
    "  MAX (points) AS max_points \n",
    "FROM \n",
    "  eurovision \n",
    "GROUP BY \n",
    "  country \n",
    "  -- The country column should only contain those with a count greater than 5\n",
    "HAVING \n",
    "  COUNT(country) > 5 \n",
    "  -- Arrange columns in the correct order\n",
    "ORDER BY \n",
    "  avg_place, \n",
    "  avg_points DESC;\n",
    "```"
   ]
  }
 ],
 "metadata": {
  "kernelspec": {
   "display_name": "Python 3.8.11 ('env_py')",
   "language": "python",
   "name": "python3"
  },
  "language_info": {
   "name": "python",
   "version": "3.8.11"
  },
  "orig_nbformat": 4,
  "vscode": {
   "interpreter": {
    "hash": "1e949e87132dd83f1a7623eb88007e3532b03b66b77111be347aa4a383049722"
   }
  }
 },
 "nbformat": 4,
 "nbformat_minor": 2
}

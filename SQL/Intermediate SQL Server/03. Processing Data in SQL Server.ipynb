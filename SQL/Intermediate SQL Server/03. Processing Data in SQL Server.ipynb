{
 "cells": [
  {
   "cell_type": "markdown",
   "metadata": {},
   "source": [
    "# Creating and using variables"
   ]
  },
  {
   "cell_type": "markdown",
   "metadata": {},
   "source": [
    "In T-SQL, to create a variable you use the `DECLARE` statement. The variables must have an at sign (`@`) as their first character. Like most things in T-SQL, variables are not case sensitive. To assign a value to a variable, you can either use the keyword `SET` or a `SELECT` statement, then the variable name followed by an equal sign and a value."
   ]
  },
  {
   "cell_type": "markdown",
   "metadata": {},
   "source": [
    "```\n",
    "-- Declare the variable (a SQL Command, the var name, the datatype)\n",
    "DECLARE @counter INT \n",
    "\n",
    "-- Set the counter to 20\n",
    "SET @counter = 20\n",
    "\n",
    "-- Select and increment the counter by one \n",
    "SET @counter = @counter + 1\n",
    "\n",
    "-- Print the variable\n",
    "SELECT @counter\n",
    "```"
   ]
  },
  {
   "cell_type": "markdown",
   "metadata": {},
   "source": [
    "# Creating a WHILE loop"
   ]
  },
  {
   "cell_type": "markdown",
   "metadata": {},
   "source": [
    "In this exercise, you will use the variable you created in the previous exercise you write a `WHILE` loop. Recall that structure:\n",
    "```\n",
    "WHILE some_condition \n",
    "\n",
    "BEGIN \n",
    "    -- Perform some operation here\n",
    "END\n",
    "```"
   ]
  },
  {
   "cell_type": "markdown",
   "metadata": {},
   "source": [
    "```\n",
    "DECLARE @counter INT \n",
    "SET @counter = 20\n",
    "\n",
    "-- Create a loop\n",
    "WHILE @counter < 30\n",
    "\n",
    "-- Loop code starting point\n",
    "BEGIN\n",
    "\tSELECT @counter = @counter + 1\n",
    "-- Loop finish\n",
    "END\n",
    "\n",
    "-- Check the value of the variable\n",
    "SELECT @counter\n",
    "```"
   ]
  },
  {
   "cell_type": "markdown",
   "metadata": {},
   "source": [
    "# Queries with derived tables (I)"
   ]
  },
  {
   "cell_type": "markdown",
   "metadata": {},
   "source": [
    "The focus of this lesson is derived tables. You can use derived tables when you want to break down a complex query into smaller steps. A derived table is a query which is used in the place of a table. Derived tables are a great solution if you want to create intermediate calculations that need to be used in a larger query.\n",
    "\n",
    "In this exercise, you will calculate the maximum value of the blood glucose level for each record by age."
   ]
  },
  {
   "cell_type": "markdown",
   "metadata": {},
   "source": [
    "```\n",
    "SELECT a.RecordId, a.Age, a.BloodGlucoseRandom, \n",
    "-- Select maximum glucose value (use colname from derived table)    \n",
    "       b.MaxGlucose\n",
    "FROM Kidney a\n",
    "-- Join to derived table\n",
    "JOIN (SELECT Age, MAX(BloodGlucoseRandom) AS MaxGlucose FROM Kidney GROUP BY Age) b\n",
    "-- Join on Age\n",
    "ON a.Age = b.Age\n",
    "```"
   ]
  },
  {
   "cell_type": "markdown",
   "metadata": {},
   "source": [
    "# Queries with derived tables (II)"
   ]
  },
  {
   "cell_type": "markdown",
   "metadata": {},
   "source": [
    "In this exercise, you will create a derived table to return all patient records with the highest BloodPressure at their `Age` level"
   ]
  },
  {
   "cell_type": "markdown",
   "metadata": {},
   "source": [
    "```\n",
    "SELECT *\n",
    "FROM Kidney a\n",
    "-- Create derived table: select age, max blood pressure from kidney grouped by age\n",
    "JOIN (SELECT Age, MAX(BloodPressure) AS MaxBloodPressure FROM kidney GROUP BY Age) b\n",
    "-- JOIN on BloodPressure equal to MaxBloodPressure\n",
    "ON a.BloodPressure = b.MaxBloodPressure\n",
    "-- Join on Age\n",
    "AND a.Age = b.Age\n",
    "```"
   ]
  },
  {
   "cell_type": "markdown",
   "metadata": {},
   "source": [
    "# CTE syntax"
   ]
  },
  {
   "cell_type": "markdown",
   "metadata": {},
   "source": [
    "Select all the T-SQL keywords used to create a Common table expression.\n",
    "\n",
    "- `DEALLOCATE`\n",
    "- `OPEN`\n",
    "- `AS`\n",
    "- `WITH`\n",
    "- `CTE`"
   ]
  },
  {
   "cell_type": "markdown",
   "metadata": {},
   "source": [
    "- `WITH` and `AS`"
   ]
  },
  {
   "cell_type": "markdown",
   "metadata": {},
   "source": [
    "# Creating CTEs (I)"
   ]
  },
  {
   "cell_type": "markdown",
   "metadata": {},
   "source": [
    "A Common table expression or CTE is used to create a table that can later be used with a query. To create a CTE, you will always use the `WITH` keyword followed by the CTE name and the name of the columns the CTE contains. The CTE will also include the definition of the table enclosed within the `AS()`.\n",
    "\n",
    "In this exercise, you will use a CTE to return all the ages with the maximum `BloodGlucoseRandom` in the table."
   ]
  },
  {
   "cell_type": "markdown",
   "metadata": {},
   "source": [
    "```\n",
    "-- Specify the keyowrds to create the CTE\n",
    "WITH BloodGlucoseRandom (MaxGlucose) \n",
    "AS (SELECT MAX(BloodGlucoseRandom) AS MaxGlucose FROM Kidney)\n",
    "\n",
    "SELECT a.Age, b.MaxGlucose\n",
    "FROM Kidney a\n",
    "-- Join the CTE on blood glucose equal to max blood glucose\n",
    "JOIN BloodGlucoseRandom b\n",
    "ON a.BloodGlucoseRandom = b.MaxGlucose\n",
    "```"
   ]
  },
  {
   "cell_type": "markdown",
   "metadata": {},
   "source": [
    "# Creating CTEs (II)"
   ]
  },
  {
   "cell_type": "markdown",
   "metadata": {},
   "source": [
    "In this exercise, you will use a CTE to return all the information regarding the patient(s) with the maximum `BloodPressure`."
   ]
  },
  {
   "cell_type": "markdown",
   "metadata": {},
   "source": [
    "```\n",
    "-- Create the CTE\n",
    "WITH BloodPressure(MaxBloodPressure) \n",
    "AS (SELECT MAX(BloodPressure) AS MaxBloodPressure FROM Kidney)\n",
    "\n",
    "SELECT *\n",
    "FROM Kidney a\n",
    "-- Join the CTE  \n",
    "JOIN BloodPressure b\n",
    "ON a.BloodPressure = b.MaxBloodPressure\n",
    "```"
   ]
  }
 ],
 "metadata": {
  "kernelspec": {
   "display_name": "Python 3.8.11 ('env_py')",
   "language": "python",
   "name": "python3"
  },
  "language_info": {
   "name": "python",
   "version": "3.8.11"
  },
  "orig_nbformat": 4,
  "vscode": {
   "interpreter": {
    "hash": "1e949e87132dd83f1a7623eb88007e3532b03b66b77111be347aa4a383049722"
   }
  }
 },
 "nbformat": 4,
 "nbformat_minor": 2
}

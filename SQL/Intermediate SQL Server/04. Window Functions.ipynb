{
 "cells": [
  {
   "cell_type": "markdown",
   "metadata": {},
   "source": [
    "# Window functions with aggregations (I)"
   ]
  },
  {
   "cell_type": "markdown",
   "metadata": {},
   "source": [
    "To familiarize yourself with the window functions, you will work with the Orders table in this chapter. Recall that using `OVER()`, you can create a window for the entire table. To create partitions using a specific column, you need to use `OVER()` along with `PARTITION BY`."
   ]
  },
  {
   "cell_type": "markdown",
   "metadata": {},
   "source": [
    "```\n",
    "SELECT OrderID, TerritoryName, \n",
    "       -- Total price for each partition\n",
    "       SUM(OrderPrice) \n",
    "       -- Create the window and partitions\n",
    "       OVER(PARTITION BY TerritoryName) AS TotalPrice\n",
    "FROM Orders\n",
    "```"
   ]
  },
  {
   "cell_type": "markdown",
   "metadata": {},
   "source": [
    "# Window functions with aggregations (II)"
   ]
  },
  {
   "cell_type": "markdown",
   "metadata": {},
   "source": [
    "In the last exercise, you calculated the sum of all orders for each territory. In this exercise, you will calculate the number of orders in each territory."
   ]
  },
  {
   "cell_type": "markdown",
   "metadata": {},
   "source": [
    "```\n",
    "SELECT OrderID, TerritoryName, \n",
    "       -- Number of rows per partition\n",
    "       COUNT(*) \n",
    "       -- Create the window and partitions\n",
    "       OVER(PARTITION BY TerritoryName) AS TotalOrders\n",
    "FROM Orders\n",
    "```"
   ]
  },
  {
   "cell_type": "markdown",
   "metadata": {},
   "source": [
    "# Do you know window functions?"
   ]
  },
  {
   "cell_type": "markdown",
   "metadata": {},
   "source": [
    "Which of the following statements is incorrect regarding window queries?"
   ]
  },
  {
   "cell_type": "markdown",
   "metadata": {},
   "source": [
    "- The standard aggregations like `SUM()`, `AVG()`, and `COUNT()` require ORDER BY in the `OVER()` clause."
   ]
  },
  {
   "cell_type": "markdown",
   "metadata": {},
   "source": [
    "# First value in a window"
   ]
  },
  {
   "cell_type": "markdown",
   "metadata": {},
   "source": [
    "Suppose you want to figure out the first `OrderDate` in each territory or the last one. How would you do that? You can use the window functions `FIRST_VALUE()` and `LAST_VALUE()`, respectively! Here are the steps:\n",
    "\n",
    "- First, create partitions for each territory\n",
    "- Then, order by `OrderDate`\n",
    "- Finally, use the `FIRST_VALUE()` and/or `LAST_VALUE()` functions as per your requirement"
   ]
  },
  {
   "cell_type": "markdown",
   "metadata": {},
   "source": [
    "```\n",
    "SELECT TerritoryName, OrderDate, \n",
    "       -- Select the first value in each partition\n",
    "       FIRST_VALUE(OrderDate) \n",
    "       -- Create the partitions and arrange the rows\n",
    "       OVER(PARTITION BY TerritoryName ORDER BY OrderDate) AS FirstOrder\n",
    "FROM Orders\n",
    "```"
   ]
  },
  {
   "cell_type": "markdown",
   "metadata": {},
   "source": [
    "# Previous and next values"
   ]
  },
  {
   "cell_type": "markdown",
   "metadata": {},
   "source": [
    "What if you want to shift the values in a column by one row up or down? You can use the exact same steps as in the previous exercise but with two new functions, `LEAD()`, for the next value, and `LAG()`, for the previous value. So you follow these steps:\n",
    "\n",
    "- First, create partitions\n",
    "- Then, order by a certain column\n",
    "- Finally, use the `LEAD()` and/or `LAG()` functions as per your requirement"
   ]
  },
  {
   "cell_type": "markdown",
   "metadata": {},
   "source": [
    "```\n",
    "SELECT TerritoryName, OrderDate, \n",
    "       -- Specify the previous OrderDate in the window\n",
    "       LAG(OrderDate) \n",
    "       -- Over the window, partition by territory & order by order date\n",
    "       OVER(PARTITION BY TerritoryName ORDER BY OrderDate) AS PreviousOrder,\n",
    "       -- Specify the next OrderDate in the window\n",
    "       LEAD(OrderDate) \n",
    "       -- Create the partitions and arrange the rows\n",
    "       OVER(PARTITION BY TerritoryName ORDER BY OrderDate) AS NextOrder\n",
    "FROM Orders\n",
    "```"
   ]
  },
  {
   "cell_type": "markdown",
   "metadata": {},
   "source": [
    "# Creating running totals"
   ]
  },
  {
   "cell_type": "markdown",
   "metadata": {},
   "source": [
    "You usually don't have to use `ORDER BY` when using aggregations, but if you want to create running totals, you should arrange your rows! In this exercise, you will create a running total of `OrderPrice`."
   ]
  },
  {
   "cell_type": "markdown",
   "metadata": {},
   "source": [
    "```\n",
    "SELECT TerritoryName, OrderDate, \n",
    "       -- Create a running total\n",
    "       SUM(OrderPrice) \n",
    "       -- Create the partitions and arrange the rows\n",
    "       OVER(PARTITION BY TerritoryName ORDER BY OrderDate) AS TerritoryTotal\t  \n",
    "FROM Orders\n",
    "```"
   ]
  },
  {
   "cell_type": "markdown",
   "metadata": {},
   "source": [
    "# Assigning row numbers"
   ]
  },
  {
   "cell_type": "markdown",
   "metadata": {},
   "source": [
    "Records in T-SQL are inherently unordered. Although in certain situations, you may want to assign row numbers for reference. In this exercise, you will do just that."
   ]
  },
  {
   "cell_type": "markdown",
   "metadata": {},
   "source": [
    "```\n",
    "SELECT TerritoryName, OrderDate, \n",
    "       -- Assign a row number\n",
    "       ROW_NUMBER() \n",
    "       -- Create the partitions and arrange the rows\n",
    "       OVER(PARTITION BY TerritoryName ORDER BY OrderDate) AS OrderCount\n",
    "FROM Orders\n",
    "```"
   ]
  },
  {
   "cell_type": "markdown",
   "metadata": {},
   "source": [
    "# Calculating standard deviation"
   ]
  },
  {
   "cell_type": "markdown",
   "metadata": {},
   "source": [
    "Calculating the standard deviation is quite common when dealing with numeric columns. In this exercise, you will calculate the running standard deviation, similar to the running total you calculated in the previous lesson."
   ]
  },
  {
   "cell_type": "markdown",
   "metadata": {},
   "source": [
    "```\n",
    "SELECT OrderDate, TerritoryName, \n",
    "       -- Calculate the standard deviation\n",
    "\t   STDEV(OrderPrice) \n",
    "       OVER(PARTITION BY TerritoryName ORDER BY OrderDate) AS StdDevPrice\t  \n",
    "FROM Orders\n",
    "```"
   ]
  },
  {
   "cell_type": "markdown",
   "metadata": {},
   "source": [
    "# Calculating mode (I)"
   ]
  },
  {
   "cell_type": "markdown",
   "metadata": {},
   "source": [
    "Unfortunately, there is no function to calculate the mode, the most recurring value in a column. To calculate the mode:\n",
    "\n",
    "- First, create a CTE containing an ordered count of values using `ROW_NUMBER()`\n",
    "- Write a query using the CTE to pick the value with the highest row number\n",
    "\n",
    "In this exercise, you will write the CTE needed to calculate the mode of `OrderPrice`."
   ]
  },
  {
   "cell_type": "markdown",
   "metadata": {},
   "source": [
    "```\n",
    "-- Create a CTE Called ModePrice which contains two columns\n",
    "WITH ModePrice (OrderPrice, UnitPriceFrequency)\n",
    "AS\n",
    "(\n",
    "\tSELECT OrderPrice, \n",
    "\tROW_NUMBER() \n",
    "\tOVER(PARTITION BY OrderPrice ORDER BY OrderPrice) AS UnitPriceFrequency\n",
    "\tFROM Orders \n",
    ")\n",
    "\n",
    "-- Select everything from the CTE\n",
    "SELECT * FROM ModePrice\n",
    "```"
   ]
  },
  {
   "cell_type": "markdown",
   "metadata": {},
   "source": [
    "# Calculating mode (II)"
   ]
  },
  {
   "cell_type": "markdown",
   "metadata": {},
   "source": [
    "In the last exercise, you created a CTE which assigned row numbers to each unique value in `OrderPrice`. All you need to do now is to find the `OrderPrice` with the highest row number."
   ]
  },
  {
   "cell_type": "markdown",
   "metadata": {},
   "source": [
    "```\n",
    "-- CTE from the previous exercise\n",
    "WITH ModePrice (OrderPrice, UnitPriceFrequency)\n",
    "AS\n",
    "(\n",
    "\tSELECT OrderPrice,\n",
    "\tROW_NUMBER() \n",
    "    OVER (PARTITION BY OrderPrice ORDER BY OrderPrice) AS UnitPriceFrequency\n",
    "\tFROM Orders\n",
    ")\n",
    "\n",
    "-- Select the order price from the CTE\n",
    "SELECT OrderPrice AS ModeOrderPrice\n",
    "FROM ModePrice\n",
    "-- Select the maximum UnitPriceFrequency from the CTE\n",
    "WHERE UnitPriceFrequency IN (SELECT MAX(UnitPriceFrequency) FROM ModePrice)\n",
    "```"
   ]
  }
 ],
 "metadata": {
  "kernelspec": {
   "display_name": "Python 3.8.11 ('env_py')",
   "language": "python",
   "name": "python3"
  },
  "language_info": {
   "name": "python",
   "version": "3.8.11"
  },
  "orig_nbformat": 4,
  "vscode": {
   "interpreter": {
    "hash": "1e949e87132dd83f1a7623eb88007e3532b03b66b77111be347aa4a383049722"
   }
  }
 },
 "nbformat": 4,
 "nbformat_minor": 2
}

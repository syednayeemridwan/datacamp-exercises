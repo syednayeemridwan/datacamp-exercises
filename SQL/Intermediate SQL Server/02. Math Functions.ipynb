{
 "cells": [
  {
   "cell_type": "markdown",
   "metadata": {},
   "source": [
    "# Calculating the total"
   ]
  },
  {
   "cell_type": "markdown",
   "metadata": {},
   "source": [
    "In this chapter, you will use the shipments data. The `Shipments` table has several columns such as:\n",
    "\n",
    "- `MixDesc`: the concrete type\n",
    "- `Quantity`: the amount of concrete shipped\n",
    "\n",
    "In this exercise, your objective is to calculate the total quantity for each type of concrete used."
   ]
  },
  {
   "cell_type": "markdown",
   "metadata": {},
   "source": [
    "```\n",
    "-- Write a query that returns an aggregation \n",
    "SELECT MixDesc, SUM(Quantity) AS Total\n",
    "FROM Shipments\n",
    "-- Group by the relevant column\n",
    "GROUP BY MixDesc\n",
    "```"
   ]
  },
  {
   "cell_type": "markdown",
   "metadata": {},
   "source": [
    "# Counting the number of rows"
   ]
  },
  {
   "cell_type": "markdown",
   "metadata": {},
   "source": [
    "In this exercise, you will calculate the number of orders for each concrete type. Since each row represents one order, all you need to is count the number of rows for each type of `MixDesc`."
   ]
  },
  {
   "cell_type": "markdown",
   "metadata": {},
   "source": [
    "```\n",
    "-- Count the number of rows by MixDesc\n",
    "SELECT MixDesc, COUNT(*)\n",
    "FROM Shipments\n",
    "GROUP BY MixDesc\n",
    "```"
   ]
  },
  {
   "cell_type": "markdown",
   "metadata": {},
   "source": [
    "# Which date function should you use?"
   ]
  },
  {
   "cell_type": "markdown",
   "metadata": {},
   "source": [
    "Suppose you want to calculate the number of years between two different dates, `DateOne` and `DateTwo`. Which SQL statement would you use to perform that calculation?"
   ]
  },
  {
   "cell_type": "markdown",
   "metadata": {},
   "source": [
    "- `SELECT DATEDIFF(YYYY, DateOne, DateTwo)`"
   ]
  },
  {
   "cell_type": "markdown",
   "metadata": {},
   "source": [
    "# Counting the number of days between dates"
   ]
  },
  {
   "cell_type": "markdown",
   "metadata": {},
   "source": [
    "In this exercise, you will calculate the difference between the order date and ship date."
   ]
  },
  {
   "cell_type": "markdown",
   "metadata": {},
   "source": [
    "```\n",
    "-- Return the difference in OrderDate and ShipDate\n",
    "SELECT OrderDate, ShipDate, \n",
    "       DATEDIFF(DD, OrderDate, ShipDate) AS Duration\n",
    "FROM Shipments\n",
    "```"
   ]
  },
  {
   "cell_type": "markdown",
   "metadata": {},
   "source": [
    "# Adding days to a date"
   ]
  },
  {
   "cell_type": "markdown",
   "metadata": {},
   "source": [
    "In this exercise, you will calculate the approximate delivery date of an order based on `ShipDate`."
   ]
  },
  {
   "cell_type": "markdown",
   "metadata": {},
   "source": [
    "```\n",
    "-- Return the DeliveryDate as 5 days after the ShipDate\n",
    "SELECT OrderDate, \n",
    "       DATEADD(DD,5,ShipDate) AS DeliveryDate\n",
    "FROM Shipments\n",
    "```"
   ]
  },
  {
   "cell_type": "markdown",
   "metadata": {},
   "source": [
    "# Rounding numbers"
   ]
  },
  {
   "cell_type": "markdown",
   "metadata": {},
   "source": [
    "Sometimes, you only care about the whole dollar amount and want to ignore the decimal values of the cost. In this exercise, you will round the cost to the nearest dollar."
   ]
  },
  {
   "cell_type": "markdown",
   "metadata": {},
   "source": [
    "```\n",
    "-- Round Cost to the nearest dollar\n",
    "SELECT Cost, \n",
    "       ROUND(Cost,0) AS RoundedCost\n",
    "FROM Shipments\n",
    "```"
   ]
  },
  {
   "cell_type": "markdown",
   "metadata": {},
   "source": [
    "# Truncating numbers"
   ]
  },
  {
   "cell_type": "markdown",
   "metadata": {},
   "source": [
    "Since rounding can sometimes be misleading, i.e., $16.8 becomes $17 while $16.4 remains $16, you may want to truncate the values after the decimal instead of rounding them. When you truncate the numbers, both $16.8 and $16.4 remain $16. In this exercise, you will do just that, truncate the `Cost` column to a whole number."
   ]
  },
  {
   "cell_type": "markdown",
   "metadata": {},
   "source": [
    "```\n",
    "-- Truncate cost to whole number\n",
    "SELECT Cost, \n",
    "       ROUND(Cost,0,1) AS TruncateCost\n",
    "FROM Shipments\n",
    "```"
   ]
  },
  {
   "cell_type": "markdown",
   "metadata": {},
   "source": [
    "# Calculating the absolute value"
   ]
  },
  {
   "cell_type": "markdown",
   "metadata": {},
   "source": [
    "The `Shipments` table contains some bad data. There was a problem with the scales, and the weights show up as negative numbers. In this exercise, you will write a query to convert all negative weights to positive weights."
   ]
  },
  {
   "cell_type": "markdown",
   "metadata": {},
   "source": [
    "```\n",
    "-- Return the absolute value of DeliveryWeight\n",
    "SELECT DeliveryWeight,\n",
    "       ABS(DeliveryWeight) AS AbsoluteValue\n",
    "FROM Shipments\n",
    "```"
   ]
  },
  {
   "cell_type": "markdown",
   "metadata": {},
   "source": [
    "# Calculating squares and square roots"
   ]
  },
  {
   "cell_type": "markdown",
   "metadata": {},
   "source": [
    "It's time for you to practice calculating squares and square roots of columns."
   ]
  },
  {
   "cell_type": "markdown",
   "metadata": {},
   "source": [
    "```\n",
    "-- Return the square and square root of WeightValue\n",
    "SELECT WeightValue, \n",
    "       SQUARE(WeightValue) AS WeightSquare, \n",
    "       SQRT(WeightValue) AS WeightSqrt\n",
    "FROM Shipments\n",
    "```"
   ]
  }
 ],
 "metadata": {
  "kernelspec": {
   "display_name": "Python 3.8.11 ('env_py')",
   "language": "python",
   "name": "python3"
  },
  "language_info": {
   "name": "python",
   "version": "3.8.11"
  },
  "orig_nbformat": 4,
  "vscode": {
   "interpreter": {
    "hash": "1e949e87132dd83f1a7623eb88007e3532b03b66b77111be347aa4a383049722"
   }
  }
 },
 "nbformat": 4,
 "nbformat_minor": 2
}

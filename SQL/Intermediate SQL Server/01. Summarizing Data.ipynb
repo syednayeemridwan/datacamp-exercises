{
 "cells": [
  {
   "cell_type": "markdown",
   "metadata": {},
   "source": [
    "# Creating aggregations"
   ]
  },
  {
   "cell_type": "markdown",
   "metadata": {},
   "source": [
    "This chapter uses data gathered by the National UFO Reporting Center. The data is contained in the `Incidents` table and in this lesson, you will be aggregating values in the `DurationSeconds` column."
   ]
  },
  {
   "cell_type": "markdown",
   "metadata": {},
   "source": [
    "```\n",
    "-- Calculate the average, minimum and maximum\n",
    "SELECT AVG(DurationSeconds) AS Average, \n",
    "       MIN(DurationSeconds) AS Minimum, \n",
    "       MAX(DurationSeconds) AS Maximum\n",
    "FROM Incidents\n",
    "\n",
    "```"
   ]
  },
  {
   "cell_type": "markdown",
   "metadata": {},
   "source": [
    "# Creating grouped aggregations"
   ]
  },
  {
   "cell_type": "markdown",
   "metadata": {},
   "source": [
    "You can calculate statistics for each group using `GROUP BY`. For example, you can calculate the maximum value for each state using the following query:\n",
    "```\n",
    "SELECT State, MAX(DurationSeconds)\n",
    "FROM Incidents\n",
    "GROUP BY State\n",
    "```\n",
    "To filter even further, for example, to find the values for states where the maximum value is greater than 10, you can use the `HAVING` clause."
   ]
  },
  {
   "cell_type": "markdown",
   "metadata": {},
   "source": [
    "```\n",
    "-- Calculate the aggregations by Shape\n",
    "SELECT Shape,\n",
    "       AVG(DurationSeconds) AS Average, \n",
    "       MIN(DurationSeconds) AS Minimum, \n",
    "       MAX(DurationSeconds) AS Maximum\n",
    "FROM Incidents\n",
    "GROUP BY Shape\n",
    "-- Return records where minimum of DurationSeconds is greater than 1\n",
    "HAVING MIN(DurationSeconds) > 1\n",
    "```"
   ]
  },
  {
   "cell_type": "markdown",
   "metadata": {},
   "source": [
    "# Removing missing values"
   ]
  },
  {
   "cell_type": "markdown",
   "metadata": {},
   "source": [
    "There are a number of different techniques you can use to fix missing data in T-SQL and in this exercise, you will focus on returning rows with non-missing values. For example, to return all rows with non-missing `SHAPE` values, you can use:\n",
    "```\n",
    "SELECT *  \n",
    "FROM Incidents\n",
    "WHERE Shape IS NOT NULL\n",
    "```"
   ]
  },
  {
   "cell_type": "markdown",
   "metadata": {},
   "source": [
    "```\n",
    "-- Return the specified columns\n",
    "SELECT IncidentDateTime , IncidentState\n",
    "FROM Incidents\n",
    "-- Exclude all the missing values from IncidentState  \n",
    "WHERE IncidentState IS NOT NULL\n",
    "```"
   ]
  },
  {
   "cell_type": "markdown",
   "metadata": {},
   "source": [
    "# Imputing missing values (I)"
   ]
  },
  {
   "cell_type": "markdown",
   "metadata": {},
   "source": [
    "In the previous exercise, you looked at the non-missing values in the `IncidentState` column. But what if you want to replace the missing values with another value instead of omitting them? You can do this using the `ISNULL()` function. Here we replace all the missing values in the `Shape` column using the word `'Saucer'`:\n",
    "```\n",
    "SELECT  Shape, ISNULL(Shape, 'Saucer') AS Shape2\n",
    "FROM Incidents\n",
    "```\n",
    "You can also use `ISNULL()` to replace values from a different column instead of a specified word."
   ]
  },
  {
   "cell_type": "markdown",
   "metadata": {},
   "source": [
    "```\n",
    "-- Check the IncidentState column for missing values and replace them with the City column\n",
    "SELECT IncidentState, ISNULL(IncidentState,City) AS Location\n",
    "FROM Incidents\n",
    "-- Filter to only return missing values from IncidentState\n",
    "WHERE IncidentState IS NULL\n",
    "```"
   ]
  },
  {
   "cell_type": "markdown",
   "metadata": {},
   "source": [
    "# Imputing missing values (II)"
   ]
  },
  {
   "cell_type": "markdown",
   "metadata": {},
   "source": [
    "What if you want to replace missing values in one column with another and want to check the replacement column to make sure it doesn't have any missing values? To do that you need to use the `COALESCE` statement.\n",
    "```\n",
    "SELECT Shape, City, COALESCE(Shape, City, 'Unknown') as NewShape\n",
    "FROM Incidents\n",
    "+----------------+-----------+-------------+\n",
    "| Shape          |  City     |  NewShape   |\n",
    "+----------------+-----------+-------------+\n",
    "| NULL           | Orb       | Orb         |\n",
    "| Triangle       | Toledo    | Triangle    |\n",
    "| NULL           | NULL      | Unknown     | \n",
    "+----------------+-----------+-------------+\n",
    "```"
   ]
  },
  {
   "cell_type": "markdown",
   "metadata": {},
   "source": [
    "```\n",
    "-- Replace missing values \n",
    "SELECT Country, COALESCE(IncidentState, City, 'Unknown') AS Location\n",
    "FROM Incidents\n",
    "WHERE Country IS NULL\n",
    "```"
   ]
  },
  {
   "cell_type": "markdown",
   "metadata": {},
   "source": [
    "# Using CASE statements"
   ]
  },
  {
   "cell_type": "markdown",
   "metadata": {},
   "source": [
    "In this exercise, you will use a `CASE` statement to create a new column which specifies whether the Country is `USA` or `International`."
   ]
  },
  {
   "cell_type": "markdown",
   "metadata": {},
   "source": [
    "```\n",
    "SELECT Country, \n",
    "       CASE WHEN Country = 'us'  THEN 'USA'\n",
    "       ELSE 'International'\n",
    "       END AS SourceCountry\n",
    "FROM Incidents\n",
    "```"
   ]
  },
  {
   "cell_type": "markdown",
   "metadata": {},
   "source": [
    "# Creating several groups with CASE"
   ]
  },
  {
   "cell_type": "markdown",
   "metadata": {},
   "source": [
    "In this exercise, you will write a `CASE` statement to group the values in the `DurationSeconds` into 5 groups based on the following ranges:\n",
    "```\n",
    "DurationSeconds\t    SecondGroup\n",
    "<= 120                  1\n",
    "> 120 and <= 600        2\n",
    "> 600 and <= 1200       3\n",
    "> 1201 and <= 5000      4\n",
    "For all other values\t5\n",
    "```"
   ]
  },
  {
   "cell_type": "markdown",
   "metadata": {},
   "source": [
    "```\n",
    "-- Complete the syntax for cutting the duration into different cases\n",
    "SELECT DurationSeconds, \n",
    "-- Start with the 2 TSQL keywords, and after the condition a TSQL word and a value\n",
    "      CASE WHEN (DurationSeconds <= 120) THEN 1\n",
    "-- The pattern repeats with the same keyword and after the condition the same word and next value          \n",
    "       WHEN (DurationSeconds > 120 AND DurationSeconds <= 600) THEN 2\n",
    "-- Use the same syntax here             \n",
    "       WHEN (DurationSeconds > 601 AND DurationSeconds <= 1200) THEN 3\n",
    "-- Use the same syntax here               \n",
    "       WHEN (DurationSeconds > 1201 AND DurationSeconds <= 5000) THEN 4\n",
    "-- Specify a value      \n",
    "       ELSE 5 \n",
    "       END AS SecondGroup   \n",
    "FROM Incidents\n",
    "```"
   ]
  }
 ],
 "metadata": {
  "kernelspec": {
   "display_name": "Python 3.8.11 ('env_py')",
   "language": "python",
   "name": "python3"
  },
  "language_info": {
   "name": "python",
   "version": "3.8.11"
  },
  "orig_nbformat": 4,
  "vscode": {
   "interpreter": {
    "hash": "1e949e87132dd83f1a7623eb88007e3532b03b66b77111be347aa4a383049722"
   }
  }
 },
 "nbformat": 4,
 "nbformat_minor": 2
}

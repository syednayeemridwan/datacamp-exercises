{
 "cells": [
  {
   "cell_type": "markdown",
   "metadata": {},
   "source": [
    "# Contrasting ROW_NUMBER(), RANK(), and DENSE_RANK()"
   ]
  },
  {
   "cell_type": "markdown",
   "metadata": {},
   "source": [
    "Among the ranking window functions, `ROW_NUMBER()` is the most common, followed by `RANK()` and `DENSE_RANK()`. Each of these ranking functions (as well as `NTILE()`) provides us with a different way to rank records in SQL Server.\n",
    "\n",
    "In this exercise, we would like to determine how frequently each we see incident type 3 in our data set. We would like to rank the number of incidents in descending order, such that the date with the highest number of incidents has a row number, rank, and dense rank of 1, and so on. To make it easier to follow, we will only include dates with at least 8 incidents."
   ]
  },
  {
   "cell_type": "markdown",
   "metadata": {},
   "source": [
    "```\n",
    "SELECT\n",
    "\tir.IncidentDate,\n",
    "\tir.NumberOfIncidents,\n",
    "    -- Fill in each window function and ordering\n",
    "    -- Note that all of these are in descending order!\n",
    "\tROW_NUMBER() OVER (ORDER BY ir.NumberOfIncidents DESC) AS rownum,\n",
    "\tRANK() OVER (ORDER BY ir.NumberOfIncidents DESC) AS rk,\n",
    "\tDENSE_RANK() OVER (ORDER BY ir.NumberOfIncidents DESC) AS dr\n",
    "FROM dbo.IncidentRollup ir\n",
    "WHERE\n",
    "\tir.IncidentTypeID = 3\n",
    "\tAND ir.NumberOfIncidents >= 8\n",
    "ORDER BY\n",
    "\tir.NumberOfIncidents DESC;\n",
    "```"
   ]
  },
  {
   "cell_type": "markdown",
   "metadata": {},
   "source": [
    "# Aggregate window functions"
   ]
  },
  {
   "cell_type": "markdown",
   "metadata": {},
   "source": [
    "There are several aggregate window functions available to you. In this exercise, we will look at reviewing multiple aggregates over the same window.\n",
    "\n",
    "Our window this time will be the entire data set, meaning that our `OVER()` clause will remain empty."
   ]
  },
  {
   "cell_type": "markdown",
   "metadata": {},
   "source": [
    "```\n",
    "SELECT\n",
    "\tir.IncidentDate,\n",
    "\tir.NumberOfIncidents,\n",
    "    -- Fill in the correct aggregate functions\n",
    "    -- You do not need to fill in the OVER clause\n",
    "\tSUM(ir.NumberOfIncidents) OVER () AS SumOfIncidents,\n",
    "\tMIN(ir.NumberOfIncidents) OVER () AS LowestNumberOfIncidents,\n",
    "\tMAX(ir.NumberOfIncidents) OVER () AS HighestNumberOfIncidents,\n",
    "\tCOUNT(ir.NumberOfIncidents) OVER () AS CountOfIncidents\n",
    "FROM dbo.IncidentRollup ir\n",
    "WHERE\n",
    "\tir.IncidentDate BETWEEN '2019-07-01' AND '2019-07-31'\n",
    "AND ir.IncidentTypeID = 3;\n",
    "```"
   ]
  },
  {
   "cell_type": "markdown",
   "metadata": {},
   "source": [
    "# Running totals with SUM()"
   ]
  },
  {
   "cell_type": "markdown",
   "metadata": {},
   "source": [
    "One of the more powerful uses of window functions is calculating running totals: an ongoing tally of a particular value over a given stretch of time. Here, we would like to use a window function to calculate how many incidents have occurred on each date and incident type in July of 2019 as well as a running tally of the total number of incidents by incident type. A window function will help us solve this problem in one query."
   ]
  },
  {
   "cell_type": "markdown",
   "metadata": {},
   "source": [
    "```\n",
    "SELECT\n",
    "\tir.IncidentDate,\n",
    "\tir.IncidentTypeID,\n",
    "\tir.NumberOfIncidents,\n",
    "    -- Get the total number of incidents\n",
    "\tSUM(ir.NumberOfIncidents) OVER (\n",
    "      \t-- Do this for each incident type ID\n",
    "\t\tPARTITION BY ir.IncidentTypeID\n",
    "      \t-- Sort by the incident date\n",
    "\t\tORDER BY ir.IncidentDate\n",
    "\t) AS NumberOfIncidents\n",
    "FROM dbo.IncidentRollup ir\n",
    "\tINNER JOIN dbo.Calendar c\n",
    "\t\tON ir.IncidentDate = c.Date\n",
    "WHERE\n",
    "\tc.CalendarYear = 2019\n",
    "\tAND c.CalendarMonth = 7\n",
    "\tAND ir.IncidentTypeID IN (1, 2)\n",
    "ORDER BY\n",
    "\tir.IncidentTypeID,\n",
    "\tir.IncidentDate;\n",
    "```"
   ]
  },
  {
   "cell_type": "markdown",
   "metadata": {},
   "source": [
    "# Investigating window frames"
   ]
  },
  {
   "cell_type": "markdown",
   "metadata": {},
   "source": [
    "In addition to the `PARTITION BY` and `ORDER BY` clauses, window functions can include frames which tell the database engine what we include as relevant to the window.\n",
    "\n",
    "Here we will look at four different frames to understand how the results would differ. For each example, we want to fill in the window frame for the following query:\n",
    "```\n",
    "SELECT\n",
    "    ir.IncidentDate,\n",
    "    ir.IncidentTypeID,\n",
    "    SUM(ir.NumberOfIncidents) OVER (\n",
    "        PARTITION BY ir.IncidentTypeID\n",
    "        ORDER BY ir.IncidentDate\n",
    "        << WINDOW FRAME >>\n",
    "    ) AS NumberOfIncidents\n",
    "FROM dbo.IncidentRollup ir;  \n",
    "```  \n",
    "We will specify `ROWS` or RANGE `based` on whether we want to include individual rows or a range of values. We will specify the \"preceding\" clause, which tells how many rows (or what range of values) we want prior to the current row. We will also specify the \"following\" clause, which tells what we want from the current row forward."
   ]
  },
  {
   "cell_type": "markdown",
   "metadata": {},
   "source": [
    "<center><img src=\"images/04.6.jpg\"  style=\"width: 400px, height: 300px;\"/></center>\n"
   ]
  },
  {
   "cell_type": "markdown",
   "metadata": {},
   "source": [
    "# Calculating moving averages\n"
   ]
  },
  {
   "cell_type": "markdown",
   "metadata": {},
   "source": [
    "Instead of looking at a running total from the beginning of time until now, management would like to see the average number of incidents over the past 7 days--that is, starting 6 days ago and ending on the current date. Because this is over a specified frame which changes over the course of our query, this is called a moving average.\n",
    "\n",
    "SQL Server does not have the ability to look at ranges of time in window functions, so we will need to assume that there is one row per day and use the `ROWS` clause."
   ]
  },
  {
   "cell_type": "markdown",
   "metadata": {},
   "source": [
    "```\n",
    "SELECT\n",
    "\tir.IncidentDate,\n",
    "\tir.IncidentTypeID,\n",
    "\tir.NumberOfIncidents,\n",
    "    -- Fill in the correct window function\n",
    "\tAVG(ir.NumberOfIncidents) OVER (\n",
    "\t\tPARTITION BY ir.IncidentTypeID\n",
    "\t\tORDER BY ir.IncidentDate\n",
    "      \t-- Fill in the three parts of the window frame\n",
    "\t\tROWS BETWEEN 6 PRECEDING AND CURRENT ROW\n",
    "\t) AS MeanNumberOfIncidents\n",
    "FROM dbo.IncidentRollup ir\n",
    "\tINNER JOIN dbo.Calendar c\n",
    "\t\tON ir.IncidentDate = c.Date\n",
    "WHERE\n",
    "\tc.CalendarYear = 2019\n",
    "\tAND c.CalendarMonth IN (7, 8)\n",
    "\tAND ir.IncidentTypeID = 1\n",
    "ORDER BY\n",
    "\tir.IncidentTypeID,\n",
    "\tir.IncidentDate;\n",
    "```"
   ]
  },
  {
   "cell_type": "markdown",
   "metadata": {},
   "source": [
    "# Seeing prior and future periods"
   ]
  },
  {
   "cell_type": "markdown",
   "metadata": {},
   "source": [
    "The `LAG()` and `LEAD()` window functions give us the ability to look backward or forward in time, respectively. This gives us the ability to compare period-over-period data in a single, easy query.\n",
    "\n",
    "In this exercise, we want to compare the number of security incidents by day for incident types 1 and 2 during July of 2019, specifically the period starting on July 2nd and ending July 31st."
   ]
  },
  {
   "cell_type": "markdown",
   "metadata": {},
   "source": [
    "```\n",
    "SELECT\n",
    "\tir.IncidentDate,\n",
    "\tir.IncidentTypeID,\n",
    "    -- Get the prior day's number of incidents\n",
    "\tLAG(ir.NumberOfIncidents, 1) OVER (\n",
    "      \t-- Partition by incident type ID\n",
    "\t\tPARTITION BY ir.IncidentTypeID\n",
    "      \t-- Order by incident date\n",
    "\t\tORDER BY ir.IncidentDate\n",
    "\t) AS PriorDayIncidents,\n",
    "\tir.NumberOfIncidents AS CurrentDayIncidents,\n",
    "    -- Get the next day's number of incidents\n",
    "\tLEAD(ir.NumberOfIncidents, 1) OVER (\n",
    "      \t-- Partition by incident type ID\n",
    "\t\tPARTITION BY ir.IncidentTypeID\n",
    "      \t-- Order by incident date\n",
    "\t\tORDER BY ir.IncidentDate\n",
    "\t) AS NextDayIncidents\n",
    "FROM dbo.IncidentRollup ir\n",
    "WHERE\n",
    "\tir.IncidentDate >= '2019-07-02'\n",
    "\tAND ir.IncidentDate <= '2019-07-31'\n",
    "\tAND ir.IncidentTypeID IN (1, 2)\n",
    "ORDER BY\n",
    "\tir.IncidentTypeID,\n",
    "\tir.IncidentDate;\n",
    "```"
   ]
  },
  {
   "cell_type": "markdown",
   "metadata": {},
   "source": [
    "# Seeing the prior three periods"
   ]
  },
  {
   "cell_type": "markdown",
   "metadata": {},
   "source": [
    "The `LAG()` and `LEAD()` window functions give us the ability to look backward or forward in time, respectively. This gives us the ability to compare period-over-period data in a single, easy query. Each call to `LAG()` or `LEAD()` returns either a `NULL` or a single row. If you want to see multiple periods back, you can include multiple calls to `LAG()` or `LEAD()`.\n",
    "\n",
    "In this exercise, we want to compare the number of security incidents by day for incident types 1 and 2 during July of 2019, specifically the period starting on July 2nd and ending July 31st. Management would like to see a rolling four-day window by incident type to see if there are any significant trends, starting two days before and looking one day ahead."
   ]
  },
  {
   "cell_type": "markdown",
   "metadata": {},
   "source": [
    "```\n",
    "SELECT\n",
    "\tir.IncidentDate,\n",
    "\tir.IncidentTypeID,\n",
    "    -- Fill in two periods ago\n",
    "\tLAG(ir.NumberOfIncidents, 2) OVER (\n",
    "\t\tPARTITION BY ir.IncidentTypeID\n",
    "\t\tORDER BY ir.IncidentDate\n",
    "\t) AS Trailing2Day,\n",
    "    -- Fill in one period ago\n",
    "\tLAG(ir.NumberOfIncidents, 1) OVER (\n",
    "\t\tPARTITION BY ir.IncidentTypeID\n",
    "\t\tORDER BY ir.IncidentDate\n",
    "\t) AS Trailing1Day,\n",
    "\tir.NumberOfIncidents AS CurrentDayIncidents,\n",
    "    -- Fill in next period\n",
    "\tLEAD(ir.NumberOfIncidents, 1) OVER (\n",
    "\t\tPARTITION BY ir.IncidentTypeID\n",
    "\t\tORDER BY ir.IncidentDate\n",
    "\t) AS NextDay\n",
    "FROM dbo.IncidentRollup ir\n",
    "WHERE\n",
    "\tir.IncidentDate >= '2019-07-01'\n",
    "\tAND ir.IncidentDate <= '2019-07-31'\n",
    "\tAND ir.IncidentTypeID IN (1, 2)\n",
    "ORDER BY\n",
    "\tir.IncidentTypeID,\n",
    "\tir.IncidentDate;\n",
    "```"
   ]
  },
  {
   "cell_type": "markdown",
   "metadata": {},
   "source": [
    "# Calculating days elapsed between incidents"
   ]
  },
  {
   "cell_type": "markdown",
   "metadata": {},
   "source": [
    "Something you might have noticed in the prior two exercises is that we don't always have incidents on every day of the week, so calling `LAG()` and `LEAD()` the \"prior day\" is a little misleading; it's really the \"prior period.\" Someone in management noticed this as well and, at the end of July, wanted to know the number of days between incidents. To do this, we will calculate two values: the number of days since the prior incident and the number of days until the next incident.\n",
    "\n",
    "Recall that `DATEDIFF()` gives the difference between two dates. We can combine this with `LAG()` and `LEAD()` to get our results."
   ]
  },
  {
   "cell_type": "markdown",
   "metadata": {},
   "source": [
    "```\n",
    "SELECT\n",
    "\tir.IncidentDate,\n",
    "\tir.IncidentTypeID,\n",
    "    -- Fill in the days since last incident\n",
    "\tDATEDIFF(DAY, LAG(ir.IncidentDate, 1) OVER (\n",
    "\t\tPARTITION BY ir.IncidentTypeID\n",
    "\t\tORDER BY ir.IncidentDate\n",
    "\t), ir.IncidentDate) AS DaysSinceLastIncident,\n",
    "    -- Fill in the days until next incident\n",
    "\tDATEDIFF(DAY, ir.IncidentDate, LEAD(ir.IncidentDate, 1) OVER (\n",
    "\t\tPARTITION BY ir.IncidentTypeID\n",
    "\t\tORDER BY ir.IncidentDate\n",
    "\t)) AS DaysUntilNextIncident\n",
    "FROM dbo.IncidentRollup ir\n",
    "WHERE\n",
    "\tir.IncidentDate >= '2019-07-02'\n",
    "\tAND ir.IncidentDate <= '2019-07-31'\n",
    "\tAND ir.IncidentTypeID IN (1, 2)\n",
    "ORDER BY\n",
    "\tir.IncidentTypeID,\n",
    "\tir.IncidentDate;\n",
    "```"
   ]
  },
  {
   "cell_type": "markdown",
   "metadata": {},
   "source": [
    "# Analyze client data for potential fraud"
   ]
  },
  {
   "cell_type": "markdown",
   "metadata": {},
   "source": [
    "In this final set of exercises, we will analyze day spa data to look for potential fraud. Our company gives each customer one pass for personal use and a single guest pass. We have check-in and check-out data for each client and guest passes tie back to the base customer ID. This means that there might be overlap when a client and guest both check in together. We want to see if there are at least three overlapping entries for a single client, as that would be a violation of our business rule.\n",
    "\n",
    "The key to thinking about overlapping entries is to unpivot our data and think about the stream of entries and exits. We will do that first."
   ]
  },
  {
   "cell_type": "markdown",
   "metadata": {},
   "source": [
    "```\n",
    "-- This section focuses on entrances:  CustomerVisitStart\n",
    "SELECT\n",
    "\tdsv.CustomerID,\n",
    "\tdsv.CustomerVisitStart AS TimeUTC,\n",
    "\t1 AS EntryCount,\n",
    "    -- We want to know each customer's entrance stream\n",
    "    -- Get a unique, ascending row number\n",
    "\tROW_NUMBER() OVER (\n",
    "      -- Break this out by customer ID\n",
    "      PARTITION BY dsv.CustomerID\n",
    "      -- Ordered by the customer visit start date\n",
    "      ORDER BY dsv.CustomerVisitStart\n",
    "    ) AS StartOrdinal\n",
    "FROM dbo.DaySpaVisit dsv\n",
    "UNION ALL\n",
    "-- This section focuses on departures:  CustomerVisitEnd\n",
    "SELECT\n",
    "\tdsv.CustomerID,\n",
    "\tdsv.CustomerVisitEnd AS TimeUTC,\n",
    "\t-1 AS EntryCount,\n",
    "\tNULL AS StartOrdinal\n",
    "FROM dbo.DaySpaVisit dsv\n",
    "```"
   ]
  },
  {
   "cell_type": "markdown",
   "metadata": {},
   "source": [
    "# Build a stream of events"
   ]
  },
  {
   "cell_type": "markdown",
   "metadata": {},
   "source": [
    "In the prior exercise, we broke out day spa data into a stream of entrances and exits. Unpivoting the data allows us to move to the next step, which is to order the entire stream.\n",
    "\n",
    "The results from the prior exercise are now in a temporary table called `#StartStopPoints`. The columns in this table are `CustomerID`, `TimeUTC`, `EntryCount`, and `StartOrdinal`. These are the only columns you will need to use in this exercise. `TimeUTC` represents the event time, `EntryCount` indicates the net change for the event (+1 or -1), and `StartOrdinal` appears for entrance events and gives the order of entry."
   ]
  },
  {
   "cell_type": "markdown",
   "metadata": {},
   "source": [
    "```\n",
    "SELECT s.*,\n",
    "    -- Build a stream of all check-in and check-out events\n",
    "\tROW_NUMBER() OVER (\n",
    "      -- Break this out by customer ID\n",
    "      PARTITION BY s.CustomerID\n",
    "      -- Order by event time and then the start ordinal\n",
    "      -- value (in case of exact time matches)\n",
    "      ORDER BY s.TimeUTC, s.StartOrdinal\n",
    "    ) AS StartOrEndOrdinal\n",
    "FROM #StartStopPoints s;\n",
    "```"
   ]
  },
  {
   "cell_type": "markdown",
   "metadata": {},
   "source": [
    "# Complete the fraud analysis"
   ]
  },
  {
   "cell_type": "markdown",
   "metadata": {},
   "source": [
    "So far, we have broken out day spa data into a stream of entrances and exits and ordered this stream chronologically. This stream contains two critical fields, `StartOrdinal` and `StartOrEndOrdinal`. `StartOrdinal` is the chronological ordering of all entrances. `StartOrEndOrdinal` contains all entrances and exits in order. Armed with these two pieces of information, we can find the maximum number of concurrent visits.\n",
    "\n",
    "The results from the prior exercise are now in a temporary table called `#StartStopOrder`"
   ]
  },
  {
   "cell_type": "markdown",
   "metadata": {},
   "source": [
    "```\n",
    "SELECT\n",
    "\ts.CustomerID,\n",
    "\tMAX(2 * s.StartOrdinal - s.StartOrEndOrdinal) AS MaxConcurrentCustomerVisits\n",
    "FROM #StartStopOrder s\n",
    "WHERE s.EntryCount = 1\n",
    "GROUP BY s.CustomerID\n",
    "-- The difference between 2 * start ordinal and the start/end\n",
    "-- ordinal represents the number of concurrent visits\n",
    "HAVING MAX(2 * s.StartOrdinal - s.StartOrEndOrdinal) > 2\n",
    "-- Sort by the largest number of max concurrent customer visits\n",
    "ORDER BY MaxConcurrentCustomerVisits DESC;\n",
    "```"
   ]
  },
  {
   "cell_type": "markdown",
   "metadata": {},
   "source": [
    "Based on your analysis in the prior exercise, what is the extent of customer misuse of the guest pass policy?\n",
    "- Some customers violated the policy: the maximum concurrency for any customer was 4."
   ]
  }
 ],
 "metadata": {
  "kernelspec": {
   "display_name": "Python 3.8.11 ('env_py')",
   "language": "python",
   "name": "python3"
  },
  "language_info": {
   "name": "python",
   "version": "3.8.11"
  },
  "orig_nbformat": 4,
  "vscode": {
   "interpreter": {
    "hash": "1e949e87132dd83f1a7623eb88007e3532b03b66b77111be347aa4a383049722"
   }
  }
 },
 "nbformat": 4,
 "nbformat_minor": 2
}

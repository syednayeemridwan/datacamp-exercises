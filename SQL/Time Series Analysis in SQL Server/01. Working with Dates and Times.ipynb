{
 "cells": [
  {
   "cell_type": "markdown",
   "metadata": {},
   "source": [
    "# Break out a date into year, month, and day"
   ]
  },
  {
   "cell_type": "markdown",
   "metadata": {},
   "source": [
    "SQL Server has a number of functions dedicated to working with date types. We will first analyze three functions which return integers representing the year, month, and day of month, respectively.\n",
    "\n",
    "These functions can allow us to group dates together, letting us calculate running totals by year or month-over-month comparisons of expenditures. We could also analyze sales by calendar day of the month to determine if there is a strong monthly cycle."
   ]
  },
  {
   "cell_type": "markdown",
   "metadata": {},
   "source": [
    "```\n",
    "DECLARE\n",
    "\t@SomeTime DATETIME2(7) = SYSUTCDATETIME();\n",
    "\n",
    "-- Retrieve the year, month, and day\n",
    "SELECT\n",
    "\tYEAR(@SomeTime) AS TheYear,\n",
    "\tMONTH(@SomeTime) AS TheMonth,\n",
    "\tDAY(@SomeTime) AS TheDay;\n",
    "```"
   ]
  },
  {
   "cell_type": "markdown",
   "metadata": {},
   "source": [
    "# Break a date and time into component parts"
   ]
  },
  {
   "cell_type": "markdown",
   "metadata": {},
   "source": [
    "Although `YEAR()`, `MONTH()`, and `DAY()` are helpful functions and are easy to remember, we often want to break out dates into different component parts such as the day of week, week of year, and second after the minute. This is where functions like `DATEPART()` and `DATENAME()` come into play.\n",
    "\n",
    "Here we will use the night the Berlin Wall fell, November 9th, 1989."
   ]
  },
  {
   "cell_type": "markdown",
   "metadata": {},
   "source": [
    "```\n",
    "DECLARE\n",
    "\t@BerlinWallFalls DATETIME2(7) = '1989-11-09 23:49:36.2294852';\n",
    "\n",
    "-- Fill in each date part\n",
    "SELECT\n",
    "\tDATEPART(YEAR, @BerlinWallFalls) AS TheYear,\n",
    "\tDATEPART(MONTH, @BerlinWallFalls) AS TheMonth,\n",
    "\tDATEPART(DAY, @BerlinWallFalls) AS TheDay,\n",
    "\tDATEPART(DAYOFYEAR, @BerlinWallFalls) AS TheDayOfYear,\n",
    "    -- Day of week is WEEKDAY\n",
    "\tDATEPART(WEEKDAY, @BerlinWallFalls) AS TheDayOfWeek,\n",
    "\tDATEPART(WEEK, @BerlinWallFalls) AS TheWeek,\n",
    "\tDATEPART(SECOND, @BerlinWallFalls) AS TheSecond,\n",
    "\tDATEPART(NANOSECOND, @BerlinWallFalls) AS TheNanosecond;\n",
    "```"
   ]
  },
  {
   "cell_type": "markdown",
   "metadata": {},
   "source": [
    "```\n",
    "DECLARE\n",
    "\t@BerlinWallFalls DATETIME2(7) = '1989-11-09 23:49:36.2294852';\n",
    "\n",
    "-- Fill in the function to show the name of each date part\n",
    "SELECT\n",
    "\tDATENAME(YEAR, @BerlinWallFalls) AS TheYear,\n",
    "\tDATENAME(MONTH, @BerlinWallFalls) AS TheMonth,\n",
    "\tDATENAME(DAY, @BerlinWallFalls) AS TheDay,\n",
    "\tDATENAME(DAYOFYEAR, @BerlinWallFalls) AS TheDayOfYear,\n",
    "    -- Day of week is WEEKDAY\n",
    "\tDATENAME(WEEKDAY, @BerlinWallFalls) AS TheDayOfWeek,\n",
    "\tDATENAME(WEEK, @BerlinWallFalls) AS TheWeek,\n",
    "\tDATENAME(SECOND, @BerlinWallFalls) AS TheSecond,\n",
    "\tDATENAME(NANOSECOND, @BerlinWallFalls) AS TheNanosecond;\n",
    "```"
   ]
  },
  {
   "cell_type": "markdown",
   "metadata": {},
   "source": [
    "# Date math and leap years"
   ]
  },
  {
   "cell_type": "markdown",
   "metadata": {},
   "source": [
    "Some of you may have experience using R and here we note that leap year date math can be tricky with R and the lubridate package. lubridate has two types of functions: duration and period.\n",
    "\n",
    "- `lubridate::ymd(20120229) - lubridate::dyears(4)` --> `2008-03-01`, which is wrong.\n",
    "- `lubridate::ymd(20120229) - lubridate::dyears(1)` --> `2011-03-01`, which is correct.\n",
    "- `lubridate::ymd(20120229) - lubridate::years(4)` --> `2008-02-29`, which is correct.\n",
    "- `lubridate::ymd(20120229) - lubridate::years(1)` --> `NA`, which is unexpected behavior.\n",
    "\n",
    "We can use the `DATEADD()` and `DATEDIFF()` functions to see how SQL Server deals with leap years to see if it has any of the same eccentricities."
   ]
  },
  {
   "cell_type": "markdown",
   "metadata": {},
   "source": [
    "```\n",
    "DECLARE\n",
    "\t@PostLeapDay DATETIME2(7) = '2012-03-01 18:00:00';\n",
    "\n",
    "-- Fill in the date parts and intervals as needed\n",
    "SELECT\n",
    "\tDATEADD(DAY, -1, @PostLeapDay) AS PriorDay,\n",
    "\tDATEADD(DAY, 1, @PostLeapDay) AS NextDay,\n",
    "\tDATEADD(YEAR, -4, @PostLeapDay) AS PriorLeapYear,\n",
    "\tDATEADD(YEAR, 4, @PostLeapDay) AS NextLeapYear,\n",
    "\tDATEADD(YEAR, -1, @PostLeapDay) AS PriorYear,\n",
    "    -- Move 4 years forward and one day back\n",
    "\tDATEADD(DAY, -1, DATEADD(YEAR, 4, @PostLeapDay)) AS NextLeapDay,\n",
    "    DATEADD(DAY, -2, @PostLeapDay) AS TwoDaysAgo;\n",
    "```"
   ]
  },
  {
   "cell_type": "markdown",
   "metadata": {},
   "source": [
    "```\n",
    "DECLARE\n",
    "\t@PostLeapDay DATETIME2(7) = '2012-03-01 18:00:00',\n",
    "    @TwoDaysAgo DATETIME2(7);\n",
    "\n",
    "SELECT\n",
    "\t@TwoDaysAgo = DATEADD(DAY, -2, @PostLeapDay);\n",
    "\n",
    "SELECT\n",
    "\t@TwoDaysAgo AS TwoDaysAgo,\n",
    "\t@PostLeapDay AS SomeTime,\n",
    "    -- Fill in the appropriate function and date types\n",
    "\tDATEDIFF(DAY, @TwoDaysAgo, @PostLeapDay) AS DaysDifference,\n",
    "\tDATEDIFF(HOUR, @TwoDaysAgo, @PostLeapDay) AS HoursDifference,\n",
    "\tDATEDIFF(MINUTE, @TwoDaysAgo, @PostLeapDay) AS MinutesDifference;\n",
    "```"
   ]
  },
  {
   "cell_type": "markdown",
   "metadata": {},
   "source": [
    "# Rounding dates"
   ]
  },
  {
   "cell_type": "markdown",
   "metadata": {},
   "source": [
    "SQL Server does not have an intuitive way to round down to the month, hour, or minute. You can, however, combine the `DATEADD()` and `DATEDIFF()` functions to perform this rounding.\n",
    "\n",
    "To round the date 1914-08-16 down to the year, we would call `DATEADD(YEAR, DATEDIFF(YEAR, 0, '1914-08-16'), 0)`. To round that date down to the month, we would call `DATEADD(MONTH, DATEDIFF(MONTH, 0, '1914-08-16'), 0)`. This works for several other date parts as well."
   ]
  },
  {
   "cell_type": "markdown",
   "metadata": {},
   "source": [
    "```\n",
    "DECLARE\n",
    "\t@SomeTime DATETIME2(7) = '2018-06-14 16:29:36.2248991';\n",
    "\n",
    "-- Fill in the appropriate functions and date parts\n",
    "SELECT\n",
    "\tDATEADD(DAY, DATEDIFF(DAY, 0, @SomeTime), 0) AS RoundedToDay,\n",
    "\tDATEADD(HOUR, DATEDIFF(HOUR, 0, @SomeTime), 0) AS RoundedToHour,\n",
    "\tDATEADD(MINUTE, DATEDIFF(MINUTE, 0, @SomeTime), 0) AS RoundedToMinute;\n",
    "```"
   ]
  },
  {
   "cell_type": "markdown",
   "metadata": {},
   "source": [
    "# Formatting dates with CAST() and CONVERT()"
   ]
  },
  {
   "cell_type": "markdown",
   "metadata": {},
   "source": [
    "We can use the `CAST()` function to translate data between various data types, including between date/time types and string types. The `CONVERT()` function takes three parameters: a data type, an input value, and an optional format code.\n",
    "\n",
    "In this exercise, we will see how we can use the `CAST()` and `CONVERT()` functions to translate dates to strings for formatting by looking at the (late) night the Chicago Cubs won the World Series in the US in 2016. In the process, we will see one difference between the `DATETIME` and the `DATETIME2` data types for `CAST()` and the added flexibility of `CONVERT()`."
   ]
  },
  {
   "cell_type": "markdown",
   "metadata": {},
   "source": [
    "```\n",
    "DECLARE\n",
    "\t@CubsWinWorldSeries DATETIME2(3) = '2016-11-03 00:30:29.245',\n",
    "\t@OlderDateType DATETIME = '2016-11-03 00:30:29.245';\n",
    "\n",
    "SELECT\n",
    "\t-- Fill in the missing function calls\n",
    "\tCAST(@CubsWinWorldSeries AS DATE) AS CubsWinDateForm,\n",
    "\tCAST(@CubsWinWorldSeries AS NVARCHAR(30)) AS CubsWinStringForm,\n",
    "\tCAST(@OlderDateType AS DATE) AS OlderDateForm,\n",
    "\tCAST(@OlderDateType AS NVARCHAR(30)) AS OlderStringForm;\n",
    "```"
   ]
  },
  {
   "cell_type": "markdown",
   "metadata": {},
   "source": [
    "```\n",
    "DECLARE\n",
    "\t@CubsWinWorldSeries DATETIME2(3) = '2016-11-03 00:30:29.245';\n",
    "\n",
    "SELECT\n",
    "\tCAST(CAST(@CubsWinWorldSeries AS DATE) AS NVARCHAR(30)) AS DateStringForm;\n",
    "```"
   ]
  },
  {
   "cell_type": "markdown",
   "metadata": {},
   "source": [
    "```\n",
    "DECLARE\n",
    "\t@CubsWinWorldSeries DATETIME2(3) = '2016-11-03 00:30:29.245';\n",
    "\n",
    "SELECT\n",
    "\tCONVERT(DATE, @CubsWinWorldSeries) AS CubsWinDateForm,\n",
    "\tCONVERT(NVARCHAR(30), @CubsWinWorldSeries) AS CubsWinStringForm;\n",
    "```"
   ]
  },
  {
   "cell_type": "markdown",
   "metadata": {},
   "source": [
    "```\n",
    "DECLARE\n",
    "\t@CubsWinWorldSeries DATETIME2(3) = '2016-11-03 00:30:29.245';\n",
    "\n",
    "SELECT\n",
    "\tCONVERT(NVARCHAR(30), @CubsWinWorldSeries, 0) AS DefaultForm,\n",
    "\tCONVERT(NVARCHAR(30), @CubsWinWorldSeries, 3) AS UK_dmy,\n",
    "\tCONVERT(NVARCHAR(30), @CubsWinWorldSeries, 1) AS US_mdy,\n",
    "\tCONVERT(NVARCHAR(30), @CubsWinWorldSeries, 103) AS UK_dmyyyy,\n",
    "\tCONVERT(NVARCHAR(30), @CubsWinWorldSeries, 101) AS US_mdyyyy;\n",
    "```"
   ]
  },
  {
   "cell_type": "markdown",
   "metadata": {},
   "source": [
    "# Formatting dates with FORMAT()"
   ]
  },
  {
   "cell_type": "markdown",
   "metadata": {},
   "source": [
    "The `FORMAT()` function allows for additional flexibility in building dates. It takes in three parameters: the input value, the input format, and an optional culture (such as `en-US` for US English or `zh-cn` for Simplified Chinese).\n",
    "\n",
    "In the following exercises, we will investigate three separate methods for formatting dates using the `FORMAT()` function against the day that Python 3 became generally available: December 3rd, 2008."
   ]
  },
  {
   "cell_type": "markdown",
   "metadata": {},
   "source": [
    "```\n",
    "DECLARE\n",
    "\t@Python3ReleaseDate DATETIME2(3) = '2008-12-03 19:45:00.033';\n",
    "\n",
    "SELECT\n",
    "\t-- Fill in the function call and format parameter\n",
    "\tFORMAT(@Python3ReleaseDate, 'd', 'en-US') AS US_d,\n",
    "\tFORMAT(@Python3ReleaseDate, 'd', 'de-DE') AS DE_d,\n",
    "\t-- Fill in the locale for Japan\n",
    "\tFORMAT(@Python3ReleaseDate, 'd', 'jp-JP') AS JP_d,\n",
    "\tFORMAT(@Python3ReleaseDate, 'd', 'zh-cn') AS CN_d;\n",
    "```"
   ]
  },
  {
   "cell_type": "markdown",
   "metadata": {},
   "source": [
    "```\n",
    "DECLARE\n",
    "\t@Python3ReleaseDate DATETIME2(3) = '2008-12-03 19:45:00.033';\n",
    "\n",
    "SELECT\n",
    "\t-- Fill in the format parameter\n",
    "\tFORMAT(@Python3ReleaseDate, 'D', 'en-US') AS US_D,\n",
    "\tFORMAT(@Python3ReleaseDate, 'D', 'de-DE') AS DE_D,\n",
    "\t-- Fill in the locale for Indonesia\n",
    "\tFORMAT(@Python3ReleaseDate, 'D', 'id-ID') AS ID_D,\n",
    "\tFORMAT(@Python3ReleaseDate, 'D', 'zh-cn') AS CN_D;\n",
    "```"
   ]
  },
  {
   "cell_type": "markdown",
   "metadata": {},
   "source": [
    "```\n",
    "DECLARE\n",
    "\t@Python3ReleaseDate DATETIME2(3) = '2008-12-03 19:45:00.033';\n",
    "    \n",
    "SELECT\n",
    "\t-- 20081203\n",
    "\tFORMAT(@Python3ReleaseDate, 'yyyyMMdd') AS F1,\n",
    "\t-- 2008-12-03\n",
    "\tFORMAT(@Python3ReleaseDate, 'yyyy-MM-dd') AS F2,\n",
    "\t-- Dec 03+2008 (the + is just a \"+\" character)\n",
    "\tFORMAT(@Python3ReleaseDate, 'MMM dd+yyyy') AS F3,\n",
    "\t-- 12 08 03 (month, two-digit year, day)\n",
    "\tFORMAT(@Python3ReleaseDate, 'MM yy dd') AS F4,\n",
    "\t-- 03 07:45 2008.00\n",
    "    -- (day hour:minute year.second)\n",
    "\tFORMAT(@Python3ReleaseDate, 'dd hh:mm yyyy.ss') AS F5;\n",
    "```"
   ]
  },
  {
   "cell_type": "markdown",
   "metadata": {},
   "source": [
    "# The benefits of calendar tables"
   ]
  },
  {
   "cell_type": "markdown",
   "metadata": {},
   "source": [
    "Which of the following is not a benefit of using a calendar table?\n",
    "- Calendar tables can let you to perform actions you could not otherwise do in T-SQL."
   ]
  },
  {
   "cell_type": "markdown",
   "metadata": {},
   "source": [
    "# Try out a calendar table"
   ]
  },
  {
   "cell_type": "markdown",
   "metadata": {},
   "source": [
    "Calendar tables are also known in the warehousing world as date dimensions. A calendar table is a helpful utility table which you can use to perform date range calculations quickly and efficiently. This is especially true when dealing with fiscal years, which do not always align to a calendar year, or holidays which may not be on the same date every year.\n",
    "\n",
    "In our example company, the fiscal year starts on July 1 of the current calendar year, so Fiscal Year 2019 started on July 1, 2019 and goes through June 30, 2020. All of this information is in a table called `dbo.Calendar`."
   ]
  },
  {
   "cell_type": "markdown",
   "metadata": {},
   "source": [
    "```\n",
    "-- Find Tuesdays in December for calendar years 2008-2010\n",
    "SELECT\n",
    "\tc.Date\n",
    "FROM dbo.Calendar c\n",
    "WHERE\n",
    "\tc.MonthName = 'December'\n",
    "\tAND c.DayName = 'Tuesday'\n",
    "\tAND c.CalendarYear BETWEEN 2008 AND 2010\n",
    "ORDER BY\n",
    "\tc.Date;\n",
    "```"
   ]
  },
  {
   "cell_type": "markdown",
   "metadata": {},
   "source": [
    "```\n",
    "-- Find fiscal week 29 of fiscal year 2019\n",
    "SELECT\n",
    "\tc.Date\n",
    "FROM dbo.Calendar c\n",
    "WHERE\n",
    "    -- Instead of month, use the fiscal week\n",
    "\tc.FiscalWeekOfYear = 29\n",
    "    -- Instead of calendar year, use fiscal year\n",
    "\tAND c.FiscalYear = 2019\n",
    "ORDER BY\n",
    "\tc.Date ASC;\n",
    "```"
   ]
  },
  {
   "cell_type": "markdown",
   "metadata": {},
   "source": [
    "# Joining to a calendar table"
   ]
  },
  {
   "cell_type": "markdown",
   "metadata": {},
   "source": [
    "In the prior exercise, we looked at a new table, `dbo.Calendar`. This table contains pre-calculated date information stretching from January 1st, 2000 through December 31st, 2049. Now we want to use this calendar table to filter another table, `dbo.IncidentRollup`.\n",
    "\n",
    "The Incident Rollup table contains artificially-generated data relating to security incidents at a fictitious company.\n",
    "\n",
    "You may recall from prerequisite courses how to join tables. Here's an example of joining to a calendar table:\n",
    "```\n",
    "SELECT\n",
    "    t.Column1,\n",
    "    t.Column2\n",
    "FROM dbo.Table t\n",
    "    INNER JOIN dbo.Calendar c\n",
    "        ON t.Date = c.Date;\n",
    "```"
   ]
  },
  {
   "cell_type": "markdown",
   "metadata": {},
   "source": [
    "```\n",
    "SELECT\n",
    "\tir.IncidentDate,\n",
    "\tc.FiscalDayOfYear,\n",
    "\tc.FiscalWeekOfYear\n",
    "FROM dbo.IncidentRollup ir\n",
    "\tINNER JOIN dbo.Calendar c\n",
    "\t\tON ir.IncidentDate = c.Date\n",
    "WHERE\n",
    "    -- Incident type 3\n",
    "\tir.IncidentTypeID = 3\n",
    "    -- Fiscal year 2019\n",
    "\tAND c.FiscalYear = 2019\n",
    "    -- Fiscal quarter 3\n",
    "\tAND c.FiscalQuarter = 3;\n",
    "\n",
    "```"
   ]
  },
  {
   "cell_type": "markdown",
   "metadata": {},
   "source": [
    "```\n",
    "SELECT\n",
    "\tir.IncidentDate,\n",
    "\tc.FiscalDayOfYear,\n",
    "\tc.FiscalWeekOfYear\n",
    "FROM dbo.IncidentRollup ir\n",
    "\tINNER JOIN dbo.Calendar c\n",
    "\t\tON ir.IncidentDate = c.Date\n",
    "WHERE\n",
    "    -- Incident type 4\n",
    "\tir.IncidentTypeID = 4\n",
    "    -- Fiscal year 2019\n",
    "\tAND c.FiscalYear = 2019\n",
    "    -- Beyond fiscal week of year 30\n",
    "\tAND c.FiscalWeekOfYear > 30\n",
    "    -- Only return weekends\n",
    "\tAND c.IsWeekend = 1;\n",
    "```"
   ]
  }
 ],
 "metadata": {
  "kernelspec": {
   "display_name": "Python 3.8.11 ('env_py')",
   "language": "python",
   "name": "python3"
  },
  "language_info": {
   "name": "python",
   "version": "3.8.11"
  },
  "orig_nbformat": 4,
  "vscode": {
   "interpreter": {
    "hash": "1e949e87132dd83f1a7623eb88007e3532b03b66b77111be347aa4a383049722"
   }
  }
 },
 "nbformat": 4,
 "nbformat_minor": 2
}

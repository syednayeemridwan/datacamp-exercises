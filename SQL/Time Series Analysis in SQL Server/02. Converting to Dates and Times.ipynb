{
 "cells": [
  {
   "cell_type": "markdown",
   "metadata": {},
   "source": [
    "# Build dates from parts"
   ]
  },
  {
   "cell_type": "markdown",
   "metadata": {},
   "source": [
    "The `DATEFROMPARTS()` function allows us to turn a series of numbers representing date parts into a valid DATE data type. In this exercise, we will learn how to use `DATEFROMPARTS()` to build dates from components in a calendar table.\n",
    "\n",
    "Although the calendar table already has dates in it, this helps us visualize circumstances in which the base table has integer date components but no date value, which might happen when importing data from flat files directly into a database."
   ]
  },
  {
   "cell_type": "markdown",
   "metadata": {},
   "source": [
    "```\n",
    "-- Create dates from component parts on the calendar table\n",
    "SELECT TOP(10)\n",
    "\tDATEFROMPARTS(c.CalendarYear, c.CalendarMonth, c.Day) AS CalendarDate\n",
    "FROM dbo.Calendar c\n",
    "WHERE\n",
    "\tc.CalendarYear = 2017\n",
    "ORDER BY\n",
    "\tc.FiscalDayOfYear ASC;\n",
    "```"
   ]
  },
  {
   "cell_type": "markdown",
   "metadata": {},
   "source": [
    "```\n",
    "SELECT TOP(10)\n",
    "\tc.CalendarQuarterName,\n",
    "\tc.MonthName,\n",
    "\tc.CalendarDayOfYear\n",
    "FROM dbo.Calendar c\n",
    "WHERE\n",
    "\t-- Create dates from component parts\n",
    "\tDATEFROMPARTS(c.CalendarYear, c.CalendarMonth, c.Day) >= '2018-06-01'\n",
    "\tAND c.DayName = 'Tuesday'\n",
    "ORDER BY\n",
    "\tc.FiscalYear,\n",
    "\tc.FiscalDayOfYear ASC;\n",
    "```"
   ]
  },
  {
   "cell_type": "markdown",
   "metadata": {},
   "source": [
    "# Build dates and times from parts"
   ]
  },
  {
   "cell_type": "markdown",
   "metadata": {},
   "source": [
    "SQL Server has several functions for generating date and time combinations from parts. In this exercise, we will look at `DATETIME2FROMPARTS()` and `DATETIMEFROMPARTS()`.\n",
    "\n",
    "Neil Armstrong and Buzz Aldrin landed the Apollo 11 Lunar Module--nicknamed The Eagle--on the moon on July 20th, 1969 at 20:17 UTC. They remained on the moon for approximately 21 1/2 hours, taking off on July 21st, 1969 at 18:54 UTC."
   ]
  },
  {
   "cell_type": "markdown",
   "metadata": {},
   "source": [
    "```\n",
    "SELECT\n",
    "\t-- Mark the date and time the lunar module touched down\n",
    "    -- Use 24-hour notation for hours, so e.g., 9 PM is 21\n",
    "\tDATETIME2FROMPARTS(1969, 07, 20, 20, 17, 00, 000, 0) AS TheEagleHasLanded,\n",
    "\t-- Mark the date and time the lunar module took back off\n",
    "    -- Use 24-hour notation for hours, so e.g., 9 PM is 21\n",
    "\tDATETIMEFROMPARTS(1969, 07, 21, 18, 54, 00, 000) AS MoonDeparture;\n",
    "```"
   ]
  },
  {
   "cell_type": "markdown",
   "metadata": {},
   "source": [
    "# Build dates and times with offsets from parts"
   ]
  },
  {
   "cell_type": "markdown",
   "metadata": {},
   "source": [
    "The` DATETIMEOFFSETFROMPARTS()` function builds a `DATETIMEOFFSET` out of component values. It has the most input parameters of any date and time builder function.\n",
    "\n",
    "On January 19th, 2038 at 03:14:08 UTC (that is, 3:14:08 AM), we will experience the Year 2038 (or Y2.038K) problem. This is the moment that 32-bit devices will reset back to the date 1900-01-01. This runs the risk of breaking every 32-bit device using POSIX time, which is the number of seconds elapsed since January 1, 1970 at midnight UTC."
   ]
  },
  {
   "cell_type": "markdown",
   "metadata": {},
   "source": [
    "```\n",
    "SELECT\n",
    "\t-- Fill in the millisecond PRIOR TO chaos\n",
    "\tDATETIMEOFFSETFROMPARTS(2038, 01, 19, 03, 14, 07, 999, 0, 0, 3) AS LastMoment,\n",
    "    -- Fill in the date and time when we will experience the Y2.038K problem\n",
    "    -- Then convert to the Eastern Standard Time time zone\n",
    "\tDATETIMEOFFSETFROMPARTS(2038, 01, 19, 03, 14, 08, 0, 0, 0, 3) AT TIME ZONE 'Eastern Standard Time' AS TimeForChaos;\n",
    "```"
   ]
  },
  {
   "cell_type": "markdown",
   "metadata": {},
   "source": [
    "# Cast strings to dates"
   ]
  },
  {
   "cell_type": "markdown",
   "metadata": {},
   "source": [
    "The `CAST()` function allows us to turn strings into date and time data types. In this example, we will review many of the formats `CAST()` can handle.\n",
    "\n",
    "Review the data in the `dbo.Dates` table which has been pre-loaded for you. Then use the `CAST()`function to convert these dates twice: once into a `DATE` type and once into a `DATETIME2(7)` type. Because one of the dates includes data down to the nanosecond, we cannot convert to a `DATETIME` type or any `DATETIME2` type with less precision.\n",
    "\n",
    "NOTE: the `CAST()` function is language- and locale-specific, meaning that for a SQL Server instance configured for US English, it will translate `08/23/2008` as `2008-08-23` but it will fail on `23/08/2008`, which a SQL Server with the French Canadian locale can handle."
   ]
  },
  {
   "cell_type": "markdown",
   "metadata": {},
   "source": [
    "```\n",
    "SELECT\n",
    "\td.DateText AS String,\n",
    "\t-- Cast as DATE\n",
    "\tCAST(d.DateText AS DATE) AS StringAsDate,\n",
    "\t-- Cast as DATETIME2(7)\n",
    "\tCAST(d.DateText AS DATETIME2(7)) AS StringAsDateTime2\n",
    "FROM dbo.Dates d;\n",
    "```"
   ]
  },
  {
   "cell_type": "markdown",
   "metadata": {},
   "source": [
    "# Convert strings to dates"
   ]
  },
  {
   "cell_type": "markdown",
   "metadata": {},
   "source": [
    "The `CONVERT()` function behaves similarly to `CAST()`. When translating strings to dates, the two functions do exactly the same work under the covers. Although we used all three parameters for `CONVERT()` during a prior exercise in Chapter 1, we will only need two parameters here: the data type and input expression.\n",
    "\n",
    "In this exercise, we will once again look at a table called `dbo.Dates`. This time around, we will get dates in from our German office. In order to handle German dates, we will need to use `SET LANGUAGE` to change the language in our current session to German. This affects date and time formats and system messages.\n",
    "\n",
    "Try querying the dbo.Dates table first to see how things differ from the prior exercise."
   ]
  },
  {
   "cell_type": "markdown",
   "metadata": {},
   "source": [
    "```\n",
    "SET LANGUAGE 'GERMAN'\n",
    "\n",
    "SELECT\n",
    "\td.DateText AS String,\n",
    "\t-- Convert to DATE\n",
    "\tCONVERT(DATE, d.DateText) AS StringAsDate,\n",
    "\t-- Convert to DATETIME2(7)\n",
    "\tCONVERT(DATETIME2(7), d.DateText) AS StringAsDateTime2\n",
    "FROM dbo.Dates d;\n",
    "```"
   ]
  },
  {
   "cell_type": "markdown",
   "metadata": {},
   "source": [
    "# Parse strings to dates"
   ]
  },
  {
   "cell_type": "markdown",
   "metadata": {},
   "source": [
    "Changing our language for data loading is not always feasible. Instead of using the `SET LANGUAGE` syntax, we can instead use the `PARSE()` function to parse a string as a date type using a specific locale.\n",
    "\n",
    "We will once again use the `dbo.Dates` table, this time parsing all of the dates as German using the `de-de` locale."
   ]
  },
  {
   "cell_type": "markdown",
   "metadata": {},
   "source": [
    "```\n",
    "SELECT\n",
    "\td.DateText AS String,\n",
    "\t-- Parse as DATE using German\n",
    "\tPARSE(d.DateText AS DATE USING 'de-de') AS StringAsDate,\n",
    "\t-- Parse as DATETIME2(7) using German\n",
    "\tPARSE(d.DateText AS DATETIME2(7) USING 'de-de') AS StringAsDateTime2\n",
    "FROM dbo.Dates d;\n",
    "\n",
    "```"
   ]
  },
  {
   "cell_type": "markdown",
   "metadata": {},
   "source": [
    "# Changing a date's offset"
   ]
  },
  {
   "cell_type": "markdown",
   "metadata": {},
   "source": [
    "We can use the `SWITCHOFFSET()` function to change the time zone of a `DATETIME`, `DATETIME2`, or `DATETIMEOFFSET` typed date or a valid date string. `SWITCHOFFSET()` takes two parameters: the date or string as input and the time zone offset. It returns the time in that new time zone, so 3:00 AM Eastern Daylight Time will become 2:00 AM Central Daylight Time.\n",
    "\n",
    "The 2016 Summer Olympics in Rio de Janeiro started at 11 PM UTC on August 8th, 2016. Starting with a string containing that date and time, we can see what time that was in other locales."
   ]
  },
  {
   "cell_type": "markdown",
   "metadata": {},
   "source": [
    "```\n",
    "DECLARE\n",
    "\t@OlympicsUTC NVARCHAR(50) = N'2016-08-08 23:00:00';\n",
    "\n",
    "SELECT\n",
    "\t-- Fill in the time zone for Brasilia, Brazil\n",
    "\tSWITCHOFFSET(@OlympicsUTC, '-03:00') AS BrasiliaTime,\n",
    "\t-- Fill in the time zone for Chicago, Illinois\n",
    "\tSWITCHOFFSET(@OlympicsUTC, '-05:00') AS ChicagoTime,\n",
    "\t-- Fill in the time zone for New Delhi, India\n",
    "\tSWITCHOFFSET(@OlympicsUTC, '+05:30') AS NewDelhiTime;\n",
    "```"
   ]
  },
  {
   "cell_type": "markdown",
   "metadata": {},
   "source": [
    "# Using the time zone DMV to look up times"
   ]
  },
  {
   "cell_type": "markdown",
   "metadata": {},
   "source": [
    "The `SWITCHOFFSET()` function has an undesirable limitation: you need to know the offset value yourself. You might memorize that US Eastern Standard Time is UTC -5:00 and Eastern Daylight Time is UTC -04:00, but knowing India Standard Time or Tuvalu Time might be a stretch.\n",
    "\n",
    "Fortunately, we have a Dynamic Management View (DMV) available to help us: `sys.time_zone_info`. This searches the set of time zones available on the operating system (in the Windows registry or `/usr/share/zoneinfo` on Linux or macOS).\n",
    "\n",
    "The 2016 Summer Olympics in Rio de Janeiro started at 11 PM UTC on August 8th, 2016. Starting with a string containing that date and time, we can see what time that was in other locales knowing only the time zone name but not its offset."
   ]
  },
  {
   "cell_type": "markdown",
   "metadata": {},
   "source": [
    "<center><img src=\"images/02.11.jpg\"  style=\"width: 400px, height: 300px;\"/></center>"
   ]
  },
  {
   "cell_type": "markdown",
   "metadata": {},
   "source": [
    "# Converting to a date offset"
   ]
  },
  {
   "cell_type": "markdown",
   "metadata": {},
   "source": [
    "In addition to `SWITCHOFFSET()`, we can use the `TODATETIMEOFFSET()` to turn an existing date into a date type with an offset. If our starting time is in UTC, we will need to correct for time zone and then append an offset. To correct for the time zone, we can add or subtract hours (and minutes) manually.\n",
    "\n",
    "Closing ceremonies for the 2016 Summer Olympics in Rio de Janeiro began at 11 PM UTC on August 21st, 2016. Starting with a string containing that date and time, we can see what time that was in other locales. For the time in Phoenix, Arizona, you know that they observe Mountain Standard Time, which is UTC -7 year-round. The island chain of Tuvalu has its own time which is 12 hours ahead of UTC."
   ]
  },
  {
   "cell_type": "markdown",
   "metadata": {},
   "source": [
    "```\n",
    "DECLARE\n",
    "\t@OlympicsClosingUTC DATETIME2(0) = '2016-08-21 23:00:00';\n",
    "\n",
    "SELECT\n",
    "\t-- Fill in 7 hours back and a '-07:00' offset\n",
    "\tTODATETIMEOFFSET(DATEADD(HOUR, -7, @OlympicsClosingUTC), '-07:00') AS PhoenixTime,\n",
    "\t-- Fill in 12 hours forward and a '+12:00' offset.\n",
    "\tTODATETIMEOFFSET(DATEADD(HOUR, 12, @OlympicsClosingUTC), '+12:00') AS TuvaluTime;\n",
    "```"
   ]
  },
  {
   "cell_type": "markdown",
   "metadata": {},
   "source": [
    "# Try out type-safe date functions"
   ]
  },
  {
   "cell_type": "markdown",
   "metadata": {},
   "source": [
    "In this exercise, we will try out the `TRY_CONVERT()`, `TRY_CAST()`, and `TRY_PARSE()` set of functions. Each of these functions will safely parse string data and attempt to convert to another type, returning NULL if the conversion fails. Conversion to, e.g., a date type can fail for several reasons. If the input string is not a date, conversion will fail. If the input type is in a potentially ambiguous format, conversion might fail. An example of this is the date 04/01/2019 which has a different meaning in the United States (April 1, 2019) versus most European countries (January 4th, 2019)."
   ]
  },
  {
   "cell_type": "markdown",
   "metadata": {},
   "source": [
    "```\n",
    "DECLARE\n",
    "\t@GoodDateINTL NVARCHAR(30) = '2019-03-01 18:23:27.920',\n",
    "\t@GoodDateDE NVARCHAR(30) = '13.4.2019',\n",
    "\t@GoodDateUS NVARCHAR(30) = '4/13/2019',\n",
    "\t@BadDate NVARCHAR(30) = N'SOME BAD DATE';\n",
    "\n",
    "-- The prior solution using TRY_CONVERT\n",
    "SELECT\n",
    "\tTRY_CONVERT(DATETIME2(3), @GoodDateINTL) AS GoodDateINTL,\n",
    "\tTRY_CONVERT(DATE, @GoodDateDE) AS GoodDateDE,\n",
    "\tTRY_CONVERT(DATE, @GoodDateUS) AS GoodDateUS,\n",
    "\tTRY_CONVERT(DATETIME2(3), @BadDate) AS BadDate;\n",
    "\n",
    "SELECT\n",
    "\t-- Fill in the correct data type based on our input\n",
    "\tTRY_CAST(@GoodDateINTL AS DATETIME2(3)) AS GoodDateINTL,\n",
    "    -- Be sure to match these data types with the\n",
    "    -- TRY_CONVERT() examples above!\n",
    "\tTRY_CAST(@GoodDateDE AS DATE) AS GoodDateDE,\n",
    "\tTRY_CAST(@GoodDateUS AS DATE) AS GoodDateUS,\n",
    "\tTRY_CAST(@BadDate AS DATETIME2) AS BadDate;\n",
    "```"
   ]
  },
  {
   "cell_type": "markdown",
   "metadata": {},
   "source": [
    "```\n",
    "DECLARE\n",
    "\t@GoodDateINTL NVARCHAR(30) = '2019-03-01 18:23:27.920',\n",
    "\t@GoodDateDE NVARCHAR(30) = '13.4.2019',\n",
    "\t@GoodDateUS NVARCHAR(30) = '4/13/2019',\n",
    "\t@BadDate NVARCHAR(30) = N'SOME BAD DATE';\n",
    "\n",
    "-- The prior solution using TRY_CAST\n",
    "SELECT\n",
    "\tTRY_CAST(@GoodDateINTL AS DATETIME2(3)) AS GoodDateINTL,\n",
    "\tTRY_CAST(@GoodDateDE AS DATE) AS GoodDateDE,\n",
    "\tTRY_CAST(@GoodDateUS AS DATE) AS GoodDateUS,\n",
    "\tTRY_CAST(@BadDate AS DATETIME2(3)) AS BadDate;\n",
    "\n",
    "SELECT\n",
    "\tTRY_PARSE(@GoodDateINTL AS DATETIME2(3)) AS GoodDateINTL,\n",
    "    -- Fill in the correct region based on our input\n",
    "    -- Be sure to match these data types with the\n",
    "    -- TRY_CAST() examples above!\n",
    "\tTRY_PARSE(@GoodDateDE AS DATE USING 'de-de') AS GoodDateDE,\n",
    "\tTRY_PARSE(@GoodDateUS AS DATE USING 'en-us') AS GoodDateUS,\n",
    "    -- TRY_PARSE can't fix completely invalid dates\n",
    "\tTRY_PARSE(@BadDate AS DATETIME2(3) USING 'sk-sk') AS BadDate;\n",
    "```"
   ]
  },
  {
   "cell_type": "markdown",
   "metadata": {},
   "source": [
    "# Convert imported data to dates with time zones"
   ]
  },
  {
   "cell_type": "markdown",
   "metadata": {},
   "source": [
    "Now that we have seen the three type-safe conversion functions, we can begin to apply them against real data sets. In this scenario, we will parse data from the `dbo.ImportedTime` table. We used a different application to load data from this table and looked at it in a prior exercise. This time, we will retrieve data for all rows, not just the ones the importing application marked as valid."
   ]
  },
  {
   "cell_type": "markdown",
   "metadata": {},
   "source": [
    "```\n",
    "WITH EventDates AS\n",
    "(\n",
    "    SELECT\n",
    "        -- Fill in the missing try-conversion function\n",
    "        TRY_CONVERT(DATETIME2(3), it.EventDate) AT TIME ZONE it.TimeZone AS EventDateOffset,\n",
    "        it.TimeZone\n",
    "    FROM dbo.ImportedTime it\n",
    "        INNER JOIN sys.time_zone_info tzi\n",
    "\t\t\tON it.TimeZone = tzi.name\n",
    ")\n",
    "SELECT\n",
    "    -- Fill in the approppriate event date to convert\n",
    "\tCONVERT(NVARCHAR(50), ed.EventDateOffset) AS EventDateOffsetString,\n",
    "\tCONVERT(DATETIME2(0), ed.EventDateOffset) AS EventDateLocal,\n",
    "\ted.TimeZone,\n",
    "    -- Convert from a DATETIMEOFFSET to DATETIME at UTC\n",
    "\tCAST(ed.EventDateOffset AT TIME ZONE 'UTC' AS DATETIME2(0)) AS EventDateUTC,\n",
    "    -- Convert from a DATETIMEOFFSET to DATETIME with time zone\n",
    "\tCAST(ed.EventDateOffset AT TIME ZONE 'US Eastern Standard Time'  AS DATETIME2(0)) AS EventDateUSEast\n",
    "FROM EventDates ed;\n",
    "```"
   ]
  },
  {
   "cell_type": "markdown",
   "metadata": {},
   "source": [
    "# Test type-safe conversion function performance"
   ]
  },
  {
   "cell_type": "markdown",
   "metadata": {},
   "source": [
    "In the last two exercises, we looked at the `TRY_CAST()`, `TRY_CONVERT()`, and `TRY_PARSE() `functions. These functions do not all perform equally well. In this exercise, you will run a performance test against all of the dates in our calendar table.\n",
    "\n",
    "To make it easier, we have pre-loaded dates in the `dbo.Calendar` table into a temp table called `DateText`, where there is a single `NVARCHAR(50)` column called `DateText`.\n",
    "\n",
    "For the first three steps, the instructions will be the same: fill in missing values to complete the relevant function call. After doing that, observe the amount of time each operation takes and keep the results in mind. You will then summarize your results in step 4."
   ]
  },
  {
   "cell_type": "markdown",
   "metadata": {},
   "source": [
    "```\n",
    "-- Try out how fast the TRY_CAST() function is\n",
    "-- by try-casting each DateText value to DATE\n",
    "DECLARE @StartTimeCast DATETIME2(7) = SYSUTCDATETIME();\n",
    "SELECT TRY_CAST(DateText AS DATE) AS TestDate FROM #DateText;\n",
    "DECLARE @EndTimeCast DATETIME2(7) = SYSUTCDATETIME();\n",
    "\n",
    "-- Determine how much time the conversion took by\n",
    "-- calculating the date difference from @StartTimeCast to @EndTimeCast\n",
    "SELECT\n",
    "    DATEDIFF(MILLISECOND, @StartTimeCast, @EndTimeCast) AS ExecutionTimeCast;\n",
    "```"
   ]
  },
  {
   "cell_type": "markdown",
   "metadata": {},
   "source": [
    "```\n",
    "-- Try out how fast the TRY_CONVERT() function is\n",
    "-- by try-converting each DateText value to DATE\n",
    "DECLARE @StartTimeConvert DATETIME2(7) = SYSUTCDATETIME();\n",
    "SELECT TRY_CONVERT(DATE, DateText) AS TestDate FROM #DateText;\n",
    "DECLARE @EndTimeConvert DATETIME2(7) = SYSUTCDATETIME();\n",
    "\n",
    "-- Determine how much time the conversion took by\n",
    "-- calculating the difference from start time to end time\n",
    "SELECT\n",
    "    DATEDIFF(MILLISECOND, @StartTimeConvert, @EndTimeConvert) AS ExecutionTimeConvert;\n",
    "```"
   ]
  },
  {
   "cell_type": "markdown",
   "metadata": {},
   "source": [
    "```\n",
    "-- Try out how fast the TRY_PARSE() function is\n",
    "-- by try-parsing each DateText value to DATE\n",
    "DECLARE @StartTimeParse DATETIME2(7) = SYSUTCDATETIME();\n",
    "SELECT TRY_PARSE(DateText AS DATE) AS TestDate FROM #DateText;\n",
    "DECLARE @EndTimeParse DATETIME2(7) = SYSUTCDATETIME();\n",
    "\n",
    "-- Determine how much time the conversion took by\n",
    "-- calculating the difference from start time to end time\n",
    "SELECT\n",
    "    DATEDIFF(MILLISECOND, @StartTimeParse, @EndTimeParse) AS ExecutionTimeParse;\n",
    "```"
   ]
  }
 ],
 "metadata": {
  "kernelspec": {
   "display_name": "Python 3.8.11 ('env_py')",
   "language": "python",
   "name": "python3"
  },
  "language_info": {
   "name": "python",
   "version": "3.8.11"
  },
  "orig_nbformat": 4,
  "vscode": {
   "interpreter": {
    "hash": "1e949e87132dd83f1a7623eb88007e3532b03b66b77111be347aa4a383049722"
   }
  }
 },
 "nbformat": 4,
 "nbformat_minor": 2
}

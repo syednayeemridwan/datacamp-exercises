{
 "cells": [
  {
   "cell_type": "markdown",
   "metadata": {},
   "source": [
    "# Combining cities and states using +"
   ]
  },
  {
   "cell_type": "markdown",
   "metadata": {},
   "source": [
    "In this lesson, you learned how to combine columns into one.\n",
    "\n",
    "The `clients` table has one column, `city`, to store the cities where the clients live, and another column, `state`, to store the state of the city.\n",
    "```\n",
    "| client_id | client_name | client_surname | city      | state    |\n",
    "|-----------|-------------|----------------|-----------|----------|\n",
    "| 1         | Miriam      | Antona         | Las Vegas | Nevada   |\n",
    "| 2         | Astrid      | Harper         | Chicago   | Illinois |\n",
    "| 3         | David       | Madden         | Phoenix   | Arizona  |\n",
    "| ...       | ...         | ...            | ...       | ...      |\n",
    "```\n",
    "You need to combine `city` and `state` columns into one, to have the following format: `'Las Vegas, Nevada'`.\n",
    "\n",
    "You will use `+` operator to do it."
   ]
  },
  {
   "cell_type": "markdown",
   "metadata": {},
   "source": [
    "```\n",
    "SELECT \n",
    "\tclient_name,\n",
    "\tclient_surname,\n",
    "    -- Concatenate city with state\n",
    "    city + ', ' + state AS city_state\n",
    "FROM clients\n",
    "```"
   ]
  },
  {
   "cell_type": "markdown",
   "metadata": {},
   "source": [
    "```\n",
    "SELECT \n",
    "\tclient_name,\n",
    "\tclient_surname,\n",
    "    -- Consider the NULL values\n",
    "\tISNULL(city, '') + ISNULL(', ' + state, '') AS city_state\n",
    "FROM clients\n",
    "```"
   ]
  },
  {
   "cell_type": "markdown",
   "metadata": {},
   "source": [
    "# Concatenating cities and states"
   ]
  },
  {
   "cell_type": "markdown",
   "metadata": {},
   "source": [
    "In the previous exercise, you used the `+` operator to combine two columns into one. This time you need to do the same, but using the `CONCAT()` function.\n",
    "\n",
    "To get this format for the concatenation: `'Las Vegas, Nevada'`, you will need to use the `CASE` expression in case the `state` column has `NULL` values."
   ]
  },
  {
   "cell_type": "markdown",
   "metadata": {},
   "source": [
    "```\n",
    "SELECT \n",
    "\t\tclient_name,\n",
    "\t\tclient_surname,\n",
    "    -- Use the function to concatenate the city and the state\n",
    "\t\tCONCAT(\n",
    "\t\t\t\tcity,\n",
    "\t\t\t\tCASE WHEN state IS NULL THEN '' \n",
    "\t\t\t\tELSE CONCAT(', ', state) END) AS city_state\n",
    "FROM clients\n",
    "```"
   ]
  },
  {
   "cell_type": "markdown",
   "metadata": {},
   "source": [
    "# Working with DATEFROMPARTS()"
   ]
  },
  {
   "cell_type": "markdown",
   "metadata": {},
   "source": [
    "In this lesson, you also learned how to combine different parts of a date, which are in separate columns into one.\n",
    "\n",
    "In the `paper_shop_daily_sales` table, the columns `year_of_sale`, `month_of_sale`, and `day_of_sale`, store the different values of a date.\n",
    "```\n",
    "| product_name | units | year_of_sale | month_of_sale | day_of_sale |\n",
    "|--------------|-------|--------------|---------------|-------------|\n",
    "| notebooks    | 2     | 2019         | 1             | 1           |\n",
    "| notebooks    | 3     | 2019         | 5             | 12          |\n",
    "| ...          | ...   | ...          | ...           | ...         |\n",
    "```\n",
    "You need to combine all these columns into one, by using the `DATEFROMPARTS()` function."
   ]
  },
  {
   "cell_type": "markdown",
   "metadata": {},
   "source": [
    "```\n",
    "SELECT \n",
    "\tproduct_name,\n",
    "\tunits,\n",
    "    -- Use the function to concatenate the different parts of the date\n",
    "\tDATEFROMPARTS(\n",
    "      \tyear_of_sale, \n",
    "      \tmonth_of_sale, \n",
    "      \tday_of_sale) AS complete_date\n",
    "FROM paper_shop_daily_sales\n",
    "```"
   ]
  },
  {
   "cell_type": "markdown",
   "metadata": {},
   "source": [
    "Which of the following statements about `DATEFROMPARTS()` is true?\n",
    "- If one argument passed to `DATEFROMPARTS()` has a `NULL` value, it will return `NULL`."
   ]
  },
  {
   "cell_type": "markdown",
   "metadata": {},
   "source": [
    "# Using SUBSTRING() and CHARINDEX()"
   ]
  },
  {
   "cell_type": "markdown",
   "metadata": {},
   "source": [
    "In this lesson, you learned how to split one column into more columns.\n",
    "\n",
    "The `clients_split` table has one column, `city_state`, that stores the cities where the clients live and the state of the city. The values of this column have this appearance: `'Chicago, Illinois'`.\n",
    "\n",
    "You need to split this column into two new columns, one for the city and the other one for the state. You think about using `SUBSTRING()` in combination with `CHARINDEX()` and `LEN()`."
   ]
  },
  {
   "cell_type": "markdown",
   "metadata": {},
   "source": [
    "```\n",
    "SELECT \n",
    "\tclient_name,\n",
    "\tclient_surname,\n",
    "    -- Extract the name of the city\n",
    "\tSUBSTRING(city_state, 1, CHARINDEX(', ', city_state) - 1) AS city,\n",
    "    -- Extract the name of the state\n",
    "    SUBSTRING(city_state, CHARINDEX(', ', city_state) + 1, LEN(city_state)) AS state\n",
    "FROM clients_split\n",
    "```"
   ]
  },
  {
   "cell_type": "markdown",
   "metadata": {},
   "source": [
    "# Using RIGHT() , LEFT() and REVERSE()"
   ]
  },
  {
   "cell_type": "markdown",
   "metadata": {},
   "source": [
    "In the previous exercise, you used `SUBSTRING()` and `CHARINDEX()` to split the `city_state` column into two new columns.\n",
    "\n",
    "This time you need to do the same, but using the `LEFT()`, `RIGHT()`, and `REVERSE()` functions."
   ]
  },
  {
   "cell_type": "markdown",
   "metadata": {},
   "source": [
    "```\n",
    "SELECT\n",
    "\tclient_name,\n",
    "\tclient_surname,\n",
    "    -- Extract the name of the city\n",
    "\tLEFT(city_state, CHARINDEX(', ', city_state) - 1) AS city,\n",
    "    -- Extract the name of the state\n",
    "    RIGHT(city_state, CHARINDEX(' ,', REVERSE(city_state)) - 1) AS state\n",
    "FROM clients_split\n",
    "```"
   ]
  },
  {
   "cell_type": "markdown",
   "metadata": {},
   "source": [
    "# SUBSTRING() or CHARINDEX()?"
   ]
  },
  {
   "cell_type": "markdown",
   "metadata": {},
   "source": [
    "In this lesson, you studied how to use the `SUBSTRING()` and `CHARINDEX()` functions to split one column into two new columns.\n",
    "\n",
    "Which of the following statements about these functions is false?"
   ]
  },
  {
   "cell_type": "markdown",
   "metadata": {},
   "source": [
    "- `SUBSTRING()` returns the position of a substring in a string. We can optionally determine the position where the search will start."
   ]
  },
  {
   "cell_type": "markdown",
   "metadata": {},
   "source": [
    "# PIVOT or UNPIVOT?"
   ]
  },
  {
   "cell_type": "markdown",
   "metadata": {},
   "source": [
    "In this lesson, you learned the differences between using `PIVOT` and `UNPIVOT`.\n",
    "\n",
    "Which of the following statements about these relational operators is false?"
   ]
  },
  {
   "cell_type": "markdown",
   "metadata": {},
   "source": [
    "- `UNPIVOT` turns the unique values from one column into multiple columns in the output."
   ]
  },
  {
   "cell_type": "markdown",
   "metadata": {},
   "source": [
    "# Turning rows into columns"
   ]
  },
  {
   "cell_type": "markdown",
   "metadata": {},
   "source": [
    "In this lesson, you learned that `PIVOT` turns the unique values from one column into multiple columns.\n",
    "\n",
    "Analyzing the data of `paper_shop_monthly_sales`, you realize the structure of this table is not appropriate for the report that you want to make.\n",
    "\n",
    "You want to generate a report with this appearance:\n",
    "```\n",
    "|year_of_sale|notebooks|pencils|crayons|\n",
    "|------------|---------|-------|-------|\n",
    "| 2018       | 150     | 150   | 80    |\n",
    "| 2019       | 230     | 130   | 170   |\n",
    "```\n",
    "In other words, you want to change the data you have in the rows to data into columns, and sum the units for every year.\n",
    "\n",
    "As you learned from the previous exercises, the name of the products and the units has to be split. This is done in the subselect, take a look at it."
   ]
  },
  {
   "cell_type": "markdown",
   "metadata": {},
   "source": [
    "```\n",
    "SELECT\n",
    "\tyear_of_sale,\n",
    "    -- Select the pivoted columns\n",
    "\tnotebooks, \n",
    "\tpencils, \n",
    "\tcrayons\n",
    "FROM\n",
    "   (SELECT \n",
    "\t\tSUBSTRING(product_name_units, 1, charindex('-', product_name_units)-1) product_name, \n",
    "\t\tCAST(SUBSTRING(product_name_units, charindex('-', product_name_units)+1, len(product_name_units)) AS INT) units,\t\n",
    "\t\tyear_of_sale\n",
    "\tFROM paper_shop_monthly_sales) sales\n",
    "-- Sum the units for column that contains the values that will be column headers\n",
    "PIVOT (SUM(units) FOR product_name IN (notebooks, pencils, crayons))\n",
    "-- Give the alias name\n",
    "AS paper_shop_pivot\n",
    "```"
   ]
  },
  {
   "cell_type": "markdown",
   "metadata": {},
   "source": [
    "# Turning columns into rows"
   ]
  },
  {
   "cell_type": "markdown",
   "metadata": {},
   "source": [
    "In the previous exercise, you turned the names of the products you had in the rows into columns, and then you summarized the units of the products for every year.\n",
    "\n",
    "Suppose you stored the result from the previous exercise in a new table called `pivot_sales`, and now you want to turn the columns `notebooks`, `pencils`, and `crayons` into row values.\n",
    "\n",
    "The expected result will be:\n",
    "```\n",
    "| year_of_sale | units | product_name |\n",
    "|--------------|-------|--------------|\n",
    "| 2018         | 150   | notebooks    |\n",
    "| 2018         | 150   | pencils      |\n",
    "| 2018         | 80    | crayons      |\n",
    "| 2019         | 230   | notebooks    |\n",
    "| 2019         | 130   | pencils      |\n",
    "| 2019         | 170   | crayons      |\n",
    "```"
   ]
  },
  {
   "cell_type": "markdown",
   "metadata": {},
   "source": [
    "```\n",
    "SELECT * FROM pivot_sales\n",
    "-- Use the operator to convert columns into rows\n",
    "UNPIVOT\n",
    "\t-- The resulting column that will contain the turned columns into rows\n",
    "\t(units FOR product_name  IN (notebooks, pencils, crayons))\n",
    "-- Give the alias name\n",
    "AS unpivot_sales\n",
    "```"
   ]
  }
 ],
 "metadata": {
  "kernelspec": {
   "display_name": "Python 3.8.11 ('env_py')",
   "language": "python",
   "name": "python3"
  },
  "language_info": {
   "name": "python",
   "version": "3.8.11"
  },
  "orig_nbformat": 4,
  "vscode": {
   "interpreter": {
    "hash": "1e949e87132dd83f1a7623eb88007e3532b03b66b77111be347aa4a383049722"
   }
  }
 },
 "nbformat": 4,
 "nbformat_minor": 2
}

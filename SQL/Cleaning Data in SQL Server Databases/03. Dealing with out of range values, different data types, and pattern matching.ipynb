{
 "cells": [
  {
   "cell_type": "markdown",
   "metadata": {},
   "source": [
    "# Out of range values or inaccurate data?"
   ]
  },
  {
   "cell_type": "markdown",
   "metadata": {},
   "source": [
    "In this lesson, you learned the concepts of out of range values and inaccurate data.\n",
    "\n",
    "Which of the following features about them is true?"
   ]
  },
  {
   "cell_type": "markdown",
   "metadata": {},
   "source": [
    "- Out of range values are values that are outside the expected range of valid data. For example, a person who is 400 inches tall."
   ]
  },
  {
   "cell_type": "markdown",
   "metadata": {},
   "source": [
    "# Detecting out of range values"
   ]
  },
  {
   "cell_type": "markdown",
   "metadata": {},
   "source": [
    "Sometimes you can find out of range values in your data. If you don't detect them before analyzing, they can disrupt your results.\n",
    "\n",
    "The logical operator `BETWEEN`, and the comparison operators `>` and `<`, can help you to detect the rows with out of range values.\n",
    "\n",
    "The `num_ratings` column of the `series` table stores the number of ratings each series has received. The total amount of people surveyed is 5000. However, this column has some out of range values, i.e., there are values greater than 5000 or smaller than 0.\n",
    "\n",
    "Try to find them!"
   ]
  },
  {
   "cell_type": "markdown",
   "metadata": {},
   "source": [
    "```\n",
    "SELECT * FROM series\n",
    "-- Detect the out of range values\n",
    "WHERE num_ratings NOT BETWEEN 0 AND 5000\n",
    "\n",
    "\n",
    "SELECT * FROM series\n",
    "-- Detect the out of range values\n",
    "WHERE num_ratings < 0 OR num_ratings > 5000\n",
    "```"
   ]
  },
  {
   "cell_type": "markdown",
   "metadata": {},
   "source": [
    "# Excluding out of range values"
   ]
  },
  {
   "cell_type": "markdown",
   "metadata": {},
   "source": [
    "In the previous exercise, you detected the rows with a number of ratings that were out of range.\n",
    "\n",
    "The logical operator `BETWEEN`, and the comparison operators `>`, `<`, and `=`, can help you to exclude the rows with out of range values.\n",
    "\n",
    "This time, you want to get all the rows from the `series` table, ranging from 0 to 5000."
   ]
  },
  {
   "cell_type": "markdown",
   "metadata": {},
   "source": [
    "```\n",
    "SELECT * FROM series\n",
    "-- Exclude the out of range values\n",
    "WHERE num_ratings BETWEEN 0 AND 5000\n",
    "\n",
    "SELECT * FROM series\n",
    "-- Exclude the out of range values\n",
    "WHERE num_ratings >= 0 AND num_ratings <= 5000\n",
    "```"
   ]
  },
  {
   "cell_type": "markdown",
   "metadata": {},
   "source": [
    "# Detecting and excluding inaccurate data"
   ]
  },
  {
   "cell_type": "markdown",
   "metadata": {},
   "source": [
    "In this lesson, you also learned that if you don't detect inaccurate data before analyzing, this data can disrupt your results.\n",
    "\n",
    "The `series` table has a boolean column named `is_adult`, that stores whether the series is for adults or not. There is also another column, `min_age`, that stores the minimum age the audience should have. Unfortunately, there are contradictory values, because some rows with a `TRUE` value in its `is_adult` column have a number smaller than 18 in its `min_age` column.\n",
    "\n",
    "Can you find these rows with inaccurate data?"
   ]
  },
  {
   "cell_type": "markdown",
   "metadata": {},
   "source": [
    "```\n",
    "SELECT * FROM series\n",
    "-- Detect series for adults\n",
    "WHERE is_adult = 1\n",
    "-- Detect series with the minimum age smaller than 18\n",
    "AND min_age < 18\n",
    "\n",
    "SELECT * FROM series\n",
    "-- Filter series for adults\n",
    "WHERE is_adult = 1\n",
    "-- Exclude series with the minimum age greater or equals to 18\n",
    "AND min_age >= 18\n",
    "```"
   ]
  },
  {
   "cell_type": "markdown",
   "metadata": {},
   "source": [
    "# Using CAST() and CONVERT()"
   ]
  },
  {
   "cell_type": "markdown",
   "metadata": {},
   "source": [
    "In this lesson, you learned that your tables could store data with different types than you want. Sometimes you will need to convert these types to the correct ones to perform the operations you want.\n",
    "\n",
    "The `series` table has a column named `num_ratings` that stores integer numbers, but this time it was designed as `VARCHAR(5)`. You want to calculate the average of the `num_ratings` column, but you think that this column is an integer number.\n",
    "\n",
    "You prepare the following query:\n",
    "```\n",
    "SELECT AVG(num_ratings)\n",
    "FROM series\n",
    "WHERE num_ratings BETWEEN 0 AND 5000\n",
    "```"
   ]
  },
  {
   "cell_type": "markdown",
   "metadata": {},
   "source": [
    "```\n",
    "-- Use CAST() to convert the num_ratings column\n",
    "SELECT AVG(CAST(num_ratings AS INT))\n",
    "FROM series\n",
    "-- Use CAST() to convert the num_ratings column\n",
    "WHERE CAST(num_ratings AS INT) BETWEEN 0 AND 5000\n",
    "\n",
    "-- Use CONVERT() to convert the num_ratings column\n",
    "SELECT AVG(CONVERT(INT, num_ratings))\n",
    "FROM series\n",
    "-- Use CONVERT() to convert the num_ratings column\n",
    "WHERE CONVERT(INT, num_ratings) BETWEEN 0 AND 5000\n",
    "```"
   ]
  },
  {
   "cell_type": "markdown",
   "metadata": {},
   "source": [
    "# The series with most episodes"
   ]
  },
  {
   "cell_type": "markdown",
   "metadata": {},
   "source": [
    "In the `episodes` table, there is a column named `number`. It stores the number of each episode within a season for every series. This column was designed as `VARCHAR(5)`, but it actually stores numbers.\n",
    "\n",
    "Can you guess which is the series with most episodes within a season?\n",
    "\n",
    "Note: To get the name of the series you will need to perform an `INNER JOIN` between `series` and `episodes`, matching the columns `series.id` with `episodes.series_id`."
   ]
  },
  {
   "cell_type": "markdown",
   "metadata": {},
   "source": [
    "```\n",
    "SELECT s.id ,s.name, COUNT(*) AS eps\n",
    "FROM series AS s\n",
    "INNER JOIN episodes AS e\n",
    "ON s.id = e.series_id\n",
    "GROUP BY s.id,s.name\n",
    "ORDER BY eps DESC\n",
    "```\n",
    "- Adventure Time"
   ]
  },
  {
   "cell_type": "markdown",
   "metadata": {},
   "source": [
    "# Characters to specify a patterns"
   ]
  },
  {
   "cell_type": "markdown",
   "metadata": {},
   "source": [
    "In this lesson, you learned the different characters we can use to specify patterns.\n",
    "\n",
    "Which of the following statements about these characters is false?"
   ]
  },
  {
   "cell_type": "markdown",
   "metadata": {},
   "source": [
    "- `[]` matches any single character, not within the specified range or set."
   ]
  },
  {
   "cell_type": "markdown",
   "metadata": {},
   "source": [
    "# Matching urls"
   ]
  },
  {
   "cell_type": "markdown",
   "metadata": {},
   "source": [
    "In this lesson you learned that SQL Server provides the `LIKE` operator, which determines if a string matches a specified pattern.\n",
    "\n",
    "You need to verify the URLs of the official sites of every series. You prepare a script that checks every `official_site` value from the `series` table to analyze possible wrong URLs.\n",
    "\n",
    "To make it easier, suppose that the format of the URLs you have to validate must start with `'www.'`, although we know that there are URLs that have other beginnings."
   ]
  },
  {
   "cell_type": "markdown",
   "metadata": {},
   "source": [
    "```\n",
    "SELECT \n",
    "\tname,\n",
    "    -- URL of the official site\n",
    "\tofficial_site\n",
    "FROM series\n",
    "-- Get the URLs that don't match the pattern\n",
    "WHERE official_site NOT LIKE\n",
    "\t-- Write the pattern\n",
    "\t'www.%'\n",
    "```"
   ]
  },
  {
   "cell_type": "markdown",
   "metadata": {},
   "source": [
    "# Checking phone numbers"
   ]
  },
  {
   "cell_type": "markdown",
   "metadata": {},
   "source": [
    "As you learned in this lesson, the underscore `_` symbol matches any single character.\n",
    "\n",
    "You want to prepare a script that checks every `contact_number` value from the `series` table to get those numbers that don't start with three fives followed by a hyphen as such `555-`, then three characters followed by another hyphen and finally, another four characters (555-###-####).\n",
    "\n",
    "Can you find them?"
   ]
  },
  {
   "cell_type": "markdown",
   "metadata": {},
   "source": [
    "```\n",
    "SELECT \n",
    "\tname, \n",
    "    -- Contact number\n",
    "    contact_number\n",
    "FROM series\n",
    "-- Get the numbers that don't match the pattern\n",
    "WHERE contact_number NOT LIKE \n",
    "\t-- Write the pattern\n",
    "\t'555-___-____'\n",
    "```"
   ]
  }
 ],
 "metadata": {
  "kernelspec": {
   "display_name": "Python 3.8.11 ('env_py')",
   "language": "python",
   "name": "python3"
  },
  "language_info": {
   "name": "python",
   "version": "3.8.11"
  },
  "orig_nbformat": 4,
  "vscode": {
   "interpreter": {
    "hash": "1e949e87132dd83f1a7623eb88007e3532b03b66b77111be347aa4a383049722"
   }
  }
 },
 "nbformat": 4,
 "nbformat_minor": 2
}

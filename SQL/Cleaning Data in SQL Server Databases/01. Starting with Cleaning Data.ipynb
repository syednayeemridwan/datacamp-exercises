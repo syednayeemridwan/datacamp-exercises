{
 "cells": [
  {
   "cell_type": "markdown",
   "metadata": {},
   "source": [
    "# Unifying flight formats I"
   ]
  },
  {
   "cell_type": "markdown",
   "metadata": {},
   "source": [
    "Cleaning data is important because frequently, you may acquire messy data that is not ready for analysis.\n",
    "\n",
    "In this exercise, you need to get every register with more than 100 delays from the `flight_statistics` table. In a unique column, you have to concatenate the `carrier_code`, `registration_code`, and `airport_code`, having a similar format to this one: \"`AA - 000000119, JFK`\".\n",
    "\n",
    "When analyzing the `flight_statistics` table, you realize that some `registration_code` values have different formats. A correct `registration_code` must have nine digits, and if it has fewer, you need to complete it with leading zeros.\n",
    "\n",
    "To do this, you can use the `REPLICATE()` function in combination with `LEN()` and `CONCAT()`"
   ]
  },
  {
   "cell_type": "markdown",
   "metadata": {},
   "source": [
    "```\n",
    "SELECT \n",
    "\t-- Concat the strings\n",
    "\tCONCAT(\n",
    "\t\tcarrier_code, \n",
    "\t\t' - ', \n",
    "      \t-- Replicate zeros\n",
    "\t\tREPLICATE('0', 9 - LEN(registration_code)), \n",
    "\t\tregistration_code, \n",
    "\t\t', ', \n",
    "\t\tairport_code)\n",
    "\tAS registration_code\n",
    "FROM flight_statistics\n",
    "-- Filter registers with more than 100 delays\n",
    "WHERE delayed > 100\n",
    "```"
   ]
  },
  {
   "cell_type": "markdown",
   "metadata": {},
   "source": [
    "# Unifying flight formats II"
   ]
  },
  {
   "cell_type": "markdown",
   "metadata": {},
   "source": [
    "In the previous exercise, you used `CONCAT()`, `REPLICATE()`, and `LEN()`. You got every register with more than 100 delays from the `flight_statistics` table. In a unique column, you concatenated the `carrier_code`, `registration_code`, and `airport_code`, having a similar format to this one: \"`AA - 0000119, JFK`\".\n",
    "\n",
    "In this exercise, you will solve the same problem again, this time using the `FORMAT()` and `CONCAT()` functions together."
   ]
  },
  {
   "cell_type": "markdown",
   "metadata": {},
   "source": [
    "```\n",
    "SELECT \n",
    "    -- Concat the strings\n",
    "\tCONCAT(\n",
    "\t\tcarrier_code, \n",
    "\t\t' - ', \n",
    "        -- Format the code\n",
    "\t\tFORMAT(CAST(registration_code AS INT), '0000000'),\n",
    "\t\t', ', \n",
    "\t\tairport_code\n",
    "\t) AS registration_code\n",
    "FROM flight_statistics\n",
    "-- Filter registers with more than 100 delays\n",
    "WHERE delayed > 100\n",
    "```"
   ]
  },
  {
   "cell_type": "markdown",
   "metadata": {},
   "source": [
    "# Trimming strings I"
   ]
  },
  {
   "cell_type": "markdown",
   "metadata": {},
   "source": [
    "Messy strings can be a problem because sometimes, it is not easy to analyze them without cleaning them.\n",
    "\n",
    "When analyzing the `airports` table, you realize that some values of the `airport_name` column are messy strings. These strings have leading and trailing spaces.\n",
    "\n",
    "The `TRIM()` function can help you to remove these additional spaces for the `airports` table."
   ]
  },
  {
   "cell_type": "markdown",
   "metadata": {},
   "source": [
    "```\n",
    "SELECT \n",
    "\tairport_code,\n",
    "\t-- Use the appropriate function to remove the extra spaces\n",
    "    TRIM(airport_name) AS airport_name,\n",
    "\tairport_city,\n",
    "    airport_state\n",
    "-- Select the source table\n",
    "FROM airports\n",
    "```"
   ]
  },
  {
   "cell_type": "markdown",
   "metadata": {},
   "source": [
    "# Trimming strings II"
   ]
  },
  {
   "cell_type": "markdown",
   "metadata": {},
   "source": [
    "In the previous exercise, you used `TRIM()` to remove the leading and trailing spaces for the values of the `airport_name` column.\n",
    "\n",
    "Suppose that the `TRIM()` function is not available because you are using an older version of SQL Server 2017, so you this time you need to use `LTRIM()` and `RTRIM()`.\n",
    "\n",
    "How can you remove these extra spaces?"
   ]
  },
  {
   "cell_type": "markdown",
   "metadata": {},
   "source": [
    "```\n",
    "SELECT \n",
    "\tairport_code,\n",
    "\t-- Use the appropriate function to remove the extra spaces\n",
    "    LTRIM(RTRIM(airport_name)) AS airport_name,\n",
    "\tairport_city,\n",
    "    airport_state\n",
    "-- Select the source table\n",
    "FROM airports\n",
    "```"
   ]
  },
  {
   "cell_type": "markdown",
   "metadata": {},
   "source": [
    "# Unifying strings"
   ]
  },
  {
   "cell_type": "markdown",
   "metadata": {},
   "source": [
    "Sometimes it's common to find messy strings when having different values for the same thing. Although all of these values can be valid, it is better to unify them to perform better analysis.\n",
    "\n",
    "You run this query to filter all the airports located in the city of `'Chicago'`:\n",
    "```\n",
    "SELECT * FROM airports \n",
    "WHERE airport_code IN ('ORD', 'MDW')\n",
    "```\n",
    "In the results, you see that there are inconsistent values for `'Chicago'` in the `airport_city` column, with values such as `'ch'`. You will treat these inconsistent values by replacing them."
   ]
  },
  {
   "cell_type": "markdown",
   "metadata": {},
   "source": [
    "```\n",
    "SELECT \n",
    "\tairport_code,\n",
    "\tairport_name,\n",
    "    -- Use the appropriate function to unify the values\n",
    "    REPLACE(airport_city, 'ch', 'Chicago') AS airport_city,\n",
    "\tairport_state\n",
    "FROM airports  \n",
    "WHERE airport_code IN ('ORD', 'MDW')\n",
    "```"
   ]
  },
  {
   "cell_type": "markdown",
   "metadata": {},
   "source": [
    "```\n",
    "SELECT airport_code, airport_name, \n",
    "\t-- Use the CASE statement\n",
    "\tCASE\n",
    "    \t-- Unify the values\n",
    "\t\tWHEN airport_city <> 'Chicago' THEN REPLACE(airport_city, 'ch', 'Chicago')\n",
    "\t\tELSE airport_city \n",
    "\tEND AS airport_city,\n",
    "    airport_state\n",
    "FROM airports\n",
    "WHERE airport_code IN ('ORD', 'MDW')\n",
    "```"
   ]
  },
  {
   "cell_type": "markdown",
   "metadata": {},
   "source": [
    "```\n",
    "SELECT \n",
    "\tairport_code, airport_name,\n",
    "    \t-- Convert to uppercase\n",
    "    \tUPPER(\n",
    "            -- Replace 'Chicago' with 'ch'.\n",
    "          \tREPLACE(airport_city, 'Chicago', 'ch')\n",
    "        ) AS airport_city,\n",
    "    airport_state\n",
    "FROM airports\n",
    "WHERE airport_code IN ('ORD', 'MDW')\n",
    "```"
   ]
  },
  {
   "cell_type": "markdown",
   "metadata": {},
   "source": [
    "# SOUNDEX() and DIFFERENCE()"
   ]
  },
  {
   "cell_type": "markdown",
   "metadata": {},
   "source": [
    "Sometimes, you can find messy strings that are written differently, but their sounds are similar or almost similar. SQL Server provides the `SOUNDEX()` and `DIFFERENCE()` functions as a help to detect those strings.\n",
    "\n",
    "Which of the following is FALSE about these functions?"
   ]
  },
  {
   "cell_type": "markdown",
   "metadata": {},
   "source": [
    "- `SOUNDEX()` returns a three-character code used to evaluate the similarity between strings, based on their pronunciation."
   ]
  },
  {
   "cell_type": "markdown",
   "metadata": {},
   "source": [
    "# Comparing names with SOUNDEX()"
   ]
  },
  {
   "cell_type": "markdown",
   "metadata": {},
   "source": [
    "Messy strings like `'Ilynois'` instead of `'Illinois'` can cause problems when analyzing data. That is why it is important to detect them.\n",
    "\n",
    "When analyzing the `flight_statistics` table, you realize that some `statistician_name` and `statistician_surname` are written in a different way, such as `Miriam Smith` and `Myriam Smyth`. You are afraid there are more differences like this, so you want to check all these names.\n",
    "\n",
    "You think about comparing with `SOUNDEX()` the names of the statisticians. If the result of `SOUNDEX()` is the same, but the texts you are comparing are different, you will find the data you need to clean."
   ]
  },
  {
   "cell_type": "markdown",
   "metadata": {},
   "source": [
    "```\n",
    "SELECT \n",
    "    -- First name and surname of the statisticians\n",
    "\tDISTINCT S1.statistician_name, S1.statistician_surname\n",
    "-- Join flight_statistics with itself\n",
    "FROM flight_statistics S1 INNER JOIN flight_statistics S2 \n",
    "\t-- The SOUNDEX result of the first name and surname have to be the same\n",
    "\tON SOUNDEX(S1.statistician_name) = SOUNDEX(S2.statistician_name) \n",
    "\tAND SOUNDEX(S1.statistician_surname) = SOUNDEX(S2.statistician_surname) \n",
    "-- The texts of the first name or the texts of the surname have to be different\n",
    "WHERE S1.statistician_name <> S2.statistician_name\n",
    "\tOR S1.statistician_surname <> S2.statistician_surname\n",
    "```"
   ]
  },
  {
   "cell_type": "markdown",
   "metadata": {},
   "source": [
    "# Comparing names with DIFFERENCE()"
   ]
  },
  {
   "cell_type": "markdown",
   "metadata": {},
   "source": [
    "In the previous exercise, you used `SOUNDEX()` to check the names of the statisticians from the `flight_statistics` table.\n",
    "\n",
    "This time, you want to do something similar, but using the `DIFFERENCE()` function. `DIFFERENCE()` returns 4 when there is a similar or identically matching between two strings, and 0 when there is little or no similarity,\n",
    "\n",
    "If the result of `DIFFERENCE()` between two strings is 4, but the texts you are comparing are different, you will find the data you need to clean."
   ]
  },
  {
   "cell_type": "markdown",
   "metadata": {},
   "source": [
    "```\n",
    "SELECT \n",
    "    -- First name and surnames of the statisticians\n",
    "\tDISTINCT S1.statistician_name, S1.statistician_surname\n",
    "-- Join flight_statistics with itself\n",
    "FROM flight_statistics S1 INNER JOIN flight_statistics S2 \n",
    "\t-- The DIFFERENCE of the first name and surname has to be equals to 4\n",
    "\tON DIFFERENCE(S1.statistician_name, S2.statistician_name) = 4\n",
    "\tAND DIFFERENCE(S1.statistician_surname, S2.statistician_surname) = 4\n",
    "-- The texts of the first name or the texts of the surname have to be different\n",
    "WHERE S1.statistician_name <> S2.statistician_name\n",
    "\tOR S1.statistician_surname <> S2.statistician_surname\n",
    "```"
   ]
  }
 ],
 "metadata": {
  "kernelspec": {
   "display_name": "Python 3.8.11 ('env_py')",
   "language": "python",
   "name": "python3"
  },
  "language_info": {
   "name": "python",
   "version": "3.8.11"
  },
  "orig_nbformat": 4,
  "vscode": {
   "interpreter": {
    "hash": "1e949e87132dd83f1a7623eb88007e3532b03b66b77111be347aa4a383049722"
   }
  }
 },
 "nbformat": 4,
 "nbformat_minor": 2
}

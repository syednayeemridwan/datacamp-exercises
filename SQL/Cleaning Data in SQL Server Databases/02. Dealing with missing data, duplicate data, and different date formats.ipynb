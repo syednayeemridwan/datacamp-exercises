{
 "cells": [
  {
   "cell_type": "markdown",
   "metadata": {},
   "source": [
    "# Removing missing values"
   ]
  },
  {
   "cell_type": "markdown",
   "metadata": {},
   "source": [
    "It is common to find missing values in your data. SQL Server represents missing values with `NULL`.\n",
    "\n",
    "`IS NULL` and `IS NOT NULL` enable you to select or remove the rows where missing values are represented by NULL.\n",
    "\n",
    "The `airport_city` column of the `airports` table has some `NULL` values. Try to find them!"
   ]
  },
  {
   "cell_type": "markdown",
   "metadata": {},
   "source": [
    "```\n",
    "\n",
    "SELECT *\n",
    "-- Select the appropriate table\n",
    "FROM airports\n",
    "-- Exclude the rows where airport_city is NULL\n",
    "WHERE airport_city IS NOT NULL\n",
    "\n",
    "\n",
    "SELECT *\n",
    "-- Select the appropriate table\n",
    "FROM airports\n",
    "-- Return only the rows where airport_city is NULL\n",
    "WHERE airport_city IS NULL\n",
    "\n",
    "```"
   ]
  },
  {
   "cell_type": "markdown",
   "metadata": {},
   "source": [
    "# Removing blank spaces"
   ]
  },
  {
   "cell_type": "markdown",
   "metadata": {},
   "source": [
    "You can also find missing data represented with blank spaces `''`.\n",
    "\n",
    "The comparison operators `=` and `<>` can help you to select or remove the rows when missing values are represented with blank spaces `''`.\n",
    "\n",
    "The `airport_city` column of the `airports` table has some blank spaces. Try to find them!"
   ]
  },
  {
   "cell_type": "markdown",
   "metadata": {},
   "source": [
    "```\n",
    "SELECT *\n",
    "-- Select the appropriate table\n",
    "FROM airports\n",
    "-- Exclude the rows where airport_city is missing\n",
    "WHERE airport_city <> ''\n",
    "\n",
    "SELECT *\n",
    "-- Select the appropriate table\n",
    "FROM airports\n",
    "-- Return only the rows where airport_city is missing\n",
    "WHERE airport_city = ''\n",
    "```"
   ]
  },
  {
   "cell_type": "markdown",
   "metadata": {},
   "source": [
    "# Filling missing values using ISNULL()"
   ]
  },
  {
   "cell_type": "markdown",
   "metadata": {},
   "source": [
    "In the previous exercise, you practiced how to exclude and select the rows with `NULL` values. However, depending on the business assumptions behind your data, you may want to select all the rows with `NULL` values, but replacing these `NULL` values with another value. You can do it using `ISNULL()`.\n",
    "\n",
    "Now, you want to replace all the `NULL` values for the `airport_city` and `airport_state` columns with the word `'Unknown'`, using `ISNULL()`."
   ]
  },
  {
   "cell_type": "markdown",
   "metadata": {},
   "source": [
    "```\n",
    "SELECT\n",
    "  airport_code,\n",
    "  airport_name,\n",
    "  -- Replace missing values for airport_city with 'Unknown'\n",
    "  ISNULL(airport_city, 'Unknown') AS airport_city,\n",
    "  -- Replace missing values for airport_state with 'Unknown'\n",
    "  ISNULL(airport_state, 'Unknown') AS airport_state\n",
    "FROM airports\n",
    "```"
   ]
  },
  {
   "cell_type": "markdown",
   "metadata": {},
   "source": [
    "# Filling missing values using COALESCE()"
   ]
  },
  {
   "cell_type": "markdown",
   "metadata": {},
   "source": [
    "In the previous exercise, you used the `ISNULL()` function to replace the `NULL` values of a column with another value.\n",
    "\n",
    "Now, you want to create a new column, `location`, that returns the values of the `airport_city` column, and in case it has `NULL` values, return the value of `airport_state`. Finally, if `airport_state` is also `NULL`, you want to return the string `'Unknown'`.\n",
    "\n",
    "To do it, you can use `COALESCE()`, that evaluates the arguments between parenthesis and returns the first argument that is not `NULL`."
   ]
  },
  {
   "cell_type": "markdown",
   "metadata": {},
   "source": [
    "```\n",
    "SELECT\n",
    "airport_code,\n",
    "airport_name,\n",
    "-- Replace the missing values\n",
    "COALESCE(airport_city, airport_state, 'Unknown') AS location\n",
    "FROM airports\n",
    "```"
   ]
  },
  {
   "cell_type": "markdown",
   "metadata": {},
   "source": [
    "# Diagnosing duplicates"
   ]
  },
  {
   "cell_type": "markdown",
   "metadata": {},
   "source": [
    "In this lesson, you learned how to use the `ROW_NUMBER()` function. `ROW_NUMBER()` returns a number which begins at 1 for the first row in every partition, and provides a sequential number for each row within the same partition.\n",
    "\n",
    "Considering that the partition for the `statistics_flight` table is formed by the columns `airport_code`, `carrier_code`, and `registration_date`, can you guess what value will give the `ROW_NUMBER()` function in the row_num column for the last row?\n",
    "```\n",
    "|registration_code|airport_code|carrier_code|registration_date|canceled|on_time|row_num|\n",
    "|-----------------|------------|------------|-----------------|--------|-------|-------|\n",
    "|000000137        |MSP         |EV          |2014-01-01       |117     |369    |1      |\n",
    "|000000138        |MSP         |F9          |2014-01-01       |0       |60     |1      |\n",
    "|000000139        |MSP         |FL          |2014-01-01       |8       |83     |1      |\n",
    "|000000140        |MSP         |MQ          |2014-01-01       |20      |67     |1      |\n",
    "|000000141        |MSP         |OO          |2014-01-01       |76      |1031   |1      |\n",
    "|000000142        |MSP         |OO          |2014-01-01       |76      |1031   |2      |\n",
    "|000000143        |MSP         |OO          |2014-01-01       |76      |1031   |???????|\n",
    "```"
   ]
  },
  {
   "cell_type": "markdown",
   "metadata": {},
   "source": [
    "- 3"
   ]
  },
  {
   "cell_type": "markdown",
   "metadata": {},
   "source": [
    "# Treating duplicates"
   ]
  },
  {
   "cell_type": "markdown",
   "metadata": {},
   "source": [
    "In the previous exercise, you reviewed the concept of `ROW_NUMBER()`. In this exercise, you will use it in your code.\n",
    "\n",
    "You want to select all the rows from the `flight_statistics` table that are duplicated. After that, you want to get all the rows without duplicates. You consider that the repeating group for this table is formed by the columns `airport_code`, `carrier_code`, and `registration_date`."
   ]
  },
  {
   "cell_type": "markdown",
   "metadata": {},
   "source": [
    "```\n",
    "-- Use the WITH clause\n",
    "WITH cte AS (\n",
    "    SELECT *, \n",
    "        ROW_NUMBER() OVER (\n",
    "            PARTITION BY \n",
    "                airport_code, \n",
    "                carrier_code, \n",
    "                registration_date\n",
    "\t\t\tORDER BY \n",
    "                airport_code, \n",
    "                carrier_code, \n",
    "                registration_date\n",
    "        ) row_num\n",
    "    FROM flight_statistics\n",
    ")\n",
    "SELECT * FROM cte\n",
    "-- Get only duplicates\n",
    "WHERE row_num > 1;\n",
    "```"
   ]
  },
  {
   "cell_type": "markdown",
   "metadata": {},
   "source": [
    "```\n",
    "WITH cte AS (\n",
    "    SELECT *, \n",
    "        ROW_NUMBER() OVER (\n",
    "            PARTITION BY \n",
    "                airport_code, \n",
    "                carrier_code, \n",
    "                registration_date\n",
    "\t\t\tORDER BY \n",
    "                airport_code, \n",
    "                carrier_code, \n",
    "                registration_date\n",
    "        ) row_num\n",
    "    FROM flight_statistics\n",
    ")\n",
    "SELECT * FROM cte\n",
    "-- Exclude duplicates\n",
    "WHERE row_num = 1;\n",
    "```"
   ]
  },
  {
   "cell_type": "markdown",
   "metadata": {},
   "source": [
    "# Using CONVERT()"
   ]
  },
  {
   "cell_type": "markdown",
   "metadata": {},
   "source": [
    "The `CONVERT()` function can help you to convert dates into the desired format.\n",
    "\n",
    "You need to get a report of the airports, carriers, canceled flights, and registration dates, registered in the first six months of the year 2014. You realize that the format of the registration_date column is `yyyy-mm-dd`, and you want to show the results in the format of `mm/dd/yyyy`, which is hardcoded as 101, using the `CONVERT()` function.\n",
    "\n",
    "Notice that the type of the `registration_date` column is `VARCHAR(10)` and not a date."
   ]
  },
  {
   "cell_type": "markdown",
   "metadata": {},
   "source": [
    "```\n",
    "SELECT \n",
    "    airport_code,\n",
    "    carrier_code,\n",
    "    canceled,\n",
    "    -- Convert the registration_date to a DATE and print it in mm/dd/yyyy format\n",
    "    CONVERT(VARCHAR(10), CAST(registration_date AS DATE), 101) AS registration_date\n",
    "FROM flight_statistics \n",
    "-- Convert the registration_date to mm/dd/yyyy format\n",
    "WHERE CONVERT(VARCHAR(10), CAST(registration_date AS DATE), 101) \n",
    "\t-- Filter the first six months of 2014 in mm/dd/yyyy format \n",
    "\tBETWEEN '01/01/2014' AND '06/30/2014'\n",
    "```"
   ]
  },
  {
   "cell_type": "markdown",
   "metadata": {},
   "source": [
    "# Using FORMAT()"
   ]
  },
  {
   "cell_type": "markdown",
   "metadata": {},
   "source": [
    "Unlike the `CONVERT()` function, the `FORMAT()` function takes in the format as a string as such `'dd/MM/yyyy'`.\n",
    "\n",
    "You need to get a report of all the pilots. You realize that the format of the `entry_date` column is `'yyyy-MM-dd'`, and you want to show the results in the format of `'dd/MM/yyyy'`. As this table contains few data, you think about using the `FORMAT()` function.\n",
    "\n",
    "Notice that the type of the `entry_date` column is `VARCHAR(10)` and not a date."
   ]
  },
  {
   "cell_type": "markdown",
   "metadata": {},
   "source": [
    "```\n",
    "SELECT \n",
    "\tpilot_code,\n",
    "\tpilot_name,\n",
    "\tpilot_surname,\n",
    "\tcarrier_code,\n",
    "    -- Convert the entry_date to a DATE and print it in dd/MM/yyyy format\n",
    "\tFORMAT(CAST(entry_date AS DATE), 'dd/MM/yyyy') AS entry_date\n",
    "from pilots\n",
    "```"
   ]
  },
  {
   "cell_type": "markdown",
   "metadata": {},
   "source": [
    "# CONVERT() vs FORMAT()"
   ]
  },
  {
   "cell_type": "markdown",
   "metadata": {},
   "source": [
    "In this lesson, you learned how to use the `CONVERT()` and the `FORMAT()` functions.\n",
    "\n",
    "Which of the following features about them is true?"
   ]
  },
  {
   "cell_type": "markdown",
   "metadata": {},
   "source": [
    "- `FORMAT()` is more flexible, but it is not recommended for high volumes of data because it is slower."
   ]
  }
 ],
 "metadata": {
  "kernelspec": {
   "display_name": "Python 3.8.11 ('env_py')",
   "language": "python",
   "name": "python3"
  },
  "language_info": {
   "name": "python",
   "version": "3.8.11"
  },
  "orig_nbformat": 4,
  "vscode": {
   "interpreter": {
    "hash": "1e949e87132dd83f1a7623eb88007e3532b03b66b77111be347aa4a383049722"
   }
  }
 },
 "nbformat": 4,
 "nbformat_minor": 2
}

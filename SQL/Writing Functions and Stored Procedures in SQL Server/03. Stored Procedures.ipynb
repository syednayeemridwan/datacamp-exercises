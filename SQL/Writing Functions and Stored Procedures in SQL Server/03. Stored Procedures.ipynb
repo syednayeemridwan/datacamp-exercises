{
 "cells": [
  {
   "cell_type": "markdown",
   "metadata": {},
   "source": [
    "# CREATE PROCEDURE with OUTPUT"
   ]
  },
  {
   "cell_type": "markdown",
   "metadata": {},
   "source": [
    "Create a Stored Procedure named `cuspSumRideHrsSingleDay` in the `dbo` schema that accepts a date and returns the total ride hours for the date passed."
   ]
  },
  {
   "cell_type": "markdown",
   "metadata": {},
   "source": [
    "```\n",
    "-- Create the stored procedure\n",
    "CREATE PROCEDURE dbo.cuspSumRideHrsSingleDay\n",
    "    -- Declare the input parameter\n",
    "\t@DateParm date,\n",
    "    -- Declare the output parameter\n",
    "\t@RideHrsOut numeric OUTPUT\n",
    "AS\n",
    "-- Don't send the row count \n",
    "SET NOCOUNT ON\n",
    "BEGIN\n",
    "-- Assign the query result to @RideHrsOut\n",
    "SELECT\n",
    "\t@RideHrsOut = SUM(DATEDIFF(second, StartDate, EndDate))/3600\n",
    "FROM CapitalBikeShare\n",
    "-- Cast StartDate as date and compare with @DateParm\n",
    "WHERE CAST(StartDate AS date) = @DateParm\n",
    "RETURN\n",
    "END\n",
    "```"
   ]
  },
  {
   "cell_type": "markdown",
   "metadata": {},
   "source": [
    "# Output parameters vs. Return values"
   ]
  },
  {
   "cell_type": "markdown",
   "metadata": {},
   "source": [
    "Select the statement that is FALSE when comparing output parameters and return values."
   ]
  },
  {
   "cell_type": "markdown",
   "metadata": {},
   "source": [
    "- Output parameters should be used to communicate errors to the calling application."
   ]
  },
  {
   "cell_type": "markdown",
   "metadata": {},
   "source": [
    "# Use SP to INSERT"
   ]
  },
  {
   "cell_type": "markdown",
   "metadata": {},
   "source": [
    "```\n",
    "-- Create the stored procedure\n",
    "CREATE PROCEDURE dbo.cusp_RideSummaryCreate \n",
    "    (@DateParm date, @RideHrsParm numeric)\n",
    "AS\n",
    "BEGIN\n",
    "SET NOCOUNT ON\n",
    "-- Insert into the Date and RideHours columns\n",
    "INSERT INTO dbo.RideSummary(Date, RideHours)\n",
    "-- Use values of @DateParm and @RideHrsParm\n",
    "VALUES (@DateParm, @RideHrsParm) \n",
    "\n",
    "-- Select the record that was just inserted\n",
    "SELECT\n",
    "    -- Select Date column\n",
    "\tDate,\n",
    "    -- Select RideHours column\n",
    "    RideHours\n",
    "FROM dbo.RideSummary\n",
    "-- Check whether Date equals @DateParm\n",
    "WHERE Date = @DateParm \n",
    "RETURN END;\n",
    "```"
   ]
  },
  {
   "cell_type": "markdown",
   "metadata": {},
   "source": [
    "# Use SP to UPDATE"
   ]
  },
  {
   "cell_type": "markdown",
   "metadata": {},
   "source": [
    "Create a stored procedure named `cuspRideSummaryUpdate` in the `dbo` schema that will update an existing record in the `RideSummary` table."
   ]
  },
  {
   "cell_type": "markdown",
   "metadata": {},
   "source": [
    "```\n",
    "-- Create the stored procedure\n",
    "CREATE PROCEDURE dbo.cuspRideSummaryUpdate\n",
    "\t-- Specify @Date input parameter\n",
    "\t(@Date DATE,\n",
    "     -- Specify @RideHrs input parameter\n",
    "     @RideHrs numeric(18,0))\n",
    "AS\n",
    "BEGIN\n",
    "SET NOCOUNT ON\n",
    "-- Update RideSummary\n",
    "UPDATE RideSummary\n",
    "-- Set\n",
    "SET\n",
    "\tDate = @Date,\n",
    "    RideHours = @RideHrs\n",
    "-- Include records where Date equals @Date\n",
    "WHERE Date = @Date\n",
    "RETURN END;\n",
    "```"
   ]
  },
  {
   "cell_type": "markdown",
   "metadata": {},
   "source": [
    "# Use SP to DELETE"
   ]
  },
  {
   "cell_type": "markdown",
   "metadata": {},
   "source": [
    "Create a stored procedure named `cuspRideSummaryDelete` in the `dbo` schema that will delete an existing record in the `RideSummary` table and `RETURN` the number of rows affected via output parameter."
   ]
  },
  {
   "cell_type": "markdown",
   "metadata": {},
   "source": [
    "```\n",
    "-- Create the stored procedure\n",
    "CREATE PROCEDURE dbo.cuspRideSummaryDelete\n",
    "\t-- Specify @DateParm input parameter\n",
    "\t(@DateParm DATE,\n",
    "     -- Specify @RowCountOut output parameter\n",
    "     @RowCountOut INT OUTPUT)\n",
    "AS\n",
    "BEGIN\n",
    "-- Delete record(s) where Date equals @DateParm\n",
    "DELETE FROM dbo.RideSummary\n",
    "WHERE Date = @DateParm\n",
    "-- Set @RowCountOut to @@ROWCOUNT\n",
    "SET @RowCountOut = @@ROWCOUNT\n",
    "RETURN END;\n",
    "```"
   ]
  },
  {
   "cell_type": "markdown",
   "metadata": {},
   "source": [
    "# EXECUTE with OUTPUT parameter"
   ]
  },
  {
   "cell_type": "markdown",
   "metadata": {},
   "source": [
    "Execute the `dbo.cuspSumRideHrsSingleDay` stored procedure and capture the output parameter."
   ]
  },
  {
   "cell_type": "markdown",
   "metadata": {},
   "source": [
    "```\n",
    "-- Create @RideHrs\n",
    "DECLARE @RideHrs AS NUMERIC(18,0)\n",
    "-- Execute the stored procedure\n",
    "EXEC dbo.cuspSumRideHrsSingleDay\n",
    "    -- Pass the input parameter\n",
    "\t@DateParm = '3/1/2018',\n",
    "    -- Store the output in @RideHrs\n",
    "\t@RideHrsOut = @RideHrs OUTPUT\n",
    "-- Select @RideHrs\n",
    "SELECT @RideHrs AS RideHours\n",
    "```"
   ]
  },
  {
   "cell_type": "markdown",
   "metadata": {},
   "source": [
    "# EXECUTE with return value"
   ]
  },
  {
   "cell_type": "markdown",
   "metadata": {},
   "source": [
    "Execute `dbo.cuspRideSummaryUpdate` to change the `RideHours` to `300` for `'3/1/2018'`. Store the return code from the stored procedure."
   ]
  },
  {
   "cell_type": "markdown",
   "metadata": {},
   "source": [
    "```\n",
    "-- Create @ReturnStatus\n",
    "DECLARE @ReturnStatus AS int\n",
    "-- Execute the SP, storing the result in @ReturnStatus\n",
    "EXEC @ReturnStatus = dbo.cuspRideSummaryUpdate\n",
    "    -- Specify @DateParm\n",
    "\t@DateParm = '3/1/2018',\n",
    "    -- Specify @RideHrs\n",
    "\t@RideHrs = 300\n",
    "\n",
    "-- Select the columns of interest\n",
    "SELECT\n",
    "\t@ReturnStatus AS ReturnStatus,\n",
    "    Date,\n",
    "    RideHours\n",
    "FROM dbo.RideSummary \n",
    "WHERE Date = '3/1/2018';\n",
    "```"
   ]
  },
  {
   "cell_type": "markdown",
   "metadata": {},
   "source": [
    "# EXECUTE with OUTPUT & return value"
   ]
  },
  {
   "cell_type": "markdown",
   "metadata": {},
   "source": [
    "Store and display both the output parameter and return code when executing `dbo.cuspRideSummaryDelete` SP."
   ]
  },
  {
   "cell_type": "markdown",
   "metadata": {},
   "source": [
    "```\n",
    "-- Create @ReturnStatus\n",
    "DECLARE @ReturnStatus AS INT\n",
    "-- Create @RowCount\n",
    "DECLARE @RowCount AS INT\n",
    "\n",
    "-- Execute the SP, storing the result in @ReturnStatus\n",
    "EXEC @ReturnStatus = dbo.cuspRideSummaryDelete \n",
    "    -- Specify @DateParm\n",
    "\t@DateParm = '3/1/2018',\n",
    "    -- Specify RowCountOut\n",
    "\t@RowCountOut = @RowCount OUTPUT\n",
    "\n",
    "-- Select the columns of interest\n",
    "SELECT\n",
    "\t@ReturnStatus AS ReturnStatus,\n",
    "    @RowCount AS 'RowCount';\n",
    "```"
   ]
  },
  {
   "cell_type": "markdown",
   "metadata": {},
   "source": [
    "# Your very own TRY..CATCH"
   ]
  },
  {
   "cell_type": "markdown",
   "metadata": {},
   "source": [
    "Alter `dbo.cuspRideSummaryDelete` to include an intentional error so we can see how the `TRY CATCH` block works."
   ]
  },
  {
   "cell_type": "markdown",
   "metadata": {},
   "source": [
    "```\n",
    "-- Alter the stored procedure\n",
    "CREATE OR ALTER PROCEDURE dbo.cuspRideSummaryDelete\n",
    "\t-- (Incorrectly) specify @DateParm\n",
    "\t @DateParm nvarchar(30),\n",
    "    -- Specify @Error\n",
    "\t@Error nvarchar(max) = NULL OUTPUT\n",
    "AS\n",
    "SET NOCOUNT ON\n",
    "BEGIN\n",
    "  -- Start of the TRY block\n",
    "  BEGIN TRY\n",
    "  \t  -- Delete\n",
    "      DELETE FROM RideSummary\n",
    "      WHERE Date = @DateParm\n",
    "  -- End of the TRY block\n",
    "  END TRY\n",
    "  -- Start of the CATCH block\n",
    "  BEGIN CATCH\n",
    "\t\tSET @Error = \n",
    "\t\t'Error_Number: '+ CAST(ERROR_NUMBER() AS VARCHAR) +\n",
    "\t\t'Error_Severity: '+ CAST(ERROR_SEVERITY() AS VARCHAR) +\n",
    "\t\t'Error_State: ' + CAST(ERROR_STATE() AS VARCHAR) + \n",
    "\t\t'Error_Message: ' + ERROR_MESSAGE() + \n",
    "\t\t'Error_Line: ' + CAST(ERROR_LINE() AS VARCHAR)\n",
    "  -- End of the CATCH block\n",
    "  END CATCH\n",
    "RETURN END;\n",
    "```"
   ]
  },
  {
   "cell_type": "markdown",
   "metadata": {},
   "source": [
    "# CATCH an error"
   ]
  },
  {
   "cell_type": "markdown",
   "metadata": {},
   "source": [
    "Execute `dbo.cuspRideSummaryDelete` and pass an invalid `@DateParm` value of `'1/32/2018'` to see how the error is handled. The invalid date will be accepted by the `nvarchar` data type of `@DateParm`, but the error will occur when SQL attempts to convert it to a valid date when executing the stored procedure."
   ]
  },
  {
   "cell_type": "markdown",
   "metadata": {},
   "source": [
    "```\n",
    "-- Create @ReturnCode\n",
    "DECLARE @ReturnCode AS INT\n",
    "-- Create @ErrorOut\n",
    "DECLARE @ErrorOut NVARCHAR(MAX)\n",
    "-- Execute the SP, storing the result in @ReturnCode\n",
    "EXEC @ReturnCode = dbo.cuspRideSummaryDelete\n",
    "    -- Specify @DateParm\n",
    "\t @DateParm = '1/32/2018',\n",
    "    -- Assign @ErrorOut to @Error\n",
    "\t@Error = @ErrorOut OUTPUT\n",
    "-- Select @ReturnCode and @ErrorOut\n",
    "SELECT\n",
    "\t@ReturnCode AS ReturnCode,\n",
    "    @ErrorOut AS ErrorMessage;\n",
    "```"
   ]
  }
 ],
 "metadata": {
  "kernelspec": {
   "display_name": "Python 3.8.11 ('env_py')",
   "language": "python",
   "name": "python3"
  },
  "language_info": {
   "name": "python",
   "version": "3.8.11"
  },
  "orig_nbformat": 4,
  "vscode": {
   "interpreter": {
    "hash": "1e949e87132dd83f1a7623eb88007e3532b03b66b77111be347aa4a383049722"
   }
  }
 },
 "nbformat": 4,
 "nbformat_minor": 2
}

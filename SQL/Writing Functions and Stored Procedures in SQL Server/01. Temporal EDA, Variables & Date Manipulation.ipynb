{
 "cells": [
  {
   "cell_type": "markdown",
   "metadata": {},
   "source": [
    "# Transactions per day"
   ]
  },
  {
   "cell_type": "markdown",
   "metadata": {},
   "source": [
    "It's time for you to do some temporal EDA on the BikeShare dataset. Write a query to determine how many transactions exist per day.\n",
    "\n",
    "Sometimes datasets have multiple sources and this query can help you understand if you are missing data."
   ]
  },
  {
   "cell_type": "markdown",
   "metadata": {},
   "source": [
    "```\n",
    "SELECT\n",
    "  -- Select the date portion of StartDate\n",
    "  CONVERT(DATE, StartDate) as StartDate,\n",
    "  -- Measure how many records exist for each StartDate\n",
    "  COUNT(*) as CountOfRows \n",
    "FROM CapitalBikeShare \n",
    "-- Group by the date portion of StartDate\n",
    "GROUP BY CONVERT(DATE, StartDate)\n",
    "-- Sort the results by the date portion of StartDate\n",
    "ORDER BY CONVERT(DATE, StartDate);\n",
    "```"
   ]
  },
  {
   "cell_type": "markdown",
   "metadata": {},
   "source": [
    "# Seconds or no seconds?"
   ]
  },
  {
   "cell_type": "markdown",
   "metadata": {},
   "source": [
    "In the video, you saw how `DATEDIFF()` can be used to calculate the trip time by finding the difference between Start and End time, but how do you know the dataset includes seconds in the transactions?\n",
    "\n",
    "Here, you'll use `DATEPART()` to see how many transactions have seconds greater than zero and how many have them equal to zero. Then you can evaluate if this is an appropriate amount. The `CASE` statement will segregate the dataset into two categories."
   ]
  },
  {
   "cell_type": "markdown",
   "metadata": {},
   "source": [
    "```\n",
    "SELECT\n",
    "\t-- Count the number of IDs\n",
    "\tCOUNT(ID) AS Count,\n",
    "    -- Use DATEPART() to evaluate the SECOND part of StartDate\n",
    "    \"StartDate\" = CASE WHEN DATEPART(SECOND, StartDate) = 0 THEN 'SECONDS = 0'\n",
    "\t\t\t\t\t   WHEN DATEPART(SECOND, StartDate) > 0 THEN 'SECONDS > 0' END\n",
    "FROM CapitalBikeShare\n",
    "GROUP BY\n",
    "    -- Use DATEPART() to Group By the CASE statement\n",
    "\tCASE WHEN DATEPART(SECOND, StartDate) = 0 THEN 'SECONDS = 0'\n",
    "\t\t WHEN DATEPART(SECOND, StartDate) > 0 THEN 'SECONDS > 0' END\n",
    "```"
   ]
  },
  {
   "cell_type": "markdown",
   "metadata": {},
   "source": [
    "# Which day of week is busiest?"
   ]
  },
  {
   "cell_type": "markdown",
   "metadata": {},
   "source": [
    "Now that we verified there are seconds consistently in our dataset we can calculate the Total Trip Time for each day of the week."
   ]
  },
  {
   "cell_type": "markdown",
   "metadata": {},
   "source": [
    "```\n",
    "SELECT\n",
    "    -- Select the day of week value for StartDate\n",
    "\tDATENAME(WEEKDAY, StartDate) as DayOfWeek,\n",
    "    -- Calculate TotalTripHours\n",
    "\tSUM(DATEDIFF(SECOND, StartDate, EndDate))/ 3600 as TotalTripHours \n",
    "FROM CapitalBikeShare \n",
    "-- Group by the day of week\n",
    "GROUP BY DATENAME(WEEKDAY, StartDate)\n",
    "-- Order TotalTripHours in descending order\n",
    "ORDER BY TotalTripHours DESC\n",
    "```"
   ]
  },
  {
   "cell_type": "markdown",
   "metadata": {},
   "source": [
    "# Find the outliers"
   ]
  },
  {
   "cell_type": "markdown",
   "metadata": {},
   "source": [
    "The previous exercise showed us that Saturday was the busiest day of the month for BikeShare rides. Do you wonder if there were any individual Saturday outliers that contributed to this?"
   ]
  },
  {
   "cell_type": "markdown",
   "metadata": {},
   "source": [
    "```\n",
    "SELECT\n",
    "\t-- Calculate TotalRideHours using SUM() and DATEDIFF()\n",
    "  \tSUM(DATEDIFF(SECOND, StartDate, EndDate))/ 3600 AS TotalRideHours,\n",
    "    -- Select the DATE portion of StartDate\n",
    "  \tCONVERT(DATE, StartDate) AS DateOnly,\n",
    "    -- Select the WEEKDAY\n",
    "  \tDATENAME(WEEKDAY, CONVERT(DATE, StartDate)) AS DayOfWeek \n",
    "FROM CapitalBikeShare\n",
    "-- Only include Saturday\n",
    "WHERE DATENAME(WEEKDAY, StartDate) = 'Saturday' \n",
    "GROUP BY CONVERT(DATE, StartDate);\n",
    "```"
   ]
  },
  {
   "cell_type": "markdown",
   "metadata": {},
   "source": [
    "# DECLARE & CAST"
   ]
  },
  {
   "cell_type": "markdown",
   "metadata": {},
   "source": [
    "Let's use `DECLARE()` and `CAST()` to combine a date variable and a time variable into a datetime variable."
   ]
  },
  {
   "cell_type": "markdown",
   "metadata": {},
   "source": [
    "```\n",
    "-- Create @ShiftStartTime\n",
    "DECLARE @ShiftStartTime AS time = '08:00 AM'\n",
    "\n",
    "-- Create @StartDate\n",
    "DECLARE @StartDate AS date\n",
    "\n",
    "-- Set StartDate to the first StartDate from CapitalBikeShare\n",
    "SET \n",
    "\t@StartDate = (\n",
    "    \tSELECT TOP 1 StartDate \n",
    "    \tFROM CapitalBikeShare \n",
    "    \tORDER BY StartDate ASC\n",
    "\t\t)\n",
    "\n",
    "-- Create ShiftStartDateTime\n",
    "DECLARE @ShiftStartDateTime AS datetime\n",
    "\n",
    "-- Cast StartDate and ShiftStartTime to datetime data types\n",
    "SET @ShiftStartDateTime = CAST(@StartDate AS datetime) + CAST(@ShiftStartTime AS datetime) \n",
    "\n",
    "SELECT @ShiftStartDateTime\n",
    "```"
   ]
  },
  {
   "cell_type": "markdown",
   "metadata": {},
   "source": [
    "# DECLARE a TABLE"
   ]
  },
  {
   "cell_type": "markdown",
   "metadata": {},
   "source": [
    "Let's create a TABLE variable to store Shift data and then populate it with static values."
   ]
  },
  {
   "cell_type": "markdown",
   "metadata": {},
   "source": [
    "```\n",
    "-- Declare @Shifts as a TABLE\n",
    "DECLARE @Shifts TABLE(\n",
    "    -- Create StartDateTime column\n",
    "\tStartDateTime DATETIME,\n",
    "    -- Create EndDateTime column\n",
    "\tEndDateTime DATETIME)\n",
    "-- Populate @Shifts\n",
    "INSERT INTO @Shifts (StartDateTime, EndDateTime)\n",
    "\tSELECT '3/1/2018 8:00 AM', '3/1/2018 4:00 PM';\n",
    "SELECT * \n",
    "FROM @Shifts\n",
    "```"
   ]
  },
  {
   "cell_type": "markdown",
   "metadata": {},
   "source": [
    "# INSERT INTO @TABLE"
   ]
  },
  {
   "cell_type": "markdown",
   "metadata": {},
   "source": [
    "Instead of storing static values in a table variable, let's store the result of a query."
   ]
  },
  {
   "cell_type": "markdown",
   "metadata": {},
   "source": [
    "```\n",
    "-- Declare @RideDates\n",
    "DECLARE @RideDates TABLE(\n",
    "    -- Define RideStart column\n",
    "\tRideStart DATE, \n",
    "    -- Define RideEnd column\n",
    "    RideEnd DATE)\n",
    "-- Populate @RideDates\n",
    "INSERT INTO @RideDates(RideStart, RideEnd)\n",
    "-- Select the unique date values of StartDate and EndDate\n",
    "SELECT DISTINCT\n",
    "    -- Cast StartDate as date\n",
    "\tCAST(StartDate as date),\n",
    "    -- Cast EndDate as date\n",
    "\tCAST(EndDate as date) \n",
    "FROM CapitalBikeShare \n",
    "SELECT * \n",
    "FROM @RideDates\n",
    "```"
   ]
  },
  {
   "cell_type": "markdown",
   "metadata": {},
   "source": [
    "# Parameters matter with DATEDIFF"
   ]
  },
  {
   "cell_type": "markdown",
   "metadata": {},
   "source": [
    "How many times, in terms of days, weeks, and months, are the datepart boundaries crossed between the dates 2/26/2018 and 3/3/2018?"
   ]
  },
  {
   "cell_type": "markdown",
   "metadata": {},
   "source": [
    "```\n",
    "SELECT DATEDIFF(DAY,'2/26/2018','3/3/2018') AS DAYS,\n",
    " DATEDIFF(WEEK,'2/26/2018','3/3/2018') AS WEEKS,\n",
    " DATEDIFF(MONTH,'2/26/2018','3/3/2018') AS  MONTHS\n",
    "```\n",
    "\n",
    "- 5 days, 0 weeks, 1 month."
   ]
  },
  {
   "cell_type": "markdown",
   "metadata": {},
   "source": [
    "# First day of month"
   ]
  },
  {
   "cell_type": "markdown",
   "metadata": {},
   "source": [
    "Here you will use the `GETDATE()`, `DATEDIFF()`, and `DATEADD()` functions to find the first day of the current month."
   ]
  },
  {
   "cell_type": "markdown",
   "metadata": {},
   "source": [
    "```\n",
    "-- Find the first day of the current month\n",
    "SELECT DATEADD(MONTH, DATEDIFF(MONTH, 0, GETDATE()), 0)\n",
    "```"
   ]
  }
 ],
 "metadata": {
  "kernelspec": {
   "display_name": "Python 3.8.11 ('env_py')",
   "language": "python",
   "name": "python3"
  },
  "language_info": {
   "name": "python",
   "version": "3.8.11"
  },
  "orig_nbformat": 4,
  "vscode": {
   "interpreter": {
    "hash": "1e949e87132dd83f1a7623eb88007e3532b03b66b77111be347aa4a383049722"
   }
  }
 },
 "nbformat": 4,
 "nbformat_minor": 2
}

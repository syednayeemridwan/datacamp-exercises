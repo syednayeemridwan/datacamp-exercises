{
 "cells": [
  {
   "cell_type": "markdown",
   "metadata": {},
   "source": [
    "# What was yesterday?"
   ]
  },
  {
   "cell_type": "markdown",
   "metadata": {},
   "source": [
    "Create a function that returns yesterday's date."
   ]
  },
  {
   "cell_type": "markdown",
   "metadata": {},
   "source": [
    "```\n",
    "-- Create GetYesterday()\n",
    "CREATE FUNCTION GetYesterday()\n",
    "-- Specify return data type\n",
    "RETURNS DATE\n",
    "AS\n",
    "BEGIN\n",
    "-- Calculate yesterday's date value\n",
    "RETURN (SELECT DATEADD(day, -1, GETDATE()))\n",
    "END \n",
    "```"
   ]
  },
  {
   "cell_type": "markdown",
   "metadata": {},
   "source": [
    "# One in one out"
   ]
  },
  {
   "cell_type": "markdown",
   "metadata": {},
   "source": [
    "Create a function named `SumRideHrsSingleDay()` which returns the total ride time in hours for the `@DateParm` parameter passed."
   ]
  },
  {
   "cell_type": "markdown",
   "metadata": {},
   "source": [
    "```\n",
    "-- Create SumRideHrsSingleDay\n",
    "CREATE FUNCTION SumRideHrsSingleDay (@DateParm date)\n",
    "-- Specify return data type\n",
    "RETURNS numeric\n",
    "AS\n",
    "-- Begin\n",
    "BEGIN\n",
    "RETURN\n",
    "-- Add the difference between StartDate and EndDate\n",
    "(SELECT SUM(DATEDIFF(second, StartDate, EndDate))/3600\n",
    "FROM CapitalBikeShare\n",
    " -- Only include transactions where StartDate = @DateParm\n",
    "WHERE CAST(StartDate AS DATE) =  @DateParm)\n",
    "-- End\n",
    "END\n",
    "```"
   ]
  },
  {
   "cell_type": "markdown",
   "metadata": {},
   "source": [
    "# Multiple inputs one output"
   ]
  },
  {
   "cell_type": "markdown",
   "metadata": {},
   "source": [
    "Often times you will need to pass more than one parameter to a function. Create a function that accepts `@StartDateParm` and `@EndDateParm` and returns the total ride hours for all transactions that have a `StartDate` within the parameter values."
   ]
  },
  {
   "cell_type": "markdown",
   "metadata": {},
   "source": [
    "```\n",
    "-- Create the function\n",
    "CREATE FUNCTION SumRideHrsDateRange (@StartDateParm DATETIME, @EndDateParm DATETIME)\n",
    "-- Specify return data type\n",
    "RETURNS NUMERIC\n",
    "AS\n",
    "BEGIN\n",
    "RETURN\n",
    "-- Sum the difference between StartDate and EndDate\n",
    "(SELECT SUM(DATEDIFF(second, StartDate, EndDate))/3600\n",
    "FROM CapitalBikeShare\n",
    "-- Include only the relevant transactions\n",
    "WHERE StartDate > @StartDateParm and StartDate < @EndDateParm)\n",
    "END\n",
    "```"
   ]
  },
  {
   "cell_type": "markdown",
   "metadata": {},
   "source": [
    "# Inline TVF"
   ]
  },
  {
   "cell_type": "markdown",
   "metadata": {},
   "source": [
    "Create an inline table value function that returns the number of rides and total ride duration for each `StartStation` where the `StartDate` of the ride is equal to the input parameter."
   ]
  },
  {
   "cell_type": "markdown",
   "metadata": {},
   "source": [
    "```\n",
    "-- Create the function\n",
    "CREATE FUNCTION SumStationStats(@StartDate AS DATETIME)\n",
    "-- Specify return data type\n",
    "RETURNS TABLE\n",
    "AS \n",
    "RETURN\n",
    "SELECT\n",
    "\tStartStation,\n",
    "    -- Use COUNT() to select RideCount\n",
    "\tCOUNT(ID) AS RideCount,\n",
    "    -- Use SUM() to calculate TotalDuration\n",
    "    SUM(Duration) AS TotalDuration\n",
    "FROM CapitalBikeShare\n",
    "WHERE CAST(StartDate as Date) = @StartDate\n",
    "-- Group by StartStation\n",
    "GROUP BY StartStation ;\n",
    "```"
   ]
  },
  {
   "cell_type": "markdown",
   "metadata": {},
   "source": [
    "# Multi statement TVF"
   ]
  },
  {
   "cell_type": "markdown",
   "metadata": {},
   "source": [
    "Create a multi statement table value function that returns the trip count and average ride duration for each day for the month & year parameter values passed."
   ]
  },
  {
   "cell_type": "markdown",
   "metadata": {},
   "source": [
    "```\n",
    "-- Create the function\n",
    "CREATE FUNCTION CountTripAvgDuration (@Month  CHAR(2), @Year CHAR(4))\n",
    "-- Specify return variable\n",
    "RETURNS @DailyTripStats TABLE(\n",
    "\tTripDate\tdate,\n",
    "\tTripCount\tint,\n",
    "\tAvgDuration\tnumeric)\n",
    "AS\n",
    "BEGIN\n",
    "-- Insert query results into @DailyTripStats\n",
    "INSERT INTO @DailyTripStats\n",
    "SELECT\n",
    "    -- Cast StartDate as a date\n",
    "\tCAST(StartDate AS DATE),\n",
    "    COUNT(ID),\n",
    "    AVG(Duration)\n",
    "FROM CapitalBikeShare\n",
    "WHERE\n",
    "\tDATEPART(month, StartDate) = @Month AND\n",
    "    DATEPART(year, StartDate) = @Year\n",
    "-- Group by StartDate as a date\n",
    "GROUP BY CAST(StartDate AS DATE)\n",
    "-- Return\n",
    "RETURN\n",
    "END\n",
    "    -- Cast StartDate as a date\n",
    "\t\n",
    "```"
   ]
  },
  {
   "cell_type": "markdown",
   "metadata": {},
   "source": [
    "# Execute scalar with select"
   ]
  },
  {
   "cell_type": "markdown",
   "metadata": {},
   "source": [
    "Previously, you created a scalar function named `SumRideHrsDateRange()`. Execute that function for the `'3/1/2018'` through `'3/10/2018'` date range by passing local date variables."
   ]
  },
  {
   "cell_type": "markdown",
   "metadata": {},
   "source": [
    "```\n",
    "-- Create @BeginDate\n",
    "DECLARE @BeginDate AS DATE = '3/1/2018'\n",
    "-- Create @EndDate\n",
    "DECLARE @EndDate AS DATE = '3/10/2018' \n",
    "SELECT\n",
    "  -- Select @BeginDate\n",
    "  @BeginDate AS BeginDate,\n",
    "  -- Select @EndDate\n",
    "  @EndDate AS EndDate,\n",
    "  -- Execute SumRideHrsDateRange()\n",
    "  dbo.SumRideHrsDateRange(@BeginDate, @EndDate) AS TotalRideHrs\n",
    "```"
   ]
  },
  {
   "cell_type": "markdown",
   "metadata": {},
   "source": [
    "# EXEC scalar"
   ]
  },
  {
   "cell_type": "markdown",
   "metadata": {},
   "source": [
    "You created the `SumRideHrsSingleDay` function earlier in this chapter. Execute that function using the `EXEC` keyword and store the result in a local variable."
   ]
  },
  {
   "cell_type": "markdown",
   "metadata": {},
   "source": [
    "```\n",
    "-- Create @RideHrs\n",
    "DECLARE @RideHrs AS NUMERIC\n",
    "-- Execute SumRideHrsSingleDay function and store the result in @RideHrs\n",
    "EXEC @RideHrs = dbo.SumRideHrsSingleDay @DateParm = '3/5/2018' \n",
    "SELECT \n",
    "  'Total Ride Hours for 3/5/2018:', \n",
    "  @RideHrs\n",
    "```"
   ]
  },
  {
   "cell_type": "markdown",
   "metadata": {},
   "source": [
    "# Execute TVF into variable"
   ]
  },
  {
   "cell_type": "markdown",
   "metadata": {},
   "source": [
    "Remember the table value function you created earlier in this chapter named `SumStationStats`?. It accepts a `datetime` parameter and returns the ride count and total ride duration for each starting station where the start date matches the input parameter. Execute `SumStationStats` now and store the results in a table variable."
   ]
  },
  {
   "cell_type": "markdown",
   "metadata": {},
   "source": [
    "```\n",
    "-- Create @StationStats\n",
    "DECLARE @StationStats TABLE(\n",
    "\tStartStation nvarchar(100), \n",
    "\tRideCount int, \n",
    "\tTotalDuration numeric)\n",
    "-- Populate @StationStats with the results of the function\n",
    "INSERT INTO @StationStats\n",
    "SELECT TOP 10 *\n",
    "-- Execute SumStationStats with 3/15/2018\n",
    "FROM dbo.SumStationStats('3/15/2018') \n",
    "ORDER BY RideCount DESC;\n",
    "-- Select all the records from @StationStats\n",
    "SELECT * \n",
    "FROM @StationStats\n",
    "```"
   ]
  },
  {
   "cell_type": "markdown",
   "metadata": {},
   "source": [
    "# CREATE OR ALTER"
   ]
  },
  {
   "cell_type": "markdown",
   "metadata": {},
   "source": [
    "Change the SumStationStats function to enable `SCHEMABINDING`. Also change the parameter name to `@EndDate` and compare to `EndDate` of `CapitalBikeShare` table."
   ]
  },
  {
   "cell_type": "markdown",
   "metadata": {},
   "source": [
    "```\n",
    "-- Update SumStationStats\n",
    "CREATE OR ALTER FUNCTION dbo.SumStationStats(@EndDate AS DATE)\n",
    "-- Enable SCHEMABINDING\n",
    "RETURNS TABLE WITH SCHEMABINDING\n",
    "AS\n",
    "RETURN\n",
    "SELECT\n",
    "\tStartStation,\n",
    "    COUNT(ID) AS RideCount,\n",
    "    SUM(DURATION) AS TotalDuration\n",
    "FROM dbo.CapitalBikeShare\n",
    "-- Cast EndDate as date and compare to @EndDate\n",
    "WHERE CAST(EndDate AS Date) = @EndDate\n",
    "GROUP BY StartStation;\n",
    "```"
   ]
  },
  {
   "cell_type": "markdown",
   "metadata": {},
   "source": [
    "# Best practices"
   ]
  },
  {
   "cell_type": "markdown",
   "metadata": {},
   "source": [
    "What makes a function Deterministic?\n",
    "- If it returns the same result given the same parameters passed and database state."
   ]
  }
 ],
 "metadata": {
  "kernelspec": {
   "display_name": "Python 3.8.11 ('env_py')",
   "language": "python",
   "name": "python3"
  },
  "language_info": {
   "name": "python",
   "version": "3.8.11"
  },
  "orig_nbformat": 4,
  "vscode": {
   "interpreter": {
    "hash": "1e949e87132dd83f1a7623eb88007e3532b03b66b77111be347aa4a383049722"
   }
  }
 },
 "nbformat": 4,
 "nbformat_minor": 2
}

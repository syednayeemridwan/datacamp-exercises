{
 "cells": [
  {
   "cell_type": "markdown",
   "metadata": {},
   "source": [
    "# Use EDA to find impossible scenarios"
   ]
  },
  {
   "cell_type": "markdown",
   "metadata": {},
   "source": [
    "Calculate how many `YellowTripData` records have each type of error discovered during EDA."
   ]
  },
  {
   "cell_type": "markdown",
   "metadata": {},
   "source": [
    "```\n",
    "SELECT\n",
    "\t-- PickupDate is after today\n",
    "\tCOUNT (CASE WHEN PickupDate > GETDATE() THEN 1 END) AS 'FuturePickup',\n",
    "    -- DropOffDate is after today\n",
    "\tCOUNT (CASE WHEN DropOffDate > GETDATE() THEN 1 END) AS 'FutureDropOff',\n",
    "    -- PickupDate is after DropOffDate\n",
    "\tCOUNT (CASE WHEN PickupDate > DropOffDate THEN 1 END) AS 'PickupBeforeDropoff',\n",
    "    -- TripDistance is 0\n",
    "\tCOUNT (CASE WHEN TripDistance = 0 THEN 1 END) AS 'ZeroTripDistance'  \n",
    "FROM YellowTripData;\n",
    "```"
   ]
  },
  {
   "cell_type": "markdown",
   "metadata": {},
   "source": [
    "# SPs vs UDFs"
   ]
  },
  {
   "cell_type": "markdown",
   "metadata": {},
   "source": [
    "In order to handle errors discovered in EDA we need to understand the differences between UDFs and SPs. Select the statement that is true when comparing UDFs and SPs."
   ]
  },
  {
   "cell_type": "markdown",
   "metadata": {},
   "source": [
    "- SPs perform error handling better than UDFS."
   ]
  },
  {
   "cell_type": "markdown",
   "metadata": {},
   "source": [
    "# Mean imputation"
   ]
  },
  {
   "cell_type": "markdown",
   "metadata": {},
   "source": [
    "Create a stored procedure that will apply mean imputation to the `YellowTripData` records with an incorrect `TripDistance` of zero. The average trip distance variable should have a precision of 18 and 4 decimal places."
   ]
  },
  {
   "cell_type": "markdown",
   "metadata": {},
   "source": [
    "```\n",
    "-- Create the stored procedure\n",
    "CREATE PROCEDURE dbo.cuspImputeTripDistanceMean\n",
    "AS\n",
    "BEGIN\n",
    "-- Specify @AvgTripDistance variable\n",
    "DECLARE @AvgTripDistance AS numeric (18,4)\n",
    "\n",
    "-- Calculate the average trip distance\n",
    "SELECT @AvgTripDistance = AVG(TripDistance) \n",
    "FROM YellowTripData\n",
    "-- Only include trip distances greater than 0\n",
    "WHERE TripDistance > 0\n",
    "\n",
    "-- Update the records where trip distance is 0\n",
    "UPDATE YellowTripData\n",
    "SET TripDistance =  @AvgTripDistance\n",
    "WHERE TripDistance = 0\n",
    "RETURN END;\n",
    "```"
   ]
  },
  {
   "cell_type": "markdown",
   "metadata": {},
   "source": [
    "# Hot Deck imputation"
   ]
  },
  {
   "cell_type": "markdown",
   "metadata": {},
   "source": [
    "Create a function named `dbo.GetTripDistanceHotDeck` that returns a `TripDistance` value via Hot Deck methodology. `TripDistance` should have a precision of 18 and 4 decimal places."
   ]
  },
  {
   "cell_type": "markdown",
   "metadata": {},
   "source": [
    "```\n",
    "-- Create the function\n",
    "CREATE FUNCTION dbo.GetTripDistanceHotDeck()\n",
    "-- Specify return data type\n",
    "RETURNS NUMERIC(18,4)\n",
    "AS \n",
    "BEGIN\n",
    "RETURN\n",
    "\t-- Select the first TripDistance value\n",
    "\t(SELECT TOP 1 TripDistance\n",
    "\tFROM YellowTripData\n",
    "    -- Sample 1000 records\n",
    "\tTABLESAMPLE(1000 rows)\n",
    "    -- Only include records where TripDistance is > 0\n",
    "\tWHERE TripDistance > 0)\n",
    "END;\n",
    "```"
   ]
  },
  {
   "cell_type": "markdown",
   "metadata": {},
   "source": [
    "# CREATE FUNCTIONs"
   ]
  },
  {
   "cell_type": "markdown",
   "metadata": {},
   "source": [
    "Create three functions to help solve the business case:\n",
    "\n",
    "- Convert distance from miles to kilometers.\n",
    "- Convert currency based on exchange rate parameter. (These two functions should return a numeric value with precision of 18 and 2 decimal places.)\n",
    "- Identify the driver shift based on the hour parameter value passed."
   ]
  },
  {
   "cell_type": "markdown",
   "metadata": {},
   "source": [
    "```\n",
    "-- Create the function\n",
    "CREATE FUNCTION dbo.ConvertMileToKm (@Miles numeric(18,2))\n",
    "-- Specify return data type\n",
    "RETURNS numeric(18,2)\n",
    "AS\n",
    "BEGIN\n",
    "RETURN\n",
    "\t-- Convert Miles to Kilometers\n",
    "\t(SELECT @Miles * 1.609)\n",
    "END;\n",
    "```"
   ]
  },
  {
   "cell_type": "markdown",
   "metadata": {},
   "source": [
    "```\n",
    "-- Create the function\n",
    "CREATE FUNCTION dbo.ConvertDollar\n",
    "\t-- Specify @DollarAmt parameter\n",
    "\t(@DollarAmt numeric(18,2),\n",
    "     -- Specify ExchangeRate parameter\n",
    "     @ExchangeRate numeric(18,2))\n",
    "-- Specify return data type\n",
    "RETURNS numeric(18,2)\n",
    "AS\n",
    "BEGIN\n",
    "RETURN\n",
    "\t-- Multiply @ExchangeRate and @DollarAmt\n",
    "\t(SELECT @ExchangeRate * @DollarAmt)\n",
    "END;\n",
    "```"
   ]
  },
  {
   "cell_type": "markdown",
   "metadata": {},
   "source": [
    "```\n",
    "-- Create the function\n",
    "CREATE FUNCTION dbo.GetShiftNumber (@Hour integer)\n",
    "-- Specify return data type\n",
    "RETURNS int\n",
    "AS\n",
    "BEGIN\n",
    "RETURN\n",
    "\t-- 12am (0) to 9am (9) shift\n",
    "\t(CASE WHEN @Hour >= 0 AND @Hour < 9 THEN 1\n",
    "     \t  -- 9am (9) to 5pm (17) shift\n",
    "\t\t WHEN @Hour >= 9 AND @Hour < 17 THEN 2\n",
    "          -- 5pm (17) to 12am (24) shift\n",
    "\t     WHEN @Hour >= 17 AND @Hour < 24 THEN 3 END)\n",
    "END;\n",
    "```"
   ]
  },
  {
   "cell_type": "markdown",
   "metadata": {},
   "source": [
    "# Test FUNCTIONs"
   ]
  },
  {
   "cell_type": "markdown",
   "metadata": {},
   "source": [
    "Now it's time to test the three functions you wrote in the previous exercise."
   ]
  },
  {
   "cell_type": "markdown",
   "metadata": {},
   "source": [
    "```\n",
    "SELECT\n",
    "\t-- Select the first 100 records of PickupDate\n",
    "\tTOP 100 PickupDate,\n",
    "    -- Determine the shift value of PickupDate\n",
    "\tdbo.GetShiftNumber(DATEPART(HOUR, PickupDate)) AS 'Shift',\n",
    "    -- Select FareAmount\n",
    "\tFareAmount,\n",
    "    -- Convert FareAmount to Euro\n",
    "\tdbo.ConvertDollar(FareAmount, 0.87) AS 'FareinEuro',\n",
    "    -- Select TripDistance\n",
    "\tTripDistance,\n",
    "    -- Convert TripDistance to kilometers\n",
    "\tdbo.ConvertMiletoKm(TripDistance) AS 'TripDistanceinKM'\n",
    "FROM YellowTripData\n",
    "-- Only include records for the 2nd shift\n",
    "WHERE dbo.GetShiftNumber(DATEPART(HOUR, PickupDate))  = 2;\n",
    "```"
   ]
  },
  {
   "cell_type": "markdown",
   "metadata": {},
   "source": [
    "# Logical weekdays with Hot Deck"
   ]
  },
  {
   "cell_type": "markdown",
   "metadata": {},
   "source": [
    "Calculate Total Fare Amount per Total Distance for each day of week. If the `TripDistance` is zero use the Hot Deck imputation function you created earlier in the chapter."
   ]
  },
  {
   "cell_type": "markdown",
   "metadata": {},
   "source": [
    "```\n",
    "SELECT\n",
    "    -- Select the pickup day of week\n",
    "\tDATENAME(weekday, PickupDate) as DayofWeek,\n",
    "    -- Calculate TotalAmount per TripDistance\n",
    "\tCAST(AVG(TotalAmount/\n",
    "            -- Select TripDistance if it's more than 0\n",
    "\t\t\tCASE WHEN TripDistance > 0 THEN TripDistance\n",
    "                 -- Use GetTripDistanceHotDeck()\n",
    "     \t\t\t ELSE dbo.GetTripDistanceHotDeck() END) as decimal(10,2)) as 'AvgFare'\n",
    "FROM YellowTripData\n",
    "GROUP BY DATENAME(weekday, PickupDate)\n",
    "-- Order by the PickupDate day of week\n",
    "ORDER BY\n",
    "     CASE WHEN DATENAME(weekday, PickupDate) = 'Monday' THEN 1\n",
    "         WHEN DATENAME(weekday, PickupDate) = 'Tuesday' THEN 2\n",
    "         WHEN DATENAME(weekday, PickupDate) = 'Wednesday' THEN 3\n",
    "         WHEN DATENAME(weekday, PickupDate) = 'Thursday' THEN 4\n",
    "         WHEN DATENAME(weekday, PickupDate) = 'Friday' THEN 5\n",
    "         WHEN DATENAME(weekday, PickupDate) = 'Saturday' THEN 6\n",
    "         WHEN DATENAME(weekday, PickupDate) = 'Sunday' THEN 7\n",
    "END ASC;\n",
    "```"
   ]
  },
  {
   "cell_type": "markdown",
   "metadata": {},
   "source": [
    "# Format for Germany"
   ]
  },
  {
   "cell_type": "markdown",
   "metadata": {},
   "source": [
    "Write a query to display the `TotalDistance`, `TotalRideTime` and `TotalFare` for each day and NYC Borough. Display the date, distance, ride time, and fare totals for German culture."
   ]
  },
  {
   "cell_type": "markdown",
   "metadata": {},
   "source": [
    "```\n",
    "SELECT\n",
    "    -- Cast PickupDate as a date and display as a German date\n",
    "\tFORMAT(CAST(PickupDate AS date), 'd', 'de-de') AS 'PickupDate',\n",
    "\tZone.Borough,\n",
    "    -- Display TotalDistance in the German format\n",
    "\tFORMAT(SUM(TripDistance), 'n', 'de-de') AS 'TotalDistance',\n",
    "    -- Display TotalRideTime in the German format\n",
    "\tFORMAT(SUM(DATEDIFF(minute, PickupDate, DropoffDate)), 'n', 'de-de') AS 'TotalRideTime',\n",
    "    -- Display TotalFare in German currency\n",
    "\tFORMAT(SUM(TotalAmount), 'c', 'de-de') AS 'TotalFare'\n",
    "FROM YellowTripData\n",
    "INNER JOIN TaxiZoneLookup AS Zone \n",
    "ON PULocationID = Zone.LocationID \n",
    "GROUP BY\n",
    "\tCAST(PickupDate as date),\n",
    "    Zone.Borough \n",
    "ORDER BY\n",
    "\tCAST(PickupDate as date),\n",
    "    Zone.Borough;\n",
    "```"
   ]
  },
  {
   "cell_type": "markdown",
   "metadata": {},
   "source": [
    "# NYC Borough statistics SP"
   ]
  },
  {
   "cell_type": "markdown",
   "metadata": {},
   "source": [
    "It's time to apply what that you have learned in this course and write a stored procedure to solve the first objective of the Taxi Ride business case. Calculate `AvgFarePerKM`, `RideCount` and `TotalRideMin` for each NYC borough and weekday. After discussion with stakeholders, you should omit records where the `TripDistance` is zero."
   ]
  },
  {
   "cell_type": "markdown",
   "metadata": {},
   "source": [
    "```\n",
    "CREATE OR ALTER PROCEDURE dbo.cuspBoroughRideStats\n",
    "AS\n",
    "BEGIN\n",
    "SELECT\n",
    "    -- Calculate the pickup weekday\n",
    "\tDATENAME(weekday, PickupDate) AS 'Weekday',\n",
    "    -- Select the Borough\n",
    "\tZone.Borough AS 'PickupBorough',\n",
    "    -- Display AvgFarePerKM as German currency\n",
    "\tFORMAT(AVG(dbo.ConvertDollar(TotalAmount, .88)/dbo.ConvertMiletoKM(TripDistance)), 'c', 'de-de') AS 'AvgFarePerKM',\n",
    "    -- Display RideCount in the German format\n",
    "\tFORMAT(COUNT(ID), 'n', 'de-de') AS 'RideCount',\n",
    "    -- Display TotalRideMin in the German format\n",
    "\tFORMAT(SUM(DATEDIFF(SECOND, PickupDate, DropOffDate))/60, 'n', 'de-de') AS 'TotalRideMin'\n",
    "FROM YellowTripData\n",
    "INNER JOIN TaxiZoneLookup AS Zone \n",
    "ON PULocationID = Zone.LocationID\n",
    "-- Only include records where TripDistance is greater than 0\n",
    "WHERE TripDistance > 0\n",
    "-- Group by pickup weekday and Borough\n",
    "GROUP BY DATENAME(WEEKDAY, PickupDate), Zone.Borough\n",
    "ORDER BY CASE WHEN DATENAME(WEEKDAY, PickupDate) = 'Monday' THEN 1\n",
    "\t     \t  WHEN DATENAME(WEEKDAY, PickupDate) = 'Tuesday' THEN 2\n",
    "              WHEN DATENAME(WEEKDAY, PickupDate) = 'Wednesday' THEN 3\n",
    "              WHEN DATENAME(WEEKDAY, PickupDate) = 'Thursday' THEN 4\n",
    "              WHEN DATENAME(WEEKDAY, PickupDate) = 'Friday' THEN 5\n",
    "              WHEN DATENAME(WEEKDAY, PickupDate) = 'Saturday' THEN 6\n",
    "              WHEN DATENAME(WEEKDAY, PickupDate) = 'Sunday' THEN 7 END,  \n",
    "\t\t SUM(DATEDIFF(SECOND, PickupDate, DropOffDate))/60\n",
    "DESC\n",
    "END;\n",
    "```"
   ]
  },
  {
   "cell_type": "markdown",
   "metadata": {},
   "source": [
    "# NYC Borough statistics results"
   ]
  },
  {
   "cell_type": "markdown",
   "metadata": {},
   "source": [
    "Let's see the results of the `dbo.cuspBoroughRideStats` stored procedure you just created."
   ]
  },
  {
   "cell_type": "markdown",
   "metadata": {},
   "source": [
    "```\n",
    "-- Create SPResults\n",
    "DECLARE @SPResults TABLE(\n",
    "  \t-- Create Weekday\n",
    "\tWeekday nvarchar(30),\n",
    "    -- Create Borough\n",
    "\tBorough nvarchar(30),\n",
    "    -- Create AvgFarePerKM\n",
    "\tAvgFarePerKM nvarchar(30),\n",
    "    -- Create RideCount\n",
    "\tRideCount\tnvarchar(30),\n",
    "    -- Create TotalRideMin\n",
    "\tTotalRideMin\tnvarchar(30))\n",
    "\n",
    "-- Insert the results into @SPResults\n",
    "INSERT INTO @SPResults\n",
    "-- Execute the SP\n",
    "EXEC dbo.cuspBoroughRideStats\n",
    "\n",
    "-- Select all the records from @SPresults \n",
    "SELECT *\n",
    "FROM @SPresults ;\n",
    "```"
   ]
  },
  {
   "cell_type": "markdown",
   "metadata": {},
   "source": [
    "# Pickup locations by shift"
   ]
  },
  {
   "cell_type": "markdown",
   "metadata": {},
   "source": [
    "It's time to solve the second objective of the business case. What are the `AvgFarePerKM`, `RideCount` and `TotalRideMin` for each pickup location and shift within a NYC Borough?"
   ]
  },
  {
   "cell_type": "markdown",
   "metadata": {},
   "source": [
    "```\n",
    "-- Create the stored procedure\n",
    "CREATE PROCEDURE dbo.cuspPickupZoneShiftStats\n",
    "\t-- Specify @Borough parameter\n",
    "\t@Borough nvarchar(30)\n",
    "AS\n",
    "BEGIN\n",
    "SELECT\n",
    "\tDATENAME(WEEKDAY, PickupDate) as 'Weekday',\n",
    "    -- Calculate the shift number\n",
    "\tdbo.GetShiftNumber(DATEPART(HOUR, PickupDate)) as 'Shift',\n",
    "\tZone.Zone as 'Zone',\n",
    "\tFORMAT(AVG(dbo.ConvertDollar(TotalAmount, .77)/dbo.ConvertMiletoKM(TripDistance)), 'c', 'de-de') AS 'AvgFarePerKM',\n",
    "\tFORMAT(COUNT (ID),'n', 'de-de') as 'RideCount',\n",
    "\tFORMAT(SUM(DATEDIFF(SECOND, PickupDate, DropOffDate))/60, 'n', 'de-de') as 'TotalRideMin'\n",
    "FROM YellowTripData\n",
    "INNER JOIN TaxiZoneLookup as Zone on PULocationID = Zone.LocationID \n",
    "WHERE\n",
    "\tdbo.ConvertMiletoKM(TripDistance) > 0 AND\n",
    "\tZone.Borough = @Borough\n",
    "GROUP BY\n",
    "\tDATENAME(WEEKDAY, PickupDate),\n",
    "    -- Group by shift\n",
    "\tdbo.GetShiftNumber(DATEPART(HOUR, PickupDate)),  \n",
    "\tZone.Zone\n",
    "ORDER BY CASE WHEN DATENAME(WEEKDAY, PickupDate) = 'Monday' THEN 1\n",
    "              WHEN DATENAME(WEEKDAY, PickupDate) = 'Tuesday' THEN 2\n",
    "              WHEN DATENAME(WEEKDAY, PickupDate) = 'Wednesday' THEN 3\n",
    "              WHEN DATENAME(WEEKDAY, PickupDate) = 'Thursday' THEN 4\n",
    "              WHEN DATENAME(WEEKDAY, PickupDate) = 'Friday' THEN 5\n",
    "              WHEN DATENAME(WEEKDAY, PickupDate) = 'Saturday' THEN 6\n",
    "              WHEN DATENAME(WEEKDAY, PickupDate) = 'Sunday' THEN 7 END,\n",
    "         -- Order by shift\n",
    "         dbo.GetShiftNumber(DATEPART(HOUR, PickupDate)),\n",
    "         SUM(DATEDIFF(SECOND, PickupDate, DropOffDate))/60 DESC\n",
    "END;\n",
    "```"
   ]
  },
  {
   "cell_type": "markdown",
   "metadata": {},
   "source": [
    "# Pickup locations by shift results"
   ]
  },
  {
   "cell_type": "markdown",
   "metadata": {},
   "source": [
    "Let's see the `AvgFarePerKM`,`RideCount` and `TotalRideMin` for the pickup locations within Manhattan during the different driver shifts of each weekday."
   ]
  },
  {
   "cell_type": "markdown",
   "metadata": {},
   "source": [
    "```\n",
    "-- Create @Borough\n",
    "DECLARE @Borough AS NVARCHAR(30) = 'Manhattan'\n",
    "-- Execute the SP\n",
    "EXEC dbo.cuspPickupZoneShiftStats\n",
    "    -- Pass @Borough\n",
    "\t@Borough = @Borough;\n",
    "```"
   ]
  }
 ],
 "metadata": {
  "kernelspec": {
   "display_name": "Python 3.8.11 ('env_py')",
   "language": "python",
   "name": "python3"
  },
  "language_info": {
   "name": "python",
   "version": "3.8.11"
  },
  "orig_nbformat": 4,
  "vscode": {
   "interpreter": {
    "hash": "1e949e87132dd83f1a7623eb88007e3532b03b66b77111be347aa4a383049722"
   }
  }
 },
 "nbformat": 4,
 "nbformat_minor": 2
}

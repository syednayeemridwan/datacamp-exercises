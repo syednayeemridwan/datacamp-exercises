{
 "cells": [
  {
   "cell_type": "markdown",
   "metadata": {},
   "source": [
    "# Right or wrong?"
   ]
  },
  {
   "cell_type": "markdown",
   "metadata": {},
   "source": [
    "So far in this chapter, you have learned about using recursive CTEs to solve recursive tasks. In this exercise, you will strengthen your knowledge and understanding, by looking at some statements about recursive queries.\n",
    "\n",
    "Which of the statements below is true?"
   ]
  },
  {
   "cell_type": "markdown",
   "metadata": {},
   "source": [
    "- A recursive CTE needs an anchor query and a recursive query."
   ]
  },
  {
   "cell_type": "markdown",
   "metadata": {},
   "source": [
    "# Create the alphabet recursively"
   ]
  },
  {
   "cell_type": "markdown",
   "metadata": {},
   "source": [
    "The task of this exercise is to create the alphabet by using a recursive CTE.\n",
    "\n",
    "To solve this task, you need to know that you can represent the letters from `A` to `Z` by a series of numbers from `65` to `90`. Accordingly, `A` is represented by `65` and `C` by `67`. The function `char(number)` can be used to convert a number its corresponding letter."
   ]
  },
  {
   "cell_type": "markdown",
   "metadata": {},
   "source": [
    "```\n",
    "WITH alphabet AS (\n",
    "\tSELECT \n",
    "  \t\t-- Initialize letter to A\n",
    "\t    65 AS number_of_letter\n",
    "\t-- Statement to combine the anchor and the recursive query\n",
    "  \tUNION ALL\n",
    "\tSELECT \n",
    "  \t\t-- Add 1 each iteration\n",
    "\t    number_of_letter + 1\n",
    "  \t-- Select from the defined CTE alphabet\n",
    "\tFROM alphabet\n",
    "  \t-- Limit the alphabet to A-Z\n",
    "  \tWHERE number_of_letter < 90)\n",
    "    \n",
    "SELECT char(number_of_letter)\n",
    "FROM alphabet;\n",
    "```"
   ]
  },
  {
   "cell_type": "markdown",
   "metadata": {},
   "source": [
    "# Create a time series of a year"
   ]
  },
  {
   "cell_type": "markdown",
   "metadata": {},
   "source": [
    "The goal of this exercise is to create a series of days for a year. For this task you have to use the following two time/date functions:\n",
    "\n",
    "- `GETDATE()`\n",
    "- `DATEADD(datepart, number, date)`\n",
    "\n",
    "With `GETDATE()` you get the current time (e.g. 2019-03-14 20:09:14) and with `DATEADD(month, 1, GETDATE())` you get current date plus one month (e.g. 2019-04-14 20:09:14).\n",
    "\n",
    "To get a series of days for a year you need 365 recursion steps. Therefore, increase the number of iterations by `OPTION (MAXRECURSION n)` where n represents the number of iterations."
   ]
  },
  {
   "cell_type": "markdown",
   "metadata": {},
   "source": [
    "```\n",
    "WITH time_series AS (\n",
    "\tSELECT \n",
    "  \t\t-- Get the current time\n",
    "\t    GETDATE() AS time\n",
    "  \tUNION ALL\n",
    "\tSELECT \n",
    "\t    DATEADD(day, 1, time)\n",
    "  \t-- Call the CTE recursively\n",
    "\tFROM time_series\n",
    "  \t-- Limit the time series to 1 year minus 1 (365 days -1)\n",
    "  \tWHERE time < GETDATE() + 364)\n",
    "    \n",
    "SELECT time\n",
    "FROM time_series\n",
    "-- Increase the number of iterations (365 days)\n",
    "OPTION(MAXRECURSION 365)\n",
    "```"
   ]
  },
  {
   "cell_type": "markdown",
   "metadata": {},
   "source": [
    "# Who is your manager?"
   ]
  },
  {
   "cell_type": "markdown",
   "metadata": {},
   "source": [
    "In this exercise, we are going to use the dataset of an IT-organization which is provided in the table `employee`. The table has the fields `ID` (ID number of the employee), `Name` (the employee's name), and `Supervisor` (ID number of the supervisor).\n",
    "\n",
    "The IT-organization consists of different roles and levels.\n",
    "<center><img src=\"images/02.06.png\"  style=\"width: 400px, height: 300px;\"/></center>\n",
    "\n",
    "The organization has one IT director (`ID=1`, Heinz Griesser, `Supervisor=0`) with many subordinate employees. Under the IT director you can find the IT architecture manager (`ID=10`, Andreas Sternig, `Supervisor=1`) with three subordinate employees. For Andreas Sternig Supervisor=1 which is the `ID` of the IT-Director.\n",
    "\n",
    "First, we want to answer the question: Who are the supervisors for each employee?\n",
    "\n",
    "We are going to solve this problem by recursively querying the dataset."
   ]
  },
  {
   "cell_type": "markdown",
   "metadata": {},
   "source": [
    "```\n",
    "-- Create the CTE employee_hierarchy\n",
    "WITH employee_hierarchy AS (\n",
    "\tSELECT\n",
    "\t\tID, \n",
    "  \t\tNAME,\n",
    "  \t\tSupervisor\n",
    "\tFROM employee\n",
    "  \t-- Start with the IT Director\n",
    "\tWHERE ID=1\n",
    "\tUNION ALL\n",
    "\tSELECT \n",
    "  \t\temp.ID,\n",
    "  \t\temp.NAME,\n",
    "  \t\temp.Supervisor\n",
    "\tFROM employee emp\n",
    "  \t\tJOIN employee_hierarchy\n",
    "  \t\tON emp.Supervisor = employee_hierarchy.ID)\n",
    "    \n",
    "SELECT \n",
    "    cte.Name as EmployeeName,\n",
    "    emp.Name as ManagerName\n",
    "FROM employee_hierarchy as cte\n",
    "\tJOIN employee as emp\n",
    "\t-- Perform the JOIN on Supervisor and ID\n",
    "\tON cte.Supervisor = emp.ID;\n",
    "```"
   ]
  },
  {
   "cell_type": "markdown",
   "metadata": {},
   "source": [
    "# Get the hierarchy position"
   ]
  },
  {
   "cell_type": "markdown",
   "metadata": {},
   "source": [
    "An important problem when dealing with recursion is tracking the level of recursion. In the IT organization, this means keeping track of the position in the hierarchy of each employee.\n",
    "\n",
    "A section of the entire hierarchy\n",
    "<center><img src=\"images/02.06.png\"  style=\"width: 400px, height: 300px;\"/></center>\n",
    "\n",
    "\n",
    "For this, you will use a `LEVEL` field which keeps track of the current recursion step. You have to introduce the field in the anchor member, and increment this value on each recursion step in the recursion member.\n",
    "\n",
    "Keep in mind, the first hierarchy level is 0, the second level is 1 and so on."
   ]
  },
  {
   "cell_type": "markdown",
   "metadata": {},
   "source": [
    "```\n",
    "WITH employee_hierarchy AS (\n",
    "\tSELECT\n",
    "\t\tID, \n",
    "  \t\tNAME,\n",
    "  \t\tSupervisor,\n",
    "  \t\t-- Initialize the field LEVEL\n",
    "  \t\t1 as LEVEL\n",
    "\tFROM employee\n",
    "  \t-- Start with the supervisor ID of the IT Director\n",
    "\tWHERE ID = 1\n",
    "\tUNION ALL\n",
    "\tSELECT \n",
    "  \t\temp.ID,\n",
    "  \t\temp.NAME,\n",
    "  \t\temp.Supervisor,\n",
    "  \t\t-- Increment LEVEL by 1 each step\n",
    "  \t\tLEVEL + 1\n",
    "\tFROM employee emp\n",
    "\t\tJOIN employee_hierarchy\n",
    "  \t\t-- JOIN on supervisor and ID\n",
    "  \t\tON emp.Supervisor = employee_hierarchy.ID)\n",
    "\n",
    "SELECT \n",
    "\tcte.Name, cte.Level,\n",
    "    emp.Name as ManagerID\n",
    "FROM employee_hierarchy as cte\n",
    "\tJOIN employee as emp\n",
    "\tON cte.Supervisor = emp.ID \n",
    "ORDER BY Level;\n",
    "```"
   ]
  },
  {
   "cell_type": "markdown",
   "metadata": {},
   "source": [
    "# Which supervisor do I have?"
   ]
  },
  {
   "cell_type": "markdown",
   "metadata": {},
   "source": [
    "In this exercise, we want to get the path from the boss at the top of the hierarchy, to the employees at the bottom of the hierarchy. For this task, we have to combine the information obtained in each step into one field. You can do this by combining the `ID`s using `CAST()` from number to string. An example is `CAST(ID AS VARCHAR(MAX))` to convert ID of type number to type char.\n",
    "\n",
    "The task is now to find the path for employees Chris Feierabend with `ID=18` and Jasmin Mentil with `ID=16` all the way to the top of the organization. The output should look like this: `boss_first_level -> boss_second_level` .... The IDs of the employees and not their names should be selected."
   ]
  },
  {
   "cell_type": "markdown",
   "metadata": {},
   "source": [
    "```\n",
    "WITH employee_Hierarchy AS (\n",
    "\tSELECT\n",
    "\t\tID, \n",
    "  \t\tNAME,\n",
    "  \t\tSupervisor,\n",
    "  \t\t-- Initialize the Path with CAST\n",
    "  \t\tCAST('0' AS VARCHAR(MAX)) as Path\n",
    "\tFROM employee\n",
    "\tWHERE Supervisor = 0\n",
    "\t-- UNION the anchor query \n",
    "  \tUNION ALL\n",
    "    -- Select the recursive query fields\n",
    "\tSELECT \n",
    "  \t\temp.ID,\n",
    "  \t\temp.NAME,\n",
    "  \t\temp.Supervisor,\n",
    "  \t\t-- Add the supervisor in each step. CAST the supervisor.\n",
    "        Path + '->' + CAST(emp.Supervisor AS VARCHAR(MAX))\n",
    "\tFROM employee emp\n",
    "\t\tINNER JOIN employee_Hierarchy\n",
    "  \t\tON emp.Supervisor = employee_Hierarchy.ID\n",
    ")\n",
    "\n",
    "SELECT Path\n",
    "FROM employee_Hierarchy\n",
    "-- Select the employees Chris Feierabend and Jasmin Mentil\n",
    "WHERE ID = 16 OR ID = 18;\n",
    "```"
   ]
  },
  {
   "cell_type": "markdown",
   "metadata": {},
   "source": [
    "# Get the number of generations?"
   ]
  },
  {
   "cell_type": "markdown",
   "metadata": {},
   "source": [
    "In this exercise, we are going to look at a random family tree. The dataset `family` consists of three columns, the `ID`, the `name`, and the `ParentID`. Your task is to calculate the number of generations. You will do this by counting all generations starting from the person with `ParentID = 101`.\n",
    "\n",
    "For this task, you have to calculate the `LEVEL` of the recursion which represents the current level in the generation hierarchy. After that, you need to count the number of `LEVEL`s by using `COUNT()`."
   ]
  },
  {
   "cell_type": "markdown",
   "metadata": {},
   "source": [
    "```\n",
    "WITH children AS (\n",
    "    SELECT \n",
    "  \t\tID, \n",
    "  \t\tName,\n",
    "  \t\tParentID,\n",
    "  \t\t0 as LEVEL\n",
    "  \tFROM family \n",
    "  \t-- Set the targeted parent as recursion start\n",
    "  \tWHERE ParentID = 101\n",
    "    UNION ALL\n",
    "    SELECT \n",
    "  \t\tchild.ID,\n",
    "  \t\tchild.NAME,\n",
    "  \t\tchild.ParentID,\n",
    "  \t\t-- Increment LEVEL by 1 each step\n",
    "  \t\tLEVEL + 1\n",
    "  \tFROM family child\n",
    "  \t\tINNER JOIN children \n",
    "\t\t-- Join the anchor query with the CTE   \n",
    "  \t\tON child.ParentID = children.ID)\n",
    "    \n",
    "SELECT\n",
    "\t-- Count the number of generations\n",
    "\tCOUNT(*) as Generations\n",
    "FROM children\n",
    "OPTION(MAXRECURSION 300);\n",
    "```"
   ]
  },
  {
   "cell_type": "markdown",
   "metadata": {},
   "source": [
    "# Get all possible parents in one field?"
   ]
  },
  {
   "cell_type": "markdown",
   "metadata": {},
   "source": [
    "Your final task in this chapter is to find all possible parents starting from one ID and combine the IDs of all found generations into one field.\n",
    "\n",
    "To do this, you will search recursively for all possible members and add this information to one field. You have to use the `CAST()` operator to combine `ID`s into a string. You will search for all family members starting from `ID = 290`. In total there are 300 entries in the table `family`."
   ]
  },
  {
   "cell_type": "markdown",
   "metadata": {},
   "source": [
    "```\n",
    "WITH tree AS (\n",
    "\tSELECT \n",
    "  \t\tID,\n",
    "  \t\tName, \n",
    "  \t\tParentID, \n",
    "  \t\tCAST('0' AS VARCHAR(MAX)) as Parent\n",
    "\tFROM family\n",
    "  \t-- Initialize the ParentID to 290 \n",
    "  \tWHERE ParentID = 290    \n",
    "    UNION ALL\n",
    "    SELECT \n",
    "  \t\tNext.ID, \n",
    "  \t\tNext.Name, \n",
    "  \t\tParent.ID,\n",
    "    \tCAST(CASE WHEN Parent.ID = ''\n",
    "        \t      -- Set the Parent field to the current ParentID\n",
    "                  THEN(CAST(Next.ParentID AS VARCHAR(MAX)))\n",
    "        \t -- Add the ParentID to the current Parent in each iteration\n",
    "             ELSE(Parent.Parent + ' -> ' + CAST(Next.ParentID AS VARCHAR(MAX)))\n",
    "    \t\t END AS VARCHAR(MAX))\n",
    "        FROM family AS Next\n",
    "        \tINNER JOIN tree AS Parent \n",
    "  \t\t\tON Next.ParentID = Parent.ID)\n",
    "        \n",
    "-- Select the Name, Parent from tree\n",
    "SELECT Name, Parent\n",
    "FROM tree;\n",
    "```"
   ]
  }
 ],
 "metadata": {
  "kernelspec": {
   "display_name": "Python 3.8.11 ('env_py')",
   "language": "python",
   "name": "python3"
  },
  "language_info": {
   "name": "python",
   "version": "3.8.11"
  },
  "orig_nbformat": 4,
  "vscode": {
   "interpreter": {
    "hash": "1e949e87132dd83f1a7623eb88007e3532b03b66b77111be347aa4a383049722"
   }
  }
 },
 "nbformat": 4,
 "nbformat_minor": 2
}

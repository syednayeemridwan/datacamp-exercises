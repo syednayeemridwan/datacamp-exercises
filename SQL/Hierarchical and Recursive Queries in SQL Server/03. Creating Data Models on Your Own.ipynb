{
 "cells": [
  {
   "cell_type": "markdown",
   "metadata": {},
   "source": [
    "# Creating a table"
   ]
  },
  {
   "cell_type": "markdown",
   "metadata": {},
   "source": [
    "In this exercise, you will create a new table `Person`. For this task, you have to\n",
    "\n",
    "define the table by using `CREATE TABLE`\n",
    "define the necessary fields of the desired table\n",
    "An example for creating a table `Employee` is shown below:\n",
    "```\n",
    "CREATE TABLE Employee (\n",
    "    ID INT,\n",
    "    Name CHAR(32)\n",
    ");\n",
    "```\n",
    "Your task is to create a new table, `Person`, with the fields `IndividualID`,`Firstname`,`Lastname`, `Address`, and `City`."
   ]
  },
  {
   "cell_type": "markdown",
   "metadata": {},
   "source": [
    "```\n",
    "-- Define the table Person\n",
    "CREATE TABLE Person (\n",
    "  \t-- Define the Individual ID\n",
    "  \tIndividualID INT NOT NULL,\n",
    "  \t-- Set Firstname and Lastname not to be NULL of type VARCHAR(255)\n",
    "\tFirstname VARCHAR(255) NOT NULL,\n",
    "\tLastname VARCHAR(255) NOT NULL,\n",
    "\tAddress VARCHAR(255) NOT NULL,\n",
    "  \tCity CHAR(32) NOT NULL,\n",
    "   \t-- Define Birthday as DATE\n",
    "  \tBirthday DATE\n",
    ");\n",
    "\n",
    "SELECT * \n",
    "FROM Person;\n",
    "```"
   ]
  },
  {
   "cell_type": "markdown",
   "metadata": {},
   "source": [
    "# Inserting and updating a table"
   ]
  },
  {
   "cell_type": "markdown",
   "metadata": {},
   "source": [
    "A very important task when working with tables is inserting and updating the values in a database. The syntax for both operations is shown below.\n",
    "\n",
    "Insert `value1` and `value2` into the `Employee` table:\n",
    "```\n",
    "INSERT INTO Employee \n",
    "VALUES (value1, value2);\n",
    "```\n",
    "\n",
    "Update `field1` from table `Employee` with `value1` for the `ID=1`:\n",
    "```\n",
    "UPDATE Employee \n",
    "SET field1 = value1 \n",
    "WHERE ID = 1;\n",
    "```\n",
    "Your task is to insert two new values into the Person table and to update the entries of the table."
   ]
  },
  {
   "cell_type": "markdown",
   "metadata": {},
   "source": [
    "```\n",
    "INSERT INTO Person \n",
    "VALUES (1,'Andrew','Anderson','Union Ave 10','New York','1986-12-30');\n",
    "INSERT INTO Person \n",
    "VALUES (2,'Peter','Jackson','342 Flushing st','New York','1986-12-30');\n",
    "\n",
    "-- Set the person's first name to Jones for ID = 1\n",
    "UPDATE Person\n",
    "SET Firstname = 'Jones'\n",
    "WHERE ID = 1;\n",
    "\n",
    "-- Update the birthday of the person with the last name Jackson\n",
    "UPDATE Person\n",
    "SET Birthday = '1980-01-05'\n",
    "WHERE Lastname = 'Jackson';\n",
    "\n",
    "SELECT * \n",
    "FROM Person;\n",
    "```"
   ]
  },
  {
   "cell_type": "markdown",
   "metadata": {},
   "source": [
    "# Deleting data and dropping table"
   ]
  },
  {
   "cell_type": "markdown",
   "metadata": {},
   "source": [
    "Besides being able to `CREATE`, `INSERT`, or `UPDATE`, it is also important to know how to `DELETE` and `DROP` a table. With `DELETE`, it is possible to delete a certain line of the table and with `DROP TABLE`, it is possible to erase the entire table and its definition.\n",
    "\n",
    "The syntax for both operators is as follows.\n",
    "\n",
    "Delete the line where `lineID = 1` from the `Employee` table:\n",
    "```\n",
    "DELETE FROM Employee \n",
    "WHERE lineID = 1;\n",
    "```\n",
    "Drop the entire `Employee` table:\n",
    "```\n",
    "DROP TABLE Employee\n",
    "```\n",
    "Your task is to delete some lines of the previously defined `Person` table and finally, to drop the entire table."
   ]
  },
  {
   "cell_type": "markdown",
   "metadata": {},
   "source": [
    "```\n",
    "INSERT INTO Person \n",
    "VALUES ( 1, 'Andrew', 'Anderson', 'Address 1', 'City 1', '1986-12-30');\n",
    "INSERT INTO Person \n",
    "VALUES ( 2, 'Peter', 'Jackson', 'Address 2', 'City 2', '1986-12-30');\n",
    "INSERT INTO Person \n",
    "VALUES ( 3, 'Michaela', 'James', 'Address 3', 'City 3', '1976-03-07');\n",
    "\n",
    "DELETE FROM Person \n",
    "WHERE ID = 1;\n",
    "DELETE FROM Person \n",
    "WHERE Lastname = 'Jackson';\n",
    "\n",
    "-- Drop the table Person\n",
    "DROP TABLE Person\n",
    "\n",
    "SELECT * \n",
    "FROM Person;\n",
    "```"
   ]
  },
  {
   "cell_type": "markdown",
   "metadata": {},
   "source": [
    "# Changing a table structure"
   ]
  },
  {
   "cell_type": "markdown",
   "metadata": {},
   "source": [
    "Another basic SQL operation is to add or delete a column from a table. This can be done using the `ALTER TABLE` syntax followed by the desired operation. The syntax for these operations is defined as follows.\n",
    "\n",
    "To add a column named `new` to the `Employee` table:\n",
    "```\n",
    "ALTER TABLE Employee \n",
    "ADD new;\n",
    "```\n",
    "To delete a column named `old` from `Employee`:\n",
    "```\n",
    "ALTER TABLE Employee \n",
    "DROP COLUMN old\n",
    "```\n",
    "You have the task to add a new column `Email` and drop the column `Birthday` from the `Person` table."
   ]
  },
  {
   "cell_type": "markdown",
   "metadata": {},
   "source": [
    "```\n",
    "-- Add the column EMail to Person\n",
    "ALTER TABLE Person\n",
    "ADD Email VARCHAR(255);\n",
    "\n",
    "-- Delete the column Birthday of Person\n",
    "ALTER TABLE Person\n",
    "DROP COLUMN Birthday;\n",
    "\n",
    "-- Check the table definition\n",
    "SELECT * \n",
    "FROM Person;\n",
    "```"
   ]
  },
  {
   "cell_type": "markdown",
   "metadata": {},
   "source": [
    "# Defining primary and foreign keys"
   ]
  },
  {
   "cell_type": "markdown",
   "metadata": {},
   "source": [
    "A very important concept of relational databases is the use of primary and foreign keys. In this exercise, you will define a two new tables. A table `Person`, with a `PRIMARY KEY` and another table, `History`, with a `PRIMARY KEY` and a `FOREIGN KEY` referencing the `Person` table."
   ]
  },
  {
   "cell_type": "markdown",
   "metadata": {},
   "source": [
    "```\n",
    "CREATE TABLE Person (\n",
    "  \t-- Define the primary key for Person of type INT\n",
    "  \tPersonID INT NOT NULL PRIMARY KEY,\n",
    "\tFirstname VARCHAR(255) NOT NULL,\n",
    "\tLastname VARCHAR(255) NOT NULL,\n",
    ");\n",
    "\n",
    "CREATE TABLE History (   \n",
    "    -- Define the primary key for History\n",
    "  \tOrderID INT PRIMARY KEY NOT NULL,\n",
    "    Item VARCHAR(255) NOT NULL,\n",
    "    Price INT NOT NULL,\n",
    "  \t-- Define the foreign key for History\n",
    "    PersonID INT FOREIGN KEY REFERENCES Person(PersonID)    \n",
    ");\n",
    "\n",
    "SELECT * \n",
    "FROM History;\n",
    "```"
   ]
  },
  {
   "cell_type": "markdown",
   "metadata": {},
   "source": [
    "# Inserting data to person and order history"
   ]
  },
  {
   "cell_type": "markdown",
   "metadata": {},
   "source": [
    "Next, you will insert data into the two newly generated tables, `Person` and `History`. Enter the following orders:\n",
    "\n",
    "- Andrew Anderson bought an iPhone XS for 1000\n",
    "- Sam Smith bought a MacBook Pro for 1800\n",
    "\n",
    "When inserting the customers and their orders into the tables make sure that:\n",
    "\n",
    "- the primary key is unique\n",
    "- you use the correct foreign key"
   ]
  },
  {
   "cell_type": "markdown",
   "metadata": {},
   "source": [
    "```\n",
    "-- Insert new data into the table Person\n",
    "INSERT INTO Person \n",
    "VALUES (1,'Andrew','Anderson','Union Ave 10','New York','1986-12-30');\n",
    "INSERT INTO Person \n",
    "VALUES (2,'Sam','Smith','Flushing Ave 342','New York','1986-12-30');\n",
    "\n",
    "-- Insert new data into the table History\n",
    "INSERT INTO History \n",
    "VALUES (1,'iPhone XS',1000,1);\n",
    "INSERT INTO History \n",
    "VALUES (2,'MacBook Pro',1800,2);\n",
    "\n",
    "SELECT * \n",
    "FROM History;\n",
    "```"
   ]
  },
  {
   "cell_type": "markdown",
   "metadata": {},
   "source": [
    "# Getting the number of orders & total costs"
   ]
  },
  {
   "cell_type": "markdown",
   "metadata": {},
   "source": [
    "In this exercise, you will `JOIN` two tables to get the total number of orders for each person and the sum of prices of all orders. You have to join the `Person` and `History` tables on the primary and foreign keys to get all required information."
   ]
  },
  {
   "cell_type": "markdown",
   "metadata": {},
   "source": [
    "```\n",
    "INSERT INTO Person  \n",
    "VALUES (1, 'Andrew', 'Anderson','Union Ave 10','New York','1986-12-30');\n",
    "INSERT INTO Person \n",
    "VALUES (2, 'Sam', 'Smith','Flushing Ave 342','New York','1986-12-30');\n",
    "\n",
    "INSERT INTO History VALUES ( 1, 'IPhone XS', 1000, 1);\n",
    "INSERT INTO History VALUES ( 2, 'MacBook Pro', 1800, 1);\n",
    "INSERT INTO History VALUES ( 5, 'IPhone XR', 600, 2);\n",
    "INSERT INTO History VALUES ( 6, 'IWatch 4', 400, 1);\n",
    "\n",
    "SELECT \n",
    "    Person.ID,\n",
    "    -- Count the number of orders\n",
    "    COUNT(*) as Orders,\n",
    "    -- Add the total price of all orders\n",
    "    SUM(price) as Costs\n",
    "FROM Person\n",
    "\t-- Join the tables Person and History on their IDs\n",
    "\tINNER JOIN History \n",
    "\tON Person.ID = History.PersonID\n",
    "-- Aggregate the information on the ID\n",
    "GROUP BY Person.ID;\n",
    "```"
   ]
  },
  {
   "cell_type": "markdown",
   "metadata": {},
   "source": [
    "# Creating a hierarchical data model"
   ]
  },
  {
   "cell_type": "markdown",
   "metadata": {},
   "source": [
    "In this exercise, you will construct a simple hierarchical data model by creating the hierarchy of IT assets. An asset can be either `Hardware` or `Software`. A `Software` asset can be split up into `Application` or `Tools` and so on. The hierarchy is shown in the following picture.\n",
    "\n",
    "<center><img src=\"images/03.11.png\"  style=\"width: 400px, height: 300px;\"/></center>\n",
    "\n",
    "\n",
    "To model this hierarchy, a suitable data structure is needed. This structure can be accomplished by using a data model that consists of the child record `ID` and the parent record `ParentID`. The `ID`s are consecutive values from 1 to 10.\n",
    "\n",
    "Your task is to create the corresponding `Equipment` table and to insert the assets `Software`, `Monitor`, and `Microsoft Office` into the table. Keep in mind that you have to set the correct IDs for each asset to achieve the desired hierarchy of assets."
   ]
  },
  {
   "cell_type": "markdown",
   "metadata": {},
   "source": [
    "```\n",
    "CREATE TABLE Equipment (   \n",
    "    -- Define ID and ParentID \n",
    "\tID INT NOT NULL,\n",
    "    Equipment VARCHAR(255) NOT NULL,\n",
    "    ParentID INT \n",
    ");\n",
    "\n",
    "INSERT INTO Equipment VALUES (1,'Asset',NULL);\n",
    "INSERT INTO Equipment VALUES (2,'Hardware',1);\n",
    "-- Insert the type Software\n",
    "INSERT INTO Equipment VALUES (3,'Software',1);\n",
    "INSERT INTO Equipment VALUES (4,'Application',3);\n",
    "INSERT INTO Equipment VALUES (5,'Tool',3);\n",
    "INSERT INTO Equipment VALUES (6,'PC',2);\n",
    "-- Insert the type Monitor \n",
    "INSERT INTO Equipment VALUES (7,'Monitor',2);\n",
    "INSERT INTO Equipment VALUES (8,'Phone',2);\n",
    "INSERT INTO Equipment VALUES (9,'IPhone',8);\n",
    "-- Insert the type Microsoft Office \n",
    "INSERT INTO Equipment VALUES (10,'Microsoft Office',4);\n",
    "\n",
    "SELECT * \n",
    "FROM Equipment;\n",
    "```"
   ]
  },
  {
   "cell_type": "markdown",
   "metadata": {},
   "source": [
    "# Networked and hierarchical models"
   ]
  },
  {
   "cell_type": "markdown",
   "metadata": {},
   "source": [
    "Hierarchical and networked data models are very similar to each other.\n",
    "\n",
    "Which statement is not true about networked and hierarchical data models?"
   ]
  },
  {
   "cell_type": "markdown",
   "metadata": {},
   "source": [
    "- In networked data models each child record can have only one parent record."
   ]
  },
  {
   "cell_type": "markdown",
   "metadata": {},
   "source": [
    "# Creating a networked data model"
   ]
  },
  {
   "cell_type": "markdown",
   "metadata": {},
   "source": [
    "In this last exercise, you will create a networked data model. A use case for this is finding all possible paths a bus can take from one location to another. Each route has a departure and destination location. A departure and destination location can appear multiple times. In the following image you can see the possible bus locations and routes. For example, you can go from San Francisco to New York, or from New York to Washington.\n",
    "\n",
    "<center><img src=\"images/03.13.png\"  style=\"width: 400px, height: 300px;\"/></center>\n",
    "\n",
    "\n",
    "Your task is to create the `Trip` table, insert some routes into this table, and finally, select all possible departure locations from the table."
   ]
  },
  {
   "cell_type": "markdown",
   "metadata": {},
   "source": [
    "```\n",
    "CREATE TABLE Trip (   \n",
    "    -- Define the Departure\n",
    "  \tDeparture VARCHAR(255) NOT NULL,\n",
    "    BusName VARCHAR(255) NOT NULL,\n",
    "    -- Define the Destination\n",
    "    Destination VARCHAR(255) NOT NULL,\n",
    ");\n",
    "\n",
    "-- Insert a route from San Francisco to New York\n",
    "INSERT INTO Trip VALUES ( 'San Francisco' , 'Bus 1' , 'New York');\n",
    "-- Insert a route from Florida to San Francisco\n",
    "INSERT INTO Trip VALUES ( 'Florida', 'Bus 2' , 'San Francisco');\n",
    "INSERT INTO Trip VALUES ( 'San Francisco', 'Bus 2','Texas');\n",
    "INSERT INTO Trip VALUES ( 'San Francisco', 'Bus 3','Florida');\n",
    "INSERT INTO Trip VALUES ( 'San Francisco', 'Bus 4','Washington');\n",
    "INSERT INTO Trip VALUES ( 'New York', 'Bus 5','Texas');\n",
    "INSERT INTO Trip VALUES ( 'New York', 'Bus 6','Washington');\n",
    "INSERT INTO Trip VALUES ( 'Florida', 'Bus 7','New York');\n",
    "INSERT INTO Trip VALUES ( 'Florida', 'Bus 8','Toronto');\n",
    "\n",
    "-- Get all possible departure locations\n",
    "SELECT DISTINCT Departure \n",
    "FROM Trip;\n",
    "```"
   ]
  }
 ],
 "metadata": {
  "kernelspec": {
   "display_name": "Python 3.8.11 ('env_py')",
   "language": "python",
   "name": "python3"
  },
  "language_info": {
   "name": "python",
   "version": "3.8.11"
  },
  "orig_nbformat": 4,
  "vscode": {
   "interpreter": {
    "hash": "1e949e87132dd83f1a7623eb88007e3532b03b66b77111be347aa4a383049722"
   }
  }
 },
 "nbformat": 4,
 "nbformat_minor": 2
}

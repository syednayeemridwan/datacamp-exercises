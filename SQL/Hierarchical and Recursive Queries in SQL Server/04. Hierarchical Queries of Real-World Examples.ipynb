{
 "cells": [
  {
   "cell_type": "markdown",
   "metadata": {},
   "source": [
    "# Get the anchor & recursive member"
   ]
  },
  {
   "cell_type": "markdown",
   "metadata": {},
   "source": [
    "The flight plan and the corresponding planning of flights from the departure airport to the destination airport is a common task for airline websites and traveling websites such as expedia.com. When planning such trips, it is common to have layovers. This helps make certain flight routes possible and reduces flight costs.\n",
    "\n",
    "To strengthen your understanding of finding the anchor fields in a recursive CTE, you have to choose the best combination of fields from a typical flight table.\n",
    "\n",
    "The first element should be the anchor element of the anchor member and the second element should be the connection field of the recursive member (e.g.: for an organization hierarchy the anchor element is the supervisor ID and the connection field is the employee ID).\n",
    "\n",
    "Please find the correct combination of fields to create a flying route."
   ]
  },
  {
   "cell_type": "markdown",
   "metadata": {},
   "source": [
    "- Departure airport and the destination airport"
   ]
  },
  {
   "cell_type": "markdown",
   "metadata": {},
   "source": [
    "# Get all possible airports"
   ]
  },
  {
   "cell_type": "markdown",
   "metadata": {},
   "source": [
    "The task of the next two exercises is to search for all possible flight routes. This means that, first, you have to find out all possible departure and destination airports from the table `flightPlan`.\n",
    "\n",
    "In this exercise, you will create a CTE table named `possible_Airports` using the `UNION` syntax which will consist of all possible airports. One query of the `UNION` element selects the `Departure` airports and the second query selects the `Arrival` airports."
   ]
  },
  {
   "cell_type": "markdown",
   "metadata": {},
   "source": [
    "```\n",
    "-- Definition of the CTE table\n",
    "WITH possible_Airports (Airports) AS(\n",
    "  \t-- Select the departure airports\n",
    "  \tSELECT Departure\n",
    "  \tFROM flightPlan\n",
    "  \t-- Combine the two queries\n",
    "  \tUNION \n",
    "  \t-- Select the destination airports\n",
    "  \tSELECT Arrival\n",
    "  \tFROM flightPlan)\n",
    "\n",
    "-- Get the airports from the CTE table\n",
    "SELECT Airports\n",
    "FROM possible_Airports;\n",
    "```"
   ]
  },
  {
   "cell_type": "markdown",
   "metadata": {},
   "source": [
    "# All flight routes from Vienna"
   ]
  },
  {
   "cell_type": "markdown",
   "metadata": {},
   "source": [
    "Previously, you looked at how the flight data is structured. You have already identified the necessary fields from the `flightPlan` table. These will be used in this exercise for the anchor and the recursive query.\n",
    "\n",
    "The task of this exercise is to combine this knowledge to create a recursive query that:\n",
    "\n",
    "- gets all possible flights from `Vienna`\n",
    "- has a `travel cost` under `500` Euro\n",
    "- has fewer than `5` stops\n",
    "\n",
    "You should output only the destinations and the corresponding costs!"
   ]
  },
  {
   "cell_type": "markdown",
   "metadata": {},
   "source": [
    "```\n",
    "WITH flight_route (Departure, Arrival, stops) AS(\n",
    "  \tSELECT \n",
    "  \t  \tf.Departure, f.Arrival,\n",
    "\t\t-- Initialize the number of stops\n",
    "  \t  \t0 AS stops\n",
    "  \tFROM flightPlan f\n",
    "  \tWHERE Departure = 'Vienna'\n",
    "  \tUNION ALL\n",
    "  \tSELECT \n",
    "  \t  \tp.Departure, f.Arrival,\n",
    "  \t\t-- Increment the number of stops\n",
    "  \t  \tp.stops + 1\n",
    "  \tFROM flightPlan f, flight_route p\n",
    "  \t-- Limit the number of stops\n",
    "  \tWHERE p.Arrival = f.Departure AND \n",
    "  \t      p.stops < 5)\n",
    "\n",
    "SELECT \n",
    "\tDISTINCT Arrival, \n",
    "    Departure, \n",
    "    stops\n",
    "FROM flight_route;\n",
    "```"
   ]
  },
  {
   "cell_type": "markdown",
   "metadata": {},
   "source": [
    "```\n",
    "WITH flight_route (Departure, Arrival, stops, route) AS(\n",
    "\tSELECT \n",
    "\t  \tf.Departure, f.Arrival, \n",
    "\t  \t0 AS stops,\n",
    "\t\t-- Define the route of a flight\n",
    "\t  \tCAST(f.Departure + ' -> ' + f.Arrival AS NVARCHAR(MAX)) AS route\n",
    "\tFROM flightPlan f\n",
    "\tWHERE Departure = 'Vienna'\n",
    "\tUNION ALL\n",
    "\tSELECT \n",
    "\t  \tp.Departure, f.Arrival, \n",
    "\t  \tp.stops + 1,\n",
    "\t\t-- Add the layover airport to the route for each recursion step\n",
    "\t  \tp.route + ' -> ' + f.Arrival\n",
    "\tFROM flightPlan f, flight_route p\n",
    "\tWHERE p.Arrival = f.Departure AND \n",
    "\t      p.stops < 5)\n",
    "\n",
    "SELECT \n",
    "\tDISTINCT Arrival, \n",
    "    Departure, \n",
    "    route, \n",
    "    stops\n",
    "FROM flight_route;\n",
    "```"
   ]
  },
  {
   "cell_type": "markdown",
   "metadata": {},
   "source": [
    "```\n",
    "-- Define totalCost\n",
    "WITH flight_route (Departure, Arrival, stops, totalCost, route) AS(\n",
    "\tSELECT \n",
    "\t  \tf.Departure, f.Arrival, \n",
    "\t  \t0 AS stops,\n",
    "\t  \t-- Define the totalCost with the flight cost of the first flight\n",
    "\t  \tCost AS totalCost,\n",
    "\t  \tCAST(Departure + ' -> ' + Arrival AS NVARCHAR(MAX)) AS route\n",
    "\tFROM flightPlan f\n",
    "\tWHERE Departure = 'Vienna'\n",
    "\tUNION ALL\n",
    "\tSELECT \n",
    "\t  \tp.Departure, f.Arrival, \n",
    "\t  \tp.stops + 1,\n",
    "\t  \t-- Add the cost for each layover to the total costs\n",
    "\t  \tp.totalCost + f.Cost,\n",
    "\t  \tp.route + ' -> ' + f.Arrival\n",
    "\tFROM flightPlan f, flight_route p\n",
    "\tWHERE p.Arrival = f.Departure AND \n",
    "\t      p.stops < 5)\n",
    "\n",
    "SELECT \n",
    "\tDISTINCT Arrival, \n",
    "    totalCost\n",
    "FROM flight_route\n",
    "-- Limit the total costs to 500\n",
    "WHERE totalCost < 500;\n",
    "```"
   ]
  },
  {
   "cell_type": "markdown",
   "metadata": {},
   "source": [
    "# Create the parts list"
   ]
  },
  {
   "cell_type": "markdown",
   "metadata": {},
   "source": [
    "The first step in creating a bill of material is to define a hierarchical data model. To do this, you have to create a table `BillOfMaterial` with the following fields:\n",
    "\n",
    "<center><img src=\"images/04.05.png\"  style=\"width: 400px, height: 300px;\"/></center>\n",
    "\n",
    "\n",
    "The `BillOfMaterial` table describes the following hierarchy:\n",
    "\n",
    "<center><img src=\"images/04.06.png\"  style=\"width: 400px, height: 300px;\"/></center>\n",
    "\n",
    "\n",
    "Your task is to define the field `PartID` as primary key, to define the field `Cost`, and to insert the following to records into the table:\n",
    "\n",
    "- Component: SUV, Title: BMW X1, Vendor: BMW, ProductKey: F48, Cost: 50000, Quantity: 1\n",
    "- Component: Wheels, Title: M-Performance 19/255, Vendor: BMW, ProductKey: MKQ134098URZ, Cost: 400, Quantity: 4"
   ]
  },
  {
   "cell_type": "markdown",
   "metadata": {},
   "source": [
    "```\n",
    "CREATE TABLE Bill_Of_Material (\n",
    "\t-- Define PartID as primary key of type INT\n",
    "  \tPartID INT NOT NULL PRIMARY KEY,\n",
    "\tSubPartID INT,\n",
    "\tComponent VARCHAR(255) NOT NULL,\n",
    "\tTitle  VARCHAR(255) NOT NULL,\n",
    "\tVendor VARCHAR(255) NOT NULL,\n",
    "  \tProductKey CHAR(32) NOT NULL,\n",
    "  \t-- Define Cost of type INT and NOT NULL\n",
    "  \tCost INT NOT NULL,\n",
    "\tQuantity INT NOT NULL);\n",
    "\n",
    "-- Insert the root element SUV as described\n",
    "INSERT INTO Bill_Of_Material\n",
    "VALUES (1,NULL,'SUV','BMW X1','BMW','F48',50000,1);\n",
    "INSERT INTO Bill_Of_Material\n",
    "VALUES (2,1,'Engine','V6BiTurbro','BMW','EV3891ASF',3000,1);\n",
    "INSERT INTO Bill_Of_Material\n",
    "VALUES (3,1,'Body','AL_Race_Body','BMW','BD39281PUO',5000,1);\n",
    "INSERT INTO Bill_Of_Material\n",
    "VALUES (4,1,'Interior Decoration','All_Leather_Brown','BMW','ZEU198292',2500,1);\n",
    "-- Insert the entry Wheels as described\n",
    "INSERT INTO Bill_Of_Material\n",
    "VALUES (5,1,'Wheels','M-Performance 19/255','BMW','MKQ134098URZ',400,4);\n",
    "\n",
    "SELECT * \n",
    "FROM Bill_Of_Material;\n",
    "```"
   ]
  },
  {
   "cell_type": "markdown",
   "metadata": {},
   "source": [
    "# Create a car's bill of material"
   ]
  },
  {
   "cell_type": "markdown",
   "metadata": {},
   "source": [
    "In this exercise, you will answer the following question: What are the levels of the different components that build up a car?\n",
    "\n",
    "For example, an SUV (1st level), is made of an engine (2nd level), and a body (2nd level), and the body is made of a door (3rd level) and a hood (3rd level).\n",
    "\n",
    "Your task is to create a query to get the hierarchy level of the table `partList`. You have to create the CTE `construction_Plan` and should keep track of the position of a component in the hierarchy. Keep track of all components starting at level 1 going up to level 2."
   ]
  },
  {
   "cell_type": "markdown",
   "metadata": {},
   "source": [
    "```\n",
    "-- Define CTE with the fields: PartID, SubPartID, Title, Component, Level\n",
    "WITH construction_Plan (PartID, SubPartID,Title, Component, Level) AS (\n",
    "\tSELECT \n",
    "  \t\tPartID,\n",
    "  \t\tSubPartID,\n",
    "  \t\tTitle,\n",
    "  \t\tComponent,\n",
    "  \t\t-- Initialize the field Level\n",
    "  \t\t1 AS Level\n",
    "\tFROM partList\n",
    "\tWHERE PartID = '1'\n",
    "\tUNION ALL\n",
    "\tSELECT \n",
    "\t\tCHILD.PartID, \n",
    "  \t\tCHILD.SubPartID,\n",
    "  \t\tCHILD.Title,\n",
    "  \t\tCHILD.Component,\n",
    "  \t\t-- Increment the field Level each recursion step\n",
    "  \t\tPARENT.Level + 1\n",
    "\tFROM construction_Plan PARENT, partList CHILD\n",
    "  \tWHERE CHILD.SubPartID = PARENT.PartID\n",
    "  \t-- Limit the number of iterations to Level < 2\n",
    "\t  AND PARENT.Level < 2)\n",
    "\n",
    "SELECT DISTINCT PartID, SubPartID, Title, Component, Level\n",
    "FROM construction_Plan\n",
    "ORDER BY PartID, SubPartID, Level;\n",
    "```"
   ]
  },
  {
   "cell_type": "markdown",
   "metadata": {},
   "source": [
    "# Build up a BMW?"
   ]
  },
  {
   "cell_type": "markdown",
   "metadata": {},
   "source": [
    "In this exercise, you will answer the following question: What is the total required quantity `Total` of each component to build the car until level 3 in the hierarchy?\n",
    "\n",
    "Your task is to create the CTE `construction_Plan` to track the level of components and to calculate the total quantity of components in the field `Total`. The table is set up by the fields `PartID`, `SubPartID`, `Level`, `Component`, and `Total`. You have to consider all components starting from level 1 up to level 3."
   ]
  },
  {
   "cell_type": "markdown",
   "metadata": {},
   "source": [
    "```\n",
    "-- Define CTE with the fields: PartID, SubPartID, Level, Component, Total\n",
    "WITH construction_Plan (PartID, SubPartID, Level, Component, Total) AS (\n",
    "\tSELECT \n",
    "  \t\tPartID,SubPartID,\n",
    "  \t\t0,\n",
    "  \t\tComponent,\n",
    "  \t\t-- Initialize Total\n",
    "  \t\tQuantity AS Total\n",
    "\tFROM partList\n",
    "\tWHERE PartID = '1'\n",
    "\tUNION ALL\n",
    "\tSELECT \n",
    "\t\tCHILD.PartID, CHILD.SubPartID,\n",
    "  \t\tPARENT.Level + 1,\n",
    "  \t\tCHILD.Component,\n",
    "  \t\t-- Increase Total by the quantity of the child element\n",
    "  \t\tPARENT.Total + CHILD.Quantity\n",
    "\tFROM construction_Plan PARENT, partList CHILD\n",
    "  \tWHERE CHILD.SubPartID = PARENT.PartID\n",
    "\t  AND PARENT.Level < 3)\n",
    "      \n",
    "SELECT \n",
    "    PartID, SubPartID,Component,\n",
    "    -- Calculate the sum of total on the aggregated information\n",
    "    SUM(Total)\n",
    "FROM construction_Plan\n",
    "GROUP BY PartID, SubPartID, Component\n",
    "ORDER BY PartID, SubPartID;\n",
    "```"
   ]
  },
  {
   "cell_type": "markdown",
   "metadata": {},
   "source": [
    "# Create a power grid"
   ]
  },
  {
   "cell_type": "markdown",
   "metadata": {},
   "source": [
    "In this exercise, you will create the `structure` table. This table describes how power lines are connected to each other. For this task, three ID values are needed:\n",
    "\n",
    "- `EquipmentID`: the unique key\n",
    "- `EquipmentID_To`: the first end of the power line with ID of the connected line\n",
    "- `EquipmentID_From`: the second end of the power line with ID of the connected line\n",
    "\n",
    "The other fields to describe a power line, such as `VoltageLevel` and `ConditionAssessment`, are already defined.\n",
    "\n",
    "An example is shown in the following picture:\n",
    "\n",
    "<center><img src=\"images/04.10.png\"  style=\"width: 400px, height: 300px;\"/></center>\n",
    "\n",
    "\n",
    "For the line with `EquipmentID = 3` the field `EquipmentID_To` is `4` and the field `EquipmentID_From` is `2`."
   ]
  },
  {
   "cell_type": "markdown",
   "metadata": {},
   "source": [
    "```\n",
    "-- Create the table\n",
    "CREATE TABLE structure (\n",
    "    -- Define the field EquipmentID \n",
    "  \tEquipmentID INT NOT NULL PRIMARY KEY,\n",
    "    EquipmentID_To INT ,\n",
    "    EquipmentID_From INT, \n",
    "    VoltageLevel TEXT NOT NULL,\n",
    "    Description TEXT NOT NULL,\n",
    "    ConstructionYear INT NOT NULL,\n",
    "    InspectionYear INT NOT NULL,\n",
    "    ConditionAssessment TEXT NOT NULL\n",
    ");\n",
    "\n",
    "-- Insert the record for line 1 as described\n",
    "INSERT INTO structure\n",
    "VALUES ( 1, 2, NULL, 'HV', 'Cable', 2000, 2016, 'good');\n",
    "INSERT INTO Structure\n",
    "VALUES ( 2, 3 , 1, 'HV', 'Overhead Line', 1968, 2016, 'bad');\n",
    "INSERT INTO Structure\n",
    "VALUES ( 3, 14, 2, 'HV', 'TRANSFORMER', 1972, 2001, 'good');\n",
    "-- Insert the record for line 14 as described\n",
    "INSERT INTO Structure\n",
    "VALUES ( 14, 15, 3 , 'MV', 'Cable', 1976, 2002, 'bad');\n",
    "\n",
    "SELECT * \n",
    "FROM structure\n",
    "```"
   ]
  },
  {
   "cell_type": "markdown",
   "metadata": {},
   "source": [
    "# Get power lines to maintain"
   ]
  },
  {
   "cell_type": "markdown",
   "metadata": {},
   "source": [
    "In the provided `GridStructure` table, the fields that describe the connection between lines (`EquipmentID`,`EquipmentID_To`,`EquipmentID_From`) and the characteristics of the lines (e.g. `Description`, `ConditionAssessment`, `VoltageLevel`) are already defined.\n",
    "\n",
    "Now, your task is to find the connected lines of the line with `EquipmentID = 3` that have `bad` or `repair` as `ConditionAssessment` and have a `VoltageLevel` equal to `HV`. By doing this, you can answer the following question:\n",
    "\n",
    "> Which lines have to be replaced or repaired according to their description and their current condition?\n",
    "\n",
    "You have to create a CTE to find the connected lines and finally, to filter on the desired characteristics."
   ]
  },
  {
   "cell_type": "markdown",
   "metadata": {},
   "source": [
    "```\n",
    "-- Define the table CTE\n",
    "WITH maintenance_List (Line, Destination, Source, Description, ConditionAssessment, VoltageLevel) AS (\n",
    "\tSELECT \n",
    "  \t\tEquipmentID,\n",
    "  \t\tEquipmentID_To,\n",
    "  \t\tEquipmentID_From,\n",
    "  \t\tDescription,\n",
    "  \t\tConditionAssessment,\n",
    "  \t\tVoltageLevel\n",
    "  \tFROM GridStructure\n",
    " \t-- Start the evaluation for line 3\n",
    "\tWHERE EquipmentID = 3\n",
    "\tUNION ALL\n",
    "\tSELECT \n",
    "\t\tChild.EquipmentID, \n",
    "  \t\tChild.EquipmentID_To,\n",
    "  \t\tChild.EquipmentID_FROM,\n",
    "  \t\tChild.Description,\n",
    "  \t\tChild.ConditionAssessment,\n",
    "  \t\tChild.VoltageLevel\n",
    "\tFROM GridStructure Child\n",
    "  \t\t-- Join GridStructure with CTE on the corresponding endpoints\n",
    "  \t\tJOIN maintenance_List \n",
    "    \tON maintenance_List.Line = Child.EquipmentID_FROM)\n",
    "SELECT Line, Description, ConditionAssessment \n",
    "FROM maintenance_List\n",
    "-- Filter the lines based on ConditionAssessment and VoltageLevel\n",
    "WHERE \n",
    "    (ConditionAssessment LIKE '%exchange%' OR ConditionAssessment LIKE '%repair%') AND \n",
    "     VoltageLevel LIKE '%HV%'\n",
    "```"
   ]
  }
 ],
 "metadata": {
  "kernelspec": {
   "display_name": "Python 3.8.11 ('env_py')",
   "language": "python",
   "name": "python3"
  },
  "language_info": {
   "name": "python",
   "version": "3.8.11"
  },
  "orig_nbformat": 4,
  "vscode": {
   "interpreter": {
    "hash": "1e949e87132dd83f1a7623eb88007e3532b03b66b77111be347aa4a383049722"
   }
  }
 },
 "nbformat": 4,
 "nbformat_minor": 2
}

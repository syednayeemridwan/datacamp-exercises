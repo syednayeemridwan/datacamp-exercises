{
 "cells": [
  {
   "cell_type": "markdown",
   "metadata": {},
   "source": [
    "# A CTE is ... Find the wrong fact!"
   ]
  },
  {
   "cell_type": "markdown",
   "metadata": {},
   "source": [
    "In this exercise, we want to refresh your knowledge of CTEs (Common Table Expressions). The statements below are about basic characteristics of CTEs and why it is beneficial to use them.\n",
    "\n",
    "Please find the statement that is NOT true about CTEs."
   ]
  },
  {
   "cell_type": "markdown",
   "metadata": {},
   "source": [
    "- A CTE never returns a result set."
   ]
  },
  {
   "cell_type": "markdown",
   "metadata": {},
   "source": [
    "# A CTE for IT-positions"
   ]
  },
  {
   "cell_type": "markdown",
   "metadata": {},
   "source": [
    "To practice writing CTEs, let's start with a simple example. You will use the employee table which is built up of fields such as `ID`, `Name`, and `Position`. The task for you is to create a CTE called ITjobs (keep in mind the syntax `WITH CTE_Name As`) that finds employees starting with A whose job titles start with IT. Finally, a new query will retrieve all `IT` positions and names from the `ITJobs` CTE.\n",
    "\n",
    "To search for a pattern, you have to use the `LIKE` statement and `%` representing the search direction. For example, using a `WHERE` statement with `LIKE 'N%'` will find patterns starting with `N`."
   ]
  },
  {
   "cell_type": "markdown",
   "metadata": {},
   "source": [
    "```\n",
    "-- Define the CTE ITjobs by the WITH operator\n",
    "WITH ITjobs (ID, Name, Position) AS (\n",
    "    SELECT \n",
    "  \t\tID, Name, Position\n",
    "    FROM employee\n",
    "    -- Find IT jobs and names starting with A\n",
    "  \tWHERE Position LIKE 'IT%' AND Name LIKE 'A%')\n",
    "    \n",
    "SELECT * \n",
    "FROM ITjobs;\n",
    "```"
   ]
  },
  {
   "cell_type": "markdown",
   "metadata": {},
   "source": [
    "# A CTE for high-paid IT-positions"
   ]
  },
  {
   "cell_type": "markdown",
   "metadata": {},
   "source": [
    "In the previous exercise, you created a CTE to find IT positions. Now, you will combine these results with another CTE on the `salary` table. You will use multiple CTE definitions in a single query. Notice that a comma is used to separate the CTE query definitions. The `salary` table contains some more information about the `ID` and `salary` of employees. Your task is to create a second CTE named `ITsalary` and `JOIN` both CTE tables on the employees `ID`. The `JOIN` should select only records having matching values in both tables. Finally, the task is to find only employees earning more than `3000`."
   ]
  },
  {
   "cell_type": "markdown",
   "metadata": {},
   "source": [
    "```\n",
    "WITH ITjobs (ID, Name, Position) AS (\n",
    "    SELECT \n",
    "  \t\tID, \n",
    "  \t\tName,\n",
    "  \t\tPosition\n",
    "    FROM employee\n",
    "    WHERE Position like 'IT%'),\n",
    "    \n",
    "-- Define the second CTE table ITsalary with the fields ID and Salary\n",
    "ITsalary (ID, Salary) AS (\n",
    "    SELECT\n",
    "        ID,\n",
    "        Salary\n",
    "    FROM Salary\n",
    "  \t-- Find salaries above 3000\n",
    "    WHERE Salary > 3000)\n",
    "    \n",
    "SELECT \n",
    "\tITjobs.NAME,\n",
    "\tITjobs.POSITION,\n",
    "    ITsalary.Salary\n",
    "FROM ITjobs\n",
    "    -- Combine the two CTE tables the correct join variant\n",
    "    INNER JOIN ITsalary\n",
    "    -- Execute the join on the ID of the tables\n",
    "    ON ITjobs.ID = ITsalary.ID;\n",
    "```"
   ]
  },
  {
   "cell_type": "markdown",
   "metadata": {},
   "source": [
    "# Facts about recursion."
   ]
  },
  {
   "cell_type": "markdown",
   "metadata": {},
   "source": [
    "Recursion is the process in which a function is called within itself. The function is called several times until it meets the termination condition.\n",
    "\n",
    "In this exercise, your job is to find the wrong fact about recursion."
   ]
  },
  {
   "cell_type": "markdown",
   "metadata": {},
   "source": [
    "- Recursively defined functions cannot be solved iteratively"
   ]
  },
  {
   "cell_type": "markdown",
   "metadata": {},
   "source": [
    "# Calculate the factorial of 5"
   ]
  },
  {
   "cell_type": "markdown",
   "metadata": {},
   "source": [
    "A very important mathematical operation is the calculation of the factorial of a positive integer `n`. In general, the factorial operation is used in many areas of mathematics, notably in combinatorics, algebra, and mathematical analysis.\n",
    "\n",
    "The factorial of `n` is defined by the product of all positive integers less than or equal to n. For example, the factorial of 3 (denoted by `n!`) is defined as:\n",
    "\n",
    "`3! = 1 x 2 x 3 = 6`\n",
    "\n",
    "To calculate the factorial of n, many different solutions exist. In this exercise, you will determine the factorial of 5 iteratively with SQL.\n",
    "\n",
    "Remember the syntax of a `WHILE` loop in SQL:\n",
    "```\n",
    "WHILE condition\n",
    "BEGIN\n",
    "   {...statements...}\n",
    "END;\n",
    "```\n",
    "More information on `WHILE` can be found in the documentation."
   ]
  },
  {
   "cell_type": "markdown",
   "metadata": {},
   "source": [
    "```\n",
    "-- Define the target factorial number\n",
    "DECLARE @target float = 5\n",
    "-- Initialization of the factorial result\n",
    "DECLARE @factorial float = 1\n",
    "\n",
    "WHILE @target > 0 \n",
    "BEGIN\n",
    "\t-- Calculate the factorial number\n",
    "\tSET @factorial = @factorial * @target\n",
    "\t-- Reduce the termination condition  \n",
    "\tSET @target = @target - 1\n",
    "END\n",
    "\n",
    "SELECT @factorial;\n",
    "```"
   ]
  },
  {
   "cell_type": "markdown",
   "metadata": {},
   "source": [
    "# How to query the factorial of 6 recursively"
   ]
  },
  {
   "cell_type": "markdown",
   "metadata": {},
   "source": [
    "In the last exercise, you queried the factorial `5!` with an iterative solution. Now, you will calculate `6!` recursively. We reduce the problem into smaller problems of the same type to define the factorial n! recursively. For this the following definition can be used:\n",
    "\n",
    "- `0! = 1` for `step = 0`\n",
    "- `(n+1)! = n! * (step+1)` for `step > 0`\n",
    "\n",
    "With this simple definition you can calculate the factorial of every number. In this exercise, `n!` is represented by `factorial`.\n",
    "\n",
    "You are going to leverage the definition above with the help of a recursive CTE."
   ]
  },
  {
   "cell_type": "markdown",
   "metadata": {},
   "source": [
    "```\n",
    "WITH calculate_factorial AS (\n",
    "\tSELECT \n",
    "\t\t-- Initialize step and the factorial number      \n",
    "      \t1 AS step,\n",
    "        1 AS factorial\n",
    "\tUNION ALL\n",
    "\tSELECT \n",
    "\t \tstep + 1,\n",
    "\t\t-- Calculate the recursive part by n!*(n+1)\n",
    "\t    factorial * (step + 1)\n",
    "\tFROM calculate_factorial        \n",
    "\t-- Stop the recursion reaching the wanted factorial number\n",
    "\tWHERE step < 6)\n",
    "    \n",
    "SELECT factorial \n",
    "FROM calculate_factorial;\n",
    "```"
   ]
  },
  {
   "cell_type": "markdown",
   "metadata": {},
   "source": [
    "# Counting numbers recursively"
   ]
  },
  {
   "cell_type": "markdown",
   "metadata": {},
   "source": [
    "In this first exercise after the video, we will start with a very simple math function. It is the simple series from 1 to `target` and in our case we set the `target` value to `50`.\n",
    "\n",
    "This means the task is to count from `1` to `50` using a recursive query. You have to define:\n",
    "\n",
    "- the CTE with the definition of the anchor and recursive query and\n",
    "- set the appropriate termination condition for the recursion"
   ]
  },
  {
   "cell_type": "markdown",
   "metadata": {},
   "source": [
    "```\n",
    "-- Define the CTE\n",
    "WITH counting_numbers AS ( \n",
    "\tSELECT \n",
    "  \t\t-- Initialize number\n",
    "  \t\t1 AS number\n",
    "  \tUNION ALL \n",
    "  \tSELECT \n",
    "  \t\t-- Increment number by 1\n",
    "  \t\tnumber + 1 \n",
    "  \tFROM counting_numbers\n",
    "\t-- Set the termination condition\n",
    "  \tWHERE number < 50)\n",
    "\n",
    "SELECT number\n",
    "FROM counting_numbers;\n",
    "```"
   ]
  },
  {
   "cell_type": "markdown",
   "metadata": {},
   "source": [
    "# Calculate the sum of potencies"
   ]
  },
  {
   "cell_type": "markdown",
   "metadata": {},
   "source": [
    "In this exercise, you will calculate the sum of potencies recursively. This mathematical series is defined as:\n",
    "\n",
    "- `result=1` for `step = 1`\n",
    "- `result + step^step` for `step > 1`\n",
    "\n",
    "The numbers in this series are getting large very quickly and the series does not converge. The task of this exercise is to calculate the sum of potencies for step = 9."
   ]
  },
  {
   "cell_type": "markdown",
   "metadata": {},
   "source": [
    "```\n",
    "-- Define the CTE calculate_potencies with the fields step and result\n",
    "WITH calculate_potencies (step, result) AS (\n",
    "    SELECT \n",
    "  \t\t-- Initialize step and result\n",
    "  \t\t1 AS step,\n",
    "  \t\t1 AS result\n",
    "    UNION ALL\n",
    "    SELECT \n",
    "  \t\tstep + 1,\n",
    "  \t\t-- Add the POWER calculation to the result \n",
    "  \t\tresult + POWER(step + 1, step + 1)\n",
    "    FROM calculate_potencies\n",
    "    WHERE step < 9)\n",
    "    \n",
    "SELECT \n",
    "\tstep, \n",
    "    result\n",
    "FROM calculate_potencies;\n",
    "```"
   ]
  }
 ],
 "metadata": {
  "kernelspec": {
   "display_name": "Python 3.8.11 ('env_py')",
   "language": "python",
   "name": "python3"
  },
  "language_info": {
   "name": "python",
   "version": "3.8.11"
  },
  "orig_nbformat": 4,
  "vscode": {
   "interpreter": {
    "hash": "1e949e87132dd83f1a7623eb88007e3532b03b66b77111be347aa4a383049722"
   }
  }
 },
 "nbformat": 4,
 "nbformat_minor": 2
}

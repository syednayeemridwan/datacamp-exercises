{
 "cells": [
  {
   "cell_type": "markdown",
   "metadata": {},
   "source": [
    "# Writing do statements"
   ]
  },
  {
   "cell_type": "markdown",
   "metadata": {},
   "source": [
    "Commonly when cleaning data, we'll get data that will have bad dates in it. This would cause an exception and halt our SQL statement; however, by using a `DO` function with an exception handler, our statement will run to completion. Let's see how we can handle that type of exception with the `patients` table and the `created_on` column. This will also give us a chance to use a DO style function."
   ]
  },
  {
   "cell_type": "markdown",
   "metadata": {},
   "source": [
    "```\n",
    "-- Create a DO $$ function\n",
    "DO $$\n",
    "-- BEGIN a transaction block\n",
    "BEGIN \n",
    "    INSERT INTO patients (a1c, glucose, fasting, created_on) \n",
    "    VALUES (5.8, 89, TRUE, '37-03-2020 01:15:54');\n",
    "-- Add an EXCEPTION\n",
    "EXCEPTION\n",
    "-- For all all other type of errors\n",
    "WHEN others THEN \n",
    "    INSERT INTO errors (msg, detail) \n",
    "    VALUES ('failed to insert', 'bad date');\n",
    "END;\n",
    "-- Make sure to specify the language\n",
    "$$ language 'plpgsql';\n",
    "\n",
    "-- Select all the errors recorded\n",
    "SELECT * FROM errors;\n",
    "```"
   ]
  },
  {
   "cell_type": "markdown",
   "metadata": {},
   "source": [
    "# Using exception handling wisely"
   ]
  },
  {
   "cell_type": "markdown",
   "metadata": {},
   "source": [
    "Should you always use exception handling in your SQL code?\n",
    "- No, I should use it when it's the best way to provide exception context or when only SQL is being used."
   ]
  },
  {
   "cell_type": "markdown",
   "metadata": {},
   "source": [
    "# Handling exceptions"
   ]
  },
  {
   "cell_type": "markdown",
   "metadata": {},
   "source": [
    "In the slides, we discussed providing proper context for resolution. One area that is often overlooked when recording messages is the deeper reasoning for them. Oftentimes errors are generic like \"Bad value\" or \"Invalid date.\" However, we can use details and context to enrich those messages.\n",
    "\n",
    "Here we are going to work with A1C which is the percentage of red blood cells that have sugar attached to the hemoglobin. Typically fasting ranges are below 5.7% for non-affected patients, 5.7% to 6.4% for prediabetes, and over 6.5% is typically an indicator of unmanaged diabetes."
   ]
  },
  {
   "cell_type": "markdown",
   "metadata": {},
   "source": [
    "```\n",
    "-- Add a DO function\n",
    "DO $$ \n",
    "-- BEGIN a transaction block\n",
    "BEGIN \n",
    "    INSERT INTO patients (a1c, glucose, fasting) \n",
    "    values (20, 89, TRUE);\n",
    "\n",
    "-- Add an EXCEPTION                   \n",
    "EXCEPTION \n",
    "-- Catch all exception types\n",
    "WHEN others THEN\n",
    "    INSERT INTO errors (msg, detail, context) VALUES \n",
    "  (\n",
    "    'failed to insert', \n",
    "    'This a1c value is higher than clinically accepted norms.', \n",
    "    'a1c is typically less than 14'\n",
    "  );\n",
    "END;\n",
    "-- Make sure to specify the language\n",
    "$$ language 'plpgsql';\n",
    "\n",
    "-- Select all the errors recorded\n",
    "SELECT * FROM errors;\n",
    "```"
   ]
  },
  {
   "cell_type": "markdown",
   "metadata": {},
   "source": [
    "# Multiple exception blocks"
   ]
  },
  {
   "cell_type": "markdown",
   "metadata": {},
   "source": [
    "Since `ROLLBACK TO` and `SAVEPOINT` can not be used in functions with exception handlers, we have a way to emulate the same behavior though using nested blocks. These nested blocks are used to group and order the statements in the order that they depend on each other. Here you are going to insert a block of records with an exception handler which emulates a `SAVEPOINT`, then update a record with an exception handler. That update statement will error, and the exception handler will automatically rollback just that block."
   ]
  },
  {
   "cell_type": "markdown",
   "metadata": {},
   "source": [
    "```\n",
    "-- Make a DO function\n",
    "DO $$\n",
    "-- Open a transaction block\n",
    "BEGIN\n",
    "    -- Open a nested block\n",
    "    BEGIN\n",
    "    \tINSERT INTO patients (a1c, glucose, fasting) \n",
    "        VALUES (5.6, 93, TRUE), (6.3, 111, TRUE), (4.7, 65, TRUE);\n",
    "    -- Catch all exception types\n",
    "    EXCEPTION WHEN others THEN\n",
    "    \tINSERT INTO errors (msg) VALUES ('failed to insert');\n",
    "    -- End nested block\n",
    "    END;\n",
    "    -- Begin the second nested block\n",
    "\tBEGIN\n",
    "    \tUPDATE patients SET fasting = 'true' WHERE id=1;\n",
    "    -- Catch all exception types\n",
    "    EXCEPTION WHEN others THEN\n",
    "        INSERT INTO errors (msg) VALUES ('Inserted string into boolean.');\n",
    "    -- End the second nested block\n",
    "    END;\n",
    "-- END the outer block\n",
    "END;\n",
    "$$ language 'plpgsql';\n",
    "SELECT * FROM errors;\n",
    "```"
   ]
  },
  {
   "cell_type": "markdown",
   "metadata": {},
   "source": [
    "# Understanding rollbacks and savepoints"
   ]
  },
  {
   "cell_type": "markdown",
   "metadata": {},
   "source": [
    "Which of the following statements do not allow you to use `ROLLBACK` and `SAVEPOINT`?\n",
    "-  functions with an exception handler"
   ]
  },
  {
   "cell_type": "markdown",
   "metadata": {},
   "source": [
    "# Capturing specific exceptions"
   ]
  },
  {
   "cell_type": "markdown",
   "metadata": {},
   "source": [
    "Let's build a DO function that captures when glucose is set to null, and logs a message stating explicitly that Glucose can not be null."
   ]
  },
  {
   "cell_type": "markdown",
   "metadata": {},
   "source": [
    "```\n",
    "-- Make a DO function\n",
    "DO $$\n",
    "-- Open a transaction block\n",
    "BEGIN\n",
    "    INSERT INTO patients (a1c, glucose, fasting) \n",
    "    VALUES (7.5, NULL, TRUE);\n",
    "-- Catch an Exception                                                               \n",
    "EXCEPTION\n",
    "\t-- Make it catch not_null_constraint exception types\n",
    "    WHEN not_null_violation THEN\n",
    "    \t-- Insert the proper msg and detail\n",
    "       INSERT INTO errors (msg, detail) \n",
    "       VALUES ('failed to insert', 'Glucose can not be null.');\n",
    "END$$;\n",
    "                                                                     \n",
    "-- Select all the errors recorded\n",
    "SELECT * FROM errors;\n",
    "```"
   ]
  },
  {
   "cell_type": "markdown",
   "metadata": {},
   "source": [
    "# Logging messages on specific exceptions"
   ]
  },
  {
   "cell_type": "markdown",
   "metadata": {},
   "source": [
    "One of the best uses of catching multiple specific exception is to distinctly handle and log unique error message that help you understand exactly why an exception occurred. Let's apply this in a scenario where both error conditions are possible. We'll discuss after the exercise why it capture the specific message it did."
   ]
  },
  {
   "cell_type": "markdown",
   "metadata": {},
   "source": [
    "```\n",
    "-- Make a DO function\n",
    "DO $$\n",
    "-- Open a transaction block\n",
    "BEGIN\n",
    "    INSERT INTO patients (a1c, glucose, fasting) values (20, null, TRUE);\n",
    "-- Catch an Exception                                                               \n",
    "EXCEPTION\n",
    "\t-- Make it catch check_violation exception types\n",
    "    WHEN check_violation THEN\n",
    "    \t-- Insert the proper msg and detail\n",
    "       INSERT INTO errors (msg, detail)\n",
    "       VALUES ('failed to insert', 'A1C is higher than clinically accepted norms.');\n",
    "    -- Make it catch not_null_violation exception types\n",
    "    WHEN not_null_violation THEN\n",
    "    \t-- Insert the proper msg and detail\n",
    "       INSERT INTO errors (msg, detail) \n",
    "       VALUES ('failed to insert', 'Glucose can not be null.');\n",
    "END$$;\n",
    "                                                                     \n",
    "-- Select all the errors recorded\n",
    "SELECT * FROM errors;\n",
    "```"
   ]
  },
  {
   "cell_type": "markdown",
   "metadata": {},
   "source": [
    "# When to use graceful degradation"
   ]
  },
  {
   "cell_type": "markdown",
   "metadata": {},
   "source": [
    "Let's focus on when to use and not use graceful degradation."
   ]
  },
  {
   "cell_type": "markdown",
   "metadata": {},
   "source": [
    "<center><img src=\"images/03.12.jpg\"  style=\"width: 400px, height: 300px;\"/></center>\n"
   ]
  },
  {
   "cell_type": "markdown",
   "metadata": {},
   "source": [
    "# Graceful degradation"
   ]
  },
  {
   "cell_type": "markdown",
   "metadata": {},
   "source": [
    "Now that you've seen how to handle and raise exceptions, how can you use that to gracefully fall back to save data points when they exceed database constraints or hit another error? Let's see how you can gracefully fall back to the maximum accepted value when we are out of range."
   ]
  },
  {
   "cell_type": "markdown",
   "metadata": {},
   "source": [
    "```\n",
    "-- Start a DO statement with $$ as the end marker\n",
    "DO $$\n",
    "-- Begin a code block\n",
    "BEGIN\n",
    "     -- Insert the data into patients\n",
    "     INSERT INTO patients (a1c, glucose, fasting) values (20, 800, False);\n",
    "-- Catch a check_violation exception\n",
    "EXCEPTION WHEN check_violation THEN\n",
    "    -- RAISE the violation notice\n",
    "    INSERT INTO errors (msg) VALUES ('This A1C is not valid, should be between 0-13');\n",
    "\n",
    "-- END the code block and declare the language\n",
    "END; \n",
    "$$ language 'plpgsql';\n",
    "\n",
    "SELECT * FROM errors;\n",
    "```"
   ]
  },
  {
   "cell_type": "markdown",
   "metadata": {},
   "source": [
    "```\n",
    "-- Start a DO statement with $$ as the end marker\n",
    "DO $$\n",
    "-- Begin a code block\n",
    "BEGIN\n",
    "     -- Insert the data into patients\n",
    "     INSERT INTO patients (a1c, glucose, fasting) values (20, 800, False);\n",
    "-- Catch a check_violation exception\n",
    "EXCEPTION WHEN check_violation THEN\n",
    "    -- RAISE the violation notice\n",
    "    INSERT INTO errors (msg) values ('This A1C is not valid, should be between 0-13');\n",
    "    -- INSERT the max A1C value\n",
    "    INSERT INTO patients (a1c, glucose, fasting) VALUES (13, 800, False);\n",
    "    -- Record an error that you overrode the prior data insert\n",
    "    INSERT INTO errors (msg) VALUES ('Set A1C to the maximum of 13');\n",
    "\n",
    "-- END the code block and declare the language\n",
    "END; \n",
    "$$ language 'plpgsql';\n",
    "\n",
    "SELECT * from errors;\n",
    "```"
   ]
  }
 ],
 "metadata": {
  "kernelspec": {
   "display_name": "Python 3.8.11 ('env_py')",
   "language": "python",
   "name": "python3"
  },
  "language_info": {
   "name": "python",
   "version": "3.8.11"
  },
  "orig_nbformat": 4,
  "vscode": {
   "interpreter": {
    "hash": "1e949e87132dd83f1a7623eb88007e3532b03b66b77111be347aa4a383049722"
   }
  }
 },
 "nbformat": 4,
 "nbformat_minor": 2
}

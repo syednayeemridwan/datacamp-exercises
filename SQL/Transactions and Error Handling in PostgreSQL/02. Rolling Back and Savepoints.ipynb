{
 "cells": [
  {
   "cell_type": "markdown",
   "metadata": {},
   "source": [
    "# Using rollbacks"
   ]
  },
  {
   "cell_type": "markdown",
   "metadata": {},
   "source": [
    "Recently the FFIEC changed the reporting requirement for bank's that provide consumer deposit accounts if they have more than $5,000,000 in brokered deposits. Let's use a transaction to make that update safely. The \"Provides Consumer Deposits\" flag is in the `RCONP752` column and the amount of brokered deposits is in the `RCON2365` column."
   ]
  },
  {
   "cell_type": "markdown",
   "metadata": {},
   "source": [
    "```\n",
    "-- Begin a new transaction\n",
    "BEGIN;\n",
    "\n",
    "-- Update RCONP752 to true if RCON2365 is over 5000\n",
    "UPDATE ffiec_reci\n",
    "SET RCONP752 = 'true'\n",
    "WHERE RCON2365 > 5000;\n",
    "\n",
    "-- Oops that was supposed to be 5000000 undo the statement\n",
    "ROLLBACK;\n",
    "```"
   ]
  },
  {
   "cell_type": "markdown",
   "metadata": {},
   "source": [
    "```\n",
    "-- Update RCOP752 to true if RCON2365 is over 5000000\n",
    "UPDATE ffiec_reci\n",
    "SET RCONP752 = 'true'\n",
    "WHERE RCON2365 > 5000000;\n",
    "\n",
    "-- Commit the transaction\n",
    "COMMIT;\n",
    "\n",
    "-- Select a count of records now true\n",
    "SELECT COUNT(RCONP752)\n",
    "FROM ffiec_reci\n",
    "WHERE RCONP752 = 'true';\n",
    "```"
   ]
  },
  {
   "cell_type": "markdown",
   "metadata": {},
   "source": [
    "# Multistatement Rollbacks"
   ]
  },
  {
   "cell_type": "markdown",
   "metadata": {},
   "source": [
    "Now let's use multiple statements in a transaction to set a flag in `FIELD48` based on if it holds US state government assets represented in `RCON2203`, foreign assets represented in `RCON2236`, or both. The values for `FIELD48` should be `'US-STATE-GOV'`, `'FOREIGN'`, or `'BOTH'` respectively. However, You've made a mistake in the statement for both."
   ]
  },
  {
   "cell_type": "markdown",
   "metadata": {},
   "source": [
    "```\n",
    "-- Begin a new transaction\n",
    "BEGIN;\n",
    "\n",
    "-- Update FIELD48 flag status if US State Government deposits are held\n",
    "UPDATE ffiec_reci\n",
    "SET FIELD48 = 'US-STATE-GOV'\n",
    "WHERE RCON2203 > 0;\n",
    "\n",
    "-- Update FIELD48 flag status if Foreign deposits are held\n",
    "UPDATE ffiec_reci\n",
    "SET FIELD48 = 'FOREIGN'\n",
    "WHERE RCON2236 > 0;\n",
    "\n",
    "-- Update FIELD48 flag status if US State Government and Foreign deposits are held\n",
    "UPDATE ffiec_reci\n",
    "SET FIELD48 = 'BOOTH'\n",
    "WHERE RCON2236 > 0\n",
    "AND RCON2203 > 0;\n",
    "\n",
    "-- Undo the mistake\n",
    "ROLLBACK; \n",
    "\n",
    "-- Select a count of records that are booth (it should be 0)\n",
    "SELECT COUNT(FIELD48)\n",
    "FROM ffiec_reci\n",
    "WHERE FIELD48 = 'BOOTH';\n",
    "```"
   ]
  },
  {
   "cell_type": "markdown",
   "metadata": {},
   "source": [
    "# Working with a single savepoint"
   ]
  },
  {
   "cell_type": "markdown",
   "metadata": {},
   "source": [
    "Banks that carry large value in Money Market Deposit Accounts (MMDA) are often resilient to downturns in the economy. In order to classify banks, we'll use a flag field such as `FIELD48` to store information useful for further processing. Let's flag banks with over 5000000."
   ]
  },
  {
   "cell_type": "markdown",
   "metadata": {},
   "source": [
    "```\n",
    "BEGIN;\n",
    "\n",
    "-- Set the flag to indicate that they hold MMDAs where more than $5 million\n",
    "UPDATE ffiec_reci \n",
    "SET FIELD48 = 'MMDA' \n",
    "WHERE RCON6810 > 5000000;\n",
    "\n",
    "-- Set a savepoint\n",
    "SAVEPOINT mmda_flag_set;\n",
    "\n",
    "-- Rollback the whole transaction\n",
    "ROLLBACK;\n",
    "\n",
    "COMMIT;\n",
    "```"
   ]
  },
  {
   "cell_type": "markdown",
   "metadata": {},
   "source": [
    "# Rolling back with a savepoint"
   ]
  },
  {
   "cell_type": "markdown",
   "metadata": {},
   "source": [
    "Building upon the last exercise, it turns out that banks with more than $6 million in MMDAs are twice as likely to sustain during a downturn than those with between $5 and 6 million in that same asset class. Here I've made a mistake in the sample code, and we need to rollback to the save point to maintain data integrity."
   ]
  },
  {
   "cell_type": "markdown",
   "metadata": {},
   "source": [
    "```\n",
    "BEGIN;\n",
    "\n",
    "-- Set the flag to MMDA+ where the value is greater than $6 million\n",
    "UPDATE ffiec_reci set FIELD48 = 'MMDA+' where RCON6810 > 6000000;\n",
    "\n",
    "-- Set a Savepoint\n",
    "SAVEPOINT mmdaplus_flag_set;\n",
    "\n",
    "-- Mistakenly set the flag to MMDA+ where the value is greater than $5 million\n",
    "UPDATE ffiec_reci set FIELD48 = 'MMDA+' where RCON6810 > 5000000;\n",
    "\n",
    "-- Rollback to savepoint\n",
    "ROLLBACK TO mmdaplus_flag_set;\n",
    "\n",
    "COMMIT;\n",
    "\n",
    "-- Select count of records where the flag is MMDA+\n",
    "SELECT count(FIELD48) from ffiec_reci where FIELD48 = 'MMDA+';\n",
    "```"
   ]
  },
  {
   "cell_type": "markdown",
   "metadata": {},
   "source": [
    "# Multiple savepoints"
   ]
  },
  {
   "cell_type": "markdown",
   "metadata": {},
   "source": [
    "A risky area for banks during a distressed market is the number of maturing time deposits in the near future. It's highly likely that these timed deposits will be withdrawn to make other financial moves by the depositor. `RCONHK07 + RCONHK12` stores those maturing in the next three months and `RCONHK08 + RCONHK13` stores those expiring between 3 and 12 months.\n",
    "\n",
    "If the total amounts in these columns are higher than $10 million it can be a drag on available funds to cover withdrawals and would receive a negative rating. Additionally, if there is less than $2 million, it has been shown to be a positive factor."
   ]
  },
  {
   "cell_type": "markdown",
   "metadata": {},
   "source": [
    "```\n",
    "BEGIN;\n",
    "\n",
    "-- Update FIELD48 to indicate a positive maturity rathing when less than $2 million of maturing deposits.\n",
    "UPDATE ffiec_reci \n",
    "SET FIELD48 = 'mature+' \n",
    "WHERE RCONHK07 + RCONHK12 + RCONHK08 + RCONHK13 < 2000000;\n",
    "\n",
    "-- Set a savepoint\n",
    "SAVEPOINT matureplus_flag_set;\n",
    "\n",
    "-- Update FIELD48 to indicate a negative maturity rathing when between $2 and $10 million \n",
    "UPDATE ffiec_reci \n",
    "SET FIELD48 = 'mature-' \n",
    "WHERE RCONHK07 + RCONHK12 + RCONHK08 + RCONHK13 BETWEEN 2000000 AND 10000000;\n",
    "\n",
    "-- Set a savepoint\n",
    "SAVEPOINT matureminus_flag_set;\n",
    "\n",
    "-- Update FIELD48 to indicate a double negative maturity rathing when more than $10 million\n",
    "UPDATE ffiec_reci \n",
    "SET FIELD48 = 'mature--' \n",
    "WHERE RCONHK07 + RCONHK12 + RCONHK08 + RCONHK13 > 10000000;\n",
    "\n",
    "COMMIT;\n",
    "\n",
    "-- Count the records where FIELD48 is a positive indicator\n",
    "SELECT count(FIELD48) \n",
    "FROM ffiec_reci \n",
    "WHERE FIELD48 = 'mature+';\n",
    "```"
   ]
  },
  {
   "cell_type": "markdown",
   "metadata": {},
   "source": [
    "# Savepoints and rolling back"
   ]
  },
  {
   "cell_type": "markdown",
   "metadata": {},
   "source": [
    "Continuing to think about the amount of maturing time deposits in the near future. The ones over 250K have the most impact on the outcomes seen during the 2008 market.\n",
    "\n",
    "`RCONHK12` (>=250k) stores those maturing in the next three months and `RCONHK13` (>=250k) stores those expiring between 3 and 12 months. If these are higher than $1 million dollars it can cause a funds shortage at a bank as these are typically larger customers of the bank who might also pull other assets. Again, there is a positive factor if these are less than $500K.\n",
    "\n",
    "I've made a few mistakes in my code by setting the wrong value for those over $500 thousand!"
   ]
  },
  {
   "cell_type": "markdown",
   "metadata": {},
   "source": [
    "```\n",
    "BEGIN;\n",
    "\n",
    "-- Update FIELD48 to indicate a positive maturity rathing when less than $500 thousand.\n",
    "UPDATE ffiec_reci \n",
    "SET FIELD48 = 'mature+' \n",
    "WHERE RCONHK12 + RCONHK13 < 500000;\n",
    "\n",
    "-- Set a savepoint\n",
    "SAVEPOINT matureplus_flag_set;\n",
    "\n",
    "-- Update FIELD48 to indicate a negative maturity rathing when between $500 thousand and $1 million.\n",
    "UPDATE ffiec_reci \n",
    "SET FIELD48 = 'mature-'  \n",
    "WHERE RCONHK12 + RCONHK13 BETWEEN 500000 AND 1000000;\n",
    "\n",
    "-- Set a savepoint\n",
    "SAVEPOINT matureminus_flag_set;\n",
    "\n",
    "-- Accidentailly update FIELD48 to indicate a double negative maturity rating when more than 100K\n",
    "UPDATE ffiec_reci \n",
    "SET FIELD48 = 'mature--'  \n",
    "WHERE RCONHK12 + RCONHK13 > 100000;\n",
    "\n",
    "-- Rollback to before the last mistake\n",
    "ROLLBACK TO matureminus_flag_set;\n",
    "\n",
    "-- Select count of records with a double negative indicator\n",
    "SELECT count(FIELD48) \n",
    "from ffiec_reci \n",
    "WHERE FIELD48 = 'mature--';\n",
    "```"
   ]
  },
  {
   "cell_type": "markdown",
   "metadata": {},
   "source": [
    "# Understanding outcomes\n"
   ]
  },
  {
   "cell_type": "markdown",
   "metadata": {},
   "source": [
    "Understanding the outcomes of issuing a rollback or rollback to inside of a transaction is a critical skill.\n",
    "\n",
    "Let's look at some scenarios and associate them with the type of rollback. A targeted one that is going back to a savepoint or a whole transaction rollback."
   ]
  },
  {
   "cell_type": "markdown",
   "metadata": {},
   "source": [
    "<center><img src=\"images/02.10.jpg\"  style=\"width: 400px, height: 300px;\"/></center>\n"
   ]
  },
  {
   "cell_type": "markdown",
   "metadata": {},
   "source": [
    "# Working with repeatable read"
   ]
  },
  {
   "cell_type": "markdown",
   "metadata": {},
   "source": [
    "With the video in mind, let's do some hands on work with a repeatable read transaction. We want to set a \"stability\" factor for a bank's in-house assets if they allow consumer deposits. We'll do this by setting a custom field, `FIELD48`, equal to a retainer value if the bank allows consumer deposit accounts as indicated in `RCONP752`.\n",
    "\n",
    "Interference from an external transaction would alter the application of our factor. Repeatable read protects your transaction from outside sources changing data that was available to us when we ran our first query in the transaction."
   ]
  },
  {
   "cell_type": "markdown",
   "metadata": {},
   "source": [
    "```\n",
    "-- Create a new transaction with a repeatable read isolation level\n",
    "START TRANSACTION ISOLATION LEVEL REPEATABLE READ;\n",
    "\n",
    "-- Update records for banks that allow consumer deposit accounts\n",
    "UPDATE ffiec_reci \n",
    "SET FIELD48 = 100 \n",
    "WHERE RCONP752 = 'true';\n",
    "\n",
    "-- Update records for banks that do not allow consumer deposit accounts\n",
    "UPDATE ffiec_reci \n",
    "SET FIELD48 = 50 \n",
    "WHERE RCONP752 = 'false';\n",
    "\n",
    "-- Commit the transaction\n",
    "COMMIT;\n",
    "```"
   ]
  },
  {
   "cell_type": "markdown",
   "metadata": {},
   "source": [
    "What would happen if a query outside our transaction altered the value of `FIELD48` on a bank that didn't allow deposits between the two statements in our transaction?\n",
    "- It would cause an error."
   ]
  },
  {
   "cell_type": "markdown",
   "metadata": {},
   "source": [
    "# Isolation levels comparison"
   ]
  },
  {
   "cell_type": "markdown",
   "metadata": {},
   "source": [
    "Let's use your knowledge of the serializable and repeatable read transaction levels to sort the features into the appropriate transaction type."
   ]
  },
  {
   "cell_type": "markdown",
   "metadata": {},
   "source": [
    "<center><img src=\"images/02.13.jpg\"  style=\"width: 400px, height: 300px;\"/></center>\n"
   ]
  },
  {
   "cell_type": "markdown",
   "metadata": {},
   "source": [
    "# Savepoint's effect on isolation levels"
   ]
  },
  {
   "cell_type": "markdown",
   "metadata": {},
   "source": [
    "Now that you've explored savepoints, let's use them to set up a series of transactions that all need to work from the same initial snapshot of the data.` REPEATABLE READ` is an isolation level that enables us to give each statement inside the transaction the same data as the first statement operated on instead of the data as a result of the prior statement(s).\n",
    "\n",
    "Recently, the FFEIC allowed for a progressive curtailment of foreign deposits, field `RCON2203` in thousands, in the dataset. The new curtailment is 35% for more than $1 billion, 25% for more than $500 million, and 13% for more than $300 million. It's possible to order these statements to avoid reducing the data more than once. However, statements have the data before any adjustments with `REPEATABLE READ`."
   ]
  },
  {
   "cell_type": "markdown",
   "metadata": {},
   "source": [
    "```\n",
    "-- Create a new transaction with a repeatable read isolation level\n",
    "START TRANSACTION ISOLATION LEVEL REPEATABLE READ;\n",
    "\n",
    "-- Update records with a 35% reduction if greater than 1000000000\n",
    "UPDATE ffiec_reci \n",
    "SET RCON2203 = CAST(RCON2203 AS FLOAT) * .65 \n",
    "WHERE CAST(RCON2203 AS FLOAT) > 1000000000;\n",
    "\n",
    "SAVEPOINT million;\n",
    "\n",
    "-- Update records with a 25% reduction if greater than 500000000\n",
    "UPDATE ffiec_reci \n",
    "SET RCON2203 = CAST(RCON2203 AS FLOAT) * .75 \n",
    "WHERE CAST(RCON2203 AS FLOAT) > 500000000;\n",
    "\n",
    "SAVEPOINT five_hundred;\n",
    "\n",
    "-- Update records with a 13% reduction if greater than 300000000\n",
    "UPDATE ffiec_reci \n",
    "SET RCON2203 = CAST(RCON2203 AS FLOAT) * .87 \n",
    "WHERE CAST(RCON2203 AS FLOAT) > 300000000;\n",
    "\n",
    "SAVEPOINT three_hundred;\n",
    "\n",
    "-- Commit the transaction\n",
    "COMMIT;\n",
    "\n",
    "-- Select SUM the RCON2203 field\n",
    "SELECT SUM(CAST(RCON2203 AS FLOAT)) \n",
    "FROM ffiec_reci \n",
    "```"
   ]
  }
 ],
 "metadata": {
  "kernelspec": {
   "display_name": "Python 3.8.11 ('env_py')",
   "language": "python",
   "name": "python3"
  },
  "language_info": {
   "name": "python",
   "version": "3.8.11"
  },
  "orig_nbformat": 4,
  "vscode": {
   "interpreter": {
    "hash": "1e949e87132dd83f1a7623eb88007e3532b03b66b77111be347aa4a383049722"
   }
  }
 },
 "nbformat": 4,
 "nbformat_minor": 2
}

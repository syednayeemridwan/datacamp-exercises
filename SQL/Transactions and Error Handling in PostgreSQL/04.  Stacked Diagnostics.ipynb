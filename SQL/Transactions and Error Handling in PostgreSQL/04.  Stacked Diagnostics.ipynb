{
 "cells": [
  {
   "cell_type": "markdown",
   "metadata": {},
   "source": [
    "# Getting stacked diagnostics"
   ]
  },
  {
   "cell_type": "markdown",
   "metadata": {},
   "source": [
    "Stacked diagnostics can get the internal PostgreSQL error message and exception details. Let's revisit our patients table and try to add an A1C that is above the testing limit. This will cause a check constraint exception that we can capture. We can use the stacked diagnostics in the exception handler to enrich our error recording."
   ]
  },
  {
   "cell_type": "markdown",
   "metadata": {},
   "source": [
    "```\n",
    "DO $$ \n",
    "-- Declare our text variables: exc_message and exc_detail \n",
    "DECLARE \n",
    "   exc_message text;\n",
    "   exc_detail TEXT;\n",
    "BEGIN \n",
    "    INSERT INTO patients (a1c, glucose, fasting) \n",
    "    values (20, 89, TRUE);\n",
    "EXCEPTION \n",
    "WHEN others THEN\n",
    "    -- Get the exception message and detail via stacked diagnostics\n",
    "\tGET STACKED DIAGNOSTICS \n",
    "    \texc_message = MESSAGE_TEXT,\n",
    "        exc_detail = PG_EXCEPTION_DETAIL;\n",
    "    -- Record the exception message and detail in the errors table\n",
    "    INSERT INTO errors (msg, detail) VALUES (exc_message, exc_detail);\n",
    "END;\n",
    "$$ language 'plpgsql';\n",
    "\n",
    "-- Select all the errors recorded\n",
    "SELECT * FROM errors;\n",
    "```"
   ]
  },
  {
   "cell_type": "markdown",
   "metadata": {},
   "source": [
    "# What data is available in stacked diagnostics"
   ]
  },
  {
   "cell_type": "markdown",
   "metadata": {},
   "source": [
    "There is quite a bit of information captured in PostgreSQL during an exception. This is one of the main reasons that one should only capture exceptions when needed. What information is available via stacked diagnostics?"
   ]
  },
  {
   "cell_type": "markdown",
   "metadata": {},
   "source": [
    "- The SQLSTATE error code, column, constraint, error message, table, schema, full details, hints, and stack context."
   ]
  },
  {
   "cell_type": "markdown",
   "metadata": {},
   "source": [
    "# Capturing a context stack"
   ]
  },
  {
   "cell_type": "markdown",
   "metadata": {},
   "source": [
    "Getting the stack context, which is like a stack trace in other languages, is a powerful way to debug complex and nested functions.\n",
    "\n",
    "In the code below, we want to capture the stack context and record it in the exception handlers of both nested blocks. Then, we want to review its output in the errors table to help debug what's causing the exception in this function."
   ]
  },
  {
   "cell_type": "markdown",
   "metadata": {},
   "source": [
    "```\n",
    "DO $$\n",
    "DECLARE\n",
    "   exc_message text;\n",
    "   exc_details text;\n",
    "   -- Declare a variable, exc_context to hold the exception context\n",
    "   exc_context text;\n",
    "BEGIN\n",
    "    BEGIN\n",
    "    \tINSERT INTO patients (a1c, glucose, fasting) values (5.6, 93, TRUE),\n",
    "        \t(6.3, 111, TRUE),(4.7, 65, TRUE);\n",
    "    EXCEPTION\n",
    "        WHEN others THEN\n",
    "        -- Store the exception context in exc_context\n",
    "        GET STACKED DIAGNOSTICS exc_message = MESSAGE_TEXT,\n",
    "                                exc_context = PG_EXCEPTION_CONTEXT;\n",
    "        -- Record both the msg and the context\n",
    "        INSERT INTO errors (msg, context) \n",
    "           VALUES (exc_message, exc_context);\n",
    "    END;\n",
    "\tBEGIN\n",
    "    \tUPDATE patients set fasting = 'true' where id=1;\n",
    "    EXCEPTION\n",
    "        WHEN others THEN\n",
    "        -- Store the exception detail in exc_details\n",
    "        GET STACKED DIAGNOSTICS exc_message = MESSAGE_TEXT,\n",
    "                                exc_details = PG_EXCEPTION_DETAIL;\n",
    "        INSERT INTO errors (msg, context) \n",
    "           VALUES (exc_message, exc_context);\n",
    "    END;\n",
    "END$$;\n",
    "SELECT * FROM errors;\n",
    "```"
   ]
  },
  {
   "cell_type": "markdown",
   "metadata": {},
   "source": [
    "# When to add custom exception logging and recording"
   ]
  },
  {
   "cell_type": "markdown",
   "metadata": {},
   "source": [
    "Exception handling adds computational overhead to our SQL code and adding stacked diagnostics onto that adds even more. Knowing when to use stacked diagnostics instead of simple exception handling can save you valuable processing time. Arrange the options below into reason to use or not to use stacked diagnostics"
   ]
  },
  {
   "cell_type": "markdown",
   "metadata": {},
   "source": [
    "<center><img src=\"images/04.06.jpg\"  style=\"width: 400px, height: 300px;\"/></center>\n"
   ]
  },
  {
   "cell_type": "markdown",
   "metadata": {},
   "source": [
    "# Creating named functions and declaring variables"
   ]
  },
  {
   "cell_type": "markdown",
   "metadata": {},
   "source": [
    "Now that you've seen a powerful debugging function in action, let's build one of your own. First, start by using defining the function signature which supplied the function name, any parameters, and a return type. After that point, it's the same as a `DO` function."
   ]
  },
  {
   "cell_type": "markdown",
   "metadata": {},
   "source": [
    "```\n",
    "-- Define our function signature\n",
    "CREATE OR REPLACE FUNCTION debug_statement(\n",
    "    sql_stmt TEXT\n",
    ")\n",
    "-- Declare our return type\n",
    "RETURNS BOOLEAN AS $$\n",
    "    DECLARE\n",
    "        exc_state   TEXT;\n",
    "        exc_msg     TEXT;\n",
    "        exc_detail  TEXT;\n",
    "        exc_context TEXT;\n",
    "    BEGIN\n",
    "        BEGIN\n",
    "            -- Execute the statement passed in\n",
    "            EXECUTE sql_stmt;\n",
    "        EXCEPTION WHEN others THEN\n",
    "            GET STACKED DIAGNOSTICS\n",
    "                exc_state   = RETURNED_SQLSTATE,\n",
    "                exc_msg     = MESSAGE_TEXT,\n",
    "                exc_detail  = PG_EXCEPTION_DETAIL,\n",
    "                exc_context = PG_EXCEPTION_CONTEXT;\n",
    "            INSERT into errors (msg, state, detail, context) values (exc_msg, exc_state, exc_detail, exc_context);\n",
    "            -- Return True to indicate the statement was debugged\n",
    "            RETURN TRUE;\n",
    "        END;\n",
    "        -- Return False to indicate the statement was not debugged\n",
    "        RETURN FALSE;\n",
    "    END;\n",
    "$$ LANGUAGE plpgsql;\n",
    "SELECT debug_statement('INSERT INTO patients (a1c, glucose, fasting) values (20, 89, TRUE);')\n",
    "```"
   ]
  },
  {
   "cell_type": "markdown",
   "metadata": {},
   "source": [
    "# Structure of stacked diagnostics function"
   ]
  },
  {
   "cell_type": "markdown",
   "metadata": {},
   "source": [
    "Getting the structure of a function made for stacked diagnostics right is critical to ensuring you get the outputs you desire. Failing to declare variables or store them will invalidate all your hard work. Below is a list of blocks in a function."
   ]
  },
  {
   "cell_type": "markdown",
   "metadata": {},
   "source": [
    "<center><img src=\"images/04.09.jpg\"  style=\"width: 400px, height: 300px;\"/></center>\n"
   ]
  },
  {
   "cell_type": "markdown",
   "metadata": {},
   "source": [
    "# Putting it all together"
   ]
  },
  {
   "cell_type": "markdown",
   "metadata": {},
   "source": [
    "Now you're ready to put together what you learned in Chapter 4 with the stacked diagnostics functions from the previous exercises. I've already created the patients table from the prior exercise as well as the debug_statement function. You'll begin by debugging another exception type. Then you'll combine a DO function, SQL statements stored in a variable, and trigger debugging on an exception."
   ]
  },
  {
   "cell_type": "markdown",
   "metadata": {},
   "source": [
    "What type of error does INSERT INTO PATIENTS (fasting) VALUES ('no') give when wrapped in the debug_statement function?\n",
    "```\n",
    "SELECT debug_statement('INSERT INTO PATIENTS (fasting) VALUES (\"no\")');\n",
    "SELECT * FROM errors;\n",
    "```\n",
    "- Invalid Type"
   ]
  },
  {
   "cell_type": "markdown",
   "metadata": {},
   "source": [
    "```\n",
    "DO $$\n",
    "-- Begin a code block\n",
    "DECLARE\n",
    "    stmt VARCHAR(100) := 'INSERT INTO patients (a1c, glucose, fasting) VALUES (20, 800, False)';\n",
    "BEGIN\n",
    "     -- Insert the data into patients by running the statement\n",
    "     EXECUTE stmt;\n",
    "-- Catch a check_violation exception and perform the debug_statement function on it. \n",
    "EXCEPTION WHEN OTHERS THEN\n",
    "    PERFORM debug_statement(stmt);\n",
    "-- END the code block and declare the language\n",
    "END; $$ language 'plpgsql';\n",
    "-- Select from the errors table\n",
    "SELECT * FROM errors;\n",
    "```"
   ]
  }
 ],
 "metadata": {
  "kernelspec": {
   "display_name": "Python 3.8.11 ('env_py')",
   "language": "python",
   "name": "python3"
  },
  "language_info": {
   "name": "python",
   "version": "3.8.11"
  },
  "orig_nbformat": 4,
  "vscode": {
   "interpreter": {
    "hash": "1e949e87132dd83f1a7623eb88007e3532b03b66b77111be347aa4a383049722"
   }
  }
 },
 "nbformat": 4,
 "nbformat_minor": 2
}

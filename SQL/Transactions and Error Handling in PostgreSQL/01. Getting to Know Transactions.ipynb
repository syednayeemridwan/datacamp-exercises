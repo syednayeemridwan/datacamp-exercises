{
 "cells": [
  {
   "cell_type": "markdown",
   "metadata": {},
   "source": [
    "# Transaction structure"
   ]
  },
  {
   "cell_type": "markdown",
   "metadata": {},
   "source": [
    "Here we have a pseudo-code transaction with three SQL statements that we want to succeed or fail as a group. Order the steps so that the transaction is properly structured."
   ]
  },
  {
   "cell_type": "markdown",
   "metadata": {},
   "source": [
    "<center><img src=\"images/01.02.jpg\"  style=\"width: 400px, height: 300px;\"/></center>"
   ]
  },
  {
   "cell_type": "markdown",
   "metadata": {},
   "source": [
    "# Making our first transaction"
   ]
  },
  {
   "cell_type": "markdown",
   "metadata": {},
   "source": [
    "Now you're ready to build your first transaction. As mentioned in the slides, you are working with data from the FFEIC, which is the organization in the US that sets bank standards and reporting formats. Recently they changed the rules for reporting if you provide consumer deposit accounts to being true only if you have more than $5,000,000 in brokered deposits.\n",
    "\n",
    "Let's use a transaction to make that update safely. The \"Provides Consumer Deposits\" flag is in the `RCONP752` column and the brokered deposits is in the `RCON2365` column."
   ]
  },
  {
   "cell_type": "markdown",
   "metadata": {},
   "source": [
    "```\n",
    "-- Begin a new transaction\n",
    "BEGIN;\n",
    "\n",
    "-- Update RCOP752 to true if RCON2365 is over 5000000\n",
    "UPDATE ffiec_reci\n",
    "SET RCONP752 = 'true'\n",
    "WHERE RCON2365 > 5000000;\n",
    "\n",
    "-- Commit the transaction\n",
    "COMMIT;\n",
    "\n",
    "-- Select a count of records now true\n",
    "SELECT COUNT(RCONP752)\n",
    "FROM ffiec_reci\n",
    "WHERE RCONP752 = 'true';\n",
    "```"
   ]
  },
  {
   "cell_type": "markdown",
   "metadata": {},
   "source": [
    "# Multiple statement transactions"
   ]
  },
  {
   "cell_type": "markdown",
   "metadata": {},
   "source": [
    "Now let's use multiple statements in a transaction to set a flag in `FIELD48` based on if it holds US state government assets represented in `RCON2203`, foreign assets represented in `RCON2236`, or both.\n",
    "\n",
    "The values for `FIELD48` should be `'US-STATE-GOV'`, `'FOREIGN'`, or `'BOTH'` respectively. Flag fields like this are common in government data sets, and are great for categorizing records."
   ]
  },
  {
   "cell_type": "markdown",
   "metadata": {},
   "source": [
    "```\n",
    "-- Begin a new transaction\n",
    "BEGIN;\n",
    "\n",
    "-- Update FIELD48 flag status if US State Government deposits are held\n",
    "UPDATE ffiec_reci\n",
    "SET FIELD48 = 'US-STATE-GOV'\n",
    "WHERE RCON2203 > 0;\n",
    "\n",
    "-- Update FIELD48 flag status if Foreign deposits are held\n",
    "UPDATE ffiec_reci\n",
    "SET FIELD48 = 'FOREIGN'\n",
    "WHERE RCON2236 > 0;\n",
    "\n",
    "-- Update FIELD48 flag status if US State Government and Foreign deposits are held\n",
    "UPDATE ffiec_reci\n",
    "SET FIELD48 = 'BOTH'\n",
    "WHERE RCON2203 > 0\n",
    "AND RCON2236 > 0;\n",
    "\n",
    "-- Commit the transaction\n",
    "COMMIT;\n",
    "\n",
    "-- Select a count of records where FIELD48 is now BOTH\n",
    "SELECT COUNT(FIELD48)\n",
    "FROM ffiec_reci\n",
    "WHERE FIELD48 = 'BOTH';\n",
    "```"
   ]
  },
  {
   "cell_type": "markdown",
   "metadata": {},
   "source": [
    "# Using and making transactions"
   ]
  },
  {
   "cell_type": "markdown",
   "metadata": {},
   "source": [
    "Remembering when to use transactions and why we make them as small as possible is critical to leveraging our skills properly."
   ]
  },
  {
   "cell_type": "markdown",
   "metadata": {},
   "source": [
    "<center><img src=\"images/01.06.jpg\"  style=\"width: 400px, height: 300px;\"/></center>\n"
   ]
  },
  {
   "cell_type": "markdown",
   "metadata": {},
   "source": [
    "# Single statement transactions"
   ]
  },
  {
   "cell_type": "markdown",
   "metadata": {},
   "source": [
    "Now you will work with a single statement transaction. Some types of saving accounts hold money that cannot be withdrawn on demand for individuals and corporations. The amount of the heldback money is stored in the `RCONB550` field. These types of accounts promote bank stability and generate dependable revenue for the financial institution via fees and loan proceeds. Let's update `FIELD48` to be `'1'` for each of these institutions to signify that they have this stability when it's over $100M."
   ]
  },
  {
   "cell_type": "markdown",
   "metadata": {},
   "source": [
    "```\n",
    "-- Update records to indicate nontransactionals over 100,000,000\n",
    "UPDATE ffiec_reci\n",
    "SET FIELD48 = '1'\n",
    "WHERE RCONB550 > 100000000;\n",
    "\n",
    "-- Select a count of records where the flag field is not '1'\n",
    "SELECT COUNT(*)\n",
    "FROM ffiec_reci\n",
    "WHERE FIELD48 != '1' or FIELD48 is null;\n",
    "```"
   ]
  },
  {
   "cell_type": "markdown",
   "metadata": {},
   "source": [
    "- How many transactions were performed here?\n",
    "    - 2"
   ]
  },
  {
   "cell_type": "markdown",
   "metadata": {},
   "source": [
    "# Selecting isolation levels"
   ]
  },
  {
   "cell_type": "markdown",
   "metadata": {},
   "source": [
    "Which isolation level protects from dirty read (reading uncommitted data), non-repeatable read (Same query different results), phantom read (Same where clause reads different data), and the serialization anomaly (different commit order produces different results)?"
   ]
  },
  {
   "cell_type": "markdown",
   "metadata": {},
   "source": [
    "- Serializable"
   ]
  },
  {
   "cell_type": "markdown",
   "metadata": {},
   "source": [
    "# Using an isolation level"
   ]
  },
  {
   "cell_type": "markdown",
   "metadata": {},
   "source": [
    "As seen in the video, sometimes it's important to be able to select an isolation level for an individual transaction. It's best to use `START TRANSACTION` to do this which is an alias of `BEGIN TRANSACTION` to make it clear something is different. You can specify an `ISOLATION LEVEL` when starting the transaction.\n",
    "\n",
    "Here we are going to use `REPEATABLE READ` which protects us from dirty reads, nonrepeatable reads, and phantom reads. In the FFEIC data, `RCON2210` is the demand deposits field, and tracks all outstanding checking accounts, bank-issued checks and unposted credits. They can be a liability to a bank if there was a funds rush for any reason. Let's find all those banks with over $100,000,000 in demand deposits."
   ]
  },
  {
   "cell_type": "markdown",
   "metadata": {},
   "source": [
    "```\n",
    "-- Create a new transaction with an isolation level of repeatable read\n",
    "START TRANSACTION ISOLATION LEVEL REPEATABLE READ;\n",
    "\n",
    "-- Count of records over 100000000\n",
    "SELECT COUNT(RCON2210)\n",
    "FROM ffiec_reci\n",
    "WHERE RCON2210 > 100000000;\n",
    "\n",
    "-- Count of records still over 100000000\n",
    "SELECT COUNT(RCON2210)\n",
    "FROM ffiec_reci\n",
    "WHERE RCON2210 > 100000000;\n",
    "\n",
    "-- Commit the transaction\n",
    "COMMIT;\n",
    "```"
   ]
  },
  {
   "cell_type": "markdown",
   "metadata": {},
   "source": [
    "# Isolation levels and transactions"
   ]
  },
  {
   "cell_type": "markdown",
   "metadata": {},
   "source": [
    "`SERIALIZABLE` is an isolation level that takes a snapshot of the record when the first query or update statement is issued, and errors if the data is altered in any way outside of the transaction. Note that the transaction can do other work, such as declare variables, prior to the first query.\n",
    "\n",
    "You'll be using the FFIEC dataset again to work with data where the annual change in savings deposits `RCON0352` is affected by a large offset."
   ]
  },
  {
   "cell_type": "markdown",
   "metadata": {},
   "source": [
    "```\n",
    "-- Create a new transaction with a serializiable isolation level\n",
    "START TRANSACTION ISOLATION LEVEL SERIALIZABLE;\n",
    "\n",
    "-- Update records with a 50% reduction if greater than 100000\n",
    "UPDATE ffiec_reci\n",
    "SET RCON0352 = RCON0352 * 0.5\n",
    "WHERE RCON0352 > 100000;\n",
    "\n",
    "-- Commit the transaction\n",
    "COMMIT;\n",
    "\n",
    "-- Select a count of records still over 100000\n",
    "SELECT COUNT(RCON0352)\n",
    "FROM ffiec_reci\n",
    "WHERE RCON0352 > 100000;\n",
    "```"
   ]
  }
 ],
 "metadata": {
  "kernelspec": {
   "display_name": "Python 3.8.11 ('env_py')",
   "language": "python",
   "name": "python3"
  },
  "language_info": {
   "name": "python",
   "version": "3.8.11"
  },
  "orig_nbformat": 4,
  "vscode": {
   "interpreter": {
    "hash": "1e949e87132dd83f1a7623eb88007e3532b03b66b77111be347aa4a383049722"
   }
  }
 },
 "nbformat": 4,
 "nbformat_minor": 2
}

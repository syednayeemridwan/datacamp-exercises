{
 "cells": [
  {
   "cell_type": "markdown",
   "metadata": {},
   "source": [
    "# Filtering using scalar subqueries"
   ]
  },
  {
   "cell_type": "markdown",
   "metadata": {},
   "source": [
    "Subqueries are incredibly powerful for performing complex filters and transformations. You can filter data based on single, scalar values using a subquery in ways you cannot by using WHERE statements or joins. Subqueries can also be used for more advanced manipulation of your data set. You will likely encounter subqueries in any real-world setting that uses relational databases.\n",
    "\n",
    "You will generate a list of matches where the total goals scored (for both teams in total) is more than 3 times the average for games in the matches_2013_2014 table, which includes all games played in the 2013/2014 season."
   ]
  },
  {
   "cell_type": "markdown",
   "metadata": {},
   "source": [
    "```\n",
    "SELECT \n",
    "\t-- Select the date, home goals, and away goals scored\n",
    "    date,\n",
    "\thome_goal,\n",
    "\taway_goal\n",
    "FROM  matches_2013_2014\n",
    "-- Filter for matches where total goals exceeds 3x the average\n",
    "WHERE (home_goal + away_goal) > \n",
    "       (SELECT 3 * AVG(home_goal + away_goal)\n",
    "        FROM matches_2013_2014); \n",
    "```"
   ]
  },
  {
   "cell_type": "markdown",
   "metadata": {},
   "source": [
    "# Filtering using a subquery with a list"
   ]
  },
  {
   "cell_type": "markdown",
   "metadata": {},
   "source": [
    "Generate a list of teams that never played a game in their home city. Using a subquery, you will generate a list of unique hometeam_ID values from the unfiltered match table to exclude in the team table's team_api_ID column.\n",
    "\n",
    "In addition to filtering using a single-value (scalar) subquery, you can create a list of values in a subquery to filter data based on a complex set of conditions. This type of subquery generates a one column reference list for the main query. As long as the values in your list match a column in your main query's table, you don't need to use a join -- even if the list is from a separate table."
   ]
  },
  {
   "cell_type": "markdown",
   "metadata": {},
   "source": [
    "```\n",
    "SELECT \n",
    "\t-- Select the team long and short names\n",
    "\tteam_long_name,\n",
    "\tteam_short_name\n",
    "FROM team \n",
    "-- Exclude all values from the subquery\n",
    "WHERE team_api_id NOT IN\n",
    "     (SELECT DISTINCT hometeam_ID  FROM match);\n",
    "```"
   ]
  },
  {
   "cell_type": "markdown",
   "metadata": {},
   "source": [
    "# Filtering with more complex subquery conditions"
   ]
  },
  {
   "cell_type": "markdown",
   "metadata": {},
   "source": [
    "you generated a list of teams that have no home matches listed in the soccer database using a subquery in WHERE. Let's do some further exploration in this database by creating a list of teams that scored 8 or more goals in a home match.\n",
    "\n",
    "In order to do this, you will construct a subquery in the WHERE statement with its own filtering condition."
   ]
  },
  {
   "cell_type": "markdown",
   "metadata": {},
   "source": [
    "```\n",
    "SELECT\n",
    "\t-- Select the team long and short names\n",
    "\tteam_long_name,\n",
    "\tteam_short_name\n",
    "FROM team\n",
    "-- Filter for teams with 8 or more home goals\n",
    "WHERE team_api_id IN\n",
    "\t  (SELECT hometeam_ID \n",
    "       FROM match\n",
    "       WHERE home_goal >= 8);\n",
    "```"
   ]
  },
  {
   "cell_type": "markdown",
   "metadata": {},
   "source": [
    "# Joining Subqueries in FROM"
   ]
  },
  {
   "cell_type": "markdown",
   "metadata": {},
   "source": [
    "The match table in the European Soccer Database does not contain country or team names. You can get this information by joining it to the country table, and use this to aggregate information, such as the number of matches played in each country.\n",
    "\n",
    "If you're interested in filtering data from one of these tables, you can also create a subquery from one of the tables, and then join it to an existing table in the database. A subquery in FROM is an effective way of answering detailed questions that requires filtering or transforming data before including it in your final results.\n",
    "\n",
    "Your goal in this exercise is to generate a subquery using the match table, and then join that subquery to the country table to calculate information about matches with 10 or more goals in total!"
   ]
  },
  {
   "cell_type": "markdown",
   "metadata": {},
   "source": [
    "```\n",
    "SELECT\n",
    "\t-- Select country name and the count match IDs\n",
    "    c.name AS country_name,\n",
    "    COUNT(sub.id) AS matches\n",
    "FROM country AS c\n",
    "-- Inner join the subquery onto country\n",
    "-- Select the country id and match id columns\n",
    "INNER JOIN (SELECT \n",
    "\t-- Select the country ID and match ID\n",
    "\tcountry_id, \n",
    "    id \n",
    "FROM match\n",
    "-- Filter for matches with 10 or more goals in total\n",
    "WHERE (home_goal + away_goal) >= 10) AS sub\n",
    "ON c.id = sub.country_id\n",
    "GROUP BY country_name;\n",
    "```\n"
   ]
  },
  {
   "cell_type": "markdown",
   "metadata": {},
   "source": [
    "# Building on Subqueries in FROM"
   ]
  },
  {
   "cell_type": "markdown",
   "metadata": {},
   "source": [
    "you found that England, Netherlands, Germany and Spain were the only countries that had matches in the database where 10 or more goals were scored overall. Let's find out some more details about those matches -- when they were played, during which seasons, and how many of the goals were home versus away goals.\n",
    "\n",
    "the table alias is excluded for every column selected in the main query. This is because the main query is extracting data from the subquery, which is treated as a single table."
   ]
  },
  {
   "cell_type": "markdown",
   "metadata": {},
   "source": [
    "```\n",
    "SELECT\n",
    "\t-- Select country, date, home, and away goals from the subquery\n",
    "    country,\n",
    "    date,\n",
    "    home_goal,\n",
    "    away_goal\n",
    "FROM \n",
    "\t-- Select country name, date, home_goal, away_goal, and total goals in the subquery\n",
    "\t(SELECT c.name AS country, \n",
    "     \t    m.date, \n",
    "     \t\tm.home_goal, \n",
    "     \t\tm.away_goal,\n",
    "           (m.home_goal + m.away_goal) AS total_goals\n",
    "    FROM match AS m\n",
    "    LEFT JOIN country AS c\n",
    "    ON m.country_id = c.id) AS subq\n",
    "-- Filter by total goals scored in the main query\n",
    "WHERE total_goals >= 10;\n",
    "```"
   ]
  },
  {
   "cell_type": "markdown",
   "metadata": {},
   "source": [
    "# Add a subquery to the SELECT clause"
   ]
  },
  {
   "cell_type": "markdown",
   "metadata": {},
   "source": [
    "Subqueries in SELECT statements generate a single value that allow you to pass an aggregate value down a data frame. This is useful for performing calculations on data within your database.\n",
    "\n",
    "You will construct a query that calculates the average number of goals per match in each country's league."
   ]
  },
  {
   "cell_type": "markdown",
   "metadata": {},
   "source": [
    "```\n",
    "SELECT \n",
    "\tl.name AS league,\n",
    "    -- Select and round the league's total goals\n",
    "    ROUND(AVG(m.home_goal + m.away_goal), 2) AS avg_goals,\n",
    "    -- Select & round the average total goals for the season\n",
    "    (SELECT ROUND(AVG(home_goal + away_goal), 2) \n",
    "     FROM match\n",
    "     WHERE season = '2013/2014') AS overall_avg\n",
    "FROM league AS l\n",
    "LEFT JOIN match AS m\n",
    "ON l.country_id = m.country_id\n",
    "-- Filter for the 2013/2014 season\n",
    "WHERE m.season = '2013/2014'\n",
    "GROUP BY league;\n",
    "```"
   ]
  },
  {
   "cell_type": "markdown",
   "metadata": {},
   "source": [
    "# Subqueries in Select for Calculations"
   ]
  },
  {
   "cell_type": "markdown",
   "metadata": {},
   "source": [
    "Subqueries in SELECT are a useful way to create calculated columns in a query. A subquery in SELECT can be treated as a single numeric value to use in your calculations. When writing queries in SELECT, it's important to remember that filtering the main query does not filter the subquery -- and vice versa.\n",
    "\n",
    "You created a column to compare each league's average total goals to the overall average goals in the 2013/2014 season. In this exercise, you will add a column that directly compares these values by subtracting the overall average from the subquery."
   ]
  },
  {
   "cell_type": "markdown",
   "metadata": {},
   "source": [
    "```\n",
    "SELECT\n",
    "\t-- Select the league name and average goals scored\n",
    "\tl.name AS league,\n",
    "\tROUND(AVG(m.home_goal + m.away_goal),2) AS avg_goals,\n",
    "    -- Subtract the overall average from the league average\n",
    "\tROUND(AVG(m.home_goal + m.away_goal) - \n",
    "\t\t(SELECT AVG(home_goal + away_goal)\n",
    "\t\t FROM match \n",
    "         WHERE season = '2013/2014'),2) AS diff\n",
    "FROM league AS l\n",
    "LEFT JOIN match AS m\n",
    "ON l.country_id = m.country_id\n",
    "-- Only include 2013/2014 results\n",
    "WHERE season = '2013/2014'\n",
    "GROUP BY l.name;\n",
    "```"
   ]
  },
  {
   "cell_type": "markdown",
   "metadata": {},
   "source": [
    "# ALL the subqueries EVERYWHERE"
   ]
  },
  {
   "cell_type": "markdown",
   "metadata": {},
   "source": [
    "In soccer leagues, games are played at different stages. Winning teams progress from one stage to the next, until they reach the final stage. In each stage, the stakes become higher than the previous one. The match table includes data about the different stages that each match took place in.\n",
    "\n",
    "You will build a final query across 3 exercises that will contain three subqueries -- one in the SELECT clause, one in the FROM clause, and one in the WHERE clause. In the final exercise, your query will extract data examining the average goals scored in each stage of a match. Does the average number of goals scored change as the stakes get higher from one stage to the next?"
   ]
  },
  {
   "cell_type": "markdown",
   "metadata": {},
   "source": [
    "```\n",
    "SELECT \n",
    "\t-- Select the stage and average goals for each stage\n",
    "\tm.stage,\n",
    "    ROUND(AVG(m.home_goal + m.away_goal),2) AS avg_goals,\n",
    "    -- Select the average overall goals for the 2012/2013 season\n",
    "    ROUND((SELECT AVG(home_goal + away_goal) \n",
    "           FROM match \n",
    "           WHERE season = '2012/2013'),2) AS overall\n",
    "FROM match AS m\n",
    "-- Filter for the 2012/2013 season\n",
    "WHERE season = '2012/2013'\n",
    "-- Group by stage\n",
    "GROUP BY m.stage;\n",
    "```"
   ]
  },
  {
   "cell_type": "markdown",
   "metadata": {},
   "source": [
    "# Add a subquery in FROM"
   ]
  },
  {
   "cell_type": "markdown",
   "metadata": {},
   "source": [
    "You created a data set listing the average home and away goals in each match stage of the 2012/2013 match season.\n",
    "\n",
    "You will turn the main query into a subquery to extract a list of stages where the average home goals in a stage is higher than the overall average for home goals in a match."
   ]
  },
  {
   "cell_type": "markdown",
   "metadata": {},
   "source": [
    "```\n",
    "SELECT \n",
    "\t-- Select the stage and average goals from the subquery\n",
    "\ts.stage,\n",
    "\tROUND(s.avg_goals,2) AS avg_goals\n",
    "FROM \n",
    "\t-- Select the stage and average goals in 2012/2013\n",
    "\t(SELECT\n",
    "\t\t stage,\n",
    "         AVG(home_goal + away_goal) AS avg_goals\n",
    "\t FROM match\n",
    "\t WHERE season = '2012/2013'\n",
    "\t GROUP BY stage) AS s\n",
    "WHERE \n",
    "\t-- Filter the main query using the subquery\n",
    "\ts.avg_goals > (SELECT AVG(home_goal + away_goal) \n",
    "                    FROM match WHERE season = '2012/2013');\n",
    "```"
   ]
  },
  {
   "cell_type": "markdown",
   "metadata": {},
   "source": [
    "# Add a subquery in SELECT"
   ]
  },
  {
   "cell_type": "markdown",
   "metadata": {},
   "source": [
    "You added a subquery to the FROM statement and selected the stages where the number of average goals in a stage exceeded the overall average number of goals in the 2012/2013 match season. In this final step, you will add a subquery in SELECT to compare the average number of goals scored in each stage to the total."
   ]
  },
  {
   "cell_type": "markdown",
   "metadata": {},
   "source": [
    "```\n",
    "SELECT \n",
    "\t-- Select the stage and average goals from s\n",
    "\ts.stage,\n",
    "\tROUND(s.avg_goals,2) AS avg_goal,\n",
    "    -- Select the overall average for 2012/2013\n",
    "\t(SELECT AVG(home_goal + away_goal) FROM match WHERE season = '2012/2013') AS overall_avg\n",
    "FROM \n",
    "\t-- Select the stage and average goals in 2012/2013 from match\n",
    "\t(SELECT\n",
    "         stage,\n",
    "         AVG(home_goal + away_goal) AS avg_goals\n",
    "     FROM match\n",
    "     WHERE season = '2012/2013'\n",
    "     GROUP BY stage) AS s\n",
    "WHERE \n",
    "\t-- Filter the main query using the subquery\n",
    "\ts.avg_goals > (SELECT AVG(home_goal + away_goal) \n",
    "                   FROM match WHERE season = '2012/2013');\n",
    "```"
   ]
  }
 ],
 "metadata": {
  "kernelspec": {
   "display_name": "Python 3.8.11 ('env_py')",
   "language": "python",
   "name": "python3"
  },
  "language_info": {
   "name": "python",
   "version": "3.8.11"
  },
  "orig_nbformat": 4,
  "vscode": {
   "interpreter": {
    "hash": "1e949e87132dd83f1a7623eb88007e3532b03b66b77111be347aa4a383049722"
   }
  }
 },
 "nbformat": 4,
 "nbformat_minor": 2
}

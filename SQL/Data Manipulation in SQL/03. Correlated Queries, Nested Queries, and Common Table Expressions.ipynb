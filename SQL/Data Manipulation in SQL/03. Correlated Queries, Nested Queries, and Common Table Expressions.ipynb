{
 "cells": [
  {
   "cell_type": "markdown",
   "metadata": {},
   "source": [
    "# Basic Correlated Subqueries"
   ]
  },
  {
   "cell_type": "markdown",
   "metadata": {},
   "source": [
    "Correlated subqueries are subqueries that reference one or more columns in the main query. Correlated subqueries depend on information in the main query to run, and thus, cannot be executed on their own.\n",
    "\n",
    "Correlated subqueries are evaluated in SQL once per row of data retrieved -- a process that takes a lot more computing power and time than a simple subquery.\n",
    "\n",
    "You will practice using correlated subqueries to examine matches with scores that are extreme outliers for each country -- above 3 times the average score!"
   ]
  },
  {
   "cell_type": "markdown",
   "metadata": {},
   "source": [
    "```\n",
    "SELECT \n",
    "\t-- Select country ID, date, home, and away goals from match\n",
    "\tmain.country_id,\n",
    "    main.date,\n",
    "    main.home_goal, \n",
    "    main.away_goal\n",
    "FROM match AS main\n",
    "WHERE \n",
    "\t-- Filter the main query by the subquery\n",
    "\t(home_goal + away_goal) > \n",
    "        (SELECT AVG((sub.home_goal + sub.away_goal) * 3)\n",
    "         FROM match AS sub\n",
    "         -- Join the main query to the subquery in WHERE\n",
    "         WHERE main.country_id = sub.country_id);\n",
    "```"
   ]
  },
  {
   "cell_type": "markdown",
   "metadata": {},
   "source": [
    "# Correlated subquery with multiple conditions"
   ]
  },
  {
   "cell_type": "markdown",
   "metadata": {},
   "source": [
    "Correlated subqueries are useful for matching data across multiple columns. In the previous exercise, you generated a list of matches with extremely high scores for each country. In this exercise, you're going to add an additional column for matching to answer the question -- what was the highest scoring match for each country, in each season?"
   ]
  },
  {
   "cell_type": "markdown",
   "metadata": {},
   "source": [
    "```\n",
    "SELECT \n",
    "\t-- Select country ID, date, home, and away goals from match\n",
    "\tmain.country_id,\n",
    "    main.date,\n",
    "    main.home_goal, \n",
    "    main.away_goal\n",
    "FROM match AS main\n",
    "WHERE \n",
    "\t-- Filter for matches with the highest number of goals scored\n",
    "\t(home_goal + away_goal) = \n",
    "        (SELECT MAX(sub.home_goal + sub.away_goal)\n",
    "         FROM match AS sub\n",
    "         WHERE main.country_id = sub.country_id\n",
    "               AND main.season = sub.season);\n",
    "```"
   ]
  },
  {
   "cell_type": "markdown",
   "metadata": {},
   "source": [
    "# Nested simple subqueries"
   ]
  },
  {
   "cell_type": "markdown",
   "metadata": {},
   "source": [
    "Nested subqueries can be either simple or correlated.\n",
    "\n",
    "Just like an unnested subquery, a nested subquery's components can be executed independently of the outer query, while a correlated subquery requires both the outer and inner subquery to run and produce results.\n",
    "\n",
    "You will be creating a nested subquery to examine the highest total number of goals in each season, overall, and during July across all seasons."
   ]
  },
  {
   "cell_type": "markdown",
   "metadata": {},
   "source": [
    "```\n",
    "SELECT\n",
    "\t-- Select the season and max goals scored in a match\n",
    "\tseason,\n",
    "    MAX(home_goal + away_goal) AS max_goals,\n",
    "    -- Select the overall max goals scored in a match\n",
    "   (SELECT MAX(home_goal + away_goal) FROM match) AS overall_max_goals,\n",
    "   -- Select the max number of goals scored in any match in July\n",
    "   (SELECT MAX(home_goal + away_goal) \n",
    "    FROM match\n",
    "    WHERE id IN (\n",
    "          SELECT id FROM match WHERE EXTRACT(MONTH FROM date) = 07)) AS july_max_goals\n",
    "FROM match\n",
    "GROUP BY season;\n",
    "```"
   ]
  },
  {
   "cell_type": "markdown",
   "metadata": {},
   "source": [
    "# Nest a subquery in FROM"
   ]
  },
  {
   "cell_type": "markdown",
   "metadata": {},
   "source": [
    "What's the average number of matches per season where a team scored 5 or more goals? How does this differ by country?\n",
    "\n",
    "Let's use a nested, correlated subquery to perform this operation. In the real world, you will probably find that nesting multiple subqueries is a task you don't have to perform often. In some cases, however, you may find yourself struggling to properly group by the column you want, or to calculate information requiring multiple mathematical transformations (i.e., an AVG of a COUNT).\n",
    "\n",
    "Nesting subqueries and performing your transformations one step at a time, adding it to a subquery, and then performing the next set of transformations is often the easiest way to yield accurate information about your data. Let's get to it!"
   ]
  },
  {
   "cell_type": "markdown",
   "metadata": {},
   "source": [
    "```\n",
    "-- Count match ids\n",
    "SELECT\n",
    "    country_id,\n",
    "    season,\n",
    "    COUNT(*) AS matches\n",
    "-- Set up and alias the subquery\n",
    "FROM (\n",
    "\tSELECT\n",
    "    \tcountry_id,\n",
    "    \tseason,\n",
    "    \tid\n",
    "\tFROM match\n",
    "\tWHERE home_goal >= 5 OR away_goal >= 5 ) \n",
    "    AS subquery\n",
    "-- Group by country_id and season\n",
    "GROUP BY country_id, season;\n",
    "```"
   ]
  },
  {
   "cell_type": "markdown",
   "metadata": {},
   "source": [
    "FINALLY:"
   ]
  },
  {
   "cell_type": "markdown",
   "metadata": {},
   "source": [
    "```\n",
    "SELECT\n",
    "\tc.name AS country,\n",
    "    -- Calculate the average matches per season\n",
    "\tAVG(outer_s.matches) AS avg_seasonal_high_scores\n",
    "FROM country AS c\n",
    "-- Left join outer_s to country\n",
    "LEFT JOIN (\n",
    "  SELECT country_id, season,\n",
    "         COUNT(id) AS matches\n",
    "  FROM (\n",
    "    SELECT country_id, season, id\n",
    "\tFROM match\n",
    "\tWHERE home_goal >= 5 OR away_goal >= 5) AS inner_s\n",
    "  -- Close parentheses and alias the subquery\n",
    "  GROUP BY country_id, season) AS outer_s\n",
    "ON c.id = outer_s.country_id\n",
    "GROUP BY country;\n",
    "```"
   ]
  },
  {
   "cell_type": "markdown",
   "metadata": {},
   "source": [
    "# Clean up with CTEs"
   ]
  },
  {
   "cell_type": "markdown",
   "metadata": {},
   "source": [
    "You generated a list of countries and the number of matches in each country with more than 10 total goals. The query in that exercise utilized a subquery in the FROM statement in order to filter the matches before counting them in the main query. Below is the query you created:\n",
    "```\n",
    "SELECT\n",
    "  c.name AS country,\n",
    "  COUNT(sub.id) AS matches\n",
    "FROM country AS c\n",
    "INNER JOIN (\n",
    "  SELECT country_id, id \n",
    "  FROM match\n",
    "  WHERE (home_goal + away_goal) >= 10) AS sub\n",
    "ON c.id = sub.country_id\n",
    "GROUP BY country;\n",
    "```\n",
    "You can list one (or more) subqueries as common table expressions (CTEs) by declaring them ahead of your main query, which is an excellent tool for organizing information and placing it in a logical order.\n",
    "\n",
    "Rewrite a similar query using a CTE."
   ]
  },
  {
   "cell_type": "markdown",
   "metadata": {},
   "source": [
    "```\n",
    "-- Set up your CTE\n",
    "WITH match_list AS (\n",
    "    SELECT \n",
    "  \t\tcountry_id, \n",
    "  \t\tid\n",
    "    FROM match\n",
    "    WHERE (home_goal + away_goal) >= 10)\n",
    "-- Select league and count of matches from the CTE\n",
    "SELECT\n",
    "    l.name AS league,\n",
    "    COUNT(match_list.id) AS matches\n",
    "FROM league AS l\n",
    "-- Join the CTE to the league table\n",
    "LEFT JOIN match_list ON l.country_id = match_list.country_id\n",
    "GROUP BY l.name;\n",
    "```"
   ]
  },
  {
   "cell_type": "markdown",
   "metadata": {},
   "source": [
    "# Organizing with CTEs"
   ]
  },
  {
   "cell_type": "markdown",
   "metadata": {},
   "source": [
    "You modified a query based on a statement you completed in chapter 2 using common table expressions.\n",
    "\n",
    "This time, let's expand on the exercise by looking at details about matches with very high scores using CTEs. Just like a subquery in FROM, you can join tables inside a CTE."
   ]
  },
  {
   "cell_type": "markdown",
   "metadata": {},
   "source": [
    "```\n",
    "-- Set up your CTE\n",
    "WITH match_list AS (\n",
    "  -- Select the league, date, home, and away goals\n",
    "    SELECT \n",
    "  \t\tl.name AS league, \n",
    "     \tm.date, \n",
    "  \t\tm.home_goal, \n",
    "  \t\tm.away_goal,\n",
    "       (m.home_goal + m.away_goal) AS total_goals\n",
    "    FROM match AS m\n",
    "    LEFT JOIN league as l ON m.country_id = l.id)\n",
    "-- Select the league, date, home, and away goals from the CTE\n",
    "SELECT league, date, home_goal, away_goal\n",
    "FROM match_list\n",
    "-- Filter by total goals\n",
    "WHERE total_goals >= 10;\n",
    "```"
   ]
  },
  {
   "cell_type": "markdown",
   "metadata": {},
   "source": [
    "# CTEs with nested subqueries"
   ]
  },
  {
   "cell_type": "markdown",
   "metadata": {},
   "source": [
    "If you find yourself listing multiple subqueries in the FROM clause with nested statement, your query will likely become long, complex, and difficult to read.\n",
    "\n",
    "Since many queries are written with the intention of being saved and re-run in the future, proper organization is key to a seamless workflow. Arranging subqueries as CTEs will save you time, space, and confusion in the long run!"
   ]
  },
  {
   "cell_type": "markdown",
   "metadata": {},
   "source": [
    "```\n",
    "-- Set up your CTE\n",
    "WITH match_list AS (\n",
    "    SELECT \n",
    "  \t\tcountry_id,\n",
    "  \t   (home_goal + away_goal) AS goals\n",
    "    FROM match\n",
    "  \t-- Create a list of match IDs to filter data in the CTE\n",
    "    WHERE id IN (\n",
    "       SELECT id\n",
    "       FROM match\n",
    "       WHERE season = '2013/2014' AND EXTRACT(MONTH FROM date) = 8))\n",
    "-- Select the league name and average of goals in the CTE\n",
    "SELECT \n",
    "\tl.name,\n",
    "    AVG(match_list.goals)\n",
    "FROM league AS l\n",
    "-- Join the CTE onto the league table\n",
    "LEFT JOIN match_list ON l.id = match_list.country_id\n",
    "GROUP BY l.name;\n",
    "```"
   ]
  },
  {
   "cell_type": "markdown",
   "metadata": {},
   "source": [
    "# Get team names with a subquery"
   ]
  },
  {
   "cell_type": "markdown",
   "metadata": {},
   "source": [
    "Let's solve a problem we've encountered a few times in this course so far -- How do you get both the home and away team names into one final query result?\n",
    "\n",
    "Out of the 4 techniques we just discussed, this can be performed using subqueries, correlated subqueries, and CTEs. Let's practice creating similar result sets using each of these 3 methods over the next 3 exercises, starting with subqueries in FROM."
   ]
  },
  {
   "cell_type": "markdown",
   "metadata": {},
   "source": [
    "```\n",
    "SELECT\n",
    "\tm.date,\n",
    "    -- Get the home and away team names\n",
    "    home.hometeam,\n",
    "    away.awayteam,\n",
    "    m.home_goal,\n",
    "    m.away_goal\n",
    "FROM match AS m\n",
    "\n",
    "-- Join the home subquery to the match table\n",
    "LEFT JOIN (\n",
    "  SELECT match.id, team.team_long_name AS hometeam\n",
    "  FROM match\n",
    "  LEFT JOIN team\n",
    "  ON match.hometeam_id = team.team_api_id) AS home\n",
    "ON home.id = m.id\n",
    "\n",
    "-- Join the away subquery to the match table\n",
    "LEFT JOIN (\n",
    "  SELECT match.id, team.team_long_name AS awayteam\n",
    "  FROM match\n",
    "  LEFT JOIN team\n",
    "  -- Get the away team ID in the subquery\n",
    "  ON match.awayteam_id = team.team_api_id) AS away\n",
    "ON away.id = m.id;\n",
    "```"
   ]
  },
  {
   "cell_type": "markdown",
   "metadata": {},
   "source": [
    "# Get team names with correlated subqueries"
   ]
  },
  {
   "cell_type": "markdown",
   "metadata": {},
   "source": [
    "Let's solve the same problem using correlated subqueries -- How do you get both the home and away team names into one final query result?\n",
    "\n",
    "This can easily be performed using correlated subqueries. But how might that impact the performance of your query? Complete the following steps and let's find out!\n",
    "\n",
    "Query will run more slowly than the previous exercise!"
   ]
  },
  {
   "cell_type": "markdown",
   "metadata": {},
   "source": [
    "```\n",
    "SELECT\n",
    "    m.date,\n",
    "    (SELECT team_long_name\n",
    "     FROM team AS t\n",
    "     WHERE t.team_api_id = m.hometeam_id) AS hometeam,\n",
    "    -- Connect the team to the match table\n",
    "    (SELECT team_long_name\n",
    "     FROM team AS t\n",
    "     WHERE t.team_api_id = m.awayteam_id) AS awayteam,\n",
    "    -- Select home and away goals\n",
    "     m.home_goal,\n",
    "     m.away_goal\n",
    "FROM match AS m;\n",
    "```"
   ]
  },
  {
   "cell_type": "markdown",
   "metadata": {},
   "source": [
    "# Get team names with CTEs"
   ]
  },
  {
   "cell_type": "markdown",
   "metadata": {},
   "source": [
    "How do you get both the home and away team names into one final query result?\n",
    "\n",
    "Let's explore the final method - common table expressions. Common table expressions are similar to the subquery method for generating results, mainly differing in syntax and the order in which information is processed."
   ]
  },
  {
   "cell_type": "markdown",
   "metadata": {},
   "source": [
    "```\n",
    "SELECT \n",
    "\t-- Select match id and team long name\n",
    "    m.id, \n",
    "    t.team_long_name AS hometeam\n",
    "FROM match AS m\n",
    "-- Join team to match using team_api_id and hometeam_id\n",
    "LEFT JOIN team AS t \n",
    "ON m.hometeam_id = t.team_api_id;\n",
    "```"
   ]
  },
  {
   "cell_type": "markdown",
   "metadata": {},
   "source": [
    "WITH CTE:"
   ]
  },
  {
   "cell_type": "markdown",
   "metadata": {},
   "source": [
    "```\n",
    "-- Declare the home CTE\n",
    "WITH home AS (\n",
    "\tSELECT m.id, t.team_long_name AS hometeam\n",
    "\tFROM match AS m\n",
    "\tLEFT JOIN team AS t \n",
    "\tON m.hometeam_id = t.team_api_id)\n",
    "-- Select everything from home\n",
    "SELECT *\n",
    "FROM home;\n",
    "```"
   ]
  },
  {
   "cell_type": "markdown",
   "metadata": {},
   "source": [
    "Finally:\n",
    "\n",
    "```\n",
    "WITH home AS (\n",
    "  SELECT m.id, m.date, \n",
    "  \t\t t.team_long_name AS hometeam, m.home_goal\n",
    "  FROM match AS m\n",
    "  LEFT JOIN team AS t \n",
    "  ON m.hometeam_id = t.team_api_id),\n",
    "-- Declare and set up the away CTE\n",
    "away AS (\n",
    "  SELECT m.id, m.date, \n",
    "  \t\t t.team_long_name AS awayteam, m.away_goal\n",
    "  FROM match AS m\n",
    "  LEFT JOIN team AS t \n",
    "  ON m.awayteam_id = t.team_api_id)\n",
    "-- Select date, home_goal, and away_goal\n",
    "SELECT \n",
    "\thome.date,\n",
    "    home.hometeam,\n",
    "    away.awayteam,\n",
    "    home.home_goal,\n",
    "    away.away_goal\n",
    "-- Join away and home on the id column\n",
    "FROM home\n",
    "INNER JOIN away\n",
    "ON home.id = away.id;\n",
    "```"
   ]
  },
  {
   "cell_type": "markdown",
   "metadata": {},
   "source": [
    "# Which technique to use?"
   ]
  },
  {
   "cell_type": "markdown",
   "metadata": {},
   "source": [
    "In many cases, you can use multiple techniques in SQL to answer the same question.\n",
    "\n",
    "Based on what you learned, which of the following statements are true regarding differences in the use and performance of multiple/nested subqueries, correlated subqueries, and common table expressions?"
   ]
  },
  {
   "cell_type": "markdown",
   "metadata": {},
   "source": [
    "- Common table expressions are declared first, improving query run time.\n",
    "- Correlated subqueries can allow you to circumvent multiple, complex joins.\n",
    "- Multiple or nested subqueries are processed first, before your main query."
   ]
  }
 ],
 "metadata": {
  "kernelspec": {
   "display_name": "Python 3.8.11 ('env_py')",
   "language": "python",
   "name": "python3"
  },
  "language_info": {
   "name": "python",
   "version": "3.8.11"
  },
  "orig_nbformat": 4,
  "vscode": {
   "interpreter": {
    "hash": "1e949e87132dd83f1a7623eb88007e3532b03b66b77111be347aa4a383049722"
   }
  }
 },
 "nbformat": 4,
 "nbformat_minor": 2
}

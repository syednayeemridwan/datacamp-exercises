{
 "cells": [
  {
   "cell_type": "markdown",
   "metadata": {},
   "source": [
    "# Tables vs. views"
   ]
  },
  {
   "cell_type": "markdown",
   "metadata": {},
   "source": [
    "Views have been described as \"virtual tables\". It's true that views are similar to tables in certain aspects, but there are key differences. "
   ]
  },
  {
   "cell_type": "markdown",
   "metadata": {},
   "source": [
    "<img src=\"images/03.02.jpg\" style=\"width:800px;height:300px;\">"
   ]
  },
  {
   "cell_type": "markdown",
   "metadata": {},
   "source": [
    "# Viewing views"
   ]
  },
  {
   "cell_type": "markdown",
   "metadata": {},
   "source": [
    "Because views are very useful, it's common to end up with many of them in your database. It's important to keep track of them so that database users know what is available to them."
   ]
  },
  {
   "cell_type": "markdown",
   "metadata": {},
   "source": [
    "```\n",
    "-- Get all non-systems views\n",
    "SELECT * FROM INFORMATION_SCHEMA.views\n",
    "WHERE table_schema NOT IN ('pg_catalog', 'information_schema');\n",
    "```"
   ]
  },
  {
   "cell_type": "markdown",
   "metadata": {},
   "source": [
    "### What does it do?"
   ]
  },
  {
   "cell_type": "markdown",
   "metadata": {},
   "source": [
    "```\n",
    "SELECT content.reviewid,\n",
    "    content.content\n",
    "   FROM content\n",
    "  WHERE (length(content.content) > 4000);\n",
    "```"
   ]
  },
  {
   "cell_type": "markdown",
   "metadata": {},
   "source": [
    "- Returns the content records that have reviews of more than 4000 characters."
   ]
  },
  {
   "cell_type": "markdown",
   "metadata": {},
   "source": [
    "### What does it do?"
   ]
  },
  {
   "cell_type": "markdown",
   "metadata": {},
   "source": [
    "```\n",
    " SELECT reviews.reviewid,\n",
    "    reviews.title,\n",
    "    reviews.score\n",
    "   FROM reviews\n",
    "  WHERE (reviews.pub_year = 2017)\n",
    "  ORDER BY reviews.score DESC\n",
    " LIMIT 10;\n",
    "```"
   ]
  },
  {
   "cell_type": "markdown",
   "metadata": {},
   "source": [
    "- Returns the top 10 highest scored reviews published in 2017."
   ]
  },
  {
   "cell_type": "markdown",
   "metadata": {},
   "source": [
    "# Creating and querying a view"
   ]
  },
  {
   "cell_type": "markdown",
   "metadata": {},
   "source": [
    "In these Pitchfork reviews, we're particularly interested in high-scoring reviews and if there's a common thread between the works that get high scores. You'll make a view to help with this analysis so that we don't have to type out the same query often to get these high-scoring reviews."
   ]
  },
  {
   "cell_type": "markdown",
   "metadata": {},
   "source": [
    "```\n",
    "-- Create a view for reviews with a score above 9\n",
    "CREATE VIEW high_scores AS\n",
    "SELECT * FROM REVIEWS\n",
    "WHERE score > 9;\n",
    "\n",
    "-- Count the number of self-released works in high_scores\n",
    "SELECT COUNT(*) FROM high_scores\n",
    "INNER JOIN labels ON high_scores.reviewid = labels.reviewid\n",
    "WHERE label = 'self-released';\n",
    "```"
   ]
  },
  {
   "cell_type": "markdown",
   "metadata": {},
   "source": [
    "# Creating a view from other views"
   ]
  },
  {
   "cell_type": "markdown",
   "metadata": {},
   "source": [
    "Views can be created from queries that include other views. This is useful when you have a complex schema, potentially due to normalization, because it helps reduce the JOINS needed. The biggest concern is keeping track of dependencies, specifically how any modifying or dropping of a view may affect other views."
   ]
  },
  {
   "cell_type": "markdown",
   "metadata": {},
   "source": [
    "```\n",
    "-- Create a view with the top artists in 2017\n",
    "CREATE VIEW top_artists_2017 AS\n",
    "-- with only one column holding the artist field\n",
    "SELECT artist_title.artist FROM artist_title\n",
    "INNER JOIN top_15_2017\n",
    "ON artist_title.reviewid = top_15_2017.reviewid;\n",
    "\n",
    "-- Output the new view\n",
    "SELECT * FROM top_artists_2017;\n",
    "```"
   ]
  },
  {
   "cell_type": "markdown",
   "metadata": {},
   "source": [
    "### Which is the `DROP` command that would drop both `top_15_2017` and `top_artists_2017`?\n",
    "- `DROP VIEW top_15_2017 CASCADE;`"
   ]
  },
  {
   "cell_type": "markdown",
   "metadata": {},
   "source": [
    "# Granting and revoking access"
   ]
  },
  {
   "cell_type": "markdown",
   "metadata": {},
   "source": [
    "Access control is a key aspect of database management. Not all database users have the same needs and goals, from analysts, clerks, data scientists, to data engineers. As a general rule of thumb, write access should never be the default and only be given when necessary."
   ]
  },
  {
   "cell_type": "markdown",
   "metadata": {},
   "source": [
    "```\n",
    "-- Revoke everyone's update and insert privileges\n",
    "REVOKE INSERT, UPDATE ON long_reviews FROM PUBLIC; \n",
    "\n",
    "-- Grant the editor update and insert privileges \n",
    "GRANT INSERT, UPDATE ON long_reviews TO editor; \n",
    "```"
   ]
  },
  {
   "cell_type": "markdown",
   "metadata": {},
   "source": [
    "# Updatable views"
   ]
  },
  {
   "cell_type": "markdown",
   "metadata": {},
   "source": [
    "we've used the `information_schema.views` to get all the views in a database. If you take a closer look at this table, you will notice a column that indicates whether the view is updatable."
   ]
  },
  {
   "cell_type": "markdown",
   "metadata": {},
   "source": [
    "```\n",
    "SELECT * FROM information_schema.views \n",
    "WHERE\n",
    "is_updatable = 'YES'\n",
    "```"
   ]
  },
  {
   "cell_type": "markdown",
   "metadata": {},
   "source": [
    "# Redefining a view"
   ]
  },
  {
   "cell_type": "markdown",
   "metadata": {},
   "source": [
    "Unlike inserting and updating, redefining a view doesn't mean modifying the actual data a view holds. Rather, it means modifying the underlying query that makes the view. "
   ]
  },
  {
   "cell_type": "markdown",
   "metadata": {},
   "source": [
    "The artist_title view needs to be appended to include a column for the label field from the labels table. Can the CREATE OR REPLACE statement be used to redefine the artist_title view?\n",
    "- Yes, as long as the label column comes at the end."
   ]
  },
  {
   "cell_type": "markdown",
   "metadata": {},
   "source": [
    "```\n",
    "-- Redefine the artist_title view to have a label column\n",
    "CREATE OR REPLACE VIEW artist_title AS\n",
    "SELECT reviews.reviewid, reviews.title, artists.artist, labels.label\n",
    "FROM reviews\n",
    "INNER JOIN artists\n",
    "ON reviews.reviewid = artists.reviewid\n",
    "INNER JOIN labels\n",
    "ON reviews.reviewid = labels.reviewid;\n",
    "\n",
    "SELECT * FROM artist_title;\n",
    "```"
   ]
  },
  {
   "cell_type": "markdown",
   "metadata": {},
   "source": [
    "# Materialized versus non-materialized"
   ]
  },
  {
   "cell_type": "markdown",
   "metadata": {},
   "source": [
    "Materialized and non-materialized are two distinct categories of views."
   ]
  },
  {
   "cell_type": "markdown",
   "metadata": {},
   "source": [
    "<img src=\"images/03.11.jpg\" style=\"width:800px;height:300px;\">\n"
   ]
  },
  {
   "cell_type": "markdown",
   "metadata": {},
   "source": [
    "# Creating and refreshing a materialized view"
   ]
  },
  {
   "cell_type": "markdown",
   "metadata": {},
   "source": [
    "The syntax for creating materialized and non-materialized views are quite similar because they are both defined by a query. One key difference is that we can refresh materialized views, while no such concept exists for non-materialized views. It's important to know how to refresh a materialized view, otherwise the view will remain a snapshot of the time the view was created."
   ]
  },
  {
   "cell_type": "markdown",
   "metadata": {},
   "source": [
    "```\n",
    "-- Create a materialized view called genre_count \n",
    "CREATE MATERIALIZED VIEW genre_count AS\n",
    "SELECT genre, COUNT(*) \n",
    "FROM genres\n",
    "GROUP BY genre;\n",
    "\n",
    "INSERT INTO genres\n",
    "VALUES (50000, 'classical');\n",
    "\n",
    "-- Refresh genre_count\n",
    "REFRESH MATERIALIZED VIEW genre_count;\n",
    "\n",
    "SELECT * FROM genre_count;\n",
    "```"
   ]
  },
  {
   "cell_type": "markdown",
   "metadata": {},
   "source": [
    "# Managing materialized views"
   ]
  },
  {
   "cell_type": "markdown",
   "metadata": {},
   "source": [
    "Why do companies use pipeline schedulers, such as Airflow and Luigi, to manage materialized views?\n",
    "- To refresh materialized views with consideration to dependences between views. These pipeline schedulers help visualize dependencies and create a logical order for refreshing views."
   ]
  }
 ],
 "metadata": {
  "kernelspec": {
   "display_name": "Python 3.8.3 ('base')",
   "language": "python",
   "name": "python3"
  },
  "language_info": {
   "name": "python",
   "version": "3.8.3"
  },
  "orig_nbformat": 4,
  "vscode": {
   "interpreter": {
    "hash": "dc575bfddb5c8ca4bb6a4f4dcdd32abc104b5fa4177361381c432fff36ce3e46"
   }
  }
 },
 "nbformat": 4,
 "nbformat_minor": 2
}

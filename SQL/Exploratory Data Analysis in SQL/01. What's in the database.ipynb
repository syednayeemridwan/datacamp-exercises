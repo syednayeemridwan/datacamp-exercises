{
 "cells": [
  {
   "cell_type": "markdown",
   "metadata": {},
   "source": [
    "# Explore table sizes"
   ]
  },
  {
   "cell_type": "markdown",
   "metadata": {},
   "source": [
    "Let's start by exploring five related tables:\n",
    "\n",
    "- `stackoverflow`: questions asked on Stack Overflow with certain tags\n",
    "- `company`: information on companies related to tags in stackoverflow\n",
    "- `tag_company`: links stackoverflow to company\n",
    "- `tag_type`: type categories applied to tags in stackoverflow\n",
    "- `fortune500`: information on top US companies\n",
    "\n",
    "Count the number of rows in a table with\n",
    "\n",
    "`SELECT count(*) FROM tablename;`\n",
    "\n",
    "Count the number of columns in a table by selecting a few rows and manually counting the columns in the result.\n",
    "\n",
    "Which table has the most rows? Which table has the most columns?"
   ]
  },
  {
   "cell_type": "markdown",
   "metadata": {},
   "source": [
    "- `stackoverflow` has the most rows; `fortune500` has the most columns"
   ]
  },
  {
   "cell_type": "markdown",
   "metadata": {},
   "source": [
    "# Count missing values"
   ]
  },
  {
   "cell_type": "markdown",
   "metadata": {},
   "source": [
    "Which column of `fortune500` has the most missing values? To find out, you'll need to check each column individually, although here we'll check just three.\n",
    "\n",
    "Course Note: While you're unlikely to encounter this issue during this exercise, note that if you run a query that takes more than a few seconds to execute, your session may expire or you may be disconnected from the server. You will not have this issue with any of the exercise solutions, so if your session expires or disconnects, there's an error with your query."
   ]
  },
  {
   "cell_type": "markdown",
   "metadata": {},
   "source": [
    "```\n",
    "-- Select the count of the number of rows\n",
    "SELECT COUNT(*)\n",
    "  FROM fortune500;\n",
    "\n",
    "\n",
    "-- Select the count of ticker, \n",
    "-- subtract from the total number of rows, \n",
    "-- and alias as missing\n",
    "SELECT count(*) - COUNT(ticker) AS missing\n",
    "  FROM fortune500;\n",
    "\n",
    "-- Select the count of profits_change, \n",
    "-- subtract from total number of rows, and alias as missing\n",
    "SELECT COUNT(*) - COUNT(profits_change) AS missing\n",
    "FROM fortune500\n",
    "\n",
    "-- Select the count of industry, \n",
    "-- subtract from total number of rows, and alias as missing\n",
    "SELECT COUNT(*) - COUNT(industry) AS missing\n",
    "FROM fortune500\n",
    "```"
   ]
  },
  {
   "cell_type": "markdown",
   "metadata": {},
   "source": [
    "# Join tables"
   ]
  },
  {
   "cell_type": "markdown",
   "metadata": {},
   "source": [
    "Part of exploring a database is figuring out how tables relate to each other. The `company` and `fortune500` tables don't have a formal relationship between them in the database, but this doesn't prevent you from joining them.\n",
    "\n",
    "To join the tables, you need to find a column that they have in common where the values are consistent across the tables. Remember: just because two tables have a column with the same name, it doesn't mean those columns necessarily contain compatible data. If you find more than one pair of columns with similar data, you may need to try joining with each in turn to see if you get the same number of results.\n",
    "\n",
    "Reference the entity relationship diagram if needed.\n",
    "<center><img src=\"images/01.02.jpg\"  style=\"width: 400px, height: 300px;\"/></center>\n"
   ]
  },
  {
   "cell_type": "markdown",
   "metadata": {},
   "source": [
    "```\n",
    "SELECT company.name\n",
    "-- Table(s) to select from\n",
    "  FROM company\n",
    "       INNER JOIN fortune500\n",
    "       ON company.ticker=fortune500.ticker;\n",
    "```"
   ]
  },
  {
   "cell_type": "markdown",
   "metadata": {},
   "source": [
    "# Foreign keys"
   ]
  },
  {
   "cell_type": "markdown",
   "metadata": {},
   "source": [
    "Recall that foreign keys reference another row in the database via a unique ID. Values in a foreign key column are restricted to values in the referenced column OR `NULL`.\n",
    "\n",
    "Using what you know about foreign keys, why can't the `tag` column in the `tag_type` table be a foreign key that references the `tag` column in the `stackoverflow` table?\n",
    "\n",
    "Remember, you can reference the slides using the icon in the upper right of the screen to review the requirements for a foreign key."
   ]
  },
  {
   "cell_type": "markdown",
   "metadata": {},
   "source": [
    "- `stackoverflow`.`tag` contains duplicate values"
   ]
  },
  {
   "cell_type": "markdown",
   "metadata": {},
   "source": [
    "# Read an entity relationship diagram"
   ]
  },
  {
   "cell_type": "markdown",
   "metadata": {},
   "source": [
    "The information you need is sometimes split across multiple tables in the database.\n",
    "\n",
    "What is the most common `stackoverflow` `tag_type`? What companies have a `tag` of that `type`?\n",
    "\n",
    "To generate a list of such companies, you'll need to join three tables together.\n",
    "\n",
    "Reference the entity relationship diagram as needed when determining which columns to use when joining tables."
   ]
  },
  {
   "cell_type": "markdown",
   "metadata": {},
   "source": [
    "```\n",
    "-- Count the number of tags with each type\n",
    "SELECT type, COUNT(tag) AS count\n",
    "  FROM tag_type\n",
    " -- To get the count for each type, what do you need to do?\n",
    " GROUP BY type\n",
    " -- Order the results with the most common\n",
    " -- tag types listed first\n",
    " ORDER BY count DESC;\n",
    "\n",
    "\n",
    " -- Select the 3 columns desired\n",
    "SELECT company.name, tag_type.tag, tag_type.type\n",
    "  FROM company\n",
    "  \t   -- Join to the tag_company table\n",
    "       INNER JOIN tag_company \n",
    "       ON company.id = tag_company.company_id\n",
    "       -- Join to the tag_type table\n",
    "       INNER JOIN tag_type\n",
    "       ON tag_company.tag = tag_type.tag\n",
    "  -- Filter to most common type\n",
    "  WHERE type='cloud';\n",
    "```"
   ]
  },
  {
   "cell_type": "markdown",
   "metadata": {},
   "source": [
    "# Coalesce"
   ]
  },
  {
   "cell_type": "markdown",
   "metadata": {},
   "source": [
    "The `coalesce()` function can be useful for specifying a default or backup value when a column contains `NULL` values.\n",
    "\n",
    "`coalesce()` checks arguments in order and returns the first non-NULL value, if one exists.\n",
    "\n",
    "- `coalesce(NULL, 1, 2) = 1`\n",
    "- `coalesce(NULL, NULL) = NULL`\n",
    "- `coalesce(2, 3, NULL) = 2`\n",
    "\n",
    "In the `fortune500` data, `industry` contains some missing values. Use `coalesce()` to use the value of `sector` as the `industry` when `industry` is `NULL`. Then find the most common `industry`."
   ]
  },
  {
   "cell_type": "markdown",
   "metadata": {},
   "source": [
    "```\n",
    "-- Use coalesce\n",
    "SELECT COALESCE(industry, sector, 'Unknown') AS industry2,\n",
    "       -- Don't forget to count!\n",
    "       COUNT(*) \n",
    "  FROM fortune500 \n",
    "-- Group by what? (What are you counting by?)\n",
    " GROUP BY industry2\n",
    "-- Order results to see most common first\n",
    " ORDER BY COUNT DESC\n",
    "-- Limit results to get just the one value you want\n",
    " LIMIT 1;\n",
    "```"
   ]
  },
  {
   "cell_type": "markdown",
   "metadata": {},
   "source": [
    "# Coalesce with a self-join"
   ]
  },
  {
   "cell_type": "markdown",
   "metadata": {},
   "source": [
    "You previously joined the `company` and `fortune500` tables to find out which companies are in both tables. Now, also include companies from company that are subsidiaries of Fortune 500 companies as well.\n",
    "\n",
    "To include subsidiaries, you will need to join company to itself to associate a subsidiary with its parent company's information. To do this self-join, use two different aliases for company.\n",
    "\n",
    "`coalesce` will help you combine the two `ticker` columns in the result of the self-join to join to `fortune500`."
   ]
  },
  {
   "cell_type": "markdown",
   "metadata": {},
   "source": [
    "```\n",
    "SELECT  company_original.name, title, rank\n",
    "  -- Start with original company information\n",
    "  FROM company AS company_original\n",
    "       -- Join to another copy of company with parent\n",
    "       -- company information\n",
    "\t   LEFT JOIN company AS company_parent\n",
    "       ON company_original.parent_id = company_parent.id \n",
    "       -- Join to fortune500, only keep rows that match\n",
    "       inner JOIN fortune500 \n",
    "       -- Use parent ticker if there is one, \n",
    "       -- otherwise original ticker\n",
    "       ON coalesce(company_original.ticker, \n",
    "                   company_parent.ticker) = \n",
    "             fortune500.ticker\n",
    " -- For clarity, order by rank\n",
    " ORDER BY rank; \n",
    "```"
   ]
  },
  {
   "cell_type": "markdown",
   "metadata": {},
   "source": [
    "# Effects of casting"
   ]
  },
  {
   "cell_type": "markdown",
   "metadata": {},
   "source": [
    "When you cast data from one type to another, information can be lost or changed. See how the casting changes values and practice casting data using the CAST() function and the :: syntax.\n",
    "```\n",
    "SELECT CAST(value AS new_type);\n",
    "\n",
    "SELECT value::new_type;\n",
    "```"
   ]
  },
  {
   "cell_type": "markdown",
   "metadata": {},
   "source": [
    "```\n",
    "-- Select the original value\n",
    "SELECT profits_change, \n",
    "\t   -- Cast profits_change\n",
    "       CAST(profits_change AS INTEGER) AS profits_change_int\n",
    "  FROM fortune500;\n",
    "\n",
    "-- Divide 10 by 3\n",
    "SELECT 10/3, \n",
    "       -- Cast 10 as numeric and divide by 3\n",
    "       10::numeric/3;\n",
    "\n",
    "\n",
    "SELECT '3.2'::numeric,\n",
    "       '-123'::numeric,\n",
    "       '1e3'::numeric,\n",
    "       '1e-3'::numeric,\n",
    "       '02314'::numeric,\n",
    "       '0002'::numeric;\n",
    "\n",
    "\n",
    "```"
   ]
  },
  {
   "cell_type": "markdown",
   "metadata": {},
   "source": [
    "# Summarize the distribution of numeric values"
   ]
  },
  {
   "cell_type": "markdown",
   "metadata": {},
   "source": [
    "Was 2017 a good or bad year for revenue of Fortune 500 companies? Examine how revenue changed from 2016 to 2017 by first looking at the distribution of `revenues_change` and then counting companies whose revenue increased."
   ]
  },
  {
   "cell_type": "markdown",
   "metadata": {},
   "source": [
    "```\n",
    "-- Select the count of each value of revenues_change\n",
    "SELECT revenues_change, COUNT(*)\n",
    "  FROM fortune500\n",
    "GROUP BY revenues_change\n",
    " -- order by the values of revenues_change\n",
    " ORDER BY revenues_change;\n",
    "\n",
    "\n",
    "-- Select the count of each revenues_change integer value\n",
    "SELECT revenues_change::integer, COUNT(*)\n",
    "  FROM fortune500\n",
    "GROUP BY revenues_change::integer\n",
    " -- order by the values of revenues_change\n",
    " ORDER BY revenues_change::integer;\n",
    "\n",
    "-- Count rows \n",
    "SELECT COUNT(*)\n",
    "  FROM fortune500\n",
    " -- Where...\n",
    " WHERE revenues_change > 0;\n",
    "```"
   ]
  }
 ],
 "metadata": {
  "kernelspec": {
   "display_name": "Python 3.8.11 ('env_py')",
   "language": "python",
   "name": "python3"
  },
  "language_info": {
   "name": "python",
   "version": "3.8.11"
  },
  "orig_nbformat": 4,
  "vscode": {
   "interpreter": {
    "hash": "1e949e87132dd83f1a7623eb88007e3532b03b66b77111be347aa4a383049722"
   }
  }
 },
 "nbformat": 4,
 "nbformat_minor": 2
}

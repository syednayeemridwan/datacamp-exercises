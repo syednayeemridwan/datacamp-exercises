{
 "cells": [
  {
   "cell_type": "markdown",
   "metadata": {},
   "source": [
    "# Count the categories"
   ]
  },
  {
   "cell_type": "markdown",
   "metadata": {},
   "source": [
    "In this chapter, we'll be working mostly with the Evanston 311 data in table `evanston311`. This is data on help requests submitted to the city of Evanston, IL.\n",
    "\n",
    "This data has several character columns. Start by examining the most frequent values in some of these columns to get familiar with the common categories."
   ]
  },
  {
   "cell_type": "markdown",
   "metadata": {},
   "source": [
    "```\n",
    "-- Select the count of each level of priority\n",
    "SELECT priority, COUNT(*)\n",
    "  FROM evanston311\n",
    " GROUP BY priority;\n",
    "```"
   ]
  },
  {
   "cell_type": "markdown",
   "metadata": {},
   "source": [
    "```\n",
    "-- Find values of zip that appear in at least 100 rows\n",
    "-- Also get the count of each value\n",
    "SELECT DISTINCT zip, COUNT(*)\n",
    "  FROM evanston311\n",
    " GROUP BY zip\n",
    "HAVING COUNT(*) >=100; \n",
    "```"
   ]
  },
  {
   "cell_type": "markdown",
   "metadata": {},
   "source": [
    "```\n",
    "-- Find values of source that appear in at least 100 rows\n",
    "-- Also get the count of each value\n",
    "SELECT DISTINCT source, COUNT(*)\n",
    "  FROM evanston311\n",
    " GROUP BY source\n",
    "HAVING COUNT(*)>=100;\n",
    "```"
   ]
  },
  {
   "cell_type": "markdown",
   "metadata": {},
   "source": [
    "```\n",
    "-- Find the 5 most common values of street and the count of each\n",
    "SELECT street, COUNT(*)\n",
    "  FROM evanston311\n",
    " GROUP BY street\n",
    " ORDER BY count DESC\n",
    " LIMIT 5;\n",
    "```"
   ]
  },
  {
   "cell_type": "markdown",
   "metadata": {},
   "source": [
    "# Spotting character data problems"
   ]
  },
  {
   "cell_type": "markdown",
   "metadata": {},
   "source": [
    "Explore the distinct values of the `street` column. Select each street value and the count of the number of rows with that value. Sort the results by street to see similar values near each other.\n",
    "\n",
    "Look at the results.\n",
    "\n",
    "Which of the following is NOT an issue you see with the values of `street`?"
   ]
  },
  {
   "cell_type": "markdown",
   "metadata": {},
   "source": [
    "- There are sometimes extra spaces at the beginning and end of values (You could verify this with a `LIKE` query.)"
   ]
  },
  {
   "cell_type": "markdown",
   "metadata": {},
   "source": [
    "# Trimming"
   ]
  },
  {
   "cell_type": "markdown",
   "metadata": {},
   "source": [
    "Some of the `street` values in `evanston311` include house numbers with `#` or `/` in them. In addition, some street values end in a `.`.\n",
    "\n",
    "Remove the house numbers, extra punctuation, and any spaces from the beginning and end of the `street` values as a first attempt at cleaning up the values."
   ]
  },
  {
   "cell_type": "markdown",
   "metadata": {},
   "source": [
    "```\n",
    "SELECT distinct street,\n",
    "       -- Trim off unwanted characters from street\n",
    "       trim(street, '0123456789 #/.') AS cleaned_street\n",
    "  FROM evanston311\n",
    " ORDER BY street;\n",
    "```"
   ]
  },
  {
   "cell_type": "markdown",
   "metadata": {},
   "source": [
    "# Exploring unstructured text"
   ]
  },
  {
   "cell_type": "markdown",
   "metadata": {},
   "source": [
    "The `description` column of `evanston311` has the details of the inquiry, while the category column groups inquiries into different types. How well does the category capture what's in the `description`?\n",
    "\n",
    "`LIKE` and `ILIKE` queries will help you find relevant `descriptions` and categories. Remember that with `LIKE` queries, you can include a `%` on each side of a word to find values that contain the word. For example:\n",
    "```\n",
    "SELECT category\n",
    "  FROM evanston311\n",
    " WHERE category LIKE '%Taxi%';\n",
    " ```\n",
    "`%` matches 0 or more characters.\n",
    "\n",
    "Building up the query through the steps below, find inquires that mention trash or garbage in the `description` without trash or garbage being in the category. What are the most frequent categories for such inquiries?"
   ]
  },
  {
   "cell_type": "markdown",
   "metadata": {},
   "source": [
    "```\n",
    "-- Count rows\n",
    "SELECT COUNT(*)\n",
    "  FROM evanston311\n",
    " -- Where description includes trash or garbage\n",
    " WHERE description ILIKE '%trash%'\n",
    "    OR description ILIKE '%garbage%';\n",
    "```"
   ]
  },
  {
   "cell_type": "markdown",
   "metadata": {},
   "source": [
    "```\n",
    "-- Select categories containing Trash or Garbage\n",
    "SELECT category\n",
    "  FROM evanston311\n",
    " -- Use LIKE\n",
    " WHERE category LIKE '%Trash%'\n",
    "    OR category LIKE '%Garbage%';\n",
    "```"
   ]
  },
  {
   "cell_type": "markdown",
   "metadata": {},
   "source": [
    "```\n",
    "-- Count rows\n",
    "SELECT COUNT(*)\n",
    "  FROM evanston311 \n",
    " -- description contains trash or garbage (any case)\n",
    " WHERE (description ILIKE '%trash%'\n",
    "    OR description ILIKE '%garbage%') \n",
    " -- category does not contain Trash or Garbage\n",
    "   AND category NOT LIKE '%Trash%'\n",
    "   AND category NOT LIKE '%Garbage%';\n",
    "```"
   ]
  },
  {
   "cell_type": "markdown",
   "metadata": {},
   "source": [
    "```\n",
    "-- Count rows with each category\n",
    "SELECT category, COUNT(*)\n",
    "  FROM evanston311 \n",
    " WHERE (description ILIKE '%trash%'\n",
    "    OR description ILIKE '%garbage%') \n",
    "   AND category NOT LIKE '%Trash%'\n",
    "   AND category NOT LIKE '%Garbage%'\n",
    " -- What are you counting?\n",
    " GROUP BY category\n",
    " --- order by most frequent values\n",
    " ORDER BY count DESC\n",
    " LIMIT 10;\n",
    "```"
   ]
  },
  {
   "cell_type": "markdown",
   "metadata": {},
   "source": [
    "# Concatenate strings"
   ]
  },
  {
   "cell_type": "markdown",
   "metadata": {},
   "source": [
    "House number (`house_num`) and `street` are in two separate columns in `evanston311`. Concatenate them together with `concat()` with a space in between the values."
   ]
  },
  {
   "cell_type": "markdown",
   "metadata": {},
   "source": [
    "```\n",
    "-- Concatenate house_num, a space, and street\n",
    "-- and trim spaces from the start of the result\n",
    "SELECT TRIM(CONCAT(house_num,' ', street)) AS address\n",
    "  FROM evanston311;\n",
    "```"
   ]
  },
  {
   "cell_type": "markdown",
   "metadata": {},
   "source": [
    "# Split strings on a delimiter"
   ]
  },
  {
   "cell_type": "markdown",
   "metadata": {},
   "source": [
    "The `street` suffix is the part of the street name that gives the type of street, such as Avenue, Road, or Street. In the Evanston 311 data, sometimes the street suffix is the full word, while other times it is the abbreviation.\n",
    "\n",
    "Extract just the first word of each `street` value to find the most common streets regardless of the suffix.\n",
    "\n",
    "To do this, use\n",
    "\n",
    "`split_part(string_to_split, delimiter, part_number)`"
   ]
  },
  {
   "cell_type": "markdown",
   "metadata": {},
   "source": [
    "```\n",
    "-- Select the first word of the street value\n",
    "SELECT SPLIT_PART(street, ' ', 1) AS street_name, \n",
    "       count(*)\n",
    "  FROM evanston311\n",
    " GROUP BY street_name\n",
    " ORDER BY count DESC\n",
    " LIMIT 20;\n",
    "```"
   ]
  },
  {
   "cell_type": "markdown",
   "metadata": {},
   "source": [
    "# Shorten long strings"
   ]
  },
  {
   "cell_type": "markdown",
   "metadata": {},
   "source": [
    "The `description` column of `evanston311` can be very long. You can get the length of a string with the `length()` function.\n",
    "\n",
    "For displaying or quickly reviewing the data, you might want to only display the first few characters. You can use the `left()` function to get a specified number of characters at the start of each value.\n",
    "\n",
    "To indicate that more data is available, concatenate '...' to the end of any shortened `description`. To do this, you can use a CASE WHEN statement to add '...' only when the string length is greater than 50.\n",
    "\n",
    "Select the first 50 characters of `description` when `description` starts with the word \"I\"."
   ]
  },
  {
   "cell_type": "markdown",
   "metadata": {},
   "source": [
    "```\n",
    "-- Select the first 50 chars when length is greater than 50\n",
    "SELECT CASE WHEN length(description) > 50\n",
    "            THEN LEFT(description, 50) || '...'\n",
    "       -- otherwise just select description\n",
    "       ELSE description\n",
    "       END\n",
    "  FROM evanston311\n",
    " -- limit to descriptions that start with the word I\n",
    " WHERE description LIKE 'I %'\n",
    " ORDER BY description;\n",
    "```"
   ]
  },
  {
   "cell_type": "markdown",
   "metadata": {},
   "source": [
    "# Create an \"other\" category"
   ]
  },
  {
   "cell_type": "markdown",
   "metadata": {},
   "source": [
    "If we want to summarize Evanston 311 requests by zip code, it would be useful to group all of the low frequency zip codes together in an \"other\" category.\n",
    "\n",
    "Which of the following values, when substituted for `???` in the query, would give the result below?\n",
    "\n",
    "Query:\n",
    "```\n",
    "SELECT CASE WHEN zipcount < ??? THEN 'other'\n",
    "       ELSE zip\n",
    "       END AS zip_recoded,\n",
    "       sum(zipcount) AS zipsum\n",
    "  FROM (SELECT zip, count(*) AS zipcount\n",
    "          FROM evanston311\n",
    "         GROUP BY zip) AS fullcounts\n",
    " GROUP BY zip_recoded\n",
    " ORDER BY zipsum DESC;\n",
    "```\n",
    "Result:\n",
    "```\n",
    "zip_recoded    zipsum\n",
    "60201          19054\n",
    "60202          11165\n",
    "null           5528\n",
    "other          429\n",
    "60208          255\n",
    "```"
   ]
  },
  {
   "cell_type": "markdown",
   "metadata": {},
   "source": [
    "- 100"
   ]
  },
  {
   "cell_type": "markdown",
   "metadata": {},
   "source": [
    "# Group and recode values"
   ]
  },
  {
   "cell_type": "markdown",
   "metadata": {},
   "source": [
    "There are almost 150 distinct values of `evanston311.category`. But some of these categories are similar, with the form \"Main Category - Details\". We can get a better sense of what requests are common if we aggregate by the main category.\n",
    "\n",
    "To do this, create a temporary table `recode` mapping distinct `category` values to new, `standardized` values. Make the `standardized` values the part of the category before a dash ('-'). Extract this value with the `split_part()` function:\n",
    "\n",
    "`split_part(string text, delimiter text, field int)`\n",
    "You'll also need to do some additional cleanup of a few cases that don't fit this pattern.\n",
    "\n",
    "Then the `evanston311` table can be joined to `recode` to group requests by the new `standardized` category values."
   ]
  },
  {
   "cell_type": "markdown",
   "metadata": {},
   "source": [
    "```\n",
    "-- Fill in the command below with the name of the temp table\n",
    "DROP TABLE IF EXISTS recode;\n",
    "\n",
    "-- Create and name the temporary table\n",
    "CREATE TEMP TABLE recode AS\n",
    "-- Write the select query to generate the table \n",
    "-- with distinct values of category and standardized values\n",
    "  SELECT DISTINCT category, \n",
    "         RTRIM(SPLIT_PART(category, '-', 1)) AS standardized\n",
    "    -- What table are you selecting the above values from?\n",
    "    FROM evanston311;\n",
    "    \n",
    "-- Look at a few values before the next step\n",
    "SELECT DISTINCT standardized \n",
    "  FROM recode\n",
    " WHERE standardized LIKE 'Trash%Cart'\n",
    "    OR standardized LIKE 'Snow%Removal%';\n",
    "```"
   ]
  },
  {
   "cell_type": "markdown",
   "metadata": {},
   "source": [
    "```\n",
    "-- Code from previous step\n",
    "DROP TABLE IF EXISTS recode;\n",
    "\n",
    "CREATE TEMP TABLE recode AS\n",
    "  SELECT DISTINCT category, \n",
    "         rtrim(split_part(category, '-', 1)) AS standardized\n",
    "    FROM evanston311;\n",
    "\n",
    "-- Update to group trash cart values\n",
    "UPDATE recode \n",
    "   SET standardized='Trash Cart' \n",
    " WHERE standardized LIKE 'Trash%Cart';\n",
    "\n",
    "-- Update to group snow removal values\n",
    "UPDATE recode \n",
    "   SET standardized='Snow Removal' \n",
    "  WHERE standardized LIKE 'Snow%Removal%';\n",
    "    \n",
    "-- Examine effect of updates\n",
    "SELECT DISTINCT standardized \n",
    "  FROM recode\n",
    " WHERE standardized LIKE 'Trash%Cart'\n",
    "    OR standardized LIKE 'Snow%Removal%';\n",
    "```"
   ]
  },
  {
   "cell_type": "markdown",
   "metadata": {},
   "source": [
    "```\n",
    "-- Code from previous step\n",
    "DROP TABLE IF EXISTS recode;\n",
    "\n",
    "CREATE TEMP TABLE recode AS\n",
    "  SELECT DISTINCT category, \n",
    "         rtrim(split_part(category, '-', 1)) AS standardized\n",
    "    FROM evanston311;\n",
    "  \n",
    "UPDATE recode SET standardized='Trash Cart' \n",
    " WHERE standardized LIKE 'Trash%Cart';\n",
    "\n",
    "UPDATE recode SET standardized='Snow Removal' \n",
    " WHERE standardized LIKE 'Snow%Removal%';\n",
    "\n",
    "-- Update to group unused/inactive values\n",
    "UPDATE recode \n",
    "   SET standardized='UNUSED' \n",
    " WHERE standardized IN ('THIS REQUEST IS INACTIVE...Trash Cart', \n",
    "               '(DO NOT USE) Water Bill',\n",
    "               'DO NOT USE Trash', \n",
    "               'NO LONGER IN USE');\n",
    "\n",
    "-- Examine effect of updates\n",
    "SELECT DISTINCT standardized \n",
    "  FROM recode\n",
    " ORDER BY standardized;\n",
    "```"
   ]
  },
  {
   "cell_type": "markdown",
   "metadata": {},
   "source": [
    "```\n",
    "-- Code from previous step\n",
    "DROP TABLE IF EXISTS recode;\n",
    "CREATE TEMP TABLE recode AS\n",
    "  SELECT DISTINCT category, \n",
    "         rtrim(split_part(category, '-', 1)) AS standardized\n",
    "  FROM evanston311;\n",
    "UPDATE recode SET standardized='Trash Cart' \n",
    " WHERE standardized LIKE 'Trash%Cart';\n",
    "UPDATE recode SET standardized='Snow Removal' \n",
    " WHERE standardized LIKE 'Snow%Removal%';\n",
    "UPDATE recode SET standardized='UNUSED' \n",
    " WHERE standardized IN ('THIS REQUEST IS INACTIVE...Trash Cart', \n",
    "               '(DO NOT USE) Water Bill',\n",
    "               'DO NOT USE Trash', 'NO LONGER IN USE');\n",
    "\n",
    "-- Select the recoded categories and the count of each\n",
    "SELECT standardized, COUNT(*)\n",
    "-- From the original table and table with recoded values\n",
    "  FROM evanston311 \n",
    "       INNER JOIN recode \n",
    "       -- What column do they have in common?\n",
    "       ON evanston311.category=recode.category \n",
    " -- What do you need to group by to count?\n",
    " GROUP BY standardized\n",
    " -- Display the most common val values first\n",
    " ORDER BY COUNT DESC;\n",
    "```"
   ]
  },
  {
   "cell_type": "markdown",
   "metadata": {},
   "source": [
    "# Create a table with indicator variables"
   ]
  },
  {
   "cell_type": "markdown",
   "metadata": {},
   "source": [
    "Determine whether medium and high priority requests in the `evanston311` data are more likely to contain requesters' contact information: an email address or phone number.\n",
    "\n",
    "- Emails contain an @.\n",
    "- Phone numbers have the pattern of three characters, dash, three characters, dash, four characters. For example: 555-555-1212.\n",
    "\n",
    "Use `LIKE` to match these patterns. Remember % matches any number of characters (even 0), and _ matches a single character. Enclosing a pattern in % (i.e. before and after your pattern) allows you to locate it within other text.\n",
    "\n",
    "For example, `'%___.com%'` would allow you to search for a reference to a website with the top-level domain `'.com'` and at least three characters preceding it.\n",
    "\n",
    "Create and store indicator variables for email and phone in a temporary table. `LIKE` produces True or False as a result, but casting a boolean (True or False) as an `integer` converts True to 1 and False to 0. This makes the values easier to summarize later."
   ]
  },
  {
   "cell_type": "markdown",
   "metadata": {},
   "source": [
    "```\n",
    "-- To clear table if it already exists\n",
    "DROP TABLE IF EXISTS indicators;\n",
    "\n",
    "-- Create the indicators temp table\n",
    "CREATE TEMP TABLE indicators AS\n",
    "  -- Select id\n",
    "  SELECT id, \n",
    "         -- Create the email indicator (find @)\n",
    "         CAST (description LIKE '%@%' AS integer) AS email,\n",
    "         -- Create the phone indicator\n",
    "         CAST (description LIKE '%___-___-____%' AS integer) AS phone \n",
    "    -- What table contains the data? \n",
    "    FROM evanston311;\n",
    "\n",
    "-- Inspect the contents of the new temp table\n",
    "SELECT *\n",
    "  FROM indicators;\n",
    "```"
   ]
  },
  {
   "cell_type": "markdown",
   "metadata": {},
   "source": [
    "```\n",
    "-- To clear table if it already exists\n",
    "DROP TABLE IF EXISTS indicators;\n",
    "\n",
    "-- Create the temp table\n",
    "CREATE TEMP TABLE indicators AS\n",
    "  SELECT id, \n",
    "         CAST (description LIKE '%@%' AS integer) AS email,\n",
    "         CAST (description LIKE '%___-___-____%' AS integer) AS phone \n",
    "    FROM evanston311;\n",
    "  \n",
    "-- Select the column you'll group by\n",
    "SELECT priority,\n",
    "       -- Compute the proportion of rows with each indicator\n",
    "       SUM(email)/COUNT(*)::NUMERIC AS email_prop, \n",
    "       SUM(phone)/COUNT(*)::NUMERIC AS phone_prop\n",
    "  -- Tables to select from\n",
    "  FROM evanston311\n",
    "       LEFT JOIN  indicators\n",
    "       -- Joining condition\n",
    "       ON evanston311.id = indicators.id\n",
    " -- What are you grouping by?\n",
    " GROUP BY priority;\n",
    "```"
   ]
  }
 ],
 "metadata": {
  "kernelspec": {
   "display_name": "Python 3.8.11 ('env_py')",
   "language": "python",
   "name": "python3"
  },
  "language_info": {
   "name": "python",
   "version": "3.8.11"
  },
  "orig_nbformat": 4,
  "vscode": {
   "interpreter": {
    "hash": "1e949e87132dd83f1a7623eb88007e3532b03b66b77111be347aa4a383049722"
   }
  }
 },
 "nbformat": 4,
 "nbformat_minor": 2
}

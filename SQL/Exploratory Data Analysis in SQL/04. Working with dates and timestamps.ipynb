{
 "cells": [
  {
   "cell_type": "markdown",
   "metadata": {},
   "source": [
    "# ISO 8601"
   ]
  },
  {
   "cell_type": "markdown",
   "metadata": {},
   "source": [
    "Which date format below conforms to the ISO 8601 standard?"
   ]
  },
  {
   "cell_type": "markdown",
   "metadata": {},
   "source": [
    "- 2018-06-15 15:30:00"
   ]
  },
  {
   "cell_type": "markdown",
   "metadata": {},
   "source": [
    "# Date comparisons"
   ]
  },
  {
   "cell_type": "markdown",
   "metadata": {},
   "source": [
    "When working with timestamps, sometimes you want to find all observations on a given day. However, if you specify only a date in a comparison, you may get unexpected results. This query:\n",
    "```\n",
    "SELECT count(*) \n",
    "  FROM evanston311\n",
    " WHERE date_created = '2018-01-02';\n",
    "```\n",
    "returns 0, even though there were 49 requests on January 2, 2018.\n",
    "\n",
    "This is because dates are automatically converted to timestamps when compared to a timestamp. The time fields are all set to zero:\n",
    "\n",
    "`SELECT '2018-01-02'::timestamp;`\n",
    ">> 2018-01-02 00:00:00\n",
    "\n",
    "When working with both timestamps and dates, you'll need to keep this in mind."
   ]
  },
  {
   "cell_type": "markdown",
   "metadata": {},
   "source": [
    "```\n",
    "-- Count requests created on January 31, 2017\n",
    "SELECT count(*) \n",
    "  FROM evanston311\n",
    " WHERE date_created::date = '2017-01-31';\n",
    "```"
   ]
  },
  {
   "cell_type": "markdown",
   "metadata": {},
   "source": [
    "```\n",
    "-- Count requests created on February 29, 2016\n",
    "SELECT count(*)\n",
    "  FROM evanston311 \n",
    " WHERE date_created >= '2016-02-29' \n",
    "   AND date_created < '2016-02-29'::DATE + '1 day'::INTERVAL;\n",
    "```"
   ]
  },
  {
   "cell_type": "markdown",
   "metadata": {},
   "source": [
    "```\n",
    "-- Count requests created on March 13, 2017\n",
    "SELECT count(*)\n",
    "  FROM evanston311\n",
    " WHERE date_created >= '2017-03-13'\n",
    "   AND date_created < '2017-03-13'::date + 1;\n",
    "```"
   ]
  },
  {
   "cell_type": "markdown",
   "metadata": {},
   "source": [
    "# Date arithmetic"
   ]
  },
  {
   "cell_type": "markdown",
   "metadata": {},
   "source": [
    "You can subtract dates or timestamps from each other.\n",
    "\n",
    "You can add time to dates or timestamps using intervals. An interval is specified with a number of units and the name of a datetime field. For example:\n",
    "\n",
    "- `'3 days'::interval`\n",
    "- `'6 months'::interval`\n",
    "- `'1 month 2 years'::interval`\n",
    "- `'1 hour 30 minutes'::interval`\n",
    "\n",
    "Practice date arithmetic with the Evanston 311 data and `now()`."
   ]
  },
  {
   "cell_type": "markdown",
   "metadata": {},
   "source": [
    "```\n",
    "-- Subtract the min date_created from the max\n",
    "SELECT MAX(date_created)-MIN(date_created)\n",
    "  FROM evanston311;\n",
    "```"
   ]
  },
  {
   "cell_type": "markdown",
   "metadata": {},
   "source": [
    "```\n",
    "-- How old is the most recent request?\n",
    "SELECT NOW() - MAX(date_created)\n",
    "  FROM evanston311;\n",
    "```"
   ]
  },
  {
   "cell_type": "markdown",
   "metadata": {},
   "source": [
    "```\n",
    "-- Add 100 days to the current timestamp\n",
    "SELECT NOW() + '100 days'::INTERVAL;\n",
    "```"
   ]
  },
  {
   "cell_type": "markdown",
   "metadata": {},
   "source": [
    "```\n",
    "-- Select the current timestamp, \n",
    "-- and the current timestamp + 5 minutes\n",
    "SELECT NOW(), NOW()+ '5 minutes'::INTERVAL;\n",
    "```"
   ]
  },
  {
   "cell_type": "markdown",
   "metadata": {},
   "source": [
    "# Completion time by category"
   ]
  },
  {
   "cell_type": "markdown",
   "metadata": {},
   "source": [
    "The `evanston311` data includes a `date_created` timestamp from when each request was created and a `date_completed` timestamp for when it was completed. The difference between these tells us how long a request was open.\n",
    "\n",
    "Which `category` of Evanston 311 requests takes the longest to complete?"
   ]
  },
  {
   "cell_type": "markdown",
   "metadata": {},
   "source": [
    "```\n",
    "-- Select the category and the average completion time by category\n",
    "SELECT category, \n",
    "       AVG(date_completed - date_created) AS completion_time\n",
    "  FROM evanston311\n",
    " GROUP BY category\n",
    "-- Order the results\n",
    " ORDER BY completion_time DESC;\n",
    "```"
   ]
  },
  {
   "cell_type": "markdown",
   "metadata": {},
   "source": [
    "# Date parts"
   ]
  },
  {
   "cell_type": "markdown",
   "metadata": {},
   "source": [
    "The `date_part()` function is useful when you want to aggregate data by a unit of time across multiple larger units of time. For example, aggregating data by month across different years, or aggregating by hour across different days.\n",
    "\n",
    "Recall that you use `date_part()` as:\n",
    "\n",
    "`SELECT date_part('field', timestamp);`\n",
    "\n",
    "In this exercise, you'll use `date_part()` to gain insights about when Evanston 311 requests are submitted and completed."
   ]
  },
  {
   "cell_type": "markdown",
   "metadata": {},
   "source": [
    "```\n",
    "-- Extract the month from date_created and count requests\n",
    "SELECT DATE_PART( 'month', date_created) AS month, \n",
    "       COUNT(*)\n",
    "  FROM evanston311\n",
    " -- Limit the date range\n",
    " WHERE date_created >= '2016-01-01'\n",
    "   AND date_created < '2018-01-01'\n",
    " -- Group by what to get monthly counts?\n",
    " GROUP BY month;\n",
    "```"
   ]
  },
  {
   "cell_type": "markdown",
   "metadata": {},
   "source": [
    "```\n",
    "-- Get the hour and count requests\n",
    "SELECT DATE_PART('hour' , date_created) AS hour,\n",
    "       count(*)\n",
    "  FROM evanston311\n",
    " GROUP BY hour\n",
    " -- Order results to select most common\n",
    " ORDER BY count DESC\n",
    " LIMIT 1;\n",
    "```"
   ]
  },
  {
   "cell_type": "markdown",
   "metadata": {},
   "source": [
    "```\n",
    "-- Count requests completed by hour\n",
    "SELECT DATE_PART('hour' ,date_completed ) AS hour,\n",
    "       COUNT(*)\n",
    "  FROM evanston311\n",
    " GROUP BY hour\n",
    " ORDER BY hour DESC;\n",
    "```"
   ]
  },
  {
   "cell_type": "markdown",
   "metadata": {},
   "source": [
    "# Variation by day of week"
   ]
  },
  {
   "cell_type": "markdown",
   "metadata": {},
   "source": [
    "Does the time required to complete a request vary by the day of the week on which the request was created?\n",
    "\n",
    "We can get the name of the day of the week by converting a timestamp to character data:\n",
    "\n",
    "`to_char(date_created, 'day') `\n",
    "\n",
    "But character names for the days of the week sort in alphabetical, not chronological, order. To get the chronological order of days of the week with an integer value for each day, we can use:\n",
    "\n",
    "`EXTRACT(DOW FROM date_created)`\n",
    "\n",
    "DOW stands for \"day of week.\""
   ]
  },
  {
   "cell_type": "markdown",
   "metadata": {},
   "source": [
    "```\n",
    "-- Select name of the day of the week the request was created \n",
    "SELECT TO_CHAR( date_created,'day' ) AS day, \n",
    "       -- Select avg time between request creation and completion\n",
    "       AVG(date_completed - date_created) AS duration\n",
    "  FROM evanston311 \n",
    " -- Group by the name of the day of the week and \n",
    " -- integer value of day of week the request was created\n",
    " GROUP BY day, EXTRACT(DOW FROM date_created)::INTEGER\n",
    " -- Order by integer value of the day of the week \n",
    " -- the request was created\n",
    " ORDER BY EXTRACT(DOW FROM date_created)::INTEGER;\n",
    "```"
   ]
  },
  {
   "cell_type": "markdown",
   "metadata": {},
   "source": [
    "# Date truncation"
   ]
  },
  {
   "cell_type": "markdown",
   "metadata": {},
   "source": [
    "Unlike `date_part()` or `EXTRACT()`, `date_trunc()` keeps date/time units larger than the field you specify as part of the date. So instead of just extracting one component of a timestamp, `date_trunc()` returns the specified unit and all larger ones as well.\n",
    "\n",
    "Recall the syntax:\n",
    "\n",
    "`date_trunc('field', timestamp)`\n",
    "\n",
    "Using `date_trunc()`, find the average number of Evanston 311 requests created per day for each month of the data. Ignore days with no requests when taking the average."
   ]
  },
  {
   "cell_type": "markdown",
   "metadata": {},
   "source": [
    "```\n",
    "-- Aggregate daily counts by month\n",
    "SELECT DATE_TRUNC('month',day) AS month,\n",
    "       AVG(count)\n",
    "  -- Subquery to compute daily counts\n",
    "  FROM (SELECT DATE_TRUNC('day',date_created) AS day,\n",
    "               COUNT(*) AS count\n",
    "          FROM evanston311\n",
    "         GROUP BY day) AS daily_count\n",
    " GROUP BY month\n",
    " ORDER BY month;\n",
    "```"
   ]
  },
  {
   "cell_type": "markdown",
   "metadata": {},
   "source": [
    "# Find missing dates"
   ]
  },
  {
   "cell_type": "markdown",
   "metadata": {},
   "source": [
    "The `generate_series()` function can be useful for identifying missing dates.\n",
    "\n",
    "Recall:\n",
    "\n",
    "`generate_series(from, to, interval)`\n",
    "\n",
    "where `from` and `to` are dates or timestamps, and `interval` can be specified as a string with a number and a unit of time, such as `'1 month'`.\n",
    "\n",
    "Are there any days in the Evanston 311 data where no requests were created?"
   ]
  },
  {
   "cell_type": "markdown",
   "metadata": {},
   "source": [
    "```\n",
    "SELECT day\n",
    "-- 1) Subquery to generate all dates\n",
    "-- from min to max date_created\n",
    "  FROM (SELECT generate_series(MIN(date_created),\n",
    "                               MAX(date_created),\n",
    "                               '1 day')::date AS day\n",
    "          -- What table is date_created in?\n",
    "          FROM evanston311) AS all_dates\n",
    "-- 4) Select dates (day from above) that are NOT IN the subquery\n",
    " WHERE day NOT IN \n",
    "       -- 2) Subquery to select all date_created values as dates\n",
    "       (SELECT date_created::date\n",
    "          FROM evanston311);\n",
    "```"
   ]
  },
  {
   "cell_type": "markdown",
   "metadata": {},
   "source": [
    "# Custom aggregation periods"
   ]
  },
  {
   "cell_type": "markdown",
   "metadata": {},
   "source": [
    "Find the median number of Evanston 311 requests per day in each six month period from 2016-01-01 to 2018-06-30. Build the query following the three steps below.\n",
    "\n",
    "Recall that to aggregate data by non-standard date/time intervals, such as six months, you can use `generate_series()` to create bins with lower and upper bounds of time, and then summarize observations that fall in each bin.\n",
    "\n",
    "Remember: you can access the slides with an example of this type of query"
   ]
  },
  {
   "cell_type": "markdown",
   "metadata": {},
   "source": [
    "```\n",
    "-- Generate 6 month bins covering 2016-01-01 to 2018-06-30\n",
    "\n",
    "-- Create lower bounds of bins\n",
    "SELECT generate_series('2016-01-01',  -- First bin lower value\n",
    "                       '2018-01-01',  -- Last bin lower value\n",
    "                       '6 months'::interval) AS lower,\n",
    "-- Create upper bounds of bins\n",
    "       generate_series('2016-07-01',  -- First bin upper value\n",
    "                       '2018-07-01',  -- Last bin upper value\n",
    "                       '6 months'::interval) AS upper;\n",
    "```"
   ]
  },
  {
   "cell_type": "markdown",
   "metadata": {},
   "source": [
    "```\n",
    "-- Count number of requests made per day\n",
    "SELECT day, COUNT(id) AS count\n",
    "-- Use a daily series from 2016-01-01 to 2018-06-30 \n",
    "-- to include days with no requests\n",
    "  FROM (SELECT generate_series('2016-01-01',  -- series start date\n",
    "                               '2018-06-30',  -- series end date\n",
    "                               '1 day'::interval)::date AS day) AS daily_series\n",
    "       LEFT JOIN evanston311\n",
    "       -- match day from above (which is a date) to date_created\n",
    "       ON day = date_created::date\n",
    " GROUP BY day;\n",
    "```"
   ]
  },
  {
   "cell_type": "markdown",
   "metadata": {},
   "source": [
    "### Distribution"
   ]
  },
  {
   "cell_type": "markdown",
   "metadata": {},
   "source": [
    "```\n",
    "-- Bins from Step 1\n",
    "WITH bins AS (\n",
    "\t SELECT generate_series('2016-01-01',\n",
    "                            '2018-01-01',\n",
    "                            '6 months'::interval) AS lower,\n",
    "            generate_series('2016-07-01',\n",
    "                            '2018-07-01',\n",
    "                            '6 months'::interval) AS upper),\n",
    "-- Daily counts from Step 2\n",
    "     daily_counts AS (\n",
    "     SELECT day, count(date_created) AS count\n",
    "       FROM (SELECT generate_series('2016-01-01',\n",
    "                                    '2018-06-30',\n",
    "                                    '1 day'::interval)::date AS day) AS daily_series\n",
    "            LEFT JOIN evanston311\n",
    "            ON day = date_created::date\n",
    "      GROUP BY day)\n",
    "-- Select bin bounds \n",
    "SELECT lower, \n",
    "       upper, \n",
    "       -- Compute median of count for each bin\n",
    "       percentile_disc(0.5) WITHIN GROUP (ORDER BY count) AS median\n",
    "  -- Join bins and daily_counts\n",
    "  FROM bins\n",
    "       LEFT JOIN daily_counts\n",
    "       -- Where the day is between the bin bounds\n",
    "       ON day >= lower\n",
    "          AND day < upper\n",
    " -- Group by bin bounds\n",
    " GROUP BY lower, upper\n",
    " ORDER BY lower;\n",
    "```"
   ]
  },
  {
   "cell_type": "markdown",
   "metadata": {},
   "source": [
    "# Monthly average with missing dates"
   ]
  },
  {
   "cell_type": "markdown",
   "metadata": {},
   "source": [
    "Find the average number of Evanston 311 requests created per day for each month of the data.\n",
    "\n",
    "This time, do not ignore dates with no requests."
   ]
  },
  {
   "cell_type": "markdown",
   "metadata": {},
   "source": [
    "```\n",
    "-- generate series with all days from 2016-01-01 to 2018-06-30\n",
    "WITH all_days AS \n",
    "     (SELECT generate_series('2016-01-01',\n",
    "                             '2018-06-30',\n",
    "                             '1 day'::INTERVAL) AS date),\n",
    "     -- Subquery to compute daily counts\n",
    "     daily_count AS \n",
    "     (SELECT date_trunc('day', date_created) AS day,\n",
    "             count(*) AS count\n",
    "        FROM evanston311\n",
    "       GROUP BY day)\n",
    "-- Aggregate daily counts by month using date_trunc\n",
    "SELECT DATE_TRUNC('month',all_days.date ) AS month,\n",
    "       -- Use coalesce to replace NULL count values with 0\n",
    "       avg(coalesce(daily_count.count, 0)) AS average\n",
    "  FROM all_days\n",
    "       LEFT JOIN daily_count\n",
    "       -- Joining condition\n",
    "       ON all_days.date=daily_count.day\n",
    " GROUP BY month\n",
    " ORDER BY month; \n",
    "```"
   ]
  },
  {
   "cell_type": "markdown",
   "metadata": {},
   "source": [
    "# Longest gap"
   ]
  },
  {
   "cell_type": "markdown",
   "metadata": {},
   "source": [
    "What is the longest time between Evanston 311 requests being submitted?\n",
    "\n",
    "Recall the syntax for lead() and lag():\n",
    "```\n",
    "lag(column_to_adjust) OVER (ORDER BY ordering_column)\n",
    "lead(column_to_adjust) OVER (ORDER BY ordering_column)\n",
    "```"
   ]
  },
  {
   "cell_type": "markdown",
   "metadata": {},
   "source": [
    "```\n",
    "-- Compute the gaps\n",
    "WITH request_gaps AS (\n",
    "        SELECT date_created,\n",
    "               -- lead or lag\n",
    "               LAG(date_created) OVER (ORDER BY date_created) AS previous,\n",
    "               -- compute gap as date_created minus lead or lag\n",
    "               date_created - LAG(date_created) OVER (ORDER BY date_created) AS gap\n",
    "          FROM evanston311)\n",
    "-- Select the row with the maximum gap\n",
    "SELECT *\n",
    "  FROM request_gaps\n",
    "-- Subquery to select maximum gap from request_gaps\n",
    " WHERE gap = (SELECT MAX(gap)\n",
    "                FROM request_gaps);\n",
    "```"
   ]
  },
  {
   "cell_type": "markdown",
   "metadata": {},
   "source": [
    "# Rats!"
   ]
  },
  {
   "cell_type": "markdown",
   "metadata": {},
   "source": [
    "Requests in category \"Rodents- Rats\" average over 64 days to resolve. Why?\n",
    "\n",
    "Investigate in 4 steps:\n",
    "\n",
    "- Why is the average so high? Check the distribution of completion times. Hint: date_trunc() can be used on intervals.\n",
    "- See how excluding outliers influences average completion times.\n",
    "- Do requests made in busy months take longer to complete? Check the correlation between the average completion time and requests per month.\n",
    "- Compare the number of requests created per month to the number completed.\n",
    "\n",
    "Remember: the time to resolve, or completion time, is `date_completed - date_created`."
   ]
  },
  {
   "cell_type": "markdown",
   "metadata": {},
   "source": [
    "```\n",
    "-- Truncate the time to complete requests to the day\n",
    "SELECT DATE_TRUNC('day' ,date_completed - date_created ) AS completion_time,\n",
    "-- Count requests with each truncated time\n",
    "       COUNT(*)\n",
    "  FROM evanston311\n",
    "-- Where category is rats\n",
    " WHERE category = 'Rodents- Rats'\n",
    "-- Group and order by the variable of interest\n",
    " GROUP BY completion_time\n",
    " ORDER BY COUNT;\n",
    "```"
   ]
  },
  {
   "cell_type": "markdown",
   "metadata": {},
   "source": [
    "```\n",
    "SELECT category, \n",
    "       -- Compute average completion time per category\n",
    "       AVG(date_completed - date_created) AS avg_completion_time\n",
    "  FROM evanston311\n",
    "-- Where completion time is less than the 95th percentile value\n",
    " WHERE (date_completed - date_created) < \n",
    "-- Compute the 95th percentile of completion time in a subquery\n",
    "         (SELECT percentile_disc(0.95) WITHIN GROUP (ORDER BY date_completed - date_created)\n",
    "            FROM evanston311)\n",
    " GROUP BY category\n",
    "-- Order the results\n",
    " ORDER BY avg_completion_time DESC;\n",
    "```"
   ]
  },
  {
   "cell_type": "markdown",
   "metadata": {},
   "source": [
    "```\n",
    "-- Compute correlation (corr) between \n",
    "-- avg_completion time and count from the subquery\n",
    "SELECT CORR(avg_completion, count)\n",
    "  -- Convert date_created to its month with date_trunc\n",
    "  FROM (SELECT DATE_TRUNC('month', date_created) AS month, \n",
    "               -- Compute average completion time in number of seconds           \n",
    "               AVG(EXTRACT(epoch FROM date_completed - date_created)) AS avg_completion, \n",
    "               -- Count requests per month\n",
    "               count(*) AS count\n",
    "          FROM evanston311\n",
    "         -- Limit to rodents\n",
    "         WHERE category='Rodents- Rats' \n",
    "         -- Group by month, created above\n",
    "         GROUP BY month) \n",
    "         -- Required alias for subquery \n",
    "         AS monthly_avgs;\n",
    "```"
   ]
  },
  {
   "cell_type": "markdown",
   "metadata": {},
   "source": [
    "```\n",
    "-- Compute monthly counts of requests created\n",
    "WITH created AS (\n",
    "       SELECT DATE_TRUNC('month' ,date_created) AS month,\n",
    "              count(*) AS created_count\n",
    "         FROM evanston311\n",
    "        WHERE category='Rodents- Rats'\n",
    "        GROUP BY month),\n",
    "-- Compute monthly counts of requests completed\n",
    "      completed AS (\n",
    "       SELECT DATE_TRUNC('month' ,date_completed ) AS month,\n",
    "              count(*) AS completed_count\n",
    "         FROM evanston311\n",
    "        WHERE category='Rodents- Rats'\n",
    "        GROUP BY month)\n",
    "-- Join monthly created and completed counts\n",
    "SELECT created.month, \n",
    "       created_count, \n",
    "       completed_count\n",
    "  FROM created\n",
    "       INNER JOIN completed\n",
    "       ON created.month=completed.month\n",
    " ORDER BY created.month;\n",
    "```"
   ]
  }
 ],
 "metadata": {
  "kernelspec": {
   "display_name": "Python 3.8.11 ('env_py')",
   "language": "python",
   "name": "python3"
  },
  "language_info": {
   "name": "python",
   "version": "3.8.11"
  },
  "orig_nbformat": 4,
  "vscode": {
   "interpreter": {
    "hash": "1e949e87132dd83f1a7623eb88007e3532b03b66b77111be347aa4a383049722"
   }
  }
 },
 "nbformat": 4,
 "nbformat_minor": 2
}
